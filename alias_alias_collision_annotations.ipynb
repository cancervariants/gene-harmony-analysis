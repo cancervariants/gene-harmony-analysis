{
 "cells": [
  {
   "cell_type": "code",
   "execution_count": 29,
   "metadata": {},
   "outputs": [],
   "source": [
    "import yaml\n",
    "import json\n",
    "from typing import Any, List, Dict\n",
    "import pandas as pd"
   ]
  },
  {
   "cell_type": "code",
   "execution_count": 30,
   "metadata": {},
   "outputs": [
    {
     "name": "stdout",
     "output_type": "stream",
     "text": [
      "The yamlmagic extension is already loaded. To reload it, use:\n",
      "  %reload_ext yamlmagic\n"
     ]
    }
   ],
   "source": [
    "%load_ext yamlmagic"
   ]
  },
  {
   "cell_type": "markdown",
   "metadata": {},
   "source": [
    "### Sample Record"
   ]
  },
  {
   "cell_type": "code",
   "execution_count": 31,
   "metadata": {},
   "outputs": [
    {
     "name": "stdout",
     "output_type": "stream",
     "text": [
      "Overwriting alias-alias_collision_records/sample_collision_record.yaml\n"
     ]
    }
   ],
   "source": [
    "%%writefile alias-alias_collision_records/sample_collision_record.yaml\n",
    "\n",
    "collision_symbol: ''\n",
    "collision_class: \"Convergent Acronym\", \"Gene Family\", \"Protein Domain\", \"Expired Gene Symbol\", \"Protein Product\", \"Protein Product Weight\"\n",
    "collision_type: \"alias-alias\", \"alias-primary\"\n",
    "collision_group:\n",
    "  - gene_symbol: ''\n",
    "    ensg_id: 'ENSG'\n",
    "    collision_acronym_expansion: ''\n",
    "    collision_gene_relationship: If primary gene symbol \"Primary gene symbol\" If alias \"Disease\", \"Gene Family\", \"Protien Domain\", \"Expired Gene Symbol\", \"Protein Product\", \"Phenotype\"\n",
    "    collision_source:\n",
    "      - PMID: ''\n",
    "      - PMID: ''\n"
   ]
  },
  {
   "cell_type": "markdown",
   "metadata": {},
   "source": [
    "### ASP"
   ]
  },
  {
   "cell_type": "code",
   "execution_count": 32,
   "metadata": {},
   "outputs": [
    {
     "name": "stdout",
     "output_type": "stream",
     "text": [
      "Overwriting alias-alias_collision_records/ASP_collision_record.yaml\n"
     ]
    }
   ],
   "source": [
    "%%writefile alias-alias_collision_records/ASP_collision_record.yaml\n",
    "\n",
    "collision_symbol: 'ASP'\n",
    "collision_class: 'Convergent Acronym'\n",
    "collision_type: 'alias-alias'\n",
    "collision_group:\n",
    "  - gene_symbol: 'ASIP'\n",
    "    ensg_id: 'ENSG00000101440'\n",
    "    collision_acronym_expansion: 'Agouti Signaling Protein'\n",
    "    collision_gene_relationship: 'Protein Product'\n",
    "    collision_source:\n",
    "      - PMID: '11833005'\n",
    "      - PMID: '7757071'\n",
    "  - gene_symbol: 'ASPA'\n",
    "    ensg_id: 'ENSG00000108381'\n",
    "    collision_acronym_expansion: 'ASPartoacylase'\n",
    "    collision_gene_relationship: 'Function'\n",
    "    collision_source:\n",
    "      - PMID: '9407392'\n",
    "      - PMID: '10493853'\n",
    "  - gene_symbol: 'ASPM'\n",
    "    ensg_id: 'ENSG00000066279'\n",
    "    collision_acronym_expansion: 'Drosophila Abnormal SPindle'\n",
    "    collision_gene_relationship: 'Ortholog'\n",
    "    collision_source:\n",
    "      - PMID: '36980263'\n",
    "      - PMID: '11283617'\n",
    "  - gene_symbol: 'ATG5'\n",
    "    ensg_id: 'ENSG00000057663'\n",
    "    collision_acronym_expansion: 'Apoptosis-Specific Protein'\n",
    "    collision_gene_relationship: 'Protein Product'\n",
    "    collision_source:\n",
    "      - PMID: '9563500'\n",
    "      - PMID: '7796880'\n",
    "  - gene_symbol: 'A1CF'\n",
    "    ensg_id: 'ENSG00000148584'\n",
    "    collision_acronym_expansion: 'APOBEC-1 Stimulating Protein'\n",
    "    collision_gene_relationship: 'Protein Product'\n",
    "    collision_source:\n",
    "      - PMID: '10781591'\n",
    "      - PMID: '15451168'\n",
    "  - gene_symbol: 'C3'\n",
    "    ensg_id: 'ENSG00000125730'\n",
    "    collision_acronym_expansion: 'Acylation-Stimulating Protein'\n",
    "    collision_gene_relationship: 'Protein Product'\n",
    "    collision_source:\n",
    "      - PMID: '18805911'\n",
    "      - PMID: '15833747'\n",
    "  - gene_symbol: 'ROPN1L'\n",
    "    ensg_id: 'ENSG00000145491'\n",
    "    collision_acronym_expansion: 'AKAP-associated Sperm Protein'\n",
    "    collision_gene_relationship: 'Protein Product'\n",
    "    collision_source:\n",
    "      - PMID: '18421703'\n",
    "      - PMID: '25600306'\n",
    "  - gene_symbol: 'TMPRSS11D'\n",
    "    ensg_id: 'ENSG00000153802'\n",
    "    collision_acronym_expansion: 'Adrenal secretory Serine Protease'\n",
    "    collision_gene_relationship: 'Function'\n",
    "    collision_source:\n",
    "      - PMID: '15762198'\n",
    "      - PMID: '11741986'"
   ]
  },
  {
   "cell_type": "code",
   "execution_count": 33,
   "metadata": {},
   "outputs": [
    {
     "name": "stdout",
     "output_type": "stream",
     "text": [
      "{'collision_symbol': 'ASP', 'collision_class': 'Convergent Acronym', 'collision_type': 'alias-alias', 'collision_group': [{'gene_symbol': 'ASIP', 'ensg_id': 'ENSG00000101440', 'collision_acronym_expansion': 'Agouti Signaling Protein', 'collision_gene_relationship': 'Protein Product', 'collision_source': [{'PMID': '11833005'}, {'PMID': '7757071'}]}, {'gene_symbol': 'ASPA', 'ensg_id': 'ENSG00000108381', 'collision_acronym_expansion': 'ASPartoacylase', 'collision_gene_relationship': 'Function', 'collision_source': [{'PMID': '9407392'}, {'PMID': '10493853'}]}, {'gene_symbol': 'ASPM', 'ensg_id': 'ENSG00000066279', 'collision_acronym_expansion': 'Drosophila Abnormal SPindle', 'collision_gene_relationship': 'Ortholog', 'collision_source': [{'PMID': '36980263'}, {'PMID': '11283617'}]}, {'gene_symbol': 'ATG5', 'ensg_id': 'ENSG00000057663', 'collision_acronym_expansion': 'Apoptosis-Specific Protein', 'collision_gene_relationship': 'Protein Product', 'collision_source': [{'PMID': '9563500'}, {'PMID': '7796880'}]}, {'gene_symbol': 'A1CF', 'ensg_id': 'ENSG00000148584', 'collision_acronym_expansion': 'APOBEC-1 Stimulating Protein', 'collision_gene_relationship': 'Protein Product', 'collision_source': [{'PMID': '10781591'}, {'PMID': '15451168'}]}, {'gene_symbol': 'C3', 'ensg_id': 'ENSG00000125730', 'collision_acronym_expansion': 'Acylation-Stimulating Protein', 'collision_gene_relationship': 'Protein Product', 'collision_source': [{'PMID': '18805911'}, {'PMID': '15833747'}]}, {'gene_symbol': 'ROPN1L', 'ensg_id': 'ENSG00000145491', 'collision_acronym_expansion': 'AKAP-associated Sperm Protein', 'collision_gene_relationship': 'Protein Product', 'collision_source': [{'PMID': '18421703'}, {'PMID': '25600306'}]}, {'gene_symbol': 'TMPRSS11D', 'ensg_id': 'ENSG00000153802', 'collision_acronym_expansion': 'Adrenal secretory Serine Protease', 'collision_gene_relationship': 'Function', 'collision_source': [{'PMID': '15762198'}, {'PMID': '11741986'}]}]}\n"
     ]
    }
   ],
   "source": [
    "ASP_collision_record = yaml.safe_load(open('alias-alias_collision_records/ASP_collision_record.yaml'))\n",
    "print(ASP_collision_record)"
   ]
  },
  {
   "cell_type": "markdown",
   "metadata": {},
   "source": [
    "### PAP"
   ]
  },
  {
   "cell_type": "code",
   "execution_count": 34,
   "metadata": {},
   "outputs": [
    {
     "name": "stdout",
     "output_type": "stream",
     "text": [
      "Overwriting alias-alias_collision_records/PAP_collision_record.yaml\n"
     ]
    }
   ],
   "source": [
    "%%writefile alias-alias_collision_records/PAP_collision_record.yaml\n",
    "\n",
    "collision_symbol: 'PAP'\n",
    "collision_class: 'Convergent Acronym'\n",
    "collision_type: 'alias-alias'\n",
    "collision_group:\n",
    "  - gene_symbol: 'ACP3'\n",
    "    ensg_id: 'ENSG00000014257'\n",
    "    collision_acronym_expansion: 'Prostatic Acid Phosphotase'\n",
    "    collision_gene_relationship: 'Function'\n",
    "    collision_source:\n",
    "      - PMID: '1375464'\n",
    "      - PMID: '2842184'\n",
    "  - gene_symbol: 'ASAP1'\n",
    "    ensg_id: 'ENSG00000153317'\n",
    "    collision_acronym_expansion: 'Putative Alternative Promoters'\n",
    "    collision_gene_relationship: 'Function'\n",
    "    collision_source:\n",
    "      - PMID: '16344560'\n",
    "  - gene_symbol: 'ASAP2'\n",
    "    ensg_id: 'ENSG00000151693'\n",
    "    collision_acronym_expansion: 'Paxillin-Associated Protein'\n",
    "    collision_gene_relationship: 'Protein Product'\n",
    "    collision_source:\n",
    "      - PMID: '10749932'\n",
    "  - gene_symbol: 'MRPS30'\n",
    "    ensg_id: 'ENSG00000112996'\n",
    "    collision_acronym_expansion: 'Prostatic Acid Phosphatase'\n",
    "    collision_gene_relationship: 'Function'\n",
    "    collision_source:\n",
    "      - PMID: '20084276'\n",
    "  - gene_symbol: 'PAPOLA'\n",
    "    ensg_id: 'ENSG00000090060'\n",
    "    collision_acronym_expansion: 'Poly(A) Polymerase'\n",
    "    collision_gene_relationship: 'Function'\n",
    "    collision_source:\n",
    "      - PMID: '19224921'\n",
    "      - PMID: '8302877'\n",
    "  - gene_symbol: 'PDAP1'\n",
    "    ensg_id: 'ENSG00000106244'\n",
    "    collision_acronym_expansion: 'PDGF Associated Protein'\n",
    "    collision_gene_relationship: 'Protein Product'\n",
    "    collision_source:\n",
    "      - PMID: '8780057'\n",
    "      - PMID: '9570154'\n",
    "        note: 'This publication uses PAP as Phosphatidic Acid Phosphatase. Which is it? Is it both?'\n",
    "  - gene_symbol: 'REG3A'\n",
    "    ensg_id: 'ENSG00000172016'\n",
    "    collision_acronym_expansion: 'Pancreatitis-Associated Protein'\n",
    "    collision_gene_relationship: 'Protein Product'\n",
    "    collision_source:\n",
    "      - PMID: '8188210'\n",
    "      - PMID: '8076648'\n",
    "  - gene_symbol: 'TUSC2'\n",
    "    ensg_id: 'ENSG00000114383'\n",
    "    collision_acronym_expansion: 'PDGFA-Associated Protein'\n",
    "    collision_gene_relationship: 'Protein Product'\n",
    "    collision_source:\n",
    "      - PMID: '8780057'\n",
    "\n"
   ]
  },
  {
   "cell_type": "markdown",
   "metadata": {},
   "source": [
    "### U4"
   ]
  },
  {
   "cell_type": "code",
   "execution_count": 35,
   "metadata": {},
   "outputs": [
    {
     "name": "stdout",
     "output_type": "stream",
     "text": [
      "Overwriting alias-alias_collision_records/U4_collision_record.yaml\n"
     ]
    }
   ],
   "source": [
    "%%writefile alias-alias_collision_records/U4_collision_record.yaml\n",
    "\n",
    "collision_symbol: 'U4'\n",
    "collision_class: 'Gene Family'\n",
    "collision_type: 'alias-alias'\n",
    "collision_group:\n",
    "  - gene_symbol: 'RNU4-1'\n",
    "    ensg_id: 'ENSG00000200795'\n",
    "    collision_acronym_expansion: 'U-RNA 4'\n",
    "    collision_gene_relationship: 'Gene Family'\n",
    "      - PMID: '3582982'\n",
    "      - PMID: '26275778'\n",
    "  - gene_symbol: 'RNU4-3P'\n",
    "    ensg_id: 'NaN'\n",
    "    collision_acronym_expansion: 'U-RNA 4'\n",
    "    collision_gene_relationship: 'Gene Family'\n",
    "    collision_source:\n",
    "      - PMID: '2582241'\n",
    "  - gene_symbol: 'RNU4-4P'\n",
    "    ensg_id: 'ENSG00000201458'\n",
    "    collision_acronym_expansion: 'U-RNA 4'\n",
    "    collision_gene_relationship: 'Gene Family'\n",
    "    collision_source:\n",
    "      - PMID: '2582241'\n",
    "  - gene_symbol: 'RNU4-5P'\n",
    "    ensg_id: 'ENSG00000272160'\n",
    "    collision_acronym_expansion: 'U-RNA 4'\n",
    "    collision_gene_relationship: 'Gene Family'\n",
    "    collision_source:\n",
    "      - PMID: '2582241'\n",
    "  - gene_symbol: 'RNU4-6P'\n",
    "    ensg_id: 'ENSG00000222736'\n",
    "    collision_acronym_expansion: 'U-RNA 4'\n",
    "    collision_gene_relationship: 'Gene Family'\n",
    "    collision_source:\n",
    "      - PMID: '2582241'\n",
    "  - gene_symbol: 'RNU4-7P'\n",
    "    ensg_id: 'ENSG00000201628'\n",
    "    collision_acronym_expansion: 'U-RNA 4'\n",
    "    collision_gene_relationship: 'Gene Family'\n",
    "    collision_source:\n",
    "      - PMID: '2583518'\n",
    "  - gene_symbol: 'RNU4-8P'\n",
    "    ensg_id: 'ENSG00000201806'\n",
    "    collision_acronym_expansion: 'U-RNA 4'\n",
    "    collision_gene_relationship: 'Gene Family'\n",
    "    collision_source:\n",
    "      - PMID: '2583518'"
   ]
  },
  {
   "cell_type": "markdown",
   "metadata": {},
   "source": [
    "### CAP"
   ]
  },
  {
   "cell_type": "code",
   "execution_count": 36,
   "metadata": {},
   "outputs": [
    {
     "name": "stdout",
     "output_type": "stream",
     "text": [
      "Overwriting alias-alias_collision_records/CAP_collision_record.yaml\n"
     ]
    }
   ],
   "source": [
    "%%writefile alias-alias_collision_records/CAP_collision_record.yaml\n",
    "\n",
    "collision_symbol: 'CAP'\n",
    "collision_class: 'Convergent Acronym'\n",
    "collision_type: 'alias-alias'\n",
    "collision_group:\n",
    "  - gene_symbol: 'BRD4'\n",
    "    ensg_id: 'ENSG00000141867'\n",
    "    collision_acronym_expansion: 'Chromosome Associated Protein'\n",
    "    collision_gene_relationship: 'Protein Product'\n",
    "    collision_source:\n",
    "      - PMID: '8849894'\n",
    "  - gene_symbol: 'CAP1'\n",
    "    ensg_id: 'ENSG00000131236'\n",
    "    collision_acronym_expansion: 'Cyclase Associated Protein'\n",
    "    collision_gene_relationship: 'Protein Product'\n",
    "    collision_source:\n",
    "      - PMID: '15311924'\n",
    "      - PMID: '8761950'\n",
    "  - gene_symbol: 'CTAA1'\n",
    "    ensg_id: 'NAN'\n",
    "    collision_acronym_expansion: 'Cataract, Anterior Polar'\n",
    "    collision_gene_relationship: 'Disease'\n",
    "    collision_source:\n",
    "      - PMID: '1049206'\n",
    "  - gene_symbol: 'HACD1'\n",
    "    ensg_id: 'ENSG00000165996'\n",
    "    collision_acronym_expansion: 'Cementum Attachment Protein'\n",
    "    collision_gene_relationship: 'Protein Product'\n",
    "    collision_source:\n",
    "      - PMID: '25263524'\n",
    "      - PMID: '22067203'\n",
    "  - gene_symbol: 'LNPEP'\n",
    "    ensg_id: 'ENSG00000113441'\n",
    "    collision_acronym_expansion: 'Cystinyl AminoPeptidase'\n",
    "    collision_gene_relationship: 'Function'\n",
    "    collision_source:\n",
    "      - PMID: '17692401'\n",
    "      - PMID: '16113565'\n",
    "  - gene_symbol: 'SERPINB6'\n",
    "    ensg_id: 'ENSG00000124570'\n",
    "    collision_acronym_expansion: 'Cytoplasmic Antiproteinase'\n",
    "    collision_gene_relationship: 'Function'\n",
    "    collision_source:\n",
    "      - PMID: '8636153'\n",
    "      - PMID: '8662739'\n",
    "  - gene_symbol: 'SORBS1'\n",
    "    ensg_id: 'ENSG00000095637'\n",
    "    collision_acronym_expansion: 'C-Cbl Associated Protein'\n",
    "    collision_gene_relationship: 'Protein Product'\n",
    "    collision_source:\n",
    "      - PMID: '11532984'\n",
    "      - PMID: '12849814'"
   ]
  },
  {
   "cell_type": "markdown",
   "metadata": {},
   "source": [
    "### MYM"
   ]
  },
  {
   "cell_type": "code",
   "execution_count": 37,
   "metadata": {},
   "outputs": [
    {
     "name": "stdout",
     "output_type": "stream",
     "text": [
      "Overwriting alias-alias_collision_records/MYM_collision_record.yaml\n"
     ]
    }
   ],
   "source": [
    "%%writefile alias-alias_collision_records/MYM_collision_record.yaml\n",
    "\n",
    "collision_symbol: 'MYM'\n",
    "collision_class: 'Protein Domain'\n",
    "collision_type: 'alias-alias'\n",
    "collision_group:\n",
    "  - gene_symbol: 'ZMYM1'\n",
    "    ensg_id: 'ENSG00000197056'\n",
    "    collision_acronym_expansion: 'MYeloproliferative syndrome and Mental retardation'\n",
    "    collision_gene_relationship: 'Disease'\n",
    "    collision_source:\n",
    "      - PMID: '4136804'\n",
    "  - gene_symbol: 'ZMYM2'\n",
    "    ensg_id: 'ENSG00000121741'\n",
    "    collision_acronym_expansion: 'MYeloproliferative syndrome and Mental retardation'\n",
    "    collision_gene_relationship: 'Disease'\n",
    "    collision_source:\n",
    "      - PMID: '4136804'\n",
    "  - gene_symbol: 'ZMYM3'\n",
    "    ensg_id: 'ENSG00000147130'\n",
    "    collision_acronym_expansion: 'MYeloproliferative syndrome and Mental retardation'\n",
    "    collision_gene_relationship: 'Disease'\n",
    "    collision_source:\n",
    "      - PMID: '4136804'\n",
    "  - gene_symbol: 'ZMYM4'\n",
    "    ensg_id: 'ENSG00000146463'\n",
    "    collision_acronym_expansion: 'MYeloproliferative syndrome and Mental retardation'\n",
    "    collision_gene_relationship: 'Disease'\n",
    "    collision_source:\n",
    "      - PMID: '4136804'\n",
    "  - gene_symbol: 'ZMYM5'\n",
    "    ensg_id: 'ENSG00000132950'\n",
    "    collision_acronym_expansion: 'MYeloproliferative syndrome and Mental retardation'\n",
    "    collision_gene_relationship: 'Disease'\n",
    "    collision_source:\n",
    "      - PMID: '4136804'\n",
    "  - gene_symbol: 'ZMYM6'\n",
    "    ensg_id: 'ENSG00000163867'\n",
    "    collision_acronym_expansion: 'MYeloproliferative syndrome and Mental retardation'\n",
    "    collision_gene_relationship: 'Disease'\n",
    "    collision_source:\n",
    "      - PMID: '4136804'"
   ]
  },
  {
   "cell_type": "markdown",
   "metadata": {},
   "source": [
    "### F379"
   ]
  },
  {
   "cell_type": "code",
   "execution_count": 38,
   "metadata": {},
   "outputs": [
    {
     "name": "stdout",
     "output_type": "stream",
     "text": [
      "Overwriting alias-alias_collision_records/F379_collision_record.yaml\n"
     ]
    }
   ],
   "source": [
    "%%writefile alias-alias_collision_records/F379_collision_record.yaml\n",
    "\n",
    "collision_symbol: 'F379'\n",
    "collision_class: 'Gene Family'\n",
    "collision_type: 'alias-alias'\n",
    "collision_group:\n",
    "  - gene_symbol: 'FAM138A'\n",
    "    ensg_id: 'ENSG00000237613'\n",
    "    collision_acronym_expansion: ''\n",
    "    collision_gene_relationship: 'Expired Gene Symbol'\n",
    "      - PMID: '11779631'\n",
    "  - gene_symbol: 'FAM138B'\n",
    "    ensg_id: 'ENSG00000226516'\n",
    "    collision_acronym_expansion: ''\n",
    "    collision_gene_relationship: 'Expired Gene Symbol'\n",
    "      - PMID: '11779631'\n",
    "      - PMID: '12421752'\n",
    "  - gene_symbol: 'FAM138C'\n",
    "    ensg_id: 'ENSG00000218839'\n",
    "    collision_acronym_expansion: ''\n",
    "    collision_gene_relationship: 'Expired Gene Symbol'\n",
    "      - PMID: '11779631'\n",
    "  - gene_symbol: 'FAM138D'\n",
    "    ensg_id: 'ENSG00000249054'\n",
    "    collision_acronym_expansion: ''\n",
    "    collision_gene_relationship: 'Expired Gene Symbol'\n",
    "      - PMID: '11779631'\n",
    "  - gene_symbol: 'FAM138E'\n",
    "    ensg_id: 'ENSG00000248893'\n",
    "    collision_acronym_expansion: ''\n",
    "    collision_gene_relationship: 'Expired Gene Symbol'\n",
    "      - PMID: '11779631'\n",
    "      - PMID: '35387070'\n",
    "  - gene_symbol: 'FAM138F'\n",
    "    ensg_id: 'ENSG00000282591'\n",
    "    collision_acronym_expansion: ''\n",
    "    collision_gene_relationship: 'Expired Gene Symbol'\n",
    "      - PMID: '11779631'"
   ]
  },
  {
   "cell_type": "markdown",
   "metadata": {},
   "source": [
    "ALP1"
   ]
  },
  {
   "cell_type": "code",
   "execution_count": 39,
   "metadata": {},
   "outputs": [
    {
     "name": "stdout",
     "output_type": "stream",
     "text": [
      "Overwriting alias-alias_collision_records/ALP1_collision_record.yaml\n"
     ]
    }
   ],
   "source": [
    "%%writefile alias-alias_collision_records/ALP1_collision_record.yaml\n",
    "\n",
    "collision_symbol: 'ALP1'\n",
    "collision_class: 'Convergent Acronym'\n",
    "collision_type: 'alias-alias'\n",
    "collision_group:\n",
    "  - gene_symbol: 'ASRGL1'\n",
    "    ensg_id: 'ENSG00000162174'\n",
    "    - collision_acronym_expansion: 'ALkaline Phosphatase'\n",
    "      collision_gene_relationship: 'Function'\n",
    "        - PMID: '7602772'\n",
    "        - PMID: '8102225'\n",
    "    - collision_acronym_expansion: 'Asparaginase-Like Protein'\n",
    "      collision_gene_ralationship: 'Protein Product'\n",
    "        - PMID: '11984834'\n",
    "  - gene_symbol: 'ASZ1'\n",
    "    ensg_id: 'ENSG00000154438'\n",
    "    collision_acronym_expansion: 'Ankyrin-Like Protein 1'\n",
    "    collision_gene_relationship: 'Protein Product'\n",
    "      - PMID: ''"
   ]
  },
  {
   "cell_type": "code",
   "execution_count": 40,
   "metadata": {},
   "outputs": [
    {
     "name": "stdout",
     "output_type": "stream",
     "text": [
      "Overwriting alias-alias_collision_records/P40_collision_record.yaml\n"
     ]
    }
   ],
   "source": [
    "%%writefile alias-alias_collision_records/P40_collision_record.yaml\n",
    "\n",
    "collision_symbol: 'P40'\n",
    "collision_class: 'Protein Product Weight'\n",
    "collision_type: 'alias-alias'\n",
    "collision_group:\n",
    "  - gene_symbol: 'ARHGEF2'\n",
    "    ensg_id: 'ENSG00000116584'\n",
    "    collision_acronym_expansion: 'Protein of 40 kDa'\n",
    "    collision_gene_relationship: 'Protien Product'\n",
    "      - PMID: '2466560'\n",
    "  - gene_symbol: 'EBNA1BP2'\n",
    "    ensg_id: 'ENSG00000117395'\n",
    "    collision_acronym_expansion: 'Protein of 40 kDa'\n",
    "    collision_gene_relationship: 'Protien Product'\n",
    "      - PMID: '2879624'\n",
    "      - PMID: '12549186'\n",
    "  - gene_symbol: 'IL9'\n",
    "    ensg_id: 'ENSG00000145839'\n",
    "    collision_acronym_expansion: 'Protein of 40 kDa'\n",
    "    collision_gene_relationship: 'Protien Product'\n",
    "      - PMID: '1971295'\n",
    "      - PMID: '2129501'\n",
    "  - gene_symbol: 'PSMD7'\n",
    "    ensg_id: 'ENSG00000103035'\n",
    "    collision_acronym_expansion: 'Protein of 40 kDa'\n",
    "    collision_gene_relationship: 'Protien Product'\n",
    "      - PMID: '7755639'"
   ]
  },
  {
   "cell_type": "markdown",
   "metadata": {},
   "source": [
    "ALP"
   ]
  },
  {
   "cell_type": "code",
   "execution_count": 41,
   "metadata": {},
   "outputs": [
    {
     "name": "stdout",
     "output_type": "stream",
     "text": [
      "Overwriting alias-alias_collision_records/ALP_collision_record.yaml\n"
     ]
    }
   ],
   "source": [
    "%%writefile alias-alias_collision_records/ALP_collision_record.yaml\n",
    "\n",
    "collision_symbol: 'ALP'\n",
    "collision_class: 'Convergent Acronym'\n",
    "collision_type: 'alias-alias'\n",
    "collision_group:\n",
    "  - gene_symbol: 'ALPP'\n",
    "    ensg_id: 'ENSG00000163283'\n",
    "    collision_acronym_expansion: 'ALkaline Phosphatase'\n",
    "    collision_gene_relationship: 'Function'\n",
    "      - PMID: '3042787'\n",
    "      - PMID: '37952310'\n",
    " - gene_symbol: 'ASRGL1'\n",
    "    ensg_id: 'ENSG00000162174'\n",
    "    - collision_acronym_expansion: 'ALkaline Phosphatase'\n",
    "      collision_gene_relationship: 'Function'\n",
    "        - PMID: '7602772'\n",
    "        - PMID: '8102225'\n",
    "    - collision_acronym_expansion: 'Asparaginase-Like Protein'\n",
    "      collision_gene_ralationship: 'Protein Product'\n",
    "        - PMID: '11984834'\n",
    "  - gene_symbol: 'ATHS'\n",
    "    ensg_id: 'NAN'\n",
    "    collision_acronym_expansion: 'Atherogenic Lipoprotein Phenotype'\n",
    "    collision_gene_relationship: 'Phenotype'\n",
    "      - PMID: '1731344'\n",
    "      - PMID: '19498345'\n",
    "  - gene_symbol: 'ATRNL1'\n",
    "    ensg_id: 'ENSG00000107518\t'\n",
    "    collision_acronym_expansion: 'Attractin-Like Protein'\n",
    "    collision_gene_relationship: 'Protein Product'\n",
    "      - PMID: '14531729'\n",
    "      - PMID: '14656215'\n",
    "  - gene_symbol: 'CCL27'\n",
    "    ensg_id: 'ENSG00000213927\t'\n",
    "    collision_acronym_expansion: 'ALkaline Phosphatase'\n",
    "    collision_gene_relationship: 'Function'\n",
    "      - PMID: '20150512'\n",
    "      - PMID: '20362069'\n",
    "  - gene_symbol: 'NAT10'\n",
    "    ensg_id: 'ENSG00000135372\t'\n",
    "    collision_acronym_expansion: 'Acetyltransferase-Like Protein'\n",
    "    collision_gene_relationship: 'Protein Product'\n",
    "      - PMID: '14592445'\n",
    "      - PMID: '17631499'\n",
    "  - gene_symbol: 'PDLIM3'\n",
    "    ensg_id: 'ENSG00000154553\t'\n",
    "    collision_acronym_expansion: 'Actinin-associated LIM Protein'\n",
    "    collision_gene_relationship: 'Protein Product'\n",
    "      - PMID: '10063829'\n",
    "      - PMID: '9334352'\n",
    "  - gene_symbol: 'SLPI'\n",
    "    ensg_id: 'ENSG00000124107\t'\n",
    "    collision_acronym_expansion: 'AntiLeukoProteinase'\n",
    "    collision_gene_relationship: 'Function'\n",
    "      - PMID: '18976018'\n",
    "      - PMID: '15248236'\n"
   ]
  },
  {
   "cell_type": "markdown",
   "metadata": {},
   "source": [
    "NAP1"
   ]
  },
  {
   "cell_type": "code",
   "execution_count": 42,
   "metadata": {},
   "outputs": [
    {
     "name": "stdout",
     "output_type": "stream",
     "text": [
      "Overwriting alias-alias_collision_records/NAP1_collision_record.yaml\n"
     ]
    }
   ],
   "source": [
    "%%writefile alias-alias_collision_records/NAP1_collision_record.yaml\n",
    "\n",
    "collision_symbol: 'NAP1'\n",
    "collision_class: 'Convergent Acronym'\n",
    "collision_type: 'alias-alias'\n",
    "collision_group:\n",
    "  - gene_symbol: 'ACOT8'\n",
    "    ensg_id: 'ENSG00000101473'\n",
    "    collision_acronym_expansion: 'Nef (Lentivirus Myristoylated Factor) Associated Protein 1'\n",
    "    collision_gene_relationship: 'Protein Product'\n",
    "  - gene_symbol: 'AZI2'\n",
    "    ensg_id: 'ENSG00000163512'\n",
    "    collision_acronym_expansion: 'NF-Kappa-B-Activating Kinase-Associated Protein 1'\n",
    "    collision_gene_relationship: 'Protein Product'\n",
    "      - PMID: '15611223'\n",
    "      - PMID: '14560022'\n",
    "  - gene_symbol: 'CXCL8'\n",
    "    ensg_id: 'ENSG00000169429'\n",
    "    - collision_acronym_expansion: 'Neutrophil-Activating Peptide 1'\n",
    "      collision_gene_relationship: 'Function'\n",
    "        - PMID: '17196571'\n",
    "    - collision_acronym_expansion: 'NF-κB-Activating kinase-associated Protein 1'\n",
    "      collision_gene_relationship: 'Protein Product'\n",
    "        - PMID: '29290284'\n",
    "    - collision_acronym_expansion: 'Nucleosome Assembly Protein 1'\n",
    "      collision_gene_relationship: 'Protein Product'\n",
    "        - PMID: '19339032'\n",
    "    - collision_acronym_expansion: 'Nck-Associated Protein 1'\n",
    "      collision_gene_relationship: 'Protein Product'\n",
    "        - PMID: '18644894'\n",
    "  - gene_symbol: 'NAA25'\n",
    "    ensg_id: 'ENSG00000111300'\n",
    "    collision_acronym_expansion: ''\n",
    "    collision_gene_relationship: ''\n",
    "  - gene_symbol: 'NAP1L1'\n",
    "    ensg_id: 'ENSG00000187109'\n",
    "    collision_acronym_expansion: 'Nucleosome Assembly Protein 1'\n",
    "    collision_gene_relationship: 'Protein Product'\n",
    "      - PMID: '8297347'\n",
    "      - PMID: '20002496'\n",
    "  - gene_symbol: 'NAPSA'\n",
    "    ensg_id: 'ENSG00000131400'\n",
    "    collision_acronym_expansion: 'Nck-Associated Protein'\n",
    "    collision_gene_relationship: 'Protein Product'\n",
    "      - PMID: '15048123'\n",
    "  - gene_symbol: 'NCKAP1'\n",
    "    ensg_id: 'ENSG00000061676'\n",
    "    - collision_acronym_expansion: 'Nck-Associated Protein 1'\n",
    "      collision_gene_relationship: 'Protein Product'\n",
    "        - PMID: '30867003'\n",
    "        - PMID: '9148763'\n",
    "    - collision_acronym_expansion: 'NAK-associated protein 1'\n",
    "      collision_gene_relationship: 'Protein Product'\n",
    "        - PMID: '14560022'\n",
    "  - gene_symbol: 'TAB3'\n",
    "    ensg_id: 'ENSG00000157625'\n",
    "    collision_acronym_expansion: 'NF-Kappa-B-Activating Protein 1'\n",
    "    collision_gene_relationship: 'Protein Product'\n",
    "  - gene_symbol: 'TRMO'\n",
    "    ensg_id: 'ENSG00000136932'\n",
    "    collision_acronym_expansion: 'Nef-Associated Protein 1 '\n",
    "    collision_gene_relationship: 'Protein Product'"
   ]
  },
  {
   "cell_type": "code",
   "execution_count": null,
   "metadata": {},
   "outputs": [],
   "source": []
  }
 ],
 "metadata": {
  "kernelspec": {
   "display_name": ".venv",
   "language": "python",
   "name": "python3"
  },
  "language_info": {
   "codemirror_mode": {
    "name": "ipython",
    "version": 3
   },
   "file_extension": ".py",
   "mimetype": "text/x-python",
   "name": "python",
   "nbconvert_exporter": "python",
   "pygments_lexer": "ipython3",
   "version": "3.12.3"
  },
  "orig_nbformat": 4
 },
 "nbformat": 4,
 "nbformat_minor": 2
}
