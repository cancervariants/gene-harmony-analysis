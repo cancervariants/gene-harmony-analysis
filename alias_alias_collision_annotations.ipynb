{
 "cells": [
  {
   "cell_type": "code",
   "execution_count": 4,
   "metadata": {},
   "outputs": [],
   "source": [
    "import yaml\n",
    "import json\n",
    "from typing import Any, List, Dict\n",
    "import pandas as pd"
   ]
  },
  {
   "cell_type": "code",
   "execution_count": 5,
   "metadata": {},
   "outputs": [],
   "source": [
    "%load_ext yamlmagic"
   ]
  },
  {
   "cell_type": "markdown",
   "metadata": {},
   "source": [
    "### Sample Record"
   ]
  },
  {
   "cell_type": "code",
   "execution_count": 11,
   "metadata": {},
   "outputs": [
    {
     "name": "stdout",
     "output_type": "stream",
     "text": [
      "Writing sample_collision_record.yaml\n"
     ]
    }
   ],
   "source": [
    "%%writefile sample_collision_record.yaml\n",
    "\n",
    "collision_symbol: ''\n",
    "collision_class: \"Convergent Acronym\", \"Gene Family\", \"Protein Domain\", \"Expired Gene Symbol\", \"Protein Product\"\n",
    "collision_group:\n",
    "  - gene_symbol: ''\n",
    "    ensg_id: 'ENSG'\n",
    "    collision_acronym_expansion: ''\n",
    "    collision_gene_relationship: \"Gene Family\", \"Protien Domain\", \"Expired Gene Symbol\", \"Protein Product\"\n",
    "    collision_source:\n",
    "      - PMID: ''\n",
    "      - PMID: ''\n"
   ]
  },
  {
   "cell_type": "markdown",
   "metadata": {},
   "source": [
    "### ASP"
   ]
  },
  {
   "cell_type": "code",
   "execution_count": 6,
   "metadata": {},
   "outputs": [
    {
     "name": "stdout",
     "output_type": "stream",
     "text": [
      "Overwriting alias-alias_collision_records/ASP_collision_record.yaml\n"
     ]
    }
   ],
   "source": [
    "%%writefile alias-alias_collision_records/ASP_collision_record.yaml\n",
    "\n",
    "collision_symbol: 'ASP'\n",
    "collision_class: 'Convergent Acronym'\n",
    "collision_type: 'alias-alias'\n",
    "collision_group:\n",
    "  - gene_symbol: 'ASIP'\n",
    "    ensg_id: 'ENSG00000101440'\n",
    "    collision_acronym_expansion: 'Agouti Signaling Protein'\n",
    "    collision_gene_relationship: 'Protein Product'\n",
    "    collision_source:\n",
    "      - PMID: '11833005'\n",
    "      - PMID: '7757071'\n",
    "  - gene_symbol: 'ASPA'\n",
    "    ensg_id: 'ENSG00000108381'\n",
    "    collision_acronym_expansion: 'ASPartoacylase'\n",
    "    collision_gene_relationship: 'Function'\n",
    "    collision_source:\n",
    "      - PMID: '9407392'\n",
    "      - PMID: '10493853'\n",
    "  - gene_symbol: 'ASPM'\n",
    "    ensg_id: 'ENSG00000066279'\n",
    "    collision_acronym_expansion: 'Drosophila Abnormal SPindle'\n",
    "    collision_gene_relationship: 'Ortholog'\n",
    "    collision_source:\n",
    "      - PMID: '36980263'\n",
    "      - PMID: '11283617'\n",
    "  - gene_symbol: 'ATG5'\n",
    "    ensg_id: 'ENSG00000057663'\n",
    "    collision_acronym_expansion: 'Apoptosis-Specific Protein'\n",
    "    collision_gene_relationship: 'Protein Product'\n",
    "    collision_source:\n",
    "      - PMID: '9563500'\n",
    "      - PMID: '7796880'\n",
    "  - gene_symbol: 'A1CF'\n",
    "    ensg_id: 'ENSG00000148584'\n",
    "    collision_acronym_expansion: 'APOBEC-1 Stimulating Protein'\n",
    "    collision_gene_relationship: 'Protein Product'\n",
    "    collision_source:\n",
    "      - PMID: '10781591'\n",
    "      - PMID: '15451168'\n",
    "  - gene_symbol: 'C3'\n",
    "    ensg_id: 'ENSG00000125730'\n",
    "    collision_acronym_expansion: 'Acylation-Stimulating Protein'\n",
    "    collision_gene_relationship: 'Protein Product'\n",
    "    collision_source:\n",
    "      - PMID: '18805911'\n",
    "      - PMID: '15833747'\n",
    "  - gene_symbol: 'ROPN1L'\n",
    "    ensg_id: 'ENSG00000145491'\n",
    "    collision_acronym_expansion: 'AKAP-associated Sperm Protein'\n",
    "    collision_gene_relationship: 'Protein Product'\n",
    "    collision_source:\n",
    "      - PMID: '18421703'\n",
    "      - PMID: '25600306'\n",
    "  - gene_symbol: 'TMPRSS11D'\n",
    "    ensg_id: 'ENSG00000153802'\n",
    "    collision_acronym_expansion: 'Adrenal secretory Serine Protease'\n",
    "    collision_gene_relationship: 'Function'\n",
    "    collision_source:\n",
    "      - PMID: '15762198'\n",
    "      - PMID: '11741986'"
   ]
  },
  {
   "cell_type": "code",
   "execution_count": 8,
   "metadata": {},
   "outputs": [
    {
     "name": "stdout",
     "output_type": "stream",
     "text": [
      "{'collision_symbol': 'ASP', 'collision_group': [{'gene_symbol': 'ASIP', 'ensg_id': 'ENSG00000101440', 'collision_acronym_expansion': 'Agouti Signaling Protein', 'collision_gene_relationship': 'Protein Product', 'collision_source': [{'PMID': '11833005'}, {'PMID': '7757071'}]}, {'gene_symbol': 'ASPA', 'ensg_id': 'ENSG00000108381', 'collision_acronym_expansion': 'ASPartoacylase', 'collision_gene_relationship': 'Function', 'collision_source': [{'PMID': '9407392'}, {'PMID': '10493853'}]}, {'gene_symbol': 'ASPM', 'ensg_id': 'ENSG00000066279', 'collision_acronym_expansion': 'Drosophila Abnormal SPindle', 'collision_gene_relationship': 'Ortholog', 'collision_source': [{'PMID': '36980263'}, {'PMID': '11283617'}]}, {'gene_symbol': 'ATG5', 'ensg_id': 'ENSG00000057663', 'collision_acronym_expansion': 'Apoptosis-Specific Protein', 'collision_gene_relationship': 'Protein Product', 'collision_source': [{'PMID': '9563500'}, {'PMID': '7796880'}]}, {'gene_symbol': 'A1CF', 'ensg_id': 'ENSG00000148584', 'collision_acronym_expansion': 'APOBEC-1 Stimulating Protein', 'collision_gene_relationship': 'Protein Product', 'collision_source': [{'PMID': '10781591'}, {'PMID': '15451168'}]}, {'gene_symbol': 'C3', 'ensg_id': 'ENSG00000125730', 'collision_acronym_expansion': 'Acylation-Stimulating Protein', 'collision_gene_relationship': 'Protein Product', 'collision_source': [{'PMID': '18805911'}, {'PMID': '15833747'}]}, {'gene_symbol': 'ROPN1L', 'ensg_id': 'ENSG00000145491', 'collision_acronym_expansion': 'AKAP-associated Sperm Protein', 'collision_gene_relationship': 'Protein Product', 'collision_source': [{'PMID': '18421703'}, {'PMID': '25600306'}]}, {'gene_symbol': 'TMPRSS11D', 'ensg_id': 'ENSG00000153802', 'collision_acronym_expansion': 'Adrenal secretory Serine Protease', 'collision_gene_relationship': 'Function', 'collision_source': [{'PMID': '15762198'}, {'PMID': '11741986'}]}], 'collision_class': 'Convergent Acronym'}\n"
     ]
    }
   ],
   "source": [
    "ASP_collision_record = yaml.safe_load(open('alias-alias_collision_records/ASP_collision_record.yaml'))\n",
    "print(ASP_collision_record)"
   ]
  },
  {
   "cell_type": "markdown",
   "metadata": {},
   "source": [
    "### PAP"
   ]
  },
  {
   "cell_type": "code",
   "execution_count": null,
   "metadata": {},
   "outputs": [],
   "source": [
    "%%writefile alias-alias_collision_records/PAP_collision_record.yaml\n",
    "\n",
    "collision_symbol: 'PAP'\n",
    "collision_class: \"Convergent Acronym\"\n",
    "collision_group:\n",
    "  - gene_symbol: 'ACP3'\n",
    "    ensg_id: 'ENSG00000014257'\n",
    "    collision_acronym_expansion: ''\n",
    "    collision_gene_relationship: \"Gene Family\", \"Protien Domain\", \"Expired Gene Symbol\", \"Protein Product\"\n",
    "    collision_source:\n",
    "      - PMID: ''\n",
    "      - PMID: ''\n",
    "  - gene_symbol: 'ASAP1'\n",
    "    ensg_id: 'ENSG00000153317'\n",
    "    collision_acronym_expansion: ''\n",
    "    collision_gene_relationship: \n",
    "    collision_source:\n",
    "      - PMID: ''\n",
    "      - PMID: ''\n",
    "  - gene_symbol: 'ASAP2'\n",
    "    ensg_id: 'ENSG00000151693'\n",
    "    collision_acronym_expansion: ''\n",
    "    collision_gene_relationship: \n",
    "    collision_source:\n",
    "      - PMID: ''\n",
    "      - PMID: ''\n",
    "  - gene_symbol: 'MRPS30'\n",
    "    ensg_id: 'ENSG00000112996'\n",
    "    collision_acronym_expansion: ''\n",
    "    collision_gene_relationship: \n",
    "    collision_source:\n",
    "      - PMID: ''\n",
    "      - PMID: ''\n",
    "  - gene_symbol: 'PAPOLA'\n",
    "    ensg_id: 'ENSG00000090060'\n",
    "    collision_acronym_expansion: ''\n",
    "    collision_gene_relationship: \n",
    "    collision_source:\n",
    "      - PMID: ''\n",
    "      - PMID: ''\n",
    "  - gene_symbol: 'PDAP1'\n",
    "    ensg_id: 'ENSG00000106244'\n",
    "    collision_acronym_expansion: ''\n",
    "    collision_gene_relationship: \n",
    "    collision_source:\n",
    "      - PMID: ''\n",
    "      - PMID: ''\n",
    "  - gene_symbol: 'REG3A'\n",
    "    ensg_id: 'ENSG00000172016'\n",
    "    collision_acronym_expansion: ''\n",
    "    collision_gene_relationship: \n",
    "    collision_source:\n",
    "      - PMID: ''\n",
    "      - PMID: ''\n",
    "  - gene_symbol: 'TUSC2'\n",
    "    ensg_id: 'ENSG00000114383'\n",
    "    collision_acronym_expansion: ''\n",
    "    collision_gene_relationship: \n",
    "    collision_source:\n",
    "      - PMID: ''\n",
    "      - PMID: ''\n",
    "\n"
   ]
  }
 ],
 "metadata": {
  "kernelspec": {
   "display_name": ".venv",
   "language": "python",
   "name": "python3"
  },
  "language_info": {
   "codemirror_mode": {
    "name": "ipython",
    "version": 3
   },
   "file_extension": ".py",
   "mimetype": "text/x-python",
   "name": "python",
   "nbconvert_exporter": "python",
   "pygments_lexer": "ipython3",
   "version": "3.12.3"
  },
  "orig_nbformat": 4
 },
 "nbformat": 4,
 "nbformat_minor": 2
}
