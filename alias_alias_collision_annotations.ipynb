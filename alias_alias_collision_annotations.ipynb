{
 "cells": [
  {
   "cell_type": "code",
   "execution_count": null,
   "metadata": {},
   "outputs": [],
   "source": [
    "import yaml\n",
    "import json\n",
    "from typing import Any, List, Dict\n",
    "import pandas as pd"
   ]
  },
  {
   "cell_type": "markdown",
   "metadata": {},
   "source": [
    "convert df to yaml"
   ]
  },
  {
   "cell_type": "code",
   "execution_count": null,
   "metadata": {},
   "outputs": [],
   "source": [
    "df = pd.DataFrame(zip(data,bata),columns=['Data','Bata'])\n",
    ">>> text = yaml.dump(\n",
    "    df.reset_index().to_dict(orient='records'),\n",
    "    sort_keys=False, width=72, indent=4,\n",
    "    default_flow_style=None)\n",
    ">>> text"
   ]
  },
  {
   "cell_type": "markdown",
   "metadata": {},
   "source": [
    "Add annotations to yaml"
   ]
  },
  {
   "cell_type": "code",
   "execution_count": null,
   "metadata": {},
   "outputs": [],
   "source": [
    "data1 : lsit[Dict[str,Any]]= [\n",
    "    {\n",
    "    'key': 'str',\n",
    "    'key1': {}\n",
    "    }\n",
    "]"
   ]
  }
 ],
 "metadata": {
  "language_info": {
   "name": "python"
  },
  "orig_nbformat": 4
 },
 "nbformat": 4,
 "nbformat_minor": 2
}
