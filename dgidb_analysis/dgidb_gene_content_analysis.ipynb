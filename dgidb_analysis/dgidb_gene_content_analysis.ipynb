{
 "cells": [
  {
   "cell_type": "markdown",
   "metadata": {},
   "source": [
    "# <a id='toc1_'></a>[DGIdb ambiguous claims](#toc0_)"
   ]
  },
  {
   "cell_type": "markdown",
   "metadata": {},
   "source": [
    "**Table of contents**<a id='toc0_'></a>    \n",
    "- [DGIdb ambiguous claims](#toc1_)    \n",
    "    - [Analyzing similaritis b/w alias-primary and alias-alias collisions](#toc1_1_1_)    \n",
    "      - [Load merged alias-alias and alias-priamry collision sets. Symbols are the ambiguous symbols.](#toc1_1_1_1_)    \n",
    "      - [How many of the alias-primary collisions are also alias-alias collisions?](#toc1_1_1_2_)    \n",
    "      - [How many unique ambiguous symbosl are there b/w alias-primary and alias-alias collisions?](#toc1_1_1_3_)    \n",
    "    - [Primary exploration of DGIdb gene content using collisions](#toc1_1_2_)    \n",
    "      - [Load gene claim data from DGIdb](#toc1_1_2_1_)    \n",
    "      - [How many claims are placed in a gene group with a different label?](#toc1_1_2_2_)    \n",
    "      - [How many claims are not normalized?](#toc1_1_2_3_)    \n",
    "      - [Create set of gene groups (gene_name) and gene claims (gene_claim_name)](#toc1_1_2_4_)    \n",
    "      - [Load HGNC, Ensembl (ENSG), and NCBI gene and alias sets](#toc1_1_2_5_)    \n",
    "      - [How many unique primary gene symbols are there b/w HGNC, Ensembl, and NCBI?](#toc1_1_2_6_)    \n",
    "      - [How many unique alias symbols are there b/w HGNC, Ensembl, and NCBI?](#toc1_1_2_7_)    \n",
    "      - [How many unique group names are not primary gene symbols?](#toc1_1_2_8_)    \n",
    "      - [How many unique claims are not primary gene symbols?](#toc1_1_2_9_)    \n",
    "      - [Load the collision sets from each data source](#toc1_1_2_10_)    \n",
    "      - [How many unique group names are primary gene symbols?](#toc1_1_2_11_)    \n",
    "      - [How many of the groups that are labeled with a primary gene symbol are also alias-alias collisions?](#toc1_1_2_12_)    \n",
    "      - [How many unique claim symbols are collisions?](#toc1_1_2_13_)    \n",
    "      - [How many unique groups are labeled with collisions?](#toc1_1_2_14_)    \n",
    "      - [How many unique claims are not primary gene symbols?](#toc1_1_2_15_)    \n",
    "      - [How many unique claims that were not primary symbols are collisions?](#toc1_1_2_16_)    \n",
    "      - [How many unique claims that are primary gene symbols are also collisions?](#toc1_1_2_17_)    \n",
    "      - [How many of the gene groups that are not primary gene symbols are alias-alias collisions from HGNC?](#toc1_1_2_18_)    \n",
    "      - [How many claims are ambiguous symbols?](#toc1_1_2_19_)    \n",
    "      - [How many gene group labels are ambiguous symbols?](#toc1_1_2_20_)    \n",
    "      - [How many claims are primary symbols?](#toc1_1_2_21_)    \n",
    "      - [How many gene group labels are primary symbols?](#toc1_1_2_22_)    \n",
    "      - [How many gene group labels are alias symbols?](#toc1_1_2_23_)    \n",
    "      - [How many claims are alias symbols?](#toc1_1_2_24_)    \n",
    "      - [How many claims that were normalized into non-primary symbol labeled groups are alias symbols?](#toc1_1_2_25_)    \n",
    "      - [How many not normalized claims are alias symbols?](#toc1_1_2_26_)    \n",
    "      - [How many gene group labels are not primary, alias symbols, or null?](#toc1_1_2_27_)    \n",
    "      - [How many claims are not primary, alias symbols, or null?](#toc1_1_2_28_)    \n",
    "      - [How many claims are primary and alias symbols?](#toc1_1_2_29_)    \n",
    "      - [How many primary symbol claims are normalized into non-primary gene group labels?](#toc1_1_2_30_)    \n",
    "    - [Summary](#toc1_1_3_)    \n",
    "      - [Normalization Rates](#toc1_1_3_1_)    \n",
    "      - [Types of Claim Symbols](#toc1_1_3_2_)    \n",
    "      - [Types of Normalizations (gene group labels claims are being normliazed into)](#toc1_1_3_3_)    \n",
    "\n",
    "<!-- vscode-jupyter-toc-config\n",
    "\tnumbering=false\n",
    "\tanchor=true\n",
    "\tflat=false\n",
    "\tminLevel=1\n",
    "\tmaxLevel=6\n",
    "\t/vscode-jupyter-toc-config -->\n",
    "<!-- THIS CELL WILL BE REPLACED ON TOC UPDATE. DO NOT WRITE YOUR TEXT IN THIS CELL -->"
   ]
  },
  {
   "cell_type": "code",
   "execution_count": 115,
   "metadata": {},
   "outputs": [],
   "source": [
    "import pandas as pd\n",
    "import numpy as np\n",
    "import plotly.express as px"
   ]
  },
  {
   "cell_type": "markdown",
   "metadata": {},
   "source": [
    "### <a id='toc1_1_1_'></a>[Analyzing similarities b/w alias-primary and alias-alias collisions](#toc0_)"
   ]
  },
  {
   "cell_type": "markdown",
   "metadata": {},
   "source": [
    "#### <a id='toc1_1_1_1_'></a>[Load merged alias-alias and alias-priamry collision sets. Symbols are the ambiguous symbols.](#toc0_)"
   ]
  },
  {
   "cell_type": "markdown",
   "metadata": {},
   "source": [
    "Input: merged_alias_gene_intersections.csv (total_alias_gene_intersections.ipynb), merged_alias_overlap_df_2.csv (total_alias_overlap.ipynb)"
   ]
  },
  {
   "cell_type": "markdown",
   "metadata": {},
   "source": [
    "Output: merged_alias_primary_collision_set, merged_alias_alias_collision_set"
   ]
  },
  {
   "cell_type": "code",
   "execution_count": 116,
   "metadata": {},
   "outputs": [],
   "source": [
    "merged_alias_primary_collisions_df = pd.read_csv(\n",
    "    \"../created_files/merged_alias_primary_collisions_df.csv\", na_values=[\"\", \"NULL\"], keep_default_na=False\n",
    ")"
   ]
  },
  {
   "cell_type": "code",
   "execution_count": 117,
   "metadata": {},
   "outputs": [
    {
     "data": {
      "text/plain": [
       "1677"
      ]
     },
     "execution_count": 117,
     "metadata": {},
     "output_type": "execute_result"
    }
   ],
   "source": [
    "merged_alias_primary_collision_set = set(\n",
    "    merged_alias_primary_collisions_df[\"collision\"]\n",
    ")\n",
    "len(merged_alias_primary_collision_set)"
   ]
  },
  {
   "cell_type": "code",
   "execution_count": 118,
   "metadata": {},
   "outputs": [],
   "source": [
    "merged_alias_alias_collisions_df = pd.read_csv(\n",
    "    \"../created_files/merged_aa_collision_alias_df.csv\", na_values=[\"\", \"NULL\"], keep_default_na=False\n",
    ")"
   ]
  },
  {
   "cell_type": "code",
   "execution_count": 119,
   "metadata": {},
   "outputs": [
    {
     "data": {
      "text/plain": [
       "3824"
      ]
     },
     "execution_count": 119,
     "metadata": {},
     "output_type": "execute_result"
    }
   ],
   "source": [
    "merged_alias_alias_collision_set = set(\n",
    "    merged_alias_alias_collisions_df[\"collision\"].tolist()\n",
    ")\n",
    "len(merged_alias_alias_collision_set)"
   ]
  },
  {
   "cell_type": "markdown",
   "metadata": {},
   "source": [
    "#### <a id='toc1_1_1_2_'></a>[How many of the alias-primary collisions are also alias-alias collisions?](#toc0_)"
   ]
  },
  {
   "cell_type": "code",
   "execution_count": 120,
   "metadata": {},
   "outputs": [
    {
     "name": "stdout",
     "output_type": "stream",
     "text": [
      "271\n"
     ]
    }
   ],
   "source": [
    "print(\n",
    "    len(\n",
    "        merged_alias_alias_collision_set.intersection(\n",
    "            merged_alias_primary_collision_set\n",
    "        )\n",
    "    )\n",
    ")"
   ]
  },
  {
   "cell_type": "markdown",
   "metadata": {},
   "source": [
    "#### <a id='toc1_1_1_3_'></a>[How many unique ambiguous symbols are there b/w alias-primary and alias-alias collisions?](#toc0_)"
   ]
  },
  {
   "cell_type": "code",
   "execution_count": 121,
   "metadata": {},
   "outputs": [
    {
     "name": "stdout",
     "output_type": "stream",
     "text": [
      "5230\n"
     ]
    }
   ],
   "source": [
    "ambiguous_symbol_set = merged_alias_alias_collision_set.union(\n",
    "    merged_alias_primary_collision_set\n",
    ")\n",
    "print(len(ambiguous_symbol_set))"
   ]
  },
  {
   "cell_type": "code",
   "execution_count": 122,
   "metadata": {},
   "outputs": [
    {
     "data": {
      "text/plain": [
       "{'PAK6',\n",
       " 'NPL3',\n",
       " 'C6ORF68',\n",
       " 'ASP1',\n",
       " 'APH2',\n",
       " 'NEDF',\n",
       " 'MAGI1',\n",
       " 'UBL5',\n",
       " 'CK1',\n",
       " 'MIP-2A',\n",
       " 'PP',\n",
       " 'PP2CB',\n",
       " 'TICAM2',\n",
       " 'ASB',\n",
       " 'TSSK4',\n",
       " 'PAL',\n",
       " 'MNAB',\n",
       " 'RIA1',\n",
       " 'MIG7',\n",
       " 'H4C14',\n",
       " 'HSS',\n",
       " 'NMTC1',\n",
       " 'GBBB2',\n",
       " 'ZNF474',\n",
       " 'KRTAP2.1A',\n",
       " 'HG674',\n",
       " 'DCR2',\n",
       " 'LCA',\n",
       " 'C9',\n",
       " 'SYT12',\n",
       " 'ACVRLK4',\n",
       " 'AUGA',\n",
       " 'DHX40P1',\n",
       " 'HSP70.1',\n",
       " 'TC1',\n",
       " 'PCM1',\n",
       " 'POM121',\n",
       " 'LEU2',\n",
       " 'SOLO',\n",
       " 'RNU6-8',\n",
       " 'RF1',\n",
       " 'OR11-11A',\n",
       " 'BRCC1',\n",
       " 'HYPK',\n",
       " 'CLP',\n",
       " 'IGHM',\n",
       " 'SAX3',\n",
       " 'SCP1',\n",
       " 'CMG1',\n",
       " 'K35',\n",
       " 'RGP4',\n",
       " 'ELN',\n",
       " 'MSL1',\n",
       " 'CFL1',\n",
       " 'SOHLH2',\n",
       " 'ALG2',\n",
       " 'SPS1',\n",
       " 'TCRAV2S1',\n",
       " 'OCM',\n",
       " 'CYP11B',\n",
       " 'RBMXP1',\n",
       " 'MLD',\n",
       " 'S2',\n",
       " 'IGA',\n",
       " 'MGAT3',\n",
       " 'MAM-3',\n",
       " 'ASM',\n",
       " 'OR19-5',\n",
       " 'IGHV3-3',\n",
       " 'MCL',\n",
       " 'CHMP4A',\n",
       " 'J2',\n",
       " 'SAMS',\n",
       " 'NLF1',\n",
       " 'EAF1',\n",
       " 'LAM',\n",
       " 'CA125',\n",
       " 'PSBG-11',\n",
       " 'H7365',\n",
       " 'NBC3',\n",
       " 'SWS1',\n",
       " 'NRK2',\n",
       " 'PLEKHG5',\n",
       " 'BAP',\n",
       " 'VATB',\n",
       " 'GSTAP2',\n",
       " 'FCGR2',\n",
       " 'PKR1',\n",
       " 'PAMP',\n",
       " 'HPC8',\n",
       " 'CRIP1',\n",
       " 'MIRHG1',\n",
       " 'TEX28P1',\n",
       " 'IFI-4',\n",
       " 'SH120',\n",
       " 'A3GALNT',\n",
       " 'PN-II',\n",
       " 'HN3',\n",
       " 'CRL1',\n",
       " 'HBP3',\n",
       " 'EAP2',\n",
       " 'TRAP-1',\n",
       " 'L4',\n",
       " 'KRTAP5-1',\n",
       " 'HBGF-8',\n",
       " 'PRH1',\n",
       " 'OFD1P2',\n",
       " 'SPC1',\n",
       " 'NANOGP3',\n",
       " 'XAP4',\n",
       " 'CMM8',\n",
       " 'STAG3L3',\n",
       " 'DEFA3',\n",
       " 'NCC-3',\n",
       " 'LPP1',\n",
       " 'SG2NA',\n",
       " 'KLK6',\n",
       " 'OST',\n",
       " 'H3C2',\n",
       " 'TRP2',\n",
       " 'GPR58',\n",
       " 'NKH',\n",
       " 'PC2',\n",
       " 'DTD',\n",
       " 'HADH',\n",
       " 'H2A/Q',\n",
       " 'ARIA',\n",
       " 'KIR2DL5B',\n",
       " 'PRG',\n",
       " 'UGT',\n",
       " 'NBP',\n",
       " 'CLEC2B',\n",
       " 'UGT2B11',\n",
       " 'GX',\n",
       " 'RCA1',\n",
       " 'MCM',\n",
       " 'CSA',\n",
       " 'PK3',\n",
       " 'DEC-205',\n",
       " 'P59',\n",
       " 'TRF-GAA1-2',\n",
       " 'UGT2',\n",
       " 'CAP1A',\n",
       " 'ANK',\n",
       " 'PAR',\n",
       " 'HDGF-2',\n",
       " 'TP53TG3B',\n",
       " 'SDH1',\n",
       " 'TRG-GCC2-5',\n",
       " 'NEP',\n",
       " 'TRAPPC2P1',\n",
       " 'FALDH',\n",
       " 'HEPIS',\n",
       " 'GPCR21',\n",
       " 'DIP',\n",
       " 'CRIPTO',\n",
       " 'NKR',\n",
       " 'BR',\n",
       " 'IK',\n",
       " 'C6ORF8',\n",
       " 'KAR',\n",
       " 'T2',\n",
       " 'ZNF286C',\n",
       " 'MCDR2',\n",
       " 'FACE',\n",
       " 'OR17-24',\n",
       " 'DRC1',\n",
       " 'FRMPD2',\n",
       " 'MIEF1',\n",
       " 'PRAAS3',\n",
       " 'P27',\n",
       " 'DCP1',\n",
       " 'CMT2B2',\n",
       " 'MEIS3',\n",
       " 'U3B1',\n",
       " 'N2N',\n",
       " 'WDR11',\n",
       " 'ASC2',\n",
       " 'VIP',\n",
       " 'UGT-1A',\n",
       " 'LVG2',\n",
       " 'HPPD',\n",
       " 'PBEF',\n",
       " 'EEF1B1',\n",
       " 'CMT1',\n",
       " 'EBN1',\n",
       " 'BNC1',\n",
       " 'POTEB',\n",
       " 'PRP4',\n",
       " 'SIGLECP1',\n",
       " 'LAT2',\n",
       " 'ALDH7',\n",
       " 'CT45-2',\n",
       " 'BDP1',\n",
       " 'RBPI',\n",
       " 'C16DELP11.2',\n",
       " 'H3C4',\n",
       " 'OTF3',\n",
       " 'RNA18S5',\n",
       " 'MRX31',\n",
       " 'NIK',\n",
       " 'E4TF1',\n",
       " 'NBN',\n",
       " 'TBL1',\n",
       " 'PRKAR2',\n",
       " 'RCC',\n",
       " 'DMC1',\n",
       " 'CDK11',\n",
       " 'PR',\n",
       " 'MRT1',\n",
       " 'FRP-2',\n",
       " 'DNM1DN10@',\n",
       " 'HCRN',\n",
       " 'GAP',\n",
       " 'POLD4',\n",
       " 'F11',\n",
       " 'H2AC19',\n",
       " 'CSBP',\n",
       " 'T6BP',\n",
       " 'PSP2',\n",
       " 'TCEB1P26',\n",
       " 'TRL-AAG2-3',\n",
       " 'RIP2',\n",
       " 'ALS6',\n",
       " 'POGZ',\n",
       " 'D3',\n",
       " 'ESA',\n",
       " 'DUP',\n",
       " 'PRR20B',\n",
       " 'MCP',\n",
       " 'SMAJ',\n",
       " 'GPHR',\n",
       " 'HPS2',\n",
       " 'PRAMEF25',\n",
       " 'RNASEH1',\n",
       " 'RAB11B',\n",
       " 'SSA',\n",
       " 'ATP5A',\n",
       " 'NPY4-R',\n",
       " 'DDX31',\n",
       " 'TP',\n",
       " 'MSS1',\n",
       " 'FAN',\n",
       " 'RNA5-8S4',\n",
       " 'OFC2',\n",
       " 'OLF1',\n",
       " 'MRD2',\n",
       " 'PEP',\n",
       " 'SSB2',\n",
       " 'AZ2',\n",
       " 'CYP2B',\n",
       " 'IP3R',\n",
       " 'KRTAP5-6',\n",
       " 'PROTEINASE',\n",
       " 'STAP',\n",
       " 'CX58',\n",
       " 'TEM',\n",
       " 'MHF1',\n",
       " 'CAT2',\n",
       " 'C6ORF37',\n",
       " 'FANCD',\n",
       " 'NAP1',\n",
       " 'DEFB3',\n",
       " 'MICE',\n",
       " 'ECE2',\n",
       " 'PGK2',\n",
       " 'SYT11',\n",
       " 'TXN',\n",
       " 'BCRP1',\n",
       " 'PH',\n",
       " 'HKPX1',\n",
       " 'XIST',\n",
       " 'RSK',\n",
       " 'FPS',\n",
       " 'GALNT4',\n",
       " 'ACC1',\n",
       " 'IQCH',\n",
       " 'IBGC2',\n",
       " 'CPS1',\n",
       " 'PTP',\n",
       " 'CLA1',\n",
       " 'FBL4',\n",
       " 'BCH',\n",
       " 'PAR4',\n",
       " 'GPAT',\n",
       " 'SIT1',\n",
       " 'CT45A5',\n",
       " 'TRAM',\n",
       " 'ALDH4',\n",
       " 'KRTAP18-9',\n",
       " 'COX1',\n",
       " 'TRAD',\n",
       " 'HSPG',\n",
       " 'XLOC_008466',\n",
       " 'CENPC',\n",
       " 'CMS1B',\n",
       " 'FCGR3B',\n",
       " 'TARG1',\n",
       " 'K12',\n",
       " 'ETL4',\n",
       " 'ARCC2',\n",
       " 'ECGF',\n",
       " 'TCEA1',\n",
       " 'HLA-DRB',\n",
       " 'HCCR-1',\n",
       " 'VMA2',\n",
       " 'IL17A',\n",
       " 'P17',\n",
       " 'RHA',\n",
       " 'ALS',\n",
       " 'SKD2',\n",
       " 'CHS1',\n",
       " 'RNU1P1',\n",
       " 'GST',\n",
       " 'CT134',\n",
       " 'ARP8',\n",
       " 'FBL7',\n",
       " 'OR17-16',\n",
       " 'TTY9',\n",
       " 'H2AC16',\n",
       " 'MSC',\n",
       " 'IPS',\n",
       " 'DSP',\n",
       " 'CLC',\n",
       " 'EBF3',\n",
       " 'PRR',\n",
       " 'CDF',\n",
       " 'HCS',\n",
       " 'TFI',\n",
       " 'TRAP',\n",
       " 'RIM',\n",
       " 'P48',\n",
       " 'ATX1',\n",
       " 'TANGO',\n",
       " 'FOXO3B',\n",
       " 'EPM2A',\n",
       " 'IGLC6',\n",
       " 'NTN4',\n",
       " 'GPR42',\n",
       " 'TRX-CAT1-2',\n",
       " 'CYC1',\n",
       " 'H2BC8',\n",
       " 'PGDH',\n",
       " 'PHP',\n",
       " 'SPANX-E',\n",
       " 'PP1C',\n",
       " 'MEP',\n",
       " 'TRF',\n",
       " 'APS1',\n",
       " 'GLM1',\n",
       " 'PSP-A',\n",
       " 'BUB1A',\n",
       " 'PMI1',\n",
       " 'AIM1',\n",
       " 'ERF1',\n",
       " 'AP2',\n",
       " 'L13',\n",
       " 'MIP1',\n",
       " 'BRPF1',\n",
       " 'FIRE',\n",
       " 'U6',\n",
       " 'TNNI3K',\n",
       " 'PARPL',\n",
       " 'FA',\n",
       " 'CGB7',\n",
       " 'D1',\n",
       " 'TRAV11',\n",
       " 'SAC2',\n",
       " 'HAP2',\n",
       " 'RMD2',\n",
       " 'MMAA',\n",
       " 'HST16992',\n",
       " 'CR',\n",
       " 'H4C13',\n",
       " 'RPEL1',\n",
       " 'CAP2',\n",
       " 'MED25',\n",
       " 'CLNS1B',\n",
       " 'GTF2IRD2A',\n",
       " 'MIP2A',\n",
       " 'TCRGC1',\n",
       " 'GUP1',\n",
       " 'CTPP5',\n",
       " 'CAC1',\n",
       " 'MCS',\n",
       " 'SLC4A5',\n",
       " 'PIF',\n",
       " 'BG',\n",
       " 'ZNF688',\n",
       " 'NGB',\n",
       " 'CYP2G2P',\n",
       " 'PSC5',\n",
       " 'ERIS',\n",
       " 'VPP2',\n",
       " 'PH2',\n",
       " 'TPH2',\n",
       " 'CELIAC1',\n",
       " 'MTC',\n",
       " 'DEFB-3',\n",
       " 'IL25',\n",
       " 'ZNF',\n",
       " 'RNA28S4',\n",
       " 'SAX2',\n",
       " 'LGALS9B',\n",
       " 'UNQ192',\n",
       " 'UBC2',\n",
       " 'POTEB2',\n",
       " 'SCA31',\n",
       " 'HSP70',\n",
       " 'P66',\n",
       " 'DUSP26',\n",
       " 'SNF2',\n",
       " 'NTE',\n",
       " 'PAR-1',\n",
       " 'MADH7',\n",
       " 'POP3',\n",
       " 'CL-11',\n",
       " 'STK7',\n",
       " 'SCYA2',\n",
       " 'RARF',\n",
       " 'CAB2',\n",
       " 'HNRPA1L3',\n",
       " 'TCRAV3S1',\n",
       " 'PRMT9',\n",
       " 'PSPA',\n",
       " 'HPR',\n",
       " 'RPL36A',\n",
       " 'PDK1',\n",
       " 'BPAD',\n",
       " 'TRS-GCT4-1',\n",
       " 'LHB',\n",
       " 'RNU1-12P',\n",
       " 'CPN2',\n",
       " 'GRIK2',\n",
       " 'P29',\n",
       " 'NDR1',\n",
       " 'CT5.4',\n",
       " 'MFT',\n",
       " 'KOX21',\n",
       " 'PAP2',\n",
       " 'SEA',\n",
       " 'TRY-GTA5-3',\n",
       " 'POTED',\n",
       " 'EIF2AK1',\n",
       " 'HEPN1',\n",
       " 'HIST1H2BI',\n",
       " 'MIA1',\n",
       " 'CT24.2',\n",
       " 'NOP',\n",
       " 'RPS26',\n",
       " 'STX',\n",
       " 'LRP4',\n",
       " 'CDK11-P110',\n",
       " 'CCBP2',\n",
       " 'TBC1D3L',\n",
       " 'PTPRZ',\n",
       " 'SL1',\n",
       " 'HA-1',\n",
       " 'HE2',\n",
       " 'CN1',\n",
       " 'BDP',\n",
       " 'RNU12',\n",
       " 'SH3BGR',\n",
       " 'EBP',\n",
       " 'SWI2',\n",
       " 'L15',\n",
       " 'TRNP',\n",
       " 'H-PLK',\n",
       " 'CSS1',\n",
       " 'WC1',\n",
       " 'TRX-CAT1-5',\n",
       " 'LAP',\n",
       " 'FIG',\n",
       " 'BCS',\n",
       " 'RNA45S4',\n",
       " 'PIGU',\n",
       " 'UT2',\n",
       " 'KIAA1426',\n",
       " 'HIF-PH1',\n",
       " 'GCL',\n",
       " 'LILRA6',\n",
       " 'HIST1H2BG',\n",
       " 'TRX1',\n",
       " 'CDH16',\n",
       " 'GP135',\n",
       " 'IGHV4-B',\n",
       " 'RETSDR2',\n",
       " 'ERK',\n",
       " 'LRRC51',\n",
       " 'FAH',\n",
       " 'HIP3',\n",
       " 'KCR1',\n",
       " 'CCL28',\n",
       " 'ALC1',\n",
       " 'KRTAP5-11',\n",
       " 'PC',\n",
       " 'TRN2',\n",
       " 'DBC1',\n",
       " 'TTTY6',\n",
       " 'A6',\n",
       " 'ALURBP',\n",
       " 'PUR1',\n",
       " 'AIM',\n",
       " 'RSS',\n",
       " 'VMA5',\n",
       " 'THC2',\n",
       " 'ICBP90',\n",
       " 'TCTEX4',\n",
       " 'SCGB1C1',\n",
       " 'PTH1',\n",
       " 'PSF2',\n",
       " 'P13',\n",
       " 'CT1',\n",
       " 'CARP2',\n",
       " 'SEF',\n",
       " 'MUHH',\n",
       " 'USP31',\n",
       " 'PAR2',\n",
       " 'CREB3',\n",
       " 'P76',\n",
       " 'GIF',\n",
       " 'P18',\n",
       " 'TAR-5',\n",
       " 'MRX',\n",
       " 'CREB-2',\n",
       " 'TMPRSS3',\n",
       " 'SPIN1',\n",
       " 'HNRPG',\n",
       " 'CV2',\n",
       " 'CYP2C',\n",
       " 'CPT1-M',\n",
       " 'SPN',\n",
       " 'LHR',\n",
       " 'LARP',\n",
       " 'TAFII105',\n",
       " 'TCS3',\n",
       " 'TRIM80P',\n",
       " 'CPBHM',\n",
       " 'FAS',\n",
       " 'LYSOPAFAT',\n",
       " 'GAGE-7',\n",
       " 'CFAP90',\n",
       " 'DEFB-11',\n",
       " 'PTC1',\n",
       " 'SWS',\n",
       " 'STZ',\n",
       " 'GJA11',\n",
       " 'WRS',\n",
       " 'FADS6',\n",
       " 'SWAP',\n",
       " 'RAET1L',\n",
       " 'B5',\n",
       " 'TP53TG3E',\n",
       " 'MOX2',\n",
       " 'EBS3',\n",
       " 'LPCAT',\n",
       " 'PREP',\n",
       " 'PEPP-2',\n",
       " 'TSP1',\n",
       " 'XAP3',\n",
       " 'TRX-CAT1-6',\n",
       " 'LRP/LR',\n",
       " 'SSX',\n",
       " 'ALP',\n",
       " 'C7',\n",
       " 'PACT',\n",
       " 'RH4',\n",
       " 'CAPS',\n",
       " 'GCAP-I',\n",
       " 'PBP',\n",
       " 'PRP2',\n",
       " 'PVALB',\n",
       " 'CLDN21',\n",
       " 'FIX',\n",
       " 'BBP',\n",
       " 'LSAMP-AS1',\n",
       " 'SPANXC',\n",
       " 'PRG1',\n",
       " 'SHFM1',\n",
       " 'NOC2',\n",
       " 'CTP9',\n",
       " 'FLJ22167',\n",
       " 'P24',\n",
       " 'CS-1',\n",
       " 'TIP39',\n",
       " 'OI12',\n",
       " 'PLCE',\n",
       " 'HRES1',\n",
       " 'ALDR1',\n",
       " 'TRN1',\n",
       " 'ADRA1A',\n",
       " 'PIG9',\n",
       " 'CNK',\n",
       " 'MSE',\n",
       " 'CT19',\n",
       " 'OTX3',\n",
       " 'CSS3',\n",
       " 'HYAL3',\n",
       " 'RZF',\n",
       " 'MCT7',\n",
       " 'CDW32',\n",
       " 'FMR1',\n",
       " 'TCEB1L',\n",
       " 'LSK',\n",
       " 'CT45-3',\n",
       " 'CLK2',\n",
       " 'RAC3',\n",
       " 'ESG',\n",
       " 'MCDR1',\n",
       " 'NAPA',\n",
       " 'IGHV3-11',\n",
       " 'TMSA',\n",
       " 'ARS',\n",
       " 'PDZD5C',\n",
       " 'PORC',\n",
       " 'AP47B',\n",
       " 'RWS',\n",
       " 'CYP2D7BP',\n",
       " 'ALDRP',\n",
       " 'PS2',\n",
       " 'PAT1',\n",
       " 'PHERS',\n",
       " 'MART2',\n",
       " 'ST3GALA.2',\n",
       " 'SIMP',\n",
       " 'FAM10A4',\n",
       " 'RAB42',\n",
       " 'TTY11',\n",
       " 'WS',\n",
       " 'SUR2',\n",
       " 'SBBI31',\n",
       " 'TCRAV22S1',\n",
       " 'ZAC1',\n",
       " 'U8',\n",
       " 'SCYA3L1',\n",
       " 'TTTY8',\n",
       " 'LCA10',\n",
       " 'DIFF6',\n",
       " 'MID1',\n",
       " 'SDH2',\n",
       " 'D2',\n",
       " 'PIX1',\n",
       " 'CD158B',\n",
       " 'ERG-1',\n",
       " 'E3',\n",
       " 'HIST1H2BC',\n",
       " 'MORF4LP4',\n",
       " 'NPIPB',\n",
       " 'CILD38',\n",
       " 'SLC23A1',\n",
       " 'HOKPP',\n",
       " 'LPCAT4',\n",
       " 'H4C8',\n",
       " 'TC4',\n",
       " 'MOR2',\n",
       " 'FHOD3',\n",
       " 'RNU1',\n",
       " 'NG23',\n",
       " 'FEB3B',\n",
       " 'RD',\n",
       " 'AQP9',\n",
       " 'TRS-AGA2-1',\n",
       " 'MASA',\n",
       " 'C3PO',\n",
       " 'DUP16P11.2',\n",
       " 'PCN3',\n",
       " 'ELOA3C',\n",
       " 'PRDX6',\n",
       " 'CT2',\n",
       " 'ISO1',\n",
       " 'SCC1',\n",
       " 'CRP',\n",
       " 'DHP',\n",
       " 'IFNT1',\n",
       " 'CL2',\n",
       " 'KAT4',\n",
       " 'QPS1',\n",
       " 'PROTEASE',\n",
       " 'HDAC7',\n",
       " 'DA4',\n",
       " 'P34',\n",
       " 'DKFZP547P234',\n",
       " 'CSP1',\n",
       " 'TRT-AGT5-1',\n",
       " 'SSAO',\n",
       " 'PRH',\n",
       " 'RRF',\n",
       " 'U5B1',\n",
       " 'CIP1',\n",
       " 'BCL5',\n",
       " 'MUM2',\n",
       " 'TRC-GCA2-1',\n",
       " 'SDH',\n",
       " 'HBP-3',\n",
       " 'UGT1E',\n",
       " 'MOX1',\n",
       " 'HPT',\n",
       " 'IMPDH1',\n",
       " 'FRAXA',\n",
       " 'TAF2C2',\n",
       " 'NAPOR',\n",
       " 'ODC1L',\n",
       " 'A15',\n",
       " 'PTC',\n",
       " 'GALNAC-T10',\n",
       " 'EPF5',\n",
       " 'PTH2',\n",
       " 'ORP1',\n",
       " 'PTX3',\n",
       " 'TRAC-1',\n",
       " 'TNDM1',\n",
       " 'LRP1',\n",
       " 'CT47',\n",
       " 'MPP11',\n",
       " 'P33',\n",
       " 'POU5F1',\n",
       " 'H-REV107',\n",
       " 'PEX1',\n",
       " 'P250',\n",
       " 'PNMT',\n",
       " 'CEP1',\n",
       " 'HCGB',\n",
       " 'AML1-EVI-1',\n",
       " 'RS1',\n",
       " 'TAN1',\n",
       " 'NTT',\n",
       " 'RAI',\n",
       " 'ZWS',\n",
       " 'LY75',\n",
       " 'KSP37',\n",
       " 'THM',\n",
       " 'TRG-GCC2-3',\n",
       " 'IGVH',\n",
       " 'LRF',\n",
       " 'MAGEE1',\n",
       " 'H5',\n",
       " 'TRP-TGG3-1',\n",
       " 'GM2AP',\n",
       " 'P8MTCP1',\n",
       " 'CERS1',\n",
       " 'CASP',\n",
       " 'JP2',\n",
       " 'BCD1',\n",
       " 'EDHB17',\n",
       " 'RP3',\n",
       " 'HIST2H2BD',\n",
       " 'IV',\n",
       " 'SLIT3',\n",
       " 'HSK1',\n",
       " 'G13',\n",
       " 'PTPRQ',\n",
       " 'IK1',\n",
       " 'CKB',\n",
       " 'CDA1',\n",
       " 'FCRI',\n",
       " 'CT-2',\n",
       " 'STRA13',\n",
       " 'UBCH8',\n",
       " 'OOMD',\n",
       " 'PB',\n",
       " 'TCRAV15S1',\n",
       " 'GPX6',\n",
       " 'CCL4L',\n",
       " 'FAME',\n",
       " 'D14S1460',\n",
       " 'P32',\n",
       " 'EK',\n",
       " 'ZNF182',\n",
       " 'KRTAP2-3',\n",
       " 'TRG-CCC2-2',\n",
       " '464.2',\n",
       " 'APE',\n",
       " 'KRTAP2-4',\n",
       " 'TAMO',\n",
       " 'AIS1',\n",
       " 'CEP110',\n",
       " 'RPL7P',\n",
       " 'GTB',\n",
       " 'MCAP',\n",
       " 'ODF',\n",
       " 'UCHL2',\n",
       " 'TTP',\n",
       " 'MRP2',\n",
       " 'PAPA1',\n",
       " 'CA-RP',\n",
       " 'MPP4',\n",
       " 'CT45-4',\n",
       " 'PI-PLC',\n",
       " 'SOCS4',\n",
       " 'BRF2',\n",
       " 'TCRBV2S1',\n",
       " 'SRGAP3',\n",
       " 'FA1',\n",
       " 'RBM',\n",
       " 'RASSF3',\n",
       " 'UGT-1C',\n",
       " 'FKBP9',\n",
       " 'AF',\n",
       " 'SCAP',\n",
       " 'P90',\n",
       " 'BM600',\n",
       " 'KRTAP2.4',\n",
       " 'SCP-2',\n",
       " 'NG2-6',\n",
       " 'M6A',\n",
       " 'NLK',\n",
       " 'TSPY8',\n",
       " 'G16',\n",
       " 'DAP3',\n",
       " 'GS2',\n",
       " 'HZF3',\n",
       " 'DIP1',\n",
       " 'YRRM1',\n",
       " 'LST-3TM12',\n",
       " 'TMS',\n",
       " 'NL1',\n",
       " 'C11ORF5',\n",
       " 'MRXS11',\n",
       " 'VMA6',\n",
       " 'TLP',\n",
       " 'HOX1D',\n",
       " 'MPD3',\n",
       " 'PXMP1',\n",
       " 'GLUT10',\n",
       " 'GAGE-8',\n",
       " 'GGT2',\n",
       " 'GCP',\n",
       " 'B29',\n",
       " 'OR912-108',\n",
       " 'DLG1',\n",
       " 'RPML3',\n",
       " 'LAN',\n",
       " 'PGI',\n",
       " 'OR11-1',\n",
       " 'OR3A5P',\n",
       " 'P97',\n",
       " 'HHZ150',\n",
       " 'CD158A',\n",
       " 'NSCL2',\n",
       " 'H2BFH',\n",
       " 'CT12.1B',\n",
       " 'PSF',\n",
       " 'AAA1',\n",
       " 'MEG1',\n",
       " 'ING2',\n",
       " 'RBP4',\n",
       " 'SIRPB2',\n",
       " 'A3',\n",
       " 'EIF4F',\n",
       " 'OA3',\n",
       " 'TCRAV21S1',\n",
       " 'PFHB1B',\n",
       " 'ZNF581',\n",
       " 'TRC-GCA2-4',\n",
       " 'DLD',\n",
       " 'MGF',\n",
       " 'NBL1',\n",
       " 'CH507-145C22.1',\n",
       " 'BETA2',\n",
       " 'NAF1',\n",
       " 'BCDS1',\n",
       " 'CRP2',\n",
       " 'RALBP1',\n",
       " 'DLP1',\n",
       " 'RNAH',\n",
       " 'OCT3',\n",
       " 'PDX1',\n",
       " 'FCCMS',\n",
       " 'EA1',\n",
       " 'CRP1',\n",
       " 'PGII',\n",
       " 'STRAP',\n",
       " 'C9ORF36A',\n",
       " 'PEMT',\n",
       " 'APMR1',\n",
       " 'TRK-CTT2-2',\n",
       " 'SK1',\n",
       " 'PBCRA',\n",
       " 'DM1',\n",
       " 'GK',\n",
       " 'LCP1',\n",
       " 'TCS1',\n",
       " 'ABP-280',\n",
       " 'ACA59',\n",
       " 'SLIT1',\n",
       " 'ADA2',\n",
       " 'PDIP1',\n",
       " 'TUBA2',\n",
       " 'PWCR',\n",
       " 'OR11H12',\n",
       " 'MGC15397',\n",
       " 'MAK',\n",
       " 'SMIM11B',\n",
       " 'SRA',\n",
       " 'P45',\n",
       " 'KAT1',\n",
       " 'IFP1',\n",
       " 'SES2',\n",
       " 'NRF1',\n",
       " 'HBB',\n",
       " 'VSD1',\n",
       " 'ARG',\n",
       " 'TRP-AGG2-2',\n",
       " 'LAGE-2',\n",
       " 'TRK-CTT2-5',\n",
       " 'TRK-TTT3-4',\n",
       " 'CT45A7',\n",
       " 'BOLA2B',\n",
       " 'PARK21',\n",
       " 'DNAJ',\n",
       " 'POP1',\n",
       " 'MSH',\n",
       " 'GPB',\n",
       " 'SMIM39',\n",
       " 'CENP-S',\n",
       " 'DPPA3',\n",
       " 'EOS',\n",
       " 'NRF2',\n",
       " 'ZNF95',\n",
       " 'TRNAV-CAC',\n",
       " 'CAPZ',\n",
       " 'CPT1B',\n",
       " 'CAPC',\n",
       " 'ARP4',\n",
       " 'DNM1DN16@',\n",
       " 'TCRBV25S1',\n",
       " 'ALG10',\n",
       " 'TPX1',\n",
       " 'HTR',\n",
       " 'TRP-TGG3-5',\n",
       " 'H2B/L',\n",
       " 'TCF6L1',\n",
       " 'CG1',\n",
       " 'LST-1',\n",
       " 'ATP2B2',\n",
       " 'TRY1',\n",
       " 'RPL10P',\n",
       " 'TSPY1',\n",
       " 'UGD',\n",
       " 'LIN-10',\n",
       " 'A3B',\n",
       " 'CN-IB',\n",
       " 'ARTS',\n",
       " 'OSM',\n",
       " 'LY6G6D',\n",
       " 'YRRM2',\n",
       " 'TCRAV30S1',\n",
       " 'ZBP1',\n",
       " 'MLM',\n",
       " 'LEPR',\n",
       " 'BWS',\n",
       " 'GAGED2',\n",
       " 'NET',\n",
       " 'SPANXE',\n",
       " 'LTBP3',\n",
       " 'PPYR1',\n",
       " 'ECYT7',\n",
       " 'NDR',\n",
       " 'NT3',\n",
       " 'MUC3',\n",
       " 'CX30.2',\n",
       " 'WBSCR20B',\n",
       " 'DMTN',\n",
       " 'TOMT',\n",
       " 'S100A14',\n",
       " 'TCRBV12S2',\n",
       " 'LKN-1',\n",
       " 'BTN1',\n",
       " 'TRF-GAA1-4',\n",
       " 'OR912-46',\n",
       " 'C7ORF55',\n",
       " 'DAGK6',\n",
       " 'HBAB',\n",
       " 'POLR1C',\n",
       " 'PIRB',\n",
       " 'SAS',\n",
       " 'LIG3',\n",
       " 'HYDINP1',\n",
       " 'ATP6G',\n",
       " 'FEB2',\n",
       " 'MRAP',\n",
       " 'FBS',\n",
       " 'GRL',\n",
       " 'SMAD1',\n",
       " 'Y4',\n",
       " 'ARPIN',\n",
       " 'DIPP-2B',\n",
       " 'C15ORF63',\n",
       " 'FAM48B1',\n",
       " 'HLP3',\n",
       " 'PAM-1',\n",
       " 'TIRAP3',\n",
       " 'MRX92',\n",
       " 'ARP11',\n",
       " 'FBP',\n",
       " 'NEU',\n",
       " 'TSSK1',\n",
       " 'GLUD2',\n",
       " 'CAT1',\n",
       " 'CRP3',\n",
       " ...}"
      ]
     },
     "execution_count": 122,
     "metadata": {},
     "output_type": "execute_result"
    }
   ],
   "source": [
    "ambiguous_symbol_set"
   ]
  },
  {
   "cell_type": "code",
   "execution_count": 123,
   "metadata": {},
   "outputs": [
    {
     "name": "stdout",
     "output_type": "stream",
     "text": [
      "5230\n"
     ]
    }
   ],
   "source": [
    "ambiguous_symbol_set = set(item.strip() for item in ambiguous_symbol_set)\n",
    "\n",
    "print(len(ambiguous_symbol_set))"
   ]
  },
  {
   "cell_type": "code",
   "execution_count": 124,
   "metadata": {},
   "outputs": [],
   "source": [
    "with open(\"created_files/ambiguous_symbol_set.txt\", \"w\") as file:\n",
    "    for item in ambiguous_symbol_set:\n",
    "        file.write(f\"{item.strip()}\\n\")"
   ]
  },
  {
   "cell_type": "code",
   "execution_count": 125,
   "metadata": {},
   "outputs": [
    {
     "data": {
      "text/plain": [
       "5230"
      ]
     },
     "execution_count": 125,
     "metadata": {},
     "output_type": "execute_result"
    }
   ],
   "source": [
    "with open(\"created_files/ambiguous_symbol_set.txt\", \"r\") as file:\n",
    "    # read each line, strip newline characters, and convert to a set\n",
    "    ambiguous_symbol_set = set(line.strip() for line in file)\n",
    "len(ambiguous_symbol_set)"
   ]
  },
  {
   "cell_type": "code",
   "execution_count": 126,
   "metadata": {},
   "outputs": [
    {
     "data": {
      "text/plain": [
       "{'C6ORF68',\n",
       " 'ASP1',\n",
       " 'APH2',\n",
       " 'MAGI1',\n",
       " 'UBL5',\n",
       " 'PP2CB',\n",
       " 'ASB',\n",
       " 'TSSK4',\n",
       " 'MIG7',\n",
       " 'RIA1',\n",
       " 'ZNF474',\n",
       " 'NMTC1',\n",
       " 'HSS',\n",
       " 'KRTAP2.1A',\n",
       " 'HG674',\n",
       " 'DCR2',\n",
       " 'LCA',\n",
       " 'ACVRLK4',\n",
       " 'TC1',\n",
       " 'POM121',\n",
       " 'LEU2',\n",
       " 'BRCC1',\n",
       " 'K35',\n",
       " 'ALG2',\n",
       " 'TCRAV2S1',\n",
       " 'OCM',\n",
       " 'CYP11B',\n",
       " 'RBMXP1',\n",
       " 'MLD',\n",
       " 'MAM-3',\n",
       " 'OR19-5',\n",
       " 'IGHV3-3',\n",
       " 'CHMP4A',\n",
       " 'J2',\n",
       " 'SAMS',\n",
       " 'NLF1',\n",
       " 'CA125',\n",
       " 'PSBG-11',\n",
       " 'NBC3',\n",
       " 'NRK2',\n",
       " 'PKR1',\n",
       " 'HPC8',\n",
       " 'TEX28P1',\n",
       " 'IFI-4',\n",
       " 'A3GALNT',\n",
       " 'CRL1',\n",
       " 'HN3',\n",
       " 'EAP2',\n",
       " 'KRTAP5-1',\n",
       " 'PRH1',\n",
       " 'SPC1',\n",
       " 'NANOGP3',\n",
       " 'NCC-3',\n",
       " 'SG2NA',\n",
       " 'KLK6',\n",
       " 'OST',\n",
       " 'H3C2',\n",
       " 'GPR58',\n",
       " 'DTD',\n",
       " 'PRG',\n",
       " 'UGT',\n",
       " 'CLEC2B',\n",
       " 'MCM',\n",
       " 'PK3',\n",
       " 'DEC-205',\n",
       " 'CSA',\n",
       " 'TRF-GAA1-2',\n",
       " 'PAR',\n",
       " 'SDH1',\n",
       " 'TRG-GCC2-5',\n",
       " 'FALDH',\n",
       " 'HEPIS',\n",
       " 'GPCR21',\n",
       " 'DIP',\n",
       " 'NKR',\n",
       " 'MCDR2',\n",
       " 'FACE',\n",
       " 'OR17-24',\n",
       " 'DRC1',\n",
       " 'FRMPD2',\n",
       " 'MIEF1',\n",
       " 'PRAAS3',\n",
       " 'P27',\n",
       " 'MEIS3',\n",
       " 'N2N',\n",
       " 'WDR11',\n",
       " 'VIP',\n",
       " 'UGT-1A',\n",
       " 'HPPD',\n",
       " 'CMT1',\n",
       " 'POTEB',\n",
       " 'PRP4',\n",
       " 'LAT2',\n",
       " 'ALDH7',\n",
       " 'BDP1',\n",
       " 'TBL1',\n",
       " 'DMC1',\n",
       " 'CDK11',\n",
       " 'PR',\n",
       " 'FRP-2',\n",
       " 'HCRN',\n",
       " 'GAP',\n",
       " 'POLD4',\n",
       " 'F11',\n",
       " 'TCEB1P26',\n",
       " 'RIP2',\n",
       " 'ESA',\n",
       " 'DUP',\n",
       " 'MCP',\n",
       " 'SMAJ',\n",
       " 'GPHR',\n",
       " 'RNASEH1',\n",
       " 'ATP5A',\n",
       " 'NPY4-R',\n",
       " 'DDX31',\n",
       " 'TP',\n",
       " 'MSS1',\n",
       " 'RNA5-8S4',\n",
       " 'OFC2',\n",
       " 'OLF1',\n",
       " 'MRD2',\n",
       " 'SSB2',\n",
       " 'KRTAP5-6',\n",
       " 'CX58',\n",
       " 'TEM',\n",
       " 'C6ORF37',\n",
       " 'NAP1',\n",
       " 'DEFB3',\n",
       " 'MICE',\n",
       " 'PGK2',\n",
       " 'BCRP1',\n",
       " 'PH',\n",
       " 'RSK',\n",
       " 'BCH',\n",
       " 'PAR4',\n",
       " 'GPAT',\n",
       " 'CT45A5',\n",
       " 'KRTAP18-9',\n",
       " 'ETL4',\n",
       " 'ARCC2',\n",
       " 'ECGF',\n",
       " 'TCEA1',\n",
       " 'HCCR-1',\n",
       " 'P17',\n",
       " 'ALS',\n",
       " 'SKD2',\n",
       " 'CHS1',\n",
       " 'RNU1P1',\n",
       " 'CT134',\n",
       " 'ARP8',\n",
       " 'FBL7',\n",
       " 'OR17-16',\n",
       " 'TTY9',\n",
       " 'H2AC16',\n",
       " 'DSP',\n",
       " 'EBF3',\n",
       " 'PRR',\n",
       " 'CDF',\n",
       " 'HCS',\n",
       " 'FOXO3B',\n",
       " 'EPM2A',\n",
       " 'IGLC6',\n",
       " 'NTN4',\n",
       " 'PGDH',\n",
       " 'PHP',\n",
       " 'GLM1',\n",
       " 'PSP-A',\n",
       " 'BUB1A',\n",
       " 'BRPF1',\n",
       " 'L13',\n",
       " 'MIP1',\n",
       " 'FIRE',\n",
       " 'U6',\n",
       " 'TNNI3K',\n",
       " 'FA',\n",
       " 'D1',\n",
       " 'SAC2',\n",
       " 'HAP2',\n",
       " 'MMAA',\n",
       " 'CLNS1B',\n",
       " 'CTPP5',\n",
       " 'TCRGC1',\n",
       " 'MCS',\n",
       " 'ZNF688',\n",
       " 'ERIS',\n",
       " 'ZNF',\n",
       " 'SAX2',\n",
       " 'LGALS9B',\n",
       " 'UNQ192',\n",
       " 'UBC2',\n",
       " 'P66',\n",
       " 'SNF2',\n",
       " 'NTE',\n",
       " 'PAR-1',\n",
       " 'MADH7',\n",
       " 'SCYA2',\n",
       " 'RARF',\n",
       " 'CAB2',\n",
       " 'PRMT9',\n",
       " 'RPL36A',\n",
       " 'PDK1',\n",
       " 'CPN2',\n",
       " 'PAP2',\n",
       " 'SEA',\n",
       " 'TRY-GTA5-3',\n",
       " 'HEPN1',\n",
       " 'CT24.2',\n",
       " 'RPS26',\n",
       " 'PTPRZ',\n",
       " 'L15',\n",
       " 'TRNP',\n",
       " 'CSS1',\n",
       " 'WC1',\n",
       " 'TRX-CAT1-5',\n",
       " 'KIAA1426',\n",
       " 'GCL',\n",
       " 'LILRA6',\n",
       " 'GP135',\n",
       " 'LRRC51',\n",
       " 'FAH',\n",
       " 'HIP3',\n",
       " 'CCL28',\n",
       " 'KCR1',\n",
       " 'ALC1',\n",
       " 'KRTAP5-11',\n",
       " 'PC',\n",
       " 'ALURBP',\n",
       " 'AIM',\n",
       " 'RSS',\n",
       " 'ICBP90',\n",
       " 'TCTEX4',\n",
       " 'SCGB1C1',\n",
       " 'PSF2',\n",
       " 'P13',\n",
       " 'CT1',\n",
       " 'CARP2',\n",
       " 'SEF',\n",
       " 'MUHH',\n",
       " 'PAR2',\n",
       " 'GIF',\n",
       " 'P18',\n",
       " 'MRX',\n",
       " 'CYP2C',\n",
       " 'SPN',\n",
       " 'LHR',\n",
       " 'LARP',\n",
       " 'TRIM80P',\n",
       " 'LYSOPAFAT',\n",
       " 'DEFB-11',\n",
       " 'STZ',\n",
       " 'SWS',\n",
       " 'GJA11',\n",
       " 'B5',\n",
       " 'EBS3',\n",
       " 'LPCAT',\n",
       " 'PREP',\n",
       " 'XAP3',\n",
       " 'SSX',\n",
       " 'ALP',\n",
       " 'PACT',\n",
       " 'GCAP-I',\n",
       " 'PBP',\n",
       " 'PRP2',\n",
       " 'PVALB',\n",
       " 'FIX',\n",
       " 'BBP',\n",
       " 'LSAMP-AS1',\n",
       " 'SPANXC',\n",
       " 'CTP9',\n",
       " 'FLJ22167',\n",
       " 'OI12',\n",
       " 'ALDR1',\n",
       " 'ADRA1A',\n",
       " 'MSE',\n",
       " 'CT19',\n",
       " 'HYAL3',\n",
       " 'FMR1',\n",
       " 'CT45-3',\n",
       " 'CLK2',\n",
       " 'RAC3',\n",
       " 'TMSA',\n",
       " 'PDZD5C',\n",
       " 'PORC',\n",
       " 'RWS',\n",
       " 'CYP2D7BP',\n",
       " 'PS2',\n",
       " 'PAT1',\n",
       " 'FAM10A4',\n",
       " 'TTY11',\n",
       " 'U8',\n",
       " 'ZAC1',\n",
       " 'SUR2',\n",
       " 'LCA10',\n",
       " 'DIFF6',\n",
       " 'CD158B',\n",
       " 'ERG-1',\n",
       " 'HIST1H2BC',\n",
       " 'NPIPB',\n",
       " 'HOKPP',\n",
       " 'RNU1',\n",
       " 'FEB3B',\n",
       " 'RD',\n",
       " 'AQP9',\n",
       " 'TRS-AGA2-1',\n",
       " 'C3PO',\n",
       " 'PCN3',\n",
       " 'ELOA3C',\n",
       " 'ISO1',\n",
       " 'SCC1',\n",
       " 'KAT4',\n",
       " 'QPS1',\n",
       " 'PROTEASE',\n",
       " 'DA4',\n",
       " 'P34',\n",
       " 'DKFZP547P234',\n",
       " 'SSAO',\n",
       " 'PRH',\n",
       " 'RRF',\n",
       " 'U5B1',\n",
       " 'CIP1',\n",
       " 'TRC-GCA2-1',\n",
       " 'UGT1E',\n",
       " 'HPT',\n",
       " 'FRAXA',\n",
       " 'ODC1L',\n",
       " 'A15',\n",
       " 'PTC',\n",
       " 'GALNAC-T10',\n",
       " 'ORP1',\n",
       " 'TNDM1',\n",
       " 'LRP1',\n",
       " 'CT47',\n",
       " 'MPP11',\n",
       " 'P33',\n",
       " 'POU5F1',\n",
       " 'H-REV107',\n",
       " 'PEX1',\n",
       " 'CEP1',\n",
       " 'HCGB',\n",
       " 'RS1',\n",
       " 'TAN1',\n",
       " 'NTT',\n",
       " 'RAI',\n",
       " 'ZWS',\n",
       " 'KSP37',\n",
       " 'IGVH',\n",
       " 'TRP-TGG3-1',\n",
       " 'P8MTCP1',\n",
       " 'BCD1',\n",
       " 'EDHB17',\n",
       " 'HSK1',\n",
       " 'G13',\n",
       " 'PTPRQ',\n",
       " 'IK1',\n",
       " 'CDA1',\n",
       " 'FCRI',\n",
       " 'CT-2',\n",
       " 'STRA13',\n",
       " 'UBCH8',\n",
       " 'TCRAV15S1',\n",
       " 'CCL4L',\n",
       " 'FAME',\n",
       " 'P32',\n",
       " 'EK',\n",
       " 'ZNF182',\n",
       " 'TRG-CCC2-2',\n",
       " '464.2',\n",
       " 'KRTAP2-4',\n",
       " 'TAMO',\n",
       " 'AIS1',\n",
       " 'CEP110',\n",
       " 'RPL7P',\n",
       " 'MCAP',\n",
       " 'ODF',\n",
       " 'MRP2',\n",
       " 'CA-RP',\n",
       " 'MPP4',\n",
       " 'CT45-4',\n",
       " 'PI-PLC',\n",
       " 'RASSF3',\n",
       " 'FKBP9',\n",
       " 'UGT-1C',\n",
       " 'AF',\n",
       " 'P90',\n",
       " 'BM600',\n",
       " 'KRTAP2.4',\n",
       " 'SCP-2',\n",
       " 'NG2-6',\n",
       " 'M6A',\n",
       " 'NLK',\n",
       " 'TSPY8',\n",
       " 'DAP3',\n",
       " 'HZF3',\n",
       " 'LST-3TM12',\n",
       " 'NL1',\n",
       " 'C11ORF5',\n",
       " 'MRXS11',\n",
       " 'HOX1D',\n",
       " 'MPD3',\n",
       " 'PXMP1',\n",
       " 'GLUT10',\n",
       " 'GAGE-8',\n",
       " 'GGT2',\n",
       " 'GCP',\n",
       " 'B29',\n",
       " 'DLG1',\n",
       " 'RPML3',\n",
       " 'PGI',\n",
       " 'P97',\n",
       " 'CD158A',\n",
       " 'CT12.1B',\n",
       " 'PSF',\n",
       " 'AAA1',\n",
       " 'MEG1',\n",
       " 'RBP4',\n",
       " 'A3',\n",
       " 'EIF4F',\n",
       " 'OA3',\n",
       " 'PFHB1B',\n",
       " 'NAF1',\n",
       " 'BCDS1',\n",
       " 'RALBP1',\n",
       " 'DLP1',\n",
       " 'RNAH',\n",
       " 'PDX1',\n",
       " 'FCCMS',\n",
       " 'EA1',\n",
       " 'CRP1',\n",
       " 'PGII',\n",
       " 'STRAP',\n",
       " 'APMR1',\n",
       " 'TRK-CTT2-2',\n",
       " 'PBCRA',\n",
       " 'DM1',\n",
       " 'LCP1',\n",
       " 'ABP-280',\n",
       " 'ADA2',\n",
       " 'TUBA2',\n",
       " 'PWCR',\n",
       " 'OR11H12',\n",
       " 'MAK',\n",
       " 'IFP1',\n",
       " 'NRF1',\n",
       " 'VSD1',\n",
       " 'ARG',\n",
       " 'TRK-TTT3-4',\n",
       " 'PARK21',\n",
       " 'DNAJ',\n",
       " 'POP1',\n",
       " 'EOS',\n",
       " 'NRF2',\n",
       " 'ZNF95',\n",
       " 'TRNAV-CAC',\n",
       " 'ARP4',\n",
       " 'DNM1DN16@',\n",
       " 'ALG10',\n",
       " 'TRP-TGG3-5',\n",
       " 'H2B/L',\n",
       " 'TCF6L1',\n",
       " 'LST-1',\n",
       " 'TRY1',\n",
       " 'TSPY1',\n",
       " 'UGD',\n",
       " 'ARTS',\n",
       " 'OSM',\n",
       " 'YRRM2',\n",
       " 'ZBP1',\n",
       " 'LEPR',\n",
       " 'BWS',\n",
       " 'SPANXE',\n",
       " 'PPYR1',\n",
       " 'ECYT7',\n",
       " 'CX30.2',\n",
       " 'WBSCR20B',\n",
       " 'DMTN',\n",
       " 'TOMT',\n",
       " 'S100A14',\n",
       " 'LKN-1',\n",
       " 'BTN1',\n",
       " 'OR912-46',\n",
       " 'DAGK6',\n",
       " 'HBAB',\n",
       " 'PIRB',\n",
       " 'SAS',\n",
       " 'ATP6G',\n",
       " 'MRAP',\n",
       " 'DIPP-2B',\n",
       " 'C15ORF63',\n",
       " 'HLP3',\n",
       " 'PAM-1',\n",
       " 'MRX92',\n",
       " 'FBP',\n",
       " 'GLUD2',\n",
       " 'CAT1',\n",
       " 'PRG3',\n",
       " 'CBG',\n",
       " 'DYT17',\n",
       " 'USP17L27',\n",
       " 'PABP3',\n",
       " 'PAGE-1',\n",
       " 'RLF',\n",
       " '2F1',\n",
       " 'YDR084C',\n",
       " 'ATL1',\n",
       " 'PCN',\n",
       " 'RCN2',\n",
       " 'RPL10',\n",
       " 'BAL',\n",
       " 'RNU1-7P',\n",
       " 'GT334',\n",
       " 'FRA10A',\n",
       " 'LAMB2',\n",
       " 'TRB',\n",
       " 'NK3',\n",
       " 'S12',\n",
       " 'OR7E73P',\n",
       " 'TNRC14',\n",
       " 'SNF7',\n",
       " 'FAM18B2',\n",
       " 'C18ORF2',\n",
       " 'DAGK',\n",
       " 'ZNF187P1',\n",
       " 'ME3',\n",
       " 'H3C1',\n",
       " 'MCRIP2P1',\n",
       " 'PN1',\n",
       " 'TBC1D3P1',\n",
       " 'TRMT1',\n",
       " 'TMSL8',\n",
       " 'CD182',\n",
       " 'GOP',\n",
       " 'EPPK',\n",
       " 'IL-1RA',\n",
       " 'OR19-18',\n",
       " 'COD5',\n",
       " 'ALR',\n",
       " 'CT45-6',\n",
       " 'L22',\n",
       " 'NBS',\n",
       " 'CCTA',\n",
       " 'OM',\n",
       " 'HC6',\n",
       " 'P450DB1',\n",
       " 'LINC02815',\n",
       " 'FRA11B',\n",
       " 'AOH1',\n",
       " 'PSGGA',\n",
       " 'MAT',\n",
       " 'JTK5',\n",
       " 'EAP1',\n",
       " 'COX',\n",
       " 'TUBB2',\n",
       " 'CPTI-M',\n",
       " 'GRIN1',\n",
       " 'EIF1AP1',\n",
       " 'C15ORF1',\n",
       " 'DYT23',\n",
       " 'CIC',\n",
       " 'SMG',\n",
       " 'ROR1',\n",
       " 'SAPL',\n",
       " 'FKBP6',\n",
       " 'TRQ-CTG1-3',\n",
       " 'RBP5',\n",
       " 'TIC',\n",
       " 'UTA',\n",
       " 'VWS1',\n",
       " 'HEPTP',\n",
       " 'MIO',\n",
       " 'MRXSH',\n",
       " 'PEN',\n",
       " 'PMS2CL',\n",
       " 'LILRA5',\n",
       " 'DEFB136',\n",
       " 'SIL',\n",
       " 'NOTCH2NLR',\n",
       " 'C2',\n",
       " 'USP12',\n",
       " 'TRK-TTT3-5',\n",
       " 'H3C7',\n",
       " 'KIR2DL5',\n",
       " 'BHLHE38',\n",
       " 'LCN5',\n",
       " 'AP-1',\n",
       " 'SPDYE9',\n",
       " 'SOSS-B2',\n",
       " 'OAZ',\n",
       " 'TRD-GTC2-10',\n",
       " 'HUG-BR1',\n",
       " 'IGVPB',\n",
       " 'H2B/K',\n",
       " 'GIP',\n",
       " 'RPML32',\n",
       " 'ORC2',\n",
       " 'PCDH2',\n",
       " 'HHG',\n",
       " 'RAY',\n",
       " 'SAC3',\n",
       " 'RNU6-6',\n",
       " 'FCG3',\n",
       " 'TRP-AGG2-3',\n",
       " 'NOS3',\n",
       " 'SNF2LB',\n",
       " 'C1QTNF15',\n",
       " 'SPH2',\n",
       " 'HDMX',\n",
       " 'GLYT1',\n",
       " 'CAPH2',\n",
       " 'TBC1D3F',\n",
       " 'FAPP2',\n",
       " 'RITA',\n",
       " 'ASF',\n",
       " 'PI',\n",
       " 'BDPLT14',\n",
       " 'DLG2',\n",
       " 'MAT1',\n",
       " 'C6ST',\n",
       " 'PIMT',\n",
       " 'AB14',\n",
       " 'TRH-GTG1-8',\n",
       " 'AH',\n",
       " 'ARD1',\n",
       " 'OR7E75P',\n",
       " 'CFD1',\n",
       " 'CAM1',\n",
       " 'RTS',\n",
       " 'H2AC14',\n",
       " 'RN18S1',\n",
       " 'DUSP13',\n",
       " 'EF1B',\n",
       " 'SMAP',\n",
       " 'ISGF-3',\n",
       " 'TCRAV7S1',\n",
       " 'PFM2',\n",
       " 'PDPK2P',\n",
       " 'CAR1',\n",
       " 'ERP60',\n",
       " 'PYPAF7',\n",
       " 'MER',\n",
       " 'SOD2',\n",
       " 'L-UBC',\n",
       " 'HSP70-2',\n",
       " 'IGHV4-4',\n",
       " 'EEF1AKMT4',\n",
       " 'CMS1D',\n",
       " 'AHH',\n",
       " 'GLK',\n",
       " 'CBP',\n",
       " 'A26B3',\n",
       " 'NS3TP1',\n",
       " 'SPC7',\n",
       " 'FAM236C',\n",
       " 'SLC23A2',\n",
       " 'HBK',\n",
       " 'ML1',\n",
       " 'HCF2',\n",
       " 'SIGLECL1',\n",
       " 'USP12P2',\n",
       " 'H2AC4',\n",
       " 'TRNAE-UUC',\n",
       " 'BCOX',\n",
       " 'NUS1',\n",
       " 'PC1',\n",
       " 'ATDC',\n",
       " 'UGT1A5',\n",
       " 'HNT',\n",
       " 'CBBM',\n",
       " 'M130',\n",
       " 'CDK11-P46',\n",
       " 'LNP1',\n",
       " 'NBPF',\n",
       " 'EMT',\n",
       " 'TAF',\n",
       " 'HBD3',\n",
       " 'CFD',\n",
       " 'PDS',\n",
       " 'MAP-2',\n",
       " 'CLA3',\n",
       " 'TCEAL3',\n",
       " 'CEACAM3',\n",
       " 'HP',\n",
       " 'MST',\n",
       " 'TRR-ACG1-2',\n",
       " 'GSG1',\n",
       " 'TCRAV28S1',\n",
       " 'UGT1A1',\n",
       " 'HB-1',\n",
       " 'MELF2',\n",
       " 'PABP1',\n",
       " 'PSG9',\n",
       " 'CCR9',\n",
       " 'SPRK',\n",
       " 'OR52I1',\n",
       " 'S100',\n",
       " 'LAGE2B',\n",
       " 'ARMD14',\n",
       " 'OR17-25',\n",
       " 'PCDH11Y',\n",
       " 'ANCO1',\n",
       " 'U3A',\n",
       " 'LRH-1',\n",
       " 'PRP-1/PRP-2',\n",
       " 'RN5-8S1',\n",
       " 'GASP',\n",
       " 'HNP-1',\n",
       " 'NOD',\n",
       " 'HRH1',\n",
       " 'PPN',\n",
       " 'DUSP27',\n",
       " 'RHEB2',\n",
       " 'TRM1',\n",
       " 'EPO',\n",
       " 'PPAT',\n",
       " 'HIG1',\n",
       " 'TRG-CCC2-1',\n",
       " 'RUS',\n",
       " 'MRS',\n",
       " 'SMC2',\n",
       " 'IMP',\n",
       " 'DP1',\n",
       " 'CNAP1',\n",
       " 'RFC1',\n",
       " 'OR19-12',\n",
       " 'TRS-GCT4-2',\n",
       " 'FB',\n",
       " 'APOL3',\n",
       " 'SIII',\n",
       " 'BB2',\n",
       " 'OSF-2',\n",
       " 'SPG',\n",
       " 'C4BP',\n",
       " 'MRP-L14',\n",
       " 'DFNB102',\n",
       " 'TRX',\n",
       " 'D6S230E',\n",
       " 'SYT15B',\n",
       " 'TR',\n",
       " 'L6',\n",
       " 'GEFSP7',\n",
       " 'CYPD',\n",
       " 'FIM1',\n",
       " 'APOA2',\n",
       " 'LAT1',\n",
       " 'TCF-4',\n",
       " 'TKT',\n",
       " 'CNC',\n",
       " 'MZF-1',\n",
       " 'PGS2',\n",
       " 'PEHO',\n",
       " 'HXBL',\n",
       " 'SPATA31D3',\n",
       " 'PSMD1',\n",
       " 'CCAT',\n",
       " 'LINC00087',\n",
       " 'CT5.2',\n",
       " 'MN',\n",
       " 'LAT',\n",
       " 'TRPM2',\n",
       " 'MAK3',\n",
       " 'SSB1',\n",
       " 'TRN',\n",
       " 'A2M',\n",
       " 'PXR1',\n",
       " 'NMI',\n",
       " 'CD3G',\n",
       " 'CRN',\n",
       " 'TRBP',\n",
       " 'PDA2',\n",
       " 'POP4',\n",
       " 'OBP',\n",
       " 'SCAR1',\n",
       " 'MRX17',\n",
       " 'MRPL22',\n",
       " 'MDSP',\n",
       " 'HSD17B7',\n",
       " 'ENV',\n",
       " 'TAP2',\n",
       " 'UPA',\n",
       " 'FCRIII',\n",
       " 'HOS',\n",
       " 'SNORA58B',\n",
       " 'ADC',\n",
       " 'H3.1',\n",
       " 'L23',\n",
       " 'CD1A',\n",
       " 'HSJ2',\n",
       " 'NCRNA00087',\n",
       " 'TRR-CCG1-2',\n",
       " 'LINC00470',\n",
       " 'OCT4',\n",
       " 'SPR',\n",
       " 'FDH',\n",
       " 'PGAM1',\n",
       " 'NANOGP4',\n",
       " 'ADCY3',\n",
       " 'SCG2',\n",
       " 'RANBP7',\n",
       " 'USP16',\n",
       " 'ARP',\n",
       " 'LECD',\n",
       " 'LNCR2',\n",
       " 'MIF2',\n",
       " 'RRP17',\n",
       " 'HNK1ST',\n",
       " 'CMC1',\n",
       " 'HMSNP',\n",
       " 'BOS1',\n",
       " 'BIS',\n",
       " 'LSS',\n",
       " 'TL-PST',\n",
       " 'RSC6P',\n",
       " 'OAT6',\n",
       " 'LRRC37A',\n",
       " 'SIK1',\n",
       " 'DSS',\n",
       " 'H2AC18',\n",
       " 'DJ388M5',\n",
       " 'H3-3B',\n",
       " 'SEDLP1',\n",
       " 'HGL',\n",
       " 'HEL2',\n",
       " 'CHP',\n",
       " 'ARHGAP10',\n",
       " 'C15ORF38',\n",
       " 'NBS1',\n",
       " 'DRP3',\n",
       " 'CFM2',\n",
       " 'FBS1',\n",
       " 'CAIN',\n",
       " 'DAO',\n",
       " 'LE',\n",
       " 'FHL5',\n",
       " 'TRP-TGG3-2',\n",
       " 'PCDHX',\n",
       " 'BOR',\n",
       " 'GGT',\n",
       " 'ELOA3B',\n",
       " 'GAGE-9',\n",
       " 'HSP40',\n",
       " 'XLOC_000303',\n",
       " 'MAP2',\n",
       " 'CDY',\n",
       " 'MPS1',\n",
       " 'SNO',\n",
       " 'ALTMIEF1',\n",
       " 'RGR',\n",
       " 'HPF1',\n",
       " 'TSPY10',\n",
       " 'CDS1',\n",
       " 'ATR1',\n",
       " 'FRA3B',\n",
       " 'PP2C-DELTA',\n",
       " 'TRIM6',\n",
       " 'DP3',\n",
       " 'OR25',\n",
       " 'CAMB',\n",
       " 'TRQ-CTG1-2',\n",
       " 'TCRAV13S1',\n",
       " 'TAM',\n",
       " 'LEURS',\n",
       " 'SCA8',\n",
       " 'MRP-L15',\n",
       " 'P0',\n",
       " 'SNF1LK',\n",
       " 'DUP17P13.3',\n",
       " 'MRXSL',\n",
       " 'RNF51',\n",
       " 'LY-75',\n",
       " 'RIF',\n",
       " 'HES1',\n",
       " 'RAR',\n",
       " 'CS1',\n",
       " 'TCEB3CL',\n",
       " 'RNH1',\n",
       " 'SIP-1',\n",
       " 'SPAR',\n",
       " 'MYPOP',\n",
       " 'MVCD7',\n",
       " 'NRP2',\n",
       " 'AS',\n",
       " 'TPP1',\n",
       " 'SEN2',\n",
       " 'CPX',\n",
       " 'ATG8',\n",
       " 'DSC2',\n",
       " 'PERRS',\n",
       " 'ECGF1',\n",
       " 'HMS',\n",
       " 'HK4',\n",
       " 'DFNB26',\n",
       " 'RDS',\n",
       " 'SKI',\n",
       " 'PI3K',\n",
       " 'TRL-AAG2-1',\n",
       " 'MED',\n",
       " 'C10ORF77',\n",
       " 'SYT14L',\n",
       " 'SEPT2',\n",
       " 'HYPP',\n",
       " 'ADR',\n",
       " 'TRI-AAT5-5',\n",
       " 'TN-C',\n",
       " 'CT58',\n",
       " 'P49',\n",
       " 'JDP1',\n",
       " 'IMP3',\n",
       " 'PKK',\n",
       " 'KRTAP4-7',\n",
       " 'BEX1',\n",
       " 'L11',\n",
       " 'FY',\n",
       " 'IMD28',\n",
       " 'LPD',\n",
       " 'OFD1P1',\n",
       " 'ATP5A1P9',\n",
       " 'TOP',\n",
       " 'SCAR3',\n",
       " 'TRY4',\n",
       " 'PI7',\n",
       " 'P35',\n",
       " 'BDK',\n",
       " 'MIP-1-BETA',\n",
       " 'SCT',\n",
       " 'GRTH',\n",
       " 'NBIA3',\n",
       " 'RIT1',\n",
       " 'DDC8',\n",
       " 'CT45A3',\n",
       " 'GABPB1',\n",
       " 'SXI1',\n",
       " 'OR19-7',\n",
       " 'PRAF1',\n",
       " 'HCG18',\n",
       " 'TCRG',\n",
       " 'CX59',\n",
       " 'MIG6',\n",
       " 'CAF1',\n",
       " 'MHAC',\n",
       " 'L14',\n",
       " 'IL-25',\n",
       " 'RPS17L2',\n",
       " 'USE1',\n",
       " 'MRP-L32',\n",
       " 'CT64',\n",
       " 'AK3L1',\n",
       " 'PHF2',\n",
       " 'RP8',\n",
       " 'TTD',\n",
       " 'MCAD',\n",
       " 'H4C5',\n",
       " 'PCP',\n",
       " 'SOF1',\n",
       " 'FBP2',\n",
       " 'HN1',\n",
       " 'GEMIN1',\n",
       " 'MSAP',\n",
       " 'TRY-GTA5-2',\n",
       " 'BB1',\n",
       " 'BD-4',\n",
       " 'PKR2',\n",
       " 'PRR4',\n",
       " 'LEU1',\n",
       " 'PIK3CD',\n",
       " 'NIRF',\n",
       " 'TCRAV4S1',\n",
       " 'S10',\n",
       " 'ED3',\n",
       " 'DOK1',\n",
       " 'AIDA',\n",
       " 'MGL',\n",
       " 'RBMY1D',\n",
       " 'HHM',\n",
       " 'FACL1',\n",
       " 'CCL',\n",
       " 'ANKRD33',\n",
       " 'TAL',\n",
       " 'RBM8B',\n",
       " 'JP1',\n",
       " 'NOTCH2NLA',\n",
       " 'CCR4',\n",
       " 'CLAN',\n",
       " 'H3F3AP1',\n",
       " 'TRR-ACG1-1',\n",
       " 'H4C12',\n",
       " 'KMS',\n",
       " 'DD',\n",
       " 'NOC4',\n",
       " 'APOBEC1L',\n",
       " 'EMILIN3',\n",
       " 'PIN1',\n",
       " 'U4',\n",
       " 'HEP',\n",
       " 'ARA',\n",
       " 'LD78',\n",
       " 'CHC',\n",
       " 'BHLHE42',\n",
       " 'COMT2',\n",
       " 'CTRP5',\n",
       " 'RP66',\n",
       " 'LINC00444',\n",
       " ...}"
      ]
     },
     "execution_count": 126,
     "metadata": {},
     "output_type": "execute_result"
    }
   ],
   "source": [
    "ambiguous_symbol_set"
   ]
  },
  {
   "cell_type": "markdown",
   "metadata": {},
   "source": [
    "### <a id='toc1_1_2_'></a>[Primary exploration of DGIdb gene content using collisions](#toc0_)"
   ]
  },
  {
   "cell_type": "markdown",
   "metadata": {},
   "source": [
    "#### <a id='toc1_1_2_1_'></a>[Load gene claim data from DGIdb](#toc0_)"
   ]
  },
  {
   "cell_type": "code",
   "execution_count": 127,
   "metadata": {},
   "outputs": [
    {
     "data": {
      "text/html": [
       "<div>\n",
       "<style scoped>\n",
       "    .dataframe tbody tr th:only-of-type {\n",
       "        vertical-align: middle;\n",
       "    }\n",
       "\n",
       "    .dataframe tbody tr th {\n",
       "        vertical-align: top;\n",
       "    }\n",
       "\n",
       "    .dataframe thead th {\n",
       "        text-align: right;\n",
       "    }\n",
       "</style>\n",
       "<table border=\"1\" class=\"dataframe\">\n",
       "  <thead>\n",
       "    <tr style=\"text-align: right;\">\n",
       "      <th></th>\n",
       "      <th>gene_claim_name</th>\n",
       "      <th>nomenclature</th>\n",
       "      <th>concept_id</th>\n",
       "      <th>gene_name</th>\n",
       "      <th>source_db_name</th>\n",
       "      <th>source_db_version</th>\n",
       "    </tr>\n",
       "  </thead>\n",
       "  <tbody>\n",
       "    <tr>\n",
       "      <th>0</th>\n",
       "      <td>NGFIBA</td>\n",
       "      <td>NCBI Gene Name</td>\n",
       "      <td>NaN</td>\n",
       "      <td>NaN</td>\n",
       "      <td>BaderLab</td>\n",
       "      <td>Feb-14</td>\n",
       "    </tr>\n",
       "    <tr>\n",
       "      <th>1</th>\n",
       "      <td>NGFIBB</td>\n",
       "      <td>NCBI Gene Name</td>\n",
       "      <td>NaN</td>\n",
       "      <td>NaN</td>\n",
       "      <td>BaderLab</td>\n",
       "      <td>Feb-14</td>\n",
       "    </tr>\n",
       "    <tr>\n",
       "      <th>2</th>\n",
       "      <td>DAX</td>\n",
       "      <td>NCBI Gene Name</td>\n",
       "      <td>NaN</td>\n",
       "      <td>NaN</td>\n",
       "      <td>BaderLab</td>\n",
       "      <td>Feb-14</td>\n",
       "    </tr>\n",
       "    <tr>\n",
       "      <th>3</th>\n",
       "      <td>REV-ERBA</td>\n",
       "      <td>NCBI Gene Name</td>\n",
       "      <td>NaN</td>\n",
       "      <td>NaN</td>\n",
       "      <td>BaderLab</td>\n",
       "      <td>Feb-14</td>\n",
       "    </tr>\n",
       "    <tr>\n",
       "      <th>4</th>\n",
       "      <td>COUP2</td>\n",
       "      <td>NCBI Gene Name</td>\n",
       "      <td>NaN</td>\n",
       "      <td>NaN</td>\n",
       "      <td>BaderLab</td>\n",
       "      <td>Feb-14</td>\n",
       "    </tr>\n",
       "    <tr>\n",
       "      <th>...</th>\n",
       "      <td>...</td>\n",
       "      <td>...</td>\n",
       "      <td>...</td>\n",
       "      <td>...</td>\n",
       "      <td>...</td>\n",
       "      <td>...</td>\n",
       "    </tr>\n",
       "    <tr>\n",
       "      <th>80229</th>\n",
       "      <td>KIT</td>\n",
       "      <td>Gene Symbol</td>\n",
       "      <td>hgnc:6342</td>\n",
       "      <td>KIT</td>\n",
       "      <td>Oncomine</td>\n",
       "      <td>v3</td>\n",
       "    </tr>\n",
       "    <tr>\n",
       "      <th>80230</th>\n",
       "      <td>HES1</td>\n",
       "      <td>Gene Name</td>\n",
       "      <td>hgnc:5192</td>\n",
       "      <td>HES1</td>\n",
       "      <td>NCI</td>\n",
       "      <td>14-Sep-17</td>\n",
       "    </tr>\n",
       "    <tr>\n",
       "      <th>80231</th>\n",
       "      <td>IRF1</td>\n",
       "      <td>Gene Symbol</td>\n",
       "      <td>hgnc:6116</td>\n",
       "      <td>IRF1</td>\n",
       "      <td>Tempus</td>\n",
       "      <td>11-Nov-18</td>\n",
       "    </tr>\n",
       "    <tr>\n",
       "      <th>80232</th>\n",
       "      <td>SHFM1</td>\n",
       "      <td>Gene Name</td>\n",
       "      <td>hgnc:10845</td>\n",
       "      <td>SEM1</td>\n",
       "      <td>DTC</td>\n",
       "      <td>9/2/20</td>\n",
       "    </tr>\n",
       "    <tr>\n",
       "      <th>80233</th>\n",
       "      <td>NEUROD1</td>\n",
       "      <td>Gene Name</td>\n",
       "      <td>hgnc:7762</td>\n",
       "      <td>NEUROD1</td>\n",
       "      <td>NCI</td>\n",
       "      <td>14-Sep-17</td>\n",
       "    </tr>\n",
       "  </tbody>\n",
       "</table>\n",
       "<p>80234 rows × 6 columns</p>\n",
       "</div>"
      ],
      "text/plain": [
       "      gene_claim_name    nomenclature  concept_id gene_name source_db_name  \\\n",
       "0              NGFIBA  NCBI Gene Name         NaN       NaN       BaderLab   \n",
       "1              NGFIBB  NCBI Gene Name         NaN       NaN       BaderLab   \n",
       "2                 DAX  NCBI Gene Name         NaN       NaN       BaderLab   \n",
       "3            REV-ERBA  NCBI Gene Name         NaN       NaN       BaderLab   \n",
       "4               COUP2  NCBI Gene Name         NaN       NaN       BaderLab   \n",
       "...               ...             ...         ...       ...            ...   \n",
       "80229             KIT     Gene Symbol   hgnc:6342       KIT       Oncomine   \n",
       "80230            HES1       Gene Name   hgnc:5192      HES1            NCI   \n",
       "80231            IRF1     Gene Symbol   hgnc:6116      IRF1         Tempus   \n",
       "80232           SHFM1       Gene Name  hgnc:10845      SEM1            DTC   \n",
       "80233         NEUROD1       Gene Name   hgnc:7762   NEUROD1            NCI   \n",
       "\n",
       "      source_db_version  \n",
       "0                Feb-14  \n",
       "1                Feb-14  \n",
       "2                Feb-14  \n",
       "3                Feb-14  \n",
       "4                Feb-14  \n",
       "...                 ...  \n",
       "80229                v3  \n",
       "80230         14-Sep-17  \n",
       "80231         11-Nov-18  \n",
       "80232            9/2/20  \n",
       "80233         14-Sep-17  \n",
       "\n",
       "[80234 rows x 6 columns]"
      ]
     },
     "execution_count": 127,
     "metadata": {},
     "output_type": "execute_result"
    }
   ],
   "source": [
    "dgidb_gene_df = pd.read_csv(\n",
    "    \"downloaded_files/dgidb_genes_JUNE.tsv\", sep=\"\\t\", na_values=[\"\", \"NULL\"], keep_default_na=False\n",
    ")\n",
    "dgidb_gene_df"
   ]
  },
  {
   "cell_type": "code",
   "execution_count": 128,
   "metadata": {},
   "outputs": [],
   "source": [
    "num_total_claims = len(dgidb_gene_df)"
   ]
  },
  {
   "cell_type": "code",
   "execution_count": 129,
   "metadata": {},
   "outputs": [
    {
     "data": {
      "text/html": [
       "<div>\n",
       "<style scoped>\n",
       "    .dataframe tbody tr th:only-of-type {\n",
       "        vertical-align: middle;\n",
       "    }\n",
       "\n",
       "    .dataframe tbody tr th {\n",
       "        vertical-align: top;\n",
       "    }\n",
       "\n",
       "    .dataframe thead th {\n",
       "        text-align: right;\n",
       "    }\n",
       "</style>\n",
       "<table border=\"1\" class=\"dataframe\">\n",
       "  <thead>\n",
       "    <tr style=\"text-align: right;\">\n",
       "      <th></th>\n",
       "      <th>gene_claim_name</th>\n",
       "      <th>nomenclature</th>\n",
       "      <th>concept_id</th>\n",
       "      <th>gene_name</th>\n",
       "      <th>source_db_name</th>\n",
       "      <th>source_db_version</th>\n",
       "    </tr>\n",
       "  </thead>\n",
       "  <tbody>\n",
       "    <tr>\n",
       "      <th>30772</th>\n",
       "      <td>HES1</td>\n",
       "      <td>Gene Symbol</td>\n",
       "      <td>hgnc:5192</td>\n",
       "      <td>HES1</td>\n",
       "      <td>Pharos</td>\n",
       "      <td>10-Apr-24</td>\n",
       "    </tr>\n",
       "    <tr>\n",
       "      <th>76844</th>\n",
       "      <td>HES1</td>\n",
       "      <td>Gene Symbol</td>\n",
       "      <td>hgnc:5192</td>\n",
       "      <td>HES1</td>\n",
       "      <td>HGNC</td>\n",
       "      <td>20240408</td>\n",
       "    </tr>\n",
       "    <tr>\n",
       "      <th>76845</th>\n",
       "      <td>HES1</td>\n",
       "      <td>Gene Symbol</td>\n",
       "      <td>hgnc:5192</td>\n",
       "      <td>HES1</td>\n",
       "      <td>NCBI</td>\n",
       "      <td>20240410</td>\n",
       "    </tr>\n",
       "    <tr>\n",
       "      <th>76846</th>\n",
       "      <td>HES1</td>\n",
       "      <td>Gene Symbol</td>\n",
       "      <td>hgnc:5192</td>\n",
       "      <td>HES1</td>\n",
       "      <td>Ensembl</td>\n",
       "      <td>111</td>\n",
       "    </tr>\n",
       "    <tr>\n",
       "      <th>80230</th>\n",
       "      <td>HES1</td>\n",
       "      <td>Gene Name</td>\n",
       "      <td>hgnc:5192</td>\n",
       "      <td>HES1</td>\n",
       "      <td>NCI</td>\n",
       "      <td>14-Sep-17</td>\n",
       "    </tr>\n",
       "  </tbody>\n",
       "</table>\n",
       "</div>"
      ],
      "text/plain": [
       "      gene_claim_name nomenclature concept_id gene_name source_db_name  \\\n",
       "30772            HES1  Gene Symbol  hgnc:5192      HES1         Pharos   \n",
       "76844            HES1  Gene Symbol  hgnc:5192      HES1           HGNC   \n",
       "76845            HES1  Gene Symbol  hgnc:5192      HES1           NCBI   \n",
       "76846            HES1  Gene Symbol  hgnc:5192      HES1        Ensembl   \n",
       "80230            HES1    Gene Name  hgnc:5192      HES1            NCI   \n",
       "\n",
       "      source_db_version  \n",
       "30772         10-Apr-24  \n",
       "76844          20240408  \n",
       "76845          20240410  \n",
       "76846               111  \n",
       "80230         14-Sep-17  "
      ]
     },
     "execution_count": 129,
     "metadata": {},
     "output_type": "execute_result"
    }
   ],
   "source": [
    "dgidb_gene_df.loc[dgidb_gene_df[\"gene_claim_name\"] == \"HES1\"]"
   ]
  },
  {
   "cell_type": "markdown",
   "metadata": {},
   "source": [
    "#### <a id='toc1_1_2_2_'></a>[How many claims are placed in a gene group with a different label?](#toc0_)"
   ]
  },
  {
   "cell_type": "code",
   "execution_count": 130,
   "metadata": {},
   "outputs": [
    {
     "data": {
      "text/html": [
       "<div>\n",
       "<style scoped>\n",
       "    .dataframe tbody tr th:only-of-type {\n",
       "        vertical-align: middle;\n",
       "    }\n",
       "\n",
       "    .dataframe tbody tr th {\n",
       "        vertical-align: top;\n",
       "    }\n",
       "\n",
       "    .dataframe thead th {\n",
       "        text-align: right;\n",
       "    }\n",
       "</style>\n",
       "<table border=\"1\" class=\"dataframe\">\n",
       "  <thead>\n",
       "    <tr style=\"text-align: right;\">\n",
       "      <th></th>\n",
       "      <th>gene_claim_name</th>\n",
       "      <th>nomenclature</th>\n",
       "      <th>concept_id</th>\n",
       "      <th>gene_name</th>\n",
       "      <th>source_db_name</th>\n",
       "      <th>source_db_version</th>\n",
       "    </tr>\n",
       "  </thead>\n",
       "  <tbody>\n",
       "    <tr>\n",
       "      <th>0</th>\n",
       "      <td>NGFIBA</td>\n",
       "      <td>NCBI Gene Name</td>\n",
       "      <td>NaN</td>\n",
       "      <td>NaN</td>\n",
       "      <td>BaderLab</td>\n",
       "      <td>Feb-14</td>\n",
       "    </tr>\n",
       "    <tr>\n",
       "      <th>1</th>\n",
       "      <td>NGFIBB</td>\n",
       "      <td>NCBI Gene Name</td>\n",
       "      <td>NaN</td>\n",
       "      <td>NaN</td>\n",
       "      <td>BaderLab</td>\n",
       "      <td>Feb-14</td>\n",
       "    </tr>\n",
       "    <tr>\n",
       "      <th>2</th>\n",
       "      <td>DAX</td>\n",
       "      <td>NCBI Gene Name</td>\n",
       "      <td>NaN</td>\n",
       "      <td>NaN</td>\n",
       "      <td>BaderLab</td>\n",
       "      <td>Feb-14</td>\n",
       "    </tr>\n",
       "    <tr>\n",
       "      <th>3</th>\n",
       "      <td>REV-ERBA</td>\n",
       "      <td>NCBI Gene Name</td>\n",
       "      <td>NaN</td>\n",
       "      <td>NaN</td>\n",
       "      <td>BaderLab</td>\n",
       "      <td>Feb-14</td>\n",
       "    </tr>\n",
       "    <tr>\n",
       "      <th>4</th>\n",
       "      <td>COUP2</td>\n",
       "      <td>NCBI Gene Name</td>\n",
       "      <td>NaN</td>\n",
       "      <td>NaN</td>\n",
       "      <td>BaderLab</td>\n",
       "      <td>Feb-14</td>\n",
       "    </tr>\n",
       "    <tr>\n",
       "      <th>...</th>\n",
       "      <td>...</td>\n",
       "      <td>...</td>\n",
       "      <td>...</td>\n",
       "      <td>...</td>\n",
       "      <td>...</td>\n",
       "      <td>...</td>\n",
       "    </tr>\n",
       "    <tr>\n",
       "      <th>79999</th>\n",
       "      <td>SEPT5</td>\n",
       "      <td>Gene Symbol</td>\n",
       "      <td>hgnc:9164</td>\n",
       "      <td>SEPTIN5</td>\n",
       "      <td>FoundationOneGenes</td>\n",
       "      <td>9/3/20</td>\n",
       "    </tr>\n",
       "    <tr>\n",
       "      <th>80014</th>\n",
       "      <td>ENSEMBL:ENSG00000185821</td>\n",
       "      <td>Ensembl Gene ID</td>\n",
       "      <td>hgnc:31305</td>\n",
       "      <td>OR6C76</td>\n",
       "      <td>RussLampel</td>\n",
       "      <td>26-Jul-11</td>\n",
       "    </tr>\n",
       "    <tr>\n",
       "      <th>80053</th>\n",
       "      <td>SEPT5</td>\n",
       "      <td>Gene Symbol</td>\n",
       "      <td>hgnc:9164</td>\n",
       "      <td>SEPTIN5</td>\n",
       "      <td>CarisMolecularIntelligence</td>\n",
       "      <td>9/4/20</td>\n",
       "    </tr>\n",
       "    <tr>\n",
       "      <th>80166</th>\n",
       "      <td>SEPT6</td>\n",
       "      <td>Gene Symbol</td>\n",
       "      <td>hgnc:15848</td>\n",
       "      <td>SEPTIN6</td>\n",
       "      <td>CarisMolecularIntelligence</td>\n",
       "      <td>9/4/20</td>\n",
       "    </tr>\n",
       "    <tr>\n",
       "      <th>80232</th>\n",
       "      <td>SHFM1</td>\n",
       "      <td>Gene Name</td>\n",
       "      <td>hgnc:10845</td>\n",
       "      <td>SEM1</td>\n",
       "      <td>DTC</td>\n",
       "      <td>9/2/20</td>\n",
       "    </tr>\n",
       "  </tbody>\n",
       "</table>\n",
       "<p>16052 rows × 6 columns</p>\n",
       "</div>"
      ],
      "text/plain": [
       "               gene_claim_name     nomenclature  concept_id gene_name  \\\n",
       "0                       NGFIBA   NCBI Gene Name         NaN       NaN   \n",
       "1                       NGFIBB   NCBI Gene Name         NaN       NaN   \n",
       "2                          DAX   NCBI Gene Name         NaN       NaN   \n",
       "3                     REV-ERBA   NCBI Gene Name         NaN       NaN   \n",
       "4                        COUP2   NCBI Gene Name         NaN       NaN   \n",
       "...                        ...              ...         ...       ...   \n",
       "79999                    SEPT5      Gene Symbol   hgnc:9164   SEPTIN5   \n",
       "80014  ENSEMBL:ENSG00000185821  Ensembl Gene ID  hgnc:31305    OR6C76   \n",
       "80053                    SEPT5      Gene Symbol   hgnc:9164   SEPTIN5   \n",
       "80166                    SEPT6      Gene Symbol  hgnc:15848   SEPTIN6   \n",
       "80232                    SHFM1        Gene Name  hgnc:10845      SEM1   \n",
       "\n",
       "                   source_db_name source_db_version  \n",
       "0                        BaderLab            Feb-14  \n",
       "1                        BaderLab            Feb-14  \n",
       "2                        BaderLab            Feb-14  \n",
       "3                        BaderLab            Feb-14  \n",
       "4                        BaderLab            Feb-14  \n",
       "...                           ...               ...  \n",
       "79999          FoundationOneGenes            9/3/20  \n",
       "80014                  RussLampel         26-Jul-11  \n",
       "80053  CarisMolecularIntelligence            9/4/20  \n",
       "80166  CarisMolecularIntelligence            9/4/20  \n",
       "80232                         DTC            9/2/20  \n",
       "\n",
       "[16052 rows x 6 columns]"
      ]
     },
     "execution_count": 130,
     "metadata": {},
     "output_type": "execute_result"
    }
   ],
   "source": [
    "dgidb_gene_df.query(\"gene_name != gene_claim_name\")"
   ]
  },
  {
   "cell_type": "markdown",
   "metadata": {},
   "source": [
    "#### <a id='toc1_1_2_3_'></a>[How many claims are not normalized?](#toc0_)"
   ]
  },
  {
   "cell_type": "markdown",
   "metadata": {},
   "source": [
    "claims without a symbol/name/identifier\n",
    " (there shouldn't be any hooray)"
   ]
  },
  {
   "cell_type": "code",
   "execution_count": 131,
   "metadata": {},
   "outputs": [
    {
     "data": {
      "text/html": [
       "<div>\n",
       "<style scoped>\n",
       "    .dataframe tbody tr th:only-of-type {\n",
       "        vertical-align: middle;\n",
       "    }\n",
       "\n",
       "    .dataframe tbody tr th {\n",
       "        vertical-align: top;\n",
       "    }\n",
       "\n",
       "    .dataframe thead th {\n",
       "        text-align: right;\n",
       "    }\n",
       "</style>\n",
       "<table border=\"1\" class=\"dataframe\">\n",
       "  <thead>\n",
       "    <tr style=\"text-align: right;\">\n",
       "      <th></th>\n",
       "      <th>gene_claim_name</th>\n",
       "      <th>nomenclature</th>\n",
       "      <th>concept_id</th>\n",
       "      <th>gene_name</th>\n",
       "      <th>source_db_name</th>\n",
       "      <th>source_db_version</th>\n",
       "    </tr>\n",
       "  </thead>\n",
       "  <tbody>\n",
       "  </tbody>\n",
       "</table>\n",
       "</div>"
      ],
      "text/plain": [
       "Empty DataFrame\n",
       "Columns: [gene_claim_name, nomenclature, concept_id, gene_name, source_db_name, source_db_version]\n",
       "Index: []"
      ]
     },
     "execution_count": 131,
     "metadata": {},
     "output_type": "execute_result"
    }
   ],
   "source": [
    "no_claim_symbols_df = dgidb_gene_df[dgidb_gene_df[\"gene_claim_name\"].isnull()]\n",
    "no_claim_symbols_df"
   ]
  },
  {
   "cell_type": "code",
   "execution_count": 132,
   "metadata": {},
   "outputs": [
    {
     "data": {
      "text/plain": [
       "2144"
      ]
     },
     "execution_count": 132,
     "metadata": {},
     "output_type": "execute_result"
    }
   ],
   "source": [
    "no_name_symbols_df = dgidb_gene_df[dgidb_gene_df[\"gene_name\"].isnull()]\n",
    "num_not_normalized_claims = len(no_name_symbols_df)\n",
    "num_not_normalized_claims"
   ]
  },
  {
   "cell_type": "code",
   "execution_count": 133,
   "metadata": {},
   "outputs": [],
   "source": [
    "num_normalized_claims = num_total_claims - num_not_normalized_claims"
   ]
  },
  {
   "cell_type": "markdown",
   "metadata": {},
   "source": [
    "#### <a id='toc1_1_2_4_'></a>[Create set of gene groups (gene_name) and gene claims (gene_claim_name)](#toc0_)"
   ]
  },
  {
   "cell_type": "code",
   "execution_count": 134,
   "metadata": {},
   "outputs": [
    {
     "data": {
      "text/plain": [
       "12001"
      ]
     },
     "execution_count": 134,
     "metadata": {},
     "output_type": "execute_result"
    }
   ],
   "source": [
    "dgidb_name_set = set(dgidb_gene_df[\"gene_name\"])\n",
    "len(dgidb_name_set)"
   ]
  },
  {
   "cell_type": "code",
   "execution_count": 135,
   "metadata": {},
   "outputs": [
    {
     "data": {
      "text/plain": [
       "26739"
      ]
     },
     "execution_count": 135,
     "metadata": {},
     "output_type": "execute_result"
    }
   ],
   "source": [
    "dgidb_gene_claim_name_set = set(dgidb_gene_df[\"gene_claim_name\"])\n",
    "len(dgidb_gene_claim_name_set)"
   ]
  },
  {
   "cell_type": "markdown",
   "metadata": {},
   "source": [
    "#### <a id='toc1_1_2_5_'></a>[Load HGNC, Ensembl (ENSG), and NCBI gene and alias sets](#toc0_)"
   ]
  },
  {
   "cell_type": "markdown",
   "metadata": {},
   "source": [
    "Input: mini_hgnc_df, mini_ensg_df, mini_ncbi_df (total_alias_gene_intersections.ipynb)"
   ]
  },
  {
   "cell_type": "markdown",
   "metadata": {},
   "source": [
    "Output: x_gene_symbol_set, x_alias_symbol_set where x is ncbi, ensg or ncbi"
   ]
  },
  {
   "cell_type": "code",
   "execution_count": 136,
   "metadata": {},
   "outputs": [],
   "source": [
    "mini_hgnc_df = pd.read_csv(\n",
    "    \"../created_files/mini_hgnc_df.csv\", na_values=[\"\", \"NULL\"], keep_default_na=False\n",
    ")"
   ]
  },
  {
   "cell_type": "code",
   "execution_count": 137,
   "metadata": {},
   "outputs": [],
   "source": [
    "mini_ensg_df = pd.read_csv(\n",
    "    \"../created_files/mini_ensg_df.csv\", na_values=[\"\", \"NULL\"], keep_default_na=False\n",
    ")"
   ]
  },
  {
   "cell_type": "code",
   "execution_count": 138,
   "metadata": {},
   "outputs": [],
   "source": [
    "mini_ncbi_df = pd.read_csv(\n",
    "    \"../created_files/mini_ncbi_df.csv\", na_values=[\"\", \"NULL\"], keep_default_na=False\n",
    ")"
   ]
  },
  {
   "cell_type": "code",
   "execution_count": 139,
   "metadata": {},
   "outputs": [
    {
     "data": {
      "text/plain": [
       "45646"
      ]
     },
     "execution_count": 139,
     "metadata": {},
     "output_type": "execute_result"
    }
   ],
   "source": [
    "hgnc_gene_symbol_set = set(mini_hgnc_df[\"gene_symbol\"])\n",
    "len(hgnc_gene_symbol_set)"
   ]
  },
  {
   "cell_type": "code",
   "execution_count": 140,
   "metadata": {},
   "outputs": [
    {
     "data": {
      "text/plain": [
       "41068"
      ]
     },
     "execution_count": 140,
     "metadata": {},
     "output_type": "execute_result"
    }
   ],
   "source": [
    "ensg_gene_symbol_set = set(mini_ensg_df[\"gene_symbol\"])\n",
    "len(ensg_gene_symbol_set)"
   ]
  },
  {
   "cell_type": "code",
   "execution_count": 141,
   "metadata": {},
   "outputs": [
    {
     "data": {
      "text/plain": [
       "193303"
      ]
     },
     "execution_count": 141,
     "metadata": {},
     "output_type": "execute_result"
    }
   ],
   "source": [
    "ncbi_gene_symbol_set = set(mini_ncbi_df[\"gene_symbol\"])\n",
    "len(ncbi_gene_symbol_set)"
   ]
  },
  {
   "cell_type": "code",
   "execution_count": 142,
   "metadata": {},
   "outputs": [
    {
     "data": {
      "text/plain": [
       "43187"
      ]
     },
     "execution_count": 142,
     "metadata": {},
     "output_type": "execute_result"
    }
   ],
   "source": [
    "hgnc_alias_symbol_set = set(mini_hgnc_df[\"alias_symbol\"])\n",
    "len(hgnc_alias_symbol_set)"
   ]
  },
  {
   "cell_type": "code",
   "execution_count": 143,
   "metadata": {},
   "outputs": [
    {
     "data": {
      "text/plain": [
       "55276"
      ]
     },
     "execution_count": 143,
     "metadata": {},
     "output_type": "execute_result"
    }
   ],
   "source": [
    "ensg_alias_symbol_set = set(mini_ensg_df[\"alias_symbol\"])\n",
    "len(ensg_alias_symbol_set)"
   ]
  },
  {
   "cell_type": "code",
   "execution_count": 144,
   "metadata": {},
   "outputs": [
    {
     "data": {
      "text/plain": [
       "69158"
      ]
     },
     "execution_count": 144,
     "metadata": {},
     "output_type": "execute_result"
    }
   ],
   "source": [
    "ncbi_alias_symbol_set = set(mini_ncbi_df[\"alias_symbol\"])\n",
    "len(ncbi_alias_symbol_set)"
   ]
  },
  {
   "cell_type": "markdown",
   "metadata": {},
   "source": [
    "#### <a id='toc1_1_2_6_'></a>[How many unique primary gene symbols are there b/w HGNC, Ensembl, and NCBI?](#toc0_)"
   ]
  },
  {
   "cell_type": "code",
   "execution_count": 145,
   "metadata": {},
   "outputs": [],
   "source": [
    "hgnc_ensg_gene_symbol_set = hgnc_gene_symbol_set.union(ensg_gene_symbol_set)"
   ]
  },
  {
   "cell_type": "code",
   "execution_count": 146,
   "metadata": {},
   "outputs": [
    {
     "data": {
      "text/plain": [
       "194866"
      ]
     },
     "execution_count": 146,
     "metadata": {},
     "output_type": "execute_result"
    }
   ],
   "source": [
    "hgnc_ensg_ncbi_gene_symbol_set = hgnc_ensg_gene_symbol_set.union(ncbi_gene_symbol_set)\n",
    "len(hgnc_ensg_ncbi_gene_symbol_set)"
   ]
  },
  {
   "cell_type": "markdown",
   "metadata": {},
   "source": [
    "#### <a id='toc1_1_2_7_'></a>[How many unique alias symbols are there b/w HGNC, Ensembl, and NCBI?](#toc0_)"
   ]
  },
  {
   "cell_type": "code",
   "execution_count": 147,
   "metadata": {},
   "outputs": [],
   "source": [
    "hgnc_ensg_alias_symbol_set = hgnc_alias_symbol_set.union(ensg_alias_symbol_set)"
   ]
  },
  {
   "cell_type": "code",
   "execution_count": 148,
   "metadata": {},
   "outputs": [
    {
     "data": {
      "text/plain": [
       "93036"
      ]
     },
     "execution_count": 148,
     "metadata": {},
     "output_type": "execute_result"
    }
   ],
   "source": [
    "hgnc_ensg_ncbi_alias_symbol_set = hgnc_ensg_alias_symbol_set.union(\n",
    "    ncbi_alias_symbol_set\n",
    ")\n",
    "len(hgnc_ensg_ncbi_alias_symbol_set)"
   ]
  },
  {
   "cell_type": "markdown",
   "metadata": {},
   "source": [
    "#### <a id='toc1_1_2_8_'></a>[How many unique group names are not primary gene symbols?](#toc0_)"
   ]
  },
  {
   "cell_type": "code",
   "execution_count": 149,
   "metadata": {},
   "outputs": [
    {
     "data": {
      "text/plain": [
       "298"
      ]
     },
     "execution_count": 149,
     "metadata": {},
     "output_type": "execute_result"
    }
   ],
   "source": [
    "name_ensg_notmatch = dgidb_name_set.difference(ensg_gene_symbol_set)\n",
    "len(name_ensg_notmatch)"
   ]
  },
  {
   "cell_type": "code",
   "execution_count": 150,
   "metadata": {},
   "outputs": [
    {
     "data": {
      "text/plain": [
       "25"
      ]
     },
     "execution_count": 150,
     "metadata": {},
     "output_type": "execute_result"
    }
   ],
   "source": [
    "name_hgnc_notmatch = dgidb_name_set.difference(hgnc_gene_symbol_set)\n",
    "len(name_hgnc_notmatch)"
   ]
  },
  {
   "cell_type": "code",
   "execution_count": 151,
   "metadata": {},
   "outputs": [
    {
     "data": {
      "text/plain": [
       "25"
      ]
     },
     "execution_count": 151,
     "metadata": {},
     "output_type": "execute_result"
    }
   ],
   "source": [
    "cleaned_name_hgnc_notmatch = [x for x in name_hgnc_notmatch if str(x) != \"NaN\"]\n",
    "len(cleaned_name_hgnc_notmatch)"
   ]
  },
  {
   "cell_type": "code",
   "execution_count": 152,
   "metadata": {},
   "outputs": [
    {
     "data": {
      "text/plain": [
       "97"
      ]
     },
     "execution_count": 152,
     "metadata": {},
     "output_type": "execute_result"
    }
   ],
   "source": [
    "name_ncbi_notmatch = dgidb_name_set.difference(ncbi_gene_symbol_set)\n",
    "len(name_ncbi_notmatch)"
   ]
  },
  {
   "cell_type": "code",
   "execution_count": 153,
   "metadata": {},
   "outputs": [
    {
     "data": {
      "text/plain": [
       "9"
      ]
     },
     "execution_count": 153,
     "metadata": {},
     "output_type": "execute_result"
    }
   ],
   "source": [
    "name_ncbi_hgnc_notmatch = name_ncbi_notmatch.difference(hgnc_gene_symbol_set)\n",
    "len(name_ncbi_hgnc_notmatch)"
   ]
  },
  {
   "cell_type": "markdown",
   "metadata": {},
   "source": [
    "How many groups are labeled with a symbol not found in the sets of primary symbols from HGNC, NCBI, or ENSG?"
   ]
  },
  {
   "cell_type": "code",
   "execution_count": 154,
   "metadata": {},
   "outputs": [
    {
     "data": {
      "text/plain": [
       "8"
      ]
     },
     "execution_count": 154,
     "metadata": {},
     "output_type": "execute_result"
    }
   ],
   "source": [
    "name_ncbi_hgnc_ensg_notmatch = name_ncbi_hgnc_notmatch.difference(ensg_gene_symbol_set)\n",
    "len(name_ncbi_hgnc_ensg_notmatch)"
   ]
  },
  {
   "cell_type": "code",
   "execution_count": 155,
   "metadata": {},
   "outputs": [
    {
     "data": {
      "text/plain": [
       "{'ACT', 'ATP5A2', 'BTNL1', 'CYB5P1', 'GAPDHL17', 'OA1', 'USP17L', 'mCR'}"
      ]
     },
     "execution_count": 155,
     "metadata": {},
     "output_type": "execute_result"
    }
   ],
   "source": [
    "name_ncbi_hgnc_ensg_notmatch"
   ]
  },
  {
   "cell_type": "code",
   "execution_count": 156,
   "metadata": {},
   "outputs": [
    {
     "data": {
      "text/plain": [
       "12001"
      ]
     },
     "execution_count": 156,
     "metadata": {},
     "output_type": "execute_result"
    }
   ],
   "source": [
    "len(dgidb_name_set)"
   ]
  },
  {
   "cell_type": "markdown",
   "metadata": {},
   "source": [
    "#### <a id='toc1_1_2_9_'></a>[How many unique claims are not primary gene symbols?](#toc0_)"
   ]
  },
  {
   "cell_type": "code",
   "execution_count": 157,
   "metadata": {},
   "outputs": [
    {
     "data": {
      "text/plain": [
       "15029"
      ]
     },
     "execution_count": 157,
     "metadata": {},
     "output_type": "execute_result"
    }
   ],
   "source": [
    "gene_claim_name_ensg_notmatch = dgidb_gene_claim_name_set.difference(\n",
    "    ensg_gene_symbol_set\n",
    ")\n",
    "len(gene_claim_name_ensg_notmatch)"
   ]
  },
  {
   "cell_type": "code",
   "execution_count": 158,
   "metadata": {},
   "outputs": [
    {
     "data": {
      "text/plain": [
       "15029"
      ]
     },
     "execution_count": 158,
     "metadata": {},
     "output_type": "execute_result"
    }
   ],
   "source": [
    "cleaned_gene_claim_name_ensg_notmatch = [\n",
    "    x for x in gene_claim_name_ensg_notmatch if str(x) != \"NaN\"\n",
    "]\n",
    "len(cleaned_gene_claim_name_ensg_notmatch)"
   ]
  },
  {
   "cell_type": "code",
   "execution_count": 159,
   "metadata": {},
   "outputs": [
    {
     "data": {
      "text/plain": [
       "14755"
      ]
     },
     "execution_count": 159,
     "metadata": {},
     "output_type": "execute_result"
    }
   ],
   "source": [
    "gene_claim_name_hgnc_notmatch = dgidb_gene_claim_name_set.difference(\n",
    "    hgnc_gene_symbol_set\n",
    ")\n",
    "len(gene_claim_name_hgnc_notmatch)"
   ]
  },
  {
   "cell_type": "code",
   "execution_count": 160,
   "metadata": {},
   "outputs": [
    {
     "data": {
      "text/plain": [
       "14828"
      ]
     },
     "execution_count": 160,
     "metadata": {},
     "output_type": "execute_result"
    }
   ],
   "source": [
    "gene_claim_name_ncbi_notmatch = dgidb_gene_claim_name_set.difference(\n",
    "    ncbi_gene_symbol_set\n",
    ")\n",
    "len(gene_claim_name_ncbi_notmatch)"
   ]
  },
  {
   "cell_type": "code",
   "execution_count": 161,
   "metadata": {},
   "outputs": [
    {
     "data": {
      "text/plain": [
       "14738"
      ]
     },
     "execution_count": 161,
     "metadata": {},
     "output_type": "execute_result"
    }
   ],
   "source": [
    "gene_claim_name_ncbi_hngc_notmatch = gene_claim_name_ncbi_notmatch.difference(\n",
    "    hgnc_gene_symbol_set\n",
    ")\n",
    "len(gene_claim_name_ncbi_hngc_notmatch)"
   ]
  },
  {
   "cell_type": "markdown",
   "metadata": {},
   "source": [
    "How many unique claims are not primary symbols"
   ]
  },
  {
   "cell_type": "code",
   "execution_count": 162,
   "metadata": {},
   "outputs": [
    {
     "data": {
      "text/plain": [
       "14735"
      ]
     },
     "execution_count": 162,
     "metadata": {},
     "output_type": "execute_result"
    }
   ],
   "source": [
    "gene_claim_name_ncbi_hngc_ensg_notmatch = gene_claim_name_ncbi_hngc_notmatch.difference(\n",
    "    ensg_gene_symbol_set\n",
    ")\n",
    "num_not_primary_claims = len(gene_claim_name_ncbi_hngc_ensg_notmatch)\n",
    "num_not_primary_claims"
   ]
  },
  {
   "cell_type": "markdown",
   "metadata": {},
   "source": [
    "#### <a id='toc1_1_2_10_'></a>[Load the collision sets from each data source](#toc0_)"
   ]
  },
  {
   "cell_type": "markdown",
   "metadata": {},
   "source": [
    "Input: aa_collision_x_df.csv (total_alis_overlap.ipynb)"
   ]
  },
  {
   "cell_type": "markdown",
   "metadata": {},
   "source": [
    "Output: x_alias_alias_collision_set"
   ]
  },
  {
   "cell_type": "code",
   "execution_count": 163,
   "metadata": {},
   "outputs": [],
   "source": [
    "aa_collision_hgnc_df = pd.read_csv(\n",
    "    \"../created_files/aa_collision_HGNC_count_df.csv\",\n",
    "    na_values=[\"\", \"NULL\"],\n",
    "    keep_default_na=False,\n",
    ")"
   ]
  },
  {
   "cell_type": "code",
   "execution_count": 164,
   "metadata": {},
   "outputs": [
    {
     "data": {
      "text/plain": [
       "1250"
      ]
     },
     "execution_count": 164,
     "metadata": {},
     "output_type": "execute_result"
    }
   ],
   "source": [
    "hgnc_alias_alias_collision_set = set(aa_collision_hgnc_df[\"collision\"])\n",
    "len(hgnc_alias_alias_collision_set)"
   ]
  },
  {
   "cell_type": "code",
   "execution_count": 165,
   "metadata": {},
   "outputs": [],
   "source": [
    "aa_collision_ncbi_df = pd.read_csv(\n",
    "    \"../created_files/aa_collision_NCBI_count_df.csv\",\n",
    "    na_values=[\"\", \"NULL\"],\n",
    "    keep_default_na=False,\n",
    ")"
   ]
  },
  {
   "cell_type": "code",
   "execution_count": 166,
   "metadata": {},
   "outputs": [
    {
     "data": {
      "text/plain": [
       "3711"
      ]
     },
     "execution_count": 166,
     "metadata": {},
     "output_type": "execute_result"
    }
   ],
   "source": [
    "ncbi_alias_alias_collision_set = set(aa_collision_ncbi_df[\"collision\"])\n",
    "len(ncbi_alias_alias_collision_set)"
   ]
  },
  {
   "cell_type": "code",
   "execution_count": 167,
   "metadata": {},
   "outputs": [],
   "source": [
    "aa_collision_ensg_df = pd.read_csv(\n",
    "    \"../created_files/aa_collision_ENSG_count_df.csv\",\n",
    "    na_values=[\"\", \"NULL\"],\n",
    "    keep_default_na=False,\n",
    ")"
   ]
  },
  {
   "cell_type": "code",
   "execution_count": 168,
   "metadata": {},
   "outputs": [
    {
     "data": {
      "text/plain": [
       "1617"
      ]
     },
     "execution_count": 168,
     "metadata": {},
     "output_type": "execute_result"
    }
   ],
   "source": [
    "ensg_alias_alias_collision_set = set(aa_collision_ensg_df[\"collision\"])\n",
    "len(ensg_alias_alias_collision_set)"
   ]
  },
  {
   "cell_type": "markdown",
   "metadata": {},
   "source": [
    "#### <a id='toc1_1_2_11_'></a>[How many unique group names are primary gene symbols?](#toc0_)"
   ]
  },
  {
   "cell_type": "code",
   "execution_count": 169,
   "metadata": {},
   "outputs": [
    {
     "data": {
      "text/plain": [
       "11976"
      ]
     },
     "execution_count": 169,
     "metadata": {},
     "output_type": "execute_result"
    }
   ],
   "source": [
    "name_hgnc_match = dgidb_name_set.intersection(hgnc_gene_symbol_set)\n",
    "len(name_hgnc_match)"
   ]
  },
  {
   "cell_type": "code",
   "execution_count": 170,
   "metadata": {},
   "outputs": [
    {
     "data": {
      "text/plain": [
       "11703"
      ]
     },
     "execution_count": 170,
     "metadata": {},
     "output_type": "execute_result"
    }
   ],
   "source": [
    "name_ensg_match = dgidb_name_set.intersection(ensg_gene_symbol_set)\n",
    "len(name_ensg_match)"
   ]
  },
  {
   "cell_type": "code",
   "execution_count": 171,
   "metadata": {},
   "outputs": [
    {
     "data": {
      "text/plain": [
       "11904"
      ]
     },
     "execution_count": 171,
     "metadata": {},
     "output_type": "execute_result"
    }
   ],
   "source": [
    "name_ncbi_match = dgidb_name_set.intersection(ncbi_gene_symbol_set)\n",
    "len(name_ncbi_match)"
   ]
  },
  {
   "cell_type": "code",
   "execution_count": 172,
   "metadata": {},
   "outputs": [
    {
     "data": {
      "text/plain": [
       "11685"
      ]
     },
     "execution_count": 172,
     "metadata": {},
     "output_type": "execute_result"
    }
   ],
   "source": [
    "name_ncbi_ensg_match = name_ncbi_match.intersection(ensg_gene_symbol_set)\n",
    "len(name_ncbi_ensg_match)"
   ]
  },
  {
   "cell_type": "code",
   "execution_count": 173,
   "metadata": {},
   "outputs": [
    {
     "data": {
      "text/plain": [
       "11684"
      ]
     },
     "execution_count": 173,
     "metadata": {},
     "output_type": "execute_result"
    }
   ],
   "source": [
    "name_ncbi_ensg_hgnc_match = name_ncbi_ensg_match.intersection(hgnc_gene_symbol_set)\n",
    "len(name_ncbi_ensg_hgnc_match)"
   ]
  },
  {
   "cell_type": "markdown",
   "metadata": {},
   "source": [
    "#### <a id='toc1_1_2_12_'></a>[How many of the groups that are labeled with a primary gene symbol are also alias-alias collisions?](#toc0_)"
   ]
  },
  {
   "cell_type": "code",
   "execution_count": 174,
   "metadata": {},
   "outputs": [
    {
     "data": {
      "text/plain": [
       "136"
      ]
     },
     "execution_count": 174,
     "metadata": {},
     "output_type": "execute_result"
    }
   ],
   "source": [
    "name_ncbi_match_aacollision = name_ncbi_match.intersection(\n",
    "    ncbi_alias_alias_collision_set\n",
    ")\n",
    "len(name_ncbi_match_aacollision)"
   ]
  },
  {
   "cell_type": "code",
   "execution_count": 175,
   "metadata": {},
   "outputs": [
    {
     "data": {
      "text/plain": [
       "42"
      ]
     },
     "execution_count": 175,
     "metadata": {},
     "output_type": "execute_result"
    }
   ],
   "source": [
    "name_ensg_match_aacollision = name_ensg_match.intersection(\n",
    "    ensg_alias_alias_collision_set\n",
    ")\n",
    "len(name_ensg_match_aacollision)"
   ]
  },
  {
   "cell_type": "code",
   "execution_count": 176,
   "metadata": {},
   "outputs": [
    {
     "data": {
      "text/plain": [
       "3"
      ]
     },
     "execution_count": 176,
     "metadata": {},
     "output_type": "execute_result"
    }
   ],
   "source": [
    "name_ensg_notmatch_aacollision = name_ensg_notmatch.intersection(\n",
    "    ensg_alias_alias_collision_set\n",
    ")\n",
    "len(name_ensg_notmatch_aacollision)"
   ]
  },
  {
   "cell_type": "markdown",
   "metadata": {},
   "source": [
    "#### <a id='toc1_1_2_13_'></a>[How many unique claim symbols are collisions?](#toc0_)"
   ]
  },
  {
   "cell_type": "code",
   "execution_count": 177,
   "metadata": {},
   "outputs": [
    {
     "data": {
      "text/plain": [
       "98"
      ]
     },
     "execution_count": 177,
     "metadata": {},
     "output_type": "execute_result"
    }
   ],
   "source": [
    "gene_claim_name_ensg_aacollision_match = dgidb_gene_claim_name_set.intersection(\n",
    "    ensg_alias_alias_collision_set\n",
    ")\n",
    "len(gene_claim_name_ensg_aacollision_match)"
   ]
  },
  {
   "cell_type": "code",
   "execution_count": 178,
   "metadata": {},
   "outputs": [
    {
     "data": {
      "text/plain": [
       "77"
      ]
     },
     "execution_count": 178,
     "metadata": {},
     "output_type": "execute_result"
    }
   ],
   "source": [
    "gene_claim_name_hgnc_aacollision_match = dgidb_gene_claim_name_set.intersection(\n",
    "    hgnc_alias_alias_collision_set\n",
    ")\n",
    "len(gene_claim_name_hgnc_aacollision_match)"
   ]
  },
  {
   "cell_type": "code",
   "execution_count": 179,
   "metadata": {},
   "outputs": [
    {
     "data": {
      "text/plain": [
       "240"
      ]
     },
     "execution_count": 179,
     "metadata": {},
     "output_type": "execute_result"
    }
   ],
   "source": [
    "gene_claim_name_ncbi_aacollision_match = dgidb_gene_claim_name_set.intersection(\n",
    "    ncbi_alias_alias_collision_set\n",
    ")\n",
    "len(gene_claim_name_ncbi_aacollision_match)"
   ]
  },
  {
   "cell_type": "markdown",
   "metadata": {},
   "source": [
    "#### <a id='toc1_1_2_14_'></a>[How many unique groups are labeled with collisions?](#toc0_)"
   ]
  },
  {
   "cell_type": "code",
   "execution_count": 180,
   "metadata": {},
   "outputs": [
    {
     "data": {
      "text/plain": [
       "45"
      ]
     },
     "execution_count": 180,
     "metadata": {},
     "output_type": "execute_result"
    }
   ],
   "source": [
    "name_ensg_aacollision_match = dgidb_name_set.intersection(\n",
    "    ensg_alias_alias_collision_set\n",
    ")\n",
    "len(name_ensg_aacollision_match)"
   ]
  },
  {
   "cell_type": "code",
   "execution_count": 181,
   "metadata": {},
   "outputs": [
    {
     "data": {
      "text/plain": [
       "42"
      ]
     },
     "execution_count": 181,
     "metadata": {},
     "output_type": "execute_result"
    }
   ],
   "source": [
    "name_hgnc_aacollision_match = dgidb_name_set.intersection(\n",
    "    hgnc_alias_alias_collision_set\n",
    ")\n",
    "len(name_hgnc_aacollision_match)"
   ]
  },
  {
   "cell_type": "code",
   "execution_count": 182,
   "metadata": {},
   "outputs": [
    {
     "data": {
      "text/plain": [
       "138"
      ]
     },
     "execution_count": 182,
     "metadata": {},
     "output_type": "execute_result"
    }
   ],
   "source": [
    "name_ncbi_aacollision_match = dgidb_name_set.intersection(\n",
    "    ncbi_alias_alias_collision_set\n",
    ")\n",
    "len(name_ncbi_aacollision_match)"
   ]
  },
  {
   "cell_type": "markdown",
   "metadata": {},
   "source": [
    "#### <a id='toc1_1_2_15_'></a>[How many unique claims are not primary gene symbols?](#toc0_)"
   ]
  },
  {
   "cell_type": "code",
   "execution_count": 183,
   "metadata": {},
   "outputs": [
    {
     "data": {
      "text/plain": [
       "14755"
      ]
     },
     "execution_count": 183,
     "metadata": {},
     "output_type": "execute_result"
    }
   ],
   "source": [
    "gene_claim_name_hgnc_notmatch = dgidb_gene_claim_name_set.difference(\n",
    "    hgnc_gene_symbol_set\n",
    ")\n",
    "len(gene_claim_name_hgnc_notmatch)"
   ]
  },
  {
   "cell_type": "code",
   "execution_count": 184,
   "metadata": {},
   "outputs": [
    {
     "data": {
      "text/plain": [
       "15029"
      ]
     },
     "execution_count": 184,
     "metadata": {},
     "output_type": "execute_result"
    }
   ],
   "source": [
    "gene_claim_name_ensg_notmatch = dgidb_gene_claim_name_set.difference(\n",
    "    ensg_gene_symbol_set\n",
    ")\n",
    "len(gene_claim_name_ensg_notmatch)"
   ]
  },
  {
   "cell_type": "code",
   "execution_count": 185,
   "metadata": {},
   "outputs": [
    {
     "data": {
      "text/plain": [
       "14828"
      ]
     },
     "execution_count": 185,
     "metadata": {},
     "output_type": "execute_result"
    }
   ],
   "source": [
    "gene_claim_name_ncbi_notmatch = dgidb_gene_claim_name_set.difference(\n",
    "    ncbi_gene_symbol_set\n",
    ")\n",
    "len(gene_claim_name_ncbi_notmatch)"
   ]
  },
  {
   "cell_type": "markdown",
   "metadata": {},
   "source": [
    "#### <a id='toc1_1_2_16_'></a>[How many unique claims that were not primary symbols are collisions?](#toc0_)"
   ]
  },
  {
   "cell_type": "code",
   "execution_count": 186,
   "metadata": {},
   "outputs": [
    {
     "data": {
      "text/plain": [
       "36"
      ]
     },
     "execution_count": 186,
     "metadata": {},
     "output_type": "execute_result"
    }
   ],
   "source": [
    "gene_claim_name_hgnc_notmatch_aacollision = gene_claim_name_hgnc_notmatch.intersection(\n",
    "    hgnc_alias_alias_collision_set\n",
    ")\n",
    "len(gene_claim_name_hgnc_notmatch_aacollision)"
   ]
  },
  {
   "cell_type": "code",
   "execution_count": 187,
   "metadata": {},
   "outputs": [
    {
     "data": {
      "text/plain": [
       "104"
      ]
     },
     "execution_count": 187,
     "metadata": {},
     "output_type": "execute_result"
    }
   ],
   "source": [
    "gene_claim_name_ncbi_notmatch_aacollision = gene_claim_name_ncbi_notmatch.intersection(\n",
    "    ncbi_alias_alias_collision_set\n",
    ")\n",
    "len(gene_claim_name_ncbi_notmatch_aacollision)"
   ]
  },
  {
   "cell_type": "code",
   "execution_count": 188,
   "metadata": {},
   "outputs": [
    {
     "data": {
      "text/plain": [
       "56"
      ]
     },
     "execution_count": 188,
     "metadata": {},
     "output_type": "execute_result"
    }
   ],
   "source": [
    "gene_claim_name_ensg_notmatch_aacollision = gene_claim_name_ensg_notmatch.intersection(\n",
    "    ensg_alias_alias_collision_set\n",
    ")\n",
    "len(gene_claim_name_ensg_notmatch_aacollision)"
   ]
  },
  {
   "cell_type": "markdown",
   "metadata": {},
   "source": [
    "#### <a id='toc1_1_2_17_'></a>[How many unique claims that are primary gene symbols are also collisions?](#toc0_)"
   ]
  },
  {
   "cell_type": "code",
   "execution_count": 189,
   "metadata": {},
   "outputs": [
    {
     "data": {
      "text/plain": [
       "11984"
      ]
     },
     "execution_count": 189,
     "metadata": {},
     "output_type": "execute_result"
    }
   ],
   "source": [
    "gene_claim_name_hgnc_match = dgidb_gene_claim_name_set.intersection(\n",
    "    hgnc_gene_symbol_set\n",
    ")\n",
    "len(gene_claim_name_hgnc_match)"
   ]
  },
  {
   "cell_type": "code",
   "execution_count": 190,
   "metadata": {},
   "outputs": [
    {
     "data": {
      "text/plain": [
       "41"
      ]
     },
     "execution_count": 190,
     "metadata": {},
     "output_type": "execute_result"
    }
   ],
   "source": [
    "gene_claim_name_hgnc_match_aacollision = gene_claim_name_hgnc_match.intersection(\n",
    "    hgnc_alias_alias_collision_set\n",
    ")\n",
    "len(gene_claim_name_hgnc_match_aacollision)"
   ]
  },
  {
   "cell_type": "code",
   "execution_count": 191,
   "metadata": {},
   "outputs": [
    {
     "data": {
      "text/plain": [
       "11911"
      ]
     },
     "execution_count": 191,
     "metadata": {},
     "output_type": "execute_result"
    }
   ],
   "source": [
    "gene_claim_name_ncbi_match = dgidb_gene_claim_name_set.intersection(\n",
    "    ncbi_gene_symbol_set\n",
    ")\n",
    "len(gene_claim_name_ncbi_match)"
   ]
  },
  {
   "cell_type": "code",
   "execution_count": 192,
   "metadata": {},
   "outputs": [
    {
     "data": {
      "text/plain": [
       "136"
      ]
     },
     "execution_count": 192,
     "metadata": {},
     "output_type": "execute_result"
    }
   ],
   "source": [
    "gene_claim_name_ncbi_match_aacollision = gene_claim_name_ncbi_match.intersection(\n",
    "    ncbi_alias_alias_collision_set\n",
    ")\n",
    "len(gene_claim_name_ncbi_match_aacollision)"
   ]
  },
  {
   "cell_type": "code",
   "execution_count": 193,
   "metadata": {},
   "outputs": [
    {
     "data": {
      "text/plain": [
       "11710"
      ]
     },
     "execution_count": 193,
     "metadata": {},
     "output_type": "execute_result"
    }
   ],
   "source": [
    "gene_claim_name_ensg_match = dgidb_gene_claim_name_set.intersection(\n",
    "    ensg_gene_symbol_set\n",
    ")\n",
    "len(gene_claim_name_ensg_match)"
   ]
  },
  {
   "cell_type": "code",
   "execution_count": 194,
   "metadata": {},
   "outputs": [
    {
     "data": {
      "text/plain": [
       "42"
      ]
     },
     "execution_count": 194,
     "metadata": {},
     "output_type": "execute_result"
    }
   ],
   "source": [
    "gene_claim_name_ensg_match_aacollision = gene_claim_name_ensg_match.intersection(\n",
    "    ensg_alias_alias_collision_set\n",
    ")\n",
    "len(gene_claim_name_ensg_match_aacollision)"
   ]
  },
  {
   "cell_type": "markdown",
   "metadata": {},
   "source": [
    "#### <a id='toc1_1_2_18_'></a>[How many of the gene groups that are not primary gene symbols are alias-alias collisions from HGNC?](#toc0_)"
   ]
  },
  {
   "cell_type": "code",
   "execution_count": 195,
   "metadata": {},
   "outputs": [
    {
     "data": {
      "text/plain": [
       "1"
      ]
     },
     "execution_count": 195,
     "metadata": {},
     "output_type": "execute_result"
    }
   ],
   "source": [
    "name_hngc_notmatch_aacollision = name_hgnc_notmatch.intersection(\n",
    "    hgnc_alias_alias_collision_set\n",
    ")\n",
    "len(name_hngc_notmatch_aacollision)"
   ]
  },
  {
   "cell_type": "code",
   "execution_count": 196,
   "metadata": {},
   "outputs": [
    {
     "data": {
      "text/plain": [
       "2"
      ]
     },
     "execution_count": 196,
     "metadata": {},
     "output_type": "execute_result"
    }
   ],
   "source": [
    "name_ncbi_notmatch_aacollision = name_ncbi_notmatch.intersection(\n",
    "    ncbi_alias_alias_collision_set\n",
    ")\n",
    "len(name_ncbi_notmatch_aacollision)"
   ]
  },
  {
   "cell_type": "code",
   "execution_count": 197,
   "metadata": {},
   "outputs": [
    {
     "data": {
      "text/plain": [
       "3"
      ]
     },
     "execution_count": 197,
     "metadata": {},
     "output_type": "execute_result"
    }
   ],
   "source": [
    "name_ensg_notmatch_aacollision = name_ensg_notmatch.intersection(\n",
    "    ensg_alias_alias_collision_set\n",
    ")\n",
    "len(name_ensg_notmatch_aacollision)"
   ]
  },
  {
   "cell_type": "markdown",
   "metadata": {},
   "source": [
    "#### <a id='toc1_1_2_19_'></a>[How many claims are ambiguous symbols?](#toc0_)"
   ]
  },
  {
   "cell_type": "code",
   "execution_count": 198,
   "metadata": {},
   "outputs": [
    {
     "data": {
      "text/html": [
       "<div>\n",
       "<style scoped>\n",
       "    .dataframe tbody tr th:only-of-type {\n",
       "        vertical-align: middle;\n",
       "    }\n",
       "\n",
       "    .dataframe tbody tr th {\n",
       "        vertical-align: top;\n",
       "    }\n",
       "\n",
       "    .dataframe thead th {\n",
       "        text-align: right;\n",
       "    }\n",
       "</style>\n",
       "<table border=\"1\" class=\"dataframe\">\n",
       "  <thead>\n",
       "    <tr style=\"text-align: right;\">\n",
       "      <th></th>\n",
       "      <th>gene_claim_name</th>\n",
       "      <th>nomenclature</th>\n",
       "      <th>concept_id</th>\n",
       "      <th>gene_name</th>\n",
       "      <th>source_db_name</th>\n",
       "      <th>source_db_version</th>\n",
       "      <th>claim_ambiguous_status</th>\n",
       "    </tr>\n",
       "  </thead>\n",
       "  <tbody>\n",
       "    <tr>\n",
       "      <th>0</th>\n",
       "      <td>NGFIBA</td>\n",
       "      <td>NCBI Gene Name</td>\n",
       "      <td>NaN</td>\n",
       "      <td>NaN</td>\n",
       "      <td>BaderLab</td>\n",
       "      <td>Feb-14</td>\n",
       "      <td>False</td>\n",
       "    </tr>\n",
       "    <tr>\n",
       "      <th>1</th>\n",
       "      <td>NGFIBB</td>\n",
       "      <td>NCBI Gene Name</td>\n",
       "      <td>NaN</td>\n",
       "      <td>NaN</td>\n",
       "      <td>BaderLab</td>\n",
       "      <td>Feb-14</td>\n",
       "      <td>False</td>\n",
       "    </tr>\n",
       "    <tr>\n",
       "      <th>2</th>\n",
       "      <td>DAX</td>\n",
       "      <td>NCBI Gene Name</td>\n",
       "      <td>NaN</td>\n",
       "      <td>NaN</td>\n",
       "      <td>BaderLab</td>\n",
       "      <td>Feb-14</td>\n",
       "      <td>False</td>\n",
       "    </tr>\n",
       "    <tr>\n",
       "      <th>3</th>\n",
       "      <td>REV-ERBA</td>\n",
       "      <td>NCBI Gene Name</td>\n",
       "      <td>NaN</td>\n",
       "      <td>NaN</td>\n",
       "      <td>BaderLab</td>\n",
       "      <td>Feb-14</td>\n",
       "      <td>False</td>\n",
       "    </tr>\n",
       "    <tr>\n",
       "      <th>4</th>\n",
       "      <td>COUP2</td>\n",
       "      <td>NCBI Gene Name</td>\n",
       "      <td>NaN</td>\n",
       "      <td>NaN</td>\n",
       "      <td>BaderLab</td>\n",
       "      <td>Feb-14</td>\n",
       "      <td>False</td>\n",
       "    </tr>\n",
       "    <tr>\n",
       "      <th>...</th>\n",
       "      <td>...</td>\n",
       "      <td>...</td>\n",
       "      <td>...</td>\n",
       "      <td>...</td>\n",
       "      <td>...</td>\n",
       "      <td>...</td>\n",
       "      <td>...</td>\n",
       "    </tr>\n",
       "    <tr>\n",
       "      <th>80229</th>\n",
       "      <td>KIT</td>\n",
       "      <td>Gene Symbol</td>\n",
       "      <td>hgnc:6342</td>\n",
       "      <td>KIT</td>\n",
       "      <td>Oncomine</td>\n",
       "      <td>v3</td>\n",
       "      <td>False</td>\n",
       "    </tr>\n",
       "    <tr>\n",
       "      <th>80230</th>\n",
       "      <td>HES1</td>\n",
       "      <td>Gene Name</td>\n",
       "      <td>hgnc:5192</td>\n",
       "      <td>HES1</td>\n",
       "      <td>NCI</td>\n",
       "      <td>14-Sep-17</td>\n",
       "      <td>True</td>\n",
       "    </tr>\n",
       "    <tr>\n",
       "      <th>80231</th>\n",
       "      <td>IRF1</td>\n",
       "      <td>Gene Symbol</td>\n",
       "      <td>hgnc:6116</td>\n",
       "      <td>IRF1</td>\n",
       "      <td>Tempus</td>\n",
       "      <td>11-Nov-18</td>\n",
       "      <td>False</td>\n",
       "    </tr>\n",
       "    <tr>\n",
       "      <th>80232</th>\n",
       "      <td>SHFM1</td>\n",
       "      <td>Gene Name</td>\n",
       "      <td>hgnc:10845</td>\n",
       "      <td>SEM1</td>\n",
       "      <td>DTC</td>\n",
       "      <td>9/2/20</td>\n",
       "      <td>True</td>\n",
       "    </tr>\n",
       "    <tr>\n",
       "      <th>80233</th>\n",
       "      <td>NEUROD1</td>\n",
       "      <td>Gene Name</td>\n",
       "      <td>hgnc:7762</td>\n",
       "      <td>NEUROD1</td>\n",
       "      <td>NCI</td>\n",
       "      <td>14-Sep-17</td>\n",
       "      <td>False</td>\n",
       "    </tr>\n",
       "  </tbody>\n",
       "</table>\n",
       "<p>80234 rows × 7 columns</p>\n",
       "</div>"
      ],
      "text/plain": [
       "      gene_claim_name    nomenclature  concept_id gene_name source_db_name  \\\n",
       "0              NGFIBA  NCBI Gene Name         NaN       NaN       BaderLab   \n",
       "1              NGFIBB  NCBI Gene Name         NaN       NaN       BaderLab   \n",
       "2                 DAX  NCBI Gene Name         NaN       NaN       BaderLab   \n",
       "3            REV-ERBA  NCBI Gene Name         NaN       NaN       BaderLab   \n",
       "4               COUP2  NCBI Gene Name         NaN       NaN       BaderLab   \n",
       "...               ...             ...         ...       ...            ...   \n",
       "80229             KIT     Gene Symbol   hgnc:6342       KIT       Oncomine   \n",
       "80230            HES1       Gene Name   hgnc:5192      HES1            NCI   \n",
       "80231            IRF1     Gene Symbol   hgnc:6116      IRF1         Tempus   \n",
       "80232           SHFM1       Gene Name  hgnc:10845      SEM1            DTC   \n",
       "80233         NEUROD1       Gene Name   hgnc:7762   NEUROD1            NCI   \n",
       "\n",
       "      source_db_version  claim_ambiguous_status  \n",
       "0                Feb-14                   False  \n",
       "1                Feb-14                   False  \n",
       "2                Feb-14                   False  \n",
       "3                Feb-14                   False  \n",
       "4                Feb-14                   False  \n",
       "...                 ...                     ...  \n",
       "80229                v3                   False  \n",
       "80230         14-Sep-17                    True  \n",
       "80231         11-Nov-18                   False  \n",
       "80232            9/2/20                    True  \n",
       "80233         14-Sep-17                   False  \n",
       "\n",
       "[80234 rows x 7 columns]"
      ]
     },
     "execution_count": 198,
     "metadata": {},
     "output_type": "execute_result"
    }
   ],
   "source": [
    "dgidb_gene_df[\"claim_ambiguous_status\"] = dgidb_gene_df[\"gene_claim_name\"].isin(\n",
    "    ambiguous_symbol_set\n",
    ")\n",
    "dgidb_gene_df"
   ]
  },
  {
   "cell_type": "code",
   "execution_count": 199,
   "metadata": {},
   "outputs": [
    {
     "data": {
      "text/plain": [
       "claim_ambiguous_status\n",
       "False    75358\n",
       "True      4876\n",
       "Name: count, dtype: int64"
      ]
     },
     "execution_count": 199,
     "metadata": {},
     "output_type": "execute_result"
    }
   ],
   "source": [
    "dgidb_gene_df[\"claim_ambiguous_status\"].value_counts()"
   ]
  },
  {
   "cell_type": "code",
   "execution_count": 200,
   "metadata": {},
   "outputs": [
    {
     "data": {
      "text/plain": [
       "4876"
      ]
     },
     "execution_count": 200,
     "metadata": {},
     "output_type": "execute_result"
    }
   ],
   "source": [
    "ambiguous_claim_df = dgidb_gene_df.loc[dgidb_gene_df[\"claim_ambiguous_status\"]]\n",
    "num_ambiguous_claim = len(ambiguous_claim_df)\n",
    "num_ambiguous_claim"
   ]
  },
  {
   "cell_type": "code",
   "execution_count": 201,
   "metadata": {},
   "outputs": [
    {
     "data": {
      "text/html": [
       "<div>\n",
       "<style scoped>\n",
       "    .dataframe tbody tr th:only-of-type {\n",
       "        vertical-align: middle;\n",
       "    }\n",
       "\n",
       "    .dataframe tbody tr th {\n",
       "        vertical-align: top;\n",
       "    }\n",
       "\n",
       "    .dataframe thead th {\n",
       "        text-align: right;\n",
       "    }\n",
       "</style>\n",
       "<table border=\"1\" class=\"dataframe\">\n",
       "  <thead>\n",
       "    <tr style=\"text-align: right;\">\n",
       "      <th></th>\n",
       "      <th>gene_claim_name</th>\n",
       "      <th>nomenclature</th>\n",
       "      <th>concept_id</th>\n",
       "      <th>gene_name</th>\n",
       "      <th>source_db_name</th>\n",
       "      <th>source_db_version</th>\n",
       "      <th>claim_ambiguous_status</th>\n",
       "    </tr>\n",
       "  </thead>\n",
       "  <tbody>\n",
       "    <tr>\n",
       "      <th>18</th>\n",
       "      <td>TR2</td>\n",
       "      <td>NCBI Gene Name</td>\n",
       "      <td>hgnc:7971</td>\n",
       "      <td>NR2C1</td>\n",
       "      <td>BaderLab</td>\n",
       "      <td>Feb-14</td>\n",
       "      <td>True</td>\n",
       "    </tr>\n",
       "  </tbody>\n",
       "</table>\n",
       "</div>"
      ],
      "text/plain": [
       "   gene_claim_name    nomenclature concept_id gene_name source_db_name  \\\n",
       "18             TR2  NCBI Gene Name  hgnc:7971     NR2C1       BaderLab   \n",
       "\n",
       "   source_db_version  claim_ambiguous_status  \n",
       "18            Feb-14                    True  "
      ]
     },
     "execution_count": 201,
     "metadata": {},
     "output_type": "execute_result"
    }
   ],
   "source": [
    "ambiguous_claim_df.loc[ambiguous_claim_df[\"gene_claim_name\"] == \"TR2\"]"
   ]
  },
  {
   "cell_type": "markdown",
   "metadata": {},
   "source": [
    "#### <a id='toc1_1_2_20_'></a>[How many gene group labels are ambiguous symbols?](#toc0_)"
   ]
  },
  {
   "cell_type": "code",
   "execution_count": 202,
   "metadata": {},
   "outputs": [
    {
     "data": {
      "text/html": [
       "<div>\n",
       "<style scoped>\n",
       "    .dataframe tbody tr th:only-of-type {\n",
       "        vertical-align: middle;\n",
       "    }\n",
       "\n",
       "    .dataframe tbody tr th {\n",
       "        vertical-align: top;\n",
       "    }\n",
       "\n",
       "    .dataframe thead th {\n",
       "        text-align: right;\n",
       "    }\n",
       "</style>\n",
       "<table border=\"1\" class=\"dataframe\">\n",
       "  <thead>\n",
       "    <tr style=\"text-align: right;\">\n",
       "      <th></th>\n",
       "      <th>gene_claim_name</th>\n",
       "      <th>nomenclature</th>\n",
       "      <th>concept_id</th>\n",
       "      <th>gene_name</th>\n",
       "      <th>source_db_name</th>\n",
       "      <th>source_db_version</th>\n",
       "      <th>claim_ambiguous_status</th>\n",
       "      <th>name_ambiguous_status</th>\n",
       "    </tr>\n",
       "  </thead>\n",
       "  <tbody>\n",
       "    <tr>\n",
       "      <th>0</th>\n",
       "      <td>NGFIBA</td>\n",
       "      <td>NCBI Gene Name</td>\n",
       "      <td>NaN</td>\n",
       "      <td>NaN</td>\n",
       "      <td>BaderLab</td>\n",
       "      <td>Feb-14</td>\n",
       "      <td>False</td>\n",
       "      <td>False</td>\n",
       "    </tr>\n",
       "    <tr>\n",
       "      <th>1</th>\n",
       "      <td>NGFIBB</td>\n",
       "      <td>NCBI Gene Name</td>\n",
       "      <td>NaN</td>\n",
       "      <td>NaN</td>\n",
       "      <td>BaderLab</td>\n",
       "      <td>Feb-14</td>\n",
       "      <td>False</td>\n",
       "      <td>False</td>\n",
       "    </tr>\n",
       "    <tr>\n",
       "      <th>2</th>\n",
       "      <td>DAX</td>\n",
       "      <td>NCBI Gene Name</td>\n",
       "      <td>NaN</td>\n",
       "      <td>NaN</td>\n",
       "      <td>BaderLab</td>\n",
       "      <td>Feb-14</td>\n",
       "      <td>False</td>\n",
       "      <td>False</td>\n",
       "    </tr>\n",
       "    <tr>\n",
       "      <th>3</th>\n",
       "      <td>REV-ERBA</td>\n",
       "      <td>NCBI Gene Name</td>\n",
       "      <td>NaN</td>\n",
       "      <td>NaN</td>\n",
       "      <td>BaderLab</td>\n",
       "      <td>Feb-14</td>\n",
       "      <td>False</td>\n",
       "      <td>False</td>\n",
       "    </tr>\n",
       "    <tr>\n",
       "      <th>4</th>\n",
       "      <td>COUP2</td>\n",
       "      <td>NCBI Gene Name</td>\n",
       "      <td>NaN</td>\n",
       "      <td>NaN</td>\n",
       "      <td>BaderLab</td>\n",
       "      <td>Feb-14</td>\n",
       "      <td>False</td>\n",
       "      <td>False</td>\n",
       "    </tr>\n",
       "    <tr>\n",
       "      <th>...</th>\n",
       "      <td>...</td>\n",
       "      <td>...</td>\n",
       "      <td>...</td>\n",
       "      <td>...</td>\n",
       "      <td>...</td>\n",
       "      <td>...</td>\n",
       "      <td>...</td>\n",
       "      <td>...</td>\n",
       "    </tr>\n",
       "    <tr>\n",
       "      <th>80229</th>\n",
       "      <td>KIT</td>\n",
       "      <td>Gene Symbol</td>\n",
       "      <td>hgnc:6342</td>\n",
       "      <td>KIT</td>\n",
       "      <td>Oncomine</td>\n",
       "      <td>v3</td>\n",
       "      <td>False</td>\n",
       "      <td>False</td>\n",
       "    </tr>\n",
       "    <tr>\n",
       "      <th>80230</th>\n",
       "      <td>HES1</td>\n",
       "      <td>Gene Name</td>\n",
       "      <td>hgnc:5192</td>\n",
       "      <td>HES1</td>\n",
       "      <td>NCI</td>\n",
       "      <td>14-Sep-17</td>\n",
       "      <td>True</td>\n",
       "      <td>True</td>\n",
       "    </tr>\n",
       "    <tr>\n",
       "      <th>80231</th>\n",
       "      <td>IRF1</td>\n",
       "      <td>Gene Symbol</td>\n",
       "      <td>hgnc:6116</td>\n",
       "      <td>IRF1</td>\n",
       "      <td>Tempus</td>\n",
       "      <td>11-Nov-18</td>\n",
       "      <td>False</td>\n",
       "      <td>False</td>\n",
       "    </tr>\n",
       "    <tr>\n",
       "      <th>80232</th>\n",
       "      <td>SHFM1</td>\n",
       "      <td>Gene Name</td>\n",
       "      <td>hgnc:10845</td>\n",
       "      <td>SEM1</td>\n",
       "      <td>DTC</td>\n",
       "      <td>9/2/20</td>\n",
       "      <td>True</td>\n",
       "      <td>False</td>\n",
       "    </tr>\n",
       "    <tr>\n",
       "      <th>80233</th>\n",
       "      <td>NEUROD1</td>\n",
       "      <td>Gene Name</td>\n",
       "      <td>hgnc:7762</td>\n",
       "      <td>NEUROD1</td>\n",
       "      <td>NCI</td>\n",
       "      <td>14-Sep-17</td>\n",
       "      <td>False</td>\n",
       "      <td>False</td>\n",
       "    </tr>\n",
       "  </tbody>\n",
       "</table>\n",
       "<p>80234 rows × 8 columns</p>\n",
       "</div>"
      ],
      "text/plain": [
       "      gene_claim_name    nomenclature  concept_id gene_name source_db_name  \\\n",
       "0              NGFIBA  NCBI Gene Name         NaN       NaN       BaderLab   \n",
       "1              NGFIBB  NCBI Gene Name         NaN       NaN       BaderLab   \n",
       "2                 DAX  NCBI Gene Name         NaN       NaN       BaderLab   \n",
       "3            REV-ERBA  NCBI Gene Name         NaN       NaN       BaderLab   \n",
       "4               COUP2  NCBI Gene Name         NaN       NaN       BaderLab   \n",
       "...               ...             ...         ...       ...            ...   \n",
       "80229             KIT     Gene Symbol   hgnc:6342       KIT       Oncomine   \n",
       "80230            HES1       Gene Name   hgnc:5192      HES1            NCI   \n",
       "80231            IRF1     Gene Symbol   hgnc:6116      IRF1         Tempus   \n",
       "80232           SHFM1       Gene Name  hgnc:10845      SEM1            DTC   \n",
       "80233         NEUROD1       Gene Name   hgnc:7762   NEUROD1            NCI   \n",
       "\n",
       "      source_db_version  claim_ambiguous_status  name_ambiguous_status  \n",
       "0                Feb-14                   False                  False  \n",
       "1                Feb-14                   False                  False  \n",
       "2                Feb-14                   False                  False  \n",
       "3                Feb-14                   False                  False  \n",
       "4                Feb-14                   False                  False  \n",
       "...                 ...                     ...                    ...  \n",
       "80229                v3                   False                  False  \n",
       "80230         14-Sep-17                    True                   True  \n",
       "80231         11-Nov-18                   False                  False  \n",
       "80232            9/2/20                    True                  False  \n",
       "80233         14-Sep-17                   False                  False  \n",
       "\n",
       "[80234 rows x 8 columns]"
      ]
     },
     "execution_count": 202,
     "metadata": {},
     "output_type": "execute_result"
    }
   ],
   "source": [
    "dgidb_gene_df[\"name_ambiguous_status\"] = dgidb_gene_df[\"gene_name\"].isin(\n",
    "    ambiguous_symbol_set\n",
    ")\n",
    "dgidb_gene_df"
   ]
  },
  {
   "cell_type": "code",
   "execution_count": 203,
   "metadata": {},
   "outputs": [
    {
     "data": {
      "text/plain": [
       "name_ambiguous_status\n",
       "False    74459\n",
       "True      5775\n",
       "Name: count, dtype: int64"
      ]
     },
     "execution_count": 203,
     "metadata": {},
     "output_type": "execute_result"
    }
   ],
   "source": [
    "dgidb_gene_df[\"name_ambiguous_status\"].value_counts()"
   ]
  },
  {
   "cell_type": "code",
   "execution_count": 204,
   "metadata": {},
   "outputs": [
    {
     "data": {
      "text/plain": [
       "5775"
      ]
     },
     "execution_count": 204,
     "metadata": {},
     "output_type": "execute_result"
    }
   ],
   "source": [
    "ambiguous_name_df = dgidb_gene_df.loc[dgidb_gene_df[\"name_ambiguous_status\"]]\n",
    "num_ambiguous_name = len(ambiguous_name_df)\n",
    "num_ambiguous_name"
   ]
  },
  {
   "cell_type": "markdown",
   "metadata": {},
   "source": [
    "#### <a id='toc1_1_2_21_'></a>[How many claims are primary symbols?](#toc0_)"
   ]
  },
  {
   "cell_type": "code",
   "execution_count": 205,
   "metadata": {},
   "outputs": [
    {
     "data": {
      "text/html": [
       "<div>\n",
       "<style scoped>\n",
       "    .dataframe tbody tr th:only-of-type {\n",
       "        vertical-align: middle;\n",
       "    }\n",
       "\n",
       "    .dataframe tbody tr th {\n",
       "        vertical-align: top;\n",
       "    }\n",
       "\n",
       "    .dataframe thead th {\n",
       "        text-align: right;\n",
       "    }\n",
       "</style>\n",
       "<table border=\"1\" class=\"dataframe\">\n",
       "  <thead>\n",
       "    <tr style=\"text-align: right;\">\n",
       "      <th></th>\n",
       "      <th>gene_claim_name</th>\n",
       "      <th>nomenclature</th>\n",
       "      <th>concept_id</th>\n",
       "      <th>gene_name</th>\n",
       "      <th>source_db_name</th>\n",
       "      <th>source_db_version</th>\n",
       "      <th>claim_ambiguous_status</th>\n",
       "      <th>name_ambiguous_status</th>\n",
       "      <th>claim_primary_status</th>\n",
       "    </tr>\n",
       "  </thead>\n",
       "  <tbody>\n",
       "    <tr>\n",
       "      <th>0</th>\n",
       "      <td>NGFIBA</td>\n",
       "      <td>NCBI Gene Name</td>\n",
       "      <td>NaN</td>\n",
       "      <td>NaN</td>\n",
       "      <td>BaderLab</td>\n",
       "      <td>Feb-14</td>\n",
       "      <td>False</td>\n",
       "      <td>False</td>\n",
       "      <td>False</td>\n",
       "    </tr>\n",
       "    <tr>\n",
       "      <th>1</th>\n",
       "      <td>NGFIBB</td>\n",
       "      <td>NCBI Gene Name</td>\n",
       "      <td>NaN</td>\n",
       "      <td>NaN</td>\n",
       "      <td>BaderLab</td>\n",
       "      <td>Feb-14</td>\n",
       "      <td>False</td>\n",
       "      <td>False</td>\n",
       "      <td>False</td>\n",
       "    </tr>\n",
       "    <tr>\n",
       "      <th>2</th>\n",
       "      <td>DAX</td>\n",
       "      <td>NCBI Gene Name</td>\n",
       "      <td>NaN</td>\n",
       "      <td>NaN</td>\n",
       "      <td>BaderLab</td>\n",
       "      <td>Feb-14</td>\n",
       "      <td>False</td>\n",
       "      <td>False</td>\n",
       "      <td>False</td>\n",
       "    </tr>\n",
       "    <tr>\n",
       "      <th>3</th>\n",
       "      <td>REV-ERBA</td>\n",
       "      <td>NCBI Gene Name</td>\n",
       "      <td>NaN</td>\n",
       "      <td>NaN</td>\n",
       "      <td>BaderLab</td>\n",
       "      <td>Feb-14</td>\n",
       "      <td>False</td>\n",
       "      <td>False</td>\n",
       "      <td>False</td>\n",
       "    </tr>\n",
       "    <tr>\n",
       "      <th>4</th>\n",
       "      <td>COUP2</td>\n",
       "      <td>NCBI Gene Name</td>\n",
       "      <td>NaN</td>\n",
       "      <td>NaN</td>\n",
       "      <td>BaderLab</td>\n",
       "      <td>Feb-14</td>\n",
       "      <td>False</td>\n",
       "      <td>False</td>\n",
       "      <td>False</td>\n",
       "    </tr>\n",
       "    <tr>\n",
       "      <th>...</th>\n",
       "      <td>...</td>\n",
       "      <td>...</td>\n",
       "      <td>...</td>\n",
       "      <td>...</td>\n",
       "      <td>...</td>\n",
       "      <td>...</td>\n",
       "      <td>...</td>\n",
       "      <td>...</td>\n",
       "      <td>...</td>\n",
       "    </tr>\n",
       "    <tr>\n",
       "      <th>80229</th>\n",
       "      <td>KIT</td>\n",
       "      <td>Gene Symbol</td>\n",
       "      <td>hgnc:6342</td>\n",
       "      <td>KIT</td>\n",
       "      <td>Oncomine</td>\n",
       "      <td>v3</td>\n",
       "      <td>False</td>\n",
       "      <td>False</td>\n",
       "      <td>True</td>\n",
       "    </tr>\n",
       "    <tr>\n",
       "      <th>80230</th>\n",
       "      <td>HES1</td>\n",
       "      <td>Gene Name</td>\n",
       "      <td>hgnc:5192</td>\n",
       "      <td>HES1</td>\n",
       "      <td>NCI</td>\n",
       "      <td>14-Sep-17</td>\n",
       "      <td>True</td>\n",
       "      <td>True</td>\n",
       "      <td>True</td>\n",
       "    </tr>\n",
       "    <tr>\n",
       "      <th>80231</th>\n",
       "      <td>IRF1</td>\n",
       "      <td>Gene Symbol</td>\n",
       "      <td>hgnc:6116</td>\n",
       "      <td>IRF1</td>\n",
       "      <td>Tempus</td>\n",
       "      <td>11-Nov-18</td>\n",
       "      <td>False</td>\n",
       "      <td>False</td>\n",
       "      <td>True</td>\n",
       "    </tr>\n",
       "    <tr>\n",
       "      <th>80232</th>\n",
       "      <td>SHFM1</td>\n",
       "      <td>Gene Name</td>\n",
       "      <td>hgnc:10845</td>\n",
       "      <td>SEM1</td>\n",
       "      <td>DTC</td>\n",
       "      <td>9/2/20</td>\n",
       "      <td>True</td>\n",
       "      <td>False</td>\n",
       "      <td>False</td>\n",
       "    </tr>\n",
       "    <tr>\n",
       "      <th>80233</th>\n",
       "      <td>NEUROD1</td>\n",
       "      <td>Gene Name</td>\n",
       "      <td>hgnc:7762</td>\n",
       "      <td>NEUROD1</td>\n",
       "      <td>NCI</td>\n",
       "      <td>14-Sep-17</td>\n",
       "      <td>False</td>\n",
       "      <td>False</td>\n",
       "      <td>True</td>\n",
       "    </tr>\n",
       "  </tbody>\n",
       "</table>\n",
       "<p>80234 rows × 9 columns</p>\n",
       "</div>"
      ],
      "text/plain": [
       "      gene_claim_name    nomenclature  concept_id gene_name source_db_name  \\\n",
       "0              NGFIBA  NCBI Gene Name         NaN       NaN       BaderLab   \n",
       "1              NGFIBB  NCBI Gene Name         NaN       NaN       BaderLab   \n",
       "2                 DAX  NCBI Gene Name         NaN       NaN       BaderLab   \n",
       "3            REV-ERBA  NCBI Gene Name         NaN       NaN       BaderLab   \n",
       "4               COUP2  NCBI Gene Name         NaN       NaN       BaderLab   \n",
       "...               ...             ...         ...       ...            ...   \n",
       "80229             KIT     Gene Symbol   hgnc:6342       KIT       Oncomine   \n",
       "80230            HES1       Gene Name   hgnc:5192      HES1            NCI   \n",
       "80231            IRF1     Gene Symbol   hgnc:6116      IRF1         Tempus   \n",
       "80232           SHFM1       Gene Name  hgnc:10845      SEM1            DTC   \n",
       "80233         NEUROD1       Gene Name   hgnc:7762   NEUROD1            NCI   \n",
       "\n",
       "      source_db_version  claim_ambiguous_status  name_ambiguous_status  \\\n",
       "0                Feb-14                   False                  False   \n",
       "1                Feb-14                   False                  False   \n",
       "2                Feb-14                   False                  False   \n",
       "3                Feb-14                   False                  False   \n",
       "4                Feb-14                   False                  False   \n",
       "...                 ...                     ...                    ...   \n",
       "80229                v3                   False                  False   \n",
       "80230         14-Sep-17                    True                   True   \n",
       "80231         11-Nov-18                   False                  False   \n",
       "80232            9/2/20                    True                  False   \n",
       "80233         14-Sep-17                   False                  False   \n",
       "\n",
       "       claim_primary_status  \n",
       "0                     False  \n",
       "1                     False  \n",
       "2                     False  \n",
       "3                     False  \n",
       "4                     False  \n",
       "...                     ...  \n",
       "80229                  True  \n",
       "80230                  True  \n",
       "80231                  True  \n",
       "80232                 False  \n",
       "80233                  True  \n",
       "\n",
       "[80234 rows x 9 columns]"
      ]
     },
     "execution_count": 205,
     "metadata": {},
     "output_type": "execute_result"
    }
   ],
   "source": [
    "dgidb_gene_df[\"claim_primary_status\"] = dgidb_gene_df[\"gene_claim_name\"].isin(\n",
    "    hgnc_ensg_ncbi_gene_symbol_set\n",
    ")\n",
    "dgidb_gene_df"
   ]
  },
  {
   "cell_type": "code",
   "execution_count": 206,
   "metadata": {},
   "outputs": [
    {
     "data": {
      "text/plain": [
       "claim_primary_status\n",
       "True     64209\n",
       "False    16025\n",
       "Name: count, dtype: int64"
      ]
     },
     "execution_count": 206,
     "metadata": {},
     "output_type": "execute_result"
    }
   ],
   "source": [
    "dgidb_gene_df[\"claim_primary_status\"].value_counts()"
   ]
  },
  {
   "cell_type": "code",
   "execution_count": 207,
   "metadata": {},
   "outputs": [
    {
     "data": {
      "text/plain": [
       "64209"
      ]
     },
     "execution_count": 207,
     "metadata": {},
     "output_type": "execute_result"
    }
   ],
   "source": [
    "primary_claim_df = dgidb_gene_df.loc[dgidb_gene_df[\"claim_primary_status\"]]\n",
    "num_primary_claim = len(primary_claim_df)\n",
    "num_primary_claim"
   ]
  },
  {
   "cell_type": "markdown",
   "metadata": {},
   "source": [
    "#### <a id='toc1_1_2_22_'></a>[How many gene group labels are primary symbols?](#toc0_)"
   ]
  },
  {
   "cell_type": "code",
   "execution_count": 208,
   "metadata": {},
   "outputs": [
    {
     "data": {
      "text/html": [
       "<div>\n",
       "<style scoped>\n",
       "    .dataframe tbody tr th:only-of-type {\n",
       "        vertical-align: middle;\n",
       "    }\n",
       "\n",
       "    .dataframe tbody tr th {\n",
       "        vertical-align: top;\n",
       "    }\n",
       "\n",
       "    .dataframe thead th {\n",
       "        text-align: right;\n",
       "    }\n",
       "</style>\n",
       "<table border=\"1\" class=\"dataframe\">\n",
       "  <thead>\n",
       "    <tr style=\"text-align: right;\">\n",
       "      <th></th>\n",
       "      <th>gene_claim_name</th>\n",
       "      <th>nomenclature</th>\n",
       "      <th>concept_id</th>\n",
       "      <th>gene_name</th>\n",
       "      <th>source_db_name</th>\n",
       "      <th>source_db_version</th>\n",
       "      <th>claim_ambiguous_status</th>\n",
       "      <th>name_ambiguous_status</th>\n",
       "      <th>claim_primary_status</th>\n",
       "      <th>name_primary_status</th>\n",
       "    </tr>\n",
       "  </thead>\n",
       "  <tbody>\n",
       "    <tr>\n",
       "      <th>0</th>\n",
       "      <td>NGFIBA</td>\n",
       "      <td>NCBI Gene Name</td>\n",
       "      <td>NaN</td>\n",
       "      <td>NaN</td>\n",
       "      <td>BaderLab</td>\n",
       "      <td>Feb-14</td>\n",
       "      <td>False</td>\n",
       "      <td>False</td>\n",
       "      <td>False</td>\n",
       "      <td>False</td>\n",
       "    </tr>\n",
       "    <tr>\n",
       "      <th>1</th>\n",
       "      <td>NGFIBB</td>\n",
       "      <td>NCBI Gene Name</td>\n",
       "      <td>NaN</td>\n",
       "      <td>NaN</td>\n",
       "      <td>BaderLab</td>\n",
       "      <td>Feb-14</td>\n",
       "      <td>False</td>\n",
       "      <td>False</td>\n",
       "      <td>False</td>\n",
       "      <td>False</td>\n",
       "    </tr>\n",
       "    <tr>\n",
       "      <th>2</th>\n",
       "      <td>DAX</td>\n",
       "      <td>NCBI Gene Name</td>\n",
       "      <td>NaN</td>\n",
       "      <td>NaN</td>\n",
       "      <td>BaderLab</td>\n",
       "      <td>Feb-14</td>\n",
       "      <td>False</td>\n",
       "      <td>False</td>\n",
       "      <td>False</td>\n",
       "      <td>False</td>\n",
       "    </tr>\n",
       "    <tr>\n",
       "      <th>3</th>\n",
       "      <td>REV-ERBA</td>\n",
       "      <td>NCBI Gene Name</td>\n",
       "      <td>NaN</td>\n",
       "      <td>NaN</td>\n",
       "      <td>BaderLab</td>\n",
       "      <td>Feb-14</td>\n",
       "      <td>False</td>\n",
       "      <td>False</td>\n",
       "      <td>False</td>\n",
       "      <td>False</td>\n",
       "    </tr>\n",
       "    <tr>\n",
       "      <th>4</th>\n",
       "      <td>COUP2</td>\n",
       "      <td>NCBI Gene Name</td>\n",
       "      <td>NaN</td>\n",
       "      <td>NaN</td>\n",
       "      <td>BaderLab</td>\n",
       "      <td>Feb-14</td>\n",
       "      <td>False</td>\n",
       "      <td>False</td>\n",
       "      <td>False</td>\n",
       "      <td>False</td>\n",
       "    </tr>\n",
       "    <tr>\n",
       "      <th>...</th>\n",
       "      <td>...</td>\n",
       "      <td>...</td>\n",
       "      <td>...</td>\n",
       "      <td>...</td>\n",
       "      <td>...</td>\n",
       "      <td>...</td>\n",
       "      <td>...</td>\n",
       "      <td>...</td>\n",
       "      <td>...</td>\n",
       "      <td>...</td>\n",
       "    </tr>\n",
       "    <tr>\n",
       "      <th>80229</th>\n",
       "      <td>KIT</td>\n",
       "      <td>Gene Symbol</td>\n",
       "      <td>hgnc:6342</td>\n",
       "      <td>KIT</td>\n",
       "      <td>Oncomine</td>\n",
       "      <td>v3</td>\n",
       "      <td>False</td>\n",
       "      <td>False</td>\n",
       "      <td>True</td>\n",
       "      <td>True</td>\n",
       "    </tr>\n",
       "    <tr>\n",
       "      <th>80230</th>\n",
       "      <td>HES1</td>\n",
       "      <td>Gene Name</td>\n",
       "      <td>hgnc:5192</td>\n",
       "      <td>HES1</td>\n",
       "      <td>NCI</td>\n",
       "      <td>14-Sep-17</td>\n",
       "      <td>True</td>\n",
       "      <td>True</td>\n",
       "      <td>True</td>\n",
       "      <td>True</td>\n",
       "    </tr>\n",
       "    <tr>\n",
       "      <th>80231</th>\n",
       "      <td>IRF1</td>\n",
       "      <td>Gene Symbol</td>\n",
       "      <td>hgnc:6116</td>\n",
       "      <td>IRF1</td>\n",
       "      <td>Tempus</td>\n",
       "      <td>11-Nov-18</td>\n",
       "      <td>False</td>\n",
       "      <td>False</td>\n",
       "      <td>True</td>\n",
       "      <td>True</td>\n",
       "    </tr>\n",
       "    <tr>\n",
       "      <th>80232</th>\n",
       "      <td>SHFM1</td>\n",
       "      <td>Gene Name</td>\n",
       "      <td>hgnc:10845</td>\n",
       "      <td>SEM1</td>\n",
       "      <td>DTC</td>\n",
       "      <td>9/2/20</td>\n",
       "      <td>True</td>\n",
       "      <td>False</td>\n",
       "      <td>False</td>\n",
       "      <td>True</td>\n",
       "    </tr>\n",
       "    <tr>\n",
       "      <th>80233</th>\n",
       "      <td>NEUROD1</td>\n",
       "      <td>Gene Name</td>\n",
       "      <td>hgnc:7762</td>\n",
       "      <td>NEUROD1</td>\n",
       "      <td>NCI</td>\n",
       "      <td>14-Sep-17</td>\n",
       "      <td>False</td>\n",
       "      <td>False</td>\n",
       "      <td>True</td>\n",
       "      <td>True</td>\n",
       "    </tr>\n",
       "  </tbody>\n",
       "</table>\n",
       "<p>80234 rows × 10 columns</p>\n",
       "</div>"
      ],
      "text/plain": [
       "      gene_claim_name    nomenclature  concept_id gene_name source_db_name  \\\n",
       "0              NGFIBA  NCBI Gene Name         NaN       NaN       BaderLab   \n",
       "1              NGFIBB  NCBI Gene Name         NaN       NaN       BaderLab   \n",
       "2                 DAX  NCBI Gene Name         NaN       NaN       BaderLab   \n",
       "3            REV-ERBA  NCBI Gene Name         NaN       NaN       BaderLab   \n",
       "4               COUP2  NCBI Gene Name         NaN       NaN       BaderLab   \n",
       "...               ...             ...         ...       ...            ...   \n",
       "80229             KIT     Gene Symbol   hgnc:6342       KIT       Oncomine   \n",
       "80230            HES1       Gene Name   hgnc:5192      HES1            NCI   \n",
       "80231            IRF1     Gene Symbol   hgnc:6116      IRF1         Tempus   \n",
       "80232           SHFM1       Gene Name  hgnc:10845      SEM1            DTC   \n",
       "80233         NEUROD1       Gene Name   hgnc:7762   NEUROD1            NCI   \n",
       "\n",
       "      source_db_version  claim_ambiguous_status  name_ambiguous_status  \\\n",
       "0                Feb-14                   False                  False   \n",
       "1                Feb-14                   False                  False   \n",
       "2                Feb-14                   False                  False   \n",
       "3                Feb-14                   False                  False   \n",
       "4                Feb-14                   False                  False   \n",
       "...                 ...                     ...                    ...   \n",
       "80229                v3                   False                  False   \n",
       "80230         14-Sep-17                    True                   True   \n",
       "80231         11-Nov-18                   False                  False   \n",
       "80232            9/2/20                    True                  False   \n",
       "80233         14-Sep-17                   False                  False   \n",
       "\n",
       "       claim_primary_status  name_primary_status  \n",
       "0                     False                False  \n",
       "1                     False                False  \n",
       "2                     False                False  \n",
       "3                     False                False  \n",
       "4                     False                False  \n",
       "...                     ...                  ...  \n",
       "80229                  True                 True  \n",
       "80230                  True                 True  \n",
       "80231                  True                 True  \n",
       "80232                 False                 True  \n",
       "80233                  True                 True  \n",
       "\n",
       "[80234 rows x 10 columns]"
      ]
     },
     "execution_count": 208,
     "metadata": {},
     "output_type": "execute_result"
    }
   ],
   "source": [
    "dgidb_gene_df[\"name_primary_status\"] = (\n",
    "    dgidb_gene_df[\"gene_name\"].astype(str).isin(hgnc_ensg_ncbi_gene_symbol_set)\n",
    ")\n",
    "dgidb_gene_df"
   ]
  },
  {
   "cell_type": "code",
   "execution_count": 209,
   "metadata": {},
   "outputs": [
    {
     "data": {
      "text/plain": [
       "name_primary_status\n",
       "True     78074\n",
       "False     2160\n",
       "Name: count, dtype: int64"
      ]
     },
     "execution_count": 209,
     "metadata": {},
     "output_type": "execute_result"
    }
   ],
   "source": [
    "dgidb_gene_df[\"name_primary_status\"].value_counts()"
   ]
  },
  {
   "cell_type": "code",
   "execution_count": 210,
   "metadata": {},
   "outputs": [
    {
     "data": {
      "text/plain": [
       "78074"
      ]
     },
     "execution_count": 210,
     "metadata": {},
     "output_type": "execute_result"
    }
   ],
   "source": [
    "primary_name_df = dgidb_gene_df.loc[dgidb_gene_df[\"name_primary_status\"]]\n",
    "num_primary_name = len(primary_name_df)\n",
    "num_primary_name"
   ]
  },
  {
   "cell_type": "code",
   "execution_count": 211,
   "metadata": {},
   "outputs": [
    {
     "data": {
      "text/html": [
       "<div>\n",
       "<style scoped>\n",
       "    .dataframe tbody tr th:only-of-type {\n",
       "        vertical-align: middle;\n",
       "    }\n",
       "\n",
       "    .dataframe tbody tr th {\n",
       "        vertical-align: top;\n",
       "    }\n",
       "\n",
       "    .dataframe thead th {\n",
       "        text-align: right;\n",
       "    }\n",
       "</style>\n",
       "<table border=\"1\" class=\"dataframe\">\n",
       "  <thead>\n",
       "    <tr style=\"text-align: right;\">\n",
       "      <th></th>\n",
       "      <th>gene_claim_name</th>\n",
       "      <th>nomenclature</th>\n",
       "      <th>concept_id</th>\n",
       "      <th>gene_name</th>\n",
       "      <th>source_db_name</th>\n",
       "      <th>source_db_version</th>\n",
       "      <th>claim_ambiguous_status</th>\n",
       "      <th>name_ambiguous_status</th>\n",
       "      <th>claim_primary_status</th>\n",
       "      <th>name_primary_status</th>\n",
       "    </tr>\n",
       "  </thead>\n",
       "  <tbody>\n",
       "    <tr>\n",
       "      <th>0</th>\n",
       "      <td>NGFIBA</td>\n",
       "      <td>NCBI Gene Name</td>\n",
       "      <td>NaN</td>\n",
       "      <td>NaN</td>\n",
       "      <td>BaderLab</td>\n",
       "      <td>Feb-14</td>\n",
       "      <td>False</td>\n",
       "      <td>False</td>\n",
       "      <td>False</td>\n",
       "      <td>False</td>\n",
       "    </tr>\n",
       "    <tr>\n",
       "      <th>1</th>\n",
       "      <td>NGFIBB</td>\n",
       "      <td>NCBI Gene Name</td>\n",
       "      <td>NaN</td>\n",
       "      <td>NaN</td>\n",
       "      <td>BaderLab</td>\n",
       "      <td>Feb-14</td>\n",
       "      <td>False</td>\n",
       "      <td>False</td>\n",
       "      <td>False</td>\n",
       "      <td>False</td>\n",
       "    </tr>\n",
       "    <tr>\n",
       "      <th>2</th>\n",
       "      <td>DAX</td>\n",
       "      <td>NCBI Gene Name</td>\n",
       "      <td>NaN</td>\n",
       "      <td>NaN</td>\n",
       "      <td>BaderLab</td>\n",
       "      <td>Feb-14</td>\n",
       "      <td>False</td>\n",
       "      <td>False</td>\n",
       "      <td>False</td>\n",
       "      <td>False</td>\n",
       "    </tr>\n",
       "    <tr>\n",
       "      <th>3</th>\n",
       "      <td>REV-ERBA</td>\n",
       "      <td>NCBI Gene Name</td>\n",
       "      <td>NaN</td>\n",
       "      <td>NaN</td>\n",
       "      <td>BaderLab</td>\n",
       "      <td>Feb-14</td>\n",
       "      <td>False</td>\n",
       "      <td>False</td>\n",
       "      <td>False</td>\n",
       "      <td>False</td>\n",
       "    </tr>\n",
       "    <tr>\n",
       "      <th>4</th>\n",
       "      <td>COUP2</td>\n",
       "      <td>NCBI Gene Name</td>\n",
       "      <td>NaN</td>\n",
       "      <td>NaN</td>\n",
       "      <td>BaderLab</td>\n",
       "      <td>Feb-14</td>\n",
       "      <td>False</td>\n",
       "      <td>False</td>\n",
       "      <td>False</td>\n",
       "      <td>False</td>\n",
       "    </tr>\n",
       "    <tr>\n",
       "      <th>...</th>\n",
       "      <td>...</td>\n",
       "      <td>...</td>\n",
       "      <td>...</td>\n",
       "      <td>...</td>\n",
       "      <td>...</td>\n",
       "      <td>...</td>\n",
       "      <td>...</td>\n",
       "      <td>...</td>\n",
       "      <td>...</td>\n",
       "      <td>...</td>\n",
       "    </tr>\n",
       "    <tr>\n",
       "      <th>57108</th>\n",
       "      <td>NCBIGENE:2614</td>\n",
       "      <td>NCBI Gene ID</td>\n",
       "      <td>ncbigene:2614</td>\n",
       "      <td>GAPDHL17</td>\n",
       "      <td>GuideToPharmacology</td>\n",
       "      <td>2024.1</td>\n",
       "      <td>False</td>\n",
       "      <td>False</td>\n",
       "      <td>False</td>\n",
       "      <td>False</td>\n",
       "    </tr>\n",
       "    <tr>\n",
       "      <th>57552</th>\n",
       "      <td>CYB5P1</td>\n",
       "      <td>Gene Symbol</td>\n",
       "      <td>ncbigene:1529</td>\n",
       "      <td>CYB5P1</td>\n",
       "      <td>NCBI</td>\n",
       "      <td>20240410</td>\n",
       "      <td>False</td>\n",
       "      <td>False</td>\n",
       "      <td>False</td>\n",
       "      <td>False</td>\n",
       "    </tr>\n",
       "    <tr>\n",
       "      <th>66195</th>\n",
       "      <td>OA1</td>\n",
       "      <td>Gene Symbol</td>\n",
       "      <td>ncbigene:474285</td>\n",
       "      <td>OA1</td>\n",
       "      <td>NCBI</td>\n",
       "      <td>20240410</td>\n",
       "      <td>False</td>\n",
       "      <td>False</td>\n",
       "      <td>False</td>\n",
       "      <td>False</td>\n",
       "    </tr>\n",
       "    <tr>\n",
       "      <th>66196</th>\n",
       "      <td>OA1</td>\n",
       "      <td>Gene Symbol</td>\n",
       "      <td>ncbigene:474285</td>\n",
       "      <td>OA1</td>\n",
       "      <td>dGene</td>\n",
       "      <td>27-Jun-13</td>\n",
       "      <td>False</td>\n",
       "      <td>False</td>\n",
       "      <td>False</td>\n",
       "      <td>False</td>\n",
       "    </tr>\n",
       "    <tr>\n",
       "      <th>74562</th>\n",
       "      <td>ATP5A2</td>\n",
       "      <td>Gene Symbol</td>\n",
       "      <td>ncbigene:499</td>\n",
       "      <td>ATP5A2</td>\n",
       "      <td>NCBI</td>\n",
       "      <td>20240410</td>\n",
       "      <td>False</td>\n",
       "      <td>False</td>\n",
       "      <td>False</td>\n",
       "      <td>False</td>\n",
       "    </tr>\n",
       "  </tbody>\n",
       "</table>\n",
       "<p>2160 rows × 10 columns</p>\n",
       "</div>"
      ],
      "text/plain": [
       "      gene_claim_name    nomenclature       concept_id gene_name  \\\n",
       "0              NGFIBA  NCBI Gene Name              NaN       NaN   \n",
       "1              NGFIBB  NCBI Gene Name              NaN       NaN   \n",
       "2                 DAX  NCBI Gene Name              NaN       NaN   \n",
       "3            REV-ERBA  NCBI Gene Name              NaN       NaN   \n",
       "4               COUP2  NCBI Gene Name              NaN       NaN   \n",
       "...               ...             ...              ...       ...   \n",
       "57108   NCBIGENE:2614    NCBI Gene ID    ncbigene:2614  GAPDHL17   \n",
       "57552          CYB5P1     Gene Symbol    ncbigene:1529    CYB5P1   \n",
       "66195             OA1     Gene Symbol  ncbigene:474285       OA1   \n",
       "66196             OA1     Gene Symbol  ncbigene:474285       OA1   \n",
       "74562          ATP5A2     Gene Symbol     ncbigene:499    ATP5A2   \n",
       "\n",
       "            source_db_name source_db_version  claim_ambiguous_status  \\\n",
       "0                 BaderLab            Feb-14                   False   \n",
       "1                 BaderLab            Feb-14                   False   \n",
       "2                 BaderLab            Feb-14                   False   \n",
       "3                 BaderLab            Feb-14                   False   \n",
       "4                 BaderLab            Feb-14                   False   \n",
       "...                    ...               ...                     ...   \n",
       "57108  GuideToPharmacology            2024.1                   False   \n",
       "57552                 NCBI          20240410                   False   \n",
       "66195                 NCBI          20240410                   False   \n",
       "66196                dGene         27-Jun-13                   False   \n",
       "74562                 NCBI          20240410                   False   \n",
       "\n",
       "       name_ambiguous_status  claim_primary_status  name_primary_status  \n",
       "0                      False                 False                False  \n",
       "1                      False                 False                False  \n",
       "2                      False                 False                False  \n",
       "3                      False                 False                False  \n",
       "4                      False                 False                False  \n",
       "...                      ...                   ...                  ...  \n",
       "57108                  False                 False                False  \n",
       "57552                  False                 False                False  \n",
       "66195                  False                 False                False  \n",
       "66196                  False                 False                False  \n",
       "74562                  False                 False                False  \n",
       "\n",
       "[2160 rows x 10 columns]"
      ]
     },
     "execution_count": 211,
     "metadata": {},
     "output_type": "execute_result"
    }
   ],
   "source": [
    "not_primary_group_name_df = dgidb_gene_df.loc[~dgidb_gene_df[\"name_primary_status\"]]\n",
    "not_primary_group_name_df"
   ]
  },
  {
   "cell_type": "markdown",
   "metadata": {},
   "source": [
    "#### <a id='toc1_1_2_23_'></a>[How many gene group labels are alias symbols?](#toc0_)"
   ]
  },
  {
   "cell_type": "code",
   "execution_count": 212,
   "metadata": {},
   "outputs": [
    {
     "data": {
      "text/html": [
       "<div>\n",
       "<style scoped>\n",
       "    .dataframe tbody tr th:only-of-type {\n",
       "        vertical-align: middle;\n",
       "    }\n",
       "\n",
       "    .dataframe tbody tr th {\n",
       "        vertical-align: top;\n",
       "    }\n",
       "\n",
       "    .dataframe thead th {\n",
       "        text-align: right;\n",
       "    }\n",
       "</style>\n",
       "<table border=\"1\" class=\"dataframe\">\n",
       "  <thead>\n",
       "    <tr style=\"text-align: right;\">\n",
       "      <th></th>\n",
       "      <th>gene_claim_name</th>\n",
       "      <th>nomenclature</th>\n",
       "      <th>concept_id</th>\n",
       "      <th>gene_name</th>\n",
       "      <th>source_db_name</th>\n",
       "      <th>source_db_version</th>\n",
       "      <th>claim_ambiguous_status</th>\n",
       "      <th>name_ambiguous_status</th>\n",
       "      <th>claim_primary_status</th>\n",
       "      <th>name_primary_status</th>\n",
       "      <th>name_alias_status</th>\n",
       "    </tr>\n",
       "  </thead>\n",
       "  <tbody>\n",
       "    <tr>\n",
       "      <th>0</th>\n",
       "      <td>NGFIBA</td>\n",
       "      <td>NCBI Gene Name</td>\n",
       "      <td>NaN</td>\n",
       "      <td>NaN</td>\n",
       "      <td>BaderLab</td>\n",
       "      <td>Feb-14</td>\n",
       "      <td>False</td>\n",
       "      <td>False</td>\n",
       "      <td>False</td>\n",
       "      <td>False</td>\n",
       "      <td>True</td>\n",
       "    </tr>\n",
       "    <tr>\n",
       "      <th>1</th>\n",
       "      <td>NGFIBB</td>\n",
       "      <td>NCBI Gene Name</td>\n",
       "      <td>NaN</td>\n",
       "      <td>NaN</td>\n",
       "      <td>BaderLab</td>\n",
       "      <td>Feb-14</td>\n",
       "      <td>False</td>\n",
       "      <td>False</td>\n",
       "      <td>False</td>\n",
       "      <td>False</td>\n",
       "      <td>True</td>\n",
       "    </tr>\n",
       "    <tr>\n",
       "      <th>2</th>\n",
       "      <td>DAX</td>\n",
       "      <td>NCBI Gene Name</td>\n",
       "      <td>NaN</td>\n",
       "      <td>NaN</td>\n",
       "      <td>BaderLab</td>\n",
       "      <td>Feb-14</td>\n",
       "      <td>False</td>\n",
       "      <td>False</td>\n",
       "      <td>False</td>\n",
       "      <td>False</td>\n",
       "      <td>True</td>\n",
       "    </tr>\n",
       "    <tr>\n",
       "      <th>3</th>\n",
       "      <td>REV-ERBA</td>\n",
       "      <td>NCBI Gene Name</td>\n",
       "      <td>NaN</td>\n",
       "      <td>NaN</td>\n",
       "      <td>BaderLab</td>\n",
       "      <td>Feb-14</td>\n",
       "      <td>False</td>\n",
       "      <td>False</td>\n",
       "      <td>False</td>\n",
       "      <td>False</td>\n",
       "      <td>True</td>\n",
       "    </tr>\n",
       "    <tr>\n",
       "      <th>4</th>\n",
       "      <td>COUP2</td>\n",
       "      <td>NCBI Gene Name</td>\n",
       "      <td>NaN</td>\n",
       "      <td>NaN</td>\n",
       "      <td>BaderLab</td>\n",
       "      <td>Feb-14</td>\n",
       "      <td>False</td>\n",
       "      <td>False</td>\n",
       "      <td>False</td>\n",
       "      <td>False</td>\n",
       "      <td>True</td>\n",
       "    </tr>\n",
       "    <tr>\n",
       "      <th>...</th>\n",
       "      <td>...</td>\n",
       "      <td>...</td>\n",
       "      <td>...</td>\n",
       "      <td>...</td>\n",
       "      <td>...</td>\n",
       "      <td>...</td>\n",
       "      <td>...</td>\n",
       "      <td>...</td>\n",
       "      <td>...</td>\n",
       "      <td>...</td>\n",
       "      <td>...</td>\n",
       "    </tr>\n",
       "    <tr>\n",
       "      <th>80229</th>\n",
       "      <td>KIT</td>\n",
       "      <td>Gene Symbol</td>\n",
       "      <td>hgnc:6342</td>\n",
       "      <td>KIT</td>\n",
       "      <td>Oncomine</td>\n",
       "      <td>v3</td>\n",
       "      <td>False</td>\n",
       "      <td>False</td>\n",
       "      <td>True</td>\n",
       "      <td>True</td>\n",
       "      <td>False</td>\n",
       "    </tr>\n",
       "    <tr>\n",
       "      <th>80230</th>\n",
       "      <td>HES1</td>\n",
       "      <td>Gene Name</td>\n",
       "      <td>hgnc:5192</td>\n",
       "      <td>HES1</td>\n",
       "      <td>NCI</td>\n",
       "      <td>14-Sep-17</td>\n",
       "      <td>True</td>\n",
       "      <td>True</td>\n",
       "      <td>True</td>\n",
       "      <td>True</td>\n",
       "      <td>True</td>\n",
       "    </tr>\n",
       "    <tr>\n",
       "      <th>80231</th>\n",
       "      <td>IRF1</td>\n",
       "      <td>Gene Symbol</td>\n",
       "      <td>hgnc:6116</td>\n",
       "      <td>IRF1</td>\n",
       "      <td>Tempus</td>\n",
       "      <td>11-Nov-18</td>\n",
       "      <td>False</td>\n",
       "      <td>False</td>\n",
       "      <td>True</td>\n",
       "      <td>True</td>\n",
       "      <td>False</td>\n",
       "    </tr>\n",
       "    <tr>\n",
       "      <th>80232</th>\n",
       "      <td>SHFM1</td>\n",
       "      <td>Gene Name</td>\n",
       "      <td>hgnc:10845</td>\n",
       "      <td>SEM1</td>\n",
       "      <td>DTC</td>\n",
       "      <td>9/2/20</td>\n",
       "      <td>True</td>\n",
       "      <td>False</td>\n",
       "      <td>False</td>\n",
       "      <td>True</td>\n",
       "      <td>False</td>\n",
       "    </tr>\n",
       "    <tr>\n",
       "      <th>80233</th>\n",
       "      <td>NEUROD1</td>\n",
       "      <td>Gene Name</td>\n",
       "      <td>hgnc:7762</td>\n",
       "      <td>NEUROD1</td>\n",
       "      <td>NCI</td>\n",
       "      <td>14-Sep-17</td>\n",
       "      <td>False</td>\n",
       "      <td>False</td>\n",
       "      <td>True</td>\n",
       "      <td>True</td>\n",
       "      <td>False</td>\n",
       "    </tr>\n",
       "  </tbody>\n",
       "</table>\n",
       "<p>80234 rows × 11 columns</p>\n",
       "</div>"
      ],
      "text/plain": [
       "      gene_claim_name    nomenclature  concept_id gene_name source_db_name  \\\n",
       "0              NGFIBA  NCBI Gene Name         NaN       NaN       BaderLab   \n",
       "1              NGFIBB  NCBI Gene Name         NaN       NaN       BaderLab   \n",
       "2                 DAX  NCBI Gene Name         NaN       NaN       BaderLab   \n",
       "3            REV-ERBA  NCBI Gene Name         NaN       NaN       BaderLab   \n",
       "4               COUP2  NCBI Gene Name         NaN       NaN       BaderLab   \n",
       "...               ...             ...         ...       ...            ...   \n",
       "80229             KIT     Gene Symbol   hgnc:6342       KIT       Oncomine   \n",
       "80230            HES1       Gene Name   hgnc:5192      HES1            NCI   \n",
       "80231            IRF1     Gene Symbol   hgnc:6116      IRF1         Tempus   \n",
       "80232           SHFM1       Gene Name  hgnc:10845      SEM1            DTC   \n",
       "80233         NEUROD1       Gene Name   hgnc:7762   NEUROD1            NCI   \n",
       "\n",
       "      source_db_version  claim_ambiguous_status  name_ambiguous_status  \\\n",
       "0                Feb-14                   False                  False   \n",
       "1                Feb-14                   False                  False   \n",
       "2                Feb-14                   False                  False   \n",
       "3                Feb-14                   False                  False   \n",
       "4                Feb-14                   False                  False   \n",
       "...                 ...                     ...                    ...   \n",
       "80229                v3                   False                  False   \n",
       "80230         14-Sep-17                    True                   True   \n",
       "80231         11-Nov-18                   False                  False   \n",
       "80232            9/2/20                    True                  False   \n",
       "80233         14-Sep-17                   False                  False   \n",
       "\n",
       "       claim_primary_status  name_primary_status  name_alias_status  \n",
       "0                     False                False               True  \n",
       "1                     False                False               True  \n",
       "2                     False                False               True  \n",
       "3                     False                False               True  \n",
       "4                     False                False               True  \n",
       "...                     ...                  ...                ...  \n",
       "80229                  True                 True              False  \n",
       "80230                  True                 True               True  \n",
       "80231                  True                 True              False  \n",
       "80232                 False                 True              False  \n",
       "80233                  True                 True              False  \n",
       "\n",
       "[80234 rows x 11 columns]"
      ]
     },
     "execution_count": 212,
     "metadata": {},
     "output_type": "execute_result"
    }
   ],
   "source": [
    "dgidb_gene_df[\"name_alias_status\"] = dgidb_gene_df[\"gene_name\"].isin(\n",
    "    hgnc_ensg_ncbi_alias_symbol_set\n",
    ")\n",
    "dgidb_gene_df"
   ]
  },
  {
   "cell_type": "code",
   "execution_count": 213,
   "metadata": {},
   "outputs": [
    {
     "data": {
      "text/plain": [
       "name_alias_status\n",
       "False    72260\n",
       "True      7974\n",
       "Name: count, dtype: int64"
      ]
     },
     "execution_count": 213,
     "metadata": {},
     "output_type": "execute_result"
    }
   ],
   "source": [
    "dgidb_gene_df[\"name_alias_status\"].value_counts()"
   ]
  },
  {
   "cell_type": "code",
   "execution_count": 214,
   "metadata": {},
   "outputs": [
    {
     "data": {
      "text/plain": [
       "7974"
      ]
     },
     "execution_count": 214,
     "metadata": {},
     "output_type": "execute_result"
    }
   ],
   "source": [
    "alias_name_df = dgidb_gene_df.loc[dgidb_gene_df[\"name_alias_status\"]]\n",
    "num_alias_name = len(alias_name_df)\n",
    "num_alias_name"
   ]
  },
  {
   "cell_type": "code",
   "execution_count": 215,
   "metadata": {},
   "outputs": [
    {
     "name": "stdout",
     "output_type": "stream",
     "text": [
      "True\n"
     ]
    }
   ],
   "source": [
    "print(\"Calmbp1\" in hgnc_ensg_ncbi_alias_symbol_set)"
   ]
  },
  {
   "cell_type": "markdown",
   "metadata": {},
   "source": [
    "#### <a id='toc1_1_2_24_'></a>[How many claims are alias symbols?](#toc0_)"
   ]
  },
  {
   "cell_type": "code",
   "execution_count": 216,
   "metadata": {},
   "outputs": [
    {
     "data": {
      "text/html": [
       "<div>\n",
       "<style scoped>\n",
       "    .dataframe tbody tr th:only-of-type {\n",
       "        vertical-align: middle;\n",
       "    }\n",
       "\n",
       "    .dataframe tbody tr th {\n",
       "        vertical-align: top;\n",
       "    }\n",
       "\n",
       "    .dataframe thead th {\n",
       "        text-align: right;\n",
       "    }\n",
       "</style>\n",
       "<table border=\"1\" class=\"dataframe\">\n",
       "  <thead>\n",
       "    <tr style=\"text-align: right;\">\n",
       "      <th></th>\n",
       "      <th>gene_claim_name</th>\n",
       "      <th>nomenclature</th>\n",
       "      <th>concept_id</th>\n",
       "      <th>gene_name</th>\n",
       "      <th>source_db_name</th>\n",
       "      <th>source_db_version</th>\n",
       "      <th>claim_ambiguous_status</th>\n",
       "      <th>name_ambiguous_status</th>\n",
       "      <th>claim_primary_status</th>\n",
       "      <th>name_primary_status</th>\n",
       "      <th>name_alias_status</th>\n",
       "      <th>claim_alias_status</th>\n",
       "    </tr>\n",
       "  </thead>\n",
       "  <tbody>\n",
       "    <tr>\n",
       "      <th>0</th>\n",
       "      <td>NGFIBA</td>\n",
       "      <td>NCBI Gene Name</td>\n",
       "      <td>NaN</td>\n",
       "      <td>NaN</td>\n",
       "      <td>BaderLab</td>\n",
       "      <td>Feb-14</td>\n",
       "      <td>False</td>\n",
       "      <td>False</td>\n",
       "      <td>False</td>\n",
       "      <td>False</td>\n",
       "      <td>True</td>\n",
       "      <td>False</td>\n",
       "    </tr>\n",
       "    <tr>\n",
       "      <th>1</th>\n",
       "      <td>NGFIBB</td>\n",
       "      <td>NCBI Gene Name</td>\n",
       "      <td>NaN</td>\n",
       "      <td>NaN</td>\n",
       "      <td>BaderLab</td>\n",
       "      <td>Feb-14</td>\n",
       "      <td>False</td>\n",
       "      <td>False</td>\n",
       "      <td>False</td>\n",
       "      <td>False</td>\n",
       "      <td>True</td>\n",
       "      <td>False</td>\n",
       "    </tr>\n",
       "    <tr>\n",
       "      <th>2</th>\n",
       "      <td>DAX</td>\n",
       "      <td>NCBI Gene Name</td>\n",
       "      <td>NaN</td>\n",
       "      <td>NaN</td>\n",
       "      <td>BaderLab</td>\n",
       "      <td>Feb-14</td>\n",
       "      <td>False</td>\n",
       "      <td>False</td>\n",
       "      <td>False</td>\n",
       "      <td>False</td>\n",
       "      <td>True</td>\n",
       "      <td>False</td>\n",
       "    </tr>\n",
       "    <tr>\n",
       "      <th>3</th>\n",
       "      <td>REV-ERBA</td>\n",
       "      <td>NCBI Gene Name</td>\n",
       "      <td>NaN</td>\n",
       "      <td>NaN</td>\n",
       "      <td>BaderLab</td>\n",
       "      <td>Feb-14</td>\n",
       "      <td>False</td>\n",
       "      <td>False</td>\n",
       "      <td>False</td>\n",
       "      <td>False</td>\n",
       "      <td>True</td>\n",
       "      <td>False</td>\n",
       "    </tr>\n",
       "    <tr>\n",
       "      <th>4</th>\n",
       "      <td>COUP2</td>\n",
       "      <td>NCBI Gene Name</td>\n",
       "      <td>NaN</td>\n",
       "      <td>NaN</td>\n",
       "      <td>BaderLab</td>\n",
       "      <td>Feb-14</td>\n",
       "      <td>False</td>\n",
       "      <td>False</td>\n",
       "      <td>False</td>\n",
       "      <td>False</td>\n",
       "      <td>True</td>\n",
       "      <td>False</td>\n",
       "    </tr>\n",
       "    <tr>\n",
       "      <th>...</th>\n",
       "      <td>...</td>\n",
       "      <td>...</td>\n",
       "      <td>...</td>\n",
       "      <td>...</td>\n",
       "      <td>...</td>\n",
       "      <td>...</td>\n",
       "      <td>...</td>\n",
       "      <td>...</td>\n",
       "      <td>...</td>\n",
       "      <td>...</td>\n",
       "      <td>...</td>\n",
       "      <td>...</td>\n",
       "    </tr>\n",
       "    <tr>\n",
       "      <th>80229</th>\n",
       "      <td>KIT</td>\n",
       "      <td>Gene Symbol</td>\n",
       "      <td>hgnc:6342</td>\n",
       "      <td>KIT</td>\n",
       "      <td>Oncomine</td>\n",
       "      <td>v3</td>\n",
       "      <td>False</td>\n",
       "      <td>False</td>\n",
       "      <td>True</td>\n",
       "      <td>True</td>\n",
       "      <td>False</td>\n",
       "      <td>False</td>\n",
       "    </tr>\n",
       "    <tr>\n",
       "      <th>80230</th>\n",
       "      <td>HES1</td>\n",
       "      <td>Gene Name</td>\n",
       "      <td>hgnc:5192</td>\n",
       "      <td>HES1</td>\n",
       "      <td>NCI</td>\n",
       "      <td>14-Sep-17</td>\n",
       "      <td>True</td>\n",
       "      <td>True</td>\n",
       "      <td>True</td>\n",
       "      <td>True</td>\n",
       "      <td>True</td>\n",
       "      <td>True</td>\n",
       "    </tr>\n",
       "    <tr>\n",
       "      <th>80231</th>\n",
       "      <td>IRF1</td>\n",
       "      <td>Gene Symbol</td>\n",
       "      <td>hgnc:6116</td>\n",
       "      <td>IRF1</td>\n",
       "      <td>Tempus</td>\n",
       "      <td>11-Nov-18</td>\n",
       "      <td>False</td>\n",
       "      <td>False</td>\n",
       "      <td>True</td>\n",
       "      <td>True</td>\n",
       "      <td>False</td>\n",
       "      <td>False</td>\n",
       "    </tr>\n",
       "    <tr>\n",
       "      <th>80232</th>\n",
       "      <td>SHFM1</td>\n",
       "      <td>Gene Name</td>\n",
       "      <td>hgnc:10845</td>\n",
       "      <td>SEM1</td>\n",
       "      <td>DTC</td>\n",
       "      <td>9/2/20</td>\n",
       "      <td>True</td>\n",
       "      <td>False</td>\n",
       "      <td>False</td>\n",
       "      <td>True</td>\n",
       "      <td>False</td>\n",
       "      <td>True</td>\n",
       "    </tr>\n",
       "    <tr>\n",
       "      <th>80233</th>\n",
       "      <td>NEUROD1</td>\n",
       "      <td>Gene Name</td>\n",
       "      <td>hgnc:7762</td>\n",
       "      <td>NEUROD1</td>\n",
       "      <td>NCI</td>\n",
       "      <td>14-Sep-17</td>\n",
       "      <td>False</td>\n",
       "      <td>False</td>\n",
       "      <td>True</td>\n",
       "      <td>True</td>\n",
       "      <td>False</td>\n",
       "      <td>False</td>\n",
       "    </tr>\n",
       "  </tbody>\n",
       "</table>\n",
       "<p>80234 rows × 12 columns</p>\n",
       "</div>"
      ],
      "text/plain": [
       "      gene_claim_name    nomenclature  concept_id gene_name source_db_name  \\\n",
       "0              NGFIBA  NCBI Gene Name         NaN       NaN       BaderLab   \n",
       "1              NGFIBB  NCBI Gene Name         NaN       NaN       BaderLab   \n",
       "2                 DAX  NCBI Gene Name         NaN       NaN       BaderLab   \n",
       "3            REV-ERBA  NCBI Gene Name         NaN       NaN       BaderLab   \n",
       "4               COUP2  NCBI Gene Name         NaN       NaN       BaderLab   \n",
       "...               ...             ...         ...       ...            ...   \n",
       "80229             KIT     Gene Symbol   hgnc:6342       KIT       Oncomine   \n",
       "80230            HES1       Gene Name   hgnc:5192      HES1            NCI   \n",
       "80231            IRF1     Gene Symbol   hgnc:6116      IRF1         Tempus   \n",
       "80232           SHFM1       Gene Name  hgnc:10845      SEM1            DTC   \n",
       "80233         NEUROD1       Gene Name   hgnc:7762   NEUROD1            NCI   \n",
       "\n",
       "      source_db_version  claim_ambiguous_status  name_ambiguous_status  \\\n",
       "0                Feb-14                   False                  False   \n",
       "1                Feb-14                   False                  False   \n",
       "2                Feb-14                   False                  False   \n",
       "3                Feb-14                   False                  False   \n",
       "4                Feb-14                   False                  False   \n",
       "...                 ...                     ...                    ...   \n",
       "80229                v3                   False                  False   \n",
       "80230         14-Sep-17                    True                   True   \n",
       "80231         11-Nov-18                   False                  False   \n",
       "80232            9/2/20                    True                  False   \n",
       "80233         14-Sep-17                   False                  False   \n",
       "\n",
       "       claim_primary_status  name_primary_status  name_alias_status  \\\n",
       "0                     False                False               True   \n",
       "1                     False                False               True   \n",
       "2                     False                False               True   \n",
       "3                     False                False               True   \n",
       "4                     False                False               True   \n",
       "...                     ...                  ...                ...   \n",
       "80229                  True                 True              False   \n",
       "80230                  True                 True               True   \n",
       "80231                  True                 True              False   \n",
       "80232                 False                 True              False   \n",
       "80233                  True                 True              False   \n",
       "\n",
       "       claim_alias_status  \n",
       "0                   False  \n",
       "1                   False  \n",
       "2                   False  \n",
       "3                   False  \n",
       "4                   False  \n",
       "...                   ...  \n",
       "80229               False  \n",
       "80230                True  \n",
       "80231               False  \n",
       "80232                True  \n",
       "80233               False  \n",
       "\n",
       "[80234 rows x 12 columns]"
      ]
     },
     "execution_count": 216,
     "metadata": {},
     "output_type": "execute_result"
    }
   ],
   "source": [
    "dgidb_gene_df[\"claim_alias_status\"] = dgidb_gene_df[\"gene_claim_name\"].isin(\n",
    "    hgnc_ensg_ncbi_alias_symbol_set\n",
    ")\n",
    "dgidb_gene_df"
   ]
  },
  {
   "cell_type": "code",
   "execution_count": 217,
   "metadata": {},
   "outputs": [
    {
     "data": {
      "text/plain": [
       "claim_alias_status\n",
       "False    74684\n",
       "True      5550\n",
       "Name: count, dtype: int64"
      ]
     },
     "execution_count": 217,
     "metadata": {},
     "output_type": "execute_result"
    }
   ],
   "source": [
    "dgidb_gene_df[\"claim_alias_status\"].value_counts()"
   ]
  },
  {
   "cell_type": "code",
   "execution_count": 218,
   "metadata": {},
   "outputs": [
    {
     "data": {
      "text/plain": [
       "5550"
      ]
     },
     "execution_count": 218,
     "metadata": {},
     "output_type": "execute_result"
    }
   ],
   "source": [
    "alias_claims_df = dgidb_gene_df.loc[dgidb_gene_df[\"claim_alias_status\"]]\n",
    "num_alias_claims = len(alias_claims_df)\n",
    "num_alias_claims"
   ]
  },
  {
   "cell_type": "markdown",
   "metadata": {},
   "source": [
    "#### <a id='toc1_1_2_25_'></a>[How many claims that were normalized into non-primary symbol labeled groups are alias symbols?](#toc0_)"
   ]
  },
  {
   "cell_type": "code",
   "execution_count": 219,
   "metadata": {},
   "outputs": [
    {
     "data": {
      "text/html": [
       "<div>\n",
       "<style scoped>\n",
       "    .dataframe tbody tr th:only-of-type {\n",
       "        vertical-align: middle;\n",
       "    }\n",
       "\n",
       "    .dataframe tbody tr th {\n",
       "        vertical-align: top;\n",
       "    }\n",
       "\n",
       "    .dataframe thead th {\n",
       "        text-align: right;\n",
       "    }\n",
       "</style>\n",
       "<table border=\"1\" class=\"dataframe\">\n",
       "  <thead>\n",
       "    <tr style=\"text-align: right;\">\n",
       "      <th></th>\n",
       "      <th>gene_claim_name</th>\n",
       "      <th>nomenclature</th>\n",
       "      <th>concept_id</th>\n",
       "      <th>gene_name</th>\n",
       "      <th>source_db_name</th>\n",
       "      <th>source_db_version</th>\n",
       "      <th>claim_ambiguous_status</th>\n",
       "      <th>name_ambiguous_status</th>\n",
       "      <th>claim_primary_status</th>\n",
       "      <th>name_primary_status</th>\n",
       "      <th>name_alias_status</th>\n",
       "      <th>claim_alias_status</th>\n",
       "    </tr>\n",
       "  </thead>\n",
       "  <tbody>\n",
       "    <tr>\n",
       "      <th>3251</th>\n",
       "      <td>USP17L</td>\n",
       "      <td>Gene Symbol</td>\n",
       "      <td>ncbigene:100862847</td>\n",
       "      <td>USP17L</td>\n",
       "      <td>dGene</td>\n",
       "      <td>27-Jun-13</td>\n",
       "      <td>False</td>\n",
       "      <td>False</td>\n",
       "      <td>False</td>\n",
       "      <td>False</td>\n",
       "      <td>True</td>\n",
       "      <td>True</td>\n",
       "    </tr>\n",
       "    <tr>\n",
       "      <th>38737</th>\n",
       "      <td>USP17L</td>\n",
       "      <td>Gene Symbol</td>\n",
       "      <td>ncbigene:100862847</td>\n",
       "      <td>USP17L</td>\n",
       "      <td>NCBI</td>\n",
       "      <td>20240410</td>\n",
       "      <td>False</td>\n",
       "      <td>False</td>\n",
       "      <td>False</td>\n",
       "      <td>False</td>\n",
       "      <td>True</td>\n",
       "      <td>True</td>\n",
       "    </tr>\n",
       "    <tr>\n",
       "      <th>55006</th>\n",
       "      <td>ACT</td>\n",
       "      <td>Gene Symbol</td>\n",
       "      <td>ncbigene:389036</td>\n",
       "      <td>ACT</td>\n",
       "      <td>NCBI</td>\n",
       "      <td>20240410</td>\n",
       "      <td>True</td>\n",
       "      <td>True</td>\n",
       "      <td>False</td>\n",
       "      <td>False</td>\n",
       "      <td>True</td>\n",
       "      <td>True</td>\n",
       "    </tr>\n",
       "    <tr>\n",
       "      <th>66195</th>\n",
       "      <td>OA1</td>\n",
       "      <td>Gene Symbol</td>\n",
       "      <td>ncbigene:474285</td>\n",
       "      <td>OA1</td>\n",
       "      <td>NCBI</td>\n",
       "      <td>20240410</td>\n",
       "      <td>False</td>\n",
       "      <td>False</td>\n",
       "      <td>False</td>\n",
       "      <td>False</td>\n",
       "      <td>True</td>\n",
       "      <td>True</td>\n",
       "    </tr>\n",
       "    <tr>\n",
       "      <th>66196</th>\n",
       "      <td>OA1</td>\n",
       "      <td>Gene Symbol</td>\n",
       "      <td>ncbigene:474285</td>\n",
       "      <td>OA1</td>\n",
       "      <td>dGene</td>\n",
       "      <td>27-Jun-13</td>\n",
       "      <td>False</td>\n",
       "      <td>False</td>\n",
       "      <td>False</td>\n",
       "      <td>False</td>\n",
       "      <td>True</td>\n",
       "      <td>True</td>\n",
       "    </tr>\n",
       "  </tbody>\n",
       "</table>\n",
       "</div>"
      ],
      "text/plain": [
       "      gene_claim_name nomenclature          concept_id gene_name  \\\n",
       "3251           USP17L  Gene Symbol  ncbigene:100862847    USP17L   \n",
       "38737          USP17L  Gene Symbol  ncbigene:100862847    USP17L   \n",
       "55006             ACT  Gene Symbol     ncbigene:389036       ACT   \n",
       "66195             OA1  Gene Symbol     ncbigene:474285       OA1   \n",
       "66196             OA1  Gene Symbol     ncbigene:474285       OA1   \n",
       "\n",
       "      source_db_name source_db_version  claim_ambiguous_status  \\\n",
       "3251           dGene         27-Jun-13                   False   \n",
       "38737           NCBI          20240410                   False   \n",
       "55006           NCBI          20240410                    True   \n",
       "66195           NCBI          20240410                   False   \n",
       "66196          dGene         27-Jun-13                   False   \n",
       "\n",
       "       name_ambiguous_status  claim_primary_status  name_primary_status  \\\n",
       "3251                   False                 False                False   \n",
       "38737                  False                 False                False   \n",
       "55006                   True                 False                False   \n",
       "66195                  False                 False                False   \n",
       "66196                  False                 False                False   \n",
       "\n",
       "       name_alias_status  claim_alias_status  \n",
       "3251                True                True  \n",
       "38737               True                True  \n",
       "55006               True                True  \n",
       "66195               True                True  \n",
       "66196               True                True  "
      ]
     },
     "execution_count": 219,
     "metadata": {},
     "output_type": "execute_result"
    }
   ],
   "source": [
    "dgidb_gene_df[\"claim_alias_status\"] = dgidb_gene_df[\"gene_claim_name\"].isin(\n",
    "    hgnc_ensg_ncbi_alias_symbol_set\n",
    ")\n",
    "alias_claim_not_primary_group_name_df = dgidb_gene_df.loc[\n",
    "    dgidb_gene_df[\"claim_alias_status\"] & ~dgidb_gene_df[\"name_primary_status\"]\n",
    "]\n",
    "alias_claim_not_primary_group_name_df"
   ]
  },
  {
   "cell_type": "markdown",
   "metadata": {},
   "source": [
    "#### <a id='toc1_1_2_26_'></a>[How many not normalized claims are alias symbols?](#toc0_)"
   ]
  },
  {
   "cell_type": "code",
   "execution_count": 220,
   "metadata": {},
   "outputs": [
    {
     "data": {
      "text/plain": [
       "0"
      ]
     },
     "execution_count": 220,
     "metadata": {},
     "output_type": "execute_result"
    }
   ],
   "source": [
    "alias_claim_null_name_df = dgidb_gene_df.loc[\n",
    "    dgidb_gene_df[\"claim_alias_status\"] & dgidb_gene_df[\"gene_name\"].isnull()\n",
    "]\n",
    "len(alias_claim_null_name_df)"
   ]
  },
  {
   "cell_type": "markdown",
   "metadata": {},
   "source": [
    "#### <a id='toc1_1_2_27_'></a>[How many gene group labels are not primary, alias symbols, or null?](#toc0_)"
   ]
  },
  {
   "cell_type": "code",
   "execution_count": 221,
   "metadata": {},
   "outputs": [
    {
     "data": {
      "text/plain": [
       "10"
      ]
     },
     "execution_count": 221,
     "metadata": {},
     "output_type": "execute_result"
    }
   ],
   "source": [
    "other_name_df = dgidb_gene_df.loc[\n",
    "    ~dgidb_gene_df[\"name_alias_status\"]\n",
    "    & ~dgidb_gene_df[\"name_primary_status\"]\n",
    "    & ~dgidb_gene_df[\"gene_name\"].isnull()\n",
    "]\n",
    "num_other_name = len(other_name_df)\n",
    "num_other_name"
   ]
  },
  {
   "cell_type": "markdown",
   "metadata": {},
   "source": [
    "#### <a id='toc1_1_2_28_'></a>[How many claims are not primary, alias symbols, or null?](#toc0_)"
   ]
  },
  {
   "cell_type": "code",
   "execution_count": 222,
   "metadata": {},
   "outputs": [
    {
     "data": {
      "text/plain": [
       "15270"
      ]
     },
     "execution_count": 222,
     "metadata": {},
     "output_type": "execute_result"
    }
   ],
   "source": [
    "other_claim_df = dgidb_gene_df.loc[\n",
    "    ~dgidb_gene_df[\"claim_alias_status\"] & ~dgidb_gene_df[\"claim_primary_status\"]\n",
    "]\n",
    "num_other_claim = len(other_claim_df)\n",
    "num_other_claim"
   ]
  },
  {
   "cell_type": "markdown",
   "metadata": {},
   "source": [
    "#### <a id='toc1_1_2_29_'></a>[How many claims are primary and alias symbols?](#toc0_)"
   ]
  },
  {
   "cell_type": "code",
   "execution_count": 223,
   "metadata": {},
   "outputs": [
    {
     "data": {
      "text/plain": [
       "4795"
      ]
     },
     "execution_count": 223,
     "metadata": {},
     "output_type": "execute_result"
    }
   ],
   "source": [
    "primaryandalias_claim_df = dgidb_gene_df.loc[\n",
    "    dgidb_gene_df[\"claim_alias_status\"] & dgidb_gene_df[\"claim_primary_status\"]\n",
    "]\n",
    "num_primaryandalias_claim = len(primaryandalias_claim_df)\n",
    "num_primaryandalias_claim"
   ]
  },
  {
   "cell_type": "markdown",
   "metadata": {},
   "source": [
    "#### <a id='toc1_1_2_30_'></a>[How many primary symbol claims are normalized into non-primary gene group labels?](#toc0_)"
   ]
  },
  {
   "cell_type": "code",
   "execution_count": 224,
   "metadata": {},
   "outputs": [
    {
     "data": {
      "text/html": [
       "<div>\n",
       "<style scoped>\n",
       "    .dataframe tbody tr th:only-of-type {\n",
       "        vertical-align: middle;\n",
       "    }\n",
       "\n",
       "    .dataframe tbody tr th {\n",
       "        vertical-align: top;\n",
       "    }\n",
       "\n",
       "    .dataframe thead th {\n",
       "        text-align: right;\n",
       "    }\n",
       "</style>\n",
       "<table border=\"1\" class=\"dataframe\">\n",
       "  <thead>\n",
       "    <tr style=\"text-align: right;\">\n",
       "      <th></th>\n",
       "      <th>gene_claim_name</th>\n",
       "      <th>nomenclature</th>\n",
       "      <th>concept_id</th>\n",
       "      <th>gene_name</th>\n",
       "      <th>source_db_name</th>\n",
       "      <th>source_db_version</th>\n",
       "      <th>claim_ambiguous_status</th>\n",
       "      <th>name_ambiguous_status</th>\n",
       "      <th>claim_primary_status</th>\n",
       "      <th>name_primary_status</th>\n",
       "      <th>name_alias_status</th>\n",
       "      <th>claim_alias_status</th>\n",
       "    </tr>\n",
       "  </thead>\n",
       "  <tbody>\n",
       "  </tbody>\n",
       "</table>\n",
       "</div>"
      ],
      "text/plain": [
       "Empty DataFrame\n",
       "Columns: [gene_claim_name, nomenclature, concept_id, gene_name, source_db_name, source_db_version, claim_ambiguous_status, name_ambiguous_status, claim_primary_status, name_primary_status, name_alias_status, claim_alias_status]\n",
       "Index: []"
      ]
     },
     "execution_count": 224,
     "metadata": {},
     "output_type": "execute_result"
    }
   ],
   "source": [
    "claim_true_name_false_df = dgidb_gene_df.loc[\n",
    "    dgidb_gene_df[\"claim_primary_status\"] & ~dgidb_gene_df[\"name_primary_status\"]\n",
    "]\n",
    "claim_true_name_false_df"
   ]
  },
  {
   "cell_type": "code",
   "execution_count": 225,
   "metadata": {},
   "outputs": [
    {
     "data": {
      "text/plain": [
       "0"
      ]
     },
     "execution_count": 225,
     "metadata": {},
     "output_type": "execute_result"
    }
   ],
   "source": [
    "len(claim_true_name_false_df)"
   ]
  },
  {
   "cell_type": "markdown",
   "metadata": {},
   "source": [
    "### <a id='toc1_1_3_'></a>[Summary](#toc0_)"
   ]
  },
  {
   "cell_type": "markdown",
   "metadata": {},
   "source": [
    "#### <a id='toc1_1_3_1_'></a>[Normalization Rates](#toc0_)"
   ]
  },
  {
   "cell_type": "code",
   "execution_count": 226,
   "metadata": {},
   "outputs": [
    {
     "data": {
      "text/html": [
       "<div>\n",
       "<style scoped>\n",
       "    .dataframe tbody tr th:only-of-type {\n",
       "        vertical-align: middle;\n",
       "    }\n",
       "\n",
       "    .dataframe tbody tr th {\n",
       "        vertical-align: top;\n",
       "    }\n",
       "\n",
       "    .dataframe thead th {\n",
       "        text-align: right;\n",
       "    }\n",
       "</style>\n",
       "<table border=\"1\" class=\"dataframe\">\n",
       "  <thead>\n",
       "    <tr style=\"text-align: right;\">\n",
       "      <th></th>\n",
       "      <th>Number of Claims</th>\n",
       "    </tr>\n",
       "  </thead>\n",
       "  <tbody>\n",
       "    <tr>\n",
       "      <th>Normalized</th>\n",
       "      <td>78090</td>\n",
       "    </tr>\n",
       "    <tr>\n",
       "      <th>Not Normalized</th>\n",
       "      <td>2144</td>\n",
       "    </tr>\n",
       "    <tr>\n",
       "      <th>Total</th>\n",
       "      <td>80234</td>\n",
       "    </tr>\n",
       "  </tbody>\n",
       "</table>\n",
       "</div>"
      ],
      "text/plain": [
       "                Number of Claims\n",
       "Normalized                 78090\n",
       "Not Normalized              2144\n",
       "Total                      80234"
      ]
     },
     "execution_count": 226,
     "metadata": {},
     "output_type": "execute_result"
    }
   ],
   "source": [
    "normalization_index = \"Normalized\", \"Not Normalized\", \"Total\"\n",
    "normalization_summary = {\n",
    "    \"Number of Claims\": [\n",
    "        num_normalized_claims,\n",
    "        num_not_normalized_claims,\n",
    "        num_total_claims,\n",
    "    ]\n",
    "}\n",
    "normalization_summary_df = pd.DataFrame(\n",
    "    normalization_summary, index=normalization_index\n",
    ")\n",
    "normalization_summary_df"
   ]
  },
  {
   "cell_type": "markdown",
   "metadata": {},
   "source": [
    "#### <a id='toc1_1_3_2_'></a>[Types of Claim Symbols](#toc0_)"
   ]
  },
  {
   "cell_type": "markdown",
   "metadata": {},
   "source": [
    "- Primary and Alias symbols are not exclusive as some primary symbols are used as aliases (alias-primary collisions)\n",
    "- Other does not include any Primary or Alias symbols\n",
    "- Ambiguous symbols can be either Primary or Alias"
   ]
  },
  {
   "cell_type": "code",
   "execution_count": 227,
   "metadata": {},
   "outputs": [
    {
     "data": {
      "text/html": [
       "<div>\n",
       "<style scoped>\n",
       "    .dataframe tbody tr th:only-of-type {\n",
       "        vertical-align: middle;\n",
       "    }\n",
       "\n",
       "    .dataframe tbody tr th {\n",
       "        vertical-align: top;\n",
       "    }\n",
       "\n",
       "    .dataframe thead th {\n",
       "        text-align: right;\n",
       "    }\n",
       "</style>\n",
       "<table border=\"1\" class=\"dataframe\">\n",
       "  <thead>\n",
       "    <tr style=\"text-align: right;\">\n",
       "      <th></th>\n",
       "      <th>Number of Claims</th>\n",
       "    </tr>\n",
       "  </thead>\n",
       "  <tbody>\n",
       "    <tr>\n",
       "      <th>Primary</th>\n",
       "      <td>64209</td>\n",
       "    </tr>\n",
       "    <tr>\n",
       "      <th>Alias</th>\n",
       "      <td>5550</td>\n",
       "    </tr>\n",
       "    <tr>\n",
       "      <th>Other</th>\n",
       "      <td>15270</td>\n",
       "    </tr>\n",
       "    <tr>\n",
       "      <th>Ambiguous</th>\n",
       "      <td>4876</td>\n",
       "    </tr>\n",
       "    <tr>\n",
       "      <th>Total</th>\n",
       "      <td>80234</td>\n",
       "    </tr>\n",
       "  </tbody>\n",
       "</table>\n",
       "</div>"
      ],
      "text/plain": [
       "           Number of Claims\n",
       "Primary               64209\n",
       "Alias                  5550\n",
       "Other                 15270\n",
       "Ambiguous              4876\n",
       "Total                 80234"
      ]
     },
     "execution_count": 227,
     "metadata": {},
     "output_type": "execute_result"
    }
   ],
   "source": [
    "claim_index = \"Primary\", \"Alias\", \"Other\", \"Ambiguous\", \"Total\"\n",
    "claim_summary = {\n",
    "    \"Number of Claims\": [\n",
    "        num_primary_claim,\n",
    "        num_alias_claims,\n",
    "        num_other_claim,\n",
    "        num_ambiguous_claim,\n",
    "        num_total_claims,\n",
    "    ]\n",
    "}\n",
    "claim_summary_df = pd.DataFrame(claim_summary, index=claim_index)\n",
    "claim_summary_df"
   ]
  },
  {
   "cell_type": "markdown",
   "metadata": {},
   "source": [
    "#### <a id='toc1_1_3_3_'></a>[Types of Normalizations (gene group labels claims are being normliazed into)](#toc0_)"
   ]
  },
  {
   "cell_type": "code",
   "execution_count": 228,
   "metadata": {},
   "outputs": [
    {
     "data": {
      "text/html": [
       "<div>\n",
       "<style scoped>\n",
       "    .dataframe tbody tr th:only-of-type {\n",
       "        vertical-align: middle;\n",
       "    }\n",
       "\n",
       "    .dataframe tbody tr th {\n",
       "        vertical-align: top;\n",
       "    }\n",
       "\n",
       "    .dataframe thead th {\n",
       "        text-align: right;\n",
       "    }\n",
       "</style>\n",
       "<table border=\"1\" class=\"dataframe\">\n",
       "  <thead>\n",
       "    <tr style=\"text-align: right;\">\n",
       "      <th></th>\n",
       "      <th>Number of Claims</th>\n",
       "    </tr>\n",
       "  </thead>\n",
       "  <tbody>\n",
       "    <tr>\n",
       "      <th>Primary</th>\n",
       "      <td>78074</td>\n",
       "    </tr>\n",
       "    <tr>\n",
       "      <th>Alias</th>\n",
       "      <td>7974</td>\n",
       "    </tr>\n",
       "    <tr>\n",
       "      <th>Null</th>\n",
       "      <td>2144</td>\n",
       "    </tr>\n",
       "    <tr>\n",
       "      <th>Other</th>\n",
       "      <td>10</td>\n",
       "    </tr>\n",
       "    <tr>\n",
       "      <th>Ambiguous</th>\n",
       "      <td>5775</td>\n",
       "    </tr>\n",
       "    <tr>\n",
       "      <th>Total</th>\n",
       "      <td>80234</td>\n",
       "    </tr>\n",
       "  </tbody>\n",
       "</table>\n",
       "</div>"
      ],
      "text/plain": [
       "           Number of Claims\n",
       "Primary               78074\n",
       "Alias                  7974\n",
       "Null                   2144\n",
       "Other                    10\n",
       "Ambiguous              5775\n",
       "Total                 80234"
      ]
     },
     "execution_count": 228,
     "metadata": {},
     "output_type": "execute_result"
    }
   ],
   "source": [
    "gene_group_index = \"Primary\", \"Alias\", \"Null\", \"Other\", \"Ambiguous\", \"Total\"\n",
    "gene_group_summary = {\n",
    "    \"Number of Claims\": [\n",
    "        num_primary_name,\n",
    "        num_alias_name,\n",
    "        num_not_normalized_claims,\n",
    "        num_other_name,\n",
    "        num_ambiguous_name,\n",
    "        num_total_claims,\n",
    "    ]\n",
    "}\n",
    "gene_group_summary_df = pd.DataFrame(gene_group_summary, index=gene_group_index)\n",
    "gene_group_summary_df"
   ]
  }
 ],
 "metadata": {
  "kernelspec": {
   "display_name": ".venv",
   "language": "python",
   "name": "python3"
  },
  "language_info": {
   "codemirror_mode": {
    "name": "ipython",
    "version": 3
   },
   "file_extension": ".py",
   "mimetype": "text/x-python",
   "name": "python",
   "nbconvert_exporter": "python",
   "pygments_lexer": "ipython3",
   "version": "3.11.7"
  }
 },
 "nbformat": 4,
 "nbformat_minor": 2
}
