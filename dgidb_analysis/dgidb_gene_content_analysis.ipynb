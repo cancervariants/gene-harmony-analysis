{
 "cells": [
  {
   "cell_type": "markdown",
   "metadata": {},
   "source": [
    "# <a id='toc1_'></a>[DGIdb ambiguous claims](#toc0_)"
   ]
  },
  {
   "cell_type": "markdown",
   "metadata": {},
   "source": [
    "**Table of contents**<a id='toc0_'></a>    \n",
    "- [DGIdb ambiguous claims](#toc1_)    \n",
    "    - [Analyzing similaritis b/w alias-primary and alias-alias collisions](#toc1_1_1_)    \n",
    "      - [Load merged alias-alias and alias-priamry collision sets. Symbols are the ambiguous symbols.](#toc1_1_1_1_)    \n",
    "      - [How many of the alias-primary collisions are also alias-alias collisions?](#toc1_1_1_2_)    \n",
    "      - [How many unique ambiguous symbosl are there b/w alias-primary and alias-alias collisions?](#toc1_1_1_3_)    \n",
    "    - [Primary exploration of DGIdb gene content using collisions](#toc1_1_2_)    \n",
    "      - [Load gene claim data from DGIdb](#toc1_1_2_1_)    \n",
    "      - [How many claims are placed in a gene group with a different label?](#toc1_1_2_2_)    \n",
    "      - [How many claims are not normalized?](#toc1_1_2_3_)    \n",
    "      - [Create set of gene groups (gene_name) and gene claims (gene_claim_name)](#toc1_1_2_4_)    \n",
    "      - [Load HGNC, Ensembl (ENSG), and NCBI gene and alias sets](#toc1_1_2_5_)    \n",
    "      - [How many unique primary gene symbols are there b/w HGNC, Ensembl, and NCBI?](#toc1_1_2_6_)    \n",
    "      - [How many unique alias symbols are there b/w HGNC, Ensembl, and NCBI?](#toc1_1_2_7_)    \n",
    "      - [How many unique group names are not primary gene symbols?](#toc1_1_2_8_)    \n",
    "      - [How many unique claims are not primary gene symbols?](#toc1_1_2_9_)    \n",
    "      - [Load the collision sets from each data source](#toc1_1_2_10_)    \n",
    "      - [How many unique group names are primary gene symbols?](#toc1_1_2_11_)    \n",
    "      - [How many of the groups that are labeled with a primary gene symbol are also alias-alias collisions?](#toc1_1_2_12_)    \n",
    "      - [How many unique claim symbols are collisions?](#toc1_1_2_13_)    \n",
    "      - [How many unique groups are labeled with collisions?](#toc1_1_2_14_)    \n",
    "      - [How many unique claims are not primary gene symbols?](#toc1_1_2_15_)    \n",
    "      - [How many unique claims that were not primary symbols are collisions?](#toc1_1_2_16_)    \n",
    "      - [How many unique claims that are primary gene symbols are also collisions?](#toc1_1_2_17_)    \n",
    "      - [How many of the gene groups that are not primary gene symbols are alias-alias collisions from HGNC?](#toc1_1_2_18_)    \n",
    "      - [How many claims are ambiguous symbols?](#toc1_1_2_19_)    \n",
    "      - [How many gene group labels are ambiguous symbols?](#toc1_1_2_20_)    \n",
    "      - [How many claims are primary symbols?](#toc1_1_2_21_)    \n",
    "      - [How many gene group labels are primary symbols?](#toc1_1_2_22_)    \n",
    "      - [How many gene group labels are alias symbols?](#toc1_1_2_23_)    \n",
    "      - [How many claims are alias symbols?](#toc1_1_2_24_)    \n",
    "      - [How many claims that were normalized into non-primary symbol labeled groups are alias symbols?](#toc1_1_2_25_)    \n",
    "      - [How many not normalized claims are alias symbols?](#toc1_1_2_26_)    \n",
    "      - [How many gene group labels are not primary, alias symbols, or null?](#toc1_1_2_27_)    \n",
    "      - [How many claims are not primary, alias symbols, or null?](#toc1_1_2_28_)    \n",
    "      - [How many claims are primary and alias symbols?](#toc1_1_2_29_)    \n",
    "      - [How many primary symbol claims are normalized into non-primary gene group labels?](#toc1_1_2_30_)    \n",
    "    - [Summary](#toc1_1_3_)    \n",
    "      - [Normalization Rates](#toc1_1_3_1_)    \n",
    "      - [Types of Claim Symbols](#toc1_1_3_2_)    \n",
    "      - [Types of Normalizations (gene group labels claims are being normliazed into)](#toc1_1_3_3_)    \n",
    "\n",
    "<!-- vscode-jupyter-toc-config\n",
    "\tnumbering=false\n",
    "\tanchor=true\n",
    "\tflat=false\n",
    "\tminLevel=1\n",
    "\tmaxLevel=6\n",
    "\t/vscode-jupyter-toc-config -->\n",
    "<!-- THIS CELL WILL BE REPLACED ON TOC UPDATE. DO NOT WRITE YOUR TEXT IN THIS CELL -->"
   ]
  },
  {
   "cell_type": "code",
   "execution_count": 241,
   "metadata": {},
   "outputs": [],
   "source": [
    "import pandas as pd\n",
    "import numpy as np\n",
    "import plotly.express as px"
   ]
  },
  {
   "cell_type": "markdown",
   "metadata": {},
   "source": [
    "### <a id='toc1_1_1_'></a>[Analyzing similaritis b/w alias-primary and alias-alias collisions](#toc0_)"
   ]
  },
  {
   "cell_type": "markdown",
   "metadata": {},
   "source": [
    "#### <a id='toc1_1_1_1_'></a>[Load merged alias-alias and alias-priamry collision sets. Symbols are the ambiguous symbols.](#toc0_)"
   ]
  },
  {
   "cell_type": "markdown",
   "metadata": {},
   "source": [
    "Input: merged_alias_gene_intersections.csv (total_alias_gene_intersections.ipynb), merged_alias_overlap_df_2.csv (total_alias_overlap.ipynb)"
   ]
  },
  {
   "cell_type": "markdown",
   "metadata": {},
   "source": [
    "Output: merged_alias_primary_collision_set, merged_alias_alias_collision_set"
   ]
  },
  {
   "cell_type": "code",
   "execution_count": 242,
   "metadata": {},
   "outputs": [],
   "source": [
    "merged_alias_primary_collisions_df = pd.read_csv(\n",
    "    \"../created_files/merged_alias_primary_collisions_df.csv\", na_values=[\"\", \"NULL\"], keep_default_na=False\n",
    ")"
   ]
  },
  {
   "cell_type": "code",
   "execution_count": 243,
   "metadata": {},
   "outputs": [
    {
     "data": {
      "text/plain": [
       "1677"
      ]
     },
     "execution_count": 243,
     "metadata": {},
     "output_type": "execute_result"
    }
   ],
   "source": [
    "merged_alias_primary_collision_set = set(\n",
    "    merged_alias_primary_collisions_df[\"collision\"]\n",
    ")\n",
    "len(merged_alias_primary_collision_set)"
   ]
  },
  {
   "cell_type": "code",
   "execution_count": 244,
   "metadata": {},
   "outputs": [],
   "source": [
    "merged_alias_alias_collisions_df = pd.read_csv(\n",
    "    \"../created_files/merged_aa_collision_alias_df.csv\", na_values=[\"\", \"NULL\"], keep_default_na=False\n",
    ")"
   ]
  },
  {
   "cell_type": "code",
   "execution_count": 245,
   "metadata": {},
   "outputs": [
    {
     "data": {
      "text/plain": [
       "3824"
      ]
     },
     "execution_count": 245,
     "metadata": {},
     "output_type": "execute_result"
    }
   ],
   "source": [
    "merged_alias_alias_collision_set = set(\n",
    "    merged_alias_alias_collisions_df[\"collision\"].tolist()\n",
    ")\n",
    "len(merged_alias_alias_collision_set)"
   ]
  },
  {
   "cell_type": "markdown",
   "metadata": {},
   "source": [
    "#### <a id='toc1_1_1_2_'></a>[How many of the alias-primary collisions are also alias-alias collisions?](#toc0_)"
   ]
  },
  {
   "cell_type": "code",
   "execution_count": 246,
   "metadata": {},
   "outputs": [
    {
     "name": "stdout",
     "output_type": "stream",
     "text": [
      "271\n"
     ]
    }
   ],
   "source": [
    "print(\n",
    "    len(\n",
    "        merged_alias_alias_collision_set.intersection(\n",
    "            merged_alias_primary_collision_set\n",
    "        )\n",
    "    )\n",
    ")"
   ]
  },
  {
   "cell_type": "markdown",
   "metadata": {},
   "source": [
    "#### <a id='toc1_1_1_3_'></a>[How many unique ambiguous symbosl are there b/w alias-primary and alias-alias collisions?](#toc0_)"
   ]
  },
  {
   "cell_type": "code",
   "execution_count": 247,
   "metadata": {},
   "outputs": [
    {
     "name": "stdout",
     "output_type": "stream",
     "text": [
      "5230\n"
     ]
    }
   ],
   "source": [
    "ambiguous_symbol_set = merged_alias_alias_collision_set.union(\n",
    "    merged_alias_primary_collision_set\n",
    ")\n",
    "print(len(ambiguous_symbol_set))"
   ]
  },
  {
   "cell_type": "code",
   "execution_count": 248,
   "metadata": {},
   "outputs": [
    {
     "data": {
      "text/plain": [
       "{'TAT',\n",
       " 'SAR',\n",
       " 'DELTA',\n",
       " 'PFD',\n",
       " 'MK2',\n",
       " 'CAC1',\n",
       " 'DAND1',\n",
       " 'CAP3',\n",
       " 'SPC3',\n",
       " 'NKHC',\n",
       " 'PAC1',\n",
       " 'HBAB',\n",
       " 'ZNF20',\n",
       " 'PCT',\n",
       " 'ELP1',\n",
       " 'NRF2',\n",
       " 'PAK5',\n",
       " 'CEP1',\n",
       " 'FAM90A17P',\n",
       " 'PCGF4',\n",
       " 'DEF6',\n",
       " 'GAR1',\n",
       " 'HXBL',\n",
       " 'MRT1',\n",
       " 'AIS1',\n",
       " 'BIG3',\n",
       " 'PHR1',\n",
       " 'FOP',\n",
       " 'TCRAV11S1',\n",
       " 'NBPF',\n",
       " 'MIO',\n",
       " 'EFTUD1',\n",
       " 'MCSP',\n",
       " 'MIP-1-BETA',\n",
       " 'GR',\n",
       " 'CBS',\n",
       " 'ELF1',\n",
       " 'GCP-1',\n",
       " 'TAT1',\n",
       " 'CRAM',\n",
       " 'CANP',\n",
       " 'MGAT1',\n",
       " 'ME2',\n",
       " 'YMR292W',\n",
       " 'TTL',\n",
       " 'HL-2',\n",
       " 'CT4.7',\n",
       " 'TRB',\n",
       " 'TCRAV24S1',\n",
       " 'SMILE',\n",
       " 'SPACDR',\n",
       " 'HGPS',\n",
       " 'NPIPA8',\n",
       " 'FAM18B2',\n",
       " 'CNIH2',\n",
       " 'CBLC',\n",
       " 'CPAD',\n",
       " 'OR17-16',\n",
       " 'AST',\n",
       " 'KIR',\n",
       " 'WDR82',\n",
       " 'ADAM18',\n",
       " 'NSCL2',\n",
       " 'MUC5',\n",
       " 'D3',\n",
       " 'HSD11',\n",
       " 'NET4',\n",
       " 'TSPY8',\n",
       " 'SES2',\n",
       " 'POP1',\n",
       " 'SCYL3',\n",
       " 'OR11H12',\n",
       " 'U7',\n",
       " 'ECGP',\n",
       " 'TRR-TCT3-1',\n",
       " 'E3',\n",
       " 'KRTAP4-7',\n",
       " 'COAS3',\n",
       " 'NOS',\n",
       " 'HMCS',\n",
       " 'TRP-AGG2-5',\n",
       " 'HCAP',\n",
       " 'AMD1',\n",
       " 'OR2A7',\n",
       " 'TARG1',\n",
       " 'OS4',\n",
       " 'ARG',\n",
       " 'CDS1',\n",
       " 'ECA2',\n",
       " 'POLG',\n",
       " 'MIHC',\n",
       " 'SMUC',\n",
       " 'OCC-1',\n",
       " 'TM',\n",
       " 'SFPQ',\n",
       " 'BMH',\n",
       " 'CRP1',\n",
       " 'PFHB1',\n",
       " 'CHAMP',\n",
       " 'COD1',\n",
       " 'PRP',\n",
       " 'DEL16P11.2',\n",
       " 'MYT1',\n",
       " 'EFA6R',\n",
       " 'NY-REN-2',\n",
       " 'NET',\n",
       " 'TNRC14',\n",
       " 'FAE',\n",
       " 'FADS1',\n",
       " 'MS4A8',\n",
       " 'GS2',\n",
       " 'GL',\n",
       " 'SPANX',\n",
       " 'TC2',\n",
       " 'MD1',\n",
       " 'SLC23A1',\n",
       " 'PLAP-1',\n",
       " 'CRD',\n",
       " 'AZI',\n",
       " 'DGCR6',\n",
       " 'H3',\n",
       " 'TDE2',\n",
       " 'MLN',\n",
       " 'SNT2',\n",
       " 'APT2',\n",
       " 'SPK',\n",
       " 'HAS1',\n",
       " 'SSB2',\n",
       " 'P160',\n",
       " 'HPIP',\n",
       " 'MRX92',\n",
       " 'GSG1',\n",
       " 'BPAD',\n",
       " 'GATD6',\n",
       " 'POTE2BETA',\n",
       " 'GABPB2',\n",
       " 'TFQTL2',\n",
       " 'ILT5',\n",
       " 'ICBP90',\n",
       " 'SEMA',\n",
       " 'MPD3',\n",
       " 'CDH20',\n",
       " 'PAP-ALPHA',\n",
       " 'EXOC1',\n",
       " 'SAC3',\n",
       " 'TBC1D3L',\n",
       " 'CAP2',\n",
       " 'LCAD',\n",
       " 'CYP2D7AP',\n",
       " 'OR21-1',\n",
       " 'PTC',\n",
       " 'AD10',\n",
       " 'OR7E75P',\n",
       " 'PIG5',\n",
       " 'HCG',\n",
       " 'CSBS',\n",
       " 'DLP1',\n",
       " 'SCC1',\n",
       " 'TRE',\n",
       " 'IBP1',\n",
       " 'ZBP1',\n",
       " 'TSPY1',\n",
       " 'AK3L2',\n",
       " 'SMG',\n",
       " 'TRNAI-AAU',\n",
       " 'EDH17B2',\n",
       " 'TIM',\n",
       " 'TAK1',\n",
       " 'RRF',\n",
       " 'PSS3',\n",
       " 'TP2',\n",
       " 'ZNF688',\n",
       " 'DRP3',\n",
       " 'AG2',\n",
       " 'CK20',\n",
       " 'UGT1E',\n",
       " 'GAL3ST2',\n",
       " 'PBG1',\n",
       " 'MET',\n",
       " 'DAR',\n",
       " 'TRD',\n",
       " 'TRNAV22',\n",
       " 'GT1',\n",
       " 'CDR1AS',\n",
       " 'ARH1',\n",
       " 'LPSAT',\n",
       " '2F1',\n",
       " 'MRPS12',\n",
       " 'RIP5',\n",
       " 'MORF4LP4',\n",
       " 'NOD',\n",
       " 'PSM',\n",
       " 'ADCY3',\n",
       " 'FABP5P1',\n",
       " 'GST1',\n",
       " 'LBP',\n",
       " 'CPP',\n",
       " 'TSH2',\n",
       " 'OF',\n",
       " 'MN',\n",
       " 'SIK1',\n",
       " 'AMDD',\n",
       " 'SOD2',\n",
       " 'UBL5',\n",
       " 'THG1',\n",
       " 'MB1',\n",
       " 'TCF3',\n",
       " 'MCT1',\n",
       " 'HRG',\n",
       " 'NLF1',\n",
       " 'PK3',\n",
       " 'SMA4',\n",
       " 'PAD',\n",
       " 'RAM',\n",
       " 'GLUC',\n",
       " 'I1',\n",
       " 'PRIP',\n",
       " 'KNO2',\n",
       " 'MUC3A',\n",
       " 'SRGAP2',\n",
       " 'CLG',\n",
       " 'CSF',\n",
       " 'PPIAL4F',\n",
       " 'SPP1',\n",
       " 'SIGLECP2',\n",
       " 'MGC45441',\n",
       " 'RNTMI2',\n",
       " 'NRP',\n",
       " 'B37',\n",
       " 'DDX11L1',\n",
       " 'H4C12',\n",
       " 'ZNF183',\n",
       " 'S13',\n",
       " 'NTN4',\n",
       " 'RIT1',\n",
       " 'CGB5',\n",
       " 'SCL',\n",
       " 'GPR136',\n",
       " 'SSF1',\n",
       " 'A15',\n",
       " 'TAO1',\n",
       " 'C6ORF68',\n",
       " 'DAP1',\n",
       " 'CT5.2',\n",
       " 'P51',\n",
       " 'COX2',\n",
       " 'IP',\n",
       " 'RP1',\n",
       " 'SAN',\n",
       " 'GAL7',\n",
       " 'CKMT1',\n",
       " 'CYK4',\n",
       " 'CYP1',\n",
       " 'FKBP9',\n",
       " 'TRBP',\n",
       " 'SNAPA',\n",
       " 'MIC1',\n",
       " 'BST1',\n",
       " 'HLA-DRB',\n",
       " 'ARSB',\n",
       " 'AF-1',\n",
       " 'BEDP',\n",
       " 'ASC2',\n",
       " 'IFN-ALPHAI',\n",
       " 'LBNBG',\n",
       " '5PTASE',\n",
       " 'LPD',\n",
       " 'GBF1',\n",
       " 'BXDC3',\n",
       " 'MIR17HG',\n",
       " 'HIES6',\n",
       " 'GCAP-I',\n",
       " 'E4TF1B',\n",
       " 'SP110',\n",
       " 'LCA',\n",
       " 'VCF',\n",
       " 'MACS',\n",
       " 'GH',\n",
       " 'FRP',\n",
       " 'TP53TG3E',\n",
       " 'BRF2',\n",
       " 'P33',\n",
       " 'ALDA',\n",
       " 'IRT1',\n",
       " 'NALD',\n",
       " 'CIR',\n",
       " 'PRPH',\n",
       " 'ULG4',\n",
       " 'TOF',\n",
       " 'HC8',\n",
       " 'HLP',\n",
       " 'ZNF474',\n",
       " 'INCA',\n",
       " 'LCP1',\n",
       " 'SCAR3',\n",
       " 'RP3',\n",
       " 'IGHM',\n",
       " 'MBD1',\n",
       " 'HIS',\n",
       " 'MYPOP',\n",
       " 'L22',\n",
       " 'ART1',\n",
       " 'CHN',\n",
       " 'PGS2',\n",
       " 'SET7',\n",
       " 'RGR',\n",
       " 'ATP1A1',\n",
       " 'ADA1',\n",
       " 'MIP2',\n",
       " 'APC2',\n",
       " 'GPX6',\n",
       " 'TCRGV5P',\n",
       " 'CLK1',\n",
       " 'ACTP1',\n",
       " 'RAP1GA1',\n",
       " 'PRH',\n",
       " 'SIL',\n",
       " 'CX30.2',\n",
       " 'TFP',\n",
       " 'GCB',\n",
       " 'C7ORF55',\n",
       " 'HML',\n",
       " 'CSS3',\n",
       " 'MRX82',\n",
       " 'CCL4L',\n",
       " 'ESG1',\n",
       " 'GP135',\n",
       " 'SCYA4L',\n",
       " 'PAIS',\n",
       " 'ATP6C',\n",
       " 'RBMY1A1',\n",
       " 'P97',\n",
       " 'AMCN',\n",
       " 'IGHV3-3',\n",
       " 'PRK1',\n",
       " 'OR7E72P',\n",
       " 'PK',\n",
       " 'HSST2',\n",
       " 'POST',\n",
       " 'IGHV4-4',\n",
       " 'SAD1',\n",
       " 'LAD',\n",
       " 'DAGK',\n",
       " 'RNU1P2',\n",
       " 'POLH',\n",
       " 'OFD1P2',\n",
       " 'OR11-104',\n",
       " 'TKT',\n",
       " 'FCCMS',\n",
       " 'PCA1',\n",
       " 'TAAR2',\n",
       " 'ROX',\n",
       " 'FCRLB',\n",
       " 'TRF',\n",
       " 'UP2',\n",
       " 'HLP2',\n",
       " 'PAI',\n",
       " 'GPHR',\n",
       " 'HMAT1',\n",
       " 'RWS',\n",
       " 'HAP40',\n",
       " 'TRK',\n",
       " 'MYP4',\n",
       " 'RAB7',\n",
       " 'SIRPB2',\n",
       " 'TBC1D3A',\n",
       " 'LAGE-2',\n",
       " 'HPCA',\n",
       " 'PHS',\n",
       " 'ARB1',\n",
       " 'SPANX-E',\n",
       " 'OR19-6',\n",
       " 'MLT',\n",
       " 'PDI',\n",
       " 'R51H3',\n",
       " 'FPP',\n",
       " 'P62',\n",
       " 'RIP-1',\n",
       " 'UGT-1C',\n",
       " 'PRR20D',\n",
       " 'IMP-3',\n",
       " 'RETSDR2',\n",
       " 'RPL36A',\n",
       " 'SPS2',\n",
       " 'NCC-3',\n",
       " 'CEP4',\n",
       " 'PIUS',\n",
       " 'MELF2',\n",
       " 'L8',\n",
       " 'DC7',\n",
       " 'BD-3',\n",
       " 'C7',\n",
       " 'DEFB-5',\n",
       " 'KOX31',\n",
       " 'DFNB35',\n",
       " 'SYN1A',\n",
       " 'ROR1',\n",
       " 'TRYP2',\n",
       " 'NIRF',\n",
       " 'HI',\n",
       " 'NRP2',\n",
       " 'TP1',\n",
       " 'SK2',\n",
       " 'PTX1',\n",
       " 'INPP5F',\n",
       " 'SMA3-L',\n",
       " 'SULT1A3',\n",
       " 'HRCA1',\n",
       " 'Z18',\n",
       " 'STAG3L2',\n",
       " 'ATS2',\n",
       " 'FBL5',\n",
       " 'PACER',\n",
       " 'SH120',\n",
       " 'CRT',\n",
       " 'TRAP-1',\n",
       " 'CSD',\n",
       " 'ADA2',\n",
       " 'RIA1',\n",
       " 'RIF1',\n",
       " 'TSBP',\n",
       " 'ABC1',\n",
       " 'TRX',\n",
       " 'EIF4F',\n",
       " 'SAP',\n",
       " 'HSP70.1',\n",
       " 'TRAMP',\n",
       " 'APMR1',\n",
       " 'SPR',\n",
       " 'LRRC51',\n",
       " 'BACH1',\n",
       " 'FAAP16',\n",
       " 'COII',\n",
       " 'HEL-75',\n",
       " 'UBC4/5',\n",
       " 'SF1',\n",
       " 'TCTEX4',\n",
       " 'SPATA31C2',\n",
       " 'CMT1',\n",
       " 'SPRK',\n",
       " 'TAL',\n",
       " 'H2BFA',\n",
       " 'KAT',\n",
       " 'HBII-52-46',\n",
       " 'FADS',\n",
       " 'CAM1',\n",
       " 'CBWD3',\n",
       " 'D3F15S2',\n",
       " 'MAS1',\n",
       " 'CCTB',\n",
       " 'NEK8',\n",
       " 'TFIIH',\n",
       " 'TCEB1L',\n",
       " 'TP53TG3B',\n",
       " 'ATF',\n",
       " 'SUT2',\n",
       " 'OR6-1',\n",
       " 'RNU1P1',\n",
       " 'ZIP4',\n",
       " 'H2B/S',\n",
       " 'CDR',\n",
       " 'FCRIII',\n",
       " 'CDC14B2',\n",
       " 'HRS',\n",
       " 'XAP3',\n",
       " 'ASPRS',\n",
       " 'PYPAF7',\n",
       " 'PRR20A',\n",
       " 'QARS',\n",
       " 'MLC2',\n",
       " 'HEBP1',\n",
       " 'ELOA3CP',\n",
       " 'SEMAL',\n",
       " 'COX7AL',\n",
       " 'PRR4',\n",
       " 'TCP11X2',\n",
       " 'RP8',\n",
       " 'GUSBP9',\n",
       " 'STK7',\n",
       " 'CCR4',\n",
       " 'KV10.1',\n",
       " 'M-FABP',\n",
       " 'ELP4',\n",
       " 'BTN1',\n",
       " 'TTG1',\n",
       " 'R1',\n",
       " 'CLNS1B',\n",
       " 'UGT1A3',\n",
       " 'P100',\n",
       " 'TLL',\n",
       " 'TUBA2',\n",
       " 'KRTAP5-3',\n",
       " 'MS4A4',\n",
       " 'MSH',\n",
       " 'TAN1',\n",
       " 'TRG-GCC2-3',\n",
       " 'CPBHM',\n",
       " 'NF1L6',\n",
       " 'KLIP1',\n",
       " 'CYP2B',\n",
       " 'P240',\n",
       " 'CRP',\n",
       " 'OI4',\n",
       " 'ARX',\n",
       " 'MPP6',\n",
       " 'PIG8',\n",
       " 'DLD',\n",
       " 'RPN2',\n",
       " 'TASP',\n",
       " 'PIG9',\n",
       " 'PRG',\n",
       " 'APM-1',\n",
       " 'ZSCAN31',\n",
       " 'FJHN',\n",
       " 'HH',\n",
       " 'MST',\n",
       " 'COAS2',\n",
       " 'TTY6',\n",
       " 'PMF1',\n",
       " 'CT45-2',\n",
       " 'M130',\n",
       " 'HMS',\n",
       " 'CL-6',\n",
       " 'PAM-1',\n",
       " 'ASB3',\n",
       " 'RSC6P',\n",
       " 'UGT2',\n",
       " 'P22',\n",
       " 'NAC',\n",
       " 'VDAC3',\n",
       " 'TRY-GTA5-3',\n",
       " 'TRAP',\n",
       " 'BAL',\n",
       " 'P25',\n",
       " 'EBS4',\n",
       " 'TCRGC1',\n",
       " 'EFG',\n",
       " 'EGLN2',\n",
       " 'USP17L26',\n",
       " 'P34',\n",
       " 'SLEB6',\n",
       " 'M-ABC1',\n",
       " 'CHED',\n",
       " 'NIDDM1',\n",
       " 'MAD3',\n",
       " 'MLCK',\n",
       " 'DUP',\n",
       " 'AOH1',\n",
       " 'LDB1',\n",
       " 'NPHP3',\n",
       " 'FBS1',\n",
       " 'CDD',\n",
       " 'TRAV11',\n",
       " 'RNA5-8SP',\n",
       " 'PST',\n",
       " 'ML-1',\n",
       " 'U5B1',\n",
       " 'MINT',\n",
       " 'SMAC3L',\n",
       " 'GLCT1',\n",
       " 'ARG1',\n",
       " 'RFT1',\n",
       " 'S3',\n",
       " 'MIG7',\n",
       " 'GPRASP3',\n",
       " 'NKIR',\n",
       " 'TRX-CAT1-6',\n",
       " 'INT2',\n",
       " 'PAFAH',\n",
       " 'GST2',\n",
       " 'BRF-1',\n",
       " 'CRL1',\n",
       " 'MMAA',\n",
       " 'SPO',\n",
       " 'WRS',\n",
       " 'RU2',\n",
       " 'TEBP',\n",
       " 'DSH',\n",
       " 'ACAT',\n",
       " 'RYR',\n",
       " 'CMT2T',\n",
       " 'RASSF5',\n",
       " 'ATDC',\n",
       " 'FCT3A',\n",
       " 'SPINT3',\n",
       " 'TRD-GTC2-7',\n",
       " 'AIRP',\n",
       " 'SAE2',\n",
       " 'ESO1',\n",
       " 'GLUD1',\n",
       " 'H3.1',\n",
       " 'MIR-129B',\n",
       " 'APO-CIV',\n",
       " 'CGRP',\n",
       " 'BDPLT2',\n",
       " 'ARP10',\n",
       " 'PPT2',\n",
       " 'ANT',\n",
       " 'TAZ',\n",
       " 'CAPS1',\n",
       " 'ANG1',\n",
       " 'DNM1DN3@',\n",
       " 'H-REV107',\n",
       " 'NBS',\n",
       " 'VPH1',\n",
       " 'OR4M2',\n",
       " 'FADS2',\n",
       " 'MBP-1',\n",
       " 'CSRP2BP',\n",
       " 'P26',\n",
       " 'CXDELQ22.3',\n",
       " 'TP53TG3',\n",
       " 'ETK',\n",
       " 'PSF2',\n",
       " 'HPF1',\n",
       " 'WSS',\n",
       " 'KIR2DL5B',\n",
       " 'CRIP',\n",
       " 'TRP2',\n",
       " 'CD98',\n",
       " 'RZF',\n",
       " 'OAT1',\n",
       " 'ANKRD30BP3',\n",
       " 'PAR-4',\n",
       " 'ARP2',\n",
       " 'TLX',\n",
       " 'GALNT15',\n",
       " 'CD32',\n",
       " 'MSF',\n",
       " 'EZH1',\n",
       " 'P50',\n",
       " 'HP1',\n",
       " 'FAM28A',\n",
       " 'TTTY9A',\n",
       " 'MRPL27',\n",
       " 'OR912-108',\n",
       " 'IFNT1',\n",
       " 'ETL1',\n",
       " 'C9ORF2',\n",
       " 'IBGC2',\n",
       " 'RANBP7',\n",
       " 'CAF1A',\n",
       " 'ALS19',\n",
       " 'HCA1',\n",
       " 'ST3',\n",
       " 'L11',\n",
       " 'CYP2D',\n",
       " 'RCD1',\n",
       " 'NEUROPSIN',\n",
       " 'TRM1',\n",
       " 'ACC',\n",
       " 'LTBP3',\n",
       " 'SPAG11A',\n",
       " 'SRGAP3',\n",
       " 'APOC-IV',\n",
       " 'SEMG',\n",
       " 'MUC9',\n",
       " 'CTLA1',\n",
       " 'DAGK6',\n",
       " 'SAT3',\n",
       " 'SDH1',\n",
       " 'CPA6',\n",
       " 'MCT5',\n",
       " 'TCRBV12S2',\n",
       " 'SPN',\n",
       " 'F2',\n",
       " 'VMA10',\n",
       " 'KGA',\n",
       " 'ST7',\n",
       " 'MIR1',\n",
       " 'COPS7B',\n",
       " 'AAT1',\n",
       " 'ASPS',\n",
       " 'MAP-2',\n",
       " 'SCARNA17',\n",
       " 'KAT3',\n",
       " 'DCR2',\n",
       " 'EIF3-P110',\n",
       " 'EDM4',\n",
       " 'CFC1B',\n",
       " 'NRP1',\n",
       " 'OCP2',\n",
       " 'PAN2',\n",
       " 'FIG',\n",
       " 'MED24',\n",
       " 'PRP4',\n",
       " 'CLL1',\n",
       " 'LRH-1',\n",
       " 'CLA3',\n",
       " 'DMC1',\n",
       " 'PDA2',\n",
       " 'STD',\n",
       " 'CT1.5',\n",
       " 'DBI',\n",
       " 'LEU2',\n",
       " 'USP17',\n",
       " 'FA1',\n",
       " 'LGL1',\n",
       " 'MADM',\n",
       " 'NOR1',\n",
       " 'DRS1',\n",
       " 'ASB-3',\n",
       " 'DJ222E13.1',\n",
       " 'CMT2A',\n",
       " 'CSTP1',\n",
       " 'RNA18SP',\n",
       " 'GPD',\n",
       " 'KAT4',\n",
       " 'SCKL4',\n",
       " 'TRIP',\n",
       " 'TRH-GTG1-9',\n",
       " 'KIR2DL3',\n",
       " 'CCA1',\n",
       " 'FAN1',\n",
       " 'NR6',\n",
       " 'COPD',\n",
       " 'RH4',\n",
       " 'AIB3',\n",
       " 'SCP3',\n",
       " 'H3C12',\n",
       " 'NAT1',\n",
       " 'NG2',\n",
       " 'G2',\n",
       " 'HN1L',\n",
       " 'MUM1',\n",
       " 'EHK1',\n",
       " 'ZNF322',\n",
       " 'B5',\n",
       " 'GTF2IRD2A',\n",
       " 'P38',\n",
       " 'PCDH22',\n",
       " 'NANOGP1',\n",
       " 'TTLL5',\n",
       " 'GDN',\n",
       " 'GGTA1P',\n",
       " 'PRL3',\n",
       " 'DLG1',\n",
       " 'DEFB4',\n",
       " 'GPIBB',\n",
       " 'CSB',\n",
       " 'MONA',\n",
       " 'TRP-AGG2-6',\n",
       " 'MENA',\n",
       " 'EK',\n",
       " 'LGMD1D',\n",
       " 'CORO7',\n",
       " 'DUSP24',\n",
       " 'CAP',\n",
       " 'DFNA42',\n",
       " 'GNT1',\n",
       " 'BAM',\n",
       " 'IGSF13',\n",
       " 'OTSC12',\n",
       " 'RPT5',\n",
       " 'GP',\n",
       " 'IFI-4',\n",
       " 'TIC',\n",
       " 'MAT1',\n",
       " 'NT3',\n",
       " 'MGA',\n",
       " 'STA',\n",
       " 'TBC1D3D',\n",
       " 'CAR1',\n",
       " 'P20-ARC',\n",
       " 'SP5',\n",
       " 'EIT6',\n",
       " 'OP-2',\n",
       " 'TRF-GAA1-5',\n",
       " 'OCM',\n",
       " 'BTF3',\n",
       " 'HSD17',\n",
       " 'NSR1',\n",
       " 'CPT',\n",
       " 'HSP72',\n",
       " 'EIF1AP1',\n",
       " 'S6',\n",
       " 'TRK1',\n",
       " 'CLIM1',\n",
       " 'CD182',\n",
       " 'FBL2',\n",
       " 'POM121',\n",
       " 'MIR8069',\n",
       " 'CCR9',\n",
       " 'A1B',\n",
       " 'NKH',\n",
       " 'ODCP',\n",
       " 'FCGR3',\n",
       " 'BDNF',\n",
       " 'EIF2B',\n",
       " 'RAR2',\n",
       " 'AIB1',\n",
       " 'CT45A4',\n",
       " 'PEPC',\n",
       " 'POD1',\n",
       " 'ANXA8',\n",
       " 'FKBP51',\n",
       " 'TBC1D3P1',\n",
       " 'HARC',\n",
       " 'LAMR',\n",
       " 'BBP',\n",
       " 'NBIA4',\n",
       " 'ATP6G',\n",
       " 'GJE1',\n",
       " 'PAGB',\n",
       " 'MROH7',\n",
       " 'STIP-1',\n",
       " 'CACNA1C-IT2',\n",
       " 'TTF1',\n",
       " 'DNAJ',\n",
       " 'PRPS1',\n",
       " 'CTPP5',\n",
       " 'PAF1',\n",
       " 'BEX1',\n",
       " 'SF',\n",
       " 'UTR',\n",
       " 'GLUT9',\n",
       " 'EDG-2',\n",
       " 'LPP1',\n",
       " 'HLS2',\n",
       " 'GX',\n",
       " 'ADRA1',\n",
       " 'RNA18S5',\n",
       " 'MRT4',\n",
       " 'IAP',\n",
       " 'C9ORF36A',\n",
       " 'APPL2',\n",
       " 'MSPS',\n",
       " 'ATD',\n",
       " 'RED',\n",
       " 'LPL',\n",
       " 'MRX17',\n",
       " 'PPCD',\n",
       " 'NAT5P',\n",
       " 'SODF',\n",
       " 'SCHAD',\n",
       " 'UBCH8',\n",
       " 'C7ORF70',\n",
       " 'CT58',\n",
       " 'PIG2',\n",
       " 'WBSCR20B',\n",
       " 'RDS',\n",
       " 'TOMM6',\n",
       " 'FETA',\n",
       " 'CAMC',\n",
       " 'PIG6',\n",
       " 'CMT2B2',\n",
       " 'P1',\n",
       " 'PIM1',\n",
       " 'AUTS2',\n",
       " 'BHLHE38',\n",
       " 'MHAC',\n",
       " 'CCR10',\n",
       " 'OCT3',\n",
       " 'FBL4',\n",
       " 'CATCH22',\n",
       " 'POM121L1',\n",
       " 'RSS',\n",
       " 'CD14',\n",
       " 'CRIPTO',\n",
       " 'HP',\n",
       " 'H2AC8',\n",
       " 'MLX',\n",
       " 'SNRNP65',\n",
       " 'APH2',\n",
       " 'H2B/L',\n",
       " 'XGPY',\n",
       " 'PAK1',\n",
       " 'A6',\n",
       " 'GEM',\n",
       " 'HS3ST5',\n",
       " 'PTPRQ',\n",
       " 'MAP1A',\n",
       " 'IL-23',\n",
       " 'NTT',\n",
       " 'TDGF2',\n",
       " 'MCP',\n",
       " 'KCR1',\n",
       " 'CXXC11',\n",
       " 'AB14',\n",
       " 'NPH1',\n",
       " 'HBH',\n",
       " 'KAP10.9',\n",
       " 'FB',\n",
       " 'PAR-1',\n",
       " 'SHP1',\n",
       " 'L21',\n",
       " 'TRIM49D2P',\n",
       " 'SLC62A1',\n",
       " 'CLAC',\n",
       " 'GBA',\n",
       " 'ICIS',\n",
       " 'SCCMS',\n",
       " 'PXR1',\n",
       " 'MMP21',\n",
       " 'P19',\n",
       " 'PLGLA1',\n",
       " 'CYP3A7',\n",
       " 'OCC1',\n",
       " 'STIP',\n",
       " 'ESP',\n",
       " 'ZSCAN30',\n",
       " 'SST1',\n",
       " 'ODA6',\n",
       " 'ANT1',\n",
       " 'RPF1',\n",
       " 'APY',\n",
       " 'PSG10',\n",
       " 'DNAL1',\n",
       " 'BRCC2',\n",
       " 'PHF2',\n",
       " 'SCAP',\n",
       " 'K-REV',\n",
       " 'TRFP',\n",
       " 'RUS',\n",
       " 'PLSCR3',\n",
       " 'PDE4DIP',\n",
       " 'ISGF-3',\n",
       " '10Q23DEL',\n",
       " 'SDH',\n",
       " 'ORM',\n",
       " 'CYP-M',\n",
       " 'PPR1',\n",
       " 'PE-1',\n",
       " 'H9',\n",
       " 'DJ221C16.8',\n",
       " 'GPAT',\n",
       " 'C1QTNF5',\n",
       " 'C17',\n",
       " 'GPI',\n",
       " 'TCRA',\n",
       " 'TERA',\n",
       " 'HBP',\n",
       " 'MEGT1',\n",
       " 'TRX-CAT1-7',\n",
       " 'UGT1A5',\n",
       " 'RNU6-6',\n",
       " 'PTX2',\n",
       " 'AUTL1',\n",
       " 'MOX1',\n",
       " 'HRH1',\n",
       " 'AMY1',\n",
       " 'RTP',\n",
       " 'CBF-B',\n",
       " 'T1',\n",
       " 'NP1',\n",
       " 'CLC2',\n",
       " 'CHL',\n",
       " 'HL2',\n",
       " 'TRGC1',\n",
       " 'FRITZ',\n",
       " 'TRY-GTA5-1',\n",
       " 'MTR1',\n",
       " 'DDH2',\n",
       " 'DEFB-3',\n",
       " 'UBC',\n",
       " 'TTTY23B',\n",
       " 'HPH-1',\n",
       " 'HRMT1L3',\n",
       " 'GAL',\n",
       " 'SCYL2',\n",
       " 'RPS17L2',\n",
       " 'RPP20',\n",
       " 'CAS',\n",
       " 'KRTAP5-5',\n",
       " 'MMGL',\n",
       " 'TTTY23',\n",
       " 'CMS4C',\n",
       " 'L9',\n",
       " 'RAR',\n",
       " 'H3C8',\n",
       " 'ZYG11',\n",
       " 'H4C15',\n",
       " 'BCAP',\n",
       " 'PFM2',\n",
       " 'SPDYE9',\n",
       " 'RPL10P',\n",
       " 'TRK-TTT3-5',\n",
       " 'USP17L27',\n",
       " 'REX1',\n",
       " 'IA4',\n",
       " 'JP1',\n",
       " 'EIF4A',\n",
       " 'LNCR2',\n",
       " 'TRX1',\n",
       " 'CDC14B',\n",
       " 'ZFP91',\n",
       " 'MGC5228',\n",
       " 'CNP',\n",
       " 'MIG-2',\n",
       " 'OSCP',\n",
       " 'FCGAMMARIA',\n",
       " 'KRTHA3A',\n",
       " 'ZIP',\n",
       " 'H3F3AP1',\n",
       " '35DAG',\n",
       " 'CDA1',\n",
       " 'CARDINAL',\n",
       " 'PUMA-G',\n",
       " 'AAC2',\n",
       " 'LAS1',\n",
       " ...}"
      ]
     },
     "execution_count": 248,
     "metadata": {},
     "output_type": "execute_result"
    }
   ],
   "source": [
    "ambiguous_symbol_set"
   ]
  },
  {
   "cell_type": "code",
   "execution_count": 249,
   "metadata": {},
   "outputs": [
    {
     "name": "stdout",
     "output_type": "stream",
     "text": [
      "5230\n"
     ]
    }
   ],
   "source": [
    "ambiguous_symbol_set = set(item.strip() for item in ambiguous_symbol_set)\n",
    "\n",
    "print(len(ambiguous_symbol_set))"
   ]
  },
  {
   "cell_type": "code",
   "execution_count": 250,
   "metadata": {},
   "outputs": [],
   "source": [
    "with open(\"created_files/ambiguous_symbol_set.txt\", \"w\") as file:\n",
    "    for item in ambiguous_symbol_set:\n",
    "        file.write(f\"{item.strip()}\\n\")"
   ]
  },
  {
   "cell_type": "code",
   "execution_count": 251,
   "metadata": {},
   "outputs": [
    {
     "data": {
      "text/plain": [
       "5230"
      ]
     },
     "execution_count": 251,
     "metadata": {},
     "output_type": "execute_result"
    }
   ],
   "source": [
    "with open(\"created_files/ambiguous_symbol_set.txt\", \"r\") as file:\n",
    "    # Read each line, strip newline characters, and convert to a set\n",
    "    ambiguous_symbol_set = set(line.strip() for line in file)\n",
    "len(ambiguous_symbol_set)"
   ]
  },
  {
   "cell_type": "code",
   "execution_count": 252,
   "metadata": {},
   "outputs": [
    {
     "data": {
      "text/plain": [
       "{'TAT',\n",
       " 'SAR',\n",
       " 'PFD',\n",
       " 'DAND1',\n",
       " 'CAC1',\n",
       " 'CAP3',\n",
       " 'SPC3',\n",
       " 'PAC1',\n",
       " 'ZNF20',\n",
       " 'PCT',\n",
       " 'ELP1',\n",
       " 'NRF2',\n",
       " 'PAK5',\n",
       " 'PCGF4',\n",
       " 'HXBL',\n",
       " 'MRT1',\n",
       " 'AIS1',\n",
       " 'FOP',\n",
       " 'EFTUD1',\n",
       " 'MIO',\n",
       " 'MIP-1-BETA',\n",
       " 'ELF1',\n",
       " 'TAT1',\n",
       " 'CRAM',\n",
       " 'MGAT1',\n",
       " 'ME2',\n",
       " 'SMILE',\n",
       " 'HGPS',\n",
       " 'FAM18B2',\n",
       " 'CNIH2',\n",
       " 'CBLC',\n",
       " 'CPAD',\n",
       " 'WDR82',\n",
       " 'AST',\n",
       " 'ADAM18',\n",
       " 'MUC5',\n",
       " 'D3',\n",
       " 'HSD11',\n",
       " 'SCYL3',\n",
       " 'ECGP',\n",
       " 'TRR-TCT3-1',\n",
       " 'E3',\n",
       " 'COAS3',\n",
       " 'TRP-AGG2-5',\n",
       " 'HCAP',\n",
       " 'AMD1',\n",
       " 'OR2A7',\n",
       " 'MIHC',\n",
       " 'OCC-1',\n",
       " 'TM',\n",
       " 'BMH',\n",
       " 'CRP1',\n",
       " 'PFHB1',\n",
       " 'CHAMP',\n",
       " 'COD1',\n",
       " 'PRP',\n",
       " 'DEL16P11.2',\n",
       " 'MYT1',\n",
       " 'NY-REN-2',\n",
       " 'FADS1',\n",
       " 'MS4A8',\n",
       " 'GL',\n",
       " 'SPANX',\n",
       " 'PLAP-1',\n",
       " 'CRD',\n",
       " 'DGCR6',\n",
       " 'APT2',\n",
       " 'HAS1',\n",
       " 'SSB2',\n",
       " 'P160',\n",
       " 'MRX92',\n",
       " 'BPAD',\n",
       " 'POTE2BETA',\n",
       " 'GABPB2',\n",
       " 'ILT5',\n",
       " 'ICBP90',\n",
       " 'PAP-ALPHA',\n",
       " 'EXOC1',\n",
       " 'CAP2',\n",
       " 'LCAD',\n",
       " 'CYP2D7AP',\n",
       " 'AD10',\n",
       " 'OR7E75P',\n",
       " 'HCG',\n",
       " 'IBP1',\n",
       " 'ZBP1',\n",
       " 'TSPY1',\n",
       " 'AK3L2',\n",
       " 'TRNAI-AAU',\n",
       " 'TIM',\n",
       " 'PSS3',\n",
       " 'TP2',\n",
       " 'DRP3',\n",
       " 'AG2',\n",
       " 'CK20',\n",
       " 'GT1',\n",
       " '2F1',\n",
       " 'MRPS12',\n",
       " 'MORF4LP4',\n",
       " 'PSM',\n",
       " 'ADCY3',\n",
       " 'FABP5P1',\n",
       " 'GST1',\n",
       " 'CPP',\n",
       " 'SIK1',\n",
       " 'MN',\n",
       " 'UBL5',\n",
       " 'THG1',\n",
       " 'MB1',\n",
       " 'MCT1',\n",
       " 'NLF1',\n",
       " 'PK3',\n",
       " 'GLUC',\n",
       " 'PRIP',\n",
       " 'CLG',\n",
       " 'CSF',\n",
       " 'PPIAL4F',\n",
       " 'SPP1',\n",
       " 'DDX11L1',\n",
       " 'H4C12',\n",
       " 'CGB5',\n",
       " 'SSF1',\n",
       " 'DAP1',\n",
       " 'CT5.2',\n",
       " 'P51',\n",
       " 'IP',\n",
       " 'SAN',\n",
       " 'FKBP9',\n",
       " 'CYP1',\n",
       " 'BST1',\n",
       " 'HLA-DRB',\n",
       " 'AF-1',\n",
       " '5PTASE',\n",
       " 'LPD',\n",
       " 'BXDC3',\n",
       " 'MIR17HG',\n",
       " 'GCAP-I',\n",
       " 'SP110',\n",
       " 'GH',\n",
       " 'MACS',\n",
       " 'BRF2',\n",
       " 'ALDA',\n",
       " 'PRPH',\n",
       " 'CIR',\n",
       " 'HC8',\n",
       " 'HLP',\n",
       " 'INCA',\n",
       " 'LCP1',\n",
       " 'SCAR3',\n",
       " 'RP3',\n",
       " 'MBD1',\n",
       " 'MYPOP',\n",
       " 'ART1',\n",
       " 'PGS2',\n",
       " 'RGR',\n",
       " 'APC2',\n",
       " 'CLK1',\n",
       " 'RAP1GA1',\n",
       " 'PRH',\n",
       " 'CX30.2',\n",
       " 'TFP',\n",
       " 'CSS3',\n",
       " 'CCL4L',\n",
       " 'ATP6C',\n",
       " 'AMCN',\n",
       " 'P97',\n",
       " 'PRK1',\n",
       " 'OR7E72P',\n",
       " 'PK',\n",
       " 'HSST2',\n",
       " 'IGHV4-4',\n",
       " 'SAD1',\n",
       " 'DAGK',\n",
       " 'RNU1P2',\n",
       " 'POLH',\n",
       " 'TAAR2',\n",
       " 'ROX',\n",
       " 'FCRLB',\n",
       " 'TRF',\n",
       " 'UP2',\n",
       " 'HLP2',\n",
       " 'GPHR',\n",
       " 'RWS',\n",
       " 'HAP40',\n",
       " 'MYP4',\n",
       " 'RAB7',\n",
       " 'SIRPB2',\n",
       " 'LAGE-2',\n",
       " 'HPCA',\n",
       " 'ARB1',\n",
       " 'SPANX-E',\n",
       " 'MLT',\n",
       " 'PDI',\n",
       " 'FPP',\n",
       " 'P62',\n",
       " 'RPL36A',\n",
       " 'CEP4',\n",
       " 'MELF2',\n",
       " 'L8',\n",
       " 'BD-3',\n",
       " 'C7',\n",
       " 'DEFB-5',\n",
       " 'DFNB35',\n",
       " 'SYN1A',\n",
       " 'TRYP2',\n",
       " 'NIRF',\n",
       " 'HI',\n",
       " 'SK2',\n",
       " 'PTX1',\n",
       " 'SMA3-L',\n",
       " 'SULT1A3',\n",
       " 'HRCA1',\n",
       " 'Z18',\n",
       " 'PACER',\n",
       " 'CRT',\n",
       " 'TRAP-1',\n",
       " 'CSD',\n",
       " 'ADA2',\n",
       " 'TSBP',\n",
       " 'ABC1',\n",
       " 'EIF4F',\n",
       " 'SAP',\n",
       " 'TRAMP',\n",
       " 'SPR',\n",
       " 'COII',\n",
       " 'HEL-75',\n",
       " 'SPATA31C2',\n",
       " 'H2BFA',\n",
       " 'KAT',\n",
       " 'CAM1',\n",
       " 'CBWD3',\n",
       " 'D3F15S2',\n",
       " 'NEK8',\n",
       " 'TP53TG3B',\n",
       " 'SUT2',\n",
       " 'OR6-1',\n",
       " 'RNU1P1',\n",
       " 'CDR',\n",
       " 'CDC14B2',\n",
       " 'XAP3',\n",
       " 'ASPRS',\n",
       " 'PYPAF7',\n",
       " 'PRR20A',\n",
       " 'QARS',\n",
       " 'ELOA3CP',\n",
       " 'SEMAL',\n",
       " 'COX7AL',\n",
       " 'PRR4',\n",
       " 'TCP11X2',\n",
       " 'GUSBP9',\n",
       " 'KV10.1',\n",
       " 'M-FABP',\n",
       " 'ELP4',\n",
       " 'UGT1A3',\n",
       " 'P100',\n",
       " 'TLL',\n",
       " 'MSH',\n",
       " 'TAN1',\n",
       " 'CPBHM',\n",
       " 'NF1L6',\n",
       " 'KLIP1',\n",
       " 'CYP2B',\n",
       " 'CRP',\n",
       " 'OI4',\n",
       " 'ARX',\n",
       " 'PIG8',\n",
       " 'RPN2',\n",
       " 'TASP',\n",
       " 'APM-1',\n",
       " 'ZSCAN31',\n",
       " 'MST',\n",
       " 'PMF1',\n",
       " 'CT45-2',\n",
       " 'M130',\n",
       " 'CL-6',\n",
       " 'PAM-1',\n",
       " 'ASB3',\n",
       " 'UGT2',\n",
       " 'TRY-GTA5-3',\n",
       " 'P25',\n",
       " 'TCRGC1',\n",
       " 'SLEB6',\n",
       " 'MLCK',\n",
       " 'LDB1',\n",
       " 'AOH1',\n",
       " 'TRAV11',\n",
       " 'MINT',\n",
       " 'S3',\n",
       " 'MIG7',\n",
       " 'GPRASP3',\n",
       " 'NKIR',\n",
       " 'TRX-CAT1-6',\n",
       " 'PAFAH',\n",
       " 'GST2',\n",
       " 'BRF-1',\n",
       " 'CRL1',\n",
       " 'MMAA',\n",
       " 'SPO',\n",
       " 'RYR',\n",
       " 'FCT3A',\n",
       " 'TRD-GTC2-7',\n",
       " 'AIRP',\n",
       " 'SAE2',\n",
       " 'GLUD1',\n",
       " 'H3.1',\n",
       " 'MIR-129B',\n",
       " 'APO-CIV',\n",
       " 'BDPLT2',\n",
       " 'TAZ',\n",
       " 'ANG1',\n",
       " 'H-REV107',\n",
       " 'NBS',\n",
       " 'OR4M2',\n",
       " 'CSRP2BP',\n",
       " 'CXDELQ22.3',\n",
       " 'ETK',\n",
       " 'HPF1',\n",
       " 'KIR2DL5B',\n",
       " 'CRIP',\n",
       " 'TLX',\n",
       " 'GALNT15',\n",
       " 'MSF',\n",
       " 'EZH1',\n",
       " 'TTTY9A',\n",
       " 'MRPL27',\n",
       " 'IFNT1',\n",
       " 'C9ORF2',\n",
       " 'IBGC2',\n",
       " 'CAF1A',\n",
       " 'HCA1',\n",
       " 'ST3',\n",
       " 'L11',\n",
       " 'NEUROPSIN',\n",
       " 'ACC',\n",
       " 'SPAG11A',\n",
       " 'SRGAP3',\n",
       " 'APOC-IV',\n",
       " 'SEMG',\n",
       " 'CTLA1',\n",
       " 'CPA6',\n",
       " 'MCT5',\n",
       " 'TCRBV12S2',\n",
       " 'ST7',\n",
       " 'COPS7B',\n",
       " 'ASPS',\n",
       " 'MAP-2',\n",
       " 'EIF3-P110',\n",
       " 'EDM4',\n",
       " 'CFC1B',\n",
       " 'NRP1',\n",
       " 'OCP2',\n",
       " 'PAN2',\n",
       " 'FIG',\n",
       " 'PRP4',\n",
       " 'CLL1',\n",
       " 'CLA3',\n",
       " 'CT1.5',\n",
       " 'ASB-3',\n",
       " 'USP17',\n",
       " 'LGL1',\n",
       " 'DRS1',\n",
       " 'DJ222E13.1',\n",
       " 'CSTP1',\n",
       " 'RNA18SP',\n",
       " 'KAT4',\n",
       " 'SCKL4',\n",
       " 'TRH-GTG1-9',\n",
       " 'KIR2DL3',\n",
       " 'CCA1',\n",
       " 'NR6',\n",
       " 'COPD',\n",
       " 'RH4',\n",
       " 'NAT1',\n",
       " 'G2',\n",
       " 'MUM1',\n",
       " 'EHK1',\n",
       " 'ZNF322',\n",
       " 'TTLL5',\n",
       " 'P38',\n",
       " 'GDN',\n",
       " 'PRL3',\n",
       " 'DEFB4',\n",
       " 'MONA',\n",
       " 'EK',\n",
       " 'DUSP24',\n",
       " 'CAP',\n",
       " 'GNT1',\n",
       " 'IGSF13',\n",
       " 'OTSC12',\n",
       " 'GP',\n",
       " 'MAT1',\n",
       " 'NT3',\n",
       " 'MGA',\n",
       " 'STA',\n",
       " 'CAR1',\n",
       " 'P20-ARC',\n",
       " 'SP5',\n",
       " 'EIT6',\n",
       " 'OP-2',\n",
       " 'HSD17',\n",
       " 'NSR1',\n",
       " 'HSP72',\n",
       " 'S6',\n",
       " 'CD182',\n",
       " 'FBL2',\n",
       " 'POM121',\n",
       " 'MIR8069',\n",
       " 'A1B',\n",
       " 'NKH',\n",
       " 'BDNF',\n",
       " 'RAR2',\n",
       " 'AIB1',\n",
       " 'CT45A4',\n",
       " 'PEPC',\n",
       " 'ANXA8',\n",
       " 'FKBP51',\n",
       " 'BBP',\n",
       " 'NBIA4',\n",
       " 'ATP6G',\n",
       " 'GJE1',\n",
       " 'PAGB',\n",
       " 'STIP-1',\n",
       " 'CACNA1C-IT2',\n",
       " 'TTF1',\n",
       " 'DNAJ',\n",
       " 'CTPP5',\n",
       " 'UTR',\n",
       " 'GX',\n",
       " 'RNA18S5',\n",
       " 'APPL2',\n",
       " 'MSPS',\n",
       " 'ATD',\n",
       " 'MRX17',\n",
       " 'NAT5P',\n",
       " 'SODF',\n",
       " 'CT58',\n",
       " 'WBSCR20B',\n",
       " 'RDS',\n",
       " 'CAMC',\n",
       " 'PIG6',\n",
       " 'CMT2B2',\n",
       " 'P1',\n",
       " 'BHLHE38',\n",
       " 'MHAC',\n",
       " 'CCR10',\n",
       " 'OCT3',\n",
       " 'FBL4',\n",
       " 'POM121L1',\n",
       " 'RSS',\n",
       " 'MLX',\n",
       " 'CRIPTO',\n",
       " 'SNRNP65',\n",
       " 'H2B/L',\n",
       " 'PAK1',\n",
       " 'PTPRQ',\n",
       " 'MAP1A',\n",
       " 'NTT',\n",
       " 'TDGF2',\n",
       " 'MCP',\n",
       " 'CXXC11',\n",
       " 'AB14',\n",
       " 'KAP10.9',\n",
       " 'FB',\n",
       " 'SHP1',\n",
       " 'TRIM49D2P',\n",
       " 'CLAC',\n",
       " 'GBA',\n",
       " 'ICIS',\n",
       " 'SCCMS',\n",
       " 'PXR1',\n",
       " 'P19',\n",
       " 'PLGLA1',\n",
       " 'CYP3A7',\n",
       " 'ESP',\n",
       " 'ZSCAN30',\n",
       " 'SST1',\n",
       " 'ODA6',\n",
       " 'PSG10',\n",
       " 'DNAL1',\n",
       " 'BRCC2',\n",
       " 'SCAP',\n",
       " 'RUS',\n",
       " 'ISGF-3',\n",
       " '10Q23DEL',\n",
       " 'SDH',\n",
       " 'ORM',\n",
       " 'DJ221C16.8',\n",
       " 'GPAT',\n",
       " 'GPI',\n",
       " 'MEGT1',\n",
       " 'TRX-CAT1-7',\n",
       " 'PTX2',\n",
       " 'AUTL1',\n",
       " 'HRH1',\n",
       " 'T1',\n",
       " 'NP1',\n",
       " 'CLC2',\n",
       " 'HL2',\n",
       " 'FRITZ',\n",
       " 'DDH2',\n",
       " 'DEFB-3',\n",
       " 'UBC',\n",
       " 'TTTY23B',\n",
       " 'HRMT1L3',\n",
       " 'GAL',\n",
       " 'RPS17L2',\n",
       " 'KRTAP5-5',\n",
       " 'MMGL',\n",
       " 'CMS4C',\n",
       " 'H3C8',\n",
       " 'BCAP',\n",
       " 'TRK-TTT3-5',\n",
       " 'USP17L27',\n",
       " 'CDC14B',\n",
       " 'MIG-2',\n",
       " 'KRTHA3A',\n",
       " 'ZIP',\n",
       " 'H3F3AP1',\n",
       " '35DAG',\n",
       " 'CDA1',\n",
       " 'CARDINAL',\n",
       " 'AAC2',\n",
       " 'CGB7',\n",
       " 'GTF2H2C_2',\n",
       " 'GDF1',\n",
       " 'AP2',\n",
       " 'MRS',\n",
       " 'PTEN2',\n",
       " '9G8',\n",
       " 'DAC',\n",
       " 'S12',\n",
       " 'HSD2',\n",
       " 'BED',\n",
       " 'TTF2',\n",
       " 'HZF',\n",
       " 'AK3L1',\n",
       " 'SRBC',\n",
       " 'GLM7',\n",
       " 'DYT17',\n",
       " 'DGS',\n",
       " 'DPPIV',\n",
       " 'GLYT1',\n",
       " 'GPCR',\n",
       " 'PSEUDO-ICE',\n",
       " 'TCRAV32S1',\n",
       " 'ELK',\n",
       " 'LD78',\n",
       " 'ASE1',\n",
       " 'RHEB2',\n",
       " 'ABL',\n",
       " 'MAL',\n",
       " 'PAP',\n",
       " 'NPC1',\n",
       " 'COM1',\n",
       " 'TTTY6',\n",
       " 'IGHV4',\n",
       " 'PRF1',\n",
       " 'ZNF32',\n",
       " 'RGS9',\n",
       " 'MLL4',\n",
       " 'ERG1',\n",
       " 'SL1',\n",
       " 'TRP3',\n",
       " 'PROTEINASE',\n",
       " 'ACHRD',\n",
       " 'OR19-18',\n",
       " 'ALDC',\n",
       " 'TBC1D3F',\n",
       " 'PSS1',\n",
       " 'PAPPAS',\n",
       " 'CT47',\n",
       " 'OR11-1',\n",
       " 'HOAT4',\n",
       " 'TTTY1',\n",
       " 'GBP3',\n",
       " 'CCTA',\n",
       " 'HOX4',\n",
       " 'HK3',\n",
       " 'RASA1',\n",
       " 'KOX5',\n",
       " 'NLS1',\n",
       " 'RILP',\n",
       " 'CD1',\n",
       " 'AZ1',\n",
       " 'TAKR',\n",
       " 'NAT5',\n",
       " 'GUCA2',\n",
       " 'OR19-8',\n",
       " 'TCRAV26S1',\n",
       " 'TRQ-CTG1-5',\n",
       " 'LRRN4',\n",
       " 'RP42',\n",
       " 'NET7',\n",
       " 'FBI1',\n",
       " 'SYT14L',\n",
       " 'MIFR',\n",
       " 'LAM',\n",
       " 'KIR2DS3',\n",
       " 'PIG-U',\n",
       " 'PTE2',\n",
       " 'VP',\n",
       " 'LIPH',\n",
       " 'CNG4',\n",
       " 'DAO',\n",
       " 'H4F5',\n",
       " 'FX',\n",
       " 'L4',\n",
       " 'P-PST',\n",
       " 'LAN',\n",
       " 'XBP1',\n",
       " 'PTGES3P',\n",
       " 'AK3',\n",
       " 'DTR',\n",
       " 'ZIP2',\n",
       " 'BDPLT16',\n",
       " 'MGAT3',\n",
       " 'MIG2',\n",
       " 'BS',\n",
       " 'TTF-1',\n",
       " 'G6PT',\n",
       " 'MSK1',\n",
       " 'SHMT',\n",
       " 'ZNF264',\n",
       " 'METRS',\n",
       " 'DELXQ22.3',\n",
       " 'RP2',\n",
       " 'PN-II',\n",
       " 'PMP22',\n",
       " 'PTB',\n",
       " 'AQP9',\n",
       " 'CKS1',\n",
       " 'UGT1A',\n",
       " 'EBN',\n",
       " 'FAAH',\n",
       " 'H4C3',\n",
       " 'CPSQ3',\n",
       " 'SP3',\n",
       " 'NS3TP1',\n",
       " 'H2AB2',\n",
       " 'SNT1',\n",
       " 'PARK21',\n",
       " 'FCRL1',\n",
       " 'ZRC1',\n",
       " 'CORD5',\n",
       " 'CAMK',\n",
       " 'GPXL2',\n",
       " 'SPRING',\n",
       " 'LOR',\n",
       " 'C14ORF67',\n",
       " 'LPLAT',\n",
       " 'DP1',\n",
       " 'CARK',\n",
       " 'APR',\n",
       " 'AITD3',\n",
       " 'L10A',\n",
       " 'L5',\n",
       " 'MMP25',\n",
       " 'GT334',\n",
       " 'CRHSP24',\n",
       " 'L15MT',\n",
       " 'VIT1',\n",
       " 'PAC-1',\n",
       " 'SLC35E2',\n",
       " 'TRY-GTA5-2',\n",
       " 'C10ORF2',\n",
       " 'CLCP1',\n",
       " 'TRI-AAT5-5',\n",
       " 'ARPIN',\n",
       " 'LINC02921',\n",
       " 'XAP4',\n",
       " 'F5F8D',\n",
       " 'SEP1',\n",
       " 'RNU1-8P',\n",
       " 'L3',\n",
       " 'MIR',\n",
       " 'SMAD1',\n",
       " 'PPIASE',\n",
       " 'MIC-1',\n",
       " 'HEPN1',\n",
       " 'PSP',\n",
       " 'REF1',\n",
       " 'MAD2',\n",
       " 'NEDBA',\n",
       " 'ARCC2',\n",
       " 'ROCHIS',\n",
       " 'LEURS',\n",
       " 'ESG',\n",
       " 'MS4A7',\n",
       " 'ECE2',\n",
       " 'BTR',\n",
       " 'CLMF',\n",
       " 'MYNN',\n",
       " 'EMAP2',\n",
       " 'PSG11',\n",
       " 'RPS12',\n",
       " 'P40',\n",
       " 'MSP',\n",
       " 'WTS',\n",
       " 'CAPC',\n",
       " 'TCRBV12S3',\n",
       " 'AT744.2',\n",
       " 'HLF',\n",
       " 'ATR',\n",
       " 'TTY11',\n",
       " 'MK',\n",
       " 'MIG6',\n",
       " 'ARP6',\n",
       " 'PAMP',\n",
       " 'FAT',\n",
       " 'FCR-10',\n",
       " 'LINC00087',\n",
       " 'RNU3',\n",
       " 'CT24.2',\n",
       " 'SMIM11B',\n",
       " 'P180',\n",
       " 'NPH2',\n",
       " 'HIST1H2BC',\n",
       " 'ACTBL1',\n",
       " 'LAT1',\n",
       " 'IK1',\n",
       " 'BMI1',\n",
       " 'HDC',\n",
       " 'SNRPB1',\n",
       " 'TP53TG3F',\n",
       " 'CAST',\n",
       " 'TVP23C',\n",
       " 'LINC00086',\n",
       " 'CGA',\n",
       " 'HADH',\n",
       " 'AGT',\n",
       " 'MRX15',\n",
       " 'NOS1',\n",
       " 'PRR2',\n",
       " 'FAPP2',\n",
       " 'PTH',\n",
       " 'H3C3',\n",
       " 'FBXO31',\n",
       " 'USP16',\n",
       " 'H3C6',\n",
       " 'MFRP',\n",
       " 'TRI-AAT5-4',\n",
       " 'SCAR1',\n",
       " 'B3GN-T1',\n",
       " 'KRTAP2-1',\n",
       " 'RD',\n",
       " 'CTF',\n",
       " 'HCC',\n",
       " 'RGPD2',\n",
       " 'PKL',\n",
       " 'RNAH',\n",
       " 'COX11',\n",
       " 'FLIP',\n",
       " 'PISD',\n",
       " 'ASP',\n",
       " 'MAP-1',\n",
       " 'RCP',\n",
       " 'PAR3',\n",
       " 'UGT1A1',\n",
       " 'KAP2.4',\n",
       " 'CPA3',\n",
       " 'CLAMP',\n",
       " 'FLJ20375',\n",
       " 'OPG',\n",
       " 'HB2',\n",
       " 'HKPX1',\n",
       " 'ADC',\n",
       " 'ALG10',\n",
       " 'RNU1-7P',\n",
       " 'MT1K',\n",
       " 'RGP3',\n",
       " 'MCM',\n",
       " 'NCA',\n",
       " 'DJ388M5',\n",
       " 'NPR2',\n",
       " 'MPP11',\n",
       " 'PTPN20CP',\n",
       " 'CAIN',\n",
       " 'A2M',\n",
       " 'IGHV4-38-2',\n",
       " 'TAP1',\n",
       " 'US2',\n",
       " 'HSP70.2',\n",
       " 'PTX3',\n",
       " 'BAT1',\n",
       " 'PLAC8',\n",
       " 'ALS',\n",
       " 'UFM1P1',\n",
       " 'REN',\n",
       " 'DUSP13',\n",
       " 'CCNL1',\n",
       " 'P75',\n",
       " 'C4B_2',\n",
       " 'SGS',\n",
       " 'PDP1',\n",
       " 'PARF',\n",
       " 'SLC24A2',\n",
       " 'DSK2',\n",
       " 'APT1',\n",
       " 'GST3',\n",
       " 'ZRS',\n",
       " 'MSK2',\n",
       " 'HOX3',\n",
       " 'L23A',\n",
       " 'DIA1',\n",
       " 'SGT2',\n",
       " 'UDPGT 1-1',\n",
       " 'ST3GALII',\n",
       " 'COX11P',\n",
       " 'RPS27AP',\n",
       " 'ACTB',\n",
       " 'BRCC1',\n",
       " 'H4C2',\n",
       " 'RITA',\n",
       " 'CTF5',\n",
       " 'MCPH4',\n",
       " 'ODC1',\n",
       " 'ZNF141',\n",
       " 'TRP-TGG3-2',\n",
       " 'NOV',\n",
       " 'COP',\n",
       " 'L-UBC',\n",
       " 'TCEB3CL',\n",
       " 'P120',\n",
       " 'RPL13',\n",
       " 'MIR198',\n",
       " 'EIF-4C',\n",
       " 'CYPD',\n",
       " 'HES1',\n",
       " 'BCGF1',\n",
       " 'LRRC37',\n",
       " 'HHM',\n",
       " 'RAB41',\n",
       " 'CXORF11',\n",
       " 'BA548K23.1',\n",
       " 'GAGE-12B',\n",
       " 'TCRBV21S1',\n",
       " 'RS',\n",
       " 'GPCR21',\n",
       " 'DHX40P1',\n",
       " 'HMR',\n",
       " 'CCBP2',\n",
       " 'XCE',\n",
       " 'TRG-CCC6-1',\n",
       " 'DNM1DN4@',\n",
       " 'CHIF',\n",
       " 'TAMO',\n",
       " 'METTL2',\n",
       " 'KLK7',\n",
       " 'UBXD10',\n",
       " 'UCN2',\n",
       " 'EP2',\n",
       " 'TNT',\n",
       " 'SG2NA',\n",
       " 'ASP1',\n",
       " 'HZF1',\n",
       " 'GCCD2',\n",
       " 'EKV',\n",
       " 'CDH14',\n",
       " 'MPDZ',\n",
       " 'KIAA0563',\n",
       " 'UNR',\n",
       " 'CCD1',\n",
       " 'WT2',\n",
       " 'LCN5',\n",
       " 'H2A.BBD',\n",
       " 'CAPB',\n",
       " 'TMS',\n",
       " 'VMA2',\n",
       " 'AIP',\n",
       " 'ING2',\n",
       " 'GUSBP1',\n",
       " 'NOL1',\n",
       " 'LCA10',\n",
       " 'THC2',\n",
       " 'GCAP',\n",
       " 'STAR',\n",
       " 'SIK',\n",
       " 'PNMT',\n",
       " 'HARP',\n",
       " 'ASAP',\n",
       " 'GLUR7',\n",
       " 'ARP8',\n",
       " 'RHO',\n",
       " 'TSARG1',\n",
       " 'CAC',\n",
       " 'BFNC',\n",
       " 'MRP7',\n",
       " 'PRR23D2',\n",
       " 'IGHV',\n",
       " 'LMO4',\n",
       " 'DEFB-4',\n",
       " 'HL',\n",
       " 'TRIM49D1',\n",
       " 'P2',\n",
       " 'BRWD2',\n",
       " 'NEU1',\n",
       " 'TRAD',\n",
       " 'AIS',\n",
       " 'DEC1',\n",
       " 'DP',\n",
       " 'DSP',\n",
       " 'MIG12',\n",
       " 'FRAXE',\n",
       " 'CEP2',\n",
       " 'SNF2LB',\n",
       " 'CAR2',\n",
       " 'PAO',\n",
       " 'SMIM10L3',\n",
       " 'NCAM2',\n",
       " 'NAP2',\n",
       " 'GGT2',\n",
       " 'HBP-3',\n",
       " 'AIM',\n",
       " 'CPX2',\n",
       " 'STN1',\n",
       " 'IPS',\n",
       " 'IGVH',\n",
       " 'HLP3',\n",
       " 'CO4',\n",
       " 'DOC1',\n",
       " 'PTPRO',\n",
       " 'PP17',\n",
       " 'MRXSL',\n",
       " 'HAS',\n",
       " 'NOTCH2NL',\n",
       " 'MDSP',\n",
       " 'SPANX-A',\n",
       " 'WBS',\n",
       " 'A26B3',\n",
       " 'CLU1',\n",
       " 'HIST2H2BD',\n",
       " 'ELK3',\n",
       " 'OA3',\n",
       " 'HRES1',\n",
       " 'BSC',\n",
       " 'FCRI',\n",
       " 'DELXP11.3',\n",
       " 'NOD5',\n",
       " 'TRS-AGA2-4',\n",
       " 'DQA1',\n",
       " 'HPR',\n",
       " 'DUPXP11.22',\n",
       " 'ISWI',\n",
       " 'PRR20E',\n",
       " 'FH',\n",
       " 'POLK',\n",
       " 'TTTY8',\n",
       " 'TRPC7',\n",
       " 'PCTAIRE',\n",
       " 'HRES-1',\n",
       " 'CBLB',\n",
       " 'COP1',\n",
       " 'TYRO4',\n",
       " 'PGAM-B',\n",
       " 'BRIGHT',\n",
       " 'FHL1',\n",
       " 'ARAP',\n",
       " 'GOT1B',\n",
       " 'CD25',\n",
       " 'UBH1',\n",
       " 'RCA1',\n",
       " 'VIP',\n",
       " 'RWDD4A',\n",
       " 'FCGR2',\n",
       " 'HCCA2',\n",
       " 'CLE',\n",
       " 'C20ORF37',\n",
       " 'DAT1',\n",
       " 'PKD3',\n",
       " 'POTE22',\n",
       " 'PTH1',\n",
       " 'UNG2',\n",
       " 'PILRB',\n",
       " 'DBP',\n",
       " 'CYC1',\n",
       " 'ZIP3',\n",
       " 'SCA2',\n",
       " 'CT90',\n",
       " 'HYPK',\n",
       " 'SIP1',\n",
       " 'RHA',\n",
       " 'DFNB6',\n",
       " 'LRF',\n",
       " 'SIK1B',\n",
       " 'KCNJN1',\n",
       " 'L30',\n",
       " 'SCCA1',\n",
       " 'RBMXP1',\n",
       " 'ACS3',\n",
       " 'TDH',\n",
       " 'HSM',\n",
       " 'HIST1H2BG',\n",
       " 'IGHEP1',\n",
       " 'VR1',\n",
       " 'HD7',\n",
       " 'MAP2',\n",
       " 'RIG1',\n",
       " 'NSP',\n",
       " 'CRF',\n",
       " 'TEN1',\n",
       " ...}"
      ]
     },
     "execution_count": 252,
     "metadata": {},
     "output_type": "execute_result"
    }
   ],
   "source": [
    "ambiguous_symbol_set"
   ]
  },
  {
   "cell_type": "markdown",
   "metadata": {},
   "source": [
    "### <a id='toc1_1_2_'></a>[Primary exploration of DGIdb gene content using collisions](#toc0_)"
   ]
  },
  {
   "cell_type": "markdown",
   "metadata": {},
   "source": [
    "#### <a id='toc1_1_2_1_'></a>[Load gene claim data from DGIdb](#toc0_)"
   ]
  },
  {
   "cell_type": "code",
   "execution_count": 253,
   "metadata": {},
   "outputs": [
    {
     "data": {
      "text/html": [
       "<div>\n",
       "<style scoped>\n",
       "    .dataframe tbody tr th:only-of-type {\n",
       "        vertical-align: middle;\n",
       "    }\n",
       "\n",
       "    .dataframe tbody tr th {\n",
       "        vertical-align: top;\n",
       "    }\n",
       "\n",
       "    .dataframe thead th {\n",
       "        text-align: right;\n",
       "    }\n",
       "</style>\n",
       "<table border=\"1\" class=\"dataframe\">\n",
       "  <thead>\n",
       "    <tr style=\"text-align: right;\">\n",
       "      <th></th>\n",
       "      <th>gene_claim_name</th>\n",
       "      <th>nomenclature</th>\n",
       "      <th>concept_id</th>\n",
       "      <th>gene_name</th>\n",
       "      <th>source_db_name</th>\n",
       "      <th>source_db_version</th>\n",
       "    </tr>\n",
       "  </thead>\n",
       "  <tbody>\n",
       "    <tr>\n",
       "      <th>0</th>\n",
       "      <td>NGFIBA</td>\n",
       "      <td>NCBI Gene Name</td>\n",
       "      <td>NaN</td>\n",
       "      <td>NaN</td>\n",
       "      <td>BaderLab</td>\n",
       "      <td>Feb-14</td>\n",
       "    </tr>\n",
       "    <tr>\n",
       "      <th>1</th>\n",
       "      <td>NGFIBB</td>\n",
       "      <td>NCBI Gene Name</td>\n",
       "      <td>NaN</td>\n",
       "      <td>NaN</td>\n",
       "      <td>BaderLab</td>\n",
       "      <td>Feb-14</td>\n",
       "    </tr>\n",
       "    <tr>\n",
       "      <th>2</th>\n",
       "      <td>DAX</td>\n",
       "      <td>NCBI Gene Name</td>\n",
       "      <td>NaN</td>\n",
       "      <td>NaN</td>\n",
       "      <td>BaderLab</td>\n",
       "      <td>Feb-14</td>\n",
       "    </tr>\n",
       "    <tr>\n",
       "      <th>3</th>\n",
       "      <td>REV-ERBA</td>\n",
       "      <td>NCBI Gene Name</td>\n",
       "      <td>NaN</td>\n",
       "      <td>NaN</td>\n",
       "      <td>BaderLab</td>\n",
       "      <td>Feb-14</td>\n",
       "    </tr>\n",
       "    <tr>\n",
       "      <th>4</th>\n",
       "      <td>COUP2</td>\n",
       "      <td>NCBI Gene Name</td>\n",
       "      <td>NaN</td>\n",
       "      <td>NaN</td>\n",
       "      <td>BaderLab</td>\n",
       "      <td>Feb-14</td>\n",
       "    </tr>\n",
       "    <tr>\n",
       "      <th>...</th>\n",
       "      <td>...</td>\n",
       "      <td>...</td>\n",
       "      <td>...</td>\n",
       "      <td>...</td>\n",
       "      <td>...</td>\n",
       "      <td>...</td>\n",
       "    </tr>\n",
       "    <tr>\n",
       "      <th>80229</th>\n",
       "      <td>KIT</td>\n",
       "      <td>Gene Symbol</td>\n",
       "      <td>hgnc:6342</td>\n",
       "      <td>KIT</td>\n",
       "      <td>Oncomine</td>\n",
       "      <td>v3</td>\n",
       "    </tr>\n",
       "    <tr>\n",
       "      <th>80230</th>\n",
       "      <td>HES1</td>\n",
       "      <td>Gene Name</td>\n",
       "      <td>hgnc:5192</td>\n",
       "      <td>HES1</td>\n",
       "      <td>NCI</td>\n",
       "      <td>14-Sep-17</td>\n",
       "    </tr>\n",
       "    <tr>\n",
       "      <th>80231</th>\n",
       "      <td>IRF1</td>\n",
       "      <td>Gene Symbol</td>\n",
       "      <td>hgnc:6116</td>\n",
       "      <td>IRF1</td>\n",
       "      <td>Tempus</td>\n",
       "      <td>11-Nov-18</td>\n",
       "    </tr>\n",
       "    <tr>\n",
       "      <th>80232</th>\n",
       "      <td>SHFM1</td>\n",
       "      <td>Gene Name</td>\n",
       "      <td>hgnc:10845</td>\n",
       "      <td>SEM1</td>\n",
       "      <td>DTC</td>\n",
       "      <td>9/2/20</td>\n",
       "    </tr>\n",
       "    <tr>\n",
       "      <th>80233</th>\n",
       "      <td>NEUROD1</td>\n",
       "      <td>Gene Name</td>\n",
       "      <td>hgnc:7762</td>\n",
       "      <td>NEUROD1</td>\n",
       "      <td>NCI</td>\n",
       "      <td>14-Sep-17</td>\n",
       "    </tr>\n",
       "  </tbody>\n",
       "</table>\n",
       "<p>80234 rows × 6 columns</p>\n",
       "</div>"
      ],
      "text/plain": [
       "      gene_claim_name    nomenclature  concept_id gene_name source_db_name  \\\n",
       "0              NGFIBA  NCBI Gene Name         NaN       NaN       BaderLab   \n",
       "1              NGFIBB  NCBI Gene Name         NaN       NaN       BaderLab   \n",
       "2                 DAX  NCBI Gene Name         NaN       NaN       BaderLab   \n",
       "3            REV-ERBA  NCBI Gene Name         NaN       NaN       BaderLab   \n",
       "4               COUP2  NCBI Gene Name         NaN       NaN       BaderLab   \n",
       "...               ...             ...         ...       ...            ...   \n",
       "80229             KIT     Gene Symbol   hgnc:6342       KIT       Oncomine   \n",
       "80230            HES1       Gene Name   hgnc:5192      HES1            NCI   \n",
       "80231            IRF1     Gene Symbol   hgnc:6116      IRF1         Tempus   \n",
       "80232           SHFM1       Gene Name  hgnc:10845      SEM1            DTC   \n",
       "80233         NEUROD1       Gene Name   hgnc:7762   NEUROD1            NCI   \n",
       "\n",
       "      source_db_version  \n",
       "0                Feb-14  \n",
       "1                Feb-14  \n",
       "2                Feb-14  \n",
       "3                Feb-14  \n",
       "4                Feb-14  \n",
       "...                 ...  \n",
       "80229                v3  \n",
       "80230         14-Sep-17  \n",
       "80231         11-Nov-18  \n",
       "80232            9/2/20  \n",
       "80233         14-Sep-17  \n",
       "\n",
       "[80234 rows x 6 columns]"
      ]
     },
     "execution_count": 253,
     "metadata": {},
     "output_type": "execute_result"
    }
   ],
   "source": [
    "dgidb_gene_df = pd.read_csv(\n",
    "    \"downloaded_files/dgidb_genes_JUNE.tsv\", sep=\"\\t\", na_values=[\"\", \"NULL\"], keep_default_na=False\n",
    ")\n",
    "dgidb_gene_df"
   ]
  },
  {
   "cell_type": "code",
   "execution_count": 254,
   "metadata": {},
   "outputs": [],
   "source": [
    "num_total_claims = len(dgidb_gene_df)"
   ]
  },
  {
   "cell_type": "code",
   "execution_count": 255,
   "metadata": {},
   "outputs": [
    {
     "data": {
      "text/html": [
       "<div>\n",
       "<style scoped>\n",
       "    .dataframe tbody tr th:only-of-type {\n",
       "        vertical-align: middle;\n",
       "    }\n",
       "\n",
       "    .dataframe tbody tr th {\n",
       "        vertical-align: top;\n",
       "    }\n",
       "\n",
       "    .dataframe thead th {\n",
       "        text-align: right;\n",
       "    }\n",
       "</style>\n",
       "<table border=\"1\" class=\"dataframe\">\n",
       "  <thead>\n",
       "    <tr style=\"text-align: right;\">\n",
       "      <th></th>\n",
       "      <th>gene_claim_name</th>\n",
       "      <th>nomenclature</th>\n",
       "      <th>concept_id</th>\n",
       "      <th>gene_name</th>\n",
       "      <th>source_db_name</th>\n",
       "      <th>source_db_version</th>\n",
       "    </tr>\n",
       "  </thead>\n",
       "  <tbody>\n",
       "    <tr>\n",
       "      <th>30772</th>\n",
       "      <td>HES1</td>\n",
       "      <td>Gene Symbol</td>\n",
       "      <td>hgnc:5192</td>\n",
       "      <td>HES1</td>\n",
       "      <td>Pharos</td>\n",
       "      <td>10-Apr-24</td>\n",
       "    </tr>\n",
       "    <tr>\n",
       "      <th>76844</th>\n",
       "      <td>HES1</td>\n",
       "      <td>Gene Symbol</td>\n",
       "      <td>hgnc:5192</td>\n",
       "      <td>HES1</td>\n",
       "      <td>HGNC</td>\n",
       "      <td>20240408</td>\n",
       "    </tr>\n",
       "    <tr>\n",
       "      <th>76845</th>\n",
       "      <td>HES1</td>\n",
       "      <td>Gene Symbol</td>\n",
       "      <td>hgnc:5192</td>\n",
       "      <td>HES1</td>\n",
       "      <td>NCBI</td>\n",
       "      <td>20240410</td>\n",
       "    </tr>\n",
       "    <tr>\n",
       "      <th>76846</th>\n",
       "      <td>HES1</td>\n",
       "      <td>Gene Symbol</td>\n",
       "      <td>hgnc:5192</td>\n",
       "      <td>HES1</td>\n",
       "      <td>Ensembl</td>\n",
       "      <td>111</td>\n",
       "    </tr>\n",
       "    <tr>\n",
       "      <th>80230</th>\n",
       "      <td>HES1</td>\n",
       "      <td>Gene Name</td>\n",
       "      <td>hgnc:5192</td>\n",
       "      <td>HES1</td>\n",
       "      <td>NCI</td>\n",
       "      <td>14-Sep-17</td>\n",
       "    </tr>\n",
       "  </tbody>\n",
       "</table>\n",
       "</div>"
      ],
      "text/plain": [
       "      gene_claim_name nomenclature concept_id gene_name source_db_name  \\\n",
       "30772            HES1  Gene Symbol  hgnc:5192      HES1         Pharos   \n",
       "76844            HES1  Gene Symbol  hgnc:5192      HES1           HGNC   \n",
       "76845            HES1  Gene Symbol  hgnc:5192      HES1           NCBI   \n",
       "76846            HES1  Gene Symbol  hgnc:5192      HES1        Ensembl   \n",
       "80230            HES1    Gene Name  hgnc:5192      HES1            NCI   \n",
       "\n",
       "      source_db_version  \n",
       "30772         10-Apr-24  \n",
       "76844          20240408  \n",
       "76845          20240410  \n",
       "76846               111  \n",
       "80230         14-Sep-17  "
      ]
     },
     "execution_count": 255,
     "metadata": {},
     "output_type": "execute_result"
    }
   ],
   "source": [
    "dgidb_gene_df.loc[dgidb_gene_df[\"gene_claim_name\"] == \"HES1\"]"
   ]
  },
  {
   "cell_type": "markdown",
   "metadata": {},
   "source": [
    "#### <a id='toc1_1_2_2_'></a>[How many claims are placed in a gene group with a different label?](#toc0_)"
   ]
  },
  {
   "cell_type": "code",
   "execution_count": 256,
   "metadata": {},
   "outputs": [
    {
     "data": {
      "text/html": [
       "<div>\n",
       "<style scoped>\n",
       "    .dataframe tbody tr th:only-of-type {\n",
       "        vertical-align: middle;\n",
       "    }\n",
       "\n",
       "    .dataframe tbody tr th {\n",
       "        vertical-align: top;\n",
       "    }\n",
       "\n",
       "    .dataframe thead th {\n",
       "        text-align: right;\n",
       "    }\n",
       "</style>\n",
       "<table border=\"1\" class=\"dataframe\">\n",
       "  <thead>\n",
       "    <tr style=\"text-align: right;\">\n",
       "      <th></th>\n",
       "      <th>gene_claim_name</th>\n",
       "      <th>nomenclature</th>\n",
       "      <th>concept_id</th>\n",
       "      <th>gene_name</th>\n",
       "      <th>source_db_name</th>\n",
       "      <th>source_db_version</th>\n",
       "    </tr>\n",
       "  </thead>\n",
       "  <tbody>\n",
       "    <tr>\n",
       "      <th>0</th>\n",
       "      <td>NGFIBA</td>\n",
       "      <td>NCBI Gene Name</td>\n",
       "      <td>NaN</td>\n",
       "      <td>NaN</td>\n",
       "      <td>BaderLab</td>\n",
       "      <td>Feb-14</td>\n",
       "    </tr>\n",
       "    <tr>\n",
       "      <th>1</th>\n",
       "      <td>NGFIBB</td>\n",
       "      <td>NCBI Gene Name</td>\n",
       "      <td>NaN</td>\n",
       "      <td>NaN</td>\n",
       "      <td>BaderLab</td>\n",
       "      <td>Feb-14</td>\n",
       "    </tr>\n",
       "    <tr>\n",
       "      <th>2</th>\n",
       "      <td>DAX</td>\n",
       "      <td>NCBI Gene Name</td>\n",
       "      <td>NaN</td>\n",
       "      <td>NaN</td>\n",
       "      <td>BaderLab</td>\n",
       "      <td>Feb-14</td>\n",
       "    </tr>\n",
       "    <tr>\n",
       "      <th>3</th>\n",
       "      <td>REV-ERBA</td>\n",
       "      <td>NCBI Gene Name</td>\n",
       "      <td>NaN</td>\n",
       "      <td>NaN</td>\n",
       "      <td>BaderLab</td>\n",
       "      <td>Feb-14</td>\n",
       "    </tr>\n",
       "    <tr>\n",
       "      <th>4</th>\n",
       "      <td>COUP2</td>\n",
       "      <td>NCBI Gene Name</td>\n",
       "      <td>NaN</td>\n",
       "      <td>NaN</td>\n",
       "      <td>BaderLab</td>\n",
       "      <td>Feb-14</td>\n",
       "    </tr>\n",
       "    <tr>\n",
       "      <th>...</th>\n",
       "      <td>...</td>\n",
       "      <td>...</td>\n",
       "      <td>...</td>\n",
       "      <td>...</td>\n",
       "      <td>...</td>\n",
       "      <td>...</td>\n",
       "    </tr>\n",
       "    <tr>\n",
       "      <th>79999</th>\n",
       "      <td>SEPT5</td>\n",
       "      <td>Gene Symbol</td>\n",
       "      <td>hgnc:9164</td>\n",
       "      <td>SEPTIN5</td>\n",
       "      <td>FoundationOneGenes</td>\n",
       "      <td>9/3/20</td>\n",
       "    </tr>\n",
       "    <tr>\n",
       "      <th>80014</th>\n",
       "      <td>ENSEMBL:ENSG00000185821</td>\n",
       "      <td>Ensembl Gene ID</td>\n",
       "      <td>hgnc:31305</td>\n",
       "      <td>OR6C76</td>\n",
       "      <td>RussLampel</td>\n",
       "      <td>26-Jul-11</td>\n",
       "    </tr>\n",
       "    <tr>\n",
       "      <th>80053</th>\n",
       "      <td>SEPT5</td>\n",
       "      <td>Gene Symbol</td>\n",
       "      <td>hgnc:9164</td>\n",
       "      <td>SEPTIN5</td>\n",
       "      <td>CarisMolecularIntelligence</td>\n",
       "      <td>9/4/20</td>\n",
       "    </tr>\n",
       "    <tr>\n",
       "      <th>80166</th>\n",
       "      <td>SEPT6</td>\n",
       "      <td>Gene Symbol</td>\n",
       "      <td>hgnc:15848</td>\n",
       "      <td>SEPTIN6</td>\n",
       "      <td>CarisMolecularIntelligence</td>\n",
       "      <td>9/4/20</td>\n",
       "    </tr>\n",
       "    <tr>\n",
       "      <th>80232</th>\n",
       "      <td>SHFM1</td>\n",
       "      <td>Gene Name</td>\n",
       "      <td>hgnc:10845</td>\n",
       "      <td>SEM1</td>\n",
       "      <td>DTC</td>\n",
       "      <td>9/2/20</td>\n",
       "    </tr>\n",
       "  </tbody>\n",
       "</table>\n",
       "<p>16052 rows × 6 columns</p>\n",
       "</div>"
      ],
      "text/plain": [
       "               gene_claim_name     nomenclature  concept_id gene_name  \\\n",
       "0                       NGFIBA   NCBI Gene Name         NaN       NaN   \n",
       "1                       NGFIBB   NCBI Gene Name         NaN       NaN   \n",
       "2                          DAX   NCBI Gene Name         NaN       NaN   \n",
       "3                     REV-ERBA   NCBI Gene Name         NaN       NaN   \n",
       "4                        COUP2   NCBI Gene Name         NaN       NaN   \n",
       "...                        ...              ...         ...       ...   \n",
       "79999                    SEPT5      Gene Symbol   hgnc:9164   SEPTIN5   \n",
       "80014  ENSEMBL:ENSG00000185821  Ensembl Gene ID  hgnc:31305    OR6C76   \n",
       "80053                    SEPT5      Gene Symbol   hgnc:9164   SEPTIN5   \n",
       "80166                    SEPT6      Gene Symbol  hgnc:15848   SEPTIN6   \n",
       "80232                    SHFM1        Gene Name  hgnc:10845      SEM1   \n",
       "\n",
       "                   source_db_name source_db_version  \n",
       "0                        BaderLab            Feb-14  \n",
       "1                        BaderLab            Feb-14  \n",
       "2                        BaderLab            Feb-14  \n",
       "3                        BaderLab            Feb-14  \n",
       "4                        BaderLab            Feb-14  \n",
       "...                           ...               ...  \n",
       "79999          FoundationOneGenes            9/3/20  \n",
       "80014                  RussLampel         26-Jul-11  \n",
       "80053  CarisMolecularIntelligence            9/4/20  \n",
       "80166  CarisMolecularIntelligence            9/4/20  \n",
       "80232                         DTC            9/2/20  \n",
       "\n",
       "[16052 rows x 6 columns]"
      ]
     },
     "execution_count": 256,
     "metadata": {},
     "output_type": "execute_result"
    }
   ],
   "source": [
    "dgidb_gene_df.query(\"gene_name != gene_claim_name\")"
   ]
  },
  {
   "cell_type": "markdown",
   "metadata": {},
   "source": [
    "#### <a id='toc1_1_2_3_'></a>[How many claims are not normalized?](#toc0_)"
   ]
  },
  {
   "cell_type": "markdown",
   "metadata": {},
   "source": [
    "claims without a symbol/name/identifier\n",
    " (there shouldn't be any hooray)"
   ]
  },
  {
   "cell_type": "code",
   "execution_count": 257,
   "metadata": {},
   "outputs": [
    {
     "data": {
      "text/html": [
       "<div>\n",
       "<style scoped>\n",
       "    .dataframe tbody tr th:only-of-type {\n",
       "        vertical-align: middle;\n",
       "    }\n",
       "\n",
       "    .dataframe tbody tr th {\n",
       "        vertical-align: top;\n",
       "    }\n",
       "\n",
       "    .dataframe thead th {\n",
       "        text-align: right;\n",
       "    }\n",
       "</style>\n",
       "<table border=\"1\" class=\"dataframe\">\n",
       "  <thead>\n",
       "    <tr style=\"text-align: right;\">\n",
       "      <th></th>\n",
       "      <th>gene_claim_name</th>\n",
       "      <th>nomenclature</th>\n",
       "      <th>concept_id</th>\n",
       "      <th>gene_name</th>\n",
       "      <th>source_db_name</th>\n",
       "      <th>source_db_version</th>\n",
       "    </tr>\n",
       "  </thead>\n",
       "  <tbody>\n",
       "  </tbody>\n",
       "</table>\n",
       "</div>"
      ],
      "text/plain": [
       "Empty DataFrame\n",
       "Columns: [gene_claim_name, nomenclature, concept_id, gene_name, source_db_name, source_db_version]\n",
       "Index: []"
      ]
     },
     "execution_count": 257,
     "metadata": {},
     "output_type": "execute_result"
    }
   ],
   "source": [
    "no_claim_symbols_df = dgidb_gene_df[dgidb_gene_df[\"gene_claim_name\"].isnull()]\n",
    "no_claim_symbols_df"
   ]
  },
  {
   "cell_type": "code",
   "execution_count": 258,
   "metadata": {},
   "outputs": [
    {
     "data": {
      "text/plain": [
       "2144"
      ]
     },
     "execution_count": 258,
     "metadata": {},
     "output_type": "execute_result"
    }
   ],
   "source": [
    "no_name_symbols_df = dgidb_gene_df[dgidb_gene_df[\"gene_name\"].isnull()]\n",
    "num_not_normalized_claims = len(no_name_symbols_df)\n",
    "num_not_normalized_claims"
   ]
  },
  {
   "cell_type": "code",
   "execution_count": 259,
   "metadata": {},
   "outputs": [],
   "source": [
    "num_normalized_claims = num_total_claims - num_not_normalized_claims"
   ]
  },
  {
   "cell_type": "markdown",
   "metadata": {},
   "source": [
    "#### <a id='toc1_1_2_4_'></a>[Create set of gene groups (gene_name) and gene claims (gene_claim_name)](#toc0_)"
   ]
  },
  {
   "cell_type": "code",
   "execution_count": 260,
   "metadata": {},
   "outputs": [
    {
     "data": {
      "text/plain": [
       "12001"
      ]
     },
     "execution_count": 260,
     "metadata": {},
     "output_type": "execute_result"
    }
   ],
   "source": [
    "dgidb_name_set = set(dgidb_gene_df[\"gene_name\"])\n",
    "len(dgidb_name_set)"
   ]
  },
  {
   "cell_type": "code",
   "execution_count": 261,
   "metadata": {},
   "outputs": [
    {
     "data": {
      "text/plain": [
       "26739"
      ]
     },
     "execution_count": 261,
     "metadata": {},
     "output_type": "execute_result"
    }
   ],
   "source": [
    "dgidb_gene_claim_name_set = set(dgidb_gene_df[\"gene_claim_name\"])\n",
    "len(dgidb_gene_claim_name_set)"
   ]
  },
  {
   "cell_type": "markdown",
   "metadata": {},
   "source": [
    "#### <a id='toc1_1_2_5_'></a>[Load HGNC, Ensembl (ENSG), and NCBI gene and alias sets](#toc0_)"
   ]
  },
  {
   "cell_type": "markdown",
   "metadata": {},
   "source": [
    "Input: mini_hgnc_df, mini_ensg_df, mini_ncbi_df (total_alias_gene_intersections.ipynb)"
   ]
  },
  {
   "cell_type": "markdown",
   "metadata": {},
   "source": [
    "Output: x_gene_symbol_set, x_alias_symbol_set where x is ncbi, ensg or ncbi"
   ]
  },
  {
   "cell_type": "code",
   "execution_count": 262,
   "metadata": {},
   "outputs": [],
   "source": [
    "mini_hgnc_df = pd.read_csv(\n",
    "    \"../created_files/mini_hgnc_df.csv\", na_values=[\"\", \"NULL\"], keep_default_na=False\n",
    ")"
   ]
  },
  {
   "cell_type": "code",
   "execution_count": 263,
   "metadata": {},
   "outputs": [],
   "source": [
    "mini_ensg_df = pd.read_csv(\n",
    "    \"../created_files/mini_ensg_df.csv\", na_values=[\"\", \"NULL\"], keep_default_na=False\n",
    ")"
   ]
  },
  {
   "cell_type": "code",
   "execution_count": 264,
   "metadata": {},
   "outputs": [],
   "source": [
    "mini_ncbi_df = pd.read_csv(\n",
    "    \"../created_files/mini_ncbi_df.csv\", na_values=[\"\", \"NULL\"], keep_default_na=False\n",
    ")"
   ]
  },
  {
   "cell_type": "code",
   "execution_count": 265,
   "metadata": {},
   "outputs": [
    {
     "data": {
      "text/plain": [
       "45646"
      ]
     },
     "execution_count": 265,
     "metadata": {},
     "output_type": "execute_result"
    }
   ],
   "source": [
    "hgnc_gene_symbol_set = set(mini_hgnc_df[\"gene_symbol\"])\n",
    "len(hgnc_gene_symbol_set)"
   ]
  },
  {
   "cell_type": "code",
   "execution_count": 266,
   "metadata": {},
   "outputs": [
    {
     "data": {
      "text/plain": [
       "41068"
      ]
     },
     "execution_count": 266,
     "metadata": {},
     "output_type": "execute_result"
    }
   ],
   "source": [
    "ensg_gene_symbol_set = set(mini_ensg_df[\"gene_symbol\"])\n",
    "len(ensg_gene_symbol_set)"
   ]
  },
  {
   "cell_type": "code",
   "execution_count": 267,
   "metadata": {},
   "outputs": [
    {
     "data": {
      "text/plain": [
       "193303"
      ]
     },
     "execution_count": 267,
     "metadata": {},
     "output_type": "execute_result"
    }
   ],
   "source": [
    "ncbi_gene_symbol_set = set(mini_ncbi_df[\"gene_symbol\"])\n",
    "len(ncbi_gene_symbol_set)"
   ]
  },
  {
   "cell_type": "code",
   "execution_count": 268,
   "metadata": {},
   "outputs": [
    {
     "data": {
      "text/plain": [
       "43187"
      ]
     },
     "execution_count": 268,
     "metadata": {},
     "output_type": "execute_result"
    }
   ],
   "source": [
    "hgnc_alias_symbol_set = set(mini_hgnc_df[\"alias_symbol\"])\n",
    "len(hgnc_alias_symbol_set)"
   ]
  },
  {
   "cell_type": "code",
   "execution_count": 269,
   "metadata": {},
   "outputs": [
    {
     "data": {
      "text/plain": [
       "55276"
      ]
     },
     "execution_count": 269,
     "metadata": {},
     "output_type": "execute_result"
    }
   ],
   "source": [
    "ensg_alias_symbol_set = set(mini_ensg_df[\"alias_symbol\"])\n",
    "len(ensg_alias_symbol_set)"
   ]
  },
  {
   "cell_type": "code",
   "execution_count": 270,
   "metadata": {},
   "outputs": [
    {
     "data": {
      "text/plain": [
       "69158"
      ]
     },
     "execution_count": 270,
     "metadata": {},
     "output_type": "execute_result"
    }
   ],
   "source": [
    "ncbi_alias_symbol_set = set(mini_ncbi_df[\"alias_symbol\"])\n",
    "len(ncbi_alias_symbol_set)"
   ]
  },
  {
   "cell_type": "markdown",
   "metadata": {},
   "source": [
    "#### <a id='toc1_1_2_6_'></a>[How many unique primary gene symbols are there b/w HGNC, Ensembl, and NCBI?](#toc0_)"
   ]
  },
  {
   "cell_type": "code",
   "execution_count": 271,
   "metadata": {},
   "outputs": [],
   "source": [
    "hgnc_ensg_gene_symbol_set = hgnc_gene_symbol_set.union(ensg_gene_symbol_set)"
   ]
  },
  {
   "cell_type": "code",
   "execution_count": 272,
   "metadata": {},
   "outputs": [
    {
     "data": {
      "text/plain": [
       "194866"
      ]
     },
     "execution_count": 272,
     "metadata": {},
     "output_type": "execute_result"
    }
   ],
   "source": [
    "hgnc_ensg_ncbi_gene_symbol_set = hgnc_ensg_gene_symbol_set.union(ncbi_gene_symbol_set)\n",
    "len(hgnc_ensg_ncbi_gene_symbol_set)"
   ]
  },
  {
   "cell_type": "markdown",
   "metadata": {},
   "source": [
    "#### <a id='toc1_1_2_7_'></a>[How many unique alias symbols are there b/w HGNC, Ensembl, and NCBI?](#toc0_)"
   ]
  },
  {
   "cell_type": "code",
   "execution_count": 273,
   "metadata": {},
   "outputs": [],
   "source": [
    "hgnc_ensg_alias_symbol_set = hgnc_alias_symbol_set.union(ensg_alias_symbol_set)"
   ]
  },
  {
   "cell_type": "code",
   "execution_count": 274,
   "metadata": {},
   "outputs": [
    {
     "data": {
      "text/plain": [
       "93036"
      ]
     },
     "execution_count": 274,
     "metadata": {},
     "output_type": "execute_result"
    }
   ],
   "source": [
    "hgnc_ensg_ncbi_alias_symbol_set = hgnc_ensg_alias_symbol_set.union(\n",
    "    ncbi_alias_symbol_set\n",
    ")\n",
    "len(hgnc_ensg_ncbi_alias_symbol_set)"
   ]
  },
  {
   "cell_type": "markdown",
   "metadata": {},
   "source": [
    "#### <a id='toc1_1_2_8_'></a>[How many unique group names are not primary gene symbols?](#toc0_)"
   ]
  },
  {
   "cell_type": "code",
   "execution_count": 275,
   "metadata": {},
   "outputs": [
    {
     "data": {
      "text/plain": [
       "298"
      ]
     },
     "execution_count": 275,
     "metadata": {},
     "output_type": "execute_result"
    }
   ],
   "source": [
    "name_ensg_notmatch = dgidb_name_set.difference(ensg_gene_symbol_set)\n",
    "len(name_ensg_notmatch)"
   ]
  },
  {
   "cell_type": "code",
   "execution_count": 276,
   "metadata": {},
   "outputs": [
    {
     "data": {
      "text/plain": [
       "25"
      ]
     },
     "execution_count": 276,
     "metadata": {},
     "output_type": "execute_result"
    }
   ],
   "source": [
    "name_hgnc_notmatch = dgidb_name_set.difference(hgnc_gene_symbol_set)\n",
    "len(name_hgnc_notmatch)"
   ]
  },
  {
   "cell_type": "code",
   "execution_count": 277,
   "metadata": {},
   "outputs": [
    {
     "data": {
      "text/plain": [
       "25"
      ]
     },
     "execution_count": 277,
     "metadata": {},
     "output_type": "execute_result"
    }
   ],
   "source": [
    "cleaned_name_hgnc_notmatch = [x for x in name_hgnc_notmatch if str(x) != \"NaN\"]\n",
    "len(cleaned_name_hgnc_notmatch)"
   ]
  },
  {
   "cell_type": "code",
   "execution_count": 278,
   "metadata": {},
   "outputs": [
    {
     "data": {
      "text/plain": [
       "97"
      ]
     },
     "execution_count": 278,
     "metadata": {},
     "output_type": "execute_result"
    }
   ],
   "source": [
    "name_ncbi_notmatch = dgidb_name_set.difference(ncbi_gene_symbol_set)\n",
    "len(name_ncbi_notmatch)"
   ]
  },
  {
   "cell_type": "code",
   "execution_count": 279,
   "metadata": {},
   "outputs": [
    {
     "data": {
      "text/plain": [
       "9"
      ]
     },
     "execution_count": 279,
     "metadata": {},
     "output_type": "execute_result"
    }
   ],
   "source": [
    "name_ncbi_hgnc_notmatch = name_ncbi_notmatch.difference(hgnc_gene_symbol_set)\n",
    "len(name_ncbi_hgnc_notmatch)"
   ]
  },
  {
   "cell_type": "markdown",
   "metadata": {},
   "source": [
    "How many groups are labeled with a symbol not found in the sets of primary symbols from HGNC, NCBI, or ENSG?"
   ]
  },
  {
   "cell_type": "code",
   "execution_count": 280,
   "metadata": {},
   "outputs": [
    {
     "data": {
      "text/plain": [
       "8"
      ]
     },
     "execution_count": 280,
     "metadata": {},
     "output_type": "execute_result"
    }
   ],
   "source": [
    "name_ncbi_hgnc_ensg_notmatch = name_ncbi_hgnc_notmatch.difference(ensg_gene_symbol_set)\n",
    "len(name_ncbi_hgnc_ensg_notmatch)"
   ]
  },
  {
   "cell_type": "code",
   "execution_count": 281,
   "metadata": {},
   "outputs": [
    {
     "data": {
      "text/plain": [
       "12001"
      ]
     },
     "execution_count": 281,
     "metadata": {},
     "output_type": "execute_result"
    }
   ],
   "source": [
    "len(dgidb_name_set)"
   ]
  },
  {
   "cell_type": "markdown",
   "metadata": {},
   "source": [
    "#### <a id='toc1_1_2_9_'></a>[How many unique claims are not primary gene symbols?](#toc0_)"
   ]
  },
  {
   "cell_type": "code",
   "execution_count": 282,
   "metadata": {},
   "outputs": [
    {
     "data": {
      "text/plain": [
       "15029"
      ]
     },
     "execution_count": 282,
     "metadata": {},
     "output_type": "execute_result"
    }
   ],
   "source": [
    "gene_claim_name_ensg_notmatch = dgidb_gene_claim_name_set.difference(\n",
    "    ensg_gene_symbol_set\n",
    ")\n",
    "len(gene_claim_name_ensg_notmatch)"
   ]
  },
  {
   "cell_type": "code",
   "execution_count": 283,
   "metadata": {},
   "outputs": [
    {
     "data": {
      "text/plain": [
       "15029"
      ]
     },
     "execution_count": 283,
     "metadata": {},
     "output_type": "execute_result"
    }
   ],
   "source": [
    "cleaned_gene_claim_name_ensg_notmatch = [\n",
    "    x for x in gene_claim_name_ensg_notmatch if str(x) != \"NaN\"\n",
    "]\n",
    "len(cleaned_gene_claim_name_ensg_notmatch)"
   ]
  },
  {
   "cell_type": "code",
   "execution_count": 284,
   "metadata": {},
   "outputs": [
    {
     "data": {
      "text/plain": [
       "14755"
      ]
     },
     "execution_count": 284,
     "metadata": {},
     "output_type": "execute_result"
    }
   ],
   "source": [
    "gene_claim_name_hgnc_notmatch = dgidb_gene_claim_name_set.difference(\n",
    "    hgnc_gene_symbol_set\n",
    ")\n",
    "len(gene_claim_name_hgnc_notmatch)"
   ]
  },
  {
   "cell_type": "code",
   "execution_count": 285,
   "metadata": {},
   "outputs": [
    {
     "data": {
      "text/plain": [
       "14828"
      ]
     },
     "execution_count": 285,
     "metadata": {},
     "output_type": "execute_result"
    }
   ],
   "source": [
    "gene_claim_name_ncbi_notmatch = dgidb_gene_claim_name_set.difference(\n",
    "    ncbi_gene_symbol_set\n",
    ")\n",
    "len(gene_claim_name_ncbi_notmatch)"
   ]
  },
  {
   "cell_type": "code",
   "execution_count": 286,
   "metadata": {},
   "outputs": [
    {
     "data": {
      "text/plain": [
       "14738"
      ]
     },
     "execution_count": 286,
     "metadata": {},
     "output_type": "execute_result"
    }
   ],
   "source": [
    "gene_claim_name_ncbi_hngc_notmatch = gene_claim_name_ncbi_notmatch.difference(\n",
    "    hgnc_gene_symbol_set\n",
    ")\n",
    "len(gene_claim_name_ncbi_hngc_notmatch)"
   ]
  },
  {
   "cell_type": "markdown",
   "metadata": {},
   "source": [
    "How many unique claims are not primary symbols"
   ]
  },
  {
   "cell_type": "code",
   "execution_count": 287,
   "metadata": {},
   "outputs": [
    {
     "data": {
      "text/plain": [
       "14735"
      ]
     },
     "execution_count": 287,
     "metadata": {},
     "output_type": "execute_result"
    }
   ],
   "source": [
    "gene_claim_name_ncbi_hngc_ensg_notmatch = gene_claim_name_ncbi_hngc_notmatch.difference(\n",
    "    ensg_gene_symbol_set\n",
    ")\n",
    "num_not_primary_claims = len(gene_claim_name_ncbi_hngc_ensg_notmatch)\n",
    "num_not_primary_claims"
   ]
  },
  {
   "cell_type": "markdown",
   "metadata": {},
   "source": [
    "#### <a id='toc1_1_2_10_'></a>[Load the collision sets from each data source](#toc0_)"
   ]
  },
  {
   "cell_type": "markdown",
   "metadata": {},
   "source": [
    "Input: aa_collision_x_df.csv (total_alis_overlap.ipynb)"
   ]
  },
  {
   "cell_type": "markdown",
   "metadata": {},
   "source": [
    "Output: x_alias_alias_collision_set"
   ]
  },
  {
   "cell_type": "code",
   "execution_count": 288,
   "metadata": {},
   "outputs": [],
   "source": [
    "aa_collision_hgnc_df = pd.read_csv(\n",
    "    \"../created_files/aa_collision_HGNC_count_df.csv\",\n",
    "    na_values=[\"\", \"NULL\"],\n",
    "    keep_default_na=False,\n",
    ")"
   ]
  },
  {
   "cell_type": "code",
   "execution_count": 289,
   "metadata": {},
   "outputs": [
    {
     "data": {
      "text/plain": [
       "1250"
      ]
     },
     "execution_count": 289,
     "metadata": {},
     "output_type": "execute_result"
    }
   ],
   "source": [
    "hgnc_alias_alias_collision_set = set(aa_collision_hgnc_df[\"collision\"])\n",
    "len(hgnc_alias_alias_collision_set)"
   ]
  },
  {
   "cell_type": "code",
   "execution_count": 290,
   "metadata": {},
   "outputs": [],
   "source": [
    "aa_collision_ncbi_df = pd.read_csv(\n",
    "    \"../created_files/aa_collision_NCBI_count_df.csv\",\n",
    "    na_values=[\"\", \"NULL\"],\n",
    "    keep_default_na=False,\n",
    ")"
   ]
  },
  {
   "cell_type": "code",
   "execution_count": 291,
   "metadata": {},
   "outputs": [
    {
     "data": {
      "text/plain": [
       "3711"
      ]
     },
     "execution_count": 291,
     "metadata": {},
     "output_type": "execute_result"
    }
   ],
   "source": [
    "ncbi_alias_alias_collision_set = set(aa_collision_ncbi_df[\"collision\"])\n",
    "len(ncbi_alias_alias_collision_set)"
   ]
  },
  {
   "cell_type": "code",
   "execution_count": 292,
   "metadata": {},
   "outputs": [],
   "source": [
    "aa_collision_ensg_df = pd.read_csv(\n",
    "    \"../created_files/aa_collision_ENSG_count_df.csv\",\n",
    "    na_values=[\"\", \"NULL\"],\n",
    "    keep_default_na=False,\n",
    ")"
   ]
  },
  {
   "cell_type": "code",
   "execution_count": 293,
   "metadata": {},
   "outputs": [
    {
     "data": {
      "text/plain": [
       "1617"
      ]
     },
     "execution_count": 293,
     "metadata": {},
     "output_type": "execute_result"
    }
   ],
   "source": [
    "ensg_alias_alias_collision_set = set(aa_collision_ensg_df[\"collision\"])\n",
    "len(ensg_alias_alias_collision_set)"
   ]
  },
  {
   "cell_type": "markdown",
   "metadata": {},
   "source": [
    "#### <a id='toc1_1_2_11_'></a>[How many unique group names are primary gene symbols?](#toc0_)"
   ]
  },
  {
   "cell_type": "code",
   "execution_count": 294,
   "metadata": {},
   "outputs": [
    {
     "data": {
      "text/plain": [
       "11976"
      ]
     },
     "execution_count": 294,
     "metadata": {},
     "output_type": "execute_result"
    }
   ],
   "source": [
    "name_hgnc_match = dgidb_name_set.intersection(hgnc_gene_symbol_set)\n",
    "len(name_hgnc_match)"
   ]
  },
  {
   "cell_type": "code",
   "execution_count": 295,
   "metadata": {},
   "outputs": [
    {
     "data": {
      "text/plain": [
       "11703"
      ]
     },
     "execution_count": 295,
     "metadata": {},
     "output_type": "execute_result"
    }
   ],
   "source": [
    "name_ensg_match = dgidb_name_set.intersection(ensg_gene_symbol_set)\n",
    "len(name_ensg_match)"
   ]
  },
  {
   "cell_type": "code",
   "execution_count": 296,
   "metadata": {},
   "outputs": [
    {
     "data": {
      "text/plain": [
       "11904"
      ]
     },
     "execution_count": 296,
     "metadata": {},
     "output_type": "execute_result"
    }
   ],
   "source": [
    "name_ncbi_match = dgidb_name_set.intersection(ncbi_gene_symbol_set)\n",
    "len(name_ncbi_match)"
   ]
  },
  {
   "cell_type": "code",
   "execution_count": 297,
   "metadata": {},
   "outputs": [
    {
     "data": {
      "text/plain": [
       "11685"
      ]
     },
     "execution_count": 297,
     "metadata": {},
     "output_type": "execute_result"
    }
   ],
   "source": [
    "name_ncbi_ensg_match = name_ncbi_match.intersection(ensg_gene_symbol_set)\n",
    "len(name_ncbi_ensg_match)"
   ]
  },
  {
   "cell_type": "code",
   "execution_count": 298,
   "metadata": {},
   "outputs": [
    {
     "data": {
      "text/plain": [
       "11684"
      ]
     },
     "execution_count": 298,
     "metadata": {},
     "output_type": "execute_result"
    }
   ],
   "source": [
    "name_ncbi_ensg_hgnc_match = name_ncbi_ensg_match.intersection(hgnc_gene_symbol_set)\n",
    "len(name_ncbi_ensg_hgnc_match)"
   ]
  },
  {
   "cell_type": "markdown",
   "metadata": {},
   "source": [
    "#### <a id='toc1_1_2_12_'></a>[How many of the groups that are labeled with a primary gene symbol are also alias-alias collisions?](#toc0_)"
   ]
  },
  {
   "cell_type": "code",
   "execution_count": 299,
   "metadata": {},
   "outputs": [
    {
     "data": {
      "text/plain": [
       "136"
      ]
     },
     "execution_count": 299,
     "metadata": {},
     "output_type": "execute_result"
    }
   ],
   "source": [
    "name_ncbi_match_aacollision = name_ncbi_match.intersection(\n",
    "    ncbi_alias_alias_collision_set\n",
    ")\n",
    "len(name_ncbi_match_aacollision)"
   ]
  },
  {
   "cell_type": "code",
   "execution_count": 300,
   "metadata": {},
   "outputs": [
    {
     "data": {
      "text/plain": [
       "42"
      ]
     },
     "execution_count": 300,
     "metadata": {},
     "output_type": "execute_result"
    }
   ],
   "source": [
    "name_ensg_match_aacollision = name_ensg_match.intersection(\n",
    "    ensg_alias_alias_collision_set\n",
    ")\n",
    "len(name_ensg_match_aacollision)"
   ]
  },
  {
   "cell_type": "code",
   "execution_count": 301,
   "metadata": {},
   "outputs": [
    {
     "data": {
      "text/plain": [
       "3"
      ]
     },
     "execution_count": 301,
     "metadata": {},
     "output_type": "execute_result"
    }
   ],
   "source": [
    "name_ensg_notmatch_aacollision = name_ensg_notmatch.intersection(\n",
    "    ensg_alias_alias_collision_set\n",
    ")\n",
    "len(name_ensg_notmatch_aacollision)"
   ]
  },
  {
   "cell_type": "markdown",
   "metadata": {},
   "source": [
    "#### <a id='toc1_1_2_13_'></a>[How many unique claim symbols are collisions?](#toc0_)"
   ]
  },
  {
   "cell_type": "code",
   "execution_count": 302,
   "metadata": {},
   "outputs": [
    {
     "data": {
      "text/plain": [
       "98"
      ]
     },
     "execution_count": 302,
     "metadata": {},
     "output_type": "execute_result"
    }
   ],
   "source": [
    "gene_claim_name_ensg_aacollision_match = dgidb_gene_claim_name_set.intersection(\n",
    "    ensg_alias_alias_collision_set\n",
    ")\n",
    "len(gene_claim_name_ensg_aacollision_match)"
   ]
  },
  {
   "cell_type": "code",
   "execution_count": 303,
   "metadata": {},
   "outputs": [
    {
     "data": {
      "text/plain": [
       "77"
      ]
     },
     "execution_count": 303,
     "metadata": {},
     "output_type": "execute_result"
    }
   ],
   "source": [
    "gene_claim_name_hgnc_aacollision_match = dgidb_gene_claim_name_set.intersection(\n",
    "    hgnc_alias_alias_collision_set\n",
    ")\n",
    "len(gene_claim_name_hgnc_aacollision_match)"
   ]
  },
  {
   "cell_type": "code",
   "execution_count": 304,
   "metadata": {},
   "outputs": [
    {
     "data": {
      "text/plain": [
       "240"
      ]
     },
     "execution_count": 304,
     "metadata": {},
     "output_type": "execute_result"
    }
   ],
   "source": [
    "gene_claim_name_ncbi_aacollision_match = dgidb_gene_claim_name_set.intersection(\n",
    "    ncbi_alias_alias_collision_set\n",
    ")\n",
    "len(gene_claim_name_ncbi_aacollision_match)"
   ]
  },
  {
   "cell_type": "markdown",
   "metadata": {},
   "source": [
    "#### <a id='toc1_1_2_14_'></a>[How many unique groups are labeled with collisions?](#toc0_)"
   ]
  },
  {
   "cell_type": "code",
   "execution_count": 305,
   "metadata": {},
   "outputs": [
    {
     "data": {
      "text/plain": [
       "45"
      ]
     },
     "execution_count": 305,
     "metadata": {},
     "output_type": "execute_result"
    }
   ],
   "source": [
    "name_ensg_aacollision_match = dgidb_name_set.intersection(\n",
    "    ensg_alias_alias_collision_set\n",
    ")\n",
    "len(name_ensg_aacollision_match)"
   ]
  },
  {
   "cell_type": "code",
   "execution_count": 306,
   "metadata": {},
   "outputs": [
    {
     "data": {
      "text/plain": [
       "42"
      ]
     },
     "execution_count": 306,
     "metadata": {},
     "output_type": "execute_result"
    }
   ],
   "source": [
    "name_hgnc_aacollision_match = dgidb_name_set.intersection(\n",
    "    hgnc_alias_alias_collision_set\n",
    ")\n",
    "len(name_hgnc_aacollision_match)"
   ]
  },
  {
   "cell_type": "code",
   "execution_count": 307,
   "metadata": {},
   "outputs": [
    {
     "data": {
      "text/plain": [
       "138"
      ]
     },
     "execution_count": 307,
     "metadata": {},
     "output_type": "execute_result"
    }
   ],
   "source": [
    "name_ncbi_aacollision_match = dgidb_name_set.intersection(\n",
    "    ncbi_alias_alias_collision_set\n",
    ")\n",
    "len(name_ncbi_aacollision_match)"
   ]
  },
  {
   "cell_type": "markdown",
   "metadata": {},
   "source": [
    "#### <a id='toc1_1_2_15_'></a>[How many unique claims are not primary gene symbols?](#toc0_)"
   ]
  },
  {
   "cell_type": "code",
   "execution_count": 308,
   "metadata": {},
   "outputs": [
    {
     "data": {
      "text/plain": [
       "14755"
      ]
     },
     "execution_count": 308,
     "metadata": {},
     "output_type": "execute_result"
    }
   ],
   "source": [
    "gene_claim_name_hgnc_notmatch = dgidb_gene_claim_name_set.difference(\n",
    "    hgnc_gene_symbol_set\n",
    ")\n",
    "len(gene_claim_name_hgnc_notmatch)"
   ]
  },
  {
   "cell_type": "code",
   "execution_count": 309,
   "metadata": {},
   "outputs": [
    {
     "data": {
      "text/plain": [
       "15029"
      ]
     },
     "execution_count": 309,
     "metadata": {},
     "output_type": "execute_result"
    }
   ],
   "source": [
    "gene_claim_name_ensg_notmatch = dgidb_gene_claim_name_set.difference(\n",
    "    ensg_gene_symbol_set\n",
    ")\n",
    "len(gene_claim_name_ensg_notmatch)"
   ]
  },
  {
   "cell_type": "code",
   "execution_count": 310,
   "metadata": {},
   "outputs": [
    {
     "data": {
      "text/plain": [
       "14828"
      ]
     },
     "execution_count": 310,
     "metadata": {},
     "output_type": "execute_result"
    }
   ],
   "source": [
    "gene_claim_name_ncbi_notmatch = dgidb_gene_claim_name_set.difference(\n",
    "    ncbi_gene_symbol_set\n",
    ")\n",
    "len(gene_claim_name_ncbi_notmatch)"
   ]
  },
  {
   "cell_type": "markdown",
   "metadata": {},
   "source": [
    "#### <a id='toc1_1_2_16_'></a>[How many unique claims that were not primary symbols are collisions?](#toc0_)"
   ]
  },
  {
   "cell_type": "code",
   "execution_count": 311,
   "metadata": {},
   "outputs": [
    {
     "data": {
      "text/plain": [
       "36"
      ]
     },
     "execution_count": 311,
     "metadata": {},
     "output_type": "execute_result"
    }
   ],
   "source": [
    "gene_claim_name_hgnc_notmatch_aacollision = gene_claim_name_hgnc_notmatch.intersection(\n",
    "    hgnc_alias_alias_collision_set\n",
    ")\n",
    "len(gene_claim_name_hgnc_notmatch_aacollision)"
   ]
  },
  {
   "cell_type": "code",
   "execution_count": 312,
   "metadata": {},
   "outputs": [
    {
     "data": {
      "text/plain": [
       "104"
      ]
     },
     "execution_count": 312,
     "metadata": {},
     "output_type": "execute_result"
    }
   ],
   "source": [
    "gene_claim_name_ncbi_notmatch_aacollision = gene_claim_name_ncbi_notmatch.intersection(\n",
    "    ncbi_alias_alias_collision_set\n",
    ")\n",
    "len(gene_claim_name_ncbi_notmatch_aacollision)"
   ]
  },
  {
   "cell_type": "code",
   "execution_count": 313,
   "metadata": {},
   "outputs": [
    {
     "data": {
      "text/plain": [
       "56"
      ]
     },
     "execution_count": 313,
     "metadata": {},
     "output_type": "execute_result"
    }
   ],
   "source": [
    "gene_claim_name_ensg_notmatch_aacollision = gene_claim_name_ensg_notmatch.intersection(\n",
    "    ensg_alias_alias_collision_set\n",
    ")\n",
    "len(gene_claim_name_ensg_notmatch_aacollision)"
   ]
  },
  {
   "cell_type": "markdown",
   "metadata": {},
   "source": [
    "#### <a id='toc1_1_2_17_'></a>[How many unique claims that are primary gene symbols are also collisions?](#toc0_)"
   ]
  },
  {
   "cell_type": "code",
   "execution_count": 314,
   "metadata": {},
   "outputs": [
    {
     "data": {
      "text/plain": [
       "11984"
      ]
     },
     "execution_count": 314,
     "metadata": {},
     "output_type": "execute_result"
    }
   ],
   "source": [
    "gene_claim_name_hgnc_match = dgidb_gene_claim_name_set.intersection(\n",
    "    hgnc_gene_symbol_set\n",
    ")\n",
    "len(gene_claim_name_hgnc_match)"
   ]
  },
  {
   "cell_type": "code",
   "execution_count": 315,
   "metadata": {},
   "outputs": [
    {
     "data": {
      "text/plain": [
       "41"
      ]
     },
     "execution_count": 315,
     "metadata": {},
     "output_type": "execute_result"
    }
   ],
   "source": [
    "gene_claim_name_hgnc_match_aacollision = gene_claim_name_hgnc_match.intersection(\n",
    "    hgnc_alias_alias_collision_set\n",
    ")\n",
    "len(gene_claim_name_hgnc_match_aacollision)"
   ]
  },
  {
   "cell_type": "code",
   "execution_count": 316,
   "metadata": {},
   "outputs": [
    {
     "data": {
      "text/plain": [
       "11911"
      ]
     },
     "execution_count": 316,
     "metadata": {},
     "output_type": "execute_result"
    }
   ],
   "source": [
    "gene_claim_name_ncbi_match = dgidb_gene_claim_name_set.intersection(\n",
    "    ncbi_gene_symbol_set\n",
    ")\n",
    "len(gene_claim_name_ncbi_match)"
   ]
  },
  {
   "cell_type": "code",
   "execution_count": 317,
   "metadata": {},
   "outputs": [
    {
     "data": {
      "text/plain": [
       "136"
      ]
     },
     "execution_count": 317,
     "metadata": {},
     "output_type": "execute_result"
    }
   ],
   "source": [
    "gene_claim_name_ncbi_match_aacollision = gene_claim_name_ncbi_match.intersection(\n",
    "    ncbi_alias_alias_collision_set\n",
    ")\n",
    "len(gene_claim_name_ncbi_match_aacollision)"
   ]
  },
  {
   "cell_type": "code",
   "execution_count": 318,
   "metadata": {},
   "outputs": [
    {
     "data": {
      "text/plain": [
       "11710"
      ]
     },
     "execution_count": 318,
     "metadata": {},
     "output_type": "execute_result"
    }
   ],
   "source": [
    "gene_claim_name_ensg_match = dgidb_gene_claim_name_set.intersection(\n",
    "    ensg_gene_symbol_set\n",
    ")\n",
    "len(gene_claim_name_ensg_match)"
   ]
  },
  {
   "cell_type": "code",
   "execution_count": 319,
   "metadata": {},
   "outputs": [
    {
     "data": {
      "text/plain": [
       "42"
      ]
     },
     "execution_count": 319,
     "metadata": {},
     "output_type": "execute_result"
    }
   ],
   "source": [
    "gene_claim_name_ensg_match_aacollision = gene_claim_name_ensg_match.intersection(\n",
    "    ensg_alias_alias_collision_set\n",
    ")\n",
    "len(gene_claim_name_ensg_match_aacollision)"
   ]
  },
  {
   "cell_type": "markdown",
   "metadata": {},
   "source": [
    "#### <a id='toc1_1_2_18_'></a>[How many of the gene groups that are not primary gene symbols are alias-alias collisions from HGNC?](#toc0_)"
   ]
  },
  {
   "cell_type": "code",
   "execution_count": 320,
   "metadata": {},
   "outputs": [
    {
     "data": {
      "text/plain": [
       "1"
      ]
     },
     "execution_count": 320,
     "metadata": {},
     "output_type": "execute_result"
    }
   ],
   "source": [
    "name_hngc_notmatch_aacollision = name_hgnc_notmatch.intersection(\n",
    "    hgnc_alias_alias_collision_set\n",
    ")\n",
    "len(name_hngc_notmatch_aacollision)"
   ]
  },
  {
   "cell_type": "code",
   "execution_count": 321,
   "metadata": {},
   "outputs": [
    {
     "data": {
      "text/plain": [
       "2"
      ]
     },
     "execution_count": 321,
     "metadata": {},
     "output_type": "execute_result"
    }
   ],
   "source": [
    "name_ncbi_notmatch_aacollision = name_ncbi_notmatch.intersection(\n",
    "    ncbi_alias_alias_collision_set\n",
    ")\n",
    "len(name_ncbi_notmatch_aacollision)"
   ]
  },
  {
   "cell_type": "code",
   "execution_count": 322,
   "metadata": {},
   "outputs": [
    {
     "data": {
      "text/plain": [
       "3"
      ]
     },
     "execution_count": 322,
     "metadata": {},
     "output_type": "execute_result"
    }
   ],
   "source": [
    "name_ensg_notmatch_aacollision = name_ensg_notmatch.intersection(\n",
    "    ensg_alias_alias_collision_set\n",
    ")\n",
    "len(name_ensg_notmatch_aacollision)"
   ]
  },
  {
   "cell_type": "markdown",
   "metadata": {},
   "source": [
    "#### <a id='toc1_1_2_19_'></a>[How many claims are ambiguous symbols?](#toc0_)"
   ]
  },
  {
   "cell_type": "code",
   "execution_count": 323,
   "metadata": {},
   "outputs": [
    {
     "data": {
      "text/html": [
       "<div>\n",
       "<style scoped>\n",
       "    .dataframe tbody tr th:only-of-type {\n",
       "        vertical-align: middle;\n",
       "    }\n",
       "\n",
       "    .dataframe tbody tr th {\n",
       "        vertical-align: top;\n",
       "    }\n",
       "\n",
       "    .dataframe thead th {\n",
       "        text-align: right;\n",
       "    }\n",
       "</style>\n",
       "<table border=\"1\" class=\"dataframe\">\n",
       "  <thead>\n",
       "    <tr style=\"text-align: right;\">\n",
       "      <th></th>\n",
       "      <th>gene_claim_name</th>\n",
       "      <th>nomenclature</th>\n",
       "      <th>concept_id</th>\n",
       "      <th>gene_name</th>\n",
       "      <th>source_db_name</th>\n",
       "      <th>source_db_version</th>\n",
       "      <th>claim_ambiguous_status</th>\n",
       "    </tr>\n",
       "  </thead>\n",
       "  <tbody>\n",
       "    <tr>\n",
       "      <th>0</th>\n",
       "      <td>NGFIBA</td>\n",
       "      <td>NCBI Gene Name</td>\n",
       "      <td>NaN</td>\n",
       "      <td>NaN</td>\n",
       "      <td>BaderLab</td>\n",
       "      <td>Feb-14</td>\n",
       "      <td>False</td>\n",
       "    </tr>\n",
       "    <tr>\n",
       "      <th>1</th>\n",
       "      <td>NGFIBB</td>\n",
       "      <td>NCBI Gene Name</td>\n",
       "      <td>NaN</td>\n",
       "      <td>NaN</td>\n",
       "      <td>BaderLab</td>\n",
       "      <td>Feb-14</td>\n",
       "      <td>False</td>\n",
       "    </tr>\n",
       "    <tr>\n",
       "      <th>2</th>\n",
       "      <td>DAX</td>\n",
       "      <td>NCBI Gene Name</td>\n",
       "      <td>NaN</td>\n",
       "      <td>NaN</td>\n",
       "      <td>BaderLab</td>\n",
       "      <td>Feb-14</td>\n",
       "      <td>False</td>\n",
       "    </tr>\n",
       "    <tr>\n",
       "      <th>3</th>\n",
       "      <td>REV-ERBA</td>\n",
       "      <td>NCBI Gene Name</td>\n",
       "      <td>NaN</td>\n",
       "      <td>NaN</td>\n",
       "      <td>BaderLab</td>\n",
       "      <td>Feb-14</td>\n",
       "      <td>False</td>\n",
       "    </tr>\n",
       "    <tr>\n",
       "      <th>4</th>\n",
       "      <td>COUP2</td>\n",
       "      <td>NCBI Gene Name</td>\n",
       "      <td>NaN</td>\n",
       "      <td>NaN</td>\n",
       "      <td>BaderLab</td>\n",
       "      <td>Feb-14</td>\n",
       "      <td>False</td>\n",
       "    </tr>\n",
       "    <tr>\n",
       "      <th>...</th>\n",
       "      <td>...</td>\n",
       "      <td>...</td>\n",
       "      <td>...</td>\n",
       "      <td>...</td>\n",
       "      <td>...</td>\n",
       "      <td>...</td>\n",
       "      <td>...</td>\n",
       "    </tr>\n",
       "    <tr>\n",
       "      <th>80229</th>\n",
       "      <td>KIT</td>\n",
       "      <td>Gene Symbol</td>\n",
       "      <td>hgnc:6342</td>\n",
       "      <td>KIT</td>\n",
       "      <td>Oncomine</td>\n",
       "      <td>v3</td>\n",
       "      <td>False</td>\n",
       "    </tr>\n",
       "    <tr>\n",
       "      <th>80230</th>\n",
       "      <td>HES1</td>\n",
       "      <td>Gene Name</td>\n",
       "      <td>hgnc:5192</td>\n",
       "      <td>HES1</td>\n",
       "      <td>NCI</td>\n",
       "      <td>14-Sep-17</td>\n",
       "      <td>True</td>\n",
       "    </tr>\n",
       "    <tr>\n",
       "      <th>80231</th>\n",
       "      <td>IRF1</td>\n",
       "      <td>Gene Symbol</td>\n",
       "      <td>hgnc:6116</td>\n",
       "      <td>IRF1</td>\n",
       "      <td>Tempus</td>\n",
       "      <td>11-Nov-18</td>\n",
       "      <td>False</td>\n",
       "    </tr>\n",
       "    <tr>\n",
       "      <th>80232</th>\n",
       "      <td>SHFM1</td>\n",
       "      <td>Gene Name</td>\n",
       "      <td>hgnc:10845</td>\n",
       "      <td>SEM1</td>\n",
       "      <td>DTC</td>\n",
       "      <td>9/2/20</td>\n",
       "      <td>True</td>\n",
       "    </tr>\n",
       "    <tr>\n",
       "      <th>80233</th>\n",
       "      <td>NEUROD1</td>\n",
       "      <td>Gene Name</td>\n",
       "      <td>hgnc:7762</td>\n",
       "      <td>NEUROD1</td>\n",
       "      <td>NCI</td>\n",
       "      <td>14-Sep-17</td>\n",
       "      <td>False</td>\n",
       "    </tr>\n",
       "  </tbody>\n",
       "</table>\n",
       "<p>80234 rows × 7 columns</p>\n",
       "</div>"
      ],
      "text/plain": [
       "      gene_claim_name    nomenclature  concept_id gene_name source_db_name  \\\n",
       "0              NGFIBA  NCBI Gene Name         NaN       NaN       BaderLab   \n",
       "1              NGFIBB  NCBI Gene Name         NaN       NaN       BaderLab   \n",
       "2                 DAX  NCBI Gene Name         NaN       NaN       BaderLab   \n",
       "3            REV-ERBA  NCBI Gene Name         NaN       NaN       BaderLab   \n",
       "4               COUP2  NCBI Gene Name         NaN       NaN       BaderLab   \n",
       "...               ...             ...         ...       ...            ...   \n",
       "80229             KIT     Gene Symbol   hgnc:6342       KIT       Oncomine   \n",
       "80230            HES1       Gene Name   hgnc:5192      HES1            NCI   \n",
       "80231            IRF1     Gene Symbol   hgnc:6116      IRF1         Tempus   \n",
       "80232           SHFM1       Gene Name  hgnc:10845      SEM1            DTC   \n",
       "80233         NEUROD1       Gene Name   hgnc:7762   NEUROD1            NCI   \n",
       "\n",
       "      source_db_version  claim_ambiguous_status  \n",
       "0                Feb-14                   False  \n",
       "1                Feb-14                   False  \n",
       "2                Feb-14                   False  \n",
       "3                Feb-14                   False  \n",
       "4                Feb-14                   False  \n",
       "...                 ...                     ...  \n",
       "80229                v3                   False  \n",
       "80230         14-Sep-17                    True  \n",
       "80231         11-Nov-18                   False  \n",
       "80232            9/2/20                    True  \n",
       "80233         14-Sep-17                   False  \n",
       "\n",
       "[80234 rows x 7 columns]"
      ]
     },
     "execution_count": 323,
     "metadata": {},
     "output_type": "execute_result"
    }
   ],
   "source": [
    "dgidb_gene_df[\"claim_ambiguous_status\"] = dgidb_gene_df[\"gene_claim_name\"].isin(\n",
    "    ambiguous_symbol_set\n",
    ")\n",
    "dgidb_gene_df"
   ]
  },
  {
   "cell_type": "code",
   "execution_count": 324,
   "metadata": {},
   "outputs": [
    {
     "data": {
      "text/plain": [
       "claim_ambiguous_status\n",
       "False    75358\n",
       "True      4876\n",
       "Name: count, dtype: int64"
      ]
     },
     "execution_count": 324,
     "metadata": {},
     "output_type": "execute_result"
    }
   ],
   "source": [
    "dgidb_gene_df[\"claim_ambiguous_status\"].value_counts()"
   ]
  },
  {
   "cell_type": "code",
   "execution_count": 325,
   "metadata": {},
   "outputs": [
    {
     "data": {
      "text/plain": [
       "4876"
      ]
     },
     "execution_count": 325,
     "metadata": {},
     "output_type": "execute_result"
    }
   ],
   "source": [
    "ambiguous_claim_df = dgidb_gene_df.loc[dgidb_gene_df[\"claim_ambiguous_status\"]]\n",
    "num_ambiguous_claim = len(ambiguous_claim_df)\n",
    "num_ambiguous_claim"
   ]
  },
  {
   "cell_type": "code",
   "execution_count": 326,
   "metadata": {},
   "outputs": [
    {
     "data": {
      "text/html": [
       "<div>\n",
       "<style scoped>\n",
       "    .dataframe tbody tr th:only-of-type {\n",
       "        vertical-align: middle;\n",
       "    }\n",
       "\n",
       "    .dataframe tbody tr th {\n",
       "        vertical-align: top;\n",
       "    }\n",
       "\n",
       "    .dataframe thead th {\n",
       "        text-align: right;\n",
       "    }\n",
       "</style>\n",
       "<table border=\"1\" class=\"dataframe\">\n",
       "  <thead>\n",
       "    <tr style=\"text-align: right;\">\n",
       "      <th></th>\n",
       "      <th>gene_claim_name</th>\n",
       "      <th>nomenclature</th>\n",
       "      <th>concept_id</th>\n",
       "      <th>gene_name</th>\n",
       "      <th>source_db_name</th>\n",
       "      <th>source_db_version</th>\n",
       "      <th>claim_ambiguous_status</th>\n",
       "    </tr>\n",
       "  </thead>\n",
       "  <tbody>\n",
       "    <tr>\n",
       "      <th>18</th>\n",
       "      <td>TR2</td>\n",
       "      <td>NCBI Gene Name</td>\n",
       "      <td>hgnc:7971</td>\n",
       "      <td>NR2C1</td>\n",
       "      <td>BaderLab</td>\n",
       "      <td>Feb-14</td>\n",
       "      <td>True</td>\n",
       "    </tr>\n",
       "  </tbody>\n",
       "</table>\n",
       "</div>"
      ],
      "text/plain": [
       "   gene_claim_name    nomenclature concept_id gene_name source_db_name  \\\n",
       "18             TR2  NCBI Gene Name  hgnc:7971     NR2C1       BaderLab   \n",
       "\n",
       "   source_db_version  claim_ambiguous_status  \n",
       "18            Feb-14                    True  "
      ]
     },
     "execution_count": 326,
     "metadata": {},
     "output_type": "execute_result"
    }
   ],
   "source": [
    "ambiguous_claim_df.loc[ambiguous_claim_df[\"gene_claim_name\"] == \"TR2\"]"
   ]
  },
  {
   "cell_type": "markdown",
   "metadata": {},
   "source": [
    "#### <a id='toc1_1_2_20_'></a>[How many gene group labels are ambiguous symbols?](#toc0_)"
   ]
  },
  {
   "cell_type": "code",
   "execution_count": 327,
   "metadata": {},
   "outputs": [
    {
     "data": {
      "text/html": [
       "<div>\n",
       "<style scoped>\n",
       "    .dataframe tbody tr th:only-of-type {\n",
       "        vertical-align: middle;\n",
       "    }\n",
       "\n",
       "    .dataframe tbody tr th {\n",
       "        vertical-align: top;\n",
       "    }\n",
       "\n",
       "    .dataframe thead th {\n",
       "        text-align: right;\n",
       "    }\n",
       "</style>\n",
       "<table border=\"1\" class=\"dataframe\">\n",
       "  <thead>\n",
       "    <tr style=\"text-align: right;\">\n",
       "      <th></th>\n",
       "      <th>gene_claim_name</th>\n",
       "      <th>nomenclature</th>\n",
       "      <th>concept_id</th>\n",
       "      <th>gene_name</th>\n",
       "      <th>source_db_name</th>\n",
       "      <th>source_db_version</th>\n",
       "      <th>claim_ambiguous_status</th>\n",
       "      <th>name_ambiguous_status</th>\n",
       "    </tr>\n",
       "  </thead>\n",
       "  <tbody>\n",
       "    <tr>\n",
       "      <th>0</th>\n",
       "      <td>NGFIBA</td>\n",
       "      <td>NCBI Gene Name</td>\n",
       "      <td>NaN</td>\n",
       "      <td>NaN</td>\n",
       "      <td>BaderLab</td>\n",
       "      <td>Feb-14</td>\n",
       "      <td>False</td>\n",
       "      <td>False</td>\n",
       "    </tr>\n",
       "    <tr>\n",
       "      <th>1</th>\n",
       "      <td>NGFIBB</td>\n",
       "      <td>NCBI Gene Name</td>\n",
       "      <td>NaN</td>\n",
       "      <td>NaN</td>\n",
       "      <td>BaderLab</td>\n",
       "      <td>Feb-14</td>\n",
       "      <td>False</td>\n",
       "      <td>False</td>\n",
       "    </tr>\n",
       "    <tr>\n",
       "      <th>2</th>\n",
       "      <td>DAX</td>\n",
       "      <td>NCBI Gene Name</td>\n",
       "      <td>NaN</td>\n",
       "      <td>NaN</td>\n",
       "      <td>BaderLab</td>\n",
       "      <td>Feb-14</td>\n",
       "      <td>False</td>\n",
       "      <td>False</td>\n",
       "    </tr>\n",
       "    <tr>\n",
       "      <th>3</th>\n",
       "      <td>REV-ERBA</td>\n",
       "      <td>NCBI Gene Name</td>\n",
       "      <td>NaN</td>\n",
       "      <td>NaN</td>\n",
       "      <td>BaderLab</td>\n",
       "      <td>Feb-14</td>\n",
       "      <td>False</td>\n",
       "      <td>False</td>\n",
       "    </tr>\n",
       "    <tr>\n",
       "      <th>4</th>\n",
       "      <td>COUP2</td>\n",
       "      <td>NCBI Gene Name</td>\n",
       "      <td>NaN</td>\n",
       "      <td>NaN</td>\n",
       "      <td>BaderLab</td>\n",
       "      <td>Feb-14</td>\n",
       "      <td>False</td>\n",
       "      <td>False</td>\n",
       "    </tr>\n",
       "    <tr>\n",
       "      <th>...</th>\n",
       "      <td>...</td>\n",
       "      <td>...</td>\n",
       "      <td>...</td>\n",
       "      <td>...</td>\n",
       "      <td>...</td>\n",
       "      <td>...</td>\n",
       "      <td>...</td>\n",
       "      <td>...</td>\n",
       "    </tr>\n",
       "    <tr>\n",
       "      <th>80229</th>\n",
       "      <td>KIT</td>\n",
       "      <td>Gene Symbol</td>\n",
       "      <td>hgnc:6342</td>\n",
       "      <td>KIT</td>\n",
       "      <td>Oncomine</td>\n",
       "      <td>v3</td>\n",
       "      <td>False</td>\n",
       "      <td>False</td>\n",
       "    </tr>\n",
       "    <tr>\n",
       "      <th>80230</th>\n",
       "      <td>HES1</td>\n",
       "      <td>Gene Name</td>\n",
       "      <td>hgnc:5192</td>\n",
       "      <td>HES1</td>\n",
       "      <td>NCI</td>\n",
       "      <td>14-Sep-17</td>\n",
       "      <td>True</td>\n",
       "      <td>True</td>\n",
       "    </tr>\n",
       "    <tr>\n",
       "      <th>80231</th>\n",
       "      <td>IRF1</td>\n",
       "      <td>Gene Symbol</td>\n",
       "      <td>hgnc:6116</td>\n",
       "      <td>IRF1</td>\n",
       "      <td>Tempus</td>\n",
       "      <td>11-Nov-18</td>\n",
       "      <td>False</td>\n",
       "      <td>False</td>\n",
       "    </tr>\n",
       "    <tr>\n",
       "      <th>80232</th>\n",
       "      <td>SHFM1</td>\n",
       "      <td>Gene Name</td>\n",
       "      <td>hgnc:10845</td>\n",
       "      <td>SEM1</td>\n",
       "      <td>DTC</td>\n",
       "      <td>9/2/20</td>\n",
       "      <td>True</td>\n",
       "      <td>False</td>\n",
       "    </tr>\n",
       "    <tr>\n",
       "      <th>80233</th>\n",
       "      <td>NEUROD1</td>\n",
       "      <td>Gene Name</td>\n",
       "      <td>hgnc:7762</td>\n",
       "      <td>NEUROD1</td>\n",
       "      <td>NCI</td>\n",
       "      <td>14-Sep-17</td>\n",
       "      <td>False</td>\n",
       "      <td>False</td>\n",
       "    </tr>\n",
       "  </tbody>\n",
       "</table>\n",
       "<p>80234 rows × 8 columns</p>\n",
       "</div>"
      ],
      "text/plain": [
       "      gene_claim_name    nomenclature  concept_id gene_name source_db_name  \\\n",
       "0              NGFIBA  NCBI Gene Name         NaN       NaN       BaderLab   \n",
       "1              NGFIBB  NCBI Gene Name         NaN       NaN       BaderLab   \n",
       "2                 DAX  NCBI Gene Name         NaN       NaN       BaderLab   \n",
       "3            REV-ERBA  NCBI Gene Name         NaN       NaN       BaderLab   \n",
       "4               COUP2  NCBI Gene Name         NaN       NaN       BaderLab   \n",
       "...               ...             ...         ...       ...            ...   \n",
       "80229             KIT     Gene Symbol   hgnc:6342       KIT       Oncomine   \n",
       "80230            HES1       Gene Name   hgnc:5192      HES1            NCI   \n",
       "80231            IRF1     Gene Symbol   hgnc:6116      IRF1         Tempus   \n",
       "80232           SHFM1       Gene Name  hgnc:10845      SEM1            DTC   \n",
       "80233         NEUROD1       Gene Name   hgnc:7762   NEUROD1            NCI   \n",
       "\n",
       "      source_db_version  claim_ambiguous_status  name_ambiguous_status  \n",
       "0                Feb-14                   False                  False  \n",
       "1                Feb-14                   False                  False  \n",
       "2                Feb-14                   False                  False  \n",
       "3                Feb-14                   False                  False  \n",
       "4                Feb-14                   False                  False  \n",
       "...                 ...                     ...                    ...  \n",
       "80229                v3                   False                  False  \n",
       "80230         14-Sep-17                    True                   True  \n",
       "80231         11-Nov-18                   False                  False  \n",
       "80232            9/2/20                    True                  False  \n",
       "80233         14-Sep-17                   False                  False  \n",
       "\n",
       "[80234 rows x 8 columns]"
      ]
     },
     "execution_count": 327,
     "metadata": {},
     "output_type": "execute_result"
    }
   ],
   "source": [
    "dgidb_gene_df[\"name_ambiguous_status\"] = dgidb_gene_df[\"gene_name\"].isin(\n",
    "    ambiguous_symbol_set\n",
    ")\n",
    "dgidb_gene_df"
   ]
  },
  {
   "cell_type": "code",
   "execution_count": 328,
   "metadata": {},
   "outputs": [
    {
     "data": {
      "text/plain": [
       "name_ambiguous_status\n",
       "False    74459\n",
       "True      5775\n",
       "Name: count, dtype: int64"
      ]
     },
     "execution_count": 328,
     "metadata": {},
     "output_type": "execute_result"
    }
   ],
   "source": [
    "dgidb_gene_df[\"name_ambiguous_status\"].value_counts()"
   ]
  },
  {
   "cell_type": "code",
   "execution_count": 329,
   "metadata": {},
   "outputs": [
    {
     "data": {
      "text/plain": [
       "5775"
      ]
     },
     "execution_count": 329,
     "metadata": {},
     "output_type": "execute_result"
    }
   ],
   "source": [
    "ambiguous_name_df = dgidb_gene_df.loc[dgidb_gene_df[\"name_ambiguous_status\"]]\n",
    "num_ambiguous_name = len(ambiguous_name_df)\n",
    "num_ambiguous_name"
   ]
  },
  {
   "cell_type": "markdown",
   "metadata": {},
   "source": [
    "#### <a id='toc1_1_2_21_'></a>[How many claims are primary symbols?](#toc0_)"
   ]
  },
  {
   "cell_type": "code",
   "execution_count": 330,
   "metadata": {},
   "outputs": [
    {
     "data": {
      "text/html": [
       "<div>\n",
       "<style scoped>\n",
       "    .dataframe tbody tr th:only-of-type {\n",
       "        vertical-align: middle;\n",
       "    }\n",
       "\n",
       "    .dataframe tbody tr th {\n",
       "        vertical-align: top;\n",
       "    }\n",
       "\n",
       "    .dataframe thead th {\n",
       "        text-align: right;\n",
       "    }\n",
       "</style>\n",
       "<table border=\"1\" class=\"dataframe\">\n",
       "  <thead>\n",
       "    <tr style=\"text-align: right;\">\n",
       "      <th></th>\n",
       "      <th>gene_claim_name</th>\n",
       "      <th>nomenclature</th>\n",
       "      <th>concept_id</th>\n",
       "      <th>gene_name</th>\n",
       "      <th>source_db_name</th>\n",
       "      <th>source_db_version</th>\n",
       "      <th>claim_ambiguous_status</th>\n",
       "      <th>name_ambiguous_status</th>\n",
       "      <th>claim_primary_status</th>\n",
       "    </tr>\n",
       "  </thead>\n",
       "  <tbody>\n",
       "    <tr>\n",
       "      <th>0</th>\n",
       "      <td>NGFIBA</td>\n",
       "      <td>NCBI Gene Name</td>\n",
       "      <td>NaN</td>\n",
       "      <td>NaN</td>\n",
       "      <td>BaderLab</td>\n",
       "      <td>Feb-14</td>\n",
       "      <td>False</td>\n",
       "      <td>False</td>\n",
       "      <td>False</td>\n",
       "    </tr>\n",
       "    <tr>\n",
       "      <th>1</th>\n",
       "      <td>NGFIBB</td>\n",
       "      <td>NCBI Gene Name</td>\n",
       "      <td>NaN</td>\n",
       "      <td>NaN</td>\n",
       "      <td>BaderLab</td>\n",
       "      <td>Feb-14</td>\n",
       "      <td>False</td>\n",
       "      <td>False</td>\n",
       "      <td>False</td>\n",
       "    </tr>\n",
       "    <tr>\n",
       "      <th>2</th>\n",
       "      <td>DAX</td>\n",
       "      <td>NCBI Gene Name</td>\n",
       "      <td>NaN</td>\n",
       "      <td>NaN</td>\n",
       "      <td>BaderLab</td>\n",
       "      <td>Feb-14</td>\n",
       "      <td>False</td>\n",
       "      <td>False</td>\n",
       "      <td>False</td>\n",
       "    </tr>\n",
       "    <tr>\n",
       "      <th>3</th>\n",
       "      <td>REV-ERBA</td>\n",
       "      <td>NCBI Gene Name</td>\n",
       "      <td>NaN</td>\n",
       "      <td>NaN</td>\n",
       "      <td>BaderLab</td>\n",
       "      <td>Feb-14</td>\n",
       "      <td>False</td>\n",
       "      <td>False</td>\n",
       "      <td>False</td>\n",
       "    </tr>\n",
       "    <tr>\n",
       "      <th>4</th>\n",
       "      <td>COUP2</td>\n",
       "      <td>NCBI Gene Name</td>\n",
       "      <td>NaN</td>\n",
       "      <td>NaN</td>\n",
       "      <td>BaderLab</td>\n",
       "      <td>Feb-14</td>\n",
       "      <td>False</td>\n",
       "      <td>False</td>\n",
       "      <td>False</td>\n",
       "    </tr>\n",
       "    <tr>\n",
       "      <th>...</th>\n",
       "      <td>...</td>\n",
       "      <td>...</td>\n",
       "      <td>...</td>\n",
       "      <td>...</td>\n",
       "      <td>...</td>\n",
       "      <td>...</td>\n",
       "      <td>...</td>\n",
       "      <td>...</td>\n",
       "      <td>...</td>\n",
       "    </tr>\n",
       "    <tr>\n",
       "      <th>80229</th>\n",
       "      <td>KIT</td>\n",
       "      <td>Gene Symbol</td>\n",
       "      <td>hgnc:6342</td>\n",
       "      <td>KIT</td>\n",
       "      <td>Oncomine</td>\n",
       "      <td>v3</td>\n",
       "      <td>False</td>\n",
       "      <td>False</td>\n",
       "      <td>True</td>\n",
       "    </tr>\n",
       "    <tr>\n",
       "      <th>80230</th>\n",
       "      <td>HES1</td>\n",
       "      <td>Gene Name</td>\n",
       "      <td>hgnc:5192</td>\n",
       "      <td>HES1</td>\n",
       "      <td>NCI</td>\n",
       "      <td>14-Sep-17</td>\n",
       "      <td>True</td>\n",
       "      <td>True</td>\n",
       "      <td>True</td>\n",
       "    </tr>\n",
       "    <tr>\n",
       "      <th>80231</th>\n",
       "      <td>IRF1</td>\n",
       "      <td>Gene Symbol</td>\n",
       "      <td>hgnc:6116</td>\n",
       "      <td>IRF1</td>\n",
       "      <td>Tempus</td>\n",
       "      <td>11-Nov-18</td>\n",
       "      <td>False</td>\n",
       "      <td>False</td>\n",
       "      <td>True</td>\n",
       "    </tr>\n",
       "    <tr>\n",
       "      <th>80232</th>\n",
       "      <td>SHFM1</td>\n",
       "      <td>Gene Name</td>\n",
       "      <td>hgnc:10845</td>\n",
       "      <td>SEM1</td>\n",
       "      <td>DTC</td>\n",
       "      <td>9/2/20</td>\n",
       "      <td>True</td>\n",
       "      <td>False</td>\n",
       "      <td>False</td>\n",
       "    </tr>\n",
       "    <tr>\n",
       "      <th>80233</th>\n",
       "      <td>NEUROD1</td>\n",
       "      <td>Gene Name</td>\n",
       "      <td>hgnc:7762</td>\n",
       "      <td>NEUROD1</td>\n",
       "      <td>NCI</td>\n",
       "      <td>14-Sep-17</td>\n",
       "      <td>False</td>\n",
       "      <td>False</td>\n",
       "      <td>True</td>\n",
       "    </tr>\n",
       "  </tbody>\n",
       "</table>\n",
       "<p>80234 rows × 9 columns</p>\n",
       "</div>"
      ],
      "text/plain": [
       "      gene_claim_name    nomenclature  concept_id gene_name source_db_name  \\\n",
       "0              NGFIBA  NCBI Gene Name         NaN       NaN       BaderLab   \n",
       "1              NGFIBB  NCBI Gene Name         NaN       NaN       BaderLab   \n",
       "2                 DAX  NCBI Gene Name         NaN       NaN       BaderLab   \n",
       "3            REV-ERBA  NCBI Gene Name         NaN       NaN       BaderLab   \n",
       "4               COUP2  NCBI Gene Name         NaN       NaN       BaderLab   \n",
       "...               ...             ...         ...       ...            ...   \n",
       "80229             KIT     Gene Symbol   hgnc:6342       KIT       Oncomine   \n",
       "80230            HES1       Gene Name   hgnc:5192      HES1            NCI   \n",
       "80231            IRF1     Gene Symbol   hgnc:6116      IRF1         Tempus   \n",
       "80232           SHFM1       Gene Name  hgnc:10845      SEM1            DTC   \n",
       "80233         NEUROD1       Gene Name   hgnc:7762   NEUROD1            NCI   \n",
       "\n",
       "      source_db_version  claim_ambiguous_status  name_ambiguous_status  \\\n",
       "0                Feb-14                   False                  False   \n",
       "1                Feb-14                   False                  False   \n",
       "2                Feb-14                   False                  False   \n",
       "3                Feb-14                   False                  False   \n",
       "4                Feb-14                   False                  False   \n",
       "...                 ...                     ...                    ...   \n",
       "80229                v3                   False                  False   \n",
       "80230         14-Sep-17                    True                   True   \n",
       "80231         11-Nov-18                   False                  False   \n",
       "80232            9/2/20                    True                  False   \n",
       "80233         14-Sep-17                   False                  False   \n",
       "\n",
       "       claim_primary_status  \n",
       "0                     False  \n",
       "1                     False  \n",
       "2                     False  \n",
       "3                     False  \n",
       "4                     False  \n",
       "...                     ...  \n",
       "80229                  True  \n",
       "80230                  True  \n",
       "80231                  True  \n",
       "80232                 False  \n",
       "80233                  True  \n",
       "\n",
       "[80234 rows x 9 columns]"
      ]
     },
     "execution_count": 330,
     "metadata": {},
     "output_type": "execute_result"
    }
   ],
   "source": [
    "dgidb_gene_df[\"claim_primary_status\"] = dgidb_gene_df[\"gene_claim_name\"].isin(\n",
    "    hgnc_ensg_ncbi_gene_symbol_set\n",
    ")\n",
    "dgidb_gene_df"
   ]
  },
  {
   "cell_type": "code",
   "execution_count": 331,
   "metadata": {},
   "outputs": [
    {
     "data": {
      "text/plain": [
       "claim_primary_status\n",
       "True     64209\n",
       "False    16025\n",
       "Name: count, dtype: int64"
      ]
     },
     "execution_count": 331,
     "metadata": {},
     "output_type": "execute_result"
    }
   ],
   "source": [
    "dgidb_gene_df[\"claim_primary_status\"].value_counts()"
   ]
  },
  {
   "cell_type": "code",
   "execution_count": 332,
   "metadata": {},
   "outputs": [
    {
     "data": {
      "text/plain": [
       "64209"
      ]
     },
     "execution_count": 332,
     "metadata": {},
     "output_type": "execute_result"
    }
   ],
   "source": [
    "primary_claim_df = dgidb_gene_df.loc[dgidb_gene_df[\"claim_primary_status\"]]\n",
    "num_primary_claim = len(primary_claim_df)\n",
    "num_primary_claim"
   ]
  },
  {
   "cell_type": "markdown",
   "metadata": {},
   "source": [
    "#### <a id='toc1_1_2_22_'></a>[How many gene group labels are primary symbols?](#toc0_)"
   ]
  },
  {
   "cell_type": "code",
   "execution_count": 333,
   "metadata": {},
   "outputs": [
    {
     "data": {
      "text/html": [
       "<div>\n",
       "<style scoped>\n",
       "    .dataframe tbody tr th:only-of-type {\n",
       "        vertical-align: middle;\n",
       "    }\n",
       "\n",
       "    .dataframe tbody tr th {\n",
       "        vertical-align: top;\n",
       "    }\n",
       "\n",
       "    .dataframe thead th {\n",
       "        text-align: right;\n",
       "    }\n",
       "</style>\n",
       "<table border=\"1\" class=\"dataframe\">\n",
       "  <thead>\n",
       "    <tr style=\"text-align: right;\">\n",
       "      <th></th>\n",
       "      <th>gene_claim_name</th>\n",
       "      <th>nomenclature</th>\n",
       "      <th>concept_id</th>\n",
       "      <th>gene_name</th>\n",
       "      <th>source_db_name</th>\n",
       "      <th>source_db_version</th>\n",
       "      <th>claim_ambiguous_status</th>\n",
       "      <th>name_ambiguous_status</th>\n",
       "      <th>claim_primary_status</th>\n",
       "      <th>name_primary_status</th>\n",
       "    </tr>\n",
       "  </thead>\n",
       "  <tbody>\n",
       "    <tr>\n",
       "      <th>0</th>\n",
       "      <td>NGFIBA</td>\n",
       "      <td>NCBI Gene Name</td>\n",
       "      <td>NaN</td>\n",
       "      <td>NaN</td>\n",
       "      <td>BaderLab</td>\n",
       "      <td>Feb-14</td>\n",
       "      <td>False</td>\n",
       "      <td>False</td>\n",
       "      <td>False</td>\n",
       "      <td>False</td>\n",
       "    </tr>\n",
       "    <tr>\n",
       "      <th>1</th>\n",
       "      <td>NGFIBB</td>\n",
       "      <td>NCBI Gene Name</td>\n",
       "      <td>NaN</td>\n",
       "      <td>NaN</td>\n",
       "      <td>BaderLab</td>\n",
       "      <td>Feb-14</td>\n",
       "      <td>False</td>\n",
       "      <td>False</td>\n",
       "      <td>False</td>\n",
       "      <td>False</td>\n",
       "    </tr>\n",
       "    <tr>\n",
       "      <th>2</th>\n",
       "      <td>DAX</td>\n",
       "      <td>NCBI Gene Name</td>\n",
       "      <td>NaN</td>\n",
       "      <td>NaN</td>\n",
       "      <td>BaderLab</td>\n",
       "      <td>Feb-14</td>\n",
       "      <td>False</td>\n",
       "      <td>False</td>\n",
       "      <td>False</td>\n",
       "      <td>False</td>\n",
       "    </tr>\n",
       "    <tr>\n",
       "      <th>3</th>\n",
       "      <td>REV-ERBA</td>\n",
       "      <td>NCBI Gene Name</td>\n",
       "      <td>NaN</td>\n",
       "      <td>NaN</td>\n",
       "      <td>BaderLab</td>\n",
       "      <td>Feb-14</td>\n",
       "      <td>False</td>\n",
       "      <td>False</td>\n",
       "      <td>False</td>\n",
       "      <td>False</td>\n",
       "    </tr>\n",
       "    <tr>\n",
       "      <th>4</th>\n",
       "      <td>COUP2</td>\n",
       "      <td>NCBI Gene Name</td>\n",
       "      <td>NaN</td>\n",
       "      <td>NaN</td>\n",
       "      <td>BaderLab</td>\n",
       "      <td>Feb-14</td>\n",
       "      <td>False</td>\n",
       "      <td>False</td>\n",
       "      <td>False</td>\n",
       "      <td>False</td>\n",
       "    </tr>\n",
       "    <tr>\n",
       "      <th>...</th>\n",
       "      <td>...</td>\n",
       "      <td>...</td>\n",
       "      <td>...</td>\n",
       "      <td>...</td>\n",
       "      <td>...</td>\n",
       "      <td>...</td>\n",
       "      <td>...</td>\n",
       "      <td>...</td>\n",
       "      <td>...</td>\n",
       "      <td>...</td>\n",
       "    </tr>\n",
       "    <tr>\n",
       "      <th>80229</th>\n",
       "      <td>KIT</td>\n",
       "      <td>Gene Symbol</td>\n",
       "      <td>hgnc:6342</td>\n",
       "      <td>KIT</td>\n",
       "      <td>Oncomine</td>\n",
       "      <td>v3</td>\n",
       "      <td>False</td>\n",
       "      <td>False</td>\n",
       "      <td>True</td>\n",
       "      <td>True</td>\n",
       "    </tr>\n",
       "    <tr>\n",
       "      <th>80230</th>\n",
       "      <td>HES1</td>\n",
       "      <td>Gene Name</td>\n",
       "      <td>hgnc:5192</td>\n",
       "      <td>HES1</td>\n",
       "      <td>NCI</td>\n",
       "      <td>14-Sep-17</td>\n",
       "      <td>True</td>\n",
       "      <td>True</td>\n",
       "      <td>True</td>\n",
       "      <td>True</td>\n",
       "    </tr>\n",
       "    <tr>\n",
       "      <th>80231</th>\n",
       "      <td>IRF1</td>\n",
       "      <td>Gene Symbol</td>\n",
       "      <td>hgnc:6116</td>\n",
       "      <td>IRF1</td>\n",
       "      <td>Tempus</td>\n",
       "      <td>11-Nov-18</td>\n",
       "      <td>False</td>\n",
       "      <td>False</td>\n",
       "      <td>True</td>\n",
       "      <td>True</td>\n",
       "    </tr>\n",
       "    <tr>\n",
       "      <th>80232</th>\n",
       "      <td>SHFM1</td>\n",
       "      <td>Gene Name</td>\n",
       "      <td>hgnc:10845</td>\n",
       "      <td>SEM1</td>\n",
       "      <td>DTC</td>\n",
       "      <td>9/2/20</td>\n",
       "      <td>True</td>\n",
       "      <td>False</td>\n",
       "      <td>False</td>\n",
       "      <td>True</td>\n",
       "    </tr>\n",
       "    <tr>\n",
       "      <th>80233</th>\n",
       "      <td>NEUROD1</td>\n",
       "      <td>Gene Name</td>\n",
       "      <td>hgnc:7762</td>\n",
       "      <td>NEUROD1</td>\n",
       "      <td>NCI</td>\n",
       "      <td>14-Sep-17</td>\n",
       "      <td>False</td>\n",
       "      <td>False</td>\n",
       "      <td>True</td>\n",
       "      <td>True</td>\n",
       "    </tr>\n",
       "  </tbody>\n",
       "</table>\n",
       "<p>80234 rows × 10 columns</p>\n",
       "</div>"
      ],
      "text/plain": [
       "      gene_claim_name    nomenclature  concept_id gene_name source_db_name  \\\n",
       "0              NGFIBA  NCBI Gene Name         NaN       NaN       BaderLab   \n",
       "1              NGFIBB  NCBI Gene Name         NaN       NaN       BaderLab   \n",
       "2                 DAX  NCBI Gene Name         NaN       NaN       BaderLab   \n",
       "3            REV-ERBA  NCBI Gene Name         NaN       NaN       BaderLab   \n",
       "4               COUP2  NCBI Gene Name         NaN       NaN       BaderLab   \n",
       "...               ...             ...         ...       ...            ...   \n",
       "80229             KIT     Gene Symbol   hgnc:6342       KIT       Oncomine   \n",
       "80230            HES1       Gene Name   hgnc:5192      HES1            NCI   \n",
       "80231            IRF1     Gene Symbol   hgnc:6116      IRF1         Tempus   \n",
       "80232           SHFM1       Gene Name  hgnc:10845      SEM1            DTC   \n",
       "80233         NEUROD1       Gene Name   hgnc:7762   NEUROD1            NCI   \n",
       "\n",
       "      source_db_version  claim_ambiguous_status  name_ambiguous_status  \\\n",
       "0                Feb-14                   False                  False   \n",
       "1                Feb-14                   False                  False   \n",
       "2                Feb-14                   False                  False   \n",
       "3                Feb-14                   False                  False   \n",
       "4                Feb-14                   False                  False   \n",
       "...                 ...                     ...                    ...   \n",
       "80229                v3                   False                  False   \n",
       "80230         14-Sep-17                    True                   True   \n",
       "80231         11-Nov-18                   False                  False   \n",
       "80232            9/2/20                    True                  False   \n",
       "80233         14-Sep-17                   False                  False   \n",
       "\n",
       "       claim_primary_status  name_primary_status  \n",
       "0                     False                False  \n",
       "1                     False                False  \n",
       "2                     False                False  \n",
       "3                     False                False  \n",
       "4                     False                False  \n",
       "...                     ...                  ...  \n",
       "80229                  True                 True  \n",
       "80230                  True                 True  \n",
       "80231                  True                 True  \n",
       "80232                 False                 True  \n",
       "80233                  True                 True  \n",
       "\n",
       "[80234 rows x 10 columns]"
      ]
     },
     "execution_count": 333,
     "metadata": {},
     "output_type": "execute_result"
    }
   ],
   "source": [
    "dgidb_gene_df[\"name_primary_status\"] = (\n",
    "    dgidb_gene_df[\"gene_name\"].astype(str).isin(hgnc_ensg_ncbi_gene_symbol_set)\n",
    ")\n",
    "dgidb_gene_df"
   ]
  },
  {
   "cell_type": "code",
   "execution_count": 334,
   "metadata": {},
   "outputs": [
    {
     "data": {
      "text/plain": [
       "name_primary_status\n",
       "True     78074\n",
       "False     2160\n",
       "Name: count, dtype: int64"
      ]
     },
     "execution_count": 334,
     "metadata": {},
     "output_type": "execute_result"
    }
   ],
   "source": [
    "dgidb_gene_df[\"name_primary_status\"].value_counts()"
   ]
  },
  {
   "cell_type": "code",
   "execution_count": 335,
   "metadata": {},
   "outputs": [
    {
     "data": {
      "text/plain": [
       "78074"
      ]
     },
     "execution_count": 335,
     "metadata": {},
     "output_type": "execute_result"
    }
   ],
   "source": [
    "primary_name_df = dgidb_gene_df.loc[dgidb_gene_df[\"name_primary_status\"]]\n",
    "num_primary_name = len(primary_name_df)\n",
    "num_primary_name"
   ]
  },
  {
   "cell_type": "code",
   "execution_count": 336,
   "metadata": {},
   "outputs": [
    {
     "data": {
      "text/html": [
       "<div>\n",
       "<style scoped>\n",
       "    .dataframe tbody tr th:only-of-type {\n",
       "        vertical-align: middle;\n",
       "    }\n",
       "\n",
       "    .dataframe tbody tr th {\n",
       "        vertical-align: top;\n",
       "    }\n",
       "\n",
       "    .dataframe thead th {\n",
       "        text-align: right;\n",
       "    }\n",
       "</style>\n",
       "<table border=\"1\" class=\"dataframe\">\n",
       "  <thead>\n",
       "    <tr style=\"text-align: right;\">\n",
       "      <th></th>\n",
       "      <th>gene_claim_name</th>\n",
       "      <th>nomenclature</th>\n",
       "      <th>concept_id</th>\n",
       "      <th>gene_name</th>\n",
       "      <th>source_db_name</th>\n",
       "      <th>source_db_version</th>\n",
       "      <th>claim_ambiguous_status</th>\n",
       "      <th>name_ambiguous_status</th>\n",
       "      <th>claim_primary_status</th>\n",
       "      <th>name_primary_status</th>\n",
       "    </tr>\n",
       "  </thead>\n",
       "  <tbody>\n",
       "    <tr>\n",
       "      <th>0</th>\n",
       "      <td>NGFIBA</td>\n",
       "      <td>NCBI Gene Name</td>\n",
       "      <td>NaN</td>\n",
       "      <td>NaN</td>\n",
       "      <td>BaderLab</td>\n",
       "      <td>Feb-14</td>\n",
       "      <td>False</td>\n",
       "      <td>False</td>\n",
       "      <td>False</td>\n",
       "      <td>False</td>\n",
       "    </tr>\n",
       "    <tr>\n",
       "      <th>1</th>\n",
       "      <td>NGFIBB</td>\n",
       "      <td>NCBI Gene Name</td>\n",
       "      <td>NaN</td>\n",
       "      <td>NaN</td>\n",
       "      <td>BaderLab</td>\n",
       "      <td>Feb-14</td>\n",
       "      <td>False</td>\n",
       "      <td>False</td>\n",
       "      <td>False</td>\n",
       "      <td>False</td>\n",
       "    </tr>\n",
       "    <tr>\n",
       "      <th>2</th>\n",
       "      <td>DAX</td>\n",
       "      <td>NCBI Gene Name</td>\n",
       "      <td>NaN</td>\n",
       "      <td>NaN</td>\n",
       "      <td>BaderLab</td>\n",
       "      <td>Feb-14</td>\n",
       "      <td>False</td>\n",
       "      <td>False</td>\n",
       "      <td>False</td>\n",
       "      <td>False</td>\n",
       "    </tr>\n",
       "    <tr>\n",
       "      <th>3</th>\n",
       "      <td>REV-ERBA</td>\n",
       "      <td>NCBI Gene Name</td>\n",
       "      <td>NaN</td>\n",
       "      <td>NaN</td>\n",
       "      <td>BaderLab</td>\n",
       "      <td>Feb-14</td>\n",
       "      <td>False</td>\n",
       "      <td>False</td>\n",
       "      <td>False</td>\n",
       "      <td>False</td>\n",
       "    </tr>\n",
       "    <tr>\n",
       "      <th>4</th>\n",
       "      <td>COUP2</td>\n",
       "      <td>NCBI Gene Name</td>\n",
       "      <td>NaN</td>\n",
       "      <td>NaN</td>\n",
       "      <td>BaderLab</td>\n",
       "      <td>Feb-14</td>\n",
       "      <td>False</td>\n",
       "      <td>False</td>\n",
       "      <td>False</td>\n",
       "      <td>False</td>\n",
       "    </tr>\n",
       "    <tr>\n",
       "      <th>...</th>\n",
       "      <td>...</td>\n",
       "      <td>...</td>\n",
       "      <td>...</td>\n",
       "      <td>...</td>\n",
       "      <td>...</td>\n",
       "      <td>...</td>\n",
       "      <td>...</td>\n",
       "      <td>...</td>\n",
       "      <td>...</td>\n",
       "      <td>...</td>\n",
       "    </tr>\n",
       "    <tr>\n",
       "      <th>57108</th>\n",
       "      <td>NCBIGENE:2614</td>\n",
       "      <td>NCBI Gene ID</td>\n",
       "      <td>ncbigene:2614</td>\n",
       "      <td>GAPDHL17</td>\n",
       "      <td>GuideToPharmacology</td>\n",
       "      <td>2024.1</td>\n",
       "      <td>False</td>\n",
       "      <td>False</td>\n",
       "      <td>False</td>\n",
       "      <td>False</td>\n",
       "    </tr>\n",
       "    <tr>\n",
       "      <th>57552</th>\n",
       "      <td>CYB5P1</td>\n",
       "      <td>Gene Symbol</td>\n",
       "      <td>ncbigene:1529</td>\n",
       "      <td>CYB5P1</td>\n",
       "      <td>NCBI</td>\n",
       "      <td>20240410</td>\n",
       "      <td>False</td>\n",
       "      <td>False</td>\n",
       "      <td>False</td>\n",
       "      <td>False</td>\n",
       "    </tr>\n",
       "    <tr>\n",
       "      <th>66195</th>\n",
       "      <td>OA1</td>\n",
       "      <td>Gene Symbol</td>\n",
       "      <td>ncbigene:474285</td>\n",
       "      <td>OA1</td>\n",
       "      <td>NCBI</td>\n",
       "      <td>20240410</td>\n",
       "      <td>False</td>\n",
       "      <td>False</td>\n",
       "      <td>False</td>\n",
       "      <td>False</td>\n",
       "    </tr>\n",
       "    <tr>\n",
       "      <th>66196</th>\n",
       "      <td>OA1</td>\n",
       "      <td>Gene Symbol</td>\n",
       "      <td>ncbigene:474285</td>\n",
       "      <td>OA1</td>\n",
       "      <td>dGene</td>\n",
       "      <td>27-Jun-13</td>\n",
       "      <td>False</td>\n",
       "      <td>False</td>\n",
       "      <td>False</td>\n",
       "      <td>False</td>\n",
       "    </tr>\n",
       "    <tr>\n",
       "      <th>74562</th>\n",
       "      <td>ATP5A2</td>\n",
       "      <td>Gene Symbol</td>\n",
       "      <td>ncbigene:499</td>\n",
       "      <td>ATP5A2</td>\n",
       "      <td>NCBI</td>\n",
       "      <td>20240410</td>\n",
       "      <td>False</td>\n",
       "      <td>False</td>\n",
       "      <td>False</td>\n",
       "      <td>False</td>\n",
       "    </tr>\n",
       "  </tbody>\n",
       "</table>\n",
       "<p>2160 rows × 10 columns</p>\n",
       "</div>"
      ],
      "text/plain": [
       "      gene_claim_name    nomenclature       concept_id gene_name  \\\n",
       "0              NGFIBA  NCBI Gene Name              NaN       NaN   \n",
       "1              NGFIBB  NCBI Gene Name              NaN       NaN   \n",
       "2                 DAX  NCBI Gene Name              NaN       NaN   \n",
       "3            REV-ERBA  NCBI Gene Name              NaN       NaN   \n",
       "4               COUP2  NCBI Gene Name              NaN       NaN   \n",
       "...               ...             ...              ...       ...   \n",
       "57108   NCBIGENE:2614    NCBI Gene ID    ncbigene:2614  GAPDHL17   \n",
       "57552          CYB5P1     Gene Symbol    ncbigene:1529    CYB5P1   \n",
       "66195             OA1     Gene Symbol  ncbigene:474285       OA1   \n",
       "66196             OA1     Gene Symbol  ncbigene:474285       OA1   \n",
       "74562          ATP5A2     Gene Symbol     ncbigene:499    ATP5A2   \n",
       "\n",
       "            source_db_name source_db_version  claim_ambiguous_status  \\\n",
       "0                 BaderLab            Feb-14                   False   \n",
       "1                 BaderLab            Feb-14                   False   \n",
       "2                 BaderLab            Feb-14                   False   \n",
       "3                 BaderLab            Feb-14                   False   \n",
       "4                 BaderLab            Feb-14                   False   \n",
       "...                    ...               ...                     ...   \n",
       "57108  GuideToPharmacology            2024.1                   False   \n",
       "57552                 NCBI          20240410                   False   \n",
       "66195                 NCBI          20240410                   False   \n",
       "66196                dGene         27-Jun-13                   False   \n",
       "74562                 NCBI          20240410                   False   \n",
       "\n",
       "       name_ambiguous_status  claim_primary_status  name_primary_status  \n",
       "0                      False                 False                False  \n",
       "1                      False                 False                False  \n",
       "2                      False                 False                False  \n",
       "3                      False                 False                False  \n",
       "4                      False                 False                False  \n",
       "...                      ...                   ...                  ...  \n",
       "57108                  False                 False                False  \n",
       "57552                  False                 False                False  \n",
       "66195                  False                 False                False  \n",
       "66196                  False                 False                False  \n",
       "74562                  False                 False                False  \n",
       "\n",
       "[2160 rows x 10 columns]"
      ]
     },
     "execution_count": 336,
     "metadata": {},
     "output_type": "execute_result"
    }
   ],
   "source": [
    "not_primary_group_name_df = dgidb_gene_df.loc[~dgidb_gene_df[\"name_primary_status\"]]\n",
    "not_primary_group_name_df"
   ]
  },
  {
   "cell_type": "markdown",
   "metadata": {},
   "source": [
    "#### <a id='toc1_1_2_23_'></a>[How many gene group labels are alias symbols?](#toc0_)"
   ]
  },
  {
   "cell_type": "code",
   "execution_count": 337,
   "metadata": {},
   "outputs": [
    {
     "data": {
      "text/html": [
       "<div>\n",
       "<style scoped>\n",
       "    .dataframe tbody tr th:only-of-type {\n",
       "        vertical-align: middle;\n",
       "    }\n",
       "\n",
       "    .dataframe tbody tr th {\n",
       "        vertical-align: top;\n",
       "    }\n",
       "\n",
       "    .dataframe thead th {\n",
       "        text-align: right;\n",
       "    }\n",
       "</style>\n",
       "<table border=\"1\" class=\"dataframe\">\n",
       "  <thead>\n",
       "    <tr style=\"text-align: right;\">\n",
       "      <th></th>\n",
       "      <th>gene_claim_name</th>\n",
       "      <th>nomenclature</th>\n",
       "      <th>concept_id</th>\n",
       "      <th>gene_name</th>\n",
       "      <th>source_db_name</th>\n",
       "      <th>source_db_version</th>\n",
       "      <th>claim_ambiguous_status</th>\n",
       "      <th>name_ambiguous_status</th>\n",
       "      <th>claim_primary_status</th>\n",
       "      <th>name_primary_status</th>\n",
       "      <th>name_alias_status</th>\n",
       "    </tr>\n",
       "  </thead>\n",
       "  <tbody>\n",
       "    <tr>\n",
       "      <th>0</th>\n",
       "      <td>NGFIBA</td>\n",
       "      <td>NCBI Gene Name</td>\n",
       "      <td>NaN</td>\n",
       "      <td>NaN</td>\n",
       "      <td>BaderLab</td>\n",
       "      <td>Feb-14</td>\n",
       "      <td>False</td>\n",
       "      <td>False</td>\n",
       "      <td>False</td>\n",
       "      <td>False</td>\n",
       "      <td>True</td>\n",
       "    </tr>\n",
       "    <tr>\n",
       "      <th>1</th>\n",
       "      <td>NGFIBB</td>\n",
       "      <td>NCBI Gene Name</td>\n",
       "      <td>NaN</td>\n",
       "      <td>NaN</td>\n",
       "      <td>BaderLab</td>\n",
       "      <td>Feb-14</td>\n",
       "      <td>False</td>\n",
       "      <td>False</td>\n",
       "      <td>False</td>\n",
       "      <td>False</td>\n",
       "      <td>True</td>\n",
       "    </tr>\n",
       "    <tr>\n",
       "      <th>2</th>\n",
       "      <td>DAX</td>\n",
       "      <td>NCBI Gene Name</td>\n",
       "      <td>NaN</td>\n",
       "      <td>NaN</td>\n",
       "      <td>BaderLab</td>\n",
       "      <td>Feb-14</td>\n",
       "      <td>False</td>\n",
       "      <td>False</td>\n",
       "      <td>False</td>\n",
       "      <td>False</td>\n",
       "      <td>True</td>\n",
       "    </tr>\n",
       "    <tr>\n",
       "      <th>3</th>\n",
       "      <td>REV-ERBA</td>\n",
       "      <td>NCBI Gene Name</td>\n",
       "      <td>NaN</td>\n",
       "      <td>NaN</td>\n",
       "      <td>BaderLab</td>\n",
       "      <td>Feb-14</td>\n",
       "      <td>False</td>\n",
       "      <td>False</td>\n",
       "      <td>False</td>\n",
       "      <td>False</td>\n",
       "      <td>True</td>\n",
       "    </tr>\n",
       "    <tr>\n",
       "      <th>4</th>\n",
       "      <td>COUP2</td>\n",
       "      <td>NCBI Gene Name</td>\n",
       "      <td>NaN</td>\n",
       "      <td>NaN</td>\n",
       "      <td>BaderLab</td>\n",
       "      <td>Feb-14</td>\n",
       "      <td>False</td>\n",
       "      <td>False</td>\n",
       "      <td>False</td>\n",
       "      <td>False</td>\n",
       "      <td>True</td>\n",
       "    </tr>\n",
       "    <tr>\n",
       "      <th>...</th>\n",
       "      <td>...</td>\n",
       "      <td>...</td>\n",
       "      <td>...</td>\n",
       "      <td>...</td>\n",
       "      <td>...</td>\n",
       "      <td>...</td>\n",
       "      <td>...</td>\n",
       "      <td>...</td>\n",
       "      <td>...</td>\n",
       "      <td>...</td>\n",
       "      <td>...</td>\n",
       "    </tr>\n",
       "    <tr>\n",
       "      <th>80229</th>\n",
       "      <td>KIT</td>\n",
       "      <td>Gene Symbol</td>\n",
       "      <td>hgnc:6342</td>\n",
       "      <td>KIT</td>\n",
       "      <td>Oncomine</td>\n",
       "      <td>v3</td>\n",
       "      <td>False</td>\n",
       "      <td>False</td>\n",
       "      <td>True</td>\n",
       "      <td>True</td>\n",
       "      <td>False</td>\n",
       "    </tr>\n",
       "    <tr>\n",
       "      <th>80230</th>\n",
       "      <td>HES1</td>\n",
       "      <td>Gene Name</td>\n",
       "      <td>hgnc:5192</td>\n",
       "      <td>HES1</td>\n",
       "      <td>NCI</td>\n",
       "      <td>14-Sep-17</td>\n",
       "      <td>True</td>\n",
       "      <td>True</td>\n",
       "      <td>True</td>\n",
       "      <td>True</td>\n",
       "      <td>True</td>\n",
       "    </tr>\n",
       "    <tr>\n",
       "      <th>80231</th>\n",
       "      <td>IRF1</td>\n",
       "      <td>Gene Symbol</td>\n",
       "      <td>hgnc:6116</td>\n",
       "      <td>IRF1</td>\n",
       "      <td>Tempus</td>\n",
       "      <td>11-Nov-18</td>\n",
       "      <td>False</td>\n",
       "      <td>False</td>\n",
       "      <td>True</td>\n",
       "      <td>True</td>\n",
       "      <td>False</td>\n",
       "    </tr>\n",
       "    <tr>\n",
       "      <th>80232</th>\n",
       "      <td>SHFM1</td>\n",
       "      <td>Gene Name</td>\n",
       "      <td>hgnc:10845</td>\n",
       "      <td>SEM1</td>\n",
       "      <td>DTC</td>\n",
       "      <td>9/2/20</td>\n",
       "      <td>True</td>\n",
       "      <td>False</td>\n",
       "      <td>False</td>\n",
       "      <td>True</td>\n",
       "      <td>False</td>\n",
       "    </tr>\n",
       "    <tr>\n",
       "      <th>80233</th>\n",
       "      <td>NEUROD1</td>\n",
       "      <td>Gene Name</td>\n",
       "      <td>hgnc:7762</td>\n",
       "      <td>NEUROD1</td>\n",
       "      <td>NCI</td>\n",
       "      <td>14-Sep-17</td>\n",
       "      <td>False</td>\n",
       "      <td>False</td>\n",
       "      <td>True</td>\n",
       "      <td>True</td>\n",
       "      <td>False</td>\n",
       "    </tr>\n",
       "  </tbody>\n",
       "</table>\n",
       "<p>80234 rows × 11 columns</p>\n",
       "</div>"
      ],
      "text/plain": [
       "      gene_claim_name    nomenclature  concept_id gene_name source_db_name  \\\n",
       "0              NGFIBA  NCBI Gene Name         NaN       NaN       BaderLab   \n",
       "1              NGFIBB  NCBI Gene Name         NaN       NaN       BaderLab   \n",
       "2                 DAX  NCBI Gene Name         NaN       NaN       BaderLab   \n",
       "3            REV-ERBA  NCBI Gene Name         NaN       NaN       BaderLab   \n",
       "4               COUP2  NCBI Gene Name         NaN       NaN       BaderLab   \n",
       "...               ...             ...         ...       ...            ...   \n",
       "80229             KIT     Gene Symbol   hgnc:6342       KIT       Oncomine   \n",
       "80230            HES1       Gene Name   hgnc:5192      HES1            NCI   \n",
       "80231            IRF1     Gene Symbol   hgnc:6116      IRF1         Tempus   \n",
       "80232           SHFM1       Gene Name  hgnc:10845      SEM1            DTC   \n",
       "80233         NEUROD1       Gene Name   hgnc:7762   NEUROD1            NCI   \n",
       "\n",
       "      source_db_version  claim_ambiguous_status  name_ambiguous_status  \\\n",
       "0                Feb-14                   False                  False   \n",
       "1                Feb-14                   False                  False   \n",
       "2                Feb-14                   False                  False   \n",
       "3                Feb-14                   False                  False   \n",
       "4                Feb-14                   False                  False   \n",
       "...                 ...                     ...                    ...   \n",
       "80229                v3                   False                  False   \n",
       "80230         14-Sep-17                    True                   True   \n",
       "80231         11-Nov-18                   False                  False   \n",
       "80232            9/2/20                    True                  False   \n",
       "80233         14-Sep-17                   False                  False   \n",
       "\n",
       "       claim_primary_status  name_primary_status  name_alias_status  \n",
       "0                     False                False               True  \n",
       "1                     False                False               True  \n",
       "2                     False                False               True  \n",
       "3                     False                False               True  \n",
       "4                     False                False               True  \n",
       "...                     ...                  ...                ...  \n",
       "80229                  True                 True              False  \n",
       "80230                  True                 True               True  \n",
       "80231                  True                 True              False  \n",
       "80232                 False                 True              False  \n",
       "80233                  True                 True              False  \n",
       "\n",
       "[80234 rows x 11 columns]"
      ]
     },
     "execution_count": 337,
     "metadata": {},
     "output_type": "execute_result"
    }
   ],
   "source": [
    "dgidb_gene_df[\"name_alias_status\"] = dgidb_gene_df[\"gene_name\"].isin(\n",
    "    hgnc_ensg_ncbi_alias_symbol_set\n",
    ")\n",
    "dgidb_gene_df"
   ]
  },
  {
   "cell_type": "code",
   "execution_count": 338,
   "metadata": {},
   "outputs": [
    {
     "data": {
      "text/plain": [
       "name_alias_status\n",
       "False    72260\n",
       "True      7974\n",
       "Name: count, dtype: int64"
      ]
     },
     "execution_count": 338,
     "metadata": {},
     "output_type": "execute_result"
    }
   ],
   "source": [
    "dgidb_gene_df[\"name_alias_status\"].value_counts()"
   ]
  },
  {
   "cell_type": "code",
   "execution_count": 339,
   "metadata": {},
   "outputs": [
    {
     "data": {
      "text/plain": [
       "7974"
      ]
     },
     "execution_count": 339,
     "metadata": {},
     "output_type": "execute_result"
    }
   ],
   "source": [
    "alias_name_df = dgidb_gene_df.loc[dgidb_gene_df[\"name_alias_status\"]]\n",
    "num_alias_name = len(alias_name_df)\n",
    "num_alias_name"
   ]
  },
  {
   "cell_type": "code",
   "execution_count": 340,
   "metadata": {},
   "outputs": [
    {
     "name": "stdout",
     "output_type": "stream",
     "text": [
      "True\n"
     ]
    }
   ],
   "source": [
    "print(\"Calmbp1\" in hgnc_ensg_ncbi_alias_symbol_set)"
   ]
  },
  {
   "cell_type": "markdown",
   "metadata": {},
   "source": [
    "#### <a id='toc1_1_2_24_'></a>[How many claims are alias symbols?](#toc0_)"
   ]
  },
  {
   "cell_type": "code",
   "execution_count": 341,
   "metadata": {},
   "outputs": [
    {
     "data": {
      "text/html": [
       "<div>\n",
       "<style scoped>\n",
       "    .dataframe tbody tr th:only-of-type {\n",
       "        vertical-align: middle;\n",
       "    }\n",
       "\n",
       "    .dataframe tbody tr th {\n",
       "        vertical-align: top;\n",
       "    }\n",
       "\n",
       "    .dataframe thead th {\n",
       "        text-align: right;\n",
       "    }\n",
       "</style>\n",
       "<table border=\"1\" class=\"dataframe\">\n",
       "  <thead>\n",
       "    <tr style=\"text-align: right;\">\n",
       "      <th></th>\n",
       "      <th>gene_claim_name</th>\n",
       "      <th>nomenclature</th>\n",
       "      <th>concept_id</th>\n",
       "      <th>gene_name</th>\n",
       "      <th>source_db_name</th>\n",
       "      <th>source_db_version</th>\n",
       "      <th>claim_ambiguous_status</th>\n",
       "      <th>name_ambiguous_status</th>\n",
       "      <th>claim_primary_status</th>\n",
       "      <th>name_primary_status</th>\n",
       "      <th>name_alias_status</th>\n",
       "      <th>claim_alias_status</th>\n",
       "    </tr>\n",
       "  </thead>\n",
       "  <tbody>\n",
       "    <tr>\n",
       "      <th>0</th>\n",
       "      <td>NGFIBA</td>\n",
       "      <td>NCBI Gene Name</td>\n",
       "      <td>NaN</td>\n",
       "      <td>NaN</td>\n",
       "      <td>BaderLab</td>\n",
       "      <td>Feb-14</td>\n",
       "      <td>False</td>\n",
       "      <td>False</td>\n",
       "      <td>False</td>\n",
       "      <td>False</td>\n",
       "      <td>True</td>\n",
       "      <td>False</td>\n",
       "    </tr>\n",
       "    <tr>\n",
       "      <th>1</th>\n",
       "      <td>NGFIBB</td>\n",
       "      <td>NCBI Gene Name</td>\n",
       "      <td>NaN</td>\n",
       "      <td>NaN</td>\n",
       "      <td>BaderLab</td>\n",
       "      <td>Feb-14</td>\n",
       "      <td>False</td>\n",
       "      <td>False</td>\n",
       "      <td>False</td>\n",
       "      <td>False</td>\n",
       "      <td>True</td>\n",
       "      <td>False</td>\n",
       "    </tr>\n",
       "    <tr>\n",
       "      <th>2</th>\n",
       "      <td>DAX</td>\n",
       "      <td>NCBI Gene Name</td>\n",
       "      <td>NaN</td>\n",
       "      <td>NaN</td>\n",
       "      <td>BaderLab</td>\n",
       "      <td>Feb-14</td>\n",
       "      <td>False</td>\n",
       "      <td>False</td>\n",
       "      <td>False</td>\n",
       "      <td>False</td>\n",
       "      <td>True</td>\n",
       "      <td>False</td>\n",
       "    </tr>\n",
       "    <tr>\n",
       "      <th>3</th>\n",
       "      <td>REV-ERBA</td>\n",
       "      <td>NCBI Gene Name</td>\n",
       "      <td>NaN</td>\n",
       "      <td>NaN</td>\n",
       "      <td>BaderLab</td>\n",
       "      <td>Feb-14</td>\n",
       "      <td>False</td>\n",
       "      <td>False</td>\n",
       "      <td>False</td>\n",
       "      <td>False</td>\n",
       "      <td>True</td>\n",
       "      <td>False</td>\n",
       "    </tr>\n",
       "    <tr>\n",
       "      <th>4</th>\n",
       "      <td>COUP2</td>\n",
       "      <td>NCBI Gene Name</td>\n",
       "      <td>NaN</td>\n",
       "      <td>NaN</td>\n",
       "      <td>BaderLab</td>\n",
       "      <td>Feb-14</td>\n",
       "      <td>False</td>\n",
       "      <td>False</td>\n",
       "      <td>False</td>\n",
       "      <td>False</td>\n",
       "      <td>True</td>\n",
       "      <td>False</td>\n",
       "    </tr>\n",
       "    <tr>\n",
       "      <th>...</th>\n",
       "      <td>...</td>\n",
       "      <td>...</td>\n",
       "      <td>...</td>\n",
       "      <td>...</td>\n",
       "      <td>...</td>\n",
       "      <td>...</td>\n",
       "      <td>...</td>\n",
       "      <td>...</td>\n",
       "      <td>...</td>\n",
       "      <td>...</td>\n",
       "      <td>...</td>\n",
       "      <td>...</td>\n",
       "    </tr>\n",
       "    <tr>\n",
       "      <th>80229</th>\n",
       "      <td>KIT</td>\n",
       "      <td>Gene Symbol</td>\n",
       "      <td>hgnc:6342</td>\n",
       "      <td>KIT</td>\n",
       "      <td>Oncomine</td>\n",
       "      <td>v3</td>\n",
       "      <td>False</td>\n",
       "      <td>False</td>\n",
       "      <td>True</td>\n",
       "      <td>True</td>\n",
       "      <td>False</td>\n",
       "      <td>False</td>\n",
       "    </tr>\n",
       "    <tr>\n",
       "      <th>80230</th>\n",
       "      <td>HES1</td>\n",
       "      <td>Gene Name</td>\n",
       "      <td>hgnc:5192</td>\n",
       "      <td>HES1</td>\n",
       "      <td>NCI</td>\n",
       "      <td>14-Sep-17</td>\n",
       "      <td>True</td>\n",
       "      <td>True</td>\n",
       "      <td>True</td>\n",
       "      <td>True</td>\n",
       "      <td>True</td>\n",
       "      <td>True</td>\n",
       "    </tr>\n",
       "    <tr>\n",
       "      <th>80231</th>\n",
       "      <td>IRF1</td>\n",
       "      <td>Gene Symbol</td>\n",
       "      <td>hgnc:6116</td>\n",
       "      <td>IRF1</td>\n",
       "      <td>Tempus</td>\n",
       "      <td>11-Nov-18</td>\n",
       "      <td>False</td>\n",
       "      <td>False</td>\n",
       "      <td>True</td>\n",
       "      <td>True</td>\n",
       "      <td>False</td>\n",
       "      <td>False</td>\n",
       "    </tr>\n",
       "    <tr>\n",
       "      <th>80232</th>\n",
       "      <td>SHFM1</td>\n",
       "      <td>Gene Name</td>\n",
       "      <td>hgnc:10845</td>\n",
       "      <td>SEM1</td>\n",
       "      <td>DTC</td>\n",
       "      <td>9/2/20</td>\n",
       "      <td>True</td>\n",
       "      <td>False</td>\n",
       "      <td>False</td>\n",
       "      <td>True</td>\n",
       "      <td>False</td>\n",
       "      <td>True</td>\n",
       "    </tr>\n",
       "    <tr>\n",
       "      <th>80233</th>\n",
       "      <td>NEUROD1</td>\n",
       "      <td>Gene Name</td>\n",
       "      <td>hgnc:7762</td>\n",
       "      <td>NEUROD1</td>\n",
       "      <td>NCI</td>\n",
       "      <td>14-Sep-17</td>\n",
       "      <td>False</td>\n",
       "      <td>False</td>\n",
       "      <td>True</td>\n",
       "      <td>True</td>\n",
       "      <td>False</td>\n",
       "      <td>False</td>\n",
       "    </tr>\n",
       "  </tbody>\n",
       "</table>\n",
       "<p>80234 rows × 12 columns</p>\n",
       "</div>"
      ],
      "text/plain": [
       "      gene_claim_name    nomenclature  concept_id gene_name source_db_name  \\\n",
       "0              NGFIBA  NCBI Gene Name         NaN       NaN       BaderLab   \n",
       "1              NGFIBB  NCBI Gene Name         NaN       NaN       BaderLab   \n",
       "2                 DAX  NCBI Gene Name         NaN       NaN       BaderLab   \n",
       "3            REV-ERBA  NCBI Gene Name         NaN       NaN       BaderLab   \n",
       "4               COUP2  NCBI Gene Name         NaN       NaN       BaderLab   \n",
       "...               ...             ...         ...       ...            ...   \n",
       "80229             KIT     Gene Symbol   hgnc:6342       KIT       Oncomine   \n",
       "80230            HES1       Gene Name   hgnc:5192      HES1            NCI   \n",
       "80231            IRF1     Gene Symbol   hgnc:6116      IRF1         Tempus   \n",
       "80232           SHFM1       Gene Name  hgnc:10845      SEM1            DTC   \n",
       "80233         NEUROD1       Gene Name   hgnc:7762   NEUROD1            NCI   \n",
       "\n",
       "      source_db_version  claim_ambiguous_status  name_ambiguous_status  \\\n",
       "0                Feb-14                   False                  False   \n",
       "1                Feb-14                   False                  False   \n",
       "2                Feb-14                   False                  False   \n",
       "3                Feb-14                   False                  False   \n",
       "4                Feb-14                   False                  False   \n",
       "...                 ...                     ...                    ...   \n",
       "80229                v3                   False                  False   \n",
       "80230         14-Sep-17                    True                   True   \n",
       "80231         11-Nov-18                   False                  False   \n",
       "80232            9/2/20                    True                  False   \n",
       "80233         14-Sep-17                   False                  False   \n",
       "\n",
       "       claim_primary_status  name_primary_status  name_alias_status  \\\n",
       "0                     False                False               True   \n",
       "1                     False                False               True   \n",
       "2                     False                False               True   \n",
       "3                     False                False               True   \n",
       "4                     False                False               True   \n",
       "...                     ...                  ...                ...   \n",
       "80229                  True                 True              False   \n",
       "80230                  True                 True               True   \n",
       "80231                  True                 True              False   \n",
       "80232                 False                 True              False   \n",
       "80233                  True                 True              False   \n",
       "\n",
       "       claim_alias_status  \n",
       "0                   False  \n",
       "1                   False  \n",
       "2                   False  \n",
       "3                   False  \n",
       "4                   False  \n",
       "...                   ...  \n",
       "80229               False  \n",
       "80230                True  \n",
       "80231               False  \n",
       "80232                True  \n",
       "80233               False  \n",
       "\n",
       "[80234 rows x 12 columns]"
      ]
     },
     "execution_count": 341,
     "metadata": {},
     "output_type": "execute_result"
    }
   ],
   "source": [
    "dgidb_gene_df[\"claim_alias_status\"] = dgidb_gene_df[\"gene_claim_name\"].isin(\n",
    "    hgnc_ensg_ncbi_alias_symbol_set\n",
    ")\n",
    "dgidb_gene_df"
   ]
  },
  {
   "cell_type": "code",
   "execution_count": 342,
   "metadata": {},
   "outputs": [
    {
     "data": {
      "text/plain": [
       "claim_alias_status\n",
       "False    74684\n",
       "True      5550\n",
       "Name: count, dtype: int64"
      ]
     },
     "execution_count": 342,
     "metadata": {},
     "output_type": "execute_result"
    }
   ],
   "source": [
    "dgidb_gene_df[\"claim_alias_status\"].value_counts()"
   ]
  },
  {
   "cell_type": "code",
   "execution_count": 343,
   "metadata": {},
   "outputs": [
    {
     "data": {
      "text/plain": [
       "5550"
      ]
     },
     "execution_count": 343,
     "metadata": {},
     "output_type": "execute_result"
    }
   ],
   "source": [
    "alias_claims_df = dgidb_gene_df.loc[dgidb_gene_df[\"claim_alias_status\"]]\n",
    "num_alias_claims = len(alias_claims_df)\n",
    "num_alias_claims"
   ]
  },
  {
   "cell_type": "markdown",
   "metadata": {},
   "source": [
    "#### <a id='toc1_1_2_25_'></a>[How many claims that were normalized into non-primary symbol labeled groups are alias symbols?](#toc0_)"
   ]
  },
  {
   "cell_type": "code",
   "execution_count": 344,
   "metadata": {},
   "outputs": [
    {
     "data": {
      "text/html": [
       "<div>\n",
       "<style scoped>\n",
       "    .dataframe tbody tr th:only-of-type {\n",
       "        vertical-align: middle;\n",
       "    }\n",
       "\n",
       "    .dataframe tbody tr th {\n",
       "        vertical-align: top;\n",
       "    }\n",
       "\n",
       "    .dataframe thead th {\n",
       "        text-align: right;\n",
       "    }\n",
       "</style>\n",
       "<table border=\"1\" class=\"dataframe\">\n",
       "  <thead>\n",
       "    <tr style=\"text-align: right;\">\n",
       "      <th></th>\n",
       "      <th>gene_claim_name</th>\n",
       "      <th>nomenclature</th>\n",
       "      <th>concept_id</th>\n",
       "      <th>gene_name</th>\n",
       "      <th>source_db_name</th>\n",
       "      <th>source_db_version</th>\n",
       "      <th>claim_ambiguous_status</th>\n",
       "      <th>name_ambiguous_status</th>\n",
       "      <th>claim_primary_status</th>\n",
       "      <th>name_primary_status</th>\n",
       "      <th>name_alias_status</th>\n",
       "      <th>claim_alias_status</th>\n",
       "    </tr>\n",
       "  </thead>\n",
       "  <tbody>\n",
       "    <tr>\n",
       "      <th>3251</th>\n",
       "      <td>USP17L</td>\n",
       "      <td>Gene Symbol</td>\n",
       "      <td>ncbigene:100862847</td>\n",
       "      <td>USP17L</td>\n",
       "      <td>dGene</td>\n",
       "      <td>27-Jun-13</td>\n",
       "      <td>False</td>\n",
       "      <td>False</td>\n",
       "      <td>False</td>\n",
       "      <td>False</td>\n",
       "      <td>True</td>\n",
       "      <td>True</td>\n",
       "    </tr>\n",
       "    <tr>\n",
       "      <th>38737</th>\n",
       "      <td>USP17L</td>\n",
       "      <td>Gene Symbol</td>\n",
       "      <td>ncbigene:100862847</td>\n",
       "      <td>USP17L</td>\n",
       "      <td>NCBI</td>\n",
       "      <td>20240410</td>\n",
       "      <td>False</td>\n",
       "      <td>False</td>\n",
       "      <td>False</td>\n",
       "      <td>False</td>\n",
       "      <td>True</td>\n",
       "      <td>True</td>\n",
       "    </tr>\n",
       "    <tr>\n",
       "      <th>55006</th>\n",
       "      <td>ACT</td>\n",
       "      <td>Gene Symbol</td>\n",
       "      <td>ncbigene:389036</td>\n",
       "      <td>ACT</td>\n",
       "      <td>NCBI</td>\n",
       "      <td>20240410</td>\n",
       "      <td>True</td>\n",
       "      <td>True</td>\n",
       "      <td>False</td>\n",
       "      <td>False</td>\n",
       "      <td>True</td>\n",
       "      <td>True</td>\n",
       "    </tr>\n",
       "    <tr>\n",
       "      <th>66195</th>\n",
       "      <td>OA1</td>\n",
       "      <td>Gene Symbol</td>\n",
       "      <td>ncbigene:474285</td>\n",
       "      <td>OA1</td>\n",
       "      <td>NCBI</td>\n",
       "      <td>20240410</td>\n",
       "      <td>False</td>\n",
       "      <td>False</td>\n",
       "      <td>False</td>\n",
       "      <td>False</td>\n",
       "      <td>True</td>\n",
       "      <td>True</td>\n",
       "    </tr>\n",
       "    <tr>\n",
       "      <th>66196</th>\n",
       "      <td>OA1</td>\n",
       "      <td>Gene Symbol</td>\n",
       "      <td>ncbigene:474285</td>\n",
       "      <td>OA1</td>\n",
       "      <td>dGene</td>\n",
       "      <td>27-Jun-13</td>\n",
       "      <td>False</td>\n",
       "      <td>False</td>\n",
       "      <td>False</td>\n",
       "      <td>False</td>\n",
       "      <td>True</td>\n",
       "      <td>True</td>\n",
       "    </tr>\n",
       "  </tbody>\n",
       "</table>\n",
       "</div>"
      ],
      "text/plain": [
       "      gene_claim_name nomenclature          concept_id gene_name  \\\n",
       "3251           USP17L  Gene Symbol  ncbigene:100862847    USP17L   \n",
       "38737          USP17L  Gene Symbol  ncbigene:100862847    USP17L   \n",
       "55006             ACT  Gene Symbol     ncbigene:389036       ACT   \n",
       "66195             OA1  Gene Symbol     ncbigene:474285       OA1   \n",
       "66196             OA1  Gene Symbol     ncbigene:474285       OA1   \n",
       "\n",
       "      source_db_name source_db_version  claim_ambiguous_status  \\\n",
       "3251           dGene         27-Jun-13                   False   \n",
       "38737           NCBI          20240410                   False   \n",
       "55006           NCBI          20240410                    True   \n",
       "66195           NCBI          20240410                   False   \n",
       "66196          dGene         27-Jun-13                   False   \n",
       "\n",
       "       name_ambiguous_status  claim_primary_status  name_primary_status  \\\n",
       "3251                   False                 False                False   \n",
       "38737                  False                 False                False   \n",
       "55006                   True                 False                False   \n",
       "66195                  False                 False                False   \n",
       "66196                  False                 False                False   \n",
       "\n",
       "       name_alias_status  claim_alias_status  \n",
       "3251                True                True  \n",
       "38737               True                True  \n",
       "55006               True                True  \n",
       "66195               True                True  \n",
       "66196               True                True  "
      ]
     },
     "execution_count": 344,
     "metadata": {},
     "output_type": "execute_result"
    }
   ],
   "source": [
    "dgidb_gene_df[\"claim_alias_status\"] = dgidb_gene_df[\"gene_claim_name\"].isin(\n",
    "    hgnc_ensg_ncbi_alias_symbol_set\n",
    ")\n",
    "alias_claim_not_primary_group_name_df = dgidb_gene_df.loc[\n",
    "    dgidb_gene_df[\"claim_alias_status\"] & ~dgidb_gene_df[\"name_primary_status\"]\n",
    "]\n",
    "alias_claim_not_primary_group_name_df"
   ]
  },
  {
   "cell_type": "markdown",
   "metadata": {},
   "source": [
    "#### <a id='toc1_1_2_26_'></a>[How many not normalized claims are alias symbols?](#toc0_)"
   ]
  },
  {
   "cell_type": "code",
   "execution_count": 345,
   "metadata": {},
   "outputs": [
    {
     "data": {
      "text/plain": [
       "0"
      ]
     },
     "execution_count": 345,
     "metadata": {},
     "output_type": "execute_result"
    }
   ],
   "source": [
    "alias_claim_null_name_df = dgidb_gene_df.loc[\n",
    "    dgidb_gene_df[\"claim_alias_status\"] & dgidb_gene_df[\"gene_name\"].isnull()\n",
    "]\n",
    "len(alias_claim_null_name_df)"
   ]
  },
  {
   "cell_type": "markdown",
   "metadata": {},
   "source": [
    "#### <a id='toc1_1_2_27_'></a>[How many gene group labels are not primary, alias symbols, or null?](#toc0_)"
   ]
  },
  {
   "cell_type": "code",
   "execution_count": 346,
   "metadata": {},
   "outputs": [
    {
     "data": {
      "text/plain": [
       "10"
      ]
     },
     "execution_count": 346,
     "metadata": {},
     "output_type": "execute_result"
    }
   ],
   "source": [
    "other_name_df = dgidb_gene_df.loc[\n",
    "    ~dgidb_gene_df[\"name_alias_status\"]\n",
    "    & ~dgidb_gene_df[\"name_primary_status\"]\n",
    "    & ~dgidb_gene_df[\"gene_name\"].isnull()\n",
    "]\n",
    "num_other_name = len(other_name_df)\n",
    "num_other_name"
   ]
  },
  {
   "cell_type": "markdown",
   "metadata": {},
   "source": [
    "#### <a id='toc1_1_2_28_'></a>[How many claims are not primary, alias symbols, or null?](#toc0_)"
   ]
  },
  {
   "cell_type": "code",
   "execution_count": 347,
   "metadata": {},
   "outputs": [
    {
     "data": {
      "text/plain": [
       "15270"
      ]
     },
     "execution_count": 347,
     "metadata": {},
     "output_type": "execute_result"
    }
   ],
   "source": [
    "other_claim_df = dgidb_gene_df.loc[\n",
    "    ~dgidb_gene_df[\"claim_alias_status\"] & ~dgidb_gene_df[\"claim_primary_status\"]\n",
    "]\n",
    "num_other_claim = len(other_claim_df)\n",
    "num_other_claim"
   ]
  },
  {
   "cell_type": "markdown",
   "metadata": {},
   "source": [
    "#### <a id='toc1_1_2_29_'></a>[How many claims are primary and alias symbols?](#toc0_)"
   ]
  },
  {
   "cell_type": "code",
   "execution_count": 348,
   "metadata": {},
   "outputs": [
    {
     "data": {
      "text/plain": [
       "4795"
      ]
     },
     "execution_count": 348,
     "metadata": {},
     "output_type": "execute_result"
    }
   ],
   "source": [
    "primaryandalias_claim_df = dgidb_gene_df.loc[\n",
    "    dgidb_gene_df[\"claim_alias_status\"] & dgidb_gene_df[\"claim_primary_status\"]\n",
    "]\n",
    "num_primaryandalias_claim = len(primaryandalias_claim_df)\n",
    "num_primaryandalias_claim"
   ]
  },
  {
   "cell_type": "markdown",
   "metadata": {},
   "source": [
    "#### <a id='toc1_1_2_30_'></a>[How many primary symbol claims are normalized into non-primary gene group labels?](#toc0_)"
   ]
  },
  {
   "cell_type": "code",
   "execution_count": 349,
   "metadata": {},
   "outputs": [
    {
     "data": {
      "text/html": [
       "<div>\n",
       "<style scoped>\n",
       "    .dataframe tbody tr th:only-of-type {\n",
       "        vertical-align: middle;\n",
       "    }\n",
       "\n",
       "    .dataframe tbody tr th {\n",
       "        vertical-align: top;\n",
       "    }\n",
       "\n",
       "    .dataframe thead th {\n",
       "        text-align: right;\n",
       "    }\n",
       "</style>\n",
       "<table border=\"1\" class=\"dataframe\">\n",
       "  <thead>\n",
       "    <tr style=\"text-align: right;\">\n",
       "      <th></th>\n",
       "      <th>gene_claim_name</th>\n",
       "      <th>nomenclature</th>\n",
       "      <th>concept_id</th>\n",
       "      <th>gene_name</th>\n",
       "      <th>source_db_name</th>\n",
       "      <th>source_db_version</th>\n",
       "      <th>claim_ambiguous_status</th>\n",
       "      <th>name_ambiguous_status</th>\n",
       "      <th>claim_primary_status</th>\n",
       "      <th>name_primary_status</th>\n",
       "      <th>name_alias_status</th>\n",
       "      <th>claim_alias_status</th>\n",
       "    </tr>\n",
       "  </thead>\n",
       "  <tbody>\n",
       "  </tbody>\n",
       "</table>\n",
       "</div>"
      ],
      "text/plain": [
       "Empty DataFrame\n",
       "Columns: [gene_claim_name, nomenclature, concept_id, gene_name, source_db_name, source_db_version, claim_ambiguous_status, name_ambiguous_status, claim_primary_status, name_primary_status, name_alias_status, claim_alias_status]\n",
       "Index: []"
      ]
     },
     "execution_count": 349,
     "metadata": {},
     "output_type": "execute_result"
    }
   ],
   "source": [
    "claim_true_name_false_df = dgidb_gene_df.loc[\n",
    "    dgidb_gene_df[\"claim_primary_status\"] & ~dgidb_gene_df[\"name_primary_status\"]\n",
    "]\n",
    "claim_true_name_false_df"
   ]
  },
  {
   "cell_type": "code",
   "execution_count": 350,
   "metadata": {},
   "outputs": [
    {
     "data": {
      "text/plain": [
       "0"
      ]
     },
     "execution_count": 350,
     "metadata": {},
     "output_type": "execute_result"
    }
   ],
   "source": [
    "len(claim_true_name_false_df)"
   ]
  },
  {
   "cell_type": "markdown",
   "metadata": {},
   "source": [
    "### <a id='toc1_1_3_'></a>[Summary](#toc0_)"
   ]
  },
  {
   "cell_type": "markdown",
   "metadata": {},
   "source": [
    "#### <a id='toc1_1_3_1_'></a>[Normalization Rates](#toc0_)"
   ]
  },
  {
   "cell_type": "code",
   "execution_count": 351,
   "metadata": {},
   "outputs": [
    {
     "data": {
      "text/html": [
       "<div>\n",
       "<style scoped>\n",
       "    .dataframe tbody tr th:only-of-type {\n",
       "        vertical-align: middle;\n",
       "    }\n",
       "\n",
       "    .dataframe tbody tr th {\n",
       "        vertical-align: top;\n",
       "    }\n",
       "\n",
       "    .dataframe thead th {\n",
       "        text-align: right;\n",
       "    }\n",
       "</style>\n",
       "<table border=\"1\" class=\"dataframe\">\n",
       "  <thead>\n",
       "    <tr style=\"text-align: right;\">\n",
       "      <th></th>\n",
       "      <th>Number of Claims</th>\n",
       "    </tr>\n",
       "  </thead>\n",
       "  <tbody>\n",
       "    <tr>\n",
       "      <th>Normalized</th>\n",
       "      <td>78090</td>\n",
       "    </tr>\n",
       "    <tr>\n",
       "      <th>Not Normalized</th>\n",
       "      <td>2144</td>\n",
       "    </tr>\n",
       "    <tr>\n",
       "      <th>Total</th>\n",
       "      <td>80234</td>\n",
       "    </tr>\n",
       "  </tbody>\n",
       "</table>\n",
       "</div>"
      ],
      "text/plain": [
       "                Number of Claims\n",
       "Normalized                 78090\n",
       "Not Normalized              2144\n",
       "Total                      80234"
      ]
     },
     "execution_count": 351,
     "metadata": {},
     "output_type": "execute_result"
    }
   ],
   "source": [
    "normalization_index = \"Normalized\", \"Not Normalized\", \"Total\"\n",
    "normalization_summary = {\n",
    "    \"Number of Claims\": [\n",
    "        num_normalized_claims,\n",
    "        num_not_normalized_claims,\n",
    "        num_total_claims,\n",
    "    ]\n",
    "}\n",
    "normalization_summary_df = pd.DataFrame(\n",
    "    normalization_summary, index=normalization_index\n",
    ")\n",
    "normalization_summary_df"
   ]
  },
  {
   "cell_type": "markdown",
   "metadata": {},
   "source": [
    "#### <a id='toc1_1_3_2_'></a>[Types of Claim Symbols](#toc0_)"
   ]
  },
  {
   "cell_type": "markdown",
   "metadata": {},
   "source": [
    "- Primary and Alias symbols are not exclusive as some primary symbols are used as aliases (alias-primary collisions)\n",
    "- Other does not include any Primary or Alias symbols\n",
    "- Ambiguous symbols can be either Primary or Alias"
   ]
  },
  {
   "cell_type": "code",
   "execution_count": 352,
   "metadata": {},
   "outputs": [
    {
     "data": {
      "text/html": [
       "<div>\n",
       "<style scoped>\n",
       "    .dataframe tbody tr th:only-of-type {\n",
       "        vertical-align: middle;\n",
       "    }\n",
       "\n",
       "    .dataframe tbody tr th {\n",
       "        vertical-align: top;\n",
       "    }\n",
       "\n",
       "    .dataframe thead th {\n",
       "        text-align: right;\n",
       "    }\n",
       "</style>\n",
       "<table border=\"1\" class=\"dataframe\">\n",
       "  <thead>\n",
       "    <tr style=\"text-align: right;\">\n",
       "      <th></th>\n",
       "      <th>Number of Claims</th>\n",
       "    </tr>\n",
       "  </thead>\n",
       "  <tbody>\n",
       "    <tr>\n",
       "      <th>Primary</th>\n",
       "      <td>64209</td>\n",
       "    </tr>\n",
       "    <tr>\n",
       "      <th>Alias</th>\n",
       "      <td>5550</td>\n",
       "    </tr>\n",
       "    <tr>\n",
       "      <th>Other</th>\n",
       "      <td>15270</td>\n",
       "    </tr>\n",
       "    <tr>\n",
       "      <th>Ambiguous</th>\n",
       "      <td>4876</td>\n",
       "    </tr>\n",
       "    <tr>\n",
       "      <th>Total</th>\n",
       "      <td>80234</td>\n",
       "    </tr>\n",
       "  </tbody>\n",
       "</table>\n",
       "</div>"
      ],
      "text/plain": [
       "           Number of Claims\n",
       "Primary               64209\n",
       "Alias                  5550\n",
       "Other                 15270\n",
       "Ambiguous              4876\n",
       "Total                 80234"
      ]
     },
     "execution_count": 352,
     "metadata": {},
     "output_type": "execute_result"
    }
   ],
   "source": [
    "claim_index = \"Primary\", \"Alias\", \"Other\", \"Ambiguous\", \"Total\"\n",
    "claim_summary = {\n",
    "    \"Number of Claims\": [\n",
    "        num_primary_claim,\n",
    "        num_alias_claims,\n",
    "        num_other_claim,\n",
    "        num_ambiguous_claim,\n",
    "        num_total_claims,\n",
    "    ]\n",
    "}\n",
    "claim_summary_df = pd.DataFrame(claim_summary, index=claim_index)\n",
    "claim_summary_df"
   ]
  },
  {
   "cell_type": "markdown",
   "metadata": {},
   "source": [
    "#### <a id='toc1_1_3_3_'></a>[Types of Normalizations (gene group labels claims are being normliazed into)](#toc0_)"
   ]
  },
  {
   "cell_type": "code",
   "execution_count": 353,
   "metadata": {},
   "outputs": [
    {
     "data": {
      "text/html": [
       "<div>\n",
       "<style scoped>\n",
       "    .dataframe tbody tr th:only-of-type {\n",
       "        vertical-align: middle;\n",
       "    }\n",
       "\n",
       "    .dataframe tbody tr th {\n",
       "        vertical-align: top;\n",
       "    }\n",
       "\n",
       "    .dataframe thead th {\n",
       "        text-align: right;\n",
       "    }\n",
       "</style>\n",
       "<table border=\"1\" class=\"dataframe\">\n",
       "  <thead>\n",
       "    <tr style=\"text-align: right;\">\n",
       "      <th></th>\n",
       "      <th>Number of Claims</th>\n",
       "    </tr>\n",
       "  </thead>\n",
       "  <tbody>\n",
       "    <tr>\n",
       "      <th>Primary</th>\n",
       "      <td>78074</td>\n",
       "    </tr>\n",
       "    <tr>\n",
       "      <th>Alias</th>\n",
       "      <td>7974</td>\n",
       "    </tr>\n",
       "    <tr>\n",
       "      <th>Null</th>\n",
       "      <td>2144</td>\n",
       "    </tr>\n",
       "    <tr>\n",
       "      <th>Other</th>\n",
       "      <td>10</td>\n",
       "    </tr>\n",
       "    <tr>\n",
       "      <th>Ambiguous</th>\n",
       "      <td>5775</td>\n",
       "    </tr>\n",
       "    <tr>\n",
       "      <th>Total</th>\n",
       "      <td>80234</td>\n",
       "    </tr>\n",
       "  </tbody>\n",
       "</table>\n",
       "</div>"
      ],
      "text/plain": [
       "           Number of Claims\n",
       "Primary               78074\n",
       "Alias                  7974\n",
       "Null                   2144\n",
       "Other                    10\n",
       "Ambiguous              5775\n",
       "Total                 80234"
      ]
     },
     "execution_count": 353,
     "metadata": {},
     "output_type": "execute_result"
    }
   ],
   "source": [
    "gene_group_index = \"Primary\", \"Alias\", \"Null\", \"Other\", \"Ambiguous\", \"Total\"\n",
    "gene_group_summary = {\n",
    "    \"Number of Claims\": [\n",
    "        num_primary_name,\n",
    "        num_alias_name,\n",
    "        num_not_normalized_claims,\n",
    "        num_other_name,\n",
    "        num_ambiguous_name,\n",
    "        num_total_claims,\n",
    "    ]\n",
    "}\n",
    "gene_group_summary_df = pd.DataFrame(gene_group_summary, index=gene_group_index)\n",
    "gene_group_summary_df"
   ]
  }
 ],
 "metadata": {
  "kernelspec": {
   "display_name": ".venv",
   "language": "python",
   "name": "python3"
  },
  "language_info": {
   "codemirror_mode": {
    "name": "ipython",
    "version": 3
   },
   "file_extension": ".py",
   "mimetype": "text/x-python",
   "name": "python",
   "nbconvert_exporter": "python",
   "pygments_lexer": "ipython3",
   "version": "3.11.7"
  }
 },
 "nbformat": 4,
 "nbformat_minor": 2
}
