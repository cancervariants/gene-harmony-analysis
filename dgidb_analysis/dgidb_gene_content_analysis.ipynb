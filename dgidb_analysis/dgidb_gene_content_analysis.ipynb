{
 "cells": [
  {
   "cell_type": "markdown",
   "metadata": {},
   "source": [
    "# <a id='toc1_'></a>[DGIdb ambiguous claims](#toc0_)"
   ]
  },
  {
   "cell_type": "markdown",
   "metadata": {},
   "source": [
    "**Table of contents**<a id='toc0_'></a>    \n",
    "- [DGIdb ambiguous claims](#toc1_)    \n",
    "    - [Analyzing similaritis b/w alias-primary and alias-alias collisions](#toc1_1_1_)    \n",
    "      - [Load merged alias-alias and alias-priamry collision sets. Symbols are the ambiguous symbols.](#toc1_1_1_1_)    \n",
    "      - [How many of the alias-primary collisions are also alias-alias collisions?](#toc1_1_1_2_)    \n",
    "      - [How many unique ambiguous symbosl are there b/w alias-primary and alias-alias collisions?](#toc1_1_1_3_)    \n",
    "    - [Primary exploration of DGIdb gene content using collisions](#toc1_1_2_)    \n",
    "      - [Load gene claim data from DGIdb](#toc1_1_2_1_)    \n",
    "      - [How many claims are placed in a gene group with a different label?](#toc1_1_2_2_)    \n",
    "      - [How many claims are not normalized?](#toc1_1_2_3_)    \n",
    "      - [Create set of gene groups (gene_name) and gene claims (gene_claim_name)](#toc1_1_2_4_)    \n",
    "      - [Load HGNC, Ensembl (ENSG), and NCBI gene and alias sets](#toc1_1_2_5_)    \n",
    "      - [How many unique primary gene symbols are there b/w HGNC, Ensembl, and NCBI?](#toc1_1_2_6_)    \n",
    "      - [How many unique alias symbols are there b/w HGNC, Ensembl, and NCBI?](#toc1_1_2_7_)    \n",
    "      - [How many unique group names are not primary gene symbols?](#toc1_1_2_8_)    \n",
    "      - [How many unique claims are not primary gene symbols?](#toc1_1_2_9_)    \n",
    "      - [Load the collision sets from each data source](#toc1_1_2_10_)    \n",
    "      - [How many unique group names are primary gene symbols?](#toc1_1_2_11_)    \n",
    "      - [How many of the groups that are labeled with a primary gene symbol are also alias-alias collisions?](#toc1_1_2_12_)    \n",
    "      - [How many unique claim symbols are collisions?](#toc1_1_2_13_)    \n",
    "      - [How many unique groups are labeled with collisions?](#toc1_1_2_14_)    \n",
    "      - [How many unique claims are not primary gene symbols?](#toc1_1_2_15_)    \n",
    "      - [How many unique claims that were not primary symbols are collisions?](#toc1_1_2_16_)    \n",
    "      - [How many unique claims that are primary gene symbols are also collisions?](#toc1_1_2_17_)    \n",
    "      - [How many of the gene groups that are not primary gene symbols are alias-alias collisions from HGNC?](#toc1_1_2_18_)    \n",
    "      - [How many claims are ambiguous symbols?](#toc1_1_2_19_)    \n",
    "      - [How many gene group labels are ambiguous symbols?](#toc1_1_2_20_)    \n",
    "      - [How many claims are primary symbols?](#toc1_1_2_21_)    \n",
    "      - [How many gene group labels are primary symbols?](#toc1_1_2_22_)    \n",
    "      - [How many gene group labels are alias symbols?](#toc1_1_2_23_)    \n",
    "      - [How many claims are alias symbols?](#toc1_1_2_24_)    \n",
    "      - [How many claims that were normalized into non-primary symbol labeled groups are alias symbols?](#toc1_1_2_25_)    \n",
    "      - [How many not normalized claims are alias symbols?](#toc1_1_2_26_)    \n",
    "      - [How many gene group labels are not primary, alias symbols, or null?](#toc1_1_2_27_)    \n",
    "      - [How many claims are not primary, alias symbols, or null?](#toc1_1_2_28_)    \n",
    "      - [How many claims are primary and alias symbols?](#toc1_1_2_29_)    \n",
    "      - [How many primary symbol claims are normalized into non-primary gene group labels?](#toc1_1_2_30_)    \n",
    "    - [Summary](#toc1_1_3_)    \n",
    "      - [Normalization Rates](#toc1_1_3_1_)    \n",
    "      - [Types of Claim Symbols](#toc1_1_3_2_)    \n",
    "      - [Types of Normalizations (gene group labels claims are being normliazed into)](#toc1_1_3_3_)    \n",
    "\n",
    "<!-- vscode-jupyter-toc-config\n",
    "\tnumbering=false\n",
    "\tanchor=true\n",
    "\tflat=false\n",
    "\tminLevel=1\n",
    "\tmaxLevel=6\n",
    "\t/vscode-jupyter-toc-config -->\n",
    "<!-- THIS CELL WILL BE REPLACED ON TOC UPDATE. DO NOT WRITE YOUR TEXT IN THIS CELL -->"
   ]
  },
  {
   "cell_type": "code",
   "execution_count": 153,
   "metadata": {},
   "outputs": [],
   "source": [
    "import pandas as pd\n",
    "import numpy as np\n",
    "import plotly.express as px"
   ]
  },
  {
   "cell_type": "markdown",
   "metadata": {},
   "source": [
    "### <a id='toc1_1_1_'></a>[Analyzing similaritis b/w alias-primary and alias-alias collisions](#toc0_)"
   ]
  },
  {
   "cell_type": "markdown",
   "metadata": {},
   "source": [
    "#### <a id='toc1_1_1_1_'></a>[Load merged alias-alias and alias-priamry collision sets. Symbols are the ambiguous symbols.](#toc0_)"
   ]
  },
  {
   "cell_type": "markdown",
   "metadata": {},
   "source": [
    "Input: merged_alias_gene_intersections.csv (total_alias_gene_intersections.ipynb), merged_alias_overlap_df_2.csv (total_alias_overlap.ipynb)"
   ]
  },
  {
   "cell_type": "markdown",
   "metadata": {},
   "source": [
    "Output: merged_alias_primary_collision_set, merged_alias_alias_collision_set"
   ]
  },
  {
   "cell_type": "code",
   "execution_count": 154,
   "metadata": {},
   "outputs": [],
   "source": [
    "merged_alias_primary_collisions_df = pd.read_csv(\n",
    "    \"merged_alias_gene_intersections.csv\", na_values=[\"\", \"NULL\"], keep_default_na=False\n",
    ")"
   ]
  },
  {
   "cell_type": "code",
   "execution_count": 155,
   "metadata": {},
   "outputs": [
    {
     "data": {
      "text/plain": [
       "1532"
      ]
     },
     "execution_count": 155,
     "metadata": {},
     "output_type": "execute_result"
    }
   ],
   "source": [
    "merged_alias_primary_collision_set = set(\n",
    "    merged_alias_primary_collisions_df[\"intersect_point\"]\n",
    ")\n",
    "len(merged_alias_primary_collision_set)"
   ]
  },
  {
   "cell_type": "code",
   "execution_count": 156,
   "metadata": {},
   "outputs": [],
   "source": [
    "merged_alias_alias_collisions_df = pd.read_csv(\n",
    "    \"merged_alias_overlap_df_2.csv\", na_values=[\"\", \"NULL\"], keep_default_na=False\n",
    ")"
   ]
  },
  {
   "cell_type": "code",
   "execution_count": 157,
   "metadata": {},
   "outputs": [
    {
     "data": {
      "text/plain": [
       "4494"
      ]
     },
     "execution_count": 157,
     "metadata": {},
     "output_type": "execute_result"
    }
   ],
   "source": [
    "merged_alias_alias_collision_set = set(\n",
    "    merged_alias_alias_collisions_df[\"alias_symbol\"].tolist()\n",
    ")\n",
    "len(merged_alias_alias_collision_set)"
   ]
  },
  {
   "cell_type": "markdown",
   "metadata": {},
   "source": [
    "#### <a id='toc1_1_1_2_'></a>[How many of the alias-primary collisions are also alias-alias collisions?](#toc0_)"
   ]
  },
  {
   "cell_type": "code",
   "execution_count": 158,
   "metadata": {},
   "outputs": [
    {
     "name": "stdout",
     "output_type": "stream",
     "text": [
      "161\n"
     ]
    }
   ],
   "source": [
    "print(\n",
    "    len(\n",
    "        merged_alias_alias_collision_set.intersection(\n",
    "            merged_alias_primary_collision_set\n",
    "        )\n",
    "    )\n",
    ")"
   ]
  },
  {
   "cell_type": "markdown",
   "metadata": {},
   "source": [
    "#### <a id='toc1_1_1_3_'></a>[How many unique ambiguous symbosl are there b/w alias-primary and alias-alias collisions?](#toc0_)"
   ]
  },
  {
   "cell_type": "code",
   "execution_count": 159,
   "metadata": {},
   "outputs": [
    {
     "name": "stdout",
     "output_type": "stream",
     "text": [
      "5865\n"
     ]
    }
   ],
   "source": [
    "ambiguous_symbol_set = merged_alias_alias_collision_set.union(\n",
    "    merged_alias_primary_collision_set\n",
    ")\n",
    "print(len(ambiguous_symbol_set))"
   ]
  },
  {
   "cell_type": "code",
   "execution_count": 160,
   "metadata": {},
   "outputs": [
    {
     "data": {
      "text/plain": [
       "{'LINC00444',\n",
       " 'L17',\n",
       " 'GPAT',\n",
       " ' GID2',\n",
       " 'UCN2',\n",
       " 'HSP70.1',\n",
       " 'TRNAV22',\n",
       " ' PNUTL3',\n",
       " ' DBS',\n",
       " 'SYM1',\n",
       " 'DEFB3',\n",
       " 'H2A',\n",
       " 'SCYL1',\n",
       " 'LRP1',\n",
       " 'STAG3L1, STAG3L3',\n",
       " ' RIP5',\n",
       " ' TCRBV3S1',\n",
       " ' P22',\n",
       " 'LMN2',\n",
       " 'PARPL',\n",
       " 'MRXS32',\n",
       " 'PIT1',\n",
       " ' NBS1',\n",
       " 'MADH6',\n",
       " 'SIK1B',\n",
       " 'CXorf11',\n",
       " 'LINC02921',\n",
       " 'FAH',\n",
       " 'POP4',\n",
       " 'ARTC1',\n",
       " 'CMPD1',\n",
       " 'HLA-DRB',\n",
       " 'OSCP',\n",
       " 'CARDINAL',\n",
       " 'NUDT10',\n",
       " 'C2orf47',\n",
       " 'G10',\n",
       " 'NAT5',\n",
       " 'P39',\n",
       " ' CT1',\n",
       " 'CPAD',\n",
       " 'p110',\n",
       " 'NSP2',\n",
       " 'DIA2',\n",
       " 'HDGF2',\n",
       " 'SPR',\n",
       " 'TP53TG3F',\n",
       " 'ASB-3',\n",
       " 'TMEFF1',\n",
       " 'PKR2',\n",
       " 'C11ORF4',\n",
       " ' S10',\n",
       " ' M-ABC2',\n",
       " ' SGT2',\n",
       " 'ACP',\n",
       " 'F3',\n",
       " ' ESA',\n",
       " 'GC1',\n",
       " ' TAZ',\n",
       " 'MPP1',\n",
       " 'HLP',\n",
       " 'XLOC_000303',\n",
       " 'OR11-3',\n",
       " 'MIR-129b',\n",
       " ' MIC1',\n",
       " 'ISWI',\n",
       " 'PGD2',\n",
       " ' PTP',\n",
       " 'HLA-DPB1',\n",
       " 'ARX',\n",
       " 'ETDA',\n",
       " 'AP-1',\n",
       " 'SCCMS',\n",
       " 'TDH',\n",
       " 'TTF2',\n",
       " 'MLL4',\n",
       " 'REF1',\n",
       " 'MS4A4',\n",
       " 'CEBPZ',\n",
       " 'CRD',\n",
       " ' H3',\n",
       " 'HBP',\n",
       " 'TRX-CAT1-4',\n",
       " 'TSARG1',\n",
       " ' TIG1',\n",
       " 'H2AC16',\n",
       " 'MIG7',\n",
       " 'U2',\n",
       " 'BCRP2',\n",
       " 'ZNF688',\n",
       " 'NABC1',\n",
       " 'CSRP2BP',\n",
       " 'HN1L',\n",
       " 'HCG18',\n",
       " 'ERV1',\n",
       " 'KRTAP2-1',\n",
       " 'SKD1',\n",
       " 'p200',\n",
       " 'BCDS1',\n",
       " 'CD277',\n",
       " 'p56',\n",
       " 'CAK1',\n",
       " ' PLB',\n",
       " 'IBP1',\n",
       " 'HBM',\n",
       " 'SF',\n",
       " 'AD1',\n",
       " 'CBWD3',\n",
       " 'CDD',\n",
       " 'C18orf2',\n",
       " ' MGC5228',\n",
       " 'CT134',\n",
       " 'M33',\n",
       " 'CILD38',\n",
       " 'LBP',\n",
       " 'EBP',\n",
       " 'TRR-CCG1-2',\n",
       " 'SK2',\n",
       " 'PPCD1',\n",
       " 'ZNF2',\n",
       " 'SA',\n",
       " 'TCRAV19S1',\n",
       " 'HCI',\n",
       " 'ROX',\n",
       " 'HAP2',\n",
       " 'ZNF141',\n",
       " ' COD5',\n",
       " 'BUB1A',\n",
       " 'HM1',\n",
       " 'GF1',\n",
       " 'TRW-CCA3-1',\n",
       " 'SGT2',\n",
       " 'TIH1',\n",
       " 'DXS648E',\n",
       " 'HDLCQ7',\n",
       " 'TCRAV8S1',\n",
       " 'SWI2',\n",
       " 'FAM138F',\n",
       " 'PDS',\n",
       " 'UBL5',\n",
       " 'GCAP-II',\n",
       " 'TRG-GCC2-6',\n",
       " 'RGL1',\n",
       " 'CIC',\n",
       " 'EAP1',\n",
       " 'NPY4R',\n",
       " 'NAPA',\n",
       " 'BCR',\n",
       " 'LOXL',\n",
       " 'TRAC-1',\n",
       " ' ATPM',\n",
       " 'TBC1D3D',\n",
       " 'CHED',\n",
       " 'SEDLP1',\n",
       " 'SRA',\n",
       " 'SDH2',\n",
       " 'PP',\n",
       " ' FCG1',\n",
       " 'MN',\n",
       " 'PNK',\n",
       " ' Rsc8',\n",
       " ' LAGE2A',\n",
       " 'SBP1',\n",
       " 'TNFRSF11B',\n",
       " 'GCR2',\n",
       " 'GAL7',\n",
       " 'CT47',\n",
       " 'GLUT6',\n",
       " 'TMS',\n",
       " 'OR17-24',\n",
       " ' U13',\n",
       " ' FSP1',\n",
       " 'ROC2',\n",
       " ' RAM',\n",
       " 'BAF190',\n",
       " 'TP53TG3, TP53TG3B, TP53TG3C, TP53TG3D, TP53TG3F',\n",
       " 'BCS1',\n",
       " 'GOT1',\n",
       " ' UGD',\n",
       " 'VATB',\n",
       " 'PDZD5C',\n",
       " 'AIP',\n",
       " 'TRI-AAT5-3',\n",
       " 'P54',\n",
       " 'P38',\n",
       " ' LGL1',\n",
       " 'TTTY7B',\n",
       " ' CD',\n",
       " 'SUMO3',\n",
       " 'TRD-GTC2-11',\n",
       " ' P18',\n",
       " 'COT',\n",
       " ' EIF4F',\n",
       " 'ABP-280',\n",
       " 'P19',\n",
       " 'ELF1',\n",
       " 'CEACAM22P',\n",
       " 'CTRP5',\n",
       " 'BETA2',\n",
       " 'C2orf27B',\n",
       " 'CED12',\n",
       " 'NS',\n",
       " 'NTT',\n",
       " 'OF',\n",
       " 'RGP1',\n",
       " 'A3A',\n",
       " 'OR19-18',\n",
       " 'HGF',\n",
       " ' PAR1',\n",
       " 'CSRP',\n",
       " 'BTF2',\n",
       " 'SRS',\n",
       " 'rpL7a',\n",
       " ' PRL3',\n",
       " 'MELF2',\n",
       " 'GAB1',\n",
       " 'HCF2',\n",
       " 'CHD5',\n",
       " 'ELK2',\n",
       " 'B17',\n",
       " 'H4',\n",
       " 'BSC',\n",
       " 'HCP5',\n",
       " 'TPS2',\n",
       " 'TCRAV1S1',\n",
       " 'B29',\n",
       " 'RPA1',\n",
       " ' DOC1',\n",
       " ' CLAN',\n",
       " 'DRS1',\n",
       " 'ALB',\n",
       " ' p48',\n",
       " 'ILT5',\n",
       " 'VDAC3',\n",
       " ' CTR1',\n",
       " 'BRX',\n",
       " 'p32',\n",
       " 'HU-2',\n",
       " 'HBP3',\n",
       " 'LDB1',\n",
       " 'SENP2',\n",
       " ' SIL',\n",
       " 'FOXD4L4',\n",
       " 'HIP3',\n",
       " 'FCG1',\n",
       " 'CT45A8, CT45A9',\n",
       " ' KIR2DL5',\n",
       " 'CAP2, TMPRSS3',\n",
       " 'ATS2',\n",
       " 'ARH2',\n",
       " 'CUPID1',\n",
       " 'PPIAL4F',\n",
       " 'OBP',\n",
       " 'HET',\n",
       " 'NAT1, NET1, SLC6A5',\n",
       " 'GTF2A1L',\n",
       " 'P2',\n",
       " 'MSS4',\n",
       " 'LOAS',\n",
       " 'FLJ10052',\n",
       " 'DDX26',\n",
       " 'MRG2',\n",
       " 'TCRAV25S1',\n",
       " 'dJ221C16.8',\n",
       " 'ALC1',\n",
       " 'IGHD1B',\n",
       " 'CAPS1',\n",
       " 'RIG',\n",
       " 'PSS3',\n",
       " 'NOP9',\n",
       " ' TSH1',\n",
       " ' SEP2',\n",
       " 'ZIP4',\n",
       " 'TTC30B',\n",
       " 'ARMD14',\n",
       " 'FAE',\n",
       " 'FAM66E',\n",
       " 'TRP-TGG3-5',\n",
       " 'CAM3',\n",
       " 'PAR4',\n",
       " 'SPAG11A',\n",
       " 'IL-20',\n",
       " 'MPDZ',\n",
       " 'NDPP1',\n",
       " 'EIF1A',\n",
       " 'PEPP1',\n",
       " 'HIST1H2BC',\n",
       " ' PABPL1',\n",
       " 'H2BFG',\n",
       " 'R51H3',\n",
       " 'HOP',\n",
       " 'HIS',\n",
       " 'PRR20A, PRR20B, PRR20C, PRR20E',\n",
       " ' P75',\n",
       " 'p57',\n",
       " 'GPRK7',\n",
       " 'KRTAP4-7',\n",
       " 'OFC1',\n",
       " 'CAF-1',\n",
       " 'LST3',\n",
       " 'DSC3',\n",
       " 'ANCO1',\n",
       " 'PAIS',\n",
       " ' M-ABC1',\n",
       " 'PB',\n",
       " ' AGPAT9',\n",
       " 'DFNB35',\n",
       " ' DMC',\n",
       " 'Zfp27',\n",
       " 'PAC-1',\n",
       " 'SD',\n",
       " 'H2A.1',\n",
       " 'ATS',\n",
       " ' MTB',\n",
       " 'GP1BB',\n",
       " 'p25beta',\n",
       " 'NPIPB',\n",
       " 'LPCAT4',\n",
       " 'PCDHX',\n",
       " 'CMT2D',\n",
       " 'CHE1',\n",
       " 'PMS2L2',\n",
       " 'IMP',\n",
       " 'HSPA1',\n",
       " 'HIN1',\n",
       " 'NAT3',\n",
       " 'TCRAV4S1',\n",
       " 'L14',\n",
       " 'p62',\n",
       " ' SUR2',\n",
       " 'TRNAMI2',\n",
       " 'GT1',\n",
       " 'DELXq22.3',\n",
       " 'DP3',\n",
       " 'NB',\n",
       " 'ALDC',\n",
       " 'ZIN',\n",
       " ' HCAP',\n",
       " 'RNF3',\n",
       " ' ISWI',\n",
       " 'NAC1',\n",
       " 'MRLC2',\n",
       " 'UBC4',\n",
       " 'OPT',\n",
       " ' p45',\n",
       " 'TAL-H',\n",
       " ' IAP',\n",
       " 'BIP',\n",
       " 'RhoGAP2',\n",
       " ' B3GN-T1',\n",
       " 'RPL24',\n",
       " 'NBS1',\n",
       " 'eIF-2gA',\n",
       " 'SMILE',\n",
       " 'ECA2',\n",
       " 'D17S1718',\n",
       " 'AZ2',\n",
       " ' TRAMP',\n",
       " 'TRA-TGC3-1',\n",
       " 'PL',\n",
       " 'DMTN',\n",
       " 'SAP130',\n",
       " 'PTX1',\n",
       " ' LIM1',\n",
       " 'APOBEC1L',\n",
       " 'CTPP1',\n",
       " 'TNRC14',\n",
       " ' ERIS',\n",
       " 'ALPI',\n",
       " 'PRP4',\n",
       " 'SWAP',\n",
       " 'KFSD',\n",
       " ' NIRF',\n",
       " 'H3C14, H3C15',\n",
       " 'G0S19-2',\n",
       " 'HH',\n",
       " ' CLIP',\n",
       " 'MLP',\n",
       " 'SOSS-B2',\n",
       " 'MCPH4',\n",
       " 'CLEC13B',\n",
       " 'hg523',\n",
       " 'GAS',\n",
       " 'PGII',\n",
       " 'PLGP1',\n",
       " 'GCN5',\n",
       " 'PRP8',\n",
       " 'HMAT1',\n",
       " 'POTEB2',\n",
       " 'HCA3',\n",
       " 'HSD3',\n",
       " 'PHR1',\n",
       " 'NMI',\n",
       " 'PORMIN',\n",
       " 'AMY2',\n",
       " 'MPP6',\n",
       " ' DEFB4',\n",
       " ' MIR',\n",
       " 'XDH',\n",
       " 'VIP',\n",
       " 'PRR23D2',\n",
       " ' DNM1DN8@',\n",
       " 'LINC00473',\n",
       " 'PPAT',\n",
       " 'PP2Calpha',\n",
       " 'H3C3',\n",
       " 'NIK',\n",
       " 'ACA59',\n",
       " 'IGFR2',\n",
       " 'CD1',\n",
       " 'p100',\n",
       " 'WS3',\n",
       " 'MCAP',\n",
       " 'CSTP1',\n",
       " 'LGMD1E',\n",
       " 'MAK',\n",
       " 'SR',\n",
       " 'FCP',\n",
       " 'S31III125',\n",
       " 'NIF',\n",
       " 'TAF',\n",
       " 'CYP2D7AP',\n",
       " 'ARC',\n",
       " 'ASL',\n",
       " 'PRR20E',\n",
       " 'A15',\n",
       " ' UGT1',\n",
       " 'GTF2H2C_2',\n",
       " 'ZNF183',\n",
       " 'CALM',\n",
       " 'LAN',\n",
       " 'NBPF',\n",
       " 'OR11-11A',\n",
       " 'ARPC4',\n",
       " 'GJC1',\n",
       " 'TP53TG3A',\n",
       " ' SNRNP65',\n",
       " ' CKR-1',\n",
       " 'GRTH',\n",
       " 'C21orf77',\n",
       " 'SP5',\n",
       " 'LGALS7',\n",
       " 'GNT-IV',\n",
       " 'TYMP',\n",
       " 'L5',\n",
       " ' DNM1DN11@',\n",
       " 'EMILIN3',\n",
       " 'GCD',\n",
       " 'DA2B',\n",
       " 'PILRB',\n",
       " 'PST',\n",
       " 'MBD3',\n",
       " 'RNA5-8S4',\n",
       " 'ZFP91',\n",
       " 'C15orf63',\n",
       " ' GEMIN1',\n",
       " 'CLM',\n",
       " 'SST2',\n",
       " 'B7-H5',\n",
       " 'B3GNT1',\n",
       " 'AK3L1',\n",
       " 'CIC, SEA',\n",
       " 'ART1',\n",
       " ' CN1',\n",
       " 'PSCTK2',\n",
       " 'AGS2',\n",
       " 'TRNAL-CAA',\n",
       " ' VPS55',\n",
       " 'ERF',\n",
       " 'EIF-2B',\n",
       " ' MAST',\n",
       " 'AMY',\n",
       " 'ME1',\n",
       " 'TAL',\n",
       " 'PDIR',\n",
       " ' HK',\n",
       " ' LRH-1',\n",
       " 'SCA8',\n",
       " ' S14',\n",
       " ' NR1',\n",
       " 'KCP1',\n",
       " 'HYDINP1',\n",
       " 'MUM1',\n",
       " 'MRE11B',\n",
       " 'C6',\n",
       " 'P15',\n",
       " 'VIT1',\n",
       " ' SYT14L',\n",
       " ' Vma2',\n",
       " 'LRRC37A',\n",
       " 'L7',\n",
       " ' ML-1',\n",
       " 'GRIK2',\n",
       " 'GGT',\n",
       " 'P2Y11',\n",
       " 'MMP21',\n",
       " 'ML-1',\n",
       " 'NA88A',\n",
       " 'WBP1',\n",
       " 'R2',\n",
       " 'p44',\n",
       " 'p240',\n",
       " 'RDC-1',\n",
       " 'HTR3',\n",
       " 'AMCN',\n",
       " 'M130',\n",
       " 'GLM7',\n",
       " 'TF',\n",
       " 'LAMP',\n",
       " 'RPA2',\n",
       " 'L15',\n",
       " 'CER1',\n",
       " 'RTS',\n",
       " 'PPT',\n",
       " 'TPP1',\n",
       " ' IPOB',\n",
       " 'TRS-AGA2-2',\n",
       " 'CDP',\n",
       " 'MRPS35',\n",
       " 'PUMAG',\n",
       " 'AAC2',\n",
       " 'GST1',\n",
       " 'LD',\n",
       " ' PWCR',\n",
       " 'TRNAE-UUC',\n",
       " 'CEH',\n",
       " 'CDR1as',\n",
       " 'GCP-2',\n",
       " 'NOV',\n",
       " 'CDKN2',\n",
       " 'H-REV107',\n",
       " ' E2',\n",
       " 'CRABP-I',\n",
       " 'FAM25A, FAM25C',\n",
       " 'MIG12',\n",
       " 'ALDR1',\n",
       " 'LPLAT',\n",
       " ' ZNT8',\n",
       " 'DOC-1',\n",
       " 'ERIS',\n",
       " 'TAT',\n",
       " 'FOP',\n",
       " 'CT78',\n",
       " 'POU5F1',\n",
       " 'DAO',\n",
       " ' LAS1',\n",
       " 'PCDH19',\n",
       " 'PYPAF7',\n",
       " 'HIST1H2BE',\n",
       " 'SANDO',\n",
       " 'MRXSL',\n",
       " 'ZNF468',\n",
       " ' HSS',\n",
       " 'LILRA5',\n",
       " 'PRG-3',\n",
       " 'SF1',\n",
       " ' PIG1',\n",
       " ' P8MTCP1',\n",
       " 'CRABP-II',\n",
       " 'BG',\n",
       " 'CEP4',\n",
       " ' MRP-L15',\n",
       " 'IBD1',\n",
       " 'BA548K23.1',\n",
       " 'MKPX',\n",
       " 'CHD2',\n",
       " 'ATP6D',\n",
       " 'OXR1',\n",
       " 'SGT1',\n",
       " 'ATDC',\n",
       " ' RNU12P',\n",
       " ' OCT3',\n",
       " ' LPAP',\n",
       " 'PRSS1',\n",
       " 'BDA2',\n",
       " 'POB1',\n",
       " 'ECK',\n",
       " 'LBNBG',\n",
       " 'GSS',\n",
       " 'HSF2L',\n",
       " ' PAT1',\n",
       " ' CDK11-P58',\n",
       " 'DFNA3',\n",
       " 'TRP-AGG2-8',\n",
       " 'MAML2',\n",
       " 'TKT',\n",
       " 'FHL3',\n",
       " 'ADC',\n",
       " 'CLE',\n",
       " 'GBBB2',\n",
       " 'GLUR2',\n",
       " 'HNPCC',\n",
       " 'IP',\n",
       " 'CHAT',\n",
       " 'MLCK',\n",
       " ' MINT',\n",
       " 'RIP',\n",
       " 'BS',\n",
       " 'CYP2G2P',\n",
       " 'P-PST',\n",
       " ' STRA13',\n",
       " 'PAPPAS',\n",
       " 'ODZ3',\n",
       " ' FAME',\n",
       " ' P54',\n",
       " 'PBCRA',\n",
       " ' ARIP1',\n",
       " 'OR17-30',\n",
       " 'PAK5, PAK6',\n",
       " ' ICIS',\n",
       " 'MBS',\n",
       " 'HRCA1',\n",
       " 'CFM1',\n",
       " 'FAAH',\n",
       " 'S100A14',\n",
       " 'PGDH',\n",
       " 'ATD',\n",
       " 'PLP',\n",
       " ' CAF1',\n",
       " 'C17ORF1',\n",
       " 'LARP',\n",
       " 'BTHLM1',\n",
       " 'MEL',\n",
       " 'CIA',\n",
       " 'TCF4',\n",
       " 'NRP1',\n",
       " 'AGPAT10',\n",
       " 'RBM14',\n",
       " 'BWS',\n",
       " ' BAP1',\n",
       " 'UFM1P1',\n",
       " 'C53',\n",
       " ' NSCL2',\n",
       " 'MIC1',\n",
       " 'p180',\n",
       " ' TCRBV21S1',\n",
       " 'CYBL',\n",
       " 'CDR1-AS',\n",
       " 'K8',\n",
       " ' AP3Aase',\n",
       " 'POM121L1P',\n",
       " 'CCTB',\n",
       " 'DC7',\n",
       " ' SMN',\n",
       " 'SAA1',\n",
       " 'RP7',\n",
       " 'S31I125',\n",
       " 'H3-3A',\n",
       " ' TRB1',\n",
       " ' P85',\n",
       " ' OTX3',\n",
       " 'CIP1',\n",
       " 'SCYA2',\n",
       " 'APM-1',\n",
       " 'DNM1DN10@',\n",
       " 'BCS',\n",
       " 'PISD',\n",
       " ' H4',\n",
       " 'TAP2',\n",
       " 'TSPY1',\n",
       " 'HOX2',\n",
       " 'UT2',\n",
       " 'SCAF1',\n",
       " 'PAR-1',\n",
       " 'HCDH',\n",
       " ' MADM',\n",
       " 'J1',\n",
       " ' IL1RA',\n",
       " 'RNASE4',\n",
       " 'ARF1P2',\n",
       " 'IMD7',\n",
       " ' H2',\n",
       " 'CGA',\n",
       " 'p12',\n",
       " 'CMK',\n",
       " 'GLK',\n",
       " 'L22',\n",
       " 'ERG1',\n",
       " 'TRN1',\n",
       " 'DDX21',\n",
       " 'AGS8',\n",
       " 'FCRL2',\n",
       " 'OR19-12',\n",
       " 'FAM10A4',\n",
       " ' GOT1',\n",
       " 'T6BP',\n",
       " 'TM',\n",
       " 'H3C10, H3C11, H3C12, H3C2, H3C3, H3C4, H3C6, H3C7, H3C8',\n",
       " 'CDH16',\n",
       " 'STK2',\n",
       " ' PSM',\n",
       " 'CGI-141',\n",
       " 'ZAC',\n",
       " 'RPS17L2',\n",
       " 'EPF5',\n",
       " ' PLCE',\n",
       " 'CRIPTO',\n",
       " 'GUCA1A',\n",
       " ' PXR1',\n",
       " 'DELTA',\n",
       " 'ADPRTL3',\n",
       " 'SDS',\n",
       " 'THM',\n",
       " 'PAAT',\n",
       " 'SYT11',\n",
       " 'BCAM',\n",
       " 'SET7',\n",
       " 'TADA1',\n",
       " 'CENPC',\n",
       " 'LBH',\n",
       " ' CMPD2',\n",
       " 'CDG2T',\n",
       " 'DEFB-4',\n",
       " 'GRIN1',\n",
       " 'PRR20A',\n",
       " 'MRF1',\n",
       " 'IDDM1',\n",
       " 'HIST1H2BF',\n",
       " 'TIP',\n",
       " 'STSL',\n",
       " 'PCP2',\n",
       " 'TGM6',\n",
       " 'SAX2',\n",
       " 'UNQ192',\n",
       " ' LPP1',\n",
       " 'NIP',\n",
       " 'COMT2',\n",
       " 'DFNB102',\n",
       " 'AIM',\n",
       " 'HBD3',\n",
       " 'TFIIF',\n",
       " ' P17',\n",
       " 'C17',\n",
       " 'NL1',\n",
       " 'GAGE-2',\n",
       " 'SFPQ',\n",
       " ' SS',\n",
       " 'BMS1P14',\n",
       " 'EEF-1',\n",
       " ' EVR1',\n",
       " 'CDK4I',\n",
       " 'CHM, CHN2',\n",
       " 'APMR1',\n",
       " 'DIP',\n",
       " 'XAGE-1',\n",
       " 'UGT1A, UGT1A1',\n",
       " 'HRES-1',\n",
       " 'DNM1DN14@',\n",
       " 'SPATA31D3',\n",
       " 'SUR2',\n",
       " 'FAM25A',\n",
       " 'GEF',\n",
       " 'SMAJ',\n",
       " 'XPE',\n",
       " ' RIM',\n",
       " 'AIB3',\n",
       " 'SAD1',\n",
       " 'TH2-LCR',\n",
       " ' MST',\n",
       " 'NRF1',\n",
       " 'TTTY23',\n",
       " ' EEG1',\n",
       " 'RASSF3',\n",
       " 'EBS4',\n",
       " 'GOLGA5',\n",
       " 'NPIPA8',\n",
       " 'H2BFH',\n",
       " 'EDG2',\n",
       " 'SNX30',\n",
       " 'NSCL2',\n",
       " 'SIMP',\n",
       " 'K12',\n",
       " 'ERP1',\n",
       " 'SIII',\n",
       " 'BSP1',\n",
       " 'A2M',\n",
       " 'MIP2',\n",
       " 'PP2CE',\n",
       " 'COII',\n",
       " 'PCDH11Y',\n",
       " 'p20',\n",
       " 'dJ388M5',\n",
       " 'GP',\n",
       " 'HAF',\n",
       " 'EIT-6',\n",
       " 'LYST2',\n",
       " 'PLEKHG5',\n",
       " 'RNU1P2',\n",
       " 'SMA4',\n",
       " 'AK6',\n",
       " 'P23',\n",
       " ' ETL1',\n",
       " 'TC-1',\n",
       " 'ABL',\n",
       " ' VMA5',\n",
       " 'ACCA',\n",
       " 'MCRIP2P1',\n",
       " 'ighv',\n",
       " 'PGI',\n",
       " 'TCF-1',\n",
       " ' NDR1',\n",
       " ' LIP1',\n",
       " 'MCT5',\n",
       " 'DEFB136',\n",
       " 'APM1',\n",
       " 'SAP1',\n",
       " ' PIG6',\n",
       " 'SIK',\n",
       " 'DBP',\n",
       " 'TAP',\n",
       " 'DIP2',\n",
       " 'CLC',\n",
       " 'ZNF475',\n",
       " 'SKP2, STAP1',\n",
       " ' MCAF',\n",
       " 'ciRS-7',\n",
       " 'CMT2T',\n",
       " 'GEMIN1',\n",
       " 'TBL1',\n",
       " 'PABP3',\n",
       " 'EEG1',\n",
       " 'LAP1',\n",
       " 'MRD63',\n",
       " 'RP2',\n",
       " ' MRCL3',\n",
       " ' LRP',\n",
       " 'CFTD',\n",
       " ' V1S5P',\n",
       " 'TEL2',\n",
       " 'HCRN',\n",
       " 'RPL17',\n",
       " 'MPP',\n",
       " 'CAC1',\n",
       " 'SAP190',\n",
       " 'MTTK',\n",
       " 'FLG',\n",
       " 'RGR',\n",
       " ' MLP1',\n",
       " 'ANKRD33',\n",
       " 'TSSK1',\n",
       " 'DFNA52',\n",
       " 'CD158b',\n",
       " 'PPIase',\n",
       " ' FCGR2',\n",
       " ' ACC1',\n",
       " 'IPP1',\n",
       " 'TAT1',\n",
       " 'U3b1',\n",
       " 'H2AC13',\n",
       " 'ASC-1',\n",
       " ' GSE',\n",
       " 'BAT1',\n",
       " 'MDDGC7',\n",
       " 'SAC3',\n",
       " 'ZNF',\n",
       " 'TCRAV15S1',\n",
       " 'TRNAV-CAC',\n",
       " 'CSP2, RCN2',\n",
       " 'SNT2',\n",
       " 'ICln',\n",
       " 'LAT3',\n",
       " ' TRB2',\n",
       " 'TDE2',\n",
       " 'TRIM49B',\n",
       " ' GLP1',\n",
       " ' NG2',\n",
       " 'IFN-alpha-REC',\n",
       " 'GCP',\n",
       " 'SAR1',\n",
       " 'ACHRD',\n",
       " ' CD85',\n",
       " ' NSE2',\n",
       " 'TRE-TTC1-1',\n",
       " 'MDP1',\n",
       " 'CIR',\n",
       " 'CT90',\n",
       " 'APS',\n",
       " 'FOXO3B',\n",
       " 'P84',\n",
       " 'ST3GalA.2',\n",
       " 'CAP1A',\n",
       " 'MOSP',\n",
       " ' GPD',\n",
       " 'ARSC',\n",
       " 'Tmp-21-I',\n",
       " ' FAD',\n",
       " 'RP66',\n",
       " 'SNORD115-48',\n",
       " 'beta4GalNAcT',\n",
       " 'CED4',\n",
       " 'E3',\n",
       " 'UBP',\n",
       " 'PTPA',\n",
       " ' H3.1',\n",
       " 'P1',\n",
       " 'C10orf77',\n",
       " 'MRPL32',\n",
       " ' VMA2',\n",
       " 'NF1L4',\n",
       " 'MBD1',\n",
       " 'IAN6',\n",
       " 'H4C3',\n",
       " '9G8',\n",
       " '37LRP',\n",
       " 'CEP68',\n",
       " 'EJM4',\n",
       " ' H2B.1',\n",
       " 'HHS',\n",
       " 'FAM90A17P',\n",
       " 'KIP2',\n",
       " 'PLAC8',\n",
       " 'GPIV',\n",
       " 'SDP1',\n",
       " 'H2A/q',\n",
       " 'SYT',\n",
       " 'RGS13',\n",
       " 'K13',\n",
       " 'MPI',\n",
       " 'IGFR1',\n",
       " 'TRB2',\n",
       " 'CXorf52',\n",
       " 'FCR-10',\n",
       " 'WBS',\n",
       " 'NP1',\n",
       " 'ATP-PFK',\n",
       " ' G18',\n",
       " 'FAP, LIPA',\n",
       " 'MACS',\n",
       " 'FADS3',\n",
       " 'SIK-1',\n",
       " 'GGTA',\n",
       " 'ACVRLK4',\n",
       " 'GLC1M',\n",
       " 'IGLC6',\n",
       " 'H4C9',\n",
       " ' MUM1',\n",
       " ' RIG1',\n",
       " 'P55',\n",
       " ' PEPP2',\n",
       " 'TRG-CCC2-2',\n",
       " 'RNU1-7',\n",
       " ' CED-12',\n",
       " 'MST1',\n",
       " 'GM2AP',\n",
       " 'p49',\n",
       " 'CPT',\n",
       " ' P29',\n",
       " 'CAP1',\n",
       " 'L31',\n",
       " 'ADAM23',\n",
       " 'MAGE1',\n",
       " 'SERPINA11',\n",
       " 'SPDYE9',\n",
       " ' FRITZ',\n",
       " 'EBS1',\n",
       " ' TIP',\n",
       " 'BDPLT2',\n",
       " 'IFNA13',\n",
       " ' RD',\n",
       " ' TTG1',\n",
       " 'KIAA0229',\n",
       " 'CXorf51B',\n",
       " 'PDIP1',\n",
       " 'CT45A5, CT45A6',\n",
       " 'SPS',\n",
       " 'GRL',\n",
       " 'TAAR2',\n",
       " 'RNTMI2',\n",
       " 'LPP1',\n",
       " 'AN',\n",
       " 'TC',\n",
       " 'C9orf2',\n",
       " 'IGHER',\n",
       " ' PTC',\n",
       " 'FEZ1',\n",
       " 'GTB',\n",
       " 'CT24.2',\n",
       " 'GST',\n",
       " 'THG1',\n",
       " 'RPP2',\n",
       " 'PRDX6',\n",
       " 'MYH14',\n",
       " 'LAD',\n",
       " 'DYT23',\n",
       " ' FBL7',\n",
       " 'HLP3',\n",
       " 'H3C4',\n",
       " 'cPLA2',\n",
       " 'CAS',\n",
       " 'UGT1A1',\n",
       " 'VPS54L',\n",
       " 'PACAP',\n",
       " 'TPTPS',\n",
       " 'CEA',\n",
       " 'LSH',\n",
       " ' CRN',\n",
       " ' IMP2',\n",
       " 'TTTY6',\n",
       " 'INFE1',\n",
       " 'NTNG1',\n",
       " ...}"
      ]
     },
     "execution_count": 160,
     "metadata": {},
     "output_type": "execute_result"
    }
   ],
   "source": [
    "ambiguous_symbol_set"
   ]
  },
  {
   "cell_type": "code",
   "execution_count": 161,
   "metadata": {},
   "outputs": [
    {
     "name": "stdout",
     "output_type": "stream",
     "text": [
      "5050\n"
     ]
    }
   ],
   "source": [
    "ambiguous_symbol_set = set(item.strip() for item in ambiguous_symbol_set)\n",
    "\n",
    "print(len(ambiguous_symbol_set))"
   ]
  },
  {
   "cell_type": "code",
   "execution_count": 162,
   "metadata": {},
   "outputs": [],
   "source": [
    "with open(\"ambiguous_symbol_set.txt\", \"w\") as file:\n",
    "    for item in ambiguous_symbol_set:\n",
    "        file.write(f\"{item.strip()}\\n\")"
   ]
  },
  {
   "cell_type": "code",
   "execution_count": 163,
   "metadata": {},
   "outputs": [
    {
     "data": {
      "text/plain": [
       "5050"
      ]
     },
     "execution_count": 163,
     "metadata": {},
     "output_type": "execute_result"
    }
   ],
   "source": [
    "with open(\"ambiguous_symbol_set.txt\", \"r\") as file:\n",
    "    # Read each line, strip newline characters, and convert to a set\n",
    "    ambiguous_symbol_set = set(line.strip() for line in file)\n",
    "len(ambiguous_symbol_set)"
   ]
  },
  {
   "cell_type": "code",
   "execution_count": 164,
   "metadata": {},
   "outputs": [
    {
     "data": {
      "text/plain": [
       "{'L17',\n",
       " 'GPAT',\n",
       " 'TRNAV22',\n",
       " 'SCYL1',\n",
       " 'H2A',\n",
       " 'LRP1',\n",
       " 'STAG3L1, STAG3L3',\n",
       " 'LMN2',\n",
       " 'LINC02921',\n",
       " 'FAH',\n",
       " 'CXorf11',\n",
       " 'ARTC1',\n",
       " 'CMPD1',\n",
       " 'HLA-DRB',\n",
       " 'OSCP',\n",
       " 'C2orf47',\n",
       " 'P39',\n",
       " 'CPAD',\n",
       " 'DIA2',\n",
       " 'HDGF2',\n",
       " 'TMEFF1',\n",
       " 'PKR2',\n",
       " 'ACP',\n",
       " 'F3',\n",
       " 'NG2',\n",
       " 'GC1',\n",
       " 'MPP1',\n",
       " 'HLP',\n",
       " 'OR11-3',\n",
       " 'TDH',\n",
       " 'REF1',\n",
       " 'MS4A4',\n",
       " 'CEBPZ',\n",
       " 'CRD',\n",
       " 'HBP',\n",
       " 'TRX-CAT1-4',\n",
       " 'TSARG1',\n",
       " 'H2AC16',\n",
       " 'CSRP2BP',\n",
       " 'HN1L',\n",
       " 'HCG18',\n",
       " 'ERV1',\n",
       " 'KRTAP2-1',\n",
       " 'SKD1',\n",
       " 'RRP17',\n",
       " 'p200',\n",
       " 'CD277',\n",
       " 'p56',\n",
       " 'CAK1',\n",
       " 'HBM',\n",
       " 'SF',\n",
       " 'AD1',\n",
       " 'CBWD3',\n",
       " 'TRR-CCG1-2',\n",
       " 'LBP',\n",
       " 'ZNF2',\n",
       " 'SA',\n",
       " 'HCI',\n",
       " 'ROX',\n",
       " 'ZNF141',\n",
       " 'HM1',\n",
       " 'TRW-CCA3-1',\n",
       " 'SGT2',\n",
       " 'TIH1',\n",
       " 'DXS648E',\n",
       " 'SWI2',\n",
       " 'UBL5',\n",
       " 'GCAP-II',\n",
       " 'CIC',\n",
       " 'NAPA',\n",
       " 'BCR',\n",
       " 'LOXL',\n",
       " 'TRAC-1',\n",
       " 'TBC1D3D',\n",
       " 'CHED',\n",
       " 'TNFRSF11B',\n",
       " 'GAL7',\n",
       " 'GLUT6',\n",
       " 'TMS',\n",
       " 'OR17-24',\n",
       " 'ROC2',\n",
       " 'BAF190',\n",
       " 'BCS1',\n",
       " 'GOT1',\n",
       " 'PDZD5C',\n",
       " 'AIP',\n",
       " 'TRI-AAT5-3',\n",
       " 'P54',\n",
       " 'P38',\n",
       " 'TTTY7B',\n",
       " 'TRD-GTC2-11',\n",
       " 'COT',\n",
       " 'ABP-280',\n",
       " 'CEACAM22P',\n",
       " 'CTRP5',\n",
       " 'BETA2',\n",
       " 'C2orf27B',\n",
       " 'CED12',\n",
       " 'NTT',\n",
       " 'OF',\n",
       " 'RGP1',\n",
       " 'A3A',\n",
       " 'HGF',\n",
       " 'CSRP',\n",
       " 'SRS',\n",
       " 'GAB1',\n",
       " 'CHD5',\n",
       " 'BSC',\n",
       " 'TPS2',\n",
       " 'B29',\n",
       " 'ILT5',\n",
       " 'BRX',\n",
       " 'HU-2',\n",
       " 'HBP3',\n",
       " 'LDB1',\n",
       " 'SENP2',\n",
       " 'FCG1',\n",
       " 'CT45A8, CT45A9',\n",
       " 'CAP2, TMPRSS3',\n",
       " 'PPIAL4F',\n",
       " 'HET',\n",
       " 'NAT1, NET1, SLC6A5',\n",
       " 'GTF2A1L',\n",
       " 'P2',\n",
       " 'MSS4',\n",
       " 'LOAS',\n",
       " 'FLJ10052',\n",
       " 'MRG2',\n",
       " 'dJ221C16.8',\n",
       " 'P68',\n",
       " 'NOP9',\n",
       " 'ARMD14',\n",
       " 'FAE',\n",
       " 'CAM3',\n",
       " 'PAR4',\n",
       " 'MPDZ',\n",
       " 'PEPP1',\n",
       " 'HOP',\n",
       " 'HIS',\n",
       " 'KRTAP4-7',\n",
       " 'CAF-1',\n",
       " 'LST3',\n",
       " 'PAIS',\n",
       " 'DFNB35',\n",
       " 'Zfp27',\n",
       " 'PAC-1',\n",
       " 'SD',\n",
       " 'ATS',\n",
       " 'p25beta',\n",
       " 'NPIPB',\n",
       " 'LPCAT4',\n",
       " 'PCDHX',\n",
       " 'CHE1',\n",
       " 'PMS2L2',\n",
       " 'IMP',\n",
       " 'HSPA1',\n",
       " 'HIN1',\n",
       " 'NAT3',\n",
       " 'L14',\n",
       " 'TRNAMI2',\n",
       " 'GT1',\n",
       " 'DP3',\n",
       " 'NB',\n",
       " 'MRLC2',\n",
       " 'OPT',\n",
       " 'TAL-H',\n",
       " 'RhoGAP2',\n",
       " 'RPL24',\n",
       " 'NBS1',\n",
       " 'eIF-2gA',\n",
       " 'D17S1718',\n",
       " 'DMTN',\n",
       " 'TNRC14',\n",
       " 'PRP4',\n",
       " 'H3C14, H3C15',\n",
       " 'SOSS-B2',\n",
       " 'CLEC13B',\n",
       " 'hg523',\n",
       " 'GCN5',\n",
       " 'HSD3',\n",
       " 'PHR1',\n",
       " 'NMI',\n",
       " 'MU2',\n",
       " 'VIP',\n",
       " 'PRR23D2',\n",
       " 'PP2Calpha',\n",
       " 'H3C3',\n",
       " 'ACA59',\n",
       " 'CD1',\n",
       " 'p100',\n",
       " 'CSTP1',\n",
       " 'LGMD1E',\n",
       " 'S31III125',\n",
       " 'PXR1',\n",
       " 'TAF',\n",
       " 'ASL',\n",
       " 'PRR20E',\n",
       " 'A15',\n",
       " 'GTF2H2C_2',\n",
       " 'ZNF183',\n",
       " 'LAN',\n",
       " 'ARPC4',\n",
       " 'GJC1',\n",
       " 'TP53TG3A',\n",
       " 'SP5',\n",
       " 'EMILIN3',\n",
       " 'GCD',\n",
       " 'PILRB',\n",
       " 'MBD3',\n",
       " 'SST2',\n",
       " 'AK3L1',\n",
       " 'PSCTK2',\n",
       " 'AMY',\n",
       " 'ME1',\n",
       " 'TAL',\n",
       " 'PDIR',\n",
       " 'SCA8',\n",
       " 'HYDINP1',\n",
       " 'C6',\n",
       " 'LRRC37A',\n",
       " 'L7',\n",
       " 'GGT',\n",
       " 'P2Y11',\n",
       " 'WBP1',\n",
       " 'R2',\n",
       " 'p240',\n",
       " 'AMCN',\n",
       " 'LAMP',\n",
       " 'L15',\n",
       " 'CER1',\n",
       " 'TPP1',\n",
       " 'CDP',\n",
       " 'MRPS35',\n",
       " 'PUMAG',\n",
       " 'LD',\n",
       " 'TRNAE-UUC',\n",
       " 'CDR1as',\n",
       " 'FAM25A, FAM25C',\n",
       " 'MIG12',\n",
       " 'LPLAT',\n",
       " 'POU5F1',\n",
       " 'HIST1H2BE',\n",
       " 'LILRA5',\n",
       " 'CRABP-II',\n",
       " 'BG',\n",
       " 'IBD1',\n",
       " 'P57',\n",
       " 'CHD2',\n",
       " 'ATP6D',\n",
       " 'OXR1',\n",
       " 'SGT1',\n",
       " 'PRSS1',\n",
       " 'BDA2',\n",
       " 'POB1',\n",
       " 'LBNBG',\n",
       " 'TRP-AGG2-8',\n",
       " 'TKT',\n",
       " 'GBBB2',\n",
       " 'MLCK',\n",
       " 'BS',\n",
       " 'P-PST',\n",
       " 'MBS',\n",
       " 'FAAH',\n",
       " 'S100A14',\n",
       " 'PLP',\n",
       " 'LARP',\n",
       " 'TCF4',\n",
       " 'NRP1',\n",
       " 'AGPAT10',\n",
       " 'RBM14',\n",
       " 'C53',\n",
       " 'MIC1',\n",
       " 'CDR1-AS',\n",
       " 'POM121L1P',\n",
       " 'DC7',\n",
       " 'SAA1',\n",
       " 'S31I125',\n",
       " 'H3-3A',\n",
       " 'APM-1',\n",
       " 'HOX2',\n",
       " 'PAR-1',\n",
       " 'RNASE4',\n",
       " 'ARF1P2',\n",
       " 'CGA',\n",
       " 'L22',\n",
       " 'ERG1',\n",
       " 'TRN1',\n",
       " 'DDX21',\n",
       " 'AGS8',\n",
       " 'T6BP',\n",
       " 'H3C10, H3C11, H3C12, H3C2, H3C3, H3C4, H3C6, H3C7, H3C8',\n",
       " 'RPS17L2',\n",
       " 'THM',\n",
       " 'PAAT',\n",
       " 'BCAM',\n",
       " 'SET7',\n",
       " 'TADA1',\n",
       " 'LBH',\n",
       " 'CDG2T',\n",
       " 'DEFB-4',\n",
       " 'GRIN1',\n",
       " 'HIST1H2BF',\n",
       " 'UNQ192',\n",
       " 'COMT2',\n",
       " 'C17',\n",
       " 'NL1',\n",
       " 'EEF-1',\n",
       " 'XAGE-1',\n",
       " 'UGT1A, UGT1A1',\n",
       " 'SPATA31D3',\n",
       " 'SUR2',\n",
       " 'FAM25A',\n",
       " 'GEF',\n",
       " 'SMAJ',\n",
       " 'SAD1',\n",
       " 'TH2-LCR',\n",
       " 'MINERVA',\n",
       " 'EBS4',\n",
       " 'GOLGA5',\n",
       " 'NPIPA8',\n",
       " 'EDG2',\n",
       " 'NSCL2',\n",
       " 'A2M',\n",
       " 'p20',\n",
       " 'GP',\n",
       " 'EIT-6',\n",
       " 'PLEKHG5',\n",
       " 'RNU1P2',\n",
       " 'SMA4',\n",
       " 'P23',\n",
       " 'TC-1',\n",
       " 'PIG1',\n",
       " 'MCT5',\n",
       " 'DEFB136',\n",
       " 'APM1',\n",
       " 'SAP1',\n",
       " 'SIK',\n",
       " 'TAP',\n",
       " 'GEMIN1',\n",
       " 'TBL1',\n",
       " 'PABP3',\n",
       " 'EEG1',\n",
       " 'LAP1',\n",
       " 'RP2',\n",
       " 'HCRN',\n",
       " 'MPP',\n",
       " 'SAP190',\n",
       " 'ANKRD33',\n",
       " 'TSSK1',\n",
       " 'IPP1',\n",
       " 'H2AC13',\n",
       " 'BAT1',\n",
       " 'TCRAV15S1',\n",
       " 'TRNAV-CAC',\n",
       " 'CSP2, RCN2',\n",
       " 'SNT2',\n",
       " 'LAT3',\n",
       " 'IFN-alpha-REC',\n",
       " 'SAR1',\n",
       " 'ACHRD',\n",
       " 'TRE-TTC1-1',\n",
       " 'MDP1',\n",
       " 'CIR',\n",
       " 'FOXO3B',\n",
       " 'P84',\n",
       " 'ST3GalA.2',\n",
       " 'CAP1A',\n",
       " 'MOSP',\n",
       " 'ARSC',\n",
       " 'RP66',\n",
       " 'SNORD115-48',\n",
       " 'E3',\n",
       " 'UBP',\n",
       " 'PTPA',\n",
       " 'C10orf77',\n",
       " 'MRPL32',\n",
       " 'MBD1',\n",
       " 'IAN6',\n",
       " '9G8',\n",
       " 'EJM4',\n",
       " 'HHS',\n",
       " 'KIP2',\n",
       " 'SYT',\n",
       " 'CXorf52',\n",
       " 'FCR-10',\n",
       " 'FADS3',\n",
       " 'NP1',\n",
       " 'ATP-PFK',\n",
       " 'MACS',\n",
       " 'SIK-1',\n",
       " 'IGLC6',\n",
       " 'H4C9',\n",
       " 'CPT',\n",
       " 'CAP1',\n",
       " 'L31',\n",
       " 'SERPINA11',\n",
       " 'EBS1',\n",
       " 'KIAA0229',\n",
       " 'CXorf51B',\n",
       " 'PDIP1',\n",
       " 'CT45A5, CT45A6',\n",
       " 'SPS',\n",
       " 'RNTMI2',\n",
       " 'AN',\n",
       " 'IGHER',\n",
       " 'FEZ1',\n",
       " 'GTB',\n",
       " 'CT24.2',\n",
       " 'GST',\n",
       " 'THG1',\n",
       " 'PRDX6',\n",
       " 'H3C4',\n",
       " 'cPLA2',\n",
       " 'UGT1A1',\n",
       " 'PACAP',\n",
       " 'TTTY6',\n",
       " 'CEA',\n",
       " 'NTNG1',\n",
       " 'INFE1',\n",
       " 'POLD4',\n",
       " 'NG2-6',\n",
       " 'OR912-109',\n",
       " 'KID',\n",
       " 'MAT',\n",
       " 'ZNF32',\n",
       " 'NBN',\n",
       " 'HC3',\n",
       " 'CT45-5',\n",
       " 'D-X',\n",
       " 'PED',\n",
       " 'NAPB',\n",
       " 'FRMPD2',\n",
       " 'PSF1',\n",
       " 'LIP1',\n",
       " 'TRIM49L2',\n",
       " 'OR11-11a',\n",
       " 'NANOGP4',\n",
       " 'RCD1',\n",
       " 'CK20',\n",
       " 'M6A',\n",
       " 'SL1',\n",
       " 'TRK1',\n",
       " 'LEU2',\n",
       " 'CLAC',\n",
       " 'p28',\n",
       " 'CSP1, DSC1, RCN1',\n",
       " 'ASIP',\n",
       " 'PTEN2',\n",
       " 'ATPM',\n",
       " 'PAT1',\n",
       " 'MAD',\n",
       " 'METTL2A',\n",
       " 'Y4',\n",
       " 'HGRG8',\n",
       " 'PRAF1',\n",
       " 'ASH2',\n",
       " 'ODC1',\n",
       " 'TICAM2',\n",
       " 'H4C5',\n",
       " 'GCP2',\n",
       " 'ARC20',\n",
       " 'SCA31',\n",
       " 'H4C1, H4C11, H4C13, H4C14, H4C15, H4C16, H4C2, H4C3, H4C4, H4C5, H4C6, H4C8, H4C9',\n",
       " 'POP1',\n",
       " 'FNTB',\n",
       " 'DRB1',\n",
       " 'L3',\n",
       " 'TPX1',\n",
       " 'MIP-2A',\n",
       " 'CAPH2',\n",
       " 'REN',\n",
       " 'SHLD3',\n",
       " 'HEATR8',\n",
       " 'RASSF5',\n",
       " 'IGHV3-3',\n",
       " 'PAC1',\n",
       " 'NPY4-R',\n",
       " 'GAL',\n",
       " 'SPANX-E',\n",
       " 'ARC34',\n",
       " 'FRAXE',\n",
       " 'KRTAP4.7',\n",
       " 'NRK2',\n",
       " 'HCC',\n",
       " 'PBI',\n",
       " 'SCL',\n",
       " 'BTD',\n",
       " 'LPCAT',\n",
       " 'MTTF1',\n",
       " 'EMAP-2',\n",
       " 'S9',\n",
       " 'CK1',\n",
       " 'HMCS',\n",
       " 'BRCC2',\n",
       " 'DEFB4',\n",
       " 'TRYP2',\n",
       " 'ZNF230',\n",
       " 'hg674',\n",
       " 'HNRNPCL2, HNRNPCL4',\n",
       " 'GCP3',\n",
       " 'STN1',\n",
       " 'CT4.4',\n",
       " 'FGF2',\n",
       " 'HSFY',\n",
       " 'CT45A2',\n",
       " 'NET4',\n",
       " 'CMT4E',\n",
       " 'TS',\n",
       " 'EMC19',\n",
       " 'DHP',\n",
       " 'SAS',\n",
       " 'NCC-3',\n",
       " 'ERVR',\n",
       " 'GLP-1',\n",
       " 'TCRAV9S1',\n",
       " 'MSK16',\n",
       " 'TIC',\n",
       " 'C11orf3',\n",
       " 'B4',\n",
       " 'CKB',\n",
       " 'PIK3CD',\n",
       " 'PTC',\n",
       " 'RAB4B',\n",
       " 'DADR',\n",
       " 'ED3',\n",
       " 'PHD1',\n",
       " 'GIG1',\n",
       " 'CNA2',\n",
       " 'RPS27AP',\n",
       " 'PSG9',\n",
       " 'PABP4',\n",
       " 'SIP1',\n",
       " 'HIST1H2BI',\n",
       " 'PH2',\n",
       " 'SLC9A6',\n",
       " 'H2AC11, H2AC13, H2AC15, H2AC17',\n",
       " 'U87',\n",
       " 'U5B1',\n",
       " 'TRI-AAT5-5',\n",
       " 'OR19-6',\n",
       " 'HCCR-1',\n",
       " 'U13',\n",
       " 'STM',\n",
       " 'NET5',\n",
       " 'MM1',\n",
       " 'p52',\n",
       " 'MCT1',\n",
       " 'COX4',\n",
       " 'CDC25L',\n",
       " 'PRKACA',\n",
       " 'H3C15',\n",
       " 'IBGC1, IBGC2',\n",
       " 'AIDA',\n",
       " 'MIR8069',\n",
       " 'KRAS',\n",
       " 'SCP1',\n",
       " 'DEFB108B',\n",
       " 'PM5',\n",
       " 'MGC15397',\n",
       " 'MYM',\n",
       " 'MEP',\n",
       " 'AGS3',\n",
       " 'ZNT8',\n",
       " 'ATP2B2',\n",
       " 'DNF15S2',\n",
       " 'WRS',\n",
       " 'DSEP',\n",
       " 'p58',\n",
       " 'C9orf36',\n",
       " 'STAG1',\n",
       " 'PFM',\n",
       " 'CYB560',\n",
       " 'TRG-GCC2-5',\n",
       " 'SMF',\n",
       " 'NF1HHS',\n",
       " 'MIR499A',\n",
       " 'LAG-1',\n",
       " 'HRS',\n",
       " 'ZNF264',\n",
       " 'L4',\n",
       " 'TRF-GAA1-4',\n",
       " 'HPP',\n",
       " 'BAP1',\n",
       " 'COL6A4',\n",
       " 'EIT6',\n",
       " 'ADPRTL2',\n",
       " 'RNA45S4',\n",
       " 'BAM',\n",
       " 'CTH',\n",
       " 'LQT5',\n",
       " 'AK3L2',\n",
       " 'HL1',\n",
       " 'DYT14',\n",
       " 'CLCP1',\n",
       " 'KRTAP2-4',\n",
       " 'TEB1',\n",
       " 'DCR1',\n",
       " 'ATG8',\n",
       " 'CS1',\n",
       " 'FABP5P1',\n",
       " 'HNP-1',\n",
       " 'RBMY1A1',\n",
       " 'COD1',\n",
       " 'RAK',\n",
       " 'H3.1',\n",
       " 'RUS',\n",
       " 'HAP40',\n",
       " 'KIR2DL5',\n",
       " 'GEF720',\n",
       " 'DVL1',\n",
       " 'EPR-1',\n",
       " 'COX',\n",
       " 'C18orf53',\n",
       " 'TCRBV12S2',\n",
       " 'OX2R',\n",
       " 'II',\n",
       " 'MGL',\n",
       " 'TAFII105',\n",
       " 'CUZD1',\n",
       " 'PTX2',\n",
       " 'ANF',\n",
       " 'CRP',\n",
       " 'WASH',\n",
       " 'POTE',\n",
       " 'TTG1',\n",
       " 'H4C1, H4C11, H4C12, H4C13, H4C14, H4C15, H4C16, H4C2, H4C3, H4C4, H4C5, H4C6, H4C9',\n",
       " 'PP610',\n",
       " 'ING2',\n",
       " 'TRAV11',\n",
       " 'TUBB2',\n",
       " 'TIP39',\n",
       " 'GR',\n",
       " 'CLDN21',\n",
       " 'PRM1',\n",
       " 'PEPP2',\n",
       " 'H3',\n",
       " 'CSA',\n",
       " 'CAP2',\n",
       " 'MTP',\n",
       " 'AGM1',\n",
       " 'MGR',\n",
       " 'OR9G1',\n",
       " 'p67',\n",
       " 'NOS2',\n",
       " 'L30',\n",
       " 'DSH',\n",
       " 'USP21',\n",
       " 'IMP4',\n",
       " 'PRR2',\n",
       " 'HIST2H2BD',\n",
       " 'CAPG',\n",
       " 'DUSP13',\n",
       " 'PRGA',\n",
       " 'POTEB',\n",
       " 'PSBG-9',\n",
       " 'KAL',\n",
       " 'CTSO',\n",
       " 'TRR-TCT3-1',\n",
       " 'TCRAV30S1',\n",
       " 'H2AC19',\n",
       " 'OR52I1',\n",
       " 'GP40',\n",
       " 'ST1A3/ST1A4',\n",
       " 'KRTHB1',\n",
       " 'ORC2',\n",
       " 'ANG3',\n",
       " 'EIF4F',\n",
       " 'TRI-AAT5-1',\n",
       " 'BTN1',\n",
       " 'MRP-S28',\n",
       " 'U62',\n",
       " 'NANOGP6',\n",
       " 'H2BC4',\n",
       " 'DRG1',\n",
       " 'MAGEA4',\n",
       " 'SDH3',\n",
       " 'HPC7',\n",
       " 'RNU1-6P',\n",
       " 'LIMS4',\n",
       " 'APS1',\n",
       " 'L13A',\n",
       " 'PAR2',\n",
       " 'FRA10A',\n",
       " 'RFMN',\n",
       " 'PGDS',\n",
       " 'USP17L25, USP17L26, USP17L27, USP17L28, USP17L29, USP17L30',\n",
       " 'RBMY1C',\n",
       " 'NPR2',\n",
       " 'CARMEN',\n",
       " 'DLK',\n",
       " 'FLJ10883',\n",
       " 'UGT1-03',\n",
       " 'PAG',\n",
       " 'PAGB',\n",
       " 'NOS3',\n",
       " 'polymerase',\n",
       " 'TCRGV5P',\n",
       " 'SIRPB2',\n",
       " 'MMP23A',\n",
       " 'FAN1',\n",
       " 'CD25',\n",
       " 'MHF1',\n",
       " 'RMP',\n",
       " 'PPP1R6',\n",
       " 'BBP',\n",
       " 'SWS1',\n",
       " 'P27',\n",
       " 'DFNA2',\n",
       " 'KRTAP5-6',\n",
       " 'RNA5-8SP',\n",
       " 'CPN1',\n",
       " 'TR3',\n",
       " 'KAP',\n",
       " 'STP',\n",
       " 'K35',\n",
       " 'PRR23D1',\n",
       " 'RAB1C',\n",
       " 'PLAP-1',\n",
       " 'MIR198',\n",
       " 'DLP1',\n",
       " 'LP',\n",
       " 'EIF2B',\n",
       " 'GOP',\n",
       " 'P21',\n",
       " 'CTA',\n",
       " 'INT2',\n",
       " 'BCRP1',\n",
       " 'ZSCAN31',\n",
       " 'GCAP',\n",
       " 'TRIP1',\n",
       " 'SSF1',\n",
       " 'RGS9',\n",
       " 'HZF2',\n",
       " 'ZFP27',\n",
       " 'RPEL1',\n",
       " 'MP44',\n",
       " 'PCM1',\n",
       " 'TSPY10, TSPY8',\n",
       " 'PAN3',\n",
       " 'BGP',\n",
       " 'SCYA3L1',\n",
       " 'TRX-CAT1-2',\n",
       " 'PAO',\n",
       " 'GUSBP9',\n",
       " 'CXorf49',\n",
       " 'RRP4',\n",
       " 'TER',\n",
       " 'NAT5P',\n",
       " 'DSPS',\n",
       " 'TSBP',\n",
       " 'SI',\n",
       " 'RBM5-AS1',\n",
       " 'COX11P',\n",
       " 'Rsc8',\n",
       " 'BOLA2B',\n",
       " 'RNASE9',\n",
       " 'PRAAS3',\n",
       " 'VR1',\n",
       " 'HDMX',\n",
       " 'TRNP',\n",
       " 'CYP11B',\n",
       " 'C16DUPp11.2',\n",
       " 'AP3Aase',\n",
       " 'SST1',\n",
       " 'OPLL',\n",
       " 'KCR1',\n",
       " 'FAM25A, FAM25C, FAM25G',\n",
       " 'AG1',\n",
       " 'HCC-2',\n",
       " 'FBL6',\n",
       " 'SPRING',\n",
       " 'P29',\n",
       " 'CD',\n",
       " 'MKS',\n",
       " 'LSAMP-AS1',\n",
       " 'FCRIII',\n",
       " 'SSS1',\n",
       " 'NBPF9',\n",
       " 'PAM',\n",
       " 'D6S230E',\n",
       " 'CYPH',\n",
       " 'MLC2',\n",
       " 'M-ABC2',\n",
       " 'WT2',\n",
       " 'ELP1',\n",
       " 'G2',\n",
       " 'GNT1',\n",
       " 'L13',\n",
       " 'p115',\n",
       " 'BD-5',\n",
       " 'NT3',\n",
       " 'SAC2',\n",
       " 'C82',\n",
       " 'H2AC15',\n",
       " 'PIR-B',\n",
       " 'CT45A4',\n",
       " 'HSP70.2',\n",
       " 'ERG-1',\n",
       " 'MED',\n",
       " 'HSP70-1',\n",
       " 'HS1',\n",
       " 'LINC00516',\n",
       " 'TRNAI-AAU',\n",
       " 'EIF4A',\n",
       " 'MYPOP',\n",
       " 'CPX2',\n",
       " 'MLL2',\n",
       " '61E3.4',\n",
       " 'P11',\n",
       " 'TRH-GTG1-7',\n",
       " 'EBS3',\n",
       " 'p17',\n",
       " 'SMAP1',\n",
       " 'CFAP90',\n",
       " 'D3F15S2',\n",
       " 'TMEM123',\n",
       " 'ALS',\n",
       " 'TRY-GTA5-3',\n",
       " 'CAB1',\n",
       " 'RGP4',\n",
       " 'ZNF408',\n",
       " 'ISGF-3',\n",
       " 'TRIM49D1',\n",
       " 'MIO',\n",
       " 'SPANXE',\n",
       " 'DLD',\n",
       " 'CRAM',\n",
       " 'TERA',\n",
       " 'RNU6-373P',\n",
       " 'TAX1BP2',\n",
       " 'RALBP1',\n",
       " 'DEF3',\n",
       " 'GDH2',\n",
       " 'SEPT2',\n",
       " 'DEFB103',\n",
       " 'CIT',\n",
       " 'TAP1',\n",
       " 'NR1',\n",
       " 'DD3',\n",
       " 'AHRR',\n",
       " 'p35',\n",
       " 'ESO1',\n",
       " 'ALS2CR3',\n",
       " 'UBXD10',\n",
       " 'SWD2',\n",
       " 'CSB',\n",
       " 'IAN2',\n",
       " 'APITD1',\n",
       " 'L9',\n",
       " 'AG3',\n",
       " 'CPTI-M',\n",
       " 'ECD',\n",
       " 'PLB',\n",
       " 'IRAP',\n",
       " 'EVR1',\n",
       " 'PSS',\n",
       " 'MRP8',\n",
       " 'CCK',\n",
       " 'JBS',\n",
       " 'ILERS',\n",
       " 'TCRBV25S1',\n",
       " 'B18',\n",
       " 'PSP',\n",
       " 'TPH2',\n",
       " 'PBP',\n",
       " 'PSK-1',\n",
       " 'H2AC11',\n",
       " 'SCARNA17',\n",
       " 'HK1',\n",
       " 'H5',\n",
       " 'PKD3',\n",
       " 'TSPY1, TSPY10',\n",
       " 'TP53TG3E, TP53TG3F',\n",
       " 'BDPLT14, THAS',\n",
       " 'TLP',\n",
       " 'E2-1',\n",
       " 'TDO',\n",
       " 'HBSCI',\n",
       " 'HAI',\n",
       " 'LAT2',\n",
       " 'p75',\n",
       " 'SPDYE13',\n",
       " 'KIR2DL3',\n",
       " 'AZ1',\n",
       " 'MADA',\n",
       " 'PSA',\n",
       " 'IGHV',\n",
       " 'VARS2',\n",
       " 'COAS3',\n",
       " 'TRNAG34P',\n",
       " 'GSG1',\n",
       " 'TCRBV21S1',\n",
       " 'GPT',\n",
       " 'CES2',\n",
       " 'SAP',\n",
       " 'TCRAV5S1',\n",
       " 'COD5',\n",
       " 'KNTC1AP',\n",
       " 'FAM25C',\n",
       " 'TCEB1L',\n",
       " 'FBP',\n",
       " 'ZRC1',\n",
       " 'P6',\n",
       " 'OST',\n",
       " 'DHX40P1, TBC1D3P1',\n",
       " 'APP1',\n",
       " 'BRAP',\n",
       " 'TCF6L1',\n",
       " 'NIDDM1',\n",
       " 'HIST1H2BG',\n",
       " 'AF-1',\n",
       " 'DERPC',\n",
       " 'ST1A4',\n",
       " 'PRG',\n",
       " 'UP2',\n",
       " 'RASA1',\n",
       " 'SLEB6',\n",
       " 'SPG',\n",
       " 'CKS1',\n",
       " 'GRO1',\n",
       " 'HGPS',\n",
       " 'DEFB-8',\n",
       " 'TBC1D3L',\n",
       " 'Z18',\n",
       " 'T2D',\n",
       " 'FAS',\n",
       " 'CLK1',\n",
       " 'IL25, IL27',\n",
       " 'MTHFS',\n",
       " 'STAG3L1, STAG3L2',\n",
       " 'TTTY8',\n",
       " 'RP8',\n",
       " 'KS1',\n",
       " 'GUP1',\n",
       " 'C11orf48',\n",
       " 'L19',\n",
       " 'CH507-154B10.1',\n",
       " 'MLX',\n",
       " 'SBBI31',\n",
       " 'LIMS3L',\n",
       " 'U8',\n",
       " 'EPAC',\n",
       " 'OI6',\n",
       " 'NS3TP1',\n",
       " 'SMG',\n",
       " 'TR2',\n",
       " 'FMLP-R-II',\n",
       " 'DDC8',\n",
       " 'SNRNP65',\n",
       " 'NEDSMBA',\n",
       " 'dJ353E16.2',\n",
       " 'VMA2',\n",
       " 'CAT',\n",
       " 'AG2',\n",
       " 'Tyr-tRNA',\n",
       " 'MIR1291',\n",
       " 'APG1',\n",
       " 'PHHI',\n",
       " 'ATP6G',\n",
       " 'SMAC3L',\n",
       " 'TRI-AAT5-2',\n",
       " 'MIP-5',\n",
       " 'C1QTNF15',\n",
       " 'MAL',\n",
       " 'NT5C1B',\n",
       " 'TIRP',\n",
       " 'SULT1A3',\n",
       " 'IK1',\n",
       " 'NOR1',\n",
       " 'UGT2',\n",
       " 'GLUD1',\n",
       " 'RHA',\n",
       " 'APPL2',\n",
       " 'EA1',\n",
       " 'TSG',\n",
       " 'hBD-4',\n",
       " 'NAT-1',\n",
       " 'VWS2',\n",
       " 'PLGLA',\n",
       " 'IFN-ALPHAI',\n",
       " 'CT11.1',\n",
       " 'POLG',\n",
       " 'ACC1',\n",
       " 'HOX1',\n",
       " 'PKD4',\n",
       " 'SLC4A5',\n",
       " 'MDK',\n",
       " 'MCT',\n",
       " 'TRNAN-GUU',\n",
       " 'EBN1',\n",
       " 'AD026',\n",
       " 'PSMD15',\n",
       " 'BED',\n",
       " 'MRX95',\n",
       " 'LYS2',\n",
       " 'U3a',\n",
       " 'HN3',\n",
       " 'MS4A8',\n",
       " 'GH',\n",
       " 'HCCR-2',\n",
       " ...}"
      ]
     },
     "execution_count": 164,
     "metadata": {},
     "output_type": "execute_result"
    }
   ],
   "source": [
    "ambiguous_symbol_set"
   ]
  },
  {
   "cell_type": "markdown",
   "metadata": {},
   "source": [
    "### <a id='toc1_1_2_'></a>[Primary exploration of DGIdb gene content using collisions](#toc0_)"
   ]
  },
  {
   "cell_type": "markdown",
   "metadata": {},
   "source": [
    "#### <a id='toc1_1_2_1_'></a>[Load gene claim data from DGIdb](#toc0_)"
   ]
  },
  {
   "cell_type": "code",
   "execution_count": 165,
   "metadata": {},
   "outputs": [
    {
     "data": {
      "text/html": [
       "<div>\n",
       "<style scoped>\n",
       "    .dataframe tbody tr th:only-of-type {\n",
       "        vertical-align: middle;\n",
       "    }\n",
       "\n",
       "    .dataframe tbody tr th {\n",
       "        vertical-align: top;\n",
       "    }\n",
       "\n",
       "    .dataframe thead th {\n",
       "        text-align: right;\n",
       "    }\n",
       "</style>\n",
       "<table border=\"1\" class=\"dataframe\">\n",
       "  <thead>\n",
       "    <tr style=\"text-align: right;\">\n",
       "      <th></th>\n",
       "      <th>gene_claim_name</th>\n",
       "      <th>nomenclature</th>\n",
       "      <th>concept_id</th>\n",
       "      <th>gene_name</th>\n",
       "      <th>source_db_name</th>\n",
       "      <th>source_db_version</th>\n",
       "    </tr>\n",
       "  </thead>\n",
       "  <tbody>\n",
       "    <tr>\n",
       "      <th>0</th>\n",
       "      <td>NGFIBA</td>\n",
       "      <td>NCBI Gene Name</td>\n",
       "      <td>NaN</td>\n",
       "      <td>NaN</td>\n",
       "      <td>BaderLab</td>\n",
       "      <td>Feb-14</td>\n",
       "    </tr>\n",
       "    <tr>\n",
       "      <th>1</th>\n",
       "      <td>NGFIBB</td>\n",
       "      <td>NCBI Gene Name</td>\n",
       "      <td>NaN</td>\n",
       "      <td>NaN</td>\n",
       "      <td>BaderLab</td>\n",
       "      <td>Feb-14</td>\n",
       "    </tr>\n",
       "    <tr>\n",
       "      <th>2</th>\n",
       "      <td>DAX</td>\n",
       "      <td>NCBI Gene Name</td>\n",
       "      <td>NaN</td>\n",
       "      <td>NaN</td>\n",
       "      <td>BaderLab</td>\n",
       "      <td>Feb-14</td>\n",
       "    </tr>\n",
       "    <tr>\n",
       "      <th>3</th>\n",
       "      <td>REV-ERBA</td>\n",
       "      <td>NCBI Gene Name</td>\n",
       "      <td>NaN</td>\n",
       "      <td>NaN</td>\n",
       "      <td>BaderLab</td>\n",
       "      <td>Feb-14</td>\n",
       "    </tr>\n",
       "    <tr>\n",
       "      <th>4</th>\n",
       "      <td>COUP2</td>\n",
       "      <td>NCBI Gene Name</td>\n",
       "      <td>NaN</td>\n",
       "      <td>NaN</td>\n",
       "      <td>BaderLab</td>\n",
       "      <td>Feb-14</td>\n",
       "    </tr>\n",
       "    <tr>\n",
       "      <th>...</th>\n",
       "      <td>...</td>\n",
       "      <td>...</td>\n",
       "      <td>...</td>\n",
       "      <td>...</td>\n",
       "      <td>...</td>\n",
       "      <td>...</td>\n",
       "    </tr>\n",
       "    <tr>\n",
       "      <th>80229</th>\n",
       "      <td>KIT</td>\n",
       "      <td>Gene Symbol</td>\n",
       "      <td>hgnc:6342</td>\n",
       "      <td>KIT</td>\n",
       "      <td>Oncomine</td>\n",
       "      <td>v3</td>\n",
       "    </tr>\n",
       "    <tr>\n",
       "      <th>80230</th>\n",
       "      <td>HES1</td>\n",
       "      <td>Gene Name</td>\n",
       "      <td>hgnc:5192</td>\n",
       "      <td>HES1</td>\n",
       "      <td>NCI</td>\n",
       "      <td>14-Sep-17</td>\n",
       "    </tr>\n",
       "    <tr>\n",
       "      <th>80231</th>\n",
       "      <td>IRF1</td>\n",
       "      <td>Gene Symbol</td>\n",
       "      <td>hgnc:6116</td>\n",
       "      <td>IRF1</td>\n",
       "      <td>Tempus</td>\n",
       "      <td>11-Nov-18</td>\n",
       "    </tr>\n",
       "    <tr>\n",
       "      <th>80232</th>\n",
       "      <td>SHFM1</td>\n",
       "      <td>Gene Name</td>\n",
       "      <td>hgnc:10845</td>\n",
       "      <td>SEM1</td>\n",
       "      <td>DTC</td>\n",
       "      <td>9/2/20</td>\n",
       "    </tr>\n",
       "    <tr>\n",
       "      <th>80233</th>\n",
       "      <td>NEUROD1</td>\n",
       "      <td>Gene Name</td>\n",
       "      <td>hgnc:7762</td>\n",
       "      <td>NEUROD1</td>\n",
       "      <td>NCI</td>\n",
       "      <td>14-Sep-17</td>\n",
       "    </tr>\n",
       "  </tbody>\n",
       "</table>\n",
       "<p>80234 rows × 6 columns</p>\n",
       "</div>"
      ],
      "text/plain": [
       "      gene_claim_name    nomenclature  concept_id gene_name source_db_name  \\\n",
       "0              NGFIBA  NCBI Gene Name         NaN       NaN       BaderLab   \n",
       "1              NGFIBB  NCBI Gene Name         NaN       NaN       BaderLab   \n",
       "2                 DAX  NCBI Gene Name         NaN       NaN       BaderLab   \n",
       "3            REV-ERBA  NCBI Gene Name         NaN       NaN       BaderLab   \n",
       "4               COUP2  NCBI Gene Name         NaN       NaN       BaderLab   \n",
       "...               ...             ...         ...       ...            ...   \n",
       "80229             KIT     Gene Symbol   hgnc:6342       KIT       Oncomine   \n",
       "80230            HES1       Gene Name   hgnc:5192      HES1            NCI   \n",
       "80231            IRF1     Gene Symbol   hgnc:6116      IRF1         Tempus   \n",
       "80232           SHFM1       Gene Name  hgnc:10845      SEM1            DTC   \n",
       "80233         NEUROD1       Gene Name   hgnc:7762   NEUROD1            NCI   \n",
       "\n",
       "      source_db_version  \n",
       "0                Feb-14  \n",
       "1                Feb-14  \n",
       "2                Feb-14  \n",
       "3                Feb-14  \n",
       "4                Feb-14  \n",
       "...                 ...  \n",
       "80229                v3  \n",
       "80230         14-Sep-17  \n",
       "80231         11-Nov-18  \n",
       "80232            9/2/20  \n",
       "80233         14-Sep-17  \n",
       "\n",
       "[80234 rows x 6 columns]"
      ]
     },
     "execution_count": 165,
     "metadata": {},
     "output_type": "execute_result"
    }
   ],
   "source": [
    "dgidb_gene_df = pd.read_csv(\n",
    "    \"dgidb_genes_JUNE.tsv\", sep=\"\\t\", na_values=[\"\", \"NULL\"], keep_default_na=False\n",
    ")\n",
    "dgidb_gene_df"
   ]
  },
  {
   "cell_type": "code",
   "execution_count": 166,
   "metadata": {},
   "outputs": [],
   "source": [
    "num_total_claims = len(dgidb_gene_df)"
   ]
  },
  {
   "cell_type": "code",
   "execution_count": 167,
   "metadata": {},
   "outputs": [
    {
     "data": {
      "text/html": [
       "<div>\n",
       "<style scoped>\n",
       "    .dataframe tbody tr th:only-of-type {\n",
       "        vertical-align: middle;\n",
       "    }\n",
       "\n",
       "    .dataframe tbody tr th {\n",
       "        vertical-align: top;\n",
       "    }\n",
       "\n",
       "    .dataframe thead th {\n",
       "        text-align: right;\n",
       "    }\n",
       "</style>\n",
       "<table border=\"1\" class=\"dataframe\">\n",
       "  <thead>\n",
       "    <tr style=\"text-align: right;\">\n",
       "      <th></th>\n",
       "      <th>gene_claim_name</th>\n",
       "      <th>nomenclature</th>\n",
       "      <th>concept_id</th>\n",
       "      <th>gene_name</th>\n",
       "      <th>source_db_name</th>\n",
       "      <th>source_db_version</th>\n",
       "    </tr>\n",
       "  </thead>\n",
       "  <tbody>\n",
       "    <tr>\n",
       "      <th>30772</th>\n",
       "      <td>HES1</td>\n",
       "      <td>Gene Symbol</td>\n",
       "      <td>hgnc:5192</td>\n",
       "      <td>HES1</td>\n",
       "      <td>Pharos</td>\n",
       "      <td>10-Apr-24</td>\n",
       "    </tr>\n",
       "    <tr>\n",
       "      <th>76844</th>\n",
       "      <td>HES1</td>\n",
       "      <td>Gene Symbol</td>\n",
       "      <td>hgnc:5192</td>\n",
       "      <td>HES1</td>\n",
       "      <td>HGNC</td>\n",
       "      <td>20240408</td>\n",
       "    </tr>\n",
       "    <tr>\n",
       "      <th>76845</th>\n",
       "      <td>HES1</td>\n",
       "      <td>Gene Symbol</td>\n",
       "      <td>hgnc:5192</td>\n",
       "      <td>HES1</td>\n",
       "      <td>NCBI</td>\n",
       "      <td>20240410</td>\n",
       "    </tr>\n",
       "    <tr>\n",
       "      <th>76846</th>\n",
       "      <td>HES1</td>\n",
       "      <td>Gene Symbol</td>\n",
       "      <td>hgnc:5192</td>\n",
       "      <td>HES1</td>\n",
       "      <td>Ensembl</td>\n",
       "      <td>111</td>\n",
       "    </tr>\n",
       "    <tr>\n",
       "      <th>80230</th>\n",
       "      <td>HES1</td>\n",
       "      <td>Gene Name</td>\n",
       "      <td>hgnc:5192</td>\n",
       "      <td>HES1</td>\n",
       "      <td>NCI</td>\n",
       "      <td>14-Sep-17</td>\n",
       "    </tr>\n",
       "  </tbody>\n",
       "</table>\n",
       "</div>"
      ],
      "text/plain": [
       "      gene_claim_name nomenclature concept_id gene_name source_db_name  \\\n",
       "30772            HES1  Gene Symbol  hgnc:5192      HES1         Pharos   \n",
       "76844            HES1  Gene Symbol  hgnc:5192      HES1           HGNC   \n",
       "76845            HES1  Gene Symbol  hgnc:5192      HES1           NCBI   \n",
       "76846            HES1  Gene Symbol  hgnc:5192      HES1        Ensembl   \n",
       "80230            HES1    Gene Name  hgnc:5192      HES1            NCI   \n",
       "\n",
       "      source_db_version  \n",
       "30772         10-Apr-24  \n",
       "76844          20240408  \n",
       "76845          20240410  \n",
       "76846               111  \n",
       "80230         14-Sep-17  "
      ]
     },
     "execution_count": 167,
     "metadata": {},
     "output_type": "execute_result"
    }
   ],
   "source": [
    "dgidb_gene_df.loc[dgidb_gene_df[\"gene_claim_name\"] == \"HES1\"]"
   ]
  },
  {
   "cell_type": "markdown",
   "metadata": {},
   "source": [
    "#### <a id='toc1_1_2_2_'></a>[How many claims are placed in a gene group with a different label?](#toc0_)"
   ]
  },
  {
   "cell_type": "code",
   "execution_count": 168,
   "metadata": {},
   "outputs": [
    {
     "data": {
      "text/html": [
       "<div>\n",
       "<style scoped>\n",
       "    .dataframe tbody tr th:only-of-type {\n",
       "        vertical-align: middle;\n",
       "    }\n",
       "\n",
       "    .dataframe tbody tr th {\n",
       "        vertical-align: top;\n",
       "    }\n",
       "\n",
       "    .dataframe thead th {\n",
       "        text-align: right;\n",
       "    }\n",
       "</style>\n",
       "<table border=\"1\" class=\"dataframe\">\n",
       "  <thead>\n",
       "    <tr style=\"text-align: right;\">\n",
       "      <th></th>\n",
       "      <th>gene_claim_name</th>\n",
       "      <th>nomenclature</th>\n",
       "      <th>concept_id</th>\n",
       "      <th>gene_name</th>\n",
       "      <th>source_db_name</th>\n",
       "      <th>source_db_version</th>\n",
       "    </tr>\n",
       "  </thead>\n",
       "  <tbody>\n",
       "    <tr>\n",
       "      <th>0</th>\n",
       "      <td>NGFIBA</td>\n",
       "      <td>NCBI Gene Name</td>\n",
       "      <td>NaN</td>\n",
       "      <td>NaN</td>\n",
       "      <td>BaderLab</td>\n",
       "      <td>Feb-14</td>\n",
       "    </tr>\n",
       "    <tr>\n",
       "      <th>1</th>\n",
       "      <td>NGFIBB</td>\n",
       "      <td>NCBI Gene Name</td>\n",
       "      <td>NaN</td>\n",
       "      <td>NaN</td>\n",
       "      <td>BaderLab</td>\n",
       "      <td>Feb-14</td>\n",
       "    </tr>\n",
       "    <tr>\n",
       "      <th>2</th>\n",
       "      <td>DAX</td>\n",
       "      <td>NCBI Gene Name</td>\n",
       "      <td>NaN</td>\n",
       "      <td>NaN</td>\n",
       "      <td>BaderLab</td>\n",
       "      <td>Feb-14</td>\n",
       "    </tr>\n",
       "    <tr>\n",
       "      <th>3</th>\n",
       "      <td>REV-ERBA</td>\n",
       "      <td>NCBI Gene Name</td>\n",
       "      <td>NaN</td>\n",
       "      <td>NaN</td>\n",
       "      <td>BaderLab</td>\n",
       "      <td>Feb-14</td>\n",
       "    </tr>\n",
       "    <tr>\n",
       "      <th>4</th>\n",
       "      <td>COUP2</td>\n",
       "      <td>NCBI Gene Name</td>\n",
       "      <td>NaN</td>\n",
       "      <td>NaN</td>\n",
       "      <td>BaderLab</td>\n",
       "      <td>Feb-14</td>\n",
       "    </tr>\n",
       "    <tr>\n",
       "      <th>...</th>\n",
       "      <td>...</td>\n",
       "      <td>...</td>\n",
       "      <td>...</td>\n",
       "      <td>...</td>\n",
       "      <td>...</td>\n",
       "      <td>...</td>\n",
       "    </tr>\n",
       "    <tr>\n",
       "      <th>79999</th>\n",
       "      <td>SEPT5</td>\n",
       "      <td>Gene Symbol</td>\n",
       "      <td>hgnc:9164</td>\n",
       "      <td>SEPTIN5</td>\n",
       "      <td>FoundationOneGenes</td>\n",
       "      <td>9/3/20</td>\n",
       "    </tr>\n",
       "    <tr>\n",
       "      <th>80014</th>\n",
       "      <td>ENSEMBL:ENSG00000185821</td>\n",
       "      <td>Ensembl Gene ID</td>\n",
       "      <td>hgnc:31305</td>\n",
       "      <td>OR6C76</td>\n",
       "      <td>RussLampel</td>\n",
       "      <td>26-Jul-11</td>\n",
       "    </tr>\n",
       "    <tr>\n",
       "      <th>80053</th>\n",
       "      <td>SEPT5</td>\n",
       "      <td>Gene Symbol</td>\n",
       "      <td>hgnc:9164</td>\n",
       "      <td>SEPTIN5</td>\n",
       "      <td>CarisMolecularIntelligence</td>\n",
       "      <td>9/4/20</td>\n",
       "    </tr>\n",
       "    <tr>\n",
       "      <th>80166</th>\n",
       "      <td>SEPT6</td>\n",
       "      <td>Gene Symbol</td>\n",
       "      <td>hgnc:15848</td>\n",
       "      <td>SEPTIN6</td>\n",
       "      <td>CarisMolecularIntelligence</td>\n",
       "      <td>9/4/20</td>\n",
       "    </tr>\n",
       "    <tr>\n",
       "      <th>80232</th>\n",
       "      <td>SHFM1</td>\n",
       "      <td>Gene Name</td>\n",
       "      <td>hgnc:10845</td>\n",
       "      <td>SEM1</td>\n",
       "      <td>DTC</td>\n",
       "      <td>9/2/20</td>\n",
       "    </tr>\n",
       "  </tbody>\n",
       "</table>\n",
       "<p>16052 rows × 6 columns</p>\n",
       "</div>"
      ],
      "text/plain": [
       "               gene_claim_name     nomenclature  concept_id gene_name  \\\n",
       "0                       NGFIBA   NCBI Gene Name         NaN       NaN   \n",
       "1                       NGFIBB   NCBI Gene Name         NaN       NaN   \n",
       "2                          DAX   NCBI Gene Name         NaN       NaN   \n",
       "3                     REV-ERBA   NCBI Gene Name         NaN       NaN   \n",
       "4                        COUP2   NCBI Gene Name         NaN       NaN   \n",
       "...                        ...              ...         ...       ...   \n",
       "79999                    SEPT5      Gene Symbol   hgnc:9164   SEPTIN5   \n",
       "80014  ENSEMBL:ENSG00000185821  Ensembl Gene ID  hgnc:31305    OR6C76   \n",
       "80053                    SEPT5      Gene Symbol   hgnc:9164   SEPTIN5   \n",
       "80166                    SEPT6      Gene Symbol  hgnc:15848   SEPTIN6   \n",
       "80232                    SHFM1        Gene Name  hgnc:10845      SEM1   \n",
       "\n",
       "                   source_db_name source_db_version  \n",
       "0                        BaderLab            Feb-14  \n",
       "1                        BaderLab            Feb-14  \n",
       "2                        BaderLab            Feb-14  \n",
       "3                        BaderLab            Feb-14  \n",
       "4                        BaderLab            Feb-14  \n",
       "...                           ...               ...  \n",
       "79999          FoundationOneGenes            9/3/20  \n",
       "80014                  RussLampel         26-Jul-11  \n",
       "80053  CarisMolecularIntelligence            9/4/20  \n",
       "80166  CarisMolecularIntelligence            9/4/20  \n",
       "80232                         DTC            9/2/20  \n",
       "\n",
       "[16052 rows x 6 columns]"
      ]
     },
     "execution_count": 168,
     "metadata": {},
     "output_type": "execute_result"
    }
   ],
   "source": [
    "dgidb_gene_df.query(\"gene_name != gene_claim_name\")"
   ]
  },
  {
   "cell_type": "markdown",
   "metadata": {},
   "source": [
    "#### <a id='toc1_1_2_3_'></a>[How many claims are not normalized?](#toc0_)"
   ]
  },
  {
   "cell_type": "markdown",
   "metadata": {},
   "source": [
    "claims without a symbol/name/identifier\n",
    " (there shouldn't be any hooray)"
   ]
  },
  {
   "cell_type": "code",
   "execution_count": 169,
   "metadata": {},
   "outputs": [
    {
     "data": {
      "text/html": [
       "<div>\n",
       "<style scoped>\n",
       "    .dataframe tbody tr th:only-of-type {\n",
       "        vertical-align: middle;\n",
       "    }\n",
       "\n",
       "    .dataframe tbody tr th {\n",
       "        vertical-align: top;\n",
       "    }\n",
       "\n",
       "    .dataframe thead th {\n",
       "        text-align: right;\n",
       "    }\n",
       "</style>\n",
       "<table border=\"1\" class=\"dataframe\">\n",
       "  <thead>\n",
       "    <tr style=\"text-align: right;\">\n",
       "      <th></th>\n",
       "      <th>gene_claim_name</th>\n",
       "      <th>nomenclature</th>\n",
       "      <th>concept_id</th>\n",
       "      <th>gene_name</th>\n",
       "      <th>source_db_name</th>\n",
       "      <th>source_db_version</th>\n",
       "    </tr>\n",
       "  </thead>\n",
       "  <tbody>\n",
       "  </tbody>\n",
       "</table>\n",
       "</div>"
      ],
      "text/plain": [
       "Empty DataFrame\n",
       "Columns: [gene_claim_name, nomenclature, concept_id, gene_name, source_db_name, source_db_version]\n",
       "Index: []"
      ]
     },
     "execution_count": 169,
     "metadata": {},
     "output_type": "execute_result"
    }
   ],
   "source": [
    "no_claim_symbols_df = dgidb_gene_df[dgidb_gene_df[\"gene_claim_name\"].isnull()]\n",
    "no_claim_symbols_df"
   ]
  },
  {
   "cell_type": "code",
   "execution_count": 170,
   "metadata": {},
   "outputs": [
    {
     "data": {
      "text/plain": [
       "2144"
      ]
     },
     "execution_count": 170,
     "metadata": {},
     "output_type": "execute_result"
    }
   ],
   "source": [
    "no_name_symbols_df = dgidb_gene_df[dgidb_gene_df[\"gene_name\"].isnull()]\n",
    "num_not_normalized_claims = len(no_name_symbols_df)\n",
    "num_not_normalized_claims"
   ]
  },
  {
   "cell_type": "code",
   "execution_count": 171,
   "metadata": {},
   "outputs": [],
   "source": [
    "num_normalized_claims = num_total_claims - num_not_normalized_claims"
   ]
  },
  {
   "cell_type": "markdown",
   "metadata": {},
   "source": [
    "#### <a id='toc1_1_2_4_'></a>[Create set of gene groups (gene_name) and gene claims (gene_claim_name)](#toc0_)"
   ]
  },
  {
   "cell_type": "code",
   "execution_count": 172,
   "metadata": {},
   "outputs": [
    {
     "data": {
      "text/plain": [
       "12001"
      ]
     },
     "execution_count": 172,
     "metadata": {},
     "output_type": "execute_result"
    }
   ],
   "source": [
    "dgidb_name_set = set(dgidb_gene_df[\"gene_name\"])\n",
    "len(dgidb_name_set)"
   ]
  },
  {
   "cell_type": "code",
   "execution_count": 173,
   "metadata": {},
   "outputs": [
    {
     "data": {
      "text/plain": [
       "26739"
      ]
     },
     "execution_count": 173,
     "metadata": {},
     "output_type": "execute_result"
    }
   ],
   "source": [
    "dgidb_gene_claim_name_set = set(dgidb_gene_df[\"gene_claim_name\"])\n",
    "len(dgidb_gene_claim_name_set)"
   ]
  },
  {
   "cell_type": "markdown",
   "metadata": {},
   "source": [
    "#### <a id='toc1_1_2_5_'></a>[Load HGNC, Ensembl (ENSG), and NCBI gene and alias sets](#toc0_)"
   ]
  },
  {
   "cell_type": "markdown",
   "metadata": {},
   "source": [
    "Input: mini_hgnc_df, mini_ensg_df, mini_ncbi_df (total_alias_gene_intersections.ipynb)"
   ]
  },
  {
   "cell_type": "markdown",
   "metadata": {},
   "source": [
    "Output: x_gene_symbol_set, x_alias_symbol_set where x is ncbi, ensg or ncbi"
   ]
  },
  {
   "cell_type": "code",
   "execution_count": 174,
   "metadata": {},
   "outputs": [],
   "source": [
    "mini_hgnc_df = pd.read_csv(\n",
    "    \"Downloaded_files/mini_hgnc_df.csv\", na_values=[\"\", \"NULL\"], keep_default_na=False\n",
    ")"
   ]
  },
  {
   "cell_type": "code",
   "execution_count": 175,
   "metadata": {},
   "outputs": [],
   "source": [
    "mini_ensg_df = pd.read_csv(\n",
    "    \"Downloaded_files/mini_ensg_df.csv\", na_values=[\"\", \"NULL\"], keep_default_na=False\n",
    ")"
   ]
  },
  {
   "cell_type": "code",
   "execution_count": 176,
   "metadata": {},
   "outputs": [],
   "source": [
    "mini_ncbi_df = pd.read_csv(\n",
    "    \"Downloaded_files/mini_ncbi_df.csv\", na_values=[\"\", \"NULL\"], keep_default_na=False\n",
    ")"
   ]
  },
  {
   "cell_type": "code",
   "execution_count": 177,
   "metadata": {},
   "outputs": [
    {
     "data": {
      "text/plain": [
       "45646"
      ]
     },
     "execution_count": 177,
     "metadata": {},
     "output_type": "execute_result"
    }
   ],
   "source": [
    "hgnc_gene_symbol_set = set(mini_hgnc_df[\"gene_symbol\"])\n",
    "len(hgnc_gene_symbol_set)"
   ]
  },
  {
   "cell_type": "code",
   "execution_count": 178,
   "metadata": {},
   "outputs": [
    {
     "data": {
      "text/plain": [
       "41068"
      ]
     },
     "execution_count": 178,
     "metadata": {},
     "output_type": "execute_result"
    }
   ],
   "source": [
    "ensg_gene_symbol_set = set(mini_ensg_df[\"gene_symbol\"])\n",
    "len(ensg_gene_symbol_set)"
   ]
  },
  {
   "cell_type": "code",
   "execution_count": 179,
   "metadata": {},
   "outputs": [
    {
     "data": {
      "text/plain": [
       "193303"
      ]
     },
     "execution_count": 179,
     "metadata": {},
     "output_type": "execute_result"
    }
   ],
   "source": [
    "ncbi_gene_symbol_set = set(mini_ncbi_df[\"gene_symbol\"])\n",
    "len(ncbi_gene_symbol_set)"
   ]
  },
  {
   "cell_type": "code",
   "execution_count": 180,
   "metadata": {},
   "outputs": [
    {
     "data": {
      "text/plain": [
       "22583"
      ]
     },
     "execution_count": 180,
     "metadata": {},
     "output_type": "execute_result"
    }
   ],
   "source": [
    "hgnc_alias_symbol_set = set(mini_hgnc_df[\"alias_symbol\"])\n",
    "len(hgnc_alias_symbol_set)"
   ]
  },
  {
   "cell_type": "code",
   "execution_count": 181,
   "metadata": {},
   "outputs": [
    {
     "data": {
      "text/plain": [
       "24717"
      ]
     },
     "execution_count": 181,
     "metadata": {},
     "output_type": "execute_result"
    }
   ],
   "source": [
    "ensg_alias_symbol_set = set(mini_ensg_df[\"alias_symbol\"])\n",
    "len(ensg_alias_symbol_set)"
   ]
  },
  {
   "cell_type": "code",
   "execution_count": 182,
   "metadata": {},
   "outputs": [
    {
     "data": {
      "text/plain": [
       "27486"
      ]
     },
     "execution_count": 182,
     "metadata": {},
     "output_type": "execute_result"
    }
   ],
   "source": [
    "ncbi_alias_symbol_set = set(mini_ncbi_df[\"alias_symbol\"])\n",
    "len(ncbi_alias_symbol_set)"
   ]
  },
  {
   "cell_type": "markdown",
   "metadata": {},
   "source": [
    "#### <a id='toc1_1_2_6_'></a>[How many unique primary gene symbols are there b/w HGNC, Ensembl, and NCBI?](#toc0_)"
   ]
  },
  {
   "cell_type": "code",
   "execution_count": 183,
   "metadata": {},
   "outputs": [],
   "source": [
    "hgnc_ensg_gene_symbol_set = hgnc_gene_symbol_set.union(ensg_gene_symbol_set)"
   ]
  },
  {
   "cell_type": "code",
   "execution_count": 184,
   "metadata": {},
   "outputs": [
    {
     "data": {
      "text/plain": [
       "194866"
      ]
     },
     "execution_count": 184,
     "metadata": {},
     "output_type": "execute_result"
    }
   ],
   "source": [
    "hgnc_ensg_ncbi_gene_symbol_set = hgnc_ensg_gene_symbol_set.union(ncbi_gene_symbol_set)\n",
    "len(hgnc_ensg_ncbi_gene_symbol_set)"
   ]
  },
  {
   "cell_type": "markdown",
   "metadata": {},
   "source": [
    "#### <a id='toc1_1_2_7_'></a>[How many unique alias symbols are there b/w HGNC, Ensembl, and NCBI?](#toc0_)"
   ]
  },
  {
   "cell_type": "code",
   "execution_count": 185,
   "metadata": {},
   "outputs": [],
   "source": [
    "hgnc_ensg_alias_symbol_set = hgnc_alias_symbol_set.union(ensg_alias_symbol_set)"
   ]
  },
  {
   "cell_type": "code",
   "execution_count": 186,
   "metadata": {},
   "outputs": [
    {
     "data": {
      "text/plain": [
       "63935"
      ]
     },
     "execution_count": 186,
     "metadata": {},
     "output_type": "execute_result"
    }
   ],
   "source": [
    "hgnc_ensg_ncbi_alias_symbol_set = hgnc_ensg_alias_symbol_set.union(\n",
    "    ncbi_alias_symbol_set\n",
    ")\n",
    "len(hgnc_ensg_ncbi_alias_symbol_set)"
   ]
  },
  {
   "cell_type": "markdown",
   "metadata": {},
   "source": [
    "#### <a id='toc1_1_2_8_'></a>[How many unique group names are not primary gene symbols?](#toc0_)"
   ]
  },
  {
   "cell_type": "code",
   "execution_count": 187,
   "metadata": {},
   "outputs": [
    {
     "data": {
      "text/plain": [
       "298"
      ]
     },
     "execution_count": 187,
     "metadata": {},
     "output_type": "execute_result"
    }
   ],
   "source": [
    "name_ensg_notmatch = dgidb_name_set.difference(ensg_gene_symbol_set)\n",
    "len(name_ensg_notmatch)"
   ]
  },
  {
   "cell_type": "code",
   "execution_count": 188,
   "metadata": {},
   "outputs": [
    {
     "data": {
      "text/plain": [
       "25"
      ]
     },
     "execution_count": 188,
     "metadata": {},
     "output_type": "execute_result"
    }
   ],
   "source": [
    "name_hgnc_notmatch = dgidb_name_set.difference(hgnc_gene_symbol_set)\n",
    "len(name_hgnc_notmatch)"
   ]
  },
  {
   "cell_type": "code",
   "execution_count": 189,
   "metadata": {},
   "outputs": [
    {
     "data": {
      "text/plain": [
       "25"
      ]
     },
     "execution_count": 189,
     "metadata": {},
     "output_type": "execute_result"
    }
   ],
   "source": [
    "cleaned_name_hgnc_notmatch = [x for x in name_hgnc_notmatch if str(x) != \"NaN\"]\n",
    "len(cleaned_name_hgnc_notmatch)"
   ]
  },
  {
   "cell_type": "code",
   "execution_count": 190,
   "metadata": {},
   "outputs": [
    {
     "data": {
      "text/plain": [
       "97"
      ]
     },
     "execution_count": 190,
     "metadata": {},
     "output_type": "execute_result"
    }
   ],
   "source": [
    "name_ncbi_notmatch = dgidb_name_set.difference(ncbi_gene_symbol_set)\n",
    "len(name_ncbi_notmatch)"
   ]
  },
  {
   "cell_type": "code",
   "execution_count": 191,
   "metadata": {},
   "outputs": [
    {
     "data": {
      "text/plain": [
       "9"
      ]
     },
     "execution_count": 191,
     "metadata": {},
     "output_type": "execute_result"
    }
   ],
   "source": [
    "name_ncbi_hgnc_notmatch = name_ncbi_notmatch.difference(hgnc_gene_symbol_set)\n",
    "len(name_ncbi_hgnc_notmatch)"
   ]
  },
  {
   "cell_type": "markdown",
   "metadata": {},
   "source": [
    "How many groups are labeled with a symbol not found in the sets of primary symbols from HGNC, NCBI, or ENSG?"
   ]
  },
  {
   "cell_type": "code",
   "execution_count": 192,
   "metadata": {},
   "outputs": [
    {
     "data": {
      "text/plain": [
       "8"
      ]
     },
     "execution_count": 192,
     "metadata": {},
     "output_type": "execute_result"
    }
   ],
   "source": [
    "name_ncbi_hgnc_ensg_notmatch = name_ncbi_hgnc_notmatch.difference(ensg_gene_symbol_set)\n",
    "len(name_ncbi_hgnc_ensg_notmatch)"
   ]
  },
  {
   "cell_type": "code",
   "execution_count": 193,
   "metadata": {},
   "outputs": [
    {
     "data": {
      "text/plain": [
       "12001"
      ]
     },
     "execution_count": 193,
     "metadata": {},
     "output_type": "execute_result"
    }
   ],
   "source": [
    "len(dgidb_name_set)"
   ]
  },
  {
   "cell_type": "markdown",
   "metadata": {},
   "source": [
    "#### <a id='toc1_1_2_9_'></a>[How many unique claims are not primary gene symbols?](#toc0_)"
   ]
  },
  {
   "cell_type": "code",
   "execution_count": 194,
   "metadata": {},
   "outputs": [
    {
     "data": {
      "text/plain": [
       "15029"
      ]
     },
     "execution_count": 194,
     "metadata": {},
     "output_type": "execute_result"
    }
   ],
   "source": [
    "gene_claim_name_ensg_notmatch = dgidb_gene_claim_name_set.difference(\n",
    "    ensg_gene_symbol_set\n",
    ")\n",
    "len(gene_claim_name_ensg_notmatch)"
   ]
  },
  {
   "cell_type": "code",
   "execution_count": 195,
   "metadata": {},
   "outputs": [
    {
     "data": {
      "text/plain": [
       "15029"
      ]
     },
     "execution_count": 195,
     "metadata": {},
     "output_type": "execute_result"
    }
   ],
   "source": [
    "cleaned_gene_claim_name_ensg_notmatch = [\n",
    "    x for x in gene_claim_name_ensg_notmatch if str(x) != \"NaN\"\n",
    "]\n",
    "len(cleaned_gene_claim_name_ensg_notmatch)"
   ]
  },
  {
   "cell_type": "code",
   "execution_count": 196,
   "metadata": {},
   "outputs": [
    {
     "data": {
      "text/plain": [
       "14755"
      ]
     },
     "execution_count": 196,
     "metadata": {},
     "output_type": "execute_result"
    }
   ],
   "source": [
    "gene_claim_name_hgnc_notmatch = dgidb_gene_claim_name_set.difference(\n",
    "    hgnc_gene_symbol_set\n",
    ")\n",
    "len(gene_claim_name_hgnc_notmatch)"
   ]
  },
  {
   "cell_type": "code",
   "execution_count": 197,
   "metadata": {},
   "outputs": [
    {
     "data": {
      "text/plain": [
       "14828"
      ]
     },
     "execution_count": 197,
     "metadata": {},
     "output_type": "execute_result"
    }
   ],
   "source": [
    "gene_claim_name_ncbi_notmatch = dgidb_gene_claim_name_set.difference(\n",
    "    ncbi_gene_symbol_set\n",
    ")\n",
    "len(gene_claim_name_ncbi_notmatch)"
   ]
  },
  {
   "cell_type": "code",
   "execution_count": 198,
   "metadata": {},
   "outputs": [
    {
     "data": {
      "text/plain": [
       "14738"
      ]
     },
     "execution_count": 198,
     "metadata": {},
     "output_type": "execute_result"
    }
   ],
   "source": [
    "gene_claim_name_ncbi_hngc_notmatch = gene_claim_name_ncbi_notmatch.difference(\n",
    "    hgnc_gene_symbol_set\n",
    ")\n",
    "len(gene_claim_name_ncbi_hngc_notmatch)"
   ]
  },
  {
   "cell_type": "markdown",
   "metadata": {},
   "source": [
    "How many unique claims are not primary symbols"
   ]
  },
  {
   "cell_type": "code",
   "execution_count": 199,
   "metadata": {},
   "outputs": [
    {
     "data": {
      "text/plain": [
       "14735"
      ]
     },
     "execution_count": 199,
     "metadata": {},
     "output_type": "execute_result"
    }
   ],
   "source": [
    "gene_claim_name_ncbi_hngc_ensg_notmatch = gene_claim_name_ncbi_hngc_notmatch.difference(\n",
    "    ensg_gene_symbol_set\n",
    ")\n",
    "num_not_primary_claims = len(gene_claim_name_ncbi_hngc_ensg_notmatch)\n",
    "num_not_primary_claims"
   ]
  },
  {
   "cell_type": "markdown",
   "metadata": {},
   "source": [
    "#### <a id='toc1_1_2_10_'></a>[Load the collision sets from each data source](#toc0_)"
   ]
  },
  {
   "cell_type": "markdown",
   "metadata": {},
   "source": [
    "Input: aa_collision_x_df.csv (total_alis_overlap.ipynb)"
   ]
  },
  {
   "cell_type": "markdown",
   "metadata": {},
   "source": [
    "Output: x_alias_alias_collision_set"
   ]
  },
  {
   "cell_type": "code",
   "execution_count": 200,
   "metadata": {},
   "outputs": [],
   "source": [
    "aa_collision_hgnc_df = pd.read_csv(\n",
    "    \"created_files/aa_collision_hgnc_df.csv\",\n",
    "    na_values=[\"\", \"NULL\"],\n",
    "    keep_default_na=False,\n",
    ")"
   ]
  },
  {
   "cell_type": "code",
   "execution_count": 201,
   "metadata": {},
   "outputs": [
    {
     "data": {
      "text/plain": [
       "673"
      ]
     },
     "execution_count": 201,
     "metadata": {},
     "output_type": "execute_result"
    }
   ],
   "source": [
    "hgnc_alias_alias_collision_set = set(aa_collision_hgnc_df[\"alias_symbol\"])\n",
    "len(hgnc_alias_alias_collision_set)"
   ]
  },
  {
   "cell_type": "code",
   "execution_count": 202,
   "metadata": {},
   "outputs": [],
   "source": [
    "aa_collision_ncbi_df = pd.read_csv(\n",
    "    \"created_files/aa_collision_ncbi_df.csv\",\n",
    "    na_values=[\"\", \"NULL\"],\n",
    "    keep_default_na=False,\n",
    ")"
   ]
  },
  {
   "cell_type": "code",
   "execution_count": 203,
   "metadata": {},
   "outputs": [
    {
     "data": {
      "text/plain": [
       "3476"
      ]
     },
     "execution_count": 203,
     "metadata": {},
     "output_type": "execute_result"
    }
   ],
   "source": [
    "ncbi_alias_alias_collision_set = set(aa_collision_ncbi_df[\"alias_symbol\"])\n",
    "len(ncbi_alias_alias_collision_set)"
   ]
  },
  {
   "cell_type": "code",
   "execution_count": 204,
   "metadata": {},
   "outputs": [],
   "source": [
    "aa_collision_ensg_df = pd.read_csv(\n",
    "    \"created_files/aa_collision_ensg_df.csv\",\n",
    "    na_values=[\"\", \"NULL\"],\n",
    "    keep_default_na=False,\n",
    ")"
   ]
  },
  {
   "cell_type": "code",
   "execution_count": 205,
   "metadata": {},
   "outputs": [
    {
     "data": {
      "text/plain": [
       "1149"
      ]
     },
     "execution_count": 205,
     "metadata": {},
     "output_type": "execute_result"
    }
   ],
   "source": [
    "ensg_alias_alias_collision_set = set(aa_collision_ensg_df[\"alias_symbol\"])\n",
    "len(ensg_alias_alias_collision_set)"
   ]
  },
  {
   "cell_type": "markdown",
   "metadata": {},
   "source": [
    "#### <a id='toc1_1_2_11_'></a>[How many unique group names are primary gene symbols?](#toc0_)"
   ]
  },
  {
   "cell_type": "code",
   "execution_count": 206,
   "metadata": {},
   "outputs": [
    {
     "data": {
      "text/plain": [
       "11976"
      ]
     },
     "execution_count": 206,
     "metadata": {},
     "output_type": "execute_result"
    }
   ],
   "source": [
    "name_hgnc_match = dgidb_name_set.intersection(hgnc_gene_symbol_set)\n",
    "len(name_hgnc_match)"
   ]
  },
  {
   "cell_type": "code",
   "execution_count": 207,
   "metadata": {},
   "outputs": [
    {
     "data": {
      "text/plain": [
       "11703"
      ]
     },
     "execution_count": 207,
     "metadata": {},
     "output_type": "execute_result"
    }
   ],
   "source": [
    "name_ensg_match = dgidb_name_set.intersection(ensg_gene_symbol_set)\n",
    "len(name_ensg_match)"
   ]
  },
  {
   "cell_type": "code",
   "execution_count": 208,
   "metadata": {},
   "outputs": [
    {
     "data": {
      "text/plain": [
       "11904"
      ]
     },
     "execution_count": 208,
     "metadata": {},
     "output_type": "execute_result"
    }
   ],
   "source": [
    "name_ncbi_match = dgidb_name_set.intersection(ncbi_gene_symbol_set)\n",
    "len(name_ncbi_match)"
   ]
  },
  {
   "cell_type": "code",
   "execution_count": 209,
   "metadata": {},
   "outputs": [
    {
     "data": {
      "text/plain": [
       "11685"
      ]
     },
     "execution_count": 209,
     "metadata": {},
     "output_type": "execute_result"
    }
   ],
   "source": [
    "name_ncbi_ensg_match = name_ncbi_match.intersection(ensg_gene_symbol_set)\n",
    "len(name_ncbi_ensg_match)"
   ]
  },
  {
   "cell_type": "code",
   "execution_count": 210,
   "metadata": {},
   "outputs": [
    {
     "data": {
      "text/plain": [
       "11684"
      ]
     },
     "execution_count": 210,
     "metadata": {},
     "output_type": "execute_result"
    }
   ],
   "source": [
    "name_ncbi_ensg_hgnc_match = name_ncbi_ensg_match.intersection(hgnc_gene_symbol_set)\n",
    "len(name_ncbi_ensg_hgnc_match)"
   ]
  },
  {
   "cell_type": "markdown",
   "metadata": {},
   "source": [
    "#### <a id='toc1_1_2_12_'></a>[How many of the groups that are labeled with a primary gene symbol are also alias-alias collisions?](#toc0_)"
   ]
  },
  {
   "cell_type": "code",
   "execution_count": 211,
   "metadata": {},
   "outputs": [
    {
     "data": {
      "text/plain": [
       "124"
      ]
     },
     "execution_count": 211,
     "metadata": {},
     "output_type": "execute_result"
    }
   ],
   "source": [
    "name_ncbi_match_aacollision = name_ncbi_match.intersection(\n",
    "    ncbi_alias_alias_collision_set\n",
    ")\n",
    "len(name_ncbi_match_aacollision)"
   ]
  },
  {
   "cell_type": "code",
   "execution_count": 212,
   "metadata": {},
   "outputs": [
    {
     "data": {
      "text/plain": [
       "8"
      ]
     },
     "execution_count": 212,
     "metadata": {},
     "output_type": "execute_result"
    }
   ],
   "source": [
    "name_ensg_match_aacollision = name_ensg_match.intersection(\n",
    "    ensg_alias_alias_collision_set\n",
    ")\n",
    "len(name_ensg_match_aacollision)"
   ]
  },
  {
   "cell_type": "code",
   "execution_count": 213,
   "metadata": {},
   "outputs": [
    {
     "data": {
      "text/plain": [
       "1"
      ]
     },
     "execution_count": 213,
     "metadata": {},
     "output_type": "execute_result"
    }
   ],
   "source": [
    "name_ensg_notmatch_aacollision = name_ensg_notmatch.intersection(\n",
    "    ensg_alias_alias_collision_set\n",
    ")\n",
    "len(name_ensg_notmatch_aacollision)"
   ]
  },
  {
   "cell_type": "markdown",
   "metadata": {},
   "source": [
    "#### <a id='toc1_1_2_13_'></a>[How many unique claim symbols are collisions?](#toc0_)"
   ]
  },
  {
   "cell_type": "code",
   "execution_count": 214,
   "metadata": {},
   "outputs": [
    {
     "data": {
      "text/plain": [
       "23"
      ]
     },
     "execution_count": 214,
     "metadata": {},
     "output_type": "execute_result"
    }
   ],
   "source": [
    "gene_claim_name_ensg_aacollision_match = dgidb_gene_claim_name_set.intersection(\n",
    "    ensg_alias_alias_collision_set\n",
    ")\n",
    "len(gene_claim_name_ensg_aacollision_match)"
   ]
  },
  {
   "cell_type": "code",
   "execution_count": 215,
   "metadata": {},
   "outputs": [
    {
     "data": {
      "text/plain": [
       "21"
      ]
     },
     "execution_count": 215,
     "metadata": {},
     "output_type": "execute_result"
    }
   ],
   "source": [
    "gene_claim_name_hgnc_aacollision_match = dgidb_gene_claim_name_set.intersection(\n",
    "    hgnc_alias_alias_collision_set\n",
    ")\n",
    "len(gene_claim_name_hgnc_aacollision_match)"
   ]
  },
  {
   "cell_type": "code",
   "execution_count": 216,
   "metadata": {},
   "outputs": [
    {
     "data": {
      "text/plain": [
       "221"
      ]
     },
     "execution_count": 216,
     "metadata": {},
     "output_type": "execute_result"
    }
   ],
   "source": [
    "gene_claim_name_ncbi_aacollision_match = dgidb_gene_claim_name_set.intersection(\n",
    "    ncbi_alias_alias_collision_set\n",
    ")\n",
    "len(gene_claim_name_ncbi_aacollision_match)"
   ]
  },
  {
   "cell_type": "markdown",
   "metadata": {},
   "source": [
    "#### <a id='toc1_1_2_14_'></a>[How many unique groups are labeled with collisions?](#toc0_)"
   ]
  },
  {
   "cell_type": "code",
   "execution_count": 217,
   "metadata": {},
   "outputs": [
    {
     "data": {
      "text/plain": [
       "9"
      ]
     },
     "execution_count": 217,
     "metadata": {},
     "output_type": "execute_result"
    }
   ],
   "source": [
    "name_ensg_aacollision_match = dgidb_name_set.intersection(\n",
    "    ensg_alias_alias_collision_set\n",
    ")\n",
    "len(name_ensg_aacollision_match)"
   ]
  },
  {
   "cell_type": "code",
   "execution_count": 218,
   "metadata": {},
   "outputs": [
    {
     "data": {
      "text/plain": [
       "8"
      ]
     },
     "execution_count": 218,
     "metadata": {},
     "output_type": "execute_result"
    }
   ],
   "source": [
    "name_hgnc_aacollision_match = dgidb_name_set.intersection(\n",
    "    hgnc_alias_alias_collision_set\n",
    ")\n",
    "len(name_hgnc_aacollision_match)"
   ]
  },
  {
   "cell_type": "code",
   "execution_count": 219,
   "metadata": {},
   "outputs": [
    {
     "data": {
      "text/plain": [
       "126"
      ]
     },
     "execution_count": 219,
     "metadata": {},
     "output_type": "execute_result"
    }
   ],
   "source": [
    "name_ncbi_aacollision_match = dgidb_name_set.intersection(\n",
    "    ncbi_alias_alias_collision_set\n",
    ")\n",
    "len(name_ncbi_aacollision_match)"
   ]
  },
  {
   "cell_type": "markdown",
   "metadata": {},
   "source": [
    "#### <a id='toc1_1_2_15_'></a>[How many unique claims are not primary gene symbols?](#toc0_)"
   ]
  },
  {
   "cell_type": "code",
   "execution_count": 220,
   "metadata": {},
   "outputs": [
    {
     "data": {
      "text/plain": [
       "14755"
      ]
     },
     "execution_count": 220,
     "metadata": {},
     "output_type": "execute_result"
    }
   ],
   "source": [
    "gene_claim_name_hgnc_notmatch = dgidb_gene_claim_name_set.difference(\n",
    "    hgnc_gene_symbol_set\n",
    ")\n",
    "len(gene_claim_name_hgnc_notmatch)"
   ]
  },
  {
   "cell_type": "code",
   "execution_count": 221,
   "metadata": {},
   "outputs": [
    {
     "data": {
      "text/plain": [
       "15029"
      ]
     },
     "execution_count": 221,
     "metadata": {},
     "output_type": "execute_result"
    }
   ],
   "source": [
    "gene_claim_name_ensg_notmatch = dgidb_gene_claim_name_set.difference(\n",
    "    ensg_gene_symbol_set\n",
    ")\n",
    "len(gene_claim_name_ensg_notmatch)"
   ]
  },
  {
   "cell_type": "code",
   "execution_count": 222,
   "metadata": {},
   "outputs": [
    {
     "data": {
      "text/plain": [
       "14828"
      ]
     },
     "execution_count": 222,
     "metadata": {},
     "output_type": "execute_result"
    }
   ],
   "source": [
    "gene_claim_name_ncbi_notmatch = dgidb_gene_claim_name_set.difference(\n",
    "    ncbi_gene_symbol_set\n",
    ")\n",
    "len(gene_claim_name_ncbi_notmatch)"
   ]
  },
  {
   "cell_type": "markdown",
   "metadata": {},
   "source": [
    "#### <a id='toc1_1_2_16_'></a>[How many unique claims that were not primary symbols are collisions?](#toc0_)"
   ]
  },
  {
   "cell_type": "code",
   "execution_count": 223,
   "metadata": {},
   "outputs": [
    {
     "data": {
      "text/plain": [
       "13"
      ]
     },
     "execution_count": 223,
     "metadata": {},
     "output_type": "execute_result"
    }
   ],
   "source": [
    "gene_claim_name_hgnc_notmatch_aacollision = gene_claim_name_hgnc_notmatch.intersection(\n",
    "    hgnc_alias_alias_collision_set\n",
    ")\n",
    "len(gene_claim_name_hgnc_notmatch_aacollision)"
   ]
  },
  {
   "cell_type": "code",
   "execution_count": 224,
   "metadata": {},
   "outputs": [
    {
     "data": {
      "text/plain": [
       "97"
      ]
     },
     "execution_count": 224,
     "metadata": {},
     "output_type": "execute_result"
    }
   ],
   "source": [
    "gene_claim_name_ncbi_notmatch_aacollision = gene_claim_name_ncbi_notmatch.intersection(\n",
    "    ncbi_alias_alias_collision_set\n",
    ")\n",
    "len(gene_claim_name_ncbi_notmatch_aacollision)"
   ]
  },
  {
   "cell_type": "code",
   "execution_count": 225,
   "metadata": {},
   "outputs": [
    {
     "data": {
      "text/plain": [
       "15"
      ]
     },
     "execution_count": 225,
     "metadata": {},
     "output_type": "execute_result"
    }
   ],
   "source": [
    "gene_claim_name_ensg_notmatch_aacollision = gene_claim_name_ensg_notmatch.intersection(\n",
    "    ensg_alias_alias_collision_set\n",
    ")\n",
    "len(gene_claim_name_ensg_notmatch_aacollision)"
   ]
  },
  {
   "cell_type": "markdown",
   "metadata": {},
   "source": [
    "#### <a id='toc1_1_2_17_'></a>[How many unique claims that are primary gene symbols are also collisions?](#toc0_)"
   ]
  },
  {
   "cell_type": "code",
   "execution_count": 226,
   "metadata": {},
   "outputs": [
    {
     "data": {
      "text/plain": [
       "11984"
      ]
     },
     "execution_count": 226,
     "metadata": {},
     "output_type": "execute_result"
    }
   ],
   "source": [
    "gene_claim_name_hgnc_match = dgidb_gene_claim_name_set.intersection(\n",
    "    hgnc_gene_symbol_set\n",
    ")\n",
    "len(gene_claim_name_hgnc_match)"
   ]
  },
  {
   "cell_type": "code",
   "execution_count": 227,
   "metadata": {},
   "outputs": [
    {
     "data": {
      "text/plain": [
       "8"
      ]
     },
     "execution_count": 227,
     "metadata": {},
     "output_type": "execute_result"
    }
   ],
   "source": [
    "gene_claim_name_hgnc_match_aacollision = gene_claim_name_hgnc_match.intersection(\n",
    "    hgnc_alias_alias_collision_set\n",
    ")\n",
    "len(gene_claim_name_hgnc_match_aacollision)"
   ]
  },
  {
   "cell_type": "code",
   "execution_count": 228,
   "metadata": {},
   "outputs": [
    {
     "data": {
      "text/plain": [
       "11911"
      ]
     },
     "execution_count": 228,
     "metadata": {},
     "output_type": "execute_result"
    }
   ],
   "source": [
    "gene_claim_name_ncbi_match = dgidb_gene_claim_name_set.intersection(\n",
    "    ncbi_gene_symbol_set\n",
    ")\n",
    "len(gene_claim_name_ncbi_match)"
   ]
  },
  {
   "cell_type": "code",
   "execution_count": 229,
   "metadata": {},
   "outputs": [
    {
     "data": {
      "text/plain": [
       "124"
      ]
     },
     "execution_count": 229,
     "metadata": {},
     "output_type": "execute_result"
    }
   ],
   "source": [
    "gene_claim_name_ncbi_match_aacollision = gene_claim_name_ncbi_match.intersection(\n",
    "    ncbi_alias_alias_collision_set\n",
    ")\n",
    "len(gene_claim_name_ncbi_match_aacollision)"
   ]
  },
  {
   "cell_type": "code",
   "execution_count": 230,
   "metadata": {},
   "outputs": [
    {
     "data": {
      "text/plain": [
       "11710"
      ]
     },
     "execution_count": 230,
     "metadata": {},
     "output_type": "execute_result"
    }
   ],
   "source": [
    "gene_claim_name_ensg_match = dgidb_gene_claim_name_set.intersection(\n",
    "    ensg_gene_symbol_set\n",
    ")\n",
    "len(gene_claim_name_ensg_match)"
   ]
  },
  {
   "cell_type": "code",
   "execution_count": 231,
   "metadata": {},
   "outputs": [
    {
     "data": {
      "text/plain": [
       "8"
      ]
     },
     "execution_count": 231,
     "metadata": {},
     "output_type": "execute_result"
    }
   ],
   "source": [
    "gene_claim_name_ensg_match_aacollision = gene_claim_name_ensg_match.intersection(\n",
    "    ensg_alias_alias_collision_set\n",
    ")\n",
    "len(gene_claim_name_ensg_match_aacollision)"
   ]
  },
  {
   "cell_type": "markdown",
   "metadata": {},
   "source": [
    "#### <a id='toc1_1_2_18_'></a>[How many of the gene groups that are not primary gene symbols are alias-alias collisions from HGNC?](#toc0_)"
   ]
  },
  {
   "cell_type": "code",
   "execution_count": 232,
   "metadata": {},
   "outputs": [
    {
     "data": {
      "text/plain": [
       "0"
      ]
     },
     "execution_count": 232,
     "metadata": {},
     "output_type": "execute_result"
    }
   ],
   "source": [
    "name_hngc_notmatch_aacollision = name_hgnc_notmatch.intersection(\n",
    "    hgnc_alias_alias_collision_set\n",
    ")\n",
    "len(name_hngc_notmatch_aacollision)"
   ]
  },
  {
   "cell_type": "code",
   "execution_count": 233,
   "metadata": {},
   "outputs": [
    {
     "data": {
      "text/plain": [
       "2"
      ]
     },
     "execution_count": 233,
     "metadata": {},
     "output_type": "execute_result"
    }
   ],
   "source": [
    "name_ncbi_notmatch_aacollision = name_ncbi_notmatch.intersection(\n",
    "    ncbi_alias_alias_collision_set\n",
    ")\n",
    "len(name_ncbi_notmatch_aacollision)"
   ]
  },
  {
   "cell_type": "code",
   "execution_count": 234,
   "metadata": {},
   "outputs": [
    {
     "data": {
      "text/plain": [
       "1"
      ]
     },
     "execution_count": 234,
     "metadata": {},
     "output_type": "execute_result"
    }
   ],
   "source": [
    "name_ensg_notmatch_aacollision = name_ensg_notmatch.intersection(\n",
    "    ensg_alias_alias_collision_set\n",
    ")\n",
    "len(name_ensg_notmatch_aacollision)"
   ]
  },
  {
   "cell_type": "markdown",
   "metadata": {},
   "source": [
    "#### <a id='toc1_1_2_19_'></a>[How many claims are ambiguous symbols?](#toc0_)"
   ]
  },
  {
   "cell_type": "code",
   "execution_count": 235,
   "metadata": {},
   "outputs": [
    {
     "data": {
      "text/html": [
       "<div>\n",
       "<style scoped>\n",
       "    .dataframe tbody tr th:only-of-type {\n",
       "        vertical-align: middle;\n",
       "    }\n",
       "\n",
       "    .dataframe tbody tr th {\n",
       "        vertical-align: top;\n",
       "    }\n",
       "\n",
       "    .dataframe thead th {\n",
       "        text-align: right;\n",
       "    }\n",
       "</style>\n",
       "<table border=\"1\" class=\"dataframe\">\n",
       "  <thead>\n",
       "    <tr style=\"text-align: right;\">\n",
       "      <th></th>\n",
       "      <th>gene_claim_name</th>\n",
       "      <th>nomenclature</th>\n",
       "      <th>concept_id</th>\n",
       "      <th>gene_name</th>\n",
       "      <th>source_db_name</th>\n",
       "      <th>source_db_version</th>\n",
       "      <th>claim_ambiguous_status</th>\n",
       "    </tr>\n",
       "  </thead>\n",
       "  <tbody>\n",
       "    <tr>\n",
       "      <th>0</th>\n",
       "      <td>NGFIBA</td>\n",
       "      <td>NCBI Gene Name</td>\n",
       "      <td>NaN</td>\n",
       "      <td>NaN</td>\n",
       "      <td>BaderLab</td>\n",
       "      <td>Feb-14</td>\n",
       "      <td>False</td>\n",
       "    </tr>\n",
       "    <tr>\n",
       "      <th>1</th>\n",
       "      <td>NGFIBB</td>\n",
       "      <td>NCBI Gene Name</td>\n",
       "      <td>NaN</td>\n",
       "      <td>NaN</td>\n",
       "      <td>BaderLab</td>\n",
       "      <td>Feb-14</td>\n",
       "      <td>False</td>\n",
       "    </tr>\n",
       "    <tr>\n",
       "      <th>2</th>\n",
       "      <td>DAX</td>\n",
       "      <td>NCBI Gene Name</td>\n",
       "      <td>NaN</td>\n",
       "      <td>NaN</td>\n",
       "      <td>BaderLab</td>\n",
       "      <td>Feb-14</td>\n",
       "      <td>False</td>\n",
       "    </tr>\n",
       "    <tr>\n",
       "      <th>3</th>\n",
       "      <td>REV-ERBA</td>\n",
       "      <td>NCBI Gene Name</td>\n",
       "      <td>NaN</td>\n",
       "      <td>NaN</td>\n",
       "      <td>BaderLab</td>\n",
       "      <td>Feb-14</td>\n",
       "      <td>False</td>\n",
       "    </tr>\n",
       "    <tr>\n",
       "      <th>4</th>\n",
       "      <td>COUP2</td>\n",
       "      <td>NCBI Gene Name</td>\n",
       "      <td>NaN</td>\n",
       "      <td>NaN</td>\n",
       "      <td>BaderLab</td>\n",
       "      <td>Feb-14</td>\n",
       "      <td>False</td>\n",
       "    </tr>\n",
       "    <tr>\n",
       "      <th>...</th>\n",
       "      <td>...</td>\n",
       "      <td>...</td>\n",
       "      <td>...</td>\n",
       "      <td>...</td>\n",
       "      <td>...</td>\n",
       "      <td>...</td>\n",
       "      <td>...</td>\n",
       "    </tr>\n",
       "    <tr>\n",
       "      <th>80229</th>\n",
       "      <td>KIT</td>\n",
       "      <td>Gene Symbol</td>\n",
       "      <td>hgnc:6342</td>\n",
       "      <td>KIT</td>\n",
       "      <td>Oncomine</td>\n",
       "      <td>v3</td>\n",
       "      <td>False</td>\n",
       "    </tr>\n",
       "    <tr>\n",
       "      <th>80230</th>\n",
       "      <td>HES1</td>\n",
       "      <td>Gene Name</td>\n",
       "      <td>hgnc:5192</td>\n",
       "      <td>HES1</td>\n",
       "      <td>NCI</td>\n",
       "      <td>14-Sep-17</td>\n",
       "      <td>True</td>\n",
       "    </tr>\n",
       "    <tr>\n",
       "      <th>80231</th>\n",
       "      <td>IRF1</td>\n",
       "      <td>Gene Symbol</td>\n",
       "      <td>hgnc:6116</td>\n",
       "      <td>IRF1</td>\n",
       "      <td>Tempus</td>\n",
       "      <td>11-Nov-18</td>\n",
       "      <td>False</td>\n",
       "    </tr>\n",
       "    <tr>\n",
       "      <th>80232</th>\n",
       "      <td>SHFM1</td>\n",
       "      <td>Gene Name</td>\n",
       "      <td>hgnc:10845</td>\n",
       "      <td>SEM1</td>\n",
       "      <td>DTC</td>\n",
       "      <td>9/2/20</td>\n",
       "      <td>True</td>\n",
       "    </tr>\n",
       "    <tr>\n",
       "      <th>80233</th>\n",
       "      <td>NEUROD1</td>\n",
       "      <td>Gene Name</td>\n",
       "      <td>hgnc:7762</td>\n",
       "      <td>NEUROD1</td>\n",
       "      <td>NCI</td>\n",
       "      <td>14-Sep-17</td>\n",
       "      <td>False</td>\n",
       "    </tr>\n",
       "  </tbody>\n",
       "</table>\n",
       "<p>80234 rows × 7 columns</p>\n",
       "</div>"
      ],
      "text/plain": [
       "      gene_claim_name    nomenclature  concept_id gene_name source_db_name  \\\n",
       "0              NGFIBA  NCBI Gene Name         NaN       NaN       BaderLab   \n",
       "1              NGFIBB  NCBI Gene Name         NaN       NaN       BaderLab   \n",
       "2                 DAX  NCBI Gene Name         NaN       NaN       BaderLab   \n",
       "3            REV-ERBA  NCBI Gene Name         NaN       NaN       BaderLab   \n",
       "4               COUP2  NCBI Gene Name         NaN       NaN       BaderLab   \n",
       "...               ...             ...         ...       ...            ...   \n",
       "80229             KIT     Gene Symbol   hgnc:6342       KIT       Oncomine   \n",
       "80230            HES1       Gene Name   hgnc:5192      HES1            NCI   \n",
       "80231            IRF1     Gene Symbol   hgnc:6116      IRF1         Tempus   \n",
       "80232           SHFM1       Gene Name  hgnc:10845      SEM1            DTC   \n",
       "80233         NEUROD1       Gene Name   hgnc:7762   NEUROD1            NCI   \n",
       "\n",
       "      source_db_version  claim_ambiguous_status  \n",
       "0                Feb-14                   False  \n",
       "1                Feb-14                   False  \n",
       "2                Feb-14                   False  \n",
       "3                Feb-14                   False  \n",
       "4                Feb-14                   False  \n",
       "...                 ...                     ...  \n",
       "80229                v3                   False  \n",
       "80230         14-Sep-17                    True  \n",
       "80231         11-Nov-18                   False  \n",
       "80232            9/2/20                    True  \n",
       "80233         14-Sep-17                   False  \n",
       "\n",
       "[80234 rows x 7 columns]"
      ]
     },
     "execution_count": 235,
     "metadata": {},
     "output_type": "execute_result"
    }
   ],
   "source": [
    "dgidb_gene_df[\"claim_ambiguous_status\"] = dgidb_gene_df[\"gene_claim_name\"].isin(\n",
    "    ambiguous_symbol_set\n",
    ")\n",
    "dgidb_gene_df"
   ]
  },
  {
   "cell_type": "code",
   "execution_count": 236,
   "metadata": {},
   "outputs": [
    {
     "data": {
      "text/plain": [
       "claim_ambiguous_status\n",
       "False    75819\n",
       "True      4415\n",
       "Name: count, dtype: int64"
      ]
     },
     "execution_count": 236,
     "metadata": {},
     "output_type": "execute_result"
    }
   ],
   "source": [
    "dgidb_gene_df[\"claim_ambiguous_status\"].value_counts()"
   ]
  },
  {
   "cell_type": "code",
   "execution_count": 237,
   "metadata": {},
   "outputs": [
    {
     "data": {
      "text/plain": [
       "4415"
      ]
     },
     "execution_count": 237,
     "metadata": {},
     "output_type": "execute_result"
    }
   ],
   "source": [
    "ambiguous_claim_df = dgidb_gene_df.loc[dgidb_gene_df[\"claim_ambiguous_status\"]]\n",
    "num_ambiguous_claim = len(ambiguous_claim_df)\n",
    "num_ambiguous_claim"
   ]
  },
  {
   "cell_type": "code",
   "execution_count": 238,
   "metadata": {},
   "outputs": [
    {
     "data": {
      "text/html": [
       "<div>\n",
       "<style scoped>\n",
       "    .dataframe tbody tr th:only-of-type {\n",
       "        vertical-align: middle;\n",
       "    }\n",
       "\n",
       "    .dataframe tbody tr th {\n",
       "        vertical-align: top;\n",
       "    }\n",
       "\n",
       "    .dataframe thead th {\n",
       "        text-align: right;\n",
       "    }\n",
       "</style>\n",
       "<table border=\"1\" class=\"dataframe\">\n",
       "  <thead>\n",
       "    <tr style=\"text-align: right;\">\n",
       "      <th></th>\n",
       "      <th>gene_claim_name</th>\n",
       "      <th>nomenclature</th>\n",
       "      <th>concept_id</th>\n",
       "      <th>gene_name</th>\n",
       "      <th>source_db_name</th>\n",
       "      <th>source_db_version</th>\n",
       "      <th>claim_ambiguous_status</th>\n",
       "    </tr>\n",
       "  </thead>\n",
       "  <tbody>\n",
       "    <tr>\n",
       "      <th>18</th>\n",
       "      <td>TR2</td>\n",
       "      <td>NCBI Gene Name</td>\n",
       "      <td>hgnc:7971</td>\n",
       "      <td>NR2C1</td>\n",
       "      <td>BaderLab</td>\n",
       "      <td>Feb-14</td>\n",
       "      <td>True</td>\n",
       "    </tr>\n",
       "  </tbody>\n",
       "</table>\n",
       "</div>"
      ],
      "text/plain": [
       "   gene_claim_name    nomenclature concept_id gene_name source_db_name  \\\n",
       "18             TR2  NCBI Gene Name  hgnc:7971     NR2C1       BaderLab   \n",
       "\n",
       "   source_db_version  claim_ambiguous_status  \n",
       "18            Feb-14                    True  "
      ]
     },
     "execution_count": 238,
     "metadata": {},
     "output_type": "execute_result"
    }
   ],
   "source": [
    "ambiguous_claim_df.loc[ambiguous_claim_df[\"gene_claim_name\"] == \"TR2\"]"
   ]
  },
  {
   "cell_type": "markdown",
   "metadata": {},
   "source": [
    "#### <a id='toc1_1_2_20_'></a>[How many gene group labels are ambiguous symbols?](#toc0_)"
   ]
  },
  {
   "cell_type": "code",
   "execution_count": 239,
   "metadata": {},
   "outputs": [
    {
     "data": {
      "text/html": [
       "<div>\n",
       "<style scoped>\n",
       "    .dataframe tbody tr th:only-of-type {\n",
       "        vertical-align: middle;\n",
       "    }\n",
       "\n",
       "    .dataframe tbody tr th {\n",
       "        vertical-align: top;\n",
       "    }\n",
       "\n",
       "    .dataframe thead th {\n",
       "        text-align: right;\n",
       "    }\n",
       "</style>\n",
       "<table border=\"1\" class=\"dataframe\">\n",
       "  <thead>\n",
       "    <tr style=\"text-align: right;\">\n",
       "      <th></th>\n",
       "      <th>gene_claim_name</th>\n",
       "      <th>nomenclature</th>\n",
       "      <th>concept_id</th>\n",
       "      <th>gene_name</th>\n",
       "      <th>source_db_name</th>\n",
       "      <th>source_db_version</th>\n",
       "      <th>claim_ambiguous_status</th>\n",
       "      <th>name_ambiguous_status</th>\n",
       "    </tr>\n",
       "  </thead>\n",
       "  <tbody>\n",
       "    <tr>\n",
       "      <th>0</th>\n",
       "      <td>NGFIBA</td>\n",
       "      <td>NCBI Gene Name</td>\n",
       "      <td>NaN</td>\n",
       "      <td>NaN</td>\n",
       "      <td>BaderLab</td>\n",
       "      <td>Feb-14</td>\n",
       "      <td>False</td>\n",
       "      <td>False</td>\n",
       "    </tr>\n",
       "    <tr>\n",
       "      <th>1</th>\n",
       "      <td>NGFIBB</td>\n",
       "      <td>NCBI Gene Name</td>\n",
       "      <td>NaN</td>\n",
       "      <td>NaN</td>\n",
       "      <td>BaderLab</td>\n",
       "      <td>Feb-14</td>\n",
       "      <td>False</td>\n",
       "      <td>False</td>\n",
       "    </tr>\n",
       "    <tr>\n",
       "      <th>2</th>\n",
       "      <td>DAX</td>\n",
       "      <td>NCBI Gene Name</td>\n",
       "      <td>NaN</td>\n",
       "      <td>NaN</td>\n",
       "      <td>BaderLab</td>\n",
       "      <td>Feb-14</td>\n",
       "      <td>False</td>\n",
       "      <td>False</td>\n",
       "    </tr>\n",
       "    <tr>\n",
       "      <th>3</th>\n",
       "      <td>REV-ERBA</td>\n",
       "      <td>NCBI Gene Name</td>\n",
       "      <td>NaN</td>\n",
       "      <td>NaN</td>\n",
       "      <td>BaderLab</td>\n",
       "      <td>Feb-14</td>\n",
       "      <td>False</td>\n",
       "      <td>False</td>\n",
       "    </tr>\n",
       "    <tr>\n",
       "      <th>4</th>\n",
       "      <td>COUP2</td>\n",
       "      <td>NCBI Gene Name</td>\n",
       "      <td>NaN</td>\n",
       "      <td>NaN</td>\n",
       "      <td>BaderLab</td>\n",
       "      <td>Feb-14</td>\n",
       "      <td>False</td>\n",
       "      <td>False</td>\n",
       "    </tr>\n",
       "    <tr>\n",
       "      <th>...</th>\n",
       "      <td>...</td>\n",
       "      <td>...</td>\n",
       "      <td>...</td>\n",
       "      <td>...</td>\n",
       "      <td>...</td>\n",
       "      <td>...</td>\n",
       "      <td>...</td>\n",
       "      <td>...</td>\n",
       "    </tr>\n",
       "    <tr>\n",
       "      <th>80229</th>\n",
       "      <td>KIT</td>\n",
       "      <td>Gene Symbol</td>\n",
       "      <td>hgnc:6342</td>\n",
       "      <td>KIT</td>\n",
       "      <td>Oncomine</td>\n",
       "      <td>v3</td>\n",
       "      <td>False</td>\n",
       "      <td>False</td>\n",
       "    </tr>\n",
       "    <tr>\n",
       "      <th>80230</th>\n",
       "      <td>HES1</td>\n",
       "      <td>Gene Name</td>\n",
       "      <td>hgnc:5192</td>\n",
       "      <td>HES1</td>\n",
       "      <td>NCI</td>\n",
       "      <td>14-Sep-17</td>\n",
       "      <td>True</td>\n",
       "      <td>True</td>\n",
       "    </tr>\n",
       "    <tr>\n",
       "      <th>80231</th>\n",
       "      <td>IRF1</td>\n",
       "      <td>Gene Symbol</td>\n",
       "      <td>hgnc:6116</td>\n",
       "      <td>IRF1</td>\n",
       "      <td>Tempus</td>\n",
       "      <td>11-Nov-18</td>\n",
       "      <td>False</td>\n",
       "      <td>False</td>\n",
       "    </tr>\n",
       "    <tr>\n",
       "      <th>80232</th>\n",
       "      <td>SHFM1</td>\n",
       "      <td>Gene Name</td>\n",
       "      <td>hgnc:10845</td>\n",
       "      <td>SEM1</td>\n",
       "      <td>DTC</td>\n",
       "      <td>9/2/20</td>\n",
       "      <td>True</td>\n",
       "      <td>False</td>\n",
       "    </tr>\n",
       "    <tr>\n",
       "      <th>80233</th>\n",
       "      <td>NEUROD1</td>\n",
       "      <td>Gene Name</td>\n",
       "      <td>hgnc:7762</td>\n",
       "      <td>NEUROD1</td>\n",
       "      <td>NCI</td>\n",
       "      <td>14-Sep-17</td>\n",
       "      <td>False</td>\n",
       "      <td>False</td>\n",
       "    </tr>\n",
       "  </tbody>\n",
       "</table>\n",
       "<p>80234 rows × 8 columns</p>\n",
       "</div>"
      ],
      "text/plain": [
       "      gene_claim_name    nomenclature  concept_id gene_name source_db_name  \\\n",
       "0              NGFIBA  NCBI Gene Name         NaN       NaN       BaderLab   \n",
       "1              NGFIBB  NCBI Gene Name         NaN       NaN       BaderLab   \n",
       "2                 DAX  NCBI Gene Name         NaN       NaN       BaderLab   \n",
       "3            REV-ERBA  NCBI Gene Name         NaN       NaN       BaderLab   \n",
       "4               COUP2  NCBI Gene Name         NaN       NaN       BaderLab   \n",
       "...               ...             ...         ...       ...            ...   \n",
       "80229             KIT     Gene Symbol   hgnc:6342       KIT       Oncomine   \n",
       "80230            HES1       Gene Name   hgnc:5192      HES1            NCI   \n",
       "80231            IRF1     Gene Symbol   hgnc:6116      IRF1         Tempus   \n",
       "80232           SHFM1       Gene Name  hgnc:10845      SEM1            DTC   \n",
       "80233         NEUROD1       Gene Name   hgnc:7762   NEUROD1            NCI   \n",
       "\n",
       "      source_db_version  claim_ambiguous_status  name_ambiguous_status  \n",
       "0                Feb-14                   False                  False  \n",
       "1                Feb-14                   False                  False  \n",
       "2                Feb-14                   False                  False  \n",
       "3                Feb-14                   False                  False  \n",
       "4                Feb-14                   False                  False  \n",
       "...                 ...                     ...                    ...  \n",
       "80229                v3                   False                  False  \n",
       "80230         14-Sep-17                    True                   True  \n",
       "80231         11-Nov-18                   False                  False  \n",
       "80232            9/2/20                    True                  False  \n",
       "80233         14-Sep-17                   False                  False  \n",
       "\n",
       "[80234 rows x 8 columns]"
      ]
     },
     "execution_count": 239,
     "metadata": {},
     "output_type": "execute_result"
    }
   ],
   "source": [
    "dgidb_gene_df[\"name_ambiguous_status\"] = dgidb_gene_df[\"gene_name\"].isin(\n",
    "    ambiguous_symbol_set\n",
    ")\n",
    "dgidb_gene_df"
   ]
  },
  {
   "cell_type": "code",
   "execution_count": 240,
   "metadata": {},
   "outputs": [
    {
     "data": {
      "text/plain": [
       "name_ambiguous_status\n",
       "False    75009\n",
       "True      5225\n",
       "Name: count, dtype: int64"
      ]
     },
     "execution_count": 240,
     "metadata": {},
     "output_type": "execute_result"
    }
   ],
   "source": [
    "dgidb_gene_df[\"name_ambiguous_status\"].value_counts()"
   ]
  },
  {
   "cell_type": "code",
   "execution_count": 241,
   "metadata": {},
   "outputs": [
    {
     "data": {
      "text/plain": [
       "5225"
      ]
     },
     "execution_count": 241,
     "metadata": {},
     "output_type": "execute_result"
    }
   ],
   "source": [
    "ambiguous_name_df = dgidb_gene_df.loc[dgidb_gene_df[\"name_ambiguous_status\"]]\n",
    "num_ambiguous_name = len(ambiguous_name_df)\n",
    "num_ambiguous_name"
   ]
  },
  {
   "cell_type": "markdown",
   "metadata": {},
   "source": [
    "#### <a id='toc1_1_2_21_'></a>[How many claims are primary symbols?](#toc0_)"
   ]
  },
  {
   "cell_type": "code",
   "execution_count": 242,
   "metadata": {},
   "outputs": [
    {
     "data": {
      "text/html": [
       "<div>\n",
       "<style scoped>\n",
       "    .dataframe tbody tr th:only-of-type {\n",
       "        vertical-align: middle;\n",
       "    }\n",
       "\n",
       "    .dataframe tbody tr th {\n",
       "        vertical-align: top;\n",
       "    }\n",
       "\n",
       "    .dataframe thead th {\n",
       "        text-align: right;\n",
       "    }\n",
       "</style>\n",
       "<table border=\"1\" class=\"dataframe\">\n",
       "  <thead>\n",
       "    <tr style=\"text-align: right;\">\n",
       "      <th></th>\n",
       "      <th>gene_claim_name</th>\n",
       "      <th>nomenclature</th>\n",
       "      <th>concept_id</th>\n",
       "      <th>gene_name</th>\n",
       "      <th>source_db_name</th>\n",
       "      <th>source_db_version</th>\n",
       "      <th>claim_ambiguous_status</th>\n",
       "      <th>name_ambiguous_status</th>\n",
       "      <th>claim_primary_status</th>\n",
       "    </tr>\n",
       "  </thead>\n",
       "  <tbody>\n",
       "    <tr>\n",
       "      <th>0</th>\n",
       "      <td>NGFIBA</td>\n",
       "      <td>NCBI Gene Name</td>\n",
       "      <td>NaN</td>\n",
       "      <td>NaN</td>\n",
       "      <td>BaderLab</td>\n",
       "      <td>Feb-14</td>\n",
       "      <td>False</td>\n",
       "      <td>False</td>\n",
       "      <td>False</td>\n",
       "    </tr>\n",
       "    <tr>\n",
       "      <th>1</th>\n",
       "      <td>NGFIBB</td>\n",
       "      <td>NCBI Gene Name</td>\n",
       "      <td>NaN</td>\n",
       "      <td>NaN</td>\n",
       "      <td>BaderLab</td>\n",
       "      <td>Feb-14</td>\n",
       "      <td>False</td>\n",
       "      <td>False</td>\n",
       "      <td>False</td>\n",
       "    </tr>\n",
       "    <tr>\n",
       "      <th>2</th>\n",
       "      <td>DAX</td>\n",
       "      <td>NCBI Gene Name</td>\n",
       "      <td>NaN</td>\n",
       "      <td>NaN</td>\n",
       "      <td>BaderLab</td>\n",
       "      <td>Feb-14</td>\n",
       "      <td>False</td>\n",
       "      <td>False</td>\n",
       "      <td>False</td>\n",
       "    </tr>\n",
       "    <tr>\n",
       "      <th>3</th>\n",
       "      <td>REV-ERBA</td>\n",
       "      <td>NCBI Gene Name</td>\n",
       "      <td>NaN</td>\n",
       "      <td>NaN</td>\n",
       "      <td>BaderLab</td>\n",
       "      <td>Feb-14</td>\n",
       "      <td>False</td>\n",
       "      <td>False</td>\n",
       "      <td>False</td>\n",
       "    </tr>\n",
       "    <tr>\n",
       "      <th>4</th>\n",
       "      <td>COUP2</td>\n",
       "      <td>NCBI Gene Name</td>\n",
       "      <td>NaN</td>\n",
       "      <td>NaN</td>\n",
       "      <td>BaderLab</td>\n",
       "      <td>Feb-14</td>\n",
       "      <td>False</td>\n",
       "      <td>False</td>\n",
       "      <td>False</td>\n",
       "    </tr>\n",
       "    <tr>\n",
       "      <th>...</th>\n",
       "      <td>...</td>\n",
       "      <td>...</td>\n",
       "      <td>...</td>\n",
       "      <td>...</td>\n",
       "      <td>...</td>\n",
       "      <td>...</td>\n",
       "      <td>...</td>\n",
       "      <td>...</td>\n",
       "      <td>...</td>\n",
       "    </tr>\n",
       "    <tr>\n",
       "      <th>80229</th>\n",
       "      <td>KIT</td>\n",
       "      <td>Gene Symbol</td>\n",
       "      <td>hgnc:6342</td>\n",
       "      <td>KIT</td>\n",
       "      <td>Oncomine</td>\n",
       "      <td>v3</td>\n",
       "      <td>False</td>\n",
       "      <td>False</td>\n",
       "      <td>True</td>\n",
       "    </tr>\n",
       "    <tr>\n",
       "      <th>80230</th>\n",
       "      <td>HES1</td>\n",
       "      <td>Gene Name</td>\n",
       "      <td>hgnc:5192</td>\n",
       "      <td>HES1</td>\n",
       "      <td>NCI</td>\n",
       "      <td>14-Sep-17</td>\n",
       "      <td>True</td>\n",
       "      <td>True</td>\n",
       "      <td>True</td>\n",
       "    </tr>\n",
       "    <tr>\n",
       "      <th>80231</th>\n",
       "      <td>IRF1</td>\n",
       "      <td>Gene Symbol</td>\n",
       "      <td>hgnc:6116</td>\n",
       "      <td>IRF1</td>\n",
       "      <td>Tempus</td>\n",
       "      <td>11-Nov-18</td>\n",
       "      <td>False</td>\n",
       "      <td>False</td>\n",
       "      <td>True</td>\n",
       "    </tr>\n",
       "    <tr>\n",
       "      <th>80232</th>\n",
       "      <td>SHFM1</td>\n",
       "      <td>Gene Name</td>\n",
       "      <td>hgnc:10845</td>\n",
       "      <td>SEM1</td>\n",
       "      <td>DTC</td>\n",
       "      <td>9/2/20</td>\n",
       "      <td>True</td>\n",
       "      <td>False</td>\n",
       "      <td>False</td>\n",
       "    </tr>\n",
       "    <tr>\n",
       "      <th>80233</th>\n",
       "      <td>NEUROD1</td>\n",
       "      <td>Gene Name</td>\n",
       "      <td>hgnc:7762</td>\n",
       "      <td>NEUROD1</td>\n",
       "      <td>NCI</td>\n",
       "      <td>14-Sep-17</td>\n",
       "      <td>False</td>\n",
       "      <td>False</td>\n",
       "      <td>True</td>\n",
       "    </tr>\n",
       "  </tbody>\n",
       "</table>\n",
       "<p>80234 rows × 9 columns</p>\n",
       "</div>"
      ],
      "text/plain": [
       "      gene_claim_name    nomenclature  concept_id gene_name source_db_name  \\\n",
       "0              NGFIBA  NCBI Gene Name         NaN       NaN       BaderLab   \n",
       "1              NGFIBB  NCBI Gene Name         NaN       NaN       BaderLab   \n",
       "2                 DAX  NCBI Gene Name         NaN       NaN       BaderLab   \n",
       "3            REV-ERBA  NCBI Gene Name         NaN       NaN       BaderLab   \n",
       "4               COUP2  NCBI Gene Name         NaN       NaN       BaderLab   \n",
       "...               ...             ...         ...       ...            ...   \n",
       "80229             KIT     Gene Symbol   hgnc:6342       KIT       Oncomine   \n",
       "80230            HES1       Gene Name   hgnc:5192      HES1            NCI   \n",
       "80231            IRF1     Gene Symbol   hgnc:6116      IRF1         Tempus   \n",
       "80232           SHFM1       Gene Name  hgnc:10845      SEM1            DTC   \n",
       "80233         NEUROD1       Gene Name   hgnc:7762   NEUROD1            NCI   \n",
       "\n",
       "      source_db_version  claim_ambiguous_status  name_ambiguous_status  \\\n",
       "0                Feb-14                   False                  False   \n",
       "1                Feb-14                   False                  False   \n",
       "2                Feb-14                   False                  False   \n",
       "3                Feb-14                   False                  False   \n",
       "4                Feb-14                   False                  False   \n",
       "...                 ...                     ...                    ...   \n",
       "80229                v3                   False                  False   \n",
       "80230         14-Sep-17                    True                   True   \n",
       "80231         11-Nov-18                   False                  False   \n",
       "80232            9/2/20                    True                  False   \n",
       "80233         14-Sep-17                   False                  False   \n",
       "\n",
       "       claim_primary_status  \n",
       "0                     False  \n",
       "1                     False  \n",
       "2                     False  \n",
       "3                     False  \n",
       "4                     False  \n",
       "...                     ...  \n",
       "80229                  True  \n",
       "80230                  True  \n",
       "80231                  True  \n",
       "80232                 False  \n",
       "80233                  True  \n",
       "\n",
       "[80234 rows x 9 columns]"
      ]
     },
     "execution_count": 242,
     "metadata": {},
     "output_type": "execute_result"
    }
   ],
   "source": [
    "dgidb_gene_df[\"claim_primary_status\"] = dgidb_gene_df[\"gene_claim_name\"].isin(\n",
    "    hgnc_ensg_ncbi_gene_symbol_set\n",
    ")\n",
    "dgidb_gene_df"
   ]
  },
  {
   "cell_type": "code",
   "execution_count": 243,
   "metadata": {},
   "outputs": [
    {
     "data": {
      "text/plain": [
       "claim_primary_status\n",
       "True     64209\n",
       "False    16025\n",
       "Name: count, dtype: int64"
      ]
     },
     "execution_count": 243,
     "metadata": {},
     "output_type": "execute_result"
    }
   ],
   "source": [
    "dgidb_gene_df[\"claim_primary_status\"].value_counts()"
   ]
  },
  {
   "cell_type": "code",
   "execution_count": 244,
   "metadata": {},
   "outputs": [
    {
     "data": {
      "text/plain": [
       "64209"
      ]
     },
     "execution_count": 244,
     "metadata": {},
     "output_type": "execute_result"
    }
   ],
   "source": [
    "primary_claim_df = dgidb_gene_df.loc[dgidb_gene_df[\"claim_primary_status\"]]\n",
    "num_primary_claim = len(primary_claim_df)\n",
    "num_primary_claim"
   ]
  },
  {
   "cell_type": "markdown",
   "metadata": {},
   "source": [
    "#### <a id='toc1_1_2_22_'></a>[How many gene group labels are primary symbols?](#toc0_)"
   ]
  },
  {
   "cell_type": "code",
   "execution_count": 245,
   "metadata": {},
   "outputs": [
    {
     "data": {
      "text/html": [
       "<div>\n",
       "<style scoped>\n",
       "    .dataframe tbody tr th:only-of-type {\n",
       "        vertical-align: middle;\n",
       "    }\n",
       "\n",
       "    .dataframe tbody tr th {\n",
       "        vertical-align: top;\n",
       "    }\n",
       "\n",
       "    .dataframe thead th {\n",
       "        text-align: right;\n",
       "    }\n",
       "</style>\n",
       "<table border=\"1\" class=\"dataframe\">\n",
       "  <thead>\n",
       "    <tr style=\"text-align: right;\">\n",
       "      <th></th>\n",
       "      <th>gene_claim_name</th>\n",
       "      <th>nomenclature</th>\n",
       "      <th>concept_id</th>\n",
       "      <th>gene_name</th>\n",
       "      <th>source_db_name</th>\n",
       "      <th>source_db_version</th>\n",
       "      <th>claim_ambiguous_status</th>\n",
       "      <th>name_ambiguous_status</th>\n",
       "      <th>claim_primary_status</th>\n",
       "      <th>name_primary_status</th>\n",
       "    </tr>\n",
       "  </thead>\n",
       "  <tbody>\n",
       "    <tr>\n",
       "      <th>0</th>\n",
       "      <td>NGFIBA</td>\n",
       "      <td>NCBI Gene Name</td>\n",
       "      <td>NaN</td>\n",
       "      <td>NaN</td>\n",
       "      <td>BaderLab</td>\n",
       "      <td>Feb-14</td>\n",
       "      <td>False</td>\n",
       "      <td>False</td>\n",
       "      <td>False</td>\n",
       "      <td>False</td>\n",
       "    </tr>\n",
       "    <tr>\n",
       "      <th>1</th>\n",
       "      <td>NGFIBB</td>\n",
       "      <td>NCBI Gene Name</td>\n",
       "      <td>NaN</td>\n",
       "      <td>NaN</td>\n",
       "      <td>BaderLab</td>\n",
       "      <td>Feb-14</td>\n",
       "      <td>False</td>\n",
       "      <td>False</td>\n",
       "      <td>False</td>\n",
       "      <td>False</td>\n",
       "    </tr>\n",
       "    <tr>\n",
       "      <th>2</th>\n",
       "      <td>DAX</td>\n",
       "      <td>NCBI Gene Name</td>\n",
       "      <td>NaN</td>\n",
       "      <td>NaN</td>\n",
       "      <td>BaderLab</td>\n",
       "      <td>Feb-14</td>\n",
       "      <td>False</td>\n",
       "      <td>False</td>\n",
       "      <td>False</td>\n",
       "      <td>False</td>\n",
       "    </tr>\n",
       "    <tr>\n",
       "      <th>3</th>\n",
       "      <td>REV-ERBA</td>\n",
       "      <td>NCBI Gene Name</td>\n",
       "      <td>NaN</td>\n",
       "      <td>NaN</td>\n",
       "      <td>BaderLab</td>\n",
       "      <td>Feb-14</td>\n",
       "      <td>False</td>\n",
       "      <td>False</td>\n",
       "      <td>False</td>\n",
       "      <td>False</td>\n",
       "    </tr>\n",
       "    <tr>\n",
       "      <th>4</th>\n",
       "      <td>COUP2</td>\n",
       "      <td>NCBI Gene Name</td>\n",
       "      <td>NaN</td>\n",
       "      <td>NaN</td>\n",
       "      <td>BaderLab</td>\n",
       "      <td>Feb-14</td>\n",
       "      <td>False</td>\n",
       "      <td>False</td>\n",
       "      <td>False</td>\n",
       "      <td>False</td>\n",
       "    </tr>\n",
       "    <tr>\n",
       "      <th>...</th>\n",
       "      <td>...</td>\n",
       "      <td>...</td>\n",
       "      <td>...</td>\n",
       "      <td>...</td>\n",
       "      <td>...</td>\n",
       "      <td>...</td>\n",
       "      <td>...</td>\n",
       "      <td>...</td>\n",
       "      <td>...</td>\n",
       "      <td>...</td>\n",
       "    </tr>\n",
       "    <tr>\n",
       "      <th>80229</th>\n",
       "      <td>KIT</td>\n",
       "      <td>Gene Symbol</td>\n",
       "      <td>hgnc:6342</td>\n",
       "      <td>KIT</td>\n",
       "      <td>Oncomine</td>\n",
       "      <td>v3</td>\n",
       "      <td>False</td>\n",
       "      <td>False</td>\n",
       "      <td>True</td>\n",
       "      <td>True</td>\n",
       "    </tr>\n",
       "    <tr>\n",
       "      <th>80230</th>\n",
       "      <td>HES1</td>\n",
       "      <td>Gene Name</td>\n",
       "      <td>hgnc:5192</td>\n",
       "      <td>HES1</td>\n",
       "      <td>NCI</td>\n",
       "      <td>14-Sep-17</td>\n",
       "      <td>True</td>\n",
       "      <td>True</td>\n",
       "      <td>True</td>\n",
       "      <td>True</td>\n",
       "    </tr>\n",
       "    <tr>\n",
       "      <th>80231</th>\n",
       "      <td>IRF1</td>\n",
       "      <td>Gene Symbol</td>\n",
       "      <td>hgnc:6116</td>\n",
       "      <td>IRF1</td>\n",
       "      <td>Tempus</td>\n",
       "      <td>11-Nov-18</td>\n",
       "      <td>False</td>\n",
       "      <td>False</td>\n",
       "      <td>True</td>\n",
       "      <td>True</td>\n",
       "    </tr>\n",
       "    <tr>\n",
       "      <th>80232</th>\n",
       "      <td>SHFM1</td>\n",
       "      <td>Gene Name</td>\n",
       "      <td>hgnc:10845</td>\n",
       "      <td>SEM1</td>\n",
       "      <td>DTC</td>\n",
       "      <td>9/2/20</td>\n",
       "      <td>True</td>\n",
       "      <td>False</td>\n",
       "      <td>False</td>\n",
       "      <td>True</td>\n",
       "    </tr>\n",
       "    <tr>\n",
       "      <th>80233</th>\n",
       "      <td>NEUROD1</td>\n",
       "      <td>Gene Name</td>\n",
       "      <td>hgnc:7762</td>\n",
       "      <td>NEUROD1</td>\n",
       "      <td>NCI</td>\n",
       "      <td>14-Sep-17</td>\n",
       "      <td>False</td>\n",
       "      <td>False</td>\n",
       "      <td>True</td>\n",
       "      <td>True</td>\n",
       "    </tr>\n",
       "  </tbody>\n",
       "</table>\n",
       "<p>80234 rows × 10 columns</p>\n",
       "</div>"
      ],
      "text/plain": [
       "      gene_claim_name    nomenclature  concept_id gene_name source_db_name  \\\n",
       "0              NGFIBA  NCBI Gene Name         NaN       NaN       BaderLab   \n",
       "1              NGFIBB  NCBI Gene Name         NaN       NaN       BaderLab   \n",
       "2                 DAX  NCBI Gene Name         NaN       NaN       BaderLab   \n",
       "3            REV-ERBA  NCBI Gene Name         NaN       NaN       BaderLab   \n",
       "4               COUP2  NCBI Gene Name         NaN       NaN       BaderLab   \n",
       "...               ...             ...         ...       ...            ...   \n",
       "80229             KIT     Gene Symbol   hgnc:6342       KIT       Oncomine   \n",
       "80230            HES1       Gene Name   hgnc:5192      HES1            NCI   \n",
       "80231            IRF1     Gene Symbol   hgnc:6116      IRF1         Tempus   \n",
       "80232           SHFM1       Gene Name  hgnc:10845      SEM1            DTC   \n",
       "80233         NEUROD1       Gene Name   hgnc:7762   NEUROD1            NCI   \n",
       "\n",
       "      source_db_version  claim_ambiguous_status  name_ambiguous_status  \\\n",
       "0                Feb-14                   False                  False   \n",
       "1                Feb-14                   False                  False   \n",
       "2                Feb-14                   False                  False   \n",
       "3                Feb-14                   False                  False   \n",
       "4                Feb-14                   False                  False   \n",
       "...                 ...                     ...                    ...   \n",
       "80229                v3                   False                  False   \n",
       "80230         14-Sep-17                    True                   True   \n",
       "80231         11-Nov-18                   False                  False   \n",
       "80232            9/2/20                    True                  False   \n",
       "80233         14-Sep-17                   False                  False   \n",
       "\n",
       "       claim_primary_status  name_primary_status  \n",
       "0                     False                False  \n",
       "1                     False                False  \n",
       "2                     False                False  \n",
       "3                     False                False  \n",
       "4                     False                False  \n",
       "...                     ...                  ...  \n",
       "80229                  True                 True  \n",
       "80230                  True                 True  \n",
       "80231                  True                 True  \n",
       "80232                 False                 True  \n",
       "80233                  True                 True  \n",
       "\n",
       "[80234 rows x 10 columns]"
      ]
     },
     "execution_count": 245,
     "metadata": {},
     "output_type": "execute_result"
    }
   ],
   "source": [
    "dgidb_gene_df[\"name_primary_status\"] = (\n",
    "    dgidb_gene_df[\"gene_name\"].astype(str).isin(hgnc_ensg_ncbi_gene_symbol_set)\n",
    ")\n",
    "dgidb_gene_df"
   ]
  },
  {
   "cell_type": "code",
   "execution_count": 246,
   "metadata": {},
   "outputs": [
    {
     "data": {
      "text/plain": [
       "name_primary_status\n",
       "True     78074\n",
       "False     2160\n",
       "Name: count, dtype: int64"
      ]
     },
     "execution_count": 246,
     "metadata": {},
     "output_type": "execute_result"
    }
   ],
   "source": [
    "dgidb_gene_df[\"name_primary_status\"].value_counts()"
   ]
  },
  {
   "cell_type": "code",
   "execution_count": 247,
   "metadata": {},
   "outputs": [
    {
     "data": {
      "text/plain": [
       "78074"
      ]
     },
     "execution_count": 247,
     "metadata": {},
     "output_type": "execute_result"
    }
   ],
   "source": [
    "primary_name_df = dgidb_gene_df.loc[dgidb_gene_df[\"name_primary_status\"]]\n",
    "num_primary_name = len(primary_name_df)\n",
    "num_primary_name"
   ]
  },
  {
   "cell_type": "code",
   "execution_count": 248,
   "metadata": {},
   "outputs": [
    {
     "data": {
      "text/html": [
       "<div>\n",
       "<style scoped>\n",
       "    .dataframe tbody tr th:only-of-type {\n",
       "        vertical-align: middle;\n",
       "    }\n",
       "\n",
       "    .dataframe tbody tr th {\n",
       "        vertical-align: top;\n",
       "    }\n",
       "\n",
       "    .dataframe thead th {\n",
       "        text-align: right;\n",
       "    }\n",
       "</style>\n",
       "<table border=\"1\" class=\"dataframe\">\n",
       "  <thead>\n",
       "    <tr style=\"text-align: right;\">\n",
       "      <th></th>\n",
       "      <th>gene_claim_name</th>\n",
       "      <th>nomenclature</th>\n",
       "      <th>concept_id</th>\n",
       "      <th>gene_name</th>\n",
       "      <th>source_db_name</th>\n",
       "      <th>source_db_version</th>\n",
       "      <th>claim_ambiguous_status</th>\n",
       "      <th>name_ambiguous_status</th>\n",
       "      <th>claim_primary_status</th>\n",
       "      <th>name_primary_status</th>\n",
       "    </tr>\n",
       "  </thead>\n",
       "  <tbody>\n",
       "    <tr>\n",
       "      <th>0</th>\n",
       "      <td>NGFIBA</td>\n",
       "      <td>NCBI Gene Name</td>\n",
       "      <td>NaN</td>\n",
       "      <td>NaN</td>\n",
       "      <td>BaderLab</td>\n",
       "      <td>Feb-14</td>\n",
       "      <td>False</td>\n",
       "      <td>False</td>\n",
       "      <td>False</td>\n",
       "      <td>False</td>\n",
       "    </tr>\n",
       "    <tr>\n",
       "      <th>1</th>\n",
       "      <td>NGFIBB</td>\n",
       "      <td>NCBI Gene Name</td>\n",
       "      <td>NaN</td>\n",
       "      <td>NaN</td>\n",
       "      <td>BaderLab</td>\n",
       "      <td>Feb-14</td>\n",
       "      <td>False</td>\n",
       "      <td>False</td>\n",
       "      <td>False</td>\n",
       "      <td>False</td>\n",
       "    </tr>\n",
       "    <tr>\n",
       "      <th>2</th>\n",
       "      <td>DAX</td>\n",
       "      <td>NCBI Gene Name</td>\n",
       "      <td>NaN</td>\n",
       "      <td>NaN</td>\n",
       "      <td>BaderLab</td>\n",
       "      <td>Feb-14</td>\n",
       "      <td>False</td>\n",
       "      <td>False</td>\n",
       "      <td>False</td>\n",
       "      <td>False</td>\n",
       "    </tr>\n",
       "    <tr>\n",
       "      <th>3</th>\n",
       "      <td>REV-ERBA</td>\n",
       "      <td>NCBI Gene Name</td>\n",
       "      <td>NaN</td>\n",
       "      <td>NaN</td>\n",
       "      <td>BaderLab</td>\n",
       "      <td>Feb-14</td>\n",
       "      <td>False</td>\n",
       "      <td>False</td>\n",
       "      <td>False</td>\n",
       "      <td>False</td>\n",
       "    </tr>\n",
       "    <tr>\n",
       "      <th>4</th>\n",
       "      <td>COUP2</td>\n",
       "      <td>NCBI Gene Name</td>\n",
       "      <td>NaN</td>\n",
       "      <td>NaN</td>\n",
       "      <td>BaderLab</td>\n",
       "      <td>Feb-14</td>\n",
       "      <td>False</td>\n",
       "      <td>False</td>\n",
       "      <td>False</td>\n",
       "      <td>False</td>\n",
       "    </tr>\n",
       "    <tr>\n",
       "      <th>...</th>\n",
       "      <td>...</td>\n",
       "      <td>...</td>\n",
       "      <td>...</td>\n",
       "      <td>...</td>\n",
       "      <td>...</td>\n",
       "      <td>...</td>\n",
       "      <td>...</td>\n",
       "      <td>...</td>\n",
       "      <td>...</td>\n",
       "      <td>...</td>\n",
       "    </tr>\n",
       "    <tr>\n",
       "      <th>57108</th>\n",
       "      <td>NCBIGENE:2614</td>\n",
       "      <td>NCBI Gene ID</td>\n",
       "      <td>ncbigene:2614</td>\n",
       "      <td>GAPDHL17</td>\n",
       "      <td>GuideToPharmacology</td>\n",
       "      <td>2024.1</td>\n",
       "      <td>False</td>\n",
       "      <td>False</td>\n",
       "      <td>False</td>\n",
       "      <td>False</td>\n",
       "    </tr>\n",
       "    <tr>\n",
       "      <th>57552</th>\n",
       "      <td>CYB5P1</td>\n",
       "      <td>Gene Symbol</td>\n",
       "      <td>ncbigene:1529</td>\n",
       "      <td>CYB5P1</td>\n",
       "      <td>NCBI</td>\n",
       "      <td>20240410</td>\n",
       "      <td>False</td>\n",
       "      <td>False</td>\n",
       "      <td>False</td>\n",
       "      <td>False</td>\n",
       "    </tr>\n",
       "    <tr>\n",
       "      <th>66195</th>\n",
       "      <td>OA1</td>\n",
       "      <td>Gene Symbol</td>\n",
       "      <td>ncbigene:474285</td>\n",
       "      <td>OA1</td>\n",
       "      <td>NCBI</td>\n",
       "      <td>20240410</td>\n",
       "      <td>False</td>\n",
       "      <td>False</td>\n",
       "      <td>False</td>\n",
       "      <td>False</td>\n",
       "    </tr>\n",
       "    <tr>\n",
       "      <th>66196</th>\n",
       "      <td>OA1</td>\n",
       "      <td>Gene Symbol</td>\n",
       "      <td>ncbigene:474285</td>\n",
       "      <td>OA1</td>\n",
       "      <td>dGene</td>\n",
       "      <td>27-Jun-13</td>\n",
       "      <td>False</td>\n",
       "      <td>False</td>\n",
       "      <td>False</td>\n",
       "      <td>False</td>\n",
       "    </tr>\n",
       "    <tr>\n",
       "      <th>74562</th>\n",
       "      <td>ATP5A2</td>\n",
       "      <td>Gene Symbol</td>\n",
       "      <td>ncbigene:499</td>\n",
       "      <td>ATP5A2</td>\n",
       "      <td>NCBI</td>\n",
       "      <td>20240410</td>\n",
       "      <td>False</td>\n",
       "      <td>False</td>\n",
       "      <td>False</td>\n",
       "      <td>False</td>\n",
       "    </tr>\n",
       "  </tbody>\n",
       "</table>\n",
       "<p>2160 rows × 10 columns</p>\n",
       "</div>"
      ],
      "text/plain": [
       "      gene_claim_name    nomenclature       concept_id gene_name  \\\n",
       "0              NGFIBA  NCBI Gene Name              NaN       NaN   \n",
       "1              NGFIBB  NCBI Gene Name              NaN       NaN   \n",
       "2                 DAX  NCBI Gene Name              NaN       NaN   \n",
       "3            REV-ERBA  NCBI Gene Name              NaN       NaN   \n",
       "4               COUP2  NCBI Gene Name              NaN       NaN   \n",
       "...               ...             ...              ...       ...   \n",
       "57108   NCBIGENE:2614    NCBI Gene ID    ncbigene:2614  GAPDHL17   \n",
       "57552          CYB5P1     Gene Symbol    ncbigene:1529    CYB5P1   \n",
       "66195             OA1     Gene Symbol  ncbigene:474285       OA1   \n",
       "66196             OA1     Gene Symbol  ncbigene:474285       OA1   \n",
       "74562          ATP5A2     Gene Symbol     ncbigene:499    ATP5A2   \n",
       "\n",
       "            source_db_name source_db_version  claim_ambiguous_status  \\\n",
       "0                 BaderLab            Feb-14                   False   \n",
       "1                 BaderLab            Feb-14                   False   \n",
       "2                 BaderLab            Feb-14                   False   \n",
       "3                 BaderLab            Feb-14                   False   \n",
       "4                 BaderLab            Feb-14                   False   \n",
       "...                    ...               ...                     ...   \n",
       "57108  GuideToPharmacology            2024.1                   False   \n",
       "57552                 NCBI          20240410                   False   \n",
       "66195                 NCBI          20240410                   False   \n",
       "66196                dGene         27-Jun-13                   False   \n",
       "74562                 NCBI          20240410                   False   \n",
       "\n",
       "       name_ambiguous_status  claim_primary_status  name_primary_status  \n",
       "0                      False                 False                False  \n",
       "1                      False                 False                False  \n",
       "2                      False                 False                False  \n",
       "3                      False                 False                False  \n",
       "4                      False                 False                False  \n",
       "...                      ...                   ...                  ...  \n",
       "57108                  False                 False                False  \n",
       "57552                  False                 False                False  \n",
       "66195                  False                 False                False  \n",
       "66196                  False                 False                False  \n",
       "74562                  False                 False                False  \n",
       "\n",
       "[2160 rows x 10 columns]"
      ]
     },
     "execution_count": 248,
     "metadata": {},
     "output_type": "execute_result"
    }
   ],
   "source": [
    "not_primary_group_name_df = dgidb_gene_df.loc[~dgidb_gene_df[\"name_primary_status\"]]\n",
    "not_primary_group_name_df"
   ]
  },
  {
   "cell_type": "markdown",
   "metadata": {},
   "source": [
    "#### <a id='toc1_1_2_23_'></a>[How many gene group labels are alias symbols?](#toc0_)"
   ]
  },
  {
   "cell_type": "code",
   "execution_count": 249,
   "metadata": {},
   "outputs": [
    {
     "data": {
      "text/html": [
       "<div>\n",
       "<style scoped>\n",
       "    .dataframe tbody tr th:only-of-type {\n",
       "        vertical-align: middle;\n",
       "    }\n",
       "\n",
       "    .dataframe tbody tr th {\n",
       "        vertical-align: top;\n",
       "    }\n",
       "\n",
       "    .dataframe thead th {\n",
       "        text-align: right;\n",
       "    }\n",
       "</style>\n",
       "<table border=\"1\" class=\"dataframe\">\n",
       "  <thead>\n",
       "    <tr style=\"text-align: right;\">\n",
       "      <th></th>\n",
       "      <th>gene_claim_name</th>\n",
       "      <th>nomenclature</th>\n",
       "      <th>concept_id</th>\n",
       "      <th>gene_name</th>\n",
       "      <th>source_db_name</th>\n",
       "      <th>source_db_version</th>\n",
       "      <th>claim_ambiguous_status</th>\n",
       "      <th>name_ambiguous_status</th>\n",
       "      <th>claim_primary_status</th>\n",
       "      <th>name_primary_status</th>\n",
       "      <th>name_alias_status</th>\n",
       "    </tr>\n",
       "  </thead>\n",
       "  <tbody>\n",
       "    <tr>\n",
       "      <th>0</th>\n",
       "      <td>NGFIBA</td>\n",
       "      <td>NCBI Gene Name</td>\n",
       "      <td>NaN</td>\n",
       "      <td>NaN</td>\n",
       "      <td>BaderLab</td>\n",
       "      <td>Feb-14</td>\n",
       "      <td>False</td>\n",
       "      <td>False</td>\n",
       "      <td>False</td>\n",
       "      <td>False</td>\n",
       "      <td>True</td>\n",
       "    </tr>\n",
       "    <tr>\n",
       "      <th>1</th>\n",
       "      <td>NGFIBB</td>\n",
       "      <td>NCBI Gene Name</td>\n",
       "      <td>NaN</td>\n",
       "      <td>NaN</td>\n",
       "      <td>BaderLab</td>\n",
       "      <td>Feb-14</td>\n",
       "      <td>False</td>\n",
       "      <td>False</td>\n",
       "      <td>False</td>\n",
       "      <td>False</td>\n",
       "      <td>True</td>\n",
       "    </tr>\n",
       "    <tr>\n",
       "      <th>2</th>\n",
       "      <td>DAX</td>\n",
       "      <td>NCBI Gene Name</td>\n",
       "      <td>NaN</td>\n",
       "      <td>NaN</td>\n",
       "      <td>BaderLab</td>\n",
       "      <td>Feb-14</td>\n",
       "      <td>False</td>\n",
       "      <td>False</td>\n",
       "      <td>False</td>\n",
       "      <td>False</td>\n",
       "      <td>True</td>\n",
       "    </tr>\n",
       "    <tr>\n",
       "      <th>3</th>\n",
       "      <td>REV-ERBA</td>\n",
       "      <td>NCBI Gene Name</td>\n",
       "      <td>NaN</td>\n",
       "      <td>NaN</td>\n",
       "      <td>BaderLab</td>\n",
       "      <td>Feb-14</td>\n",
       "      <td>False</td>\n",
       "      <td>False</td>\n",
       "      <td>False</td>\n",
       "      <td>False</td>\n",
       "      <td>True</td>\n",
       "    </tr>\n",
       "    <tr>\n",
       "      <th>4</th>\n",
       "      <td>COUP2</td>\n",
       "      <td>NCBI Gene Name</td>\n",
       "      <td>NaN</td>\n",
       "      <td>NaN</td>\n",
       "      <td>BaderLab</td>\n",
       "      <td>Feb-14</td>\n",
       "      <td>False</td>\n",
       "      <td>False</td>\n",
       "      <td>False</td>\n",
       "      <td>False</td>\n",
       "      <td>True</td>\n",
       "    </tr>\n",
       "    <tr>\n",
       "      <th>...</th>\n",
       "      <td>...</td>\n",
       "      <td>...</td>\n",
       "      <td>...</td>\n",
       "      <td>...</td>\n",
       "      <td>...</td>\n",
       "      <td>...</td>\n",
       "      <td>...</td>\n",
       "      <td>...</td>\n",
       "      <td>...</td>\n",
       "      <td>...</td>\n",
       "      <td>...</td>\n",
       "    </tr>\n",
       "    <tr>\n",
       "      <th>80229</th>\n",
       "      <td>KIT</td>\n",
       "      <td>Gene Symbol</td>\n",
       "      <td>hgnc:6342</td>\n",
       "      <td>KIT</td>\n",
       "      <td>Oncomine</td>\n",
       "      <td>v3</td>\n",
       "      <td>False</td>\n",
       "      <td>False</td>\n",
       "      <td>True</td>\n",
       "      <td>True</td>\n",
       "      <td>False</td>\n",
       "    </tr>\n",
       "    <tr>\n",
       "      <th>80230</th>\n",
       "      <td>HES1</td>\n",
       "      <td>Gene Name</td>\n",
       "      <td>hgnc:5192</td>\n",
       "      <td>HES1</td>\n",
       "      <td>NCI</td>\n",
       "      <td>14-Sep-17</td>\n",
       "      <td>True</td>\n",
       "      <td>True</td>\n",
       "      <td>True</td>\n",
       "      <td>True</td>\n",
       "      <td>False</td>\n",
       "    </tr>\n",
       "    <tr>\n",
       "      <th>80231</th>\n",
       "      <td>IRF1</td>\n",
       "      <td>Gene Symbol</td>\n",
       "      <td>hgnc:6116</td>\n",
       "      <td>IRF1</td>\n",
       "      <td>Tempus</td>\n",
       "      <td>11-Nov-18</td>\n",
       "      <td>False</td>\n",
       "      <td>False</td>\n",
       "      <td>True</td>\n",
       "      <td>True</td>\n",
       "      <td>False</td>\n",
       "    </tr>\n",
       "    <tr>\n",
       "      <th>80232</th>\n",
       "      <td>SHFM1</td>\n",
       "      <td>Gene Name</td>\n",
       "      <td>hgnc:10845</td>\n",
       "      <td>SEM1</td>\n",
       "      <td>DTC</td>\n",
       "      <td>9/2/20</td>\n",
       "      <td>True</td>\n",
       "      <td>False</td>\n",
       "      <td>False</td>\n",
       "      <td>True</td>\n",
       "      <td>False</td>\n",
       "    </tr>\n",
       "    <tr>\n",
       "      <th>80233</th>\n",
       "      <td>NEUROD1</td>\n",
       "      <td>Gene Name</td>\n",
       "      <td>hgnc:7762</td>\n",
       "      <td>NEUROD1</td>\n",
       "      <td>NCI</td>\n",
       "      <td>14-Sep-17</td>\n",
       "      <td>False</td>\n",
       "      <td>False</td>\n",
       "      <td>True</td>\n",
       "      <td>True</td>\n",
       "      <td>False</td>\n",
       "    </tr>\n",
       "  </tbody>\n",
       "</table>\n",
       "<p>80234 rows × 11 columns</p>\n",
       "</div>"
      ],
      "text/plain": [
       "      gene_claim_name    nomenclature  concept_id gene_name source_db_name  \\\n",
       "0              NGFIBA  NCBI Gene Name         NaN       NaN       BaderLab   \n",
       "1              NGFIBB  NCBI Gene Name         NaN       NaN       BaderLab   \n",
       "2                 DAX  NCBI Gene Name         NaN       NaN       BaderLab   \n",
       "3            REV-ERBA  NCBI Gene Name         NaN       NaN       BaderLab   \n",
       "4               COUP2  NCBI Gene Name         NaN       NaN       BaderLab   \n",
       "...               ...             ...         ...       ...            ...   \n",
       "80229             KIT     Gene Symbol   hgnc:6342       KIT       Oncomine   \n",
       "80230            HES1       Gene Name   hgnc:5192      HES1            NCI   \n",
       "80231            IRF1     Gene Symbol   hgnc:6116      IRF1         Tempus   \n",
       "80232           SHFM1       Gene Name  hgnc:10845      SEM1            DTC   \n",
       "80233         NEUROD1       Gene Name   hgnc:7762   NEUROD1            NCI   \n",
       "\n",
       "      source_db_version  claim_ambiguous_status  name_ambiguous_status  \\\n",
       "0                Feb-14                   False                  False   \n",
       "1                Feb-14                   False                  False   \n",
       "2                Feb-14                   False                  False   \n",
       "3                Feb-14                   False                  False   \n",
       "4                Feb-14                   False                  False   \n",
       "...                 ...                     ...                    ...   \n",
       "80229                v3                   False                  False   \n",
       "80230         14-Sep-17                    True                   True   \n",
       "80231         11-Nov-18                   False                  False   \n",
       "80232            9/2/20                    True                  False   \n",
       "80233         14-Sep-17                   False                  False   \n",
       "\n",
       "       claim_primary_status  name_primary_status  name_alias_status  \n",
       "0                     False                False               True  \n",
       "1                     False                False               True  \n",
       "2                     False                False               True  \n",
       "3                     False                False               True  \n",
       "4                     False                False               True  \n",
       "...                     ...                  ...                ...  \n",
       "80229                  True                 True              False  \n",
       "80230                  True                 True              False  \n",
       "80231                  True                 True              False  \n",
       "80232                 False                 True              False  \n",
       "80233                  True                 True              False  \n",
       "\n",
       "[80234 rows x 11 columns]"
      ]
     },
     "execution_count": 249,
     "metadata": {},
     "output_type": "execute_result"
    }
   ],
   "source": [
    "dgidb_gene_df[\"name_alias_status\"] = dgidb_gene_df[\"gene_name\"].isin(\n",
    "    hgnc_ensg_ncbi_alias_symbol_set\n",
    ")\n",
    "dgidb_gene_df"
   ]
  },
  {
   "cell_type": "code",
   "execution_count": 250,
   "metadata": {},
   "outputs": [
    {
     "data": {
      "text/plain": [
       "name_alias_status\n",
       "False    77224\n",
       "True      3010\n",
       "Name: count, dtype: int64"
      ]
     },
     "execution_count": 250,
     "metadata": {},
     "output_type": "execute_result"
    }
   ],
   "source": [
    "dgidb_gene_df[\"name_alias_status\"].value_counts()"
   ]
  },
  {
   "cell_type": "code",
   "execution_count": 251,
   "metadata": {},
   "outputs": [
    {
     "data": {
      "text/plain": [
       "3010"
      ]
     },
     "execution_count": 251,
     "metadata": {},
     "output_type": "execute_result"
    }
   ],
   "source": [
    "alias_name_df = dgidb_gene_df.loc[dgidb_gene_df[\"name_alias_status\"]]\n",
    "num_alias_name = len(alias_name_df)\n",
    "num_alias_name"
   ]
  },
  {
   "cell_type": "code",
   "execution_count": 252,
   "metadata": {},
   "outputs": [
    {
     "name": "stdout",
     "output_type": "stream",
     "text": [
      "False\n"
     ]
    }
   ],
   "source": [
    "print(\"Calmbp1\" in hgnc_ensg_ncbi_alias_symbol_set)"
   ]
  },
  {
   "cell_type": "markdown",
   "metadata": {},
   "source": [
    "#### <a id='toc1_1_2_24_'></a>[How many claims are alias symbols?](#toc0_)"
   ]
  },
  {
   "cell_type": "code",
   "execution_count": 253,
   "metadata": {},
   "outputs": [
    {
     "data": {
      "text/html": [
       "<div>\n",
       "<style scoped>\n",
       "    .dataframe tbody tr th:only-of-type {\n",
       "        vertical-align: middle;\n",
       "    }\n",
       "\n",
       "    .dataframe tbody tr th {\n",
       "        vertical-align: top;\n",
       "    }\n",
       "\n",
       "    .dataframe thead th {\n",
       "        text-align: right;\n",
       "    }\n",
       "</style>\n",
       "<table border=\"1\" class=\"dataframe\">\n",
       "  <thead>\n",
       "    <tr style=\"text-align: right;\">\n",
       "      <th></th>\n",
       "      <th>gene_claim_name</th>\n",
       "      <th>nomenclature</th>\n",
       "      <th>concept_id</th>\n",
       "      <th>gene_name</th>\n",
       "      <th>source_db_name</th>\n",
       "      <th>source_db_version</th>\n",
       "      <th>claim_ambiguous_status</th>\n",
       "      <th>name_ambiguous_status</th>\n",
       "      <th>claim_primary_status</th>\n",
       "      <th>name_primary_status</th>\n",
       "      <th>name_alias_status</th>\n",
       "      <th>claim_alias_status</th>\n",
       "    </tr>\n",
       "  </thead>\n",
       "  <tbody>\n",
       "    <tr>\n",
       "      <th>0</th>\n",
       "      <td>NGFIBA</td>\n",
       "      <td>NCBI Gene Name</td>\n",
       "      <td>NaN</td>\n",
       "      <td>NaN</td>\n",
       "      <td>BaderLab</td>\n",
       "      <td>Feb-14</td>\n",
       "      <td>False</td>\n",
       "      <td>False</td>\n",
       "      <td>False</td>\n",
       "      <td>False</td>\n",
       "      <td>True</td>\n",
       "      <td>False</td>\n",
       "    </tr>\n",
       "    <tr>\n",
       "      <th>1</th>\n",
       "      <td>NGFIBB</td>\n",
       "      <td>NCBI Gene Name</td>\n",
       "      <td>NaN</td>\n",
       "      <td>NaN</td>\n",
       "      <td>BaderLab</td>\n",
       "      <td>Feb-14</td>\n",
       "      <td>False</td>\n",
       "      <td>False</td>\n",
       "      <td>False</td>\n",
       "      <td>False</td>\n",
       "      <td>True</td>\n",
       "      <td>False</td>\n",
       "    </tr>\n",
       "    <tr>\n",
       "      <th>2</th>\n",
       "      <td>DAX</td>\n",
       "      <td>NCBI Gene Name</td>\n",
       "      <td>NaN</td>\n",
       "      <td>NaN</td>\n",
       "      <td>BaderLab</td>\n",
       "      <td>Feb-14</td>\n",
       "      <td>False</td>\n",
       "      <td>False</td>\n",
       "      <td>False</td>\n",
       "      <td>False</td>\n",
       "      <td>True</td>\n",
       "      <td>False</td>\n",
       "    </tr>\n",
       "    <tr>\n",
       "      <th>3</th>\n",
       "      <td>REV-ERBA</td>\n",
       "      <td>NCBI Gene Name</td>\n",
       "      <td>NaN</td>\n",
       "      <td>NaN</td>\n",
       "      <td>BaderLab</td>\n",
       "      <td>Feb-14</td>\n",
       "      <td>False</td>\n",
       "      <td>False</td>\n",
       "      <td>False</td>\n",
       "      <td>False</td>\n",
       "      <td>True</td>\n",
       "      <td>False</td>\n",
       "    </tr>\n",
       "    <tr>\n",
       "      <th>4</th>\n",
       "      <td>COUP2</td>\n",
       "      <td>NCBI Gene Name</td>\n",
       "      <td>NaN</td>\n",
       "      <td>NaN</td>\n",
       "      <td>BaderLab</td>\n",
       "      <td>Feb-14</td>\n",
       "      <td>False</td>\n",
       "      <td>False</td>\n",
       "      <td>False</td>\n",
       "      <td>False</td>\n",
       "      <td>True</td>\n",
       "      <td>False</td>\n",
       "    </tr>\n",
       "    <tr>\n",
       "      <th>...</th>\n",
       "      <td>...</td>\n",
       "      <td>...</td>\n",
       "      <td>...</td>\n",
       "      <td>...</td>\n",
       "      <td>...</td>\n",
       "      <td>...</td>\n",
       "      <td>...</td>\n",
       "      <td>...</td>\n",
       "      <td>...</td>\n",
       "      <td>...</td>\n",
       "      <td>...</td>\n",
       "      <td>...</td>\n",
       "    </tr>\n",
       "    <tr>\n",
       "      <th>80229</th>\n",
       "      <td>KIT</td>\n",
       "      <td>Gene Symbol</td>\n",
       "      <td>hgnc:6342</td>\n",
       "      <td>KIT</td>\n",
       "      <td>Oncomine</td>\n",
       "      <td>v3</td>\n",
       "      <td>False</td>\n",
       "      <td>False</td>\n",
       "      <td>True</td>\n",
       "      <td>True</td>\n",
       "      <td>False</td>\n",
       "      <td>False</td>\n",
       "    </tr>\n",
       "    <tr>\n",
       "      <th>80230</th>\n",
       "      <td>HES1</td>\n",
       "      <td>Gene Name</td>\n",
       "      <td>hgnc:5192</td>\n",
       "      <td>HES1</td>\n",
       "      <td>NCI</td>\n",
       "      <td>14-Sep-17</td>\n",
       "      <td>True</td>\n",
       "      <td>True</td>\n",
       "      <td>True</td>\n",
       "      <td>True</td>\n",
       "      <td>False</td>\n",
       "      <td>False</td>\n",
       "    </tr>\n",
       "    <tr>\n",
       "      <th>80231</th>\n",
       "      <td>IRF1</td>\n",
       "      <td>Gene Symbol</td>\n",
       "      <td>hgnc:6116</td>\n",
       "      <td>IRF1</td>\n",
       "      <td>Tempus</td>\n",
       "      <td>11-Nov-18</td>\n",
       "      <td>False</td>\n",
       "      <td>False</td>\n",
       "      <td>True</td>\n",
       "      <td>True</td>\n",
       "      <td>False</td>\n",
       "      <td>False</td>\n",
       "    </tr>\n",
       "    <tr>\n",
       "      <th>80232</th>\n",
       "      <td>SHFM1</td>\n",
       "      <td>Gene Name</td>\n",
       "      <td>hgnc:10845</td>\n",
       "      <td>SEM1</td>\n",
       "      <td>DTC</td>\n",
       "      <td>9/2/20</td>\n",
       "      <td>True</td>\n",
       "      <td>False</td>\n",
       "      <td>False</td>\n",
       "      <td>True</td>\n",
       "      <td>False</td>\n",
       "      <td>False</td>\n",
       "    </tr>\n",
       "    <tr>\n",
       "      <th>80233</th>\n",
       "      <td>NEUROD1</td>\n",
       "      <td>Gene Name</td>\n",
       "      <td>hgnc:7762</td>\n",
       "      <td>NEUROD1</td>\n",
       "      <td>NCI</td>\n",
       "      <td>14-Sep-17</td>\n",
       "      <td>False</td>\n",
       "      <td>False</td>\n",
       "      <td>True</td>\n",
       "      <td>True</td>\n",
       "      <td>False</td>\n",
       "      <td>False</td>\n",
       "    </tr>\n",
       "  </tbody>\n",
       "</table>\n",
       "<p>80234 rows × 12 columns</p>\n",
       "</div>"
      ],
      "text/plain": [
       "      gene_claim_name    nomenclature  concept_id gene_name source_db_name  \\\n",
       "0              NGFIBA  NCBI Gene Name         NaN       NaN       BaderLab   \n",
       "1              NGFIBB  NCBI Gene Name         NaN       NaN       BaderLab   \n",
       "2                 DAX  NCBI Gene Name         NaN       NaN       BaderLab   \n",
       "3            REV-ERBA  NCBI Gene Name         NaN       NaN       BaderLab   \n",
       "4               COUP2  NCBI Gene Name         NaN       NaN       BaderLab   \n",
       "...               ...             ...         ...       ...            ...   \n",
       "80229             KIT     Gene Symbol   hgnc:6342       KIT       Oncomine   \n",
       "80230            HES1       Gene Name   hgnc:5192      HES1            NCI   \n",
       "80231            IRF1     Gene Symbol   hgnc:6116      IRF1         Tempus   \n",
       "80232           SHFM1       Gene Name  hgnc:10845      SEM1            DTC   \n",
       "80233         NEUROD1       Gene Name   hgnc:7762   NEUROD1            NCI   \n",
       "\n",
       "      source_db_version  claim_ambiguous_status  name_ambiguous_status  \\\n",
       "0                Feb-14                   False                  False   \n",
       "1                Feb-14                   False                  False   \n",
       "2                Feb-14                   False                  False   \n",
       "3                Feb-14                   False                  False   \n",
       "4                Feb-14                   False                  False   \n",
       "...                 ...                     ...                    ...   \n",
       "80229                v3                   False                  False   \n",
       "80230         14-Sep-17                    True                   True   \n",
       "80231         11-Nov-18                   False                  False   \n",
       "80232            9/2/20                    True                  False   \n",
       "80233         14-Sep-17                   False                  False   \n",
       "\n",
       "       claim_primary_status  name_primary_status  name_alias_status  \\\n",
       "0                     False                False               True   \n",
       "1                     False                False               True   \n",
       "2                     False                False               True   \n",
       "3                     False                False               True   \n",
       "4                     False                False               True   \n",
       "...                     ...                  ...                ...   \n",
       "80229                  True                 True              False   \n",
       "80230                  True                 True              False   \n",
       "80231                  True                 True              False   \n",
       "80232                 False                 True              False   \n",
       "80233                  True                 True              False   \n",
       "\n",
       "       claim_alias_status  \n",
       "0                   False  \n",
       "1                   False  \n",
       "2                   False  \n",
       "3                   False  \n",
       "4                   False  \n",
       "...                   ...  \n",
       "80229               False  \n",
       "80230               False  \n",
       "80231               False  \n",
       "80232               False  \n",
       "80233               False  \n",
       "\n",
       "[80234 rows x 12 columns]"
      ]
     },
     "execution_count": 253,
     "metadata": {},
     "output_type": "execute_result"
    }
   ],
   "source": [
    "dgidb_gene_df[\"claim_alias_status\"] = dgidb_gene_df[\"gene_claim_name\"].isin(\n",
    "    hgnc_ensg_ncbi_alias_symbol_set\n",
    ")\n",
    "dgidb_gene_df"
   ]
  },
  {
   "cell_type": "code",
   "execution_count": 254,
   "metadata": {},
   "outputs": [
    {
     "data": {
      "text/plain": [
       "claim_alias_status\n",
       "False    79378\n",
       "True       856\n",
       "Name: count, dtype: int64"
      ]
     },
     "execution_count": 254,
     "metadata": {},
     "output_type": "execute_result"
    }
   ],
   "source": [
    "dgidb_gene_df[\"claim_alias_status\"].value_counts()"
   ]
  },
  {
   "cell_type": "code",
   "execution_count": 255,
   "metadata": {},
   "outputs": [
    {
     "data": {
      "text/plain": [
       "856"
      ]
     },
     "execution_count": 255,
     "metadata": {},
     "output_type": "execute_result"
    }
   ],
   "source": [
    "alias_claims_df = dgidb_gene_df.loc[dgidb_gene_df[\"claim_alias_status\"]]\n",
    "num_alias_claims = len(alias_claims_df)\n",
    "num_alias_claims"
   ]
  },
  {
   "cell_type": "markdown",
   "metadata": {},
   "source": [
    "#### <a id='toc1_1_2_25_'></a>[How many claims that were normalized into non-primary symbol labeled groups are alias symbols?](#toc0_)"
   ]
  },
  {
   "cell_type": "code",
   "execution_count": 256,
   "metadata": {},
   "outputs": [
    {
     "data": {
      "text/html": [
       "<div>\n",
       "<style scoped>\n",
       "    .dataframe tbody tr th:only-of-type {\n",
       "        vertical-align: middle;\n",
       "    }\n",
       "\n",
       "    .dataframe tbody tr th {\n",
       "        vertical-align: top;\n",
       "    }\n",
       "\n",
       "    .dataframe thead th {\n",
       "        text-align: right;\n",
       "    }\n",
       "</style>\n",
       "<table border=\"1\" class=\"dataframe\">\n",
       "  <thead>\n",
       "    <tr style=\"text-align: right;\">\n",
       "      <th></th>\n",
       "      <th>gene_claim_name</th>\n",
       "      <th>nomenclature</th>\n",
       "      <th>concept_id</th>\n",
       "      <th>gene_name</th>\n",
       "      <th>source_db_name</th>\n",
       "      <th>source_db_version</th>\n",
       "      <th>claim_ambiguous_status</th>\n",
       "      <th>name_ambiguous_status</th>\n",
       "      <th>claim_primary_status</th>\n",
       "      <th>name_primary_status</th>\n",
       "      <th>name_alias_status</th>\n",
       "      <th>claim_alias_status</th>\n",
       "    </tr>\n",
       "  </thead>\n",
       "  <tbody>\n",
       "    <tr>\n",
       "      <th>55006</th>\n",
       "      <td>ACT</td>\n",
       "      <td>Gene Symbol</td>\n",
       "      <td>ncbigene:389036</td>\n",
       "      <td>ACT</td>\n",
       "      <td>NCBI</td>\n",
       "      <td>20240410</td>\n",
       "      <td>True</td>\n",
       "      <td>True</td>\n",
       "      <td>False</td>\n",
       "      <td>False</td>\n",
       "      <td>True</td>\n",
       "      <td>True</td>\n",
       "    </tr>\n",
       "    <tr>\n",
       "      <th>66195</th>\n",
       "      <td>OA1</td>\n",
       "      <td>Gene Symbol</td>\n",
       "      <td>ncbigene:474285</td>\n",
       "      <td>OA1</td>\n",
       "      <td>NCBI</td>\n",
       "      <td>20240410</td>\n",
       "      <td>False</td>\n",
       "      <td>False</td>\n",
       "      <td>False</td>\n",
       "      <td>False</td>\n",
       "      <td>True</td>\n",
       "      <td>True</td>\n",
       "    </tr>\n",
       "    <tr>\n",
       "      <th>66196</th>\n",
       "      <td>OA1</td>\n",
       "      <td>Gene Symbol</td>\n",
       "      <td>ncbigene:474285</td>\n",
       "      <td>OA1</td>\n",
       "      <td>dGene</td>\n",
       "      <td>27-Jun-13</td>\n",
       "      <td>False</td>\n",
       "      <td>False</td>\n",
       "      <td>False</td>\n",
       "      <td>False</td>\n",
       "      <td>True</td>\n",
       "      <td>True</td>\n",
       "    </tr>\n",
       "  </tbody>\n",
       "</table>\n",
       "</div>"
      ],
      "text/plain": [
       "      gene_claim_name nomenclature       concept_id gene_name source_db_name  \\\n",
       "55006             ACT  Gene Symbol  ncbigene:389036       ACT           NCBI   \n",
       "66195             OA1  Gene Symbol  ncbigene:474285       OA1           NCBI   \n",
       "66196             OA1  Gene Symbol  ncbigene:474285       OA1          dGene   \n",
       "\n",
       "      source_db_version  claim_ambiguous_status  name_ambiguous_status  \\\n",
       "55006          20240410                    True                   True   \n",
       "66195          20240410                   False                  False   \n",
       "66196         27-Jun-13                   False                  False   \n",
       "\n",
       "       claim_primary_status  name_primary_status  name_alias_status  \\\n",
       "55006                 False                False               True   \n",
       "66195                 False                False               True   \n",
       "66196                 False                False               True   \n",
       "\n",
       "       claim_alias_status  \n",
       "55006                True  \n",
       "66195                True  \n",
       "66196                True  "
      ]
     },
     "execution_count": 256,
     "metadata": {},
     "output_type": "execute_result"
    }
   ],
   "source": [
    "dgidb_gene_df[\"claim_alias_status\"] = dgidb_gene_df[\"gene_claim_name\"].isin(\n",
    "    hgnc_ensg_ncbi_alias_symbol_set\n",
    ")\n",
    "alias_claim_not_primary_group_name_df = dgidb_gene_df.loc[\n",
    "    dgidb_gene_df[\"claim_alias_status\"] & ~dgidb_gene_df[\"name_primary_status\"]\n",
    "]\n",
    "alias_claim_not_primary_group_name_df"
   ]
  },
  {
   "cell_type": "markdown",
   "metadata": {},
   "source": [
    "#### <a id='toc1_1_2_26_'></a>[How many not normalized claims are alias symbols?](#toc0_)"
   ]
  },
  {
   "cell_type": "code",
   "execution_count": 257,
   "metadata": {},
   "outputs": [
    {
     "data": {
      "text/plain": [
       "0"
      ]
     },
     "execution_count": 257,
     "metadata": {},
     "output_type": "execute_result"
    }
   ],
   "source": [
    "alias_claim_null_name_df = dgidb_gene_df.loc[\n",
    "    dgidb_gene_df[\"claim_alias_status\"] & dgidb_gene_df[\"gene_name\"].isnull()\n",
    "]\n",
    "len(alias_claim_null_name_df)"
   ]
  },
  {
   "cell_type": "markdown",
   "metadata": {},
   "source": [
    "#### <a id='toc1_1_2_27_'></a>[How many gene group labels are not primary, alias symbols, or null?](#toc0_)"
   ]
  },
  {
   "cell_type": "code",
   "execution_count": 258,
   "metadata": {},
   "outputs": [
    {
     "data": {
      "text/plain": [
       "12"
      ]
     },
     "execution_count": 258,
     "metadata": {},
     "output_type": "execute_result"
    }
   ],
   "source": [
    "other_name_df = dgidb_gene_df.loc[\n",
    "    ~dgidb_gene_df[\"name_alias_status\"]\n",
    "    & ~dgidb_gene_df[\"name_primary_status\"]\n",
    "    & ~dgidb_gene_df[\"gene_name\"].isnull()\n",
    "]\n",
    "num_other_name = len(other_name_df)\n",
    "num_other_name"
   ]
  },
  {
   "cell_type": "markdown",
   "metadata": {},
   "source": [
    "#### <a id='toc1_1_2_28_'></a>[How many claims are not primary, alias symbols, or null?](#toc0_)"
   ]
  },
  {
   "cell_type": "code",
   "execution_count": 259,
   "metadata": {},
   "outputs": [
    {
     "data": {
      "text/plain": [
       "15899"
      ]
     },
     "execution_count": 259,
     "metadata": {},
     "output_type": "execute_result"
    }
   ],
   "source": [
    "other_claim_df = dgidb_gene_df.loc[\n",
    "    ~dgidb_gene_df[\"claim_alias_status\"] & ~dgidb_gene_df[\"claim_primary_status\"]\n",
    "]\n",
    "num_other_claim = len(other_claim_df)\n",
    "num_other_claim"
   ]
  },
  {
   "cell_type": "markdown",
   "metadata": {},
   "source": [
    "#### <a id='toc1_1_2_29_'></a>[How many claims are primary and alias symbols?](#toc0_)"
   ]
  },
  {
   "cell_type": "code",
   "execution_count": 260,
   "metadata": {},
   "outputs": [
    {
     "data": {
      "text/plain": [
       "730"
      ]
     },
     "execution_count": 260,
     "metadata": {},
     "output_type": "execute_result"
    }
   ],
   "source": [
    "primaryandalias_claim_df = dgidb_gene_df.loc[\n",
    "    dgidb_gene_df[\"claim_alias_status\"] & dgidb_gene_df[\"claim_primary_status\"]\n",
    "]\n",
    "num_primaryandalias_claim = len(primaryandalias_claim_df)\n",
    "num_primaryandalias_claim"
   ]
  },
  {
   "cell_type": "markdown",
   "metadata": {},
   "source": [
    "#### <a id='toc1_1_2_30_'></a>[How many primary symbol claims are normalized into non-primary gene group labels?](#toc0_)"
   ]
  },
  {
   "cell_type": "code",
   "execution_count": 261,
   "metadata": {},
   "outputs": [
    {
     "data": {
      "text/html": [
       "<div>\n",
       "<style scoped>\n",
       "    .dataframe tbody tr th:only-of-type {\n",
       "        vertical-align: middle;\n",
       "    }\n",
       "\n",
       "    .dataframe tbody tr th {\n",
       "        vertical-align: top;\n",
       "    }\n",
       "\n",
       "    .dataframe thead th {\n",
       "        text-align: right;\n",
       "    }\n",
       "</style>\n",
       "<table border=\"1\" class=\"dataframe\">\n",
       "  <thead>\n",
       "    <tr style=\"text-align: right;\">\n",
       "      <th></th>\n",
       "      <th>gene_claim_name</th>\n",
       "      <th>nomenclature</th>\n",
       "      <th>concept_id</th>\n",
       "      <th>gene_name</th>\n",
       "      <th>source_db_name</th>\n",
       "      <th>source_db_version</th>\n",
       "      <th>claim_ambiguous_status</th>\n",
       "      <th>name_ambiguous_status</th>\n",
       "      <th>claim_primary_status</th>\n",
       "      <th>name_primary_status</th>\n",
       "      <th>name_alias_status</th>\n",
       "      <th>claim_alias_status</th>\n",
       "    </tr>\n",
       "  </thead>\n",
       "  <tbody>\n",
       "  </tbody>\n",
       "</table>\n",
       "</div>"
      ],
      "text/plain": [
       "Empty DataFrame\n",
       "Columns: [gene_claim_name, nomenclature, concept_id, gene_name, source_db_name, source_db_version, claim_ambiguous_status, name_ambiguous_status, claim_primary_status, name_primary_status, name_alias_status, claim_alias_status]\n",
       "Index: []"
      ]
     },
     "execution_count": 261,
     "metadata": {},
     "output_type": "execute_result"
    }
   ],
   "source": [
    "claim_true_name_false_df = dgidb_gene_df.loc[\n",
    "    dgidb_gene_df[\"claim_primary_status\"] & ~dgidb_gene_df[\"name_primary_status\"]\n",
    "]\n",
    "claim_true_name_false_df"
   ]
  },
  {
   "cell_type": "code",
   "execution_count": 262,
   "metadata": {},
   "outputs": [
    {
     "data": {
      "text/plain": [
       "0"
      ]
     },
     "execution_count": 262,
     "metadata": {},
     "output_type": "execute_result"
    }
   ],
   "source": [
    "len(claim_true_name_false_df)"
   ]
  },
  {
   "cell_type": "markdown",
   "metadata": {},
   "source": [
    "### <a id='toc1_1_3_'></a>[Summary](#toc0_)"
   ]
  },
  {
   "cell_type": "markdown",
   "metadata": {},
   "source": [
    "#### <a id='toc1_1_3_1_'></a>[Normalization Rates](#toc0_)"
   ]
  },
  {
   "cell_type": "code",
   "execution_count": 263,
   "metadata": {},
   "outputs": [
    {
     "data": {
      "text/html": [
       "<div>\n",
       "<style scoped>\n",
       "    .dataframe tbody tr th:only-of-type {\n",
       "        vertical-align: middle;\n",
       "    }\n",
       "\n",
       "    .dataframe tbody tr th {\n",
       "        vertical-align: top;\n",
       "    }\n",
       "\n",
       "    .dataframe thead th {\n",
       "        text-align: right;\n",
       "    }\n",
       "</style>\n",
       "<table border=\"1\" class=\"dataframe\">\n",
       "  <thead>\n",
       "    <tr style=\"text-align: right;\">\n",
       "      <th></th>\n",
       "      <th>Number of Claims</th>\n",
       "    </tr>\n",
       "  </thead>\n",
       "  <tbody>\n",
       "    <tr>\n",
       "      <th>Normalized</th>\n",
       "      <td>78090</td>\n",
       "    </tr>\n",
       "    <tr>\n",
       "      <th>Not Normalized</th>\n",
       "      <td>2144</td>\n",
       "    </tr>\n",
       "    <tr>\n",
       "      <th>Total</th>\n",
       "      <td>80234</td>\n",
       "    </tr>\n",
       "  </tbody>\n",
       "</table>\n",
       "</div>"
      ],
      "text/plain": [
       "                Number of Claims\n",
       "Normalized                 78090\n",
       "Not Normalized              2144\n",
       "Total                      80234"
      ]
     },
     "execution_count": 263,
     "metadata": {},
     "output_type": "execute_result"
    }
   ],
   "source": [
    "normalization_index = \"Normalized\", \"Not Normalized\", \"Total\"\n",
    "normalization_summary = {\n",
    "    \"Number of Claims\": [\n",
    "        num_normalized_claims,\n",
    "        num_not_normalized_claims,\n",
    "        num_total_claims,\n",
    "    ]\n",
    "}\n",
    "normalization_summary_df = pd.DataFrame(\n",
    "    normalization_summary, index=normalization_index\n",
    ")\n",
    "normalization_summary_df"
   ]
  },
  {
   "cell_type": "markdown",
   "metadata": {},
   "source": [
    "#### <a id='toc1_1_3_2_'></a>[Types of Claim Symbols](#toc0_)"
   ]
  },
  {
   "cell_type": "markdown",
   "metadata": {},
   "source": [
    "- Primary and Alias symbols are not exclusive as some primary symbols are used as aliases (alias-primary collisions)\n",
    "- Other does not include any Primary or Alias symbols\n",
    "- Ambiguous symbols can be either Primary or Alias"
   ]
  },
  {
   "cell_type": "code",
   "execution_count": 264,
   "metadata": {},
   "outputs": [
    {
     "data": {
      "text/html": [
       "<div>\n",
       "<style scoped>\n",
       "    .dataframe tbody tr th:only-of-type {\n",
       "        vertical-align: middle;\n",
       "    }\n",
       "\n",
       "    .dataframe tbody tr th {\n",
       "        vertical-align: top;\n",
       "    }\n",
       "\n",
       "    .dataframe thead th {\n",
       "        text-align: right;\n",
       "    }\n",
       "</style>\n",
       "<table border=\"1\" class=\"dataframe\">\n",
       "  <thead>\n",
       "    <tr style=\"text-align: right;\">\n",
       "      <th></th>\n",
       "      <th>Number of Claims</th>\n",
       "    </tr>\n",
       "  </thead>\n",
       "  <tbody>\n",
       "    <tr>\n",
       "      <th>Primary</th>\n",
       "      <td>64209</td>\n",
       "    </tr>\n",
       "    <tr>\n",
       "      <th>Alias</th>\n",
       "      <td>856</td>\n",
       "    </tr>\n",
       "    <tr>\n",
       "      <th>Other</th>\n",
       "      <td>15899</td>\n",
       "    </tr>\n",
       "    <tr>\n",
       "      <th>Ambiguous</th>\n",
       "      <td>4415</td>\n",
       "    </tr>\n",
       "    <tr>\n",
       "      <th>Total</th>\n",
       "      <td>80234</td>\n",
       "    </tr>\n",
       "  </tbody>\n",
       "</table>\n",
       "</div>"
      ],
      "text/plain": [
       "           Number of Claims\n",
       "Primary               64209\n",
       "Alias                   856\n",
       "Other                 15899\n",
       "Ambiguous              4415\n",
       "Total                 80234"
      ]
     },
     "execution_count": 264,
     "metadata": {},
     "output_type": "execute_result"
    }
   ],
   "source": [
    "claim_index = \"Primary\", \"Alias\", \"Other\", \"Ambiguous\", \"Total\"\n",
    "claim_summary = {\n",
    "    \"Number of Claims\": [\n",
    "        num_primary_claim,\n",
    "        num_alias_claims,\n",
    "        num_other_claim,\n",
    "        num_ambiguous_claim,\n",
    "        num_total_claims,\n",
    "    ]\n",
    "}\n",
    "claim_summary_df = pd.DataFrame(claim_summary, index=claim_index)\n",
    "claim_summary_df"
   ]
  },
  {
   "cell_type": "markdown",
   "metadata": {},
   "source": [
    "#### <a id='toc1_1_3_3_'></a>[Types of Normalizations (gene group labels claims are being normliazed into)](#toc0_)"
   ]
  },
  {
   "cell_type": "code",
   "execution_count": 266,
   "metadata": {},
   "outputs": [
    {
     "data": {
      "text/html": [
       "<div>\n",
       "<style scoped>\n",
       "    .dataframe tbody tr th:only-of-type {\n",
       "        vertical-align: middle;\n",
       "    }\n",
       "\n",
       "    .dataframe tbody tr th {\n",
       "        vertical-align: top;\n",
       "    }\n",
       "\n",
       "    .dataframe thead th {\n",
       "        text-align: right;\n",
       "    }\n",
       "</style>\n",
       "<table border=\"1\" class=\"dataframe\">\n",
       "  <thead>\n",
       "    <tr style=\"text-align: right;\">\n",
       "      <th></th>\n",
       "      <th>Number of Claims</th>\n",
       "    </tr>\n",
       "  </thead>\n",
       "  <tbody>\n",
       "    <tr>\n",
       "      <th>Primary</th>\n",
       "      <td>78074</td>\n",
       "    </tr>\n",
       "    <tr>\n",
       "      <th>Alias</th>\n",
       "      <td>3010</td>\n",
       "    </tr>\n",
       "    <tr>\n",
       "      <th>Null</th>\n",
       "      <td>2144</td>\n",
       "    </tr>\n",
       "    <tr>\n",
       "      <th>Other</th>\n",
       "      <td>12</td>\n",
       "    </tr>\n",
       "    <tr>\n",
       "      <th>Ambiguous</th>\n",
       "      <td>5225</td>\n",
       "    </tr>\n",
       "    <tr>\n",
       "      <th>Total</th>\n",
       "      <td>80234</td>\n",
       "    </tr>\n",
       "  </tbody>\n",
       "</table>\n",
       "</div>"
      ],
      "text/plain": [
       "           Number of Claims\n",
       "Primary               78074\n",
       "Alias                  3010\n",
       "Null                   2144\n",
       "Other                    12\n",
       "Ambiguous              5225\n",
       "Total                 80234"
      ]
     },
     "execution_count": 266,
     "metadata": {},
     "output_type": "execute_result"
    }
   ],
   "source": [
    "gene_group_index = \"Primary\", \"Alias\", \"Null\", \"Other\", \"Ambiguous\", \"Total\"\n",
    "gene_group_summary = {\n",
    "    \"Number of Claims\": [\n",
    "        num_primary_name,\n",
    "        num_alias_name,\n",
    "        num_not_normalized_claims,\n",
    "        num_other_name,\n",
    "        num_ambiguous_name,\n",
    "        num_total_claims,\n",
    "    ]\n",
    "}\n",
    "gene_group_summary_df = pd.DataFrame(gene_group_summary, index=gene_group_index)\n",
    "gene_group_summary_df"
   ]
  }
 ],
 "metadata": {
  "kernelspec": {
   "display_name": ".venv",
   "language": "python",
   "name": "python3"
  },
  "language_info": {
   "codemirror_mode": {
    "name": "ipython",
    "version": 3
   },
   "file_extension": ".py",
   "mimetype": "text/x-python",
   "name": "python",
   "nbconvert_exporter": "python",
   "pygments_lexer": "ipython3",
   "version": "3.12.3"
  }
 },
 "nbformat": 4,
 "nbformat_minor": 2
}
