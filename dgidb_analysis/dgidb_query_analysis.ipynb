{
 "cells": [
  {
   "cell_type": "code",
   "execution_count": null,
   "metadata": {},
   "outputs": [],
   "source": [
    "import pandas as pd\n",
    "import json\n",
    "import plotly.express as px\n",
    "import plotly\n",
    "import ast\n",
    "from collections import Counter\n",
    "import numpy as np"
   ]
  },
  {
   "cell_type": "markdown",
   "metadata": {},
   "source": [
    "## Analysis of Gene Terms in DGIdb from 2023\n",
    "Reanalysis of the log data obtained from DGIdb user search patterns in Q1/Q2 2023. This is intended to extract the gene terms most often searched from each search type and give them over to Anastasia who will subsequently determine the frequency of searches that have gene collisions."
   ]
  },
  {
   "cell_type": "markdown",
   "metadata": {},
   "source": [
    "### Load Data"
   ]
  },
  {
   "cell_type": "code",
   "execution_count": null,
   "metadata": {},
   "outputs": [],
   "source": [
    "df = pd.read_excel(\"log_data.xlsx\")\n",
    "df[0:5]"
   ]
  },
  {
   "cell_type": "markdown",
   "metadata": {},
   "source": [
    "### Clean Data"
   ]
  },
  {
   "cell_type": "code",
   "execution_count": null,
   "metadata": {},
   "outputs": [],
   "source": [
    "# We are interested in the api/v2/interactions queries\n",
    "df[\"path\"].value_counts()[0:10]"
   ]
  },
  {
   "cell_type": "code",
   "execution_count": null,
   "metadata": {},
   "outputs": [],
   "source": [
    "data = (\n",
    "    df[df[\"path\"] == \"/api/v2/interactions.json\"]\n",
    "    .drop(labels=\"Unnamed: 0\", axis=1)\n",
    "    .reset_index(drop=True)\n",
    ")\n",
    "data[0:5]"
   ]
  },
  {
   "cell_type": "code",
   "execution_count": null,
   "metadata": {},
   "outputs": [],
   "source": [
    "# We want to pull out the genes from the params of the query data\n",
    "def get_search_type(record):\n",
    "    try:\n",
    "        record = record.replace(\"'\", '\"')\n",
    "        record = json.loads(record)\n",
    "        keys = list(record.keys())\n",
    "        if len(keys) > 0:\n",
    "            return keys[0]\n",
    "        else:\n",
    "            return \"KeyLength\"\n",
    "    except json.JSONDecodeError:\n",
    "        return \"JSONDecode\""
   ]
  },
  {
   "cell_type": "code",
   "execution_count": null,
   "metadata": {},
   "outputs": [],
   "source": [
    "data[\"params\"][0]\n",
    "test = data[\"params\"][0].replace(\"'\", '\"')\n",
    "test = json.loads(test)\n",
    "list(test.keys())"
   ]
  },
  {
   "cell_type": "code",
   "execution_count": null,
   "metadata": {},
   "outputs": [],
   "source": [
    "data[\"type\"] = None\n",
    "data[\"type\"] = data[\"params\"].apply(get_search_type)"
   ]
  },
  {
   "cell_type": "code",
   "execution_count": null,
   "metadata": {},
   "outputs": [],
   "source": [
    "# Distribution of Types of Interaction Query sent (drugs vs genes)\n",
    "data[\"type\"].value_counts()"
   ]
  },
  {
   "cell_type": "code",
   "execution_count": null,
   "metadata": {},
   "outputs": [],
   "source": [
    "data = data[data[\"type\"] == \"genes\"].reset_index(drop=True)\n",
    "data[0:5]"
   ]
  },
  {
   "cell_type": "code",
   "execution_count": null,
   "metadata": {},
   "outputs": [],
   "source": [
    "def get_genes(record):\n",
    "    try:\n",
    "        record = record.replace(\"'\", '\"')\n",
    "        record = json.loads(record)\n",
    "        if record[\"genes\"]:\n",
    "            genes = record[\"genes\"].split(\",\")\n",
    "            return genes\n",
    "        else:\n",
    "            return \"KeyLength\"\n",
    "    except:\n",
    "        pass"
   ]
  },
  {
   "cell_type": "code",
   "execution_count": null,
   "metadata": {},
   "outputs": [],
   "source": [
    "data[\"genes\"] = None\n",
    "data[\"genes\"] = data[\"params\"].apply(get_genes)\n",
    "data[0:5]"
   ]
  },
  {
   "cell_type": "markdown",
   "metadata": {},
   "source": [
    "### How many symbols were queried across all queries? (queries may have more than one gene)"
   ]
  },
  {
   "cell_type": "code",
   "execution_count": null,
   "metadata": {},
   "outputs": [],
   "source": [
    "def flatten_comprehension(matrix):\n",
    "    return [item for row in matrix for item in row]"
   ]
  },
  {
   "cell_type": "code",
   "execution_count": null,
   "metadata": {},
   "outputs": [],
   "source": [
    "queried_genes_list = data[\"genes\"].tolist()"
   ]
  },
  {
   "cell_type": "code",
   "execution_count": null,
   "metadata": {},
   "outputs": [],
   "source": [
    "queried_genes_list = flatten_comprehension(queried_genes_list)"
   ]
  },
  {
   "cell_type": "code",
   "execution_count": null,
   "metadata": {},
   "outputs": [],
   "source": [
    "print(len(queried_genes_list))"
   ]
  },
  {
   "cell_type": "markdown",
   "metadata": {},
   "source": [
    "### How many interaction queries are requested using genes?"
   ]
  },
  {
   "cell_type": "code",
   "execution_count": null,
   "metadata": {},
   "outputs": [],
   "source": [
    "len(data[\"genes\"])"
   ]
  },
  {
   "cell_type": "markdown",
   "metadata": {},
   "source": [
    "### How many unique gene symbols were queried between the 23,070 queries and 188,832 total symbols?"
   ]
  },
  {
   "cell_type": "code",
   "execution_count": null,
   "metadata": {},
   "outputs": [],
   "source": [
    "data[\"genes\"] = data[\"genes\"].apply(set)\n",
    "data[\"genes\"]"
   ]
  },
  {
   "cell_type": "code",
   "execution_count": null,
   "metadata": {},
   "outputs": [],
   "source": [
    "queried_gene_symbols_set = data[\"genes\"].agg(lambda x: set.union(*x))\n",
    "print(len(queried_gene_symbols_set))"
   ]
  },
  {
   "cell_type": "code",
   "execution_count": null,
   "metadata": {},
   "outputs": [],
   "source": [
    "# Count each queried gene\n",
    "all_genes = [gene for sublist in data[\"genes\"] for gene in sublist]\n",
    "gene_counts = Counter(all_genes)\n",
    "gene_counts"
   ]
  },
  {
   "cell_type": "code",
   "execution_count": null,
   "metadata": {},
   "outputs": [],
   "source": [
    "gene_counts[\"KRAS\"]"
   ]
  },
  {
   "cell_type": "markdown",
   "metadata": {},
   "source": [
    "### Load Ambiguous Gene Symbol Set"
   ]
  },
  {
   "cell_type": "code",
   "execution_count": null,
   "metadata": {},
   "outputs": [],
   "source": [
    "with open(\"ambiguous_symbol_set.txt\", \"r\") as file:\n",
    "    # Read each line, strip newline characters, and convert to a set\n",
    "    ambiguous_symbol_set = set(line.strip() for line in file)\n",
    "ambiguous_symbol_set"
   ]
  },
  {
   "cell_type": "code",
   "execution_count": null,
   "metadata": {},
   "outputs": [],
   "source": [
    "len(ambiguous_symbol_set)"
   ]
  },
  {
   "cell_type": "markdown",
   "metadata": {},
   "source": [
    "### How many of the 23,070 queries included an ambiguous symbol?"
   ]
  },
  {
   "cell_type": "code",
   "execution_count": null,
   "metadata": {},
   "outputs": [],
   "source": [
    "data[\"ambiguous_gene_in_query\"] = data.genes.apply(lambda x: x & ambiguous_symbol_set)\n",
    "data_df = data[data.ambiguous_gene_in_query != set()]\n",
    "data_df"
   ]
  },
  {
   "cell_type": "markdown",
   "metadata": {},
   "source": [
    "### Of the total 188,832 gene symbols searched, how many times were ambiguous gene symbols searched?"
   ]
  },
  {
   "cell_type": "code",
   "execution_count": null,
   "metadata": {},
   "outputs": [],
   "source": [
    "def sum_values_for_terms(data_dict, term_set):\n",
    "    total_sum = 0\n",
    "\n",
    "    # Iterate over the dictionary\n",
    "    for key, value in data_dict.items():\n",
    "        # Check if the key is in the set of terms\n",
    "        if key in term_set:\n",
    "            # Add the value to the total sum\n",
    "            total_sum += value\n",
    "\n",
    "    return total_sum"
   ]
  },
  {
   "cell_type": "code",
   "execution_count": null,
   "metadata": {},
   "outputs": [],
   "source": [
    "# Call the function and print the result\n",
    "result = sum_values_for_terms(gene_counts, ambiguous_symbol_set)\n",
    "print(result)"
   ]
  },
  {
   "cell_type": "markdown",
   "metadata": {},
   "source": [
    "### Of the 43,400 unique gene symbols queried, how many are ambiguous?"
   ]
  },
  {
   "cell_type": "code",
   "execution_count": null,
   "metadata": {},
   "outputs": [],
   "source": [
    "def create_df_for_terms(data_dict, term_set, csv_filename):\n",
    "    # Filter the dictionary to include only the terms in the set\n",
    "    filtered_dict = {key: value for key, value in data_dict.items() if key in term_set}\n",
    "\n",
    "    # Create a DataFrame from the filtered dictionary\n",
    "    df = pd.DataFrame(\n",
    "        list(filtered_dict.items()), columns=[\"Ambiguous Symbol\", \"# of Queries\"]\n",
    "    )\n",
    "\n",
    "    df = df.sort_values(by=\"# of Queries\", ascending=False)\n",
    "\n",
    "    df.to_csv(csv_filename, index=False)\n",
    "\n",
    "    return df"
   ]
  },
  {
   "cell_type": "code",
   "execution_count": null,
   "metadata": {},
   "outputs": [],
   "source": [
    "# Call the function and get the DataFrame\n",
    "df_result = create_df_for_terms(\n",
    "    gene_counts, ambiguous_symbol_set, \"ambiguous_symbol_queries.csv\"\n",
    ")\n",
    "print(df_result)"
   ]
  },
  {
   "cell_type": "markdown",
   "metadata": {},
   "source": [
    "### Summary"
   ]
  },
  {
   "cell_type": "code",
   "execution_count": null,
   "metadata": {},
   "outputs": [],
   "source": [
    "title = [\n",
    "    \"# Interaction Queries using Genes\",\n",
    "    \"# Terms as Genes for Queries\",\n",
    "    \"# Unique Gene Symbols Queried\",\n",
    "]\n",
    "summary_data = {\n",
    "    \"\": [\"23,070\", \"188,832\", \"43,400\"],\n",
    "    \"# Ambiguous Symbols\": [\"3,201 (14%)\", \"7,531 (4%)\", \"1,316 (3%)\"],\n",
    "}\n",
    "summary_df = pd.DataFrame(summary_data, index=title)\n",
    "summary_df"
   ]
  },
  {
   "cell_type": "code",
   "execution_count": null,
   "metadata": {},
   "outputs": [],
   "source": []
  }
 ],
 "metadata": {
  "kernelspec": {
   "display_name": "Python 3",
   "language": "python",
   "name": "python3"
  },
  "language_info": {
   "codemirror_mode": {
    "name": "ipython",
    "version": 3
   },
   "file_extension": ".py",
   "mimetype": "text/x-python",
   "name": "python",
   "nbconvert_exporter": "python",
   "pygments_lexer": "ipython3",
   "version": "3.12.3"
  }
 },
 "nbformat": 4,
 "nbformat_minor": 2
}
