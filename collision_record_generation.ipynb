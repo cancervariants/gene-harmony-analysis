{
 "cells": [
  {
   "cell_type": "markdown",
   "metadata": {},
   "source": [
    "# <a id='toc6_'></a>[Creating a yaml file for each collision](#toc0_)"
   ]
  },
  {
   "cell_type": "code",
   "execution_count": null,
   "metadata": {},
   "outputs": [],
   "source": [
    "# merged_alias_overlap_df_2"
   ]
  },
  {
   "cell_type": "code",
   "execution_count": null,
   "metadata": {},
   "outputs": [],
   "source": [
    "# data = {}\n",
    "\n",
    "# for row in merged_alias_overlap_df_2.itertuples():\n",
    "#     print(row)\n",
    "#     break"
   ]
  },
  {
   "cell_type": "code",
   "execution_count": null,
   "metadata": {},
   "outputs": [],
   "source": [
    "# import yaml\n",
    "# import os\n",
    "\n",
    "# folder_path = 'new_alias-alias_collision_records'\n",
    "# os.makedirs(folder_path, exist_ok=True)\n",
    "\n",
    "# data = []\n",
    "\n",
    "# for row in merged_alias_overlap_df_2.itertuples():\n",
    "    \n",
    "#     collision_record = {\n",
    "#         \"collision_symbol\": row.alias_symbol,\n",
    "#     }\n",
    "\n",
    "#     collision_group = []\n",
    "\n",
    "#     len_gene_symbols = len(row.gene_symbol)\n",
    "#     ensg_ids = [r.strip() for r in row.ENSG_ID.split(\",\")]\n",
    "#     len_ensg_ids = len(ensg_ids)\n",
    "\n",
    "#     # if len_gene_symbols != len_ensg_ids:\n",
    "#     #     print(row)\n",
    "#     for i in range(0, len_gene_symbols):\n",
    "#         collision_group_item = {\n",
    "#             \"gene_symbol\": row.gene_symbol[i],\n",
    "#             \"ensg_id\": ensg_ids[i].upper()\n",
    "#         }\n",
    "#         collision_group.append(collision_group_item)\n",
    "\n",
    "#     collision_record[\"collision_group\"] = collision_group\n",
    "#     data.append(collision_record)\n",
    "\n",
    "#     file_path = os.path.join(folder_path, f\"{(row.alias_symbol.replace('/', '_'))}_collision_record.yaml\")\n",
    "\n",
    "#     with open(file_path, \"w\") as wf:\n",
    "#         yaml.dump(collision_record, wf, default_flow_style=False)\n",
    "\n",
    "# data"
   ]
  }
 ],
 "metadata": {
  "language_info": {
   "name": "python"
  }
 },
 "nbformat": 4,
 "nbformat_minor": 2
}
