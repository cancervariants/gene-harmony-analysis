{
 "cells": [
  {
   "cell_type": "markdown",
   "metadata": {},
   "source": [
    "**Table of contents**<a id='toc0_'></a>    \n",
    "- [ENSG](#toc1_)    \n",
    "    - [How many total unique gene records are there in Ensembl](#toc1_1_1_)    \n",
    "    - [Identify alias-alias collision symbols](#toc1_1_2_)    \n",
    "    - [Create a histogram displaying how frequent the numebr of gene records sharing an alias is](#toc1_1_3_)    \n",
    "- [HGNC](#toc2_)    \n",
    "    - [How many total unique gene records are there in HGNC](#toc2_1_1_)    \n",
    "    - [Identify alias-alias collision symbols](#toc2_1_2_)    \n",
    "    - [Create a histogram displaying how frequent the numebr of gene records sharing an alias is](#toc2_1_3_)    \n",
    "- [NCBI Info](#toc3_)    \n",
    "    - [How many total unique gene records are there in NCBI Gene](#toc3_1_1_)    \n",
    "    - [Identify alias-alias collision symbols](#toc3_1_2_)    \n",
    "    - [Create a histogram displaying how frequent the numebr of gene records sharing an alias is](#toc3_1_3_)    \n",
    "- [Merge to create Alias-Alias Collision Table- On Primary Gene Symbol](#toc4_)    \n",
    "- [Merge to create Alias-Alias Collision Table- On Alias Symbol](#toc5_)    \n",
    "- [How many unique primary gene symbols are there?](#toc6_)    \n",
    "  - [Per Source](#toc6_1_)    \n",
    "  - [All sources](#toc6_2_)    \n",
    "    - [How many symbols appear in all sources?](#toc6_2_1_)    \n",
    "    - [How many unique symbols are found between all sources?](#toc6_2_2_)    \n",
    "- [How many unique aliases are there?](#toc7_)    \n",
    "  - [Per Source](#toc7_1_)    \n",
    "  - [All sources](#toc7_2_)    \n",
    "    - [How many aliases appear in all sources?](#toc7_2_1_)    \n",
    "    - [How many unique aliases are found between all sources?](#toc7_2_2_)    \n",
    "- [How many gene records have an alias that is shared?](#toc8_)    \n",
    "  - [Per Source](#toc8_1_)    \n",
    "  - [All Sources](#toc8_2_)    \n",
    "    - [How many gene records have at least one shared alias in all sources?](#toc8_2_1_)    \n",
    "    - [How many unique gene records that have at least one shared alias are found between all sources?](#toc8_2_2_)    \n",
    "- [How many alias symbols are being shared?](#toc9_)    \n",
    "  - [Per Source](#toc9_1_)    \n",
    "  - [All Sources](#toc9_2_)    \n",
    "    - [How many aliases are shared in all sources?](#toc9_2_1_)    \n",
    "    - [How many unique shared aliases are found between all sources?](#toc9_2_2_)    \n",
    "- [How many gene concept-alias relationships are there?](#toc10_)    \n",
    "  - [Per Source](#toc10_1_)    \n",
    "  - [All Sources](#toc10_2_)    \n",
    "    - [How many unique gene-alias pairs are found between all sources?](#toc10_2_1_)    \n",
    "      - [Remove duplicate concept-alias pairs](#toc10_2_1_1_)    \n",
    "\n",
    "<!-- vscode-jupyter-toc-config\n",
    "\tnumbering=false\n",
    "\tanchor=true\n",
    "\tflat=false\n",
    "\tminLevel=1\n",
    "\tmaxLevel=6\n",
    "\t/vscode-jupyter-toc-config -->\n",
    "<!-- THIS CELL WILL BE REPLACED ON TOC UPDATE. DO NOT WRITE YOUR TEXT IN THIS CELL -->"
   ]
  },
  {
   "cell_type": "code",
   "execution_count": 1423,
   "metadata": {},
   "outputs": [],
   "source": [
    "import pandas as pd\n",
    "import numpy as np\n",
    "import plotly.express as px"
   ]
  },
  {
   "cell_type": "code",
   "execution_count": 1424,
   "metadata": {},
   "outputs": [],
   "source": [
    "def create_aa_collision_df(subset_genes_xxxx_df: pd.DataFrame, merged_alias_xxxx_df: pd.DataFrame, source: str) -> pd.DataFrame:\n",
    "    \"\"\"Create a df of alias-alias collision symbols \n",
    "\n",
    "    :param subset_genes_xxxx_df: Processed df of gene records\n",
    "    :param source: Representation of the source of the gene records\n",
    "    :return: A df of genes that share an alias with another gene\n",
    "    \"\"\"\n",
    "\n",
    "    #Create df with genes that have an alias that can be found in another gene's alias set\n",
    "    aa_collision_gene_xxxx_df = subset_genes_xxxx_df.copy()\n",
    "    aa_collision_gene_xxxx_df[\"alias_duplicates\"] = aa_collision_gene_xxxx_df.duplicated(\n",
    "    subset=\"alias_symbol\", keep=False\n",
    "    )\n",
    "    aa_collision_gene_xxxx_df = aa_collision_gene_xxxx_df[aa_collision_gene_xxxx_df[\"alias_duplicates\"]]\n",
    "    aa_collision_gene_xxxx_df = aa_collision_gene_xxxx_df.rename(\n",
    "    columns={\"alias_symbol\": \"collision\"})\n",
    "    aa_collision_gene_xxxx_df = aa_collision_gene_xxxx_df.drop([\"alias_duplicates\"], axis=1)\n",
    "    aa_collision_gene_xxxx_df = aa_collision_gene_xxxx_df.sort_values(\"collision\")\n",
    "\n",
    "    #Add a source tag for future merging efforts\n",
    "    aa_collision_gene_xxxx_df[\"source\"] = str(source)\n",
    "\n",
    "    #Create a secondary collision df that merges the alias symbols for each record\n",
    "    aa_collision_gene_xxxx_df = pd.merge(aa_collision_gene_xxxx_df, merged_alias_xxxx_df, on=[\"ENSG_ID\", \"gene_symbol\", \"HGNC_ID\"], how=\"left\")\n",
    "    aa_collision_gene_xxxx_df = aa_collision_gene_xxxx_df[[\"gene_symbol\",\"alias_symbol\",\"ENSG_ID\",\"HGNC_ID\",\"NCBI_ID\",\"collision\",\"source\"]]\n",
    "\n",
    "    #Convert the df into a csv\n",
    "    aa_collision_gene_xxxx_df.to_csv(f'../created_files/aa_collision_gene_{source}_df.csv', index=True)\n",
    "\n",
    "    #Create a secondary collision df that prioritizes the collision symbol\n",
    "    aa_collision_alias_xxxx_df = aa_collision_gene_xxxx_df[\n",
    "    [\"collision\", \"gene_symbol\", \"ENSG_ID\", \"source\"]\n",
    "    ]\n",
    "    aa_collision_alias_xxxx_df = aa_collision_alias_xxxx_df.map(str)\n",
    "    aa_collision_alias_xxxx_df = (\n",
    "    aa_collision_alias_xxxx_df.groupby(\"collision\")\n",
    "    .agg({\"ENSG_ID\": \", \".join, \"gene_symbol\": \", \".join, \"source\": \"first\"})\n",
    "    .reset_index()\n",
    "    )\n",
    "\n",
    "    #Convert the df into a csv and save\n",
    "    aa_collision_alias_xxxx_df.to_csv(f'../created_files/aa_collision_alias_{source}_df.csv', index=True)\n",
    "\n",
    "    return subset_genes_xxxx_df.head(), aa_collision_gene_xxxx_df.head(), aa_collision_alias_xxxx_df.head()"
   ]
  },
  {
   "cell_type": "code",
   "execution_count": 1425,
   "metadata": {},
   "outputs": [],
   "source": [
    "def create_aa_collision_histogram(aa_collision_gene_xxxx_df: pd.DataFrame, source: str, xxxx_alias_count: int):\n",
    "    \"\"\"Create a histogram of the frequencies at which aliases are shared\n",
    "\n",
    "    :param aa_collision_gene_xxxx_df: A df of alias-alias collisions organized by primary gene symbol\n",
    "    :param source: Representation of the source of the gene records\n",
    "    :param xxxx_alias_count: Number of aliases total in the source\n",
    "    :return: A histogram of the percentage of aliases that are shared between 2 genes, 3 genes, and so on\n",
    "    \"\"\"\n",
    "    \n",
    "    #Count the number of times each shared alias is used\n",
    "    aa_collision_xxxx_count_df = aa_collision_gene_xxxx_df.pivot_table(\n",
    "    index=[\"collision\"], aggfunc=\"size\"\n",
    "    )\n",
    "    aa_collision_xxxx_count_df = aa_collision_xxxx_count_df.reset_index()\n",
    "    aa_collision_xxxx_count_df.rename(columns={0: \"num_gene_records\"}, inplace=True)\n",
    "    aa_collision_xxxx_count_df = aa_collision_xxxx_count_df.sort_values(\n",
    "        \"num_gene_records\", ascending=False)\n",
    "\n",
    "    #Convert to csv\n",
    "    aa_collision_xxxx_count_df.to_csv(f'../created_files/aa_collision_{source}_count_df.csv', index=True)\n",
    "\n",
    "    #Count the frequency at which aliases are shared \n",
    "    aa_collision_xxxx_distribution_df = aa_collision_xxxx_count_df.pivot_table(\n",
    "    index=[\"num_gene_records\"], aggfunc=\"size\"\n",
    "    )\n",
    "    aa_collision_xxxx_distribution_df = aa_collision_xxxx_distribution_df.reset_index()\n",
    "    aa_collision_xxxx_distribution_df.rename(columns={0: \"num_collision_symbol\"}, inplace=True)\n",
    "    aa_collision_xxxx_distribution_df[\"percent_collision_symbol\"] = (\n",
    "        aa_collision_xxxx_distribution_df[\"num_collision_symbol\"] / xxxx_alias_count\n",
    "    ) * 100\n",
    "\n",
    "    #Convert to csv\n",
    "    aa_collision_xxxx_distribution_df.to_csv(f'../created_files/aa_collision_{source}_distribution_df.csv', index=True)\n",
    "\n",
    "    #Create histogram df \n",
    "    xxxx_alias_count_histogram_df = aa_collision_xxxx_distribution_df.drop(\n",
    "    \"num_collision_symbol\", axis=1)\n",
    "\n",
    "    #Convert to csv\n",
    "    xxxx_alias_count_histogram_df.to_csv(f'../created_files/{source}_alias_count_histogram_df.csv', index=True)\n",
    "\n",
    "    return px.bar(xxxx_alias_count_histogram_df, x=\"num_gene_records\", y=\"percent_collision_symbol\")\n",
    "\n"
   ]
  },
  {
   "cell_type": "markdown",
   "metadata": {},
   "source": [
    "# <a id='toc1_'></a>[ENSG](#toc0_)"
   ]
  },
  {
   "cell_type": "code",
   "execution_count": 1426,
   "metadata": {},
   "outputs": [
    {
     "data": {
      "text/html": [
       "<div>\n",
       "<style scoped>\n",
       "    .dataframe tbody tr th:only-of-type {\n",
       "        vertical-align: middle;\n",
       "    }\n",
       "\n",
       "    .dataframe tbody tr th {\n",
       "        vertical-align: top;\n",
       "    }\n",
       "\n",
       "    .dataframe thead th {\n",
       "        text-align: right;\n",
       "    }\n",
       "</style>\n",
       "<table border=\"1\" class=\"dataframe\">\n",
       "  <thead>\n",
       "    <tr style=\"text-align: right;\">\n",
       "      <th></th>\n",
       "      <th>Unnamed: 0</th>\n",
       "      <th>ENSG_ID</th>\n",
       "      <th>gene_symbol</th>\n",
       "      <th>alias_symbol</th>\n",
       "      <th>HGNC_ID</th>\n",
       "      <th>NCBI_ID</th>\n",
       "    </tr>\n",
       "  </thead>\n",
       "  <tbody>\n",
       "    <tr>\n",
       "      <th>0</th>\n",
       "      <td>0</td>\n",
       "      <td>ENSG00000210049</td>\n",
       "      <td>MT-TF</td>\n",
       "      <td>MTTF</td>\n",
       "      <td>7481</td>\n",
       "      <td>&lt;NA&gt;</td>\n",
       "    </tr>\n",
       "    <tr>\n",
       "      <th>1</th>\n",
       "      <td>1</td>\n",
       "      <td>ENSG00000210049</td>\n",
       "      <td>MT-TF</td>\n",
       "      <td>TRNF</td>\n",
       "      <td>7481</td>\n",
       "      <td>&lt;NA&gt;</td>\n",
       "    </tr>\n",
       "    <tr>\n",
       "      <th>2</th>\n",
       "      <td>2</td>\n",
       "      <td>ENSG00000211459</td>\n",
       "      <td>MT-RNR1</td>\n",
       "      <td>12S</td>\n",
       "      <td>7470</td>\n",
       "      <td>&lt;NA&gt;</td>\n",
       "    </tr>\n",
       "    <tr>\n",
       "      <th>3</th>\n",
       "      <td>3</td>\n",
       "      <td>ENSG00000211459</td>\n",
       "      <td>MT-RNR1</td>\n",
       "      <td>MOTS-C</td>\n",
       "      <td>7470</td>\n",
       "      <td>&lt;NA&gt;</td>\n",
       "    </tr>\n",
       "    <tr>\n",
       "      <th>4</th>\n",
       "      <td>4</td>\n",
       "      <td>ENSG00000211459</td>\n",
       "      <td>MT-RNR1</td>\n",
       "      <td>MTRNR1</td>\n",
       "      <td>7470</td>\n",
       "      <td>&lt;NA&gt;</td>\n",
       "    </tr>\n",
       "    <tr>\n",
       "      <th>...</th>\n",
       "      <td>...</td>\n",
       "      <td>...</td>\n",
       "      <td>...</td>\n",
       "      <td>...</td>\n",
       "      <td>...</td>\n",
       "      <td>...</td>\n",
       "    </tr>\n",
       "    <tr>\n",
       "      <th>117135</th>\n",
       "      <td>117135</td>\n",
       "      <td>ENSG00000200033</td>\n",
       "      <td>RNU6-403P</td>\n",
       "      <td>NaN</td>\n",
       "      <td>47366</td>\n",
       "      <td>&lt;NA&gt;</td>\n",
       "    </tr>\n",
       "    <tr>\n",
       "      <th>117136</th>\n",
       "      <td>117136</td>\n",
       "      <td>ENSG00000228437</td>\n",
       "      <td>LINC02474</td>\n",
       "      <td>LNCSLCC1</td>\n",
       "      <td>53417</td>\n",
       "      <td>&lt;NA&gt;</td>\n",
       "    </tr>\n",
       "    <tr>\n",
       "      <th>117137</th>\n",
       "      <td>117137</td>\n",
       "      <td>ENSG00000228437</td>\n",
       "      <td>LINC02474</td>\n",
       "      <td>RP11-400N13.2</td>\n",
       "      <td>53417</td>\n",
       "      <td>&lt;NA&gt;</td>\n",
       "    </tr>\n",
       "    <tr>\n",
       "      <th>117138</th>\n",
       "      <td>117138</td>\n",
       "      <td>ENSG00000229463</td>\n",
       "      <td>LYST-AS1</td>\n",
       "      <td>LYST-IT2</td>\n",
       "      <td>41320</td>\n",
       "      <td>&lt;NA&gt;</td>\n",
       "    </tr>\n",
       "    <tr>\n",
       "      <th>117139</th>\n",
       "      <td>117139</td>\n",
       "      <td>ENSG00000229291</td>\n",
       "      <td>LINC02768</td>\n",
       "      <td>NaN</td>\n",
       "      <td>54288</td>\n",
       "      <td>&lt;NA&gt;</td>\n",
       "    </tr>\n",
       "  </tbody>\n",
       "</table>\n",
       "<p>117140 rows × 6 columns</p>\n",
       "</div>"
      ],
      "text/plain": [
       "        Unnamed: 0          ENSG_ID gene_symbol   alias_symbol  HGNC_ID  \\\n",
       "0                0  ENSG00000210049       MT-TF           MTTF     7481   \n",
       "1                1  ENSG00000210049       MT-TF           TRNF     7481   \n",
       "2                2  ENSG00000211459     MT-RNR1            12S     7470   \n",
       "3                3  ENSG00000211459     MT-RNR1         MOTS-C     7470   \n",
       "4                4  ENSG00000211459     MT-RNR1         MTRNR1     7470   \n",
       "...            ...              ...         ...            ...      ...   \n",
       "117135      117135  ENSG00000200033   RNU6-403P            NaN    47366   \n",
       "117136      117136  ENSG00000228437   LINC02474       LNCSLCC1    53417   \n",
       "117137      117137  ENSG00000228437   LINC02474  RP11-400N13.2    53417   \n",
       "117138      117138  ENSG00000229463    LYST-AS1       LYST-IT2    41320   \n",
       "117139      117139  ENSG00000229291   LINC02768            NaN    54288   \n",
       "\n",
       "        NCBI_ID  \n",
       "0          <NA>  \n",
       "1          <NA>  \n",
       "2          <NA>  \n",
       "3          <NA>  \n",
       "4          <NA>  \n",
       "...         ...  \n",
       "117135     <NA>  \n",
       "117136     <NA>  \n",
       "117137     <NA>  \n",
       "117138     <NA>  \n",
       "117139     <NA>  \n",
       "\n",
       "[117140 rows x 6 columns]"
      ]
     },
     "execution_count": 1426,
     "metadata": {},
     "output_type": "execute_result"
    }
   ],
   "source": [
    "mini_ensg_df = pd.read_csv(\n",
    "    \"../created_files/mini_ensg_df.csv\",\n",
    "    dtype={\"HGNC_ID\": pd.Int64Dtype(), \"NCBI_ID\": pd.Int64Dtype()},\n",
    ")\n",
    "mini_ensg_df"
   ]
  },
  {
   "cell_type": "code",
   "execution_count": 1427,
   "metadata": {},
   "outputs": [
    {
     "data": {
      "text/html": [
       "<div>\n",
       "<style scoped>\n",
       "    .dataframe tbody tr th:only-of-type {\n",
       "        vertical-align: middle;\n",
       "    }\n",
       "\n",
       "    .dataframe tbody tr th {\n",
       "        vertical-align: top;\n",
       "    }\n",
       "\n",
       "    .dataframe thead th {\n",
       "        text-align: right;\n",
       "    }\n",
       "</style>\n",
       "<table border=\"1\" class=\"dataframe\">\n",
       "  <thead>\n",
       "    <tr style=\"text-align: right;\">\n",
       "      <th></th>\n",
       "      <th>ENSG_ID</th>\n",
       "      <th>gene_symbol</th>\n",
       "      <th>alias_symbol</th>\n",
       "      <th>HGNC_ID</th>\n",
       "      <th>NCBI_ID</th>\n",
       "    </tr>\n",
       "  </thead>\n",
       "  <tbody>\n",
       "    <tr>\n",
       "      <th>0</th>\n",
       "      <td>ENSG00000210049</td>\n",
       "      <td>MT-TF</td>\n",
       "      <td>MTTF</td>\n",
       "      <td>7481.0</td>\n",
       "      <td>NaN</td>\n",
       "    </tr>\n",
       "    <tr>\n",
       "      <th>1</th>\n",
       "      <td>ENSG00000210049</td>\n",
       "      <td>MT-TF</td>\n",
       "      <td>TRNF</td>\n",
       "      <td>7481.0</td>\n",
       "      <td>NaN</td>\n",
       "    </tr>\n",
       "    <tr>\n",
       "      <th>2</th>\n",
       "      <td>ENSG00000211459</td>\n",
       "      <td>MT-RNR1</td>\n",
       "      <td>12S</td>\n",
       "      <td>7470.0</td>\n",
       "      <td>NaN</td>\n",
       "    </tr>\n",
       "    <tr>\n",
       "      <th>3</th>\n",
       "      <td>ENSG00000211459</td>\n",
       "      <td>MT-RNR1</td>\n",
       "      <td>MOTS-C</td>\n",
       "      <td>7470.0</td>\n",
       "      <td>NaN</td>\n",
       "    </tr>\n",
       "    <tr>\n",
       "      <th>4</th>\n",
       "      <td>ENSG00000211459</td>\n",
       "      <td>MT-RNR1</td>\n",
       "      <td>MTRNR1</td>\n",
       "      <td>7470.0</td>\n",
       "      <td>NaN</td>\n",
       "    </tr>\n",
       "    <tr>\n",
       "      <th>...</th>\n",
       "      <td>...</td>\n",
       "      <td>...</td>\n",
       "      <td>...</td>\n",
       "      <td>...</td>\n",
       "      <td>...</td>\n",
       "    </tr>\n",
       "    <tr>\n",
       "      <th>117133</th>\n",
       "      <td>ENSG00000232679</td>\n",
       "      <td>LINC01705</td>\n",
       "      <td>ERLR</td>\n",
       "      <td>52493.0</td>\n",
       "      <td>105372950.0</td>\n",
       "    </tr>\n",
       "    <tr>\n",
       "      <th>117134</th>\n",
       "      <td>ENSG00000232679</td>\n",
       "      <td>LINC01705</td>\n",
       "      <td>RP11-400N13.3</td>\n",
       "      <td>52493.0</td>\n",
       "      <td>105372950.0</td>\n",
       "    </tr>\n",
       "    <tr>\n",
       "      <th>117136</th>\n",
       "      <td>ENSG00000228437</td>\n",
       "      <td>LINC02474</td>\n",
       "      <td>LNCSLCC1</td>\n",
       "      <td>53417.0</td>\n",
       "      <td>NaN</td>\n",
       "    </tr>\n",
       "    <tr>\n",
       "      <th>117137</th>\n",
       "      <td>ENSG00000228437</td>\n",
       "      <td>LINC02474</td>\n",
       "      <td>RP11-400N13.2</td>\n",
       "      <td>53417.0</td>\n",
       "      <td>NaN</td>\n",
       "    </tr>\n",
       "    <tr>\n",
       "      <th>117138</th>\n",
       "      <td>ENSG00000229463</td>\n",
       "      <td>LYST-AS1</td>\n",
       "      <td>LYST-IT2</td>\n",
       "      <td>41320.0</td>\n",
       "      <td>NaN</td>\n",
       "    </tr>\n",
       "  </tbody>\n",
       "</table>\n",
       "<p>57275 rows × 5 columns</p>\n",
       "</div>"
      ],
      "text/plain": [
       "                ENSG_ID gene_symbol   alias_symbol  HGNC_ID      NCBI_ID\n",
       "0       ENSG00000210049       MT-TF           MTTF   7481.0          NaN\n",
       "1       ENSG00000210049       MT-TF           TRNF   7481.0          NaN\n",
       "2       ENSG00000211459     MT-RNR1            12S   7470.0          NaN\n",
       "3       ENSG00000211459     MT-RNR1         MOTS-C   7470.0          NaN\n",
       "4       ENSG00000211459     MT-RNR1         MTRNR1   7470.0          NaN\n",
       "...                 ...         ...            ...      ...          ...\n",
       "117133  ENSG00000232679   LINC01705           ERLR  52493.0  105372950.0\n",
       "117134  ENSG00000232679   LINC01705  RP11-400N13.3  52493.0  105372950.0\n",
       "117136  ENSG00000228437   LINC02474       LNCSLCC1  53417.0          NaN\n",
       "117137  ENSG00000228437   LINC02474  RP11-400N13.2  53417.0          NaN\n",
       "117138  ENSG00000229463    LYST-AS1       LYST-IT2  41320.0          NaN\n",
       "\n",
       "[57275 rows x 5 columns]"
      ]
     },
     "execution_count": 1427,
     "metadata": {},
     "output_type": "execute_result"
    }
   ],
   "source": [
    "subset_genes_ensg_df = pd.read_csv(\n",
    "    \"../created_files/subset_genes_ensg_df.csv\", index_col=[0])\n",
    "subset_genes_ensg_df"
   ]
  },
  {
   "cell_type": "code",
   "execution_count": 1428,
   "metadata": {},
   "outputs": [
    {
     "data": {
      "text/html": [
       "<div>\n",
       "<style scoped>\n",
       "    .dataframe tbody tr th:only-of-type {\n",
       "        vertical-align: middle;\n",
       "    }\n",
       "\n",
       "    .dataframe tbody tr th {\n",
       "        vertical-align: top;\n",
       "    }\n",
       "\n",
       "    .dataframe thead th {\n",
       "        text-align: right;\n",
       "    }\n",
       "</style>\n",
       "<table border=\"1\" class=\"dataframe\">\n",
       "  <thead>\n",
       "    <tr style=\"text-align: right;\">\n",
       "      <th></th>\n",
       "      <th>ENSG_ID</th>\n",
       "      <th>gene_symbol</th>\n",
       "      <th>HGNC_ID</th>\n",
       "      <th>alias_symbol</th>\n",
       "    </tr>\n",
       "  </thead>\n",
       "  <tbody>\n",
       "    <tr>\n",
       "      <th>0</th>\n",
       "      <td>ENSG00000000003</td>\n",
       "      <td>TSPAN6</td>\n",
       "      <td>11858.0</td>\n",
       "      <td>T245,TM4SF6,TSPAN-6</td>\n",
       "    </tr>\n",
       "    <tr>\n",
       "      <th>1</th>\n",
       "      <td>ENSG00000000005</td>\n",
       "      <td>TNMD</td>\n",
       "      <td>17757.0</td>\n",
       "      <td>BRICD4,CHM1L,MYODULIN,TEM,TENDIN</td>\n",
       "    </tr>\n",
       "    <tr>\n",
       "      <th>2</th>\n",
       "      <td>ENSG00000000419</td>\n",
       "      <td>DPM1</td>\n",
       "      <td>3005.0</td>\n",
       "      <td>CDGIE,MPDS</td>\n",
       "    </tr>\n",
       "    <tr>\n",
       "      <th>3</th>\n",
       "      <td>ENSG00000000457</td>\n",
       "      <td>SCYL3</td>\n",
       "      <td>19285.0</td>\n",
       "      <td>PACE-1,PACE1</td>\n",
       "    </tr>\n",
       "    <tr>\n",
       "      <th>4</th>\n",
       "      <td>ENSG00000000460</td>\n",
       "      <td>FIRRM</td>\n",
       "      <td>25565.0</td>\n",
       "      <td>APOLO1,C1ORF112,FLIP,FLJ10706,MEICA1</td>\n",
       "    </tr>\n",
       "    <tr>\n",
       "      <th>...</th>\n",
       "      <td>...</td>\n",
       "      <td>...</td>\n",
       "      <td>...</td>\n",
       "      <td>...</td>\n",
       "    </tr>\n",
       "    <tr>\n",
       "      <th>70609</th>\n",
       "      <td>ENSG00000293596</td>\n",
       "      <td>NaN</td>\n",
       "      <td>NaN</td>\n",
       "      <td>NaN</td>\n",
       "    </tr>\n",
       "    <tr>\n",
       "      <th>70610</th>\n",
       "      <td>ENSG00000293597</td>\n",
       "      <td>LINC00970</td>\n",
       "      <td>48730.0</td>\n",
       "      <td>NaN</td>\n",
       "    </tr>\n",
       "    <tr>\n",
       "      <th>70611</th>\n",
       "      <td>ENSG00000293599</td>\n",
       "      <td>NaN</td>\n",
       "      <td>NaN</td>\n",
       "      <td>NaN</td>\n",
       "    </tr>\n",
       "    <tr>\n",
       "      <th>70612</th>\n",
       "      <td>ENSG00000293600</td>\n",
       "      <td>NaN</td>\n",
       "      <td>NaN</td>\n",
       "      <td>NaN</td>\n",
       "    </tr>\n",
       "    <tr>\n",
       "      <th>70613</th>\n",
       "      <td>ENSG00000293604</td>\n",
       "      <td>ORAI1</td>\n",
       "      <td>25896.0</td>\n",
       "      <td>CRACM1,FLJ14466,TMEM142A</td>\n",
       "    </tr>\n",
       "  </tbody>\n",
       "</table>\n",
       "<p>70614 rows × 4 columns</p>\n",
       "</div>"
      ],
      "text/plain": [
       "               ENSG_ID gene_symbol  HGNC_ID  \\\n",
       "0      ENSG00000000003      TSPAN6  11858.0   \n",
       "1      ENSG00000000005        TNMD  17757.0   \n",
       "2      ENSG00000000419        DPM1   3005.0   \n",
       "3      ENSG00000000457       SCYL3  19285.0   \n",
       "4      ENSG00000000460       FIRRM  25565.0   \n",
       "...                ...         ...      ...   \n",
       "70609  ENSG00000293596         NaN      NaN   \n",
       "70610  ENSG00000293597   LINC00970  48730.0   \n",
       "70611  ENSG00000293599         NaN      NaN   \n",
       "70612  ENSG00000293600         NaN      NaN   \n",
       "70613  ENSG00000293604       ORAI1  25896.0   \n",
       "\n",
       "                               alias_symbol  \n",
       "0                       T245,TM4SF6,TSPAN-6  \n",
       "1          BRICD4,CHM1L,MYODULIN,TEM,TENDIN  \n",
       "2                                CDGIE,MPDS  \n",
       "3                              PACE-1,PACE1  \n",
       "4      APOLO1,C1ORF112,FLIP,FLJ10706,MEICA1  \n",
       "...                                     ...  \n",
       "70609                                   NaN  \n",
       "70610                                   NaN  \n",
       "70611                                   NaN  \n",
       "70612                                   NaN  \n",
       "70613              CRACM1,FLJ14466,TMEM142A  \n",
       "\n",
       "[70614 rows x 4 columns]"
      ]
     },
     "execution_count": 1428,
     "metadata": {},
     "output_type": "execute_result"
    }
   ],
   "source": [
    "merged_alias_ensg_df = pd.read_csv(\n",
    "    \"../created_files/merged_alias_ensg_df.csv\", index_col=[0])\n",
    "merged_alias_ensg_df"
   ]
  },
  {
   "cell_type": "markdown",
   "metadata": {},
   "source": [
    "### <a id='toc1_1_1_'></a>[How many total unique gene records are there in Ensembl](#toc0_)"
   ]
  },
  {
   "cell_type": "markdown",
   "metadata": {},
   "source": [
    "By ENSG ID"
   ]
  },
  {
   "cell_type": "code",
   "execution_count": 1429,
   "metadata": {},
   "outputs": [
    {
     "data": {
      "text/plain": [
       "70611"
      ]
     },
     "execution_count": 1429,
     "metadata": {},
     "output_type": "execute_result"
    }
   ],
   "source": [
    "ensg_gene_id_set = set(mini_ensg_df[\"ENSG_ID\"])\n",
    "len(ensg_gene_id_set)"
   ]
  },
  {
   "cell_type": "markdown",
   "metadata": {},
   "source": [
    "### <a id='toc1_1_2_'></a>[Identify alias-alias collision symbols](#toc0_)"
   ]
  },
  {
   "cell_type": "code",
   "execution_count": 1430,
   "metadata": {},
   "outputs": [
    {
     "data": {
      "text/plain": [
       "(           ENSG_ID gene_symbol alias_symbol  HGNC_ID  NCBI_ID\n",
       " 0  ENSG00000210049       MT-TF         MTTF   7481.0      NaN\n",
       " 1  ENSG00000210049       MT-TF         TRNF   7481.0      NaN\n",
       " 2  ENSG00000211459     MT-RNR1          12S   7470.0      NaN\n",
       " 3  ENSG00000211459     MT-RNR1       MOTS-C   7470.0      NaN\n",
       " 4  ENSG00000211459     MT-RNR1       MTRNR1   7470.0      NaN,\n",
       "   gene_symbol                                       alias_symbol  \\\n",
       " 0       KLRG1                            2F1,CLEC15A,MAFA,MAFA-L   \n",
       " 1     SLC25A5                                     2F1,ANT2,T2,T3   \n",
       " 2      S100A8        60B8AG,CAGA,CFAG,CGLA,MRP-8,MRP8,P8,S100-A8   \n",
       " 3      S100A9  60B8AG,CAGB,CFAG,CGLB,LIAG,MAC387,MIF,MRP-14,M...   \n",
       " 4       GNAI3                                               87U6   \n",
       " \n",
       "            ENSG_ID  HGNC_ID  NCBI_ID collision source  \n",
       " 0  ENSG00000139187   6380.0  10219.0       2F1   ENSG  \n",
       " 1  ENSG00000005022  10991.0    292.0       2F1   ENSG  \n",
       " 2  ENSG00000143546  10498.0   6279.0    60B8AG   ENSG  \n",
       " 3  ENSG00000163220  10499.0   6280.0    60B8AG   ENSG  \n",
       " 4  ENSG00000065135   4387.0   2773.0      87U6   ENSG  ,\n",
       "   collision                                            ENSG_ID  \\\n",
       " 0       2F1                   ENSG00000139187, ENSG00000005022   \n",
       " 1    60B8AG                   ENSG00000143546, ENSG00000163220   \n",
       " 2      87U6                   ENSG00000065135, ENSG00000206832   \n",
       " 3       9G8                   ENSG00000115875, ENSG00000164609   \n",
       " 4        A1  ENSG00000163918, ENSG00000033627, ENSG00000049...   \n",
       " \n",
       "                   gene_symbol source  \n",
       " 0              KLRG1, SLC25A5   ENSG  \n",
       " 1              S100A8, S100A9   ENSG  \n",
       " 2                GNAI3, RNU6V   ENSG  \n",
       " 3                 SRSF7, SLU7   ENSG  \n",
       " 4  RFC4, ATP6V0A1, RFC2, RFC1   ENSG  )"
      ]
     },
     "execution_count": 1430,
     "metadata": {},
     "output_type": "execute_result"
    }
   ],
   "source": [
    "create_aa_collision_df(subset_genes_ensg_df, merged_alias_ensg_df, source=\"ENSG\")"
   ]
  },
  {
   "cell_type": "code",
   "execution_count": 1431,
   "metadata": {},
   "outputs": [
    {
     "data": {
      "text/html": [
       "<div>\n",
       "<style scoped>\n",
       "    .dataframe tbody tr th:only-of-type {\n",
       "        vertical-align: middle;\n",
       "    }\n",
       "\n",
       "    .dataframe tbody tr th {\n",
       "        vertical-align: top;\n",
       "    }\n",
       "\n",
       "    .dataframe thead th {\n",
       "        text-align: right;\n",
       "    }\n",
       "</style>\n",
       "<table border=\"1\" class=\"dataframe\">\n",
       "  <thead>\n",
       "    <tr style=\"text-align: right;\">\n",
       "      <th></th>\n",
       "      <th>ENSG_ID</th>\n",
       "      <th>gene_symbol</th>\n",
       "      <th>alias_symbol</th>\n",
       "      <th>HGNC_ID</th>\n",
       "      <th>NCBI_ID</th>\n",
       "    </tr>\n",
       "  </thead>\n",
       "  <tbody>\n",
       "    <tr>\n",
       "      <th>0</th>\n",
       "      <td>ENSG00000210049</td>\n",
       "      <td>MT-TF</td>\n",
       "      <td>MTTF</td>\n",
       "      <td>7481.0</td>\n",
       "      <td>NaN</td>\n",
       "    </tr>\n",
       "    <tr>\n",
       "      <th>1</th>\n",
       "      <td>ENSG00000210049</td>\n",
       "      <td>MT-TF</td>\n",
       "      <td>TRNF</td>\n",
       "      <td>7481.0</td>\n",
       "      <td>NaN</td>\n",
       "    </tr>\n",
       "    <tr>\n",
       "      <th>2</th>\n",
       "      <td>ENSG00000211459</td>\n",
       "      <td>MT-RNR1</td>\n",
       "      <td>12S</td>\n",
       "      <td>7470.0</td>\n",
       "      <td>NaN</td>\n",
       "    </tr>\n",
       "    <tr>\n",
       "      <th>3</th>\n",
       "      <td>ENSG00000211459</td>\n",
       "      <td>MT-RNR1</td>\n",
       "      <td>MOTS-C</td>\n",
       "      <td>7470.0</td>\n",
       "      <td>NaN</td>\n",
       "    </tr>\n",
       "    <tr>\n",
       "      <th>4</th>\n",
       "      <td>ENSG00000211459</td>\n",
       "      <td>MT-RNR1</td>\n",
       "      <td>MTRNR1</td>\n",
       "      <td>7470.0</td>\n",
       "      <td>NaN</td>\n",
       "    </tr>\n",
       "    <tr>\n",
       "      <th>...</th>\n",
       "      <td>...</td>\n",
       "      <td>...</td>\n",
       "      <td>...</td>\n",
       "      <td>...</td>\n",
       "      <td>...</td>\n",
       "    </tr>\n",
       "    <tr>\n",
       "      <th>117133</th>\n",
       "      <td>ENSG00000232679</td>\n",
       "      <td>LINC01705</td>\n",
       "      <td>ERLR</td>\n",
       "      <td>52493.0</td>\n",
       "      <td>105372950.0</td>\n",
       "    </tr>\n",
       "    <tr>\n",
       "      <th>117134</th>\n",
       "      <td>ENSG00000232679</td>\n",
       "      <td>LINC01705</td>\n",
       "      <td>RP11-400N13.3</td>\n",
       "      <td>52493.0</td>\n",
       "      <td>105372950.0</td>\n",
       "    </tr>\n",
       "    <tr>\n",
       "      <th>117136</th>\n",
       "      <td>ENSG00000228437</td>\n",
       "      <td>LINC02474</td>\n",
       "      <td>LNCSLCC1</td>\n",
       "      <td>53417.0</td>\n",
       "      <td>NaN</td>\n",
       "    </tr>\n",
       "    <tr>\n",
       "      <th>117137</th>\n",
       "      <td>ENSG00000228437</td>\n",
       "      <td>LINC02474</td>\n",
       "      <td>RP11-400N13.2</td>\n",
       "      <td>53417.0</td>\n",
       "      <td>NaN</td>\n",
       "    </tr>\n",
       "    <tr>\n",
       "      <th>117138</th>\n",
       "      <td>ENSG00000229463</td>\n",
       "      <td>LYST-AS1</td>\n",
       "      <td>LYST-IT2</td>\n",
       "      <td>41320.0</td>\n",
       "      <td>NaN</td>\n",
       "    </tr>\n",
       "  </tbody>\n",
       "</table>\n",
       "<p>57275 rows × 5 columns</p>\n",
       "</div>"
      ],
      "text/plain": [
       "                ENSG_ID gene_symbol   alias_symbol  HGNC_ID      NCBI_ID\n",
       "0       ENSG00000210049       MT-TF           MTTF   7481.0          NaN\n",
       "1       ENSG00000210049       MT-TF           TRNF   7481.0          NaN\n",
       "2       ENSG00000211459     MT-RNR1            12S   7470.0          NaN\n",
       "3       ENSG00000211459     MT-RNR1         MOTS-C   7470.0          NaN\n",
       "4       ENSG00000211459     MT-RNR1         MTRNR1   7470.0          NaN\n",
       "...                 ...         ...            ...      ...          ...\n",
       "117133  ENSG00000232679   LINC01705           ERLR  52493.0  105372950.0\n",
       "117134  ENSG00000232679   LINC01705  RP11-400N13.3  52493.0  105372950.0\n",
       "117136  ENSG00000228437   LINC02474       LNCSLCC1  53417.0          NaN\n",
       "117137  ENSG00000228437   LINC02474  RP11-400N13.2  53417.0          NaN\n",
       "117138  ENSG00000229463    LYST-AS1       LYST-IT2  41320.0          NaN\n",
       "\n",
       "[57275 rows x 5 columns]"
      ]
     },
     "execution_count": 1431,
     "metadata": {},
     "output_type": "execute_result"
    }
   ],
   "source": [
    "subset_genes_ensg_df = pd.read_csv(\n",
    "    \"../created_files/subset_genes_ensg_df.csv\", index_col=[0])\n",
    "subset_genes_ensg_df"
   ]
  },
  {
   "cell_type": "code",
   "execution_count": 1432,
   "metadata": {},
   "outputs": [
    {
     "data": {
      "text/html": [
       "<div>\n",
       "<style scoped>\n",
       "    .dataframe tbody tr th:only-of-type {\n",
       "        vertical-align: middle;\n",
       "    }\n",
       "\n",
       "    .dataframe tbody tr th {\n",
       "        vertical-align: top;\n",
       "    }\n",
       "\n",
       "    .dataframe thead th {\n",
       "        text-align: right;\n",
       "    }\n",
       "</style>\n",
       "<table border=\"1\" class=\"dataframe\">\n",
       "  <thead>\n",
       "    <tr style=\"text-align: right;\">\n",
       "      <th></th>\n",
       "      <th>ENSG_ID</th>\n",
       "      <th>gene_symbol</th>\n",
       "      <th>alias_symbol</th>\n",
       "      <th>HGNC_ID</th>\n",
       "      <th>NCBI_ID</th>\n",
       "    </tr>\n",
       "  </thead>\n",
       "  <tbody>\n",
       "    <tr>\n",
       "      <th>112937</th>\n",
       "      <td>ENSG00000226306</td>\n",
       "      <td>NPY6R</td>\n",
       "      <td>NPY1RL</td>\n",
       "      <td>7959.0</td>\n",
       "      <td>NaN</td>\n",
       "    </tr>\n",
       "    <tr>\n",
       "      <th>112938</th>\n",
       "      <td>ENSG00000226306</td>\n",
       "      <td>NPY6R</td>\n",
       "      <td>NPY6RP</td>\n",
       "      <td>7959.0</td>\n",
       "      <td>NaN</td>\n",
       "    </tr>\n",
       "    <tr>\n",
       "      <th>112939</th>\n",
       "      <td>ENSG00000226306</td>\n",
       "      <td>NPY6R</td>\n",
       "      <td>PP2</td>\n",
       "      <td>7959.0</td>\n",
       "      <td>NaN</td>\n",
       "    </tr>\n",
       "    <tr>\n",
       "      <th>112944</th>\n",
       "      <td>ENSG00000293504</td>\n",
       "      <td>NPY6R</td>\n",
       "      <td>Y2B</td>\n",
       "      <td>NaN</td>\n",
       "      <td>4888.0</td>\n",
       "    </tr>\n",
       "  </tbody>\n",
       "</table>\n",
       "</div>"
      ],
      "text/plain": [
       "                ENSG_ID gene_symbol alias_symbol  HGNC_ID  NCBI_ID\n",
       "112937  ENSG00000226306       NPY6R       NPY1RL   7959.0      NaN\n",
       "112938  ENSG00000226306       NPY6R       NPY6RP   7959.0      NaN\n",
       "112939  ENSG00000226306       NPY6R          PP2   7959.0      NaN\n",
       "112944  ENSG00000293504       NPY6R          Y2B      NaN   4888.0"
      ]
     },
     "execution_count": 1432,
     "metadata": {},
     "output_type": "execute_result"
    }
   ],
   "source": [
    "subset_genes_ensg_df.loc[subset_genes_ensg_df[\"gene_symbol\"] == \"NPY6R\"]"
   ]
  },
  {
   "cell_type": "code",
   "execution_count": 1433,
   "metadata": {},
   "outputs": [
    {
     "data": {
      "text/html": [
       "<div>\n",
       "<style scoped>\n",
       "    .dataframe tbody tr th:only-of-type {\n",
       "        vertical-align: middle;\n",
       "    }\n",
       "\n",
       "    .dataframe tbody tr th {\n",
       "        vertical-align: top;\n",
       "    }\n",
       "\n",
       "    .dataframe thead th {\n",
       "        text-align: right;\n",
       "    }\n",
       "</style>\n",
       "<table border=\"1\" class=\"dataframe\">\n",
       "  <thead>\n",
       "    <tr style=\"text-align: right;\">\n",
       "      <th></th>\n",
       "      <th>gene_symbol</th>\n",
       "      <th>alias_symbol</th>\n",
       "      <th>ENSG_ID</th>\n",
       "      <th>HGNC_ID</th>\n",
       "      <th>NCBI_ID</th>\n",
       "      <th>collision</th>\n",
       "      <th>source</th>\n",
       "    </tr>\n",
       "  </thead>\n",
       "  <tbody>\n",
       "    <tr>\n",
       "      <th>0</th>\n",
       "      <td>KLRG1</td>\n",
       "      <td>2F1,CLEC15A,MAFA,MAFA-L</td>\n",
       "      <td>ENSG00000139187</td>\n",
       "      <td>6380.0</td>\n",
       "      <td>10219.0</td>\n",
       "      <td>2F1</td>\n",
       "      <td>ENSG</td>\n",
       "    </tr>\n",
       "    <tr>\n",
       "      <th>1</th>\n",
       "      <td>SLC25A5</td>\n",
       "      <td>2F1,ANT2,T2,T3</td>\n",
       "      <td>ENSG00000005022</td>\n",
       "      <td>10991.0</td>\n",
       "      <td>292.0</td>\n",
       "      <td>2F1</td>\n",
       "      <td>ENSG</td>\n",
       "    </tr>\n",
       "    <tr>\n",
       "      <th>2</th>\n",
       "      <td>S100A8</td>\n",
       "      <td>60B8AG,CAGA,CFAG,CGLA,MRP-8,MRP8,P8,S100-A8</td>\n",
       "      <td>ENSG00000143546</td>\n",
       "      <td>10498.0</td>\n",
       "      <td>6279.0</td>\n",
       "      <td>60B8AG</td>\n",
       "      <td>ENSG</td>\n",
       "    </tr>\n",
       "    <tr>\n",
       "      <th>3</th>\n",
       "      <td>S100A9</td>\n",
       "      <td>60B8AG,CAGB,CFAG,CGLB,LIAG,MAC387,MIF,MRP-14,M...</td>\n",
       "      <td>ENSG00000163220</td>\n",
       "      <td>10499.0</td>\n",
       "      <td>6280.0</td>\n",
       "      <td>60B8AG</td>\n",
       "      <td>ENSG</td>\n",
       "    </tr>\n",
       "    <tr>\n",
       "      <th>4</th>\n",
       "      <td>GNAI3</td>\n",
       "      <td>87U6</td>\n",
       "      <td>ENSG00000065135</td>\n",
       "      <td>4387.0</td>\n",
       "      <td>2773.0</td>\n",
       "      <td>87U6</td>\n",
       "      <td>ENSG</td>\n",
       "    </tr>\n",
       "    <tr>\n",
       "      <th>...</th>\n",
       "      <td>...</td>\n",
       "      <td>...</td>\n",
       "      <td>...</td>\n",
       "      <td>...</td>\n",
       "      <td>...</td>\n",
       "      <td>...</td>\n",
       "      <td>...</td>\n",
       "    </tr>\n",
       "    <tr>\n",
       "      <th>3674</th>\n",
       "      <td>SLC30A10</td>\n",
       "      <td>DKFZP547M236,ZNT-10,ZNT10,ZNT8,ZRC1</td>\n",
       "      <td>ENSG00000196660</td>\n",
       "      <td>25355.0</td>\n",
       "      <td>55532.0</td>\n",
       "      <td>ZNT8</td>\n",
       "      <td>ENSG</td>\n",
       "    </tr>\n",
       "    <tr>\n",
       "      <th>3675</th>\n",
       "      <td>SLC30A10</td>\n",
       "      <td>DKFZP547M236,ZNT-10,ZNT10,ZNT8,ZRC1</td>\n",
       "      <td>ENSG00000196660</td>\n",
       "      <td>25355.0</td>\n",
       "      <td>55532.0</td>\n",
       "      <td>ZRC1</td>\n",
       "      <td>ENSG</td>\n",
       "    </tr>\n",
       "    <tr>\n",
       "      <th>3676</th>\n",
       "      <td>SLC30A1</td>\n",
       "      <td>ZNT1,ZRC1</td>\n",
       "      <td>ENSG00000170385</td>\n",
       "      <td>11012.0</td>\n",
       "      <td>7779.0</td>\n",
       "      <td>ZRC1</td>\n",
       "      <td>ENSG</td>\n",
       "    </tr>\n",
       "    <tr>\n",
       "      <th>3677</th>\n",
       "      <td>ZYG11B</td>\n",
       "      <td>FLJ13456,ZYG11</td>\n",
       "      <td>ENSG00000162378</td>\n",
       "      <td>25820.0</td>\n",
       "      <td>79699.0</td>\n",
       "      <td>ZYG11</td>\n",
       "      <td>ENSG</td>\n",
       "    </tr>\n",
       "    <tr>\n",
       "      <th>3678</th>\n",
       "      <td>ZYG11A</td>\n",
       "      <td>ZYG11</td>\n",
       "      <td>ENSG00000203995</td>\n",
       "      <td>32058.0</td>\n",
       "      <td>440590.0</td>\n",
       "      <td>ZYG11</td>\n",
       "      <td>ENSG</td>\n",
       "    </tr>\n",
       "  </tbody>\n",
       "</table>\n",
       "<p>3679 rows × 7 columns</p>\n",
       "</div>"
      ],
      "text/plain": [
       "     gene_symbol                                       alias_symbol  \\\n",
       "0          KLRG1                            2F1,CLEC15A,MAFA,MAFA-L   \n",
       "1        SLC25A5                                     2F1,ANT2,T2,T3   \n",
       "2         S100A8        60B8AG,CAGA,CFAG,CGLA,MRP-8,MRP8,P8,S100-A8   \n",
       "3         S100A9  60B8AG,CAGB,CFAG,CGLB,LIAG,MAC387,MIF,MRP-14,M...   \n",
       "4          GNAI3                                               87U6   \n",
       "...          ...                                                ...   \n",
       "3674    SLC30A10                DKFZP547M236,ZNT-10,ZNT10,ZNT8,ZRC1   \n",
       "3675    SLC30A10                DKFZP547M236,ZNT-10,ZNT10,ZNT8,ZRC1   \n",
       "3676     SLC30A1                                          ZNT1,ZRC1   \n",
       "3677      ZYG11B                                     FLJ13456,ZYG11   \n",
       "3678      ZYG11A                                              ZYG11   \n",
       "\n",
       "              ENSG_ID  HGNC_ID   NCBI_ID collision source  \n",
       "0     ENSG00000139187   6380.0   10219.0       2F1   ENSG  \n",
       "1     ENSG00000005022  10991.0     292.0       2F1   ENSG  \n",
       "2     ENSG00000143546  10498.0    6279.0    60B8AG   ENSG  \n",
       "3     ENSG00000163220  10499.0    6280.0    60B8AG   ENSG  \n",
       "4     ENSG00000065135   4387.0    2773.0      87U6   ENSG  \n",
       "...               ...      ...       ...       ...    ...  \n",
       "3674  ENSG00000196660  25355.0   55532.0      ZNT8   ENSG  \n",
       "3675  ENSG00000196660  25355.0   55532.0      ZRC1   ENSG  \n",
       "3676  ENSG00000170385  11012.0    7779.0      ZRC1   ENSG  \n",
       "3677  ENSG00000162378  25820.0   79699.0     ZYG11   ENSG  \n",
       "3678  ENSG00000203995  32058.0  440590.0     ZYG11   ENSG  \n",
       "\n",
       "[3679 rows x 7 columns]"
      ]
     },
     "execution_count": 1433,
     "metadata": {},
     "output_type": "execute_result"
    }
   ],
   "source": [
    "aa_collision_gene_ensg_df = pd.read_csv(\n",
    "    \"../created_files/aa_collision_gene_ensg_df.csv\", index_col=[0])\n",
    "aa_collision_gene_ensg_df"
   ]
  },
  {
   "cell_type": "code",
   "execution_count": 1434,
   "metadata": {},
   "outputs": [
    {
     "data": {
      "text/html": [
       "<div>\n",
       "<style scoped>\n",
       "    .dataframe tbody tr th:only-of-type {\n",
       "        vertical-align: middle;\n",
       "    }\n",
       "\n",
       "    .dataframe tbody tr th {\n",
       "        vertical-align: top;\n",
       "    }\n",
       "\n",
       "    .dataframe thead th {\n",
       "        text-align: right;\n",
       "    }\n",
       "</style>\n",
       "<table border=\"1\" class=\"dataframe\">\n",
       "  <thead>\n",
       "    <tr style=\"text-align: right;\">\n",
       "      <th></th>\n",
       "      <th>collision</th>\n",
       "      <th>ENSG_ID</th>\n",
       "      <th>gene_symbol</th>\n",
       "      <th>source</th>\n",
       "    </tr>\n",
       "  </thead>\n",
       "  <tbody>\n",
       "    <tr>\n",
       "      <th>0</th>\n",
       "      <td>2F1</td>\n",
       "      <td>ENSG00000139187, ENSG00000005022</td>\n",
       "      <td>KLRG1, SLC25A5</td>\n",
       "      <td>ENSG</td>\n",
       "    </tr>\n",
       "    <tr>\n",
       "      <th>1</th>\n",
       "      <td>60B8AG</td>\n",
       "      <td>ENSG00000143546, ENSG00000163220</td>\n",
       "      <td>S100A8, S100A9</td>\n",
       "      <td>ENSG</td>\n",
       "    </tr>\n",
       "    <tr>\n",
       "      <th>2</th>\n",
       "      <td>87U6</td>\n",
       "      <td>ENSG00000065135, ENSG00000206832</td>\n",
       "      <td>GNAI3, RNU6V</td>\n",
       "      <td>ENSG</td>\n",
       "    </tr>\n",
       "    <tr>\n",
       "      <th>3</th>\n",
       "      <td>9G8</td>\n",
       "      <td>ENSG00000115875, ENSG00000164609</td>\n",
       "      <td>SRSF7, SLU7</td>\n",
       "      <td>ENSG</td>\n",
       "    </tr>\n",
       "    <tr>\n",
       "      <th>4</th>\n",
       "      <td>A1</td>\n",
       "      <td>ENSG00000163918, ENSG00000033627, ENSG00000049...</td>\n",
       "      <td>RFC4, ATP6V0A1, RFC2, RFC1</td>\n",
       "      <td>ENSG</td>\n",
       "    </tr>\n",
       "    <tr>\n",
       "      <th>...</th>\n",
       "      <td>...</td>\n",
       "      <td>...</td>\n",
       "      <td>...</td>\n",
       "      <td>...</td>\n",
       "    </tr>\n",
       "    <tr>\n",
       "      <th>1612</th>\n",
       "      <td>ZIP4</td>\n",
       "      <td>ENSG00000120498, ENSG00000285243</td>\n",
       "      <td>TEX11, SLC39A4</td>\n",
       "      <td>ENSG</td>\n",
       "    </tr>\n",
       "    <tr>\n",
       "      <th>1613</th>\n",
       "      <td>ZNF422</td>\n",
       "      <td>ENSG00000165512, ENSG00000172943</td>\n",
       "      <td>ZNF22, PHF8</td>\n",
       "      <td>ENSG</td>\n",
       "    </tr>\n",
       "    <tr>\n",
       "      <th>1614</th>\n",
       "      <td>ZNT8</td>\n",
       "      <td>ENSG00000164756, ENSG00000196660</td>\n",
       "      <td>SLC30A8, SLC30A10</td>\n",
       "      <td>ENSG</td>\n",
       "    </tr>\n",
       "    <tr>\n",
       "      <th>1615</th>\n",
       "      <td>ZRC1</td>\n",
       "      <td>ENSG00000196660, ENSG00000170385</td>\n",
       "      <td>SLC30A10, SLC30A1</td>\n",
       "      <td>ENSG</td>\n",
       "    </tr>\n",
       "    <tr>\n",
       "      <th>1616</th>\n",
       "      <td>ZYG11</td>\n",
       "      <td>ENSG00000162378, ENSG00000203995</td>\n",
       "      <td>ZYG11B, ZYG11A</td>\n",
       "      <td>ENSG</td>\n",
       "    </tr>\n",
       "  </tbody>\n",
       "</table>\n",
       "<p>1617 rows × 4 columns</p>\n",
       "</div>"
      ],
      "text/plain": [
       "     collision                                            ENSG_ID  \\\n",
       "0          2F1                   ENSG00000139187, ENSG00000005022   \n",
       "1       60B8AG                   ENSG00000143546, ENSG00000163220   \n",
       "2         87U6                   ENSG00000065135, ENSG00000206832   \n",
       "3          9G8                   ENSG00000115875, ENSG00000164609   \n",
       "4           A1  ENSG00000163918, ENSG00000033627, ENSG00000049...   \n",
       "...        ...                                                ...   \n",
       "1612      ZIP4                   ENSG00000120498, ENSG00000285243   \n",
       "1613    ZNF422                   ENSG00000165512, ENSG00000172943   \n",
       "1614      ZNT8                   ENSG00000164756, ENSG00000196660   \n",
       "1615      ZRC1                   ENSG00000196660, ENSG00000170385   \n",
       "1616     ZYG11                   ENSG00000162378, ENSG00000203995   \n",
       "\n",
       "                     gene_symbol source  \n",
       "0                 KLRG1, SLC25A5   ENSG  \n",
       "1                 S100A8, S100A9   ENSG  \n",
       "2                   GNAI3, RNU6V   ENSG  \n",
       "3                    SRSF7, SLU7   ENSG  \n",
       "4     RFC4, ATP6V0A1, RFC2, RFC1   ENSG  \n",
       "...                          ...    ...  \n",
       "1612              TEX11, SLC39A4   ENSG  \n",
       "1613                 ZNF22, PHF8   ENSG  \n",
       "1614           SLC30A8, SLC30A10   ENSG  \n",
       "1615           SLC30A10, SLC30A1   ENSG  \n",
       "1616              ZYG11B, ZYG11A   ENSG  \n",
       "\n",
       "[1617 rows x 4 columns]"
      ]
     },
     "execution_count": 1434,
     "metadata": {},
     "output_type": "execute_result"
    }
   ],
   "source": [
    "aa_collision_alias_ensg_df = pd.read_csv(\n",
    "    \"../created_files/aa_collision_alias_ensg_df.csv\", index_col=[0])\n",
    "aa_collision_alias_ensg_df"
   ]
  },
  {
   "cell_type": "markdown",
   "metadata": {},
   "source": [
    "### <a id='toc1_1_3_'></a>[Create a histogram displaying how frequent the numebr of gene records sharing an alias is](#toc0_)"
   ]
  },
  {
   "cell_type": "code",
   "execution_count": 1435,
   "metadata": {},
   "outputs": [],
   "source": [
    "ensg_alias_symbol_set = set(subset_genes_ensg_df[\"alias_symbol\"])\n",
    "ensg_alias_count = len(ensg_alias_symbol_set)"
   ]
  },
  {
   "cell_type": "code",
   "execution_count": 1436,
   "metadata": {},
   "outputs": [
    {
     "data": {
      "application/vnd.plotly.v1+json": {
       "config": {
        "plotlyServerURL": "https://plot.ly"
       },
       "data": [
        {
         "alignmentgroup": "True",
         "hovertemplate": "num_gene_records=%{x}<br>percent_collision_symbol=%{y}<extra></extra>",
         "legendgroup": "",
         "marker": {
          "color": "#636efa",
          "pattern": {
           "shape": ""
          }
         },
         "name": "",
         "offsetgroup": "",
         "orientation": "v",
         "showlegend": false,
         "textposition": "auto",
         "type": "bar",
         "x": [
          2,
          3,
          4,
          5,
          6,
          7,
          8,
          9,
          10,
          11
         ],
         "xaxis": "x",
         "y": [
          2.430586999438538,
          0.3477441906797312,
          0.081502544690562,
          0.027167514896854,
          0.023545179577273468,
          0.0054335029793708,
          0.0036223353195805334,
          0.0036223353195805334,
          0.0036223353195805334,
          0.0018111676597902667
         ],
         "yaxis": "y"
        }
       ],
       "layout": {
        "barmode": "relative",
        "legend": {
         "tracegroupgap": 0
        },
        "margin": {
         "t": 60
        },
        "template": {
         "data": {
          "bar": [
           {
            "error_x": {
             "color": "#2a3f5f"
            },
            "error_y": {
             "color": "#2a3f5f"
            },
            "marker": {
             "line": {
              "color": "#E5ECF6",
              "width": 0.5
             },
             "pattern": {
              "fillmode": "overlay",
              "size": 10,
              "solidity": 0.2
             }
            },
            "type": "bar"
           }
          ],
          "barpolar": [
           {
            "marker": {
             "line": {
              "color": "#E5ECF6",
              "width": 0.5
             },
             "pattern": {
              "fillmode": "overlay",
              "size": 10,
              "solidity": 0.2
             }
            },
            "type": "barpolar"
           }
          ],
          "carpet": [
           {
            "aaxis": {
             "endlinecolor": "#2a3f5f",
             "gridcolor": "white",
             "linecolor": "white",
             "minorgridcolor": "white",
             "startlinecolor": "#2a3f5f"
            },
            "baxis": {
             "endlinecolor": "#2a3f5f",
             "gridcolor": "white",
             "linecolor": "white",
             "minorgridcolor": "white",
             "startlinecolor": "#2a3f5f"
            },
            "type": "carpet"
           }
          ],
          "choropleth": [
           {
            "colorbar": {
             "outlinewidth": 0,
             "ticks": ""
            },
            "type": "choropleth"
           }
          ],
          "contour": [
           {
            "colorbar": {
             "outlinewidth": 0,
             "ticks": ""
            },
            "colorscale": [
             [
              0,
              "#0d0887"
             ],
             [
              0.1111111111111111,
              "#46039f"
             ],
             [
              0.2222222222222222,
              "#7201a8"
             ],
             [
              0.3333333333333333,
              "#9c179e"
             ],
             [
              0.4444444444444444,
              "#bd3786"
             ],
             [
              0.5555555555555556,
              "#d8576b"
             ],
             [
              0.6666666666666666,
              "#ed7953"
             ],
             [
              0.7777777777777778,
              "#fb9f3a"
             ],
             [
              0.8888888888888888,
              "#fdca26"
             ],
             [
              1,
              "#f0f921"
             ]
            ],
            "type": "contour"
           }
          ],
          "contourcarpet": [
           {
            "colorbar": {
             "outlinewidth": 0,
             "ticks": ""
            },
            "type": "contourcarpet"
           }
          ],
          "heatmap": [
           {
            "colorbar": {
             "outlinewidth": 0,
             "ticks": ""
            },
            "colorscale": [
             [
              0,
              "#0d0887"
             ],
             [
              0.1111111111111111,
              "#46039f"
             ],
             [
              0.2222222222222222,
              "#7201a8"
             ],
             [
              0.3333333333333333,
              "#9c179e"
             ],
             [
              0.4444444444444444,
              "#bd3786"
             ],
             [
              0.5555555555555556,
              "#d8576b"
             ],
             [
              0.6666666666666666,
              "#ed7953"
             ],
             [
              0.7777777777777778,
              "#fb9f3a"
             ],
             [
              0.8888888888888888,
              "#fdca26"
             ],
             [
              1,
              "#f0f921"
             ]
            ],
            "type": "heatmap"
           }
          ],
          "heatmapgl": [
           {
            "colorbar": {
             "outlinewidth": 0,
             "ticks": ""
            },
            "colorscale": [
             [
              0,
              "#0d0887"
             ],
             [
              0.1111111111111111,
              "#46039f"
             ],
             [
              0.2222222222222222,
              "#7201a8"
             ],
             [
              0.3333333333333333,
              "#9c179e"
             ],
             [
              0.4444444444444444,
              "#bd3786"
             ],
             [
              0.5555555555555556,
              "#d8576b"
             ],
             [
              0.6666666666666666,
              "#ed7953"
             ],
             [
              0.7777777777777778,
              "#fb9f3a"
             ],
             [
              0.8888888888888888,
              "#fdca26"
             ],
             [
              1,
              "#f0f921"
             ]
            ],
            "type": "heatmapgl"
           }
          ],
          "histogram": [
           {
            "marker": {
             "pattern": {
              "fillmode": "overlay",
              "size": 10,
              "solidity": 0.2
             }
            },
            "type": "histogram"
           }
          ],
          "histogram2d": [
           {
            "colorbar": {
             "outlinewidth": 0,
             "ticks": ""
            },
            "colorscale": [
             [
              0,
              "#0d0887"
             ],
             [
              0.1111111111111111,
              "#46039f"
             ],
             [
              0.2222222222222222,
              "#7201a8"
             ],
             [
              0.3333333333333333,
              "#9c179e"
             ],
             [
              0.4444444444444444,
              "#bd3786"
             ],
             [
              0.5555555555555556,
              "#d8576b"
             ],
             [
              0.6666666666666666,
              "#ed7953"
             ],
             [
              0.7777777777777778,
              "#fb9f3a"
             ],
             [
              0.8888888888888888,
              "#fdca26"
             ],
             [
              1,
              "#f0f921"
             ]
            ],
            "type": "histogram2d"
           }
          ],
          "histogram2dcontour": [
           {
            "colorbar": {
             "outlinewidth": 0,
             "ticks": ""
            },
            "colorscale": [
             [
              0,
              "#0d0887"
             ],
             [
              0.1111111111111111,
              "#46039f"
             ],
             [
              0.2222222222222222,
              "#7201a8"
             ],
             [
              0.3333333333333333,
              "#9c179e"
             ],
             [
              0.4444444444444444,
              "#bd3786"
             ],
             [
              0.5555555555555556,
              "#d8576b"
             ],
             [
              0.6666666666666666,
              "#ed7953"
             ],
             [
              0.7777777777777778,
              "#fb9f3a"
             ],
             [
              0.8888888888888888,
              "#fdca26"
             ],
             [
              1,
              "#f0f921"
             ]
            ],
            "type": "histogram2dcontour"
           }
          ],
          "mesh3d": [
           {
            "colorbar": {
             "outlinewidth": 0,
             "ticks": ""
            },
            "type": "mesh3d"
           }
          ],
          "parcoords": [
           {
            "line": {
             "colorbar": {
              "outlinewidth": 0,
              "ticks": ""
             }
            },
            "type": "parcoords"
           }
          ],
          "pie": [
           {
            "automargin": true,
            "type": "pie"
           }
          ],
          "scatter": [
           {
            "fillpattern": {
             "fillmode": "overlay",
             "size": 10,
             "solidity": 0.2
            },
            "type": "scatter"
           }
          ],
          "scatter3d": [
           {
            "line": {
             "colorbar": {
              "outlinewidth": 0,
              "ticks": ""
             }
            },
            "marker": {
             "colorbar": {
              "outlinewidth": 0,
              "ticks": ""
             }
            },
            "type": "scatter3d"
           }
          ],
          "scattercarpet": [
           {
            "marker": {
             "colorbar": {
              "outlinewidth": 0,
              "ticks": ""
             }
            },
            "type": "scattercarpet"
           }
          ],
          "scattergeo": [
           {
            "marker": {
             "colorbar": {
              "outlinewidth": 0,
              "ticks": ""
             }
            },
            "type": "scattergeo"
           }
          ],
          "scattergl": [
           {
            "marker": {
             "colorbar": {
              "outlinewidth": 0,
              "ticks": ""
             }
            },
            "type": "scattergl"
           }
          ],
          "scattermapbox": [
           {
            "marker": {
             "colorbar": {
              "outlinewidth": 0,
              "ticks": ""
             }
            },
            "type": "scattermapbox"
           }
          ],
          "scatterpolar": [
           {
            "marker": {
             "colorbar": {
              "outlinewidth": 0,
              "ticks": ""
             }
            },
            "type": "scatterpolar"
           }
          ],
          "scatterpolargl": [
           {
            "marker": {
             "colorbar": {
              "outlinewidth": 0,
              "ticks": ""
             }
            },
            "type": "scatterpolargl"
           }
          ],
          "scatterternary": [
           {
            "marker": {
             "colorbar": {
              "outlinewidth": 0,
              "ticks": ""
             }
            },
            "type": "scatterternary"
           }
          ],
          "surface": [
           {
            "colorbar": {
             "outlinewidth": 0,
             "ticks": ""
            },
            "colorscale": [
             [
              0,
              "#0d0887"
             ],
             [
              0.1111111111111111,
              "#46039f"
             ],
             [
              0.2222222222222222,
              "#7201a8"
             ],
             [
              0.3333333333333333,
              "#9c179e"
             ],
             [
              0.4444444444444444,
              "#bd3786"
             ],
             [
              0.5555555555555556,
              "#d8576b"
             ],
             [
              0.6666666666666666,
              "#ed7953"
             ],
             [
              0.7777777777777778,
              "#fb9f3a"
             ],
             [
              0.8888888888888888,
              "#fdca26"
             ],
             [
              1,
              "#f0f921"
             ]
            ],
            "type": "surface"
           }
          ],
          "table": [
           {
            "cells": {
             "fill": {
              "color": "#EBF0F8"
             },
             "line": {
              "color": "white"
             }
            },
            "header": {
             "fill": {
              "color": "#C8D4E3"
             },
             "line": {
              "color": "white"
             }
            },
            "type": "table"
           }
          ]
         },
         "layout": {
          "annotationdefaults": {
           "arrowcolor": "#2a3f5f",
           "arrowhead": 0,
           "arrowwidth": 1
          },
          "autotypenumbers": "strict",
          "coloraxis": {
           "colorbar": {
            "outlinewidth": 0,
            "ticks": ""
           }
          },
          "colorscale": {
           "diverging": [
            [
             0,
             "#8e0152"
            ],
            [
             0.1,
             "#c51b7d"
            ],
            [
             0.2,
             "#de77ae"
            ],
            [
             0.3,
             "#f1b6da"
            ],
            [
             0.4,
             "#fde0ef"
            ],
            [
             0.5,
             "#f7f7f7"
            ],
            [
             0.6,
             "#e6f5d0"
            ],
            [
             0.7,
             "#b8e186"
            ],
            [
             0.8,
             "#7fbc41"
            ],
            [
             0.9,
             "#4d9221"
            ],
            [
             1,
             "#276419"
            ]
           ],
           "sequential": [
            [
             0,
             "#0d0887"
            ],
            [
             0.1111111111111111,
             "#46039f"
            ],
            [
             0.2222222222222222,
             "#7201a8"
            ],
            [
             0.3333333333333333,
             "#9c179e"
            ],
            [
             0.4444444444444444,
             "#bd3786"
            ],
            [
             0.5555555555555556,
             "#d8576b"
            ],
            [
             0.6666666666666666,
             "#ed7953"
            ],
            [
             0.7777777777777778,
             "#fb9f3a"
            ],
            [
             0.8888888888888888,
             "#fdca26"
            ],
            [
             1,
             "#f0f921"
            ]
           ],
           "sequentialminus": [
            [
             0,
             "#0d0887"
            ],
            [
             0.1111111111111111,
             "#46039f"
            ],
            [
             0.2222222222222222,
             "#7201a8"
            ],
            [
             0.3333333333333333,
             "#9c179e"
            ],
            [
             0.4444444444444444,
             "#bd3786"
            ],
            [
             0.5555555555555556,
             "#d8576b"
            ],
            [
             0.6666666666666666,
             "#ed7953"
            ],
            [
             0.7777777777777778,
             "#fb9f3a"
            ],
            [
             0.8888888888888888,
             "#fdca26"
            ],
            [
             1,
             "#f0f921"
            ]
           ]
          },
          "colorway": [
           "#636efa",
           "#EF553B",
           "#00cc96",
           "#ab63fa",
           "#FFA15A",
           "#19d3f3",
           "#FF6692",
           "#B6E880",
           "#FF97FF",
           "#FECB52"
          ],
          "font": {
           "color": "#2a3f5f"
          },
          "geo": {
           "bgcolor": "white",
           "lakecolor": "white",
           "landcolor": "#E5ECF6",
           "showlakes": true,
           "showland": true,
           "subunitcolor": "white"
          },
          "hoverlabel": {
           "align": "left"
          },
          "hovermode": "closest",
          "mapbox": {
           "style": "light"
          },
          "paper_bgcolor": "white",
          "plot_bgcolor": "#E5ECF6",
          "polar": {
           "angularaxis": {
            "gridcolor": "white",
            "linecolor": "white",
            "ticks": ""
           },
           "bgcolor": "#E5ECF6",
           "radialaxis": {
            "gridcolor": "white",
            "linecolor": "white",
            "ticks": ""
           }
          },
          "scene": {
           "xaxis": {
            "backgroundcolor": "#E5ECF6",
            "gridcolor": "white",
            "gridwidth": 2,
            "linecolor": "white",
            "showbackground": true,
            "ticks": "",
            "zerolinecolor": "white"
           },
           "yaxis": {
            "backgroundcolor": "#E5ECF6",
            "gridcolor": "white",
            "gridwidth": 2,
            "linecolor": "white",
            "showbackground": true,
            "ticks": "",
            "zerolinecolor": "white"
           },
           "zaxis": {
            "backgroundcolor": "#E5ECF6",
            "gridcolor": "white",
            "gridwidth": 2,
            "linecolor": "white",
            "showbackground": true,
            "ticks": "",
            "zerolinecolor": "white"
           }
          },
          "shapedefaults": {
           "line": {
            "color": "#2a3f5f"
           }
          },
          "ternary": {
           "aaxis": {
            "gridcolor": "white",
            "linecolor": "white",
            "ticks": ""
           },
           "baxis": {
            "gridcolor": "white",
            "linecolor": "white",
            "ticks": ""
           },
           "bgcolor": "#E5ECF6",
           "caxis": {
            "gridcolor": "white",
            "linecolor": "white",
            "ticks": ""
           }
          },
          "title": {
           "x": 0.05
          },
          "xaxis": {
           "automargin": true,
           "gridcolor": "white",
           "linecolor": "white",
           "ticks": "",
           "title": {
            "standoff": 15
           },
           "zerolinecolor": "white",
           "zerolinewidth": 2
          },
          "yaxis": {
           "automargin": true,
           "gridcolor": "white",
           "linecolor": "white",
           "ticks": "",
           "title": {
            "standoff": 15
           },
           "zerolinecolor": "white",
           "zerolinewidth": 2
          }
         }
        },
        "xaxis": {
         "anchor": "y",
         "domain": [
          0,
          1
         ],
         "title": {
          "text": "num_gene_records"
         }
        },
        "yaxis": {
         "anchor": "x",
         "domain": [
          0,
          1
         ],
         "title": {
          "text": "percent_collision_symbol"
         }
        }
       }
      }
     },
     "metadata": {},
     "output_type": "display_data"
    }
   ],
   "source": [
    "create_aa_collision_histogram(aa_collision_gene_ensg_df, \"ENSG\", ensg_alias_count)"
   ]
  },
  {
   "cell_type": "code",
   "execution_count": 1437,
   "metadata": {},
   "outputs": [],
   "source": [
    "aa_collision_ensg_count_df = pd.read_csv(\n",
    "    \"../created_files/aa_collision_ensg_count_df.csv\", index_col=[0])"
   ]
  },
  {
   "cell_type": "code",
   "execution_count": 1438,
   "metadata": {},
   "outputs": [],
   "source": [
    "aa_collision_ensg_distribution_df = pd.read_csv(\n",
    "    \"../created_files/aa_collision_ensg_distribution_df.csv\", index_col=[0])"
   ]
  },
  {
   "cell_type": "code",
   "execution_count": 1439,
   "metadata": {},
   "outputs": [],
   "source": [
    "ensg_alias_count_histogram_df = pd.read_csv(\n",
    "    \"../created_files/ensg_alias_count_histogram_df.csv\", index_col=[0])"
   ]
  },
  {
   "cell_type": "markdown",
   "metadata": {},
   "source": [
    "# <a id='toc2_'></a>[HGNC](#toc0_)"
   ]
  },
  {
   "cell_type": "code",
   "execution_count": 1440,
   "metadata": {},
   "outputs": [
    {
     "data": {
      "text/html": [
       "<div>\n",
       "<style scoped>\n",
       "    .dataframe tbody tr th:only-of-type {\n",
       "        vertical-align: middle;\n",
       "    }\n",
       "\n",
       "    .dataframe tbody tr th {\n",
       "        vertical-align: top;\n",
       "    }\n",
       "\n",
       "    .dataframe thead th {\n",
       "        text-align: right;\n",
       "    }\n",
       "</style>\n",
       "<table border=\"1\" class=\"dataframe\">\n",
       "  <thead>\n",
       "    <tr style=\"text-align: right;\">\n",
       "      <th></th>\n",
       "      <th>Unnamed: 0</th>\n",
       "      <th>HGNC_ID</th>\n",
       "      <th>alias_symbol</th>\n",
       "      <th>NCBI_ID</th>\n",
       "      <th>ENSG_ID</th>\n",
       "      <th>gene_symbol</th>\n",
       "    </tr>\n",
       "  </thead>\n",
       "  <tbody>\n",
       "    <tr>\n",
       "      <th>0</th>\n",
       "      <td>0</td>\n",
       "      <td>5</td>\n",
       "      <td>NaN</td>\n",
       "      <td>1</td>\n",
       "      <td>ENSG00000121410</td>\n",
       "      <td>A1BG</td>\n",
       "    </tr>\n",
       "    <tr>\n",
       "      <th>1</th>\n",
       "      <td>1</td>\n",
       "      <td>37133</td>\n",
       "      <td>FLJ23569</td>\n",
       "      <td>503538</td>\n",
       "      <td>ENSG00000268895</td>\n",
       "      <td>A1BG-AS1</td>\n",
       "    </tr>\n",
       "    <tr>\n",
       "      <th>2</th>\n",
       "      <td>2</td>\n",
       "      <td>24086</td>\n",
       "      <td>ACF</td>\n",
       "      <td>29974</td>\n",
       "      <td>ENSG00000148584</td>\n",
       "      <td>A1CF</td>\n",
       "    </tr>\n",
       "    <tr>\n",
       "      <th>3</th>\n",
       "      <td>3</td>\n",
       "      <td>24086</td>\n",
       "      <td>ASP</td>\n",
       "      <td>29974</td>\n",
       "      <td>ENSG00000148584</td>\n",
       "      <td>A1CF</td>\n",
       "    </tr>\n",
       "    <tr>\n",
       "      <th>4</th>\n",
       "      <td>4</td>\n",
       "      <td>24086</td>\n",
       "      <td>ACF64</td>\n",
       "      <td>29974</td>\n",
       "      <td>ENSG00000148584</td>\n",
       "      <td>A1CF</td>\n",
       "    </tr>\n",
       "    <tr>\n",
       "      <th>...</th>\n",
       "      <td>...</td>\n",
       "      <td>...</td>\n",
       "      <td>...</td>\n",
       "      <td>...</td>\n",
       "      <td>...</td>\n",
       "      <td>...</td>\n",
       "    </tr>\n",
       "    <tr>\n",
       "      <th>67578</th>\n",
       "      <td>67578</td>\n",
       "      <td>29027</td>\n",
       "      <td>KIAA0399</td>\n",
       "      <td>23140</td>\n",
       "      <td>ENSG00000074755</td>\n",
       "      <td>ZZEF1</td>\n",
       "    </tr>\n",
       "    <tr>\n",
       "      <th>67579</th>\n",
       "      <td>67579</td>\n",
       "      <td>29027</td>\n",
       "      <td>ZZZ4</td>\n",
       "      <td>23140</td>\n",
       "      <td>ENSG00000074755</td>\n",
       "      <td>ZZEF1</td>\n",
       "    </tr>\n",
       "    <tr>\n",
       "      <th>67580</th>\n",
       "      <td>67580</td>\n",
       "      <td>29027</td>\n",
       "      <td>FLJ10821</td>\n",
       "      <td>23140</td>\n",
       "      <td>ENSG00000074755</td>\n",
       "      <td>ZZEF1</td>\n",
       "    </tr>\n",
       "    <tr>\n",
       "      <th>67581</th>\n",
       "      <td>67581</td>\n",
       "      <td>24523</td>\n",
       "      <td>DKFZP564I052</td>\n",
       "      <td>26009</td>\n",
       "      <td>ENSG00000036549</td>\n",
       "      <td>ZZZ3</td>\n",
       "    </tr>\n",
       "    <tr>\n",
       "      <th>67582</th>\n",
       "      <td>67582</td>\n",
       "      <td>24523</td>\n",
       "      <td>ATAC1</td>\n",
       "      <td>26009</td>\n",
       "      <td>ENSG00000036549</td>\n",
       "      <td>ZZZ3</td>\n",
       "    </tr>\n",
       "  </tbody>\n",
       "</table>\n",
       "<p>67583 rows × 6 columns</p>\n",
       "</div>"
      ],
      "text/plain": [
       "       Unnamed: 0  HGNC_ID  alias_symbol  NCBI_ID          ENSG_ID gene_symbol\n",
       "0               0        5           NaN        1  ENSG00000121410        A1BG\n",
       "1               1    37133      FLJ23569   503538  ENSG00000268895    A1BG-AS1\n",
       "2               2    24086           ACF    29974  ENSG00000148584        A1CF\n",
       "3               3    24086           ASP    29974  ENSG00000148584        A1CF\n",
       "4               4    24086         ACF64    29974  ENSG00000148584        A1CF\n",
       "...           ...      ...           ...      ...              ...         ...\n",
       "67578       67578    29027      KIAA0399    23140  ENSG00000074755       ZZEF1\n",
       "67579       67579    29027          ZZZ4    23140  ENSG00000074755       ZZEF1\n",
       "67580       67580    29027      FLJ10821    23140  ENSG00000074755       ZZEF1\n",
       "67581       67581    24523  DKFZP564I052    26009  ENSG00000036549        ZZZ3\n",
       "67582       67582    24523         ATAC1    26009  ENSG00000036549        ZZZ3\n",
       "\n",
       "[67583 rows x 6 columns]"
      ]
     },
     "execution_count": 1440,
     "metadata": {},
     "output_type": "execute_result"
    }
   ],
   "source": [
    "mini_hgnc_df = pd.read_csv(\n",
    "    \"../created_files/mini_hgnc_df.csv\",\n",
    "    dtype={\"HGNC_ID\": pd.Int64Dtype(), \"NCBI_ID\": pd.Int64Dtype()},\n",
    ")\n",
    "mini_hgnc_df"
   ]
  },
  {
   "cell_type": "code",
   "execution_count": 1441,
   "metadata": {},
   "outputs": [
    {
     "data": {
      "text/html": [
       "<div>\n",
       "<style scoped>\n",
       "    .dataframe tbody tr th:only-of-type {\n",
       "        vertical-align: middle;\n",
       "    }\n",
       "\n",
       "    .dataframe tbody tr th {\n",
       "        vertical-align: top;\n",
       "    }\n",
       "\n",
       "    .dataframe thead th {\n",
       "        text-align: right;\n",
       "    }\n",
       "</style>\n",
       "<table border=\"1\" class=\"dataframe\">\n",
       "  <thead>\n",
       "    <tr style=\"text-align: right;\">\n",
       "      <th></th>\n",
       "      <th>HGNC_ID</th>\n",
       "      <th>alias_symbol</th>\n",
       "      <th>NCBI_ID</th>\n",
       "      <th>ENSG_ID</th>\n",
       "      <th>gene_symbol</th>\n",
       "    </tr>\n",
       "  </thead>\n",
       "  <tbody>\n",
       "    <tr>\n",
       "      <th>1</th>\n",
       "      <td>37133</td>\n",
       "      <td>FLJ23569</td>\n",
       "      <td>503538.0</td>\n",
       "      <td>ENSG00000268895</td>\n",
       "      <td>A1BG-AS1</td>\n",
       "    </tr>\n",
       "    <tr>\n",
       "      <th>2</th>\n",
       "      <td>24086</td>\n",
       "      <td>ACF</td>\n",
       "      <td>29974.0</td>\n",
       "      <td>ENSG00000148584</td>\n",
       "      <td>A1CF</td>\n",
       "    </tr>\n",
       "    <tr>\n",
       "      <th>3</th>\n",
       "      <td>24086</td>\n",
       "      <td>ASP</td>\n",
       "      <td>29974.0</td>\n",
       "      <td>ENSG00000148584</td>\n",
       "      <td>A1CF</td>\n",
       "    </tr>\n",
       "    <tr>\n",
       "      <th>4</th>\n",
       "      <td>24086</td>\n",
       "      <td>ACF64</td>\n",
       "      <td>29974.0</td>\n",
       "      <td>ENSG00000148584</td>\n",
       "      <td>A1CF</td>\n",
       "    </tr>\n",
       "    <tr>\n",
       "      <th>5</th>\n",
       "      <td>24086</td>\n",
       "      <td>ACF65</td>\n",
       "      <td>29974.0</td>\n",
       "      <td>ENSG00000148584</td>\n",
       "      <td>A1CF</td>\n",
       "    </tr>\n",
       "    <tr>\n",
       "      <th>...</th>\n",
       "      <td>...</td>\n",
       "      <td>...</td>\n",
       "      <td>...</td>\n",
       "      <td>...</td>\n",
       "      <td>...</td>\n",
       "    </tr>\n",
       "    <tr>\n",
       "      <th>67578</th>\n",
       "      <td>29027</td>\n",
       "      <td>KIAA0399</td>\n",
       "      <td>23140.0</td>\n",
       "      <td>ENSG00000074755</td>\n",
       "      <td>ZZEF1</td>\n",
       "    </tr>\n",
       "    <tr>\n",
       "      <th>67579</th>\n",
       "      <td>29027</td>\n",
       "      <td>ZZZ4</td>\n",
       "      <td>23140.0</td>\n",
       "      <td>ENSG00000074755</td>\n",
       "      <td>ZZEF1</td>\n",
       "    </tr>\n",
       "    <tr>\n",
       "      <th>67580</th>\n",
       "      <td>29027</td>\n",
       "      <td>FLJ10821</td>\n",
       "      <td>23140.0</td>\n",
       "      <td>ENSG00000074755</td>\n",
       "      <td>ZZEF1</td>\n",
       "    </tr>\n",
       "    <tr>\n",
       "      <th>67581</th>\n",
       "      <td>24523</td>\n",
       "      <td>DKFZP564I052</td>\n",
       "      <td>26009.0</td>\n",
       "      <td>ENSG00000036549</td>\n",
       "      <td>ZZZ3</td>\n",
       "    </tr>\n",
       "    <tr>\n",
       "      <th>67582</th>\n",
       "      <td>24523</td>\n",
       "      <td>ATAC1</td>\n",
       "      <td>26009.0</td>\n",
       "      <td>ENSG00000036549</td>\n",
       "      <td>ZZZ3</td>\n",
       "    </tr>\n",
       "  </tbody>\n",
       "</table>\n",
       "<p>44542 rows × 5 columns</p>\n",
       "</div>"
      ],
      "text/plain": [
       "       HGNC_ID  alias_symbol   NCBI_ID          ENSG_ID gene_symbol\n",
       "1        37133      FLJ23569  503538.0  ENSG00000268895    A1BG-AS1\n",
       "2        24086           ACF   29974.0  ENSG00000148584        A1CF\n",
       "3        24086           ASP   29974.0  ENSG00000148584        A1CF\n",
       "4        24086         ACF64   29974.0  ENSG00000148584        A1CF\n",
       "5        24086         ACF65   29974.0  ENSG00000148584        A1CF\n",
       "...        ...           ...       ...              ...         ...\n",
       "67578    29027      KIAA0399   23140.0  ENSG00000074755       ZZEF1\n",
       "67579    29027          ZZZ4   23140.0  ENSG00000074755       ZZEF1\n",
       "67580    29027      FLJ10821   23140.0  ENSG00000074755       ZZEF1\n",
       "67581    24523  DKFZP564I052   26009.0  ENSG00000036549        ZZZ3\n",
       "67582    24523         ATAC1   26009.0  ENSG00000036549        ZZZ3\n",
       "\n",
       "[44542 rows x 5 columns]"
      ]
     },
     "execution_count": 1441,
     "metadata": {},
     "output_type": "execute_result"
    }
   ],
   "source": [
    "subset_genes_hgnc_df = pd.read_csv(\n",
    "    \"../created_files/subset_genes_hgnc_df.csv\", index_col=[0])\n",
    "subset_genes_hgnc_df"
   ]
  },
  {
   "cell_type": "code",
   "execution_count": 1442,
   "metadata": {},
   "outputs": [
    {
     "data": {
      "text/html": [
       "<div>\n",
       "<style scoped>\n",
       "    .dataframe tbody tr th:only-of-type {\n",
       "        vertical-align: middle;\n",
       "    }\n",
       "\n",
       "    .dataframe tbody tr th {\n",
       "        vertical-align: top;\n",
       "    }\n",
       "\n",
       "    .dataframe thead th {\n",
       "        text-align: right;\n",
       "    }\n",
       "</style>\n",
       "<table border=\"1\" class=\"dataframe\">\n",
       "  <thead>\n",
       "    <tr style=\"text-align: right;\">\n",
       "      <th></th>\n",
       "      <th>ENSG_ID</th>\n",
       "      <th>gene_symbol</th>\n",
       "      <th>HGNC_ID</th>\n",
       "      <th>alias_symbol</th>\n",
       "    </tr>\n",
       "  </thead>\n",
       "  <tbody>\n",
       "    <tr>\n",
       "      <th>0</th>\n",
       "      <td>ENSG00000000003</td>\n",
       "      <td>TSPAN6</td>\n",
       "      <td>11858</td>\n",
       "      <td>T245,TSPAN-6</td>\n",
       "    </tr>\n",
       "    <tr>\n",
       "      <th>1</th>\n",
       "      <td>ENSG00000000005</td>\n",
       "      <td>TNMD</td>\n",
       "      <td>17757</td>\n",
       "      <td>myodulin,ChM1L,tendin,TEM,BRICD4</td>\n",
       "    </tr>\n",
       "    <tr>\n",
       "      <th>2</th>\n",
       "      <td>ENSG00000000419</td>\n",
       "      <td>DPM1</td>\n",
       "      <td>3005</td>\n",
       "      <td>MPDS,CDGIE</td>\n",
       "    </tr>\n",
       "    <tr>\n",
       "      <th>3</th>\n",
       "      <td>ENSG00000000457</td>\n",
       "      <td>SCYL3</td>\n",
       "      <td>19285</td>\n",
       "      <td>PACE-1,PACE1</td>\n",
       "    </tr>\n",
       "    <tr>\n",
       "      <th>4</th>\n",
       "      <td>ENSG00000000460</td>\n",
       "      <td>FIRRM</td>\n",
       "      <td>25565</td>\n",
       "      <td>FLJ10706,Apolo1,FLIP,MEICA1</td>\n",
       "    </tr>\n",
       "    <tr>\n",
       "      <th>...</th>\n",
       "      <td>...</td>\n",
       "      <td>...</td>\n",
       "      <td>...</td>\n",
       "      <td>...</td>\n",
       "    </tr>\n",
       "    <tr>\n",
       "      <th>45641</th>\n",
       "      <td>NaN</td>\n",
       "      <td>ZNF97</td>\n",
       "      <td>13173</td>\n",
       "      <td>NaN</td>\n",
       "    </tr>\n",
       "    <tr>\n",
       "      <th>45642</th>\n",
       "      <td>NaN</td>\n",
       "      <td>ZNFP1</td>\n",
       "      <td>13181</td>\n",
       "      <td>NaN</td>\n",
       "    </tr>\n",
       "    <tr>\n",
       "      <th>45643</th>\n",
       "      <td>NaN</td>\n",
       "      <td>ZPAXP</td>\n",
       "      <td>51635</td>\n",
       "      <td>ZPX1P</td>\n",
       "    </tr>\n",
       "    <tr>\n",
       "      <th>45644</th>\n",
       "      <td>NaN</td>\n",
       "      <td>ZRK</td>\n",
       "      <td>13193</td>\n",
       "      <td>NaN</td>\n",
       "    </tr>\n",
       "    <tr>\n",
       "      <th>45645</th>\n",
       "      <td>NaN</td>\n",
       "      <td>ZWINTAS</td>\n",
       "      <td>13196</td>\n",
       "      <td>MPP5,MPHOSPH5,NCRNA00018</td>\n",
       "    </tr>\n",
       "  </tbody>\n",
       "</table>\n",
       "<p>45646 rows × 4 columns</p>\n",
       "</div>"
      ],
      "text/plain": [
       "               ENSG_ID gene_symbol  HGNC_ID                      alias_symbol\n",
       "0      ENSG00000000003      TSPAN6    11858                      T245,TSPAN-6\n",
       "1      ENSG00000000005        TNMD    17757  myodulin,ChM1L,tendin,TEM,BRICD4\n",
       "2      ENSG00000000419        DPM1     3005                        MPDS,CDGIE\n",
       "3      ENSG00000000457       SCYL3    19285                      PACE-1,PACE1\n",
       "4      ENSG00000000460       FIRRM    25565       FLJ10706,Apolo1,FLIP,MEICA1\n",
       "...                ...         ...      ...                               ...\n",
       "45641              NaN       ZNF97    13173                               NaN\n",
       "45642              NaN       ZNFP1    13181                               NaN\n",
       "45643              NaN       ZPAXP    51635                             ZPX1P\n",
       "45644              NaN         ZRK    13193                               NaN\n",
       "45645              NaN     ZWINTAS    13196          MPP5,MPHOSPH5,NCRNA00018\n",
       "\n",
       "[45646 rows x 4 columns]"
      ]
     },
     "execution_count": 1442,
     "metadata": {},
     "output_type": "execute_result"
    }
   ],
   "source": [
    "merged_alias_hgnc_df = pd.read_csv(\n",
    "    \"../created_files/merged_alias_hgnc_df.csv\", index_col=[0])\n",
    "merged_alias_hgnc_df"
   ]
  },
  {
   "cell_type": "markdown",
   "metadata": {},
   "source": [
    "### <a id='toc2_1_1_'></a>[How many total unique gene records are there in HGNC](#toc0_)"
   ]
  },
  {
   "cell_type": "markdown",
   "metadata": {},
   "source": [
    "By HGNC ID"
   ]
  },
  {
   "cell_type": "code",
   "execution_count": 1443,
   "metadata": {},
   "outputs": [
    {
     "data": {
      "text/plain": [
       "45646"
      ]
     },
     "execution_count": 1443,
     "metadata": {},
     "output_type": "execute_result"
    }
   ],
   "source": [
    "hgnc_gene_id_set = set(mini_hgnc_df[\"HGNC_ID\"])\n",
    "len(hgnc_gene_id_set)"
   ]
  },
  {
   "cell_type": "markdown",
   "metadata": {},
   "source": [
    "### <a id='toc2_1_2_'></a>[Identify alias-alias collision symbols](#toc0_)"
   ]
  },
  {
   "cell_type": "code",
   "execution_count": 1444,
   "metadata": {},
   "outputs": [
    {
     "data": {
      "text/plain": [
       "(   HGNC_ID alias_symbol   NCBI_ID          ENSG_ID gene_symbol\n",
       " 1    37133     FLJ23569  503538.0  ENSG00000268895    A1BG-AS1\n",
       " 2    24086          ACF   29974.0  ENSG00000148584        A1CF\n",
       " 3    24086          ASP   29974.0  ENSG00000148584        A1CF\n",
       " 4    24086        ACF64   29974.0  ENSG00000148584        A1CF\n",
       " 5    24086        ACF65   29974.0  ENSG00000148584        A1CF,\n",
       "   gene_symbol                                       alias_symbol  \\\n",
       " 0       KLRG1                            MAFA,2F1,MAFA-L,CLEC15A   \n",
       " 1     SLC25A5                                          T2,2F1,T3   \n",
       " 2      S100A8                  P8,MRP8,MRP-8,60B8AG,CGLA,S100-A8   \n",
       " 3      S100A9  P14,MIF,NIF,LIAG,MRP14,MAC387,60B8AG,CGLB,MRP-...   \n",
       " 4       RNU6V                                          87U6,LH87   \n",
       " \n",
       "            ENSG_ID  HGNC_ID  NCBI_ID collision source  \n",
       " 0  ENSG00000139187     6380  10219.0       2F1   HGNC  \n",
       " 1  ENSG00000005022    10991    292.0       2F1   HGNC  \n",
       " 2  ENSG00000143546    10498   6279.0    60B8AG   HGNC  \n",
       " 3  ENSG00000163220    10499   6280.0    60B8AG   HGNC  \n",
       " 4  ENSG00000206832    10230   6071.0      87U6   HGNC  ,\n",
       "   collision                                            ENSG_ID  \\\n",
       " 0       2F1                   ENSG00000139187, ENSG00000005022   \n",
       " 1    60B8AG                   ENSG00000143546, ENSG00000163220   \n",
       " 2      87U6                   ENSG00000206832, ENSG00000065135   \n",
       " 3       9G8                   ENSG00000115875, ENSG00000164609   \n",
       " 4        A1  ENSG00000033627, ENSG00000035928, ENSG00000163...   \n",
       " \n",
       "                   gene_symbol source  \n",
       " 0              KLRG1, SLC25A5   HGNC  \n",
       " 1              S100A8, S100A9   HGNC  \n",
       " 2                RNU6V, GNAI3   HGNC  \n",
       " 3                 SRSF7, SLU7   HGNC  \n",
       " 4  ATP6V0A1, RFC1, RFC4, RFC2   HGNC  )"
      ]
     },
     "execution_count": 1444,
     "metadata": {},
     "output_type": "execute_result"
    }
   ],
   "source": [
    "create_aa_collision_df(subset_genes_hgnc_df, merged_alias_hgnc_df, source=\"HGNC\")"
   ]
  },
  {
   "cell_type": "code",
   "execution_count": 1445,
   "metadata": {},
   "outputs": [],
   "source": [
    "subset_genes_hgnc_df = pd.read_csv(\n",
    "    \"../created_files/subset_genes_hgnc_df.csv\", index_col=[0])"
   ]
  },
  {
   "cell_type": "code",
   "execution_count": 1446,
   "metadata": {},
   "outputs": [
    {
     "data": {
      "text/html": [
       "<div>\n",
       "<style scoped>\n",
       "    .dataframe tbody tr th:only-of-type {\n",
       "        vertical-align: middle;\n",
       "    }\n",
       "\n",
       "    .dataframe tbody tr th {\n",
       "        vertical-align: top;\n",
       "    }\n",
       "\n",
       "    .dataframe thead th {\n",
       "        text-align: right;\n",
       "    }\n",
       "</style>\n",
       "<table border=\"1\" class=\"dataframe\">\n",
       "  <thead>\n",
       "    <tr style=\"text-align: right;\">\n",
       "      <th></th>\n",
       "      <th>HGNC_ID</th>\n",
       "      <th>alias_symbol</th>\n",
       "      <th>NCBI_ID</th>\n",
       "      <th>ENSG_ID</th>\n",
       "      <th>gene_symbol</th>\n",
       "    </tr>\n",
       "  </thead>\n",
       "  <tbody>\n",
       "    <tr>\n",
       "      <th>36566</th>\n",
       "      <td>7959</td>\n",
       "      <td>PP2</td>\n",
       "      <td>4888.0</td>\n",
       "      <td>ENSG00000226306</td>\n",
       "      <td>NPY6R</td>\n",
       "    </tr>\n",
       "    <tr>\n",
       "      <th>36567</th>\n",
       "      <td>7959</td>\n",
       "      <td>NPY1RL</td>\n",
       "      <td>4888.0</td>\n",
       "      <td>ENSG00000226306</td>\n",
       "      <td>NPY6R</td>\n",
       "    </tr>\n",
       "    <tr>\n",
       "      <th>36568</th>\n",
       "      <td>7959</td>\n",
       "      <td>NPY6RP</td>\n",
       "      <td>4888.0</td>\n",
       "      <td>ENSG00000226306</td>\n",
       "      <td>NPY6R</td>\n",
       "    </tr>\n",
       "  </tbody>\n",
       "</table>\n",
       "</div>"
      ],
      "text/plain": [
       "       HGNC_ID alias_symbol  NCBI_ID          ENSG_ID gene_symbol\n",
       "36566     7959          PP2   4888.0  ENSG00000226306       NPY6R\n",
       "36567     7959       NPY1RL   4888.0  ENSG00000226306       NPY6R\n",
       "36568     7959       NPY6RP   4888.0  ENSG00000226306       NPY6R"
      ]
     },
     "execution_count": 1446,
     "metadata": {},
     "output_type": "execute_result"
    }
   ],
   "source": [
    "subset_genes_hgnc_df.loc[subset_genes_hgnc_df[\"gene_symbol\"] == \"NPY6R\"]"
   ]
  },
  {
   "cell_type": "code",
   "execution_count": 1447,
   "metadata": {},
   "outputs": [],
   "source": [
    "aa_collision_gene_hgnc_df = pd.read_csv(\n",
    "    \"../created_files/aa_collision_gene_hgnc_df.csv\", index_col=[0])"
   ]
  },
  {
   "cell_type": "code",
   "execution_count": 1448,
   "metadata": {},
   "outputs": [],
   "source": [
    "aa_collision_alias_hgnc_df = pd.read_csv(\n",
    "    \"../created_files/aa_collision_alias_hgnc_df.csv\", index_col=[0])"
   ]
  },
  {
   "cell_type": "markdown",
   "metadata": {},
   "source": [
    "### <a id='toc2_1_3_'></a>[Create a histogram displaying how frequent the numebr of gene records sharing an alias is](#toc0_)"
   ]
  },
  {
   "cell_type": "code",
   "execution_count": 1449,
   "metadata": {},
   "outputs": [],
   "source": [
    "hgnc_alias_symbol_set = set(subset_genes_hgnc_df[\"alias_symbol\"])\n",
    "hgnc_alias_count = len(hgnc_alias_symbol_set)"
   ]
  },
  {
   "cell_type": "code",
   "execution_count": 1450,
   "metadata": {},
   "outputs": [
    {
     "data": {
      "application/vnd.plotly.v1+json": {
       "config": {
        "plotlyServerURL": "https://plot.ly"
       },
       "data": [
        {
         "alignmentgroup": "True",
         "hovertemplate": "num_gene_records=%{x}<br>percent_collision_symbol=%{y}<extra></extra>",
         "legendgroup": "",
         "marker": {
          "color": "#636efa",
          "pattern": {
           "shape": ""
          }
         },
         "name": "",
         "offsetgroup": "",
         "orientation": "v",
         "showlegend": false,
         "textposition": "auto",
         "type": "bar",
         "x": [
          2,
          3,
          4,
          5,
          6,
          7,
          9,
          10
         ],
         "xaxis": "x",
         "y": [
          2.3626450440374667,
          0.37979402581667365,
          0.09087096323221026,
          0.03961041987045063,
          0.023300246982618015,
          0.009320098793047207,
          0.004660049396523603,
          0.0023300246982618017
         ],
         "yaxis": "y"
        }
       ],
       "layout": {
        "barmode": "relative",
        "legend": {
         "tracegroupgap": 0
        },
        "margin": {
         "t": 60
        },
        "template": {
         "data": {
          "bar": [
           {
            "error_x": {
             "color": "#2a3f5f"
            },
            "error_y": {
             "color": "#2a3f5f"
            },
            "marker": {
             "line": {
              "color": "#E5ECF6",
              "width": 0.5
             },
             "pattern": {
              "fillmode": "overlay",
              "size": 10,
              "solidity": 0.2
             }
            },
            "type": "bar"
           }
          ],
          "barpolar": [
           {
            "marker": {
             "line": {
              "color": "#E5ECF6",
              "width": 0.5
             },
             "pattern": {
              "fillmode": "overlay",
              "size": 10,
              "solidity": 0.2
             }
            },
            "type": "barpolar"
           }
          ],
          "carpet": [
           {
            "aaxis": {
             "endlinecolor": "#2a3f5f",
             "gridcolor": "white",
             "linecolor": "white",
             "minorgridcolor": "white",
             "startlinecolor": "#2a3f5f"
            },
            "baxis": {
             "endlinecolor": "#2a3f5f",
             "gridcolor": "white",
             "linecolor": "white",
             "minorgridcolor": "white",
             "startlinecolor": "#2a3f5f"
            },
            "type": "carpet"
           }
          ],
          "choropleth": [
           {
            "colorbar": {
             "outlinewidth": 0,
             "ticks": ""
            },
            "type": "choropleth"
           }
          ],
          "contour": [
           {
            "colorbar": {
             "outlinewidth": 0,
             "ticks": ""
            },
            "colorscale": [
             [
              0,
              "#0d0887"
             ],
             [
              0.1111111111111111,
              "#46039f"
             ],
             [
              0.2222222222222222,
              "#7201a8"
             ],
             [
              0.3333333333333333,
              "#9c179e"
             ],
             [
              0.4444444444444444,
              "#bd3786"
             ],
             [
              0.5555555555555556,
              "#d8576b"
             ],
             [
              0.6666666666666666,
              "#ed7953"
             ],
             [
              0.7777777777777778,
              "#fb9f3a"
             ],
             [
              0.8888888888888888,
              "#fdca26"
             ],
             [
              1,
              "#f0f921"
             ]
            ],
            "type": "contour"
           }
          ],
          "contourcarpet": [
           {
            "colorbar": {
             "outlinewidth": 0,
             "ticks": ""
            },
            "type": "contourcarpet"
           }
          ],
          "heatmap": [
           {
            "colorbar": {
             "outlinewidth": 0,
             "ticks": ""
            },
            "colorscale": [
             [
              0,
              "#0d0887"
             ],
             [
              0.1111111111111111,
              "#46039f"
             ],
             [
              0.2222222222222222,
              "#7201a8"
             ],
             [
              0.3333333333333333,
              "#9c179e"
             ],
             [
              0.4444444444444444,
              "#bd3786"
             ],
             [
              0.5555555555555556,
              "#d8576b"
             ],
             [
              0.6666666666666666,
              "#ed7953"
             ],
             [
              0.7777777777777778,
              "#fb9f3a"
             ],
             [
              0.8888888888888888,
              "#fdca26"
             ],
             [
              1,
              "#f0f921"
             ]
            ],
            "type": "heatmap"
           }
          ],
          "heatmapgl": [
           {
            "colorbar": {
             "outlinewidth": 0,
             "ticks": ""
            },
            "colorscale": [
             [
              0,
              "#0d0887"
             ],
             [
              0.1111111111111111,
              "#46039f"
             ],
             [
              0.2222222222222222,
              "#7201a8"
             ],
             [
              0.3333333333333333,
              "#9c179e"
             ],
             [
              0.4444444444444444,
              "#bd3786"
             ],
             [
              0.5555555555555556,
              "#d8576b"
             ],
             [
              0.6666666666666666,
              "#ed7953"
             ],
             [
              0.7777777777777778,
              "#fb9f3a"
             ],
             [
              0.8888888888888888,
              "#fdca26"
             ],
             [
              1,
              "#f0f921"
             ]
            ],
            "type": "heatmapgl"
           }
          ],
          "histogram": [
           {
            "marker": {
             "pattern": {
              "fillmode": "overlay",
              "size": 10,
              "solidity": 0.2
             }
            },
            "type": "histogram"
           }
          ],
          "histogram2d": [
           {
            "colorbar": {
             "outlinewidth": 0,
             "ticks": ""
            },
            "colorscale": [
             [
              0,
              "#0d0887"
             ],
             [
              0.1111111111111111,
              "#46039f"
             ],
             [
              0.2222222222222222,
              "#7201a8"
             ],
             [
              0.3333333333333333,
              "#9c179e"
             ],
             [
              0.4444444444444444,
              "#bd3786"
             ],
             [
              0.5555555555555556,
              "#d8576b"
             ],
             [
              0.6666666666666666,
              "#ed7953"
             ],
             [
              0.7777777777777778,
              "#fb9f3a"
             ],
             [
              0.8888888888888888,
              "#fdca26"
             ],
             [
              1,
              "#f0f921"
             ]
            ],
            "type": "histogram2d"
           }
          ],
          "histogram2dcontour": [
           {
            "colorbar": {
             "outlinewidth": 0,
             "ticks": ""
            },
            "colorscale": [
             [
              0,
              "#0d0887"
             ],
             [
              0.1111111111111111,
              "#46039f"
             ],
             [
              0.2222222222222222,
              "#7201a8"
             ],
             [
              0.3333333333333333,
              "#9c179e"
             ],
             [
              0.4444444444444444,
              "#bd3786"
             ],
             [
              0.5555555555555556,
              "#d8576b"
             ],
             [
              0.6666666666666666,
              "#ed7953"
             ],
             [
              0.7777777777777778,
              "#fb9f3a"
             ],
             [
              0.8888888888888888,
              "#fdca26"
             ],
             [
              1,
              "#f0f921"
             ]
            ],
            "type": "histogram2dcontour"
           }
          ],
          "mesh3d": [
           {
            "colorbar": {
             "outlinewidth": 0,
             "ticks": ""
            },
            "type": "mesh3d"
           }
          ],
          "parcoords": [
           {
            "line": {
             "colorbar": {
              "outlinewidth": 0,
              "ticks": ""
             }
            },
            "type": "parcoords"
           }
          ],
          "pie": [
           {
            "automargin": true,
            "type": "pie"
           }
          ],
          "scatter": [
           {
            "fillpattern": {
             "fillmode": "overlay",
             "size": 10,
             "solidity": 0.2
            },
            "type": "scatter"
           }
          ],
          "scatter3d": [
           {
            "line": {
             "colorbar": {
              "outlinewidth": 0,
              "ticks": ""
             }
            },
            "marker": {
             "colorbar": {
              "outlinewidth": 0,
              "ticks": ""
             }
            },
            "type": "scatter3d"
           }
          ],
          "scattercarpet": [
           {
            "marker": {
             "colorbar": {
              "outlinewidth": 0,
              "ticks": ""
             }
            },
            "type": "scattercarpet"
           }
          ],
          "scattergeo": [
           {
            "marker": {
             "colorbar": {
              "outlinewidth": 0,
              "ticks": ""
             }
            },
            "type": "scattergeo"
           }
          ],
          "scattergl": [
           {
            "marker": {
             "colorbar": {
              "outlinewidth": 0,
              "ticks": ""
             }
            },
            "type": "scattergl"
           }
          ],
          "scattermapbox": [
           {
            "marker": {
             "colorbar": {
              "outlinewidth": 0,
              "ticks": ""
             }
            },
            "type": "scattermapbox"
           }
          ],
          "scatterpolar": [
           {
            "marker": {
             "colorbar": {
              "outlinewidth": 0,
              "ticks": ""
             }
            },
            "type": "scatterpolar"
           }
          ],
          "scatterpolargl": [
           {
            "marker": {
             "colorbar": {
              "outlinewidth": 0,
              "ticks": ""
             }
            },
            "type": "scatterpolargl"
           }
          ],
          "scatterternary": [
           {
            "marker": {
             "colorbar": {
              "outlinewidth": 0,
              "ticks": ""
             }
            },
            "type": "scatterternary"
           }
          ],
          "surface": [
           {
            "colorbar": {
             "outlinewidth": 0,
             "ticks": ""
            },
            "colorscale": [
             [
              0,
              "#0d0887"
             ],
             [
              0.1111111111111111,
              "#46039f"
             ],
             [
              0.2222222222222222,
              "#7201a8"
             ],
             [
              0.3333333333333333,
              "#9c179e"
             ],
             [
              0.4444444444444444,
              "#bd3786"
             ],
             [
              0.5555555555555556,
              "#d8576b"
             ],
             [
              0.6666666666666666,
              "#ed7953"
             ],
             [
              0.7777777777777778,
              "#fb9f3a"
             ],
             [
              0.8888888888888888,
              "#fdca26"
             ],
             [
              1,
              "#f0f921"
             ]
            ],
            "type": "surface"
           }
          ],
          "table": [
           {
            "cells": {
             "fill": {
              "color": "#EBF0F8"
             },
             "line": {
              "color": "white"
             }
            },
            "header": {
             "fill": {
              "color": "#C8D4E3"
             },
             "line": {
              "color": "white"
             }
            },
            "type": "table"
           }
          ]
         },
         "layout": {
          "annotationdefaults": {
           "arrowcolor": "#2a3f5f",
           "arrowhead": 0,
           "arrowwidth": 1
          },
          "autotypenumbers": "strict",
          "coloraxis": {
           "colorbar": {
            "outlinewidth": 0,
            "ticks": ""
           }
          },
          "colorscale": {
           "diverging": [
            [
             0,
             "#8e0152"
            ],
            [
             0.1,
             "#c51b7d"
            ],
            [
             0.2,
             "#de77ae"
            ],
            [
             0.3,
             "#f1b6da"
            ],
            [
             0.4,
             "#fde0ef"
            ],
            [
             0.5,
             "#f7f7f7"
            ],
            [
             0.6,
             "#e6f5d0"
            ],
            [
             0.7,
             "#b8e186"
            ],
            [
             0.8,
             "#7fbc41"
            ],
            [
             0.9,
             "#4d9221"
            ],
            [
             1,
             "#276419"
            ]
           ],
           "sequential": [
            [
             0,
             "#0d0887"
            ],
            [
             0.1111111111111111,
             "#46039f"
            ],
            [
             0.2222222222222222,
             "#7201a8"
            ],
            [
             0.3333333333333333,
             "#9c179e"
            ],
            [
             0.4444444444444444,
             "#bd3786"
            ],
            [
             0.5555555555555556,
             "#d8576b"
            ],
            [
             0.6666666666666666,
             "#ed7953"
            ],
            [
             0.7777777777777778,
             "#fb9f3a"
            ],
            [
             0.8888888888888888,
             "#fdca26"
            ],
            [
             1,
             "#f0f921"
            ]
           ],
           "sequentialminus": [
            [
             0,
             "#0d0887"
            ],
            [
             0.1111111111111111,
             "#46039f"
            ],
            [
             0.2222222222222222,
             "#7201a8"
            ],
            [
             0.3333333333333333,
             "#9c179e"
            ],
            [
             0.4444444444444444,
             "#bd3786"
            ],
            [
             0.5555555555555556,
             "#d8576b"
            ],
            [
             0.6666666666666666,
             "#ed7953"
            ],
            [
             0.7777777777777778,
             "#fb9f3a"
            ],
            [
             0.8888888888888888,
             "#fdca26"
            ],
            [
             1,
             "#f0f921"
            ]
           ]
          },
          "colorway": [
           "#636efa",
           "#EF553B",
           "#00cc96",
           "#ab63fa",
           "#FFA15A",
           "#19d3f3",
           "#FF6692",
           "#B6E880",
           "#FF97FF",
           "#FECB52"
          ],
          "font": {
           "color": "#2a3f5f"
          },
          "geo": {
           "bgcolor": "white",
           "lakecolor": "white",
           "landcolor": "#E5ECF6",
           "showlakes": true,
           "showland": true,
           "subunitcolor": "white"
          },
          "hoverlabel": {
           "align": "left"
          },
          "hovermode": "closest",
          "mapbox": {
           "style": "light"
          },
          "paper_bgcolor": "white",
          "plot_bgcolor": "#E5ECF6",
          "polar": {
           "angularaxis": {
            "gridcolor": "white",
            "linecolor": "white",
            "ticks": ""
           },
           "bgcolor": "#E5ECF6",
           "radialaxis": {
            "gridcolor": "white",
            "linecolor": "white",
            "ticks": ""
           }
          },
          "scene": {
           "xaxis": {
            "backgroundcolor": "#E5ECF6",
            "gridcolor": "white",
            "gridwidth": 2,
            "linecolor": "white",
            "showbackground": true,
            "ticks": "",
            "zerolinecolor": "white"
           },
           "yaxis": {
            "backgroundcolor": "#E5ECF6",
            "gridcolor": "white",
            "gridwidth": 2,
            "linecolor": "white",
            "showbackground": true,
            "ticks": "",
            "zerolinecolor": "white"
           },
           "zaxis": {
            "backgroundcolor": "#E5ECF6",
            "gridcolor": "white",
            "gridwidth": 2,
            "linecolor": "white",
            "showbackground": true,
            "ticks": "",
            "zerolinecolor": "white"
           }
          },
          "shapedefaults": {
           "line": {
            "color": "#2a3f5f"
           }
          },
          "ternary": {
           "aaxis": {
            "gridcolor": "white",
            "linecolor": "white",
            "ticks": ""
           },
           "baxis": {
            "gridcolor": "white",
            "linecolor": "white",
            "ticks": ""
           },
           "bgcolor": "#E5ECF6",
           "caxis": {
            "gridcolor": "white",
            "linecolor": "white",
            "ticks": ""
           }
          },
          "title": {
           "x": 0.05
          },
          "xaxis": {
           "automargin": true,
           "gridcolor": "white",
           "linecolor": "white",
           "ticks": "",
           "title": {
            "standoff": 15
           },
           "zerolinecolor": "white",
           "zerolinewidth": 2
          },
          "yaxis": {
           "automargin": true,
           "gridcolor": "white",
           "linecolor": "white",
           "ticks": "",
           "title": {
            "standoff": 15
           },
           "zerolinecolor": "white",
           "zerolinewidth": 2
          }
         }
        },
        "xaxis": {
         "anchor": "y",
         "domain": [
          0,
          1
         ],
         "title": {
          "text": "num_gene_records"
         }
        },
        "yaxis": {
         "anchor": "x",
         "domain": [
          0,
          1
         ],
         "title": {
          "text": "percent_collision_symbol"
         }
        }
       }
      }
     },
     "metadata": {},
     "output_type": "display_data"
    }
   ],
   "source": [
    "create_aa_collision_histogram(aa_collision_gene_hgnc_df, \"HGNC\", hgnc_alias_count)"
   ]
  },
  {
   "cell_type": "code",
   "execution_count": 1451,
   "metadata": {},
   "outputs": [],
   "source": [
    "aa_collision_hgnc_count_df = pd.read_csv(\n",
    "    \"../created_files/aa_collision_hgnc_count_df.csv\", index_col=[0])"
   ]
  },
  {
   "cell_type": "code",
   "execution_count": 1452,
   "metadata": {},
   "outputs": [],
   "source": [
    "aa_collision_hgnc_distribution_df = pd.read_csv(\n",
    "    \"../created_files/aa_collision_hgnc_distribution_df.csv\", index_col=[0])"
   ]
  },
  {
   "cell_type": "code",
   "execution_count": 1453,
   "metadata": {},
   "outputs": [],
   "source": [
    "hgnc_alias_count_histogram_df = pd.read_csv(\n",
    "    \"../created_files/hgnc_alias_count_histogram_df.csv\", index_col=[0])"
   ]
  },
  {
   "cell_type": "markdown",
   "metadata": {},
   "source": [
    "# <a id='toc3_'></a>[NCBI Info](#toc0_)"
   ]
  },
  {
   "cell_type": "code",
   "execution_count": 1454,
   "metadata": {},
   "outputs": [
    {
     "data": {
      "text/html": [
       "<div>\n",
       "<style scoped>\n",
       "    .dataframe tbody tr th:only-of-type {\n",
       "        vertical-align: middle;\n",
       "    }\n",
       "\n",
       "    .dataframe tbody tr th {\n",
       "        vertical-align: top;\n",
       "    }\n",
       "\n",
       "    .dataframe thead th {\n",
       "        text-align: right;\n",
       "    }\n",
       "</style>\n",
       "<table border=\"1\" class=\"dataframe\">\n",
       "  <thead>\n",
       "    <tr style=\"text-align: right;\">\n",
       "      <th></th>\n",
       "      <th>Unnamed: 0</th>\n",
       "      <th>NCBI_ID</th>\n",
       "      <th>gene_symbol</th>\n",
       "      <th>alias_symbol</th>\n",
       "      <th>HGNC_ID</th>\n",
       "      <th>ENSG_ID</th>\n",
       "    </tr>\n",
       "  </thead>\n",
       "  <tbody>\n",
       "    <tr>\n",
       "      <th>0</th>\n",
       "      <td>0</td>\n",
       "      <td>1</td>\n",
       "      <td>A1BG</td>\n",
       "      <td>A1B</td>\n",
       "      <td>5</td>\n",
       "      <td>ENSG00000121410</td>\n",
       "    </tr>\n",
       "    <tr>\n",
       "      <th>1</th>\n",
       "      <td>0</td>\n",
       "      <td>1</td>\n",
       "      <td>A1BG</td>\n",
       "      <td>ABG</td>\n",
       "      <td>5</td>\n",
       "      <td>ENSG00000121410</td>\n",
       "    </tr>\n",
       "    <tr>\n",
       "      <th>2</th>\n",
       "      <td>0</td>\n",
       "      <td>1</td>\n",
       "      <td>A1BG</td>\n",
       "      <td>GAB</td>\n",
       "      <td>5</td>\n",
       "      <td>ENSG00000121410</td>\n",
       "    </tr>\n",
       "    <tr>\n",
       "      <th>3</th>\n",
       "      <td>0</td>\n",
       "      <td>1</td>\n",
       "      <td>A1BG</td>\n",
       "      <td>HYST2477</td>\n",
       "      <td>5</td>\n",
       "      <td>ENSG00000121410</td>\n",
       "    </tr>\n",
       "    <tr>\n",
       "      <th>4</th>\n",
       "      <td>1</td>\n",
       "      <td>2</td>\n",
       "      <td>A2M</td>\n",
       "      <td>A2MD</td>\n",
       "      <td>7</td>\n",
       "      <td>ENSG00000175899</td>\n",
       "    </tr>\n",
       "    <tr>\n",
       "      <th>...</th>\n",
       "      <td>...</td>\n",
       "      <td>...</td>\n",
       "      <td>...</td>\n",
       "      <td>...</td>\n",
       "      <td>...</td>\n",
       "      <td>...</td>\n",
       "    </tr>\n",
       "    <tr>\n",
       "      <th>239924</th>\n",
       "      <td>193451</td>\n",
       "      <td>8923215</td>\n",
       "      <td>trnD</td>\n",
       "      <td>-</td>\n",
       "      <td>&lt;NA&gt;</td>\n",
       "      <td>NaN</td>\n",
       "    </tr>\n",
       "    <tr>\n",
       "      <th>239925</th>\n",
       "      <td>193452</td>\n",
       "      <td>8923216</td>\n",
       "      <td>trnP</td>\n",
       "      <td>-</td>\n",
       "      <td>&lt;NA&gt;</td>\n",
       "      <td>NaN</td>\n",
       "    </tr>\n",
       "    <tr>\n",
       "      <th>239926</th>\n",
       "      <td>193453</td>\n",
       "      <td>8923217</td>\n",
       "      <td>trnA</td>\n",
       "      <td>-</td>\n",
       "      <td>&lt;NA&gt;</td>\n",
       "      <td>NaN</td>\n",
       "    </tr>\n",
       "    <tr>\n",
       "      <th>239927</th>\n",
       "      <td>193454</td>\n",
       "      <td>8923218</td>\n",
       "      <td>COX1</td>\n",
       "      <td>-</td>\n",
       "      <td>&lt;NA&gt;</td>\n",
       "      <td>NaN</td>\n",
       "    </tr>\n",
       "    <tr>\n",
       "      <th>239928</th>\n",
       "      <td>193455</td>\n",
       "      <td>8923219</td>\n",
       "      <td>16S rRNA</td>\n",
       "      <td>-</td>\n",
       "      <td>&lt;NA&gt;</td>\n",
       "      <td>NaN</td>\n",
       "    </tr>\n",
       "  </tbody>\n",
       "</table>\n",
       "<p>239929 rows × 6 columns</p>\n",
       "</div>"
      ],
      "text/plain": [
       "        Unnamed: 0  NCBI_ID gene_symbol alias_symbol  HGNC_ID          ENSG_ID\n",
       "0                0        1        A1BG          A1B        5  ENSG00000121410\n",
       "1                0        1        A1BG          ABG        5  ENSG00000121410\n",
       "2                0        1        A1BG          GAB        5  ENSG00000121410\n",
       "3                0        1        A1BG     HYST2477        5  ENSG00000121410\n",
       "4                1        2         A2M         A2MD        7  ENSG00000175899\n",
       "...            ...      ...         ...          ...      ...              ...\n",
       "239924      193451  8923215        trnD            -     <NA>              NaN\n",
       "239925      193452  8923216        trnP            -     <NA>              NaN\n",
       "239926      193453  8923217        trnA            -     <NA>              NaN\n",
       "239927      193454  8923218        COX1            -     <NA>              NaN\n",
       "239928      193455  8923219    16S rRNA            -     <NA>              NaN\n",
       "\n",
       "[239929 rows x 6 columns]"
      ]
     },
     "execution_count": 1454,
     "metadata": {},
     "output_type": "execute_result"
    }
   ],
   "source": [
    "mini_ncbi_df = pd.read_csv(\n",
    "    \"../created_files/mini_ncbi_df.csv\",\n",
    "    dtype={\"HGNC_ID\": pd.Int64Dtype(), \"NCBI_ID\": pd.Int64Dtype()},\n",
    ")\n",
    "mini_ncbi_df"
   ]
  },
  {
   "cell_type": "code",
   "execution_count": 1455,
   "metadata": {},
   "outputs": [
    {
     "data": {
      "text/html": [
       "<div>\n",
       "<style scoped>\n",
       "    .dataframe tbody tr th:only-of-type {\n",
       "        vertical-align: middle;\n",
       "    }\n",
       "\n",
       "    .dataframe tbody tr th {\n",
       "        vertical-align: top;\n",
       "    }\n",
       "\n",
       "    .dataframe thead th {\n",
       "        text-align: right;\n",
       "    }\n",
       "</style>\n",
       "<table border=\"1\" class=\"dataframe\">\n",
       "  <thead>\n",
       "    <tr style=\"text-align: right;\">\n",
       "      <th></th>\n",
       "      <th>NCBI_ID</th>\n",
       "      <th>gene_symbol</th>\n",
       "      <th>alias_symbol</th>\n",
       "      <th>HGNC_ID</th>\n",
       "      <th>ENSG_ID</th>\n",
       "    </tr>\n",
       "  </thead>\n",
       "  <tbody>\n",
       "    <tr>\n",
       "      <th>0</th>\n",
       "      <td>1</td>\n",
       "      <td>A1BG</td>\n",
       "      <td>A1B</td>\n",
       "      <td>5.0</td>\n",
       "      <td>ENSG00000121410</td>\n",
       "    </tr>\n",
       "    <tr>\n",
       "      <th>0</th>\n",
       "      <td>1</td>\n",
       "      <td>A1BG</td>\n",
       "      <td>ABG</td>\n",
       "      <td>5.0</td>\n",
       "      <td>ENSG00000121410</td>\n",
       "    </tr>\n",
       "    <tr>\n",
       "      <th>0</th>\n",
       "      <td>1</td>\n",
       "      <td>A1BG</td>\n",
       "      <td>GAB</td>\n",
       "      <td>5.0</td>\n",
       "      <td>ENSG00000121410</td>\n",
       "    </tr>\n",
       "    <tr>\n",
       "      <th>0</th>\n",
       "      <td>1</td>\n",
       "      <td>A1BG</td>\n",
       "      <td>HYST2477</td>\n",
       "      <td>5.0</td>\n",
       "      <td>ENSG00000121410</td>\n",
       "    </tr>\n",
       "    <tr>\n",
       "      <th>1</th>\n",
       "      <td>2</td>\n",
       "      <td>A2M</td>\n",
       "      <td>A2MD</td>\n",
       "      <td>7.0</td>\n",
       "      <td>ENSG00000175899</td>\n",
       "    </tr>\n",
       "    <tr>\n",
       "      <th>...</th>\n",
       "      <td>...</td>\n",
       "      <td>...</td>\n",
       "      <td>...</td>\n",
       "      <td>...</td>\n",
       "      <td>...</td>\n",
       "    </tr>\n",
       "    <tr>\n",
       "      <th>190961</th>\n",
       "      <td>131840634</td>\n",
       "      <td>GLTC1</td>\n",
       "      <td>GLTC</td>\n",
       "      <td>56861.0</td>\n",
       "      <td>NaN</td>\n",
       "    </tr>\n",
       "    <tr>\n",
       "      <th>193342</th>\n",
       "      <td>132532400</td>\n",
       "      <td>GABRA6-AS1</td>\n",
       "      <td>ARBAG</td>\n",
       "      <td>40248.0</td>\n",
       "      <td>NaN</td>\n",
       "    </tr>\n",
       "    <tr>\n",
       "      <th>193377</th>\n",
       "      <td>133395150</td>\n",
       "      <td>LNCARGI</td>\n",
       "      <td>ARGI</td>\n",
       "      <td>56890.0</td>\n",
       "      <td>NaN</td>\n",
       "    </tr>\n",
       "    <tr>\n",
       "      <th>193378</th>\n",
       "      <td>133834869</td>\n",
       "      <td>MLDHR</td>\n",
       "      <td>MP31</td>\n",
       "      <td>55481.0</td>\n",
       "      <td>NaN</td>\n",
       "    </tr>\n",
       "    <tr>\n",
       "      <th>193378</th>\n",
       "      <td>133834869</td>\n",
       "      <td>MLDHR</td>\n",
       "      <td>PTENURF</td>\n",
       "      <td>55481.0</td>\n",
       "      <td>NaN</td>\n",
       "    </tr>\n",
       "  </tbody>\n",
       "</table>\n",
       "<p>74051 rows × 5 columns</p>\n",
       "</div>"
      ],
      "text/plain": [
       "          NCBI_ID gene_symbol alias_symbol  HGNC_ID          ENSG_ID\n",
       "0               1        A1BG          A1B      5.0  ENSG00000121410\n",
       "0               1        A1BG          ABG      5.0  ENSG00000121410\n",
       "0               1        A1BG          GAB      5.0  ENSG00000121410\n",
       "0               1        A1BG     HYST2477      5.0  ENSG00000121410\n",
       "1               2         A2M         A2MD      7.0  ENSG00000175899\n",
       "...           ...         ...          ...      ...              ...\n",
       "190961  131840634       GLTC1         GLTC  56861.0              NaN\n",
       "193342  132532400  GABRA6-AS1        ARBAG  40248.0              NaN\n",
       "193377  133395150     LNCARGI         ARGI  56890.0              NaN\n",
       "193378  133834869       MLDHR         MP31  55481.0              NaN\n",
       "193378  133834869       MLDHR      PTENURF  55481.0              NaN\n",
       "\n",
       "[74051 rows x 5 columns]"
      ]
     },
     "execution_count": 1455,
     "metadata": {},
     "output_type": "execute_result"
    }
   ],
   "source": [
    "subset_genes_ncbi_df = pd.read_csv(\n",
    "    \"../created_files/subset_genes_ncbi_df.csv\", index_col=[0])\n",
    "subset_genes_ncbi_df"
   ]
  },
  {
   "cell_type": "code",
   "execution_count": 1456,
   "metadata": {},
   "outputs": [
    {
     "name": "stderr",
     "output_type": "stream",
     "text": [
      "/var/folders/vt/znzp_c6s02q6kjcmqfk0cb500000gq/T/ipykernel_44826/1280557483.py:1: DtypeWarning:\n",
      "\n",
      "Columns (1) have mixed types. Specify dtype option on import or set low_memory=False.\n",
      "\n"
     ]
    },
    {
     "data": {
      "text/html": [
       "<div>\n",
       "<style scoped>\n",
       "    .dataframe tbody tr th:only-of-type {\n",
       "        vertical-align: middle;\n",
       "    }\n",
       "\n",
       "    .dataframe tbody tr th {\n",
       "        vertical-align: top;\n",
       "    }\n",
       "\n",
       "    .dataframe thead th {\n",
       "        text-align: right;\n",
       "    }\n",
       "</style>\n",
       "<table border=\"1\" class=\"dataframe\">\n",
       "  <thead>\n",
       "    <tr style=\"text-align: right;\">\n",
       "      <th></th>\n",
       "      <th>ENSG_ID</th>\n",
       "      <th>gene_symbol</th>\n",
       "      <th>HGNC_ID</th>\n",
       "      <th>alias_symbol</th>\n",
       "    </tr>\n",
       "  </thead>\n",
       "  <tbody>\n",
       "    <tr>\n",
       "      <th>0</th>\n",
       "      <td>ENSG00000000003</td>\n",
       "      <td>TSPAN6</td>\n",
       "      <td>11858.0</td>\n",
       "      <td>T245,TM4SF6,TSPAN-6</td>\n",
       "    </tr>\n",
       "    <tr>\n",
       "      <th>1</th>\n",
       "      <td>ENSG00000000005</td>\n",
       "      <td>TNMD</td>\n",
       "      <td>17757.0</td>\n",
       "      <td>BRICD4,CHM1L,TEM</td>\n",
       "    </tr>\n",
       "    <tr>\n",
       "      <th>2</th>\n",
       "      <td>ENSG00000000419</td>\n",
       "      <td>DPM1</td>\n",
       "      <td>3005.0</td>\n",
       "      <td>CDGIE,MPDS</td>\n",
       "    </tr>\n",
       "    <tr>\n",
       "      <th>3</th>\n",
       "      <td>ENSG00000000457</td>\n",
       "      <td>SCYL3</td>\n",
       "      <td>19285.0</td>\n",
       "      <td>PACE-1,PACE1</td>\n",
       "    </tr>\n",
       "    <tr>\n",
       "      <th>4</th>\n",
       "      <td>ENSG00000000460</td>\n",
       "      <td>FIRRM</td>\n",
       "      <td>25565.0</td>\n",
       "      <td>Apolo1,C1orf112,FLIP,MEICA1</td>\n",
       "    </tr>\n",
       "    <tr>\n",
       "      <th>...</th>\n",
       "      <td>...</td>\n",
       "      <td>...</td>\n",
       "      <td>...</td>\n",
       "      <td>...</td>\n",
       "    </tr>\n",
       "    <tr>\n",
       "      <th>193316</th>\n",
       "      <td>NaN</td>\n",
       "      <td>trnS</td>\n",
       "      <td>NaN</td>\n",
       "      <td>-,-,-,-</td>\n",
       "    </tr>\n",
       "    <tr>\n",
       "      <th>193317</th>\n",
       "      <td>NaN</td>\n",
       "      <td>trnT</td>\n",
       "      <td>NaN</td>\n",
       "      <td>-,-</td>\n",
       "    </tr>\n",
       "    <tr>\n",
       "      <th>193318</th>\n",
       "      <td>NaN</td>\n",
       "      <td>trnV</td>\n",
       "      <td>NaN</td>\n",
       "      <td>-,-</td>\n",
       "    </tr>\n",
       "    <tr>\n",
       "      <th>193319</th>\n",
       "      <td>NaN</td>\n",
       "      <td>trnW</td>\n",
       "      <td>NaN</td>\n",
       "      <td>-,-</td>\n",
       "    </tr>\n",
       "    <tr>\n",
       "      <th>193320</th>\n",
       "      <td>NaN</td>\n",
       "      <td>trnY</td>\n",
       "      <td>NaN</td>\n",
       "      <td>-,-</td>\n",
       "    </tr>\n",
       "  </tbody>\n",
       "</table>\n",
       "<p>193321 rows × 4 columns</p>\n",
       "</div>"
      ],
      "text/plain": [
       "                ENSG_ID gene_symbol  HGNC_ID                 alias_symbol\n",
       "0       ENSG00000000003      TSPAN6  11858.0          T245,TM4SF6,TSPAN-6\n",
       "1       ENSG00000000005        TNMD  17757.0             BRICD4,CHM1L,TEM\n",
       "2       ENSG00000000419        DPM1   3005.0                   CDGIE,MPDS\n",
       "3       ENSG00000000457       SCYL3  19285.0                 PACE-1,PACE1\n",
       "4       ENSG00000000460       FIRRM  25565.0  Apolo1,C1orf112,FLIP,MEICA1\n",
       "...                 ...         ...      ...                          ...\n",
       "193316              NaN        trnS      NaN                      -,-,-,-\n",
       "193317              NaN        trnT      NaN                          -,-\n",
       "193318              NaN        trnV      NaN                          -,-\n",
       "193319              NaN        trnW      NaN                          -,-\n",
       "193320              NaN        trnY      NaN                          -,-\n",
       "\n",
       "[193321 rows x 4 columns]"
      ]
     },
     "execution_count": 1456,
     "metadata": {},
     "output_type": "execute_result"
    }
   ],
   "source": [
    "merged_alias_ncbi_df = pd.read_csv(\n",
    "    \"../created_files/merged_alias_ncbi_df.csv\", index_col=[0])\n",
    "merged_alias_ncbi_df"
   ]
  },
  {
   "cell_type": "markdown",
   "metadata": {},
   "source": [
    "### <a id='toc3_1_1_'></a>[How many total unique gene records are there in NCBI Gene](#toc0_)"
   ]
  },
  {
   "cell_type": "markdown",
   "metadata": {},
   "source": [
    "By ENSG ID"
   ]
  },
  {
   "cell_type": "code",
   "execution_count": 1457,
   "metadata": {},
   "outputs": [
    {
     "data": {
      "text/plain": [
       "36803"
      ]
     },
     "execution_count": 1457,
     "metadata": {},
     "output_type": "execute_result"
    }
   ],
   "source": [
    "ncbi_gene_id_set = set(mini_ncbi_df[\"ENSG_ID\"])\n",
    "len(ncbi_gene_id_set)"
   ]
  },
  {
   "cell_type": "markdown",
   "metadata": {},
   "source": [
    "### <a id='toc3_1_2_'></a>[Identify alias-alias collision symbols](#toc0_)"
   ]
  },
  {
   "cell_type": "code",
   "execution_count": 1458,
   "metadata": {},
   "outputs": [
    {
     "data": {
      "text/plain": [
       "(   NCBI_ID gene_symbol alias_symbol  HGNC_ID          ENSG_ID\n",
       " 0        1        A1BG          A1B      5.0  ENSG00000121410\n",
       " 0        1        A1BG          ABG      5.0  ENSG00000121410\n",
       " 0        1        A1BG          GAB      5.0  ENSG00000121410\n",
       " 0        1        A1BG     HYST2477      5.0  ENSG00000121410\n",
       " 1        2         A2M         A2MD      7.0  ENSG00000175899,\n",
       "   gene_symbol                                       alias_symbol  \\\n",
       " 0        PTEN  10q23del,BZS,CWS1,DEC,GLM2,MHAM,MMAC1,PTEN1,PT...   \n",
       " 1      BMPR1A     10q23del,ACVRLK3,ALK-3,ALK3,BMPR-1A,CD292,SKR5   \n",
       " 2      ALOX15                       12-LOX,15-LOX,15-LOX-1,LOG15   \n",
       " 3      ALOX12                               12-LOX,12S-LOX,LOG12   \n",
       " 4      AKR1C1  2-ALPHA-HSD,20-ALPHA-HSD,C9,DD1,DD1/DD2,DDH,DD...   \n",
       " \n",
       "            ENSG_ID  HGNC_ID  NCBI_ID     collision source  \n",
       " 0  ENSG00000171862   9588.0     5728      10Q23DEL   NCBI  \n",
       " 1  ENSG00000107779   1076.0      657      10Q23DEL   NCBI  \n",
       " 2  ENSG00000161905    433.0      246        12-LOX   NCBI  \n",
       " 3  ENSG00000108839    429.0      239        12-LOX   NCBI  \n",
       " 4  ENSG00000187134    384.0     1645  20-ALPHA-HSD   NCBI  ,\n",
       "       collision                           ENSG_ID      gene_symbol source\n",
       " 0      10Q23DEL  ENSG00000171862, ENSG00000107779     PTEN, BMPR1A   NCBI\n",
       " 1        12-LOX  ENSG00000161905, ENSG00000108839   ALOX15, ALOX12   NCBI\n",
       " 2  20-ALPHA-HSD  ENSG00000187134, ENSG00000108786  AKR1C1, HSD17B1   NCBI\n",
       " 3           2F1  ENSG00000139187, ENSG00000005022   KLRG1, SLC25A5   NCBI\n",
       " 4   3-ALPHA-HSD  ENSG00000198610, ENSG00000073737    AKR1C4, DHRS9   NCBI)"
      ]
     },
     "execution_count": 1458,
     "metadata": {},
     "output_type": "execute_result"
    }
   ],
   "source": [
    "create_aa_collision_df(subset_genes_ncbi_df, merged_alias_ncbi_df, source=\"NCBI\")"
   ]
  },
  {
   "cell_type": "code",
   "execution_count": 1459,
   "metadata": {},
   "outputs": [
    {
     "data": {
      "text/html": [
       "<div>\n",
       "<style scoped>\n",
       "    .dataframe tbody tr th:only-of-type {\n",
       "        vertical-align: middle;\n",
       "    }\n",
       "\n",
       "    .dataframe tbody tr th {\n",
       "        vertical-align: top;\n",
       "    }\n",
       "\n",
       "    .dataframe thead th {\n",
       "        text-align: right;\n",
       "    }\n",
       "</style>\n",
       "<table border=\"1\" class=\"dataframe\">\n",
       "  <thead>\n",
       "    <tr style=\"text-align: right;\">\n",
       "      <th></th>\n",
       "      <th>NCBI_ID</th>\n",
       "      <th>gene_symbol</th>\n",
       "      <th>alias_symbol</th>\n",
       "      <th>HGNC_ID</th>\n",
       "      <th>ENSG_ID</th>\n",
       "    </tr>\n",
       "  </thead>\n",
       "  <tbody>\n",
       "    <tr>\n",
       "      <th>0</th>\n",
       "      <td>1</td>\n",
       "      <td>A1BG</td>\n",
       "      <td>A1B</td>\n",
       "      <td>5.0</td>\n",
       "      <td>ENSG00000121410</td>\n",
       "    </tr>\n",
       "    <tr>\n",
       "      <th>0</th>\n",
       "      <td>1</td>\n",
       "      <td>A1BG</td>\n",
       "      <td>ABG</td>\n",
       "      <td>5.0</td>\n",
       "      <td>ENSG00000121410</td>\n",
       "    </tr>\n",
       "    <tr>\n",
       "      <th>0</th>\n",
       "      <td>1</td>\n",
       "      <td>A1BG</td>\n",
       "      <td>GAB</td>\n",
       "      <td>5.0</td>\n",
       "      <td>ENSG00000121410</td>\n",
       "    </tr>\n",
       "    <tr>\n",
       "      <th>0</th>\n",
       "      <td>1</td>\n",
       "      <td>A1BG</td>\n",
       "      <td>HYST2477</td>\n",
       "      <td>5.0</td>\n",
       "      <td>ENSG00000121410</td>\n",
       "    </tr>\n",
       "    <tr>\n",
       "      <th>1</th>\n",
       "      <td>2</td>\n",
       "      <td>A2M</td>\n",
       "      <td>A2MD</td>\n",
       "      <td>7.0</td>\n",
       "      <td>ENSG00000175899</td>\n",
       "    </tr>\n",
       "    <tr>\n",
       "      <th>...</th>\n",
       "      <td>...</td>\n",
       "      <td>...</td>\n",
       "      <td>...</td>\n",
       "      <td>...</td>\n",
       "      <td>...</td>\n",
       "    </tr>\n",
       "    <tr>\n",
       "      <th>190961</th>\n",
       "      <td>131840634</td>\n",
       "      <td>GLTC1</td>\n",
       "      <td>GLTC</td>\n",
       "      <td>56861.0</td>\n",
       "      <td>NaN</td>\n",
       "    </tr>\n",
       "    <tr>\n",
       "      <th>193342</th>\n",
       "      <td>132532400</td>\n",
       "      <td>GABRA6-AS1</td>\n",
       "      <td>ARBAG</td>\n",
       "      <td>40248.0</td>\n",
       "      <td>NaN</td>\n",
       "    </tr>\n",
       "    <tr>\n",
       "      <th>193377</th>\n",
       "      <td>133395150</td>\n",
       "      <td>LNCARGI</td>\n",
       "      <td>ARGI</td>\n",
       "      <td>56890.0</td>\n",
       "      <td>NaN</td>\n",
       "    </tr>\n",
       "    <tr>\n",
       "      <th>193378</th>\n",
       "      <td>133834869</td>\n",
       "      <td>MLDHR</td>\n",
       "      <td>MP31</td>\n",
       "      <td>55481.0</td>\n",
       "      <td>NaN</td>\n",
       "    </tr>\n",
       "    <tr>\n",
       "      <th>193378</th>\n",
       "      <td>133834869</td>\n",
       "      <td>MLDHR</td>\n",
       "      <td>PTENURF</td>\n",
       "      <td>55481.0</td>\n",
       "      <td>NaN</td>\n",
       "    </tr>\n",
       "  </tbody>\n",
       "</table>\n",
       "<p>74051 rows × 5 columns</p>\n",
       "</div>"
      ],
      "text/plain": [
       "          NCBI_ID gene_symbol alias_symbol  HGNC_ID          ENSG_ID\n",
       "0               1        A1BG          A1B      5.0  ENSG00000121410\n",
       "0               1        A1BG          ABG      5.0  ENSG00000121410\n",
       "0               1        A1BG          GAB      5.0  ENSG00000121410\n",
       "0               1        A1BG     HYST2477      5.0  ENSG00000121410\n",
       "1               2         A2M         A2MD      7.0  ENSG00000175899\n",
       "...           ...         ...          ...      ...              ...\n",
       "190961  131840634       GLTC1         GLTC  56861.0              NaN\n",
       "193342  132532400  GABRA6-AS1        ARBAG  40248.0              NaN\n",
       "193377  133395150     LNCARGI         ARGI  56890.0              NaN\n",
       "193378  133834869       MLDHR         MP31  55481.0              NaN\n",
       "193378  133834869       MLDHR      PTENURF  55481.0              NaN\n",
       "\n",
       "[74051 rows x 5 columns]"
      ]
     },
     "execution_count": 1459,
     "metadata": {},
     "output_type": "execute_result"
    }
   ],
   "source": [
    "subset_genes_ncbi_df = pd.read_csv(\n",
    "    \"../created_files/subset_genes_ncbi_df.csv\", index_col=[0])\n",
    "subset_genes_ncbi_df"
   ]
  },
  {
   "cell_type": "code",
   "execution_count": 1460,
   "metadata": {},
   "outputs": [
    {
     "data": {
      "text/html": [
       "<div>\n",
       "<style scoped>\n",
       "    .dataframe tbody tr th:only-of-type {\n",
       "        vertical-align: middle;\n",
       "    }\n",
       "\n",
       "    .dataframe tbody tr th {\n",
       "        vertical-align: top;\n",
       "    }\n",
       "\n",
       "    .dataframe thead th {\n",
       "        text-align: right;\n",
       "    }\n",
       "</style>\n",
       "<table border=\"1\" class=\"dataframe\">\n",
       "  <thead>\n",
       "    <tr style=\"text-align: right;\">\n",
       "      <th></th>\n",
       "      <th>gene_symbol</th>\n",
       "      <th>alias_symbol</th>\n",
       "      <th>ENSG_ID</th>\n",
       "      <th>HGNC_ID</th>\n",
       "      <th>NCBI_ID</th>\n",
       "      <th>collision</th>\n",
       "      <th>source</th>\n",
       "    </tr>\n",
       "  </thead>\n",
       "  <tbody>\n",
       "    <tr>\n",
       "      <th>0</th>\n",
       "      <td>PTEN</td>\n",
       "      <td>10q23del,BZS,CWS1,DEC,GLM2,MHAM,MMAC1,PTEN1,PT...</td>\n",
       "      <td>ENSG00000171862</td>\n",
       "      <td>9588.0</td>\n",
       "      <td>5728</td>\n",
       "      <td>10Q23DEL</td>\n",
       "      <td>NCBI</td>\n",
       "    </tr>\n",
       "    <tr>\n",
       "      <th>1</th>\n",
       "      <td>BMPR1A</td>\n",
       "      <td>10q23del,ACVRLK3,ALK-3,ALK3,BMPR-1A,CD292,SKR5</td>\n",
       "      <td>ENSG00000107779</td>\n",
       "      <td>1076.0</td>\n",
       "      <td>657</td>\n",
       "      <td>10Q23DEL</td>\n",
       "      <td>NCBI</td>\n",
       "    </tr>\n",
       "    <tr>\n",
       "      <th>2</th>\n",
       "      <td>ALOX15</td>\n",
       "      <td>12-LOX,15-LOX,15-LOX-1,LOG15</td>\n",
       "      <td>ENSG00000161905</td>\n",
       "      <td>433.0</td>\n",
       "      <td>246</td>\n",
       "      <td>12-LOX</td>\n",
       "      <td>NCBI</td>\n",
       "    </tr>\n",
       "    <tr>\n",
       "      <th>3</th>\n",
       "      <td>ALOX12</td>\n",
       "      <td>12-LOX,12S-LOX,LOG12</td>\n",
       "      <td>ENSG00000108839</td>\n",
       "      <td>429.0</td>\n",
       "      <td>239</td>\n",
       "      <td>12-LOX</td>\n",
       "      <td>NCBI</td>\n",
       "    </tr>\n",
       "    <tr>\n",
       "      <th>4</th>\n",
       "      <td>AKR1C1</td>\n",
       "      <td>2-ALPHA-HSD,20-ALPHA-HSD,C9,DD1,DD1/DD2,DDH,DD...</td>\n",
       "      <td>ENSG00000187134</td>\n",
       "      <td>384.0</td>\n",
       "      <td>1645</td>\n",
       "      <td>20-ALPHA-HSD</td>\n",
       "      <td>NCBI</td>\n",
       "    </tr>\n",
       "    <tr>\n",
       "      <th>...</th>\n",
       "      <td>...</td>\n",
       "      <td>...</td>\n",
       "      <td>...</td>\n",
       "      <td>...</td>\n",
       "      <td>...</td>\n",
       "      <td>...</td>\n",
       "      <td>...</td>\n",
       "    </tr>\n",
       "    <tr>\n",
       "      <th>8986</th>\n",
       "      <td>SLC30A10</td>\n",
       "      <td>HMDPC,HMNDYT1,ZNT10,ZNT8,ZRC1,ZnT-10</td>\n",
       "      <td>ENSG00000196660</td>\n",
       "      <td>25355.0</td>\n",
       "      <td>55532</td>\n",
       "      <td>ZRC1</td>\n",
       "      <td>NCBI</td>\n",
       "    </tr>\n",
       "    <tr>\n",
       "      <th>8987</th>\n",
       "      <td>PEX13</td>\n",
       "      <td>NALD,PBD11A,PBD11B,ZWS</td>\n",
       "      <td>ENSG00000162928</td>\n",
       "      <td>8855.0</td>\n",
       "      <td>5194</td>\n",
       "      <td>ZWS</td>\n",
       "      <td>NCBI</td>\n",
       "    </tr>\n",
       "    <tr>\n",
       "      <th>8988</th>\n",
       "      <td>PEX1</td>\n",
       "      <td>HMLR1,PBD1A,PBD1B,ZWS,ZWS1</td>\n",
       "      <td>ENSG00000127980</td>\n",
       "      <td>8850.0</td>\n",
       "      <td>5189</td>\n",
       "      <td>ZWS</td>\n",
       "      <td>NCBI</td>\n",
       "    </tr>\n",
       "    <tr>\n",
       "      <th>8989</th>\n",
       "      <td>ZYG11B</td>\n",
       "      <td>ZYG11</td>\n",
       "      <td>ENSG00000162378</td>\n",
       "      <td>25820.0</td>\n",
       "      <td>79699</td>\n",
       "      <td>ZYG11</td>\n",
       "      <td>NCBI</td>\n",
       "    </tr>\n",
       "    <tr>\n",
       "      <th>8990</th>\n",
       "      <td>ZYG11A</td>\n",
       "      <td>ZYG11</td>\n",
       "      <td>ENSG00000203995</td>\n",
       "      <td>32058.0</td>\n",
       "      <td>440590</td>\n",
       "      <td>ZYG11</td>\n",
       "      <td>NCBI</td>\n",
       "    </tr>\n",
       "  </tbody>\n",
       "</table>\n",
       "<p>8991 rows × 7 columns</p>\n",
       "</div>"
      ],
      "text/plain": [
       "     gene_symbol                                       alias_symbol  \\\n",
       "0           PTEN  10q23del,BZS,CWS1,DEC,GLM2,MHAM,MMAC1,PTEN1,PT...   \n",
       "1         BMPR1A     10q23del,ACVRLK3,ALK-3,ALK3,BMPR-1A,CD292,SKR5   \n",
       "2         ALOX15                       12-LOX,15-LOX,15-LOX-1,LOG15   \n",
       "3         ALOX12                               12-LOX,12S-LOX,LOG12   \n",
       "4         AKR1C1  2-ALPHA-HSD,20-ALPHA-HSD,C9,DD1,DD1/DD2,DDH,DD...   \n",
       "...          ...                                                ...   \n",
       "8986    SLC30A10               HMDPC,HMNDYT1,ZNT10,ZNT8,ZRC1,ZnT-10   \n",
       "8987       PEX13                             NALD,PBD11A,PBD11B,ZWS   \n",
       "8988        PEX1                         HMLR1,PBD1A,PBD1B,ZWS,ZWS1   \n",
       "8989      ZYG11B                                              ZYG11   \n",
       "8990      ZYG11A                                              ZYG11   \n",
       "\n",
       "              ENSG_ID  HGNC_ID  NCBI_ID     collision source  \n",
       "0     ENSG00000171862   9588.0     5728      10Q23DEL   NCBI  \n",
       "1     ENSG00000107779   1076.0      657      10Q23DEL   NCBI  \n",
       "2     ENSG00000161905    433.0      246        12-LOX   NCBI  \n",
       "3     ENSG00000108839    429.0      239        12-LOX   NCBI  \n",
       "4     ENSG00000187134    384.0     1645  20-ALPHA-HSD   NCBI  \n",
       "...               ...      ...      ...           ...    ...  \n",
       "8986  ENSG00000196660  25355.0    55532          ZRC1   NCBI  \n",
       "8987  ENSG00000162928   8855.0     5194           ZWS   NCBI  \n",
       "8988  ENSG00000127980   8850.0     5189           ZWS   NCBI  \n",
       "8989  ENSG00000162378  25820.0    79699         ZYG11   NCBI  \n",
       "8990  ENSG00000203995  32058.0   440590         ZYG11   NCBI  \n",
       "\n",
       "[8991 rows x 7 columns]"
      ]
     },
     "execution_count": 1460,
     "metadata": {},
     "output_type": "execute_result"
    }
   ],
   "source": [
    "aa_collision_gene_ncbi_df = pd.read_csv(\n",
    "    \"../created_files/aa_collision_gene_ncbi_df.csv\", index_col=[0])\n",
    "aa_collision_gene_ncbi_df"
   ]
  },
  {
   "cell_type": "code",
   "execution_count": 1461,
   "metadata": {},
   "outputs": [],
   "source": [
    "aa_collision_alias_ncbi_df = pd.read_csv(\n",
    "    \"../created_files/aa_collision_alias_ncbi_df.csv\", index_col=[0])"
   ]
  },
  {
   "cell_type": "markdown",
   "metadata": {},
   "source": [
    "### <a id='toc3_1_3_'></a>[Create a histogram displaying how frequent the numebr of gene records sharing an alias is](#toc0_)"
   ]
  },
  {
   "cell_type": "code",
   "execution_count": 1462,
   "metadata": {},
   "outputs": [],
   "source": [
    "ncbi_alias_symbol_set = set(subset_genes_ncbi_df[\"alias_symbol\"])\n",
    "ncbi_alias_count = len(ncbi_alias_symbol_set)"
   ]
  },
  {
   "cell_type": "code",
   "execution_count": 1463,
   "metadata": {},
   "outputs": [
    {
     "data": {
      "application/vnd.plotly.v1+json": {
       "config": {
        "plotlyServerURL": "https://plot.ly"
       },
       "data": [
        {
         "alignmentgroup": "True",
         "hovertemplate": "num_gene_records=%{x}<br>percent_collision_symbol=%{y}<extra></extra>",
         "legendgroup": "",
         "marker": {
          "color": "#636efa",
          "pattern": {
           "shape": ""
          }
         },
         "name": "",
         "offsetgroup": "",
         "orientation": "v",
         "showlegend": false,
         "textposition": "auto",
         "type": "bar",
         "x": [
          2,
          3,
          4,
          5,
          6,
          7,
          8,
          9,
          10,
          11,
          12,
          13,
          14,
          37
         ],
         "xaxis": "x",
         "y": [
          4.3055939276730015,
          0.6456209739570459,
          0.21520699131901527,
          0.0857919762690669,
          0.04507714007357753,
          0.03053612714661703,
          0.013086911634264443,
          0.021811519390440737,
          0.0029082025853920984,
          0.004362303878088148,
          0.0029082025853920984,
          0.02035741809774469,
          0.0014541012926960492,
          0.0014541012926960492
         ],
         "yaxis": "y"
        }
       ],
       "layout": {
        "barmode": "relative",
        "legend": {
         "tracegroupgap": 0
        },
        "margin": {
         "t": 60
        },
        "template": {
         "data": {
          "bar": [
           {
            "error_x": {
             "color": "#2a3f5f"
            },
            "error_y": {
             "color": "#2a3f5f"
            },
            "marker": {
             "line": {
              "color": "#E5ECF6",
              "width": 0.5
             },
             "pattern": {
              "fillmode": "overlay",
              "size": 10,
              "solidity": 0.2
             }
            },
            "type": "bar"
           }
          ],
          "barpolar": [
           {
            "marker": {
             "line": {
              "color": "#E5ECF6",
              "width": 0.5
             },
             "pattern": {
              "fillmode": "overlay",
              "size": 10,
              "solidity": 0.2
             }
            },
            "type": "barpolar"
           }
          ],
          "carpet": [
           {
            "aaxis": {
             "endlinecolor": "#2a3f5f",
             "gridcolor": "white",
             "linecolor": "white",
             "minorgridcolor": "white",
             "startlinecolor": "#2a3f5f"
            },
            "baxis": {
             "endlinecolor": "#2a3f5f",
             "gridcolor": "white",
             "linecolor": "white",
             "minorgridcolor": "white",
             "startlinecolor": "#2a3f5f"
            },
            "type": "carpet"
           }
          ],
          "choropleth": [
           {
            "colorbar": {
             "outlinewidth": 0,
             "ticks": ""
            },
            "type": "choropleth"
           }
          ],
          "contour": [
           {
            "colorbar": {
             "outlinewidth": 0,
             "ticks": ""
            },
            "colorscale": [
             [
              0,
              "#0d0887"
             ],
             [
              0.1111111111111111,
              "#46039f"
             ],
             [
              0.2222222222222222,
              "#7201a8"
             ],
             [
              0.3333333333333333,
              "#9c179e"
             ],
             [
              0.4444444444444444,
              "#bd3786"
             ],
             [
              0.5555555555555556,
              "#d8576b"
             ],
             [
              0.6666666666666666,
              "#ed7953"
             ],
             [
              0.7777777777777778,
              "#fb9f3a"
             ],
             [
              0.8888888888888888,
              "#fdca26"
             ],
             [
              1,
              "#f0f921"
             ]
            ],
            "type": "contour"
           }
          ],
          "contourcarpet": [
           {
            "colorbar": {
             "outlinewidth": 0,
             "ticks": ""
            },
            "type": "contourcarpet"
           }
          ],
          "heatmap": [
           {
            "colorbar": {
             "outlinewidth": 0,
             "ticks": ""
            },
            "colorscale": [
             [
              0,
              "#0d0887"
             ],
             [
              0.1111111111111111,
              "#46039f"
             ],
             [
              0.2222222222222222,
              "#7201a8"
             ],
             [
              0.3333333333333333,
              "#9c179e"
             ],
             [
              0.4444444444444444,
              "#bd3786"
             ],
             [
              0.5555555555555556,
              "#d8576b"
             ],
             [
              0.6666666666666666,
              "#ed7953"
             ],
             [
              0.7777777777777778,
              "#fb9f3a"
             ],
             [
              0.8888888888888888,
              "#fdca26"
             ],
             [
              1,
              "#f0f921"
             ]
            ],
            "type": "heatmap"
           }
          ],
          "heatmapgl": [
           {
            "colorbar": {
             "outlinewidth": 0,
             "ticks": ""
            },
            "colorscale": [
             [
              0,
              "#0d0887"
             ],
             [
              0.1111111111111111,
              "#46039f"
             ],
             [
              0.2222222222222222,
              "#7201a8"
             ],
             [
              0.3333333333333333,
              "#9c179e"
             ],
             [
              0.4444444444444444,
              "#bd3786"
             ],
             [
              0.5555555555555556,
              "#d8576b"
             ],
             [
              0.6666666666666666,
              "#ed7953"
             ],
             [
              0.7777777777777778,
              "#fb9f3a"
             ],
             [
              0.8888888888888888,
              "#fdca26"
             ],
             [
              1,
              "#f0f921"
             ]
            ],
            "type": "heatmapgl"
           }
          ],
          "histogram": [
           {
            "marker": {
             "pattern": {
              "fillmode": "overlay",
              "size": 10,
              "solidity": 0.2
             }
            },
            "type": "histogram"
           }
          ],
          "histogram2d": [
           {
            "colorbar": {
             "outlinewidth": 0,
             "ticks": ""
            },
            "colorscale": [
             [
              0,
              "#0d0887"
             ],
             [
              0.1111111111111111,
              "#46039f"
             ],
             [
              0.2222222222222222,
              "#7201a8"
             ],
             [
              0.3333333333333333,
              "#9c179e"
             ],
             [
              0.4444444444444444,
              "#bd3786"
             ],
             [
              0.5555555555555556,
              "#d8576b"
             ],
             [
              0.6666666666666666,
              "#ed7953"
             ],
             [
              0.7777777777777778,
              "#fb9f3a"
             ],
             [
              0.8888888888888888,
              "#fdca26"
             ],
             [
              1,
              "#f0f921"
             ]
            ],
            "type": "histogram2d"
           }
          ],
          "histogram2dcontour": [
           {
            "colorbar": {
             "outlinewidth": 0,
             "ticks": ""
            },
            "colorscale": [
             [
              0,
              "#0d0887"
             ],
             [
              0.1111111111111111,
              "#46039f"
             ],
             [
              0.2222222222222222,
              "#7201a8"
             ],
             [
              0.3333333333333333,
              "#9c179e"
             ],
             [
              0.4444444444444444,
              "#bd3786"
             ],
             [
              0.5555555555555556,
              "#d8576b"
             ],
             [
              0.6666666666666666,
              "#ed7953"
             ],
             [
              0.7777777777777778,
              "#fb9f3a"
             ],
             [
              0.8888888888888888,
              "#fdca26"
             ],
             [
              1,
              "#f0f921"
             ]
            ],
            "type": "histogram2dcontour"
           }
          ],
          "mesh3d": [
           {
            "colorbar": {
             "outlinewidth": 0,
             "ticks": ""
            },
            "type": "mesh3d"
           }
          ],
          "parcoords": [
           {
            "line": {
             "colorbar": {
              "outlinewidth": 0,
              "ticks": ""
             }
            },
            "type": "parcoords"
           }
          ],
          "pie": [
           {
            "automargin": true,
            "type": "pie"
           }
          ],
          "scatter": [
           {
            "fillpattern": {
             "fillmode": "overlay",
             "size": 10,
             "solidity": 0.2
            },
            "type": "scatter"
           }
          ],
          "scatter3d": [
           {
            "line": {
             "colorbar": {
              "outlinewidth": 0,
              "ticks": ""
             }
            },
            "marker": {
             "colorbar": {
              "outlinewidth": 0,
              "ticks": ""
             }
            },
            "type": "scatter3d"
           }
          ],
          "scattercarpet": [
           {
            "marker": {
             "colorbar": {
              "outlinewidth": 0,
              "ticks": ""
             }
            },
            "type": "scattercarpet"
           }
          ],
          "scattergeo": [
           {
            "marker": {
             "colorbar": {
              "outlinewidth": 0,
              "ticks": ""
             }
            },
            "type": "scattergeo"
           }
          ],
          "scattergl": [
           {
            "marker": {
             "colorbar": {
              "outlinewidth": 0,
              "ticks": ""
             }
            },
            "type": "scattergl"
           }
          ],
          "scattermapbox": [
           {
            "marker": {
             "colorbar": {
              "outlinewidth": 0,
              "ticks": ""
             }
            },
            "type": "scattermapbox"
           }
          ],
          "scatterpolar": [
           {
            "marker": {
             "colorbar": {
              "outlinewidth": 0,
              "ticks": ""
             }
            },
            "type": "scatterpolar"
           }
          ],
          "scatterpolargl": [
           {
            "marker": {
             "colorbar": {
              "outlinewidth": 0,
              "ticks": ""
             }
            },
            "type": "scatterpolargl"
           }
          ],
          "scatterternary": [
           {
            "marker": {
             "colorbar": {
              "outlinewidth": 0,
              "ticks": ""
             }
            },
            "type": "scatterternary"
           }
          ],
          "surface": [
           {
            "colorbar": {
             "outlinewidth": 0,
             "ticks": ""
            },
            "colorscale": [
             [
              0,
              "#0d0887"
             ],
             [
              0.1111111111111111,
              "#46039f"
             ],
             [
              0.2222222222222222,
              "#7201a8"
             ],
             [
              0.3333333333333333,
              "#9c179e"
             ],
             [
              0.4444444444444444,
              "#bd3786"
             ],
             [
              0.5555555555555556,
              "#d8576b"
             ],
             [
              0.6666666666666666,
              "#ed7953"
             ],
             [
              0.7777777777777778,
              "#fb9f3a"
             ],
             [
              0.8888888888888888,
              "#fdca26"
             ],
             [
              1,
              "#f0f921"
             ]
            ],
            "type": "surface"
           }
          ],
          "table": [
           {
            "cells": {
             "fill": {
              "color": "#EBF0F8"
             },
             "line": {
              "color": "white"
             }
            },
            "header": {
             "fill": {
              "color": "#C8D4E3"
             },
             "line": {
              "color": "white"
             }
            },
            "type": "table"
           }
          ]
         },
         "layout": {
          "annotationdefaults": {
           "arrowcolor": "#2a3f5f",
           "arrowhead": 0,
           "arrowwidth": 1
          },
          "autotypenumbers": "strict",
          "coloraxis": {
           "colorbar": {
            "outlinewidth": 0,
            "ticks": ""
           }
          },
          "colorscale": {
           "diverging": [
            [
             0,
             "#8e0152"
            ],
            [
             0.1,
             "#c51b7d"
            ],
            [
             0.2,
             "#de77ae"
            ],
            [
             0.3,
             "#f1b6da"
            ],
            [
             0.4,
             "#fde0ef"
            ],
            [
             0.5,
             "#f7f7f7"
            ],
            [
             0.6,
             "#e6f5d0"
            ],
            [
             0.7,
             "#b8e186"
            ],
            [
             0.8,
             "#7fbc41"
            ],
            [
             0.9,
             "#4d9221"
            ],
            [
             1,
             "#276419"
            ]
           ],
           "sequential": [
            [
             0,
             "#0d0887"
            ],
            [
             0.1111111111111111,
             "#46039f"
            ],
            [
             0.2222222222222222,
             "#7201a8"
            ],
            [
             0.3333333333333333,
             "#9c179e"
            ],
            [
             0.4444444444444444,
             "#bd3786"
            ],
            [
             0.5555555555555556,
             "#d8576b"
            ],
            [
             0.6666666666666666,
             "#ed7953"
            ],
            [
             0.7777777777777778,
             "#fb9f3a"
            ],
            [
             0.8888888888888888,
             "#fdca26"
            ],
            [
             1,
             "#f0f921"
            ]
           ],
           "sequentialminus": [
            [
             0,
             "#0d0887"
            ],
            [
             0.1111111111111111,
             "#46039f"
            ],
            [
             0.2222222222222222,
             "#7201a8"
            ],
            [
             0.3333333333333333,
             "#9c179e"
            ],
            [
             0.4444444444444444,
             "#bd3786"
            ],
            [
             0.5555555555555556,
             "#d8576b"
            ],
            [
             0.6666666666666666,
             "#ed7953"
            ],
            [
             0.7777777777777778,
             "#fb9f3a"
            ],
            [
             0.8888888888888888,
             "#fdca26"
            ],
            [
             1,
             "#f0f921"
            ]
           ]
          },
          "colorway": [
           "#636efa",
           "#EF553B",
           "#00cc96",
           "#ab63fa",
           "#FFA15A",
           "#19d3f3",
           "#FF6692",
           "#B6E880",
           "#FF97FF",
           "#FECB52"
          ],
          "font": {
           "color": "#2a3f5f"
          },
          "geo": {
           "bgcolor": "white",
           "lakecolor": "white",
           "landcolor": "#E5ECF6",
           "showlakes": true,
           "showland": true,
           "subunitcolor": "white"
          },
          "hoverlabel": {
           "align": "left"
          },
          "hovermode": "closest",
          "mapbox": {
           "style": "light"
          },
          "paper_bgcolor": "white",
          "plot_bgcolor": "#E5ECF6",
          "polar": {
           "angularaxis": {
            "gridcolor": "white",
            "linecolor": "white",
            "ticks": ""
           },
           "bgcolor": "#E5ECF6",
           "radialaxis": {
            "gridcolor": "white",
            "linecolor": "white",
            "ticks": ""
           }
          },
          "scene": {
           "xaxis": {
            "backgroundcolor": "#E5ECF6",
            "gridcolor": "white",
            "gridwidth": 2,
            "linecolor": "white",
            "showbackground": true,
            "ticks": "",
            "zerolinecolor": "white"
           },
           "yaxis": {
            "backgroundcolor": "#E5ECF6",
            "gridcolor": "white",
            "gridwidth": 2,
            "linecolor": "white",
            "showbackground": true,
            "ticks": "",
            "zerolinecolor": "white"
           },
           "zaxis": {
            "backgroundcolor": "#E5ECF6",
            "gridcolor": "white",
            "gridwidth": 2,
            "linecolor": "white",
            "showbackground": true,
            "ticks": "",
            "zerolinecolor": "white"
           }
          },
          "shapedefaults": {
           "line": {
            "color": "#2a3f5f"
           }
          },
          "ternary": {
           "aaxis": {
            "gridcolor": "white",
            "linecolor": "white",
            "ticks": ""
           },
           "baxis": {
            "gridcolor": "white",
            "linecolor": "white",
            "ticks": ""
           },
           "bgcolor": "#E5ECF6",
           "caxis": {
            "gridcolor": "white",
            "linecolor": "white",
            "ticks": ""
           }
          },
          "title": {
           "x": 0.05
          },
          "xaxis": {
           "automargin": true,
           "gridcolor": "white",
           "linecolor": "white",
           "ticks": "",
           "title": {
            "standoff": 15
           },
           "zerolinecolor": "white",
           "zerolinewidth": 2
          },
          "yaxis": {
           "automargin": true,
           "gridcolor": "white",
           "linecolor": "white",
           "ticks": "",
           "title": {
            "standoff": 15
           },
           "zerolinecolor": "white",
           "zerolinewidth": 2
          }
         }
        },
        "xaxis": {
         "anchor": "y",
         "domain": [
          0,
          1
         ],
         "title": {
          "text": "num_gene_records"
         }
        },
        "yaxis": {
         "anchor": "x",
         "domain": [
          0,
          1
         ],
         "title": {
          "text": "percent_collision_symbol"
         }
        }
       }
      }
     },
     "metadata": {},
     "output_type": "display_data"
    }
   ],
   "source": [
    "create_aa_collision_histogram(aa_collision_gene_ncbi_df, \"NCBI\", ncbi_alias_count)"
   ]
  },
  {
   "cell_type": "code",
   "execution_count": 1464,
   "metadata": {},
   "outputs": [
    {
     "data": {
      "text/html": [
       "<div>\n",
       "<style scoped>\n",
       "    .dataframe tbody tr th:only-of-type {\n",
       "        vertical-align: middle;\n",
       "    }\n",
       "\n",
       "    .dataframe tbody tr th {\n",
       "        vertical-align: top;\n",
       "    }\n",
       "\n",
       "    .dataframe thead th {\n",
       "        text-align: right;\n",
       "    }\n",
       "</style>\n",
       "<table border=\"1\" class=\"dataframe\">\n",
       "  <thead>\n",
       "    <tr style=\"text-align: right;\">\n",
       "      <th></th>\n",
       "      <th>collision</th>\n",
       "      <th>num_gene_records</th>\n",
       "    </tr>\n",
       "  </thead>\n",
       "  <tbody>\n",
       "    <tr>\n",
       "      <th>3636</th>\n",
       "      <td>VH</td>\n",
       "      <td>37</td>\n",
       "    </tr>\n",
       "    <tr>\n",
       "      <th>1409</th>\n",
       "      <td>H4-16</td>\n",
       "      <td>14</td>\n",
       "    </tr>\n",
       "    <tr>\n",
       "      <th>1414</th>\n",
       "      <td>H4C14</td>\n",
       "      <td>13</td>\n",
       "    </tr>\n",
       "    <tr>\n",
       "      <th>1419</th>\n",
       "      <td>H4C4</td>\n",
       "      <td>13</td>\n",
       "    </tr>\n",
       "    <tr>\n",
       "      <th>1413</th>\n",
       "      <td>H4C13</td>\n",
       "      <td>13</td>\n",
       "    </tr>\n",
       "    <tr>\n",
       "      <th>...</th>\n",
       "      <td>...</td>\n",
       "      <td>...</td>\n",
       "    </tr>\n",
       "    <tr>\n",
       "      <th>1351</th>\n",
       "      <td>GT334</td>\n",
       "      <td>2</td>\n",
       "    </tr>\n",
       "    <tr>\n",
       "      <th>1352</th>\n",
       "      <td>GTB</td>\n",
       "      <td>2</td>\n",
       "    </tr>\n",
       "    <tr>\n",
       "      <th>1353</th>\n",
       "      <td>GTF2IRD2A</td>\n",
       "      <td>2</td>\n",
       "    </tr>\n",
       "    <tr>\n",
       "      <th>1354</th>\n",
       "      <td>GTK</td>\n",
       "      <td>2</td>\n",
       "    </tr>\n",
       "    <tr>\n",
       "      <th>3710</th>\n",
       "      <td>ZYG11</td>\n",
       "      <td>2</td>\n",
       "    </tr>\n",
       "  </tbody>\n",
       "</table>\n",
       "<p>3711 rows × 2 columns</p>\n",
       "</div>"
      ],
      "text/plain": [
       "      collision  num_gene_records\n",
       "3636         VH                37\n",
       "1409      H4-16                14\n",
       "1414      H4C14                13\n",
       "1419       H4C4                13\n",
       "1413      H4C13                13\n",
       "...         ...               ...\n",
       "1351      GT334                 2\n",
       "1352        GTB                 2\n",
       "1353  GTF2IRD2A                 2\n",
       "1354        GTK                 2\n",
       "3710      ZYG11                 2\n",
       "\n",
       "[3711 rows x 2 columns]"
      ]
     },
     "execution_count": 1464,
     "metadata": {},
     "output_type": "execute_result"
    }
   ],
   "source": [
    "aa_collision_ncbi_count_df = pd.read_csv(\n",
    "    \"../created_files/aa_collision_ncbi_count_df.csv\", index_col=[0])\n",
    "aa_collision_ncbi_count_df"
   ]
  },
  {
   "cell_type": "code",
   "execution_count": 1465,
   "metadata": {},
   "outputs": [
    {
     "data": {
      "text/html": [
       "<div>\n",
       "<style scoped>\n",
       "    .dataframe tbody tr th:only-of-type {\n",
       "        vertical-align: middle;\n",
       "    }\n",
       "\n",
       "    .dataframe tbody tr th {\n",
       "        vertical-align: top;\n",
       "    }\n",
       "\n",
       "    .dataframe thead th {\n",
       "        text-align: right;\n",
       "    }\n",
       "</style>\n",
       "<table border=\"1\" class=\"dataframe\">\n",
       "  <thead>\n",
       "    <tr style=\"text-align: right;\">\n",
       "      <th></th>\n",
       "      <th>num_gene_records</th>\n",
       "      <th>num_collision_symbol</th>\n",
       "      <th>percent_collision_symbol</th>\n",
       "    </tr>\n",
       "  </thead>\n",
       "  <tbody>\n",
       "    <tr>\n",
       "      <th>0</th>\n",
       "      <td>2</td>\n",
       "      <td>2961</td>\n",
       "      <td>4.305594</td>\n",
       "    </tr>\n",
       "    <tr>\n",
       "      <th>1</th>\n",
       "      <td>3</td>\n",
       "      <td>444</td>\n",
       "      <td>0.645621</td>\n",
       "    </tr>\n",
       "    <tr>\n",
       "      <th>2</th>\n",
       "      <td>4</td>\n",
       "      <td>148</td>\n",
       "      <td>0.215207</td>\n",
       "    </tr>\n",
       "    <tr>\n",
       "      <th>3</th>\n",
       "      <td>5</td>\n",
       "      <td>59</td>\n",
       "      <td>0.085792</td>\n",
       "    </tr>\n",
       "    <tr>\n",
       "      <th>4</th>\n",
       "      <td>6</td>\n",
       "      <td>31</td>\n",
       "      <td>0.045077</td>\n",
       "    </tr>\n",
       "    <tr>\n",
       "      <th>5</th>\n",
       "      <td>7</td>\n",
       "      <td>21</td>\n",
       "      <td>0.030536</td>\n",
       "    </tr>\n",
       "    <tr>\n",
       "      <th>6</th>\n",
       "      <td>8</td>\n",
       "      <td>9</td>\n",
       "      <td>0.013087</td>\n",
       "    </tr>\n",
       "    <tr>\n",
       "      <th>7</th>\n",
       "      <td>9</td>\n",
       "      <td>15</td>\n",
       "      <td>0.021812</td>\n",
       "    </tr>\n",
       "    <tr>\n",
       "      <th>8</th>\n",
       "      <td>10</td>\n",
       "      <td>2</td>\n",
       "      <td>0.002908</td>\n",
       "    </tr>\n",
       "    <tr>\n",
       "      <th>9</th>\n",
       "      <td>11</td>\n",
       "      <td>3</td>\n",
       "      <td>0.004362</td>\n",
       "    </tr>\n",
       "    <tr>\n",
       "      <th>10</th>\n",
       "      <td>12</td>\n",
       "      <td>2</td>\n",
       "      <td>0.002908</td>\n",
       "    </tr>\n",
       "    <tr>\n",
       "      <th>11</th>\n",
       "      <td>13</td>\n",
       "      <td>14</td>\n",
       "      <td>0.020357</td>\n",
       "    </tr>\n",
       "    <tr>\n",
       "      <th>12</th>\n",
       "      <td>14</td>\n",
       "      <td>1</td>\n",
       "      <td>0.001454</td>\n",
       "    </tr>\n",
       "    <tr>\n",
       "      <th>13</th>\n",
       "      <td>37</td>\n",
       "      <td>1</td>\n",
       "      <td>0.001454</td>\n",
       "    </tr>\n",
       "  </tbody>\n",
       "</table>\n",
       "</div>"
      ],
      "text/plain": [
       "    num_gene_records  num_collision_symbol  percent_collision_symbol\n",
       "0                  2                  2961                  4.305594\n",
       "1                  3                   444                  0.645621\n",
       "2                  4                   148                  0.215207\n",
       "3                  5                    59                  0.085792\n",
       "4                  6                    31                  0.045077\n",
       "5                  7                    21                  0.030536\n",
       "6                  8                     9                  0.013087\n",
       "7                  9                    15                  0.021812\n",
       "8                 10                     2                  0.002908\n",
       "9                 11                     3                  0.004362\n",
       "10                12                     2                  0.002908\n",
       "11                13                    14                  0.020357\n",
       "12                14                     1                  0.001454\n",
       "13                37                     1                  0.001454"
      ]
     },
     "execution_count": 1465,
     "metadata": {},
     "output_type": "execute_result"
    }
   ],
   "source": [
    "aa_collision_ncbi_distribution_df = pd.read_csv(\n",
    "    \"../created_files/aa_collision_ncbi_distribution_df.csv\", index_col=[0])\n",
    "aa_collision_ncbi_distribution_df"
   ]
  },
  {
   "cell_type": "code",
   "execution_count": 1466,
   "metadata": {},
   "outputs": [
    {
     "data": {
      "text/html": [
       "<div>\n",
       "<style scoped>\n",
       "    .dataframe tbody tr th:only-of-type {\n",
       "        vertical-align: middle;\n",
       "    }\n",
       "\n",
       "    .dataframe tbody tr th {\n",
       "        vertical-align: top;\n",
       "    }\n",
       "\n",
       "    .dataframe thead th {\n",
       "        text-align: right;\n",
       "    }\n",
       "</style>\n",
       "<table border=\"1\" class=\"dataframe\">\n",
       "  <thead>\n",
       "    <tr style=\"text-align: right;\">\n",
       "      <th></th>\n",
       "      <th>num_gene_records</th>\n",
       "      <th>percent_collision_symbol</th>\n",
       "    </tr>\n",
       "  </thead>\n",
       "  <tbody>\n",
       "    <tr>\n",
       "      <th>0</th>\n",
       "      <td>2</td>\n",
       "      <td>4.305594</td>\n",
       "    </tr>\n",
       "    <tr>\n",
       "      <th>1</th>\n",
       "      <td>3</td>\n",
       "      <td>0.645621</td>\n",
       "    </tr>\n",
       "    <tr>\n",
       "      <th>2</th>\n",
       "      <td>4</td>\n",
       "      <td>0.215207</td>\n",
       "    </tr>\n",
       "    <tr>\n",
       "      <th>3</th>\n",
       "      <td>5</td>\n",
       "      <td>0.085792</td>\n",
       "    </tr>\n",
       "    <tr>\n",
       "      <th>4</th>\n",
       "      <td>6</td>\n",
       "      <td>0.045077</td>\n",
       "    </tr>\n",
       "    <tr>\n",
       "      <th>5</th>\n",
       "      <td>7</td>\n",
       "      <td>0.030536</td>\n",
       "    </tr>\n",
       "    <tr>\n",
       "      <th>6</th>\n",
       "      <td>8</td>\n",
       "      <td>0.013087</td>\n",
       "    </tr>\n",
       "    <tr>\n",
       "      <th>7</th>\n",
       "      <td>9</td>\n",
       "      <td>0.021812</td>\n",
       "    </tr>\n",
       "    <tr>\n",
       "      <th>8</th>\n",
       "      <td>10</td>\n",
       "      <td>0.002908</td>\n",
       "    </tr>\n",
       "    <tr>\n",
       "      <th>9</th>\n",
       "      <td>11</td>\n",
       "      <td>0.004362</td>\n",
       "    </tr>\n",
       "    <tr>\n",
       "      <th>10</th>\n",
       "      <td>12</td>\n",
       "      <td>0.002908</td>\n",
       "    </tr>\n",
       "    <tr>\n",
       "      <th>11</th>\n",
       "      <td>13</td>\n",
       "      <td>0.020357</td>\n",
       "    </tr>\n",
       "    <tr>\n",
       "      <th>12</th>\n",
       "      <td>14</td>\n",
       "      <td>0.001454</td>\n",
       "    </tr>\n",
       "    <tr>\n",
       "      <th>13</th>\n",
       "      <td>37</td>\n",
       "      <td>0.001454</td>\n",
       "    </tr>\n",
       "  </tbody>\n",
       "</table>\n",
       "</div>"
      ],
      "text/plain": [
       "    num_gene_records  percent_collision_symbol\n",
       "0                  2                  4.305594\n",
       "1                  3                  0.645621\n",
       "2                  4                  0.215207\n",
       "3                  5                  0.085792\n",
       "4                  6                  0.045077\n",
       "5                  7                  0.030536\n",
       "6                  8                  0.013087\n",
       "7                  9                  0.021812\n",
       "8                 10                  0.002908\n",
       "9                 11                  0.004362\n",
       "10                12                  0.002908\n",
       "11                13                  0.020357\n",
       "12                14                  0.001454\n",
       "13                37                  0.001454"
      ]
     },
     "execution_count": 1466,
     "metadata": {},
     "output_type": "execute_result"
    }
   ],
   "source": [
    "ncbi_alias_count_histogram_df = pd.read_csv(\n",
    "    \"../created_files/ncbi_alias_count_histogram_df.csv\", index_col=[0])\n",
    "ncbi_alias_count_histogram_df"
   ]
  },
  {
   "cell_type": "code",
   "execution_count": 1467,
   "metadata": {},
   "outputs": [
    {
     "data": {
      "text/plain": [
       "57275"
      ]
     },
     "execution_count": 1467,
     "metadata": {},
     "output_type": "execute_result"
    }
   ],
   "source": [
    "len(subset_genes_ensg_df)"
   ]
  },
  {
   "cell_type": "code",
   "execution_count": 1468,
   "metadata": {},
   "outputs": [
    {
     "data": {
      "text/plain": [
       "44542"
      ]
     },
     "execution_count": 1468,
     "metadata": {},
     "output_type": "execute_result"
    }
   ],
   "source": [
    "len(subset_genes_hgnc_df)"
   ]
  },
  {
   "cell_type": "code",
   "execution_count": 1469,
   "metadata": {},
   "outputs": [
    {
     "data": {
      "text/plain": [
       "74051"
      ]
     },
     "execution_count": 1469,
     "metadata": {},
     "output_type": "execute_result"
    }
   ],
   "source": [
    "len(subset_genes_ncbi_df)"
   ]
  },
  {
   "cell_type": "markdown",
   "metadata": {},
   "source": [
    "# <a id='toc4_'></a>[Merge to create Alias-Alias Collision Table- On Primary Gene Symbol](#toc0_)"
   ]
  },
  {
   "cell_type": "code",
   "execution_count": 1470,
   "metadata": {},
   "outputs": [
    {
     "data": {
      "text/html": [
       "<div>\n",
       "<style scoped>\n",
       "    .dataframe tbody tr th:only-of-type {\n",
       "        vertical-align: middle;\n",
       "    }\n",
       "\n",
       "    .dataframe tbody tr th {\n",
       "        vertical-align: top;\n",
       "    }\n",
       "\n",
       "    .dataframe thead th {\n",
       "        text-align: right;\n",
       "    }\n",
       "</style>\n",
       "<table border=\"1\" class=\"dataframe\">\n",
       "  <thead>\n",
       "    <tr style=\"text-align: right;\">\n",
       "      <th></th>\n",
       "      <th>gene_symbol</th>\n",
       "      <th>alias_symbol</th>\n",
       "      <th>ENSG_ID</th>\n",
       "      <th>collision</th>\n",
       "      <th>source</th>\n",
       "    </tr>\n",
       "  </thead>\n",
       "  <tbody>\n",
       "    <tr>\n",
       "      <th>0</th>\n",
       "      <td>KLRG1</td>\n",
       "      <td>MAFA,2F1,MAFA-L,CLEC15A</td>\n",
       "      <td>ENSG00000139187</td>\n",
       "      <td>2F1</td>\n",
       "      <td>HGNC</td>\n",
       "    </tr>\n",
       "    <tr>\n",
       "      <th>1</th>\n",
       "      <td>SLC25A5</td>\n",
       "      <td>T2,2F1,T3</td>\n",
       "      <td>ENSG00000005022</td>\n",
       "      <td>2F1</td>\n",
       "      <td>HGNC</td>\n",
       "    </tr>\n",
       "    <tr>\n",
       "      <th>2</th>\n",
       "      <td>S100A8</td>\n",
       "      <td>P8,MRP8,MRP-8,60B8AG,CGLA,S100-A8</td>\n",
       "      <td>ENSG00000143546</td>\n",
       "      <td>60B8AG</td>\n",
       "      <td>HGNC</td>\n",
       "    </tr>\n",
       "    <tr>\n",
       "      <th>3</th>\n",
       "      <td>S100A9</td>\n",
       "      <td>P14,MIF,NIF,LIAG,MRP14,MAC387,60B8AG,CGLB,MRP-...</td>\n",
       "      <td>ENSG00000163220</td>\n",
       "      <td>60B8AG</td>\n",
       "      <td>HGNC</td>\n",
       "    </tr>\n",
       "    <tr>\n",
       "      <th>4</th>\n",
       "      <td>RNU6V</td>\n",
       "      <td>87U6,LH87</td>\n",
       "      <td>ENSG00000206832</td>\n",
       "      <td>87U6</td>\n",
       "      <td>HGNC</td>\n",
       "    </tr>\n",
       "    <tr>\n",
       "      <th>...</th>\n",
       "      <td>...</td>\n",
       "      <td>...</td>\n",
       "      <td>...</td>\n",
       "      <td>...</td>\n",
       "      <td>...</td>\n",
       "    </tr>\n",
       "    <tr>\n",
       "      <th>3674</th>\n",
       "      <td>SLC30A10</td>\n",
       "      <td>DKFZP547M236,ZNT-10,ZNT10,ZNT8,ZRC1</td>\n",
       "      <td>ENSG00000196660</td>\n",
       "      <td>ZNT8</td>\n",
       "      <td>ENSG</td>\n",
       "    </tr>\n",
       "    <tr>\n",
       "      <th>3675</th>\n",
       "      <td>SLC30A10</td>\n",
       "      <td>DKFZP547M236,ZNT-10,ZNT10,ZNT8,ZRC1</td>\n",
       "      <td>ENSG00000196660</td>\n",
       "      <td>ZRC1</td>\n",
       "      <td>ENSG</td>\n",
       "    </tr>\n",
       "    <tr>\n",
       "      <th>3676</th>\n",
       "      <td>SLC30A1</td>\n",
       "      <td>ZNT1,ZRC1</td>\n",
       "      <td>ENSG00000170385</td>\n",
       "      <td>ZRC1</td>\n",
       "      <td>ENSG</td>\n",
       "    </tr>\n",
       "    <tr>\n",
       "      <th>3677</th>\n",
       "      <td>ZYG11B</td>\n",
       "      <td>FLJ13456,ZYG11</td>\n",
       "      <td>ENSG00000162378</td>\n",
       "      <td>ZYG11</td>\n",
       "      <td>ENSG</td>\n",
       "    </tr>\n",
       "    <tr>\n",
       "      <th>3678</th>\n",
       "      <td>ZYG11A</td>\n",
       "      <td>ZYG11</td>\n",
       "      <td>ENSG00000203995</td>\n",
       "      <td>ZYG11</td>\n",
       "      <td>ENSG</td>\n",
       "    </tr>\n",
       "  </tbody>\n",
       "</table>\n",
       "<p>15544 rows × 5 columns</p>\n",
       "</div>"
      ],
      "text/plain": [
       "     gene_symbol                                       alias_symbol  \\\n",
       "0          KLRG1                            MAFA,2F1,MAFA-L,CLEC15A   \n",
       "1        SLC25A5                                          T2,2F1,T3   \n",
       "2         S100A8                  P8,MRP8,MRP-8,60B8AG,CGLA,S100-A8   \n",
       "3         S100A9  P14,MIF,NIF,LIAG,MRP14,MAC387,60B8AG,CGLB,MRP-...   \n",
       "4          RNU6V                                          87U6,LH87   \n",
       "...          ...                                                ...   \n",
       "3674    SLC30A10                DKFZP547M236,ZNT-10,ZNT10,ZNT8,ZRC1   \n",
       "3675    SLC30A10                DKFZP547M236,ZNT-10,ZNT10,ZNT8,ZRC1   \n",
       "3676     SLC30A1                                          ZNT1,ZRC1   \n",
       "3677      ZYG11B                                     FLJ13456,ZYG11   \n",
       "3678      ZYG11A                                              ZYG11   \n",
       "\n",
       "              ENSG_ID collision source  \n",
       "0     ENSG00000139187       2F1   HGNC  \n",
       "1     ENSG00000005022       2F1   HGNC  \n",
       "2     ENSG00000143546    60B8AG   HGNC  \n",
       "3     ENSG00000163220    60B8AG   HGNC  \n",
       "4     ENSG00000206832      87U6   HGNC  \n",
       "...               ...       ...    ...  \n",
       "3674  ENSG00000196660      ZNT8   ENSG  \n",
       "3675  ENSG00000196660      ZRC1   ENSG  \n",
       "3676  ENSG00000170385      ZRC1   ENSG  \n",
       "3677  ENSG00000162378     ZYG11   ENSG  \n",
       "3678  ENSG00000203995     ZYG11   ENSG  \n",
       "\n",
       "[15544 rows x 5 columns]"
      ]
     },
     "execution_count": 1470,
     "metadata": {},
     "output_type": "execute_result"
    }
   ],
   "source": [
    "merged_aa_collision_gene_df = pd.concat(\n",
    "    [\n",
    "        aa_collision_gene_hgnc_df[[\"gene_symbol\", \"alias_symbol\", \"ENSG_ID\", \"collision\", \"source\"]],\n",
    "        aa_collision_gene_ncbi_df[[\"gene_symbol\", \"alias_symbol\", \"ENSG_ID\", \"collision\", \"source\"]],\n",
    "        aa_collision_gene_ensg_df[[\"gene_symbol\", \"alias_symbol\", \"ENSG_ID\", \"collision\", \"source\"]],\n",
    "    ]\n",
    ")\n",
    "merged_aa_collision_gene_df"
   ]
  },
  {
   "cell_type": "code",
   "execution_count": 1471,
   "metadata": {},
   "outputs": [],
   "source": [
    "merged_aa_collision_gene_df.to_csv(\n",
    "    \"../created_files/merged_aa_collision_gene_df.csv\", index=False\n",
    ")"
   ]
  },
  {
   "cell_type": "code",
   "execution_count": 1472,
   "metadata": {},
   "outputs": [
    {
     "data": {
      "text/html": [
       "<div>\n",
       "<style scoped>\n",
       "    .dataframe tbody tr th:only-of-type {\n",
       "        vertical-align: middle;\n",
       "    }\n",
       "\n",
       "    .dataframe tbody tr th {\n",
       "        vertical-align: top;\n",
       "    }\n",
       "\n",
       "    .dataframe thead th {\n",
       "        text-align: right;\n",
       "    }\n",
       "</style>\n",
       "<table border=\"1\" class=\"dataframe\">\n",
       "  <thead>\n",
       "    <tr style=\"text-align: right;\">\n",
       "      <th></th>\n",
       "      <th>gene_symbol</th>\n",
       "      <th>alias_symbol</th>\n",
       "      <th>ENSG_ID</th>\n",
       "      <th>collision</th>\n",
       "      <th>source</th>\n",
       "    </tr>\n",
       "  </thead>\n",
       "  <tbody>\n",
       "    <tr>\n",
       "      <th>82</th>\n",
       "      <td>ASRGL1</td>\n",
       "      <td>FLJ22316,ALP1,ALP</td>\n",
       "      <td>ENSG00000162174</td>\n",
       "      <td>ALP</td>\n",
       "      <td>HGNC</td>\n",
       "    </tr>\n",
       "    <tr>\n",
       "      <th>83</th>\n",
       "      <td>ATHS</td>\n",
       "      <td>ALP</td>\n",
       "      <td>NaN</td>\n",
       "      <td>ALP</td>\n",
       "      <td>HGNC</td>\n",
       "    </tr>\n",
       "    <tr>\n",
       "      <th>84</th>\n",
       "      <td>ATRNL1</td>\n",
       "      <td>KIAA0534,FLJ45344,ALP</td>\n",
       "      <td>ENSG00000107518</td>\n",
       "      <td>ALP</td>\n",
       "      <td>HGNC</td>\n",
       "    </tr>\n",
       "    <tr>\n",
       "      <th>85</th>\n",
       "      <td>PDLIM3</td>\n",
       "      <td>ALP</td>\n",
       "      <td>ENSG00000154553</td>\n",
       "      <td>ALP</td>\n",
       "      <td>HGNC</td>\n",
       "    </tr>\n",
       "    <tr>\n",
       "      <th>86</th>\n",
       "      <td>CCL27</td>\n",
       "      <td>ALP,ILC,CTACK,skinkine,ESkine,PESKY,CTAK</td>\n",
       "      <td>ENSG00000213927</td>\n",
       "      <td>ALP</td>\n",
       "      <td>HGNC</td>\n",
       "    </tr>\n",
       "    <tr>\n",
       "      <th>87</th>\n",
       "      <td>SLPI</td>\n",
       "      <td>HUSI-I,ALK1,ALP,BLPI,HUSI,WAP4,WFDC4</td>\n",
       "      <td>ENSG00000124107</td>\n",
       "      <td>ALP</td>\n",
       "      <td>HGNC</td>\n",
       "    </tr>\n",
       "    <tr>\n",
       "      <th>279</th>\n",
       "      <td>ASRGL1</td>\n",
       "      <td>ALP,ALP1,CRASH</td>\n",
       "      <td>ENSG00000162174</td>\n",
       "      <td>ALP</td>\n",
       "      <td>NCBI</td>\n",
       "    </tr>\n",
       "    <tr>\n",
       "      <th>280</th>\n",
       "      <td>ATRNL1</td>\n",
       "      <td>ALP,bA338L11.1,bA454H24.1</td>\n",
       "      <td>ENSG00000107518</td>\n",
       "      <td>ALP</td>\n",
       "      <td>NCBI</td>\n",
       "    </tr>\n",
       "    <tr>\n",
       "      <th>281</th>\n",
       "      <td>ATHS</td>\n",
       "      <td>ALP</td>\n",
       "      <td>NaN</td>\n",
       "      <td>ALP</td>\n",
       "      <td>NCBI</td>\n",
       "    </tr>\n",
       "    <tr>\n",
       "      <th>282</th>\n",
       "      <td>NAT10</td>\n",
       "      <td>ALP,Kre33,NET43</td>\n",
       "      <td>ENSG00000135372</td>\n",
       "      <td>ALP</td>\n",
       "      <td>NCBI</td>\n",
       "    </tr>\n",
       "    <tr>\n",
       "      <th>283</th>\n",
       "      <td>ALPP</td>\n",
       "      <td>ALP,ALPI,IAP,PALP,PLAP,PLAP-1</td>\n",
       "      <td>ENSG00000163283</td>\n",
       "      <td>ALP</td>\n",
       "      <td>NCBI</td>\n",
       "    </tr>\n",
       "    <tr>\n",
       "      <th>284</th>\n",
       "      <td>PDLIM3</td>\n",
       "      <td>ALP</td>\n",
       "      <td>ENSG00000154553</td>\n",
       "      <td>ALP</td>\n",
       "      <td>NCBI</td>\n",
       "    </tr>\n",
       "    <tr>\n",
       "      <th>285</th>\n",
       "      <td>SLPI</td>\n",
       "      <td>ALK1,ALP,BLPI,HUSI,HUSI-I,MPI,WAP4,WFDC4</td>\n",
       "      <td>ENSG00000124107</td>\n",
       "      <td>ALP</td>\n",
       "      <td>NCBI</td>\n",
       "    </tr>\n",
       "    <tr>\n",
       "      <th>286</th>\n",
       "      <td>CCL27</td>\n",
       "      <td>ALP,CTACK,CTAK,ESKINE,ILC,PESKY,SCYA27</td>\n",
       "      <td>ENSG00000213927</td>\n",
       "      <td>ALP</td>\n",
       "      <td>NCBI</td>\n",
       "    </tr>\n",
       "    <tr>\n",
       "      <th>124</th>\n",
       "      <td>PDLIM3</td>\n",
       "      <td>ALP</td>\n",
       "      <td>ENSG00000154553</td>\n",
       "      <td>ALP</td>\n",
       "      <td>ENSG</td>\n",
       "    </tr>\n",
       "    <tr>\n",
       "      <th>125</th>\n",
       "      <td>ASRGL1</td>\n",
       "      <td>ALP,ALP1,FLJ22316</td>\n",
       "      <td>ENSG00000162174</td>\n",
       "      <td>ALP</td>\n",
       "      <td>ENSG</td>\n",
       "    </tr>\n",
       "    <tr>\n",
       "      <th>126</th>\n",
       "      <td>CCL27</td>\n",
       "      <td>ALP,CTACK,CTAK,ESKINE,ILC,PESKY,SCYA27,SKINKINE</td>\n",
       "      <td>ENSG00000213927</td>\n",
       "      <td>ALP</td>\n",
       "      <td>ENSG</td>\n",
       "    </tr>\n",
       "    <tr>\n",
       "      <th>127</th>\n",
       "      <td>ATRNL1</td>\n",
       "      <td>ALP,FLJ45344,KIAA0534</td>\n",
       "      <td>ENSG00000107518</td>\n",
       "      <td>ALP</td>\n",
       "      <td>ENSG</td>\n",
       "    </tr>\n",
       "    <tr>\n",
       "      <th>128</th>\n",
       "      <td>SLPI</td>\n",
       "      <td>ALK1,ALP,BLPI,HUSI,HUSI-I,WAP4,WFDC4</td>\n",
       "      <td>ENSG00000124107</td>\n",
       "      <td>ALP</td>\n",
       "      <td>ENSG</td>\n",
       "    </tr>\n",
       "  </tbody>\n",
       "</table>\n",
       "</div>"
      ],
      "text/plain": [
       "    gene_symbol                                     alias_symbol  \\\n",
       "82       ASRGL1                                FLJ22316,ALP1,ALP   \n",
       "83         ATHS                                              ALP   \n",
       "84       ATRNL1                            KIAA0534,FLJ45344,ALP   \n",
       "85       PDLIM3                                              ALP   \n",
       "86        CCL27         ALP,ILC,CTACK,skinkine,ESkine,PESKY,CTAK   \n",
       "87         SLPI             HUSI-I,ALK1,ALP,BLPI,HUSI,WAP4,WFDC4   \n",
       "279      ASRGL1                                   ALP,ALP1,CRASH   \n",
       "280      ATRNL1                        ALP,bA338L11.1,bA454H24.1   \n",
       "281        ATHS                                              ALP   \n",
       "282       NAT10                                  ALP,Kre33,NET43   \n",
       "283        ALPP                    ALP,ALPI,IAP,PALP,PLAP,PLAP-1   \n",
       "284      PDLIM3                                              ALP   \n",
       "285        SLPI         ALK1,ALP,BLPI,HUSI,HUSI-I,MPI,WAP4,WFDC4   \n",
       "286       CCL27           ALP,CTACK,CTAK,ESKINE,ILC,PESKY,SCYA27   \n",
       "124      PDLIM3                                              ALP   \n",
       "125      ASRGL1                                ALP,ALP1,FLJ22316   \n",
       "126       CCL27  ALP,CTACK,CTAK,ESKINE,ILC,PESKY,SCYA27,SKINKINE   \n",
       "127      ATRNL1                            ALP,FLJ45344,KIAA0534   \n",
       "128        SLPI             ALK1,ALP,BLPI,HUSI,HUSI-I,WAP4,WFDC4   \n",
       "\n",
       "             ENSG_ID collision source  \n",
       "82   ENSG00000162174       ALP   HGNC  \n",
       "83               NaN       ALP   HGNC  \n",
       "84   ENSG00000107518       ALP   HGNC  \n",
       "85   ENSG00000154553       ALP   HGNC  \n",
       "86   ENSG00000213927       ALP   HGNC  \n",
       "87   ENSG00000124107       ALP   HGNC  \n",
       "279  ENSG00000162174       ALP   NCBI  \n",
       "280  ENSG00000107518       ALP   NCBI  \n",
       "281              NaN       ALP   NCBI  \n",
       "282  ENSG00000135372       ALP   NCBI  \n",
       "283  ENSG00000163283       ALP   NCBI  \n",
       "284  ENSG00000154553       ALP   NCBI  \n",
       "285  ENSG00000124107       ALP   NCBI  \n",
       "286  ENSG00000213927       ALP   NCBI  \n",
       "124  ENSG00000154553       ALP   ENSG  \n",
       "125  ENSG00000162174       ALP   ENSG  \n",
       "126  ENSG00000213927       ALP   ENSG  \n",
       "127  ENSG00000107518       ALP   ENSG  \n",
       "128  ENSG00000124107       ALP   ENSG  "
      ]
     },
     "execution_count": 1472,
     "metadata": {},
     "output_type": "execute_result"
    }
   ],
   "source": [
    "merged_aa_collision_gene_df.loc[merged_aa_collision_gene_df.collision == \"ALP\"]"
   ]
  },
  {
   "cell_type": "markdown",
   "metadata": {},
   "source": [
    "# <a id='toc5_'></a>[Merge to create Alias-Alias Collision Table- On Alias Symbol](#toc0_)"
   ]
  },
  {
   "cell_type": "code",
   "execution_count": 1473,
   "metadata": {},
   "outputs": [
    {
     "data": {
      "text/html": [
       "<div>\n",
       "<style scoped>\n",
       "    .dataframe tbody tr th:only-of-type {\n",
       "        vertical-align: middle;\n",
       "    }\n",
       "\n",
       "    .dataframe tbody tr th {\n",
       "        vertical-align: top;\n",
       "    }\n",
       "\n",
       "    .dataframe thead th {\n",
       "        text-align: right;\n",
       "    }\n",
       "</style>\n",
       "<table border=\"1\" class=\"dataframe\">\n",
       "  <thead>\n",
       "    <tr style=\"text-align: right;\">\n",
       "      <th></th>\n",
       "      <th>collision</th>\n",
       "      <th>gene_symbol</th>\n",
       "      <th>ENSG_ID</th>\n",
       "      <th>source</th>\n",
       "    </tr>\n",
       "  </thead>\n",
       "  <tbody>\n",
       "    <tr>\n",
       "      <th>0</th>\n",
       "      <td>2F1</td>\n",
       "      <td>KLRG1, SLC25A5</td>\n",
       "      <td>ENSG00000139187, ENSG00000005022</td>\n",
       "      <td>HGNC</td>\n",
       "    </tr>\n",
       "    <tr>\n",
       "      <th>1</th>\n",
       "      <td>60B8AG</td>\n",
       "      <td>S100A8, S100A9</td>\n",
       "      <td>ENSG00000143546, ENSG00000163220</td>\n",
       "      <td>HGNC</td>\n",
       "    </tr>\n",
       "    <tr>\n",
       "      <th>2</th>\n",
       "      <td>87U6</td>\n",
       "      <td>RNU6V, GNAI3</td>\n",
       "      <td>ENSG00000206832, ENSG00000065135</td>\n",
       "      <td>HGNC</td>\n",
       "    </tr>\n",
       "    <tr>\n",
       "      <th>3</th>\n",
       "      <td>9G8</td>\n",
       "      <td>SRSF7, SLU7</td>\n",
       "      <td>ENSG00000115875, ENSG00000164609</td>\n",
       "      <td>HGNC</td>\n",
       "    </tr>\n",
       "    <tr>\n",
       "      <th>4</th>\n",
       "      <td>A1</td>\n",
       "      <td>ATP6V0A1, RFC1, RFC4, RFC2</td>\n",
       "      <td>ENSG00000033627, ENSG00000035928, ENSG00000163...</td>\n",
       "      <td>HGNC</td>\n",
       "    </tr>\n",
       "    <tr>\n",
       "      <th>...</th>\n",
       "      <td>...</td>\n",
       "      <td>...</td>\n",
       "      <td>...</td>\n",
       "      <td>...</td>\n",
       "    </tr>\n",
       "    <tr>\n",
       "      <th>1612</th>\n",
       "      <td>ZIP4</td>\n",
       "      <td>TEX11, SLC39A4</td>\n",
       "      <td>ENSG00000120498, ENSG00000285243</td>\n",
       "      <td>ENSG</td>\n",
       "    </tr>\n",
       "    <tr>\n",
       "      <th>1613</th>\n",
       "      <td>ZNF422</td>\n",
       "      <td>ZNF22, PHF8</td>\n",
       "      <td>ENSG00000165512, ENSG00000172943</td>\n",
       "      <td>ENSG</td>\n",
       "    </tr>\n",
       "    <tr>\n",
       "      <th>1614</th>\n",
       "      <td>ZNT8</td>\n",
       "      <td>SLC30A8, SLC30A10</td>\n",
       "      <td>ENSG00000164756, ENSG00000196660</td>\n",
       "      <td>ENSG</td>\n",
       "    </tr>\n",
       "    <tr>\n",
       "      <th>1615</th>\n",
       "      <td>ZRC1</td>\n",
       "      <td>SLC30A10, SLC30A1</td>\n",
       "      <td>ENSG00000196660, ENSG00000170385</td>\n",
       "      <td>ENSG</td>\n",
       "    </tr>\n",
       "    <tr>\n",
       "      <th>1616</th>\n",
       "      <td>ZYG11</td>\n",
       "      <td>ZYG11B, ZYG11A</td>\n",
       "      <td>ENSG00000162378, ENSG00000203995</td>\n",
       "      <td>ENSG</td>\n",
       "    </tr>\n",
       "  </tbody>\n",
       "</table>\n",
       "<p>6578 rows × 4 columns</p>\n",
       "</div>"
      ],
      "text/plain": [
       "     collision                 gene_symbol  \\\n",
       "0          2F1              KLRG1, SLC25A5   \n",
       "1       60B8AG              S100A8, S100A9   \n",
       "2         87U6                RNU6V, GNAI3   \n",
       "3          9G8                 SRSF7, SLU7   \n",
       "4           A1  ATP6V0A1, RFC1, RFC4, RFC2   \n",
       "...        ...                         ...   \n",
       "1612      ZIP4              TEX11, SLC39A4   \n",
       "1613    ZNF422                 ZNF22, PHF8   \n",
       "1614      ZNT8           SLC30A8, SLC30A10   \n",
       "1615      ZRC1           SLC30A10, SLC30A1   \n",
       "1616     ZYG11              ZYG11B, ZYG11A   \n",
       "\n",
       "                                                ENSG_ID source  \n",
       "0                      ENSG00000139187, ENSG00000005022   HGNC  \n",
       "1                      ENSG00000143546, ENSG00000163220   HGNC  \n",
       "2                      ENSG00000206832, ENSG00000065135   HGNC  \n",
       "3                      ENSG00000115875, ENSG00000164609   HGNC  \n",
       "4     ENSG00000033627, ENSG00000035928, ENSG00000163...   HGNC  \n",
       "...                                                 ...    ...  \n",
       "1612                   ENSG00000120498, ENSG00000285243   ENSG  \n",
       "1613                   ENSG00000165512, ENSG00000172943   ENSG  \n",
       "1614                   ENSG00000164756, ENSG00000196660   ENSG  \n",
       "1615                   ENSG00000196660, ENSG00000170385   ENSG  \n",
       "1616                   ENSG00000162378, ENSG00000203995   ENSG  \n",
       "\n",
       "[6578 rows x 4 columns]"
      ]
     },
     "execution_count": 1473,
     "metadata": {},
     "output_type": "execute_result"
    }
   ],
   "source": [
    "merged_aa_collision_alias_df = pd.concat(\n",
    "    [\n",
    "        aa_collision_alias_hgnc_df[[\"collision\", \"gene_symbol\", \"ENSG_ID\", \"source\"]],\n",
    "        aa_collision_alias_ncbi_df[[\"collision\", \"gene_symbol\", \"ENSG_ID\", \"source\"]],\n",
    "        aa_collision_alias_ensg_df[[\"collision\", \"gene_symbol\", \"ENSG_ID\", \"source\"]],\n",
    "    ]\n",
    ")\n",
    "merged_aa_collision_alias_df"
   ]
  },
  {
   "cell_type": "code",
   "execution_count": 1474,
   "metadata": {},
   "outputs": [
    {
     "data": {
      "text/html": [
       "<div>\n",
       "<style scoped>\n",
       "    .dataframe tbody tr th:only-of-type {\n",
       "        vertical-align: middle;\n",
       "    }\n",
       "\n",
       "    .dataframe tbody tr th {\n",
       "        vertical-align: top;\n",
       "    }\n",
       "\n",
       "    .dataframe thead th {\n",
       "        text-align: right;\n",
       "    }\n",
       "</style>\n",
       "<table border=\"1\" class=\"dataframe\">\n",
       "  <thead>\n",
       "    <tr style=\"text-align: right;\">\n",
       "      <th></th>\n",
       "      <th>collision</th>\n",
       "      <th>gene_symbol</th>\n",
       "      <th>ENSG_ID</th>\n",
       "      <th>source</th>\n",
       "      <th>gene_symbol_count</th>\n",
       "    </tr>\n",
       "  </thead>\n",
       "  <tbody>\n",
       "    <tr>\n",
       "      <th>3636</th>\n",
       "      <td>VH</td>\n",
       "      <td>[IGHV4-59,  IGHV4-39,  IGHV4-34,  IGHV4-28,  I...</td>\n",
       "      <td>ENSG00000224373, ENSG00000211959, ENSG00000211...</td>\n",
       "      <td>NCBI</td>\n",
       "      <td>37</td>\n",
       "    </tr>\n",
       "    <tr>\n",
       "      <th>1409</th>\n",
       "      <td>H4-16</td>\n",
       "      <td>[H4C4,  H4C8,  H4C16,  H4C3,  H4C11,  H4C5,  H...</td>\n",
       "      <td>ENSG00000277157, ENSG00000158406, ENSG00000197...</td>\n",
       "      <td>NCBI</td>\n",
       "      <td>14</td>\n",
       "    </tr>\n",
       "    <tr>\n",
       "      <th>1412</th>\n",
       "      <td>H4C12</td>\n",
       "      <td>[H4C3,  H4C16,  H4C14,  H4C13,  H4C2,  H4C9,  ...</td>\n",
       "      <td>ENSG00000197061, ENSG00000197837, ENSG00000270...</td>\n",
       "      <td>NCBI</td>\n",
       "      <td>13</td>\n",
       "    </tr>\n",
       "    <tr>\n",
       "      <th>1413</th>\n",
       "      <td>H4C13</td>\n",
       "      <td>[H4C1,  H4C15,  H4C16,  H4C9,  H4C8,  H4C4,  H...</td>\n",
       "      <td>ENSG00000278637, ENSG00000270276, ENSG00000197...</td>\n",
       "      <td>NCBI</td>\n",
       "      <td>13</td>\n",
       "    </tr>\n",
       "    <tr>\n",
       "      <th>1423</th>\n",
       "      <td>H4C9</td>\n",
       "      <td>[H4C11,  H4C6,  H4C15,  H4C16,  H4C1,  H4C5,  ...</td>\n",
       "      <td>ENSG00000197238, ENSG00000274618, ENSG00000270...</td>\n",
       "      <td>NCBI</td>\n",
       "      <td>13</td>\n",
       "    </tr>\n",
       "    <tr>\n",
       "      <th>...</th>\n",
       "      <td>...</td>\n",
       "      <td>...</td>\n",
       "      <td>...</td>\n",
       "      <td>...</td>\n",
       "      <td>...</td>\n",
       "    </tr>\n",
       "    <tr>\n",
       "      <th>1151</th>\n",
       "      <td>FEB3B</td>\n",
       "      <td>[SCN9A,  GEFSP7]</td>\n",
       "      <td>ENSG00000169432, nan</td>\n",
       "      <td>NCBI</td>\n",
       "      <td>2</td>\n",
       "    </tr>\n",
       "    <tr>\n",
       "      <th>1150</th>\n",
       "      <td>FE</td>\n",
       "      <td>[GTF2E1,  GTF2E2]</td>\n",
       "      <td>ENSG00000153767, ENSG00000197265</td>\n",
       "      <td>NCBI</td>\n",
       "      <td>2</td>\n",
       "    </tr>\n",
       "    <tr>\n",
       "      <th>1149</th>\n",
       "      <td>FDH</td>\n",
       "      <td>[ADH5,  ALDH1L1]</td>\n",
       "      <td>ENSG00000197894, ENSG00000144908</td>\n",
       "      <td>NCBI</td>\n",
       "      <td>2</td>\n",
       "    </tr>\n",
       "    <tr>\n",
       "      <th>1148</th>\n",
       "      <td>FCT3A</td>\n",
       "      <td>[FUT6,  FUT4]</td>\n",
       "      <td>ENSG00000156413, ENSG00000196371</td>\n",
       "      <td>NCBI</td>\n",
       "      <td>2</td>\n",
       "    </tr>\n",
       "    <tr>\n",
       "      <th>1616</th>\n",
       "      <td>ZYG11</td>\n",
       "      <td>[ZYG11B,  ZYG11A]</td>\n",
       "      <td>ENSG00000162378, ENSG00000203995</td>\n",
       "      <td>ENSG</td>\n",
       "      <td>2</td>\n",
       "    </tr>\n",
       "  </tbody>\n",
       "</table>\n",
       "<p>6578 rows × 5 columns</p>\n",
       "</div>"
      ],
      "text/plain": [
       "     collision                                        gene_symbol  \\\n",
       "3636        VH  [IGHV4-59,  IGHV4-39,  IGHV4-34,  IGHV4-28,  I...   \n",
       "1409     H4-16  [H4C4,  H4C8,  H4C16,  H4C3,  H4C11,  H4C5,  H...   \n",
       "1412     H4C12  [H4C3,  H4C16,  H4C14,  H4C13,  H4C2,  H4C9,  ...   \n",
       "1413     H4C13  [H4C1,  H4C15,  H4C16,  H4C9,  H4C8,  H4C4,  H...   \n",
       "1423      H4C9  [H4C11,  H4C6,  H4C15,  H4C16,  H4C1,  H4C5,  ...   \n",
       "...        ...                                                ...   \n",
       "1151     FEB3B                                   [SCN9A,  GEFSP7]   \n",
       "1150        FE                                  [GTF2E1,  GTF2E2]   \n",
       "1149       FDH                                   [ADH5,  ALDH1L1]   \n",
       "1148     FCT3A                                      [FUT6,  FUT4]   \n",
       "1616     ZYG11                                  [ZYG11B,  ZYG11A]   \n",
       "\n",
       "                                                ENSG_ID source  \\\n",
       "3636  ENSG00000224373, ENSG00000211959, ENSG00000211...   NCBI   \n",
       "1409  ENSG00000277157, ENSG00000158406, ENSG00000197...   NCBI   \n",
       "1412  ENSG00000197061, ENSG00000197837, ENSG00000270...   NCBI   \n",
       "1413  ENSG00000278637, ENSG00000270276, ENSG00000197...   NCBI   \n",
       "1423  ENSG00000197238, ENSG00000274618, ENSG00000270...   NCBI   \n",
       "...                                                 ...    ...   \n",
       "1151                               ENSG00000169432, nan   NCBI   \n",
       "1150                   ENSG00000153767, ENSG00000197265   NCBI   \n",
       "1149                   ENSG00000197894, ENSG00000144908   NCBI   \n",
       "1148                   ENSG00000156413, ENSG00000196371   NCBI   \n",
       "1616                   ENSG00000162378, ENSG00000203995   ENSG   \n",
       "\n",
       "      gene_symbol_count  \n",
       "3636                 37  \n",
       "1409                 14  \n",
       "1412                 13  \n",
       "1413                 13  \n",
       "1423                 13  \n",
       "...                 ...  \n",
       "1151                  2  \n",
       "1150                  2  \n",
       "1149                  2  \n",
       "1148                  2  \n",
       "1616                  2  \n",
       "\n",
       "[6578 rows x 5 columns]"
      ]
     },
     "execution_count": 1474,
     "metadata": {},
     "output_type": "execute_result"
    }
   ],
   "source": [
    "merged_aa_collision_alias_df[\"gene_symbol\"] = merged_aa_collision_alias_df[\n",
    "    \"gene_symbol\"\n",
    "].str.split(\",\")\n",
    "merged_aa_collision_alias_df[\"gene_symbol_count\"] = [\n",
    "    len(c) for c in merged_aa_collision_alias_df[\"gene_symbol\"]\n",
    "]\n",
    "merged_aa_collision_alias_df = merged_aa_collision_alias_df.sort_values(\n",
    "    by=\"gene_symbol_count\", ascending=False\n",
    ")\n",
    "merged_aa_collision_alias_df"
   ]
  },
  {
   "cell_type": "code",
   "execution_count": 1475,
   "metadata": {},
   "outputs": [
    {
     "data": {
      "text/html": [
       "<div>\n",
       "<style scoped>\n",
       "    .dataframe tbody tr th:only-of-type {\n",
       "        vertical-align: middle;\n",
       "    }\n",
       "\n",
       "    .dataframe tbody tr th {\n",
       "        vertical-align: top;\n",
       "    }\n",
       "\n",
       "    .dataframe thead th {\n",
       "        text-align: right;\n",
       "    }\n",
       "</style>\n",
       "<table border=\"1\" class=\"dataframe\">\n",
       "  <thead>\n",
       "    <tr style=\"text-align: right;\">\n",
       "      <th></th>\n",
       "      <th>collision</th>\n",
       "      <th>gene_symbol</th>\n",
       "      <th>ENSG_ID</th>\n",
       "      <th>source</th>\n",
       "      <th>gene_symbol_count</th>\n",
       "    </tr>\n",
       "  </thead>\n",
       "  <tbody>\n",
       "    <tr>\n",
       "      <th>236</th>\n",
       "      <td>ASP</td>\n",
       "      <td>[ROPN1L,  TMPRSS11D,  ASPM,  A1CF,  ATG5,  ASP...</td>\n",
       "      <td>ENSG00000145491, ENSG00000153802, ENSG00000066...</td>\n",
       "      <td>NCBI</td>\n",
       "      <td>8</td>\n",
       "    </tr>\n",
       "    <tr>\n",
       "      <th>112</th>\n",
       "      <td>ASP</td>\n",
       "      <td>[ATG5,  ROPN1L,  ASPA,  A1CF,  TMPRSS11D,  ASI...</td>\n",
       "      <td>ENSG00000057663, ENSG00000145491, ENSG00000108...</td>\n",
       "      <td>ENSG</td>\n",
       "      <td>7</td>\n",
       "    </tr>\n",
       "    <tr>\n",
       "      <th>82</th>\n",
       "      <td>ASP</td>\n",
       "      <td>[TMPRSS11D,  ROPN1L,  ATG5,  A1CF,  ASPM,  ASP...</td>\n",
       "      <td>ENSG00000153802, ENSG00000145491, ENSG00000057...</td>\n",
       "      <td>HGNC</td>\n",
       "      <td>7</td>\n",
       "    </tr>\n",
       "  </tbody>\n",
       "</table>\n",
       "</div>"
      ],
      "text/plain": [
       "    collision                                        gene_symbol  \\\n",
       "236       ASP  [ROPN1L,  TMPRSS11D,  ASPM,  A1CF,  ATG5,  ASP...   \n",
       "112       ASP  [ATG5,  ROPN1L,  ASPA,  A1CF,  TMPRSS11D,  ASI...   \n",
       "82        ASP  [TMPRSS11D,  ROPN1L,  ATG5,  A1CF,  ASPM,  ASP...   \n",
       "\n",
       "                                               ENSG_ID source  \\\n",
       "236  ENSG00000145491, ENSG00000153802, ENSG00000066...   NCBI   \n",
       "112  ENSG00000057663, ENSG00000145491, ENSG00000108...   ENSG   \n",
       "82   ENSG00000153802, ENSG00000145491, ENSG00000057...   HGNC   \n",
       "\n",
       "     gene_symbol_count  \n",
       "236                  8  \n",
       "112                  7  \n",
       "82                   7  "
      ]
     },
     "execution_count": 1475,
     "metadata": {},
     "output_type": "execute_result"
    }
   ],
   "source": [
    "merged_aa_collision_alias_df.loc[merged_aa_collision_alias_df[\"collision\"] == \"ASP\"]"
   ]
  },
  {
   "cell_type": "code",
   "execution_count": 1476,
   "metadata": {},
   "outputs": [],
   "source": [
    "merged_aa_collision_alias_df.to_csv(\n",
    "    \"../created_files/merged_aa_collision_alias_df.csv\", index=True, quoting=0\n",
    ")"
   ]
  },
  {
   "cell_type": "code",
   "execution_count": 1477,
   "metadata": {},
   "outputs": [
    {
     "data": {
      "text/plain": [
       "3824"
      ]
     },
     "execution_count": 1477,
     "metadata": {},
     "output_type": "execute_result"
    }
   ],
   "source": [
    "aa_collision_set = set(merged_aa_collision_alias_df[\"collision\"].tolist())\n",
    "len(aa_collision_set)"
   ]
  },
  {
   "cell_type": "markdown",
   "metadata": {},
   "source": [
    "# <a id='toc6_'></a>[How many unique primary gene symbols are there?](#toc0_)"
   ]
  },
  {
   "cell_type": "markdown",
   "metadata": {},
   "source": [
    "## <a id='toc6_1_'></a>[Per Source](#toc0_)"
   ]
  },
  {
   "cell_type": "code",
   "execution_count": 1478,
   "metadata": {},
   "outputs": [],
   "source": [
    "ensg_gene_symbol_set = set(mini_ensg_df[\"gene_symbol\"])\n",
    "ensg_gene_symbol_count = len(ensg_gene_symbol_set)"
   ]
  },
  {
   "cell_type": "code",
   "execution_count": 1479,
   "metadata": {},
   "outputs": [],
   "source": [
    "hgnc_gene_symbol_set = set(mini_hgnc_df[\"gene_symbol\"])\n",
    "hgnc_gene_symbol_count = len(hgnc_gene_symbol_set)"
   ]
  },
  {
   "cell_type": "code",
   "execution_count": 1480,
   "metadata": {},
   "outputs": [],
   "source": [
    "ncbi_gene_symbol_set = set(mini_ncbi_df[\"gene_symbol\"])\n",
    "ncbi_gene_symbol_count = len(ncbi_gene_symbol_set)"
   ]
  },
  {
   "cell_type": "code",
   "execution_count": 1481,
   "metadata": {},
   "outputs": [
    {
     "data": {
      "text/html": [
       "<div>\n",
       "<style scoped>\n",
       "    .dataframe tbody tr th:only-of-type {\n",
       "        vertical-align: middle;\n",
       "    }\n",
       "\n",
       "    .dataframe tbody tr th {\n",
       "        vertical-align: top;\n",
       "    }\n",
       "\n",
       "    .dataframe thead th {\n",
       "        text-align: right;\n",
       "    }\n",
       "</style>\n",
       "<table border=\"1\" class=\"dataframe\">\n",
       "  <thead>\n",
       "    <tr style=\"text-align: right;\">\n",
       "      <th></th>\n",
       "      <th>Number of Unique Primary Gene Symbols</th>\n",
       "    </tr>\n",
       "  </thead>\n",
       "  <tbody>\n",
       "    <tr>\n",
       "      <th>HGNC</th>\n",
       "      <td>41068</td>\n",
       "    </tr>\n",
       "    <tr>\n",
       "      <th>ENSG</th>\n",
       "      <td>45646</td>\n",
       "    </tr>\n",
       "    <tr>\n",
       "      <th>NCBI</th>\n",
       "      <td>193303</td>\n",
       "    </tr>\n",
       "  </tbody>\n",
       "</table>\n",
       "</div>"
      ],
      "text/plain": [
       "      Number of Unique Primary Gene Symbols\n",
       "HGNC                                  41068\n",
       "ENSG                                  45646\n",
       "NCBI                                 193303"
      ]
     },
     "execution_count": 1481,
     "metadata": {},
     "output_type": "execute_result"
    }
   ],
   "source": [
    "unique_primary_symbol_summary_index = \"HGNC\", \"ENSG\", \"NCBI\"\n",
    "unique_primary_symbol_summary = {\n",
    "    \"Number of Unique Primary Gene Symbols\": [\n",
    "        ensg_gene_symbol_count,\n",
    "        hgnc_gene_symbol_count,\n",
    "        ncbi_gene_symbol_count,\n",
    "    ]\n",
    "}\n",
    "unique_primary_symbol_summary_df = pd.DataFrame(\n",
    "    unique_primary_symbol_summary, index = unique_primary_symbol_summary_index\n",
    ")\n",
    "unique_primary_symbol_summary_df"
   ]
  },
  {
   "cell_type": "markdown",
   "metadata": {},
   "source": [
    "## <a id='toc6_2_'></a>[All sources](#toc0_)"
   ]
  },
  {
   "cell_type": "markdown",
   "metadata": {},
   "source": [
    "### <a id='toc6_2_1_'></a>[How many symbols appear in all sources?](#toc0_)"
   ]
  },
  {
   "cell_type": "code",
   "execution_count": 1482,
   "metadata": {},
   "outputs": [
    {
     "data": {
      "text/plain": [
       "40885"
      ]
     },
     "execution_count": 1482,
     "metadata": {},
     "output_type": "execute_result"
    }
   ],
   "source": [
    "all_sources_unique_primary_symbol_set = (\n",
    "    ensg_gene_symbol_set\n",
    "    & hgnc_gene_symbol_set\n",
    "    & ncbi_gene_symbol_set\n",
    ")\n",
    "all_sources_unique_primary_symbol_count = len(all_sources_unique_primary_symbol_set)\n",
    "all_sources_unique_primary_symbol_count"
   ]
  },
  {
   "cell_type": "markdown",
   "metadata": {},
   "source": [
    "### <a id='toc6_2_2_'></a>[How many unique symbols are found between all sources?](#toc0_)"
   ]
  },
  {
   "cell_type": "code",
   "execution_count": 1483,
   "metadata": {},
   "outputs": [],
   "source": [
    "bw_all_sources_unique_primary_symbol_df = pd.concat(\n",
    "    [\n",
    "        mini_ensg_df[[\"alias_symbol\", \"gene_symbol\"]],\n",
    "        mini_hgnc_df[[\"alias_symbol\", \"gene_symbol\"]],\n",
    "        mini_ncbi_df[[\"alias_symbol\", \"gene_symbol\"]],\n",
    "    ]\n",
    ")"
   ]
  },
  {
   "cell_type": "code",
   "execution_count": 1484,
   "metadata": {},
   "outputs": [
    {
     "data": {
      "text/plain": [
       "194866"
      ]
     },
     "execution_count": 1484,
     "metadata": {},
     "output_type": "execute_result"
    }
   ],
   "source": [
    "bw_all_sources_unique_primary_symbol_set = set(bw_all_sources_unique_primary_symbol_df[\"gene_symbol\"])\n",
    "bw_all_sources_unique_primary_symbol_count = len(bw_all_sources_unique_primary_symbol_set)\n",
    "bw_all_sources_unique_primary_symbol_count"
   ]
  },
  {
   "cell_type": "markdown",
   "metadata": {},
   "source": [
    "# <a id='toc7_'></a>[How many unique aliases are there?](#toc0_)"
   ]
  },
  {
   "cell_type": "markdown",
   "metadata": {},
   "source": [
    "## <a id='toc7_1_'></a>[Per Source](#toc0_)"
   ]
  },
  {
   "cell_type": "code",
   "execution_count": 1485,
   "metadata": {},
   "outputs": [
    {
     "data": {
      "text/html": [
       "<div>\n",
       "<style scoped>\n",
       "    .dataframe tbody tr th:only-of-type {\n",
       "        vertical-align: middle;\n",
       "    }\n",
       "\n",
       "    .dataframe tbody tr th {\n",
       "        vertical-align: top;\n",
       "    }\n",
       "\n",
       "    .dataframe thead th {\n",
       "        text-align: right;\n",
       "    }\n",
       "</style>\n",
       "<table border=\"1\" class=\"dataframe\">\n",
       "  <thead>\n",
       "    <tr style=\"text-align: right;\">\n",
       "      <th></th>\n",
       "      <th>Number of Unique Aliases</th>\n",
       "    </tr>\n",
       "  </thead>\n",
       "  <tbody>\n",
       "    <tr>\n",
       "      <th>HGNC</th>\n",
       "      <td>55213</td>\n",
       "    </tr>\n",
       "    <tr>\n",
       "      <th>ENSG</th>\n",
       "      <td>42918</td>\n",
       "    </tr>\n",
       "    <tr>\n",
       "      <th>NCBI</th>\n",
       "      <td>68771</td>\n",
       "    </tr>\n",
       "  </tbody>\n",
       "</table>\n",
       "</div>"
      ],
      "text/plain": [
       "      Number of Unique Aliases\n",
       "HGNC                     55213\n",
       "ENSG                     42918\n",
       "NCBI                     68771"
      ]
     },
     "execution_count": 1485,
     "metadata": {},
     "output_type": "execute_result"
    }
   ],
   "source": [
    "unique_alias_summary_index = \"HGNC\", \"ENSG\", \"NCBI\"\n",
    "unique_alias_summary = {\n",
    "    \"Number of Unique Aliases\": [\n",
    "        ensg_alias_count,\n",
    "        hgnc_alias_count,\n",
    "        ncbi_alias_count,\n",
    "    ]\n",
    "}\n",
    "unique_alias_summary_df = pd.DataFrame(\n",
    "    unique_alias_summary, index = unique_alias_summary_index\n",
    ")\n",
    "unique_alias_summary_df"
   ]
  },
  {
   "cell_type": "markdown",
   "metadata": {},
   "source": [
    "## <a id='toc7_2_'></a>[All sources](#toc0_)"
   ]
  },
  {
   "cell_type": "markdown",
   "metadata": {},
   "source": [
    "### <a id='toc7_2_1_'></a>[How many aliases appear in all sources?](#toc0_)"
   ]
  },
  {
   "cell_type": "code",
   "execution_count": 1486,
   "metadata": {},
   "outputs": [
    {
     "data": {
      "text/plain": [
       "29984"
      ]
     },
     "execution_count": 1486,
     "metadata": {},
     "output_type": "execute_result"
    }
   ],
   "source": [
    "all_sources_unique_alias_set = (\n",
    "    ensg_alias_symbol_set\n",
    "    & hgnc_alias_symbol_set\n",
    "    & ncbi_alias_symbol_set\n",
    ")\n",
    "all_sources_unique_alias_count = len(all_sources_unique_alias_set)\n",
    "all_sources_unique_alias_count"
   ]
  },
  {
   "cell_type": "markdown",
   "metadata": {},
   "source": [
    "### <a id='toc7_2_2_'></a>[How many unique aliases are found between all sources?](#toc0_)"
   ]
  },
  {
   "cell_type": "code",
   "execution_count": 1487,
   "metadata": {},
   "outputs": [],
   "source": [
    "bw_all_sources_unique_alias_df = pd.concat(\n",
    "    [\n",
    "        subset_genes_ensg_df[[\"alias_symbol\", \"gene_symbol\"]],\n",
    "        subset_genes_hgnc_df[[\"alias_symbol\", \"gene_symbol\"]],\n",
    "        subset_genes_ncbi_df[[\"alias_symbol\", \"gene_symbol\"]],\n",
    "    ]\n",
    ")"
   ]
  },
  {
   "cell_type": "code",
   "execution_count": 1488,
   "metadata": {},
   "outputs": [
    {
     "data": {
      "text/plain": [
       "81138"
      ]
     },
     "execution_count": 1488,
     "metadata": {},
     "output_type": "execute_result"
    }
   ],
   "source": [
    "bw_all_sources_unique_alias_set = set(bw_all_sources_unique_alias_df[\"alias_symbol\"])\n",
    "bw_all_sources_unique_alias_count = len(bw_all_sources_unique_alias_set)\n",
    "bw_all_sources_unique_alias_count"
   ]
  },
  {
   "cell_type": "markdown",
   "metadata": {},
   "source": [
    "# <a id='toc8_'></a>[How many gene records have an alias that is shared?](#toc0_)"
   ]
  },
  {
   "cell_type": "markdown",
   "metadata": {},
   "source": [
    "## <a id='toc8_1_'></a>[Per Source](#toc0_)"
   ]
  },
  {
   "cell_type": "code",
   "execution_count": 1489,
   "metadata": {},
   "outputs": [],
   "source": [
    "ensg_aa_collision_primary_symbol_set = set(aa_collision_gene_ensg_df[\"gene_symbol\"])\n",
    "ensg_aa_collision_primary_symbol_count = len(ensg_aa_collision_primary_symbol_set)"
   ]
  },
  {
   "cell_type": "code",
   "execution_count": 1490,
   "metadata": {},
   "outputs": [],
   "source": [
    "hgnc_aa_collision_primary_symbol_set = set(aa_collision_gene_hgnc_df[\"gene_symbol\"])\n",
    "hgnc_aa_collision_primary_symbol_count = len(hgnc_aa_collision_primary_symbol_set)"
   ]
  },
  {
   "cell_type": "code",
   "execution_count": 1491,
   "metadata": {},
   "outputs": [],
   "source": [
    "ncbi_aa_collision_primary_symbol_set = set(aa_collision_gene_ncbi_df[\"gene_symbol\"])\n",
    "ncbi_aa_collision_primary_symbol_count = len(ncbi_aa_collision_primary_symbol_set)"
   ]
  },
  {
   "cell_type": "code",
   "execution_count": 1492,
   "metadata": {},
   "outputs": [
    {
     "data": {
      "text/html": [
       "<div>\n",
       "<style scoped>\n",
       "    .dataframe tbody tr th:only-of-type {\n",
       "        vertical-align: middle;\n",
       "    }\n",
       "\n",
       "    .dataframe tbody tr th {\n",
       "        vertical-align: top;\n",
       "    }\n",
       "\n",
       "    .dataframe thead th {\n",
       "        text-align: right;\n",
       "    }\n",
       "</style>\n",
       "<table border=\"1\" class=\"dataframe\">\n",
       "  <thead>\n",
       "    <tr style=\"text-align: right;\">\n",
       "      <th></th>\n",
       "      <th>Number of Gene Records With a Shared Alias</th>\n",
       "    </tr>\n",
       "  </thead>\n",
       "  <tbody>\n",
       "    <tr>\n",
       "      <th>HGNC</th>\n",
       "      <td>3113</td>\n",
       "    </tr>\n",
       "    <tr>\n",
       "      <th>ENSG</th>\n",
       "      <td>2530</td>\n",
       "    </tr>\n",
       "    <tr>\n",
       "      <th>NCBI</th>\n",
       "      <td>6078</td>\n",
       "    </tr>\n",
       "  </tbody>\n",
       "</table>\n",
       "</div>"
      ],
      "text/plain": [
       "      Number of Gene Records With a Shared Alias\n",
       "HGNC                                        3113\n",
       "ENSG                                        2530\n",
       "NCBI                                        6078"
      ]
     },
     "execution_count": 1492,
     "metadata": {},
     "output_type": "execute_result"
    }
   ],
   "source": [
    "aa_collision_primary_symbol_summary_index = \"HGNC\", \"ENSG\", \"NCBI\"\n",
    "aa_collision_primary_symbol_summary= {\n",
    "    \"Number of Gene Records With a Shared Alias\": [\n",
    "        ensg_aa_collision_primary_symbol_count,\n",
    "        hgnc_aa_collision_primary_symbol_count,\n",
    "        ncbi_aa_collision_primary_symbol_count,\n",
    "    ]\n",
    "}\n",
    "aa_collision_primary_symbol_summary_df = pd.DataFrame(\n",
    "    aa_collision_primary_symbol_summary, index = aa_collision_primary_symbol_summary_index\n",
    ")\n",
    "aa_collision_primary_symbol_summary_df"
   ]
  },
  {
   "cell_type": "markdown",
   "metadata": {},
   "source": [
    "## <a id='toc8_2_'></a>[All Sources](#toc0_)"
   ]
  },
  {
   "cell_type": "markdown",
   "metadata": {},
   "source": [
    "### <a id='toc8_2_1_'></a>[How many gene records have at least one shared alias in all sources?](#toc0_)"
   ]
  },
  {
   "cell_type": "code",
   "execution_count": 1493,
   "metadata": {},
   "outputs": [
    {
     "data": {
      "text/plain": [
       "2319"
      ]
     },
     "execution_count": 1493,
     "metadata": {},
     "output_type": "execute_result"
    }
   ],
   "source": [
    "all_sources_aa_collision_genes = (\n",
    "    ensg_aa_collision_primary_symbol_set\n",
    "    & hgnc_aa_collision_primary_symbol_set\n",
    "    & ncbi_aa_collision_primary_symbol_set\n",
    ")\n",
    "len(all_sources_aa_collision_genes)"
   ]
  },
  {
   "cell_type": "markdown",
   "metadata": {},
   "source": [
    "### <a id='toc8_2_2_'></a>[How many unique gene records that have at least one shared alias are found between all sources?](#toc0_)"
   ]
  },
  {
   "cell_type": "code",
   "execution_count": 1494,
   "metadata": {},
   "outputs": [],
   "source": [
    "bw_all_sources_aa_collision_df = pd.concat(\n",
    "    [\n",
    "        aa_collision_gene_ensg_df[[\"collision\", \"gene_symbol\"]],\n",
    "        aa_collision_gene_hgnc_df[[\"collision\", \"gene_symbol\"]],\n",
    "        aa_collision_gene_ncbi_df[[\"collision\", \"gene_symbol\"]],\n",
    "    ]\n",
    ")"
   ]
  },
  {
   "cell_type": "code",
   "execution_count": 1495,
   "metadata": {},
   "outputs": [
    {
     "data": {
      "text/plain": [
       "6257"
      ]
     },
     "execution_count": 1495,
     "metadata": {},
     "output_type": "execute_result"
    }
   ],
   "source": [
    "bw_all_sources_aa_collision_genes_set = set(bw_all_sources_aa_collision_df[\"gene_symbol\"])\n",
    "bw_all_sources_aa_collision_genes_count = len(bw_all_sources_aa_collision_genes_set)\n",
    "bw_all_sources_aa_collision_genes_count"
   ]
  },
  {
   "cell_type": "markdown",
   "metadata": {},
   "source": [
    "# <a id='toc9_'></a>[How many alias symbols are being shared?](#toc0_)"
   ]
  },
  {
   "cell_type": "markdown",
   "metadata": {},
   "source": [
    "## <a id='toc9_1_'></a>[Per Source](#toc0_)"
   ]
  },
  {
   "cell_type": "code",
   "execution_count": 1496,
   "metadata": {},
   "outputs": [],
   "source": [
    "ensg_aa_collision_set = set(aa_collision_gene_ensg_df[\"collision\"])\n",
    "ensg_aa_collision_count = len(ensg_aa_collision_set)"
   ]
  },
  {
   "cell_type": "code",
   "execution_count": 1497,
   "metadata": {},
   "outputs": [],
   "source": [
    "hgnc_aa_collision_set = set(aa_collision_gene_hgnc_df[\"collision\"])\n",
    "hgnc_aa_collision_count = len(hgnc_aa_collision_set)"
   ]
  },
  {
   "cell_type": "code",
   "execution_count": 1498,
   "metadata": {},
   "outputs": [],
   "source": [
    "ncbi_aa_collision_set = set(aa_collision_gene_ncbi_df[\"collision\"])\n",
    "ncbi_aa_collision_count = len(ncbi_aa_collision_set)"
   ]
  },
  {
   "cell_type": "code",
   "execution_count": 1499,
   "metadata": {},
   "outputs": [
    {
     "data": {
      "text/html": [
       "<div>\n",
       "<style scoped>\n",
       "    .dataframe tbody tr th:only-of-type {\n",
       "        vertical-align: middle;\n",
       "    }\n",
       "\n",
       "    .dataframe tbody tr th {\n",
       "        vertical-align: top;\n",
       "    }\n",
       "\n",
       "    .dataframe thead th {\n",
       "        text-align: right;\n",
       "    }\n",
       "</style>\n",
       "<table border=\"1\" class=\"dataframe\">\n",
       "  <thead>\n",
       "    <tr style=\"text-align: right;\">\n",
       "      <th></th>\n",
       "      <th>Number of Shared Aliases</th>\n",
       "    </tr>\n",
       "  </thead>\n",
       "  <tbody>\n",
       "    <tr>\n",
       "      <th>HGNC</th>\n",
       "      <td>1617</td>\n",
       "    </tr>\n",
       "    <tr>\n",
       "      <th>ENSG</th>\n",
       "      <td>1250</td>\n",
       "    </tr>\n",
       "    <tr>\n",
       "      <th>NCBI</th>\n",
       "      <td>3711</td>\n",
       "    </tr>\n",
       "  </tbody>\n",
       "</table>\n",
       "</div>"
      ],
      "text/plain": [
       "      Number of Shared Aliases\n",
       "HGNC                      1617\n",
       "ENSG                      1250\n",
       "NCBI                      3711"
      ]
     },
     "execution_count": 1499,
     "metadata": {},
     "output_type": "execute_result"
    }
   ],
   "source": [
    "aa_collision_alias_symbol_summary_index = \"HGNC\", \"ENSG\", \"NCBI\"\n",
    "aa_collision_alias_symbol_summary = {\n",
    "    \"Number of Shared Aliases\": [\n",
    "        ensg_aa_collision_count,\n",
    "        hgnc_aa_collision_count,\n",
    "        ncbi_aa_collision_count,\n",
    "    ]\n",
    "}\n",
    "aa_collision_alias_symbol_summary_df = pd.DataFrame(\n",
    "    aa_collision_alias_symbol_summary, index = aa_collision_alias_symbol_summary_index\n",
    ")\n",
    "aa_collision_alias_symbol_summary_df"
   ]
  },
  {
   "cell_type": "markdown",
   "metadata": {},
   "source": [
    "## <a id='toc9_2_'></a>[All Sources](#toc0_)"
   ]
  },
  {
   "cell_type": "markdown",
   "metadata": {},
   "source": [
    "### <a id='toc9_2_1_'></a>[How many aliases are shared in all sources?](#toc0_)"
   ]
  },
  {
   "cell_type": "code",
   "execution_count": 1500,
   "metadata": {},
   "outputs": [
    {
     "data": {
      "text/plain": [
       "1131"
      ]
     },
     "execution_count": 1500,
     "metadata": {},
     "output_type": "execute_result"
    }
   ],
   "source": [
    "all_sources_aa_collision_aliases = (\n",
    "    ensg_aa_collision_set\n",
    "    & hgnc_aa_collision_set\n",
    "    & ncbi_aa_collision_set\n",
    ")\n",
    "len(all_sources_aa_collision_aliases)"
   ]
  },
  {
   "cell_type": "markdown",
   "metadata": {},
   "source": [
    "### <a id='toc9_2_2_'></a>[How many unique shared aliases are found between all sources?](#toc0_)"
   ]
  },
  {
   "cell_type": "code",
   "execution_count": 1501,
   "metadata": {},
   "outputs": [
    {
     "data": {
      "text/plain": [
       "3824"
      ]
     },
     "execution_count": 1501,
     "metadata": {},
     "output_type": "execute_result"
    }
   ],
   "source": [
    "bw_all_sources_aa_collision_aliases_set = set(bw_all_sources_aa_collision_df[\"collision\"])\n",
    "bw_all_sources_aa_collision_aliases_count = len(bw_all_sources_aa_collision_aliases_set)\n",
    "bw_all_sources_aa_collision_aliases_count"
   ]
  },
  {
   "cell_type": "markdown",
   "metadata": {},
   "source": [
    "# <a id='toc10_'></a>[How many gene concept-alias relationships are there?](#toc0_)"
   ]
  },
  {
   "cell_type": "markdown",
   "metadata": {},
   "source": [
    "## <a id='toc10_1_'></a>[Per Source](#toc0_)"
   ]
  },
  {
   "cell_type": "code",
   "execution_count": 1502,
   "metadata": {},
   "outputs": [],
   "source": [
    "ensg_primary_alias_pair_count = len(subset_genes_ensg_df)"
   ]
  },
  {
   "cell_type": "code",
   "execution_count": 1503,
   "metadata": {},
   "outputs": [],
   "source": [
    "hgnc_primary_alias_pair_count = len(subset_genes_hgnc_df)"
   ]
  },
  {
   "cell_type": "code",
   "execution_count": 1504,
   "metadata": {},
   "outputs": [],
   "source": [
    "ncbi_primary_alias_pair_count = len(subset_genes_ncbi_df)"
   ]
  },
  {
   "cell_type": "code",
   "execution_count": 1505,
   "metadata": {},
   "outputs": [
    {
     "data": {
      "text/html": [
       "<div>\n",
       "<style scoped>\n",
       "    .dataframe tbody tr th:only-of-type {\n",
       "        vertical-align: middle;\n",
       "    }\n",
       "\n",
       "    .dataframe tbody tr th {\n",
       "        vertical-align: top;\n",
       "    }\n",
       "\n",
       "    .dataframe thead th {\n",
       "        text-align: right;\n",
       "    }\n",
       "</style>\n",
       "<table border=\"1\" class=\"dataframe\">\n",
       "  <thead>\n",
       "    <tr style=\"text-align: right;\">\n",
       "      <th></th>\n",
       "      <th>Number of Unique Gene Concept-Alias Pairs</th>\n",
       "    </tr>\n",
       "  </thead>\n",
       "  <tbody>\n",
       "    <tr>\n",
       "      <th>HGNC</th>\n",
       "      <td>57275</td>\n",
       "    </tr>\n",
       "    <tr>\n",
       "      <th>ENSG</th>\n",
       "      <td>44542</td>\n",
       "    </tr>\n",
       "    <tr>\n",
       "      <th>NCBI</th>\n",
       "      <td>74051</td>\n",
       "    </tr>\n",
       "  </tbody>\n",
       "</table>\n",
       "</div>"
      ],
      "text/plain": [
       "      Number of Unique Gene Concept-Alias Pairs\n",
       "HGNC                                      57275\n",
       "ENSG                                      44542\n",
       "NCBI                                      74051"
      ]
     },
     "execution_count": 1505,
     "metadata": {},
     "output_type": "execute_result"
    }
   ],
   "source": [
    "primary_alias_pairs_summary_index = \"HGNC\", \"ENSG\", \"NCBI\"\n",
    "primary_alias_pairs_summary = {\n",
    "    \"Number of Unique Gene Concept-Alias Pairs\": [\n",
    "        ensg_primary_alias_pair_count,\n",
    "        hgnc_primary_alias_pair_count,\n",
    "        ncbi_primary_alias_pair_count,\n",
    "    ]\n",
    "}\n",
    "primary_alias_pairs_summary_df = pd.DataFrame(\n",
    "    primary_alias_pairs_summary, index=primary_alias_pairs_summary_index\n",
    ")\n",
    "primary_alias_pairs_summary_df"
   ]
  },
  {
   "cell_type": "markdown",
   "metadata": {},
   "source": [
    "## <a id='toc10_2_'></a>[All Sources](#toc0_)"
   ]
  },
  {
   "cell_type": "markdown",
   "metadata": {},
   "source": [
    "### <a id='toc10_2_1_'></a>[How many unique gene-alias pairs are found between all sources?](#toc0_)"
   ]
  },
  {
   "cell_type": "code",
   "execution_count": 1506,
   "metadata": {},
   "outputs": [],
   "source": [
    "bw_all_sources_primary_alias_pairs_df = pd.concat(\n",
    "    [\n",
    "        subset_genes_ensg_df[[\"alias_symbol\", \"gene_symbol\"]],\n",
    "        subset_genes_hgnc_df[[\"alias_symbol\", \"gene_symbol\"]],\n",
    "        subset_genes_ncbi_df[[\"alias_symbol\", \"gene_symbol\"]],\n",
    "    ]\n",
    ")"
   ]
  },
  {
   "cell_type": "code",
   "execution_count": 1507,
   "metadata": {},
   "outputs": [
    {
     "data": {
      "text/plain": [
       "175868"
      ]
     },
     "execution_count": 1507,
     "metadata": {},
     "output_type": "execute_result"
    }
   ],
   "source": [
    "len(bw_all_sources_primary_alias_pairs_df)"
   ]
  },
  {
   "cell_type": "markdown",
   "metadata": {},
   "source": [
    "#### <a id='toc10_2_1_1_'></a>[Remove duplicate concept-alias pairs](#toc0_)"
   ]
  },
  {
   "cell_type": "code",
   "execution_count": 1508,
   "metadata": {},
   "outputs": [],
   "source": [
    "bw_all_sources_primary_alias_pairs_df = bw_all_sources_primary_alias_pairs_df.drop_duplicates(\n",
    "    subset=[\"gene_symbol\", \"alias_symbol\"], keep=\"first\"\n",
    ")"
   ]
  },
  {
   "cell_type": "code",
   "execution_count": 1509,
   "metadata": {},
   "outputs": [
    {
     "data": {
      "text/plain": [
       "86774"
      ]
     },
     "execution_count": 1509,
     "metadata": {},
     "output_type": "execute_result"
    }
   ],
   "source": [
    "len(bw_all_sources_primary_alias_pairs_df)"
   ]
  }
 ],
 "metadata": {
  "kernelspec": {
   "display_name": "Python 3.10.9 ('gene-normalization-kln2mzEG')",
   "language": "python",
   "name": "python3"
  },
  "language_info": {
   "codemirror_mode": {
    "name": "ipython",
    "version": 3
   },
   "file_extension": ".py",
   "mimetype": "text/x-python",
   "name": "python",
   "nbconvert_exporter": "python",
   "pygments_lexer": "ipython3",
   "version": "3.11.7"
  },
  "orig_nbformat": 4,
  "vscode": {
   "interpreter": {
    "hash": "63db6d8944633f0f1ac66f1e84c479e7ccc3c7c835ee283fbd6bddfaad96182b"
   }
  }
 },
 "nbformat": 4,
 "nbformat_minor": 2
}
