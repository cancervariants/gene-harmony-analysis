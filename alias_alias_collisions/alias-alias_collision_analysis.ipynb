{
 "cells": [
  {
   "cell_type": "markdown",
   "metadata": {},
   "source": [
    "**Table of contents**<a id='toc0_'></a>    \n",
    "- [ENSG](#toc1_)    \n",
    "    - [How many total unique gene records are there in Ensembl](#toc1_1_1_)    \n",
    "    - [Identify alias-alias collision symbols](#toc1_1_2_)    \n",
    "    - [Create a histogram displaying how frequent the numebr of gene records sharing an alias is](#toc1_1_3_)    \n",
    "- [HGNC](#toc2_)    \n",
    "    - [How many total unique gene records are there in HGNC](#toc2_1_1_)    \n",
    "    - [Identify alias-alias collision symbols](#toc2_1_2_)    \n",
    "    - [Create a histogram displaying how frequent the numebr of gene records sharing an alias is](#toc2_1_3_)    \n",
    "- [NCBI Info](#toc3_)    \n",
    "    - [How many total unique gene records are there in NCBI Gene](#toc3_1_1_)    \n",
    "    - [Identify alias-alias collision symbols](#toc3_1_2_)    \n",
    "    - [Create a histogram displaying how frequent the numebr of gene records sharing an alias is](#toc3_1_3_)    \n",
    "- [Merge to create Alias-Alias Collision Table- On Primary Gene Symbol](#toc4_)    \n",
    "- [Merge to create Alias-Alias Collision Table- On Alias Symbol](#toc5_)    \n",
    "- [How many unique primary gene symbols are there?](#toc6_)    \n",
    "  - [Per Source](#toc6_1_)    \n",
    "  - [All sources](#toc6_2_)    \n",
    "    - [How many symbols appear in all sources?](#toc6_2_1_)    \n",
    "    - [How many unique symbols are found between all sources?](#toc6_2_2_)    \n",
    "- [How many unique aliases are there?](#toc7_)    \n",
    "  - [Per Source](#toc7_1_)    \n",
    "  - [All sources](#toc7_2_)    \n",
    "    - [How many aliases appear in all sources?](#toc7_2_1_)    \n",
    "    - [How many unique aliases are found between all sources?](#toc7_2_2_)    \n",
    "- [How many gene records have an alias that is shared?](#toc8_)    \n",
    "  - [Per Source](#toc8_1_)    \n",
    "  - [All Sources](#toc8_2_)    \n",
    "    - [How many gene records have at least one shared alias in all sources?](#toc8_2_1_)    \n",
    "    - [How many unique gene records that have at least one shared alias are found between all sources?](#toc8_2_2_)    \n",
    "- [How many alias symbols are being shared?](#toc9_)    \n",
    "  - [Per Source](#toc9_1_)    \n",
    "  - [All Sources](#toc9_2_)    \n",
    "    - [How many aliases are shared in all sources?](#toc9_2_1_)    \n",
    "    - [How many unique shared aliases are found between all sources?](#toc9_2_2_)    \n",
    "- [How many gene concept-alias relationships are there?](#toc10_)    \n",
    "  - [Per Source](#toc10_1_)    \n",
    "  - [All Sources](#toc10_2_)    \n",
    "    - [How many unique gene-alias pairs are found between all sources?](#toc10_2_1_)    \n",
    "      - [Remove duplicate concept-alias pairs](#toc10_2_1_1_)    \n",
    "\n",
    "<!-- vscode-jupyter-toc-config\n",
    "\tnumbering=false\n",
    "\tanchor=true\n",
    "\tflat=false\n",
    "\tminLevel=1\n",
    "\tmaxLevel=6\n",
    "\t/vscode-jupyter-toc-config -->\n",
    "<!-- THIS CELL WILL BE REPLACED ON TOC UPDATE. DO NOT WRITE YOUR TEXT IN THIS CELL -->"
   ]
  },
  {
   "cell_type": "code",
   "execution_count": 2,
   "metadata": {},
   "outputs": [],
   "source": [
    "import pandas as pd\n",
    "import numpy as np\n",
    "import plotly.express as px"
   ]
  },
  {
   "cell_type": "code",
   "execution_count": 3,
   "metadata": {},
   "outputs": [],
   "source": [
    "def create_aa_collision_df(subset_genes_xxxx_df: pd.DataFrame, merged_alias_xxxx_df: pd.DataFrame, source: str) -> pd.DataFrame:\n",
    "    \"\"\"Create a df of alias-alias collision symbols \n",
    "\n",
    "    :param subset_genes_xxxx_df: Processed df of gene records\n",
    "    :param source: Representation of the source of the gene records\n",
    "    :return: A df of genes that share an alias with another gene\n",
    "    \"\"\"\n",
    "\n",
    "    #Create df with genes that have an alias that can be found in another gene's alias set\n",
    "    aa_collision_gene_xxxx_df = subset_genes_xxxx_df.copy()\n",
    "    aa_collision_gene_xxxx_df[\"alias_duplicates\"] = aa_collision_gene_xxxx_df.duplicated(\n",
    "    subset=\"alias_symbol\", keep=False\n",
    "    )\n",
    "    aa_collision_gene_xxxx_df = aa_collision_gene_xxxx_df[aa_collision_gene_xxxx_df[\"alias_duplicates\"]]\n",
    "    aa_collision_gene_xxxx_df = aa_collision_gene_xxxx_df.rename(\n",
    "    columns={\"alias_symbol\": \"collision\"})\n",
    "    aa_collision_gene_xxxx_df = aa_collision_gene_xxxx_df.drop([\"alias_duplicates\"], axis=1)\n",
    "    aa_collision_gene_xxxx_df = aa_collision_gene_xxxx_df.sort_values(\"collision\")\n",
    "\n",
    "    #Add a source tag for future merging efforts\n",
    "    aa_collision_gene_xxxx_df[\"source\"] = str(source)\n",
    "\n",
    "    #Create a secondary collision df that merges the alias symbols for each record\n",
    "    aa_collision_gene_xxxx_df = pd.merge(aa_collision_gene_xxxx_df, merged_alias_xxxx_df, on=[\"ENSG_ID\", \"gene_symbol\", \"HGNC_ID\"], how=\"left\")\n",
    "    aa_collision_gene_xxxx_df = aa_collision_gene_xxxx_df[[\"gene_symbol\",\"alias_symbol\",\"ENSG_ID\",\"HGNC_ID\",\"NCBI_ID\",\"collision\",\"source\"]]\n",
    "\n",
    "    #Convert the df into a csv\n",
    "    aa_collision_gene_xxxx_df.to_csv(f'../created_files/aa_collision_gene_{source}_df.csv', index=True)\n",
    "\n",
    "    #Create a secondary collision df that prioritizes the collision symbol\n",
    "    aa_collision_alias_xxxx_df = aa_collision_gene_xxxx_df[\n",
    "    [\"collision\", \"gene_symbol\", \"ENSG_ID\", \"source\"]\n",
    "    ]\n",
    "    aa_collision_alias_xxxx_df = aa_collision_alias_xxxx_df.map(str)\n",
    "    aa_collision_alias_xxxx_df = (\n",
    "    aa_collision_alias_xxxx_df.groupby(\"collision\")\n",
    "    .agg({\"ENSG_ID\": \", \".join, \"gene_symbol\": \", \".join, \"source\": \"first\"})\n",
    "    .reset_index()\n",
    "    )\n",
    "\n",
    "    #Convert the df into a csv and save\n",
    "    aa_collision_alias_xxxx_df.to_csv(f'../created_files/aa_collision_alias_{source}_df.csv', index=True)\n",
    "\n",
    "    return subset_genes_xxxx_df.head(), aa_collision_gene_xxxx_df.head(), aa_collision_alias_xxxx_df.head()"
   ]
  },
  {
   "cell_type": "code",
   "execution_count": 4,
   "metadata": {},
   "outputs": [],
   "source": [
    "def create_aa_collision_histogram(aa_collision_gene_xxxx_df: pd.DataFrame, source: str, xxxx_alias_count: int):\n",
    "    \"\"\"Create a histogram of the frequencies at which aliases are shared\n",
    "\n",
    "    :param aa_collision_gene_xxxx_df: A df of alias-alias collisions organized by primary gene symbol\n",
    "    :param source: Representation of the source of the gene records\n",
    "    :param xxxx_alias_count: Number of aliases total in the source\n",
    "    :return: A histogram of the percentage of aliases that are shared between 2 genes, 3 genes, and so on\n",
    "    \"\"\"\n",
    "    \n",
    "    #Count the number of times each shared alias is used\n",
    "    aa_collision_xxxx_count_df = aa_collision_gene_xxxx_df.pivot_table(\n",
    "    index=[\"collision\"], aggfunc=\"size\"\n",
    "    )\n",
    "    aa_collision_xxxx_count_df = aa_collision_xxxx_count_df.reset_index()\n",
    "    aa_collision_xxxx_count_df.rename(columns={0: \"num_gene_records\"}, inplace=True)\n",
    "    aa_collision_xxxx_count_df = aa_collision_xxxx_count_df.sort_values(\n",
    "        \"num_gene_records\", ascending=False)\n",
    "\n",
    "    #Convert to csv\n",
    "    aa_collision_xxxx_count_df.to_csv(f'../created_files/aa_collision_{source}_count_df.csv', index=True)\n",
    "\n",
    "    #Count the frequency at which aliases are shared \n",
    "    aa_collision_xxxx_distribution_df = aa_collision_xxxx_count_df.pivot_table(\n",
    "    index=[\"num_gene_records\"], aggfunc=\"size\"\n",
    "    )\n",
    "    aa_collision_xxxx_distribution_df = aa_collision_xxxx_distribution_df.reset_index()\n",
    "    aa_collision_xxxx_distribution_df.rename(columns={0: \"num_collision_symbol\"}, inplace=True)\n",
    "    aa_collision_xxxx_distribution_df[\"percent_collision_symbol\"] = (\n",
    "        aa_collision_xxxx_distribution_df[\"num_collision_symbol\"] / xxxx_alias_count\n",
    "    ) * 100\n",
    "\n",
    "    #Convert to csv\n",
    "    aa_collision_xxxx_distribution_df.to_csv(f'../created_files/aa_collision_{source}_distribution_df.csv', index=True)\n",
    "\n",
    "    #Create histogram df \n",
    "    xxxx_alias_count_histogram_df = aa_collision_xxxx_distribution_df.drop(\n",
    "    \"num_collision_symbol\", axis=1)\n",
    "\n",
    "    #Convert to csv\n",
    "    xxxx_alias_count_histogram_df.to_csv(f'../created_files/{source}_alias_count_histogram_df.csv', index=True)\n",
    "\n",
    "    return px.bar(xxxx_alias_count_histogram_df, x=\"num_gene_records\", y=\"percent_collision_symbol\")\n",
    "\n"
   ]
  },
  {
   "cell_type": "markdown",
   "metadata": {},
   "source": [
    "# <a id='toc1_'></a>[ENSG](#toc0_)"
   ]
  },
  {
   "cell_type": "code",
   "execution_count": 5,
   "metadata": {},
   "outputs": [
    {
     "data": {
      "text/html": [
       "<div>\n",
       "<style scoped>\n",
       "    .dataframe tbody tr th:only-of-type {\n",
       "        vertical-align: middle;\n",
       "    }\n",
       "\n",
       "    .dataframe tbody tr th {\n",
       "        vertical-align: top;\n",
       "    }\n",
       "\n",
       "    .dataframe thead th {\n",
       "        text-align: right;\n",
       "    }\n",
       "</style>\n",
       "<table border=\"1\" class=\"dataframe\">\n",
       "  <thead>\n",
       "    <tr style=\"text-align: right;\">\n",
       "      <th></th>\n",
       "      <th>Unnamed: 0</th>\n",
       "      <th>ENSG_ID</th>\n",
       "      <th>gene_symbol</th>\n",
       "      <th>alias_symbol</th>\n",
       "      <th>HGNC_ID</th>\n",
       "      <th>NCBI_ID</th>\n",
       "    </tr>\n",
       "  </thead>\n",
       "  <tbody>\n",
       "    <tr>\n",
       "      <th>0</th>\n",
       "      <td>0</td>\n",
       "      <td>ENSG00000210049</td>\n",
       "      <td>MT-TF</td>\n",
       "      <td>MTTF</td>\n",
       "      <td>7481</td>\n",
       "      <td>&lt;NA&gt;</td>\n",
       "    </tr>\n",
       "    <tr>\n",
       "      <th>1</th>\n",
       "      <td>1</td>\n",
       "      <td>ENSG00000210049</td>\n",
       "      <td>MT-TF</td>\n",
       "      <td>TRNF</td>\n",
       "      <td>7481</td>\n",
       "      <td>&lt;NA&gt;</td>\n",
       "    </tr>\n",
       "    <tr>\n",
       "      <th>2</th>\n",
       "      <td>2</td>\n",
       "      <td>ENSG00000211459</td>\n",
       "      <td>MT-RNR1</td>\n",
       "      <td>12S</td>\n",
       "      <td>7470</td>\n",
       "      <td>&lt;NA&gt;</td>\n",
       "    </tr>\n",
       "    <tr>\n",
       "      <th>3</th>\n",
       "      <td>3</td>\n",
       "      <td>ENSG00000211459</td>\n",
       "      <td>MT-RNR1</td>\n",
       "      <td>MOTS-C</td>\n",
       "      <td>7470</td>\n",
       "      <td>&lt;NA&gt;</td>\n",
       "    </tr>\n",
       "    <tr>\n",
       "      <th>4</th>\n",
       "      <td>4</td>\n",
       "      <td>ENSG00000211459</td>\n",
       "      <td>MT-RNR1</td>\n",
       "      <td>MTRNR1</td>\n",
       "      <td>7470</td>\n",
       "      <td>&lt;NA&gt;</td>\n",
       "    </tr>\n",
       "    <tr>\n",
       "      <th>...</th>\n",
       "      <td>...</td>\n",
       "      <td>...</td>\n",
       "      <td>...</td>\n",
       "      <td>...</td>\n",
       "      <td>...</td>\n",
       "      <td>...</td>\n",
       "    </tr>\n",
       "    <tr>\n",
       "      <th>117135</th>\n",
       "      <td>117135</td>\n",
       "      <td>ENSG00000200033</td>\n",
       "      <td>RNU6-403P</td>\n",
       "      <td>NaN</td>\n",
       "      <td>47366</td>\n",
       "      <td>&lt;NA&gt;</td>\n",
       "    </tr>\n",
       "    <tr>\n",
       "      <th>117136</th>\n",
       "      <td>117136</td>\n",
       "      <td>ENSG00000228437</td>\n",
       "      <td>LINC02474</td>\n",
       "      <td>LNCSLCC1</td>\n",
       "      <td>53417</td>\n",
       "      <td>&lt;NA&gt;</td>\n",
       "    </tr>\n",
       "    <tr>\n",
       "      <th>117137</th>\n",
       "      <td>117137</td>\n",
       "      <td>ENSG00000228437</td>\n",
       "      <td>LINC02474</td>\n",
       "      <td>RP11-400N13.2</td>\n",
       "      <td>53417</td>\n",
       "      <td>&lt;NA&gt;</td>\n",
       "    </tr>\n",
       "    <tr>\n",
       "      <th>117138</th>\n",
       "      <td>117138</td>\n",
       "      <td>ENSG00000229463</td>\n",
       "      <td>LYST-AS1</td>\n",
       "      <td>LYST-IT2</td>\n",
       "      <td>41320</td>\n",
       "      <td>&lt;NA&gt;</td>\n",
       "    </tr>\n",
       "    <tr>\n",
       "      <th>117139</th>\n",
       "      <td>117139</td>\n",
       "      <td>ENSG00000229291</td>\n",
       "      <td>LINC02768</td>\n",
       "      <td>NaN</td>\n",
       "      <td>54288</td>\n",
       "      <td>&lt;NA&gt;</td>\n",
       "    </tr>\n",
       "  </tbody>\n",
       "</table>\n",
       "<p>117140 rows × 6 columns</p>\n",
       "</div>"
      ],
      "text/plain": [
       "        Unnamed: 0          ENSG_ID gene_symbol   alias_symbol  HGNC_ID  \\\n",
       "0                0  ENSG00000210049       MT-TF           MTTF     7481   \n",
       "1                1  ENSG00000210049       MT-TF           TRNF     7481   \n",
       "2                2  ENSG00000211459     MT-RNR1            12S     7470   \n",
       "3                3  ENSG00000211459     MT-RNR1         MOTS-C     7470   \n",
       "4                4  ENSG00000211459     MT-RNR1         MTRNR1     7470   \n",
       "...            ...              ...         ...            ...      ...   \n",
       "117135      117135  ENSG00000200033   RNU6-403P            NaN    47366   \n",
       "117136      117136  ENSG00000228437   LINC02474       LNCSLCC1    53417   \n",
       "117137      117137  ENSG00000228437   LINC02474  RP11-400N13.2    53417   \n",
       "117138      117138  ENSG00000229463    LYST-AS1       LYST-IT2    41320   \n",
       "117139      117139  ENSG00000229291   LINC02768            NaN    54288   \n",
       "\n",
       "        NCBI_ID  \n",
       "0          <NA>  \n",
       "1          <NA>  \n",
       "2          <NA>  \n",
       "3          <NA>  \n",
       "4          <NA>  \n",
       "...         ...  \n",
       "117135     <NA>  \n",
       "117136     <NA>  \n",
       "117137     <NA>  \n",
       "117138     <NA>  \n",
       "117139     <NA>  \n",
       "\n",
       "[117140 rows x 6 columns]"
      ]
     },
     "execution_count": 5,
     "metadata": {},
     "output_type": "execute_result"
    }
   ],
   "source": [
    "mini_ensg_df = pd.read_csv(\n",
    "    \"../created_files/mini_ensg_df.csv\",\n",
    "    dtype={\"HGNC_ID\": pd.Int64Dtype(), \"NCBI_ID\": pd.Int64Dtype()},\n",
    ")\n",
    "mini_ensg_df"
   ]
  },
  {
   "cell_type": "code",
   "execution_count": 6,
   "metadata": {},
   "outputs": [
    {
     "data": {
      "text/html": [
       "<div>\n",
       "<style scoped>\n",
       "    .dataframe tbody tr th:only-of-type {\n",
       "        vertical-align: middle;\n",
       "    }\n",
       "\n",
       "    .dataframe tbody tr th {\n",
       "        vertical-align: top;\n",
       "    }\n",
       "\n",
       "    .dataframe thead th {\n",
       "        text-align: right;\n",
       "    }\n",
       "</style>\n",
       "<table border=\"1\" class=\"dataframe\">\n",
       "  <thead>\n",
       "    <tr style=\"text-align: right;\">\n",
       "      <th></th>\n",
       "      <th>ENSG_ID</th>\n",
       "      <th>gene_symbol</th>\n",
       "      <th>alias_symbol</th>\n",
       "      <th>HGNC_ID</th>\n",
       "      <th>NCBI_ID</th>\n",
       "    </tr>\n",
       "  </thead>\n",
       "  <tbody>\n",
       "    <tr>\n",
       "      <th>0</th>\n",
       "      <td>ENSG00000210049</td>\n",
       "      <td>MT-TF</td>\n",
       "      <td>MTTF</td>\n",
       "      <td>7481.0</td>\n",
       "      <td>NaN</td>\n",
       "    </tr>\n",
       "    <tr>\n",
       "      <th>1</th>\n",
       "      <td>ENSG00000210049</td>\n",
       "      <td>MT-TF</td>\n",
       "      <td>TRNF</td>\n",
       "      <td>7481.0</td>\n",
       "      <td>NaN</td>\n",
       "    </tr>\n",
       "    <tr>\n",
       "      <th>2</th>\n",
       "      <td>ENSG00000211459</td>\n",
       "      <td>MT-RNR1</td>\n",
       "      <td>12S</td>\n",
       "      <td>7470.0</td>\n",
       "      <td>NaN</td>\n",
       "    </tr>\n",
       "    <tr>\n",
       "      <th>3</th>\n",
       "      <td>ENSG00000211459</td>\n",
       "      <td>MT-RNR1</td>\n",
       "      <td>MOTS-C</td>\n",
       "      <td>7470.0</td>\n",
       "      <td>NaN</td>\n",
       "    </tr>\n",
       "    <tr>\n",
       "      <th>4</th>\n",
       "      <td>ENSG00000211459</td>\n",
       "      <td>MT-RNR1</td>\n",
       "      <td>MTRNR1</td>\n",
       "      <td>7470.0</td>\n",
       "      <td>NaN</td>\n",
       "    </tr>\n",
       "    <tr>\n",
       "      <th>...</th>\n",
       "      <td>...</td>\n",
       "      <td>...</td>\n",
       "      <td>...</td>\n",
       "      <td>...</td>\n",
       "      <td>...</td>\n",
       "    </tr>\n",
       "    <tr>\n",
       "      <th>117133</th>\n",
       "      <td>ENSG00000232679</td>\n",
       "      <td>LINC01705</td>\n",
       "      <td>ERLR</td>\n",
       "      <td>52493.0</td>\n",
       "      <td>105372950.0</td>\n",
       "    </tr>\n",
       "    <tr>\n",
       "      <th>117134</th>\n",
       "      <td>ENSG00000232679</td>\n",
       "      <td>LINC01705</td>\n",
       "      <td>RP11-400N13.3</td>\n",
       "      <td>52493.0</td>\n",
       "      <td>105372950.0</td>\n",
       "    </tr>\n",
       "    <tr>\n",
       "      <th>117136</th>\n",
       "      <td>ENSG00000228437</td>\n",
       "      <td>LINC02474</td>\n",
       "      <td>LNCSLCC1</td>\n",
       "      <td>53417.0</td>\n",
       "      <td>NaN</td>\n",
       "    </tr>\n",
       "    <tr>\n",
       "      <th>117137</th>\n",
       "      <td>ENSG00000228437</td>\n",
       "      <td>LINC02474</td>\n",
       "      <td>RP11-400N13.2</td>\n",
       "      <td>53417.0</td>\n",
       "      <td>NaN</td>\n",
       "    </tr>\n",
       "    <tr>\n",
       "      <th>117138</th>\n",
       "      <td>ENSG00000229463</td>\n",
       "      <td>LYST-AS1</td>\n",
       "      <td>LYST-IT2</td>\n",
       "      <td>41320.0</td>\n",
       "      <td>NaN</td>\n",
       "    </tr>\n",
       "  </tbody>\n",
       "</table>\n",
       "<p>57275 rows × 5 columns</p>\n",
       "</div>"
      ],
      "text/plain": [
       "                ENSG_ID gene_symbol   alias_symbol  HGNC_ID      NCBI_ID\n",
       "0       ENSG00000210049       MT-TF           MTTF   7481.0          NaN\n",
       "1       ENSG00000210049       MT-TF           TRNF   7481.0          NaN\n",
       "2       ENSG00000211459     MT-RNR1            12S   7470.0          NaN\n",
       "3       ENSG00000211459     MT-RNR1         MOTS-C   7470.0          NaN\n",
       "4       ENSG00000211459     MT-RNR1         MTRNR1   7470.0          NaN\n",
       "...                 ...         ...            ...      ...          ...\n",
       "117133  ENSG00000232679   LINC01705           ERLR  52493.0  105372950.0\n",
       "117134  ENSG00000232679   LINC01705  RP11-400N13.3  52493.0  105372950.0\n",
       "117136  ENSG00000228437   LINC02474       LNCSLCC1  53417.0          NaN\n",
       "117137  ENSG00000228437   LINC02474  RP11-400N13.2  53417.0          NaN\n",
       "117138  ENSG00000229463    LYST-AS1       LYST-IT2  41320.0          NaN\n",
       "\n",
       "[57275 rows x 5 columns]"
      ]
     },
     "execution_count": 6,
     "metadata": {},
     "output_type": "execute_result"
    }
   ],
   "source": [
    "subset_genes_ensg_df = pd.read_csv(\n",
    "    \"../created_files/subset_genes_ensg_df.csv\", index_col=[0])\n",
    "subset_genes_ensg_df"
   ]
  },
  {
   "cell_type": "code",
   "execution_count": 7,
   "metadata": {},
   "outputs": [
    {
     "data": {
      "text/html": [
       "<div>\n",
       "<style scoped>\n",
       "    .dataframe tbody tr th:only-of-type {\n",
       "        vertical-align: middle;\n",
       "    }\n",
       "\n",
       "    .dataframe tbody tr th {\n",
       "        vertical-align: top;\n",
       "    }\n",
       "\n",
       "    .dataframe thead th {\n",
       "        text-align: right;\n",
       "    }\n",
       "</style>\n",
       "<table border=\"1\" class=\"dataframe\">\n",
       "  <thead>\n",
       "    <tr style=\"text-align: right;\">\n",
       "      <th></th>\n",
       "      <th>ENSG_ID</th>\n",
       "      <th>gene_symbol</th>\n",
       "      <th>HGNC_ID</th>\n",
       "      <th>alias_symbol</th>\n",
       "    </tr>\n",
       "  </thead>\n",
       "  <tbody>\n",
       "    <tr>\n",
       "      <th>0</th>\n",
       "      <td>ENSG00000000003</td>\n",
       "      <td>TSPAN6</td>\n",
       "      <td>11858.0</td>\n",
       "      <td>T245,TM4SF6,TSPAN-6</td>\n",
       "    </tr>\n",
       "    <tr>\n",
       "      <th>1</th>\n",
       "      <td>ENSG00000000005</td>\n",
       "      <td>TNMD</td>\n",
       "      <td>17757.0</td>\n",
       "      <td>BRICD4,CHM1L,MYODULIN,TEM,TENDIN</td>\n",
       "    </tr>\n",
       "    <tr>\n",
       "      <th>2</th>\n",
       "      <td>ENSG00000000419</td>\n",
       "      <td>DPM1</td>\n",
       "      <td>3005.0</td>\n",
       "      <td>CDGIE,MPDS</td>\n",
       "    </tr>\n",
       "    <tr>\n",
       "      <th>3</th>\n",
       "      <td>ENSG00000000457</td>\n",
       "      <td>SCYL3</td>\n",
       "      <td>19285.0</td>\n",
       "      <td>PACE-1,PACE1</td>\n",
       "    </tr>\n",
       "    <tr>\n",
       "      <th>4</th>\n",
       "      <td>ENSG00000000460</td>\n",
       "      <td>FIRRM</td>\n",
       "      <td>25565.0</td>\n",
       "      <td>APOLO1,C1ORF112,FLIP,FLJ10706,MEICA1</td>\n",
       "    </tr>\n",
       "    <tr>\n",
       "      <th>...</th>\n",
       "      <td>...</td>\n",
       "      <td>...</td>\n",
       "      <td>...</td>\n",
       "      <td>...</td>\n",
       "    </tr>\n",
       "    <tr>\n",
       "      <th>70609</th>\n",
       "      <td>ENSG00000293596</td>\n",
       "      <td>NaN</td>\n",
       "      <td>NaN</td>\n",
       "      <td>NaN</td>\n",
       "    </tr>\n",
       "    <tr>\n",
       "      <th>70610</th>\n",
       "      <td>ENSG00000293597</td>\n",
       "      <td>LINC00970</td>\n",
       "      <td>48730.0</td>\n",
       "      <td>NaN</td>\n",
       "    </tr>\n",
       "    <tr>\n",
       "      <th>70611</th>\n",
       "      <td>ENSG00000293599</td>\n",
       "      <td>NaN</td>\n",
       "      <td>NaN</td>\n",
       "      <td>NaN</td>\n",
       "    </tr>\n",
       "    <tr>\n",
       "      <th>70612</th>\n",
       "      <td>ENSG00000293600</td>\n",
       "      <td>NaN</td>\n",
       "      <td>NaN</td>\n",
       "      <td>NaN</td>\n",
       "    </tr>\n",
       "    <tr>\n",
       "      <th>70613</th>\n",
       "      <td>ENSG00000293604</td>\n",
       "      <td>ORAI1</td>\n",
       "      <td>25896.0</td>\n",
       "      <td>CRACM1,FLJ14466,TMEM142A</td>\n",
       "    </tr>\n",
       "  </tbody>\n",
       "</table>\n",
       "<p>70614 rows × 4 columns</p>\n",
       "</div>"
      ],
      "text/plain": [
       "               ENSG_ID gene_symbol  HGNC_ID  \\\n",
       "0      ENSG00000000003      TSPAN6  11858.0   \n",
       "1      ENSG00000000005        TNMD  17757.0   \n",
       "2      ENSG00000000419        DPM1   3005.0   \n",
       "3      ENSG00000000457       SCYL3  19285.0   \n",
       "4      ENSG00000000460       FIRRM  25565.0   \n",
       "...                ...         ...      ...   \n",
       "70609  ENSG00000293596         NaN      NaN   \n",
       "70610  ENSG00000293597   LINC00970  48730.0   \n",
       "70611  ENSG00000293599         NaN      NaN   \n",
       "70612  ENSG00000293600         NaN      NaN   \n",
       "70613  ENSG00000293604       ORAI1  25896.0   \n",
       "\n",
       "                               alias_symbol  \n",
       "0                       T245,TM4SF6,TSPAN-6  \n",
       "1          BRICD4,CHM1L,MYODULIN,TEM,TENDIN  \n",
       "2                                CDGIE,MPDS  \n",
       "3                              PACE-1,PACE1  \n",
       "4      APOLO1,C1ORF112,FLIP,FLJ10706,MEICA1  \n",
       "...                                     ...  \n",
       "70609                                   NaN  \n",
       "70610                                   NaN  \n",
       "70611                                   NaN  \n",
       "70612                                   NaN  \n",
       "70613              CRACM1,FLJ14466,TMEM142A  \n",
       "\n",
       "[70614 rows x 4 columns]"
      ]
     },
     "execution_count": 7,
     "metadata": {},
     "output_type": "execute_result"
    }
   ],
   "source": [
    "merged_alias_ensg_df = pd.read_csv(\n",
    "    \"../created_files/merged_alias_ensg_df.csv\", index_col=[0])\n",
    "merged_alias_ensg_df"
   ]
  },
  {
   "cell_type": "markdown",
   "metadata": {},
   "source": [
    "### <a id='toc1_1_1_'></a>[How many total unique gene records are there in Ensembl](#toc0_)"
   ]
  },
  {
   "cell_type": "markdown",
   "metadata": {},
   "source": [
    "By ENSG ID"
   ]
  },
  {
   "cell_type": "code",
   "execution_count": 8,
   "metadata": {},
   "outputs": [
    {
     "data": {
      "text/plain": [
       "70611"
      ]
     },
     "execution_count": 8,
     "metadata": {},
     "output_type": "execute_result"
    }
   ],
   "source": [
    "ensg_gene_id_set = set(mini_ensg_df[\"ENSG_ID\"])\n",
    "len(ensg_gene_id_set)"
   ]
  },
  {
   "cell_type": "markdown",
   "metadata": {},
   "source": [
    "### <a id='toc1_1_2_'></a>[Identify alias-alias collision symbols](#toc0_)"
   ]
  },
  {
   "cell_type": "code",
   "execution_count": 9,
   "metadata": {},
   "outputs": [
    {
     "data": {
      "text/plain": [
       "(           ENSG_ID gene_symbol alias_symbol  HGNC_ID  NCBI_ID\n",
       " 0  ENSG00000210049       MT-TF         MTTF   7481.0      NaN\n",
       " 1  ENSG00000210049       MT-TF         TRNF   7481.0      NaN\n",
       " 2  ENSG00000211459     MT-RNR1          12S   7470.0      NaN\n",
       " 3  ENSG00000211459     MT-RNR1       MOTS-C   7470.0      NaN\n",
       " 4  ENSG00000211459     MT-RNR1       MTRNR1   7470.0      NaN,\n",
       "   gene_symbol                                       alias_symbol  \\\n",
       " 0       KLRG1                            2F1,CLEC15A,MAFA,MAFA-L   \n",
       " 1     SLC25A5                                     2F1,ANT2,T2,T3   \n",
       " 2      S100A8        60B8AG,CAGA,CFAG,CGLA,MRP-8,MRP8,P8,S100-A8   \n",
       " 3      S100A9  60B8AG,CAGB,CFAG,CGLB,LIAG,MAC387,MIF,MRP-14,M...   \n",
       " 4       GNAI3                                               87U6   \n",
       " \n",
       "            ENSG_ID  HGNC_ID  NCBI_ID collision source  \n",
       " 0  ENSG00000139187   6380.0  10219.0       2F1   ENSG  \n",
       " 1  ENSG00000005022  10991.0    292.0       2F1   ENSG  \n",
       " 2  ENSG00000143546  10498.0   6279.0    60B8AG   ENSG  \n",
       " 3  ENSG00000163220  10499.0   6280.0    60B8AG   ENSG  \n",
       " 4  ENSG00000065135   4387.0   2773.0      87U6   ENSG  ,\n",
       "   collision                                            ENSG_ID  \\\n",
       " 0       2F1                   ENSG00000139187, ENSG00000005022   \n",
       " 1    60B8AG                   ENSG00000143546, ENSG00000163220   \n",
       " 2      87U6                   ENSG00000065135, ENSG00000206832   \n",
       " 3       9G8                   ENSG00000115875, ENSG00000164609   \n",
       " 4        A1  ENSG00000163918, ENSG00000033627, ENSG00000049...   \n",
       " \n",
       "                   gene_symbol source  \n",
       " 0              KLRG1, SLC25A5   ENSG  \n",
       " 1              S100A8, S100A9   ENSG  \n",
       " 2                GNAI3, RNU6V   ENSG  \n",
       " 3                 SRSF7, SLU7   ENSG  \n",
       " 4  RFC4, ATP6V0A1, RFC2, RFC1   ENSG  )"
      ]
     },
     "execution_count": 9,
     "metadata": {},
     "output_type": "execute_result"
    }
   ],
   "source": [
    "create_aa_collision_df(subset_genes_ensg_df, merged_alias_ensg_df, source=\"ENSG\")"
   ]
  },
  {
   "cell_type": "code",
   "execution_count": 10,
   "metadata": {},
   "outputs": [
    {
     "data": {
      "text/html": [
       "<div>\n",
       "<style scoped>\n",
       "    .dataframe tbody tr th:only-of-type {\n",
       "        vertical-align: middle;\n",
       "    }\n",
       "\n",
       "    .dataframe tbody tr th {\n",
       "        vertical-align: top;\n",
       "    }\n",
       "\n",
       "    .dataframe thead th {\n",
       "        text-align: right;\n",
       "    }\n",
       "</style>\n",
       "<table border=\"1\" class=\"dataframe\">\n",
       "  <thead>\n",
       "    <tr style=\"text-align: right;\">\n",
       "      <th></th>\n",
       "      <th>ENSG_ID</th>\n",
       "      <th>gene_symbol</th>\n",
       "      <th>alias_symbol</th>\n",
       "      <th>HGNC_ID</th>\n",
       "      <th>NCBI_ID</th>\n",
       "    </tr>\n",
       "  </thead>\n",
       "  <tbody>\n",
       "    <tr>\n",
       "      <th>0</th>\n",
       "      <td>ENSG00000210049</td>\n",
       "      <td>MT-TF</td>\n",
       "      <td>MTTF</td>\n",
       "      <td>7481.0</td>\n",
       "      <td>NaN</td>\n",
       "    </tr>\n",
       "    <tr>\n",
       "      <th>1</th>\n",
       "      <td>ENSG00000210049</td>\n",
       "      <td>MT-TF</td>\n",
       "      <td>TRNF</td>\n",
       "      <td>7481.0</td>\n",
       "      <td>NaN</td>\n",
       "    </tr>\n",
       "    <tr>\n",
       "      <th>2</th>\n",
       "      <td>ENSG00000211459</td>\n",
       "      <td>MT-RNR1</td>\n",
       "      <td>12S</td>\n",
       "      <td>7470.0</td>\n",
       "      <td>NaN</td>\n",
       "    </tr>\n",
       "    <tr>\n",
       "      <th>3</th>\n",
       "      <td>ENSG00000211459</td>\n",
       "      <td>MT-RNR1</td>\n",
       "      <td>MOTS-C</td>\n",
       "      <td>7470.0</td>\n",
       "      <td>NaN</td>\n",
       "    </tr>\n",
       "    <tr>\n",
       "      <th>4</th>\n",
       "      <td>ENSG00000211459</td>\n",
       "      <td>MT-RNR1</td>\n",
       "      <td>MTRNR1</td>\n",
       "      <td>7470.0</td>\n",
       "      <td>NaN</td>\n",
       "    </tr>\n",
       "    <tr>\n",
       "      <th>...</th>\n",
       "      <td>...</td>\n",
       "      <td>...</td>\n",
       "      <td>...</td>\n",
       "      <td>...</td>\n",
       "      <td>...</td>\n",
       "    </tr>\n",
       "    <tr>\n",
       "      <th>117133</th>\n",
       "      <td>ENSG00000232679</td>\n",
       "      <td>LINC01705</td>\n",
       "      <td>ERLR</td>\n",
       "      <td>52493.0</td>\n",
       "      <td>105372950.0</td>\n",
       "    </tr>\n",
       "    <tr>\n",
       "      <th>117134</th>\n",
       "      <td>ENSG00000232679</td>\n",
       "      <td>LINC01705</td>\n",
       "      <td>RP11-400N13.3</td>\n",
       "      <td>52493.0</td>\n",
       "      <td>105372950.0</td>\n",
       "    </tr>\n",
       "    <tr>\n",
       "      <th>117136</th>\n",
       "      <td>ENSG00000228437</td>\n",
       "      <td>LINC02474</td>\n",
       "      <td>LNCSLCC1</td>\n",
       "      <td>53417.0</td>\n",
       "      <td>NaN</td>\n",
       "    </tr>\n",
       "    <tr>\n",
       "      <th>117137</th>\n",
       "      <td>ENSG00000228437</td>\n",
       "      <td>LINC02474</td>\n",
       "      <td>RP11-400N13.2</td>\n",
       "      <td>53417.0</td>\n",
       "      <td>NaN</td>\n",
       "    </tr>\n",
       "    <tr>\n",
       "      <th>117138</th>\n",
       "      <td>ENSG00000229463</td>\n",
       "      <td>LYST-AS1</td>\n",
       "      <td>LYST-IT2</td>\n",
       "      <td>41320.0</td>\n",
       "      <td>NaN</td>\n",
       "    </tr>\n",
       "  </tbody>\n",
       "</table>\n",
       "<p>57275 rows × 5 columns</p>\n",
       "</div>"
      ],
      "text/plain": [
       "                ENSG_ID gene_symbol   alias_symbol  HGNC_ID      NCBI_ID\n",
       "0       ENSG00000210049       MT-TF           MTTF   7481.0          NaN\n",
       "1       ENSG00000210049       MT-TF           TRNF   7481.0          NaN\n",
       "2       ENSG00000211459     MT-RNR1            12S   7470.0          NaN\n",
       "3       ENSG00000211459     MT-RNR1         MOTS-C   7470.0          NaN\n",
       "4       ENSG00000211459     MT-RNR1         MTRNR1   7470.0          NaN\n",
       "...                 ...         ...            ...      ...          ...\n",
       "117133  ENSG00000232679   LINC01705           ERLR  52493.0  105372950.0\n",
       "117134  ENSG00000232679   LINC01705  RP11-400N13.3  52493.0  105372950.0\n",
       "117136  ENSG00000228437   LINC02474       LNCSLCC1  53417.0          NaN\n",
       "117137  ENSG00000228437   LINC02474  RP11-400N13.2  53417.0          NaN\n",
       "117138  ENSG00000229463    LYST-AS1       LYST-IT2  41320.0          NaN\n",
       "\n",
       "[57275 rows x 5 columns]"
      ]
     },
     "execution_count": 10,
     "metadata": {},
     "output_type": "execute_result"
    }
   ],
   "source": [
    "subset_genes_ensg_df = pd.read_csv(\n",
    "    \"../created_files/subset_genes_ensg_df.csv\", index_col=[0])\n",
    "subset_genes_ensg_df"
   ]
  },
  {
   "cell_type": "code",
   "execution_count": 11,
   "metadata": {},
   "outputs": [
    {
     "data": {
      "text/html": [
       "<div>\n",
       "<style scoped>\n",
       "    .dataframe tbody tr th:only-of-type {\n",
       "        vertical-align: middle;\n",
       "    }\n",
       "\n",
       "    .dataframe tbody tr th {\n",
       "        vertical-align: top;\n",
       "    }\n",
       "\n",
       "    .dataframe thead th {\n",
       "        text-align: right;\n",
       "    }\n",
       "</style>\n",
       "<table border=\"1\" class=\"dataframe\">\n",
       "  <thead>\n",
       "    <tr style=\"text-align: right;\">\n",
       "      <th></th>\n",
       "      <th>ENSG_ID</th>\n",
       "      <th>gene_symbol</th>\n",
       "      <th>alias_symbol</th>\n",
       "      <th>HGNC_ID</th>\n",
       "      <th>NCBI_ID</th>\n",
       "    </tr>\n",
       "  </thead>\n",
       "  <tbody>\n",
       "    <tr>\n",
       "      <th>112937</th>\n",
       "      <td>ENSG00000226306</td>\n",
       "      <td>NPY6R</td>\n",
       "      <td>NPY1RL</td>\n",
       "      <td>7959.0</td>\n",
       "      <td>NaN</td>\n",
       "    </tr>\n",
       "    <tr>\n",
       "      <th>112938</th>\n",
       "      <td>ENSG00000226306</td>\n",
       "      <td>NPY6R</td>\n",
       "      <td>NPY6RP</td>\n",
       "      <td>7959.0</td>\n",
       "      <td>NaN</td>\n",
       "    </tr>\n",
       "    <tr>\n",
       "      <th>112939</th>\n",
       "      <td>ENSG00000226306</td>\n",
       "      <td>NPY6R</td>\n",
       "      <td>PP2</td>\n",
       "      <td>7959.0</td>\n",
       "      <td>NaN</td>\n",
       "    </tr>\n",
       "    <tr>\n",
       "      <th>112944</th>\n",
       "      <td>ENSG00000293504</td>\n",
       "      <td>NPY6R</td>\n",
       "      <td>Y2B</td>\n",
       "      <td>NaN</td>\n",
       "      <td>4888.0</td>\n",
       "    </tr>\n",
       "  </tbody>\n",
       "</table>\n",
       "</div>"
      ],
      "text/plain": [
       "                ENSG_ID gene_symbol alias_symbol  HGNC_ID  NCBI_ID\n",
       "112937  ENSG00000226306       NPY6R       NPY1RL   7959.0      NaN\n",
       "112938  ENSG00000226306       NPY6R       NPY6RP   7959.0      NaN\n",
       "112939  ENSG00000226306       NPY6R          PP2   7959.0      NaN\n",
       "112944  ENSG00000293504       NPY6R          Y2B      NaN   4888.0"
      ]
     },
     "execution_count": 11,
     "metadata": {},
     "output_type": "execute_result"
    }
   ],
   "source": [
    "subset_genes_ensg_df.loc[subset_genes_ensg_df[\"gene_symbol\"] == \"NPY6R\"]"
   ]
  },
  {
   "cell_type": "code",
   "execution_count": 12,
   "metadata": {},
   "outputs": [
    {
     "data": {
      "text/html": [
       "<div>\n",
       "<style scoped>\n",
       "    .dataframe tbody tr th:only-of-type {\n",
       "        vertical-align: middle;\n",
       "    }\n",
       "\n",
       "    .dataframe tbody tr th {\n",
       "        vertical-align: top;\n",
       "    }\n",
       "\n",
       "    .dataframe thead th {\n",
       "        text-align: right;\n",
       "    }\n",
       "</style>\n",
       "<table border=\"1\" class=\"dataframe\">\n",
       "  <thead>\n",
       "    <tr style=\"text-align: right;\">\n",
       "      <th></th>\n",
       "      <th>gene_symbol</th>\n",
       "      <th>alias_symbol</th>\n",
       "      <th>ENSG_ID</th>\n",
       "      <th>HGNC_ID</th>\n",
       "      <th>NCBI_ID</th>\n",
       "      <th>collision</th>\n",
       "      <th>source</th>\n",
       "    </tr>\n",
       "  </thead>\n",
       "  <tbody>\n",
       "    <tr>\n",
       "      <th>0</th>\n",
       "      <td>KLRG1</td>\n",
       "      <td>2F1,CLEC15A,MAFA,MAFA-L</td>\n",
       "      <td>ENSG00000139187</td>\n",
       "      <td>6380.0</td>\n",
       "      <td>10219.0</td>\n",
       "      <td>2F1</td>\n",
       "      <td>ENSG</td>\n",
       "    </tr>\n",
       "    <tr>\n",
       "      <th>1</th>\n",
       "      <td>SLC25A5</td>\n",
       "      <td>2F1,ANT2,T2,T3</td>\n",
       "      <td>ENSG00000005022</td>\n",
       "      <td>10991.0</td>\n",
       "      <td>292.0</td>\n",
       "      <td>2F1</td>\n",
       "      <td>ENSG</td>\n",
       "    </tr>\n",
       "    <tr>\n",
       "      <th>2</th>\n",
       "      <td>S100A8</td>\n",
       "      <td>60B8AG,CAGA,CFAG,CGLA,MRP-8,MRP8,P8,S100-A8</td>\n",
       "      <td>ENSG00000143546</td>\n",
       "      <td>10498.0</td>\n",
       "      <td>6279.0</td>\n",
       "      <td>60B8AG</td>\n",
       "      <td>ENSG</td>\n",
       "    </tr>\n",
       "    <tr>\n",
       "      <th>3</th>\n",
       "      <td>S100A9</td>\n",
       "      <td>60B8AG,CAGB,CFAG,CGLB,LIAG,MAC387,MIF,MRP-14,M...</td>\n",
       "      <td>ENSG00000163220</td>\n",
       "      <td>10499.0</td>\n",
       "      <td>6280.0</td>\n",
       "      <td>60B8AG</td>\n",
       "      <td>ENSG</td>\n",
       "    </tr>\n",
       "    <tr>\n",
       "      <th>4</th>\n",
       "      <td>GNAI3</td>\n",
       "      <td>87U6</td>\n",
       "      <td>ENSG00000065135</td>\n",
       "      <td>4387.0</td>\n",
       "      <td>2773.0</td>\n",
       "      <td>87U6</td>\n",
       "      <td>ENSG</td>\n",
       "    </tr>\n",
       "    <tr>\n",
       "      <th>...</th>\n",
       "      <td>...</td>\n",
       "      <td>...</td>\n",
       "      <td>...</td>\n",
       "      <td>...</td>\n",
       "      <td>...</td>\n",
       "      <td>...</td>\n",
       "      <td>...</td>\n",
       "    </tr>\n",
       "    <tr>\n",
       "      <th>3674</th>\n",
       "      <td>SLC30A10</td>\n",
       "      <td>DKFZP547M236,ZNT-10,ZNT10,ZNT8,ZRC1</td>\n",
       "      <td>ENSG00000196660</td>\n",
       "      <td>25355.0</td>\n",
       "      <td>55532.0</td>\n",
       "      <td>ZNT8</td>\n",
       "      <td>ENSG</td>\n",
       "    </tr>\n",
       "    <tr>\n",
       "      <th>3675</th>\n",
       "      <td>SLC30A10</td>\n",
       "      <td>DKFZP547M236,ZNT-10,ZNT10,ZNT8,ZRC1</td>\n",
       "      <td>ENSG00000196660</td>\n",
       "      <td>25355.0</td>\n",
       "      <td>55532.0</td>\n",
       "      <td>ZRC1</td>\n",
       "      <td>ENSG</td>\n",
       "    </tr>\n",
       "    <tr>\n",
       "      <th>3676</th>\n",
       "      <td>SLC30A1</td>\n",
       "      <td>ZNT1,ZRC1</td>\n",
       "      <td>ENSG00000170385</td>\n",
       "      <td>11012.0</td>\n",
       "      <td>7779.0</td>\n",
       "      <td>ZRC1</td>\n",
       "      <td>ENSG</td>\n",
       "    </tr>\n",
       "    <tr>\n",
       "      <th>3677</th>\n",
       "      <td>ZYG11B</td>\n",
       "      <td>FLJ13456,ZYG11</td>\n",
       "      <td>ENSG00000162378</td>\n",
       "      <td>25820.0</td>\n",
       "      <td>79699.0</td>\n",
       "      <td>ZYG11</td>\n",
       "      <td>ENSG</td>\n",
       "    </tr>\n",
       "    <tr>\n",
       "      <th>3678</th>\n",
       "      <td>ZYG11A</td>\n",
       "      <td>ZYG11</td>\n",
       "      <td>ENSG00000203995</td>\n",
       "      <td>32058.0</td>\n",
       "      <td>440590.0</td>\n",
       "      <td>ZYG11</td>\n",
       "      <td>ENSG</td>\n",
       "    </tr>\n",
       "  </tbody>\n",
       "</table>\n",
       "<p>3679 rows × 7 columns</p>\n",
       "</div>"
      ],
      "text/plain": [
       "     gene_symbol                                       alias_symbol  \\\n",
       "0          KLRG1                            2F1,CLEC15A,MAFA,MAFA-L   \n",
       "1        SLC25A5                                     2F1,ANT2,T2,T3   \n",
       "2         S100A8        60B8AG,CAGA,CFAG,CGLA,MRP-8,MRP8,P8,S100-A8   \n",
       "3         S100A9  60B8AG,CAGB,CFAG,CGLB,LIAG,MAC387,MIF,MRP-14,M...   \n",
       "4          GNAI3                                               87U6   \n",
       "...          ...                                                ...   \n",
       "3674    SLC30A10                DKFZP547M236,ZNT-10,ZNT10,ZNT8,ZRC1   \n",
       "3675    SLC30A10                DKFZP547M236,ZNT-10,ZNT10,ZNT8,ZRC1   \n",
       "3676     SLC30A1                                          ZNT1,ZRC1   \n",
       "3677      ZYG11B                                     FLJ13456,ZYG11   \n",
       "3678      ZYG11A                                              ZYG11   \n",
       "\n",
       "              ENSG_ID  HGNC_ID   NCBI_ID collision source  \n",
       "0     ENSG00000139187   6380.0   10219.0       2F1   ENSG  \n",
       "1     ENSG00000005022  10991.0     292.0       2F1   ENSG  \n",
       "2     ENSG00000143546  10498.0    6279.0    60B8AG   ENSG  \n",
       "3     ENSG00000163220  10499.0    6280.0    60B8AG   ENSG  \n",
       "4     ENSG00000065135   4387.0    2773.0      87U6   ENSG  \n",
       "...               ...      ...       ...       ...    ...  \n",
       "3674  ENSG00000196660  25355.0   55532.0      ZNT8   ENSG  \n",
       "3675  ENSG00000196660  25355.0   55532.0      ZRC1   ENSG  \n",
       "3676  ENSG00000170385  11012.0    7779.0      ZRC1   ENSG  \n",
       "3677  ENSG00000162378  25820.0   79699.0     ZYG11   ENSG  \n",
       "3678  ENSG00000203995  32058.0  440590.0     ZYG11   ENSG  \n",
       "\n",
       "[3679 rows x 7 columns]"
      ]
     },
     "execution_count": 12,
     "metadata": {},
     "output_type": "execute_result"
    }
   ],
   "source": [
    "aa_collision_gene_ensg_df = pd.read_csv(\n",
    "    \"../created_files/aa_collision_gene_ensg_df.csv\", index_col=[0])\n",
    "aa_collision_gene_ensg_df"
   ]
  },
  {
   "cell_type": "code",
   "execution_count": 13,
   "metadata": {},
   "outputs": [
    {
     "data": {
      "text/html": [
       "<div>\n",
       "<style scoped>\n",
       "    .dataframe tbody tr th:only-of-type {\n",
       "        vertical-align: middle;\n",
       "    }\n",
       "\n",
       "    .dataframe tbody tr th {\n",
       "        vertical-align: top;\n",
       "    }\n",
       "\n",
       "    .dataframe thead th {\n",
       "        text-align: right;\n",
       "    }\n",
       "</style>\n",
       "<table border=\"1\" class=\"dataframe\">\n",
       "  <thead>\n",
       "    <tr style=\"text-align: right;\">\n",
       "      <th></th>\n",
       "      <th>collision</th>\n",
       "      <th>ENSG_ID</th>\n",
       "      <th>gene_symbol</th>\n",
       "      <th>source</th>\n",
       "    </tr>\n",
       "  </thead>\n",
       "  <tbody>\n",
       "    <tr>\n",
       "      <th>0</th>\n",
       "      <td>2F1</td>\n",
       "      <td>ENSG00000139187, ENSG00000005022</td>\n",
       "      <td>KLRG1, SLC25A5</td>\n",
       "      <td>ENSG</td>\n",
       "    </tr>\n",
       "    <tr>\n",
       "      <th>1</th>\n",
       "      <td>60B8AG</td>\n",
       "      <td>ENSG00000143546, ENSG00000163220</td>\n",
       "      <td>S100A8, S100A9</td>\n",
       "      <td>ENSG</td>\n",
       "    </tr>\n",
       "    <tr>\n",
       "      <th>2</th>\n",
       "      <td>87U6</td>\n",
       "      <td>ENSG00000065135, ENSG00000206832</td>\n",
       "      <td>GNAI3, RNU6V</td>\n",
       "      <td>ENSG</td>\n",
       "    </tr>\n",
       "    <tr>\n",
       "      <th>3</th>\n",
       "      <td>9G8</td>\n",
       "      <td>ENSG00000115875, ENSG00000164609</td>\n",
       "      <td>SRSF7, SLU7</td>\n",
       "      <td>ENSG</td>\n",
       "    </tr>\n",
       "    <tr>\n",
       "      <th>4</th>\n",
       "      <td>A1</td>\n",
       "      <td>ENSG00000163918, ENSG00000033627, ENSG00000049...</td>\n",
       "      <td>RFC4, ATP6V0A1, RFC2, RFC1</td>\n",
       "      <td>ENSG</td>\n",
       "    </tr>\n",
       "    <tr>\n",
       "      <th>...</th>\n",
       "      <td>...</td>\n",
       "      <td>...</td>\n",
       "      <td>...</td>\n",
       "      <td>...</td>\n",
       "    </tr>\n",
       "    <tr>\n",
       "      <th>1612</th>\n",
       "      <td>ZIP4</td>\n",
       "      <td>ENSG00000120498, ENSG00000285243</td>\n",
       "      <td>TEX11, SLC39A4</td>\n",
       "      <td>ENSG</td>\n",
       "    </tr>\n",
       "    <tr>\n",
       "      <th>1613</th>\n",
       "      <td>ZNF422</td>\n",
       "      <td>ENSG00000165512, ENSG00000172943</td>\n",
       "      <td>ZNF22, PHF8</td>\n",
       "      <td>ENSG</td>\n",
       "    </tr>\n",
       "    <tr>\n",
       "      <th>1614</th>\n",
       "      <td>ZNT8</td>\n",
       "      <td>ENSG00000164756, ENSG00000196660</td>\n",
       "      <td>SLC30A8, SLC30A10</td>\n",
       "      <td>ENSG</td>\n",
       "    </tr>\n",
       "    <tr>\n",
       "      <th>1615</th>\n",
       "      <td>ZRC1</td>\n",
       "      <td>ENSG00000196660, ENSG00000170385</td>\n",
       "      <td>SLC30A10, SLC30A1</td>\n",
       "      <td>ENSG</td>\n",
       "    </tr>\n",
       "    <tr>\n",
       "      <th>1616</th>\n",
       "      <td>ZYG11</td>\n",
       "      <td>ENSG00000162378, ENSG00000203995</td>\n",
       "      <td>ZYG11B, ZYG11A</td>\n",
       "      <td>ENSG</td>\n",
       "    </tr>\n",
       "  </tbody>\n",
       "</table>\n",
       "<p>1617 rows × 4 columns</p>\n",
       "</div>"
      ],
      "text/plain": [
       "     collision                                            ENSG_ID  \\\n",
       "0          2F1                   ENSG00000139187, ENSG00000005022   \n",
       "1       60B8AG                   ENSG00000143546, ENSG00000163220   \n",
       "2         87U6                   ENSG00000065135, ENSG00000206832   \n",
       "3          9G8                   ENSG00000115875, ENSG00000164609   \n",
       "4           A1  ENSG00000163918, ENSG00000033627, ENSG00000049...   \n",
       "...        ...                                                ...   \n",
       "1612      ZIP4                   ENSG00000120498, ENSG00000285243   \n",
       "1613    ZNF422                   ENSG00000165512, ENSG00000172943   \n",
       "1614      ZNT8                   ENSG00000164756, ENSG00000196660   \n",
       "1615      ZRC1                   ENSG00000196660, ENSG00000170385   \n",
       "1616     ZYG11                   ENSG00000162378, ENSG00000203995   \n",
       "\n",
       "                     gene_symbol source  \n",
       "0                 KLRG1, SLC25A5   ENSG  \n",
       "1                 S100A8, S100A9   ENSG  \n",
       "2                   GNAI3, RNU6V   ENSG  \n",
       "3                    SRSF7, SLU7   ENSG  \n",
       "4     RFC4, ATP6V0A1, RFC2, RFC1   ENSG  \n",
       "...                          ...    ...  \n",
       "1612              TEX11, SLC39A4   ENSG  \n",
       "1613                 ZNF22, PHF8   ENSG  \n",
       "1614           SLC30A8, SLC30A10   ENSG  \n",
       "1615           SLC30A10, SLC30A1   ENSG  \n",
       "1616              ZYG11B, ZYG11A   ENSG  \n",
       "\n",
       "[1617 rows x 4 columns]"
      ]
     },
     "execution_count": 13,
     "metadata": {},
     "output_type": "execute_result"
    }
   ],
   "source": [
    "aa_collision_alias_ensg_df = pd.read_csv(\n",
    "    \"../created_files/aa_collision_alias_ensg_df.csv\", index_col=[0])\n",
    "aa_collision_alias_ensg_df"
   ]
  },
  {
   "cell_type": "markdown",
   "metadata": {},
   "source": [
    "### <a id='toc1_1_3_'></a>[Create a histogram displaying how frequent the numebr of gene records sharing an alias is](#toc0_)"
   ]
  },
  {
   "cell_type": "code",
   "execution_count": 14,
   "metadata": {},
   "outputs": [],
   "source": [
    "ensg_alias_symbol_set = set(subset_genes_ensg_df[\"alias_symbol\"])\n",
    "ensg_alias_count = len(ensg_alias_symbol_set)"
   ]
  },
  {
   "cell_type": "code",
   "execution_count": 15,
   "metadata": {},
   "outputs": [
    {
     "data": {
      "application/vnd.plotly.v1+json": {
       "config": {
        "plotlyServerURL": "https://plot.ly"
       },
       "data": [
        {
         "alignmentgroup": "True",
         "hovertemplate": "num_gene_records=%{x}<br>percent_collision_symbol=%{y}<extra></extra>",
         "legendgroup": "",
         "marker": {
          "color": "#636efa",
          "pattern": {
           "shape": ""
          }
         },
         "name": "",
         "offsetgroup": "",
         "orientation": "v",
         "showlegend": false,
         "textposition": "auto",
         "type": "bar",
         "x": [
          2,
          3,
          4,
          5,
          6,
          7,
          8,
          9,
          10,
          11
         ],
         "xaxis": "x",
         "y": [
          2.430586999438538,
          0.3477441906797312,
          0.081502544690562,
          0.027167514896854,
          0.023545179577273468,
          0.0054335029793708,
          0.0036223353195805334,
          0.0036223353195805334,
          0.0036223353195805334,
          0.0018111676597902667
         ],
         "yaxis": "y"
        }
       ],
       "layout": {
        "barmode": "relative",
        "legend": {
         "tracegroupgap": 0
        },
        "margin": {
         "t": 60
        },
        "template": {
         "data": {
          "bar": [
           {
            "error_x": {
             "color": "#2a3f5f"
            },
            "error_y": {
             "color": "#2a3f5f"
            },
            "marker": {
             "line": {
              "color": "#E5ECF6",
              "width": 0.5
             },
             "pattern": {
              "fillmode": "overlay",
              "size": 10,
              "solidity": 0.2
             }
            },
            "type": "bar"
           }
          ],
          "barpolar": [
           {
            "marker": {
             "line": {
              "color": "#E5ECF6",
              "width": 0.5
             },
             "pattern": {
              "fillmode": "overlay",
              "size": 10,
              "solidity": 0.2
             }
            },
            "type": "barpolar"
           }
          ],
          "carpet": [
           {
            "aaxis": {
             "endlinecolor": "#2a3f5f",
             "gridcolor": "white",
             "linecolor": "white",
             "minorgridcolor": "white",
             "startlinecolor": "#2a3f5f"
            },
            "baxis": {
             "endlinecolor": "#2a3f5f",
             "gridcolor": "white",
             "linecolor": "white",
             "minorgridcolor": "white",
             "startlinecolor": "#2a3f5f"
            },
            "type": "carpet"
           }
          ],
          "choropleth": [
           {
            "colorbar": {
             "outlinewidth": 0,
             "ticks": ""
            },
            "type": "choropleth"
           }
          ],
          "contour": [
           {
            "colorbar": {
             "outlinewidth": 0,
             "ticks": ""
            },
            "colorscale": [
             [
              0,
              "#0d0887"
             ],
             [
              0.1111111111111111,
              "#46039f"
             ],
             [
              0.2222222222222222,
              "#7201a8"
             ],
             [
              0.3333333333333333,
              "#9c179e"
             ],
             [
              0.4444444444444444,
              "#bd3786"
             ],
             [
              0.5555555555555556,
              "#d8576b"
             ],
             [
              0.6666666666666666,
              "#ed7953"
             ],
             [
              0.7777777777777778,
              "#fb9f3a"
             ],
             [
              0.8888888888888888,
              "#fdca26"
             ],
             [
              1,
              "#f0f921"
             ]
            ],
            "type": "contour"
           }
          ],
          "contourcarpet": [
           {
            "colorbar": {
             "outlinewidth": 0,
             "ticks": ""
            },
            "type": "contourcarpet"
           }
          ],
          "heatmap": [
           {
            "colorbar": {
             "outlinewidth": 0,
             "ticks": ""
            },
            "colorscale": [
             [
              0,
              "#0d0887"
             ],
             [
              0.1111111111111111,
              "#46039f"
             ],
             [
              0.2222222222222222,
              "#7201a8"
             ],
             [
              0.3333333333333333,
              "#9c179e"
             ],
             [
              0.4444444444444444,
              "#bd3786"
             ],
             [
              0.5555555555555556,
              "#d8576b"
             ],
             [
              0.6666666666666666,
              "#ed7953"
             ],
             [
              0.7777777777777778,
              "#fb9f3a"
             ],
             [
              0.8888888888888888,
              "#fdca26"
             ],
             [
              1,
              "#f0f921"
             ]
            ],
            "type": "heatmap"
           }
          ],
          "heatmapgl": [
           {
            "colorbar": {
             "outlinewidth": 0,
             "ticks": ""
            },
            "colorscale": [
             [
              0,
              "#0d0887"
             ],
             [
              0.1111111111111111,
              "#46039f"
             ],
             [
              0.2222222222222222,
              "#7201a8"
             ],
             [
              0.3333333333333333,
              "#9c179e"
             ],
             [
              0.4444444444444444,
              "#bd3786"
             ],
             [
              0.5555555555555556,
              "#d8576b"
             ],
             [
              0.6666666666666666,
              "#ed7953"
             ],
             [
              0.7777777777777778,
              "#fb9f3a"
             ],
             [
              0.8888888888888888,
              "#fdca26"
             ],
             [
              1,
              "#f0f921"
             ]
            ],
            "type": "heatmapgl"
           }
          ],
          "histogram": [
           {
            "marker": {
             "pattern": {
              "fillmode": "overlay",
              "size": 10,
              "solidity": 0.2
             }
            },
            "type": "histogram"
           }
          ],
          "histogram2d": [
           {
            "colorbar": {
             "outlinewidth": 0,
             "ticks": ""
            },
            "colorscale": [
             [
              0,
              "#0d0887"
             ],
             [
              0.1111111111111111,
              "#46039f"
             ],
             [
              0.2222222222222222,
              "#7201a8"
             ],
             [
              0.3333333333333333,
              "#9c179e"
             ],
             [
              0.4444444444444444,
              "#bd3786"
             ],
             [
              0.5555555555555556,
              "#d8576b"
             ],
             [
              0.6666666666666666,
              "#ed7953"
             ],
             [
              0.7777777777777778,
              "#fb9f3a"
             ],
             [
              0.8888888888888888,
              "#fdca26"
             ],
             [
              1,
              "#f0f921"
             ]
            ],
            "type": "histogram2d"
           }
          ],
          "histogram2dcontour": [
           {
            "colorbar": {
             "outlinewidth": 0,
             "ticks": ""
            },
            "colorscale": [
             [
              0,
              "#0d0887"
             ],
             [
              0.1111111111111111,
              "#46039f"
             ],
             [
              0.2222222222222222,
              "#7201a8"
             ],
             [
              0.3333333333333333,
              "#9c179e"
             ],
             [
              0.4444444444444444,
              "#bd3786"
             ],
             [
              0.5555555555555556,
              "#d8576b"
             ],
             [
              0.6666666666666666,
              "#ed7953"
             ],
             [
              0.7777777777777778,
              "#fb9f3a"
             ],
             [
              0.8888888888888888,
              "#fdca26"
             ],
             [
              1,
              "#f0f921"
             ]
            ],
            "type": "histogram2dcontour"
           }
          ],
          "mesh3d": [
           {
            "colorbar": {
             "outlinewidth": 0,
             "ticks": ""
            },
            "type": "mesh3d"
           }
          ],
          "parcoords": [
           {
            "line": {
             "colorbar": {
              "outlinewidth": 0,
              "ticks": ""
             }
            },
            "type": "parcoords"
           }
          ],
          "pie": [
           {
            "automargin": true,
            "type": "pie"
           }
          ],
          "scatter": [
           {
            "fillpattern": {
             "fillmode": "overlay",
             "size": 10,
             "solidity": 0.2
            },
            "type": "scatter"
           }
          ],
          "scatter3d": [
           {
            "line": {
             "colorbar": {
              "outlinewidth": 0,
              "ticks": ""
             }
            },
            "marker": {
             "colorbar": {
              "outlinewidth": 0,
              "ticks": ""
             }
            },
            "type": "scatter3d"
           }
          ],
          "scattercarpet": [
           {
            "marker": {
             "colorbar": {
              "outlinewidth": 0,
              "ticks": ""
             }
            },
            "type": "scattercarpet"
           }
          ],
          "scattergeo": [
           {
            "marker": {
             "colorbar": {
              "outlinewidth": 0,
              "ticks": ""
             }
            },
            "type": "scattergeo"
           }
          ],
          "scattergl": [
           {
            "marker": {
             "colorbar": {
              "outlinewidth": 0,
              "ticks": ""
             }
            },
            "type": "scattergl"
           }
          ],
          "scattermapbox": [
           {
            "marker": {
             "colorbar": {
              "outlinewidth": 0,
              "ticks": ""
             }
            },
            "type": "scattermapbox"
           }
          ],
          "scatterpolar": [
           {
            "marker": {
             "colorbar": {
              "outlinewidth": 0,
              "ticks": ""
             }
            },
            "type": "scatterpolar"
           }
          ],
          "scatterpolargl": [
           {
            "marker": {
             "colorbar": {
              "outlinewidth": 0,
              "ticks": ""
             }
            },
            "type": "scatterpolargl"
           }
          ],
          "scatterternary": [
           {
            "marker": {
             "colorbar": {
              "outlinewidth": 0,
              "ticks": ""
             }
            },
            "type": "scatterternary"
           }
          ],
          "surface": [
           {
            "colorbar": {
             "outlinewidth": 0,
             "ticks": ""
            },
            "colorscale": [
             [
              0,
              "#0d0887"
             ],
             [
              0.1111111111111111,
              "#46039f"
             ],
             [
              0.2222222222222222,
              "#7201a8"
             ],
             [
              0.3333333333333333,
              "#9c179e"
             ],
             [
              0.4444444444444444,
              "#bd3786"
             ],
             [
              0.5555555555555556,
              "#d8576b"
             ],
             [
              0.6666666666666666,
              "#ed7953"
             ],
             [
              0.7777777777777778,
              "#fb9f3a"
             ],
             [
              0.8888888888888888,
              "#fdca26"
             ],
             [
              1,
              "#f0f921"
             ]
            ],
            "type": "surface"
           }
          ],
          "table": [
           {
            "cells": {
             "fill": {
              "color": "#EBF0F8"
             },
             "line": {
              "color": "white"
             }
            },
            "header": {
             "fill": {
              "color": "#C8D4E3"
             },
             "line": {
              "color": "white"
             }
            },
            "type": "table"
           }
          ]
         },
         "layout": {
          "annotationdefaults": {
           "arrowcolor": "#2a3f5f",
           "arrowhead": 0,
           "arrowwidth": 1
          },
          "autotypenumbers": "strict",
          "coloraxis": {
           "colorbar": {
            "outlinewidth": 0,
            "ticks": ""
           }
          },
          "colorscale": {
           "diverging": [
            [
             0,
             "#8e0152"
            ],
            [
             0.1,
             "#c51b7d"
            ],
            [
             0.2,
             "#de77ae"
            ],
            [
             0.3,
             "#f1b6da"
            ],
            [
             0.4,
             "#fde0ef"
            ],
            [
             0.5,
             "#f7f7f7"
            ],
            [
             0.6,
             "#e6f5d0"
            ],
            [
             0.7,
             "#b8e186"
            ],
            [
             0.8,
             "#7fbc41"
            ],
            [
             0.9,
             "#4d9221"
            ],
            [
             1,
             "#276419"
            ]
           ],
           "sequential": [
            [
             0,
             "#0d0887"
            ],
            [
             0.1111111111111111,
             "#46039f"
            ],
            [
             0.2222222222222222,
             "#7201a8"
            ],
            [
             0.3333333333333333,
             "#9c179e"
            ],
            [
             0.4444444444444444,
             "#bd3786"
            ],
            [
             0.5555555555555556,
             "#d8576b"
            ],
            [
             0.6666666666666666,
             "#ed7953"
            ],
            [
             0.7777777777777778,
             "#fb9f3a"
            ],
            [
             0.8888888888888888,
             "#fdca26"
            ],
            [
             1,
             "#f0f921"
            ]
           ],
           "sequentialminus": [
            [
             0,
             "#0d0887"
            ],
            [
             0.1111111111111111,
             "#46039f"
            ],
            [
             0.2222222222222222,
             "#7201a8"
            ],
            [
             0.3333333333333333,
             "#9c179e"
            ],
            [
             0.4444444444444444,
             "#bd3786"
            ],
            [
             0.5555555555555556,
             "#d8576b"
            ],
            [
             0.6666666666666666,
             "#ed7953"
            ],
            [
             0.7777777777777778,
             "#fb9f3a"
            ],
            [
             0.8888888888888888,
             "#fdca26"
            ],
            [
             1,
             "#f0f921"
            ]
           ]
          },
          "colorway": [
           "#636efa",
           "#EF553B",
           "#00cc96",
           "#ab63fa",
           "#FFA15A",
           "#19d3f3",
           "#FF6692",
           "#B6E880",
           "#FF97FF",
           "#FECB52"
          ],
          "font": {
           "color": "#2a3f5f"
          },
          "geo": {
           "bgcolor": "white",
           "lakecolor": "white",
           "landcolor": "#E5ECF6",
           "showlakes": true,
           "showland": true,
           "subunitcolor": "white"
          },
          "hoverlabel": {
           "align": "left"
          },
          "hovermode": "closest",
          "mapbox": {
           "style": "light"
          },
          "paper_bgcolor": "white",
          "plot_bgcolor": "#E5ECF6",
          "polar": {
           "angularaxis": {
            "gridcolor": "white",
            "linecolor": "white",
            "ticks": ""
           },
           "bgcolor": "#E5ECF6",
           "radialaxis": {
            "gridcolor": "white",
            "linecolor": "white",
            "ticks": ""
           }
          },
          "scene": {
           "xaxis": {
            "backgroundcolor": "#E5ECF6",
            "gridcolor": "white",
            "gridwidth": 2,
            "linecolor": "white",
            "showbackground": true,
            "ticks": "",
            "zerolinecolor": "white"
           },
           "yaxis": {
            "backgroundcolor": "#E5ECF6",
            "gridcolor": "white",
            "gridwidth": 2,
            "linecolor": "white",
            "showbackground": true,
            "ticks": "",
            "zerolinecolor": "white"
           },
           "zaxis": {
            "backgroundcolor": "#E5ECF6",
            "gridcolor": "white",
            "gridwidth": 2,
            "linecolor": "white",
            "showbackground": true,
            "ticks": "",
            "zerolinecolor": "white"
           }
          },
          "shapedefaults": {
           "line": {
            "color": "#2a3f5f"
           }
          },
          "ternary": {
           "aaxis": {
            "gridcolor": "white",
            "linecolor": "white",
            "ticks": ""
           },
           "baxis": {
            "gridcolor": "white",
            "linecolor": "white",
            "ticks": ""
           },
           "bgcolor": "#E5ECF6",
           "caxis": {
            "gridcolor": "white",
            "linecolor": "white",
            "ticks": ""
           }
          },
          "title": {
           "x": 0.05
          },
          "xaxis": {
           "automargin": true,
           "gridcolor": "white",
           "linecolor": "white",
           "ticks": "",
           "title": {
            "standoff": 15
           },
           "zerolinecolor": "white",
           "zerolinewidth": 2
          },
          "yaxis": {
           "automargin": true,
           "gridcolor": "white",
           "linecolor": "white",
           "ticks": "",
           "title": {
            "standoff": 15
           },
           "zerolinecolor": "white",
           "zerolinewidth": 2
          }
         }
        },
        "xaxis": {
         "anchor": "y",
         "domain": [
          0,
          1
         ],
         "title": {
          "text": "num_gene_records"
         }
        },
        "yaxis": {
         "anchor": "x",
         "domain": [
          0,
          1
         ],
         "title": {
          "text": "percent_collision_symbol"
         }
        }
       }
      }
     },
     "metadata": {},
     "output_type": "display_data"
    }
   ],
   "source": [
    "create_aa_collision_histogram(aa_collision_gene_ensg_df, \"ENSG\", ensg_alias_count)"
   ]
  },
  {
   "cell_type": "code",
   "execution_count": 16,
   "metadata": {},
   "outputs": [],
   "source": [
    "aa_collision_ensg_count_df = pd.read_csv(\n",
    "    \"../created_files/aa_collision_ensg_count_df.csv\", index_col=[0])"
   ]
  },
  {
   "cell_type": "code",
   "execution_count": 17,
   "metadata": {},
   "outputs": [],
   "source": [
    "aa_collision_ensg_distribution_df = pd.read_csv(\n",
    "    \"../created_files/aa_collision_ensg_distribution_df.csv\", index_col=[0])"
   ]
  },
  {
   "cell_type": "code",
   "execution_count": 18,
   "metadata": {},
   "outputs": [],
   "source": [
    "ensg_alias_count_histogram_df = pd.read_csv(\n",
    "    \"../created_files/ensg_alias_count_histogram_df.csv\", index_col=[0])"
   ]
  },
  {
   "cell_type": "markdown",
   "metadata": {},
   "source": [
    "# <a id='toc2_'></a>[HGNC](#toc0_)"
   ]
  },
  {
   "cell_type": "code",
   "execution_count": 19,
   "metadata": {},
   "outputs": [
    {
     "data": {
      "text/html": [
       "<div>\n",
       "<style scoped>\n",
       "    .dataframe tbody tr th:only-of-type {\n",
       "        vertical-align: middle;\n",
       "    }\n",
       "\n",
       "    .dataframe tbody tr th {\n",
       "        vertical-align: top;\n",
       "    }\n",
       "\n",
       "    .dataframe thead th {\n",
       "        text-align: right;\n",
       "    }\n",
       "</style>\n",
       "<table border=\"1\" class=\"dataframe\">\n",
       "  <thead>\n",
       "    <tr style=\"text-align: right;\">\n",
       "      <th></th>\n",
       "      <th>Unnamed: 0</th>\n",
       "      <th>HGNC_ID</th>\n",
       "      <th>alias_symbol</th>\n",
       "      <th>NCBI_ID</th>\n",
       "      <th>ENSG_ID</th>\n",
       "      <th>gene_symbol</th>\n",
       "    </tr>\n",
       "  </thead>\n",
       "  <tbody>\n",
       "    <tr>\n",
       "      <th>0</th>\n",
       "      <td>0</td>\n",
       "      <td>5</td>\n",
       "      <td>NaN</td>\n",
       "      <td>1</td>\n",
       "      <td>ENSG00000121410</td>\n",
       "      <td>A1BG</td>\n",
       "    </tr>\n",
       "    <tr>\n",
       "      <th>1</th>\n",
       "      <td>1</td>\n",
       "      <td>37133</td>\n",
       "      <td>FLJ23569</td>\n",
       "      <td>503538</td>\n",
       "      <td>ENSG00000268895</td>\n",
       "      <td>A1BG-AS1</td>\n",
       "    </tr>\n",
       "    <tr>\n",
       "      <th>2</th>\n",
       "      <td>2</td>\n",
       "      <td>24086</td>\n",
       "      <td>ACF</td>\n",
       "      <td>29974</td>\n",
       "      <td>ENSG00000148584</td>\n",
       "      <td>A1CF</td>\n",
       "    </tr>\n",
       "    <tr>\n",
       "      <th>3</th>\n",
       "      <td>3</td>\n",
       "      <td>24086</td>\n",
       "      <td>ASP</td>\n",
       "      <td>29974</td>\n",
       "      <td>ENSG00000148584</td>\n",
       "      <td>A1CF</td>\n",
       "    </tr>\n",
       "    <tr>\n",
       "      <th>4</th>\n",
       "      <td>4</td>\n",
       "      <td>24086</td>\n",
       "      <td>ACF64</td>\n",
       "      <td>29974</td>\n",
       "      <td>ENSG00000148584</td>\n",
       "      <td>A1CF</td>\n",
       "    </tr>\n",
       "    <tr>\n",
       "      <th>...</th>\n",
       "      <td>...</td>\n",
       "      <td>...</td>\n",
       "      <td>...</td>\n",
       "      <td>...</td>\n",
       "      <td>...</td>\n",
       "      <td>...</td>\n",
       "    </tr>\n",
       "    <tr>\n",
       "      <th>67578</th>\n",
       "      <td>67578</td>\n",
       "      <td>29027</td>\n",
       "      <td>KIAA0399</td>\n",
       "      <td>23140</td>\n",
       "      <td>ENSG00000074755</td>\n",
       "      <td>ZZEF1</td>\n",
       "    </tr>\n",
       "    <tr>\n",
       "      <th>67579</th>\n",
       "      <td>67579</td>\n",
       "      <td>29027</td>\n",
       "      <td>ZZZ4</td>\n",
       "      <td>23140</td>\n",
       "      <td>ENSG00000074755</td>\n",
       "      <td>ZZEF1</td>\n",
       "    </tr>\n",
       "    <tr>\n",
       "      <th>67580</th>\n",
       "      <td>67580</td>\n",
       "      <td>29027</td>\n",
       "      <td>FLJ10821</td>\n",
       "      <td>23140</td>\n",
       "      <td>ENSG00000074755</td>\n",
       "      <td>ZZEF1</td>\n",
       "    </tr>\n",
       "    <tr>\n",
       "      <th>67581</th>\n",
       "      <td>67581</td>\n",
       "      <td>24523</td>\n",
       "      <td>DKFZP564I052</td>\n",
       "      <td>26009</td>\n",
       "      <td>ENSG00000036549</td>\n",
       "      <td>ZZZ3</td>\n",
       "    </tr>\n",
       "    <tr>\n",
       "      <th>67582</th>\n",
       "      <td>67582</td>\n",
       "      <td>24523</td>\n",
       "      <td>ATAC1</td>\n",
       "      <td>26009</td>\n",
       "      <td>ENSG00000036549</td>\n",
       "      <td>ZZZ3</td>\n",
       "    </tr>\n",
       "  </tbody>\n",
       "</table>\n",
       "<p>67583 rows × 6 columns</p>\n",
       "</div>"
      ],
      "text/plain": [
       "       Unnamed: 0  HGNC_ID  alias_symbol  NCBI_ID          ENSG_ID gene_symbol\n",
       "0               0        5           NaN        1  ENSG00000121410        A1BG\n",
       "1               1    37133      FLJ23569   503538  ENSG00000268895    A1BG-AS1\n",
       "2               2    24086           ACF    29974  ENSG00000148584        A1CF\n",
       "3               3    24086           ASP    29974  ENSG00000148584        A1CF\n",
       "4               4    24086         ACF64    29974  ENSG00000148584        A1CF\n",
       "...           ...      ...           ...      ...              ...         ...\n",
       "67578       67578    29027      KIAA0399    23140  ENSG00000074755       ZZEF1\n",
       "67579       67579    29027          ZZZ4    23140  ENSG00000074755       ZZEF1\n",
       "67580       67580    29027      FLJ10821    23140  ENSG00000074755       ZZEF1\n",
       "67581       67581    24523  DKFZP564I052    26009  ENSG00000036549        ZZZ3\n",
       "67582       67582    24523         ATAC1    26009  ENSG00000036549        ZZZ3\n",
       "\n",
       "[67583 rows x 6 columns]"
      ]
     },
     "execution_count": 19,
     "metadata": {},
     "output_type": "execute_result"
    }
   ],
   "source": [
    "mini_hgnc_df = pd.read_csv(\n",
    "    \"../created_files/mini_hgnc_df.csv\",\n",
    "    dtype={\"HGNC_ID\": pd.Int64Dtype(), \"NCBI_ID\": pd.Int64Dtype()},\n",
    ")\n",
    "mini_hgnc_df"
   ]
  },
  {
   "cell_type": "code",
   "execution_count": 20,
   "metadata": {},
   "outputs": [
    {
     "data": {
      "text/html": [
       "<div>\n",
       "<style scoped>\n",
       "    .dataframe tbody tr th:only-of-type {\n",
       "        vertical-align: middle;\n",
       "    }\n",
       "\n",
       "    .dataframe tbody tr th {\n",
       "        vertical-align: top;\n",
       "    }\n",
       "\n",
       "    .dataframe thead th {\n",
       "        text-align: right;\n",
       "    }\n",
       "</style>\n",
       "<table border=\"1\" class=\"dataframe\">\n",
       "  <thead>\n",
       "    <tr style=\"text-align: right;\">\n",
       "      <th></th>\n",
       "      <th>HGNC_ID</th>\n",
       "      <th>alias_symbol</th>\n",
       "      <th>NCBI_ID</th>\n",
       "      <th>ENSG_ID</th>\n",
       "      <th>gene_symbol</th>\n",
       "    </tr>\n",
       "  </thead>\n",
       "  <tbody>\n",
       "    <tr>\n",
       "      <th>1</th>\n",
       "      <td>37133</td>\n",
       "      <td>FLJ23569</td>\n",
       "      <td>503538.0</td>\n",
       "      <td>ENSG00000268895</td>\n",
       "      <td>A1BG-AS1</td>\n",
       "    </tr>\n",
       "    <tr>\n",
       "      <th>2</th>\n",
       "      <td>24086</td>\n",
       "      <td>ACF</td>\n",
       "      <td>29974.0</td>\n",
       "      <td>ENSG00000148584</td>\n",
       "      <td>A1CF</td>\n",
       "    </tr>\n",
       "    <tr>\n",
       "      <th>3</th>\n",
       "      <td>24086</td>\n",
       "      <td>ASP</td>\n",
       "      <td>29974.0</td>\n",
       "      <td>ENSG00000148584</td>\n",
       "      <td>A1CF</td>\n",
       "    </tr>\n",
       "    <tr>\n",
       "      <th>4</th>\n",
       "      <td>24086</td>\n",
       "      <td>ACF64</td>\n",
       "      <td>29974.0</td>\n",
       "      <td>ENSG00000148584</td>\n",
       "      <td>A1CF</td>\n",
       "    </tr>\n",
       "    <tr>\n",
       "      <th>5</th>\n",
       "      <td>24086</td>\n",
       "      <td>ACF65</td>\n",
       "      <td>29974.0</td>\n",
       "      <td>ENSG00000148584</td>\n",
       "      <td>A1CF</td>\n",
       "    </tr>\n",
       "    <tr>\n",
       "      <th>...</th>\n",
       "      <td>...</td>\n",
       "      <td>...</td>\n",
       "      <td>...</td>\n",
       "      <td>...</td>\n",
       "      <td>...</td>\n",
       "    </tr>\n",
       "    <tr>\n",
       "      <th>67578</th>\n",
       "      <td>29027</td>\n",
       "      <td>KIAA0399</td>\n",
       "      <td>23140.0</td>\n",
       "      <td>ENSG00000074755</td>\n",
       "      <td>ZZEF1</td>\n",
       "    </tr>\n",
       "    <tr>\n",
       "      <th>67579</th>\n",
       "      <td>29027</td>\n",
       "      <td>ZZZ4</td>\n",
       "      <td>23140.0</td>\n",
       "      <td>ENSG00000074755</td>\n",
       "      <td>ZZEF1</td>\n",
       "    </tr>\n",
       "    <tr>\n",
       "      <th>67580</th>\n",
       "      <td>29027</td>\n",
       "      <td>FLJ10821</td>\n",
       "      <td>23140.0</td>\n",
       "      <td>ENSG00000074755</td>\n",
       "      <td>ZZEF1</td>\n",
       "    </tr>\n",
       "    <tr>\n",
       "      <th>67581</th>\n",
       "      <td>24523</td>\n",
       "      <td>DKFZP564I052</td>\n",
       "      <td>26009.0</td>\n",
       "      <td>ENSG00000036549</td>\n",
       "      <td>ZZZ3</td>\n",
       "    </tr>\n",
       "    <tr>\n",
       "      <th>67582</th>\n",
       "      <td>24523</td>\n",
       "      <td>ATAC1</td>\n",
       "      <td>26009.0</td>\n",
       "      <td>ENSG00000036549</td>\n",
       "      <td>ZZZ3</td>\n",
       "    </tr>\n",
       "  </tbody>\n",
       "</table>\n",
       "<p>44542 rows × 5 columns</p>\n",
       "</div>"
      ],
      "text/plain": [
       "       HGNC_ID  alias_symbol   NCBI_ID          ENSG_ID gene_symbol\n",
       "1        37133      FLJ23569  503538.0  ENSG00000268895    A1BG-AS1\n",
       "2        24086           ACF   29974.0  ENSG00000148584        A1CF\n",
       "3        24086           ASP   29974.0  ENSG00000148584        A1CF\n",
       "4        24086         ACF64   29974.0  ENSG00000148584        A1CF\n",
       "5        24086         ACF65   29974.0  ENSG00000148584        A1CF\n",
       "...        ...           ...       ...              ...         ...\n",
       "67578    29027      KIAA0399   23140.0  ENSG00000074755       ZZEF1\n",
       "67579    29027          ZZZ4   23140.0  ENSG00000074755       ZZEF1\n",
       "67580    29027      FLJ10821   23140.0  ENSG00000074755       ZZEF1\n",
       "67581    24523  DKFZP564I052   26009.0  ENSG00000036549        ZZZ3\n",
       "67582    24523         ATAC1   26009.0  ENSG00000036549        ZZZ3\n",
       "\n",
       "[44542 rows x 5 columns]"
      ]
     },
     "execution_count": 20,
     "metadata": {},
     "output_type": "execute_result"
    }
   ],
   "source": [
    "subset_genes_hgnc_df = pd.read_csv(\n",
    "    \"../created_files/subset_genes_hgnc_df.csv\", index_col=[0])\n",
    "subset_genes_hgnc_df"
   ]
  },
  {
   "cell_type": "code",
   "execution_count": 21,
   "metadata": {},
   "outputs": [
    {
     "data": {
      "text/html": [
       "<div>\n",
       "<style scoped>\n",
       "    .dataframe tbody tr th:only-of-type {\n",
       "        vertical-align: middle;\n",
       "    }\n",
       "\n",
       "    .dataframe tbody tr th {\n",
       "        vertical-align: top;\n",
       "    }\n",
       "\n",
       "    .dataframe thead th {\n",
       "        text-align: right;\n",
       "    }\n",
       "</style>\n",
       "<table border=\"1\" class=\"dataframe\">\n",
       "  <thead>\n",
       "    <tr style=\"text-align: right;\">\n",
       "      <th></th>\n",
       "      <th>ENSG_ID</th>\n",
       "      <th>gene_symbol</th>\n",
       "      <th>HGNC_ID</th>\n",
       "      <th>alias_symbol</th>\n",
       "    </tr>\n",
       "  </thead>\n",
       "  <tbody>\n",
       "    <tr>\n",
       "      <th>0</th>\n",
       "      <td>ENSG00000000003</td>\n",
       "      <td>TSPAN6</td>\n",
       "      <td>11858</td>\n",
       "      <td>T245,TSPAN-6</td>\n",
       "    </tr>\n",
       "    <tr>\n",
       "      <th>1</th>\n",
       "      <td>ENSG00000000005</td>\n",
       "      <td>TNMD</td>\n",
       "      <td>17757</td>\n",
       "      <td>myodulin,ChM1L,tendin,TEM,BRICD4</td>\n",
       "    </tr>\n",
       "    <tr>\n",
       "      <th>2</th>\n",
       "      <td>ENSG00000000419</td>\n",
       "      <td>DPM1</td>\n",
       "      <td>3005</td>\n",
       "      <td>MPDS,CDGIE</td>\n",
       "    </tr>\n",
       "    <tr>\n",
       "      <th>3</th>\n",
       "      <td>ENSG00000000457</td>\n",
       "      <td>SCYL3</td>\n",
       "      <td>19285</td>\n",
       "      <td>PACE-1,PACE1</td>\n",
       "    </tr>\n",
       "    <tr>\n",
       "      <th>4</th>\n",
       "      <td>ENSG00000000460</td>\n",
       "      <td>FIRRM</td>\n",
       "      <td>25565</td>\n",
       "      <td>FLJ10706,Apolo1,FLIP,MEICA1</td>\n",
       "    </tr>\n",
       "    <tr>\n",
       "      <th>...</th>\n",
       "      <td>...</td>\n",
       "      <td>...</td>\n",
       "      <td>...</td>\n",
       "      <td>...</td>\n",
       "    </tr>\n",
       "    <tr>\n",
       "      <th>45641</th>\n",
       "      <td>NaN</td>\n",
       "      <td>ZNF97</td>\n",
       "      <td>13173</td>\n",
       "      <td>NaN</td>\n",
       "    </tr>\n",
       "    <tr>\n",
       "      <th>45642</th>\n",
       "      <td>NaN</td>\n",
       "      <td>ZNFP1</td>\n",
       "      <td>13181</td>\n",
       "      <td>NaN</td>\n",
       "    </tr>\n",
       "    <tr>\n",
       "      <th>45643</th>\n",
       "      <td>NaN</td>\n",
       "      <td>ZPAXP</td>\n",
       "      <td>51635</td>\n",
       "      <td>ZPX1P</td>\n",
       "    </tr>\n",
       "    <tr>\n",
       "      <th>45644</th>\n",
       "      <td>NaN</td>\n",
       "      <td>ZRK</td>\n",
       "      <td>13193</td>\n",
       "      <td>NaN</td>\n",
       "    </tr>\n",
       "    <tr>\n",
       "      <th>45645</th>\n",
       "      <td>NaN</td>\n",
       "      <td>ZWINTAS</td>\n",
       "      <td>13196</td>\n",
       "      <td>MPP5,MPHOSPH5,NCRNA00018</td>\n",
       "    </tr>\n",
       "  </tbody>\n",
       "</table>\n",
       "<p>45646 rows × 4 columns</p>\n",
       "</div>"
      ],
      "text/plain": [
       "               ENSG_ID gene_symbol  HGNC_ID                      alias_symbol\n",
       "0      ENSG00000000003      TSPAN6    11858                      T245,TSPAN-6\n",
       "1      ENSG00000000005        TNMD    17757  myodulin,ChM1L,tendin,TEM,BRICD4\n",
       "2      ENSG00000000419        DPM1     3005                        MPDS,CDGIE\n",
       "3      ENSG00000000457       SCYL3    19285                      PACE-1,PACE1\n",
       "4      ENSG00000000460       FIRRM    25565       FLJ10706,Apolo1,FLIP,MEICA1\n",
       "...                ...         ...      ...                               ...\n",
       "45641              NaN       ZNF97    13173                               NaN\n",
       "45642              NaN       ZNFP1    13181                               NaN\n",
       "45643              NaN       ZPAXP    51635                             ZPX1P\n",
       "45644              NaN         ZRK    13193                               NaN\n",
       "45645              NaN     ZWINTAS    13196          MPP5,MPHOSPH5,NCRNA00018\n",
       "\n",
       "[45646 rows x 4 columns]"
      ]
     },
     "execution_count": 21,
     "metadata": {},
     "output_type": "execute_result"
    }
   ],
   "source": [
    "merged_alias_hgnc_df = pd.read_csv(\n",
    "    \"../created_files/merged_alias_hgnc_df.csv\", index_col=[0])\n",
    "merged_alias_hgnc_df"
   ]
  },
  {
   "cell_type": "markdown",
   "metadata": {},
   "source": [
    "### <a id='toc2_1_1_'></a>[How many total unique gene records are there in HGNC](#toc0_)"
   ]
  },
  {
   "cell_type": "markdown",
   "metadata": {},
   "source": [
    "By HGNC ID"
   ]
  },
  {
   "cell_type": "code",
   "execution_count": 22,
   "metadata": {},
   "outputs": [
    {
     "data": {
      "text/plain": [
       "45646"
      ]
     },
     "execution_count": 22,
     "metadata": {},
     "output_type": "execute_result"
    }
   ],
   "source": [
    "hgnc_gene_id_set = set(mini_hgnc_df[\"HGNC_ID\"])\n",
    "len(hgnc_gene_id_set)"
   ]
  },
  {
   "cell_type": "markdown",
   "metadata": {},
   "source": [
    "### <a id='toc2_1_2_'></a>[Identify alias-alias collision symbols](#toc0_)"
   ]
  },
  {
   "cell_type": "code",
   "execution_count": 23,
   "metadata": {},
   "outputs": [
    {
     "data": {
      "text/plain": [
       "(   HGNC_ID alias_symbol   NCBI_ID          ENSG_ID gene_symbol\n",
       " 1    37133     FLJ23569  503538.0  ENSG00000268895    A1BG-AS1\n",
       " 2    24086          ACF   29974.0  ENSG00000148584        A1CF\n",
       " 3    24086          ASP   29974.0  ENSG00000148584        A1CF\n",
       " 4    24086        ACF64   29974.0  ENSG00000148584        A1CF\n",
       " 5    24086        ACF65   29974.0  ENSG00000148584        A1CF,\n",
       "   gene_symbol                                       alias_symbol  \\\n",
       " 0       KLRG1                            MAFA,2F1,MAFA-L,CLEC15A   \n",
       " 1     SLC25A5                                          T2,2F1,T3   \n",
       " 2      S100A8                  P8,MRP8,MRP-8,60B8AG,CGLA,S100-A8   \n",
       " 3      S100A9  P14,MIF,NIF,LIAG,MRP14,MAC387,60B8AG,CGLB,MRP-...   \n",
       " 4       RNU6V                                          87U6,LH87   \n",
       " \n",
       "            ENSG_ID  HGNC_ID  NCBI_ID collision source  \n",
       " 0  ENSG00000139187     6380  10219.0       2F1   HGNC  \n",
       " 1  ENSG00000005022    10991    292.0       2F1   HGNC  \n",
       " 2  ENSG00000143546    10498   6279.0    60B8AG   HGNC  \n",
       " 3  ENSG00000163220    10499   6280.0    60B8AG   HGNC  \n",
       " 4  ENSG00000206832    10230   6071.0      87U6   HGNC  ,\n",
       "   collision                                            ENSG_ID  \\\n",
       " 0       2F1                   ENSG00000139187, ENSG00000005022   \n",
       " 1    60B8AG                   ENSG00000143546, ENSG00000163220   \n",
       " 2      87U6                   ENSG00000206832, ENSG00000065135   \n",
       " 3       9G8                   ENSG00000115875, ENSG00000164609   \n",
       " 4        A1  ENSG00000033627, ENSG00000035928, ENSG00000163...   \n",
       " \n",
       "                   gene_symbol source  \n",
       " 0              KLRG1, SLC25A5   HGNC  \n",
       " 1              S100A8, S100A9   HGNC  \n",
       " 2                RNU6V, GNAI3   HGNC  \n",
       " 3                 SRSF7, SLU7   HGNC  \n",
       " 4  ATP6V0A1, RFC1, RFC4, RFC2   HGNC  )"
      ]
     },
     "execution_count": 23,
     "metadata": {},
     "output_type": "execute_result"
    }
   ],
   "source": [
    "create_aa_collision_df(subset_genes_hgnc_df, merged_alias_hgnc_df, source=\"HGNC\")"
   ]
  },
  {
   "cell_type": "code",
   "execution_count": 24,
   "metadata": {},
   "outputs": [],
   "source": [
    "subset_genes_hgnc_df = pd.read_csv(\n",
    "    \"../created_files/subset_genes_hgnc_df.csv\", index_col=[0])"
   ]
  },
  {
   "cell_type": "code",
   "execution_count": 25,
   "metadata": {},
   "outputs": [
    {
     "data": {
      "text/html": [
       "<div>\n",
       "<style scoped>\n",
       "    .dataframe tbody tr th:only-of-type {\n",
       "        vertical-align: middle;\n",
       "    }\n",
       "\n",
       "    .dataframe tbody tr th {\n",
       "        vertical-align: top;\n",
       "    }\n",
       "\n",
       "    .dataframe thead th {\n",
       "        text-align: right;\n",
       "    }\n",
       "</style>\n",
       "<table border=\"1\" class=\"dataframe\">\n",
       "  <thead>\n",
       "    <tr style=\"text-align: right;\">\n",
       "      <th></th>\n",
       "      <th>HGNC_ID</th>\n",
       "      <th>alias_symbol</th>\n",
       "      <th>NCBI_ID</th>\n",
       "      <th>ENSG_ID</th>\n",
       "      <th>gene_symbol</th>\n",
       "    </tr>\n",
       "  </thead>\n",
       "  <tbody>\n",
       "    <tr>\n",
       "      <th>36566</th>\n",
       "      <td>7959</td>\n",
       "      <td>PP2</td>\n",
       "      <td>4888.0</td>\n",
       "      <td>ENSG00000226306</td>\n",
       "      <td>NPY6R</td>\n",
       "    </tr>\n",
       "    <tr>\n",
       "      <th>36567</th>\n",
       "      <td>7959</td>\n",
       "      <td>NPY1RL</td>\n",
       "      <td>4888.0</td>\n",
       "      <td>ENSG00000226306</td>\n",
       "      <td>NPY6R</td>\n",
       "    </tr>\n",
       "    <tr>\n",
       "      <th>36568</th>\n",
       "      <td>7959</td>\n",
       "      <td>NPY6RP</td>\n",
       "      <td>4888.0</td>\n",
       "      <td>ENSG00000226306</td>\n",
       "      <td>NPY6R</td>\n",
       "    </tr>\n",
       "  </tbody>\n",
       "</table>\n",
       "</div>"
      ],
      "text/plain": [
       "       HGNC_ID alias_symbol  NCBI_ID          ENSG_ID gene_symbol\n",
       "36566     7959          PP2   4888.0  ENSG00000226306       NPY6R\n",
       "36567     7959       NPY1RL   4888.0  ENSG00000226306       NPY6R\n",
       "36568     7959       NPY6RP   4888.0  ENSG00000226306       NPY6R"
      ]
     },
     "execution_count": 25,
     "metadata": {},
     "output_type": "execute_result"
    }
   ],
   "source": [
    "subset_genes_hgnc_df.loc[subset_genes_hgnc_df[\"gene_symbol\"] == \"NPY6R\"]"
   ]
  },
  {
   "cell_type": "code",
   "execution_count": 26,
   "metadata": {},
   "outputs": [],
   "source": [
    "aa_collision_gene_hgnc_df = pd.read_csv(\n",
    "    \"../created_files/aa_collision_gene_hgnc_df.csv\", index_col=[0])"
   ]
  },
  {
   "cell_type": "code",
   "execution_count": 27,
   "metadata": {},
   "outputs": [],
   "source": [
    "aa_collision_alias_hgnc_df = pd.read_csv(\n",
    "    \"../created_files/aa_collision_alias_hgnc_df.csv\", index_col=[0])"
   ]
  },
  {
   "cell_type": "markdown",
   "metadata": {},
   "source": [
    "### <a id='toc2_1_3_'></a>[Create a histogram displaying how frequent the numebr of gene records sharing an alias is](#toc0_)"
   ]
  },
  {
   "cell_type": "code",
   "execution_count": 28,
   "metadata": {},
   "outputs": [],
   "source": [
    "hgnc_alias_symbol_set = set(subset_genes_hgnc_df[\"alias_symbol\"])\n",
    "hgnc_alias_count = len(hgnc_alias_symbol_set)"
   ]
  },
  {
   "cell_type": "code",
   "execution_count": 29,
   "metadata": {},
   "outputs": [
    {
     "data": {
      "application/vnd.plotly.v1+json": {
       "config": {
        "plotlyServerURL": "https://plot.ly"
       },
       "data": [
        {
         "alignmentgroup": "True",
         "hovertemplate": "num_gene_records=%{x}<br>percent_collision_symbol=%{y}<extra></extra>",
         "legendgroup": "",
         "marker": {
          "color": "#636efa",
          "pattern": {
           "shape": ""
          }
         },
         "name": "",
         "offsetgroup": "",
         "orientation": "v",
         "showlegend": false,
         "textposition": "auto",
         "type": "bar",
         "x": [
          2,
          3,
          4,
          5,
          6,
          7,
          9,
          10
         ],
         "xaxis": "x",
         "y": [
          2.3626450440374667,
          0.37979402581667365,
          0.09087096323221026,
          0.03961041987045063,
          0.023300246982618015,
          0.009320098793047207,
          0.004660049396523603,
          0.0023300246982618017
         ],
         "yaxis": "y"
        }
       ],
       "layout": {
        "barmode": "relative",
        "legend": {
         "tracegroupgap": 0
        },
        "margin": {
         "t": 60
        },
        "template": {
         "data": {
          "bar": [
           {
            "error_x": {
             "color": "#2a3f5f"
            },
            "error_y": {
             "color": "#2a3f5f"
            },
            "marker": {
             "line": {
              "color": "#E5ECF6",
              "width": 0.5
             },
             "pattern": {
              "fillmode": "overlay",
              "size": 10,
              "solidity": 0.2
             }
            },
            "type": "bar"
           }
          ],
          "barpolar": [
           {
            "marker": {
             "line": {
              "color": "#E5ECF6",
              "width": 0.5
             },
             "pattern": {
              "fillmode": "overlay",
              "size": 10,
              "solidity": 0.2
             }
            },
            "type": "barpolar"
           }
          ],
          "carpet": [
           {
            "aaxis": {
             "endlinecolor": "#2a3f5f",
             "gridcolor": "white",
             "linecolor": "white",
             "minorgridcolor": "white",
             "startlinecolor": "#2a3f5f"
            },
            "baxis": {
             "endlinecolor": "#2a3f5f",
             "gridcolor": "white",
             "linecolor": "white",
             "minorgridcolor": "white",
             "startlinecolor": "#2a3f5f"
            },
            "type": "carpet"
           }
          ],
          "choropleth": [
           {
            "colorbar": {
             "outlinewidth": 0,
             "ticks": ""
            },
            "type": "choropleth"
           }
          ],
          "contour": [
           {
            "colorbar": {
             "outlinewidth": 0,
             "ticks": ""
            },
            "colorscale": [
             [
              0,
              "#0d0887"
             ],
             [
              0.1111111111111111,
              "#46039f"
             ],
             [
              0.2222222222222222,
              "#7201a8"
             ],
             [
              0.3333333333333333,
              "#9c179e"
             ],
             [
              0.4444444444444444,
              "#bd3786"
             ],
             [
              0.5555555555555556,
              "#d8576b"
             ],
             [
              0.6666666666666666,
              "#ed7953"
             ],
             [
              0.7777777777777778,
              "#fb9f3a"
             ],
             [
              0.8888888888888888,
              "#fdca26"
             ],
             [
              1,
              "#f0f921"
             ]
            ],
            "type": "contour"
           }
          ],
          "contourcarpet": [
           {
            "colorbar": {
             "outlinewidth": 0,
             "ticks": ""
            },
            "type": "contourcarpet"
           }
          ],
          "heatmap": [
           {
            "colorbar": {
             "outlinewidth": 0,
             "ticks": ""
            },
            "colorscale": [
             [
              0,
              "#0d0887"
             ],
             [
              0.1111111111111111,
              "#46039f"
             ],
             [
              0.2222222222222222,
              "#7201a8"
             ],
             [
              0.3333333333333333,
              "#9c179e"
             ],
             [
              0.4444444444444444,
              "#bd3786"
             ],
             [
              0.5555555555555556,
              "#d8576b"
             ],
             [
              0.6666666666666666,
              "#ed7953"
             ],
             [
              0.7777777777777778,
              "#fb9f3a"
             ],
             [
              0.8888888888888888,
              "#fdca26"
             ],
             [
              1,
              "#f0f921"
             ]
            ],
            "type": "heatmap"
           }
          ],
          "heatmapgl": [
           {
            "colorbar": {
             "outlinewidth": 0,
             "ticks": ""
            },
            "colorscale": [
             [
              0,
              "#0d0887"
             ],
             [
              0.1111111111111111,
              "#46039f"
             ],
             [
              0.2222222222222222,
              "#7201a8"
             ],
             [
              0.3333333333333333,
              "#9c179e"
             ],
             [
              0.4444444444444444,
              "#bd3786"
             ],
             [
              0.5555555555555556,
              "#d8576b"
             ],
             [
              0.6666666666666666,
              "#ed7953"
             ],
             [
              0.7777777777777778,
              "#fb9f3a"
             ],
             [
              0.8888888888888888,
              "#fdca26"
             ],
             [
              1,
              "#f0f921"
             ]
            ],
            "type": "heatmapgl"
           }
          ],
          "histogram": [
           {
            "marker": {
             "pattern": {
              "fillmode": "overlay",
              "size": 10,
              "solidity": 0.2
             }
            },
            "type": "histogram"
           }
          ],
          "histogram2d": [
           {
            "colorbar": {
             "outlinewidth": 0,
             "ticks": ""
            },
            "colorscale": [
             [
              0,
              "#0d0887"
             ],
             [
              0.1111111111111111,
              "#46039f"
             ],
             [
              0.2222222222222222,
              "#7201a8"
             ],
             [
              0.3333333333333333,
              "#9c179e"
             ],
             [
              0.4444444444444444,
              "#bd3786"
             ],
             [
              0.5555555555555556,
              "#d8576b"
             ],
             [
              0.6666666666666666,
              "#ed7953"
             ],
             [
              0.7777777777777778,
              "#fb9f3a"
             ],
             [
              0.8888888888888888,
              "#fdca26"
             ],
             [
              1,
              "#f0f921"
             ]
            ],
            "type": "histogram2d"
           }
          ],
          "histogram2dcontour": [
           {
            "colorbar": {
             "outlinewidth": 0,
             "ticks": ""
            },
            "colorscale": [
             [
              0,
              "#0d0887"
             ],
             [
              0.1111111111111111,
              "#46039f"
             ],
             [
              0.2222222222222222,
              "#7201a8"
             ],
             [
              0.3333333333333333,
              "#9c179e"
             ],
             [
              0.4444444444444444,
              "#bd3786"
             ],
             [
              0.5555555555555556,
              "#d8576b"
             ],
             [
              0.6666666666666666,
              "#ed7953"
             ],
             [
              0.7777777777777778,
              "#fb9f3a"
             ],
             [
              0.8888888888888888,
              "#fdca26"
             ],
             [
              1,
              "#f0f921"
             ]
            ],
            "type": "histogram2dcontour"
           }
          ],
          "mesh3d": [
           {
            "colorbar": {
             "outlinewidth": 0,
             "ticks": ""
            },
            "type": "mesh3d"
           }
          ],
          "parcoords": [
           {
            "line": {
             "colorbar": {
              "outlinewidth": 0,
              "ticks": ""
             }
            },
            "type": "parcoords"
           }
          ],
          "pie": [
           {
            "automargin": true,
            "type": "pie"
           }
          ],
          "scatter": [
           {
            "fillpattern": {
             "fillmode": "overlay",
             "size": 10,
             "solidity": 0.2
            },
            "type": "scatter"
           }
          ],
          "scatter3d": [
           {
            "line": {
             "colorbar": {
              "outlinewidth": 0,
              "ticks": ""
             }
            },
            "marker": {
             "colorbar": {
              "outlinewidth": 0,
              "ticks": ""
             }
            },
            "type": "scatter3d"
           }
          ],
          "scattercarpet": [
           {
            "marker": {
             "colorbar": {
              "outlinewidth": 0,
              "ticks": ""
             }
            },
            "type": "scattercarpet"
           }
          ],
          "scattergeo": [
           {
            "marker": {
             "colorbar": {
              "outlinewidth": 0,
              "ticks": ""
             }
            },
            "type": "scattergeo"
           }
          ],
          "scattergl": [
           {
            "marker": {
             "colorbar": {
              "outlinewidth": 0,
              "ticks": ""
             }
            },
            "type": "scattergl"
           }
          ],
          "scattermapbox": [
           {
            "marker": {
             "colorbar": {
              "outlinewidth": 0,
              "ticks": ""
             }
            },
            "type": "scattermapbox"
           }
          ],
          "scatterpolar": [
           {
            "marker": {
             "colorbar": {
              "outlinewidth": 0,
              "ticks": ""
             }
            },
            "type": "scatterpolar"
           }
          ],
          "scatterpolargl": [
           {
            "marker": {
             "colorbar": {
              "outlinewidth": 0,
              "ticks": ""
             }
            },
            "type": "scatterpolargl"
           }
          ],
          "scatterternary": [
           {
            "marker": {
             "colorbar": {
              "outlinewidth": 0,
              "ticks": ""
             }
            },
            "type": "scatterternary"
           }
          ],
          "surface": [
           {
            "colorbar": {
             "outlinewidth": 0,
             "ticks": ""
            },
            "colorscale": [
             [
              0,
              "#0d0887"
             ],
             [
              0.1111111111111111,
              "#46039f"
             ],
             [
              0.2222222222222222,
              "#7201a8"
             ],
             [
              0.3333333333333333,
              "#9c179e"
             ],
             [
              0.4444444444444444,
              "#bd3786"
             ],
             [
              0.5555555555555556,
              "#d8576b"
             ],
             [
              0.6666666666666666,
              "#ed7953"
             ],
             [
              0.7777777777777778,
              "#fb9f3a"
             ],
             [
              0.8888888888888888,
              "#fdca26"
             ],
             [
              1,
              "#f0f921"
             ]
            ],
            "type": "surface"
           }
          ],
          "table": [
           {
            "cells": {
             "fill": {
              "color": "#EBF0F8"
             },
             "line": {
              "color": "white"
             }
            },
            "header": {
             "fill": {
              "color": "#C8D4E3"
             },
             "line": {
              "color": "white"
             }
            },
            "type": "table"
           }
          ]
         },
         "layout": {
          "annotationdefaults": {
           "arrowcolor": "#2a3f5f",
           "arrowhead": 0,
           "arrowwidth": 1
          },
          "autotypenumbers": "strict",
          "coloraxis": {
           "colorbar": {
            "outlinewidth": 0,
            "ticks": ""
           }
          },
          "colorscale": {
           "diverging": [
            [
             0,
             "#8e0152"
            ],
            [
             0.1,
             "#c51b7d"
            ],
            [
             0.2,
             "#de77ae"
            ],
            [
             0.3,
             "#f1b6da"
            ],
            [
             0.4,
             "#fde0ef"
            ],
            [
             0.5,
             "#f7f7f7"
            ],
            [
             0.6,
             "#e6f5d0"
            ],
            [
             0.7,
             "#b8e186"
            ],
            [
             0.8,
             "#7fbc41"
            ],
            [
             0.9,
             "#4d9221"
            ],
            [
             1,
             "#276419"
            ]
           ],
           "sequential": [
            [
             0,
             "#0d0887"
            ],
            [
             0.1111111111111111,
             "#46039f"
            ],
            [
             0.2222222222222222,
             "#7201a8"
            ],
            [
             0.3333333333333333,
             "#9c179e"
            ],
            [
             0.4444444444444444,
             "#bd3786"
            ],
            [
             0.5555555555555556,
             "#d8576b"
            ],
            [
             0.6666666666666666,
             "#ed7953"
            ],
            [
             0.7777777777777778,
             "#fb9f3a"
            ],
            [
             0.8888888888888888,
             "#fdca26"
            ],
            [
             1,
             "#f0f921"
            ]
           ],
           "sequentialminus": [
            [
             0,
             "#0d0887"
            ],
            [
             0.1111111111111111,
             "#46039f"
            ],
            [
             0.2222222222222222,
             "#7201a8"
            ],
            [
             0.3333333333333333,
             "#9c179e"
            ],
            [
             0.4444444444444444,
             "#bd3786"
            ],
            [
             0.5555555555555556,
             "#d8576b"
            ],
            [
             0.6666666666666666,
             "#ed7953"
            ],
            [
             0.7777777777777778,
             "#fb9f3a"
            ],
            [
             0.8888888888888888,
             "#fdca26"
            ],
            [
             1,
             "#f0f921"
            ]
           ]
          },
          "colorway": [
           "#636efa",
           "#EF553B",
           "#00cc96",
           "#ab63fa",
           "#FFA15A",
           "#19d3f3",
           "#FF6692",
           "#B6E880",
           "#FF97FF",
           "#FECB52"
          ],
          "font": {
           "color": "#2a3f5f"
          },
          "geo": {
           "bgcolor": "white",
           "lakecolor": "white",
           "landcolor": "#E5ECF6",
           "showlakes": true,
           "showland": true,
           "subunitcolor": "white"
          },
          "hoverlabel": {
           "align": "left"
          },
          "hovermode": "closest",
          "mapbox": {
           "style": "light"
          },
          "paper_bgcolor": "white",
          "plot_bgcolor": "#E5ECF6",
          "polar": {
           "angularaxis": {
            "gridcolor": "white",
            "linecolor": "white",
            "ticks": ""
           },
           "bgcolor": "#E5ECF6",
           "radialaxis": {
            "gridcolor": "white",
            "linecolor": "white",
            "ticks": ""
           }
          },
          "scene": {
           "xaxis": {
            "backgroundcolor": "#E5ECF6",
            "gridcolor": "white",
            "gridwidth": 2,
            "linecolor": "white",
            "showbackground": true,
            "ticks": "",
            "zerolinecolor": "white"
           },
           "yaxis": {
            "backgroundcolor": "#E5ECF6",
            "gridcolor": "white",
            "gridwidth": 2,
            "linecolor": "white",
            "showbackground": true,
            "ticks": "",
            "zerolinecolor": "white"
           },
           "zaxis": {
            "backgroundcolor": "#E5ECF6",
            "gridcolor": "white",
            "gridwidth": 2,
            "linecolor": "white",
            "showbackground": true,
            "ticks": "",
            "zerolinecolor": "white"
           }
          },
          "shapedefaults": {
           "line": {
            "color": "#2a3f5f"
           }
          },
          "ternary": {
           "aaxis": {
            "gridcolor": "white",
            "linecolor": "white",
            "ticks": ""
           },
           "baxis": {
            "gridcolor": "white",
            "linecolor": "white",
            "ticks": ""
           },
           "bgcolor": "#E5ECF6",
           "caxis": {
            "gridcolor": "white",
            "linecolor": "white",
            "ticks": ""
           }
          },
          "title": {
           "x": 0.05
          },
          "xaxis": {
           "automargin": true,
           "gridcolor": "white",
           "linecolor": "white",
           "ticks": "",
           "title": {
            "standoff": 15
           },
           "zerolinecolor": "white",
           "zerolinewidth": 2
          },
          "yaxis": {
           "automargin": true,
           "gridcolor": "white",
           "linecolor": "white",
           "ticks": "",
           "title": {
            "standoff": 15
           },
           "zerolinecolor": "white",
           "zerolinewidth": 2
          }
         }
        },
        "xaxis": {
         "anchor": "y",
         "domain": [
          0,
          1
         ],
         "title": {
          "text": "num_gene_records"
         }
        },
        "yaxis": {
         "anchor": "x",
         "domain": [
          0,
          1
         ],
         "title": {
          "text": "percent_collision_symbol"
         }
        }
       }
      }
     },
     "metadata": {},
     "output_type": "display_data"
    }
   ],
   "source": [
    "create_aa_collision_histogram(aa_collision_gene_hgnc_df, \"HGNC\", hgnc_alias_count)"
   ]
  },
  {
   "cell_type": "code",
   "execution_count": 30,
   "metadata": {},
   "outputs": [],
   "source": [
    "aa_collision_hgnc_count_df = pd.read_csv(\n",
    "    \"../created_files/aa_collision_hgnc_count_df.csv\", index_col=[0])"
   ]
  },
  {
   "cell_type": "code",
   "execution_count": 31,
   "metadata": {},
   "outputs": [],
   "source": [
    "aa_collision_hgnc_distribution_df = pd.read_csv(\n",
    "    \"../created_files/aa_collision_hgnc_distribution_df.csv\", index_col=[0])"
   ]
  },
  {
   "cell_type": "code",
   "execution_count": 32,
   "metadata": {},
   "outputs": [],
   "source": [
    "hgnc_alias_count_histogram_df = pd.read_csv(\n",
    "    \"../created_files/hgnc_alias_count_histogram_df.csv\", index_col=[0])"
   ]
  },
  {
   "cell_type": "markdown",
   "metadata": {},
   "source": [
    "# <a id='toc3_'></a>[NCBI Info](#toc0_)"
   ]
  },
  {
   "cell_type": "code",
   "execution_count": 33,
   "metadata": {},
   "outputs": [
    {
     "data": {
      "text/html": [
       "<div>\n",
       "<style scoped>\n",
       "    .dataframe tbody tr th:only-of-type {\n",
       "        vertical-align: middle;\n",
       "    }\n",
       "\n",
       "    .dataframe tbody tr th {\n",
       "        vertical-align: top;\n",
       "    }\n",
       "\n",
       "    .dataframe thead th {\n",
       "        text-align: right;\n",
       "    }\n",
       "</style>\n",
       "<table border=\"1\" class=\"dataframe\">\n",
       "  <thead>\n",
       "    <tr style=\"text-align: right;\">\n",
       "      <th></th>\n",
       "      <th>Unnamed: 0</th>\n",
       "      <th>NCBI_ID</th>\n",
       "      <th>gene_symbol</th>\n",
       "      <th>alias_symbol</th>\n",
       "      <th>HGNC_ID</th>\n",
       "      <th>ENSG_ID</th>\n",
       "    </tr>\n",
       "  </thead>\n",
       "  <tbody>\n",
       "    <tr>\n",
       "      <th>0</th>\n",
       "      <td>0</td>\n",
       "      <td>1</td>\n",
       "      <td>A1BG</td>\n",
       "      <td>A1B</td>\n",
       "      <td>5</td>\n",
       "      <td>ENSG00000121410</td>\n",
       "    </tr>\n",
       "    <tr>\n",
       "      <th>1</th>\n",
       "      <td>0</td>\n",
       "      <td>1</td>\n",
       "      <td>A1BG</td>\n",
       "      <td>ABG</td>\n",
       "      <td>5</td>\n",
       "      <td>ENSG00000121410</td>\n",
       "    </tr>\n",
       "    <tr>\n",
       "      <th>2</th>\n",
       "      <td>0</td>\n",
       "      <td>1</td>\n",
       "      <td>A1BG</td>\n",
       "      <td>GAB</td>\n",
       "      <td>5</td>\n",
       "      <td>ENSG00000121410</td>\n",
       "    </tr>\n",
       "    <tr>\n",
       "      <th>3</th>\n",
       "      <td>0</td>\n",
       "      <td>1</td>\n",
       "      <td>A1BG</td>\n",
       "      <td>HYST2477</td>\n",
       "      <td>5</td>\n",
       "      <td>ENSG00000121410</td>\n",
       "    </tr>\n",
       "    <tr>\n",
       "      <th>4</th>\n",
       "      <td>1</td>\n",
       "      <td>2</td>\n",
       "      <td>A2M</td>\n",
       "      <td>A2MD</td>\n",
       "      <td>7</td>\n",
       "      <td>ENSG00000175899</td>\n",
       "    </tr>\n",
       "    <tr>\n",
       "      <th>...</th>\n",
       "      <td>...</td>\n",
       "      <td>...</td>\n",
       "      <td>...</td>\n",
       "      <td>...</td>\n",
       "      <td>...</td>\n",
       "      <td>...</td>\n",
       "    </tr>\n",
       "    <tr>\n",
       "      <th>239924</th>\n",
       "      <td>193451</td>\n",
       "      <td>8923215</td>\n",
       "      <td>trnD</td>\n",
       "      <td>-</td>\n",
       "      <td>&lt;NA&gt;</td>\n",
       "      <td>NaN</td>\n",
       "    </tr>\n",
       "    <tr>\n",
       "      <th>239925</th>\n",
       "      <td>193452</td>\n",
       "      <td>8923216</td>\n",
       "      <td>trnP</td>\n",
       "      <td>-</td>\n",
       "      <td>&lt;NA&gt;</td>\n",
       "      <td>NaN</td>\n",
       "    </tr>\n",
       "    <tr>\n",
       "      <th>239926</th>\n",
       "      <td>193453</td>\n",
       "      <td>8923217</td>\n",
       "      <td>trnA</td>\n",
       "      <td>-</td>\n",
       "      <td>&lt;NA&gt;</td>\n",
       "      <td>NaN</td>\n",
       "    </tr>\n",
       "    <tr>\n",
       "      <th>239927</th>\n",
       "      <td>193454</td>\n",
       "      <td>8923218</td>\n",
       "      <td>COX1</td>\n",
       "      <td>-</td>\n",
       "      <td>&lt;NA&gt;</td>\n",
       "      <td>NaN</td>\n",
       "    </tr>\n",
       "    <tr>\n",
       "      <th>239928</th>\n",
       "      <td>193455</td>\n",
       "      <td>8923219</td>\n",
       "      <td>16S rRNA</td>\n",
       "      <td>-</td>\n",
       "      <td>&lt;NA&gt;</td>\n",
       "      <td>NaN</td>\n",
       "    </tr>\n",
       "  </tbody>\n",
       "</table>\n",
       "<p>239929 rows × 6 columns</p>\n",
       "</div>"
      ],
      "text/plain": [
       "        Unnamed: 0  NCBI_ID gene_symbol alias_symbol  HGNC_ID          ENSG_ID\n",
       "0                0        1        A1BG          A1B        5  ENSG00000121410\n",
       "1                0        1        A1BG          ABG        5  ENSG00000121410\n",
       "2                0        1        A1BG          GAB        5  ENSG00000121410\n",
       "3                0        1        A1BG     HYST2477        5  ENSG00000121410\n",
       "4                1        2         A2M         A2MD        7  ENSG00000175899\n",
       "...            ...      ...         ...          ...      ...              ...\n",
       "239924      193451  8923215        trnD            -     <NA>              NaN\n",
       "239925      193452  8923216        trnP            -     <NA>              NaN\n",
       "239926      193453  8923217        trnA            -     <NA>              NaN\n",
       "239927      193454  8923218        COX1            -     <NA>              NaN\n",
       "239928      193455  8923219    16S rRNA            -     <NA>              NaN\n",
       "\n",
       "[239929 rows x 6 columns]"
      ]
     },
     "execution_count": 33,
     "metadata": {},
     "output_type": "execute_result"
    }
   ],
   "source": [
    "mini_ncbi_df = pd.read_csv(\n",
    "    \"../created_files/mini_ncbi_df.csv\",\n",
    "    dtype={\"HGNC_ID\": pd.Int64Dtype(), \"NCBI_ID\": pd.Int64Dtype()},\n",
    ")\n",
    "mini_ncbi_df"
   ]
  },
  {
   "cell_type": "code",
   "execution_count": 34,
   "metadata": {},
   "outputs": [
    {
     "data": {
      "text/html": [
       "<div>\n",
       "<style scoped>\n",
       "    .dataframe tbody tr th:only-of-type {\n",
       "        vertical-align: middle;\n",
       "    }\n",
       "\n",
       "    .dataframe tbody tr th {\n",
       "        vertical-align: top;\n",
       "    }\n",
       "\n",
       "    .dataframe thead th {\n",
       "        text-align: right;\n",
       "    }\n",
       "</style>\n",
       "<table border=\"1\" class=\"dataframe\">\n",
       "  <thead>\n",
       "    <tr style=\"text-align: right;\">\n",
       "      <th></th>\n",
       "      <th>NCBI_ID</th>\n",
       "      <th>gene_symbol</th>\n",
       "      <th>alias_symbol</th>\n",
       "      <th>HGNC_ID</th>\n",
       "      <th>ENSG_ID</th>\n",
       "    </tr>\n",
       "  </thead>\n",
       "  <tbody>\n",
       "    <tr>\n",
       "      <th>0</th>\n",
       "      <td>1</td>\n",
       "      <td>A1BG</td>\n",
       "      <td>A1B</td>\n",
       "      <td>5.0</td>\n",
       "      <td>ENSG00000121410</td>\n",
       "    </tr>\n",
       "    <tr>\n",
       "      <th>0</th>\n",
       "      <td>1</td>\n",
       "      <td>A1BG</td>\n",
       "      <td>ABG</td>\n",
       "      <td>5.0</td>\n",
       "      <td>ENSG00000121410</td>\n",
       "    </tr>\n",
       "    <tr>\n",
       "      <th>0</th>\n",
       "      <td>1</td>\n",
       "      <td>A1BG</td>\n",
       "      <td>GAB</td>\n",
       "      <td>5.0</td>\n",
       "      <td>ENSG00000121410</td>\n",
       "    </tr>\n",
       "    <tr>\n",
       "      <th>0</th>\n",
       "      <td>1</td>\n",
       "      <td>A1BG</td>\n",
       "      <td>HYST2477</td>\n",
       "      <td>5.0</td>\n",
       "      <td>ENSG00000121410</td>\n",
       "    </tr>\n",
       "    <tr>\n",
       "      <th>1</th>\n",
       "      <td>2</td>\n",
       "      <td>A2M</td>\n",
       "      <td>A2MD</td>\n",
       "      <td>7.0</td>\n",
       "      <td>ENSG00000175899</td>\n",
       "    </tr>\n",
       "    <tr>\n",
       "      <th>...</th>\n",
       "      <td>...</td>\n",
       "      <td>...</td>\n",
       "      <td>...</td>\n",
       "      <td>...</td>\n",
       "      <td>...</td>\n",
       "    </tr>\n",
       "    <tr>\n",
       "      <th>190961</th>\n",
       "      <td>131840634</td>\n",
       "      <td>GLTC1</td>\n",
       "      <td>GLTC</td>\n",
       "      <td>56861.0</td>\n",
       "      <td>NaN</td>\n",
       "    </tr>\n",
       "    <tr>\n",
       "      <th>193342</th>\n",
       "      <td>132532400</td>\n",
       "      <td>GABRA6-AS1</td>\n",
       "      <td>ARBAG</td>\n",
       "      <td>40248.0</td>\n",
       "      <td>NaN</td>\n",
       "    </tr>\n",
       "    <tr>\n",
       "      <th>193377</th>\n",
       "      <td>133395150</td>\n",
       "      <td>LNCARGI</td>\n",
       "      <td>ARGI</td>\n",
       "      <td>56890.0</td>\n",
       "      <td>NaN</td>\n",
       "    </tr>\n",
       "    <tr>\n",
       "      <th>193378</th>\n",
       "      <td>133834869</td>\n",
       "      <td>MLDHR</td>\n",
       "      <td>MP31</td>\n",
       "      <td>55481.0</td>\n",
       "      <td>NaN</td>\n",
       "    </tr>\n",
       "    <tr>\n",
       "      <th>193378</th>\n",
       "      <td>133834869</td>\n",
       "      <td>MLDHR</td>\n",
       "      <td>PTENURF</td>\n",
       "      <td>55481.0</td>\n",
       "      <td>NaN</td>\n",
       "    </tr>\n",
       "  </tbody>\n",
       "</table>\n",
       "<p>74051 rows × 5 columns</p>\n",
       "</div>"
      ],
      "text/plain": [
       "          NCBI_ID gene_symbol alias_symbol  HGNC_ID          ENSG_ID\n",
       "0               1        A1BG          A1B      5.0  ENSG00000121410\n",
       "0               1        A1BG          ABG      5.0  ENSG00000121410\n",
       "0               1        A1BG          GAB      5.0  ENSG00000121410\n",
       "0               1        A1BG     HYST2477      5.0  ENSG00000121410\n",
       "1               2         A2M         A2MD      7.0  ENSG00000175899\n",
       "...           ...         ...          ...      ...              ...\n",
       "190961  131840634       GLTC1         GLTC  56861.0              NaN\n",
       "193342  132532400  GABRA6-AS1        ARBAG  40248.0              NaN\n",
       "193377  133395150     LNCARGI         ARGI  56890.0              NaN\n",
       "193378  133834869       MLDHR         MP31  55481.0              NaN\n",
       "193378  133834869       MLDHR      PTENURF  55481.0              NaN\n",
       "\n",
       "[74051 rows x 5 columns]"
      ]
     },
     "execution_count": 34,
     "metadata": {},
     "output_type": "execute_result"
    }
   ],
   "source": [
    "subset_genes_ncbi_df = pd.read_csv(\n",
    "    \"../created_files/subset_genes_ncbi_df.csv\", index_col=[0])\n",
    "subset_genes_ncbi_df"
   ]
  },
  {
   "cell_type": "code",
   "execution_count": 35,
   "metadata": {},
   "outputs": [
    {
     "name": "stderr",
     "output_type": "stream",
     "text": [
      "/var/folders/vt/znzp_c6s02q6kjcmqfk0cb500000gq/T/ipykernel_46620/1280557483.py:1: DtypeWarning:\n",
      "\n",
      "Columns (1) have mixed types. Specify dtype option on import or set low_memory=False.\n",
      "\n"
     ]
    },
    {
     "data": {
      "text/html": [
       "<div>\n",
       "<style scoped>\n",
       "    .dataframe tbody tr th:only-of-type {\n",
       "        vertical-align: middle;\n",
       "    }\n",
       "\n",
       "    .dataframe tbody tr th {\n",
       "        vertical-align: top;\n",
       "    }\n",
       "\n",
       "    .dataframe thead th {\n",
       "        text-align: right;\n",
       "    }\n",
       "</style>\n",
       "<table border=\"1\" class=\"dataframe\">\n",
       "  <thead>\n",
       "    <tr style=\"text-align: right;\">\n",
       "      <th></th>\n",
       "      <th>ENSG_ID</th>\n",
       "      <th>gene_symbol</th>\n",
       "      <th>HGNC_ID</th>\n",
       "      <th>alias_symbol</th>\n",
       "    </tr>\n",
       "  </thead>\n",
       "  <tbody>\n",
       "    <tr>\n",
       "      <th>0</th>\n",
       "      <td>ENSG00000000003</td>\n",
       "      <td>TSPAN6</td>\n",
       "      <td>11858.0</td>\n",
       "      <td>T245,TM4SF6,TSPAN-6</td>\n",
       "    </tr>\n",
       "    <tr>\n",
       "      <th>1</th>\n",
       "      <td>ENSG00000000005</td>\n",
       "      <td>TNMD</td>\n",
       "      <td>17757.0</td>\n",
       "      <td>BRICD4,CHM1L,TEM</td>\n",
       "    </tr>\n",
       "    <tr>\n",
       "      <th>2</th>\n",
       "      <td>ENSG00000000419</td>\n",
       "      <td>DPM1</td>\n",
       "      <td>3005.0</td>\n",
       "      <td>CDGIE,MPDS</td>\n",
       "    </tr>\n",
       "    <tr>\n",
       "      <th>3</th>\n",
       "      <td>ENSG00000000457</td>\n",
       "      <td>SCYL3</td>\n",
       "      <td>19285.0</td>\n",
       "      <td>PACE-1,PACE1</td>\n",
       "    </tr>\n",
       "    <tr>\n",
       "      <th>4</th>\n",
       "      <td>ENSG00000000460</td>\n",
       "      <td>FIRRM</td>\n",
       "      <td>25565.0</td>\n",
       "      <td>Apolo1,C1orf112,FLIP,MEICA1</td>\n",
       "    </tr>\n",
       "    <tr>\n",
       "      <th>...</th>\n",
       "      <td>...</td>\n",
       "      <td>...</td>\n",
       "      <td>...</td>\n",
       "      <td>...</td>\n",
       "    </tr>\n",
       "    <tr>\n",
       "      <th>193316</th>\n",
       "      <td>NaN</td>\n",
       "      <td>trnS</td>\n",
       "      <td>NaN</td>\n",
       "      <td>-,-,-,-</td>\n",
       "    </tr>\n",
       "    <tr>\n",
       "      <th>193317</th>\n",
       "      <td>NaN</td>\n",
       "      <td>trnT</td>\n",
       "      <td>NaN</td>\n",
       "      <td>-,-</td>\n",
       "    </tr>\n",
       "    <tr>\n",
       "      <th>193318</th>\n",
       "      <td>NaN</td>\n",
       "      <td>trnV</td>\n",
       "      <td>NaN</td>\n",
       "      <td>-,-</td>\n",
       "    </tr>\n",
       "    <tr>\n",
       "      <th>193319</th>\n",
       "      <td>NaN</td>\n",
       "      <td>trnW</td>\n",
       "      <td>NaN</td>\n",
       "      <td>-,-</td>\n",
       "    </tr>\n",
       "    <tr>\n",
       "      <th>193320</th>\n",
       "      <td>NaN</td>\n",
       "      <td>trnY</td>\n",
       "      <td>NaN</td>\n",
       "      <td>-,-</td>\n",
       "    </tr>\n",
       "  </tbody>\n",
       "</table>\n",
       "<p>193321 rows × 4 columns</p>\n",
       "</div>"
      ],
      "text/plain": [
       "                ENSG_ID gene_symbol  HGNC_ID                 alias_symbol\n",
       "0       ENSG00000000003      TSPAN6  11858.0          T245,TM4SF6,TSPAN-6\n",
       "1       ENSG00000000005        TNMD  17757.0             BRICD4,CHM1L,TEM\n",
       "2       ENSG00000000419        DPM1   3005.0                   CDGIE,MPDS\n",
       "3       ENSG00000000457       SCYL3  19285.0                 PACE-1,PACE1\n",
       "4       ENSG00000000460       FIRRM  25565.0  Apolo1,C1orf112,FLIP,MEICA1\n",
       "...                 ...         ...      ...                          ...\n",
       "193316              NaN        trnS      NaN                      -,-,-,-\n",
       "193317              NaN        trnT      NaN                          -,-\n",
       "193318              NaN        trnV      NaN                          -,-\n",
       "193319              NaN        trnW      NaN                          -,-\n",
       "193320              NaN        trnY      NaN                          -,-\n",
       "\n",
       "[193321 rows x 4 columns]"
      ]
     },
     "execution_count": 35,
     "metadata": {},
     "output_type": "execute_result"
    }
   ],
   "source": [
    "merged_alias_ncbi_df = pd.read_csv(\n",
    "    \"../created_files/merged_alias_ncbi_df.csv\", index_col=[0])\n",
    "merged_alias_ncbi_df"
   ]
  },
  {
   "cell_type": "markdown",
   "metadata": {},
   "source": [
    "### <a id='toc3_1_1_'></a>[How many total unique gene records are there in NCBI Gene](#toc0_)"
   ]
  },
  {
   "cell_type": "markdown",
   "metadata": {},
   "source": [
    "By ENSG ID"
   ]
  },
  {
   "cell_type": "code",
   "execution_count": 36,
   "metadata": {},
   "outputs": [
    {
     "data": {
      "text/plain": [
       "36803"
      ]
     },
     "execution_count": 36,
     "metadata": {},
     "output_type": "execute_result"
    }
   ],
   "source": [
    "ncbi_gene_id_set = set(mini_ncbi_df[\"ENSG_ID\"])\n",
    "len(ncbi_gene_id_set)"
   ]
  },
  {
   "cell_type": "markdown",
   "metadata": {},
   "source": [
    "### <a id='toc3_1_2_'></a>[Identify alias-alias collision symbols](#toc0_)"
   ]
  },
  {
   "cell_type": "code",
   "execution_count": 37,
   "metadata": {},
   "outputs": [
    {
     "data": {
      "text/plain": [
       "(   NCBI_ID gene_symbol alias_symbol  HGNC_ID          ENSG_ID\n",
       " 0        1        A1BG          A1B      5.0  ENSG00000121410\n",
       " 0        1        A1BG          ABG      5.0  ENSG00000121410\n",
       " 0        1        A1BG          GAB      5.0  ENSG00000121410\n",
       " 0        1        A1BG     HYST2477      5.0  ENSG00000121410\n",
       " 1        2         A2M         A2MD      7.0  ENSG00000175899,\n",
       "   gene_symbol                                       alias_symbol  \\\n",
       " 0        PTEN  10q23del,BZS,CWS1,DEC,GLM2,MHAM,MMAC1,PTEN1,PT...   \n",
       " 1      BMPR1A     10q23del,ACVRLK3,ALK-3,ALK3,BMPR-1A,CD292,SKR5   \n",
       " 2      ALOX15                       12-LOX,15-LOX,15-LOX-1,LOG15   \n",
       " 3      ALOX12                               12-LOX,12S-LOX,LOG12   \n",
       " 4      AKR1C1  2-ALPHA-HSD,20-ALPHA-HSD,C9,DD1,DD1/DD2,DDH,DD...   \n",
       " \n",
       "            ENSG_ID  HGNC_ID  NCBI_ID     collision source  \n",
       " 0  ENSG00000171862   9588.0     5728      10Q23DEL   NCBI  \n",
       " 1  ENSG00000107779   1076.0      657      10Q23DEL   NCBI  \n",
       " 2  ENSG00000161905    433.0      246        12-LOX   NCBI  \n",
       " 3  ENSG00000108839    429.0      239        12-LOX   NCBI  \n",
       " 4  ENSG00000187134    384.0     1645  20-ALPHA-HSD   NCBI  ,\n",
       "       collision                           ENSG_ID      gene_symbol source\n",
       " 0      10Q23DEL  ENSG00000171862, ENSG00000107779     PTEN, BMPR1A   NCBI\n",
       " 1        12-LOX  ENSG00000161905, ENSG00000108839   ALOX15, ALOX12   NCBI\n",
       " 2  20-ALPHA-HSD  ENSG00000187134, ENSG00000108786  AKR1C1, HSD17B1   NCBI\n",
       " 3           2F1  ENSG00000139187, ENSG00000005022   KLRG1, SLC25A5   NCBI\n",
       " 4   3-ALPHA-HSD  ENSG00000198610, ENSG00000073737    AKR1C4, DHRS9   NCBI)"
      ]
     },
     "execution_count": 37,
     "metadata": {},
     "output_type": "execute_result"
    }
   ],
   "source": [
    "create_aa_collision_df(subset_genes_ncbi_df, merged_alias_ncbi_df, source=\"NCBI\")"
   ]
  },
  {
   "cell_type": "code",
   "execution_count": 38,
   "metadata": {},
   "outputs": [
    {
     "data": {
      "text/html": [
       "<div>\n",
       "<style scoped>\n",
       "    .dataframe tbody tr th:only-of-type {\n",
       "        vertical-align: middle;\n",
       "    }\n",
       "\n",
       "    .dataframe tbody tr th {\n",
       "        vertical-align: top;\n",
       "    }\n",
       "\n",
       "    .dataframe thead th {\n",
       "        text-align: right;\n",
       "    }\n",
       "</style>\n",
       "<table border=\"1\" class=\"dataframe\">\n",
       "  <thead>\n",
       "    <tr style=\"text-align: right;\">\n",
       "      <th></th>\n",
       "      <th>NCBI_ID</th>\n",
       "      <th>gene_symbol</th>\n",
       "      <th>alias_symbol</th>\n",
       "      <th>HGNC_ID</th>\n",
       "      <th>ENSG_ID</th>\n",
       "    </tr>\n",
       "  </thead>\n",
       "  <tbody>\n",
       "    <tr>\n",
       "      <th>0</th>\n",
       "      <td>1</td>\n",
       "      <td>A1BG</td>\n",
       "      <td>A1B</td>\n",
       "      <td>5.0</td>\n",
       "      <td>ENSG00000121410</td>\n",
       "    </tr>\n",
       "    <tr>\n",
       "      <th>0</th>\n",
       "      <td>1</td>\n",
       "      <td>A1BG</td>\n",
       "      <td>ABG</td>\n",
       "      <td>5.0</td>\n",
       "      <td>ENSG00000121410</td>\n",
       "    </tr>\n",
       "    <tr>\n",
       "      <th>0</th>\n",
       "      <td>1</td>\n",
       "      <td>A1BG</td>\n",
       "      <td>GAB</td>\n",
       "      <td>5.0</td>\n",
       "      <td>ENSG00000121410</td>\n",
       "    </tr>\n",
       "    <tr>\n",
       "      <th>0</th>\n",
       "      <td>1</td>\n",
       "      <td>A1BG</td>\n",
       "      <td>HYST2477</td>\n",
       "      <td>5.0</td>\n",
       "      <td>ENSG00000121410</td>\n",
       "    </tr>\n",
       "    <tr>\n",
       "      <th>1</th>\n",
       "      <td>2</td>\n",
       "      <td>A2M</td>\n",
       "      <td>A2MD</td>\n",
       "      <td>7.0</td>\n",
       "      <td>ENSG00000175899</td>\n",
       "    </tr>\n",
       "    <tr>\n",
       "      <th>...</th>\n",
       "      <td>...</td>\n",
       "      <td>...</td>\n",
       "      <td>...</td>\n",
       "      <td>...</td>\n",
       "      <td>...</td>\n",
       "    </tr>\n",
       "    <tr>\n",
       "      <th>190961</th>\n",
       "      <td>131840634</td>\n",
       "      <td>GLTC1</td>\n",
       "      <td>GLTC</td>\n",
       "      <td>56861.0</td>\n",
       "      <td>NaN</td>\n",
       "    </tr>\n",
       "    <tr>\n",
       "      <th>193342</th>\n",
       "      <td>132532400</td>\n",
       "      <td>GABRA6-AS1</td>\n",
       "      <td>ARBAG</td>\n",
       "      <td>40248.0</td>\n",
       "      <td>NaN</td>\n",
       "    </tr>\n",
       "    <tr>\n",
       "      <th>193377</th>\n",
       "      <td>133395150</td>\n",
       "      <td>LNCARGI</td>\n",
       "      <td>ARGI</td>\n",
       "      <td>56890.0</td>\n",
       "      <td>NaN</td>\n",
       "    </tr>\n",
       "    <tr>\n",
       "      <th>193378</th>\n",
       "      <td>133834869</td>\n",
       "      <td>MLDHR</td>\n",
       "      <td>MP31</td>\n",
       "      <td>55481.0</td>\n",
       "      <td>NaN</td>\n",
       "    </tr>\n",
       "    <tr>\n",
       "      <th>193378</th>\n",
       "      <td>133834869</td>\n",
       "      <td>MLDHR</td>\n",
       "      <td>PTENURF</td>\n",
       "      <td>55481.0</td>\n",
       "      <td>NaN</td>\n",
       "    </tr>\n",
       "  </tbody>\n",
       "</table>\n",
       "<p>74051 rows × 5 columns</p>\n",
       "</div>"
      ],
      "text/plain": [
       "          NCBI_ID gene_symbol alias_symbol  HGNC_ID          ENSG_ID\n",
       "0               1        A1BG          A1B      5.0  ENSG00000121410\n",
       "0               1        A1BG          ABG      5.0  ENSG00000121410\n",
       "0               1        A1BG          GAB      5.0  ENSG00000121410\n",
       "0               1        A1BG     HYST2477      5.0  ENSG00000121410\n",
       "1               2         A2M         A2MD      7.0  ENSG00000175899\n",
       "...           ...         ...          ...      ...              ...\n",
       "190961  131840634       GLTC1         GLTC  56861.0              NaN\n",
       "193342  132532400  GABRA6-AS1        ARBAG  40248.0              NaN\n",
       "193377  133395150     LNCARGI         ARGI  56890.0              NaN\n",
       "193378  133834869       MLDHR         MP31  55481.0              NaN\n",
       "193378  133834869       MLDHR      PTENURF  55481.0              NaN\n",
       "\n",
       "[74051 rows x 5 columns]"
      ]
     },
     "execution_count": 38,
     "metadata": {},
     "output_type": "execute_result"
    }
   ],
   "source": [
    "subset_genes_ncbi_df = pd.read_csv(\n",
    "    \"../created_files/subset_genes_ncbi_df.csv\", index_col=[0])\n",
    "subset_genes_ncbi_df"
   ]
  },
  {
   "cell_type": "code",
   "execution_count": 39,
   "metadata": {},
   "outputs": [
    {
     "data": {
      "text/html": [
       "<div>\n",
       "<style scoped>\n",
       "    .dataframe tbody tr th:only-of-type {\n",
       "        vertical-align: middle;\n",
       "    }\n",
       "\n",
       "    .dataframe tbody tr th {\n",
       "        vertical-align: top;\n",
       "    }\n",
       "\n",
       "    .dataframe thead th {\n",
       "        text-align: right;\n",
       "    }\n",
       "</style>\n",
       "<table border=\"1\" class=\"dataframe\">\n",
       "  <thead>\n",
       "    <tr style=\"text-align: right;\">\n",
       "      <th></th>\n",
       "      <th>gene_symbol</th>\n",
       "      <th>alias_symbol</th>\n",
       "      <th>ENSG_ID</th>\n",
       "      <th>HGNC_ID</th>\n",
       "      <th>NCBI_ID</th>\n",
       "      <th>collision</th>\n",
       "      <th>source</th>\n",
       "    </tr>\n",
       "  </thead>\n",
       "  <tbody>\n",
       "    <tr>\n",
       "      <th>0</th>\n",
       "      <td>PTEN</td>\n",
       "      <td>10q23del,BZS,CWS1,DEC,GLM2,MHAM,MMAC1,PTEN1,PT...</td>\n",
       "      <td>ENSG00000171862</td>\n",
       "      <td>9588.0</td>\n",
       "      <td>5728</td>\n",
       "      <td>10Q23DEL</td>\n",
       "      <td>NCBI</td>\n",
       "    </tr>\n",
       "    <tr>\n",
       "      <th>1</th>\n",
       "      <td>BMPR1A</td>\n",
       "      <td>10q23del,ACVRLK3,ALK-3,ALK3,BMPR-1A,CD292,SKR5</td>\n",
       "      <td>ENSG00000107779</td>\n",
       "      <td>1076.0</td>\n",
       "      <td>657</td>\n",
       "      <td>10Q23DEL</td>\n",
       "      <td>NCBI</td>\n",
       "    </tr>\n",
       "    <tr>\n",
       "      <th>2</th>\n",
       "      <td>ALOX15</td>\n",
       "      <td>12-LOX,15-LOX,15-LOX-1,LOG15</td>\n",
       "      <td>ENSG00000161905</td>\n",
       "      <td>433.0</td>\n",
       "      <td>246</td>\n",
       "      <td>12-LOX</td>\n",
       "      <td>NCBI</td>\n",
       "    </tr>\n",
       "    <tr>\n",
       "      <th>3</th>\n",
       "      <td>ALOX12</td>\n",
       "      <td>12-LOX,12S-LOX,LOG12</td>\n",
       "      <td>ENSG00000108839</td>\n",
       "      <td>429.0</td>\n",
       "      <td>239</td>\n",
       "      <td>12-LOX</td>\n",
       "      <td>NCBI</td>\n",
       "    </tr>\n",
       "    <tr>\n",
       "      <th>4</th>\n",
       "      <td>AKR1C1</td>\n",
       "      <td>2-ALPHA-HSD,20-ALPHA-HSD,C9,DD1,DD1/DD2,DDH,DD...</td>\n",
       "      <td>ENSG00000187134</td>\n",
       "      <td>384.0</td>\n",
       "      <td>1645</td>\n",
       "      <td>20-ALPHA-HSD</td>\n",
       "      <td>NCBI</td>\n",
       "    </tr>\n",
       "    <tr>\n",
       "      <th>...</th>\n",
       "      <td>...</td>\n",
       "      <td>...</td>\n",
       "      <td>...</td>\n",
       "      <td>...</td>\n",
       "      <td>...</td>\n",
       "      <td>...</td>\n",
       "      <td>...</td>\n",
       "    </tr>\n",
       "    <tr>\n",
       "      <th>8986</th>\n",
       "      <td>SLC30A10</td>\n",
       "      <td>HMDPC,HMNDYT1,ZNT10,ZNT8,ZRC1,ZnT-10</td>\n",
       "      <td>ENSG00000196660</td>\n",
       "      <td>25355.0</td>\n",
       "      <td>55532</td>\n",
       "      <td>ZRC1</td>\n",
       "      <td>NCBI</td>\n",
       "    </tr>\n",
       "    <tr>\n",
       "      <th>8987</th>\n",
       "      <td>PEX13</td>\n",
       "      <td>NALD,PBD11A,PBD11B,ZWS</td>\n",
       "      <td>ENSG00000162928</td>\n",
       "      <td>8855.0</td>\n",
       "      <td>5194</td>\n",
       "      <td>ZWS</td>\n",
       "      <td>NCBI</td>\n",
       "    </tr>\n",
       "    <tr>\n",
       "      <th>8988</th>\n",
       "      <td>PEX1</td>\n",
       "      <td>HMLR1,PBD1A,PBD1B,ZWS,ZWS1</td>\n",
       "      <td>ENSG00000127980</td>\n",
       "      <td>8850.0</td>\n",
       "      <td>5189</td>\n",
       "      <td>ZWS</td>\n",
       "      <td>NCBI</td>\n",
       "    </tr>\n",
       "    <tr>\n",
       "      <th>8989</th>\n",
       "      <td>ZYG11B</td>\n",
       "      <td>ZYG11</td>\n",
       "      <td>ENSG00000162378</td>\n",
       "      <td>25820.0</td>\n",
       "      <td>79699</td>\n",
       "      <td>ZYG11</td>\n",
       "      <td>NCBI</td>\n",
       "    </tr>\n",
       "    <tr>\n",
       "      <th>8990</th>\n",
       "      <td>ZYG11A</td>\n",
       "      <td>ZYG11</td>\n",
       "      <td>ENSG00000203995</td>\n",
       "      <td>32058.0</td>\n",
       "      <td>440590</td>\n",
       "      <td>ZYG11</td>\n",
       "      <td>NCBI</td>\n",
       "    </tr>\n",
       "  </tbody>\n",
       "</table>\n",
       "<p>8991 rows × 7 columns</p>\n",
       "</div>"
      ],
      "text/plain": [
       "     gene_symbol                                       alias_symbol  \\\n",
       "0           PTEN  10q23del,BZS,CWS1,DEC,GLM2,MHAM,MMAC1,PTEN1,PT...   \n",
       "1         BMPR1A     10q23del,ACVRLK3,ALK-3,ALK3,BMPR-1A,CD292,SKR5   \n",
       "2         ALOX15                       12-LOX,15-LOX,15-LOX-1,LOG15   \n",
       "3         ALOX12                               12-LOX,12S-LOX,LOG12   \n",
       "4         AKR1C1  2-ALPHA-HSD,20-ALPHA-HSD,C9,DD1,DD1/DD2,DDH,DD...   \n",
       "...          ...                                                ...   \n",
       "8986    SLC30A10               HMDPC,HMNDYT1,ZNT10,ZNT8,ZRC1,ZnT-10   \n",
       "8987       PEX13                             NALD,PBD11A,PBD11B,ZWS   \n",
       "8988        PEX1                         HMLR1,PBD1A,PBD1B,ZWS,ZWS1   \n",
       "8989      ZYG11B                                              ZYG11   \n",
       "8990      ZYG11A                                              ZYG11   \n",
       "\n",
       "              ENSG_ID  HGNC_ID  NCBI_ID     collision source  \n",
       "0     ENSG00000171862   9588.0     5728      10Q23DEL   NCBI  \n",
       "1     ENSG00000107779   1076.0      657      10Q23DEL   NCBI  \n",
       "2     ENSG00000161905    433.0      246        12-LOX   NCBI  \n",
       "3     ENSG00000108839    429.0      239        12-LOX   NCBI  \n",
       "4     ENSG00000187134    384.0     1645  20-ALPHA-HSD   NCBI  \n",
       "...               ...      ...      ...           ...    ...  \n",
       "8986  ENSG00000196660  25355.0    55532          ZRC1   NCBI  \n",
       "8987  ENSG00000162928   8855.0     5194           ZWS   NCBI  \n",
       "8988  ENSG00000127980   8850.0     5189           ZWS   NCBI  \n",
       "8989  ENSG00000162378  25820.0    79699         ZYG11   NCBI  \n",
       "8990  ENSG00000203995  32058.0   440590         ZYG11   NCBI  \n",
       "\n",
       "[8991 rows x 7 columns]"
      ]
     },
     "execution_count": 39,
     "metadata": {},
     "output_type": "execute_result"
    }
   ],
   "source": [
    "aa_collision_gene_ncbi_df = pd.read_csv(\n",
    "    \"../created_files/aa_collision_gene_ncbi_df.csv\", index_col=[0])\n",
    "aa_collision_gene_ncbi_df"
   ]
  },
  {
   "cell_type": "code",
   "execution_count": 40,
   "metadata": {},
   "outputs": [],
   "source": [
    "aa_collision_alias_ncbi_df = pd.read_csv(\n",
    "    \"../created_files/aa_collision_alias_ncbi_df.csv\", index_col=[0])"
   ]
  },
  {
   "cell_type": "markdown",
   "metadata": {},
   "source": [
    "### <a id='toc3_1_3_'></a>[Create a histogram displaying how frequent the numebr of gene records sharing an alias is](#toc0_)"
   ]
  },
  {
   "cell_type": "code",
   "execution_count": 41,
   "metadata": {},
   "outputs": [],
   "source": [
    "ncbi_alias_symbol_set = set(subset_genes_ncbi_df[\"alias_symbol\"])\n",
    "ncbi_alias_count = len(ncbi_alias_symbol_set)"
   ]
  },
  {
   "cell_type": "code",
   "execution_count": 42,
   "metadata": {},
   "outputs": [
    {
     "data": {
      "application/vnd.plotly.v1+json": {
       "config": {
        "plotlyServerURL": "https://plot.ly"
       },
       "data": [
        {
         "alignmentgroup": "True",
         "hovertemplate": "num_gene_records=%{x}<br>percent_collision_symbol=%{y}<extra></extra>",
         "legendgroup": "",
         "marker": {
          "color": "#636efa",
          "pattern": {
           "shape": ""
          }
         },
         "name": "",
         "offsetgroup": "",
         "orientation": "v",
         "showlegend": false,
         "textposition": "auto",
         "type": "bar",
         "x": [
          2,
          3,
          4,
          5,
          6,
          7,
          8,
          9,
          10,
          11,
          12,
          13,
          14,
          37
         ],
         "xaxis": "x",
         "y": [
          4.3055939276730015,
          0.6456209739570459,
          0.21520699131901527,
          0.0857919762690669,
          0.04507714007357753,
          0.03053612714661703,
          0.013086911634264443,
          0.021811519390440737,
          0.0029082025853920984,
          0.004362303878088148,
          0.0029082025853920984,
          0.02035741809774469,
          0.0014541012926960492,
          0.0014541012926960492
         ],
         "yaxis": "y"
        }
       ],
       "layout": {
        "barmode": "relative",
        "legend": {
         "tracegroupgap": 0
        },
        "margin": {
         "t": 60
        },
        "template": {
         "data": {
          "bar": [
           {
            "error_x": {
             "color": "#2a3f5f"
            },
            "error_y": {
             "color": "#2a3f5f"
            },
            "marker": {
             "line": {
              "color": "#E5ECF6",
              "width": 0.5
             },
             "pattern": {
              "fillmode": "overlay",
              "size": 10,
              "solidity": 0.2
             }
            },
            "type": "bar"
           }
          ],
          "barpolar": [
           {
            "marker": {
             "line": {
              "color": "#E5ECF6",
              "width": 0.5
             },
             "pattern": {
              "fillmode": "overlay",
              "size": 10,
              "solidity": 0.2
             }
            },
            "type": "barpolar"
           }
          ],
          "carpet": [
           {
            "aaxis": {
             "endlinecolor": "#2a3f5f",
             "gridcolor": "white",
             "linecolor": "white",
             "minorgridcolor": "white",
             "startlinecolor": "#2a3f5f"
            },
            "baxis": {
             "endlinecolor": "#2a3f5f",
             "gridcolor": "white",
             "linecolor": "white",
             "minorgridcolor": "white",
             "startlinecolor": "#2a3f5f"
            },
            "type": "carpet"
           }
          ],
          "choropleth": [
           {
            "colorbar": {
             "outlinewidth": 0,
             "ticks": ""
            },
            "type": "choropleth"
           }
          ],
          "contour": [
           {
            "colorbar": {
             "outlinewidth": 0,
             "ticks": ""
            },
            "colorscale": [
             [
              0,
              "#0d0887"
             ],
             [
              0.1111111111111111,
              "#46039f"
             ],
             [
              0.2222222222222222,
              "#7201a8"
             ],
             [
              0.3333333333333333,
              "#9c179e"
             ],
             [
              0.4444444444444444,
              "#bd3786"
             ],
             [
              0.5555555555555556,
              "#d8576b"
             ],
             [
              0.6666666666666666,
              "#ed7953"
             ],
             [
              0.7777777777777778,
              "#fb9f3a"
             ],
             [
              0.8888888888888888,
              "#fdca26"
             ],
             [
              1,
              "#f0f921"
             ]
            ],
            "type": "contour"
           }
          ],
          "contourcarpet": [
           {
            "colorbar": {
             "outlinewidth": 0,
             "ticks": ""
            },
            "type": "contourcarpet"
           }
          ],
          "heatmap": [
           {
            "colorbar": {
             "outlinewidth": 0,
             "ticks": ""
            },
            "colorscale": [
             [
              0,
              "#0d0887"
             ],
             [
              0.1111111111111111,
              "#46039f"
             ],
             [
              0.2222222222222222,
              "#7201a8"
             ],
             [
              0.3333333333333333,
              "#9c179e"
             ],
             [
              0.4444444444444444,
              "#bd3786"
             ],
             [
              0.5555555555555556,
              "#d8576b"
             ],
             [
              0.6666666666666666,
              "#ed7953"
             ],
             [
              0.7777777777777778,
              "#fb9f3a"
             ],
             [
              0.8888888888888888,
              "#fdca26"
             ],
             [
              1,
              "#f0f921"
             ]
            ],
            "type": "heatmap"
           }
          ],
          "heatmapgl": [
           {
            "colorbar": {
             "outlinewidth": 0,
             "ticks": ""
            },
            "colorscale": [
             [
              0,
              "#0d0887"
             ],
             [
              0.1111111111111111,
              "#46039f"
             ],
             [
              0.2222222222222222,
              "#7201a8"
             ],
             [
              0.3333333333333333,
              "#9c179e"
             ],
             [
              0.4444444444444444,
              "#bd3786"
             ],
             [
              0.5555555555555556,
              "#d8576b"
             ],
             [
              0.6666666666666666,
              "#ed7953"
             ],
             [
              0.7777777777777778,
              "#fb9f3a"
             ],
             [
              0.8888888888888888,
              "#fdca26"
             ],
             [
              1,
              "#f0f921"
             ]
            ],
            "type": "heatmapgl"
           }
          ],
          "histogram": [
           {
            "marker": {
             "pattern": {
              "fillmode": "overlay",
              "size": 10,
              "solidity": 0.2
             }
            },
            "type": "histogram"
           }
          ],
          "histogram2d": [
           {
            "colorbar": {
             "outlinewidth": 0,
             "ticks": ""
            },
            "colorscale": [
             [
              0,
              "#0d0887"
             ],
             [
              0.1111111111111111,
              "#46039f"
             ],
             [
              0.2222222222222222,
              "#7201a8"
             ],
             [
              0.3333333333333333,
              "#9c179e"
             ],
             [
              0.4444444444444444,
              "#bd3786"
             ],
             [
              0.5555555555555556,
              "#d8576b"
             ],
             [
              0.6666666666666666,
              "#ed7953"
             ],
             [
              0.7777777777777778,
              "#fb9f3a"
             ],
             [
              0.8888888888888888,
              "#fdca26"
             ],
             [
              1,
              "#f0f921"
             ]
            ],
            "type": "histogram2d"
           }
          ],
          "histogram2dcontour": [
           {
            "colorbar": {
             "outlinewidth": 0,
             "ticks": ""
            },
            "colorscale": [
             [
              0,
              "#0d0887"
             ],
             [
              0.1111111111111111,
              "#46039f"
             ],
             [
              0.2222222222222222,
              "#7201a8"
             ],
             [
              0.3333333333333333,
              "#9c179e"
             ],
             [
              0.4444444444444444,
              "#bd3786"
             ],
             [
              0.5555555555555556,
              "#d8576b"
             ],
             [
              0.6666666666666666,
              "#ed7953"
             ],
             [
              0.7777777777777778,
              "#fb9f3a"
             ],
             [
              0.8888888888888888,
              "#fdca26"
             ],
             [
              1,
              "#f0f921"
             ]
            ],
            "type": "histogram2dcontour"
           }
          ],
          "mesh3d": [
           {
            "colorbar": {
             "outlinewidth": 0,
             "ticks": ""
            },
            "type": "mesh3d"
           }
          ],
          "parcoords": [
           {
            "line": {
             "colorbar": {
              "outlinewidth": 0,
              "ticks": ""
             }
            },
            "type": "parcoords"
           }
          ],
          "pie": [
           {
            "automargin": true,
            "type": "pie"
           }
          ],
          "scatter": [
           {
            "fillpattern": {
             "fillmode": "overlay",
             "size": 10,
             "solidity": 0.2
            },
            "type": "scatter"
           }
          ],
          "scatter3d": [
           {
            "line": {
             "colorbar": {
              "outlinewidth": 0,
              "ticks": ""
             }
            },
            "marker": {
             "colorbar": {
              "outlinewidth": 0,
              "ticks": ""
             }
            },
            "type": "scatter3d"
           }
          ],
          "scattercarpet": [
           {
            "marker": {
             "colorbar": {
              "outlinewidth": 0,
              "ticks": ""
             }
            },
            "type": "scattercarpet"
           }
          ],
          "scattergeo": [
           {
            "marker": {
             "colorbar": {
              "outlinewidth": 0,
              "ticks": ""
             }
            },
            "type": "scattergeo"
           }
          ],
          "scattergl": [
           {
            "marker": {
             "colorbar": {
              "outlinewidth": 0,
              "ticks": ""
             }
            },
            "type": "scattergl"
           }
          ],
          "scattermapbox": [
           {
            "marker": {
             "colorbar": {
              "outlinewidth": 0,
              "ticks": ""
             }
            },
            "type": "scattermapbox"
           }
          ],
          "scatterpolar": [
           {
            "marker": {
             "colorbar": {
              "outlinewidth": 0,
              "ticks": ""
             }
            },
            "type": "scatterpolar"
           }
          ],
          "scatterpolargl": [
           {
            "marker": {
             "colorbar": {
              "outlinewidth": 0,
              "ticks": ""
             }
            },
            "type": "scatterpolargl"
           }
          ],
          "scatterternary": [
           {
            "marker": {
             "colorbar": {
              "outlinewidth": 0,
              "ticks": ""
             }
            },
            "type": "scatterternary"
           }
          ],
          "surface": [
           {
            "colorbar": {
             "outlinewidth": 0,
             "ticks": ""
            },
            "colorscale": [
             [
              0,
              "#0d0887"
             ],
             [
              0.1111111111111111,
              "#46039f"
             ],
             [
              0.2222222222222222,
              "#7201a8"
             ],
             [
              0.3333333333333333,
              "#9c179e"
             ],
             [
              0.4444444444444444,
              "#bd3786"
             ],
             [
              0.5555555555555556,
              "#d8576b"
             ],
             [
              0.6666666666666666,
              "#ed7953"
             ],
             [
              0.7777777777777778,
              "#fb9f3a"
             ],
             [
              0.8888888888888888,
              "#fdca26"
             ],
             [
              1,
              "#f0f921"
             ]
            ],
            "type": "surface"
           }
          ],
          "table": [
           {
            "cells": {
             "fill": {
              "color": "#EBF0F8"
             },
             "line": {
              "color": "white"
             }
            },
            "header": {
             "fill": {
              "color": "#C8D4E3"
             },
             "line": {
              "color": "white"
             }
            },
            "type": "table"
           }
          ]
         },
         "layout": {
          "annotationdefaults": {
           "arrowcolor": "#2a3f5f",
           "arrowhead": 0,
           "arrowwidth": 1
          },
          "autotypenumbers": "strict",
          "coloraxis": {
           "colorbar": {
            "outlinewidth": 0,
            "ticks": ""
           }
          },
          "colorscale": {
           "diverging": [
            [
             0,
             "#8e0152"
            ],
            [
             0.1,
             "#c51b7d"
            ],
            [
             0.2,
             "#de77ae"
            ],
            [
             0.3,
             "#f1b6da"
            ],
            [
             0.4,
             "#fde0ef"
            ],
            [
             0.5,
             "#f7f7f7"
            ],
            [
             0.6,
             "#e6f5d0"
            ],
            [
             0.7,
             "#b8e186"
            ],
            [
             0.8,
             "#7fbc41"
            ],
            [
             0.9,
             "#4d9221"
            ],
            [
             1,
             "#276419"
            ]
           ],
           "sequential": [
            [
             0,
             "#0d0887"
            ],
            [
             0.1111111111111111,
             "#46039f"
            ],
            [
             0.2222222222222222,
             "#7201a8"
            ],
            [
             0.3333333333333333,
             "#9c179e"
            ],
            [
             0.4444444444444444,
             "#bd3786"
            ],
            [
             0.5555555555555556,
             "#d8576b"
            ],
            [
             0.6666666666666666,
             "#ed7953"
            ],
            [
             0.7777777777777778,
             "#fb9f3a"
            ],
            [
             0.8888888888888888,
             "#fdca26"
            ],
            [
             1,
             "#f0f921"
            ]
           ],
           "sequentialminus": [
            [
             0,
             "#0d0887"
            ],
            [
             0.1111111111111111,
             "#46039f"
            ],
            [
             0.2222222222222222,
             "#7201a8"
            ],
            [
             0.3333333333333333,
             "#9c179e"
            ],
            [
             0.4444444444444444,
             "#bd3786"
            ],
            [
             0.5555555555555556,
             "#d8576b"
            ],
            [
             0.6666666666666666,
             "#ed7953"
            ],
            [
             0.7777777777777778,
             "#fb9f3a"
            ],
            [
             0.8888888888888888,
             "#fdca26"
            ],
            [
             1,
             "#f0f921"
            ]
           ]
          },
          "colorway": [
           "#636efa",
           "#EF553B",
           "#00cc96",
           "#ab63fa",
           "#FFA15A",
           "#19d3f3",
           "#FF6692",
           "#B6E880",
           "#FF97FF",
           "#FECB52"
          ],
          "font": {
           "color": "#2a3f5f"
          },
          "geo": {
           "bgcolor": "white",
           "lakecolor": "white",
           "landcolor": "#E5ECF6",
           "showlakes": true,
           "showland": true,
           "subunitcolor": "white"
          },
          "hoverlabel": {
           "align": "left"
          },
          "hovermode": "closest",
          "mapbox": {
           "style": "light"
          },
          "paper_bgcolor": "white",
          "plot_bgcolor": "#E5ECF6",
          "polar": {
           "angularaxis": {
            "gridcolor": "white",
            "linecolor": "white",
            "ticks": ""
           },
           "bgcolor": "#E5ECF6",
           "radialaxis": {
            "gridcolor": "white",
            "linecolor": "white",
            "ticks": ""
           }
          },
          "scene": {
           "xaxis": {
            "backgroundcolor": "#E5ECF6",
            "gridcolor": "white",
            "gridwidth": 2,
            "linecolor": "white",
            "showbackground": true,
            "ticks": "",
            "zerolinecolor": "white"
           },
           "yaxis": {
            "backgroundcolor": "#E5ECF6",
            "gridcolor": "white",
            "gridwidth": 2,
            "linecolor": "white",
            "showbackground": true,
            "ticks": "",
            "zerolinecolor": "white"
           },
           "zaxis": {
            "backgroundcolor": "#E5ECF6",
            "gridcolor": "white",
            "gridwidth": 2,
            "linecolor": "white",
            "showbackground": true,
            "ticks": "",
            "zerolinecolor": "white"
           }
          },
          "shapedefaults": {
           "line": {
            "color": "#2a3f5f"
           }
          },
          "ternary": {
           "aaxis": {
            "gridcolor": "white",
            "linecolor": "white",
            "ticks": ""
           },
           "baxis": {
            "gridcolor": "white",
            "linecolor": "white",
            "ticks": ""
           },
           "bgcolor": "#E5ECF6",
           "caxis": {
            "gridcolor": "white",
            "linecolor": "white",
            "ticks": ""
           }
          },
          "title": {
           "x": 0.05
          },
          "xaxis": {
           "automargin": true,
           "gridcolor": "white",
           "linecolor": "white",
           "ticks": "",
           "title": {
            "standoff": 15
           },
           "zerolinecolor": "white",
           "zerolinewidth": 2
          },
          "yaxis": {
           "automargin": true,
           "gridcolor": "white",
           "linecolor": "white",
           "ticks": "",
           "title": {
            "standoff": 15
           },
           "zerolinecolor": "white",
           "zerolinewidth": 2
          }
         }
        },
        "xaxis": {
         "anchor": "y",
         "domain": [
          0,
          1
         ],
         "title": {
          "text": "num_gene_records"
         }
        },
        "yaxis": {
         "anchor": "x",
         "domain": [
          0,
          1
         ],
         "title": {
          "text": "percent_collision_symbol"
         }
        }
       }
      }
     },
     "metadata": {},
     "output_type": "display_data"
    }
   ],
   "source": [
    "create_aa_collision_histogram(aa_collision_gene_ncbi_df, \"NCBI\", ncbi_alias_count)"
   ]
  },
  {
   "cell_type": "code",
   "execution_count": 43,
   "metadata": {},
   "outputs": [
    {
     "data": {
      "text/html": [
       "<div>\n",
       "<style scoped>\n",
       "    .dataframe tbody tr th:only-of-type {\n",
       "        vertical-align: middle;\n",
       "    }\n",
       "\n",
       "    .dataframe tbody tr th {\n",
       "        vertical-align: top;\n",
       "    }\n",
       "\n",
       "    .dataframe thead th {\n",
       "        text-align: right;\n",
       "    }\n",
       "</style>\n",
       "<table border=\"1\" class=\"dataframe\">\n",
       "  <thead>\n",
       "    <tr style=\"text-align: right;\">\n",
       "      <th></th>\n",
       "      <th>collision</th>\n",
       "      <th>num_gene_records</th>\n",
       "    </tr>\n",
       "  </thead>\n",
       "  <tbody>\n",
       "    <tr>\n",
       "      <th>3636</th>\n",
       "      <td>VH</td>\n",
       "      <td>37</td>\n",
       "    </tr>\n",
       "    <tr>\n",
       "      <th>1409</th>\n",
       "      <td>H4-16</td>\n",
       "      <td>14</td>\n",
       "    </tr>\n",
       "    <tr>\n",
       "      <th>1414</th>\n",
       "      <td>H4C14</td>\n",
       "      <td>13</td>\n",
       "    </tr>\n",
       "    <tr>\n",
       "      <th>1419</th>\n",
       "      <td>H4C4</td>\n",
       "      <td>13</td>\n",
       "    </tr>\n",
       "    <tr>\n",
       "      <th>1413</th>\n",
       "      <td>H4C13</td>\n",
       "      <td>13</td>\n",
       "    </tr>\n",
       "    <tr>\n",
       "      <th>...</th>\n",
       "      <td>...</td>\n",
       "      <td>...</td>\n",
       "    </tr>\n",
       "    <tr>\n",
       "      <th>1351</th>\n",
       "      <td>GT334</td>\n",
       "      <td>2</td>\n",
       "    </tr>\n",
       "    <tr>\n",
       "      <th>1352</th>\n",
       "      <td>GTB</td>\n",
       "      <td>2</td>\n",
       "    </tr>\n",
       "    <tr>\n",
       "      <th>1353</th>\n",
       "      <td>GTF2IRD2A</td>\n",
       "      <td>2</td>\n",
       "    </tr>\n",
       "    <tr>\n",
       "      <th>1354</th>\n",
       "      <td>GTK</td>\n",
       "      <td>2</td>\n",
       "    </tr>\n",
       "    <tr>\n",
       "      <th>3710</th>\n",
       "      <td>ZYG11</td>\n",
       "      <td>2</td>\n",
       "    </tr>\n",
       "  </tbody>\n",
       "</table>\n",
       "<p>3711 rows × 2 columns</p>\n",
       "</div>"
      ],
      "text/plain": [
       "      collision  num_gene_records\n",
       "3636         VH                37\n",
       "1409      H4-16                14\n",
       "1414      H4C14                13\n",
       "1419       H4C4                13\n",
       "1413      H4C13                13\n",
       "...         ...               ...\n",
       "1351      GT334                 2\n",
       "1352        GTB                 2\n",
       "1353  GTF2IRD2A                 2\n",
       "1354        GTK                 2\n",
       "3710      ZYG11                 2\n",
       "\n",
       "[3711 rows x 2 columns]"
      ]
     },
     "execution_count": 43,
     "metadata": {},
     "output_type": "execute_result"
    }
   ],
   "source": [
    "aa_collision_ncbi_count_df = pd.read_csv(\n",
    "    \"../created_files/aa_collision_ncbi_count_df.csv\", index_col=[0])\n",
    "aa_collision_ncbi_count_df"
   ]
  },
  {
   "cell_type": "code",
   "execution_count": 44,
   "metadata": {},
   "outputs": [
    {
     "data": {
      "text/html": [
       "<div>\n",
       "<style scoped>\n",
       "    .dataframe tbody tr th:only-of-type {\n",
       "        vertical-align: middle;\n",
       "    }\n",
       "\n",
       "    .dataframe tbody tr th {\n",
       "        vertical-align: top;\n",
       "    }\n",
       "\n",
       "    .dataframe thead th {\n",
       "        text-align: right;\n",
       "    }\n",
       "</style>\n",
       "<table border=\"1\" class=\"dataframe\">\n",
       "  <thead>\n",
       "    <tr style=\"text-align: right;\">\n",
       "      <th></th>\n",
       "      <th>num_gene_records</th>\n",
       "      <th>num_collision_symbol</th>\n",
       "      <th>percent_collision_symbol</th>\n",
       "    </tr>\n",
       "  </thead>\n",
       "  <tbody>\n",
       "    <tr>\n",
       "      <th>0</th>\n",
       "      <td>2</td>\n",
       "      <td>2961</td>\n",
       "      <td>4.305594</td>\n",
       "    </tr>\n",
       "    <tr>\n",
       "      <th>1</th>\n",
       "      <td>3</td>\n",
       "      <td>444</td>\n",
       "      <td>0.645621</td>\n",
       "    </tr>\n",
       "    <tr>\n",
       "      <th>2</th>\n",
       "      <td>4</td>\n",
       "      <td>148</td>\n",
       "      <td>0.215207</td>\n",
       "    </tr>\n",
       "    <tr>\n",
       "      <th>3</th>\n",
       "      <td>5</td>\n",
       "      <td>59</td>\n",
       "      <td>0.085792</td>\n",
       "    </tr>\n",
       "    <tr>\n",
       "      <th>4</th>\n",
       "      <td>6</td>\n",
       "      <td>31</td>\n",
       "      <td>0.045077</td>\n",
       "    </tr>\n",
       "    <tr>\n",
       "      <th>5</th>\n",
       "      <td>7</td>\n",
       "      <td>21</td>\n",
       "      <td>0.030536</td>\n",
       "    </tr>\n",
       "    <tr>\n",
       "      <th>6</th>\n",
       "      <td>8</td>\n",
       "      <td>9</td>\n",
       "      <td>0.013087</td>\n",
       "    </tr>\n",
       "    <tr>\n",
       "      <th>7</th>\n",
       "      <td>9</td>\n",
       "      <td>15</td>\n",
       "      <td>0.021812</td>\n",
       "    </tr>\n",
       "    <tr>\n",
       "      <th>8</th>\n",
       "      <td>10</td>\n",
       "      <td>2</td>\n",
       "      <td>0.002908</td>\n",
       "    </tr>\n",
       "    <tr>\n",
       "      <th>9</th>\n",
       "      <td>11</td>\n",
       "      <td>3</td>\n",
       "      <td>0.004362</td>\n",
       "    </tr>\n",
       "    <tr>\n",
       "      <th>10</th>\n",
       "      <td>12</td>\n",
       "      <td>2</td>\n",
       "      <td>0.002908</td>\n",
       "    </tr>\n",
       "    <tr>\n",
       "      <th>11</th>\n",
       "      <td>13</td>\n",
       "      <td>14</td>\n",
       "      <td>0.020357</td>\n",
       "    </tr>\n",
       "    <tr>\n",
       "      <th>12</th>\n",
       "      <td>14</td>\n",
       "      <td>1</td>\n",
       "      <td>0.001454</td>\n",
       "    </tr>\n",
       "    <tr>\n",
       "      <th>13</th>\n",
       "      <td>37</td>\n",
       "      <td>1</td>\n",
       "      <td>0.001454</td>\n",
       "    </tr>\n",
       "  </tbody>\n",
       "</table>\n",
       "</div>"
      ],
      "text/plain": [
       "    num_gene_records  num_collision_symbol  percent_collision_symbol\n",
       "0                  2                  2961                  4.305594\n",
       "1                  3                   444                  0.645621\n",
       "2                  4                   148                  0.215207\n",
       "3                  5                    59                  0.085792\n",
       "4                  6                    31                  0.045077\n",
       "5                  7                    21                  0.030536\n",
       "6                  8                     9                  0.013087\n",
       "7                  9                    15                  0.021812\n",
       "8                 10                     2                  0.002908\n",
       "9                 11                     3                  0.004362\n",
       "10                12                     2                  0.002908\n",
       "11                13                    14                  0.020357\n",
       "12                14                     1                  0.001454\n",
       "13                37                     1                  0.001454"
      ]
     },
     "execution_count": 44,
     "metadata": {},
     "output_type": "execute_result"
    }
   ],
   "source": [
    "aa_collision_ncbi_distribution_df = pd.read_csv(\n",
    "    \"../created_files/aa_collision_ncbi_distribution_df.csv\", index_col=[0])\n",
    "aa_collision_ncbi_distribution_df"
   ]
  },
  {
   "cell_type": "code",
   "execution_count": 45,
   "metadata": {},
   "outputs": [
    {
     "data": {
      "text/html": [
       "<div>\n",
       "<style scoped>\n",
       "    .dataframe tbody tr th:only-of-type {\n",
       "        vertical-align: middle;\n",
       "    }\n",
       "\n",
       "    .dataframe tbody tr th {\n",
       "        vertical-align: top;\n",
       "    }\n",
       "\n",
       "    .dataframe thead th {\n",
       "        text-align: right;\n",
       "    }\n",
       "</style>\n",
       "<table border=\"1\" class=\"dataframe\">\n",
       "  <thead>\n",
       "    <tr style=\"text-align: right;\">\n",
       "      <th></th>\n",
       "      <th>num_gene_records</th>\n",
       "      <th>percent_collision_symbol</th>\n",
       "    </tr>\n",
       "  </thead>\n",
       "  <tbody>\n",
       "    <tr>\n",
       "      <th>0</th>\n",
       "      <td>2</td>\n",
       "      <td>4.305594</td>\n",
       "    </tr>\n",
       "    <tr>\n",
       "      <th>1</th>\n",
       "      <td>3</td>\n",
       "      <td>0.645621</td>\n",
       "    </tr>\n",
       "    <tr>\n",
       "      <th>2</th>\n",
       "      <td>4</td>\n",
       "      <td>0.215207</td>\n",
       "    </tr>\n",
       "    <tr>\n",
       "      <th>3</th>\n",
       "      <td>5</td>\n",
       "      <td>0.085792</td>\n",
       "    </tr>\n",
       "    <tr>\n",
       "      <th>4</th>\n",
       "      <td>6</td>\n",
       "      <td>0.045077</td>\n",
       "    </tr>\n",
       "    <tr>\n",
       "      <th>5</th>\n",
       "      <td>7</td>\n",
       "      <td>0.030536</td>\n",
       "    </tr>\n",
       "    <tr>\n",
       "      <th>6</th>\n",
       "      <td>8</td>\n",
       "      <td>0.013087</td>\n",
       "    </tr>\n",
       "    <tr>\n",
       "      <th>7</th>\n",
       "      <td>9</td>\n",
       "      <td>0.021812</td>\n",
       "    </tr>\n",
       "    <tr>\n",
       "      <th>8</th>\n",
       "      <td>10</td>\n",
       "      <td>0.002908</td>\n",
       "    </tr>\n",
       "    <tr>\n",
       "      <th>9</th>\n",
       "      <td>11</td>\n",
       "      <td>0.004362</td>\n",
       "    </tr>\n",
       "    <tr>\n",
       "      <th>10</th>\n",
       "      <td>12</td>\n",
       "      <td>0.002908</td>\n",
       "    </tr>\n",
       "    <tr>\n",
       "      <th>11</th>\n",
       "      <td>13</td>\n",
       "      <td>0.020357</td>\n",
       "    </tr>\n",
       "    <tr>\n",
       "      <th>12</th>\n",
       "      <td>14</td>\n",
       "      <td>0.001454</td>\n",
       "    </tr>\n",
       "    <tr>\n",
       "      <th>13</th>\n",
       "      <td>37</td>\n",
       "      <td>0.001454</td>\n",
       "    </tr>\n",
       "  </tbody>\n",
       "</table>\n",
       "</div>"
      ],
      "text/plain": [
       "    num_gene_records  percent_collision_symbol\n",
       "0                  2                  4.305594\n",
       "1                  3                  0.645621\n",
       "2                  4                  0.215207\n",
       "3                  5                  0.085792\n",
       "4                  6                  0.045077\n",
       "5                  7                  0.030536\n",
       "6                  8                  0.013087\n",
       "7                  9                  0.021812\n",
       "8                 10                  0.002908\n",
       "9                 11                  0.004362\n",
       "10                12                  0.002908\n",
       "11                13                  0.020357\n",
       "12                14                  0.001454\n",
       "13                37                  0.001454"
      ]
     },
     "execution_count": 45,
     "metadata": {},
     "output_type": "execute_result"
    }
   ],
   "source": [
    "ncbi_alias_count_histogram_df = pd.read_csv(\n",
    "    \"../created_files/ncbi_alias_count_histogram_df.csv\", index_col=[0])\n",
    "ncbi_alias_count_histogram_df"
   ]
  },
  {
   "cell_type": "code",
   "execution_count": 46,
   "metadata": {},
   "outputs": [
    {
     "data": {
      "text/plain": [
       "57275"
      ]
     },
     "execution_count": 46,
     "metadata": {},
     "output_type": "execute_result"
    }
   ],
   "source": [
    "len(subset_genes_ensg_df)"
   ]
  },
  {
   "cell_type": "code",
   "execution_count": 47,
   "metadata": {},
   "outputs": [
    {
     "data": {
      "text/plain": [
       "44542"
      ]
     },
     "execution_count": 47,
     "metadata": {},
     "output_type": "execute_result"
    }
   ],
   "source": [
    "len(subset_genes_hgnc_df)"
   ]
  },
  {
   "cell_type": "code",
   "execution_count": 48,
   "metadata": {},
   "outputs": [
    {
     "data": {
      "text/plain": [
       "74051"
      ]
     },
     "execution_count": 48,
     "metadata": {},
     "output_type": "execute_result"
    }
   ],
   "source": [
    "len(subset_genes_ncbi_df)"
   ]
  },
  {
   "cell_type": "markdown",
   "metadata": {},
   "source": [
    "# <a id='toc4_'></a>[Merge to create Alias-Alias Collision Table- On Primary Gene Symbol](#toc0_)"
   ]
  },
  {
   "cell_type": "code",
   "execution_count": 49,
   "metadata": {},
   "outputs": [
    {
     "data": {
      "text/html": [
       "<div>\n",
       "<style scoped>\n",
       "    .dataframe tbody tr th:only-of-type {\n",
       "        vertical-align: middle;\n",
       "    }\n",
       "\n",
       "    .dataframe tbody tr th {\n",
       "        vertical-align: top;\n",
       "    }\n",
       "\n",
       "    .dataframe thead th {\n",
       "        text-align: right;\n",
       "    }\n",
       "</style>\n",
       "<table border=\"1\" class=\"dataframe\">\n",
       "  <thead>\n",
       "    <tr style=\"text-align: right;\">\n",
       "      <th></th>\n",
       "      <th>gene_symbol</th>\n",
       "      <th>alias_symbol</th>\n",
       "      <th>ENSG_ID</th>\n",
       "      <th>collision</th>\n",
       "      <th>source</th>\n",
       "    </tr>\n",
       "  </thead>\n",
       "  <tbody>\n",
       "    <tr>\n",
       "      <th>0</th>\n",
       "      <td>KLRG1</td>\n",
       "      <td>MAFA,2F1,MAFA-L,CLEC15A</td>\n",
       "      <td>ENSG00000139187</td>\n",
       "      <td>2F1</td>\n",
       "      <td>HGNC</td>\n",
       "    </tr>\n",
       "    <tr>\n",
       "      <th>1</th>\n",
       "      <td>SLC25A5</td>\n",
       "      <td>T2,2F1,T3</td>\n",
       "      <td>ENSG00000005022</td>\n",
       "      <td>2F1</td>\n",
       "      <td>HGNC</td>\n",
       "    </tr>\n",
       "    <tr>\n",
       "      <th>2</th>\n",
       "      <td>S100A8</td>\n",
       "      <td>P8,MRP8,MRP-8,60B8AG,CGLA,S100-A8</td>\n",
       "      <td>ENSG00000143546</td>\n",
       "      <td>60B8AG</td>\n",
       "      <td>HGNC</td>\n",
       "    </tr>\n",
       "    <tr>\n",
       "      <th>3</th>\n",
       "      <td>S100A9</td>\n",
       "      <td>P14,MIF,NIF,LIAG,MRP14,MAC387,60B8AG,CGLB,MRP-...</td>\n",
       "      <td>ENSG00000163220</td>\n",
       "      <td>60B8AG</td>\n",
       "      <td>HGNC</td>\n",
       "    </tr>\n",
       "    <tr>\n",
       "      <th>4</th>\n",
       "      <td>RNU6V</td>\n",
       "      <td>87U6,LH87</td>\n",
       "      <td>ENSG00000206832</td>\n",
       "      <td>87U6</td>\n",
       "      <td>HGNC</td>\n",
       "    </tr>\n",
       "    <tr>\n",
       "      <th>...</th>\n",
       "      <td>...</td>\n",
       "      <td>...</td>\n",
       "      <td>...</td>\n",
       "      <td>...</td>\n",
       "      <td>...</td>\n",
       "    </tr>\n",
       "    <tr>\n",
       "      <th>3674</th>\n",
       "      <td>SLC30A10</td>\n",
       "      <td>DKFZP547M236,ZNT-10,ZNT10,ZNT8,ZRC1</td>\n",
       "      <td>ENSG00000196660</td>\n",
       "      <td>ZNT8</td>\n",
       "      <td>ENSG</td>\n",
       "    </tr>\n",
       "    <tr>\n",
       "      <th>3675</th>\n",
       "      <td>SLC30A10</td>\n",
       "      <td>DKFZP547M236,ZNT-10,ZNT10,ZNT8,ZRC1</td>\n",
       "      <td>ENSG00000196660</td>\n",
       "      <td>ZRC1</td>\n",
       "      <td>ENSG</td>\n",
       "    </tr>\n",
       "    <tr>\n",
       "      <th>3676</th>\n",
       "      <td>SLC30A1</td>\n",
       "      <td>ZNT1,ZRC1</td>\n",
       "      <td>ENSG00000170385</td>\n",
       "      <td>ZRC1</td>\n",
       "      <td>ENSG</td>\n",
       "    </tr>\n",
       "    <tr>\n",
       "      <th>3677</th>\n",
       "      <td>ZYG11B</td>\n",
       "      <td>FLJ13456,ZYG11</td>\n",
       "      <td>ENSG00000162378</td>\n",
       "      <td>ZYG11</td>\n",
       "      <td>ENSG</td>\n",
       "    </tr>\n",
       "    <tr>\n",
       "      <th>3678</th>\n",
       "      <td>ZYG11A</td>\n",
       "      <td>ZYG11</td>\n",
       "      <td>ENSG00000203995</td>\n",
       "      <td>ZYG11</td>\n",
       "      <td>ENSG</td>\n",
       "    </tr>\n",
       "  </tbody>\n",
       "</table>\n",
       "<p>15544 rows × 5 columns</p>\n",
       "</div>"
      ],
      "text/plain": [
       "     gene_symbol                                       alias_symbol  \\\n",
       "0          KLRG1                            MAFA,2F1,MAFA-L,CLEC15A   \n",
       "1        SLC25A5                                          T2,2F1,T3   \n",
       "2         S100A8                  P8,MRP8,MRP-8,60B8AG,CGLA,S100-A8   \n",
       "3         S100A9  P14,MIF,NIF,LIAG,MRP14,MAC387,60B8AG,CGLB,MRP-...   \n",
       "4          RNU6V                                          87U6,LH87   \n",
       "...          ...                                                ...   \n",
       "3674    SLC30A10                DKFZP547M236,ZNT-10,ZNT10,ZNT8,ZRC1   \n",
       "3675    SLC30A10                DKFZP547M236,ZNT-10,ZNT10,ZNT8,ZRC1   \n",
       "3676     SLC30A1                                          ZNT1,ZRC1   \n",
       "3677      ZYG11B                                     FLJ13456,ZYG11   \n",
       "3678      ZYG11A                                              ZYG11   \n",
       "\n",
       "              ENSG_ID collision source  \n",
       "0     ENSG00000139187       2F1   HGNC  \n",
       "1     ENSG00000005022       2F1   HGNC  \n",
       "2     ENSG00000143546    60B8AG   HGNC  \n",
       "3     ENSG00000163220    60B8AG   HGNC  \n",
       "4     ENSG00000206832      87U6   HGNC  \n",
       "...               ...       ...    ...  \n",
       "3674  ENSG00000196660      ZNT8   ENSG  \n",
       "3675  ENSG00000196660      ZRC1   ENSG  \n",
       "3676  ENSG00000170385      ZRC1   ENSG  \n",
       "3677  ENSG00000162378     ZYG11   ENSG  \n",
       "3678  ENSG00000203995     ZYG11   ENSG  \n",
       "\n",
       "[15544 rows x 5 columns]"
      ]
     },
     "execution_count": 49,
     "metadata": {},
     "output_type": "execute_result"
    }
   ],
   "source": [
    "merged_aa_collision_gene_df = pd.concat(\n",
    "    [\n",
    "        aa_collision_gene_hgnc_df[[\"gene_symbol\", \"alias_symbol\", \"ENSG_ID\", \"collision\", \"source\"]],\n",
    "        aa_collision_gene_ncbi_df[[\"gene_symbol\", \"alias_symbol\", \"ENSG_ID\", \"collision\", \"source\"]],\n",
    "        aa_collision_gene_ensg_df[[\"gene_symbol\", \"alias_symbol\", \"ENSG_ID\", \"collision\", \"source\"]],\n",
    "    ]\n",
    ")\n",
    "merged_aa_collision_gene_df"
   ]
  },
  {
   "cell_type": "code",
   "execution_count": 50,
   "metadata": {},
   "outputs": [],
   "source": [
    "merged_aa_collision_gene_df.to_csv(\n",
    "    \"../created_files/merged_aa_collision_gene_df.csv\", index=False\n",
    ")"
   ]
  },
  {
   "cell_type": "code",
   "execution_count": 51,
   "metadata": {},
   "outputs": [
    {
     "data": {
      "text/html": [
       "<div>\n",
       "<style scoped>\n",
       "    .dataframe tbody tr th:only-of-type {\n",
       "        vertical-align: middle;\n",
       "    }\n",
       "\n",
       "    .dataframe tbody tr th {\n",
       "        vertical-align: top;\n",
       "    }\n",
       "\n",
       "    .dataframe thead th {\n",
       "        text-align: right;\n",
       "    }\n",
       "</style>\n",
       "<table border=\"1\" class=\"dataframe\">\n",
       "  <thead>\n",
       "    <tr style=\"text-align: right;\">\n",
       "      <th></th>\n",
       "      <th>gene_symbol</th>\n",
       "      <th>alias_symbol</th>\n",
       "      <th>ENSG_ID</th>\n",
       "      <th>collision</th>\n",
       "      <th>source</th>\n",
       "    </tr>\n",
       "  </thead>\n",
       "  <tbody>\n",
       "    <tr>\n",
       "      <th>82</th>\n",
       "      <td>ASRGL1</td>\n",
       "      <td>FLJ22316,ALP1,ALP</td>\n",
       "      <td>ENSG00000162174</td>\n",
       "      <td>ALP</td>\n",
       "      <td>HGNC</td>\n",
       "    </tr>\n",
       "    <tr>\n",
       "      <th>83</th>\n",
       "      <td>ATHS</td>\n",
       "      <td>ALP</td>\n",
       "      <td>NaN</td>\n",
       "      <td>ALP</td>\n",
       "      <td>HGNC</td>\n",
       "    </tr>\n",
       "    <tr>\n",
       "      <th>84</th>\n",
       "      <td>ATRNL1</td>\n",
       "      <td>KIAA0534,FLJ45344,ALP</td>\n",
       "      <td>ENSG00000107518</td>\n",
       "      <td>ALP</td>\n",
       "      <td>HGNC</td>\n",
       "    </tr>\n",
       "    <tr>\n",
       "      <th>85</th>\n",
       "      <td>PDLIM3</td>\n",
       "      <td>ALP</td>\n",
       "      <td>ENSG00000154553</td>\n",
       "      <td>ALP</td>\n",
       "      <td>HGNC</td>\n",
       "    </tr>\n",
       "    <tr>\n",
       "      <th>86</th>\n",
       "      <td>CCL27</td>\n",
       "      <td>ALP,ILC,CTACK,skinkine,ESkine,PESKY,CTAK</td>\n",
       "      <td>ENSG00000213927</td>\n",
       "      <td>ALP</td>\n",
       "      <td>HGNC</td>\n",
       "    </tr>\n",
       "    <tr>\n",
       "      <th>87</th>\n",
       "      <td>SLPI</td>\n",
       "      <td>HUSI-I,ALK1,ALP,BLPI,HUSI,WAP4,WFDC4</td>\n",
       "      <td>ENSG00000124107</td>\n",
       "      <td>ALP</td>\n",
       "      <td>HGNC</td>\n",
       "    </tr>\n",
       "    <tr>\n",
       "      <th>279</th>\n",
       "      <td>ASRGL1</td>\n",
       "      <td>ALP,ALP1,CRASH</td>\n",
       "      <td>ENSG00000162174</td>\n",
       "      <td>ALP</td>\n",
       "      <td>NCBI</td>\n",
       "    </tr>\n",
       "    <tr>\n",
       "      <th>280</th>\n",
       "      <td>ATRNL1</td>\n",
       "      <td>ALP,bA338L11.1,bA454H24.1</td>\n",
       "      <td>ENSG00000107518</td>\n",
       "      <td>ALP</td>\n",
       "      <td>NCBI</td>\n",
       "    </tr>\n",
       "    <tr>\n",
       "      <th>281</th>\n",
       "      <td>ATHS</td>\n",
       "      <td>ALP</td>\n",
       "      <td>NaN</td>\n",
       "      <td>ALP</td>\n",
       "      <td>NCBI</td>\n",
       "    </tr>\n",
       "    <tr>\n",
       "      <th>282</th>\n",
       "      <td>NAT10</td>\n",
       "      <td>ALP,Kre33,NET43</td>\n",
       "      <td>ENSG00000135372</td>\n",
       "      <td>ALP</td>\n",
       "      <td>NCBI</td>\n",
       "    </tr>\n",
       "    <tr>\n",
       "      <th>283</th>\n",
       "      <td>ALPP</td>\n",
       "      <td>ALP,ALPI,IAP,PALP,PLAP,PLAP-1</td>\n",
       "      <td>ENSG00000163283</td>\n",
       "      <td>ALP</td>\n",
       "      <td>NCBI</td>\n",
       "    </tr>\n",
       "    <tr>\n",
       "      <th>284</th>\n",
       "      <td>PDLIM3</td>\n",
       "      <td>ALP</td>\n",
       "      <td>ENSG00000154553</td>\n",
       "      <td>ALP</td>\n",
       "      <td>NCBI</td>\n",
       "    </tr>\n",
       "    <tr>\n",
       "      <th>285</th>\n",
       "      <td>SLPI</td>\n",
       "      <td>ALK1,ALP,BLPI,HUSI,HUSI-I,MPI,WAP4,WFDC4</td>\n",
       "      <td>ENSG00000124107</td>\n",
       "      <td>ALP</td>\n",
       "      <td>NCBI</td>\n",
       "    </tr>\n",
       "    <tr>\n",
       "      <th>286</th>\n",
       "      <td>CCL27</td>\n",
       "      <td>ALP,CTACK,CTAK,ESKINE,ILC,PESKY,SCYA27</td>\n",
       "      <td>ENSG00000213927</td>\n",
       "      <td>ALP</td>\n",
       "      <td>NCBI</td>\n",
       "    </tr>\n",
       "    <tr>\n",
       "      <th>124</th>\n",
       "      <td>PDLIM3</td>\n",
       "      <td>ALP</td>\n",
       "      <td>ENSG00000154553</td>\n",
       "      <td>ALP</td>\n",
       "      <td>ENSG</td>\n",
       "    </tr>\n",
       "    <tr>\n",
       "      <th>125</th>\n",
       "      <td>ASRGL1</td>\n",
       "      <td>ALP,ALP1,FLJ22316</td>\n",
       "      <td>ENSG00000162174</td>\n",
       "      <td>ALP</td>\n",
       "      <td>ENSG</td>\n",
       "    </tr>\n",
       "    <tr>\n",
       "      <th>126</th>\n",
       "      <td>CCL27</td>\n",
       "      <td>ALP,CTACK,CTAK,ESKINE,ILC,PESKY,SCYA27,SKINKINE</td>\n",
       "      <td>ENSG00000213927</td>\n",
       "      <td>ALP</td>\n",
       "      <td>ENSG</td>\n",
       "    </tr>\n",
       "    <tr>\n",
       "      <th>127</th>\n",
       "      <td>ATRNL1</td>\n",
       "      <td>ALP,FLJ45344,KIAA0534</td>\n",
       "      <td>ENSG00000107518</td>\n",
       "      <td>ALP</td>\n",
       "      <td>ENSG</td>\n",
       "    </tr>\n",
       "    <tr>\n",
       "      <th>128</th>\n",
       "      <td>SLPI</td>\n",
       "      <td>ALK1,ALP,BLPI,HUSI,HUSI-I,WAP4,WFDC4</td>\n",
       "      <td>ENSG00000124107</td>\n",
       "      <td>ALP</td>\n",
       "      <td>ENSG</td>\n",
       "    </tr>\n",
       "  </tbody>\n",
       "</table>\n",
       "</div>"
      ],
      "text/plain": [
       "    gene_symbol                                     alias_symbol  \\\n",
       "82       ASRGL1                                FLJ22316,ALP1,ALP   \n",
       "83         ATHS                                              ALP   \n",
       "84       ATRNL1                            KIAA0534,FLJ45344,ALP   \n",
       "85       PDLIM3                                              ALP   \n",
       "86        CCL27         ALP,ILC,CTACK,skinkine,ESkine,PESKY,CTAK   \n",
       "87         SLPI             HUSI-I,ALK1,ALP,BLPI,HUSI,WAP4,WFDC4   \n",
       "279      ASRGL1                                   ALP,ALP1,CRASH   \n",
       "280      ATRNL1                        ALP,bA338L11.1,bA454H24.1   \n",
       "281        ATHS                                              ALP   \n",
       "282       NAT10                                  ALP,Kre33,NET43   \n",
       "283        ALPP                    ALP,ALPI,IAP,PALP,PLAP,PLAP-1   \n",
       "284      PDLIM3                                              ALP   \n",
       "285        SLPI         ALK1,ALP,BLPI,HUSI,HUSI-I,MPI,WAP4,WFDC4   \n",
       "286       CCL27           ALP,CTACK,CTAK,ESKINE,ILC,PESKY,SCYA27   \n",
       "124      PDLIM3                                              ALP   \n",
       "125      ASRGL1                                ALP,ALP1,FLJ22316   \n",
       "126       CCL27  ALP,CTACK,CTAK,ESKINE,ILC,PESKY,SCYA27,SKINKINE   \n",
       "127      ATRNL1                            ALP,FLJ45344,KIAA0534   \n",
       "128        SLPI             ALK1,ALP,BLPI,HUSI,HUSI-I,WAP4,WFDC4   \n",
       "\n",
       "             ENSG_ID collision source  \n",
       "82   ENSG00000162174       ALP   HGNC  \n",
       "83               NaN       ALP   HGNC  \n",
       "84   ENSG00000107518       ALP   HGNC  \n",
       "85   ENSG00000154553       ALP   HGNC  \n",
       "86   ENSG00000213927       ALP   HGNC  \n",
       "87   ENSG00000124107       ALP   HGNC  \n",
       "279  ENSG00000162174       ALP   NCBI  \n",
       "280  ENSG00000107518       ALP   NCBI  \n",
       "281              NaN       ALP   NCBI  \n",
       "282  ENSG00000135372       ALP   NCBI  \n",
       "283  ENSG00000163283       ALP   NCBI  \n",
       "284  ENSG00000154553       ALP   NCBI  \n",
       "285  ENSG00000124107       ALP   NCBI  \n",
       "286  ENSG00000213927       ALP   NCBI  \n",
       "124  ENSG00000154553       ALP   ENSG  \n",
       "125  ENSG00000162174       ALP   ENSG  \n",
       "126  ENSG00000213927       ALP   ENSG  \n",
       "127  ENSG00000107518       ALP   ENSG  \n",
       "128  ENSG00000124107       ALP   ENSG  "
      ]
     },
     "execution_count": 51,
     "metadata": {},
     "output_type": "execute_result"
    }
   ],
   "source": [
    "merged_aa_collision_gene_df.loc[merged_aa_collision_gene_df.collision == \"ALP\"]"
   ]
  },
  {
   "cell_type": "markdown",
   "metadata": {},
   "source": [
    "# <a id='toc5_'></a>[Merge to create Alias-Alias Collision Table- On Alias Symbol](#toc0_)"
   ]
  },
  {
   "cell_type": "code",
   "execution_count": 52,
   "metadata": {},
   "outputs": [
    {
     "data": {
      "text/html": [
       "<div>\n",
       "<style scoped>\n",
       "    .dataframe tbody tr th:only-of-type {\n",
       "        vertical-align: middle;\n",
       "    }\n",
       "\n",
       "    .dataframe tbody tr th {\n",
       "        vertical-align: top;\n",
       "    }\n",
       "\n",
       "    .dataframe thead th {\n",
       "        text-align: right;\n",
       "    }\n",
       "</style>\n",
       "<table border=\"1\" class=\"dataframe\">\n",
       "  <thead>\n",
       "    <tr style=\"text-align: right;\">\n",
       "      <th></th>\n",
       "      <th>collision</th>\n",
       "      <th>gene_symbol</th>\n",
       "      <th>ENSG_ID</th>\n",
       "      <th>source</th>\n",
       "    </tr>\n",
       "  </thead>\n",
       "  <tbody>\n",
       "    <tr>\n",
       "      <th>0</th>\n",
       "      <td>2F1</td>\n",
       "      <td>KLRG1, SLC25A5</td>\n",
       "      <td>ENSG00000139187, ENSG00000005022</td>\n",
       "      <td>HGNC</td>\n",
       "    </tr>\n",
       "    <tr>\n",
       "      <th>1</th>\n",
       "      <td>60B8AG</td>\n",
       "      <td>S100A8, S100A9</td>\n",
       "      <td>ENSG00000143546, ENSG00000163220</td>\n",
       "      <td>HGNC</td>\n",
       "    </tr>\n",
       "    <tr>\n",
       "      <th>2</th>\n",
       "      <td>87U6</td>\n",
       "      <td>RNU6V, GNAI3</td>\n",
       "      <td>ENSG00000206832, ENSG00000065135</td>\n",
       "      <td>HGNC</td>\n",
       "    </tr>\n",
       "    <tr>\n",
       "      <th>3</th>\n",
       "      <td>9G8</td>\n",
       "      <td>SRSF7, SLU7</td>\n",
       "      <td>ENSG00000115875, ENSG00000164609</td>\n",
       "      <td>HGNC</td>\n",
       "    </tr>\n",
       "    <tr>\n",
       "      <th>4</th>\n",
       "      <td>A1</td>\n",
       "      <td>ATP6V0A1, RFC1, RFC4, RFC2</td>\n",
       "      <td>ENSG00000033627, ENSG00000035928, ENSG00000163...</td>\n",
       "      <td>HGNC</td>\n",
       "    </tr>\n",
       "    <tr>\n",
       "      <th>...</th>\n",
       "      <td>...</td>\n",
       "      <td>...</td>\n",
       "      <td>...</td>\n",
       "      <td>...</td>\n",
       "    </tr>\n",
       "    <tr>\n",
       "      <th>1612</th>\n",
       "      <td>ZIP4</td>\n",
       "      <td>TEX11, SLC39A4</td>\n",
       "      <td>ENSG00000120498, ENSG00000285243</td>\n",
       "      <td>ENSG</td>\n",
       "    </tr>\n",
       "    <tr>\n",
       "      <th>1613</th>\n",
       "      <td>ZNF422</td>\n",
       "      <td>ZNF22, PHF8</td>\n",
       "      <td>ENSG00000165512, ENSG00000172943</td>\n",
       "      <td>ENSG</td>\n",
       "    </tr>\n",
       "    <tr>\n",
       "      <th>1614</th>\n",
       "      <td>ZNT8</td>\n",
       "      <td>SLC30A8, SLC30A10</td>\n",
       "      <td>ENSG00000164756, ENSG00000196660</td>\n",
       "      <td>ENSG</td>\n",
       "    </tr>\n",
       "    <tr>\n",
       "      <th>1615</th>\n",
       "      <td>ZRC1</td>\n",
       "      <td>SLC30A10, SLC30A1</td>\n",
       "      <td>ENSG00000196660, ENSG00000170385</td>\n",
       "      <td>ENSG</td>\n",
       "    </tr>\n",
       "    <tr>\n",
       "      <th>1616</th>\n",
       "      <td>ZYG11</td>\n",
       "      <td>ZYG11B, ZYG11A</td>\n",
       "      <td>ENSG00000162378, ENSG00000203995</td>\n",
       "      <td>ENSG</td>\n",
       "    </tr>\n",
       "  </tbody>\n",
       "</table>\n",
       "<p>6578 rows × 4 columns</p>\n",
       "</div>"
      ],
      "text/plain": [
       "     collision                 gene_symbol  \\\n",
       "0          2F1              KLRG1, SLC25A5   \n",
       "1       60B8AG              S100A8, S100A9   \n",
       "2         87U6                RNU6V, GNAI3   \n",
       "3          9G8                 SRSF7, SLU7   \n",
       "4           A1  ATP6V0A1, RFC1, RFC4, RFC2   \n",
       "...        ...                         ...   \n",
       "1612      ZIP4              TEX11, SLC39A4   \n",
       "1613    ZNF422                 ZNF22, PHF8   \n",
       "1614      ZNT8           SLC30A8, SLC30A10   \n",
       "1615      ZRC1           SLC30A10, SLC30A1   \n",
       "1616     ZYG11              ZYG11B, ZYG11A   \n",
       "\n",
       "                                                ENSG_ID source  \n",
       "0                      ENSG00000139187, ENSG00000005022   HGNC  \n",
       "1                      ENSG00000143546, ENSG00000163220   HGNC  \n",
       "2                      ENSG00000206832, ENSG00000065135   HGNC  \n",
       "3                      ENSG00000115875, ENSG00000164609   HGNC  \n",
       "4     ENSG00000033627, ENSG00000035928, ENSG00000163...   HGNC  \n",
       "...                                                 ...    ...  \n",
       "1612                   ENSG00000120498, ENSG00000285243   ENSG  \n",
       "1613                   ENSG00000165512, ENSG00000172943   ENSG  \n",
       "1614                   ENSG00000164756, ENSG00000196660   ENSG  \n",
       "1615                   ENSG00000196660, ENSG00000170385   ENSG  \n",
       "1616                   ENSG00000162378, ENSG00000203995   ENSG  \n",
       "\n",
       "[6578 rows x 4 columns]"
      ]
     },
     "execution_count": 52,
     "metadata": {},
     "output_type": "execute_result"
    }
   ],
   "source": [
    "merged_aa_collision_alias_df = pd.concat(\n",
    "    [\n",
    "        aa_collision_alias_hgnc_df[[\"collision\", \"gene_symbol\", \"ENSG_ID\", \"source\"]],\n",
    "        aa_collision_alias_ncbi_df[[\"collision\", \"gene_symbol\", \"ENSG_ID\", \"source\"]],\n",
    "        aa_collision_alias_ensg_df[[\"collision\", \"gene_symbol\", \"ENSG_ID\", \"source\"]],\n",
    "    ]\n",
    ")\n",
    "merged_aa_collision_alias_df"
   ]
  },
  {
   "cell_type": "code",
   "execution_count": 53,
   "metadata": {},
   "outputs": [
    {
     "data": {
      "text/html": [
       "<div>\n",
       "<style scoped>\n",
       "    .dataframe tbody tr th:only-of-type {\n",
       "        vertical-align: middle;\n",
       "    }\n",
       "\n",
       "    .dataframe tbody tr th {\n",
       "        vertical-align: top;\n",
       "    }\n",
       "\n",
       "    .dataframe thead th {\n",
       "        text-align: right;\n",
       "    }\n",
       "</style>\n",
       "<table border=\"1\" class=\"dataframe\">\n",
       "  <thead>\n",
       "    <tr style=\"text-align: right;\">\n",
       "      <th></th>\n",
       "      <th>collision</th>\n",
       "      <th>gene_symbol</th>\n",
       "      <th>ENSG_ID</th>\n",
       "      <th>source</th>\n",
       "      <th>gene_symbol_count</th>\n",
       "    </tr>\n",
       "  </thead>\n",
       "  <tbody>\n",
       "    <tr>\n",
       "      <th>3636</th>\n",
       "      <td>VH</td>\n",
       "      <td>[IGHV4-59,  IGHV4-39,  IGHV4-34,  IGHV4-28,  I...</td>\n",
       "      <td>ENSG00000224373, ENSG00000211959, ENSG00000211...</td>\n",
       "      <td>NCBI</td>\n",
       "      <td>37</td>\n",
       "    </tr>\n",
       "    <tr>\n",
       "      <th>1409</th>\n",
       "      <td>H4-16</td>\n",
       "      <td>[H4C4,  H4C8,  H4C16,  H4C3,  H4C11,  H4C5,  H...</td>\n",
       "      <td>ENSG00000277157, ENSG00000158406, ENSG00000197...</td>\n",
       "      <td>NCBI</td>\n",
       "      <td>14</td>\n",
       "    </tr>\n",
       "    <tr>\n",
       "      <th>1412</th>\n",
       "      <td>H4C12</td>\n",
       "      <td>[H4C3,  H4C16,  H4C14,  H4C13,  H4C2,  H4C9,  ...</td>\n",
       "      <td>ENSG00000197061, ENSG00000197837, ENSG00000270...</td>\n",
       "      <td>NCBI</td>\n",
       "      <td>13</td>\n",
       "    </tr>\n",
       "    <tr>\n",
       "      <th>1413</th>\n",
       "      <td>H4C13</td>\n",
       "      <td>[H4C1,  H4C15,  H4C16,  H4C9,  H4C8,  H4C4,  H...</td>\n",
       "      <td>ENSG00000278637, ENSG00000270276, ENSG00000197...</td>\n",
       "      <td>NCBI</td>\n",
       "      <td>13</td>\n",
       "    </tr>\n",
       "    <tr>\n",
       "      <th>1423</th>\n",
       "      <td>H4C9</td>\n",
       "      <td>[H4C11,  H4C6,  H4C15,  H4C16,  H4C1,  H4C5,  ...</td>\n",
       "      <td>ENSG00000197238, ENSG00000274618, ENSG00000270...</td>\n",
       "      <td>NCBI</td>\n",
       "      <td>13</td>\n",
       "    </tr>\n",
       "    <tr>\n",
       "      <th>...</th>\n",
       "      <td>...</td>\n",
       "      <td>...</td>\n",
       "      <td>...</td>\n",
       "      <td>...</td>\n",
       "      <td>...</td>\n",
       "    </tr>\n",
       "    <tr>\n",
       "      <th>1151</th>\n",
       "      <td>FEB3B</td>\n",
       "      <td>[SCN9A,  GEFSP7]</td>\n",
       "      <td>ENSG00000169432, nan</td>\n",
       "      <td>NCBI</td>\n",
       "      <td>2</td>\n",
       "    </tr>\n",
       "    <tr>\n",
       "      <th>1150</th>\n",
       "      <td>FE</td>\n",
       "      <td>[GTF2E1,  GTF2E2]</td>\n",
       "      <td>ENSG00000153767, ENSG00000197265</td>\n",
       "      <td>NCBI</td>\n",
       "      <td>2</td>\n",
       "    </tr>\n",
       "    <tr>\n",
       "      <th>1149</th>\n",
       "      <td>FDH</td>\n",
       "      <td>[ADH5,  ALDH1L1]</td>\n",
       "      <td>ENSG00000197894, ENSG00000144908</td>\n",
       "      <td>NCBI</td>\n",
       "      <td>2</td>\n",
       "    </tr>\n",
       "    <tr>\n",
       "      <th>1148</th>\n",
       "      <td>FCT3A</td>\n",
       "      <td>[FUT6,  FUT4]</td>\n",
       "      <td>ENSG00000156413, ENSG00000196371</td>\n",
       "      <td>NCBI</td>\n",
       "      <td>2</td>\n",
       "    </tr>\n",
       "    <tr>\n",
       "      <th>1616</th>\n",
       "      <td>ZYG11</td>\n",
       "      <td>[ZYG11B,  ZYG11A]</td>\n",
       "      <td>ENSG00000162378, ENSG00000203995</td>\n",
       "      <td>ENSG</td>\n",
       "      <td>2</td>\n",
       "    </tr>\n",
       "  </tbody>\n",
       "</table>\n",
       "<p>6578 rows × 5 columns</p>\n",
       "</div>"
      ],
      "text/plain": [
       "     collision                                        gene_symbol  \\\n",
       "3636        VH  [IGHV4-59,  IGHV4-39,  IGHV4-34,  IGHV4-28,  I...   \n",
       "1409     H4-16  [H4C4,  H4C8,  H4C16,  H4C3,  H4C11,  H4C5,  H...   \n",
       "1412     H4C12  [H4C3,  H4C16,  H4C14,  H4C13,  H4C2,  H4C9,  ...   \n",
       "1413     H4C13  [H4C1,  H4C15,  H4C16,  H4C9,  H4C8,  H4C4,  H...   \n",
       "1423      H4C9  [H4C11,  H4C6,  H4C15,  H4C16,  H4C1,  H4C5,  ...   \n",
       "...        ...                                                ...   \n",
       "1151     FEB3B                                   [SCN9A,  GEFSP7]   \n",
       "1150        FE                                  [GTF2E1,  GTF2E2]   \n",
       "1149       FDH                                   [ADH5,  ALDH1L1]   \n",
       "1148     FCT3A                                      [FUT6,  FUT4]   \n",
       "1616     ZYG11                                  [ZYG11B,  ZYG11A]   \n",
       "\n",
       "                                                ENSG_ID source  \\\n",
       "3636  ENSG00000224373, ENSG00000211959, ENSG00000211...   NCBI   \n",
       "1409  ENSG00000277157, ENSG00000158406, ENSG00000197...   NCBI   \n",
       "1412  ENSG00000197061, ENSG00000197837, ENSG00000270...   NCBI   \n",
       "1413  ENSG00000278637, ENSG00000270276, ENSG00000197...   NCBI   \n",
       "1423  ENSG00000197238, ENSG00000274618, ENSG00000270...   NCBI   \n",
       "...                                                 ...    ...   \n",
       "1151                               ENSG00000169432, nan   NCBI   \n",
       "1150                   ENSG00000153767, ENSG00000197265   NCBI   \n",
       "1149                   ENSG00000197894, ENSG00000144908   NCBI   \n",
       "1148                   ENSG00000156413, ENSG00000196371   NCBI   \n",
       "1616                   ENSG00000162378, ENSG00000203995   ENSG   \n",
       "\n",
       "      gene_symbol_count  \n",
       "3636                 37  \n",
       "1409                 14  \n",
       "1412                 13  \n",
       "1413                 13  \n",
       "1423                 13  \n",
       "...                 ...  \n",
       "1151                  2  \n",
       "1150                  2  \n",
       "1149                  2  \n",
       "1148                  2  \n",
       "1616                  2  \n",
       "\n",
       "[6578 rows x 5 columns]"
      ]
     },
     "execution_count": 53,
     "metadata": {},
     "output_type": "execute_result"
    }
   ],
   "source": [
    "merged_aa_collision_alias_df[\"gene_symbol\"] = merged_aa_collision_alias_df[\n",
    "    \"gene_symbol\"\n",
    "].str.split(\",\")\n",
    "merged_aa_collision_alias_df[\"gene_symbol_count\"] = [\n",
    "    len(c) for c in merged_aa_collision_alias_df[\"gene_symbol\"]\n",
    "]\n",
    "merged_aa_collision_alias_df = merged_aa_collision_alias_df.sort_values(\n",
    "    by=\"gene_symbol_count\", ascending=False\n",
    ")\n",
    "merged_aa_collision_alias_df"
   ]
  },
  {
   "cell_type": "code",
   "execution_count": 54,
   "metadata": {},
   "outputs": [
    {
     "data": {
      "text/html": [
       "<div>\n",
       "<style scoped>\n",
       "    .dataframe tbody tr th:only-of-type {\n",
       "        vertical-align: middle;\n",
       "    }\n",
       "\n",
       "    .dataframe tbody tr th {\n",
       "        vertical-align: top;\n",
       "    }\n",
       "\n",
       "    .dataframe thead th {\n",
       "        text-align: right;\n",
       "    }\n",
       "</style>\n",
       "<table border=\"1\" class=\"dataframe\">\n",
       "  <thead>\n",
       "    <tr style=\"text-align: right;\">\n",
       "      <th></th>\n",
       "      <th>collision</th>\n",
       "      <th>gene_symbol</th>\n",
       "      <th>ENSG_ID</th>\n",
       "      <th>source</th>\n",
       "      <th>gene_symbol_count</th>\n",
       "    </tr>\n",
       "  </thead>\n",
       "  <tbody>\n",
       "    <tr>\n",
       "      <th>236</th>\n",
       "      <td>ASP</td>\n",
       "      <td>[ROPN1L,  TMPRSS11D,  ASPM,  A1CF,  ATG5,  ASP...</td>\n",
       "      <td>ENSG00000145491, ENSG00000153802, ENSG00000066...</td>\n",
       "      <td>NCBI</td>\n",
       "      <td>8</td>\n",
       "    </tr>\n",
       "    <tr>\n",
       "      <th>112</th>\n",
       "      <td>ASP</td>\n",
       "      <td>[ATG5,  ROPN1L,  ASPA,  A1CF,  TMPRSS11D,  ASI...</td>\n",
       "      <td>ENSG00000057663, ENSG00000145491, ENSG00000108...</td>\n",
       "      <td>ENSG</td>\n",
       "      <td>7</td>\n",
       "    </tr>\n",
       "    <tr>\n",
       "      <th>82</th>\n",
       "      <td>ASP</td>\n",
       "      <td>[TMPRSS11D,  ROPN1L,  ATG5,  A1CF,  ASPM,  ASP...</td>\n",
       "      <td>ENSG00000153802, ENSG00000145491, ENSG00000057...</td>\n",
       "      <td>HGNC</td>\n",
       "      <td>7</td>\n",
       "    </tr>\n",
       "  </tbody>\n",
       "</table>\n",
       "</div>"
      ],
      "text/plain": [
       "    collision                                        gene_symbol  \\\n",
       "236       ASP  [ROPN1L,  TMPRSS11D,  ASPM,  A1CF,  ATG5,  ASP...   \n",
       "112       ASP  [ATG5,  ROPN1L,  ASPA,  A1CF,  TMPRSS11D,  ASI...   \n",
       "82        ASP  [TMPRSS11D,  ROPN1L,  ATG5,  A1CF,  ASPM,  ASP...   \n",
       "\n",
       "                                               ENSG_ID source  \\\n",
       "236  ENSG00000145491, ENSG00000153802, ENSG00000066...   NCBI   \n",
       "112  ENSG00000057663, ENSG00000145491, ENSG00000108...   ENSG   \n",
       "82   ENSG00000153802, ENSG00000145491, ENSG00000057...   HGNC   \n",
       "\n",
       "     gene_symbol_count  \n",
       "236                  8  \n",
       "112                  7  \n",
       "82                   7  "
      ]
     },
     "execution_count": 54,
     "metadata": {},
     "output_type": "execute_result"
    }
   ],
   "source": [
    "merged_aa_collision_alias_df.loc[merged_aa_collision_alias_df[\"collision\"] == \"ASP\"]"
   ]
  },
  {
   "cell_type": "code",
   "execution_count": 55,
   "metadata": {},
   "outputs": [],
   "source": [
    "merged_aa_collision_alias_df.to_csv(\n",
    "    \"../created_files/merged_aa_collision_alias_df.csv\", index=True, quoting=0\n",
    ")"
   ]
  },
  {
   "cell_type": "code",
   "execution_count": 56,
   "metadata": {},
   "outputs": [
    {
     "data": {
      "text/plain": [
       "3824"
      ]
     },
     "execution_count": 56,
     "metadata": {},
     "output_type": "execute_result"
    }
   ],
   "source": [
    "aa_collision_set = set(merged_aa_collision_alias_df[\"collision\"].tolist())\n",
    "len(aa_collision_set)"
   ]
  },
  {
   "cell_type": "markdown",
   "metadata": {},
   "source": [
    "# <a id='toc6_'></a>[How many unique primary gene symbols are there?](#toc0_)"
   ]
  },
  {
   "cell_type": "markdown",
   "metadata": {},
   "source": [
    "## <a id='toc6_1_'></a>[Per Source](#toc0_)"
   ]
  },
  {
   "cell_type": "code",
   "execution_count": 57,
   "metadata": {},
   "outputs": [],
   "source": [
    "ensg_gene_symbol_set = set(mini_ensg_df[\"gene_symbol\"])\n",
    "ensg_gene_symbol_count = len(ensg_gene_symbol_set)"
   ]
  },
  {
   "cell_type": "code",
   "execution_count": 58,
   "metadata": {},
   "outputs": [],
   "source": [
    "hgnc_gene_symbol_set = set(mini_hgnc_df[\"gene_symbol\"])\n",
    "hgnc_gene_symbol_count = len(hgnc_gene_symbol_set)"
   ]
  },
  {
   "cell_type": "code",
   "execution_count": 59,
   "metadata": {},
   "outputs": [],
   "source": [
    "ncbi_gene_symbol_set = set(mini_ncbi_df[\"gene_symbol\"])\n",
    "ncbi_gene_symbol_count = len(ncbi_gene_symbol_set)"
   ]
  },
  {
   "cell_type": "code",
   "execution_count": 60,
   "metadata": {},
   "outputs": [
    {
     "data": {
      "text/html": [
       "<div>\n",
       "<style scoped>\n",
       "    .dataframe tbody tr th:only-of-type {\n",
       "        vertical-align: middle;\n",
       "    }\n",
       "\n",
       "    .dataframe tbody tr th {\n",
       "        vertical-align: top;\n",
       "    }\n",
       "\n",
       "    .dataframe thead th {\n",
       "        text-align: right;\n",
       "    }\n",
       "</style>\n",
       "<table border=\"1\" class=\"dataframe\">\n",
       "  <thead>\n",
       "    <tr style=\"text-align: right;\">\n",
       "      <th></th>\n",
       "      <th>Number of Unique Primary Gene Symbols</th>\n",
       "    </tr>\n",
       "  </thead>\n",
       "  <tbody>\n",
       "    <tr>\n",
       "      <th>HGNC</th>\n",
       "      <td>41068</td>\n",
       "    </tr>\n",
       "    <tr>\n",
       "      <th>ENSG</th>\n",
       "      <td>45646</td>\n",
       "    </tr>\n",
       "    <tr>\n",
       "      <th>NCBI</th>\n",
       "      <td>193303</td>\n",
       "    </tr>\n",
       "  </tbody>\n",
       "</table>\n",
       "</div>"
      ],
      "text/plain": [
       "      Number of Unique Primary Gene Symbols\n",
       "HGNC                                  41068\n",
       "ENSG                                  45646\n",
       "NCBI                                 193303"
      ]
     },
     "execution_count": 60,
     "metadata": {},
     "output_type": "execute_result"
    }
   ],
   "source": [
    "unique_primary_symbol_summary_index = \"HGNC\", \"ENSG\", \"NCBI\"\n",
    "unique_primary_symbol_summary = {\n",
    "    \"Number of Unique Primary Gene Symbols\": [\n",
    "        ensg_gene_symbol_count,\n",
    "        hgnc_gene_symbol_count,\n",
    "        ncbi_gene_symbol_count,\n",
    "    ]\n",
    "}\n",
    "unique_primary_symbol_summary_df = pd.DataFrame(\n",
    "    unique_primary_symbol_summary, index = unique_primary_symbol_summary_index\n",
    ")\n",
    "unique_primary_symbol_summary_df"
   ]
  },
  {
   "cell_type": "markdown",
   "metadata": {},
   "source": [
    "## <a id='toc6_2_'></a>[All sources](#toc0_)"
   ]
  },
  {
   "cell_type": "markdown",
   "metadata": {},
   "source": [
    "### <a id='toc6_2_1_'></a>[How many symbols appear in all sources?](#toc0_)"
   ]
  },
  {
   "cell_type": "code",
   "execution_count": 61,
   "metadata": {},
   "outputs": [
    {
     "data": {
      "text/plain": [
       "40885"
      ]
     },
     "execution_count": 61,
     "metadata": {},
     "output_type": "execute_result"
    }
   ],
   "source": [
    "all_sources_unique_primary_symbol_set = (\n",
    "    ensg_gene_symbol_set\n",
    "    & hgnc_gene_symbol_set\n",
    "    & ncbi_gene_symbol_set\n",
    ")\n",
    "all_sources_unique_primary_symbol_count = len(all_sources_unique_primary_symbol_set)\n",
    "all_sources_unique_primary_symbol_count"
   ]
  },
  {
   "cell_type": "markdown",
   "metadata": {},
   "source": [
    "Side Quest"
   ]
  },
  {
   "cell_type": "markdown",
   "metadata": {},
   "source": [
    "### NCBI has almost 4x times the amount of unique primary gene symbols than the other sources. Why? What are they?"
   ]
  },
  {
   "cell_type": "code",
   "execution_count": 62,
   "metadata": {},
   "outputs": [],
   "source": [
    "only_ncbi_gene_symbol_set = ncbi_gene_symbol_set - all_sources_unique_primary_symbol_set"
   ]
  },
  {
   "cell_type": "code",
   "execution_count": 63,
   "metadata": {},
   "outputs": [
    {
     "data": {
      "text/plain": [
       "152418"
      ]
     },
     "execution_count": 63,
     "metadata": {},
     "output_type": "execute_result"
    }
   ],
   "source": [
    "len(only_ncbi_gene_symbol_set)"
   ]
  },
  {
   "cell_type": "code",
   "execution_count": 64,
   "metadata": {},
   "outputs": [
    {
     "data": {
      "text/plain": [
       "{'LOC127883224',\n",
       " 'LOC132089562',\n",
       " 'LOC127271054',\n",
       " 'LOC129995546',\n",
       " 'LOC123575584',\n",
       " 'LOC130007036',\n",
       " 'LOC124902236',\n",
       " 'LOC129662296',\n",
       " 'LOC127396599',\n",
       " 'LOC127404595',\n",
       " 'LOC126806234',\n",
       " 'LOC129997959',\n",
       " 'LOC111216289',\n",
       " 'LOC117135106',\n",
       " 'LOC129936125',\n",
       " 'LOC127814970',\n",
       " 'LOC129932383',\n",
       " 'LOC127883614',\n",
       " 'LOC127459147',\n",
       " 'LOC129935732',\n",
       " 'LOC129664660',\n",
       " 'LOC127458376',\n",
       " 'LOC129933101',\n",
       " 'LOC129389936',\n",
       " 'LOC127268676',\n",
       " 'LOC132089791',\n",
       " 'LOC127271368',\n",
       " 'LOC127888011',\n",
       " 'LOC124903753',\n",
       " 'LOC129390524',\n",
       " 'LOC127821761',\n",
       " 'LOC124906064',\n",
       " 'LOC101927268',\n",
       " 'LOC130063360',\n",
       " 'LOC127403538',\n",
       " 'LOC127274872',\n",
       " 'LOC128772266',\n",
       " 'LOC127826263',\n",
       " 'LOC130005007',\n",
       " 'LOC132089955',\n",
       " 'LOC127817989',\n",
       " 'LOC105378402',\n",
       " 'LOC113687181',\n",
       " 'LOC127897192',\n",
       " 'LOC100420513',\n",
       " 'LOC129660133',\n",
       " 'TRV-TAC1-1',\n",
       " 'LOC124901330',\n",
       " 'LOC132089994',\n",
       " 'LOC127457972',\n",
       " 'LOC127882636',\n",
       " 'LOC130061470',\n",
       " 'LOC124906034',\n",
       " 'LOC106020711',\n",
       " 'LOC130067536',\n",
       " 'LOC127408649',\n",
       " 'LOC127402209',\n",
       " 'LOC129938324',\n",
       " 'LOC130002429',\n",
       " 'LOC105376140',\n",
       " 'LOC130061258',\n",
       " 'LOC127275852',\n",
       " 'LOC129662332',\n",
       " 'LOC130061875',\n",
       " 'LOC129663495',\n",
       " 'LOC127887760',\n",
       " 'LOC102723815',\n",
       " 'LOC112268273',\n",
       " 'LOC127403974',\n",
       " 'TRL-CAA5-1',\n",
       " 'LOC129933767',\n",
       " 'LOC124900928',\n",
       " 'LOC105372826',\n",
       " 'LOC127401493',\n",
       " 'LOC130059222',\n",
       " 'LOC129929444',\n",
       " 'LOC127814643',\n",
       " 'LOC130060489',\n",
       " 'LOC105377055',\n",
       " 'LOC129937527',\n",
       " 'LOC127897032',\n",
       " 'LOC121627877',\n",
       " 'LOC126860842',\n",
       " 'LOC127828129',\n",
       " 'LOC130004572',\n",
       " 'LOC132089377',\n",
       " 'LOC129935739',\n",
       " 'LOC105377114',\n",
       " 'LOC129996914',\n",
       " 'LOC127891665',\n",
       " 'LOC129931870',\n",
       " 'TRR-TCT5-1',\n",
       " 'LOC105373023',\n",
       " 'LOC124908938',\n",
       " 'LOC127396857',\n",
       " 'LOC129936291',\n",
       " 'LOC127459546',\n",
       " 'LOC127828343',\n",
       " 'LOC129937314',\n",
       " 'SSX16P',\n",
       " 'LOC127399949',\n",
       " 'LOC127829552',\n",
       " 'LOC127408871',\n",
       " 'LOC124908587',\n",
       " 'LOC129993612',\n",
       " 'LOC130006633',\n",
       " 'LOC130010140',\n",
       " 'LOC129992026',\n",
       " 'LOC130060769',\n",
       " 'LOC127884560',\n",
       " 'LOC127406547',\n",
       " 'LOC130004952',\n",
       " 'LOC105378250',\n",
       " 'LOC127401867',\n",
       " 'LOC127459430',\n",
       " 'LOC129996286',\n",
       " 'LOC127408228',\n",
       " 'LOC130066101',\n",
       " 'LOC130068254',\n",
       " 'LOC124902604',\n",
       " 'LOC130004412',\n",
       " 'LOC127894006',\n",
       " 'LOC129994524',\n",
       " 'LOC124902806',\n",
       " 'LOC105372396',\n",
       " 'LOC126807377',\n",
       " 'LOC121366086',\n",
       " 'LOC127889564',\n",
       " 'LOC130065285',\n",
       " 'LOC127892204',\n",
       " 'LOC127891799',\n",
       " 'LOC129931840',\n",
       " 'LOC127884756',\n",
       " 'LOC127403358',\n",
       " 'LOC129937729',\n",
       " 'LOC127814611',\n",
       " 'LOC127827451',\n",
       " 'LOC126862913',\n",
       " 'LOC125371457',\n",
       " 'LOC127892500',\n",
       " 'LOC130001704',\n",
       " 'LOC129389367',\n",
       " 'LOC130063443',\n",
       " 'LOC121627869',\n",
       " 'LOC126861586',\n",
       " 'LOC127884566',\n",
       " 'LOC130002653',\n",
       " 'LOC126860346',\n",
       " 'LOC127822403',\n",
       " 'LOC127396544',\n",
       " 'LOC127896313',\n",
       " 'LOC127398384',\n",
       " 'LOC127821817',\n",
       " 'LOC107985279',\n",
       " 'LOC126863300',\n",
       " 'LOC127459411',\n",
       " 'LOC129388699',\n",
       " 'LOC126860631',\n",
       " 'LOC129938075',\n",
       " 'LOC100420536',\n",
       " 'LOC124900902',\n",
       " 'LOC127823309',\n",
       " 'LOC127267536',\n",
       " 'LOC127458699',\n",
       " 'LOC130009342',\n",
       " 'LOC127404072',\n",
       " 'LOC129934737',\n",
       " 'LOC130061606',\n",
       " 'LOC126805860',\n",
       " 'LOC129936728',\n",
       " 'LOC130063556',\n",
       " 'LOC129660635',\n",
       " 'LOC126859567',\n",
       " 'LOC127460644',\n",
       " 'LOC130068564',\n",
       " 'LOC127397457',\n",
       " 'LOC129996349',\n",
       " 'LOC130006922',\n",
       " 'LOC127403848',\n",
       " 'LOC112268204',\n",
       " 'LOC113875016',\n",
       " 'LOC126859903',\n",
       " 'LOC130065685',\n",
       " 'LOC127887007',\n",
       " 'LOC129660600',\n",
       " 'LOC127884077',\n",
       " 'LOC105373342',\n",
       " 'LOC100420775',\n",
       " 'LOC127830539',\n",
       " 'LOC127398898',\n",
       " 'LOC126860887',\n",
       " 'LOC127884433',\n",
       " 'LOC127895040',\n",
       " 'LOC130001005',\n",
       " 'LOC101927023',\n",
       " 'LOC127886509',\n",
       " 'LOC129932614',\n",
       " 'LOC127270343',\n",
       " 'LOC124903030',\n",
       " 'LOC129932600',\n",
       " 'LOC130009212',\n",
       " 'LOC105375587',\n",
       " 'LOC126861989',\n",
       " 'LOC127830065',\n",
       " 'LOC127268637',\n",
       " 'LOC127827254',\n",
       " 'LOC127273545',\n",
       " 'LOC100130620',\n",
       " 'LOC132089155',\n",
       " 'LOC127268155',\n",
       " 'SNORA89',\n",
       " 'LOC127819609',\n",
       " 'LOC130004071',\n",
       " 'MRPS6P1',\n",
       " 'LOC127824621',\n",
       " 'LOC127888891',\n",
       " 'LOC129937247',\n",
       " 'LOC130058992',\n",
       " 'LOC129931117',\n",
       " 'LOC127888754',\n",
       " 'LOC129662804',\n",
       " 'LOC129936495',\n",
       " 'LOC130057670',\n",
       " 'LOC129996228',\n",
       " 'LOC127895683',\n",
       " 'LOC127267236',\n",
       " 'LOC127897398',\n",
       " 'LOC110120629',\n",
       " 'LOC115995532',\n",
       " 'LOC127407753',\n",
       " 'LOC127821827',\n",
       " 'LOC130002639',\n",
       " 'LOC100533842',\n",
       " 'LOC126861620',\n",
       " 'LOC132090550',\n",
       " 'LOC130058276',\n",
       " 'LOC127887993',\n",
       " 'LOC127891880',\n",
       " 'LOC129998275',\n",
       " 'LOC121392930',\n",
       " 'LOC130060384',\n",
       " 'LOC105373873',\n",
       " 'LOC129390696',\n",
       " 'LOC127272455',\n",
       " 'LOC124903489',\n",
       " 'LOC127398807',\n",
       " 'LOC127829640',\n",
       " 'LOC127889029',\n",
       " 'LOC130006326',\n",
       " 'LOC127883887',\n",
       " 'LOC129991948',\n",
       " 'LOC127272999',\n",
       " 'LOC127891902',\n",
       " 'LOC127269836',\n",
       " 'LOC127403647',\n",
       " 'LOC107305685',\n",
       " 'LOC124310654',\n",
       " 'LOC127886725',\n",
       " 'MTND6P31',\n",
       " 'LOC126860104',\n",
       " 'LOC129934151',\n",
       " 'LOC127884643',\n",
       " 'LOC129931432',\n",
       " 'LOC129662487',\n",
       " 'LOC130058073',\n",
       " 'LOC129664061',\n",
       " 'LOC100420586',\n",
       " 'LOC129999435',\n",
       " 'LOC129999464',\n",
       " 'TRL-TAA2-1',\n",
       " 'LOC129663218',\n",
       " 'LOC127408537',\n",
       " 'LOC105372330',\n",
       " 'LOC130005425',\n",
       " 'LOC127815661',\n",
       " 'LOC129930865',\n",
       " 'LOC130062022',\n",
       " 'LOC130006587',\n",
       " 'LOC105378983',\n",
       " 'DYZ1L16',\n",
       " 'LOC129993634',\n",
       " 'LOC130058395',\n",
       " 'LOC129930598',\n",
       " 'LOC129996264',\n",
       " 'LOC129996181',\n",
       " 'LOC129938107',\n",
       " 'LOC124153149',\n",
       " 'LOC127400392',\n",
       " 'LOC127270998',\n",
       " 'LOC129389509',\n",
       " 'LOC127457734',\n",
       " 'LOC126859620',\n",
       " 'LOC129996902',\n",
       " 'LOC130003021',\n",
       " 'LOC130065513',\n",
       " 'LOC102723654',\n",
       " 'LOC127459108',\n",
       " 'LOC110121136',\n",
       " 'LOC130065194',\n",
       " 'LOC127883631',\n",
       " 'LOC130004937',\n",
       " 'LOC129992616',\n",
       " 'LOC130007794',\n",
       " 'LOC127399796',\n",
       " 'LOC102724058',\n",
       " 'LOC127829040',\n",
       " 'LOC132088840',\n",
       " 'LOC127828337',\n",
       " 'LOC130066113',\n",
       " 'LOC121740676',\n",
       " 'LOC124908766',\n",
       " 'LOC127892326',\n",
       " 'LOC129998285',\n",
       " 'LOC124902553',\n",
       " 'LOC100421094',\n",
       " 'LOC129663979',\n",
       " 'LOC112268023',\n",
       " 'LOC130008806',\n",
       " 'LOC120961755',\n",
       " 'LOC125446249',\n",
       " 'LOC127824839',\n",
       " 'LOC130009051',\n",
       " 'LOC129993501',\n",
       " 'LOC126806163',\n",
       " 'LOC124908134',\n",
       " 'LOC108449888',\n",
       " 'LOC124901788',\n",
       " 'LOC130007259',\n",
       " 'LOC129996940',\n",
       " 'LOC127895399',\n",
       " 'LOC105373836',\n",
       " 'LOC127405613',\n",
       " 'LOC129389221',\n",
       " 'LOC130002142',\n",
       " 'LOC130002976',\n",
       " 'LOC127398620',\n",
       " 'LOC127822620',\n",
       " 'LOC129662719',\n",
       " 'LOC126861545',\n",
       " 'LOC130058405',\n",
       " 'LOC129661517',\n",
       " 'LOC129935407',\n",
       " 'LOC130068814',\n",
       " 'LOC125146369',\n",
       " 'LOC130009113',\n",
       " 'LOC129999721',\n",
       " 'LOC101927608',\n",
       " 'LOC127891464',\n",
       " 'LOC130006224',\n",
       " 'LOC130008165',\n",
       " 'LOC127830638',\n",
       " 'LOC127814843',\n",
       " 'LOC127398297',\n",
       " 'SNORA91',\n",
       " 'LOC113748397',\n",
       " 'LOC123956195',\n",
       " 'LOC112533653',\n",
       " 'LOC124416888',\n",
       " 'LOC127270767',\n",
       " 'NMTRQ-TTG14-1',\n",
       " 'LOC127815919',\n",
       " 'LOC127888531',\n",
       " 'LOC129388502',\n",
       " 'LOC127891502',\n",
       " 'LOC127399043',\n",
       " 'LOC120961752',\n",
       " 'LOC127891954',\n",
       " 'LOC121740678',\n",
       " 'LOC110120924',\n",
       " 'LOC127275453',\n",
       " 'LOC127405781',\n",
       " 'LOC129934890',\n",
       " 'LOC129934146',\n",
       " 'LOC127895662',\n",
       " 'LOC111365171',\n",
       " 'LOC127894689',\n",
       " 'LOC127267938',\n",
       " 'LOC129932343',\n",
       " 'LOC130055874',\n",
       " 'LOC127400943',\n",
       " 'LOC130007486',\n",
       " 'LOC127397189',\n",
       " 'LOC129995832',\n",
       " 'LOC126806986',\n",
       " 'LOC127269637',\n",
       " 'LOC127402690',\n",
       " 'LOC127399348',\n",
       " 'LOC127828669',\n",
       " 'LOC107987349',\n",
       " 'LOC127891311',\n",
       " 'LOC124902796',\n",
       " 'LOC127821495',\n",
       " 'LOC126807378',\n",
       " 'LOC129931517',\n",
       " 'LOC127820076',\n",
       " 'LOC127888271',\n",
       " 'LOC130003412',\n",
       " 'LOC127821198',\n",
       " 'LOC126861081',\n",
       " 'LOC127822065',\n",
       " 'LOC127896081',\n",
       " 'LOC130004882',\n",
       " 'LOC129994846',\n",
       " 'LOC130006271',\n",
       " 'LOC105377500',\n",
       " 'LOC129997233',\n",
       " 'LOC129996360',\n",
       " 'LOC132089865',\n",
       " 'LOC130005608',\n",
       " 'LOC123575609',\n",
       " 'LOC112577481',\n",
       " 'LOC125177511',\n",
       " 'LOC127829227',\n",
       " 'IGLJ',\n",
       " 'LOC110121413',\n",
       " 'LOC100419980',\n",
       " 'LOC132089858',\n",
       " 'LOC129390550',\n",
       " 'LOC127815659',\n",
       " 'LOC127267457',\n",
       " 'LOC127406859',\n",
       " 'LOC127819082',\n",
       " 'LOC127815999',\n",
       " 'LOC127830143',\n",
       " 'LOC127883136',\n",
       " 'LOC127896277',\n",
       " 'LOC127883799',\n",
       " 'LOC126806544',\n",
       " 'LOC127825149',\n",
       " 'LOC127402277',\n",
       " 'LOC127827719',\n",
       " 'LOC125177458',\n",
       " 'LOC105370733',\n",
       " 'LOC126862779',\n",
       " 'LOC124905626',\n",
       " 'LOC129390515',\n",
       " 'LOC130060826',\n",
       " 'LOC124900623',\n",
       " 'LOC127267516',\n",
       " 'LOC127824601',\n",
       " 'LOC130006626',\n",
       " 'LOC132089795',\n",
       " 'LOC129929856',\n",
       " 'LOC127816606',\n",
       " 'LOC127402712',\n",
       " 'LOC127269754',\n",
       " 'LOC129389183',\n",
       " 'LOC130062510',\n",
       " 'LOC129930012',\n",
       " 'LOC126806739',\n",
       " 'LOC127404190',\n",
       " 'LOC129935217',\n",
       " 'LOC126806489',\n",
       " 'LOC127822502',\n",
       " 'LOC129937569',\n",
       " 'LOC127269407',\n",
       " 'LOC129992323',\n",
       " 'LOC127888877',\n",
       " 'LOC127894581',\n",
       " 'LOC124625881',\n",
       " 'LOC127407659',\n",
       " 'LOC127888290',\n",
       " 'LOC130065443',\n",
       " 'LOC129997304',\n",
       " 'LOC127269954',\n",
       " 'LOC127407892',\n",
       " 'LOC127273790',\n",
       " 'LOC127890974',\n",
       " 'LOC129660773',\n",
       " 'LOC129995202',\n",
       " 'LOC127397431',\n",
       " 'LOC124907982',\n",
       " 'LOC127886937',\n",
       " 'LOC127896543',\n",
       " 'LOC127406603',\n",
       " 'LOC126805863',\n",
       " 'LOC127888428',\n",
       " 'LOC127893633',\n",
       " 'LOC117125595',\n",
       " 'LOC130059729',\n",
       " 'LOC124310595',\n",
       " 'LOC127817978',\n",
       " 'LOC127830237',\n",
       " 'LOC127457489',\n",
       " 'LOC105373126',\n",
       " 'LOC111982869',\n",
       " 'LOC127882744',\n",
       " 'LOC123038193',\n",
       " 'LOC127887382',\n",
       " 'LOC129992067',\n",
       " 'LOC130062152',\n",
       " 'LOC127894938',\n",
       " 'LOC127396521',\n",
       " 'LOC127458143',\n",
       " 'LOC127826841',\n",
       " 'LOC129933012',\n",
       " 'LOC129992144',\n",
       " 'LOC130067310',\n",
       " 'LOC129929202',\n",
       " 'LOC124909410',\n",
       " 'LOC105377862',\n",
       " 'LOC127407895',\n",
       " 'LOC127401946',\n",
       " 'LOC127888349',\n",
       " 'LOC129933650',\n",
       " 'LOC127268006',\n",
       " 'LOC126861076',\n",
       " 'LOC126862618',\n",
       " 'LOC130060186',\n",
       " 'LOC129661677',\n",
       " 'LOC130062528',\n",
       " 'LOC129937765',\n",
       " 'LOC124906836',\n",
       " 'LOC130066456',\n",
       " 'LOC112533660',\n",
       " 'LOC127397886',\n",
       " 'LOC129992669',\n",
       " 'LOC129996376',\n",
       " 'LOC127396934',\n",
       " 'LOC124905960',\n",
       " 'LOC124907394',\n",
       " 'LOC110120891',\n",
       " 'LOC129933456',\n",
       " 'LOC130059217',\n",
       " 'LOC124907584',\n",
       " 'LOC105378137',\n",
       " 'LOC127404452',\n",
       " 'LOC127401618',\n",
       " 'LOC111365167',\n",
       " 'LOC127829217',\n",
       " 'LOC129933834',\n",
       " 'LOC127885813',\n",
       " 'LOC127819839',\n",
       " 'LOC127892280',\n",
       " 'LOC124900765',\n",
       " 'LOC127459585',\n",
       " 'LOC127887171',\n",
       " 'LOC127270769',\n",
       " 'LOC127825821',\n",
       " 'LOC130007842',\n",
       " 'LOC105374357',\n",
       " 'LOC117125600',\n",
       " 'LOC127399962',\n",
       " 'LOC130061607',\n",
       " 'LOC130063102',\n",
       " 'LOC127815366',\n",
       " 'LOC127883891',\n",
       " 'ERVK-11',\n",
       " 'LOC127409134',\n",
       " 'LOC129935462',\n",
       " 'LOC130059196',\n",
       " 'LOC127826915',\n",
       " 'LOC124905251',\n",
       " 'LOC127459861',\n",
       " 'LOC127269875',\n",
       " 'LOC127895169',\n",
       " 'LOC107303339',\n",
       " 'LOC122889044',\n",
       " 'LOC127269142',\n",
       " 'LOC132089009',\n",
       " 'LOC127890259',\n",
       " 'LOC129662409',\n",
       " 'LOC129929993',\n",
       " 'LOC127271555',\n",
       " 'LOC129391269',\n",
       " 'LOC127818324',\n",
       " 'LOC132090155',\n",
       " 'LOC125418056',\n",
       " 'LOC129934788',\n",
       " 'LOC130004205',\n",
       " 'LOC127824414',\n",
       " 'LOC127817030',\n",
       " 'LOC127269598',\n",
       " 'LOC127823947',\n",
       " 'LOC127820176',\n",
       " 'LOC101928553',\n",
       " 'LOC126861009',\n",
       " 'STQTL13',\n",
       " 'LOC127398121',\n",
       " 'LOC111562378',\n",
       " 'LOC127269420',\n",
       " 'LOC127399223',\n",
       " 'LOC127273870',\n",
       " 'LOC127460819',\n",
       " 'LOC127398493',\n",
       " 'LOC130004507',\n",
       " 'LOC129996165',\n",
       " 'LOC127400203',\n",
       " 'LOC129999116',\n",
       " 'LOC105369339',\n",
       " 'LOC127408240',\n",
       " 'LOC129932954',\n",
       " 'HMGN2P45',\n",
       " 'LOC130002776',\n",
       " 'LOC105379336',\n",
       " 'LOC112267948',\n",
       " 'LOC130001073',\n",
       " 'LOC129992376',\n",
       " 'LOC129663438',\n",
       " 'LOC130003647',\n",
       " 'LOC127817406',\n",
       " 'LOC130009646',\n",
       " 'LOC648934',\n",
       " 'LOC130005752',\n",
       " 'LOC129933685',\n",
       " 'LOC130059106',\n",
       " 'LOC129661856',\n",
       " 'LOC124403908',\n",
       " 'LOC124905976',\n",
       " 'LOC127828722',\n",
       " 'LOC127884748',\n",
       " 'LOC127405870',\n",
       " 'LOC127824702',\n",
       " 'LOC129998996',\n",
       " 'LOC129996013',\n",
       " 'LOC118567325',\n",
       " 'LOC129664364',\n",
       " 'LOC129998036',\n",
       " 'LOC127825340',\n",
       " 'LOC129994776',\n",
       " 'FAM197Y10',\n",
       " 'LOC129933468',\n",
       " 'LOC129992187',\n",
       " 'LOC124296657',\n",
       " 'LOC127270986',\n",
       " 'LOC130005632',\n",
       " 'LOC127403626',\n",
       " 'LOC130061586',\n",
       " 'LOC127826953',\n",
       " 'LOC130059517',\n",
       " 'LOC130068363',\n",
       " 'LOC129390739',\n",
       " 'LOC124902698',\n",
       " 'LOC127818681',\n",
       " 'LOC127268758',\n",
       " 'LOC127405995',\n",
       " 'LOC127815399',\n",
       " 'LOC130009601',\n",
       " 'LOC130006245',\n",
       " 'LOC127458791',\n",
       " 'LOC129663852',\n",
       " 'LOC130003099',\n",
       " 'LOC129992383',\n",
       " 'LOC126859974',\n",
       " 'LOC129664217',\n",
       " 'LOC127823914',\n",
       " 'LOC132089930',\n",
       " 'LOC127268043',\n",
       " 'LOC130056646',\n",
       " 'LOC113687207',\n",
       " 'LOC129933407',\n",
       " 'LOC127822372',\n",
       " 'LOC127459014',\n",
       " 'LOC129661720',\n",
       " 'LOC129994616',\n",
       " 'LOC129938285',\n",
       " 'LOC127274685',\n",
       " 'LOC127816220',\n",
       " 'LOC127885644',\n",
       " 'LOC127275249',\n",
       " 'LOC127408262',\n",
       " 'LOC129390419',\n",
       " 'LOC100499399',\n",
       " 'LOC130002199',\n",
       " 'LOC130002570',\n",
       " 'LOC105371224',\n",
       " 'LOC124403924',\n",
       " 'LOC127823141',\n",
       " 'LOC105376951',\n",
       " 'LOC110120665',\n",
       " 'LOC127399177',\n",
       " 'LOC127825352',\n",
       " 'LOC127404981',\n",
       " 'LOC112533645',\n",
       " 'LOC127883246',\n",
       " 'LOC129390968',\n",
       " 'LOC124907535',\n",
       " 'LOC127894514',\n",
       " 'LOC127828002',\n",
       " 'LOC127458018',\n",
       " 'LOC127397083',\n",
       " 'LOC130009660',\n",
       " 'LOC127818532',\n",
       " 'LOC132090486',\n",
       " 'LOC130006217',\n",
       " 'LOC132088942',\n",
       " 'LOC127409314',\n",
       " 'LOC127398921',\n",
       " 'LOC127815147',\n",
       " 'LOC129664781',\n",
       " 'PRELID3BP9',\n",
       " 'LOC127459023',\n",
       " 'LOC126860449',\n",
       " 'LOC129663901',\n",
       " 'LOC129663685',\n",
       " 'LOC127824119',\n",
       " 'LOC124902953',\n",
       " 'LOC105373945',\n",
       " 'LOC127408976',\n",
       " 'LOC132088922',\n",
       " 'LOC127890343',\n",
       " 'LOC130062569',\n",
       " 'LOC101928499',\n",
       " 'LOC127397787',\n",
       " 'LOC130066315',\n",
       " 'LOC105372548',\n",
       " 'LOC127890170',\n",
       " 'LOC129935173',\n",
       " 'LOC105378676',\n",
       " 'LOC127398902',\n",
       " 'LOC127407021',\n",
       " 'LOC127398691',\n",
       " 'HCG4P5',\n",
       " 'LOC127275514',\n",
       " 'RPS2P23',\n",
       " 'LOC100131472',\n",
       " 'LOC129998071',\n",
       " 'LOC127818354',\n",
       " 'LOC130056326',\n",
       " 'LOC129995184',\n",
       " 'LOC130002193',\n",
       " 'LOC127397324',\n",
       " 'LOC127405767',\n",
       " 'LOC130005984',\n",
       " 'LOC127824898',\n",
       " 'LOC123466235',\n",
       " 'LOC127273198',\n",
       " 'LOC130005497',\n",
       " 'LOC129936819',\n",
       " 'LOC130064461',\n",
       " 'LOC129660833',\n",
       " 'LOC130068731',\n",
       " 'VN1R26P',\n",
       " 'LOC101927997',\n",
       " 'LOC121366048',\n",
       " 'LOC129660736',\n",
       " 'LOC110467531',\n",
       " 'LOC127814402',\n",
       " 'LOC127272758',\n",
       " 'LOC130066956',\n",
       " 'LOC127400479',\n",
       " 'LOC130068111',\n",
       " 'LOC105370018',\n",
       " 'LOC129661497',\n",
       " 'LOC127456887',\n",
       " 'LOC130009161',\n",
       " 'LOC130065903',\n",
       " 'LOC112543475',\n",
       " 'LOC129663011',\n",
       " 'LOC130002387',\n",
       " 'LOC130066994',\n",
       " 'LOC130061578',\n",
       " 'LOC402230',\n",
       " 'LOC127896393',\n",
       " 'LOC129993512',\n",
       " 'LOC126806387',\n",
       " 'LOC129930690',\n",
       " 'LOC130005292',\n",
       " 'LOC127892310',\n",
       " 'LOC130062872',\n",
       " 'LOC129389734',\n",
       " 'LOC124903931',\n",
       " 'LOC129999530',\n",
       " 'LOC127891079',\n",
       " 'LOC129661290',\n",
       " 'LOC129997042',\n",
       " 'LOC130007876',\n",
       " 'LOC126862564',\n",
       " 'LOC127893892',\n",
       " 'LOC130010066',\n",
       " 'LOC127882789',\n",
       " 'LOC130057731',\n",
       " 'LOC127268710',\n",
       " 'LOC125371483',\n",
       " 'LOC130061087',\n",
       " 'LOC130065073',\n",
       " 'NPAP1P5',\n",
       " 'LOC127274755',\n",
       " 'LOC127400647',\n",
       " 'LOC127897774',\n",
       " 'LOC124909147',\n",
       " 'LOC127409518',\n",
       " 'LOC127828299',\n",
       " 'LOC130004552',\n",
       " 'LOC127151777',\n",
       " 'LOC130060858',\n",
       " 'LOC126805580',\n",
       " 'LOC129935473',\n",
       " 'LOC127459183',\n",
       " 'LOC130005818',\n",
       " 'LOC130056005',\n",
       " 'LOC127890185',\n",
       " 'LOC130065987',\n",
       " 'LOC127409271',\n",
       " 'LOC127818489',\n",
       " 'LOC130062296',\n",
       " 'LOC129660076',\n",
       " 'LOC105376135',\n",
       " 'LOC130000628',\n",
       " 'LOC727709',\n",
       " 'LOC130010043',\n",
       " 'LOC127816538',\n",
       " 'LOC101928627',\n",
       " 'LOC105378184',\n",
       " 'LOC127822866',\n",
       " 'LOC127828381',\n",
       " 'LOC127896703',\n",
       " 'LOC123002303',\n",
       " 'LOC127270462',\n",
       " 'LOC127824481',\n",
       " 'LOC127379768',\n",
       " 'LOC124903403',\n",
       " 'LOC127898356',\n",
       " 'LOC130003233',\n",
       " 'LOC127824814',\n",
       " 'LOC129932396',\n",
       " 'LOC130002423',\n",
       " 'LOC127460630',\n",
       " 'LOC127270498',\n",
       " 'LOC129996698',\n",
       " 'LOC129929657',\n",
       " 'LOC127896438',\n",
       " 'LOC105372517',\n",
       " 'LOC129996408',\n",
       " 'LOC125418049',\n",
       " 'LOC129992888',\n",
       " 'LOC127818564',\n",
       " 'LOC127817925',\n",
       " 'LOC129993212',\n",
       " 'LOC107985662',\n",
       " 'LOC126861440',\n",
       " 'LOC130056200',\n",
       " 'LOC130057206',\n",
       " 'LOC129996568',\n",
       " 'LOC127406906',\n",
       " 'LOC127828318',\n",
       " 'LOC130056946',\n",
       " 'LOC127882641',\n",
       " 'LOC130057624',\n",
       " 'LOC102723753',\n",
       " 'LOC127267477',\n",
       " 'LOC129998965',\n",
       " 'LOC127270202',\n",
       " 'LOC127823224',\n",
       " 'LOC127403190',\n",
       " 'LOC127407546',\n",
       " 'LOC127815466',\n",
       " 'LOC129929406',\n",
       " 'LOC127819681',\n",
       " 'DFNA49',\n",
       " 'LOC127403341',\n",
       " 'LOC130056920',\n",
       " 'LOC101928977',\n",
       " 'LOC129929543',\n",
       " 'LOC129663897',\n",
       " 'LOC105373613',\n",
       " 'CMM',\n",
       " 'LOC127404098',\n",
       " 'LOC129934490',\n",
       " 'LOC127894949',\n",
       " 'LOC127825172',\n",
       " 'LOC129998347',\n",
       " 'LOC127401305',\n",
       " 'LOC130063598',\n",
       " 'LOC121132686',\n",
       " 'LOC126862636',\n",
       " 'LOC127823989',\n",
       " 'LOC129388931',\n",
       " 'LOC126805892',\n",
       " 'LOC112695088',\n",
       " 'LOC110120944',\n",
       " 'LOC130007766',\n",
       " 'LOC129935045',\n",
       " 'LOC127821196',\n",
       " 'LOC129663071',\n",
       " 'LOC130004669',\n",
       " 'LOC127816986',\n",
       " 'LOC107325936',\n",
       " 'LOC127829403',\n",
       " 'LOC127457545',\n",
       " 'LOC130006193',\n",
       " 'LOC132089164',\n",
       " 'LOC105369927',\n",
       " 'LOC132089850',\n",
       " 'LOC129999960',\n",
       " 'LOC105369823',\n",
       " 'LOC124901802',\n",
       " 'LOC127398196',\n",
       " 'LOC128316639',\n",
       " 'LOC127820970',\n",
       " 'LOC129664778',\n",
       " 'LOC130000918',\n",
       " 'LOC126807325',\n",
       " 'LOC124901050',\n",
       " 'LOC127896819',\n",
       " 'LOC127818612',\n",
       " 'LOC110121248',\n",
       " 'LOC126862682',\n",
       " 'LOC127406437',\n",
       " 'LOC127409008',\n",
       " 'LOC130003995',\n",
       " 'LOC124905256',\n",
       " 'LOC129932774',\n",
       " 'LOC129996631',\n",
       " 'LOC127397738',\n",
       " 'LOC127397877',\n",
       " 'LOC130001599',\n",
       " 'LOC126806193',\n",
       " 'LOC132089108',\n",
       " 'LOC130057905',\n",
       " 'LOC127886215',\n",
       " 'LOC130009402',\n",
       " 'LOC129663498',\n",
       " 'LOC124188240',\n",
       " 'LOC129937354',\n",
       " 'LOC129992996',\n",
       " 'LOC127823548',\n",
       " 'LOC105378573',\n",
       " 'LOC129929265',\n",
       " 'LOC127893473',\n",
       " 'LOC126807208',\n",
       " 'LOC130057453',\n",
       " 'LOC127895214',\n",
       " 'LOC105377699',\n",
       " 'LOC130007805',\n",
       " 'LOC129995738',\n",
       " 'LOC127821100',\n",
       " 'LOC127399096',\n",
       " 'LOC130060054',\n",
       " 'LOC112268245',\n",
       " 'LOC129997036',\n",
       " 'LOC126860966',\n",
       " 'LOC127460543',\n",
       " 'LOC130055764',\n",
       " 'LOC130001701',\n",
       " 'LOC127818000',\n",
       " 'LOC130056400',\n",
       " 'LOC129936428',\n",
       " 'LOC127268260',\n",
       " 'LOC129937940',\n",
       " 'LOC124906823',\n",
       " 'LOC127885597',\n",
       " 'LOC129390193',\n",
       " 'LOC124903433',\n",
       " 'LOC129998269',\n",
       " 'LOC124907752',\n",
       " 'LOC124188220',\n",
       " 'LOC127270379',\n",
       " 'LOC124907447',\n",
       " 'LOC126861852',\n",
       " 'LOC132089646',\n",
       " 'LOC101928923',\n",
       " 'LOC129389262',\n",
       " 'LOC105370959',\n",
       " 'LOC127275837',\n",
       " 'LOC127268362',\n",
       " 'LOC129929835',\n",
       " 'LOC129664932',\n",
       " 'LOC130006544',\n",
       " 'LOC129933867',\n",
       " 'LOC129937955',\n",
       " 'LOC126862646',\n",
       " 'LOC121847992',\n",
       " 'LOC124905045',\n",
       " 'LOC124907296',\n",
       " 'LOC124900396',\n",
       " 'LOC124904307',\n",
       " 'LOC127138819',\n",
       " 'LOC127396569',\n",
       " 'LOC127396541',\n",
       " 'LOC107984723',\n",
       " 'LOC127826149',\n",
       " 'LOC130062314',\n",
       " 'LOC127884818',\n",
       " 'LOC107984315',\n",
       " 'LOC101928272',\n",
       " 'LOC127268042',\n",
       " 'LOC129938310',\n",
       " 'ASOBS',\n",
       " 'LOC124906045',\n",
       " 'LOC127815100',\n",
       " 'LOC127826576',\n",
       " 'LOC130058657',\n",
       " 'LOC127267846',\n",
       " 'LOC127887270',\n",
       " 'LOC129661492',\n",
       " 'TRG-GCC3-1',\n",
       " 'LOC129932716',\n",
       " 'LOC121725122',\n",
       " 'LOC124310597',\n",
       " 'LOC126806684',\n",
       " 'LOC127822712',\n",
       " 'LOC125371507',\n",
       " 'LOC130006044',\n",
       " 'LOC124907793',\n",
       " 'LOC127408257',\n",
       " 'LOC127269763',\n",
       " 'LOC107984302',\n",
       " 'LOC127890087',\n",
       " 'LOC127400423',\n",
       " ...}"
      ]
     },
     "execution_count": 64,
     "metadata": {},
     "output_type": "execute_result"
    }
   ],
   "source": [
    "only_ncbi_gene_symbol_set"
   ]
  },
  {
   "cell_type": "markdown",
   "metadata": {},
   "source": [
    "#### Most of the symbols that are unique to NCBI (147,913/152,418-97%) begin with \"LOC\""
   ]
  },
  {
   "cell_type": "code",
   "execution_count": 65,
   "metadata": {},
   "outputs": [
    {
     "data": {
      "text/plain": [
       "4505"
      ]
     },
     "execution_count": 65,
     "metadata": {},
     "output_type": "execute_result"
    }
   ],
   "source": [
    "filtered_set = {gene for gene in only_ncbi_gene_symbol_set if not gene.startswith('LOC')}\n",
    "len(filtered_set)"
   ]
  },
  {
   "cell_type": "code",
   "execution_count": 66,
   "metadata": {},
   "outputs": [
    {
     "data": {
      "text/plain": [
       "{'TRW-CCA4-1',\n",
       " 'HYPLIP2',\n",
       " 'TRL-TAG2-1',\n",
       " 'RPS15AP22',\n",
       " 'TRNN',\n",
       " 'DFNA43',\n",
       " 'PIRC55',\n",
       " 'TRE-TTC15-1',\n",
       " 'BMND9',\n",
       " 'RCM2',\n",
       " 'FRA1E',\n",
       " 'RSL24D1P7',\n",
       " 'TRNAA-CGC',\n",
       " 'FAM85A',\n",
       " 'LINC00473',\n",
       " 'trnR',\n",
       " 'FAM199YP',\n",
       " 'HHPP',\n",
       " 'DYX8',\n",
       " 'TRN-GTT17-1',\n",
       " 'BIN3-IT1',\n",
       " 'ADHD4',\n",
       " 'TRA-TGC7-1',\n",
       " 'CTB-3M24.3',\n",
       " 'RPS6P1',\n",
       " 'EJM3',\n",
       " 'ERVW-17',\n",
       " 'RUNX1-IT1',\n",
       " 'RNY5P6',\n",
       " 'TKCR',\n",
       " 'PIRC103',\n",
       " 'HPE6',\n",
       " 'RIBIN',\n",
       " 'TRY-GTA5-3',\n",
       " 'RNA18SN4',\n",
       " 'EXT3',\n",
       " 'SNORD169',\n",
       " 'FRA1L',\n",
       " 'AD15',\n",
       " 'TRC-GCA21-1',\n",
       " 'LINC03126',\n",
       " 'ADHD1',\n",
       " 'IBGC2',\n",
       " 'TRT-TGT5-1',\n",
       " 'ACTR3P1',\n",
       " 'MRX84',\n",
       " 'AOMS1',\n",
       " 'MIR10399',\n",
       " 'MIX23P4',\n",
       " 'LINC01238',\n",
       " 'RPL10AP12',\n",
       " 'RASGRP3-AS1',\n",
       " 'ASAP1-IT1',\n",
       " 'MYAS1',\n",
       " 'TRX-CAT3-1',\n",
       " 'OS6',\n",
       " 'ALPQTL4',\n",
       " 'ND5',\n",
       " 'MRXSMP',\n",
       " 'ITC1',\n",
       " 'DFNA47',\n",
       " 'APMR1',\n",
       " 'GRDX',\n",
       " 'RNU7-64P',\n",
       " 'UAQTL3',\n",
       " 'ERVW-29',\n",
       " 'FSHMD1B',\n",
       " 'VN1R60P',\n",
       " 'IGSF6-DREV1',\n",
       " 'CBSLR',\n",
       " 'DUPXQ25',\n",
       " 'AA1',\n",
       " 'HPLH1',\n",
       " 'TRY-GTA12-1',\n",
       " 'TRG-GCC2-6',\n",
       " 'TRF-GAA7-1',\n",
       " 'GCRG224',\n",
       " 'TRY-GTA5-4',\n",
       " 'SYNSTH',\n",
       " 'PFBI',\n",
       " 'HMGB1P34',\n",
       " 'FL1',\n",
       " 'TRT-CGT1-1',\n",
       " 'FRA18B',\n",
       " 'FAM153B',\n",
       " 'ERVK11-1',\n",
       " 'MIURF',\n",
       " 'PKDTS',\n",
       " 'FRA6E',\n",
       " 'HNRNPRP3',\n",
       " 'OTSC4',\n",
       " 'DEL9P',\n",
       " 'RPLP2P2',\n",
       " 'XM',\n",
       " 'SSBP3P3',\n",
       " 'PKD1P3-NPIPA1',\n",
       " 'ERVK-8',\n",
       " 'RPS2P47',\n",
       " 'TRL-CAG1-1',\n",
       " 'FRA2D',\n",
       " 'SNORD150',\n",
       " 'SNORA113',\n",
       " 'TRT-CGT5-1',\n",
       " 'HPV6AI1',\n",
       " 'SCARNA27',\n",
       " 'ANC',\n",
       " 'TRV-TAC1-1',\n",
       " 'PIRC80',\n",
       " 'GTF3AP4',\n",
       " 'TRNG',\n",
       " 'FRA6F',\n",
       " 'ERVW-12',\n",
       " 'NUDT19P1',\n",
       " 'ERVK-7',\n",
       " 'HNFJ3',\n",
       " 'RPS25P6',\n",
       " 'MRT29',\n",
       " 'MYP4',\n",
       " 'SNORD141B',\n",
       " 'GNAO1-AS1',\n",
       " 'CTRCT28',\n",
       " 'FAUP3',\n",
       " 'RPL27AP6',\n",
       " 'TRG-CCC3-1',\n",
       " 'PIRC107',\n",
       " 'SUZ12P2',\n",
       " 'RPL39P13',\n",
       " 'PCAT29',\n",
       " 'NDIC',\n",
       " 'DENRP4',\n",
       " 'NDUFB8P3',\n",
       " 'IQSEC3P3',\n",
       " 'H2BW4P',\n",
       " 'VN1R100P',\n",
       " 'CPROTQ',\n",
       " 'RPS26P37',\n",
       " 'RPS20P17',\n",
       " 'TRQ-TTG3-1',\n",
       " 'LINC01372',\n",
       " 'PPIP5K1P1-CATSPER2',\n",
       " 'PIRC109',\n",
       " 'CYP2C63P',\n",
       " 'TRR-TCG3-1',\n",
       " 'GAGE7',\n",
       " 'HSPA8P10',\n",
       " 'GAEC1',\n",
       " 'MIR10226',\n",
       " 'DELXP21',\n",
       " 'RPL17P32',\n",
       " 'MGC34796',\n",
       " 'DUP14Q32',\n",
       " 'TRV-AAC2-1',\n",
       " 'RPS8P8',\n",
       " 'DUX4L41',\n",
       " 'FEB9',\n",
       " 'TRL-CAA5-1',\n",
       " 'LINC01000',\n",
       " 'VN1R97P',\n",
       " 'LIPB',\n",
       " 'TRIM60P4Y',\n",
       " 'SNAR-A12',\n",
       " 'TRI-TAT2-3',\n",
       " 'PRORP-PSMA6',\n",
       " 'DUX4L39',\n",
       " 'BSZQTL2',\n",
       " 'VN1R62P',\n",
       " 'DFNA58',\n",
       " 'STQTL6',\n",
       " 'MCOR',\n",
       " 'PIRC87',\n",
       " 'UBA52P1',\n",
       " 'LINC00548',\n",
       " 'PIRC34',\n",
       " 'SMAJ',\n",
       " 'PSIP1P2',\n",
       " 'ERVK-32',\n",
       " 'KCNQ5-IT1',\n",
       " 'ERVK-19',\n",
       " 'MRBC',\n",
       " 'ERVPABLB-1',\n",
       " 'RLS5',\n",
       " 'RNVU1-20',\n",
       " 'DFNB27',\n",
       " 'CYCSP3',\n",
       " 'MGR8',\n",
       " 'HYT8',\n",
       " 'SNRPCP7',\n",
       " 'USP10P1',\n",
       " 'FDX2-ZGLP1',\n",
       " 'LRSL',\n",
       " 'YUHAL',\n",
       " 'CDC27P11',\n",
       " 'BOS2',\n",
       " 'GTF2IP15',\n",
       " 'VN1R99P',\n",
       " 'TRS-AGA7-1',\n",
       " 'HDLBP-AS1',\n",
       " 'CINN',\n",
       " 'TRR-TCT5-1',\n",
       " 'RPS15AP8',\n",
       " 'SNX18P19',\n",
       " 'HMGN1P27',\n",
       " 'ERVH-5',\n",
       " 'SNORD145',\n",
       " 'TTTY31P',\n",
       " 'DEL19Q13.11',\n",
       " 'RNY4P26',\n",
       " 'PGDP2',\n",
       " 'SBE2',\n",
       " 'SSX16P',\n",
       " 'LINC02254',\n",
       " 'TEMPS',\n",
       " 'MVCD7',\n",
       " 'SSAV1',\n",
       " 'BCC2',\n",
       " 'RNY4P21',\n",
       " 'RPS15AP21',\n",
       " 'RPS15P8',\n",
       " 'VN1R19P',\n",
       " 'CDC27P4',\n",
       " 'CACNA1C-IT2',\n",
       " 'MTCO3P25',\n",
       " 'RPL41P3',\n",
       " 'XS',\n",
       " 'C4orf46P4',\n",
       " 'TRN-ATT1-2',\n",
       " 'NMTRQ-TTG7-1',\n",
       " 'ANIB2',\n",
       " 'DFNA59',\n",
       " 'RNU7-68P',\n",
       " 'SEPHS1P3',\n",
       " 'TRN-GTT21-1',\n",
       " 'HSPA9P2',\n",
       " 'DUP17Q23.1Q23.2',\n",
       " 'MUHH2',\n",
       " 'LOH1CR1',\n",
       " 'EI24P5',\n",
       " 'RPS2P51',\n",
       " 'TRNAL-CAG',\n",
       " 'PIRC22',\n",
       " 'SNX18P20',\n",
       " 'LINC01358',\n",
       " 'MGC32805',\n",
       " 'MYMY3',\n",
       " 'PPP2CBP1',\n",
       " 'TRA-TGC4-1',\n",
       " 'AMANZI',\n",
       " 'BMIQ8',\n",
       " 'MTND1P25',\n",
       " 'CTBP2P11',\n",
       " 'SNORD80',\n",
       " 'DYZ1L10',\n",
       " 'RPL17P42',\n",
       " 'DUPXQ13',\n",
       " 'TRN-GTT14-1',\n",
       " 'C9orf85P1',\n",
       " 'ERVK-2',\n",
       " 'MIR4788',\n",
       " 'MRPS17P6',\n",
       " 'GTF3AP3',\n",
       " 'TRG-CCC2-2',\n",
       " 'ERVFH21-1',\n",
       " 'FRA7B',\n",
       " 'PTOS2',\n",
       " 'OGS2',\n",
       " 'SCAR3',\n",
       " 'PBC4',\n",
       " 'CH507-145C22.1',\n",
       " 'RPS6P10',\n",
       " 'NIDDM3',\n",
       " 'TRL-CAG2-2',\n",
       " 'LGMD1H',\n",
       " 'STIP1P2',\n",
       " 'TTTY26P',\n",
       " 'NACAP9',\n",
       " 'FRA7E',\n",
       " 'DEL1Q41Q42',\n",
       " 'TRV-TAC4-1',\n",
       " 'RPS20P11',\n",
       " 'SCKL3',\n",
       " 'MIR9983',\n",
       " 'TRS-GCT2-1',\n",
       " 'STQTL17',\n",
       " 'TRD-GTC2-6',\n",
       " 'FRAXE',\n",
       " 'VTCN1P1',\n",
       " 'GLM4',\n",
       " 'OPEM',\n",
       " 'RPL18P7',\n",
       " 'NXTAR',\n",
       " 'RPL9P4',\n",
       " 'DEL16P11.2',\n",
       " 'TRP-CGG1-3',\n",
       " 'RPS26P53',\n",
       " 'STQTL10',\n",
       " 'RPS5P4',\n",
       " 'RNA5SP424',\n",
       " 'SNORD134',\n",
       " 'TRT-AGT4-1',\n",
       " 'KTCN5',\n",
       " 'MIR9902-2',\n",
       " 'CELIAC8',\n",
       " 'VN1R56P',\n",
       " 'BMND10',\n",
       " 'FGS5',\n",
       " 'PBC5',\n",
       " 'LINC02310',\n",
       " 'VUR6',\n",
       " 'TRI-AAT5-5',\n",
       " 'PSORS5',\n",
       " 'XRS',\n",
       " 'C6orf147',\n",
       " 'PIRC99',\n",
       " 'SPDA3',\n",
       " 'RPS2P30',\n",
       " 'FERRY3',\n",
       " 'RNY5P9',\n",
       " 'THMA',\n",
       " 'RPS2P50',\n",
       " 'TRD-GTC2-5',\n",
       " 'IDDM4',\n",
       " 'TRY-GTA5-5',\n",
       " 'HVBS7',\n",
       " 'DEL15Q15.3',\n",
       " 'ENDOVESL',\n",
       " 'RPS16P1',\n",
       " 'SNX18P16',\n",
       " 'ATD',\n",
       " 'TNFRSF10B-AS1',\n",
       " 'EBVS1',\n",
       " 'TRP-AGG6-1',\n",
       " 'VN1R30P',\n",
       " 'DYX6',\n",
       " 'TRK-TTT14-1',\n",
       " 'HPC3',\n",
       " 'GH-LCR',\n",
       " 'MRX88',\n",
       " 'RPL26P10',\n",
       " 'MCOPCB2',\n",
       " 'TRG-CCC1-1',\n",
       " 'FAM27E2',\n",
       " 'RNU7-72P',\n",
       " 'SNORA110',\n",
       " 'BFIS4',\n",
       " 'SNORA118',\n",
       " 'MEAT6',\n",
       " 'RPS12P30',\n",
       " 'COMA',\n",
       " 'HDLCQ5',\n",
       " 'RNU6-52P',\n",
       " 'RPL37AP5',\n",
       " 'TRBV7-8',\n",
       " 'AAT1',\n",
       " 'TRQ-TTG10-1',\n",
       " 'LPRS',\n",
       " 'PIR-FIGF',\n",
       " 'CORD17',\n",
       " 'LINC00999',\n",
       " 'PIRC41',\n",
       " 'RNU1-152P',\n",
       " 'HLA-DQA1-AS1',\n",
       " 'AD8',\n",
       " 'PTLAH',\n",
       " 'MIR12116',\n",
       " 'RPS26P17',\n",
       " 'RPS20P28',\n",
       " 'MTCO1P16',\n",
       " 'TRK-TTT3-1',\n",
       " 'TRQ-CTG8-1',\n",
       " 'RPY',\n",
       " 'FRA1D',\n",
       " 'LINC01265',\n",
       " 'HMGN1P21',\n",
       " 'TRN-GTT12-1',\n",
       " 'RLS3',\n",
       " 'RPL23AP79',\n",
       " 'TRV-AAC1-4',\n",
       " 'ANP32A-IT1',\n",
       " 'FLJ20021',\n",
       " 'SNORD114-8',\n",
       " 'SNORD131',\n",
       " 'TRR-TCG6-1',\n",
       " 'PEPE',\n",
       " 'CYP2C115P',\n",
       " 'DEL3Q13.31',\n",
       " 'FRAXD',\n",
       " 'FRA13B',\n",
       " 'PET117P1',\n",
       " 'MRXSAB',\n",
       " 'GCCD2',\n",
       " 'ACRPS',\n",
       " 'BHD',\n",
       " 'TGFBR1P1',\n",
       " 'MTND6P26',\n",
       " 'RNA28S1',\n",
       " 'TRS-AGA2-5',\n",
       " 'MGC27382',\n",
       " 'RPL37P9',\n",
       " 'YWHAQP3',\n",
       " 'RNA18SP3',\n",
       " 'HRES2',\n",
       " 'RPS26P25',\n",
       " 'MIR12119',\n",
       " 'FAM106DP',\n",
       " 'TRE-TTC1-1',\n",
       " 'TSE2',\n",
       " 'TRG-TCC3-1',\n",
       " 'HYP10',\n",
       " 'TRL-CAG1-6',\n",
       " 'VN2R18P',\n",
       " 'TRK-CTT1-1',\n",
       " 'ERVK9-7',\n",
       " 'FRA16E',\n",
       " 'PIRC53',\n",
       " 'DEL6Q24Q25',\n",
       " 'PIRC110',\n",
       " 'RPL27P10',\n",
       " 'FDPSP9',\n",
       " 'GS1-279B7.1',\n",
       " 'TRR-CCT7-1',\n",
       " 'RAET1F',\n",
       " 'ERVW-13',\n",
       " 'ANKRD20A15P',\n",
       " 'TEKT4P1',\n",
       " 'MARK2P21',\n",
       " 'BAGE5',\n",
       " 'LINC03061',\n",
       " 'FAM86B2-DT',\n",
       " 'RN7SL438P',\n",
       " 'RNA28SN3',\n",
       " 'RNA5SP250',\n",
       " 'TRV-TAC2-1',\n",
       " 'CCEPR',\n",
       " 'RPS25P1',\n",
       " 'TRY-GTA2-1',\n",
       " 'GAGE2D',\n",
       " 'RPL10AP11',\n",
       " 'TRL-CAG1-4',\n",
       " 'SHFM5',\n",
       " 'TRS-AGA5-1',\n",
       " 'KC6',\n",
       " 'SNORD143',\n",
       " 'DUP1Q21',\n",
       " 'TRR-CCG1-2',\n",
       " 'FRA5D',\n",
       " 'MICF',\n",
       " 'SEPTIN14P15',\n",
       " 'NEDE',\n",
       " 'BAGE',\n",
       " 'BMIQ1',\n",
       " 'RPL26P24',\n",
       " 'TRNP',\n",
       " 'SSBP3P6',\n",
       " 'SNORA95',\n",
       " 'SNORD144',\n",
       " 'TRL-CAG1-5',\n",
       " 'RPL39P9',\n",
       " 'RPS24P3',\n",
       " 'TRQ-CTG14-1',\n",
       " 'OFC9',\n",
       " 'GYG2P2',\n",
       " 'SCAX2',\n",
       " 'CDY21P',\n",
       " 'PIRC54',\n",
       " 'TET18P',\n",
       " 'TRT-AGT2-2',\n",
       " 'RNY5P7',\n",
       " 'TRNAH-GUG',\n",
       " 'DPPA5P3',\n",
       " 'DYZ1L13',\n",
       " 'IGHV4-30-1',\n",
       " 'TUBB6P1',\n",
       " 'AIR',\n",
       " 'RPS9P4',\n",
       " 'KAZA3',\n",
       " 'DUH2',\n",
       " 'GLC1J',\n",
       " 'SCLC1',\n",
       " 'MBNP',\n",
       " 'TRSUP-CTA3-1',\n",
       " 'SNORA89',\n",
       " 'TRE-TTC14-1',\n",
       " 'TRC-GCA12-1',\n",
       " 'TRS-GCT4-1',\n",
       " 'VDI',\n",
       " 'MRPS6P1',\n",
       " 'RPL37P19',\n",
       " 'OR4A14P',\n",
       " 'PIRC90',\n",
       " 'TRA',\n",
       " 'MTRNR2L12',\n",
       " 'ANCR',\n",
       " 'VN1R45P',\n",
       " 'IL9RP6',\n",
       " 'RPS8P9',\n",
       " 'TRA-TGC9-1',\n",
       " 'TRQ-CTG12-1',\n",
       " 'SNAR-F',\n",
       " 'TRN-GTT27-1',\n",
       " 'TRG-GCC6-1',\n",
       " 'MIR12133',\n",
       " 'LINC00312',\n",
       " 'SLEH1',\n",
       " 'SNORD135',\n",
       " 'FLJ43315',\n",
       " \"A-GAMMA3'E\",\n",
       " 'MGC2889',\n",
       " 'NARS1P1',\n",
       " 'RPL19P19',\n",
       " 'EIG5',\n",
       " 'RBBP8P2',\n",
       " 'DFNB40',\n",
       " 'GEVQ2',\n",
       " 'DFNB5',\n",
       " 'DDIT4-AS1',\n",
       " 'VN1R111P',\n",
       " 'RPL9P22',\n",
       " 'DNM1P29',\n",
       " 'GRD2',\n",
       " 'IGLV@',\n",
       " 'RRIS',\n",
       " 'LINC02257',\n",
       " 'PCDHACT',\n",
       " 'TRNL2',\n",
       " 'PIRC6',\n",
       " 'MTND5P46',\n",
       " 'IGKV1OR15-118',\n",
       " 'BMIQ6',\n",
       " 'trnP',\n",
       " 'NTT',\n",
       " 'RPL19P10',\n",
       " 'SCARNA28',\n",
       " 'PIRC73',\n",
       " 'BCL5',\n",
       " 'RPS2P53',\n",
       " 'TRG-GCC1-3',\n",
       " 'BED',\n",
       " 'GAGE4',\n",
       " 'MTND4LP15',\n",
       " 'HCHGQ1',\n",
       " 'PIRC66',\n",
       " 'CPBHM',\n",
       " 'RP34',\n",
       " 'HSD52',\n",
       " 'FRA5F',\n",
       " 'NMTRQ-TTG5-1',\n",
       " 'ISCW',\n",
       " 'EIF2AP1',\n",
       " 'RBMY2MP',\n",
       " 'TRUND-NNN9-1',\n",
       " 'MIR6827',\n",
       " 'OPA5',\n",
       " 'ESAT',\n",
       " 'SLC9B1P5',\n",
       " 'VSPA',\n",
       " 'FGFR3P3',\n",
       " 'RSS',\n",
       " 'DEL6PTER',\n",
       " 'DFNX3',\n",
       " 'DFNA30',\n",
       " 'MTRNR2L5',\n",
       " 'LNCR5',\n",
       " 'PP12613',\n",
       " 'RPS26P44',\n",
       " 'MRXSL',\n",
       " 'MTND6P31',\n",
       " 'LINC02589',\n",
       " 'CMTS',\n",
       " 'FGQTL4',\n",
       " 'TRR-TCT2-1',\n",
       " 'VN2R2P',\n",
       " 'BMS1P18',\n",
       " 'GTF2IP19',\n",
       " 'TRK-CTT16-1',\n",
       " 'CACNA1B-AS1',\n",
       " 'TRS-AGA4-1',\n",
       " 'DNM1DN4-1',\n",
       " 'FEB7',\n",
       " 'TRL-TAA2-1',\n",
       " 'ATOD5',\n",
       " 'CRSP8P',\n",
       " 'ANKRD20A20P',\n",
       " 'RNY5',\n",
       " 'PSMC6P1',\n",
       " 'PDB1',\n",
       " 'DEL13Q14',\n",
       " 'LNCR3',\n",
       " 'SNORA98',\n",
       " 'DYZ1L25',\n",
       " 'THCYTX',\n",
       " 'HPT',\n",
       " 'MRST',\n",
       " 'VN2R11P',\n",
       " 'TRV-AAC6-1',\n",
       " 'DNAJC2P1',\n",
       " 'RPS2P42',\n",
       " 'BMIQ16',\n",
       " 'GLUD1P6',\n",
       " 'DYZ1L16',\n",
       " 'MSD',\n",
       " 'KTCN2',\n",
       " 'TRM-CAT4-1',\n",
       " 'AITD4',\n",
       " 'TRK-CTT2-4',\n",
       " 'PIRC69',\n",
       " 'HMGB3P29',\n",
       " 'PIRC8',\n",
       " 'VN1R43P',\n",
       " 'DFNA16',\n",
       " 'ADCP1',\n",
       " 'HCL2',\n",
       " 'PHF10P2',\n",
       " 'ENTPD3-AS1',\n",
       " 'RPS2P8',\n",
       " 'TARP',\n",
       " 'IGKJ',\n",
       " 'PIRC94',\n",
       " 'MIR10397',\n",
       " 'HPE8',\n",
       " 'TRE-CTC7-1',\n",
       " 'SNORA100',\n",
       " 'TRL-AAG6-1',\n",
       " 'MIR10394',\n",
       " 'AMCX5',\n",
       " 'SLEB3',\n",
       " 'RPL39P12',\n",
       " 'RPS14P1',\n",
       " 'SNRPCP12',\n",
       " 'SOGA3-KIAA0408',\n",
       " 'SEPT5-GP1BB',\n",
       " 'DUX4L38',\n",
       " 'FRA8D',\n",
       " 'NMTRQ-TTG8-1',\n",
       " 'DYZ1L26',\n",
       " 'RNA5-8S1',\n",
       " 'ERVW-14',\n",
       " 'CRSA',\n",
       " 'ERVK3-7',\n",
       " 'BAS',\n",
       " 'FAM8A7P',\n",
       " 'BABAM2-AS1',\n",
       " 'SNORD103B',\n",
       " 'CT45B1P',\n",
       " 'SPG37',\n",
       " 'TRE-TTC8-1',\n",
       " 'SCA9',\n",
       " 'IBD4',\n",
       " 'MIR10400',\n",
       " 'OAP',\n",
       " 'PIRC100',\n",
       " 'VN1R14P',\n",
       " 'ZC3H18-AS1',\n",
       " 'RPL39P21',\n",
       " 'HCHGQ3',\n",
       " 'BCC4',\n",
       " 'PDB4',\n",
       " 'TRQ-CTG1-4',\n",
       " 'RLS7',\n",
       " 'MIR12121',\n",
       " 'CDRT3',\n",
       " 'HSPE1P17',\n",
       " 'TRH-GTG1-8',\n",
       " 'RPL34P13',\n",
       " 'SERF2-C15ORF63',\n",
       " 'CNE7',\n",
       " 'TRF-GAA1-6',\n",
       " 'BBLNP1',\n",
       " 'FLJ45513',\n",
       " 'PUS7P1',\n",
       " 'RBMY2SP',\n",
       " 'ERVW-21',\n",
       " 'ARVD4',\n",
       " 'SCZD7',\n",
       " 'TRD-GTC2-1',\n",
       " 'KYAT1-SPOUT1',\n",
       " 'RPS20P29',\n",
       " 'DES-LCR',\n",
       " 'TRL-CAA1-2',\n",
       " 'CMD1Q',\n",
       " 'NNO1',\n",
       " 'IGFBP-AS1',\n",
       " 'RPL34P2',\n",
       " 'HCG4P9',\n",
       " 'SNORD154',\n",
       " 'TRE-TTC12-1',\n",
       " 'USH1H',\n",
       " 'MGC4859',\n",
       " 'SNORD31',\n",
       " 'TRG-TCC6-1',\n",
       " 'FRA2J',\n",
       " 'TRN-GTT2-6',\n",
       " 'CHRFAM7AP1',\n",
       " 'RN7SL425P',\n",
       " 'PIRC30',\n",
       " 'SUSD2P1',\n",
       " 'SIGLEC25P',\n",
       " 'GAGE5',\n",
       " 'TRK-CTT8-1',\n",
       " 'MIR12131',\n",
       " 'PSORS10',\n",
       " 'MBS3',\n",
       " 'TBXA1R',\n",
       " 'RPS6P18',\n",
       " 'MIR12128',\n",
       " 'RPS12P8',\n",
       " 'FLJ30679',\n",
       " 'ENUR2',\n",
       " 'IHPS2',\n",
       " 'FRAXA',\n",
       " 'PVOP1',\n",
       " 'RPS15AP19',\n",
       " 'TRR-ACG1-3',\n",
       " 'TRH-GTG2-1',\n",
       " 'RPL18AP1',\n",
       " 'DEL16P12.1P11.2',\n",
       " 'LINC03027',\n",
       " 'SPG32',\n",
       " 'FUSE',\n",
       " 'GLC1P',\n",
       " 'ANMA',\n",
       " 'LCS1',\n",
       " 'MRPL11P2',\n",
       " 'NRCLP5',\n",
       " 'CRE1',\n",
       " 'PKP2P1',\n",
       " 'ANKRD20A13P',\n",
       " 'TRNAL47P',\n",
       " 'RPL26P8',\n",
       " 'TRG-GCC2-4',\n",
       " 'RPS20P8',\n",
       " 'ANOP1',\n",
       " 'HPC4',\n",
       " 'TYW1P1',\n",
       " 'TRN-GTT2-8',\n",
       " 'NDST2-ZSWIM8-AS1',\n",
       " 'TRD-GTC3-1',\n",
       " 'RPS26P59',\n",
       " 'SNORA91',\n",
       " 'RPS19P5',\n",
       " 'TRE-CTC1-5',\n",
       " 'MRT9',\n",
       " 'DDH2',\n",
       " 'RPL21P101',\n",
       " 'CMD1K',\n",
       " 'RPS11P6',\n",
       " 'ERVW-23',\n",
       " 'NMTRQ-TTG14-1',\n",
       " 'PSMC6P2',\n",
       " 'DNM1P40',\n",
       " 'PTMAP14',\n",
       " 'TRH-GTG1-4',\n",
       " 'CA15P3',\n",
       " 'FRA22A',\n",
       " 'LETM1P3',\n",
       " 'TRE-CTC16-1',\n",
       " 'ERVK-6',\n",
       " 'PRH1-PRR4',\n",
       " 'PCAP',\n",
       " 'RIPPLY2-CYB5R4',\n",
       " 'GLC1C',\n",
       " 'MDD2',\n",
       " 'PSMA7P1',\n",
       " 'RPL13P13',\n",
       " 'METTL15P2',\n",
       " 'DEL17Q11.2',\n",
       " 'ZD1',\n",
       " 'VESTAR',\n",
       " 'PIRC78',\n",
       " 'IHPS4',\n",
       " 'COPD',\n",
       " 'HPPD',\n",
       " 'FTLP7',\n",
       " 'TRY-GTA5-1',\n",
       " 'ALG14-AS1',\n",
       " 'MEP1AP3',\n",
       " 'PPIAP61',\n",
       " 'RPL26P23',\n",
       " 'RPL26P5',\n",
       " 'TMEM258P2',\n",
       " 'RPS10P8',\n",
       " 'MARK2P20',\n",
       " 'AITD1',\n",
       " 'SNORD76',\n",
       " 'DA4',\n",
       " 'MTCO3P36',\n",
       " 'VN1R16P',\n",
       " 'PSMD2P1',\n",
       " 'MIR10527',\n",
       " 'RPS17P3',\n",
       " 'MIR10396B',\n",
       " 'PFM3',\n",
       " 'KTCN6',\n",
       " 'TRG-CCC5-1',\n",
       " 'WT3',\n",
       " 'TRA-CGC1-1',\n",
       " 'NR3C1P1',\n",
       " 'LMO7DN-IT1',\n",
       " 'PRKRAP1',\n",
       " 'FRA11A',\n",
       " 'HEAT2',\n",
       " 'MTRNR2L1',\n",
       " 'PIRC5',\n",
       " 'SPG41',\n",
       " 'LVNC2',\n",
       " 'IBD23',\n",
       " 'MYP18',\n",
       " 'TTTY29P',\n",
       " 'RPS27AP4',\n",
       " 'GPR166P',\n",
       " 'RP63',\n",
       " 'SNX18P18',\n",
       " 'THRB-AS2',\n",
       " 'MPVQTL3',\n",
       " 'PPIAP18',\n",
       " 'ERVW-24',\n",
       " 'RPS11P3',\n",
       " 'HLA-X',\n",
       " 'TRL-CAA3-1',\n",
       " 'TRNH',\n",
       " 'GSTT1-AS1',\n",
       " 'PFHB2',\n",
       " 'UBE2Q2P7',\n",
       " 'trnM',\n",
       " 'HHC2:066628',\n",
       " 'MYP15',\n",
       " 'RARB-AS1',\n",
       " 'BMIQ2',\n",
       " 'HAVCR1P1',\n",
       " 'RPL10AP9',\n",
       " 'TRP-AGG2-8',\n",
       " 'RPL26P11',\n",
       " 'RPL27P11',\n",
       " 'NUDT5P1',\n",
       " 'FRA15A',\n",
       " 'TRP-CGG2-1',\n",
       " 'KAZA2',\n",
       " 'NUDT15P1',\n",
       " 'TRUND-NNN10-1',\n",
       " 'HYT2',\n",
       " 'MIR12125',\n",
       " 'PIRC33',\n",
       " 'SNORA92',\n",
       " 'ADFN',\n",
       " 'SPDT',\n",
       " 'PTGER4P1',\n",
       " 'TRI-AAT11-1',\n",
       " 'DEL15Q14',\n",
       " 'CELIAC12',\n",
       " 'PIRC61',\n",
       " 'LINC02815',\n",
       " 'SNAR-H',\n",
       " 'IGLJ',\n",
       " 'RP6',\n",
       " 'DBIP3',\n",
       " 'TRR-TCG1-1',\n",
       " 'RPS26P36',\n",
       " 'RBMY2VP',\n",
       " 'TRE-CTC9-1',\n",
       " 'RPL39P24',\n",
       " 'ERVH-6',\n",
       " 'FRA16D',\n",
       " 'HEY',\n",
       " 'FRA2H',\n",
       " 'DFNB13',\n",
       " 'SCARNA26A',\n",
       " 'RPS26P32',\n",
       " 'ETL2',\n",
       " 'CTB-49A3.2',\n",
       " 'FRA6G',\n",
       " 'MTRNR2L8',\n",
       " 'EOS',\n",
       " 'OPA6',\n",
       " 'PIRC18',\n",
       " 'STMN3P1',\n",
       " 'MRPS35P1',\n",
       " 'SNORD77',\n",
       " 'TRP-CGG1-2',\n",
       " 'DUP5P13',\n",
       " 'TRH-GTG1-3',\n",
       " 'EPCART',\n",
       " 'BMND13',\n",
       " 'RNU7-33P',\n",
       " 'RPL21P124',\n",
       " 'DEL3PTERP25',\n",
       " 'TRSUP-CTA2-1',\n",
       " 'FRA17B',\n",
       " 'GSM1',\n",
       " 'VKORC1P2',\n",
       " 'SNORD3I',\n",
       " 'TRI-TAT2-2',\n",
       " 'RNY4P4',\n",
       " 'RPL27P2',\n",
       " 'PAPA5',\n",
       " 'SNORA104',\n",
       " 'MTND6P27',\n",
       " 'FKSG29',\n",
       " 'RNU7-5P',\n",
       " 'SPG5B',\n",
       " 'CIHL',\n",
       " 'MAFD1',\n",
       " 'RNA5-8SP10',\n",
       " 'FRA13A',\n",
       " 'TNRC17',\n",
       " 'RNA18SN5',\n",
       " 'LINC01773',\n",
       " 'HMGB3P28',\n",
       " 'FECB',\n",
       " 'RPS2P11',\n",
       " 'GOLGA6L12P',\n",
       " 'SYNCRIPP1',\n",
       " 'TRND',\n",
       " 'MTCO3P26',\n",
       " 'MORF4L1P2',\n",
       " 'RPL39P10',\n",
       " 'TS546',\n",
       " 'TRG-CCC2-1',\n",
       " 'RPS13P6',\n",
       " 'MIR9718',\n",
       " 'TRX-CAT2-1',\n",
       " 'RPS2P26',\n",
       " 'RNA5SP348',\n",
       " 'ITGAEP1',\n",
       " 'MDC1B',\n",
       " 'TRS-GCT4-3',\n",
       " 'MRT25',\n",
       " 'TRR-TCT1-1',\n",
       " 'CREST1',\n",
       " 'MIR12126',\n",
       " 'RNA45S2',\n",
       " 'BCYRN1P2',\n",
       " 'NYS7',\n",
       " 'TRQ-TTG3-2',\n",
       " 'TPSP1',\n",
       " 'TRQ-CTG4-2',\n",
       " 'PPKP1B',\n",
       " 'TRQ-CTG2-1',\n",
       " 'RNY5P3',\n",
       " 'CCV',\n",
       " 'FRA19B',\n",
       " 'MTRNR2L4',\n",
       " 'GEFSP6',\n",
       " 'TRS-GCT6-1',\n",
       " 'ATOD9',\n",
       " 'IRX4P1',\n",
       " 'HSCR7',\n",
       " 'HSERVPRODH',\n",
       " 'TRW-CCA1-1',\n",
       " 'SNORD156',\n",
       " 'DFNA42',\n",
       " 'CLLS1',\n",
       " 'SNORD146',\n",
       " 'TRL-AAG8-1',\n",
       " 'MHS6',\n",
       " 'DNM1P45',\n",
       " 'AVSD1',\n",
       " 'COD2',\n",
       " 'TRV-CAC6-1',\n",
       " 'BTRCP1',\n",
       " 'DYZ1L18',\n",
       " 'CTB-1I21.1',\n",
       " 'ASDP',\n",
       " 'IGES',\n",
       " 'BCYRN1P3',\n",
       " 'ATP5PFP2',\n",
       " 'RPL35P10',\n",
       " 'HCNR617',\n",
       " 'RPS14P2',\n",
       " 'MTCO3P33',\n",
       " 'PSMAGEA',\n",
       " 'TRY-GTA8-1',\n",
       " 'TRV-AAC3-1',\n",
       " 'HERV.E-PTN',\n",
       " 'HYPT9',\n",
       " 'DYZ1L11',\n",
       " 'RPL21P105',\n",
       " 'STQTL19',\n",
       " 'TRN-GTT16-3',\n",
       " 'MIR12132',\n",
       " 'LIRIL2R',\n",
       " 'RPLP2P3',\n",
       " 'MRSS',\n",
       " 'TRT-CGT6-1',\n",
       " 'TRV-CAC9-1',\n",
       " 'FRA10E',\n",
       " 'NS2',\n",
       " 'CCT5-2P',\n",
       " 'SNAR-C2',\n",
       " 'ND4',\n",
       " 'RPL9P23',\n",
       " 'RPS10P26',\n",
       " 'HMGN2P44',\n",
       " 'FAM91A4P',\n",
       " 'TRS-AGA2-2',\n",
       " 'AF8T',\n",
       " 'RPS10P24',\n",
       " 'E11S',\n",
       " 'RNY4P5',\n",
       " 'IMPDH1P1',\n",
       " 'GLRX3P1',\n",
       " 'CLUHP7',\n",
       " ...}"
      ]
     },
     "execution_count": 66,
     "metadata": {},
     "output_type": "execute_result"
    }
   ],
   "source": [
    "filtered_set"
   ]
  },
  {
   "cell_type": "markdown",
   "metadata": {},
   "source": [
    "### <a id='toc6_2_2_'></a>[How many unique symbols are found between all sources?](#toc0_)"
   ]
  },
  {
   "cell_type": "code",
   "execution_count": 67,
   "metadata": {},
   "outputs": [],
   "source": [
    "bw_all_sources_unique_primary_symbol_df = pd.concat(\n",
    "    [\n",
    "        mini_ensg_df[[\"alias_symbol\", \"gene_symbol\"]],\n",
    "        mini_hgnc_df[[\"alias_symbol\", \"gene_symbol\"]],\n",
    "        mini_ncbi_df[[\"alias_symbol\", \"gene_symbol\"]],\n",
    "    ]\n",
    ")"
   ]
  },
  {
   "cell_type": "code",
   "execution_count": 68,
   "metadata": {},
   "outputs": [
    {
     "data": {
      "text/plain": [
       "194866"
      ]
     },
     "execution_count": 68,
     "metadata": {},
     "output_type": "execute_result"
    }
   ],
   "source": [
    "bw_all_sources_unique_primary_symbol_set = set(bw_all_sources_unique_primary_symbol_df[\"gene_symbol\"])\n",
    "bw_all_sources_unique_primary_symbol_count = len(bw_all_sources_unique_primary_symbol_set)\n",
    "bw_all_sources_unique_primary_symbol_count"
   ]
  },
  {
   "cell_type": "markdown",
   "metadata": {},
   "source": [
    "# <a id='toc7_'></a>[How many unique aliases are there?](#toc0_)"
   ]
  },
  {
   "cell_type": "markdown",
   "metadata": {},
   "source": [
    "## <a id='toc7_1_'></a>[Per Source](#toc0_)"
   ]
  },
  {
   "cell_type": "code",
   "execution_count": 69,
   "metadata": {},
   "outputs": [
    {
     "data": {
      "text/html": [
       "<div>\n",
       "<style scoped>\n",
       "    .dataframe tbody tr th:only-of-type {\n",
       "        vertical-align: middle;\n",
       "    }\n",
       "\n",
       "    .dataframe tbody tr th {\n",
       "        vertical-align: top;\n",
       "    }\n",
       "\n",
       "    .dataframe thead th {\n",
       "        text-align: right;\n",
       "    }\n",
       "</style>\n",
       "<table border=\"1\" class=\"dataframe\">\n",
       "  <thead>\n",
       "    <tr style=\"text-align: right;\">\n",
       "      <th></th>\n",
       "      <th>Number of Unique Aliases</th>\n",
       "    </tr>\n",
       "  </thead>\n",
       "  <tbody>\n",
       "    <tr>\n",
       "      <th>HGNC</th>\n",
       "      <td>55213</td>\n",
       "    </tr>\n",
       "    <tr>\n",
       "      <th>ENSG</th>\n",
       "      <td>42918</td>\n",
       "    </tr>\n",
       "    <tr>\n",
       "      <th>NCBI</th>\n",
       "      <td>68771</td>\n",
       "    </tr>\n",
       "  </tbody>\n",
       "</table>\n",
       "</div>"
      ],
      "text/plain": [
       "      Number of Unique Aliases\n",
       "HGNC                     55213\n",
       "ENSG                     42918\n",
       "NCBI                     68771"
      ]
     },
     "execution_count": 69,
     "metadata": {},
     "output_type": "execute_result"
    }
   ],
   "source": [
    "unique_alias_summary_index = \"HGNC\", \"ENSG\", \"NCBI\"\n",
    "unique_alias_summary = {\n",
    "    \"Number of Unique Aliases\": [\n",
    "        ensg_alias_count,\n",
    "        hgnc_alias_count,\n",
    "        ncbi_alias_count,\n",
    "    ]\n",
    "}\n",
    "unique_alias_summary_df = pd.DataFrame(\n",
    "    unique_alias_summary, index = unique_alias_summary_index\n",
    ")\n",
    "unique_alias_summary_df"
   ]
  },
  {
   "cell_type": "markdown",
   "metadata": {},
   "source": [
    "## <a id='toc7_2_'></a>[All sources](#toc0_)"
   ]
  },
  {
   "cell_type": "markdown",
   "metadata": {},
   "source": [
    "### <a id='toc7_2_1_'></a>[How many aliases appear in all sources?](#toc0_)"
   ]
  },
  {
   "cell_type": "code",
   "execution_count": 70,
   "metadata": {},
   "outputs": [
    {
     "data": {
      "text/plain": [
       "29984"
      ]
     },
     "execution_count": 70,
     "metadata": {},
     "output_type": "execute_result"
    }
   ],
   "source": [
    "all_sources_unique_alias_set = (\n",
    "    ensg_alias_symbol_set\n",
    "    & hgnc_alias_symbol_set\n",
    "    & ncbi_alias_symbol_set\n",
    ")\n",
    "all_sources_unique_alias_count = len(all_sources_unique_alias_set)\n",
    "all_sources_unique_alias_count"
   ]
  },
  {
   "cell_type": "markdown",
   "metadata": {},
   "source": [
    "### <a id='toc7_2_2_'></a>[How many unique aliases are found between all sources?](#toc0_)"
   ]
  },
  {
   "cell_type": "code",
   "execution_count": 71,
   "metadata": {},
   "outputs": [],
   "source": [
    "bw_all_sources_unique_alias_df = pd.concat(\n",
    "    [\n",
    "        subset_genes_ensg_df[[\"alias_symbol\", \"gene_symbol\"]],\n",
    "        subset_genes_hgnc_df[[\"alias_symbol\", \"gene_symbol\"]],\n",
    "        subset_genes_ncbi_df[[\"alias_symbol\", \"gene_symbol\"]],\n",
    "    ]\n",
    ")"
   ]
  },
  {
   "cell_type": "code",
   "execution_count": 72,
   "metadata": {},
   "outputs": [
    {
     "data": {
      "text/plain": [
       "81138"
      ]
     },
     "execution_count": 72,
     "metadata": {},
     "output_type": "execute_result"
    }
   ],
   "source": [
    "bw_all_sources_unique_alias_set = set(bw_all_sources_unique_alias_df[\"alias_symbol\"])\n",
    "bw_all_sources_unique_alias_count = len(bw_all_sources_unique_alias_set)\n",
    "bw_all_sources_unique_alias_count"
   ]
  },
  {
   "cell_type": "markdown",
   "metadata": {},
   "source": [
    "# <a id='toc8_'></a>[How many gene records have an alias that is shared?](#toc0_)"
   ]
  },
  {
   "cell_type": "markdown",
   "metadata": {},
   "source": [
    "## <a id='toc8_1_'></a>[Per Source](#toc0_)"
   ]
  },
  {
   "cell_type": "code",
   "execution_count": 73,
   "metadata": {},
   "outputs": [],
   "source": [
    "ensg_aa_collision_primary_symbol_set = set(aa_collision_gene_ensg_df[\"gene_symbol\"])\n",
    "ensg_aa_collision_primary_symbol_count = len(ensg_aa_collision_primary_symbol_set)"
   ]
  },
  {
   "cell_type": "code",
   "execution_count": 74,
   "metadata": {},
   "outputs": [],
   "source": [
    "hgnc_aa_collision_primary_symbol_set = set(aa_collision_gene_hgnc_df[\"gene_symbol\"])\n",
    "hgnc_aa_collision_primary_symbol_count = len(hgnc_aa_collision_primary_symbol_set)"
   ]
  },
  {
   "cell_type": "code",
   "execution_count": 75,
   "metadata": {},
   "outputs": [],
   "source": [
    "ncbi_aa_collision_primary_symbol_set = set(aa_collision_gene_ncbi_df[\"gene_symbol\"])\n",
    "ncbi_aa_collision_primary_symbol_count = len(ncbi_aa_collision_primary_symbol_set)"
   ]
  },
  {
   "cell_type": "code",
   "execution_count": 76,
   "metadata": {},
   "outputs": [
    {
     "data": {
      "text/html": [
       "<div>\n",
       "<style scoped>\n",
       "    .dataframe tbody tr th:only-of-type {\n",
       "        vertical-align: middle;\n",
       "    }\n",
       "\n",
       "    .dataframe tbody tr th {\n",
       "        vertical-align: top;\n",
       "    }\n",
       "\n",
       "    .dataframe thead th {\n",
       "        text-align: right;\n",
       "    }\n",
       "</style>\n",
       "<table border=\"1\" class=\"dataframe\">\n",
       "  <thead>\n",
       "    <tr style=\"text-align: right;\">\n",
       "      <th></th>\n",
       "      <th>Number of Gene Records With a Shared Alias</th>\n",
       "    </tr>\n",
       "  </thead>\n",
       "  <tbody>\n",
       "    <tr>\n",
       "      <th>HGNC</th>\n",
       "      <td>3113</td>\n",
       "    </tr>\n",
       "    <tr>\n",
       "      <th>ENSG</th>\n",
       "      <td>2530</td>\n",
       "    </tr>\n",
       "    <tr>\n",
       "      <th>NCBI</th>\n",
       "      <td>6078</td>\n",
       "    </tr>\n",
       "  </tbody>\n",
       "</table>\n",
       "</div>"
      ],
      "text/plain": [
       "      Number of Gene Records With a Shared Alias\n",
       "HGNC                                        3113\n",
       "ENSG                                        2530\n",
       "NCBI                                        6078"
      ]
     },
     "execution_count": 76,
     "metadata": {},
     "output_type": "execute_result"
    }
   ],
   "source": [
    "aa_collision_primary_symbol_summary_index = \"HGNC\", \"ENSG\", \"NCBI\"\n",
    "aa_collision_primary_symbol_summary= {\n",
    "    \"Number of Gene Records With a Shared Alias\": [\n",
    "        ensg_aa_collision_primary_symbol_count,\n",
    "        hgnc_aa_collision_primary_symbol_count,\n",
    "        ncbi_aa_collision_primary_symbol_count,\n",
    "    ]\n",
    "}\n",
    "aa_collision_primary_symbol_summary_df = pd.DataFrame(\n",
    "    aa_collision_primary_symbol_summary, index = aa_collision_primary_symbol_summary_index\n",
    ")\n",
    "aa_collision_primary_symbol_summary_df"
   ]
  },
  {
   "cell_type": "markdown",
   "metadata": {},
   "source": [
    "## <a id='toc8_2_'></a>[All Sources](#toc0_)"
   ]
  },
  {
   "cell_type": "markdown",
   "metadata": {},
   "source": [
    "### <a id='toc8_2_1_'></a>[How many gene records have at least one shared alias in all sources?](#toc0_)"
   ]
  },
  {
   "cell_type": "code",
   "execution_count": 77,
   "metadata": {},
   "outputs": [
    {
     "data": {
      "text/plain": [
       "2319"
      ]
     },
     "execution_count": 77,
     "metadata": {},
     "output_type": "execute_result"
    }
   ],
   "source": [
    "all_sources_aa_collision_genes = (\n",
    "    ensg_aa_collision_primary_symbol_set\n",
    "    & hgnc_aa_collision_primary_symbol_set\n",
    "    & ncbi_aa_collision_primary_symbol_set\n",
    ")\n",
    "len(all_sources_aa_collision_genes)"
   ]
  },
  {
   "cell_type": "markdown",
   "metadata": {},
   "source": [
    "### <a id='toc8_2_2_'></a>[How many unique gene records that have at least one shared alias are found between all sources?](#toc0_)"
   ]
  },
  {
   "cell_type": "code",
   "execution_count": 78,
   "metadata": {},
   "outputs": [],
   "source": [
    "bw_all_sources_aa_collision_df = pd.concat(\n",
    "    [\n",
    "        aa_collision_gene_ensg_df[[\"collision\", \"gene_symbol\"]],\n",
    "        aa_collision_gene_hgnc_df[[\"collision\", \"gene_symbol\"]],\n",
    "        aa_collision_gene_ncbi_df[[\"collision\", \"gene_symbol\"]],\n",
    "    ]\n",
    ")"
   ]
  },
  {
   "cell_type": "code",
   "execution_count": 79,
   "metadata": {},
   "outputs": [
    {
     "data": {
      "text/plain": [
       "6257"
      ]
     },
     "execution_count": 79,
     "metadata": {},
     "output_type": "execute_result"
    }
   ],
   "source": [
    "bw_all_sources_aa_collision_genes_set = set(bw_all_sources_aa_collision_df[\"gene_symbol\"])\n",
    "bw_all_sources_aa_collision_genes_count = len(bw_all_sources_aa_collision_genes_set)\n",
    "bw_all_sources_aa_collision_genes_count"
   ]
  },
  {
   "cell_type": "markdown",
   "metadata": {},
   "source": [
    "# <a id='toc9_'></a>[How many alias symbols are being shared?](#toc0_)"
   ]
  },
  {
   "cell_type": "markdown",
   "metadata": {},
   "source": [
    "## <a id='toc9_1_'></a>[Per Source](#toc0_)"
   ]
  },
  {
   "cell_type": "code",
   "execution_count": 80,
   "metadata": {},
   "outputs": [],
   "source": [
    "ensg_aa_collision_set = set(aa_collision_gene_ensg_df[\"collision\"])\n",
    "ensg_aa_collision_count = len(ensg_aa_collision_set)"
   ]
  },
  {
   "cell_type": "code",
   "execution_count": 81,
   "metadata": {},
   "outputs": [],
   "source": [
    "hgnc_aa_collision_set = set(aa_collision_gene_hgnc_df[\"collision\"])\n",
    "hgnc_aa_collision_count = len(hgnc_aa_collision_set)"
   ]
  },
  {
   "cell_type": "code",
   "execution_count": 82,
   "metadata": {},
   "outputs": [],
   "source": [
    "ncbi_aa_collision_set = set(aa_collision_gene_ncbi_df[\"collision\"])\n",
    "ncbi_aa_collision_count = len(ncbi_aa_collision_set)"
   ]
  },
  {
   "cell_type": "code",
   "execution_count": 83,
   "metadata": {},
   "outputs": [
    {
     "data": {
      "text/html": [
       "<div>\n",
       "<style scoped>\n",
       "    .dataframe tbody tr th:only-of-type {\n",
       "        vertical-align: middle;\n",
       "    }\n",
       "\n",
       "    .dataframe tbody tr th {\n",
       "        vertical-align: top;\n",
       "    }\n",
       "\n",
       "    .dataframe thead th {\n",
       "        text-align: right;\n",
       "    }\n",
       "</style>\n",
       "<table border=\"1\" class=\"dataframe\">\n",
       "  <thead>\n",
       "    <tr style=\"text-align: right;\">\n",
       "      <th></th>\n",
       "      <th>Number of Shared Aliases</th>\n",
       "    </tr>\n",
       "  </thead>\n",
       "  <tbody>\n",
       "    <tr>\n",
       "      <th>HGNC</th>\n",
       "      <td>1617</td>\n",
       "    </tr>\n",
       "    <tr>\n",
       "      <th>ENSG</th>\n",
       "      <td>1250</td>\n",
       "    </tr>\n",
       "    <tr>\n",
       "      <th>NCBI</th>\n",
       "      <td>3711</td>\n",
       "    </tr>\n",
       "  </tbody>\n",
       "</table>\n",
       "</div>"
      ],
      "text/plain": [
       "      Number of Shared Aliases\n",
       "HGNC                      1617\n",
       "ENSG                      1250\n",
       "NCBI                      3711"
      ]
     },
     "execution_count": 83,
     "metadata": {},
     "output_type": "execute_result"
    }
   ],
   "source": [
    "aa_collision_alias_symbol_summary_index = \"HGNC\", \"ENSG\", \"NCBI\"\n",
    "aa_collision_alias_symbol_summary = {\n",
    "    \"Number of Shared Aliases\": [\n",
    "        ensg_aa_collision_count,\n",
    "        hgnc_aa_collision_count,\n",
    "        ncbi_aa_collision_count,\n",
    "    ]\n",
    "}\n",
    "aa_collision_alias_symbol_summary_df = pd.DataFrame(\n",
    "    aa_collision_alias_symbol_summary, index = aa_collision_alias_symbol_summary_index\n",
    ")\n",
    "aa_collision_alias_symbol_summary_df"
   ]
  },
  {
   "cell_type": "markdown",
   "metadata": {},
   "source": [
    "## <a id='toc9_2_'></a>[All Sources](#toc0_)"
   ]
  },
  {
   "cell_type": "markdown",
   "metadata": {},
   "source": [
    "### <a id='toc9_2_1_'></a>[How many aliases are shared in all sources?](#toc0_)"
   ]
  },
  {
   "cell_type": "code",
   "execution_count": 84,
   "metadata": {},
   "outputs": [
    {
     "data": {
      "text/plain": [
       "1131"
      ]
     },
     "execution_count": 84,
     "metadata": {},
     "output_type": "execute_result"
    }
   ],
   "source": [
    "all_sources_aa_collision_aliases = (\n",
    "    ensg_aa_collision_set\n",
    "    & hgnc_aa_collision_set\n",
    "    & ncbi_aa_collision_set\n",
    ")\n",
    "len(all_sources_aa_collision_aliases)"
   ]
  },
  {
   "cell_type": "markdown",
   "metadata": {},
   "source": [
    "### <a id='toc9_2_2_'></a>[How many unique shared aliases are found between all sources?](#toc0_)"
   ]
  },
  {
   "cell_type": "code",
   "execution_count": 85,
   "metadata": {},
   "outputs": [
    {
     "data": {
      "text/plain": [
       "3824"
      ]
     },
     "execution_count": 85,
     "metadata": {},
     "output_type": "execute_result"
    }
   ],
   "source": [
    "bw_all_sources_aa_collision_aliases_set = set(bw_all_sources_aa_collision_df[\"collision\"])\n",
    "bw_all_sources_aa_collision_aliases_count = len(bw_all_sources_aa_collision_aliases_set)\n",
    "bw_all_sources_aa_collision_aliases_count"
   ]
  },
  {
   "cell_type": "markdown",
   "metadata": {},
   "source": [
    "# <a id='toc10_'></a>[How many gene concept-alias relationships are there?](#toc0_)"
   ]
  },
  {
   "cell_type": "markdown",
   "metadata": {},
   "source": [
    "## <a id='toc10_1_'></a>[Per Source](#toc0_)"
   ]
  },
  {
   "cell_type": "code",
   "execution_count": 86,
   "metadata": {},
   "outputs": [],
   "source": [
    "ensg_primary_alias_pair_count = len(subset_genes_ensg_df)"
   ]
  },
  {
   "cell_type": "code",
   "execution_count": 87,
   "metadata": {},
   "outputs": [],
   "source": [
    "hgnc_primary_alias_pair_count = len(subset_genes_hgnc_df)"
   ]
  },
  {
   "cell_type": "code",
   "execution_count": 88,
   "metadata": {},
   "outputs": [],
   "source": [
    "ncbi_primary_alias_pair_count = len(subset_genes_ncbi_df)"
   ]
  },
  {
   "cell_type": "code",
   "execution_count": 89,
   "metadata": {},
   "outputs": [
    {
     "data": {
      "text/html": [
       "<div>\n",
       "<style scoped>\n",
       "    .dataframe tbody tr th:only-of-type {\n",
       "        vertical-align: middle;\n",
       "    }\n",
       "\n",
       "    .dataframe tbody tr th {\n",
       "        vertical-align: top;\n",
       "    }\n",
       "\n",
       "    .dataframe thead th {\n",
       "        text-align: right;\n",
       "    }\n",
       "</style>\n",
       "<table border=\"1\" class=\"dataframe\">\n",
       "  <thead>\n",
       "    <tr style=\"text-align: right;\">\n",
       "      <th></th>\n",
       "      <th>Number of Unique Gene Concept-Alias Pairs</th>\n",
       "    </tr>\n",
       "  </thead>\n",
       "  <tbody>\n",
       "    <tr>\n",
       "      <th>HGNC</th>\n",
       "      <td>57275</td>\n",
       "    </tr>\n",
       "    <tr>\n",
       "      <th>ENSG</th>\n",
       "      <td>44542</td>\n",
       "    </tr>\n",
       "    <tr>\n",
       "      <th>NCBI</th>\n",
       "      <td>74051</td>\n",
       "    </tr>\n",
       "  </tbody>\n",
       "</table>\n",
       "</div>"
      ],
      "text/plain": [
       "      Number of Unique Gene Concept-Alias Pairs\n",
       "HGNC                                      57275\n",
       "ENSG                                      44542\n",
       "NCBI                                      74051"
      ]
     },
     "execution_count": 89,
     "metadata": {},
     "output_type": "execute_result"
    }
   ],
   "source": [
    "primary_alias_pairs_summary_index = \"HGNC\", \"ENSG\", \"NCBI\"\n",
    "primary_alias_pairs_summary = {\n",
    "    \"Number of Unique Gene Concept-Alias Pairs\": [\n",
    "        ensg_primary_alias_pair_count,\n",
    "        hgnc_primary_alias_pair_count,\n",
    "        ncbi_primary_alias_pair_count,\n",
    "    ]\n",
    "}\n",
    "primary_alias_pairs_summary_df = pd.DataFrame(\n",
    "    primary_alias_pairs_summary, index=primary_alias_pairs_summary_index\n",
    ")\n",
    "primary_alias_pairs_summary_df"
   ]
  },
  {
   "cell_type": "markdown",
   "metadata": {},
   "source": [
    "## <a id='toc10_2_'></a>[All Sources](#toc0_)"
   ]
  },
  {
   "cell_type": "markdown",
   "metadata": {},
   "source": [
    "### <a id='toc10_2_1_'></a>[How many unique gene-alias pairs are found between all sources?](#toc0_)"
   ]
  },
  {
   "cell_type": "code",
   "execution_count": 90,
   "metadata": {},
   "outputs": [],
   "source": [
    "bw_all_sources_primary_alias_pairs_df = pd.concat(\n",
    "    [\n",
    "        subset_genes_ensg_df[[\"alias_symbol\", \"gene_symbol\"]],\n",
    "        subset_genes_hgnc_df[[\"alias_symbol\", \"gene_symbol\"]],\n",
    "        subset_genes_ncbi_df[[\"alias_symbol\", \"gene_symbol\"]],\n",
    "    ]\n",
    ")"
   ]
  },
  {
   "cell_type": "code",
   "execution_count": 91,
   "metadata": {},
   "outputs": [
    {
     "data": {
      "text/plain": [
       "175868"
      ]
     },
     "execution_count": 91,
     "metadata": {},
     "output_type": "execute_result"
    }
   ],
   "source": [
    "len(bw_all_sources_primary_alias_pairs_df)"
   ]
  },
  {
   "cell_type": "markdown",
   "metadata": {},
   "source": [
    "#### <a id='toc10_2_1_1_'></a>[Remove duplicate concept-alias pairs](#toc0_)"
   ]
  },
  {
   "cell_type": "code",
   "execution_count": 92,
   "metadata": {},
   "outputs": [],
   "source": [
    "bw_all_sources_primary_alias_pairs_df = bw_all_sources_primary_alias_pairs_df.drop_duplicates(\n",
    "    subset=[\"gene_symbol\", \"alias_symbol\"], keep=\"first\"\n",
    ")"
   ]
  },
  {
   "cell_type": "code",
   "execution_count": 93,
   "metadata": {},
   "outputs": [
    {
     "data": {
      "text/plain": [
       "86774"
      ]
     },
     "execution_count": 93,
     "metadata": {},
     "output_type": "execute_result"
    }
   ],
   "source": [
    "len(bw_all_sources_primary_alias_pairs_df)"
   ]
  }
 ],
 "metadata": {
  "kernelspec": {
   "display_name": "Python 3.10.9 ('gene-normalization-kln2mzEG')",
   "language": "python",
   "name": "python3"
  },
  "language_info": {
   "codemirror_mode": {
    "name": "ipython",
    "version": 3
   },
   "file_extension": ".py",
   "mimetype": "text/x-python",
   "name": "python",
   "nbconvert_exporter": "python",
   "pygments_lexer": "ipython3",
   "version": "3.11.7"
  },
  "orig_nbformat": 4,
  "vscode": {
   "interpreter": {
    "hash": "63db6d8944633f0f1ac66f1e84c479e7ccc3c7c835ee283fbd6bddfaad96182b"
   }
  }
 },
 "nbformat": 4,
 "nbformat_minor": 2
}
