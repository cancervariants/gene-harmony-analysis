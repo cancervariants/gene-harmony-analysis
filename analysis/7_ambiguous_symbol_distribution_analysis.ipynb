{
 "cells": [
  {
   "cell_type": "markdown",
   "metadata": {},
   "source": [
    "**Table of contents**<a id='toc0_'></a>    \n",
    "- [What is the set of ambiguous symbols per source?](#toc1_1_)    \n",
    "    - [Define Functions](#toc1_1_1_)    \n",
    "    - [ENSG](#toc1_1_2_)    \n",
    "    - [HGNC](#toc1_1_3_)    \n",
    "    - [NCBI](#toc1_1_4_)    \n",
    "\n",
    "<!-- vscode-jupyter-toc-config\n",
    "\tnumbering=false\n",
    "\tanchor=true\n",
    "\tflat=false\n",
    "\tminLevel=1\n",
    "\tmaxLevel=6\n",
    "\t/vscode-jupyter-toc-config -->\n",
    "<!-- THIS CELL WILL BE REPLACED ON TOC UPDATE. DO NOT WRITE YOUR TEXT IN THIS CELL -->"
   ]
  },
  {
   "cell_type": "markdown",
   "metadata": {},
   "source": [
    "## <a id='toc1_1_'></a>[What is the set of ambiguous symbols per source?](#toc0_)"
   ]
  },
  {
   "cell_type": "markdown",
   "metadata": {},
   "source": [
    "Need this to create a better histogram figure. Current one only shows the distribution of ambiguous symbols created by alias-alias collisions by source. I want to be able to illustrate how the ambiguous symbols in each source (created by alias-alias and alias-primary collisions) are shared. "
   ]
  },
  {
   "cell_type": "code",
   "execution_count": 96,
   "metadata": {},
   "outputs": [],
   "source": [
    "import pandas as pd\n",
    "import plotly.express as px"
   ]
  },
  {
   "cell_type": "markdown",
   "metadata": {},
   "source": [
    "### <a id='toc1_1_1_'></a>[Define Functions](#toc0_)"
   ]
  },
  {
   "cell_type": "code",
   "execution_count": 97,
   "metadata": {},
   "outputs": [],
   "source": [
    "def combine_columns(df, columns_to_combine, columns_to_keep, new_name, columns_to_drop):\n",
    "    \"\"\"Combine multiple columns into one while keeping associated data attached.\n",
    "    Use this function when the columns to combine are easier to list \n",
    "    than the columns not to combine.\n",
    "    \n",
    "    :param df: The DataFrame containing the columns to be combined\n",
    "    :param columns_to_combine: List of column names to combine into one\n",
    "    :param columns_to_keep: List of columns to keep in the final DataFrame\n",
    "    :param new_name: The name of the new combined column\n",
    "    :param columns_to_drop: List of columns to drop from the final DataFrame\n",
    "    :return: A new DataFrame with combined columns and selected columns retained\n",
    "    \"\"\"\n",
    "    og_df = df.copy()\n",
    "\n",
    "    combined_dfs = []\n",
    "\n",
    "    # Loop through each column in columns_to_combine and create a new DataFrame\n",
    "    for col in columns_to_combine:\n",
    "        temp_df = og_df[list(set([col] + columns_to_keep))].copy()\n",
    "        temp_df[new_name] = temp_df[col]\n",
    "        combined_dfs.append(temp_df)\n",
    "\n",
    "    df_combined = pd.concat(combined_dfs, ignore_index=True)\n",
    "    df_combined.drop(columns_to_drop, axis=1, inplace=True)\n",
    "    df_combined.drop_duplicates(inplace=True)\n",
    "    \n",
    "    return df_combined"
   ]
  },
  {
   "cell_type": "code",
   "execution_count": 98,
   "metadata": {},
   "outputs": [],
   "source": [
    "def create_ambiguous_symbol_histogram(XXXX_ambiguous_symbol_counts: pd.DataFrame, source: str, XXXX_ambiguous_symbol_set_count: int):\n",
    "    \"\"\"Create a histogram of the frequencies at which aliases are shared\n",
    "\n",
    "    :param aa_collision_gene_xxxx_df: A df of alias-alias collisions organized by primary gene symbol\n",
    "    :param source: Representation of the source of the gene records\n",
    "    :param xxxx_alias_count: Number of aliases total in the source\n",
    "    :return: A histogram of the percentage of aliases that are shared between 2 genes, 3 genes, and so on\n",
    "    \"\"\"\n",
    "\n",
    "    #Count the frequency at which aliases are shared \n",
    "    XXXX_ambiguous_symbol_counts_distribution_df = XXXX_ambiguous_symbol_counts.pivot_table(\n",
    "    index=[\"symbol_counts\"], aggfunc=\"size\"\n",
    "    )\n",
    "    XXXX_ambiguous_symbol_counts_distribution_df = XXXX_ambiguous_symbol_counts_distribution_df.reset_index()\n",
    "    XXXX_ambiguous_symbol_counts_distribution_df.rename(columns={0: \"num_collision_symbol\"}, inplace=True)\n",
    "    XXXX_ambiguous_symbol_counts_distribution_df[\"percent_collision_symbol\"] = (\n",
    "        XXXX_ambiguous_symbol_counts_distribution_df[\"num_collision_symbol\"] / XXXX_ambiguous_symbol_set_count\n",
    "    ) * 100\n",
    "\n",
    "    #Convert to csv\n",
    "    XXXX_ambiguous_symbol_counts_distribution_df.to_csv(f'../output/ambiguous_symbol_{source}_distribution_df.csv', index=True)\n",
    "\n",
    "    #Create histogram df \n",
    "    xxxx_symbol_count_histogram_df = XXXX_ambiguous_symbol_counts_distribution_df.drop(\n",
    "    \"num_collision_symbol\", axis=1)\n",
    "\n",
    "    #Convert to csv\n",
    "    xxxx_symbol_count_histogram_df.to_csv(f'../output/{source}_ambiguous_symbol_count_histogram_df.csv', index=True)\n",
    "\n",
    "    return px.bar(xxxx_symbol_count_histogram_df, x=\"symbol_counts\", y=\"percent_collision_symbol\")\n",
    "\n"
   ]
  },
  {
   "cell_type": "markdown",
   "metadata": {},
   "source": [
    "### <a id='toc1_1_2_'></a>[ENSG](#toc0_)"
   ]
  },
  {
   "cell_type": "markdown",
   "metadata": {},
   "source": [
    "import file with ambiguous symbols resulting from alias-alias collisions"
   ]
  },
  {
   "cell_type": "code",
   "execution_count": 99,
   "metadata": {},
   "outputs": [
    {
     "data": {
      "text/html": [
       "<div>\n",
       "<style scoped>\n",
       "    .dataframe tbody tr th:only-of-type {\n",
       "        vertical-align: middle;\n",
       "    }\n",
       "\n",
       "    .dataframe tbody tr th {\n",
       "        vertical-align: top;\n",
       "    }\n",
       "\n",
       "    .dataframe thead th {\n",
       "        text-align: right;\n",
       "    }\n",
       "</style>\n",
       "<table border=\"1\" class=\"dataframe\">\n",
       "  <thead>\n",
       "    <tr style=\"text-align: right;\">\n",
       "      <th></th>\n",
       "      <th>ENSG_ID</th>\n",
       "      <th>collision</th>\n",
       "      <th>gene_symbol</th>\n",
       "      <th>source</th>\n",
       "      <th>NCBI_ID</th>\n",
       "      <th>HGNC_ID</th>\n",
       "      <th>alias_symbol</th>\n",
       "    </tr>\n",
       "  </thead>\n",
       "  <tbody>\n",
       "    <tr>\n",
       "      <th>0</th>\n",
       "      <td>ENSG00000139187</td>\n",
       "      <td>2F1</td>\n",
       "      <td>KLRG1</td>\n",
       "      <td>ENSG</td>\n",
       "      <td>GENE ID:10219</td>\n",
       "      <td>HGNC:6380</td>\n",
       "      <td>2F1,CLEC15A,MAFA,MAFA-L</td>\n",
       "    </tr>\n",
       "    <tr>\n",
       "      <th>1</th>\n",
       "      <td>ENSG00000005022</td>\n",
       "      <td>2F1</td>\n",
       "      <td>SLC25A5</td>\n",
       "      <td>ENSG</td>\n",
       "      <td>GENE ID:292</td>\n",
       "      <td>HGNC:10991</td>\n",
       "      <td>2F1,ANT2,T2,T3</td>\n",
       "    </tr>\n",
       "    <tr>\n",
       "      <th>2</th>\n",
       "      <td>ENSG00000163220</td>\n",
       "      <td>60B8AG</td>\n",
       "      <td>S100A9</td>\n",
       "      <td>ENSG</td>\n",
       "      <td>GENE ID:6280</td>\n",
       "      <td>HGNC:10499</td>\n",
       "      <td>60B8AG,CAGB,CFAG,CGLB,LIAG,MAC387,MIF,MRP-14,M...</td>\n",
       "    </tr>\n",
       "    <tr>\n",
       "      <th>3</th>\n",
       "      <td>ENSG00000143546</td>\n",
       "      <td>60B8AG</td>\n",
       "      <td>S100A8</td>\n",
       "      <td>ENSG</td>\n",
       "      <td>GENE ID:6279</td>\n",
       "      <td>HGNC:10498</td>\n",
       "      <td>60B8AG,CAGA,CFAG,CGLA,MRP-8,MRP8,P8,S100-A8</td>\n",
       "    </tr>\n",
       "    <tr>\n",
       "      <th>4</th>\n",
       "      <td>ENSG00000065135</td>\n",
       "      <td>87U6</td>\n",
       "      <td>GNAI3</td>\n",
       "      <td>ENSG</td>\n",
       "      <td>GENE ID:2773</td>\n",
       "      <td>HGNC:4387</td>\n",
       "      <td>87U6</td>\n",
       "    </tr>\n",
       "    <tr>\n",
       "      <th>...</th>\n",
       "      <td>...</td>\n",
       "      <td>...</td>\n",
       "      <td>...</td>\n",
       "      <td>...</td>\n",
       "      <td>...</td>\n",
       "      <td>...</td>\n",
       "      <td>...</td>\n",
       "    </tr>\n",
       "    <tr>\n",
       "      <th>4721</th>\n",
       "      <td>ENSG00000164756</td>\n",
       "      <td>ZNT8</td>\n",
       "      <td>SLC30A8</td>\n",
       "      <td>ENSG</td>\n",
       "      <td>GENE ID:169026</td>\n",
       "      <td>HGNC:20303</td>\n",
       "      <td>ZNT-8,ZNT8</td>\n",
       "    </tr>\n",
       "    <tr>\n",
       "      <th>4722</th>\n",
       "      <td>ENSG00000196660</td>\n",
       "      <td>ZRC1</td>\n",
       "      <td>SLC30A10</td>\n",
       "      <td>ENSG</td>\n",
       "      <td>GENE ID:55532</td>\n",
       "      <td>HGNC:25355</td>\n",
       "      <td>DKFZP547M236,ZNT-10,ZNT10,ZNT8,ZRC1</td>\n",
       "    </tr>\n",
       "    <tr>\n",
       "      <th>4723</th>\n",
       "      <td>ENSG00000170385</td>\n",
       "      <td>ZRC1</td>\n",
       "      <td>SLC30A1</td>\n",
       "      <td>ENSG</td>\n",
       "      <td>GENE ID:7779</td>\n",
       "      <td>HGNC:11012</td>\n",
       "      <td>ZNT1,ZRC1</td>\n",
       "    </tr>\n",
       "    <tr>\n",
       "      <th>4724</th>\n",
       "      <td>ENSG00000162378</td>\n",
       "      <td>ZYG11</td>\n",
       "      <td>ZYG11B</td>\n",
       "      <td>ENSG</td>\n",
       "      <td>GENE ID:79699</td>\n",
       "      <td>HGNC:25820</td>\n",
       "      <td>FLJ13456,ZYG11</td>\n",
       "    </tr>\n",
       "    <tr>\n",
       "      <th>4725</th>\n",
       "      <td>ENSG00000203995</td>\n",
       "      <td>ZYG11</td>\n",
       "      <td>ZYG11A</td>\n",
       "      <td>ENSG</td>\n",
       "      <td>GENE ID:440590</td>\n",
       "      <td>HGNC:32058</td>\n",
       "      <td>ZYG11</td>\n",
       "    </tr>\n",
       "  </tbody>\n",
       "</table>\n",
       "<p>4726 rows × 7 columns</p>\n",
       "</div>"
      ],
      "text/plain": [
       "              ENSG_ID collision gene_symbol source         NCBI_ID  \\\n",
       "0     ENSG00000139187       2F1       KLRG1   ENSG   GENE ID:10219   \n",
       "1     ENSG00000005022       2F1     SLC25A5   ENSG     GENE ID:292   \n",
       "2     ENSG00000163220    60B8AG      S100A9   ENSG    GENE ID:6280   \n",
       "3     ENSG00000143546    60B8AG      S100A8   ENSG    GENE ID:6279   \n",
       "4     ENSG00000065135      87U6       GNAI3   ENSG    GENE ID:2773   \n",
       "...               ...       ...         ...    ...             ...   \n",
       "4721  ENSG00000164756      ZNT8     SLC30A8   ENSG  GENE ID:169026   \n",
       "4722  ENSG00000196660      ZRC1    SLC30A10   ENSG   GENE ID:55532   \n",
       "4723  ENSG00000170385      ZRC1     SLC30A1   ENSG    GENE ID:7779   \n",
       "4724  ENSG00000162378     ZYG11      ZYG11B   ENSG   GENE ID:79699   \n",
       "4725  ENSG00000203995     ZYG11      ZYG11A   ENSG  GENE ID:440590   \n",
       "\n",
       "         HGNC_ID                                       alias_symbol  \n",
       "0      HGNC:6380                            2F1,CLEC15A,MAFA,MAFA-L  \n",
       "1     HGNC:10991                                     2F1,ANT2,T2,T3  \n",
       "2     HGNC:10499  60B8AG,CAGB,CFAG,CGLB,LIAG,MAC387,MIF,MRP-14,M...  \n",
       "3     HGNC:10498        60B8AG,CAGA,CFAG,CGLA,MRP-8,MRP8,P8,S100-A8  \n",
       "4      HGNC:4387                                               87U6  \n",
       "...          ...                                                ...  \n",
       "4721  HGNC:20303                                         ZNT-8,ZNT8  \n",
       "4722  HGNC:25355                DKFZP547M236,ZNT-10,ZNT10,ZNT8,ZRC1  \n",
       "4723  HGNC:11012                                          ZNT1,ZRC1  \n",
       "4724  HGNC:25820                                     FLJ13456,ZYG11  \n",
       "4725  HGNC:32058                                              ZYG11  \n",
       "\n",
       "[4726 rows x 7 columns]"
      ]
     },
     "execution_count": 99,
     "metadata": {},
     "output_type": "execute_result"
    }
   ],
   "source": [
    "merged_alias_aa_collision_ensg_df = pd.read_csv(\n",
    "    \"../output/merged_alias_aa_collision_ensg_df.csv\", index_col=[0])\n",
    "merged_alias_aa_collision_ensg_df"
   ]
  },
  {
   "cell_type": "code",
   "execution_count": 100,
   "metadata": {},
   "outputs": [
    {
     "data": {
      "text/plain": [
       "1614"
      ]
     },
     "execution_count": 100,
     "metadata": {},
     "output_type": "execute_result"
    }
   ],
   "source": [
    "aa_collision_alias_ensg_set = set(\n",
    "    merged_alias_aa_collision_ensg_df[\"collision\"]\n",
    ")\n",
    "len(aa_collision_alias_ensg_set)"
   ]
  },
  {
   "cell_type": "markdown",
   "metadata": {},
   "source": [
    "import file with ambiguous symbols resulting from alias-primary collisions"
   ]
  },
  {
   "cell_type": "code",
   "execution_count": 101,
   "metadata": {},
   "outputs": [
    {
     "data": {
      "text/html": [
       "<div>\n",
       "<style scoped>\n",
       "    .dataframe tbody tr th:only-of-type {\n",
       "        vertical-align: middle;\n",
       "    }\n",
       "\n",
       "    .dataframe tbody tr th {\n",
       "        vertical-align: top;\n",
       "    }\n",
       "\n",
       "    .dataframe thead th {\n",
       "        text-align: right;\n",
       "    }\n",
       "</style>\n",
       "<table border=\"1\" class=\"dataframe\">\n",
       "  <thead>\n",
       "    <tr style=\"text-align: right;\">\n",
       "      <th></th>\n",
       "      <th>ENSG_ID</th>\n",
       "      <th>gene_symbol</th>\n",
       "      <th>collision</th>\n",
       "      <th>source</th>\n",
       "      <th>NCBI_ID</th>\n",
       "      <th>HGNC_ID</th>\n",
       "      <th>alias_symbol</th>\n",
       "    </tr>\n",
       "  </thead>\n",
       "  <tbody>\n",
       "    <tr>\n",
       "      <th>0</th>\n",
       "      <td>ENSG00000283293</td>\n",
       "      <td>RN7SK</td>\n",
       "      <td>7SK</td>\n",
       "      <td>ENSG</td>\n",
       "      <td>GENE ID:125050</td>\n",
       "      <td>HGNC:10037</td>\n",
       "      <td>7SK</td>\n",
       "    </tr>\n",
       "    <tr>\n",
       "      <th>1</th>\n",
       "      <td>ENSG00000057252</td>\n",
       "      <td>SOAT1</td>\n",
       "      <td>ACAT1</td>\n",
       "      <td>ENSG</td>\n",
       "      <td>GENE ID:6646</td>\n",
       "      <td>HGNC:11177</td>\n",
       "      <td>ACAT,ACAT1,SOAT,STAT</td>\n",
       "    </tr>\n",
       "    <tr>\n",
       "      <th>2</th>\n",
       "      <td>ENSG00000167780</td>\n",
       "      <td>SOAT2</td>\n",
       "      <td>ACAT2</td>\n",
       "      <td>ENSG</td>\n",
       "      <td>GENE ID:8435</td>\n",
       "      <td>HGNC:11178</td>\n",
       "      <td>ACAT2</td>\n",
       "    </tr>\n",
       "    <tr>\n",
       "      <th>3</th>\n",
       "      <td>ENSG00000004779</td>\n",
       "      <td>NDUFAB1</td>\n",
       "      <td>ACP1</td>\n",
       "      <td>ENSG</td>\n",
       "      <td>GENE ID:4706</td>\n",
       "      <td>HGNC:7694</td>\n",
       "      <td>ACP,ACP1,FASN2A,SDAP</td>\n",
       "    </tr>\n",
       "    <tr>\n",
       "      <th>4</th>\n",
       "      <td>ENSG00000220267</td>\n",
       "      <td>ACTBP8</td>\n",
       "      <td>ACTBP2</td>\n",
       "      <td>ENSG</td>\n",
       "      <td>NaN</td>\n",
       "      <td>HGNC:141</td>\n",
       "      <td>ACTBP2</td>\n",
       "    </tr>\n",
       "    <tr>\n",
       "      <th>...</th>\n",
       "      <td>...</td>\n",
       "      <td>...</td>\n",
       "      <td>...</td>\n",
       "      <td>...</td>\n",
       "      <td>...</td>\n",
       "      <td>...</td>\n",
       "      <td>...</td>\n",
       "    </tr>\n",
       "    <tr>\n",
       "      <th>806</th>\n",
       "      <td>ENSG00000197961</td>\n",
       "      <td>ZNF121</td>\n",
       "      <td>ZNF20</td>\n",
       "      <td>ENSG</td>\n",
       "      <td>GENE ID:7675</td>\n",
       "      <td>HGNC:12904</td>\n",
       "      <td>D19S204,ZHC32,ZNF20</td>\n",
       "    </tr>\n",
       "    <tr>\n",
       "      <th>807</th>\n",
       "      <td>ENSG00000110315</td>\n",
       "      <td>RNF141</td>\n",
       "      <td>ZNF230</td>\n",
       "      <td>ENSG</td>\n",
       "      <td>GENE ID:50862</td>\n",
       "      <td>HGNC:21159</td>\n",
       "      <td>ZFP26,ZNF230</td>\n",
       "    </tr>\n",
       "    <tr>\n",
       "      <th>808</th>\n",
       "      <td>ENSG00000188801</td>\n",
       "      <td>ZNF322P1</td>\n",
       "      <td>ZNF322</td>\n",
       "      <td>ENSG</td>\n",
       "      <td>NaN</td>\n",
       "      <td>HGNC:14003</td>\n",
       "      <td>ZNF322,ZNF322B</td>\n",
       "    </tr>\n",
       "    <tr>\n",
       "      <th>809</th>\n",
       "      <td>ENSG00000103994</td>\n",
       "      <td>ZNF106</td>\n",
       "      <td>ZNF474</td>\n",
       "      <td>ENSG</td>\n",
       "      <td>GENE ID:64397</td>\n",
       "      <td>HGNC:12886</td>\n",
       "      <td>SH3BP3,ZFP106,ZNF474</td>\n",
       "    </tr>\n",
       "    <tr>\n",
       "      <th>810</th>\n",
       "      <td>ENSG00000184517</td>\n",
       "      <td>ZFP1</td>\n",
       "      <td>ZNF475</td>\n",
       "      <td>ENSG</td>\n",
       "      <td>GENE ID:162239</td>\n",
       "      <td>HGNC:23328</td>\n",
       "      <td>FLJ34243,ZNF475</td>\n",
       "    </tr>\n",
       "  </tbody>\n",
       "</table>\n",
       "<p>767 rows × 7 columns</p>\n",
       "</div>"
      ],
      "text/plain": [
       "             ENSG_ID gene_symbol collision source         NCBI_ID     HGNC_ID  \\\n",
       "0    ENSG00000283293       RN7SK       7SK   ENSG  GENE ID:125050  HGNC:10037   \n",
       "1    ENSG00000057252       SOAT1     ACAT1   ENSG    GENE ID:6646  HGNC:11177   \n",
       "2    ENSG00000167780       SOAT2     ACAT2   ENSG    GENE ID:8435  HGNC:11178   \n",
       "3    ENSG00000004779     NDUFAB1      ACP1   ENSG    GENE ID:4706   HGNC:7694   \n",
       "4    ENSG00000220267      ACTBP8    ACTBP2   ENSG             NaN    HGNC:141   \n",
       "..               ...         ...       ...    ...             ...         ...   \n",
       "806  ENSG00000197961      ZNF121     ZNF20   ENSG    GENE ID:7675  HGNC:12904   \n",
       "807  ENSG00000110315      RNF141    ZNF230   ENSG   GENE ID:50862  HGNC:21159   \n",
       "808  ENSG00000188801    ZNF322P1    ZNF322   ENSG             NaN  HGNC:14003   \n",
       "809  ENSG00000103994      ZNF106    ZNF474   ENSG   GENE ID:64397  HGNC:12886   \n",
       "810  ENSG00000184517        ZFP1    ZNF475   ENSG  GENE ID:162239  HGNC:23328   \n",
       "\n",
       "             alias_symbol  \n",
       "0                     7SK  \n",
       "1    ACAT,ACAT1,SOAT,STAT  \n",
       "2                   ACAT2  \n",
       "3    ACP,ACP1,FASN2A,SDAP  \n",
       "4                  ACTBP2  \n",
       "..                    ...  \n",
       "806   D19S204,ZHC32,ZNF20  \n",
       "807          ZFP26,ZNF230  \n",
       "808        ZNF322,ZNF322B  \n",
       "809  SH3BP3,ZFP106,ZNF474  \n",
       "810       FLJ34243,ZNF475  \n",
       "\n",
       "[767 rows x 7 columns]"
      ]
     },
     "execution_count": 101,
     "metadata": {},
     "output_type": "execute_result"
    }
   ],
   "source": [
    "ap_collision_ensg_df = pd.read_csv(\n",
    "    \"../output/merged_alias_ap_collision_ensg_df.csv\", index_col=[0])\n",
    "ap_collision_ensg_df"
   ]
  },
  {
   "cell_type": "code",
   "execution_count": 102,
   "metadata": {},
   "outputs": [
    {
     "data": {
      "text/html": [
       "<div>\n",
       "<style scoped>\n",
       "    .dataframe tbody tr th:only-of-type {\n",
       "        vertical-align: middle;\n",
       "    }\n",
       "\n",
       "    .dataframe tbody tr th {\n",
       "        vertical-align: top;\n",
       "    }\n",
       "\n",
       "    .dataframe thead th {\n",
       "        text-align: right;\n",
       "    }\n",
       "</style>\n",
       "<table border=\"1\" class=\"dataframe\">\n",
       "  <thead>\n",
       "    <tr style=\"text-align: right;\">\n",
       "      <th></th>\n",
       "      <th>ENSG_ID</th>\n",
       "      <th>gene_symbol</th>\n",
       "      <th>collision</th>\n",
       "      <th>source</th>\n",
       "      <th>NCBI_ID</th>\n",
       "      <th>HGNC_ID</th>\n",
       "      <th>alias_symbol</th>\n",
       "    </tr>\n",
       "  </thead>\n",
       "  <tbody>\n",
       "    <tr>\n",
       "      <th>662</th>\n",
       "      <td>ENSG00000054392</td>\n",
       "      <td>HHAT</td>\n",
       "      <td>SKI</td>\n",
       "      <td>ENSG</td>\n",
       "      <td>GENE ID:55733</td>\n",
       "      <td>HGNC:18270</td>\n",
       "      <td>FLJ10724,GUP2,MART-2,MART2,RASP,SIT,SKI,SKN</td>\n",
       "    </tr>\n",
       "    <tr>\n",
       "      <th>663</th>\n",
       "      <td>ENSG00000280680</td>\n",
       "      <td>HHAT</td>\n",
       "      <td>SKI</td>\n",
       "      <td>ENSG</td>\n",
       "      <td>GENE ID:55733</td>\n",
       "      <td>HGNC:18270</td>\n",
       "      <td>FLJ10724,GUP2,MART-2,MART2,RASP,SIT,SKI,SKN</td>\n",
       "    </tr>\n",
       "  </tbody>\n",
       "</table>\n",
       "</div>"
      ],
      "text/plain": [
       "             ENSG_ID gene_symbol collision source        NCBI_ID     HGNC_ID  \\\n",
       "662  ENSG00000054392        HHAT       SKI   ENSG  GENE ID:55733  HGNC:18270   \n",
       "663  ENSG00000280680        HHAT       SKI   ENSG  GENE ID:55733  HGNC:18270   \n",
       "\n",
       "                                    alias_symbol  \n",
       "662  FLJ10724,GUP2,MART-2,MART2,RASP,SIT,SKI,SKN  \n",
       "663  FLJ10724,GUP2,MART-2,MART2,RASP,SIT,SKI,SKN  "
      ]
     },
     "execution_count": 102,
     "metadata": {},
     "output_type": "execute_result"
    }
   ],
   "source": [
    "ap_collision_ensg_df.loc[ap_collision_ensg_df[\"collision\"] == \"SKI\"]"
   ]
  },
  {
   "cell_type": "code",
   "execution_count": 103,
   "metadata": {},
   "outputs": [
    {
     "data": {
      "text/plain": [
       "606"
      ]
     },
     "execution_count": 103,
     "metadata": {},
     "output_type": "execute_result"
    }
   ],
   "source": [
    "ap_collision_alias_ensg_set = set(\n",
    "    ap_collision_ensg_df[\"collision\"]\n",
    ")\n",
    "len(ap_collision_alias_ensg_set)"
   ]
  },
  {
   "cell_type": "markdown",
   "metadata": {},
   "source": [
    "combine lists without duplicates to create list of ambiguous symbols for ENSG"
   ]
  },
  {
   "cell_type": "code",
   "execution_count": 104,
   "metadata": {},
   "outputs": [
    {
     "data": {
      "text/plain": [
       "2162"
      ]
     },
     "execution_count": 104,
     "metadata": {},
     "output_type": "execute_result"
    }
   ],
   "source": [
    "ensg_ambiguous_symbol_set = aa_collision_alias_ensg_set.union(\n",
    "    ap_collision_alias_ensg_set\n",
    ")\n",
    "ensg_ambiguous_symbol_set_count = len(ensg_ambiguous_symbol_set)\n",
    "ensg_ambiguous_symbol_set_count"
   ]
  },
  {
   "cell_type": "code",
   "execution_count": 105,
   "metadata": {},
   "outputs": [
    {
     "data": {
      "text/plain": [
       "58"
      ]
     },
     "execution_count": 105,
     "metadata": {},
     "output_type": "execute_result"
    }
   ],
   "source": [
    "both_collision_ensg_set = aa_collision_alias_ensg_set & ap_collision_alias_ensg_set\n",
    "len(both_collision_ensg_set)"
   ]
  },
  {
   "cell_type": "code",
   "execution_count": 106,
   "metadata": {},
   "outputs": [
    {
     "data": {
      "text/plain": [
       "1556"
      ]
     },
     "execution_count": 106,
     "metadata": {},
     "output_type": "execute_result"
    }
   ],
   "source": [
    "only_aa_collision_alias_ensg_set = aa_collision_alias_ensg_set - both_collision_ensg_set\n",
    "len(only_aa_collision_alias_ensg_set)"
   ]
  },
  {
   "cell_type": "code",
   "execution_count": 107,
   "metadata": {},
   "outputs": [
    {
     "data": {
      "text/plain": [
       "548"
      ]
     },
     "execution_count": 107,
     "metadata": {},
     "output_type": "execute_result"
    }
   ],
   "source": [
    "only_ap_collision_alias_ensg_set = ap_collision_alias_ensg_set - both_collision_ensg_set\n",
    "len(only_ap_collision_alias_ensg_set)"
   ]
  },
  {
   "cell_type": "markdown",
   "metadata": {},
   "source": [
    "import mini_ensg_df from symbol_capture_generation.ipynb"
   ]
  },
  {
   "cell_type": "code",
   "execution_count": 108,
   "metadata": {},
   "outputs": [
    {
     "name": "stderr",
     "output_type": "stream",
     "text": [
      "/var/folders/vt/znzp_c6s02q6kjcmqfk0cb500000gq/T/ipykernel_73732/2002703901.py:4: SettingWithCopyWarning:\n",
      "\n",
      "\n",
      "A value is trying to be set on a copy of a slice from a DataFrame.\n",
      "Try using .loc[row_indexer,col_indexer] = value instead\n",
      "\n",
      "See the caveats in the documentation: https://pandas.pydata.org/pandas-docs/stable/user_guide/indexing.html#returning-a-view-versus-a-copy\n",
      "\n",
      "/var/folders/vt/znzp_c6s02q6kjcmqfk0cb500000gq/T/ipykernel_73732/2002703901.py:5: SettingWithCopyWarning:\n",
      "\n",
      "\n",
      "A value is trying to be set on a copy of a slice from a DataFrame\n",
      "\n",
      "See the caveats in the documentation: https://pandas.pydata.org/pandas-docs/stable/user_guide/indexing.html#returning-a-view-versus-a-copy\n",
      "\n",
      "/var/folders/vt/znzp_c6s02q6kjcmqfk0cb500000gq/T/ipykernel_73732/2002703901.py:6: SettingWithCopyWarning:\n",
      "\n",
      "\n",
      "A value is trying to be set on a copy of a slice from a DataFrame.\n",
      "Try using .loc[row_indexer,col_indexer] = value instead\n",
      "\n",
      "See the caveats in the documentation: https://pandas.pydata.org/pandas-docs/stable/user_guide/indexing.html#returning-a-view-versus-a-copy\n",
      "\n"
     ]
    },
    {
     "data": {
      "text/html": [
       "<div>\n",
       "<style scoped>\n",
       "    .dataframe tbody tr th:only-of-type {\n",
       "        vertical-align: middle;\n",
       "    }\n",
       "\n",
       "    .dataframe tbody tr th {\n",
       "        vertical-align: top;\n",
       "    }\n",
       "\n",
       "    .dataframe thead th {\n",
       "        text-align: right;\n",
       "    }\n",
       "</style>\n",
       "<table border=\"1\" class=\"dataframe\">\n",
       "  <thead>\n",
       "    <tr style=\"text-align: right;\">\n",
       "      <th></th>\n",
       "      <th>ENSG_ID</th>\n",
       "      <th>NCBI_ID</th>\n",
       "      <th>HGNC_ID</th>\n",
       "      <th>alias_symbol</th>\n",
       "      <th>primary_gene_symbol</th>\n",
       "    </tr>\n",
       "  </thead>\n",
       "  <tbody>\n",
       "    <tr>\n",
       "      <th>0</th>\n",
       "      <td>ENSG00000210049</td>\n",
       "      <td>NaN</td>\n",
       "      <td>HGNC:7481</td>\n",
       "      <td>MTTF</td>\n",
       "      <td>MT-TF</td>\n",
       "    </tr>\n",
       "    <tr>\n",
       "      <th>1</th>\n",
       "      <td>ENSG00000210049</td>\n",
       "      <td>NaN</td>\n",
       "      <td>HGNC:7481</td>\n",
       "      <td>TRNF</td>\n",
       "      <td>MT-TF</td>\n",
       "    </tr>\n",
       "    <tr>\n",
       "      <th>2</th>\n",
       "      <td>ENSG00000211459</td>\n",
       "      <td>NaN</td>\n",
       "      <td>HGNC:7470</td>\n",
       "      <td>12S</td>\n",
       "      <td>MT-RNR1</td>\n",
       "    </tr>\n",
       "    <tr>\n",
       "      <th>3</th>\n",
       "      <td>ENSG00000211459</td>\n",
       "      <td>NaN</td>\n",
       "      <td>HGNC:7470</td>\n",
       "      <td>MOTS-C</td>\n",
       "      <td>MT-RNR1</td>\n",
       "    </tr>\n",
       "    <tr>\n",
       "      <th>4</th>\n",
       "      <td>ENSG00000211459</td>\n",
       "      <td>NaN</td>\n",
       "      <td>HGNC:7470</td>\n",
       "      <td>MTRNR1</td>\n",
       "      <td>MT-RNR1</td>\n",
       "    </tr>\n",
       "    <tr>\n",
       "      <th>...</th>\n",
       "      <td>...</td>\n",
       "      <td>...</td>\n",
       "      <td>...</td>\n",
       "      <td>...</td>\n",
       "      <td>...</td>\n",
       "    </tr>\n",
       "    <tr>\n",
       "      <th>133058</th>\n",
       "      <td>ENSG00000197989</td>\n",
       "      <td>GENE ID:85028</td>\n",
       "      <td>HGNC:30062</td>\n",
       "      <td>LINC00100</td>\n",
       "      <td>SNHG12</td>\n",
       "    </tr>\n",
       "    <tr>\n",
       "      <th>133059</th>\n",
       "      <td>ENSG00000197989</td>\n",
       "      <td>GENE ID:85028</td>\n",
       "      <td>HGNC:30062</td>\n",
       "      <td>PNAS-123</td>\n",
       "      <td>SNHG12</td>\n",
       "    </tr>\n",
       "    <tr>\n",
       "      <th>133060</th>\n",
       "      <td>ENSG00000229388</td>\n",
       "      <td>NaN</td>\n",
       "      <td>HGNC:52502</td>\n",
       "      <td>LINC01715</td>\n",
       "      <td>TAF12-DT</td>\n",
       "    </tr>\n",
       "    <tr>\n",
       "      <th>133062</th>\n",
       "      <td>ENSG00000274978</td>\n",
       "      <td>GENE ID:26824</td>\n",
       "      <td>HGNC:10108</td>\n",
       "      <td>RNU11-1</td>\n",
       "      <td>RNU11</td>\n",
       "    </tr>\n",
       "    <tr>\n",
       "      <th>133063</th>\n",
       "      <td>ENSG00000274978</td>\n",
       "      <td>GENE ID:26824</td>\n",
       "      <td>HGNC:10108</td>\n",
       "      <td>U11</td>\n",
       "      <td>RNU11</td>\n",
       "    </tr>\n",
       "  </tbody>\n",
       "</table>\n",
       "<p>73904 rows × 5 columns</p>\n",
       "</div>"
      ],
      "text/plain": [
       "                ENSG_ID        NCBI_ID     HGNC_ID alias_symbol  \\\n",
       "0       ENSG00000210049            NaN   HGNC:7481         MTTF   \n",
       "1       ENSG00000210049            NaN   HGNC:7481         TRNF   \n",
       "2       ENSG00000211459            NaN   HGNC:7470          12S   \n",
       "3       ENSG00000211459            NaN   HGNC:7470       MOTS-C   \n",
       "4       ENSG00000211459            NaN   HGNC:7470       MTRNR1   \n",
       "...                 ...            ...         ...          ...   \n",
       "133058  ENSG00000197989  GENE ID:85028  HGNC:30062    LINC00100   \n",
       "133059  ENSG00000197989  GENE ID:85028  HGNC:30062     PNAS-123   \n",
       "133060  ENSG00000229388            NaN  HGNC:52502    LINC01715   \n",
       "133062  ENSG00000274978  GENE ID:26824  HGNC:10108      RNU11-1   \n",
       "133063  ENSG00000274978  GENE ID:26824  HGNC:10108          U11   \n",
       "\n",
       "       primary_gene_symbol  \n",
       "0                    MT-TF  \n",
       "1                    MT-TF  \n",
       "2                  MT-RNR1  \n",
       "3                  MT-RNR1  \n",
       "4                  MT-RNR1  \n",
       "...                    ...  \n",
       "133058              SNHG12  \n",
       "133059              SNHG12  \n",
       "133060            TAF12-DT  \n",
       "133062               RNU11  \n",
       "133063               RNU11  \n",
       "\n",
       "[73904 rows x 5 columns]"
      ]
     },
     "execution_count": 108,
     "metadata": {},
     "output_type": "execute_result"
    }
   ],
   "source": [
    "mini_ensg_df = pd.read_csv(\n",
    "        (\"../output/mini_ensg_df.csv\"), index_col=[0],dtype={\"NCBI_ID\": str,\"HGNC_ID\":str})\n",
    "ensg_df = mini_ensg_df[mini_ensg_df['gene_symbol'] != mini_ensg_df['alias_symbol']]\n",
    "ensg_df['primary_gene_symbol'] = ensg_df['gene_symbol'].str.upper()\n",
    "ensg_df.drop([\"gene_symbol\"], axis=1, inplace=True)\n",
    "ensg_df['alias_symbol'] = ensg_df['alias_symbol'].str.upper()\n",
    "ensg_df = ensg_df.drop_duplicates(subset=['primary_gene_symbol', 'alias_symbol'], keep='first')\n",
    "ensg_df"
   ]
  },
  {
   "cell_type": "code",
   "execution_count": 109,
   "metadata": {},
   "outputs": [
    {
     "data": {
      "text/html": [
       "<div>\n",
       "<style scoped>\n",
       "    .dataframe tbody tr th:only-of-type {\n",
       "        vertical-align: middle;\n",
       "    }\n",
       "\n",
       "    .dataframe tbody tr th {\n",
       "        vertical-align: top;\n",
       "    }\n",
       "\n",
       "    .dataframe thead th {\n",
       "        text-align: right;\n",
       "    }\n",
       "</style>\n",
       "<table border=\"1\" class=\"dataframe\">\n",
       "  <thead>\n",
       "    <tr style=\"text-align: right;\">\n",
       "      <th></th>\n",
       "      <th>ENSG_ID</th>\n",
       "      <th>NCBI_ID</th>\n",
       "      <th>HGNC_ID</th>\n",
       "      <th>alias_symbol</th>\n",
       "      <th>primary_gene_symbol</th>\n",
       "    </tr>\n",
       "  </thead>\n",
       "  <tbody>\n",
       "    <tr>\n",
       "      <th>0</th>\n",
       "      <td>ENSG00000210049</td>\n",
       "      <td>NaN</td>\n",
       "      <td>HGNC:7481</td>\n",
       "      <td>MTTF</td>\n",
       "      <td>MT-TF</td>\n",
       "    </tr>\n",
       "  </tbody>\n",
       "</table>\n",
       "</div>"
      ],
      "text/plain": [
       "           ENSG_ID NCBI_ID    HGNC_ID alias_symbol primary_gene_symbol\n",
       "0  ENSG00000210049     NaN  HGNC:7481         MTTF               MT-TF"
      ]
     },
     "execution_count": 109,
     "metadata": {},
     "output_type": "execute_result"
    }
   ],
   "source": [
    "ensg_df.loc[ensg_df[\"alias_symbol\"] == \"MTTF\"]"
   ]
  },
  {
   "cell_type": "markdown",
   "metadata": {},
   "source": [
    "make a general symbol column with primary and alias symbols"
   ]
  },
  {
   "cell_type": "code",
   "execution_count": 110,
   "metadata": {},
   "outputs": [
    {
     "data": {
      "text/html": [
       "<div>\n",
       "<style scoped>\n",
       "    .dataframe tbody tr th:only-of-type {\n",
       "        vertical-align: middle;\n",
       "    }\n",
       "\n",
       "    .dataframe tbody tr th {\n",
       "        vertical-align: top;\n",
       "    }\n",
       "\n",
       "    .dataframe thead th {\n",
       "        text-align: right;\n",
       "    }\n",
       "</style>\n",
       "<table border=\"1\" class=\"dataframe\">\n",
       "  <thead>\n",
       "    <tr style=\"text-align: right;\">\n",
       "      <th></th>\n",
       "      <th>NCBI_ID</th>\n",
       "      <th>primary_gene_symbol</th>\n",
       "      <th>ENSG_ID</th>\n",
       "      <th>HGNC_ID</th>\n",
       "      <th>symbol</th>\n",
       "    </tr>\n",
       "  </thead>\n",
       "  <tbody>\n",
       "    <tr>\n",
       "      <th>0</th>\n",
       "      <td>NaN</td>\n",
       "      <td>MT-TF</td>\n",
       "      <td>ENSG00000210049</td>\n",
       "      <td>HGNC:7481</td>\n",
       "      <td>MT-TF</td>\n",
       "    </tr>\n",
       "    <tr>\n",
       "      <th>2</th>\n",
       "      <td>NaN</td>\n",
       "      <td>MT-RNR1</td>\n",
       "      <td>ENSG00000211459</td>\n",
       "      <td>HGNC:7470</td>\n",
       "      <td>MT-RNR1</td>\n",
       "    </tr>\n",
       "    <tr>\n",
       "      <th>5</th>\n",
       "      <td>NaN</td>\n",
       "      <td>MT-TV</td>\n",
       "      <td>ENSG00000210077</td>\n",
       "      <td>HGNC:7500</td>\n",
       "      <td>MT-TV</td>\n",
       "    </tr>\n",
       "    <tr>\n",
       "      <th>7</th>\n",
       "      <td>NaN</td>\n",
       "      <td>MT-RNR2</td>\n",
       "      <td>ENSG00000210082</td>\n",
       "      <td>HGNC:7471</td>\n",
       "      <td>MT-RNR2</td>\n",
       "    </tr>\n",
       "    <tr>\n",
       "      <th>10</th>\n",
       "      <td>NaN</td>\n",
       "      <td>MT-TL1</td>\n",
       "      <td>ENSG00000209082</td>\n",
       "      <td>HGNC:7490</td>\n",
       "      <td>MT-TL1</td>\n",
       "    </tr>\n",
       "    <tr>\n",
       "      <th>...</th>\n",
       "      <td>...</td>\n",
       "      <td>...</td>\n",
       "      <td>...</td>\n",
       "      <td>...</td>\n",
       "      <td>...</td>\n",
       "    </tr>\n",
       "    <tr>\n",
       "      <th>147803</th>\n",
       "      <td>GENE ID:85028</td>\n",
       "      <td>SNHG12</td>\n",
       "      <td>ENSG00000197989</td>\n",
       "      <td>HGNC:30062</td>\n",
       "      <td>LINC00100</td>\n",
       "    </tr>\n",
       "    <tr>\n",
       "      <th>147804</th>\n",
       "      <td>GENE ID:85028</td>\n",
       "      <td>SNHG12</td>\n",
       "      <td>ENSG00000197989</td>\n",
       "      <td>HGNC:30062</td>\n",
       "      <td>PNAS-123</td>\n",
       "    </tr>\n",
       "    <tr>\n",
       "      <th>147805</th>\n",
       "      <td>NaN</td>\n",
       "      <td>TAF12-DT</td>\n",
       "      <td>ENSG00000229388</td>\n",
       "      <td>HGNC:52502</td>\n",
       "      <td>LINC01715</td>\n",
       "    </tr>\n",
       "    <tr>\n",
       "      <th>147806</th>\n",
       "      <td>GENE ID:26824</td>\n",
       "      <td>RNU11</td>\n",
       "      <td>ENSG00000274978</td>\n",
       "      <td>HGNC:10108</td>\n",
       "      <td>RNU11-1</td>\n",
       "    </tr>\n",
       "    <tr>\n",
       "      <th>147807</th>\n",
       "      <td>GENE ID:26824</td>\n",
       "      <td>RNU11</td>\n",
       "      <td>ENSG00000274978</td>\n",
       "      <td>HGNC:10108</td>\n",
       "      <td>U11</td>\n",
       "    </tr>\n",
       "  </tbody>\n",
       "</table>\n",
       "<p>115119 rows × 5 columns</p>\n",
       "</div>"
      ],
      "text/plain": [
       "              NCBI_ID primary_gene_symbol          ENSG_ID     HGNC_ID  \\\n",
       "0                 NaN               MT-TF  ENSG00000210049   HGNC:7481   \n",
       "2                 NaN             MT-RNR1  ENSG00000211459   HGNC:7470   \n",
       "5                 NaN               MT-TV  ENSG00000210077   HGNC:7500   \n",
       "7                 NaN             MT-RNR2  ENSG00000210082   HGNC:7471   \n",
       "10                NaN              MT-TL1  ENSG00000209082   HGNC:7490   \n",
       "...               ...                 ...              ...         ...   \n",
       "147803  GENE ID:85028              SNHG12  ENSG00000197989  HGNC:30062   \n",
       "147804  GENE ID:85028              SNHG12  ENSG00000197989  HGNC:30062   \n",
       "147805            NaN            TAF12-DT  ENSG00000229388  HGNC:52502   \n",
       "147806  GENE ID:26824               RNU11  ENSG00000274978  HGNC:10108   \n",
       "147807  GENE ID:26824               RNU11  ENSG00000274978  HGNC:10108   \n",
       "\n",
       "           symbol  \n",
       "0           MT-TF  \n",
       "2         MT-RNR1  \n",
       "5           MT-TV  \n",
       "7         MT-RNR2  \n",
       "10         MT-TL1  \n",
       "...           ...  \n",
       "147803  LINC00100  \n",
       "147804   PNAS-123  \n",
       "147805  LINC01715  \n",
       "147806    RNU11-1  \n",
       "147807        U11  \n",
       "\n",
       "[115119 rows x 5 columns]"
      ]
     },
     "execution_count": 110,
     "metadata": {},
     "output_type": "execute_result"
    }
   ],
   "source": [
    "ensg_df = combine_columns(ensg_df, [\"primary_gene_symbol\", \"alias_symbol\"], [\"primary_gene_symbol\", \"ENSG_ID\", \"HGNC_ID\",\"NCBI_ID\"], \"symbol\", \"alias_symbol\")\n",
    "ensg_df"
   ]
  },
  {
   "cell_type": "code",
   "execution_count": 111,
   "metadata": {},
   "outputs": [
    {
     "data": {
      "text/html": [
       "<div>\n",
       "<style scoped>\n",
       "    .dataframe tbody tr th:only-of-type {\n",
       "        vertical-align: middle;\n",
       "    }\n",
       "\n",
       "    .dataframe tbody tr th {\n",
       "        vertical-align: top;\n",
       "    }\n",
       "\n",
       "    .dataframe thead th {\n",
       "        text-align: right;\n",
       "    }\n",
       "</style>\n",
       "<table border=\"1\" class=\"dataframe\">\n",
       "  <thead>\n",
       "    <tr style=\"text-align: right;\">\n",
       "      <th></th>\n",
       "      <th>NCBI_ID</th>\n",
       "      <th>primary_gene_symbol</th>\n",
       "      <th>ENSG_ID</th>\n",
       "      <th>HGNC_ID</th>\n",
       "      <th>symbol</th>\n",
       "    </tr>\n",
       "  </thead>\n",
       "  <tbody>\n",
       "    <tr>\n",
       "      <th>0</th>\n",
       "      <td>NaN</td>\n",
       "      <td>MT-TF</td>\n",
       "      <td>ENSG00000210049</td>\n",
       "      <td>HGNC:7481</td>\n",
       "      <td>MT-TF</td>\n",
       "    </tr>\n",
       "    <tr>\n",
       "      <th>73904</th>\n",
       "      <td>NaN</td>\n",
       "      <td>MT-TF</td>\n",
       "      <td>ENSG00000210049</td>\n",
       "      <td>HGNC:7481</td>\n",
       "      <td>MTTF</td>\n",
       "    </tr>\n",
       "    <tr>\n",
       "      <th>73905</th>\n",
       "      <td>NaN</td>\n",
       "      <td>MT-TF</td>\n",
       "      <td>ENSG00000210049</td>\n",
       "      <td>HGNC:7481</td>\n",
       "      <td>TRNF</td>\n",
       "    </tr>\n",
       "  </tbody>\n",
       "</table>\n",
       "</div>"
      ],
      "text/plain": [
       "      NCBI_ID primary_gene_symbol          ENSG_ID    HGNC_ID symbol\n",
       "0         NaN               MT-TF  ENSG00000210049  HGNC:7481  MT-TF\n",
       "73904     NaN               MT-TF  ENSG00000210049  HGNC:7481   MTTF\n",
       "73905     NaN               MT-TF  ENSG00000210049  HGNC:7481   TRNF"
      ]
     },
     "execution_count": 111,
     "metadata": {},
     "output_type": "execute_result"
    }
   ],
   "source": [
    "ensg_df.loc[ensg_df[\"primary_gene_symbol\"] == \"MT-TF\"]"
   ]
  },
  {
   "cell_type": "markdown",
   "metadata": {},
   "source": [
    "use list of ambiguous symbols and ensg_combined_concept_ids_df to create a histogram of how many genes share ambiguous symbols"
   ]
  },
  {
   "cell_type": "code",
   "execution_count": 112,
   "metadata": {},
   "outputs": [
    {
     "data": {
      "text/html": [
       "<div>\n",
       "<style scoped>\n",
       "    .dataframe tbody tr th:only-of-type {\n",
       "        vertical-align: middle;\n",
       "    }\n",
       "\n",
       "    .dataframe tbody tr th {\n",
       "        vertical-align: top;\n",
       "    }\n",
       "\n",
       "    .dataframe thead th {\n",
       "        text-align: right;\n",
       "    }\n",
       "</style>\n",
       "<table border=\"1\" class=\"dataframe\">\n",
       "  <thead>\n",
       "    <tr style=\"text-align: right;\">\n",
       "      <th></th>\n",
       "      <th>symbols</th>\n",
       "      <th>symbol_counts</th>\n",
       "    </tr>\n",
       "  </thead>\n",
       "  <tbody>\n",
       "    <tr>\n",
       "      <th>0</th>\n",
       "      <td>MT1</td>\n",
       "      <td>11</td>\n",
       "    </tr>\n",
       "    <tr>\n",
       "      <th>1</th>\n",
       "      <td>HOX1</td>\n",
       "      <td>10</td>\n",
       "    </tr>\n",
       "    <tr>\n",
       "      <th>2</th>\n",
       "      <td>P40</td>\n",
       "      <td>10</td>\n",
       "    </tr>\n",
       "    <tr>\n",
       "      <th>3</th>\n",
       "      <td>HOX2</td>\n",
       "      <td>9</td>\n",
       "    </tr>\n",
       "    <tr>\n",
       "      <th>4</th>\n",
       "      <td>P14</td>\n",
       "      <td>9</td>\n",
       "    </tr>\n",
       "    <tr>\n",
       "      <th>...</th>\n",
       "      <td>...</td>\n",
       "      <td>...</td>\n",
       "    </tr>\n",
       "    <tr>\n",
       "      <th>2157</th>\n",
       "      <td>IBP1</td>\n",
       "      <td>2</td>\n",
       "    </tr>\n",
       "    <tr>\n",
       "      <th>2158</th>\n",
       "      <td>HLA-H</td>\n",
       "      <td>2</td>\n",
       "    </tr>\n",
       "    <tr>\n",
       "      <th>2159</th>\n",
       "      <td>MIA2</td>\n",
       "      <td>2</td>\n",
       "    </tr>\n",
       "    <tr>\n",
       "      <th>2160</th>\n",
       "      <td>INT2</td>\n",
       "      <td>2</td>\n",
       "    </tr>\n",
       "    <tr>\n",
       "      <th>2161</th>\n",
       "      <td>HP</td>\n",
       "      <td>2</td>\n",
       "    </tr>\n",
       "  </tbody>\n",
       "</table>\n",
       "<p>2162 rows × 2 columns</p>\n",
       "</div>"
      ],
      "text/plain": [
       "     symbols  symbol_counts\n",
       "0        MT1             11\n",
       "1       HOX1             10\n",
       "2        P40             10\n",
       "3       HOX2              9\n",
       "4        P14              9\n",
       "...      ...            ...\n",
       "2157    IBP1              2\n",
       "2158   HLA-H              2\n",
       "2159    MIA2              2\n",
       "2160    INT2              2\n",
       "2161      HP              2\n",
       "\n",
       "[2162 rows x 2 columns]"
      ]
     },
     "execution_count": 112,
     "metadata": {},
     "output_type": "execute_result"
    }
   ],
   "source": [
    "ensg_symbol_value_counts = ensg_df[\"symbol\"].value_counts()\n",
    "\n",
    "ensg_ambiguous_symbol_counts = ensg_symbol_value_counts[ensg_symbol_value_counts.index.isin(ensg_ambiguous_symbol_set)]\n",
    "ensg_ambiguous_symbol_counts = ensg_ambiguous_symbol_counts.reset_index()\n",
    "ensg_ambiguous_symbol_counts.columns = [\"symbols\", \"symbol_counts\"]\n",
    "ensg_ambiguous_symbol_counts"
   ]
  },
  {
   "cell_type": "code",
   "execution_count": 113,
   "metadata": {},
   "outputs": [
    {
     "data": {
      "application/vnd.plotly.v1+json": {
       "config": {
        "plotlyServerURL": "https://plot.ly"
       },
       "data": [
        {
         "alignmentgroup": "True",
         "hovertemplate": "symbol_counts=%{x}<br>percent_collision_symbol=%{y}<extra></extra>",
         "legendgroup": "",
         "marker": {
          "color": "#636efa",
          "pattern": {
           "shape": ""
          }
         },
         "name": "",
         "offsetgroup": "",
         "orientation": "v",
         "showlegend": false,
         "textposition": "auto",
         "type": "bar",
         "x": [
          2,
          3,
          4,
          5,
          6,
          7,
          8,
          9,
          10,
          11
         ],
         "xaxis": "x",
         "y": [
          84.9213691026827,
          10.962072155411656,
          2.266419981498612,
          0.7400555041628123,
          0.6012950971322849,
          0.18501387604070307,
          0.09250693802035154,
          0.09250693802035154,
          0.09250693802035154,
          0.04625346901017577
         ],
         "yaxis": "y"
        }
       ],
       "layout": {
        "barmode": "relative",
        "legend": {
         "tracegroupgap": 0
        },
        "margin": {
         "t": 60
        },
        "template": {
         "data": {
          "bar": [
           {
            "error_x": {
             "color": "#2a3f5f"
            },
            "error_y": {
             "color": "#2a3f5f"
            },
            "marker": {
             "line": {
              "color": "#E5ECF6",
              "width": 0.5
             },
             "pattern": {
              "fillmode": "overlay",
              "size": 10,
              "solidity": 0.2
             }
            },
            "type": "bar"
           }
          ],
          "barpolar": [
           {
            "marker": {
             "line": {
              "color": "#E5ECF6",
              "width": 0.5
             },
             "pattern": {
              "fillmode": "overlay",
              "size": 10,
              "solidity": 0.2
             }
            },
            "type": "barpolar"
           }
          ],
          "carpet": [
           {
            "aaxis": {
             "endlinecolor": "#2a3f5f",
             "gridcolor": "white",
             "linecolor": "white",
             "minorgridcolor": "white",
             "startlinecolor": "#2a3f5f"
            },
            "baxis": {
             "endlinecolor": "#2a3f5f",
             "gridcolor": "white",
             "linecolor": "white",
             "minorgridcolor": "white",
             "startlinecolor": "#2a3f5f"
            },
            "type": "carpet"
           }
          ],
          "choropleth": [
           {
            "colorbar": {
             "outlinewidth": 0,
             "ticks": ""
            },
            "type": "choropleth"
           }
          ],
          "contour": [
           {
            "colorbar": {
             "outlinewidth": 0,
             "ticks": ""
            },
            "colorscale": [
             [
              0,
              "#0d0887"
             ],
             [
              0.1111111111111111,
              "#46039f"
             ],
             [
              0.2222222222222222,
              "#7201a8"
             ],
             [
              0.3333333333333333,
              "#9c179e"
             ],
             [
              0.4444444444444444,
              "#bd3786"
             ],
             [
              0.5555555555555556,
              "#d8576b"
             ],
             [
              0.6666666666666666,
              "#ed7953"
             ],
             [
              0.7777777777777778,
              "#fb9f3a"
             ],
             [
              0.8888888888888888,
              "#fdca26"
             ],
             [
              1,
              "#f0f921"
             ]
            ],
            "type": "contour"
           }
          ],
          "contourcarpet": [
           {
            "colorbar": {
             "outlinewidth": 0,
             "ticks": ""
            },
            "type": "contourcarpet"
           }
          ],
          "heatmap": [
           {
            "colorbar": {
             "outlinewidth": 0,
             "ticks": ""
            },
            "colorscale": [
             [
              0,
              "#0d0887"
             ],
             [
              0.1111111111111111,
              "#46039f"
             ],
             [
              0.2222222222222222,
              "#7201a8"
             ],
             [
              0.3333333333333333,
              "#9c179e"
             ],
             [
              0.4444444444444444,
              "#bd3786"
             ],
             [
              0.5555555555555556,
              "#d8576b"
             ],
             [
              0.6666666666666666,
              "#ed7953"
             ],
             [
              0.7777777777777778,
              "#fb9f3a"
             ],
             [
              0.8888888888888888,
              "#fdca26"
             ],
             [
              1,
              "#f0f921"
             ]
            ],
            "type": "heatmap"
           }
          ],
          "heatmapgl": [
           {
            "colorbar": {
             "outlinewidth": 0,
             "ticks": ""
            },
            "colorscale": [
             [
              0,
              "#0d0887"
             ],
             [
              0.1111111111111111,
              "#46039f"
             ],
             [
              0.2222222222222222,
              "#7201a8"
             ],
             [
              0.3333333333333333,
              "#9c179e"
             ],
             [
              0.4444444444444444,
              "#bd3786"
             ],
             [
              0.5555555555555556,
              "#d8576b"
             ],
             [
              0.6666666666666666,
              "#ed7953"
             ],
             [
              0.7777777777777778,
              "#fb9f3a"
             ],
             [
              0.8888888888888888,
              "#fdca26"
             ],
             [
              1,
              "#f0f921"
             ]
            ],
            "type": "heatmapgl"
           }
          ],
          "histogram": [
           {
            "marker": {
             "pattern": {
              "fillmode": "overlay",
              "size": 10,
              "solidity": 0.2
             }
            },
            "type": "histogram"
           }
          ],
          "histogram2d": [
           {
            "colorbar": {
             "outlinewidth": 0,
             "ticks": ""
            },
            "colorscale": [
             [
              0,
              "#0d0887"
             ],
             [
              0.1111111111111111,
              "#46039f"
             ],
             [
              0.2222222222222222,
              "#7201a8"
             ],
             [
              0.3333333333333333,
              "#9c179e"
             ],
             [
              0.4444444444444444,
              "#bd3786"
             ],
             [
              0.5555555555555556,
              "#d8576b"
             ],
             [
              0.6666666666666666,
              "#ed7953"
             ],
             [
              0.7777777777777778,
              "#fb9f3a"
             ],
             [
              0.8888888888888888,
              "#fdca26"
             ],
             [
              1,
              "#f0f921"
             ]
            ],
            "type": "histogram2d"
           }
          ],
          "histogram2dcontour": [
           {
            "colorbar": {
             "outlinewidth": 0,
             "ticks": ""
            },
            "colorscale": [
             [
              0,
              "#0d0887"
             ],
             [
              0.1111111111111111,
              "#46039f"
             ],
             [
              0.2222222222222222,
              "#7201a8"
             ],
             [
              0.3333333333333333,
              "#9c179e"
             ],
             [
              0.4444444444444444,
              "#bd3786"
             ],
             [
              0.5555555555555556,
              "#d8576b"
             ],
             [
              0.6666666666666666,
              "#ed7953"
             ],
             [
              0.7777777777777778,
              "#fb9f3a"
             ],
             [
              0.8888888888888888,
              "#fdca26"
             ],
             [
              1,
              "#f0f921"
             ]
            ],
            "type": "histogram2dcontour"
           }
          ],
          "mesh3d": [
           {
            "colorbar": {
             "outlinewidth": 0,
             "ticks": ""
            },
            "type": "mesh3d"
           }
          ],
          "parcoords": [
           {
            "line": {
             "colorbar": {
              "outlinewidth": 0,
              "ticks": ""
             }
            },
            "type": "parcoords"
           }
          ],
          "pie": [
           {
            "automargin": true,
            "type": "pie"
           }
          ],
          "scatter": [
           {
            "fillpattern": {
             "fillmode": "overlay",
             "size": 10,
             "solidity": 0.2
            },
            "type": "scatter"
           }
          ],
          "scatter3d": [
           {
            "line": {
             "colorbar": {
              "outlinewidth": 0,
              "ticks": ""
             }
            },
            "marker": {
             "colorbar": {
              "outlinewidth": 0,
              "ticks": ""
             }
            },
            "type": "scatter3d"
           }
          ],
          "scattercarpet": [
           {
            "marker": {
             "colorbar": {
              "outlinewidth": 0,
              "ticks": ""
             }
            },
            "type": "scattercarpet"
           }
          ],
          "scattergeo": [
           {
            "marker": {
             "colorbar": {
              "outlinewidth": 0,
              "ticks": ""
             }
            },
            "type": "scattergeo"
           }
          ],
          "scattergl": [
           {
            "marker": {
             "colorbar": {
              "outlinewidth": 0,
              "ticks": ""
             }
            },
            "type": "scattergl"
           }
          ],
          "scattermapbox": [
           {
            "marker": {
             "colorbar": {
              "outlinewidth": 0,
              "ticks": ""
             }
            },
            "type": "scattermapbox"
           }
          ],
          "scatterpolar": [
           {
            "marker": {
             "colorbar": {
              "outlinewidth": 0,
              "ticks": ""
             }
            },
            "type": "scatterpolar"
           }
          ],
          "scatterpolargl": [
           {
            "marker": {
             "colorbar": {
              "outlinewidth": 0,
              "ticks": ""
             }
            },
            "type": "scatterpolargl"
           }
          ],
          "scatterternary": [
           {
            "marker": {
             "colorbar": {
              "outlinewidth": 0,
              "ticks": ""
             }
            },
            "type": "scatterternary"
           }
          ],
          "surface": [
           {
            "colorbar": {
             "outlinewidth": 0,
             "ticks": ""
            },
            "colorscale": [
             [
              0,
              "#0d0887"
             ],
             [
              0.1111111111111111,
              "#46039f"
             ],
             [
              0.2222222222222222,
              "#7201a8"
             ],
             [
              0.3333333333333333,
              "#9c179e"
             ],
             [
              0.4444444444444444,
              "#bd3786"
             ],
             [
              0.5555555555555556,
              "#d8576b"
             ],
             [
              0.6666666666666666,
              "#ed7953"
             ],
             [
              0.7777777777777778,
              "#fb9f3a"
             ],
             [
              0.8888888888888888,
              "#fdca26"
             ],
             [
              1,
              "#f0f921"
             ]
            ],
            "type": "surface"
           }
          ],
          "table": [
           {
            "cells": {
             "fill": {
              "color": "#EBF0F8"
             },
             "line": {
              "color": "white"
             }
            },
            "header": {
             "fill": {
              "color": "#C8D4E3"
             },
             "line": {
              "color": "white"
             }
            },
            "type": "table"
           }
          ]
         },
         "layout": {
          "annotationdefaults": {
           "arrowcolor": "#2a3f5f",
           "arrowhead": 0,
           "arrowwidth": 1
          },
          "autotypenumbers": "strict",
          "coloraxis": {
           "colorbar": {
            "outlinewidth": 0,
            "ticks": ""
           }
          },
          "colorscale": {
           "diverging": [
            [
             0,
             "#8e0152"
            ],
            [
             0.1,
             "#c51b7d"
            ],
            [
             0.2,
             "#de77ae"
            ],
            [
             0.3,
             "#f1b6da"
            ],
            [
             0.4,
             "#fde0ef"
            ],
            [
             0.5,
             "#f7f7f7"
            ],
            [
             0.6,
             "#e6f5d0"
            ],
            [
             0.7,
             "#b8e186"
            ],
            [
             0.8,
             "#7fbc41"
            ],
            [
             0.9,
             "#4d9221"
            ],
            [
             1,
             "#276419"
            ]
           ],
           "sequential": [
            [
             0,
             "#0d0887"
            ],
            [
             0.1111111111111111,
             "#46039f"
            ],
            [
             0.2222222222222222,
             "#7201a8"
            ],
            [
             0.3333333333333333,
             "#9c179e"
            ],
            [
             0.4444444444444444,
             "#bd3786"
            ],
            [
             0.5555555555555556,
             "#d8576b"
            ],
            [
             0.6666666666666666,
             "#ed7953"
            ],
            [
             0.7777777777777778,
             "#fb9f3a"
            ],
            [
             0.8888888888888888,
             "#fdca26"
            ],
            [
             1,
             "#f0f921"
            ]
           ],
           "sequentialminus": [
            [
             0,
             "#0d0887"
            ],
            [
             0.1111111111111111,
             "#46039f"
            ],
            [
             0.2222222222222222,
             "#7201a8"
            ],
            [
             0.3333333333333333,
             "#9c179e"
            ],
            [
             0.4444444444444444,
             "#bd3786"
            ],
            [
             0.5555555555555556,
             "#d8576b"
            ],
            [
             0.6666666666666666,
             "#ed7953"
            ],
            [
             0.7777777777777778,
             "#fb9f3a"
            ],
            [
             0.8888888888888888,
             "#fdca26"
            ],
            [
             1,
             "#f0f921"
            ]
           ]
          },
          "colorway": [
           "#636efa",
           "#EF553B",
           "#00cc96",
           "#ab63fa",
           "#FFA15A",
           "#19d3f3",
           "#FF6692",
           "#B6E880",
           "#FF97FF",
           "#FECB52"
          ],
          "font": {
           "color": "#2a3f5f"
          },
          "geo": {
           "bgcolor": "white",
           "lakecolor": "white",
           "landcolor": "#E5ECF6",
           "showlakes": true,
           "showland": true,
           "subunitcolor": "white"
          },
          "hoverlabel": {
           "align": "left"
          },
          "hovermode": "closest",
          "mapbox": {
           "style": "light"
          },
          "paper_bgcolor": "white",
          "plot_bgcolor": "#E5ECF6",
          "polar": {
           "angularaxis": {
            "gridcolor": "white",
            "linecolor": "white",
            "ticks": ""
           },
           "bgcolor": "#E5ECF6",
           "radialaxis": {
            "gridcolor": "white",
            "linecolor": "white",
            "ticks": ""
           }
          },
          "scene": {
           "xaxis": {
            "backgroundcolor": "#E5ECF6",
            "gridcolor": "white",
            "gridwidth": 2,
            "linecolor": "white",
            "showbackground": true,
            "ticks": "",
            "zerolinecolor": "white"
           },
           "yaxis": {
            "backgroundcolor": "#E5ECF6",
            "gridcolor": "white",
            "gridwidth": 2,
            "linecolor": "white",
            "showbackground": true,
            "ticks": "",
            "zerolinecolor": "white"
           },
           "zaxis": {
            "backgroundcolor": "#E5ECF6",
            "gridcolor": "white",
            "gridwidth": 2,
            "linecolor": "white",
            "showbackground": true,
            "ticks": "",
            "zerolinecolor": "white"
           }
          },
          "shapedefaults": {
           "line": {
            "color": "#2a3f5f"
           }
          },
          "ternary": {
           "aaxis": {
            "gridcolor": "white",
            "linecolor": "white",
            "ticks": ""
           },
           "baxis": {
            "gridcolor": "white",
            "linecolor": "white",
            "ticks": ""
           },
           "bgcolor": "#E5ECF6",
           "caxis": {
            "gridcolor": "white",
            "linecolor": "white",
            "ticks": ""
           }
          },
          "title": {
           "x": 0.05
          },
          "xaxis": {
           "automargin": true,
           "gridcolor": "white",
           "linecolor": "white",
           "ticks": "",
           "title": {
            "standoff": 15
           },
           "zerolinecolor": "white",
           "zerolinewidth": 2
          },
          "yaxis": {
           "automargin": true,
           "gridcolor": "white",
           "linecolor": "white",
           "ticks": "",
           "title": {
            "standoff": 15
           },
           "zerolinecolor": "white",
           "zerolinewidth": 2
          }
         }
        },
        "xaxis": {
         "anchor": "y",
         "domain": [
          0,
          1
         ],
         "title": {
          "text": "symbol_counts"
         }
        },
        "yaxis": {
         "anchor": "x",
         "domain": [
          0,
          1
         ],
         "title": {
          "text": "percent_collision_symbol"
         }
        }
       }
      }
     },
     "metadata": {},
     "output_type": "display_data"
    }
   ],
   "source": [
    "create_ambiguous_symbol_histogram(ensg_ambiguous_symbol_counts, \"ENSG\", ensg_ambiguous_symbol_set_count)"
   ]
  },
  {
   "cell_type": "markdown",
   "metadata": {},
   "source": [
    "### <a id='toc1_1_3_'></a>[HGNC](#toc0_)"
   ]
  },
  {
   "cell_type": "markdown",
   "metadata": {},
   "source": [
    "import file with ambiguous symbols resulting from alias-alias collisions"
   ]
  },
  {
   "cell_type": "code",
   "execution_count": 114,
   "metadata": {},
   "outputs": [
    {
     "data": {
      "text/html": [
       "<div>\n",
       "<style scoped>\n",
       "    .dataframe tbody tr th:only-of-type {\n",
       "        vertical-align: middle;\n",
       "    }\n",
       "\n",
       "    .dataframe tbody tr th {\n",
       "        vertical-align: top;\n",
       "    }\n",
       "\n",
       "    .dataframe thead th {\n",
       "        text-align: right;\n",
       "    }\n",
       "</style>\n",
       "<table border=\"1\" class=\"dataframe\">\n",
       "  <thead>\n",
       "    <tr style=\"text-align: right;\">\n",
       "      <th></th>\n",
       "      <th>HGNC_ID</th>\n",
       "      <th>gene_symbol</th>\n",
       "      <th>collision</th>\n",
       "      <th>source</th>\n",
       "      <th>NCBI_ID</th>\n",
       "      <th>ENSG_ID</th>\n",
       "      <th>alias_symbol</th>\n",
       "    </tr>\n",
       "  </thead>\n",
       "  <tbody>\n",
       "    <tr>\n",
       "      <th>0</th>\n",
       "      <td>HGNC:6380</td>\n",
       "      <td>KLRG1</td>\n",
       "      <td>2F1</td>\n",
       "      <td>HGNC</td>\n",
       "      <td>GENE ID:10219</td>\n",
       "      <td>ENSG00000139187</td>\n",
       "      <td>2F1,CLEC15A,MAFA,MAFA-L</td>\n",
       "    </tr>\n",
       "    <tr>\n",
       "      <th>1</th>\n",
       "      <td>HGNC:10991</td>\n",
       "      <td>SLC25A5</td>\n",
       "      <td>2F1</td>\n",
       "      <td>HGNC</td>\n",
       "      <td>GENE ID:292</td>\n",
       "      <td>ENSG00000005022</td>\n",
       "      <td>2F1,T2,T3</td>\n",
       "    </tr>\n",
       "    <tr>\n",
       "      <th>2</th>\n",
       "      <td>HGNC:10498</td>\n",
       "      <td>S100A8</td>\n",
       "      <td>60B8AG</td>\n",
       "      <td>HGNC</td>\n",
       "      <td>GENE ID:6279</td>\n",
       "      <td>ENSG00000143546</td>\n",
       "      <td>60B8AG,CGLA,MRP-8,MRP8,P8,S100-A8</td>\n",
       "    </tr>\n",
       "    <tr>\n",
       "      <th>3</th>\n",
       "      <td>HGNC:10499</td>\n",
       "      <td>S100A9</td>\n",
       "      <td>60B8AG</td>\n",
       "      <td>HGNC</td>\n",
       "      <td>GENE ID:6280</td>\n",
       "      <td>ENSG00000163220</td>\n",
       "      <td>60B8AG,CGLB,LIAG,MAC387,MIF,MRP-14,MRP14,NIF,P...</td>\n",
       "    </tr>\n",
       "    <tr>\n",
       "      <th>4</th>\n",
       "      <td>HGNC:10230</td>\n",
       "      <td>RNU6V</td>\n",
       "      <td>87U6</td>\n",
       "      <td>HGNC</td>\n",
       "      <td>GENE ID:6071</td>\n",
       "      <td>ENSG00000206832</td>\n",
       "      <td>87U6,LH87</td>\n",
       "    </tr>\n",
       "    <tr>\n",
       "      <th>...</th>\n",
       "      <td>...</td>\n",
       "      <td>...</td>\n",
       "      <td>...</td>\n",
       "      <td>...</td>\n",
       "      <td>...</td>\n",
       "      <td>...</td>\n",
       "      <td>...</td>\n",
       "    </tr>\n",
       "    <tr>\n",
       "      <th>2443</th>\n",
       "      <td>HGNC:33357</td>\n",
       "      <td>TEX28P2</td>\n",
       "      <td>pTEX</td>\n",
       "      <td>HGNC</td>\n",
       "      <td>GENE ID:653363</td>\n",
       "      <td>ENSG00000277008</td>\n",
       "      <td>CXorf2B,pTEX</td>\n",
       "    </tr>\n",
       "    <tr>\n",
       "      <th>2444</th>\n",
       "      <td>HGNC:33146</td>\n",
       "      <td>PPP4R3C</td>\n",
       "      <td>smk1</td>\n",
       "      <td>HGNC</td>\n",
       "      <td>GENE ID:139420</td>\n",
       "      <td>ENSG00000224960</td>\n",
       "      <td>FLFL3P,FLJ32867,smk1</td>\n",
       "    </tr>\n",
       "    <tr>\n",
       "      <th>2445</th>\n",
       "      <td>HGNC:20219</td>\n",
       "      <td>PPP4R3A</td>\n",
       "      <td>smk1</td>\n",
       "      <td>HGNC</td>\n",
       "      <td>GENE ID:55671</td>\n",
       "      <td>ENSG00000100796</td>\n",
       "      <td>FLFL1,FLJ20707,MSTP033,PP4R3,smk-1,smk1</td>\n",
       "    </tr>\n",
       "    <tr>\n",
       "      <th>2446</th>\n",
       "      <td>HGNC:28393</td>\n",
       "      <td>SPATA2L</td>\n",
       "      <td>tamo</td>\n",
       "      <td>HGNC</td>\n",
       "      <td>GENE ID:124044</td>\n",
       "      <td>ENSG00000158792</td>\n",
       "      <td>MGC26885,tamo</td>\n",
       "    </tr>\n",
       "    <tr>\n",
       "      <th>2447</th>\n",
       "      <td>HGNC:14681</td>\n",
       "      <td>SPATA2</td>\n",
       "      <td>tamo</td>\n",
       "      <td>HGNC</td>\n",
       "      <td>GENE ID:9825</td>\n",
       "      <td>ENSG00000158480</td>\n",
       "      <td>KIAA0757,PD1,PPP1R145,tamo</td>\n",
       "    </tr>\n",
       "  </tbody>\n",
       "</table>\n",
       "<p>2448 rows × 7 columns</p>\n",
       "</div>"
      ],
      "text/plain": [
       "         HGNC_ID gene_symbol collision source         NCBI_ID  \\\n",
       "0      HGNC:6380       KLRG1       2F1   HGNC   GENE ID:10219   \n",
       "1     HGNC:10991     SLC25A5       2F1   HGNC     GENE ID:292   \n",
       "2     HGNC:10498      S100A8    60B8AG   HGNC    GENE ID:6279   \n",
       "3     HGNC:10499      S100A9    60B8AG   HGNC    GENE ID:6280   \n",
       "4     HGNC:10230       RNU6V      87U6   HGNC    GENE ID:6071   \n",
       "...          ...         ...       ...    ...             ...   \n",
       "2443  HGNC:33357     TEX28P2      pTEX   HGNC  GENE ID:653363   \n",
       "2444  HGNC:33146     PPP4R3C      smk1   HGNC  GENE ID:139420   \n",
       "2445  HGNC:20219     PPP4R3A      smk1   HGNC   GENE ID:55671   \n",
       "2446  HGNC:28393     SPATA2L      tamo   HGNC  GENE ID:124044   \n",
       "2447  HGNC:14681      SPATA2      tamo   HGNC    GENE ID:9825   \n",
       "\n",
       "              ENSG_ID                                       alias_symbol  \n",
       "0     ENSG00000139187                            2F1,CLEC15A,MAFA,MAFA-L  \n",
       "1     ENSG00000005022                                          2F1,T2,T3  \n",
       "2     ENSG00000143546                  60B8AG,CGLA,MRP-8,MRP8,P8,S100-A8  \n",
       "3     ENSG00000163220  60B8AG,CGLB,LIAG,MAC387,MIF,MRP-14,MRP14,NIF,P...  \n",
       "4     ENSG00000206832                                          87U6,LH87  \n",
       "...               ...                                                ...  \n",
       "2443  ENSG00000277008                                       CXorf2B,pTEX  \n",
       "2444  ENSG00000224960                               FLFL3P,FLJ32867,smk1  \n",
       "2445  ENSG00000100796            FLFL1,FLJ20707,MSTP033,PP4R3,smk-1,smk1  \n",
       "2446  ENSG00000158792                                      MGC26885,tamo  \n",
       "2447  ENSG00000158480                         KIAA0757,PD1,PPP1R145,tamo  \n",
       "\n",
       "[2448 rows x 7 columns]"
      ]
     },
     "execution_count": 114,
     "metadata": {},
     "output_type": "execute_result"
    }
   ],
   "source": [
    "merged_alias_aa_collision_hgnc_df = pd.read_csv(\n",
    "    \"../output/merged_alias_aa_collision_hgnc_df.csv\", index_col=[0])\n",
    "merged_alias_aa_collision_hgnc_df"
   ]
  },
  {
   "cell_type": "code",
   "execution_count": 115,
   "metadata": {},
   "outputs": [
    {
     "data": {
      "text/plain": [
       "1083"
      ]
     },
     "execution_count": 115,
     "metadata": {},
     "output_type": "execute_result"
    }
   ],
   "source": [
    "aa_collision_alias_hgnc_set = set(\n",
    "    merged_alias_aa_collision_hgnc_df[\"collision\"]\n",
    ")\n",
    "len(aa_collision_alias_hgnc_set)"
   ]
  },
  {
   "cell_type": "markdown",
   "metadata": {},
   "source": [
    "import file with ambiguous symbols resulting from alias-primary collisions"
   ]
  },
  {
   "cell_type": "code",
   "execution_count": 116,
   "metadata": {},
   "outputs": [
    {
     "data": {
      "text/html": [
       "<div>\n",
       "<style scoped>\n",
       "    .dataframe tbody tr th:only-of-type {\n",
       "        vertical-align: middle;\n",
       "    }\n",
       "\n",
       "    .dataframe tbody tr th {\n",
       "        vertical-align: top;\n",
       "    }\n",
       "\n",
       "    .dataframe thead th {\n",
       "        text-align: right;\n",
       "    }\n",
       "</style>\n",
       "<table border=\"1\" class=\"dataframe\">\n",
       "  <thead>\n",
       "    <tr style=\"text-align: right;\">\n",
       "      <th></th>\n",
       "      <th>HGNC_ID</th>\n",
       "      <th>gene_symbol</th>\n",
       "      <th>collision</th>\n",
       "      <th>source</th>\n",
       "      <th>NCBI_ID</th>\n",
       "      <th>ENSG_ID</th>\n",
       "      <th>alias_symbol</th>\n",
       "    </tr>\n",
       "  </thead>\n",
       "  <tbody>\n",
       "    <tr>\n",
       "      <th>0</th>\n",
       "      <td>HGNC:14947</td>\n",
       "      <td>PPP1R12C</td>\n",
       "      <td>AAVS1</td>\n",
       "      <td>HGNC</td>\n",
       "      <td>GENE ID:54776</td>\n",
       "      <td>ENSG00000125503</td>\n",
       "      <td>AAVS1,DKFZP434D0412,MBS85,p84,p85</td>\n",
       "    </tr>\n",
       "    <tr>\n",
       "      <th>1</th>\n",
       "      <td>HGNC:11177</td>\n",
       "      <td>SOAT1</td>\n",
       "      <td>ACAT1</td>\n",
       "      <td>HGNC</td>\n",
       "      <td>GENE ID:6646</td>\n",
       "      <td>ENSG00000057252</td>\n",
       "      <td>ACAT,ACAT1</td>\n",
       "    </tr>\n",
       "    <tr>\n",
       "      <th>2</th>\n",
       "      <td>HGNC:11178</td>\n",
       "      <td>SOAT2</td>\n",
       "      <td>ACAT2</td>\n",
       "      <td>HGNC</td>\n",
       "      <td>GENE ID:8435</td>\n",
       "      <td>ENSG00000167780</td>\n",
       "      <td>ACAT2</td>\n",
       "    </tr>\n",
       "    <tr>\n",
       "      <th>3</th>\n",
       "      <td>HGNC:1612</td>\n",
       "      <td>CCRL2</td>\n",
       "      <td>ACKR5</td>\n",
       "      <td>HGNC</td>\n",
       "      <td>GENE ID:9034</td>\n",
       "      <td>ENSG00000121797</td>\n",
       "      <td>ACKR5,CKRX,CRAM-A,CRAM-B,HCR</td>\n",
       "    </tr>\n",
       "    <tr>\n",
       "      <th>4</th>\n",
       "      <td>HGNC:7694</td>\n",
       "      <td>NDUFAB1</td>\n",
       "      <td>ACP1</td>\n",
       "      <td>HGNC</td>\n",
       "      <td>GENE ID:4706</td>\n",
       "      <td>ENSG00000004779</td>\n",
       "      <td>ACP,ACP1,FASN2A,SDAP</td>\n",
       "    </tr>\n",
       "    <tr>\n",
       "      <th>...</th>\n",
       "      <td>...</td>\n",
       "      <td>...</td>\n",
       "      <td>...</td>\n",
       "      <td>...</td>\n",
       "      <td>...</td>\n",
       "      <td>...</td>\n",
       "      <td>...</td>\n",
       "    </tr>\n",
       "    <tr>\n",
       "      <th>556</th>\n",
       "      <td>HGNC:3147</td>\n",
       "      <td>ECEL1</td>\n",
       "      <td>XCE</td>\n",
       "      <td>HGNC</td>\n",
       "      <td>GENE ID:9427</td>\n",
       "      <td>ENSG00000171551</td>\n",
       "      <td>DINE,XCE</td>\n",
       "    </tr>\n",
       "    <tr>\n",
       "      <th>557</th>\n",
       "      <td>HGNC:12904</td>\n",
       "      <td>ZNF121</td>\n",
       "      <td>ZNF20</td>\n",
       "      <td>HGNC</td>\n",
       "      <td>GENE ID:7675</td>\n",
       "      <td>ENSG00000197961</td>\n",
       "      <td>ZHC32,ZNF20</td>\n",
       "    </tr>\n",
       "    <tr>\n",
       "      <th>558</th>\n",
       "      <td>HGNC:21159</td>\n",
       "      <td>RNF141</td>\n",
       "      <td>ZNF230</td>\n",
       "      <td>HGNC</td>\n",
       "      <td>GENE ID:50862</td>\n",
       "      <td>ENSG00000110315</td>\n",
       "      <td>ZFP26,ZNF230</td>\n",
       "    </tr>\n",
       "    <tr>\n",
       "      <th>559</th>\n",
       "      <td>HGNC:12886</td>\n",
       "      <td>ZNF106</td>\n",
       "      <td>ZNF474</td>\n",
       "      <td>HGNC</td>\n",
       "      <td>GENE ID:64397</td>\n",
       "      <td>ENSG00000103994</td>\n",
       "      <td>SH3BP3,ZNF474</td>\n",
       "    </tr>\n",
       "    <tr>\n",
       "      <th>560</th>\n",
       "      <td>HGNC:23328</td>\n",
       "      <td>ZFP1</td>\n",
       "      <td>ZNF475</td>\n",
       "      <td>HGNC</td>\n",
       "      <td>GENE ID:162239</td>\n",
       "      <td>ENSG00000184517</td>\n",
       "      <td>FLJ34243,ZNF475</td>\n",
       "    </tr>\n",
       "  </tbody>\n",
       "</table>\n",
       "<p>547 rows × 7 columns</p>\n",
       "</div>"
      ],
      "text/plain": [
       "        HGNC_ID gene_symbol collision source         NCBI_ID          ENSG_ID  \\\n",
       "0    HGNC:14947    PPP1R12C     AAVS1   HGNC   GENE ID:54776  ENSG00000125503   \n",
       "1    HGNC:11177       SOAT1     ACAT1   HGNC    GENE ID:6646  ENSG00000057252   \n",
       "2    HGNC:11178       SOAT2     ACAT2   HGNC    GENE ID:8435  ENSG00000167780   \n",
       "3     HGNC:1612       CCRL2     ACKR5   HGNC    GENE ID:9034  ENSG00000121797   \n",
       "4     HGNC:7694     NDUFAB1      ACP1   HGNC    GENE ID:4706  ENSG00000004779   \n",
       "..          ...         ...       ...    ...             ...              ...   \n",
       "556   HGNC:3147       ECEL1       XCE   HGNC    GENE ID:9427  ENSG00000171551   \n",
       "557  HGNC:12904      ZNF121     ZNF20   HGNC    GENE ID:7675  ENSG00000197961   \n",
       "558  HGNC:21159      RNF141    ZNF230   HGNC   GENE ID:50862  ENSG00000110315   \n",
       "559  HGNC:12886      ZNF106    ZNF474   HGNC   GENE ID:64397  ENSG00000103994   \n",
       "560  HGNC:23328        ZFP1    ZNF475   HGNC  GENE ID:162239  ENSG00000184517   \n",
       "\n",
       "                          alias_symbol  \n",
       "0    AAVS1,DKFZP434D0412,MBS85,p84,p85  \n",
       "1                           ACAT,ACAT1  \n",
       "2                                ACAT2  \n",
       "3         ACKR5,CKRX,CRAM-A,CRAM-B,HCR  \n",
       "4                 ACP,ACP1,FASN2A,SDAP  \n",
       "..                                 ...  \n",
       "556                           DINE,XCE  \n",
       "557                        ZHC32,ZNF20  \n",
       "558                       ZFP26,ZNF230  \n",
       "559                      SH3BP3,ZNF474  \n",
       "560                    FLJ34243,ZNF475  \n",
       "\n",
       "[547 rows x 7 columns]"
      ]
     },
     "execution_count": 116,
     "metadata": {},
     "output_type": "execute_result"
    }
   ],
   "source": [
    "ap_collision_hgnc_df = pd.read_csv(\n",
    "    \"../output/merged_alias_ap_collision_hgnc_df.csv\", index_col=[0])\n",
    "ap_collision_hgnc_df"
   ]
  },
  {
   "cell_type": "code",
   "execution_count": 117,
   "metadata": {},
   "outputs": [
    {
     "data": {
      "text/plain": [
       "492"
      ]
     },
     "execution_count": 117,
     "metadata": {},
     "output_type": "execute_result"
    }
   ],
   "source": [
    "ap_collision_alias_hgnc_set = set(\n",
    "    ap_collision_hgnc_df[\"collision\"]\n",
    ")\n",
    "len(ap_collision_alias_hgnc_set)"
   ]
  },
  {
   "cell_type": "markdown",
   "metadata": {},
   "source": [
    "combine lists without duplicates to create list of ambiguous symbols for HGNC"
   ]
  },
  {
   "cell_type": "code",
   "execution_count": 118,
   "metadata": {},
   "outputs": [
    {
     "data": {
      "text/plain": [
       "1534"
      ]
     },
     "execution_count": 118,
     "metadata": {},
     "output_type": "execute_result"
    }
   ],
   "source": [
    "hgnc_ambiguous_symbol_set = aa_collision_alias_hgnc_set.union(\n",
    "    ap_collision_alias_hgnc_set\n",
    ")\n",
    "hgnc_ambiguous_symbol_set_count = len(hgnc_ambiguous_symbol_set)\n",
    "hgnc_ambiguous_symbol_set_count"
   ]
  },
  {
   "cell_type": "code",
   "execution_count": 119,
   "metadata": {},
   "outputs": [
    {
     "data": {
      "text/plain": [
       "41"
      ]
     },
     "execution_count": 119,
     "metadata": {},
     "output_type": "execute_result"
    }
   ],
   "source": [
    "both_collision_hgnc_set = aa_collision_alias_hgnc_set & ap_collision_alias_hgnc_set\n",
    "len(both_collision_hgnc_set)"
   ]
  },
  {
   "cell_type": "code",
   "execution_count": 120,
   "metadata": {},
   "outputs": [
    {
     "data": {
      "text/plain": [
       "1042"
      ]
     },
     "execution_count": 120,
     "metadata": {},
     "output_type": "execute_result"
    }
   ],
   "source": [
    "only_aa_collision_alias_hgnc_set = aa_collision_alias_hgnc_set - both_collision_hgnc_set\n",
    "len(only_aa_collision_alias_hgnc_set)"
   ]
  },
  {
   "cell_type": "code",
   "execution_count": 121,
   "metadata": {},
   "outputs": [
    {
     "data": {
      "text/plain": [
       "451"
      ]
     },
     "execution_count": 121,
     "metadata": {},
     "output_type": "execute_result"
    }
   ],
   "source": [
    "only_ap_collision_alias_hgnc_set = ap_collision_alias_hgnc_set - both_collision_hgnc_set\n",
    "len(only_ap_collision_alias_hgnc_set)"
   ]
  },
  {
   "cell_type": "markdown",
   "metadata": {},
   "source": [
    "import mini_hgnc_df from symbol_capture_generation.ipynb"
   ]
  },
  {
   "cell_type": "code",
   "execution_count": 122,
   "metadata": {},
   "outputs": [
    {
     "name": "stderr",
     "output_type": "stream",
     "text": [
      "/var/folders/vt/znzp_c6s02q6kjcmqfk0cb500000gq/T/ipykernel_73732/1900367400.py:4: SettingWithCopyWarning:\n",
      "\n",
      "\n",
      "A value is trying to be set on a copy of a slice from a DataFrame.\n",
      "Try using .loc[row_indexer,col_indexer] = value instead\n",
      "\n",
      "See the caveats in the documentation: https://pandas.pydata.org/pandas-docs/stable/user_guide/indexing.html#returning-a-view-versus-a-copy\n",
      "\n",
      "/var/folders/vt/znzp_c6s02q6kjcmqfk0cb500000gq/T/ipykernel_73732/1900367400.py:5: SettingWithCopyWarning:\n",
      "\n",
      "\n",
      "A value is trying to be set on a copy of a slice from a DataFrame\n",
      "\n",
      "See the caveats in the documentation: https://pandas.pydata.org/pandas-docs/stable/user_guide/indexing.html#returning-a-view-versus-a-copy\n",
      "\n",
      "/var/folders/vt/znzp_c6s02q6kjcmqfk0cb500000gq/T/ipykernel_73732/1900367400.py:6: SettingWithCopyWarning:\n",
      "\n",
      "\n",
      "A value is trying to be set on a copy of a slice from a DataFrame.\n",
      "Try using .loc[row_indexer,col_indexer] = value instead\n",
      "\n",
      "See the caveats in the documentation: https://pandas.pydata.org/pandas-docs/stable/user_guide/indexing.html#returning-a-view-versus-a-copy\n",
      "\n"
     ]
    },
    {
     "data": {
      "text/html": [
       "<div>\n",
       "<style scoped>\n",
       "    .dataframe tbody tr th:only-of-type {\n",
       "        vertical-align: middle;\n",
       "    }\n",
       "\n",
       "    .dataframe tbody tr th {\n",
       "        vertical-align: top;\n",
       "    }\n",
       "\n",
       "    .dataframe thead th {\n",
       "        text-align: right;\n",
       "    }\n",
       "</style>\n",
       "<table border=\"1\" class=\"dataframe\">\n",
       "  <thead>\n",
       "    <tr style=\"text-align: right;\">\n",
       "      <th></th>\n",
       "      <th>HGNC_ID</th>\n",
       "      <th>alias_symbol</th>\n",
       "      <th>NCBI_ID</th>\n",
       "      <th>ENSG_ID</th>\n",
       "      <th>primary_gene_symbol</th>\n",
       "    </tr>\n",
       "  </thead>\n",
       "  <tbody>\n",
       "    <tr>\n",
       "      <th>0</th>\n",
       "      <td>HGNC:100</td>\n",
       "      <td>BNAC2</td>\n",
       "      <td>GENE ID:41</td>\n",
       "      <td>ENSG00000110881</td>\n",
       "      <td>ASIC1</td>\n",
       "    </tr>\n",
       "    <tr>\n",
       "      <th>0</th>\n",
       "      <td>HGNC:100</td>\n",
       "      <td>HBNAC2</td>\n",
       "      <td>GENE ID:41</td>\n",
       "      <td>ENSG00000110881</td>\n",
       "      <td>ASIC1</td>\n",
       "    </tr>\n",
       "    <tr>\n",
       "      <th>1</th>\n",
       "      <td>HGNC:10000</td>\n",
       "      <td>NaN</td>\n",
       "      <td>GENE ID:5999</td>\n",
       "      <td>ENSG00000117152</td>\n",
       "      <td>RGS4</td>\n",
       "    </tr>\n",
       "    <tr>\n",
       "      <th>2</th>\n",
       "      <td>HGNC:10001</td>\n",
       "      <td>NaN</td>\n",
       "      <td>GENE ID:8490</td>\n",
       "      <td>ENSG00000143248</td>\n",
       "      <td>RGS5</td>\n",
       "    </tr>\n",
       "    <tr>\n",
       "      <th>3</th>\n",
       "      <td>HGNC:10002</td>\n",
       "      <td>NaN</td>\n",
       "      <td>GENE ID:9628</td>\n",
       "      <td>ENSG00000182732</td>\n",
       "      <td>RGS6</td>\n",
       "    </tr>\n",
       "    <tr>\n",
       "      <th>...</th>\n",
       "      <td>...</td>\n",
       "      <td>...</td>\n",
       "      <td>...</td>\n",
       "      <td>...</td>\n",
       "      <td>...</td>\n",
       "    </tr>\n",
       "    <tr>\n",
       "      <th>44232</th>\n",
       "      <td>HGNC:9997</td>\n",
       "      <td>RGS-R</td>\n",
       "      <td>GENE ID:6004</td>\n",
       "      <td>ENSG00000143333</td>\n",
       "      <td>RGS16</td>\n",
       "    </tr>\n",
       "    <tr>\n",
       "      <th>44233</th>\n",
       "      <td>HGNC:9998</td>\n",
       "      <td>NaN</td>\n",
       "      <td>GENE ID:5997</td>\n",
       "      <td>ENSG00000116741</td>\n",
       "      <td>RGS2</td>\n",
       "    </tr>\n",
       "    <tr>\n",
       "      <th>44234</th>\n",
       "      <td>HGNC:9999</td>\n",
       "      <td>C2PA</td>\n",
       "      <td>GENE ID:5998</td>\n",
       "      <td>ENSG00000138835</td>\n",
       "      <td>RGS3</td>\n",
       "    </tr>\n",
       "    <tr>\n",
       "      <th>44234</th>\n",
       "      <td>HGNC:9999</td>\n",
       "      <td>FLJ20370</td>\n",
       "      <td>GENE ID:5998</td>\n",
       "      <td>ENSG00000138835</td>\n",
       "      <td>RGS3</td>\n",
       "    </tr>\n",
       "    <tr>\n",
       "      <th>44234</th>\n",
       "      <td>HGNC:9999</td>\n",
       "      <td>PDZ-RGS3</td>\n",
       "      <td>GENE ID:5998</td>\n",
       "      <td>ENSG00000138835</td>\n",
       "      <td>RGS3</td>\n",
       "    </tr>\n",
       "  </tbody>\n",
       "</table>\n",
       "<p>66166 rows × 5 columns</p>\n",
       "</div>"
      ],
      "text/plain": [
       "          HGNC_ID alias_symbol       NCBI_ID          ENSG_ID  \\\n",
       "0        HGNC:100        BNAC2    GENE ID:41  ENSG00000110881   \n",
       "0        HGNC:100       HBNAC2    GENE ID:41  ENSG00000110881   \n",
       "1      HGNC:10000          NaN  GENE ID:5999  ENSG00000117152   \n",
       "2      HGNC:10001          NaN  GENE ID:8490  ENSG00000143248   \n",
       "3      HGNC:10002          NaN  GENE ID:9628  ENSG00000182732   \n",
       "...           ...          ...           ...              ...   \n",
       "44232   HGNC:9997        RGS-R  GENE ID:6004  ENSG00000143333   \n",
       "44233   HGNC:9998          NaN  GENE ID:5997  ENSG00000116741   \n",
       "44234   HGNC:9999         C2PA  GENE ID:5998  ENSG00000138835   \n",
       "44234   HGNC:9999     FLJ20370  GENE ID:5998  ENSG00000138835   \n",
       "44234   HGNC:9999     PDZ-RGS3  GENE ID:5998  ENSG00000138835   \n",
       "\n",
       "      primary_gene_symbol  \n",
       "0                   ASIC1  \n",
       "0                   ASIC1  \n",
       "1                    RGS4  \n",
       "2                    RGS5  \n",
       "3                    RGS6  \n",
       "...                   ...  \n",
       "44232               RGS16  \n",
       "44233                RGS2  \n",
       "44234                RGS3  \n",
       "44234                RGS3  \n",
       "44234                RGS3  \n",
       "\n",
       "[66166 rows x 5 columns]"
      ]
     },
     "execution_count": 122,
     "metadata": {},
     "output_type": "execute_result"
    }
   ],
   "source": [
    "mini_hgnc_df = pd.read_csv(\n",
    "        (\"../output/mini_hgnc_df.csv\"), index_col=[0],dtype={\"NCBI_ID\": str,\"HGNC_ID\":str})\n",
    "hgnc_df = mini_hgnc_df[mini_hgnc_df['gene_symbol'] != mini_hgnc_df['alias_symbol']]\n",
    "hgnc_df['primary_gene_symbol'] = hgnc_df['gene_symbol'].str.upper()\n",
    "hgnc_df.drop([\"gene_symbol\"], axis=1, inplace=True)\n",
    "hgnc_df['alias_symbol'] = hgnc_df['alias_symbol'].str.upper()\n",
    "hgnc_df = hgnc_df.drop_duplicates(subset=['primary_gene_symbol', 'alias_symbol'], keep='first')\n",
    "hgnc_df"
   ]
  },
  {
   "cell_type": "markdown",
   "metadata": {},
   "source": [
    "make a general column with primary and alias symbols"
   ]
  },
  {
   "cell_type": "code",
   "execution_count": 123,
   "metadata": {},
   "outputs": [
    {
     "data": {
      "text/html": [
       "<div>\n",
       "<style scoped>\n",
       "    .dataframe tbody tr th:only-of-type {\n",
       "        vertical-align: middle;\n",
       "    }\n",
       "\n",
       "    .dataframe tbody tr th {\n",
       "        vertical-align: top;\n",
       "    }\n",
       "\n",
       "    .dataframe thead th {\n",
       "        text-align: right;\n",
       "    }\n",
       "</style>\n",
       "<table border=\"1\" class=\"dataframe\">\n",
       "  <thead>\n",
       "    <tr style=\"text-align: right;\">\n",
       "      <th></th>\n",
       "      <th>NCBI_ID</th>\n",
       "      <th>primary_gene_symbol</th>\n",
       "      <th>ENSG_ID</th>\n",
       "      <th>HGNC_ID</th>\n",
       "      <th>symbol</th>\n",
       "    </tr>\n",
       "  </thead>\n",
       "  <tbody>\n",
       "    <tr>\n",
       "      <th>0</th>\n",
       "      <td>GENE ID:41</td>\n",
       "      <td>ASIC1</td>\n",
       "      <td>ENSG00000110881</td>\n",
       "      <td>HGNC:100</td>\n",
       "      <td>ASIC1</td>\n",
       "    </tr>\n",
       "    <tr>\n",
       "      <th>2</th>\n",
       "      <td>GENE ID:5999</td>\n",
       "      <td>RGS4</td>\n",
       "      <td>ENSG00000117152</td>\n",
       "      <td>HGNC:10000</td>\n",
       "      <td>RGS4</td>\n",
       "    </tr>\n",
       "    <tr>\n",
       "      <th>3</th>\n",
       "      <td>GENE ID:8490</td>\n",
       "      <td>RGS5</td>\n",
       "      <td>ENSG00000143248</td>\n",
       "      <td>HGNC:10001</td>\n",
       "      <td>RGS5</td>\n",
       "    </tr>\n",
       "    <tr>\n",
       "      <th>4</th>\n",
       "      <td>GENE ID:9628</td>\n",
       "      <td>RGS6</td>\n",
       "      <td>ENSG00000182732</td>\n",
       "      <td>HGNC:10002</td>\n",
       "      <td>RGS6</td>\n",
       "    </tr>\n",
       "    <tr>\n",
       "      <th>5</th>\n",
       "      <td>GENE ID:6000</td>\n",
       "      <td>RGS7</td>\n",
       "      <td>ENSG00000182901</td>\n",
       "      <td>HGNC:10003</td>\n",
       "      <td>RGS7</td>\n",
       "    </tr>\n",
       "    <tr>\n",
       "      <th>...</th>\n",
       "      <td>...</td>\n",
       "      <td>...</td>\n",
       "      <td>...</td>\n",
       "      <td>...</td>\n",
       "      <td>...</td>\n",
       "    </tr>\n",
       "    <tr>\n",
       "      <th>132327</th>\n",
       "      <td>GENE ID:6004</td>\n",
       "      <td>RGS16</td>\n",
       "      <td>ENSG00000143333</td>\n",
       "      <td>HGNC:9997</td>\n",
       "      <td>RGS-R</td>\n",
       "    </tr>\n",
       "    <tr>\n",
       "      <th>132328</th>\n",
       "      <td>GENE ID:5997</td>\n",
       "      <td>RGS2</td>\n",
       "      <td>ENSG00000116741</td>\n",
       "      <td>HGNC:9998</td>\n",
       "      <td>NaN</td>\n",
       "    </tr>\n",
       "    <tr>\n",
       "      <th>132329</th>\n",
       "      <td>GENE ID:5998</td>\n",
       "      <td>RGS3</td>\n",
       "      <td>ENSG00000138835</td>\n",
       "      <td>HGNC:9999</td>\n",
       "      <td>C2PA</td>\n",
       "    </tr>\n",
       "    <tr>\n",
       "      <th>132330</th>\n",
       "      <td>GENE ID:5998</td>\n",
       "      <td>RGS3</td>\n",
       "      <td>ENSG00000138835</td>\n",
       "      <td>HGNC:9999</td>\n",
       "      <td>FLJ20370</td>\n",
       "    </tr>\n",
       "    <tr>\n",
       "      <th>132331</th>\n",
       "      <td>GENE ID:5998</td>\n",
       "      <td>RGS3</td>\n",
       "      <td>ENSG00000138835</td>\n",
       "      <td>HGNC:9999</td>\n",
       "      <td>PDZ-RGS3</td>\n",
       "    </tr>\n",
       "  </tbody>\n",
       "</table>\n",
       "<p>110393 rows × 5 columns</p>\n",
       "</div>"
      ],
      "text/plain": [
       "             NCBI_ID primary_gene_symbol          ENSG_ID     HGNC_ID  \\\n",
       "0         GENE ID:41               ASIC1  ENSG00000110881    HGNC:100   \n",
       "2       GENE ID:5999                RGS4  ENSG00000117152  HGNC:10000   \n",
       "3       GENE ID:8490                RGS5  ENSG00000143248  HGNC:10001   \n",
       "4       GENE ID:9628                RGS6  ENSG00000182732  HGNC:10002   \n",
       "5       GENE ID:6000                RGS7  ENSG00000182901  HGNC:10003   \n",
       "...              ...                 ...              ...         ...   \n",
       "132327  GENE ID:6004               RGS16  ENSG00000143333   HGNC:9997   \n",
       "132328  GENE ID:5997                RGS2  ENSG00000116741   HGNC:9998   \n",
       "132329  GENE ID:5998                RGS3  ENSG00000138835   HGNC:9999   \n",
       "132330  GENE ID:5998                RGS3  ENSG00000138835   HGNC:9999   \n",
       "132331  GENE ID:5998                RGS3  ENSG00000138835   HGNC:9999   \n",
       "\n",
       "          symbol  \n",
       "0          ASIC1  \n",
       "2           RGS4  \n",
       "3           RGS5  \n",
       "4           RGS6  \n",
       "5           RGS7  \n",
       "...          ...  \n",
       "132327     RGS-R  \n",
       "132328       NaN  \n",
       "132329      C2PA  \n",
       "132330  FLJ20370  \n",
       "132331  PDZ-RGS3  \n",
       "\n",
       "[110393 rows x 5 columns]"
      ]
     },
     "execution_count": 123,
     "metadata": {},
     "output_type": "execute_result"
    }
   ],
   "source": [
    "hgnc_df = combine_columns(hgnc_df, [\"primary_gene_symbol\", \"alias_symbol\"], [\"primary_gene_symbol\", \"ENSG_ID\", \"HGNC_ID\",\"NCBI_ID\"], \"symbol\", \"alias_symbol\")\n",
    "hgnc_df"
   ]
  },
  {
   "cell_type": "markdown",
   "metadata": {},
   "source": [
    "use list of ambiguous symbols and hgnc_combined_concept_ids_df to create a histogram of how many genes share ambiguous symbols"
   ]
  },
  {
   "cell_type": "code",
   "execution_count": 124,
   "metadata": {},
   "outputs": [
    {
     "data": {
      "text/html": [
       "<div>\n",
       "<style scoped>\n",
       "    .dataframe tbody tr th:only-of-type {\n",
       "        vertical-align: middle;\n",
       "    }\n",
       "\n",
       "    .dataframe tbody tr th {\n",
       "        vertical-align: top;\n",
       "    }\n",
       "\n",
       "    .dataframe thead th {\n",
       "        text-align: right;\n",
       "    }\n",
       "</style>\n",
       "<table border=\"1\" class=\"dataframe\">\n",
       "  <thead>\n",
       "    <tr style=\"text-align: right;\">\n",
       "      <th></th>\n",
       "      <th>symbols</th>\n",
       "      <th>symbol_counts</th>\n",
       "    </tr>\n",
       "  </thead>\n",
       "  <tbody>\n",
       "    <tr>\n",
       "      <th>0</th>\n",
       "      <td>P40</td>\n",
       "      <td>10</td>\n",
       "    </tr>\n",
       "    <tr>\n",
       "      <th>1</th>\n",
       "      <td>P14</td>\n",
       "      <td>9</td>\n",
       "    </tr>\n",
       "    <tr>\n",
       "      <th>2</th>\n",
       "      <td>U4</td>\n",
       "      <td>7</td>\n",
       "    </tr>\n",
       "    <tr>\n",
       "      <th>3</th>\n",
       "      <td>P18</td>\n",
       "      <td>7</td>\n",
       "    </tr>\n",
       "    <tr>\n",
       "      <th>4</th>\n",
       "      <td>PAP</td>\n",
       "      <td>7</td>\n",
       "    </tr>\n",
       "    <tr>\n",
       "      <th>...</th>\n",
       "      <td>...</td>\n",
       "      <td>...</td>\n",
       "    </tr>\n",
       "    <tr>\n",
       "      <th>1433</th>\n",
       "      <td>MIO</td>\n",
       "      <td>2</td>\n",
       "    </tr>\n",
       "    <tr>\n",
       "      <th>1434</th>\n",
       "      <td>NMI</td>\n",
       "      <td>2</td>\n",
       "    </tr>\n",
       "    <tr>\n",
       "      <th>1435</th>\n",
       "      <td>SCAF1</td>\n",
       "      <td>2</td>\n",
       "    </tr>\n",
       "    <tr>\n",
       "      <th>1436</th>\n",
       "      <td>POF</td>\n",
       "      <td>2</td>\n",
       "    </tr>\n",
       "    <tr>\n",
       "      <th>1437</th>\n",
       "      <td>SNX30</td>\n",
       "      <td>2</td>\n",
       "    </tr>\n",
       "  </tbody>\n",
       "</table>\n",
       "<p>1438 rows × 2 columns</p>\n",
       "</div>"
      ],
      "text/plain": [
       "     symbols  symbol_counts\n",
       "0        P40             10\n",
       "1        P14              9\n",
       "2         U4              7\n",
       "3        P18              7\n",
       "4        PAP              7\n",
       "...      ...            ...\n",
       "1433     MIO              2\n",
       "1434     NMI              2\n",
       "1435   SCAF1              2\n",
       "1436     POF              2\n",
       "1437   SNX30              2\n",
       "\n",
       "[1438 rows x 2 columns]"
      ]
     },
     "execution_count": 124,
     "metadata": {},
     "output_type": "execute_result"
    }
   ],
   "source": [
    "hgnc_symbol_value_counts = hgnc_df[\"symbol\"].value_counts()\n",
    "\n",
    "hgnc_ambiguous_symbol_counts = hgnc_symbol_value_counts[hgnc_symbol_value_counts.index.isin(hgnc_ambiguous_symbol_set)]\n",
    "hgnc_ambiguous_symbol_counts = hgnc_ambiguous_symbol_counts.reset_index()\n",
    "hgnc_ambiguous_symbol_counts.columns = [\"symbols\", \"symbol_counts\"]\n",
    "hgnc_ambiguous_symbol_counts"
   ]
  },
  {
   "cell_type": "code",
   "execution_count": 125,
   "metadata": {},
   "outputs": [
    {
     "data": {
      "application/vnd.plotly.v1+json": {
       "config": {
        "plotlyServerURL": "https://plot.ly"
       },
       "data": [
        {
         "alignmentgroup": "True",
         "hovertemplate": "symbol_counts=%{x}<br>percent_collision_symbol=%{y}<extra></extra>",
         "legendgroup": "",
         "marker": {
          "color": "#636efa",
          "pattern": {
           "shape": ""
          }
         },
         "name": "",
         "offsetgroup": "",
         "orientation": "v",
         "showlegend": false,
         "textposition": "auto",
         "type": "bar",
         "x": [
          2,
          3,
          4,
          5,
          6,
          7,
          9,
          10
         ],
         "xaxis": "x",
         "y": [
          78.42242503259452,
          11.342894393741851,
          2.216427640156454,
          0.847457627118644,
          0.5215123859191656,
          0.2607561929595828,
          0.0651890482398957,
          0.0651890482398957
         ],
         "yaxis": "y"
        }
       ],
       "layout": {
        "barmode": "relative",
        "legend": {
         "tracegroupgap": 0
        },
        "margin": {
         "t": 60
        },
        "template": {
         "data": {
          "bar": [
           {
            "error_x": {
             "color": "#2a3f5f"
            },
            "error_y": {
             "color": "#2a3f5f"
            },
            "marker": {
             "line": {
              "color": "#E5ECF6",
              "width": 0.5
             },
             "pattern": {
              "fillmode": "overlay",
              "size": 10,
              "solidity": 0.2
             }
            },
            "type": "bar"
           }
          ],
          "barpolar": [
           {
            "marker": {
             "line": {
              "color": "#E5ECF6",
              "width": 0.5
             },
             "pattern": {
              "fillmode": "overlay",
              "size": 10,
              "solidity": 0.2
             }
            },
            "type": "barpolar"
           }
          ],
          "carpet": [
           {
            "aaxis": {
             "endlinecolor": "#2a3f5f",
             "gridcolor": "white",
             "linecolor": "white",
             "minorgridcolor": "white",
             "startlinecolor": "#2a3f5f"
            },
            "baxis": {
             "endlinecolor": "#2a3f5f",
             "gridcolor": "white",
             "linecolor": "white",
             "minorgridcolor": "white",
             "startlinecolor": "#2a3f5f"
            },
            "type": "carpet"
           }
          ],
          "choropleth": [
           {
            "colorbar": {
             "outlinewidth": 0,
             "ticks": ""
            },
            "type": "choropleth"
           }
          ],
          "contour": [
           {
            "colorbar": {
             "outlinewidth": 0,
             "ticks": ""
            },
            "colorscale": [
             [
              0,
              "#0d0887"
             ],
             [
              0.1111111111111111,
              "#46039f"
             ],
             [
              0.2222222222222222,
              "#7201a8"
             ],
             [
              0.3333333333333333,
              "#9c179e"
             ],
             [
              0.4444444444444444,
              "#bd3786"
             ],
             [
              0.5555555555555556,
              "#d8576b"
             ],
             [
              0.6666666666666666,
              "#ed7953"
             ],
             [
              0.7777777777777778,
              "#fb9f3a"
             ],
             [
              0.8888888888888888,
              "#fdca26"
             ],
             [
              1,
              "#f0f921"
             ]
            ],
            "type": "contour"
           }
          ],
          "contourcarpet": [
           {
            "colorbar": {
             "outlinewidth": 0,
             "ticks": ""
            },
            "type": "contourcarpet"
           }
          ],
          "heatmap": [
           {
            "colorbar": {
             "outlinewidth": 0,
             "ticks": ""
            },
            "colorscale": [
             [
              0,
              "#0d0887"
             ],
             [
              0.1111111111111111,
              "#46039f"
             ],
             [
              0.2222222222222222,
              "#7201a8"
             ],
             [
              0.3333333333333333,
              "#9c179e"
             ],
             [
              0.4444444444444444,
              "#bd3786"
             ],
             [
              0.5555555555555556,
              "#d8576b"
             ],
             [
              0.6666666666666666,
              "#ed7953"
             ],
             [
              0.7777777777777778,
              "#fb9f3a"
             ],
             [
              0.8888888888888888,
              "#fdca26"
             ],
             [
              1,
              "#f0f921"
             ]
            ],
            "type": "heatmap"
           }
          ],
          "heatmapgl": [
           {
            "colorbar": {
             "outlinewidth": 0,
             "ticks": ""
            },
            "colorscale": [
             [
              0,
              "#0d0887"
             ],
             [
              0.1111111111111111,
              "#46039f"
             ],
             [
              0.2222222222222222,
              "#7201a8"
             ],
             [
              0.3333333333333333,
              "#9c179e"
             ],
             [
              0.4444444444444444,
              "#bd3786"
             ],
             [
              0.5555555555555556,
              "#d8576b"
             ],
             [
              0.6666666666666666,
              "#ed7953"
             ],
             [
              0.7777777777777778,
              "#fb9f3a"
             ],
             [
              0.8888888888888888,
              "#fdca26"
             ],
             [
              1,
              "#f0f921"
             ]
            ],
            "type": "heatmapgl"
           }
          ],
          "histogram": [
           {
            "marker": {
             "pattern": {
              "fillmode": "overlay",
              "size": 10,
              "solidity": 0.2
             }
            },
            "type": "histogram"
           }
          ],
          "histogram2d": [
           {
            "colorbar": {
             "outlinewidth": 0,
             "ticks": ""
            },
            "colorscale": [
             [
              0,
              "#0d0887"
             ],
             [
              0.1111111111111111,
              "#46039f"
             ],
             [
              0.2222222222222222,
              "#7201a8"
             ],
             [
              0.3333333333333333,
              "#9c179e"
             ],
             [
              0.4444444444444444,
              "#bd3786"
             ],
             [
              0.5555555555555556,
              "#d8576b"
             ],
             [
              0.6666666666666666,
              "#ed7953"
             ],
             [
              0.7777777777777778,
              "#fb9f3a"
             ],
             [
              0.8888888888888888,
              "#fdca26"
             ],
             [
              1,
              "#f0f921"
             ]
            ],
            "type": "histogram2d"
           }
          ],
          "histogram2dcontour": [
           {
            "colorbar": {
             "outlinewidth": 0,
             "ticks": ""
            },
            "colorscale": [
             [
              0,
              "#0d0887"
             ],
             [
              0.1111111111111111,
              "#46039f"
             ],
             [
              0.2222222222222222,
              "#7201a8"
             ],
             [
              0.3333333333333333,
              "#9c179e"
             ],
             [
              0.4444444444444444,
              "#bd3786"
             ],
             [
              0.5555555555555556,
              "#d8576b"
             ],
             [
              0.6666666666666666,
              "#ed7953"
             ],
             [
              0.7777777777777778,
              "#fb9f3a"
             ],
             [
              0.8888888888888888,
              "#fdca26"
             ],
             [
              1,
              "#f0f921"
             ]
            ],
            "type": "histogram2dcontour"
           }
          ],
          "mesh3d": [
           {
            "colorbar": {
             "outlinewidth": 0,
             "ticks": ""
            },
            "type": "mesh3d"
           }
          ],
          "parcoords": [
           {
            "line": {
             "colorbar": {
              "outlinewidth": 0,
              "ticks": ""
             }
            },
            "type": "parcoords"
           }
          ],
          "pie": [
           {
            "automargin": true,
            "type": "pie"
           }
          ],
          "scatter": [
           {
            "fillpattern": {
             "fillmode": "overlay",
             "size": 10,
             "solidity": 0.2
            },
            "type": "scatter"
           }
          ],
          "scatter3d": [
           {
            "line": {
             "colorbar": {
              "outlinewidth": 0,
              "ticks": ""
             }
            },
            "marker": {
             "colorbar": {
              "outlinewidth": 0,
              "ticks": ""
             }
            },
            "type": "scatter3d"
           }
          ],
          "scattercarpet": [
           {
            "marker": {
             "colorbar": {
              "outlinewidth": 0,
              "ticks": ""
             }
            },
            "type": "scattercarpet"
           }
          ],
          "scattergeo": [
           {
            "marker": {
             "colorbar": {
              "outlinewidth": 0,
              "ticks": ""
             }
            },
            "type": "scattergeo"
           }
          ],
          "scattergl": [
           {
            "marker": {
             "colorbar": {
              "outlinewidth": 0,
              "ticks": ""
             }
            },
            "type": "scattergl"
           }
          ],
          "scattermapbox": [
           {
            "marker": {
             "colorbar": {
              "outlinewidth": 0,
              "ticks": ""
             }
            },
            "type": "scattermapbox"
           }
          ],
          "scatterpolar": [
           {
            "marker": {
             "colorbar": {
              "outlinewidth": 0,
              "ticks": ""
             }
            },
            "type": "scatterpolar"
           }
          ],
          "scatterpolargl": [
           {
            "marker": {
             "colorbar": {
              "outlinewidth": 0,
              "ticks": ""
             }
            },
            "type": "scatterpolargl"
           }
          ],
          "scatterternary": [
           {
            "marker": {
             "colorbar": {
              "outlinewidth": 0,
              "ticks": ""
             }
            },
            "type": "scatterternary"
           }
          ],
          "surface": [
           {
            "colorbar": {
             "outlinewidth": 0,
             "ticks": ""
            },
            "colorscale": [
             [
              0,
              "#0d0887"
             ],
             [
              0.1111111111111111,
              "#46039f"
             ],
             [
              0.2222222222222222,
              "#7201a8"
             ],
             [
              0.3333333333333333,
              "#9c179e"
             ],
             [
              0.4444444444444444,
              "#bd3786"
             ],
             [
              0.5555555555555556,
              "#d8576b"
             ],
             [
              0.6666666666666666,
              "#ed7953"
             ],
             [
              0.7777777777777778,
              "#fb9f3a"
             ],
             [
              0.8888888888888888,
              "#fdca26"
             ],
             [
              1,
              "#f0f921"
             ]
            ],
            "type": "surface"
           }
          ],
          "table": [
           {
            "cells": {
             "fill": {
              "color": "#EBF0F8"
             },
             "line": {
              "color": "white"
             }
            },
            "header": {
             "fill": {
              "color": "#C8D4E3"
             },
             "line": {
              "color": "white"
             }
            },
            "type": "table"
           }
          ]
         },
         "layout": {
          "annotationdefaults": {
           "arrowcolor": "#2a3f5f",
           "arrowhead": 0,
           "arrowwidth": 1
          },
          "autotypenumbers": "strict",
          "coloraxis": {
           "colorbar": {
            "outlinewidth": 0,
            "ticks": ""
           }
          },
          "colorscale": {
           "diverging": [
            [
             0,
             "#8e0152"
            ],
            [
             0.1,
             "#c51b7d"
            ],
            [
             0.2,
             "#de77ae"
            ],
            [
             0.3,
             "#f1b6da"
            ],
            [
             0.4,
             "#fde0ef"
            ],
            [
             0.5,
             "#f7f7f7"
            ],
            [
             0.6,
             "#e6f5d0"
            ],
            [
             0.7,
             "#b8e186"
            ],
            [
             0.8,
             "#7fbc41"
            ],
            [
             0.9,
             "#4d9221"
            ],
            [
             1,
             "#276419"
            ]
           ],
           "sequential": [
            [
             0,
             "#0d0887"
            ],
            [
             0.1111111111111111,
             "#46039f"
            ],
            [
             0.2222222222222222,
             "#7201a8"
            ],
            [
             0.3333333333333333,
             "#9c179e"
            ],
            [
             0.4444444444444444,
             "#bd3786"
            ],
            [
             0.5555555555555556,
             "#d8576b"
            ],
            [
             0.6666666666666666,
             "#ed7953"
            ],
            [
             0.7777777777777778,
             "#fb9f3a"
            ],
            [
             0.8888888888888888,
             "#fdca26"
            ],
            [
             1,
             "#f0f921"
            ]
           ],
           "sequentialminus": [
            [
             0,
             "#0d0887"
            ],
            [
             0.1111111111111111,
             "#46039f"
            ],
            [
             0.2222222222222222,
             "#7201a8"
            ],
            [
             0.3333333333333333,
             "#9c179e"
            ],
            [
             0.4444444444444444,
             "#bd3786"
            ],
            [
             0.5555555555555556,
             "#d8576b"
            ],
            [
             0.6666666666666666,
             "#ed7953"
            ],
            [
             0.7777777777777778,
             "#fb9f3a"
            ],
            [
             0.8888888888888888,
             "#fdca26"
            ],
            [
             1,
             "#f0f921"
            ]
           ]
          },
          "colorway": [
           "#636efa",
           "#EF553B",
           "#00cc96",
           "#ab63fa",
           "#FFA15A",
           "#19d3f3",
           "#FF6692",
           "#B6E880",
           "#FF97FF",
           "#FECB52"
          ],
          "font": {
           "color": "#2a3f5f"
          },
          "geo": {
           "bgcolor": "white",
           "lakecolor": "white",
           "landcolor": "#E5ECF6",
           "showlakes": true,
           "showland": true,
           "subunitcolor": "white"
          },
          "hoverlabel": {
           "align": "left"
          },
          "hovermode": "closest",
          "mapbox": {
           "style": "light"
          },
          "paper_bgcolor": "white",
          "plot_bgcolor": "#E5ECF6",
          "polar": {
           "angularaxis": {
            "gridcolor": "white",
            "linecolor": "white",
            "ticks": ""
           },
           "bgcolor": "#E5ECF6",
           "radialaxis": {
            "gridcolor": "white",
            "linecolor": "white",
            "ticks": ""
           }
          },
          "scene": {
           "xaxis": {
            "backgroundcolor": "#E5ECF6",
            "gridcolor": "white",
            "gridwidth": 2,
            "linecolor": "white",
            "showbackground": true,
            "ticks": "",
            "zerolinecolor": "white"
           },
           "yaxis": {
            "backgroundcolor": "#E5ECF6",
            "gridcolor": "white",
            "gridwidth": 2,
            "linecolor": "white",
            "showbackground": true,
            "ticks": "",
            "zerolinecolor": "white"
           },
           "zaxis": {
            "backgroundcolor": "#E5ECF6",
            "gridcolor": "white",
            "gridwidth": 2,
            "linecolor": "white",
            "showbackground": true,
            "ticks": "",
            "zerolinecolor": "white"
           }
          },
          "shapedefaults": {
           "line": {
            "color": "#2a3f5f"
           }
          },
          "ternary": {
           "aaxis": {
            "gridcolor": "white",
            "linecolor": "white",
            "ticks": ""
           },
           "baxis": {
            "gridcolor": "white",
            "linecolor": "white",
            "ticks": ""
           },
           "bgcolor": "#E5ECF6",
           "caxis": {
            "gridcolor": "white",
            "linecolor": "white",
            "ticks": ""
           }
          },
          "title": {
           "x": 0.05
          },
          "xaxis": {
           "automargin": true,
           "gridcolor": "white",
           "linecolor": "white",
           "ticks": "",
           "title": {
            "standoff": 15
           },
           "zerolinecolor": "white",
           "zerolinewidth": 2
          },
          "yaxis": {
           "automargin": true,
           "gridcolor": "white",
           "linecolor": "white",
           "ticks": "",
           "title": {
            "standoff": 15
           },
           "zerolinecolor": "white",
           "zerolinewidth": 2
          }
         }
        },
        "xaxis": {
         "anchor": "y",
         "domain": [
          0,
          1
         ],
         "title": {
          "text": "symbol_counts"
         }
        },
        "yaxis": {
         "anchor": "x",
         "domain": [
          0,
          1
         ],
         "title": {
          "text": "percent_collision_symbol"
         }
        }
       }
      }
     },
     "metadata": {},
     "output_type": "display_data"
    }
   ],
   "source": [
    "create_ambiguous_symbol_histogram(hgnc_ambiguous_symbol_counts, \"HGNC\", hgnc_ambiguous_symbol_set_count)"
   ]
  },
  {
   "cell_type": "markdown",
   "metadata": {},
   "source": [
    "### <a id='toc1_1_4_'></a>[NCBI](#toc0_)"
   ]
  },
  {
   "cell_type": "markdown",
   "metadata": {},
   "source": [
    "import file with ambiguous symbols resulting from alias-alias collisions"
   ]
  },
  {
   "cell_type": "code",
   "execution_count": 126,
   "metadata": {},
   "outputs": [
    {
     "data": {
      "text/html": [
       "<div>\n",
       "<style scoped>\n",
       "    .dataframe tbody tr th:only-of-type {\n",
       "        vertical-align: middle;\n",
       "    }\n",
       "\n",
       "    .dataframe tbody tr th {\n",
       "        vertical-align: top;\n",
       "    }\n",
       "\n",
       "    .dataframe thead th {\n",
       "        text-align: right;\n",
       "    }\n",
       "</style>\n",
       "<table border=\"1\" class=\"dataframe\">\n",
       "  <thead>\n",
       "    <tr style=\"text-align: right;\">\n",
       "      <th></th>\n",
       "      <th>NCBI_ID</th>\n",
       "      <th>gene_symbol</th>\n",
       "      <th>collision</th>\n",
       "      <th>source</th>\n",
       "      <th>HGNC_ID</th>\n",
       "      <th>ENSG_ID</th>\n",
       "      <th>alias_symbol</th>\n",
       "    </tr>\n",
       "  </thead>\n",
       "  <tbody>\n",
       "    <tr>\n",
       "      <th>0</th>\n",
       "      <td>GENE ID:5728</td>\n",
       "      <td>PTEN</td>\n",
       "      <td>10q23del</td>\n",
       "      <td>NCBI</td>\n",
       "      <td>HGNC:9588</td>\n",
       "      <td>ENSG00000171862</td>\n",
       "      <td>10q23del,BZS,CWS1,DEC,GLM2,MHAM,MMAC1,PTEN1,PT...</td>\n",
       "    </tr>\n",
       "    <tr>\n",
       "      <th>1</th>\n",
       "      <td>GENE ID:657</td>\n",
       "      <td>BMPR1A</td>\n",
       "      <td>10q23del</td>\n",
       "      <td>NCBI</td>\n",
       "      <td>HGNC:1076</td>\n",
       "      <td>ENSG00000107779</td>\n",
       "      <td>10q23del,ACVRLK3,ALK-3,ALK3,BMPR-1A,CD292,SKR5</td>\n",
       "    </tr>\n",
       "    <tr>\n",
       "      <th>2</th>\n",
       "      <td>GENE ID:239</td>\n",
       "      <td>ALOX12</td>\n",
       "      <td>12-LOX</td>\n",
       "      <td>NCBI</td>\n",
       "      <td>HGNC:429</td>\n",
       "      <td>ENSG00000108839</td>\n",
       "      <td>12-LOX,12S-LOX,LOG12</td>\n",
       "    </tr>\n",
       "    <tr>\n",
       "      <th>3</th>\n",
       "      <td>GENE ID:246</td>\n",
       "      <td>ALOX15</td>\n",
       "      <td>12-LOX</td>\n",
       "      <td>NCBI</td>\n",
       "      <td>HGNC:433</td>\n",
       "      <td>ENSG00000161905</td>\n",
       "      <td>12-LOX,15-LOX,15-LOX-1,LOG15</td>\n",
       "    </tr>\n",
       "    <tr>\n",
       "      <th>4</th>\n",
       "      <td>GENE ID:10219</td>\n",
       "      <td>KLRG1</td>\n",
       "      <td>2F1</td>\n",
       "      <td>NCBI</td>\n",
       "      <td>HGNC:6380</td>\n",
       "      <td>ENSG00000139187</td>\n",
       "      <td>2F1,CLEC15A,MAFA,MAFA-2F1,MAFA-L,MAFA-LIKE</td>\n",
       "    </tr>\n",
       "    <tr>\n",
       "      <th>...</th>\n",
       "      <td>...</td>\n",
       "      <td>...</td>\n",
       "      <td>...</td>\n",
       "      <td>...</td>\n",
       "      <td>...</td>\n",
       "      <td>...</td>\n",
       "      <td>...</td>\n",
       "    </tr>\n",
       "    <tr>\n",
       "      <th>8180</th>\n",
       "      <td>GENE ID:55671</td>\n",
       "      <td>PPP4R3A</td>\n",
       "      <td>smk1</td>\n",
       "      <td>NCBI</td>\n",
       "      <td>HGNC:20219</td>\n",
       "      <td>ENSG00000100796</td>\n",
       "      <td>FLFL1,KIAA2010,MSTP033,PP4R3,PP4R3A,SMEK1,smk-...</td>\n",
       "    </tr>\n",
       "    <tr>\n",
       "      <th>8181</th>\n",
       "      <td>GENE ID:57223</td>\n",
       "      <td>PPP4R3B</td>\n",
       "      <td>smk1</td>\n",
       "      <td>NCBI</td>\n",
       "      <td>HGNC:29267</td>\n",
       "      <td>ENSG00000275052</td>\n",
       "      <td>FLFL2,PP4R3B,PSY2,SMEK2,smk1</td>\n",
       "    </tr>\n",
       "    <tr>\n",
       "      <th>8182</th>\n",
       "      <td>GENE ID:139420</td>\n",
       "      <td>PPP4R3C</td>\n",
       "      <td>smk1</td>\n",
       "      <td>NCBI</td>\n",
       "      <td>HGNC:33146</td>\n",
       "      <td>ENSG00000224960</td>\n",
       "      <td>FLFL3P,PPP4R3CP,SMEK3P,smk1</td>\n",
       "    </tr>\n",
       "    <tr>\n",
       "      <th>8183</th>\n",
       "      <td>GENE ID:9825</td>\n",
       "      <td>SPATA2</td>\n",
       "      <td>tamo</td>\n",
       "      <td>NCBI</td>\n",
       "      <td>HGNC:14681</td>\n",
       "      <td>ENSG00000158480</td>\n",
       "      <td>PD1,PPP1R145,tamo</td>\n",
       "    </tr>\n",
       "    <tr>\n",
       "      <th>8184</th>\n",
       "      <td>GENE ID:124044</td>\n",
       "      <td>SPATA2L</td>\n",
       "      <td>tamo</td>\n",
       "      <td>NCBI</td>\n",
       "      <td>HGNC:28393</td>\n",
       "      <td>ENSG00000158792</td>\n",
       "      <td>C16orf76,tamo</td>\n",
       "    </tr>\n",
       "  </tbody>\n",
       "</table>\n",
       "<p>8185 rows × 7 columns</p>\n",
       "</div>"
      ],
      "text/plain": [
       "             NCBI_ID gene_symbol collision source     HGNC_ID  \\\n",
       "0       GENE ID:5728        PTEN  10q23del   NCBI   HGNC:9588   \n",
       "1        GENE ID:657      BMPR1A  10q23del   NCBI   HGNC:1076   \n",
       "2        GENE ID:239      ALOX12    12-LOX   NCBI    HGNC:429   \n",
       "3        GENE ID:246      ALOX15    12-LOX   NCBI    HGNC:433   \n",
       "4      GENE ID:10219       KLRG1       2F1   NCBI   HGNC:6380   \n",
       "...              ...         ...       ...    ...         ...   \n",
       "8180   GENE ID:55671     PPP4R3A      smk1   NCBI  HGNC:20219   \n",
       "8181   GENE ID:57223     PPP4R3B      smk1   NCBI  HGNC:29267   \n",
       "8182  GENE ID:139420     PPP4R3C      smk1   NCBI  HGNC:33146   \n",
       "8183    GENE ID:9825      SPATA2      tamo   NCBI  HGNC:14681   \n",
       "8184  GENE ID:124044     SPATA2L      tamo   NCBI  HGNC:28393   \n",
       "\n",
       "              ENSG_ID                                       alias_symbol  \n",
       "0     ENSG00000171862  10q23del,BZS,CWS1,DEC,GLM2,MHAM,MMAC1,PTEN1,PT...  \n",
       "1     ENSG00000107779     10q23del,ACVRLK3,ALK-3,ALK3,BMPR-1A,CD292,SKR5  \n",
       "2     ENSG00000108839                               12-LOX,12S-LOX,LOG12  \n",
       "3     ENSG00000161905                       12-LOX,15-LOX,15-LOX-1,LOG15  \n",
       "4     ENSG00000139187         2F1,CLEC15A,MAFA,MAFA-2F1,MAFA-L,MAFA-LIKE  \n",
       "...               ...                                                ...  \n",
       "8180  ENSG00000100796  FLFL1,KIAA2010,MSTP033,PP4R3,PP4R3A,SMEK1,smk-...  \n",
       "8181  ENSG00000275052                       FLFL2,PP4R3B,PSY2,SMEK2,smk1  \n",
       "8182  ENSG00000224960                        FLFL3P,PPP4R3CP,SMEK3P,smk1  \n",
       "8183  ENSG00000158480                                  PD1,PPP1R145,tamo  \n",
       "8184  ENSG00000158792                                      C16orf76,tamo  \n",
       "\n",
       "[8185 rows x 7 columns]"
      ]
     },
     "execution_count": 126,
     "metadata": {},
     "output_type": "execute_result"
    }
   ],
   "source": [
    "merged_alias_aa_collision_ncbi_df = pd.read_csv(\n",
    "    \"../output/merged_alias_aa_collision_ncbi_df.csv\", index_col=[0])\n",
    "merged_alias_aa_collision_ncbi_df"
   ]
  },
  {
   "cell_type": "code",
   "execution_count": 127,
   "metadata": {},
   "outputs": [
    {
     "data": {
      "text/plain": [
       "3414"
      ]
     },
     "execution_count": 127,
     "metadata": {},
     "output_type": "execute_result"
    }
   ],
   "source": [
    "aa_collision_alias_ncbi_set = set(\n",
    "    merged_alias_aa_collision_ncbi_df[\"collision\"]\n",
    ")\n",
    "len(aa_collision_alias_ncbi_set)"
   ]
  },
  {
   "cell_type": "markdown",
   "metadata": {},
   "source": [
    "import file with ambiguous symbols resulting from alias-primary collisions"
   ]
  },
  {
   "cell_type": "code",
   "execution_count": 128,
   "metadata": {},
   "outputs": [
    {
     "data": {
      "text/html": [
       "<div>\n",
       "<style scoped>\n",
       "    .dataframe tbody tr th:only-of-type {\n",
       "        vertical-align: middle;\n",
       "    }\n",
       "\n",
       "    .dataframe tbody tr th {\n",
       "        vertical-align: top;\n",
       "    }\n",
       "\n",
       "    .dataframe thead th {\n",
       "        text-align: right;\n",
       "    }\n",
       "</style>\n",
       "<table border=\"1\" class=\"dataframe\">\n",
       "  <thead>\n",
       "    <tr style=\"text-align: right;\">\n",
       "      <th></th>\n",
       "      <th>NCBI_ID</th>\n",
       "      <th>gene_symbol</th>\n",
       "      <th>collision</th>\n",
       "      <th>source</th>\n",
       "      <th>HGNC_ID</th>\n",
       "      <th>ENSG_ID</th>\n",
       "      <th>alias_symbol</th>\n",
       "    </tr>\n",
       "  </thead>\n",
       "  <tbody>\n",
       "    <tr>\n",
       "      <th>0</th>\n",
       "      <td>GENE ID:3494</td>\n",
       "      <td>IGHA2</td>\n",
       "      <td>A2M</td>\n",
       "      <td>NCBI</td>\n",
       "      <td>HGNC:5479</td>\n",
       "      <td>ENSG00000211890</td>\n",
       "      <td>A2M</td>\n",
       "    </tr>\n",
       "    <tr>\n",
       "      <th>1</th>\n",
       "      <td>GENE ID:54776</td>\n",
       "      <td>PPP1R12C</td>\n",
       "      <td>AAVS1</td>\n",
       "      <td>NCBI</td>\n",
       "      <td>HGNC:14947</td>\n",
       "      <td>ENSG00000125503</td>\n",
       "      <td>AAVS1,LENG3,MBS85,p84,p85</td>\n",
       "    </tr>\n",
       "    <tr>\n",
       "      <th>2</th>\n",
       "      <td>GENE ID:6646</td>\n",
       "      <td>SOAT1</td>\n",
       "      <td>ACAT1</td>\n",
       "      <td>NCBI</td>\n",
       "      <td>HGNC:11177</td>\n",
       "      <td>ENSG00000057252</td>\n",
       "      <td>ACACT,ACAT,ACAT-1,ACAT1,SOAT,STAT</td>\n",
       "    </tr>\n",
       "    <tr>\n",
       "      <th>3</th>\n",
       "      <td>GENE ID:8435</td>\n",
       "      <td>SOAT2</td>\n",
       "      <td>ACAT2</td>\n",
       "      <td>NCBI</td>\n",
       "      <td>HGNC:11178</td>\n",
       "      <td>ENSG00000167780</td>\n",
       "      <td>ACACT2,ACAT2,ARGP2</td>\n",
       "    </tr>\n",
       "    <tr>\n",
       "      <th>4</th>\n",
       "      <td>GENE ID:9034</td>\n",
       "      <td>CCRL2</td>\n",
       "      <td>ACKR5</td>\n",
       "      <td>NCBI</td>\n",
       "      <td>HGNC:1612</td>\n",
       "      <td>ENSG00000121797</td>\n",
       "      <td>ACKR5,CKRX,CRAM,CRAM-A,CRAM-B,HCR</td>\n",
       "    </tr>\n",
       "    <tr>\n",
       "      <th>...</th>\n",
       "      <td>...</td>\n",
       "      <td>...</td>\n",
       "      <td>...</td>\n",
       "      <td>...</td>\n",
       "      <td>...</td>\n",
       "      <td>...</td>\n",
       "      <td>...</td>\n",
       "    </tr>\n",
       "    <tr>\n",
       "      <th>2032</th>\n",
       "      <td>GENE ID:29903</td>\n",
       "      <td>CCDC106</td>\n",
       "      <td>ZNF581</td>\n",
       "      <td>NCBI</td>\n",
       "      <td>HGNC:30181</td>\n",
       "      <td>ENSG00000173581</td>\n",
       "      <td>HSU79303,ZNF581</td>\n",
       "    </tr>\n",
       "    <tr>\n",
       "      <th>2033</th>\n",
       "      <td>GENE ID:146540</td>\n",
       "      <td>ZNF785</td>\n",
       "      <td>ZNF688</td>\n",
       "      <td>NCBI</td>\n",
       "      <td>HGNC:26496</td>\n",
       "      <td>ENSG00000197162</td>\n",
       "      <td>ZNF688</td>\n",
       "    </tr>\n",
       "    <tr>\n",
       "      <th>2034</th>\n",
       "      <td>GENE ID:57829</td>\n",
       "      <td>ZP4</td>\n",
       "      <td>ZP1</td>\n",
       "      <td>NCBI</td>\n",
       "      <td>HGNC:15770</td>\n",
       "      <td>ENSG00000116996</td>\n",
       "      <td>ZBP,ZP1,ZP1B,ZPB,ZPB2,Zp-4</td>\n",
       "    </tr>\n",
       "    <tr>\n",
       "      <th>2036</th>\n",
       "      <td>GENE ID:55663</td>\n",
       "      <td>ZNF446</td>\n",
       "      <td>ZSCAN30</td>\n",
       "      <td>NCBI</td>\n",
       "      <td>HGNC:21036</td>\n",
       "      <td>ENSG00000083838</td>\n",
       "      <td>ZKSCAN20,ZSCAN30,ZSCAN52</td>\n",
       "    </tr>\n",
       "    <tr>\n",
       "      <th>2037</th>\n",
       "      <td>GENE ID:342357</td>\n",
       "      <td>ZKSCAN2</td>\n",
       "      <td>ZSCAN31</td>\n",
       "      <td>NCBI</td>\n",
       "      <td>HGNC:25677</td>\n",
       "      <td>ENSG00000155592</td>\n",
       "      <td>ZNF694,ZSCAN31,ZSCAN34</td>\n",
       "    </tr>\n",
       "  </tbody>\n",
       "</table>\n",
       "<p>1614 rows × 7 columns</p>\n",
       "</div>"
      ],
      "text/plain": [
       "             NCBI_ID gene_symbol collision source     HGNC_ID  \\\n",
       "0       GENE ID:3494       IGHA2       A2M   NCBI   HGNC:5479   \n",
       "1      GENE ID:54776    PPP1R12C     AAVS1   NCBI  HGNC:14947   \n",
       "2       GENE ID:6646       SOAT1     ACAT1   NCBI  HGNC:11177   \n",
       "3       GENE ID:8435       SOAT2     ACAT2   NCBI  HGNC:11178   \n",
       "4       GENE ID:9034       CCRL2     ACKR5   NCBI   HGNC:1612   \n",
       "...              ...         ...       ...    ...         ...   \n",
       "2032   GENE ID:29903     CCDC106    ZNF581   NCBI  HGNC:30181   \n",
       "2033  GENE ID:146540      ZNF785    ZNF688   NCBI  HGNC:26496   \n",
       "2034   GENE ID:57829         ZP4       ZP1   NCBI  HGNC:15770   \n",
       "2036   GENE ID:55663      ZNF446   ZSCAN30   NCBI  HGNC:21036   \n",
       "2037  GENE ID:342357     ZKSCAN2   ZSCAN31   NCBI  HGNC:25677   \n",
       "\n",
       "              ENSG_ID                       alias_symbol  \n",
       "0     ENSG00000211890                                A2M  \n",
       "1     ENSG00000125503          AAVS1,LENG3,MBS85,p84,p85  \n",
       "2     ENSG00000057252  ACACT,ACAT,ACAT-1,ACAT1,SOAT,STAT  \n",
       "3     ENSG00000167780                 ACACT2,ACAT2,ARGP2  \n",
       "4     ENSG00000121797  ACKR5,CKRX,CRAM,CRAM-A,CRAM-B,HCR  \n",
       "...               ...                                ...  \n",
       "2032  ENSG00000173581                    HSU79303,ZNF581  \n",
       "2033  ENSG00000197162                             ZNF688  \n",
       "2034  ENSG00000116996         ZBP,ZP1,ZP1B,ZPB,ZPB2,Zp-4  \n",
       "2036  ENSG00000083838           ZKSCAN20,ZSCAN30,ZSCAN52  \n",
       "2037  ENSG00000155592             ZNF694,ZSCAN31,ZSCAN34  \n",
       "\n",
       "[1614 rows x 7 columns]"
      ]
     },
     "execution_count": 128,
     "metadata": {},
     "output_type": "execute_result"
    }
   ],
   "source": [
    "ap_collision_ncbi_df = pd.read_csv(\n",
    "    \"../output/merged_alias_ap_collision_ncbi_df.csv\", index_col=[0])\n",
    "ap_collision_ncbi_df"
   ]
  },
  {
   "cell_type": "code",
   "execution_count": 129,
   "metadata": {},
   "outputs": [
    {
     "data": {
      "text/plain": [
       "1394"
      ]
     },
     "execution_count": 129,
     "metadata": {},
     "output_type": "execute_result"
    }
   ],
   "source": [
    "ap_collision_alias_ncbi_set = set(\n",
    "    ap_collision_ncbi_df[\"collision\"]\n",
    ")\n",
    "len(ap_collision_alias_ncbi_set)"
   ]
  },
  {
   "cell_type": "markdown",
   "metadata": {},
   "source": [
    "combine lists without duplicates to create list of ambiguous symbols for NCBI"
   ]
  },
  {
   "cell_type": "code",
   "execution_count": 130,
   "metadata": {},
   "outputs": [
    {
     "data": {
      "text/plain": [
       "4653"
      ]
     },
     "execution_count": 130,
     "metadata": {},
     "output_type": "execute_result"
    }
   ],
   "source": [
    "ncbi_ambiguous_symbol_set = aa_collision_alias_ncbi_set.union(\n",
    "    ap_collision_alias_ncbi_set\n",
    ")\n",
    "ncbi_ambiguous_symbol_set_count = len(ncbi_ambiguous_symbol_set)\n",
    "ncbi_ambiguous_symbol_set_count"
   ]
  },
  {
   "cell_type": "code",
   "execution_count": 131,
   "metadata": {},
   "outputs": [
    {
     "data": {
      "text/plain": [
       "155"
      ]
     },
     "execution_count": 131,
     "metadata": {},
     "output_type": "execute_result"
    }
   ],
   "source": [
    "both_collision_ncbi_set = aa_collision_alias_ncbi_set & ap_collision_alias_ncbi_set\n",
    "len(both_collision_ncbi_set)"
   ]
  },
  {
   "cell_type": "code",
   "execution_count": 132,
   "metadata": {},
   "outputs": [
    {
     "data": {
      "text/plain": [
       "3259"
      ]
     },
     "execution_count": 132,
     "metadata": {},
     "output_type": "execute_result"
    }
   ],
   "source": [
    "only_aa_collision_alias_ncbi_set = aa_collision_alias_ncbi_set - both_collision_ncbi_set\n",
    "len(only_aa_collision_alias_ncbi_set)"
   ]
  },
  {
   "cell_type": "code",
   "execution_count": 133,
   "metadata": {},
   "outputs": [
    {
     "data": {
      "text/plain": [
       "1239"
      ]
     },
     "execution_count": 133,
     "metadata": {},
     "output_type": "execute_result"
    }
   ],
   "source": [
    "only_ap_collision_alias_ncbi_set = ap_collision_alias_ncbi_set - both_collision_ncbi_set\n",
    "len(only_ap_collision_alias_ncbi_set)"
   ]
  },
  {
   "cell_type": "markdown",
   "metadata": {},
   "source": [
    "import mini_ncbi_df from symbol_capture_generation.ipynb"
   ]
  },
  {
   "cell_type": "code",
   "execution_count": 134,
   "metadata": {},
   "outputs": [
    {
     "data": {
      "text/html": [
       "<div>\n",
       "<style scoped>\n",
       "    .dataframe tbody tr th:only-of-type {\n",
       "        vertical-align: middle;\n",
       "    }\n",
       "\n",
       "    .dataframe tbody tr th {\n",
       "        vertical-align: top;\n",
       "    }\n",
       "\n",
       "    .dataframe thead th {\n",
       "        text-align: right;\n",
       "    }\n",
       "</style>\n",
       "<table border=\"1\" class=\"dataframe\">\n",
       "  <thead>\n",
       "    <tr style=\"text-align: right;\">\n",
       "      <th></th>\n",
       "      <th>NCBI_ID</th>\n",
       "      <th>alias_symbol</th>\n",
       "      <th>HGNC_ID</th>\n",
       "      <th>ENSG_ID</th>\n",
       "      <th>primary_gene_symbol</th>\n",
       "    </tr>\n",
       "  </thead>\n",
       "  <tbody>\n",
       "    <tr>\n",
       "      <th>0</th>\n",
       "      <td>GENE ID:1</td>\n",
       "      <td>A1B</td>\n",
       "      <td>HGNC:5</td>\n",
       "      <td>ENSG00000121410</td>\n",
       "      <td>A1BG</td>\n",
       "    </tr>\n",
       "    <tr>\n",
       "      <th>0</th>\n",
       "      <td>GENE ID:1</td>\n",
       "      <td>ABG</td>\n",
       "      <td>HGNC:5</td>\n",
       "      <td>ENSG00000121410</td>\n",
       "      <td>A1BG</td>\n",
       "    </tr>\n",
       "    <tr>\n",
       "      <th>0</th>\n",
       "      <td>GENE ID:1</td>\n",
       "      <td>GAB</td>\n",
       "      <td>HGNC:5</td>\n",
       "      <td>ENSG00000121410</td>\n",
       "      <td>A1BG</td>\n",
       "    </tr>\n",
       "    <tr>\n",
       "      <th>0</th>\n",
       "      <td>GENE ID:1</td>\n",
       "      <td>HYST2477</td>\n",
       "      <td>HGNC:5</td>\n",
       "      <td>ENSG00000121410</td>\n",
       "      <td>A1BG</td>\n",
       "    </tr>\n",
       "    <tr>\n",
       "      <th>1</th>\n",
       "      <td>GENE ID:2</td>\n",
       "      <td>A2MD</td>\n",
       "      <td>HGNC:7</td>\n",
       "      <td>ENSG00000175899</td>\n",
       "      <td>A2M</td>\n",
       "    </tr>\n",
       "    <tr>\n",
       "      <th>...</th>\n",
       "      <td>...</td>\n",
       "      <td>...</td>\n",
       "      <td>...</td>\n",
       "      <td>...</td>\n",
       "      <td>...</td>\n",
       "    </tr>\n",
       "    <tr>\n",
       "      <th>193502</th>\n",
       "      <td>GENE ID:141732005</td>\n",
       "      <td>NaN</td>\n",
       "      <td>HGNC:40064</td>\n",
       "      <td>NaN</td>\n",
       "      <td>ADCY2-AS1</td>\n",
       "    </tr>\n",
       "    <tr>\n",
       "      <th>193503</th>\n",
       "      <td>GENE ID:141732006</td>\n",
       "      <td>NaN</td>\n",
       "      <td>HGNC:41074</td>\n",
       "      <td>NaN</td>\n",
       "      <td>NSG2-AS1</td>\n",
       "    </tr>\n",
       "    <tr>\n",
       "      <th>193504</th>\n",
       "      <td>GENE ID:141732007</td>\n",
       "      <td>NaN</td>\n",
       "      <td>HGNC:58430</td>\n",
       "      <td>NaN</td>\n",
       "      <td>ST18-AS1</td>\n",
       "    </tr>\n",
       "    <tr>\n",
       "      <th>193505</th>\n",
       "      <td>GENE ID:141732008</td>\n",
       "      <td>NaN</td>\n",
       "      <td>HGNC:58437</td>\n",
       "      <td>NaN</td>\n",
       "      <td>MICAL2-AS1</td>\n",
       "    </tr>\n",
       "    <tr>\n",
       "      <th>193506</th>\n",
       "      <td>GENE ID:141732009</td>\n",
       "      <td>NaN</td>\n",
       "      <td>HGNC:40863</td>\n",
       "      <td>NaN</td>\n",
       "      <td>TRIM41-AS1</td>\n",
       "    </tr>\n",
       "  </tbody>\n",
       "</table>\n",
       "<p>91279 rows × 5 columns</p>\n",
       "</div>"
      ],
      "text/plain": [
       "                  NCBI_ID alias_symbol     HGNC_ID          ENSG_ID  \\\n",
       "0               GENE ID:1          A1B      HGNC:5  ENSG00000121410   \n",
       "0               GENE ID:1          ABG      HGNC:5  ENSG00000121410   \n",
       "0               GENE ID:1          GAB      HGNC:5  ENSG00000121410   \n",
       "0               GENE ID:1     HYST2477      HGNC:5  ENSG00000121410   \n",
       "1               GENE ID:2         A2MD      HGNC:7  ENSG00000175899   \n",
       "...                   ...          ...         ...              ...   \n",
       "193502  GENE ID:141732005          NaN  HGNC:40064              NaN   \n",
       "193503  GENE ID:141732006          NaN  HGNC:41074              NaN   \n",
       "193504  GENE ID:141732007          NaN  HGNC:58430              NaN   \n",
       "193505  GENE ID:141732008          NaN  HGNC:58437              NaN   \n",
       "193506  GENE ID:141732009          NaN  HGNC:40863              NaN   \n",
       "\n",
       "       primary_gene_symbol  \n",
       "0                     A1BG  \n",
       "0                     A1BG  \n",
       "0                     A1BG  \n",
       "0                     A1BG  \n",
       "1                      A2M  \n",
       "...                    ...  \n",
       "193502           ADCY2-AS1  \n",
       "193503            NSG2-AS1  \n",
       "193504            ST18-AS1  \n",
       "193505          MICAL2-AS1  \n",
       "193506          TRIM41-AS1  \n",
       "\n",
       "[91279 rows x 5 columns]"
      ]
     },
     "execution_count": 134,
     "metadata": {},
     "output_type": "execute_result"
    }
   ],
   "source": [
    "mini_ncbi_df = pd.read_csv(\n",
    "        (\"../output/mini_ncbi_df.csv\"), index_col=[0],dtype={\"NCBI_ID\": str,\"HGNC_ID\":str})\n",
    "ncbi_df = mini_ncbi_df[mini_ncbi_df['gene_symbol'] != mini_ncbi_df['alias_symbol']]\n",
    "ncbi_df['primary_gene_symbol'] = ncbi_df['gene_symbol'].str.upper()\n",
    "ncbi_df.drop([\"gene_symbol\"], axis=1, inplace=True)\n",
    "ncbi_df['alias_symbol'] = ncbi_df['alias_symbol'].str.upper()\n",
    "ncbi_df = ncbi_df.drop_duplicates(subset=['primary_gene_symbol', 'alias_symbol'], keep='first')\n",
    "ncbi_df"
   ]
  },
  {
   "cell_type": "markdown",
   "metadata": {},
   "source": [
    "make a general symbol column with primary and alias symbols"
   ]
  },
  {
   "cell_type": "code",
   "execution_count": 135,
   "metadata": {},
   "outputs": [
    {
     "data": {
      "text/html": [
       "<div>\n",
       "<style scoped>\n",
       "    .dataframe tbody tr th:only-of-type {\n",
       "        vertical-align: middle;\n",
       "    }\n",
       "\n",
       "    .dataframe tbody tr th {\n",
       "        vertical-align: top;\n",
       "    }\n",
       "\n",
       "    .dataframe thead th {\n",
       "        text-align: right;\n",
       "    }\n",
       "</style>\n",
       "<table border=\"1\" class=\"dataframe\">\n",
       "  <thead>\n",
       "    <tr style=\"text-align: right;\">\n",
       "      <th></th>\n",
       "      <th>NCBI_ID</th>\n",
       "      <th>primary_gene_symbol</th>\n",
       "      <th>ENSG_ID</th>\n",
       "      <th>HGNC_ID</th>\n",
       "      <th>symbol</th>\n",
       "    </tr>\n",
       "  </thead>\n",
       "  <tbody>\n",
       "    <tr>\n",
       "      <th>0</th>\n",
       "      <td>GENE ID:1</td>\n",
       "      <td>A1BG</td>\n",
       "      <td>ENSG00000121410</td>\n",
       "      <td>HGNC:5</td>\n",
       "      <td>A1BG</td>\n",
       "    </tr>\n",
       "    <tr>\n",
       "      <th>4</th>\n",
       "      <td>GENE ID:2</td>\n",
       "      <td>A2M</td>\n",
       "      <td>ENSG00000175899</td>\n",
       "      <td>HGNC:7</td>\n",
       "      <td>A2M</td>\n",
       "    </tr>\n",
       "    <tr>\n",
       "      <th>8</th>\n",
       "      <td>GENE ID:9</td>\n",
       "      <td>NAT1</td>\n",
       "      <td>ENSG00000171428</td>\n",
       "      <td>HGNC:7645</td>\n",
       "      <td>NAT1</td>\n",
       "    </tr>\n",
       "    <tr>\n",
       "      <th>12</th>\n",
       "      <td>GENE ID:10</td>\n",
       "      <td>NAT2</td>\n",
       "      <td>ENSG00000156006</td>\n",
       "      <td>HGNC:7646</td>\n",
       "      <td>NAT2</td>\n",
       "    </tr>\n",
       "    <tr>\n",
       "      <th>15</th>\n",
       "      <td>GENE ID:11</td>\n",
       "      <td>NATP</td>\n",
       "      <td>NaN</td>\n",
       "      <td>HGNC:15</td>\n",
       "      <td>NATP</td>\n",
       "    </tr>\n",
       "    <tr>\n",
       "      <th>...</th>\n",
       "      <td>...</td>\n",
       "      <td>...</td>\n",
       "      <td>...</td>\n",
       "      <td>...</td>\n",
       "      <td>...</td>\n",
       "    </tr>\n",
       "    <tr>\n",
       "      <th>182553</th>\n",
       "      <td>GENE ID:141732005</td>\n",
       "      <td>ADCY2-AS1</td>\n",
       "      <td>NaN</td>\n",
       "      <td>HGNC:40064</td>\n",
       "      <td>NaN</td>\n",
       "    </tr>\n",
       "    <tr>\n",
       "      <th>182554</th>\n",
       "      <td>GENE ID:141732006</td>\n",
       "      <td>NSG2-AS1</td>\n",
       "      <td>NaN</td>\n",
       "      <td>HGNC:41074</td>\n",
       "      <td>NaN</td>\n",
       "    </tr>\n",
       "    <tr>\n",
       "      <th>182555</th>\n",
       "      <td>GENE ID:141732007</td>\n",
       "      <td>ST18-AS1</td>\n",
       "      <td>NaN</td>\n",
       "      <td>HGNC:58430</td>\n",
       "      <td>NaN</td>\n",
       "    </tr>\n",
       "    <tr>\n",
       "      <th>182556</th>\n",
       "      <td>GENE ID:141732008</td>\n",
       "      <td>MICAL2-AS1</td>\n",
       "      <td>NaN</td>\n",
       "      <td>HGNC:58437</td>\n",
       "      <td>NaN</td>\n",
       "    </tr>\n",
       "    <tr>\n",
       "      <th>182557</th>\n",
       "      <td>GENE ID:141732009</td>\n",
       "      <td>TRIM41-AS1</td>\n",
       "      <td>NaN</td>\n",
       "      <td>HGNC:40863</td>\n",
       "      <td>NaN</td>\n",
       "    </tr>\n",
       "  </tbody>\n",
       "</table>\n",
       "<p>135822 rows × 5 columns</p>\n",
       "</div>"
      ],
      "text/plain": [
       "                  NCBI_ID primary_gene_symbol          ENSG_ID     HGNC_ID  \\\n",
       "0               GENE ID:1                A1BG  ENSG00000121410      HGNC:5   \n",
       "4               GENE ID:2                 A2M  ENSG00000175899      HGNC:7   \n",
       "8               GENE ID:9                NAT1  ENSG00000171428   HGNC:7645   \n",
       "12             GENE ID:10                NAT2  ENSG00000156006   HGNC:7646   \n",
       "15             GENE ID:11                NATP              NaN     HGNC:15   \n",
       "...                   ...                 ...              ...         ...   \n",
       "182553  GENE ID:141732005           ADCY2-AS1              NaN  HGNC:40064   \n",
       "182554  GENE ID:141732006            NSG2-AS1              NaN  HGNC:41074   \n",
       "182555  GENE ID:141732007            ST18-AS1              NaN  HGNC:58430   \n",
       "182556  GENE ID:141732008          MICAL2-AS1              NaN  HGNC:58437   \n",
       "182557  GENE ID:141732009          TRIM41-AS1              NaN  HGNC:40863   \n",
       "\n",
       "       symbol  \n",
       "0        A1BG  \n",
       "4         A2M  \n",
       "8        NAT1  \n",
       "12       NAT2  \n",
       "15       NATP  \n",
       "...       ...  \n",
       "182553    NaN  \n",
       "182554    NaN  \n",
       "182555    NaN  \n",
       "182556    NaN  \n",
       "182557    NaN  \n",
       "\n",
       "[135822 rows x 5 columns]"
      ]
     },
     "execution_count": 135,
     "metadata": {},
     "output_type": "execute_result"
    }
   ],
   "source": [
    "ncbi_df = combine_columns(ncbi_df, [\"primary_gene_symbol\", \"alias_symbol\"], [\"primary_gene_symbol\", \"ENSG_ID\", \"HGNC_ID\",\"NCBI_ID\"], \"symbol\", \"alias_symbol\")\n",
    "ncbi_df"
   ]
  },
  {
   "cell_type": "markdown",
   "metadata": {},
   "source": [
    "use list of ambiguous symbols and ncbi_combined_concept_ids_df to create a histogram of how many genes share ambiguous symbols"
   ]
  },
  {
   "cell_type": "code",
   "execution_count": 136,
   "metadata": {},
   "outputs": [
    {
     "data": {
      "text/html": [
       "<div>\n",
       "<style scoped>\n",
       "    .dataframe tbody tr th:only-of-type {\n",
       "        vertical-align: middle;\n",
       "    }\n",
       "\n",
       "    .dataframe tbody tr th {\n",
       "        vertical-align: top;\n",
       "    }\n",
       "\n",
       "    .dataframe thead th {\n",
       "        text-align: right;\n",
       "    }\n",
       "</style>\n",
       "<table border=\"1\" class=\"dataframe\">\n",
       "  <thead>\n",
       "    <tr style=\"text-align: right;\">\n",
       "      <th></th>\n",
       "      <th>symbols</th>\n",
       "      <th>symbol_counts</th>\n",
       "    </tr>\n",
       "  </thead>\n",
       "  <tbody>\n",
       "    <tr>\n",
       "      <th>0</th>\n",
       "      <td>VH</td>\n",
       "      <td>37</td>\n",
       "    </tr>\n",
       "    <tr>\n",
       "      <th>1</th>\n",
       "      <td>H4C6</td>\n",
       "      <td>14</td>\n",
       "    </tr>\n",
       "    <tr>\n",
       "      <th>2</th>\n",
       "      <td>H4C3</td>\n",
       "      <td>14</td>\n",
       "    </tr>\n",
       "    <tr>\n",
       "      <th>3</th>\n",
       "      <td>H4C14</td>\n",
       "      <td>14</td>\n",
       "    </tr>\n",
       "    <tr>\n",
       "      <th>4</th>\n",
       "      <td>H4C13</td>\n",
       "      <td>14</td>\n",
       "    </tr>\n",
       "    <tr>\n",
       "      <th>...</th>\n",
       "      <td>...</td>\n",
       "      <td>...</td>\n",
       "    </tr>\n",
       "    <tr>\n",
       "      <th>4434</th>\n",
       "      <td>GLS</td>\n",
       "      <td>2</td>\n",
       "    </tr>\n",
       "    <tr>\n",
       "      <th>4435</th>\n",
       "      <td>KIR2DS5</td>\n",
       "      <td>2</td>\n",
       "    </tr>\n",
       "    <tr>\n",
       "      <th>4436</th>\n",
       "      <td>HEBP1</td>\n",
       "      <td>2</td>\n",
       "    </tr>\n",
       "    <tr>\n",
       "      <th>4437</th>\n",
       "      <td>TRAD</td>\n",
       "      <td>2</td>\n",
       "    </tr>\n",
       "    <tr>\n",
       "      <th>4438</th>\n",
       "      <td>A6</td>\n",
       "      <td>2</td>\n",
       "    </tr>\n",
       "  </tbody>\n",
       "</table>\n",
       "<p>4439 rows × 2 columns</p>\n",
       "</div>"
      ],
      "text/plain": [
       "      symbols  symbol_counts\n",
       "0          VH             37\n",
       "1        H4C6             14\n",
       "2        H4C3             14\n",
       "3       H4C14             14\n",
       "4       H4C13             14\n",
       "...       ...            ...\n",
       "4434      GLS              2\n",
       "4435  KIR2DS5              2\n",
       "4436    HEBP1              2\n",
       "4437     TRAD              2\n",
       "4438       A6              2\n",
       "\n",
       "[4439 rows x 2 columns]"
      ]
     },
     "execution_count": 136,
     "metadata": {},
     "output_type": "execute_result"
    }
   ],
   "source": [
    "ncbi_symbol_value_counts = ncbi_df[\"symbol\"].value_counts()\n",
    "\n",
    "ncbi_ambiguous_symbol_counts = ncbi_symbol_value_counts[ncbi_symbol_value_counts.index.isin(ncbi_ambiguous_symbol_set)]\n",
    "ncbi_ambiguous_symbol_counts = ncbi_ambiguous_symbol_counts.reset_index()\n",
    "ncbi_ambiguous_symbol_counts.columns = [\"symbols\", \"symbol_counts\"]\n",
    "ncbi_ambiguous_symbol_counts"
   ]
  },
  {
   "cell_type": "code",
   "execution_count": 137,
   "metadata": {},
   "outputs": [
    {
     "data": {
      "application/vnd.plotly.v1+json": {
       "config": {
        "plotlyServerURL": "https://plot.ly"
       },
       "data": [
        {
         "alignmentgroup": "True",
         "hovertemplate": "symbol_counts=%{x}<br>percent_collision_symbol=%{y}<extra></extra>",
         "legendgroup": "",
         "marker": {
          "color": "#636efa",
          "pattern": {
           "shape": ""
          }
         },
         "name": "",
         "offsetgroup": "",
         "orientation": "v",
         "showlegend": false,
         "textposition": "auto",
         "type": "bar",
         "x": [
          2,
          3,
          4,
          5,
          6,
          7,
          8,
          9,
          10,
          11,
          12,
          14,
          37
         ],
         "xaxis": "x",
         "y": [
          77.88523533204385,
          11.411992263056092,
          2.8583709434773263,
          1.3969482054588438,
          0.5802707930367506,
          0.3438641736514077,
          0.1074575542660649,
          0.1074575542660649,
          0.2578981302385558,
          0.06447453255963895,
          0.04298302170642596,
          0.3223726627981947,
          0.02149151085321298
         ],
         "yaxis": "y"
        }
       ],
       "layout": {
        "barmode": "relative",
        "legend": {
         "tracegroupgap": 0
        },
        "margin": {
         "t": 60
        },
        "template": {
         "data": {
          "bar": [
           {
            "error_x": {
             "color": "#2a3f5f"
            },
            "error_y": {
             "color": "#2a3f5f"
            },
            "marker": {
             "line": {
              "color": "#E5ECF6",
              "width": 0.5
             },
             "pattern": {
              "fillmode": "overlay",
              "size": 10,
              "solidity": 0.2
             }
            },
            "type": "bar"
           }
          ],
          "barpolar": [
           {
            "marker": {
             "line": {
              "color": "#E5ECF6",
              "width": 0.5
             },
             "pattern": {
              "fillmode": "overlay",
              "size": 10,
              "solidity": 0.2
             }
            },
            "type": "barpolar"
           }
          ],
          "carpet": [
           {
            "aaxis": {
             "endlinecolor": "#2a3f5f",
             "gridcolor": "white",
             "linecolor": "white",
             "minorgridcolor": "white",
             "startlinecolor": "#2a3f5f"
            },
            "baxis": {
             "endlinecolor": "#2a3f5f",
             "gridcolor": "white",
             "linecolor": "white",
             "minorgridcolor": "white",
             "startlinecolor": "#2a3f5f"
            },
            "type": "carpet"
           }
          ],
          "choropleth": [
           {
            "colorbar": {
             "outlinewidth": 0,
             "ticks": ""
            },
            "type": "choropleth"
           }
          ],
          "contour": [
           {
            "colorbar": {
             "outlinewidth": 0,
             "ticks": ""
            },
            "colorscale": [
             [
              0,
              "#0d0887"
             ],
             [
              0.1111111111111111,
              "#46039f"
             ],
             [
              0.2222222222222222,
              "#7201a8"
             ],
             [
              0.3333333333333333,
              "#9c179e"
             ],
             [
              0.4444444444444444,
              "#bd3786"
             ],
             [
              0.5555555555555556,
              "#d8576b"
             ],
             [
              0.6666666666666666,
              "#ed7953"
             ],
             [
              0.7777777777777778,
              "#fb9f3a"
             ],
             [
              0.8888888888888888,
              "#fdca26"
             ],
             [
              1,
              "#f0f921"
             ]
            ],
            "type": "contour"
           }
          ],
          "contourcarpet": [
           {
            "colorbar": {
             "outlinewidth": 0,
             "ticks": ""
            },
            "type": "contourcarpet"
           }
          ],
          "heatmap": [
           {
            "colorbar": {
             "outlinewidth": 0,
             "ticks": ""
            },
            "colorscale": [
             [
              0,
              "#0d0887"
             ],
             [
              0.1111111111111111,
              "#46039f"
             ],
             [
              0.2222222222222222,
              "#7201a8"
             ],
             [
              0.3333333333333333,
              "#9c179e"
             ],
             [
              0.4444444444444444,
              "#bd3786"
             ],
             [
              0.5555555555555556,
              "#d8576b"
             ],
             [
              0.6666666666666666,
              "#ed7953"
             ],
             [
              0.7777777777777778,
              "#fb9f3a"
             ],
             [
              0.8888888888888888,
              "#fdca26"
             ],
             [
              1,
              "#f0f921"
             ]
            ],
            "type": "heatmap"
           }
          ],
          "heatmapgl": [
           {
            "colorbar": {
             "outlinewidth": 0,
             "ticks": ""
            },
            "colorscale": [
             [
              0,
              "#0d0887"
             ],
             [
              0.1111111111111111,
              "#46039f"
             ],
             [
              0.2222222222222222,
              "#7201a8"
             ],
             [
              0.3333333333333333,
              "#9c179e"
             ],
             [
              0.4444444444444444,
              "#bd3786"
             ],
             [
              0.5555555555555556,
              "#d8576b"
             ],
             [
              0.6666666666666666,
              "#ed7953"
             ],
             [
              0.7777777777777778,
              "#fb9f3a"
             ],
             [
              0.8888888888888888,
              "#fdca26"
             ],
             [
              1,
              "#f0f921"
             ]
            ],
            "type": "heatmapgl"
           }
          ],
          "histogram": [
           {
            "marker": {
             "pattern": {
              "fillmode": "overlay",
              "size": 10,
              "solidity": 0.2
             }
            },
            "type": "histogram"
           }
          ],
          "histogram2d": [
           {
            "colorbar": {
             "outlinewidth": 0,
             "ticks": ""
            },
            "colorscale": [
             [
              0,
              "#0d0887"
             ],
             [
              0.1111111111111111,
              "#46039f"
             ],
             [
              0.2222222222222222,
              "#7201a8"
             ],
             [
              0.3333333333333333,
              "#9c179e"
             ],
             [
              0.4444444444444444,
              "#bd3786"
             ],
             [
              0.5555555555555556,
              "#d8576b"
             ],
             [
              0.6666666666666666,
              "#ed7953"
             ],
             [
              0.7777777777777778,
              "#fb9f3a"
             ],
             [
              0.8888888888888888,
              "#fdca26"
             ],
             [
              1,
              "#f0f921"
             ]
            ],
            "type": "histogram2d"
           }
          ],
          "histogram2dcontour": [
           {
            "colorbar": {
             "outlinewidth": 0,
             "ticks": ""
            },
            "colorscale": [
             [
              0,
              "#0d0887"
             ],
             [
              0.1111111111111111,
              "#46039f"
             ],
             [
              0.2222222222222222,
              "#7201a8"
             ],
             [
              0.3333333333333333,
              "#9c179e"
             ],
             [
              0.4444444444444444,
              "#bd3786"
             ],
             [
              0.5555555555555556,
              "#d8576b"
             ],
             [
              0.6666666666666666,
              "#ed7953"
             ],
             [
              0.7777777777777778,
              "#fb9f3a"
             ],
             [
              0.8888888888888888,
              "#fdca26"
             ],
             [
              1,
              "#f0f921"
             ]
            ],
            "type": "histogram2dcontour"
           }
          ],
          "mesh3d": [
           {
            "colorbar": {
             "outlinewidth": 0,
             "ticks": ""
            },
            "type": "mesh3d"
           }
          ],
          "parcoords": [
           {
            "line": {
             "colorbar": {
              "outlinewidth": 0,
              "ticks": ""
             }
            },
            "type": "parcoords"
           }
          ],
          "pie": [
           {
            "automargin": true,
            "type": "pie"
           }
          ],
          "scatter": [
           {
            "fillpattern": {
             "fillmode": "overlay",
             "size": 10,
             "solidity": 0.2
            },
            "type": "scatter"
           }
          ],
          "scatter3d": [
           {
            "line": {
             "colorbar": {
              "outlinewidth": 0,
              "ticks": ""
             }
            },
            "marker": {
             "colorbar": {
              "outlinewidth": 0,
              "ticks": ""
             }
            },
            "type": "scatter3d"
           }
          ],
          "scattercarpet": [
           {
            "marker": {
             "colorbar": {
              "outlinewidth": 0,
              "ticks": ""
             }
            },
            "type": "scattercarpet"
           }
          ],
          "scattergeo": [
           {
            "marker": {
             "colorbar": {
              "outlinewidth": 0,
              "ticks": ""
             }
            },
            "type": "scattergeo"
           }
          ],
          "scattergl": [
           {
            "marker": {
             "colorbar": {
              "outlinewidth": 0,
              "ticks": ""
             }
            },
            "type": "scattergl"
           }
          ],
          "scattermapbox": [
           {
            "marker": {
             "colorbar": {
              "outlinewidth": 0,
              "ticks": ""
             }
            },
            "type": "scattermapbox"
           }
          ],
          "scatterpolar": [
           {
            "marker": {
             "colorbar": {
              "outlinewidth": 0,
              "ticks": ""
             }
            },
            "type": "scatterpolar"
           }
          ],
          "scatterpolargl": [
           {
            "marker": {
             "colorbar": {
              "outlinewidth": 0,
              "ticks": ""
             }
            },
            "type": "scatterpolargl"
           }
          ],
          "scatterternary": [
           {
            "marker": {
             "colorbar": {
              "outlinewidth": 0,
              "ticks": ""
             }
            },
            "type": "scatterternary"
           }
          ],
          "surface": [
           {
            "colorbar": {
             "outlinewidth": 0,
             "ticks": ""
            },
            "colorscale": [
             [
              0,
              "#0d0887"
             ],
             [
              0.1111111111111111,
              "#46039f"
             ],
             [
              0.2222222222222222,
              "#7201a8"
             ],
             [
              0.3333333333333333,
              "#9c179e"
             ],
             [
              0.4444444444444444,
              "#bd3786"
             ],
             [
              0.5555555555555556,
              "#d8576b"
             ],
             [
              0.6666666666666666,
              "#ed7953"
             ],
             [
              0.7777777777777778,
              "#fb9f3a"
             ],
             [
              0.8888888888888888,
              "#fdca26"
             ],
             [
              1,
              "#f0f921"
             ]
            ],
            "type": "surface"
           }
          ],
          "table": [
           {
            "cells": {
             "fill": {
              "color": "#EBF0F8"
             },
             "line": {
              "color": "white"
             }
            },
            "header": {
             "fill": {
              "color": "#C8D4E3"
             },
             "line": {
              "color": "white"
             }
            },
            "type": "table"
           }
          ]
         },
         "layout": {
          "annotationdefaults": {
           "arrowcolor": "#2a3f5f",
           "arrowhead": 0,
           "arrowwidth": 1
          },
          "autotypenumbers": "strict",
          "coloraxis": {
           "colorbar": {
            "outlinewidth": 0,
            "ticks": ""
           }
          },
          "colorscale": {
           "diverging": [
            [
             0,
             "#8e0152"
            ],
            [
             0.1,
             "#c51b7d"
            ],
            [
             0.2,
             "#de77ae"
            ],
            [
             0.3,
             "#f1b6da"
            ],
            [
             0.4,
             "#fde0ef"
            ],
            [
             0.5,
             "#f7f7f7"
            ],
            [
             0.6,
             "#e6f5d0"
            ],
            [
             0.7,
             "#b8e186"
            ],
            [
             0.8,
             "#7fbc41"
            ],
            [
             0.9,
             "#4d9221"
            ],
            [
             1,
             "#276419"
            ]
           ],
           "sequential": [
            [
             0,
             "#0d0887"
            ],
            [
             0.1111111111111111,
             "#46039f"
            ],
            [
             0.2222222222222222,
             "#7201a8"
            ],
            [
             0.3333333333333333,
             "#9c179e"
            ],
            [
             0.4444444444444444,
             "#bd3786"
            ],
            [
             0.5555555555555556,
             "#d8576b"
            ],
            [
             0.6666666666666666,
             "#ed7953"
            ],
            [
             0.7777777777777778,
             "#fb9f3a"
            ],
            [
             0.8888888888888888,
             "#fdca26"
            ],
            [
             1,
             "#f0f921"
            ]
           ],
           "sequentialminus": [
            [
             0,
             "#0d0887"
            ],
            [
             0.1111111111111111,
             "#46039f"
            ],
            [
             0.2222222222222222,
             "#7201a8"
            ],
            [
             0.3333333333333333,
             "#9c179e"
            ],
            [
             0.4444444444444444,
             "#bd3786"
            ],
            [
             0.5555555555555556,
             "#d8576b"
            ],
            [
             0.6666666666666666,
             "#ed7953"
            ],
            [
             0.7777777777777778,
             "#fb9f3a"
            ],
            [
             0.8888888888888888,
             "#fdca26"
            ],
            [
             1,
             "#f0f921"
            ]
           ]
          },
          "colorway": [
           "#636efa",
           "#EF553B",
           "#00cc96",
           "#ab63fa",
           "#FFA15A",
           "#19d3f3",
           "#FF6692",
           "#B6E880",
           "#FF97FF",
           "#FECB52"
          ],
          "font": {
           "color": "#2a3f5f"
          },
          "geo": {
           "bgcolor": "white",
           "lakecolor": "white",
           "landcolor": "#E5ECF6",
           "showlakes": true,
           "showland": true,
           "subunitcolor": "white"
          },
          "hoverlabel": {
           "align": "left"
          },
          "hovermode": "closest",
          "mapbox": {
           "style": "light"
          },
          "paper_bgcolor": "white",
          "plot_bgcolor": "#E5ECF6",
          "polar": {
           "angularaxis": {
            "gridcolor": "white",
            "linecolor": "white",
            "ticks": ""
           },
           "bgcolor": "#E5ECF6",
           "radialaxis": {
            "gridcolor": "white",
            "linecolor": "white",
            "ticks": ""
           }
          },
          "scene": {
           "xaxis": {
            "backgroundcolor": "#E5ECF6",
            "gridcolor": "white",
            "gridwidth": 2,
            "linecolor": "white",
            "showbackground": true,
            "ticks": "",
            "zerolinecolor": "white"
           },
           "yaxis": {
            "backgroundcolor": "#E5ECF6",
            "gridcolor": "white",
            "gridwidth": 2,
            "linecolor": "white",
            "showbackground": true,
            "ticks": "",
            "zerolinecolor": "white"
           },
           "zaxis": {
            "backgroundcolor": "#E5ECF6",
            "gridcolor": "white",
            "gridwidth": 2,
            "linecolor": "white",
            "showbackground": true,
            "ticks": "",
            "zerolinecolor": "white"
           }
          },
          "shapedefaults": {
           "line": {
            "color": "#2a3f5f"
           }
          },
          "ternary": {
           "aaxis": {
            "gridcolor": "white",
            "linecolor": "white",
            "ticks": ""
           },
           "baxis": {
            "gridcolor": "white",
            "linecolor": "white",
            "ticks": ""
           },
           "bgcolor": "#E5ECF6",
           "caxis": {
            "gridcolor": "white",
            "linecolor": "white",
            "ticks": ""
           }
          },
          "title": {
           "x": 0.05
          },
          "xaxis": {
           "automargin": true,
           "gridcolor": "white",
           "linecolor": "white",
           "ticks": "",
           "title": {
            "standoff": 15
           },
           "zerolinecolor": "white",
           "zerolinewidth": 2
          },
          "yaxis": {
           "automargin": true,
           "gridcolor": "white",
           "linecolor": "white",
           "ticks": "",
           "title": {
            "standoff": 15
           },
           "zerolinecolor": "white",
           "zerolinewidth": 2
          }
         }
        },
        "xaxis": {
         "anchor": "y",
         "domain": [
          0,
          1
         ],
         "title": {
          "text": "symbol_counts"
         }
        },
        "yaxis": {
         "anchor": "x",
         "domain": [
          0,
          1
         ],
         "title": {
          "text": "percent_collision_symbol"
         }
        }
       }
      }
     },
     "metadata": {},
     "output_type": "display_data"
    }
   ],
   "source": [
    "create_ambiguous_symbol_histogram(ncbi_ambiguous_symbol_counts, \"NCBI\", ncbi_ambiguous_symbol_set_count)"
   ]
  },
  {
   "cell_type": "code",
   "execution_count": 138,
   "metadata": {},
   "outputs": [],
   "source": [
    "ncbi_ensg_ambiguous_symbol_set = ncbi_ambiguous_symbol_set.union(\n",
    "    ensg_ambiguous_symbol_set\n",
    ")"
   ]
  },
  {
   "cell_type": "code",
   "execution_count": 139,
   "metadata": {},
   "outputs": [],
   "source": [
    "ncbi_ensg_hgnc_ambiguous_symbol_set = ncbi_ensg_ambiguous_symbol_set.union(\n",
    "    hgnc_ambiguous_symbol_set\n",
    ")"
   ]
  },
  {
   "cell_type": "code",
   "execution_count": 140,
   "metadata": {},
   "outputs": [
    {
     "data": {
      "text/plain": [
       "4969"
      ]
     },
     "execution_count": 140,
     "metadata": {},
     "output_type": "execute_result"
    }
   ],
   "source": [
    "ambiguous_symbol_set = ncbi_ensg_hgnc_ambiguous_symbol_set\n",
    "len(ambiguous_symbol_set)"
   ]
  }
 ],
 "metadata": {
  "kernelspec": {
   "display_name": ".venv",
   "language": "python",
   "name": "python3"
  },
  "language_info": {
   "codemirror_mode": {
    "name": "ipython",
    "version": 3
   },
   "file_extension": ".py",
   "mimetype": "text/x-python",
   "name": "python",
   "nbconvert_exporter": "python",
   "pygments_lexer": "ipython3",
   "version": "3.11.7"
  }
 },
 "nbformat": 4,
 "nbformat_minor": 2
}
