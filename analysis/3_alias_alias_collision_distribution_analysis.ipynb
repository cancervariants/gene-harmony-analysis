{
 "cells": [
  {
   "cell_type": "markdown",
   "metadata": {},
   "source": [
    "# What is the distribution of alias alias collisions in Ensembl, HGNC, and NCBI?"
   ]
  },
  {
   "cell_type": "markdown",
   "metadata": {},
   "source": [
    "## <a id='toc6_'></a>[How many unique primary gene symbols are there?](#toc0_)"
   ]
  },
  {
   "cell_type": "markdown",
   "metadata": {},
   "source": [
    "### <a id='toc6_1_'></a>[Per Source](#toc0_)"
   ]
  },
  {
   "cell_type": "code",
   "execution_count": 72,
   "metadata": {},
   "outputs": [],
   "source": [
    "import pandas as pd\n",
    "import numpy as np\n",
    "import plotly.express as px"
   ]
  },
  {
   "cell_type": "code",
   "execution_count": 73,
   "metadata": {},
   "outputs": [],
   "source": [
    "def create_aa_collision_histogram(aa_collision_gene_xxxx_df: pd.DataFrame, source: str, xxxx_aa_collision_count: int):\n",
    "    \"\"\"Create a histogram of the frequencies at which aliases are shared\n",
    "\n",
    "    :param aa_collision_gene_xxxx_df: A df of alias-alias collisions organized by primary gene symbol\n",
    "    :param source: Representation of the source of the gene records\n",
    "    :param xxxx_alias_count: Number of aliases total in the source\n",
    "    :return: A histogram of the percentage of aliases that are shared between 2 genes, 3 genes, and so on\n",
    "    \"\"\"\n",
    "    \n",
    "    #Count the number of times each shared alias is used\n",
    "    aa_collision_xxxx_count_df = aa_collision_gene_xxxx_df.pivot_table(\n",
    "    index=[\"collision\"], aggfunc=\"size\"\n",
    "    )\n",
    "    aa_collision_xxxx_count_df = aa_collision_xxxx_count_df.reset_index()\n",
    "    aa_collision_xxxx_count_df.rename(columns={0: \"num_gene_records\"}, inplace=True)\n",
    "    aa_collision_xxxx_count_df = aa_collision_xxxx_count_df.sort_values(\n",
    "        \"num_gene_records\", ascending=False)\n",
    "\n",
    "    #Convert to csv\n",
    "    aa_collision_xxxx_count_df.to_csv(f'../output/aa_collision_{source}_count_df.csv', index=True)\n",
    "\n",
    "    #Count the frequency at which aliases are shared \n",
    "    aa_collision_xxxx_distribution_df = aa_collision_xxxx_count_df.pivot_table(\n",
    "    index=[\"num_gene_records\"], aggfunc=\"size\"\n",
    "    )\n",
    "    aa_collision_xxxx_distribution_df = aa_collision_xxxx_distribution_df.reset_index()\n",
    "    aa_collision_xxxx_distribution_df.rename(columns={0: \"num_collision_symbol\"}, inplace=True)\n",
    "    aa_collision_xxxx_distribution_df[\"percent_collision_symbol\"] = (\n",
    "        aa_collision_xxxx_distribution_df[\"num_collision_symbol\"] / xxxx_aa_collision_count\n",
    "    ) * 100\n",
    "\n",
    "    #Convert to csv\n",
    "    aa_collision_xxxx_distribution_df.to_csv(f'../output/aa_collision_{source}_distribution_df.csv', index=True)\n",
    "\n",
    "    #Create histogram df \n",
    "    xxxx_alias_count_histogram_df = aa_collision_xxxx_distribution_df.drop(\n",
    "    \"num_collision_symbol\", axis=1)\n",
    "\n",
    "    #Convert to csv\n",
    "    xxxx_alias_count_histogram_df.to_csv(f'../output/{source}_alias_count_histogram_df.csv', index=True)\n",
    "\n",
    "    return px.bar(xxxx_alias_count_histogram_df, x=\"num_gene_records\", y=\"percent_collision_symbol\")\n",
    "\n"
   ]
  },
  {
   "cell_type": "code",
   "execution_count": 74,
   "metadata": {},
   "outputs": [
    {
     "data": {
      "text/html": [
       "<div>\n",
       "<style scoped>\n",
       "    .dataframe tbody tr th:only-of-type {\n",
       "        vertical-align: middle;\n",
       "    }\n",
       "\n",
       "    .dataframe tbody tr th {\n",
       "        vertical-align: top;\n",
       "    }\n",
       "\n",
       "    .dataframe thead th {\n",
       "        text-align: right;\n",
       "    }\n",
       "</style>\n",
       "<table border=\"1\" class=\"dataframe\">\n",
       "  <thead>\n",
       "    <tr style=\"text-align: right;\">\n",
       "      <th></th>\n",
       "      <th>Unnamed: 0</th>\n",
       "      <th>ENSG_ID</th>\n",
       "      <th>gene_symbol</th>\n",
       "      <th>alias_symbol</th>\n",
       "      <th>HGNC_ID</th>\n",
       "      <th>NCBI_ID</th>\n",
       "    </tr>\n",
       "  </thead>\n",
       "  <tbody>\n",
       "    <tr>\n",
       "      <th>0</th>\n",
       "      <td>0</td>\n",
       "      <td>ENSG00000210049</td>\n",
       "      <td>MT-TF</td>\n",
       "      <td>MTTF</td>\n",
       "      <td>7481</td>\n",
       "      <td>&lt;NA&gt;</td>\n",
       "    </tr>\n",
       "    <tr>\n",
       "      <th>1</th>\n",
       "      <td>1</td>\n",
       "      <td>ENSG00000210049</td>\n",
       "      <td>MT-TF</td>\n",
       "      <td>TRNF</td>\n",
       "      <td>7481</td>\n",
       "      <td>&lt;NA&gt;</td>\n",
       "    </tr>\n",
       "    <tr>\n",
       "      <th>2</th>\n",
       "      <td>2</td>\n",
       "      <td>ENSG00000211459</td>\n",
       "      <td>MT-RNR1</td>\n",
       "      <td>12S</td>\n",
       "      <td>7470</td>\n",
       "      <td>&lt;NA&gt;</td>\n",
       "    </tr>\n",
       "    <tr>\n",
       "      <th>3</th>\n",
       "      <td>3</td>\n",
       "      <td>ENSG00000211459</td>\n",
       "      <td>MT-RNR1</td>\n",
       "      <td>MOTS-C</td>\n",
       "      <td>7470</td>\n",
       "      <td>&lt;NA&gt;</td>\n",
       "    </tr>\n",
       "    <tr>\n",
       "      <th>4</th>\n",
       "      <td>4</td>\n",
       "      <td>ENSG00000211459</td>\n",
       "      <td>MT-RNR1</td>\n",
       "      <td>MTRNR1</td>\n",
       "      <td>7470</td>\n",
       "      <td>&lt;NA&gt;</td>\n",
       "    </tr>\n",
       "    <tr>\n",
       "      <th>...</th>\n",
       "      <td>...</td>\n",
       "      <td>...</td>\n",
       "      <td>...</td>\n",
       "      <td>...</td>\n",
       "      <td>...</td>\n",
       "      <td>...</td>\n",
       "    </tr>\n",
       "    <tr>\n",
       "      <th>94790</th>\n",
       "      <td>117135</td>\n",
       "      <td>ENSG00000200033</td>\n",
       "      <td>RNU6-403P</td>\n",
       "      <td>NaN</td>\n",
       "      <td>47366</td>\n",
       "      <td>&lt;NA&gt;</td>\n",
       "    </tr>\n",
       "    <tr>\n",
       "      <th>94791</th>\n",
       "      <td>117136</td>\n",
       "      <td>ENSG00000228437</td>\n",
       "      <td>LINC02474</td>\n",
       "      <td>LNCSLCC1</td>\n",
       "      <td>53417</td>\n",
       "      <td>&lt;NA&gt;</td>\n",
       "    </tr>\n",
       "    <tr>\n",
       "      <th>94792</th>\n",
       "      <td>117137</td>\n",
       "      <td>ENSG00000228437</td>\n",
       "      <td>LINC02474</td>\n",
       "      <td>RP11-400N13.2</td>\n",
       "      <td>53417</td>\n",
       "      <td>&lt;NA&gt;</td>\n",
       "    </tr>\n",
       "    <tr>\n",
       "      <th>94793</th>\n",
       "      <td>117138</td>\n",
       "      <td>ENSG00000229463</td>\n",
       "      <td>LYST-AS1</td>\n",
       "      <td>LYST-IT2</td>\n",
       "      <td>41320</td>\n",
       "      <td>&lt;NA&gt;</td>\n",
       "    </tr>\n",
       "    <tr>\n",
       "      <th>94794</th>\n",
       "      <td>117139</td>\n",
       "      <td>ENSG00000229291</td>\n",
       "      <td>LINC02768</td>\n",
       "      <td>NaN</td>\n",
       "      <td>54288</td>\n",
       "      <td>&lt;NA&gt;</td>\n",
       "    </tr>\n",
       "  </tbody>\n",
       "</table>\n",
       "<p>94795 rows × 6 columns</p>\n",
       "</div>"
      ],
      "text/plain": [
       "       Unnamed: 0          ENSG_ID gene_symbol   alias_symbol  HGNC_ID  \\\n",
       "0               0  ENSG00000210049       MT-TF           MTTF     7481   \n",
       "1               1  ENSG00000210049       MT-TF           TRNF     7481   \n",
       "2               2  ENSG00000211459     MT-RNR1            12S     7470   \n",
       "3               3  ENSG00000211459     MT-RNR1         MOTS-C     7470   \n",
       "4               4  ENSG00000211459     MT-RNR1         MTRNR1     7470   \n",
       "...           ...              ...         ...            ...      ...   \n",
       "94790      117135  ENSG00000200033   RNU6-403P            NaN    47366   \n",
       "94791      117136  ENSG00000228437   LINC02474       LNCSLCC1    53417   \n",
       "94792      117137  ENSG00000228437   LINC02474  RP11-400N13.2    53417   \n",
       "94793      117138  ENSG00000229463    LYST-AS1       LYST-IT2    41320   \n",
       "94794      117139  ENSG00000229291   LINC02768            NaN    54288   \n",
       "\n",
       "       NCBI_ID  \n",
       "0         <NA>  \n",
       "1         <NA>  \n",
       "2         <NA>  \n",
       "3         <NA>  \n",
       "4         <NA>  \n",
       "...        ...  \n",
       "94790     <NA>  \n",
       "94791     <NA>  \n",
       "94792     <NA>  \n",
       "94793     <NA>  \n",
       "94794     <NA>  \n",
       "\n",
       "[94795 rows x 6 columns]"
      ]
     },
     "execution_count": 74,
     "metadata": {},
     "output_type": "execute_result"
    }
   ],
   "source": [
    "mini_ensg_df = pd.read_csv(\n",
    "    \"../output/mini_ensg_df.csv\",\n",
    "    dtype={\"HGNC_ID\": pd.Int64Dtype(), \"NCBI_ID\": pd.Int64Dtype()},\n",
    ")\n",
    "mini_ensg_df"
   ]
  },
  {
   "cell_type": "code",
   "execution_count": 75,
   "metadata": {},
   "outputs": [],
   "source": [
    "ensg_gene_symbol_set = set(mini_ensg_df[\"gene_symbol\"])\n",
    "ensg_gene_symbol_count = len(ensg_gene_symbol_set)"
   ]
  },
  {
   "cell_type": "code",
   "execution_count": 76,
   "metadata": {},
   "outputs": [
    {
     "data": {
      "text/html": [
       "<div>\n",
       "<style scoped>\n",
       "    .dataframe tbody tr th:only-of-type {\n",
       "        vertical-align: middle;\n",
       "    }\n",
       "\n",
       "    .dataframe tbody tr th {\n",
       "        vertical-align: top;\n",
       "    }\n",
       "\n",
       "    .dataframe thead th {\n",
       "        text-align: right;\n",
       "    }\n",
       "</style>\n",
       "<table border=\"1\" class=\"dataframe\">\n",
       "  <thead>\n",
       "    <tr style=\"text-align: right;\">\n",
       "      <th></th>\n",
       "      <th>Unnamed: 0</th>\n",
       "      <th>HGNC_ID</th>\n",
       "      <th>alias_symbol</th>\n",
       "      <th>NCBI_ID</th>\n",
       "      <th>ENSG_ID</th>\n",
       "      <th>gene_symbol</th>\n",
       "    </tr>\n",
       "  </thead>\n",
       "  <tbody>\n",
       "    <tr>\n",
       "      <th>0</th>\n",
       "      <td>0</td>\n",
       "      <td>5</td>\n",
       "      <td>NaN</td>\n",
       "      <td>1</td>\n",
       "      <td>ENSG00000121410</td>\n",
       "      <td>A1BG</td>\n",
       "    </tr>\n",
       "    <tr>\n",
       "      <th>1</th>\n",
       "      <td>1</td>\n",
       "      <td>37133</td>\n",
       "      <td>FLJ23569</td>\n",
       "      <td>503538</td>\n",
       "      <td>ENSG00000268895</td>\n",
       "      <td>A1BG-AS1</td>\n",
       "    </tr>\n",
       "    <tr>\n",
       "      <th>2</th>\n",
       "      <td>2</td>\n",
       "      <td>24086</td>\n",
       "      <td>ACF</td>\n",
       "      <td>29974</td>\n",
       "      <td>ENSG00000148584</td>\n",
       "      <td>A1CF</td>\n",
       "    </tr>\n",
       "    <tr>\n",
       "      <th>3</th>\n",
       "      <td>3</td>\n",
       "      <td>24086</td>\n",
       "      <td>ASP</td>\n",
       "      <td>29974</td>\n",
       "      <td>ENSG00000148584</td>\n",
       "      <td>A1CF</td>\n",
       "    </tr>\n",
       "    <tr>\n",
       "      <th>4</th>\n",
       "      <td>4</td>\n",
       "      <td>24086</td>\n",
       "      <td>ACF64</td>\n",
       "      <td>29974</td>\n",
       "      <td>ENSG00000148584</td>\n",
       "      <td>A1CF</td>\n",
       "    </tr>\n",
       "    <tr>\n",
       "      <th>...</th>\n",
       "      <td>...</td>\n",
       "      <td>...</td>\n",
       "      <td>...</td>\n",
       "      <td>...</td>\n",
       "      <td>...</td>\n",
       "      <td>...</td>\n",
       "    </tr>\n",
       "    <tr>\n",
       "      <th>67578</th>\n",
       "      <td>67578</td>\n",
       "      <td>29027</td>\n",
       "      <td>KIAA0399</td>\n",
       "      <td>23140</td>\n",
       "      <td>ENSG00000074755</td>\n",
       "      <td>ZZEF1</td>\n",
       "    </tr>\n",
       "    <tr>\n",
       "      <th>67579</th>\n",
       "      <td>67579</td>\n",
       "      <td>29027</td>\n",
       "      <td>ZZZ4</td>\n",
       "      <td>23140</td>\n",
       "      <td>ENSG00000074755</td>\n",
       "      <td>ZZEF1</td>\n",
       "    </tr>\n",
       "    <tr>\n",
       "      <th>67580</th>\n",
       "      <td>67580</td>\n",
       "      <td>29027</td>\n",
       "      <td>FLJ10821</td>\n",
       "      <td>23140</td>\n",
       "      <td>ENSG00000074755</td>\n",
       "      <td>ZZEF1</td>\n",
       "    </tr>\n",
       "    <tr>\n",
       "      <th>67581</th>\n",
       "      <td>67581</td>\n",
       "      <td>24523</td>\n",
       "      <td>DKFZP564I052</td>\n",
       "      <td>26009</td>\n",
       "      <td>ENSG00000036549</td>\n",
       "      <td>ZZZ3</td>\n",
       "    </tr>\n",
       "    <tr>\n",
       "      <th>67582</th>\n",
       "      <td>67582</td>\n",
       "      <td>24523</td>\n",
       "      <td>ATAC1</td>\n",
       "      <td>26009</td>\n",
       "      <td>ENSG00000036549</td>\n",
       "      <td>ZZZ3</td>\n",
       "    </tr>\n",
       "  </tbody>\n",
       "</table>\n",
       "<p>67583 rows × 6 columns</p>\n",
       "</div>"
      ],
      "text/plain": [
       "       Unnamed: 0  HGNC_ID  alias_symbol  NCBI_ID          ENSG_ID gene_symbol\n",
       "0               0        5           NaN        1  ENSG00000121410        A1BG\n",
       "1               1    37133      FLJ23569   503538  ENSG00000268895    A1BG-AS1\n",
       "2               2    24086           ACF    29974  ENSG00000148584        A1CF\n",
       "3               3    24086           ASP    29974  ENSG00000148584        A1CF\n",
       "4               4    24086         ACF64    29974  ENSG00000148584        A1CF\n",
       "...           ...      ...           ...      ...              ...         ...\n",
       "67578       67578    29027      KIAA0399    23140  ENSG00000074755       ZZEF1\n",
       "67579       67579    29027          ZZZ4    23140  ENSG00000074755       ZZEF1\n",
       "67580       67580    29027      FLJ10821    23140  ENSG00000074755       ZZEF1\n",
       "67581       67581    24523  DKFZP564I052    26009  ENSG00000036549        ZZZ3\n",
       "67582       67582    24523         ATAC1    26009  ENSG00000036549        ZZZ3\n",
       "\n",
       "[67583 rows x 6 columns]"
      ]
     },
     "execution_count": 76,
     "metadata": {},
     "output_type": "execute_result"
    }
   ],
   "source": [
    "mini_hgnc_df = pd.read_csv(\n",
    "    \"../output/mini_hgnc_df.csv\",\n",
    "    dtype={\"HGNC_ID\": pd.Int64Dtype(), \"NCBI_ID\": pd.Int64Dtype()},\n",
    ")\n",
    "mini_hgnc_df"
   ]
  },
  {
   "cell_type": "code",
   "execution_count": 77,
   "metadata": {},
   "outputs": [],
   "source": [
    "hgnc_gene_symbol_set = set(mini_hgnc_df[\"gene_symbol\"])\n",
    "hgnc_gene_symbol_count = len(hgnc_gene_symbol_set)"
   ]
  },
  {
   "cell_type": "code",
   "execution_count": 78,
   "metadata": {},
   "outputs": [
    {
     "data": {
      "text/html": [
       "<div>\n",
       "<style scoped>\n",
       "    .dataframe tbody tr th:only-of-type {\n",
       "        vertical-align: middle;\n",
       "    }\n",
       "\n",
       "    .dataframe tbody tr th {\n",
       "        vertical-align: top;\n",
       "    }\n",
       "\n",
       "    .dataframe thead th {\n",
       "        text-align: right;\n",
       "    }\n",
       "</style>\n",
       "<table border=\"1\" class=\"dataframe\">\n",
       "  <thead>\n",
       "    <tr style=\"text-align: right;\">\n",
       "      <th></th>\n",
       "      <th>Unnamed: 0</th>\n",
       "      <th>NCBI_ID</th>\n",
       "      <th>gene_symbol</th>\n",
       "      <th>alias_symbol</th>\n",
       "      <th>HGNC_ID</th>\n",
       "      <th>ENSG_ID</th>\n",
       "    </tr>\n",
       "  </thead>\n",
       "  <tbody>\n",
       "    <tr>\n",
       "      <th>0</th>\n",
       "      <td>0</td>\n",
       "      <td>1</td>\n",
       "      <td>A1BG</td>\n",
       "      <td>A1B</td>\n",
       "      <td>5</td>\n",
       "      <td>ENSG00000121410</td>\n",
       "    </tr>\n",
       "    <tr>\n",
       "      <th>1</th>\n",
       "      <td>0</td>\n",
       "      <td>1</td>\n",
       "      <td>A1BG</td>\n",
       "      <td>ABG</td>\n",
       "      <td>5</td>\n",
       "      <td>ENSG00000121410</td>\n",
       "    </tr>\n",
       "    <tr>\n",
       "      <th>2</th>\n",
       "      <td>0</td>\n",
       "      <td>1</td>\n",
       "      <td>A1BG</td>\n",
       "      <td>GAB</td>\n",
       "      <td>5</td>\n",
       "      <td>ENSG00000121410</td>\n",
       "    </tr>\n",
       "    <tr>\n",
       "      <th>3</th>\n",
       "      <td>0</td>\n",
       "      <td>1</td>\n",
       "      <td>A1BG</td>\n",
       "      <td>HYST2477</td>\n",
       "      <td>5</td>\n",
       "      <td>ENSG00000121410</td>\n",
       "    </tr>\n",
       "    <tr>\n",
       "      <th>4</th>\n",
       "      <td>1</td>\n",
       "      <td>2</td>\n",
       "      <td>A2M</td>\n",
       "      <td>A2MD</td>\n",
       "      <td>7</td>\n",
       "      <td>ENSG00000175899</td>\n",
       "    </tr>\n",
       "    <tr>\n",
       "      <th>...</th>\n",
       "      <td>...</td>\n",
       "      <td>...</td>\n",
       "      <td>...</td>\n",
       "      <td>...</td>\n",
       "      <td>...</td>\n",
       "      <td>...</td>\n",
       "    </tr>\n",
       "    <tr>\n",
       "      <th>91920</th>\n",
       "      <td>193451</td>\n",
       "      <td>8923215</td>\n",
       "      <td>trnD</td>\n",
       "      <td>NaN</td>\n",
       "      <td>&lt;NA&gt;</td>\n",
       "      <td>NaN</td>\n",
       "    </tr>\n",
       "    <tr>\n",
       "      <th>91921</th>\n",
       "      <td>193452</td>\n",
       "      <td>8923216</td>\n",
       "      <td>trnP</td>\n",
       "      <td>NaN</td>\n",
       "      <td>&lt;NA&gt;</td>\n",
       "      <td>NaN</td>\n",
       "    </tr>\n",
       "    <tr>\n",
       "      <th>91922</th>\n",
       "      <td>193453</td>\n",
       "      <td>8923217</td>\n",
       "      <td>trnA</td>\n",
       "      <td>NaN</td>\n",
       "      <td>&lt;NA&gt;</td>\n",
       "      <td>NaN</td>\n",
       "    </tr>\n",
       "    <tr>\n",
       "      <th>91923</th>\n",
       "      <td>193454</td>\n",
       "      <td>8923218</td>\n",
       "      <td>COX1</td>\n",
       "      <td>NaN</td>\n",
       "      <td>&lt;NA&gt;</td>\n",
       "      <td>NaN</td>\n",
       "    </tr>\n",
       "    <tr>\n",
       "      <th>91924</th>\n",
       "      <td>193455</td>\n",
       "      <td>8923219</td>\n",
       "      <td>16S rRNA</td>\n",
       "      <td>NaN</td>\n",
       "      <td>&lt;NA&gt;</td>\n",
       "      <td>NaN</td>\n",
       "    </tr>\n",
       "  </tbody>\n",
       "</table>\n",
       "<p>91925 rows × 6 columns</p>\n",
       "</div>"
      ],
      "text/plain": [
       "       Unnamed: 0  NCBI_ID gene_symbol alias_symbol  HGNC_ID          ENSG_ID\n",
       "0               0        1        A1BG          A1B        5  ENSG00000121410\n",
       "1               0        1        A1BG          ABG        5  ENSG00000121410\n",
       "2               0        1        A1BG          GAB        5  ENSG00000121410\n",
       "3               0        1        A1BG     HYST2477        5  ENSG00000121410\n",
       "4               1        2         A2M         A2MD        7  ENSG00000175899\n",
       "...           ...      ...         ...          ...      ...              ...\n",
       "91920      193451  8923215        trnD          NaN     <NA>              NaN\n",
       "91921      193452  8923216        trnP          NaN     <NA>              NaN\n",
       "91922      193453  8923217        trnA          NaN     <NA>              NaN\n",
       "91923      193454  8923218        COX1          NaN     <NA>              NaN\n",
       "91924      193455  8923219    16S rRNA          NaN     <NA>              NaN\n",
       "\n",
       "[91925 rows x 6 columns]"
      ]
     },
     "execution_count": 78,
     "metadata": {},
     "output_type": "execute_result"
    }
   ],
   "source": [
    "mini_ncbi_df = pd.read_csv(\n",
    "    \"../output/mini_ncbi_df.csv\",\n",
    "    dtype={\"HGNC_ID\": pd.Int64Dtype(), \"NCBI_ID\": pd.Int64Dtype()},\n",
    ")\n",
    "mini_ncbi_df"
   ]
  },
  {
   "cell_type": "code",
   "execution_count": 79,
   "metadata": {},
   "outputs": [],
   "source": [
    "ncbi_gene_symbol_set = set(mini_ncbi_df[\"gene_symbol\"])\n",
    "ncbi_gene_symbol_count = len(ncbi_gene_symbol_set)"
   ]
  },
  {
   "cell_type": "code",
   "execution_count": 80,
   "metadata": {},
   "outputs": [
    {
     "data": {
      "text/html": [
       "<div>\n",
       "<style scoped>\n",
       "    .dataframe tbody tr th:only-of-type {\n",
       "        vertical-align: middle;\n",
       "    }\n",
       "\n",
       "    .dataframe tbody tr th {\n",
       "        vertical-align: top;\n",
       "    }\n",
       "\n",
       "    .dataframe thead th {\n",
       "        text-align: right;\n",
       "    }\n",
       "</style>\n",
       "<table border=\"1\" class=\"dataframe\">\n",
       "  <thead>\n",
       "    <tr style=\"text-align: right;\">\n",
       "      <th></th>\n",
       "      <th>Number of Unique Primary Gene Symbols</th>\n",
       "    </tr>\n",
       "  </thead>\n",
       "  <tbody>\n",
       "    <tr>\n",
       "      <th>HGNC</th>\n",
       "      <td>41067</td>\n",
       "    </tr>\n",
       "    <tr>\n",
       "      <th>ENSG</th>\n",
       "      <td>45646</td>\n",
       "    </tr>\n",
       "    <tr>\n",
       "      <th>NCBI</th>\n",
       "      <td>45390</td>\n",
       "    </tr>\n",
       "  </tbody>\n",
       "</table>\n",
       "</div>"
      ],
      "text/plain": [
       "      Number of Unique Primary Gene Symbols\n",
       "HGNC                                  41067\n",
       "ENSG                                  45646\n",
       "NCBI                                  45390"
      ]
     },
     "execution_count": 80,
     "metadata": {},
     "output_type": "execute_result"
    }
   ],
   "source": [
    "unique_primary_symbol_summary_index = \"HGNC\", \"ENSG\", \"NCBI\"\n",
    "unique_primary_symbol_summary = {\n",
    "    \"Number of Unique Primary Gene Symbols\": [\n",
    "        ensg_gene_symbol_count,\n",
    "        hgnc_gene_symbol_count,\n",
    "        ncbi_gene_symbol_count,\n",
    "    ]\n",
    "}\n",
    "unique_primary_symbol_summary_df = pd.DataFrame(\n",
    "    unique_primary_symbol_summary, index = unique_primary_symbol_summary_index\n",
    ")\n",
    "unique_primary_symbol_summary_df"
   ]
  },
  {
   "cell_type": "markdown",
   "metadata": {},
   "source": [
    "### <a id='toc6_2_'></a>[All sources](#toc0_)"
   ]
  },
  {
   "cell_type": "markdown",
   "metadata": {},
   "source": [
    "#### <a id='toc6_2_1_'></a>[How many primary symbols appear in all sources?](#toc0_)"
   ]
  },
  {
   "cell_type": "code",
   "execution_count": 81,
   "metadata": {},
   "outputs": [
    {
     "data": {
      "text/plain": [
       "40885"
      ]
     },
     "execution_count": 81,
     "metadata": {},
     "output_type": "execute_result"
    }
   ],
   "source": [
    "all_sources_unique_primary_symbol_set = (\n",
    "    ensg_gene_symbol_set\n",
    "    & hgnc_gene_symbol_set\n",
    "    & ncbi_gene_symbol_set\n",
    ")\n",
    "all_sources_unique_primary_symbol_count = len(all_sources_unique_primary_symbol_set)\n",
    "all_sources_unique_primary_symbol_count"
   ]
  },
  {
   "cell_type": "markdown",
   "metadata": {},
   "source": [
    "Side Quest"
   ]
  },
  {
   "cell_type": "markdown",
   "metadata": {},
   "source": [
    "### NCBI has almost 4x times the amount of unique primary gene symbols than the other sources. Why? What are they?"
   ]
  },
  {
   "cell_type": "code",
   "execution_count": 82,
   "metadata": {},
   "outputs": [],
   "source": [
    "only_ncbi_gene_symbol_set = ncbi_gene_symbol_set - all_sources_unique_primary_symbol_set"
   ]
  },
  {
   "cell_type": "code",
   "execution_count": 83,
   "metadata": {},
   "outputs": [
    {
     "data": {
      "text/plain": [
       "4505"
      ]
     },
     "execution_count": 83,
     "metadata": {},
     "output_type": "execute_result"
    }
   ],
   "source": [
    "len(only_ncbi_gene_symbol_set)"
   ]
  },
  {
   "cell_type": "code",
   "execution_count": 84,
   "metadata": {},
   "outputs": [
    {
     "data": {
      "text/plain": [
       "{'RPL37P16',\n",
       " 'ERVH-2',\n",
       " 'ANIB6',\n",
       " 'VN1R94P',\n",
       " 'LINC03125',\n",
       " 'SPG41',\n",
       " 'HDLCQ5',\n",
       " 'RPS5P6',\n",
       " 'SNORD136',\n",
       " 'DYZ1L2',\n",
       " 'FUSE',\n",
       " 'RPS10P25',\n",
       " 'SNORD47',\n",
       " 'COL1AR',\n",
       " 'RLS4',\n",
       " 'DEL17Q11.2',\n",
       " 'GSTTP2',\n",
       " 'MAFD9',\n",
       " 'DELYQ11',\n",
       " 'DYT23',\n",
       " 'SCGB1B1P',\n",
       " 'PBCA',\n",
       " 'RPS20P8',\n",
       " 'RPLP1P2',\n",
       " 'ERVH-3',\n",
       " 'HYPLIP2',\n",
       " 'TRH-GTG1-4',\n",
       " 'PIRC91',\n",
       " 'PARK3',\n",
       " 'TRR-ACG2-4',\n",
       " 'TCO',\n",
       " 'VN1R73P',\n",
       " 'MIR10397',\n",
       " 'STMN3P1',\n",
       " 'RPS6P5',\n",
       " 'RNA5-8SP3',\n",
       " 'VENTXP8',\n",
       " 'PPR2',\n",
       " 'TRG-CCC1-1',\n",
       " 'CDRT10',\n",
       " 'ND4',\n",
       " 'CNE6',\n",
       " 'ARF2P',\n",
       " 'RPS25P1',\n",
       " 'MGR10',\n",
       " 'IGLL2P',\n",
       " 'CLLS5',\n",
       " 'SALL4P3',\n",
       " 'DNM1P27',\n",
       " 'TRS-GCT3-1',\n",
       " 'RNU7-5P',\n",
       " 'HBN1',\n",
       " 'MSBP2',\n",
       " 'RPL18AP4',\n",
       " 'MIR9983',\n",
       " 'TRL-TAA4-1',\n",
       " 'RPL19P8',\n",
       " 'ERVE-2',\n",
       " 'AIS4',\n",
       " 'HSPD1P20',\n",
       " 'RNA45SN2',\n",
       " 'FRA2K',\n",
       " 'HEAT2',\n",
       " 'TRNC',\n",
       " 'DYZ1L24',\n",
       " 'trnI',\n",
       " 'TRM-CAT3-1',\n",
       " 'TRN-GTT16-1',\n",
       " 'CNE-2',\n",
       " 'DFNA18',\n",
       " 'SNORA101B',\n",
       " 'TRK-TTT3-1',\n",
       " 'TTTY29P',\n",
       " 'ERVK-19',\n",
       " 'TRW-CCA3-1',\n",
       " 'LINC02859',\n",
       " 'RPS2P13',\n",
       " 'TRS-AGA2-5',\n",
       " 'FIGLAP1',\n",
       " 'SLEN2',\n",
       " 'BCYRN1P2',\n",
       " 'LINC03055',\n",
       " 'SCARNA27',\n",
       " 'MRPS6P1',\n",
       " 'TRR-CCT4-1',\n",
       " 'LINC02921',\n",
       " 'ERVK-5',\n",
       " 'STQTL24',\n",
       " 'GEFSP8',\n",
       " 'PLSA1',\n",
       " 'IDDM3',\n",
       " 'RPS20P19',\n",
       " 'GOLGA4P1',\n",
       " 'FRA7I',\n",
       " 'SPDT',\n",
       " 'RPS26P1',\n",
       " 'BTRCP1',\n",
       " 'ERVK9-9',\n",
       " 'AGSPX',\n",
       " 'TRL-AAG2-1',\n",
       " 'PPIP5K1P1',\n",
       " 'TRL-TAG3-1',\n",
       " 'HIF1A-AS2',\n",
       " 'FRA7E',\n",
       " 'TRD-GTC2-2',\n",
       " 'SDHDP7',\n",
       " 'YWHAZP9',\n",
       " 'TRV-AAC1-3',\n",
       " 'MYP11',\n",
       " 'KAZA1',\n",
       " 'FRA18A',\n",
       " 'ERVK9-10',\n",
       " 'LUC7L3P1',\n",
       " 'TRY-GTA2-1',\n",
       " 'SNX18P11',\n",
       " 'FRA2D',\n",
       " 'MLVI4',\n",
       " 'TRA-AGC2-2',\n",
       " 'CH507-9B2.8',\n",
       " 'HDL3',\n",
       " 'RPL41P3',\n",
       " 'RPS21P3',\n",
       " 'VN1R30P',\n",
       " 'TRA-AGC3-1',\n",
       " 'TRL-CAG2-2',\n",
       " 'TRC-GCA2-1',\n",
       " 'SHFLD2',\n",
       " 'ASAP1-IT1',\n",
       " 'VN1R44P',\n",
       " 'RBM22P11',\n",
       " 'MTCO3P37',\n",
       " 'LINC01731',\n",
       " 'AUTS11',\n",
       " 'EOE1',\n",
       " 'EI24P5',\n",
       " 'CMTS',\n",
       " 'RWDD1P1',\n",
       " 'SNAR-A8',\n",
       " 'TRNAG-GCC',\n",
       " 'MGR12',\n",
       " 'SNORD151',\n",
       " 'MIR11400',\n",
       " 'TRL-AAG7-1',\n",
       " 'RPS15AP19',\n",
       " 'RPS24P4',\n",
       " 'MIR30DHG',\n",
       " 'TRS-GCT4-1',\n",
       " 'RAET1E-LRP11',\n",
       " 'DYT21',\n",
       " 'SNORD59B',\n",
       " 'MTATP8P3',\n",
       " 'FGQTL6',\n",
       " 'FRA16B',\n",
       " 'MRD4',\n",
       " 'SLC9B1P5',\n",
       " 'EFNA4-EFNA3',\n",
       " 'TSL',\n",
       " 'HCVS',\n",
       " 'MEMO1P6',\n",
       " 'FAM199YP',\n",
       " 'MRXSAB',\n",
       " 'DFNB47',\n",
       " 'FRA9D',\n",
       " 'MTRNR2L9',\n",
       " 'UBE3AP1',\n",
       " 'FRA22A',\n",
       " 'SLC66A1LP',\n",
       " 'TCPT',\n",
       " 'DNM1DN4-1',\n",
       " 'TRR-CCT2-1',\n",
       " 'ND5',\n",
       " 'RNU7-44P',\n",
       " 'BRCD1',\n",
       " 'HWE1',\n",
       " 'MYMY4',\n",
       " 'TRE-CTC8-1',\n",
       " 'ASNSP2',\n",
       " 'TRQ-TTG9-1',\n",
       " 'AOMS1',\n",
       " 'RNA28SN5',\n",
       " 'ANKRD36P2',\n",
       " 'PPIGP1',\n",
       " 'TRG-GCC6-1',\n",
       " 'DYZ1L26',\n",
       " 'KAT6A-AS1',\n",
       " 'MIR9903',\n",
       " 'HPAT5',\n",
       " 'RFMN',\n",
       " 'RPL10AP11',\n",
       " 'TRS-AGA2-1',\n",
       " 'PKP2P1',\n",
       " 'FGQTL4',\n",
       " 'IBD24',\n",
       " 'RFPL4AP4',\n",
       " 'HCNR617',\n",
       " 'DUX4L36',\n",
       " 'SIGLEC26P',\n",
       " 'AD9',\n",
       " 'PWARSN',\n",
       " 'SNAR-I',\n",
       " 'HRPT3',\n",
       " 'RASGRP3-AS1',\n",
       " 'WT2',\n",
       " 'TRE-CTC1-6',\n",
       " 'RPS15P6',\n",
       " 'MIR10524',\n",
       " 'SCA18',\n",
       " 'EBM',\n",
       " 'ALS3',\n",
       " 'GLM7',\n",
       " 'C4orf46P4',\n",
       " 'MRT19',\n",
       " 'RLIMP3',\n",
       " 'BDA1B',\n",
       " 'HPV6AI1',\n",
       " 'MTCO1P13',\n",
       " 'TP53COR1',\n",
       " 'TRNAA-AGC',\n",
       " 'TRSUP-CTA3-1',\n",
       " 'TRN-ATT1-2',\n",
       " 'SNORA94',\n",
       " 'CRCS6',\n",
       " 'VWSM',\n",
       " 'TRK-CTT7-1',\n",
       " 'AAT2',\n",
       " 'KTCN4',\n",
       " 'TW',\n",
       " 'PRDX4P2',\n",
       " 'ERV3-2',\n",
       " 'WG',\n",
       " 'TRK-CTT11-1',\n",
       " 'VN1R111P',\n",
       " 'ANKRD20A4-ANKRD20A20P',\n",
       " 'FGLDS2',\n",
       " 'DAD1P1',\n",
       " 'TNPO3P2',\n",
       " 'RPS16P7',\n",
       " 'TRC-GCA14-1',\n",
       " 'HPCX',\n",
       " 'TRL-CAG2-1',\n",
       " 'MAFD4',\n",
       " 'MTATP6P6',\n",
       " 'MICF',\n",
       " 'SNX18P16',\n",
       " 'FRA10E',\n",
       " 'CDC27P11',\n",
       " 'MIX23P4',\n",
       " 'DNAJC2P1',\n",
       " 'TRUND-NNN2-1',\n",
       " 'CFSS',\n",
       " 'TRK-CTT13-1',\n",
       " 'CDB2',\n",
       " 'SEPTIN14P7',\n",
       " 'EBR3',\n",
       " 'TRUND-NNN5-1',\n",
       " 'MIR10522',\n",
       " 'DVL1P1',\n",
       " 'MTCO1P50',\n",
       " 'PIRC53',\n",
       " 'CNTNAP3P8',\n",
       " 'TRE-CTC7-1',\n",
       " 'PIRC54',\n",
       " 'DUX4L40',\n",
       " 'SERPINB9-AS1',\n",
       " 'HMGN2P37',\n",
       " 'TRD-GTC2-9',\n",
       " 'GXYLT1P5',\n",
       " 'VN1R60P',\n",
       " 'MGR2',\n",
       " 'ATP6',\n",
       " 'CP20',\n",
       " 'LINC00266-2P',\n",
       " 'RPL10AP9',\n",
       " 'HS-E1',\n",
       " 'SCZD10',\n",
       " 'PAND3',\n",
       " 'VN2R2P',\n",
       " 'CILD4',\n",
       " 'GLC1I',\n",
       " 'NPSA',\n",
       " 'TRE-CTC13-1',\n",
       " 'GEVQ1',\n",
       " 'STQTL5',\n",
       " 'VN1R15P',\n",
       " 'TRT-CGT2-1',\n",
       " 'FRAXE',\n",
       " 'FLJ45513',\n",
       " 'FIQTL1',\n",
       " 'FMTLE',\n",
       " 'ATP5PFP3',\n",
       " 'GUST',\n",
       " 'SCZD12',\n",
       " 'HNRNPA1P75',\n",
       " 'FLJ33534',\n",
       " 'RPL17P52',\n",
       " 'TRE-TTC3-1',\n",
       " 'EIG4',\n",
       " 'TRF-GAA1-5',\n",
       " 'PSORS5',\n",
       " 'TRQ-CTG1-5',\n",
       " 'CTB-49A3.2',\n",
       " 'TRR-TCG5-1',\n",
       " 'CTD-2350J17.1',\n",
       " 'MNDEC',\n",
       " 'RNA18S2',\n",
       " 'LINC01655',\n",
       " 'EEF1A1P43',\n",
       " 'HSPD1P19',\n",
       " 'TRK-CTT14-1',\n",
       " 'GAGE6',\n",
       " 'SNRPA1P2',\n",
       " 'LINC02677',\n",
       " 'FLJ12825',\n",
       " 'HSCR7',\n",
       " 'DFNA59',\n",
       " 'CLLS4',\n",
       " 'TRM-CAT5-2',\n",
       " 'PIRC72',\n",
       " 'CMPK1P2',\n",
       " 'FRMD6-AS1',\n",
       " 'ESB3',\n",
       " 'TRUND-NNN8-1',\n",
       " 'ACRPS',\n",
       " 'FRA20A',\n",
       " 'TUBAP3',\n",
       " 'ISCA1P5',\n",
       " 'ABCD1P1',\n",
       " 'RNY4P26',\n",
       " 'DYT15',\n",
       " 'RPS18P10',\n",
       " 'EA3',\n",
       " 'GAEC1',\n",
       " 'IQSEC3P3',\n",
       " 'TRI-TAT1-1',\n",
       " 'ERVK-21',\n",
       " 'TRV-TAC2-1',\n",
       " 'HYP10',\n",
       " 'CDK5RAP3P1',\n",
       " 'TRR-CCT1-1',\n",
       " 'LINC00643',\n",
       " 'TRA-AGC18-2',\n",
       " 'ASRT4',\n",
       " 'ANMA',\n",
       " 'DUPXQ13',\n",
       " 'TAGLN2P2',\n",
       " 'TELM',\n",
       " 'KAZA2',\n",
       " 'PIRC93',\n",
       " 'PIRC11',\n",
       " 'HSPE1P17',\n",
       " 'PABX',\n",
       " 'THCAT155',\n",
       " 'PCMTD1P6',\n",
       " 'BOS2',\n",
       " 'PIRC3',\n",
       " 'ANIB3',\n",
       " 'ATOD9',\n",
       " 'TRC-GCA24-1',\n",
       " 'IBD11',\n",
       " 'GS1-204I12.4',\n",
       " 'FRA3D',\n",
       " 'ACBD7-DCLRE1CP1',\n",
       " 'KTCN6',\n",
       " 'RPS10P12',\n",
       " 'TRH-GTG1-6',\n",
       " 'RNY4P4',\n",
       " 'DEL4Q21',\n",
       " 'COX1',\n",
       " 'MRPS21P4',\n",
       " 'RPL28P4',\n",
       " 'RPL19P12',\n",
       " 'TRUND-NNN7-1',\n",
       " 'MRT11',\n",
       " 'GTF2IP10',\n",
       " 'ERVW-26',\n",
       " 'ORI343',\n",
       " 'PIRC77',\n",
       " 'HMGB3P28',\n",
       " 'RN7SL92P',\n",
       " 'RPL39P24',\n",
       " 'TRP-AGG1-1',\n",
       " 'ERVW-6',\n",
       " 'AUTS6',\n",
       " 'MTCO2P28',\n",
       " 'RPL34P25',\n",
       " 'CYCSP3',\n",
       " 'SSBP3P6',\n",
       " 'ST13P1',\n",
       " 'MEP1AP2',\n",
       " 'RNU1-152P',\n",
       " 'SF',\n",
       " 'TRUND-NNN10-1',\n",
       " 'ATRIP-TREX1',\n",
       " 'SNORD77',\n",
       " 'MRX23',\n",
       " 'ATOD3',\n",
       " 'TRE-TTC6-1',\n",
       " 'SBE2',\n",
       " 'PIRC86',\n",
       " 'HOXBLINC',\n",
       " 'DELXP11.3',\n",
       " 'DFNA24',\n",
       " 'MTRNR2L7',\n",
       " 'MTND6P30',\n",
       " 'DYT13',\n",
       " 'GUK2',\n",
       " 'BVR1',\n",
       " 'MIR12129',\n",
       " 'MTRNR2L11',\n",
       " 'FRA19A',\n",
       " 'ERVW-20',\n",
       " 'CMD1B',\n",
       " 'LL0XNC01-250H12.3',\n",
       " 'GCSAML-AS1',\n",
       " 'CCT6P5',\n",
       " 'DEL3PTERP25',\n",
       " 'MTMR9P1',\n",
       " 'GCCD3',\n",
       " 'TRQ-TTG5-1',\n",
       " 'NAGPA-AS1',\n",
       " 'RPS6P10',\n",
       " 'CH507-42P11.6',\n",
       " 'RPLP2P3',\n",
       " 'PIRC68',\n",
       " 'MICOS10P1',\n",
       " 'HHC2:066683',\n",
       " 'RDPA',\n",
       " 'VVS',\n",
       " 'TRT-AGT3-1',\n",
       " 'PDON2',\n",
       " 'DYZ1L10',\n",
       " 'IHPS5',\n",
       " 'MOCS3P2',\n",
       " 'FTLP9',\n",
       " 'CAMPD1',\n",
       " 'AHCYP6',\n",
       " 'CFM1',\n",
       " 'TRD-GTC2-7',\n",
       " 'RCHTS',\n",
       " 'VN2R13P',\n",
       " 'TST2',\n",
       " 'TRP-TGG3-5',\n",
       " 'RPL37AP4',\n",
       " 'CTRCT25',\n",
       " 'CDRT5',\n",
       " 'CDRT13',\n",
       " 'RPSAP30',\n",
       " 'TRP-AGG2-6',\n",
       " 'FAM153B',\n",
       " 'STQTL16',\n",
       " 'DYT17',\n",
       " 'ERVI-1',\n",
       " 'TRK-TTT17-1',\n",
       " 'HNRNPRP3',\n",
       " 'ITGAEP1',\n",
       " 'DEL8Q21.11',\n",
       " 'AITD2',\n",
       " 'ST11',\n",
       " 'SPAX3',\n",
       " 'TRL-CAG1-3',\n",
       " 'OCIAD2P1',\n",
       " 'GOLGA6L12P',\n",
       " 'MIR12117',\n",
       " 'PTMAP13',\n",
       " 'RPL39P20',\n",
       " 'SPESP1-NOX5',\n",
       " 'BAGE',\n",
       " 'RPS26P53',\n",
       " 'TRN-GTT2-3',\n",
       " 'AFF1-AS1',\n",
       " 'LINC00673',\n",
       " 'BWQTL4',\n",
       " 'MRT30',\n",
       " 'RCM2',\n",
       " 'PTLAH',\n",
       " 'PFHB2',\n",
       " 'CRE2',\n",
       " 'MRXSBWB',\n",
       " 'OTSC1',\n",
       " 'rrn16',\n",
       " 'TRA-AGC21-1',\n",
       " 'MPVQTL1',\n",
       " 'ERVK9-5',\n",
       " 'IV',\n",
       " 'RPLP1P7',\n",
       " 'PWAR4',\n",
       " 'RNA18SN2',\n",
       " 'TRG-TCC2-3',\n",
       " 'GFND1',\n",
       " 'TRL-CAA5-1',\n",
       " 'VN1R59P',\n",
       " 'DPPA5P3',\n",
       " 'FRA13D',\n",
       " 'SCA9',\n",
       " 'DUPXP11.22',\n",
       " 'HDLCQ1',\n",
       " 'GNG5P4',\n",
       " 'MBS2',\n",
       " 'MPV17L-BMERB1',\n",
       " 'TRS-CGA4-1',\n",
       " 'RPLP1P4',\n",
       " 'MHAC',\n",
       " 'RP22',\n",
       " 'TRQ-TTG3-2',\n",
       " 'TRG-GCC1-3',\n",
       " 'TRA-TGC3-1',\n",
       " 'TRA',\n",
       " 'MBNP',\n",
       " 'MS',\n",
       " 'RNY5P4',\n",
       " 'ERVW-2',\n",
       " 'HHC2:066522',\n",
       " 'CANT1P1',\n",
       " 'USP10P3',\n",
       " 'RPS2P9',\n",
       " 'CYP2C64P',\n",
       " 'ERVW-25',\n",
       " 'RPS17P16',\n",
       " 'CILD8',\n",
       " 'FGFR3P3',\n",
       " 'RCAN3AS',\n",
       " 'RPL27P4',\n",
       " 'PEG3-AS1',\n",
       " 'RBMY2SP',\n",
       " 'LINC00560',\n",
       " 'NIDDM1',\n",
       " 'TRNQ',\n",
       " 'RN7SL671P',\n",
       " 'SNORA112',\n",
       " 'FGQTL1',\n",
       " 'RPL19P3',\n",
       " 'FRA10G',\n",
       " 'SNAR-A1',\n",
       " 'HBB-HS-107',\n",
       " 'RPL37AP5',\n",
       " 'HOXA10-HOXA9',\n",
       " 'SNAR-H',\n",
       " 'PHOBS',\n",
       " 'TRK-CTT6-1',\n",
       " 'PET117P1',\n",
       " 'TRG-CCC3-1',\n",
       " 'RPS11P3',\n",
       " 'RPS6P18',\n",
       " 'MGCT',\n",
       " 'FAM86B2-DT',\n",
       " 'HEY',\n",
       " 'FEB5',\n",
       " 'RNA45S1',\n",
       " 'MTATP6P28',\n",
       " 'CYP4F61P',\n",
       " 'BCC6',\n",
       " 'FRA9E',\n",
       " 'TRY-GTA5-1',\n",
       " 'OR10V7P',\n",
       " 'IGHV3-30-5',\n",
       " 'IDDM6',\n",
       " 'LVNC2',\n",
       " 'PBC2',\n",
       " 'MIR11399',\n",
       " 'LINC01297-DUXAP10-NBEAP6',\n",
       " 'DEL1Q41Q42',\n",
       " 'SCAX3',\n",
       " 'TRD-GTC2-5',\n",
       " 'TRG-GCC4-1',\n",
       " 'SNORA107',\n",
       " 'RPS2P34',\n",
       " 'GSM1',\n",
       " 'RNU6-443P',\n",
       " 'TRA-CGC5-1',\n",
       " 'ERVW-15',\n",
       " 'PIRC60',\n",
       " 'EIG2',\n",
       " 'STQTL3',\n",
       " 'LAG5',\n",
       " 'CLUHP7',\n",
       " 'RP34',\n",
       " 'MENAQ2',\n",
       " 'MUHH2',\n",
       " 'MCI2',\n",
       " 'TRK-CTT2-3',\n",
       " 'UBA52P2',\n",
       " 'CDC27P9',\n",
       " 'RGS2-AS1',\n",
       " 'STQTL14',\n",
       " 'HTGH',\n",
       " 'TRP-CGG1-1',\n",
       " 'DIANPH',\n",
       " 'MTCO1P36',\n",
       " 'TRI-AAT9-1',\n",
       " 'PFM3',\n",
       " 'TRI-TAT2-1',\n",
       " 'ASD1',\n",
       " 'FRA1A',\n",
       " 'PSC',\n",
       " 'TRL-AAG1-2',\n",
       " 'ERVK3-8',\n",
       " 'LINC00268-2P',\n",
       " 'TS546',\n",
       " 'TRR-CCG2-1',\n",
       " 'MIR10226',\n",
       " 'RNY4P8',\n",
       " 'ZNF601P',\n",
       " 'SSX17P',\n",
       " 'FSHMD1B',\n",
       " 'RPS25P10',\n",
       " 'ERVH-7',\n",
       " 'TAS2R67P',\n",
       " 'HYSP3',\n",
       " 'ATOD6',\n",
       " 'ODS1',\n",
       " 'TJP1P1',\n",
       " 'BCC4',\n",
       " 'MTCO3P3',\n",
       " 'STT3A-AS1',\n",
       " 'JBS',\n",
       " 'BMND4',\n",
       " 'UAQTL3',\n",
       " 'WAKMAR1',\n",
       " 'TRL-AAG1-1',\n",
       " 'LRRC37A8P',\n",
       " 'RNU6-52P',\n",
       " 'MGC15885',\n",
       " 'TTTY28P',\n",
       " 'MTND5P44',\n",
       " 'TRA-AGC17-1',\n",
       " 'EA8',\n",
       " 'FRA4D',\n",
       " 'SLI3',\n",
       " 'TRX-CAT1-6',\n",
       " 'TRK-CTT8-1',\n",
       " 'FLJ13224',\n",
       " 'ASH2LP4',\n",
       " 'GAGE2C',\n",
       " 'EYCL1',\n",
       " 'ANKRD20A20P',\n",
       " 'SLEB4',\n",
       " 'ATD',\n",
       " 'RNR4',\n",
       " 'ZNF71-SMIM17',\n",
       " 'FRA4C',\n",
       " 'FTO-IT1',\n",
       " 'AD15',\n",
       " 'TRV-CAC9-1',\n",
       " 'ENTPD3-AS1',\n",
       " 'NEK2P3',\n",
       " 'AUTS1',\n",
       " 'CDY21P',\n",
       " 'ERVK-15',\n",
       " 'ERVK9-3',\n",
       " 'FECD7',\n",
       " 'IMPDH1P1',\n",
       " 'RPL35P7',\n",
       " 'SNORD156',\n",
       " 'TRG-CCC5-1',\n",
       " 'ERVW-11',\n",
       " 'TRD-GTC7-1',\n",
       " 'SNORD153',\n",
       " 'RPS20P6',\n",
       " 'SUZ12P2',\n",
       " 'AIS2',\n",
       " 'TRP-CGG1-3',\n",
       " 'RPS17P3',\n",
       " 'ASRT8',\n",
       " 'SNORD3K',\n",
       " 'OSTCP7',\n",
       " 'MIR570HG',\n",
       " 'MRXS17',\n",
       " 'ENDO1',\n",
       " 'RP24',\n",
       " 'NMLFS',\n",
       " 'C2orf69P5',\n",
       " 'HCG4P7',\n",
       " 'TRD-GTC3-1',\n",
       " 'RNA18SP5',\n",
       " 'SRRM1P1',\n",
       " 'IGL',\n",
       " 'HHC2:066644',\n",
       " 'RPS12P22',\n",
       " 'NACAP9',\n",
       " 'ATFB2',\n",
       " 'bA255A11.4',\n",
       " 'PARGP1-AGAP4',\n",
       " 'AN',\n",
       " 'SPG38',\n",
       " 'PAX6DRR',\n",
       " 'PCAP',\n",
       " 'FRA1G',\n",
       " 'FRA4A',\n",
       " 'TRI-AAT3-1',\n",
       " 'HMGN1P25',\n",
       " 'ZNF884P',\n",
       " 'PKD1P4-NPIPA8',\n",
       " 'APOBEC3A_B',\n",
       " 'HMGN1P23',\n",
       " 'GLYS1',\n",
       " 'PSIP1P2',\n",
       " 'RPS6P6',\n",
       " 'DUX4L49',\n",
       " 'RPS10P1',\n",
       " 'PCMTD1P5',\n",
       " 'MARK2P1',\n",
       " 'AMCX5',\n",
       " 'FRA1H',\n",
       " 'TRN-GTT20-1',\n",
       " 'CYP4F45P',\n",
       " 'SUCLG2P1',\n",
       " 'RIEG2',\n",
       " 'RPL34P2',\n",
       " 'BCYRN1P1',\n",
       " 'BMND14',\n",
       " 'RPS26P14',\n",
       " 'SRSF10P2',\n",
       " 'TRE-TTC15-1',\n",
       " 'KLF17P2',\n",
       " 'FRA13A',\n",
       " 'ND1',\n",
       " 'IBD15',\n",
       " 'FSIP2-AS2',\n",
       " 'SUSD2P1',\n",
       " 'TRF-GAA1-4',\n",
       " 'RNA5-8S2',\n",
       " 'CTRCT35',\n",
       " 'SCAR3',\n",
       " 'TRA-TGC2-1',\n",
       " 'HPV18I1',\n",
       " 'trnT',\n",
       " 'ALPQTL4',\n",
       " 'RPL39P11',\n",
       " 'SPG36',\n",
       " 'RNY5P8',\n",
       " 'TRN-GTT6-1',\n",
       " 'PHF2P1',\n",
       " 'NBLST5',\n",
       " 'HHC2:065944',\n",
       " 'BMND13',\n",
       " 'GS1-279B7.1',\n",
       " 'LINC00312',\n",
       " 'ISCA1P7',\n",
       " 'RPL37AP7',\n",
       " 'CKBE',\n",
       " 'ST13P9',\n",
       " 'LINC01617',\n",
       " 'CUP2Q35',\n",
       " 'FLJ43315',\n",
       " 'MYCLP3',\n",
       " 'RPS15P8',\n",
       " 'EPCART',\n",
       " 'SNAR-F',\n",
       " 'PIRC78',\n",
       " 'ERV18-1',\n",
       " 'LINC01799',\n",
       " 'ARSC2',\n",
       " 'SNORA119',\n",
       " 'RPS5P4',\n",
       " 'RRIS',\n",
       " 'TRV-CAC4-1',\n",
       " 'SNAR-B2',\n",
       " 'OR11J1P',\n",
       " 'BFIS1',\n",
       " 'RPS26P33',\n",
       " 'RPL26P24',\n",
       " 'VIM2P',\n",
       " 'CFAP144P1',\n",
       " 'RNVU1-20',\n",
       " 'HHC2:067347',\n",
       " 'SNORD142',\n",
       " 'CDY16P',\n",
       " 'ADCP1',\n",
       " 'BHD',\n",
       " 'MIR10392',\n",
       " 'SLED1',\n",
       " 'RPL27P3',\n",
       " 'RBPJP1',\n",
       " 'GEFSP4',\n",
       " 'LMPH1B',\n",
       " 'NONOP1',\n",
       " 'RPS2P47',\n",
       " 'TRC-GCA9-2',\n",
       " 'DFNA33',\n",
       " 'LINC01930',\n",
       " 'TRY-GTA5-4',\n",
       " 'SOGA3-KIAA0408',\n",
       " 'EIF2AP3',\n",
       " 'VN1R98P',\n",
       " 'TRK-CTT2-2',\n",
       " 'AFA',\n",
       " 'DFNB27',\n",
       " 'NDUFB3P4',\n",
       " 'RPS20P18',\n",
       " 'SNX18P18',\n",
       " 'TRQ-CTG1-1',\n",
       " 'SNORD3I',\n",
       " 'WTAPP2',\n",
       " 'HCG4P2',\n",
       " 'TRL-AAG2-4',\n",
       " 'MIR381HG',\n",
       " 'ERVW-18',\n",
       " 'SERF2-C15ORF63',\n",
       " 'HCG4P5',\n",
       " 'MS3',\n",
       " 'SNORD3P4',\n",
       " 'TRY-GTA7-1',\n",
       " 'LALL',\n",
       " 'PIRC80',\n",
       " 'OBHP',\n",
       " 'SNORD135',\n",
       " 'PHF5AP2',\n",
       " 'SNORD150',\n",
       " 'PAPA5',\n",
       " 'TRP-AGG4-1',\n",
       " 'DFNB14',\n",
       " 'RBMY2VP',\n",
       " 'GLC3C',\n",
       " 'PVOP2',\n",
       " 'ADHD4',\n",
       " 'SNORD13F',\n",
       " 'PTS-P1',\n",
       " 'RPL13P13',\n",
       " 'MTND5P46',\n",
       " 'RPS5P1',\n",
       " 'ERVH-6',\n",
       " '12S rRNA',\n",
       " 'STQTL13',\n",
       " 'IGHV3OR16-14',\n",
       " 'MORF4L1P2',\n",
       " 'HYT5',\n",
       " 'SNORD168',\n",
       " 'LAKLG',\n",
       " 'IGSF6-DREV1',\n",
       " 'SCGB2B1P',\n",
       " 'CRSP5',\n",
       " 'EA7',\n",
       " 'DEL19Q13.11',\n",
       " 'LINC00444',\n",
       " 'ADHD1',\n",
       " 'DA4',\n",
       " 'TRP-CGG1-2',\n",
       " 'KTCN2',\n",
       " 'TRV-CAC1-6',\n",
       " 'VASH1-AS1',\n",
       " 'GPR165P',\n",
       " 'XS',\n",
       " 'RPS12P13',\n",
       " 'TS13',\n",
       " 'CRCS11',\n",
       " 'HSR',\n",
       " 'CORD1',\n",
       " 'RNY4P5',\n",
       " 'SNAR-A4',\n",
       " 'RPS15AP26',\n",
       " 'GLC1N',\n",
       " 'FRA2B',\n",
       " 'SSBP3P4',\n",
       " 'NOA3',\n",
       " 'SNX18P20',\n",
       " 'LINC00260',\n",
       " 'TRE-CTC1-4',\n",
       " 'CCV',\n",
       " 'CRCS2',\n",
       " 'MTCO1P33',\n",
       " 'SAI1',\n",
       " 'D6S207E',\n",
       " 'MTCO2P13',\n",
       " 'HSPC102',\n",
       " 'CNE9',\n",
       " 'ERVK11-1',\n",
       " 'DRC12',\n",
       " 'RPL18P4',\n",
       " 'DFNB40',\n",
       " 'FRA5A',\n",
       " 'MTND1P13',\n",
       " 'DEL17Q23.1Q23.2',\n",
       " 'OFC9',\n",
       " 'ERVW-7',\n",
       " 'TRV-TAC3-1',\n",
       " 'HCA1',\n",
       " 'VN1R41P',\n",
       " 'SNORD75',\n",
       " 'TRI-AAT5-1',\n",
       " 'CDC27P10',\n",
       " 'MYP19',\n",
       " 'ARHI2',\n",
       " 'FRA18B',\n",
       " 'NYS2',\n",
       " 'DFNA49',\n",
       " 'TRF-GAA1-2',\n",
       " 'ND2',\n",
       " 'RPS12P8',\n",
       " 'PIRC34',\n",
       " 'SLC39A1P1',\n",
       " 'IGLJ',\n",
       " 'SNAR-D',\n",
       " 'TRY-GTA5-5',\n",
       " 'MRXS32',\n",
       " 'KC6',\n",
       " 'MIR12118',\n",
       " 'SNX18P15',\n",
       " 'MTCO1P16',\n",
       " 'MYP16',\n",
       " 'ERVW-19',\n",
       " 'TRK-TTT11-1',\n",
       " 'H19-ICR',\n",
       " 'RN7SL6P',\n",
       " 'OCTN3',\n",
       " 'SNORD3F',\n",
       " 'RPS5P5',\n",
       " 'RPS19P2',\n",
       " 'MTBS2',\n",
       " 'RPL13P11',\n",
       " 'RLS7',\n",
       " 'LNCR3',\n",
       " 'GLM4',\n",
       " 'FRA9F',\n",
       " 'MYP18',\n",
       " 'RPL21P102',\n",
       " 'RPL18AP11',\n",
       " 'HYT8',\n",
       " 'MTND2P34',\n",
       " 'FRA18C',\n",
       " 'TRW-CCA6-1',\n",
       " 'CND',\n",
       " 'FEB1',\n",
       " 'TRY-GTA3-1',\n",
       " 'DYX8',\n",
       " 'TRC-GCA13-1',\n",
       " 'SMAJ',\n",
       " 'TRK-CTT4-1',\n",
       " 'CELIAC2',\n",
       " 'FRA16D',\n",
       " 'RWDD1P3',\n",
       " 'FECD5',\n",
       " 'TRQ-TTG10-1',\n",
       " 'TRQ-CTG3-2',\n",
       " 'RPY',\n",
       " 'PAX6-AS1',\n",
       " 'TRE-TTC10-1',\n",
       " 'LIN28AP3',\n",
       " 'MGC32805',\n",
       " 'VN1R29P',\n",
       " 'DACOR1',\n",
       " 'TRE-CTC16-1',\n",
       " 'MGC34796',\n",
       " 'RPL18P8',\n",
       " 'RNA45SN5',\n",
       " 'TRNAI-AAU',\n",
       " 'SLC19A4P',\n",
       " 'TRS-TGA1-1',\n",
       " 'TRA-AGC14-2',\n",
       " 'PCNAP2',\n",
       " 'GPR75-ASB3',\n",
       " 'MRXS12',\n",
       " 'GOLGA6L13P',\n",
       " 'ERVFC1',\n",
       " 'TRQ-TTG7-1',\n",
       " 'TILAM',\n",
       " 'TRE-TTC1-1',\n",
       " 'VV',\n",
       " 'ZPAXP',\n",
       " 'AK2P1',\n",
       " 'NMTRQ-TTG3-1',\n",
       " 'GINGF2',\n",
       " 'SNAR-C2',\n",
       " 'ERVPABLB-1',\n",
       " 'CLLS3',\n",
       " 'CPAT1',\n",
       " 'TRC-GCA16-1',\n",
       " 'NUDT21P1',\n",
       " 'NMTRL-TAA3-1',\n",
       " 'ZNF726P1',\n",
       " 'DIRC3-AS1',\n",
       " 'BNIP3P12',\n",
       " 'FGFR3P2',\n",
       " 'IBD2',\n",
       " 'VN1R72P',\n",
       " 'NMTRQ-TTG9-1',\n",
       " 'HPV18I2',\n",
       " 'MPVQTL5',\n",
       " 'VN1R22P',\n",
       " 'NAFLD1',\n",
       " 'LINC00302',\n",
       " 'RNA28S3',\n",
       " 'GCASPC',\n",
       " 'FRA2E',\n",
       " 'RPL9P24',\n",
       " 'FGS5',\n",
       " 'RPL11P2',\n",
       " 'HBB-LCR',\n",
       " 'OFC14',\n",
       " 'IHPS2',\n",
       " 'RPL34P15',\n",
       " 'PSMC6P1',\n",
       " 'RNY5P3',\n",
       " 'LINC02797',\n",
       " 'FRA10F',\n",
       " 'RPL34P4',\n",
       " 'TRA-TGC8-1',\n",
       " 'TRS-GCT4-2',\n",
       " 'RPL18AP6',\n",
       " 'MRPS36P6',\n",
       " 'MRT29',\n",
       " ...}"
      ]
     },
     "execution_count": 84,
     "metadata": {},
     "output_type": "execute_result"
    }
   ],
   "source": [
    "only_ncbi_gene_symbol_set"
   ]
  },
  {
   "cell_type": "markdown",
   "metadata": {},
   "source": [
    "#### Most of the symbols that are unique to NCBI (147,913/152,418-97%) begin with \"LOC\""
   ]
  },
  {
   "cell_type": "code",
   "execution_count": 85,
   "metadata": {},
   "outputs": [
    {
     "data": {
      "text/plain": [
       "4505"
      ]
     },
     "execution_count": 85,
     "metadata": {},
     "output_type": "execute_result"
    }
   ],
   "source": [
    "filtered_set = {gene for gene in only_ncbi_gene_symbol_set if not gene.startswith('LOC')}\n",
    "len(filtered_set)"
   ]
  },
  {
   "cell_type": "code",
   "execution_count": 86,
   "metadata": {},
   "outputs": [
    {
     "data": {
      "text/plain": [
       "{'RPL37P16',\n",
       " 'ERVH-2',\n",
       " 'ANIB6',\n",
       " 'VN1R94P',\n",
       " 'LINC03125',\n",
       " 'SPG41',\n",
       " 'HDLCQ5',\n",
       " 'RPS5P6',\n",
       " 'SNORD136',\n",
       " 'DYZ1L2',\n",
       " 'FUSE',\n",
       " 'RPS10P25',\n",
       " 'SNORD47',\n",
       " 'COL1AR',\n",
       " 'RLS4',\n",
       " 'GSTTP2',\n",
       " 'DEL17Q11.2',\n",
       " 'MAFD9',\n",
       " 'DELYQ11',\n",
       " 'DYT23',\n",
       " 'SCGB1B1P',\n",
       " 'PBCA',\n",
       " 'RPS20P8',\n",
       " 'RPLP1P2',\n",
       " 'ERVH-3',\n",
       " 'HYPLIP2',\n",
       " 'TRH-GTG1-4',\n",
       " 'PIRC91',\n",
       " 'PARK3',\n",
       " 'TRR-ACG2-4',\n",
       " 'TCO',\n",
       " 'VN1R73P',\n",
       " 'MIR10397',\n",
       " 'STMN3P1',\n",
       " 'RPS6P5',\n",
       " 'RNA5-8SP3',\n",
       " 'VENTXP8',\n",
       " 'PPR2',\n",
       " 'TRG-CCC1-1',\n",
       " 'CDRT10',\n",
       " 'ND4',\n",
       " 'CNE6',\n",
       " 'ARF2P',\n",
       " 'RPS25P1',\n",
       " 'MGR10',\n",
       " 'IGLL2P',\n",
       " 'CLLS5',\n",
       " 'SALL4P3',\n",
       " 'DNM1P27',\n",
       " 'TRS-GCT3-1',\n",
       " 'RNU7-5P',\n",
       " 'HBN1',\n",
       " 'MSBP2',\n",
       " 'RPL18AP4',\n",
       " 'MIR9983',\n",
       " 'TRL-TAA4-1',\n",
       " 'RPL19P8',\n",
       " 'ERVE-2',\n",
       " 'AIS4',\n",
       " 'HSPD1P20',\n",
       " 'RNA45SN2',\n",
       " 'FRA2K',\n",
       " 'HEAT2',\n",
       " 'TRNC',\n",
       " 'DYZ1L24',\n",
       " 'trnI',\n",
       " 'TRM-CAT3-1',\n",
       " 'TRN-GTT16-1',\n",
       " 'CNE-2',\n",
       " 'DFNA18',\n",
       " 'SNORA101B',\n",
       " 'TRK-TTT3-1',\n",
       " 'TTTY29P',\n",
       " 'ERVK-19',\n",
       " 'LINC02859',\n",
       " 'TRW-CCA3-1',\n",
       " 'RPS2P13',\n",
       " 'TRS-AGA2-5',\n",
       " 'FIGLAP1',\n",
       " 'SLEN2',\n",
       " 'BCYRN1P2',\n",
       " 'LINC03055',\n",
       " 'SCARNA27',\n",
       " 'MRPS6P1',\n",
       " 'TRR-CCT4-1',\n",
       " 'LINC02921',\n",
       " 'ERVK-5',\n",
       " 'STQTL24',\n",
       " 'GEFSP8',\n",
       " 'PLSA1',\n",
       " 'IDDM3',\n",
       " 'RPS20P19',\n",
       " 'GOLGA4P1',\n",
       " 'FRA7I',\n",
       " 'SPDT',\n",
       " 'RPS26P1',\n",
       " 'BTRCP1',\n",
       " 'ERVK9-9',\n",
       " 'AGSPX',\n",
       " 'TRL-AAG2-1',\n",
       " 'PPIP5K1P1',\n",
       " 'TRL-TAG3-1',\n",
       " 'HIF1A-AS2',\n",
       " 'FRA7E',\n",
       " 'TRD-GTC2-2',\n",
       " 'SDHDP7',\n",
       " 'YWHAZP9',\n",
       " 'TRV-AAC1-3',\n",
       " 'MYP11',\n",
       " 'KAZA1',\n",
       " 'FRA18A',\n",
       " 'ERVK9-10',\n",
       " 'LUC7L3P1',\n",
       " 'TRY-GTA2-1',\n",
       " 'SNX18P11',\n",
       " 'FRA2D',\n",
       " 'MLVI4',\n",
       " 'TRA-AGC2-2',\n",
       " 'CH507-9B2.8',\n",
       " 'HDL3',\n",
       " 'RPL41P3',\n",
       " 'RPS21P3',\n",
       " 'VN1R30P',\n",
       " 'TRA-AGC3-1',\n",
       " 'TRL-CAG2-2',\n",
       " 'TRC-GCA2-1',\n",
       " 'SHFLD2',\n",
       " 'ASAP1-IT1',\n",
       " 'VN1R44P',\n",
       " 'RBM22P11',\n",
       " 'MTCO3P37',\n",
       " 'LINC01731',\n",
       " 'AUTS11',\n",
       " 'EOE1',\n",
       " 'EI24P5',\n",
       " 'CMTS',\n",
       " 'RWDD1P1',\n",
       " 'SNAR-A8',\n",
       " 'TRNAG-GCC',\n",
       " 'MGR12',\n",
       " 'SNORD151',\n",
       " 'MIR11400',\n",
       " 'TRL-AAG7-1',\n",
       " 'RPS15AP19',\n",
       " 'RPS24P4',\n",
       " 'MIR30DHG',\n",
       " 'TRS-GCT4-1',\n",
       " 'RAET1E-LRP11',\n",
       " 'DYT21',\n",
       " 'SNORD59B',\n",
       " 'MTATP8P3',\n",
       " 'FGQTL6',\n",
       " 'FRA16B',\n",
       " 'MRD4',\n",
       " 'SLC9B1P5',\n",
       " 'EFNA4-EFNA3',\n",
       " 'TSL',\n",
       " 'HCVS',\n",
       " 'MEMO1P6',\n",
       " 'FAM199YP',\n",
       " 'MRXSAB',\n",
       " 'DFNB47',\n",
       " 'FRA9D',\n",
       " 'MTRNR2L9',\n",
       " 'UBE3AP1',\n",
       " 'FRA22A',\n",
       " 'SLC66A1LP',\n",
       " 'TCPT',\n",
       " 'DNM1DN4-1',\n",
       " 'TRR-CCT2-1',\n",
       " 'ND5',\n",
       " 'RNU7-44P',\n",
       " 'BRCD1',\n",
       " 'HWE1',\n",
       " 'MYMY4',\n",
       " 'TRE-CTC8-1',\n",
       " 'ASNSP2',\n",
       " 'TRQ-TTG9-1',\n",
       " 'AOMS1',\n",
       " 'RNA28SN5',\n",
       " 'ANKRD36P2',\n",
       " 'PPIGP1',\n",
       " 'TRG-GCC6-1',\n",
       " 'DYZ1L26',\n",
       " 'KAT6A-AS1',\n",
       " 'MIR9903',\n",
       " 'HPAT5',\n",
       " 'RFMN',\n",
       " 'RPL10AP11',\n",
       " 'TRS-AGA2-1',\n",
       " 'PKP2P1',\n",
       " 'FGQTL4',\n",
       " 'IBD24',\n",
       " 'RFPL4AP4',\n",
       " 'HCNR617',\n",
       " 'DUX4L36',\n",
       " 'SIGLEC26P',\n",
       " 'AD9',\n",
       " 'PWARSN',\n",
       " 'SNAR-I',\n",
       " 'HRPT3',\n",
       " 'RASGRP3-AS1',\n",
       " 'WT2',\n",
       " 'TRE-CTC1-6',\n",
       " 'RPS15P6',\n",
       " 'MIR10524',\n",
       " 'SCA18',\n",
       " 'EBM',\n",
       " 'ALS3',\n",
       " 'GLM7',\n",
       " 'C4orf46P4',\n",
       " 'MRT19',\n",
       " 'RLIMP3',\n",
       " 'BDA1B',\n",
       " 'HPV6AI1',\n",
       " 'MTCO1P13',\n",
       " 'TP53COR1',\n",
       " 'TRNAA-AGC',\n",
       " 'TRSUP-CTA3-1',\n",
       " 'TRN-ATT1-2',\n",
       " 'SNORA94',\n",
       " 'CRCS6',\n",
       " 'VWSM',\n",
       " 'TRK-CTT7-1',\n",
       " 'AAT2',\n",
       " 'KTCN4',\n",
       " 'TW',\n",
       " 'PRDX4P2',\n",
       " 'ERV3-2',\n",
       " 'WG',\n",
       " 'TRK-CTT11-1',\n",
       " 'VN1R111P',\n",
       " 'ANKRD20A4-ANKRD20A20P',\n",
       " 'FGLDS2',\n",
       " 'DAD1P1',\n",
       " 'TNPO3P2',\n",
       " 'RPS16P7',\n",
       " 'TRC-GCA14-1',\n",
       " 'HPCX',\n",
       " 'TRL-CAG2-1',\n",
       " 'MAFD4',\n",
       " 'MTATP6P6',\n",
       " 'MICF',\n",
       " 'SNX18P16',\n",
       " 'FRA10E',\n",
       " 'CDC27P11',\n",
       " 'MIX23P4',\n",
       " 'DNAJC2P1',\n",
       " 'TRUND-NNN2-1',\n",
       " 'CFSS',\n",
       " 'TRK-CTT13-1',\n",
       " 'CDB2',\n",
       " 'SEPTIN14P7',\n",
       " 'EBR3',\n",
       " 'TRUND-NNN5-1',\n",
       " 'MIR10522',\n",
       " 'DVL1P1',\n",
       " 'MTCO1P50',\n",
       " 'PIRC53',\n",
       " 'CNTNAP3P8',\n",
       " 'TRE-CTC7-1',\n",
       " 'PIRC54',\n",
       " 'DUX4L40',\n",
       " 'SERPINB9-AS1',\n",
       " 'HMGN2P37',\n",
       " 'TRD-GTC2-9',\n",
       " 'GXYLT1P5',\n",
       " 'VN1R60P',\n",
       " 'MGR2',\n",
       " 'ATP6',\n",
       " 'CP20',\n",
       " 'LINC00266-2P',\n",
       " 'RPL10AP9',\n",
       " 'HS-E1',\n",
       " 'SCZD10',\n",
       " 'PAND3',\n",
       " 'VN2R2P',\n",
       " 'CILD4',\n",
       " 'GLC1I',\n",
       " 'NPSA',\n",
       " 'TRE-CTC13-1',\n",
       " 'GEVQ1',\n",
       " 'STQTL5',\n",
       " 'VN1R15P',\n",
       " 'TRT-CGT2-1',\n",
       " 'FRAXE',\n",
       " 'FLJ45513',\n",
       " 'FIQTL1',\n",
       " 'FMTLE',\n",
       " 'ATP5PFP3',\n",
       " 'GUST',\n",
       " 'TRE-TTC3-1',\n",
       " 'RPL17P52',\n",
       " 'SCZD12',\n",
       " 'HNRNPA1P75',\n",
       " 'FLJ33534',\n",
       " 'TRF-GAA1-5',\n",
       " 'PSORS5',\n",
       " 'EIG4',\n",
       " 'TRQ-CTG1-5',\n",
       " 'CTB-49A3.2',\n",
       " 'TRR-TCG5-1',\n",
       " 'CTD-2350J17.1',\n",
       " 'RNA18S2',\n",
       " 'LINC01655',\n",
       " 'EEF1A1P43',\n",
       " 'HSPD1P19',\n",
       " 'TRK-CTT14-1',\n",
       " 'GAGE6',\n",
       " 'SNRPA1P2',\n",
       " 'LINC02677',\n",
       " 'FLJ12825',\n",
       " 'HSCR7',\n",
       " 'DFNA59',\n",
       " 'CLLS4',\n",
       " 'TRM-CAT5-2',\n",
       " 'PIRC72',\n",
       " 'CMPK1P2',\n",
       " 'FRMD6-AS1',\n",
       " 'ESB3',\n",
       " 'TRUND-NNN8-1',\n",
       " 'ACRPS',\n",
       " 'FRA20A',\n",
       " 'TUBAP3',\n",
       " 'ISCA1P5',\n",
       " 'ABCD1P1',\n",
       " 'RNY4P26',\n",
       " 'DYT15',\n",
       " 'RPS18P10',\n",
       " 'EA3',\n",
       " 'GAEC1',\n",
       " 'IQSEC3P3',\n",
       " 'TRI-TAT1-1',\n",
       " 'ERVK-21',\n",
       " 'TRV-TAC2-1',\n",
       " 'HYP10',\n",
       " 'CDK5RAP3P1',\n",
       " 'TRR-CCT1-1',\n",
       " 'LINC00643',\n",
       " 'TRA-AGC18-2',\n",
       " 'ASRT4',\n",
       " 'ANMA',\n",
       " 'DUPXQ13',\n",
       " 'TAGLN2P2',\n",
       " 'TELM',\n",
       " 'KAZA2',\n",
       " 'PIRC93',\n",
       " 'PIRC11',\n",
       " 'HSPE1P17',\n",
       " 'PABX',\n",
       " 'THCAT155',\n",
       " 'PCMTD1P6',\n",
       " 'BOS2',\n",
       " 'PIRC3',\n",
       " 'ANIB3',\n",
       " 'ATOD9',\n",
       " 'TRC-GCA24-1',\n",
       " 'IBD11',\n",
       " 'GS1-204I12.4',\n",
       " 'FRA3D',\n",
       " 'ACBD7-DCLRE1CP1',\n",
       " 'KTCN6',\n",
       " 'RPS10P12',\n",
       " 'TRH-GTG1-6',\n",
       " 'RNY4P4',\n",
       " 'DEL4Q21',\n",
       " 'COX1',\n",
       " 'MRPS21P4',\n",
       " 'RPL28P4',\n",
       " 'RPL19P12',\n",
       " 'TRUND-NNN7-1',\n",
       " 'MRT11',\n",
       " 'GTF2IP10',\n",
       " 'ERVW-26',\n",
       " 'ORI343',\n",
       " 'PIRC77',\n",
       " 'HMGB3P28',\n",
       " 'RN7SL92P',\n",
       " 'RPL39P24',\n",
       " 'TRP-AGG1-1',\n",
       " 'ERVW-6',\n",
       " 'AUTS6',\n",
       " 'MTCO2P28',\n",
       " 'RPL34P25',\n",
       " 'CYCSP3',\n",
       " 'SSBP3P6',\n",
       " 'ST13P1',\n",
       " 'MEP1AP2',\n",
       " 'RNU1-152P',\n",
       " 'SF',\n",
       " 'TRUND-NNN10-1',\n",
       " 'ATRIP-TREX1',\n",
       " 'SNORD77',\n",
       " 'MRX23',\n",
       " 'ATOD3',\n",
       " 'TRE-TTC6-1',\n",
       " 'SBE2',\n",
       " 'PIRC86',\n",
       " 'HOXBLINC',\n",
       " 'DELXP11.3',\n",
       " 'DFNA24',\n",
       " 'MTRNR2L7',\n",
       " 'MTND6P30',\n",
       " 'DYT13',\n",
       " 'GUK2',\n",
       " 'BVR1',\n",
       " 'MIR12129',\n",
       " 'MTRNR2L11',\n",
       " 'FRA19A',\n",
       " 'ERVW-20',\n",
       " 'CMD1B',\n",
       " 'LL0XNC01-250H12.3',\n",
       " 'GCSAML-AS1',\n",
       " 'CCT6P5',\n",
       " 'DEL3PTERP25',\n",
       " 'MTMR9P1',\n",
       " 'GCCD3',\n",
       " 'TRQ-TTG5-1',\n",
       " 'NAGPA-AS1',\n",
       " 'RPS6P10',\n",
       " 'CH507-42P11.6',\n",
       " 'RPLP2P3',\n",
       " 'PIRC68',\n",
       " 'MICOS10P1',\n",
       " 'HHC2:066683',\n",
       " 'RDPA',\n",
       " 'VVS',\n",
       " 'TRT-AGT3-1',\n",
       " 'PDON2',\n",
       " 'DYZ1L10',\n",
       " 'IHPS5',\n",
       " 'MOCS3P2',\n",
       " 'FTLP9',\n",
       " 'CAMPD1',\n",
       " 'AHCYP6',\n",
       " 'CFM1',\n",
       " 'TRD-GTC2-7',\n",
       " 'RCHTS',\n",
       " 'VN2R13P',\n",
       " 'TST2',\n",
       " 'TRP-TGG3-5',\n",
       " 'RPL37AP4',\n",
       " 'CTRCT25',\n",
       " 'CDRT5',\n",
       " 'CDRT13',\n",
       " 'RPSAP30',\n",
       " 'TRP-AGG2-6',\n",
       " 'FAM153B',\n",
       " 'STQTL16',\n",
       " 'DYT17',\n",
       " 'ERVI-1',\n",
       " 'TRK-TTT17-1',\n",
       " 'HNRNPRP3',\n",
       " 'ITGAEP1',\n",
       " 'DEL8Q21.11',\n",
       " 'AITD2',\n",
       " 'ST11',\n",
       " 'SPAX3',\n",
       " 'TRL-CAG1-3',\n",
       " 'OCIAD2P1',\n",
       " 'GOLGA6L12P',\n",
       " 'MIR12117',\n",
       " 'PTMAP13',\n",
       " 'RPL39P20',\n",
       " 'SPESP1-NOX5',\n",
       " 'BAGE',\n",
       " 'RPS26P53',\n",
       " 'TRN-GTT2-3',\n",
       " 'AFF1-AS1',\n",
       " 'LINC00673',\n",
       " 'BWQTL4',\n",
       " 'MRT30',\n",
       " 'RCM2',\n",
       " 'PTLAH',\n",
       " 'PFHB2',\n",
       " 'CRE2',\n",
       " 'MRXSBWB',\n",
       " 'OTSC1',\n",
       " 'rrn16',\n",
       " 'TRA-AGC21-1',\n",
       " 'MPVQTL1',\n",
       " 'ERVK9-5',\n",
       " 'IV',\n",
       " 'RPLP1P7',\n",
       " 'PWAR4',\n",
       " 'RNA18SN2',\n",
       " 'TRG-TCC2-3',\n",
       " 'GFND1',\n",
       " 'TRL-CAA5-1',\n",
       " 'VN1R59P',\n",
       " 'DPPA5P3',\n",
       " 'FRA13D',\n",
       " 'SCA9',\n",
       " 'DUPXP11.22',\n",
       " 'HDLCQ1',\n",
       " 'GNG5P4',\n",
       " 'MBS2',\n",
       " 'MPV17L-BMERB1',\n",
       " 'TRS-CGA4-1',\n",
       " 'RPLP1P4',\n",
       " 'MHAC',\n",
       " 'RP22',\n",
       " 'TRQ-TTG3-2',\n",
       " 'TRG-GCC1-3',\n",
       " 'TRA-TGC3-1',\n",
       " 'TRA',\n",
       " 'MBNP',\n",
       " 'MS',\n",
       " 'RNY5P4',\n",
       " 'ERVW-2',\n",
       " 'HHC2:066522',\n",
       " 'CANT1P1',\n",
       " 'USP10P3',\n",
       " 'RPS2P9',\n",
       " 'CYP2C64P',\n",
       " 'ERVW-25',\n",
       " 'RPS17P16',\n",
       " 'CILD8',\n",
       " 'FGFR3P3',\n",
       " 'RCAN3AS',\n",
       " 'RPL27P4',\n",
       " 'PEG3-AS1',\n",
       " 'RBMY2SP',\n",
       " 'LINC00560',\n",
       " 'NIDDM1',\n",
       " 'TRNQ',\n",
       " 'RN7SL671P',\n",
       " 'SNORA112',\n",
       " 'FGQTL1',\n",
       " 'RPL19P3',\n",
       " 'FRA10G',\n",
       " 'SNAR-A1',\n",
       " 'HBB-HS-107',\n",
       " 'RPL37AP5',\n",
       " 'HOXA10-HOXA9',\n",
       " 'SNAR-H',\n",
       " 'PHOBS',\n",
       " 'TRK-CTT6-1',\n",
       " 'PET117P1',\n",
       " 'TRG-CCC3-1',\n",
       " 'RPS11P3',\n",
       " 'RPS6P18',\n",
       " 'MGCT',\n",
       " 'FAM86B2-DT',\n",
       " 'HEY',\n",
       " 'FEB5',\n",
       " 'RNA45S1',\n",
       " 'MTATP6P28',\n",
       " 'CYP4F61P',\n",
       " 'BCC6',\n",
       " 'FRA9E',\n",
       " 'TRY-GTA5-1',\n",
       " 'OR10V7P',\n",
       " 'IGHV3-30-5',\n",
       " 'IDDM6',\n",
       " 'LVNC2',\n",
       " 'PBC2',\n",
       " 'MIR11399',\n",
       " 'LINC01297-DUXAP10-NBEAP6',\n",
       " 'DEL1Q41Q42',\n",
       " 'SCAX3',\n",
       " 'TRD-GTC2-5',\n",
       " 'TRG-GCC4-1',\n",
       " 'SNORA107',\n",
       " 'RPS2P34',\n",
       " 'GSM1',\n",
       " 'RNU6-443P',\n",
       " 'TRA-CGC5-1',\n",
       " 'ERVW-15',\n",
       " 'PIRC60',\n",
       " 'EIG2',\n",
       " 'STQTL3',\n",
       " 'LAG5',\n",
       " 'CLUHP7',\n",
       " 'RP34',\n",
       " 'MENAQ2',\n",
       " 'MUHH2',\n",
       " 'MCI2',\n",
       " 'TRK-CTT2-3',\n",
       " 'UBA52P2',\n",
       " 'CDC27P9',\n",
       " 'RGS2-AS1',\n",
       " 'STQTL14',\n",
       " 'HTGH',\n",
       " 'TRP-CGG1-1',\n",
       " 'DIANPH',\n",
       " 'MTCO1P36',\n",
       " 'TRI-AAT9-1',\n",
       " 'PFM3',\n",
       " 'TRI-TAT2-1',\n",
       " 'ASD1',\n",
       " 'FRA1A',\n",
       " 'PSC',\n",
       " 'TRL-AAG1-2',\n",
       " 'ERVK3-8',\n",
       " 'LINC00268-2P',\n",
       " 'TS546',\n",
       " 'TRR-CCG2-1',\n",
       " 'MIR10226',\n",
       " 'RNY4P8',\n",
       " 'ZNF601P',\n",
       " 'SSX17P',\n",
       " 'FSHMD1B',\n",
       " 'RPS25P10',\n",
       " 'ERVH-7',\n",
       " 'TAS2R67P',\n",
       " 'HYSP3',\n",
       " 'ATOD6',\n",
       " 'ODS1',\n",
       " 'TJP1P1',\n",
       " 'BCC4',\n",
       " 'MTCO3P3',\n",
       " 'STT3A-AS1',\n",
       " 'JBS',\n",
       " 'BMND4',\n",
       " 'UAQTL3',\n",
       " 'WAKMAR1',\n",
       " 'TRL-AAG1-1',\n",
       " 'LRRC37A8P',\n",
       " 'RNU6-52P',\n",
       " 'MGC15885',\n",
       " 'TTTY28P',\n",
       " 'MTND5P44',\n",
       " 'TRA-AGC17-1',\n",
       " 'EA8',\n",
       " 'FRA4D',\n",
       " 'SLI3',\n",
       " 'TRX-CAT1-6',\n",
       " 'TRK-CTT8-1',\n",
       " 'FLJ13224',\n",
       " 'ASH2LP4',\n",
       " 'GAGE2C',\n",
       " 'EYCL1',\n",
       " 'ANKRD20A20P',\n",
       " 'SLEB4',\n",
       " 'ATD',\n",
       " 'RNR4',\n",
       " 'ZNF71-SMIM17',\n",
       " 'FRA4C',\n",
       " 'FTO-IT1',\n",
       " 'AD15',\n",
       " 'TRV-CAC9-1',\n",
       " 'ENTPD3-AS1',\n",
       " 'NEK2P3',\n",
       " 'AUTS1',\n",
       " 'CDY21P',\n",
       " 'ERVK-15',\n",
       " 'ERVK9-3',\n",
       " 'FECD7',\n",
       " 'IMPDH1P1',\n",
       " 'RPL35P7',\n",
       " 'SNORD156',\n",
       " 'TRG-CCC5-1',\n",
       " 'ERVW-11',\n",
       " 'TRD-GTC7-1',\n",
       " 'SNORD153',\n",
       " 'RPS20P6',\n",
       " 'SUZ12P2',\n",
       " 'AIS2',\n",
       " 'TRP-CGG1-3',\n",
       " 'RPS17P3',\n",
       " 'ASRT8',\n",
       " 'SNORD3K',\n",
       " 'OSTCP7',\n",
       " 'MIR570HG',\n",
       " 'MRXS17',\n",
       " 'ENDO1',\n",
       " 'RP24',\n",
       " 'NMLFS',\n",
       " 'C2orf69P5',\n",
       " 'HCG4P7',\n",
       " 'TRD-GTC3-1',\n",
       " 'RNA18SP5',\n",
       " 'SRRM1P1',\n",
       " 'IGL',\n",
       " 'HHC2:066644',\n",
       " 'RPS12P22',\n",
       " 'NACAP9',\n",
       " 'ATFB2',\n",
       " 'bA255A11.4',\n",
       " 'PARGP1-AGAP4',\n",
       " 'AN',\n",
       " 'SPG38',\n",
       " 'PAX6DRR',\n",
       " 'PCAP',\n",
       " 'FRA1G',\n",
       " 'FRA4A',\n",
       " 'TRI-AAT3-1',\n",
       " 'HMGN1P25',\n",
       " 'ZNF884P',\n",
       " 'PKD1P4-NPIPA8',\n",
       " 'APOBEC3A_B',\n",
       " 'HMGN1P23',\n",
       " 'GLYS1',\n",
       " 'PSIP1P2',\n",
       " 'RPS6P6',\n",
       " 'DUX4L49',\n",
       " 'RPS10P1',\n",
       " 'PCMTD1P5',\n",
       " 'MARK2P1',\n",
       " 'AMCX5',\n",
       " 'FRA1H',\n",
       " 'TRN-GTT20-1',\n",
       " 'CYP4F45P',\n",
       " 'SUCLG2P1',\n",
       " 'RIEG2',\n",
       " 'RPL34P2',\n",
       " 'BCYRN1P1',\n",
       " 'BMND14',\n",
       " 'RPS26P14',\n",
       " 'SRSF10P2',\n",
       " 'TRE-TTC15-1',\n",
       " 'KLF17P2',\n",
       " 'FRA13A',\n",
       " 'ND1',\n",
       " 'IBD15',\n",
       " 'FSIP2-AS2',\n",
       " 'SUSD2P1',\n",
       " 'TRF-GAA1-4',\n",
       " 'RNA5-8S2',\n",
       " 'CTRCT35',\n",
       " 'SCAR3',\n",
       " 'TRA-TGC2-1',\n",
       " 'HPV18I1',\n",
       " 'trnT',\n",
       " 'ALPQTL4',\n",
       " 'RPL39P11',\n",
       " 'SPG36',\n",
       " 'RNY5P8',\n",
       " 'TRN-GTT6-1',\n",
       " 'PHF2P1',\n",
       " 'NBLST5',\n",
       " 'HHC2:065944',\n",
       " 'BMND13',\n",
       " 'GS1-279B7.1',\n",
       " 'LINC00312',\n",
       " 'ISCA1P7',\n",
       " 'RPL37AP7',\n",
       " 'CKBE',\n",
       " 'ST13P9',\n",
       " 'LINC01617',\n",
       " 'CUP2Q35',\n",
       " 'FLJ43315',\n",
       " 'MYCLP3',\n",
       " 'RPS15P8',\n",
       " 'EPCART',\n",
       " 'SNAR-F',\n",
       " 'PIRC78',\n",
       " 'ERV18-1',\n",
       " 'LINC01799',\n",
       " 'ARSC2',\n",
       " 'SNORA119',\n",
       " 'RPS5P4',\n",
       " 'RRIS',\n",
       " 'TRV-CAC4-1',\n",
       " 'SNAR-B2',\n",
       " 'OR11J1P',\n",
       " 'BFIS1',\n",
       " 'RPS26P33',\n",
       " 'RPL26P24',\n",
       " 'VIM2P',\n",
       " 'CFAP144P1',\n",
       " 'RNVU1-20',\n",
       " 'HHC2:067347',\n",
       " 'SNORD142',\n",
       " 'CDY16P',\n",
       " 'ADCP1',\n",
       " 'BHD',\n",
       " 'MIR10392',\n",
       " 'SLED1',\n",
       " 'RPL27P3',\n",
       " 'RBPJP1',\n",
       " 'GEFSP4',\n",
       " 'LMPH1B',\n",
       " 'NONOP1',\n",
       " 'RPS2P47',\n",
       " 'TRC-GCA9-2',\n",
       " 'DFNA33',\n",
       " 'LINC01930',\n",
       " 'TRY-GTA5-4',\n",
       " 'SOGA3-KIAA0408',\n",
       " 'EIF2AP3',\n",
       " 'VN1R98P',\n",
       " 'TRK-CTT2-2',\n",
       " 'AFA',\n",
       " 'DFNB27',\n",
       " 'NDUFB3P4',\n",
       " 'RPS20P18',\n",
       " 'SNX18P18',\n",
       " 'TRQ-CTG1-1',\n",
       " 'SNORD3I',\n",
       " 'WTAPP2',\n",
       " 'HCG4P2',\n",
       " 'TRL-AAG2-4',\n",
       " 'MIR381HG',\n",
       " 'ERVW-18',\n",
       " 'SERF2-C15ORF63',\n",
       " 'HCG4P5',\n",
       " 'MS3',\n",
       " 'SNORD3P4',\n",
       " 'TRY-GTA7-1',\n",
       " 'LALL',\n",
       " 'PIRC80',\n",
       " 'OBHP',\n",
       " 'SNORD135',\n",
       " 'PHF5AP2',\n",
       " 'SNORD150',\n",
       " 'PAPA5',\n",
       " 'TRP-AGG4-1',\n",
       " 'DFNB14',\n",
       " 'RBMY2VP',\n",
       " 'GLC3C',\n",
       " 'PVOP2',\n",
       " 'ADHD4',\n",
       " 'SNORD13F',\n",
       " 'PTS-P1',\n",
       " 'RPL13P13',\n",
       " 'MTND5P46',\n",
       " 'RPS5P1',\n",
       " 'ERVH-6',\n",
       " '12S rRNA',\n",
       " 'STQTL13',\n",
       " 'IGHV3OR16-14',\n",
       " 'MORF4L1P2',\n",
       " 'HYT5',\n",
       " 'SNORD168',\n",
       " 'LAKLG',\n",
       " 'IGSF6-DREV1',\n",
       " 'SCGB2B1P',\n",
       " 'CRSP5',\n",
       " 'EA7',\n",
       " 'DEL19Q13.11',\n",
       " 'LINC00444',\n",
       " 'ADHD1',\n",
       " 'DA4',\n",
       " 'TRP-CGG1-2',\n",
       " 'KTCN2',\n",
       " 'TRV-CAC1-6',\n",
       " 'VASH1-AS1',\n",
       " 'GPR165P',\n",
       " 'XS',\n",
       " 'RPS12P13',\n",
       " 'TS13',\n",
       " 'CRCS11',\n",
       " 'HSR',\n",
       " 'CORD1',\n",
       " 'RNY4P5',\n",
       " 'SNAR-A4',\n",
       " 'RPS15AP26',\n",
       " 'GLC1N',\n",
       " 'FRA2B',\n",
       " 'SSBP3P4',\n",
       " 'NOA3',\n",
       " 'SNX18P20',\n",
       " 'LINC00260',\n",
       " 'TRE-CTC1-4',\n",
       " 'CCV',\n",
       " 'CRCS2',\n",
       " 'MTCO1P33',\n",
       " 'SAI1',\n",
       " 'D6S207E',\n",
       " 'MTCO2P13',\n",
       " 'HSPC102',\n",
       " 'CNE9',\n",
       " 'ERVK11-1',\n",
       " 'DRC12',\n",
       " 'RPL18P4',\n",
       " 'DFNB40',\n",
       " 'FRA5A',\n",
       " 'MTND1P13',\n",
       " 'DEL17Q23.1Q23.2',\n",
       " 'OFC9',\n",
       " 'ERVW-7',\n",
       " 'TRV-TAC3-1',\n",
       " 'HCA1',\n",
       " 'VN1R41P',\n",
       " 'SNORD75',\n",
       " 'TRI-AAT5-1',\n",
       " 'CDC27P10',\n",
       " 'MYP19',\n",
       " 'ARHI2',\n",
       " 'FRA18B',\n",
       " 'NYS2',\n",
       " 'DFNA49',\n",
       " 'TRF-GAA1-2',\n",
       " 'ND2',\n",
       " 'RPS12P8',\n",
       " 'PIRC34',\n",
       " 'SLC39A1P1',\n",
       " 'IGLJ',\n",
       " 'SNAR-D',\n",
       " 'MRXS32',\n",
       " 'KC6',\n",
       " 'MIR12118',\n",
       " 'SNX18P15',\n",
       " 'MTCO1P16',\n",
       " 'MYP16',\n",
       " 'ERVW-19',\n",
       " 'TRK-TTT11-1',\n",
       " 'H19-ICR',\n",
       " 'RN7SL6P',\n",
       " 'OCTN3',\n",
       " 'SNORD3F',\n",
       " 'RPS5P5',\n",
       " 'RPS19P2',\n",
       " 'MTBS2',\n",
       " 'RPL13P11',\n",
       " 'RLS7',\n",
       " 'LNCR3',\n",
       " 'GLM4',\n",
       " 'FRA9F',\n",
       " 'MYP18',\n",
       " 'RPL21P102',\n",
       " 'RPL18AP11',\n",
       " 'HYT8',\n",
       " 'MTND2P34',\n",
       " 'FRA18C',\n",
       " 'TRW-CCA6-1',\n",
       " 'CND',\n",
       " 'FEB1',\n",
       " 'TRY-GTA3-1',\n",
       " 'DYX8',\n",
       " 'TRC-GCA13-1',\n",
       " 'SMAJ',\n",
       " 'TRK-CTT4-1',\n",
       " 'CELIAC2',\n",
       " 'FRA16D',\n",
       " 'RWDD1P3',\n",
       " 'FECD5',\n",
       " 'TRQ-TTG10-1',\n",
       " 'TRQ-CTG3-2',\n",
       " 'RPY',\n",
       " 'PAX6-AS1',\n",
       " 'TRE-TTC10-1',\n",
       " 'LIN28AP3',\n",
       " 'MGC32805',\n",
       " 'VN1R29P',\n",
       " 'DACOR1',\n",
       " 'TRE-CTC16-1',\n",
       " 'MGC34796',\n",
       " 'RPL18P8',\n",
       " 'RNA45SN5',\n",
       " 'TRNAI-AAU',\n",
       " 'SLC19A4P',\n",
       " 'TRS-TGA1-1',\n",
       " 'TRA-AGC14-2',\n",
       " 'PCNAP2',\n",
       " 'GPR75-ASB3',\n",
       " 'MRXS12',\n",
       " 'GOLGA6L13P',\n",
       " 'ERVFC1',\n",
       " 'TRQ-TTG7-1',\n",
       " 'TILAM',\n",
       " 'TRE-TTC1-1',\n",
       " 'VV',\n",
       " 'ZPAXP',\n",
       " 'AK2P1',\n",
       " 'NMTRQ-TTG3-1',\n",
       " 'GINGF2',\n",
       " 'SNAR-C2',\n",
       " 'ERVPABLB-1',\n",
       " 'CLLS3',\n",
       " 'CPAT1',\n",
       " 'TRC-GCA16-1',\n",
       " 'NUDT21P1',\n",
       " 'NMTRL-TAA3-1',\n",
       " 'ZNF726P1',\n",
       " 'DIRC3-AS1',\n",
       " 'BNIP3P12',\n",
       " 'FGFR3P2',\n",
       " 'IBD2',\n",
       " 'VN1R72P',\n",
       " 'NMTRQ-TTG9-1',\n",
       " 'HPV18I2',\n",
       " 'MPVQTL5',\n",
       " 'VN1R22P',\n",
       " 'NAFLD1',\n",
       " 'LINC00302',\n",
       " 'RNA28S3',\n",
       " 'GCASPC',\n",
       " 'FRA2E',\n",
       " 'RPL9P24',\n",
       " 'FGS5',\n",
       " 'RPL11P2',\n",
       " 'HBB-LCR',\n",
       " 'OFC14',\n",
       " 'IHPS2',\n",
       " 'RPL34P15',\n",
       " 'PSMC6P1',\n",
       " 'RNY5P3',\n",
       " 'LINC02797',\n",
       " 'FRA10F',\n",
       " 'RPL34P4',\n",
       " 'TRA-TGC8-1',\n",
       " 'TRS-GCT4-2',\n",
       " 'RPL18AP6',\n",
       " 'MRPS36P6',\n",
       " 'MRT29',\n",
       " 'SNAR-A3',\n",
       " 'NUP50P3',\n",
       " ...}"
      ]
     },
     "execution_count": 86,
     "metadata": {},
     "output_type": "execute_result"
    }
   ],
   "source": [
    "filtered_set"
   ]
  },
  {
   "cell_type": "markdown",
   "metadata": {},
   "source": [
    "### <a id='toc6_2_2_'></a>[How many unique symbols are found between all sources?](#toc0_)"
   ]
  },
  {
   "cell_type": "code",
   "execution_count": 87,
   "metadata": {},
   "outputs": [],
   "source": [
    "bw_all_sources_unique_primary_symbol_df = pd.concat(\n",
    "    [\n",
    "        mini_ensg_df[[\"alias_symbol\", \"gene_symbol\"]],\n",
    "        mini_hgnc_df[[\"alias_symbol\", \"gene_symbol\"]],\n",
    "        mini_ncbi_df[[\"alias_symbol\", \"gene_symbol\"]],\n",
    "    ]\n",
    ")"
   ]
  },
  {
   "cell_type": "code",
   "execution_count": 88,
   "metadata": {},
   "outputs": [
    {
     "data": {
      "text/plain": [
       "46952"
      ]
     },
     "execution_count": 88,
     "metadata": {},
     "output_type": "execute_result"
    }
   ],
   "source": [
    "bw_all_sources_unique_primary_symbol_set = set(bw_all_sources_unique_primary_symbol_df[\"gene_symbol\"])\n",
    "bw_all_sources_unique_primary_symbol_count = len(bw_all_sources_unique_primary_symbol_set)\n",
    "bw_all_sources_unique_primary_symbol_count"
   ]
  },
  {
   "cell_type": "markdown",
   "metadata": {},
   "source": [
    "# <a id='toc7_'></a>[How many unique aliases are there?](#toc0_)"
   ]
  },
  {
   "cell_type": "markdown",
   "metadata": {},
   "source": [
    "## <a id='toc7_1_'></a>[Per Source](#toc0_)"
   ]
  },
  {
   "cell_type": "markdown",
   "metadata": {},
   "source": [
    "subset= excludes genes without aliases, duplicates of primary-alias pairs, instances where the primary gene symbol is an alias for that gene record. created in alias-primary_collision_analysis notebook"
   ]
  },
  {
   "cell_type": "code",
   "execution_count": 89,
   "metadata": {},
   "outputs": [
    {
     "data": {
      "text/html": [
       "<div>\n",
       "<style scoped>\n",
       "    .dataframe tbody tr th:only-of-type {\n",
       "        vertical-align: middle;\n",
       "    }\n",
       "\n",
       "    .dataframe tbody tr th {\n",
       "        vertical-align: top;\n",
       "    }\n",
       "\n",
       "    .dataframe thead th {\n",
       "        text-align: right;\n",
       "    }\n",
       "</style>\n",
       "<table border=\"1\" class=\"dataframe\">\n",
       "  <thead>\n",
       "    <tr style=\"text-align: right;\">\n",
       "      <th></th>\n",
       "      <th>ENSG_ID</th>\n",
       "      <th>gene_symbol</th>\n",
       "      <th>alias_symbol</th>\n",
       "      <th>HGNC_ID</th>\n",
       "      <th>NCBI_ID</th>\n",
       "    </tr>\n",
       "  </thead>\n",
       "  <tbody>\n",
       "    <tr>\n",
       "      <th>0</th>\n",
       "      <td>ENSG00000210049</td>\n",
       "      <td>MT-TF</td>\n",
       "      <td>MTTF</td>\n",
       "      <td>7481.0</td>\n",
       "      <td>NaN</td>\n",
       "    </tr>\n",
       "    <tr>\n",
       "      <th>1</th>\n",
       "      <td>ENSG00000210049</td>\n",
       "      <td>MT-TF</td>\n",
       "      <td>TRNF</td>\n",
       "      <td>7481.0</td>\n",
       "      <td>NaN</td>\n",
       "    </tr>\n",
       "    <tr>\n",
       "      <th>2</th>\n",
       "      <td>ENSG00000211459</td>\n",
       "      <td>MT-RNR1</td>\n",
       "      <td>12S</td>\n",
       "      <td>7470.0</td>\n",
       "      <td>NaN</td>\n",
       "    </tr>\n",
       "    <tr>\n",
       "      <th>3</th>\n",
       "      <td>ENSG00000211459</td>\n",
       "      <td>MT-RNR1</td>\n",
       "      <td>MOTS-C</td>\n",
       "      <td>7470.0</td>\n",
       "      <td>NaN</td>\n",
       "    </tr>\n",
       "    <tr>\n",
       "      <th>4</th>\n",
       "      <td>ENSG00000211459</td>\n",
       "      <td>MT-RNR1</td>\n",
       "      <td>MTRNR1</td>\n",
       "      <td>7470.0</td>\n",
       "      <td>NaN</td>\n",
       "    </tr>\n",
       "    <tr>\n",
       "      <th>...</th>\n",
       "      <td>...</td>\n",
       "      <td>...</td>\n",
       "      <td>...</td>\n",
       "      <td>...</td>\n",
       "      <td>...</td>\n",
       "    </tr>\n",
       "    <tr>\n",
       "      <th>117133</th>\n",
       "      <td>ENSG00000232679</td>\n",
       "      <td>LINC01705</td>\n",
       "      <td>ERLR</td>\n",
       "      <td>52493.0</td>\n",
       "      <td>105372950.0</td>\n",
       "    </tr>\n",
       "    <tr>\n",
       "      <th>117134</th>\n",
       "      <td>ENSG00000232679</td>\n",
       "      <td>LINC01705</td>\n",
       "      <td>RP11-400N13.3</td>\n",
       "      <td>52493.0</td>\n",
       "      <td>105372950.0</td>\n",
       "    </tr>\n",
       "    <tr>\n",
       "      <th>117136</th>\n",
       "      <td>ENSG00000228437</td>\n",
       "      <td>LINC02474</td>\n",
       "      <td>LNCSLCC1</td>\n",
       "      <td>53417.0</td>\n",
       "      <td>NaN</td>\n",
       "    </tr>\n",
       "    <tr>\n",
       "      <th>117137</th>\n",
       "      <td>ENSG00000228437</td>\n",
       "      <td>LINC02474</td>\n",
       "      <td>RP11-400N13.2</td>\n",
       "      <td>53417.0</td>\n",
       "      <td>NaN</td>\n",
       "    </tr>\n",
       "    <tr>\n",
       "      <th>117138</th>\n",
       "      <td>ENSG00000229463</td>\n",
       "      <td>LYST-AS1</td>\n",
       "      <td>LYST-IT2</td>\n",
       "      <td>41320.0</td>\n",
       "      <td>NaN</td>\n",
       "    </tr>\n",
       "  </tbody>\n",
       "</table>\n",
       "<p>57275 rows × 5 columns</p>\n",
       "</div>"
      ],
      "text/plain": [
       "                ENSG_ID gene_symbol   alias_symbol  HGNC_ID      NCBI_ID\n",
       "0       ENSG00000210049       MT-TF           MTTF   7481.0          NaN\n",
       "1       ENSG00000210049       MT-TF           TRNF   7481.0          NaN\n",
       "2       ENSG00000211459     MT-RNR1            12S   7470.0          NaN\n",
       "3       ENSG00000211459     MT-RNR1         MOTS-C   7470.0          NaN\n",
       "4       ENSG00000211459     MT-RNR1         MTRNR1   7470.0          NaN\n",
       "...                 ...         ...            ...      ...          ...\n",
       "117133  ENSG00000232679   LINC01705           ERLR  52493.0  105372950.0\n",
       "117134  ENSG00000232679   LINC01705  RP11-400N13.3  52493.0  105372950.0\n",
       "117136  ENSG00000228437   LINC02474       LNCSLCC1  53417.0          NaN\n",
       "117137  ENSG00000228437   LINC02474  RP11-400N13.2  53417.0          NaN\n",
       "117138  ENSG00000229463    LYST-AS1       LYST-IT2  41320.0          NaN\n",
       "\n",
       "[57275 rows x 5 columns]"
      ]
     },
     "execution_count": 89,
     "metadata": {},
     "output_type": "execute_result"
    }
   ],
   "source": [
    "subset_genes_ensg_df = pd.read_csv(\n",
    "    \"../output/subset_genes_ensg_df.csv\", index_col=[0])\n",
    "subset_genes_ensg_df"
   ]
  },
  {
   "cell_type": "code",
   "execution_count": 90,
   "metadata": {},
   "outputs": [
    {
     "data": {
      "text/html": [
       "<div>\n",
       "<style scoped>\n",
       "    .dataframe tbody tr th:only-of-type {\n",
       "        vertical-align: middle;\n",
       "    }\n",
       "\n",
       "    .dataframe tbody tr th {\n",
       "        vertical-align: top;\n",
       "    }\n",
       "\n",
       "    .dataframe thead th {\n",
       "        text-align: right;\n",
       "    }\n",
       "</style>\n",
       "<table border=\"1\" class=\"dataframe\">\n",
       "  <thead>\n",
       "    <tr style=\"text-align: right;\">\n",
       "      <th></th>\n",
       "      <th>HGNC_ID</th>\n",
       "      <th>alias_symbol</th>\n",
       "      <th>NCBI_ID</th>\n",
       "      <th>ENSG_ID</th>\n",
       "      <th>gene_symbol</th>\n",
       "    </tr>\n",
       "  </thead>\n",
       "  <tbody>\n",
       "    <tr>\n",
       "      <th>1</th>\n",
       "      <td>37133</td>\n",
       "      <td>FLJ23569</td>\n",
       "      <td>503538.0</td>\n",
       "      <td>ENSG00000268895</td>\n",
       "      <td>A1BG-AS1</td>\n",
       "    </tr>\n",
       "    <tr>\n",
       "      <th>2</th>\n",
       "      <td>24086</td>\n",
       "      <td>ACF</td>\n",
       "      <td>29974.0</td>\n",
       "      <td>ENSG00000148584</td>\n",
       "      <td>A1CF</td>\n",
       "    </tr>\n",
       "    <tr>\n",
       "      <th>3</th>\n",
       "      <td>24086</td>\n",
       "      <td>ASP</td>\n",
       "      <td>29974.0</td>\n",
       "      <td>ENSG00000148584</td>\n",
       "      <td>A1CF</td>\n",
       "    </tr>\n",
       "    <tr>\n",
       "      <th>4</th>\n",
       "      <td>24086</td>\n",
       "      <td>ACF64</td>\n",
       "      <td>29974.0</td>\n",
       "      <td>ENSG00000148584</td>\n",
       "      <td>A1CF</td>\n",
       "    </tr>\n",
       "    <tr>\n",
       "      <th>5</th>\n",
       "      <td>24086</td>\n",
       "      <td>ACF65</td>\n",
       "      <td>29974.0</td>\n",
       "      <td>ENSG00000148584</td>\n",
       "      <td>A1CF</td>\n",
       "    </tr>\n",
       "    <tr>\n",
       "      <th>...</th>\n",
       "      <td>...</td>\n",
       "      <td>...</td>\n",
       "      <td>...</td>\n",
       "      <td>...</td>\n",
       "      <td>...</td>\n",
       "    </tr>\n",
       "    <tr>\n",
       "      <th>67578</th>\n",
       "      <td>29027</td>\n",
       "      <td>KIAA0399</td>\n",
       "      <td>23140.0</td>\n",
       "      <td>ENSG00000074755</td>\n",
       "      <td>ZZEF1</td>\n",
       "    </tr>\n",
       "    <tr>\n",
       "      <th>67579</th>\n",
       "      <td>29027</td>\n",
       "      <td>ZZZ4</td>\n",
       "      <td>23140.0</td>\n",
       "      <td>ENSG00000074755</td>\n",
       "      <td>ZZEF1</td>\n",
       "    </tr>\n",
       "    <tr>\n",
       "      <th>67580</th>\n",
       "      <td>29027</td>\n",
       "      <td>FLJ10821</td>\n",
       "      <td>23140.0</td>\n",
       "      <td>ENSG00000074755</td>\n",
       "      <td>ZZEF1</td>\n",
       "    </tr>\n",
       "    <tr>\n",
       "      <th>67581</th>\n",
       "      <td>24523</td>\n",
       "      <td>DKFZP564I052</td>\n",
       "      <td>26009.0</td>\n",
       "      <td>ENSG00000036549</td>\n",
       "      <td>ZZZ3</td>\n",
       "    </tr>\n",
       "    <tr>\n",
       "      <th>67582</th>\n",
       "      <td>24523</td>\n",
       "      <td>ATAC1</td>\n",
       "      <td>26009.0</td>\n",
       "      <td>ENSG00000036549</td>\n",
       "      <td>ZZZ3</td>\n",
       "    </tr>\n",
       "  </tbody>\n",
       "</table>\n",
       "<p>44542 rows × 5 columns</p>\n",
       "</div>"
      ],
      "text/plain": [
       "       HGNC_ID  alias_symbol   NCBI_ID          ENSG_ID gene_symbol\n",
       "1        37133      FLJ23569  503538.0  ENSG00000268895    A1BG-AS1\n",
       "2        24086           ACF   29974.0  ENSG00000148584        A1CF\n",
       "3        24086           ASP   29974.0  ENSG00000148584        A1CF\n",
       "4        24086         ACF64   29974.0  ENSG00000148584        A1CF\n",
       "5        24086         ACF65   29974.0  ENSG00000148584        A1CF\n",
       "...        ...           ...       ...              ...         ...\n",
       "67578    29027      KIAA0399   23140.0  ENSG00000074755       ZZEF1\n",
       "67579    29027          ZZZ4   23140.0  ENSG00000074755       ZZEF1\n",
       "67580    29027      FLJ10821   23140.0  ENSG00000074755       ZZEF1\n",
       "67581    24523  DKFZP564I052   26009.0  ENSG00000036549        ZZZ3\n",
       "67582    24523         ATAC1   26009.0  ENSG00000036549        ZZZ3\n",
       "\n",
       "[44542 rows x 5 columns]"
      ]
     },
     "execution_count": 90,
     "metadata": {},
     "output_type": "execute_result"
    }
   ],
   "source": [
    "subset_genes_hgnc_df = pd.read_csv(\n",
    "    \"../output/subset_genes_hgnc_df.csv\", index_col=[0])\n",
    "subset_genes_hgnc_df"
   ]
  },
  {
   "cell_type": "code",
   "execution_count": 91,
   "metadata": {},
   "outputs": [
    {
     "data": {
      "text/html": [
       "<div>\n",
       "<style scoped>\n",
       "    .dataframe tbody tr th:only-of-type {\n",
       "        vertical-align: middle;\n",
       "    }\n",
       "\n",
       "    .dataframe tbody tr th {\n",
       "        vertical-align: top;\n",
       "    }\n",
       "\n",
       "    .dataframe thead th {\n",
       "        text-align: right;\n",
       "    }\n",
       "</style>\n",
       "<table border=\"1\" class=\"dataframe\">\n",
       "  <thead>\n",
       "    <tr style=\"text-align: right;\">\n",
       "      <th></th>\n",
       "      <th>NCBI_ID</th>\n",
       "      <th>gene_symbol</th>\n",
       "      <th>alias_symbol</th>\n",
       "      <th>HGNC_ID</th>\n",
       "      <th>ENSG_ID</th>\n",
       "    </tr>\n",
       "  </thead>\n",
       "  <tbody>\n",
       "    <tr>\n",
       "      <th>0</th>\n",
       "      <td>1</td>\n",
       "      <td>A1BG</td>\n",
       "      <td>A1B</td>\n",
       "      <td>5.0</td>\n",
       "      <td>ENSG00000121410</td>\n",
       "    </tr>\n",
       "    <tr>\n",
       "      <th>0</th>\n",
       "      <td>1</td>\n",
       "      <td>A1BG</td>\n",
       "      <td>ABG</td>\n",
       "      <td>5.0</td>\n",
       "      <td>ENSG00000121410</td>\n",
       "    </tr>\n",
       "    <tr>\n",
       "      <th>0</th>\n",
       "      <td>1</td>\n",
       "      <td>A1BG</td>\n",
       "      <td>GAB</td>\n",
       "      <td>5.0</td>\n",
       "      <td>ENSG00000121410</td>\n",
       "    </tr>\n",
       "    <tr>\n",
       "      <th>0</th>\n",
       "      <td>1</td>\n",
       "      <td>A1BG</td>\n",
       "      <td>HYST2477</td>\n",
       "      <td>5.0</td>\n",
       "      <td>ENSG00000121410</td>\n",
       "    </tr>\n",
       "    <tr>\n",
       "      <th>1</th>\n",
       "      <td>2</td>\n",
       "      <td>A2M</td>\n",
       "      <td>A2MD</td>\n",
       "      <td>7.0</td>\n",
       "      <td>ENSG00000175899</td>\n",
       "    </tr>\n",
       "    <tr>\n",
       "      <th>...</th>\n",
       "      <td>...</td>\n",
       "      <td>...</td>\n",
       "      <td>...</td>\n",
       "      <td>...</td>\n",
       "      <td>...</td>\n",
       "    </tr>\n",
       "    <tr>\n",
       "      <th>190961</th>\n",
       "      <td>131840634</td>\n",
       "      <td>GLTC1</td>\n",
       "      <td>GLTC</td>\n",
       "      <td>56861.0</td>\n",
       "      <td>NaN</td>\n",
       "    </tr>\n",
       "    <tr>\n",
       "      <th>193342</th>\n",
       "      <td>132532400</td>\n",
       "      <td>GABRA6-AS1</td>\n",
       "      <td>ARBAG</td>\n",
       "      <td>40248.0</td>\n",
       "      <td>NaN</td>\n",
       "    </tr>\n",
       "    <tr>\n",
       "      <th>193377</th>\n",
       "      <td>133395150</td>\n",
       "      <td>LNCARGI</td>\n",
       "      <td>ARGI</td>\n",
       "      <td>56890.0</td>\n",
       "      <td>NaN</td>\n",
       "    </tr>\n",
       "    <tr>\n",
       "      <th>193378</th>\n",
       "      <td>133834869</td>\n",
       "      <td>MLDHR</td>\n",
       "      <td>MP31</td>\n",
       "      <td>55481.0</td>\n",
       "      <td>NaN</td>\n",
       "    </tr>\n",
       "    <tr>\n",
       "      <th>193378</th>\n",
       "      <td>133834869</td>\n",
       "      <td>MLDHR</td>\n",
       "      <td>PTENURF</td>\n",
       "      <td>55481.0</td>\n",
       "      <td>NaN</td>\n",
       "    </tr>\n",
       "  </tbody>\n",
       "</table>\n",
       "<p>73829 rows × 5 columns</p>\n",
       "</div>"
      ],
      "text/plain": [
       "          NCBI_ID gene_symbol alias_symbol  HGNC_ID          ENSG_ID\n",
       "0               1        A1BG          A1B      5.0  ENSG00000121410\n",
       "0               1        A1BG          ABG      5.0  ENSG00000121410\n",
       "0               1        A1BG          GAB      5.0  ENSG00000121410\n",
       "0               1        A1BG     HYST2477      5.0  ENSG00000121410\n",
       "1               2         A2M         A2MD      7.0  ENSG00000175899\n",
       "...           ...         ...          ...      ...              ...\n",
       "190961  131840634       GLTC1         GLTC  56861.0              NaN\n",
       "193342  132532400  GABRA6-AS1        ARBAG  40248.0              NaN\n",
       "193377  133395150     LNCARGI         ARGI  56890.0              NaN\n",
       "193378  133834869       MLDHR         MP31  55481.0              NaN\n",
       "193378  133834869       MLDHR      PTENURF  55481.0              NaN\n",
       "\n",
       "[73829 rows x 5 columns]"
      ]
     },
     "execution_count": 91,
     "metadata": {},
     "output_type": "execute_result"
    }
   ],
   "source": [
    "subset_genes_ncbi_df = pd.read_csv(\n",
    "    \"../output/subset_genes_ncbi_df.csv\", index_col=[0])\n",
    "subset_genes_ncbi_df"
   ]
  },
  {
   "cell_type": "code",
   "execution_count": 92,
   "metadata": {},
   "outputs": [],
   "source": [
    "ensg_alias_symbol_set, ensg_alias_count = set(subset_genes_ensg_df[\"alias_symbol\"]), len(set(subset_genes_ensg_df[\"alias_symbol\"]))\n",
    "hgnc_alias_symbol_set, hgnc_alias_count = set(subset_genes_hgnc_df[\"alias_symbol\"]), len(set(subset_genes_hgnc_df[\"alias_symbol\"]))\n",
    "ncbi_alias_symbol_set, ncbi_alias_count = set(subset_genes_ncbi_df[\"alias_symbol\"]), len(set(subset_genes_ncbi_df[\"alias_symbol\"]))"
   ]
  },
  {
   "cell_type": "code",
   "execution_count": 93,
   "metadata": {},
   "outputs": [
    {
     "data": {
      "text/html": [
       "<div>\n",
       "<style scoped>\n",
       "    .dataframe tbody tr th:only-of-type {\n",
       "        vertical-align: middle;\n",
       "    }\n",
       "\n",
       "    .dataframe tbody tr th {\n",
       "        vertical-align: top;\n",
       "    }\n",
       "\n",
       "    .dataframe thead th {\n",
       "        text-align: right;\n",
       "    }\n",
       "</style>\n",
       "<table border=\"1\" class=\"dataframe\">\n",
       "  <thead>\n",
       "    <tr style=\"text-align: right;\">\n",
       "      <th></th>\n",
       "      <th>Number of Unique Aliases</th>\n",
       "    </tr>\n",
       "  </thead>\n",
       "  <tbody>\n",
       "    <tr>\n",
       "      <th>HGNC</th>\n",
       "      <td>55213</td>\n",
       "    </tr>\n",
       "    <tr>\n",
       "      <th>ENSG</th>\n",
       "      <td>42918</td>\n",
       "    </tr>\n",
       "    <tr>\n",
       "      <th>NCBI</th>\n",
       "      <td>68634</td>\n",
       "    </tr>\n",
       "  </tbody>\n",
       "</table>\n",
       "</div>"
      ],
      "text/plain": [
       "      Number of Unique Aliases\n",
       "HGNC                     55213\n",
       "ENSG                     42918\n",
       "NCBI                     68634"
      ]
     },
     "execution_count": 93,
     "metadata": {},
     "output_type": "execute_result"
    }
   ],
   "source": [
    "unique_alias_summary_index = \"HGNC\", \"ENSG\", \"NCBI\"\n",
    "unique_alias_summary = {\n",
    "    \"Number of Unique Aliases\": [\n",
    "        ensg_alias_count,\n",
    "        hgnc_alias_count,\n",
    "        ncbi_alias_count,\n",
    "    ]\n",
    "}\n",
    "unique_alias_summary_df = pd.DataFrame(\n",
    "    unique_alias_summary, index = unique_alias_summary_index\n",
    ")\n",
    "unique_alias_summary_df"
   ]
  },
  {
   "cell_type": "markdown",
   "metadata": {},
   "source": [
    "## <a id='toc7_2_'></a>[All sources](#toc0_)"
   ]
  },
  {
   "cell_type": "markdown",
   "metadata": {},
   "source": [
    "### <a id='toc7_2_1_'></a>[How many aliases appear in all sources?](#toc0_)"
   ]
  },
  {
   "cell_type": "code",
   "execution_count": 94,
   "metadata": {},
   "outputs": [
    {
     "data": {
      "text/plain": [
       "29983"
      ]
     },
     "execution_count": 94,
     "metadata": {},
     "output_type": "execute_result"
    }
   ],
   "source": [
    "all_sources_unique_alias_set = (\n",
    "    ensg_alias_symbol_set\n",
    "    & hgnc_alias_symbol_set\n",
    "    & ncbi_alias_symbol_set\n",
    ")\n",
    "all_sources_unique_alias_count = len(all_sources_unique_alias_set)\n",
    "all_sources_unique_alias_count"
   ]
  },
  {
   "cell_type": "markdown",
   "metadata": {},
   "source": [
    "### <a id='toc7_2_2_'></a>[How many unique aliases are found between all sources?](#toc0_)"
   ]
  },
  {
   "cell_type": "code",
   "execution_count": 95,
   "metadata": {},
   "outputs": [],
   "source": [
    "bw_all_sources_unique_alias_df = pd.concat(\n",
    "    [\n",
    "        subset_genes_ensg_df[[\"alias_symbol\", \"gene_symbol\"]],\n",
    "        subset_genes_hgnc_df[[\"alias_symbol\", \"gene_symbol\"]],\n",
    "        subset_genes_ncbi_df[[\"alias_symbol\", \"gene_symbol\"]],\n",
    "    ]\n",
    ")"
   ]
  },
  {
   "cell_type": "code",
   "execution_count": 96,
   "metadata": {},
   "outputs": [
    {
     "data": {
      "text/plain": [
       "81002"
      ]
     },
     "execution_count": 96,
     "metadata": {},
     "output_type": "execute_result"
    }
   ],
   "source": [
    "bw_all_sources_unique_alias_set = set(bw_all_sources_unique_alias_df[\"alias_symbol\"])\n",
    "bw_all_sources_unique_alias_count = len(bw_all_sources_unique_alias_set)\n",
    "bw_all_sources_unique_alias_count"
   ]
  },
  {
   "cell_type": "markdown",
   "metadata": {},
   "source": [
    "# <a id='toc8_'></a>[How many gene records have an alias that is shared?](#toc0_)"
   ]
  },
  {
   "cell_type": "markdown",
   "metadata": {},
   "source": [
    "## <a id='toc8_1_'></a>[Per Source](#toc0_)"
   ]
  },
  {
   "cell_type": "code",
   "execution_count": 97,
   "metadata": {},
   "outputs": [
    {
     "data": {
      "text/html": [
       "<div>\n",
       "<style scoped>\n",
       "    .dataframe tbody tr th:only-of-type {\n",
       "        vertical-align: middle;\n",
       "    }\n",
       "\n",
       "    .dataframe tbody tr th {\n",
       "        vertical-align: top;\n",
       "    }\n",
       "\n",
       "    .dataframe thead th {\n",
       "        text-align: right;\n",
       "    }\n",
       "</style>\n",
       "<table border=\"1\" class=\"dataframe\">\n",
       "  <thead>\n",
       "    <tr style=\"text-align: right;\">\n",
       "      <th></th>\n",
       "      <th>gene_symbol</th>\n",
       "      <th>alias_symbol</th>\n",
       "      <th>ENSG_ID</th>\n",
       "      <th>HGNC_ID</th>\n",
       "      <th>NCBI_ID</th>\n",
       "      <th>collision</th>\n",
       "      <th>source</th>\n",
       "    </tr>\n",
       "  </thead>\n",
       "  <tbody>\n",
       "    <tr>\n",
       "      <th>0</th>\n",
       "      <td>KLRG1</td>\n",
       "      <td>2F1,CLEC15A,MAFA,MAFA-L</td>\n",
       "      <td>ENSG00000139187</td>\n",
       "      <td>6380.0</td>\n",
       "      <td>10219.0</td>\n",
       "      <td>2F1</td>\n",
       "      <td>ENSG</td>\n",
       "    </tr>\n",
       "    <tr>\n",
       "      <th>1</th>\n",
       "      <td>SLC25A5</td>\n",
       "      <td>2F1,ANT2,T2,T3</td>\n",
       "      <td>ENSG00000005022</td>\n",
       "      <td>10991.0</td>\n",
       "      <td>292.0</td>\n",
       "      <td>2F1</td>\n",
       "      <td>ENSG</td>\n",
       "    </tr>\n",
       "    <tr>\n",
       "      <th>2</th>\n",
       "      <td>S100A8</td>\n",
       "      <td>60B8AG,CAGA,CFAG,CGLA,MRP-8,MRP8,P8,S100-A8</td>\n",
       "      <td>ENSG00000143546</td>\n",
       "      <td>10498.0</td>\n",
       "      <td>6279.0</td>\n",
       "      <td>60B8AG</td>\n",
       "      <td>ENSG</td>\n",
       "    </tr>\n",
       "    <tr>\n",
       "      <th>3</th>\n",
       "      <td>S100A9</td>\n",
       "      <td>60B8AG,CAGB,CFAG,CGLB,LIAG,MAC387,MIF,MRP-14,M...</td>\n",
       "      <td>ENSG00000163220</td>\n",
       "      <td>10499.0</td>\n",
       "      <td>6280.0</td>\n",
       "      <td>60B8AG</td>\n",
       "      <td>ENSG</td>\n",
       "    </tr>\n",
       "    <tr>\n",
       "      <th>4</th>\n",
       "      <td>GNAI3</td>\n",
       "      <td>87U6</td>\n",
       "      <td>ENSG00000065135</td>\n",
       "      <td>4387.0</td>\n",
       "      <td>2773.0</td>\n",
       "      <td>87U6</td>\n",
       "      <td>ENSG</td>\n",
       "    </tr>\n",
       "    <tr>\n",
       "      <th>...</th>\n",
       "      <td>...</td>\n",
       "      <td>...</td>\n",
       "      <td>...</td>\n",
       "      <td>...</td>\n",
       "      <td>...</td>\n",
       "      <td>...</td>\n",
       "      <td>...</td>\n",
       "    </tr>\n",
       "    <tr>\n",
       "      <th>3674</th>\n",
       "      <td>SLC30A10</td>\n",
       "      <td>DKFZP547M236,ZNT-10,ZNT10,ZNT8,ZRC1</td>\n",
       "      <td>ENSG00000196660</td>\n",
       "      <td>25355.0</td>\n",
       "      <td>55532.0</td>\n",
       "      <td>ZNT8</td>\n",
       "      <td>ENSG</td>\n",
       "    </tr>\n",
       "    <tr>\n",
       "      <th>3675</th>\n",
       "      <td>SLC30A10</td>\n",
       "      <td>DKFZP547M236,ZNT-10,ZNT10,ZNT8,ZRC1</td>\n",
       "      <td>ENSG00000196660</td>\n",
       "      <td>25355.0</td>\n",
       "      <td>55532.0</td>\n",
       "      <td>ZRC1</td>\n",
       "      <td>ENSG</td>\n",
       "    </tr>\n",
       "    <tr>\n",
       "      <th>3676</th>\n",
       "      <td>SLC30A1</td>\n",
       "      <td>ZNT1,ZRC1</td>\n",
       "      <td>ENSG00000170385</td>\n",
       "      <td>11012.0</td>\n",
       "      <td>7779.0</td>\n",
       "      <td>ZRC1</td>\n",
       "      <td>ENSG</td>\n",
       "    </tr>\n",
       "    <tr>\n",
       "      <th>3677</th>\n",
       "      <td>ZYG11B</td>\n",
       "      <td>FLJ13456,ZYG11</td>\n",
       "      <td>ENSG00000162378</td>\n",
       "      <td>25820.0</td>\n",
       "      <td>79699.0</td>\n",
       "      <td>ZYG11</td>\n",
       "      <td>ENSG</td>\n",
       "    </tr>\n",
       "    <tr>\n",
       "      <th>3678</th>\n",
       "      <td>ZYG11A</td>\n",
       "      <td>ZYG11</td>\n",
       "      <td>ENSG00000203995</td>\n",
       "      <td>32058.0</td>\n",
       "      <td>440590.0</td>\n",
       "      <td>ZYG11</td>\n",
       "      <td>ENSG</td>\n",
       "    </tr>\n",
       "  </tbody>\n",
       "</table>\n",
       "<p>3679 rows × 7 columns</p>\n",
       "</div>"
      ],
      "text/plain": [
       "     gene_symbol                                       alias_symbol  \\\n",
       "0          KLRG1                            2F1,CLEC15A,MAFA,MAFA-L   \n",
       "1        SLC25A5                                     2F1,ANT2,T2,T3   \n",
       "2         S100A8        60B8AG,CAGA,CFAG,CGLA,MRP-8,MRP8,P8,S100-A8   \n",
       "3         S100A9  60B8AG,CAGB,CFAG,CGLB,LIAG,MAC387,MIF,MRP-14,M...   \n",
       "4          GNAI3                                               87U6   \n",
       "...          ...                                                ...   \n",
       "3674    SLC30A10                DKFZP547M236,ZNT-10,ZNT10,ZNT8,ZRC1   \n",
       "3675    SLC30A10                DKFZP547M236,ZNT-10,ZNT10,ZNT8,ZRC1   \n",
       "3676     SLC30A1                                          ZNT1,ZRC1   \n",
       "3677      ZYG11B                                     FLJ13456,ZYG11   \n",
       "3678      ZYG11A                                              ZYG11   \n",
       "\n",
       "              ENSG_ID  HGNC_ID   NCBI_ID collision source  \n",
       "0     ENSG00000139187   6380.0   10219.0       2F1   ENSG  \n",
       "1     ENSG00000005022  10991.0     292.0       2F1   ENSG  \n",
       "2     ENSG00000143546  10498.0    6279.0    60B8AG   ENSG  \n",
       "3     ENSG00000163220  10499.0    6280.0    60B8AG   ENSG  \n",
       "4     ENSG00000065135   4387.0    2773.0      87U6   ENSG  \n",
       "...               ...      ...       ...       ...    ...  \n",
       "3674  ENSG00000196660  25355.0   55532.0      ZNT8   ENSG  \n",
       "3675  ENSG00000196660  25355.0   55532.0      ZRC1   ENSG  \n",
       "3676  ENSG00000170385  11012.0    7779.0      ZRC1   ENSG  \n",
       "3677  ENSG00000162378  25820.0   79699.0     ZYG11   ENSG  \n",
       "3678  ENSG00000203995  32058.0  440590.0     ZYG11   ENSG  \n",
       "\n",
       "[3679 rows x 7 columns]"
      ]
     },
     "execution_count": 97,
     "metadata": {},
     "output_type": "execute_result"
    }
   ],
   "source": [
    "aa_collision_gene_ensg_df = pd.read_csv(\n",
    "    \"../output/aa_collision_gene_ensg_df.csv\", index_col=[0])\n",
    "aa_collision_gene_ensg_df"
   ]
  },
  {
   "cell_type": "code",
   "execution_count": 98,
   "metadata": {},
   "outputs": [],
   "source": [
    "ensg_aa_collision_primary_symbol_set = set(aa_collision_gene_ensg_df[\"gene_symbol\"])\n",
    "ensg_aa_collision_primary_symbol_count = len(ensg_aa_collision_primary_symbol_set)"
   ]
  },
  {
   "cell_type": "code",
   "execution_count": 99,
   "metadata": {},
   "outputs": [
    {
     "data": {
      "text/html": [
       "<div>\n",
       "<style scoped>\n",
       "    .dataframe tbody tr th:only-of-type {\n",
       "        vertical-align: middle;\n",
       "    }\n",
       "\n",
       "    .dataframe tbody tr th {\n",
       "        vertical-align: top;\n",
       "    }\n",
       "\n",
       "    .dataframe thead th {\n",
       "        text-align: right;\n",
       "    }\n",
       "</style>\n",
       "<table border=\"1\" class=\"dataframe\">\n",
       "  <thead>\n",
       "    <tr style=\"text-align: right;\">\n",
       "      <th></th>\n",
       "      <th>gene_symbol</th>\n",
       "      <th>alias_symbol</th>\n",
       "      <th>ENSG_ID</th>\n",
       "      <th>HGNC_ID</th>\n",
       "      <th>NCBI_ID</th>\n",
       "      <th>collision</th>\n",
       "      <th>source</th>\n",
       "    </tr>\n",
       "  </thead>\n",
       "  <tbody>\n",
       "    <tr>\n",
       "      <th>0</th>\n",
       "      <td>KLRG1</td>\n",
       "      <td>MAFA,2F1,MAFA-L,CLEC15A</td>\n",
       "      <td>ENSG00000139187</td>\n",
       "      <td>6380</td>\n",
       "      <td>10219.0</td>\n",
       "      <td>2F1</td>\n",
       "      <td>HGNC</td>\n",
       "    </tr>\n",
       "    <tr>\n",
       "      <th>1</th>\n",
       "      <td>SLC25A5</td>\n",
       "      <td>T2,2F1,T3</td>\n",
       "      <td>ENSG00000005022</td>\n",
       "      <td>10991</td>\n",
       "      <td>292.0</td>\n",
       "      <td>2F1</td>\n",
       "      <td>HGNC</td>\n",
       "    </tr>\n",
       "    <tr>\n",
       "      <th>2</th>\n",
       "      <td>S100A8</td>\n",
       "      <td>P8,MRP8,MRP-8,60B8AG,CGLA,S100-A8</td>\n",
       "      <td>ENSG00000143546</td>\n",
       "      <td>10498</td>\n",
       "      <td>6279.0</td>\n",
       "      <td>60B8AG</td>\n",
       "      <td>HGNC</td>\n",
       "    </tr>\n",
       "    <tr>\n",
       "      <th>3</th>\n",
       "      <td>S100A9</td>\n",
       "      <td>P14,MIF,NIF,LIAG,MRP14,MAC387,60B8AG,CGLB,MRP-...</td>\n",
       "      <td>ENSG00000163220</td>\n",
       "      <td>10499</td>\n",
       "      <td>6280.0</td>\n",
       "      <td>60B8AG</td>\n",
       "      <td>HGNC</td>\n",
       "    </tr>\n",
       "    <tr>\n",
       "      <th>4</th>\n",
       "      <td>RNU6V</td>\n",
       "      <td>87U6,LH87</td>\n",
       "      <td>ENSG00000206832</td>\n",
       "      <td>10230</td>\n",
       "      <td>6071.0</td>\n",
       "      <td>87U6</td>\n",
       "      <td>HGNC</td>\n",
       "    </tr>\n",
       "    <tr>\n",
       "      <th>...</th>\n",
       "      <td>...</td>\n",
       "      <td>...</td>\n",
       "      <td>...</td>\n",
       "      <td>...</td>\n",
       "      <td>...</td>\n",
       "      <td>...</td>\n",
       "      <td>...</td>\n",
       "    </tr>\n",
       "    <tr>\n",
       "      <th>2869</th>\n",
       "      <td>ZNF22</td>\n",
       "      <td>KOX15,HKR-T1,ZNF422,Zfp422</td>\n",
       "      <td>ENSG00000165512</td>\n",
       "      <td>13012</td>\n",
       "      <td>7570.0</td>\n",
       "      <td>ZNF422</td>\n",
       "      <td>HGNC</td>\n",
       "    </tr>\n",
       "    <tr>\n",
       "      <th>2870</th>\n",
       "      <td>SLC30A10</td>\n",
       "      <td>DKFZp547M236,ZnT-10,ZRC1,ZNT8,ZNT10</td>\n",
       "      <td>ENSG00000196660</td>\n",
       "      <td>25355</td>\n",
       "      <td>55532.0</td>\n",
       "      <td>ZNT8</td>\n",
       "      <td>HGNC</td>\n",
       "    </tr>\n",
       "    <tr>\n",
       "      <th>2871</th>\n",
       "      <td>SLC30A8</td>\n",
       "      <td>ZnT-8,ZNT8</td>\n",
       "      <td>ENSG00000164756</td>\n",
       "      <td>20303</td>\n",
       "      <td>169026.0</td>\n",
       "      <td>ZNT8</td>\n",
       "      <td>HGNC</td>\n",
       "    </tr>\n",
       "    <tr>\n",
       "      <th>2872</th>\n",
       "      <td>SLC30A1</td>\n",
       "      <td>ZRC1</td>\n",
       "      <td>ENSG00000170385</td>\n",
       "      <td>11012</td>\n",
       "      <td>7779.0</td>\n",
       "      <td>ZRC1</td>\n",
       "      <td>HGNC</td>\n",
       "    </tr>\n",
       "    <tr>\n",
       "      <th>2873</th>\n",
       "      <td>SLC30A10</td>\n",
       "      <td>DKFZp547M236,ZnT-10,ZRC1,ZNT8,ZNT10</td>\n",
       "      <td>ENSG00000196660</td>\n",
       "      <td>25355</td>\n",
       "      <td>55532.0</td>\n",
       "      <td>ZRC1</td>\n",
       "      <td>HGNC</td>\n",
       "    </tr>\n",
       "  </tbody>\n",
       "</table>\n",
       "<p>2874 rows × 7 columns</p>\n",
       "</div>"
      ],
      "text/plain": [
       "     gene_symbol                                       alias_symbol  \\\n",
       "0          KLRG1                            MAFA,2F1,MAFA-L,CLEC15A   \n",
       "1        SLC25A5                                          T2,2F1,T3   \n",
       "2         S100A8                  P8,MRP8,MRP-8,60B8AG,CGLA,S100-A8   \n",
       "3         S100A9  P14,MIF,NIF,LIAG,MRP14,MAC387,60B8AG,CGLB,MRP-...   \n",
       "4          RNU6V                                          87U6,LH87   \n",
       "...          ...                                                ...   \n",
       "2869       ZNF22                         KOX15,HKR-T1,ZNF422,Zfp422   \n",
       "2870    SLC30A10                DKFZp547M236,ZnT-10,ZRC1,ZNT8,ZNT10   \n",
       "2871     SLC30A8                                         ZnT-8,ZNT8   \n",
       "2872     SLC30A1                                               ZRC1   \n",
       "2873    SLC30A10                DKFZp547M236,ZnT-10,ZRC1,ZNT8,ZNT10   \n",
       "\n",
       "              ENSG_ID  HGNC_ID   NCBI_ID collision source  \n",
       "0     ENSG00000139187     6380   10219.0       2F1   HGNC  \n",
       "1     ENSG00000005022    10991     292.0       2F1   HGNC  \n",
       "2     ENSG00000143546    10498    6279.0    60B8AG   HGNC  \n",
       "3     ENSG00000163220    10499    6280.0    60B8AG   HGNC  \n",
       "4     ENSG00000206832    10230    6071.0      87U6   HGNC  \n",
       "...               ...      ...       ...       ...    ...  \n",
       "2869  ENSG00000165512    13012    7570.0    ZNF422   HGNC  \n",
       "2870  ENSG00000196660    25355   55532.0      ZNT8   HGNC  \n",
       "2871  ENSG00000164756    20303  169026.0      ZNT8   HGNC  \n",
       "2872  ENSG00000170385    11012    7779.0      ZRC1   HGNC  \n",
       "2873  ENSG00000196660    25355   55532.0      ZRC1   HGNC  \n",
       "\n",
       "[2874 rows x 7 columns]"
      ]
     },
     "execution_count": 99,
     "metadata": {},
     "output_type": "execute_result"
    }
   ],
   "source": [
    "aa_collision_gene_hgnc_df = pd.read_csv(\n",
    "    \"../output/aa_collision_gene_hgnc_df.csv\", index_col=[0])\n",
    "aa_collision_gene_hgnc_df"
   ]
  },
  {
   "cell_type": "code",
   "execution_count": 100,
   "metadata": {},
   "outputs": [],
   "source": [
    "hgnc_aa_collision_primary_symbol_set = set(aa_collision_gene_hgnc_df[\"gene_symbol\"])\n",
    "hgnc_aa_collision_primary_symbol_count = len(hgnc_aa_collision_primary_symbol_set)"
   ]
  },
  {
   "cell_type": "code",
   "execution_count": 101,
   "metadata": {},
   "outputs": [
    {
     "data": {
      "text/html": [
       "<div>\n",
       "<style scoped>\n",
       "    .dataframe tbody tr th:only-of-type {\n",
       "        vertical-align: middle;\n",
       "    }\n",
       "\n",
       "    .dataframe tbody tr th {\n",
       "        vertical-align: top;\n",
       "    }\n",
       "\n",
       "    .dataframe thead th {\n",
       "        text-align: right;\n",
       "    }\n",
       "</style>\n",
       "<table border=\"1\" class=\"dataframe\">\n",
       "  <thead>\n",
       "    <tr style=\"text-align: right;\">\n",
       "      <th></th>\n",
       "      <th>gene_symbol</th>\n",
       "      <th>alias_symbol</th>\n",
       "      <th>ENSG_ID</th>\n",
       "      <th>HGNC_ID</th>\n",
       "      <th>NCBI_ID</th>\n",
       "      <th>collision</th>\n",
       "      <th>source</th>\n",
       "    </tr>\n",
       "  </thead>\n",
       "  <tbody>\n",
       "    <tr>\n",
       "      <th>0</th>\n",
       "      <td>PTEN</td>\n",
       "      <td>10q23del,BZS,CWS1,DEC,GLM2,MHAM,MMAC1,PTEN1,PT...</td>\n",
       "      <td>ENSG00000171862</td>\n",
       "      <td>9588.0</td>\n",
       "      <td>5728</td>\n",
       "      <td>10Q23DEL</td>\n",
       "      <td>NCBI</td>\n",
       "    </tr>\n",
       "    <tr>\n",
       "      <th>1</th>\n",
       "      <td>BMPR1A</td>\n",
       "      <td>10q23del,ACVRLK3,ALK-3,ALK3,BMPR-1A,CD292,SKR5</td>\n",
       "      <td>ENSG00000107779</td>\n",
       "      <td>1076.0</td>\n",
       "      <td>657</td>\n",
       "      <td>10Q23DEL</td>\n",
       "      <td>NCBI</td>\n",
       "    </tr>\n",
       "    <tr>\n",
       "      <th>2</th>\n",
       "      <td>ALOX15</td>\n",
       "      <td>12-LOX,15-LOX,15-LOX-1,LOG15</td>\n",
       "      <td>ENSG00000161905</td>\n",
       "      <td>433.0</td>\n",
       "      <td>246</td>\n",
       "      <td>12-LOX</td>\n",
       "      <td>NCBI</td>\n",
       "    </tr>\n",
       "    <tr>\n",
       "      <th>3</th>\n",
       "      <td>ALOX12</td>\n",
       "      <td>12-LOX,12S-LOX,LOG12</td>\n",
       "      <td>ENSG00000108839</td>\n",
       "      <td>429.0</td>\n",
       "      <td>239</td>\n",
       "      <td>12-LOX</td>\n",
       "      <td>NCBI</td>\n",
       "    </tr>\n",
       "    <tr>\n",
       "      <th>4</th>\n",
       "      <td>AKR1C1</td>\n",
       "      <td>2-ALPHA-HSD,20-ALPHA-HSD,C9,DD1,DD1/DD2,DDH,DD...</td>\n",
       "      <td>ENSG00000187134</td>\n",
       "      <td>384.0</td>\n",
       "      <td>1645</td>\n",
       "      <td>20-ALPHA-HSD</td>\n",
       "      <td>NCBI</td>\n",
       "    </tr>\n",
       "    <tr>\n",
       "      <th>...</th>\n",
       "      <td>...</td>\n",
       "      <td>...</td>\n",
       "      <td>...</td>\n",
       "      <td>...</td>\n",
       "      <td>...</td>\n",
       "      <td>...</td>\n",
       "      <td>...</td>\n",
       "    </tr>\n",
       "    <tr>\n",
       "      <th>8863</th>\n",
       "      <td>SLC30A10</td>\n",
       "      <td>HMDPC,HMNDYT1,ZNT10,ZNT8,ZRC1,ZnT-10</td>\n",
       "      <td>ENSG00000196660</td>\n",
       "      <td>25355.0</td>\n",
       "      <td>55532</td>\n",
       "      <td>ZRC1</td>\n",
       "      <td>NCBI</td>\n",
       "    </tr>\n",
       "    <tr>\n",
       "      <th>8864</th>\n",
       "      <td>PEX1</td>\n",
       "      <td>HMLR1,PBD1A,PBD1B,ZWS,ZWS1</td>\n",
       "      <td>ENSG00000127980</td>\n",
       "      <td>8850.0</td>\n",
       "      <td>5189</td>\n",
       "      <td>ZWS</td>\n",
       "      <td>NCBI</td>\n",
       "    </tr>\n",
       "    <tr>\n",
       "      <th>8865</th>\n",
       "      <td>PEX13</td>\n",
       "      <td>NALD,PBD11A,PBD11B,ZWS</td>\n",
       "      <td>ENSG00000162928</td>\n",
       "      <td>8855.0</td>\n",
       "      <td>5194</td>\n",
       "      <td>ZWS</td>\n",
       "      <td>NCBI</td>\n",
       "    </tr>\n",
       "    <tr>\n",
       "      <th>8866</th>\n",
       "      <td>ZYG11A</td>\n",
       "      <td>ZYG11</td>\n",
       "      <td>ENSG00000203995</td>\n",
       "      <td>32058.0</td>\n",
       "      <td>440590</td>\n",
       "      <td>ZYG11</td>\n",
       "      <td>NCBI</td>\n",
       "    </tr>\n",
       "    <tr>\n",
       "      <th>8867</th>\n",
       "      <td>ZYG11B</td>\n",
       "      <td>ZYG11</td>\n",
       "      <td>ENSG00000162378</td>\n",
       "      <td>25820.0</td>\n",
       "      <td>79699</td>\n",
       "      <td>ZYG11</td>\n",
       "      <td>NCBI</td>\n",
       "    </tr>\n",
       "  </tbody>\n",
       "</table>\n",
       "<p>8868 rows × 7 columns</p>\n",
       "</div>"
      ],
      "text/plain": [
       "     gene_symbol                                       alias_symbol  \\\n",
       "0           PTEN  10q23del,BZS,CWS1,DEC,GLM2,MHAM,MMAC1,PTEN1,PT...   \n",
       "1         BMPR1A     10q23del,ACVRLK3,ALK-3,ALK3,BMPR-1A,CD292,SKR5   \n",
       "2         ALOX15                       12-LOX,15-LOX,15-LOX-1,LOG15   \n",
       "3         ALOX12                               12-LOX,12S-LOX,LOG12   \n",
       "4         AKR1C1  2-ALPHA-HSD,20-ALPHA-HSD,C9,DD1,DD1/DD2,DDH,DD...   \n",
       "...          ...                                                ...   \n",
       "8863    SLC30A10               HMDPC,HMNDYT1,ZNT10,ZNT8,ZRC1,ZnT-10   \n",
       "8864        PEX1                         HMLR1,PBD1A,PBD1B,ZWS,ZWS1   \n",
       "8865       PEX13                             NALD,PBD11A,PBD11B,ZWS   \n",
       "8866      ZYG11A                                              ZYG11   \n",
       "8867      ZYG11B                                              ZYG11   \n",
       "\n",
       "              ENSG_ID  HGNC_ID  NCBI_ID     collision source  \n",
       "0     ENSG00000171862   9588.0     5728      10Q23DEL   NCBI  \n",
       "1     ENSG00000107779   1076.0      657      10Q23DEL   NCBI  \n",
       "2     ENSG00000161905    433.0      246        12-LOX   NCBI  \n",
       "3     ENSG00000108839    429.0      239        12-LOX   NCBI  \n",
       "4     ENSG00000187134    384.0     1645  20-ALPHA-HSD   NCBI  \n",
       "...               ...      ...      ...           ...    ...  \n",
       "8863  ENSG00000196660  25355.0    55532          ZRC1   NCBI  \n",
       "8864  ENSG00000127980   8850.0     5189           ZWS   NCBI  \n",
       "8865  ENSG00000162928   8855.0     5194           ZWS   NCBI  \n",
       "8866  ENSG00000203995  32058.0   440590         ZYG11   NCBI  \n",
       "8867  ENSG00000162378  25820.0    79699         ZYG11   NCBI  \n",
       "\n",
       "[8868 rows x 7 columns]"
      ]
     },
     "execution_count": 101,
     "metadata": {},
     "output_type": "execute_result"
    }
   ],
   "source": [
    "aa_collision_gene_ncbi_df = pd.read_csv(\n",
    "    \"../output/aa_collision_gene_ncbi_df.csv\", index_col=[0])\n",
    "aa_collision_gene_ncbi_df"
   ]
  },
  {
   "cell_type": "code",
   "execution_count": 102,
   "metadata": {},
   "outputs": [],
   "source": [
    "ncbi_aa_collision_primary_symbol_set = set(aa_collision_gene_ncbi_df[\"gene_symbol\"])\n",
    "ncbi_aa_collision_primary_symbol_count = len(ncbi_aa_collision_primary_symbol_set)"
   ]
  },
  {
   "cell_type": "code",
   "execution_count": 103,
   "metadata": {},
   "outputs": [
    {
     "data": {
      "text/html": [
       "<div>\n",
       "<style scoped>\n",
       "    .dataframe tbody tr th:only-of-type {\n",
       "        vertical-align: middle;\n",
       "    }\n",
       "\n",
       "    .dataframe tbody tr th {\n",
       "        vertical-align: top;\n",
       "    }\n",
       "\n",
       "    .dataframe thead th {\n",
       "        text-align: right;\n",
       "    }\n",
       "</style>\n",
       "<table border=\"1\" class=\"dataframe\">\n",
       "  <thead>\n",
       "    <tr style=\"text-align: right;\">\n",
       "      <th></th>\n",
       "      <th>Number of Gene Records With a Shared Alias</th>\n",
       "    </tr>\n",
       "  </thead>\n",
       "  <tbody>\n",
       "    <tr>\n",
       "      <th>HGNC</th>\n",
       "      <td>3113</td>\n",
       "    </tr>\n",
       "    <tr>\n",
       "      <th>ENSG</th>\n",
       "      <td>2530</td>\n",
       "    </tr>\n",
       "    <tr>\n",
       "      <th>NCBI</th>\n",
       "      <td>6013</td>\n",
       "    </tr>\n",
       "  </tbody>\n",
       "</table>\n",
       "</div>"
      ],
      "text/plain": [
       "      Number of Gene Records With a Shared Alias\n",
       "HGNC                                        3113\n",
       "ENSG                                        2530\n",
       "NCBI                                        6013"
      ]
     },
     "execution_count": 103,
     "metadata": {},
     "output_type": "execute_result"
    }
   ],
   "source": [
    "aa_collision_primary_symbol_summary_index = \"HGNC\", \"ENSG\", \"NCBI\"\n",
    "aa_collision_primary_symbol_summary= {\n",
    "    \"Number of Gene Records With a Shared Alias\": [\n",
    "        ensg_aa_collision_primary_symbol_count,\n",
    "        hgnc_aa_collision_primary_symbol_count,\n",
    "        ncbi_aa_collision_primary_symbol_count,\n",
    "    ]\n",
    "}\n",
    "aa_collision_primary_symbol_summary_df = pd.DataFrame(\n",
    "    aa_collision_primary_symbol_summary, index = aa_collision_primary_symbol_summary_index\n",
    ")\n",
    "aa_collision_primary_symbol_summary_df"
   ]
  },
  {
   "cell_type": "markdown",
   "metadata": {},
   "source": [
    "These values differ from the total number of rows from the aa_collision_gene_dfs because each row indicates a collision. There are some gene records that are involved in multiple collisions. For example: gene A has the aliases A1, 1A, and AA. If all three aliases are used by other genes, then gene A would take up 3 rows in the the aa_collision_gene_df while only being one gene record. In the case of alias-alais collisions in NCBI, the aa_collision_gene_df has 8868 rows. There are a total of 4540 rows that are duplicates. Of those 4540 duplicates, 1685 are unique. 8868 - (4540-1685) = 6013"
   ]
  },
  {
   "cell_type": "markdown",
   "metadata": {},
   "source": [
    "## <a id='toc8_2_'></a>[All Sources](#toc0_)"
   ]
  },
  {
   "cell_type": "markdown",
   "metadata": {},
   "source": [
    "### <a id='toc8_2_1_'></a>[How many gene records have at least one shared alias in all sources?](#toc0_)"
   ]
  },
  {
   "cell_type": "markdown",
   "metadata": {},
   "source": [
    "(intersection of gene records with a collision in all three sources)"
   ]
  },
  {
   "cell_type": "code",
   "execution_count": 104,
   "metadata": {},
   "outputs": [
    {
     "data": {
      "text/plain": [
       "2319"
      ]
     },
     "execution_count": 104,
     "metadata": {},
     "output_type": "execute_result"
    }
   ],
   "source": [
    "all_sources_aa_collision_genes = (\n",
    "    ensg_aa_collision_primary_symbol_set\n",
    "    & hgnc_aa_collision_primary_symbol_set\n",
    "    & ncbi_aa_collision_primary_symbol_set\n",
    ")\n",
    "len(all_sources_aa_collision_genes)"
   ]
  },
  {
   "cell_type": "markdown",
   "metadata": {},
   "source": [
    "### <a id='toc8_2_2_'></a>[How many unique gene records that have at least one shared alias are found between all sources?](#toc0_)"
   ]
  },
  {
   "cell_type": "markdown",
   "metadata": {},
   "source": [
    "(union of gene records with a collision in all three sources)"
   ]
  },
  {
   "cell_type": "code",
   "execution_count": 105,
   "metadata": {},
   "outputs": [],
   "source": [
    "bw_all_sources_aa_collision_df = pd.concat(\n",
    "    [\n",
    "        aa_collision_gene_ensg_df[[\"collision\", \"gene_symbol\"]],\n",
    "        aa_collision_gene_hgnc_df[[\"collision\", \"gene_symbol\"]],\n",
    "        aa_collision_gene_ncbi_df[[\"collision\", \"gene_symbol\"]],\n",
    "    ]\n",
    ")"
   ]
  },
  {
   "cell_type": "code",
   "execution_count": 106,
   "metadata": {},
   "outputs": [
    {
     "data": {
      "text/plain": [
       "6192"
      ]
     },
     "execution_count": 106,
     "metadata": {},
     "output_type": "execute_result"
    }
   ],
   "source": [
    "bw_all_sources_aa_collision_genes_set = set(bw_all_sources_aa_collision_df[\"gene_symbol\"])\n",
    "bw_all_sources_aa_collision_genes_count = len(bw_all_sources_aa_collision_genes_set)\n",
    "bw_all_sources_aa_collision_genes_count"
   ]
  },
  {
   "cell_type": "markdown",
   "metadata": {},
   "source": [
    "# <a id='toc9_'></a>[How many alias symbols are being shared?](#toc0_)"
   ]
  },
  {
   "cell_type": "markdown",
   "metadata": {},
   "source": [
    "## <a id='toc9_1_'></a>[Per Source](#toc0_)"
   ]
  },
  {
   "cell_type": "code",
   "execution_count": 107,
   "metadata": {},
   "outputs": [],
   "source": [
    "ensg_aa_collision_set = set(aa_collision_gene_ensg_df[\"collision\"])\n",
    "ensg_aa_collision_count = len(ensg_aa_collision_set)"
   ]
  },
  {
   "cell_type": "code",
   "execution_count": 108,
   "metadata": {},
   "outputs": [],
   "source": [
    "hgnc_aa_collision_set = set(aa_collision_gene_hgnc_df[\"collision\"])\n",
    "hgnc_aa_collision_count = len(hgnc_aa_collision_set)"
   ]
  },
  {
   "cell_type": "code",
   "execution_count": 109,
   "metadata": {},
   "outputs": [],
   "source": [
    "ncbi_aa_collision_set = set(aa_collision_gene_ncbi_df[\"collision\"])\n",
    "ncbi_aa_collision_count = len(ncbi_aa_collision_set)"
   ]
  },
  {
   "cell_type": "code",
   "execution_count": 110,
   "metadata": {},
   "outputs": [
    {
     "data": {
      "text/html": [
       "<div>\n",
       "<style scoped>\n",
       "    .dataframe tbody tr th:only-of-type {\n",
       "        vertical-align: middle;\n",
       "    }\n",
       "\n",
       "    .dataframe tbody tr th {\n",
       "        vertical-align: top;\n",
       "    }\n",
       "\n",
       "    .dataframe thead th {\n",
       "        text-align: right;\n",
       "    }\n",
       "</style>\n",
       "<table border=\"1\" class=\"dataframe\">\n",
       "  <thead>\n",
       "    <tr style=\"text-align: right;\">\n",
       "      <th></th>\n",
       "      <th>Number of Shared Aliases</th>\n",
       "    </tr>\n",
       "  </thead>\n",
       "  <tbody>\n",
       "    <tr>\n",
       "      <th>HGNC</th>\n",
       "      <td>1617</td>\n",
       "    </tr>\n",
       "    <tr>\n",
       "      <th>ENSG</th>\n",
       "      <td>1250</td>\n",
       "    </tr>\n",
       "    <tr>\n",
       "      <th>NCBI</th>\n",
       "      <td>3673</td>\n",
       "    </tr>\n",
       "  </tbody>\n",
       "</table>\n",
       "</div>"
      ],
      "text/plain": [
       "      Number of Shared Aliases\n",
       "HGNC                      1617\n",
       "ENSG                      1250\n",
       "NCBI                      3673"
      ]
     },
     "execution_count": 110,
     "metadata": {},
     "output_type": "execute_result"
    }
   ],
   "source": [
    "aa_collision_alias_symbol_summary_index = \"HGNC\", \"ENSG\", \"NCBI\"\n",
    "aa_collision_alias_symbol_summary = {\n",
    "    \"Number of Shared Aliases\": [\n",
    "        ensg_aa_collision_count,\n",
    "        hgnc_aa_collision_count,\n",
    "        ncbi_aa_collision_count,\n",
    "    ]\n",
    "}\n",
    "aa_collision_alias_symbol_summary_df = pd.DataFrame(\n",
    "    aa_collision_alias_symbol_summary, index = aa_collision_alias_symbol_summary_index\n",
    ")\n",
    "aa_collision_alias_symbol_summary_df"
   ]
  },
  {
   "cell_type": "markdown",
   "metadata": {},
   "source": [
    "## <a id='toc9_2_'></a>[All Sources](#toc0_)"
   ]
  },
  {
   "cell_type": "markdown",
   "metadata": {},
   "source": [
    "### <a id='toc9_2_1_'></a>[How many aliases are shared in all sources?](#toc0_)"
   ]
  },
  {
   "cell_type": "code",
   "execution_count": 111,
   "metadata": {},
   "outputs": [
    {
     "data": {
      "text/plain": [
       "1131"
      ]
     },
     "execution_count": 111,
     "metadata": {},
     "output_type": "execute_result"
    }
   ],
   "source": [
    "all_sources_aa_collision_aliases = (\n",
    "    ensg_aa_collision_set\n",
    "    & hgnc_aa_collision_set\n",
    "    & ncbi_aa_collision_set\n",
    ")\n",
    "len(all_sources_aa_collision_aliases)"
   ]
  },
  {
   "cell_type": "markdown",
   "metadata": {},
   "source": [
    "### <a id='toc9_2_2_'></a>[How many unique shared aliases are found between all sources?](#toc0_)"
   ]
  },
  {
   "cell_type": "code",
   "execution_count": 112,
   "metadata": {},
   "outputs": [
    {
     "data": {
      "text/plain": [
       "3786"
      ]
     },
     "execution_count": 112,
     "metadata": {},
     "output_type": "execute_result"
    }
   ],
   "source": [
    "bw_all_sources_aa_collision_aliases_set = set(bw_all_sources_aa_collision_df[\"collision\"])\n",
    "bw_all_sources_aa_collision_aliases_count = len(bw_all_sources_aa_collision_aliases_set)\n",
    "bw_all_sources_aa_collision_aliases_count"
   ]
  },
  {
   "cell_type": "markdown",
   "metadata": {},
   "source": [
    "# <a id='toc10_'></a>[How common are the collision symbols?](#toc0_)"
   ]
  },
  {
   "cell_type": "markdown",
   "metadata": {},
   "source": [
    "## <a id='toc10_1_'></a>[Per Source](#toc0_)"
   ]
  },
  {
   "cell_type": "code",
   "execution_count": 113,
   "metadata": {},
   "outputs": [],
   "source": [
    "ensg_alias_symbol_set = set(subset_genes_ensg_df[\"alias_symbol\"])\n",
    "ensg_alias_count = len(ensg_alias_symbol_set)"
   ]
  },
  {
   "cell_type": "code",
   "execution_count": 114,
   "metadata": {},
   "outputs": [
    {
     "data": {
      "application/vnd.plotly.v1+json": {
       "config": {
        "plotlyServerURL": "https://plot.ly"
       },
       "data": [
        {
         "alignmentgroup": "True",
         "hovertemplate": "num_gene_records=%{x}<br>percent_collision_symbol=%{y}<extra></extra>",
         "legendgroup": "",
         "marker": {
          "color": "#636efa",
          "pattern": {
           "shape": ""
          }
         },
         "name": "",
         "offsetgroup": "",
         "orientation": "v",
         "showlegend": false,
         "textposition": "auto",
         "type": "bar",
         "x": [
          2,
          3,
          4,
          5,
          6,
          7,
          8,
          9,
          10,
          11
         ],
         "xaxis": "x",
         "y": [
          82.99319727891157,
          11.873840445269018,
          2.782931354359926,
          0.927643784786642,
          0.8039579468150896,
          0.1855287569573284,
          0.12368583797155226,
          0.12368583797155226,
          0.12368583797155226,
          0.06184291898577613
         ],
         "yaxis": "y"
        }
       ],
       "layout": {
        "barmode": "relative",
        "legend": {
         "tracegroupgap": 0
        },
        "margin": {
         "t": 60
        },
        "template": {
         "data": {
          "bar": [
           {
            "error_x": {
             "color": "#2a3f5f"
            },
            "error_y": {
             "color": "#2a3f5f"
            },
            "marker": {
             "line": {
              "color": "#E5ECF6",
              "width": 0.5
             },
             "pattern": {
              "fillmode": "overlay",
              "size": 10,
              "solidity": 0.2
             }
            },
            "type": "bar"
           }
          ],
          "barpolar": [
           {
            "marker": {
             "line": {
              "color": "#E5ECF6",
              "width": 0.5
             },
             "pattern": {
              "fillmode": "overlay",
              "size": 10,
              "solidity": 0.2
             }
            },
            "type": "barpolar"
           }
          ],
          "carpet": [
           {
            "aaxis": {
             "endlinecolor": "#2a3f5f",
             "gridcolor": "white",
             "linecolor": "white",
             "minorgridcolor": "white",
             "startlinecolor": "#2a3f5f"
            },
            "baxis": {
             "endlinecolor": "#2a3f5f",
             "gridcolor": "white",
             "linecolor": "white",
             "minorgridcolor": "white",
             "startlinecolor": "#2a3f5f"
            },
            "type": "carpet"
           }
          ],
          "choropleth": [
           {
            "colorbar": {
             "outlinewidth": 0,
             "ticks": ""
            },
            "type": "choropleth"
           }
          ],
          "contour": [
           {
            "colorbar": {
             "outlinewidth": 0,
             "ticks": ""
            },
            "colorscale": [
             [
              0,
              "#0d0887"
             ],
             [
              0.1111111111111111,
              "#46039f"
             ],
             [
              0.2222222222222222,
              "#7201a8"
             ],
             [
              0.3333333333333333,
              "#9c179e"
             ],
             [
              0.4444444444444444,
              "#bd3786"
             ],
             [
              0.5555555555555556,
              "#d8576b"
             ],
             [
              0.6666666666666666,
              "#ed7953"
             ],
             [
              0.7777777777777778,
              "#fb9f3a"
             ],
             [
              0.8888888888888888,
              "#fdca26"
             ],
             [
              1,
              "#f0f921"
             ]
            ],
            "type": "contour"
           }
          ],
          "contourcarpet": [
           {
            "colorbar": {
             "outlinewidth": 0,
             "ticks": ""
            },
            "type": "contourcarpet"
           }
          ],
          "heatmap": [
           {
            "colorbar": {
             "outlinewidth": 0,
             "ticks": ""
            },
            "colorscale": [
             [
              0,
              "#0d0887"
             ],
             [
              0.1111111111111111,
              "#46039f"
             ],
             [
              0.2222222222222222,
              "#7201a8"
             ],
             [
              0.3333333333333333,
              "#9c179e"
             ],
             [
              0.4444444444444444,
              "#bd3786"
             ],
             [
              0.5555555555555556,
              "#d8576b"
             ],
             [
              0.6666666666666666,
              "#ed7953"
             ],
             [
              0.7777777777777778,
              "#fb9f3a"
             ],
             [
              0.8888888888888888,
              "#fdca26"
             ],
             [
              1,
              "#f0f921"
             ]
            ],
            "type": "heatmap"
           }
          ],
          "heatmapgl": [
           {
            "colorbar": {
             "outlinewidth": 0,
             "ticks": ""
            },
            "colorscale": [
             [
              0,
              "#0d0887"
             ],
             [
              0.1111111111111111,
              "#46039f"
             ],
             [
              0.2222222222222222,
              "#7201a8"
             ],
             [
              0.3333333333333333,
              "#9c179e"
             ],
             [
              0.4444444444444444,
              "#bd3786"
             ],
             [
              0.5555555555555556,
              "#d8576b"
             ],
             [
              0.6666666666666666,
              "#ed7953"
             ],
             [
              0.7777777777777778,
              "#fb9f3a"
             ],
             [
              0.8888888888888888,
              "#fdca26"
             ],
             [
              1,
              "#f0f921"
             ]
            ],
            "type": "heatmapgl"
           }
          ],
          "histogram": [
           {
            "marker": {
             "pattern": {
              "fillmode": "overlay",
              "size": 10,
              "solidity": 0.2
             }
            },
            "type": "histogram"
           }
          ],
          "histogram2d": [
           {
            "colorbar": {
             "outlinewidth": 0,
             "ticks": ""
            },
            "colorscale": [
             [
              0,
              "#0d0887"
             ],
             [
              0.1111111111111111,
              "#46039f"
             ],
             [
              0.2222222222222222,
              "#7201a8"
             ],
             [
              0.3333333333333333,
              "#9c179e"
             ],
             [
              0.4444444444444444,
              "#bd3786"
             ],
             [
              0.5555555555555556,
              "#d8576b"
             ],
             [
              0.6666666666666666,
              "#ed7953"
             ],
             [
              0.7777777777777778,
              "#fb9f3a"
             ],
             [
              0.8888888888888888,
              "#fdca26"
             ],
             [
              1,
              "#f0f921"
             ]
            ],
            "type": "histogram2d"
           }
          ],
          "histogram2dcontour": [
           {
            "colorbar": {
             "outlinewidth": 0,
             "ticks": ""
            },
            "colorscale": [
             [
              0,
              "#0d0887"
             ],
             [
              0.1111111111111111,
              "#46039f"
             ],
             [
              0.2222222222222222,
              "#7201a8"
             ],
             [
              0.3333333333333333,
              "#9c179e"
             ],
             [
              0.4444444444444444,
              "#bd3786"
             ],
             [
              0.5555555555555556,
              "#d8576b"
             ],
             [
              0.6666666666666666,
              "#ed7953"
             ],
             [
              0.7777777777777778,
              "#fb9f3a"
             ],
             [
              0.8888888888888888,
              "#fdca26"
             ],
             [
              1,
              "#f0f921"
             ]
            ],
            "type": "histogram2dcontour"
           }
          ],
          "mesh3d": [
           {
            "colorbar": {
             "outlinewidth": 0,
             "ticks": ""
            },
            "type": "mesh3d"
           }
          ],
          "parcoords": [
           {
            "line": {
             "colorbar": {
              "outlinewidth": 0,
              "ticks": ""
             }
            },
            "type": "parcoords"
           }
          ],
          "pie": [
           {
            "automargin": true,
            "type": "pie"
           }
          ],
          "scatter": [
           {
            "fillpattern": {
             "fillmode": "overlay",
             "size": 10,
             "solidity": 0.2
            },
            "type": "scatter"
           }
          ],
          "scatter3d": [
           {
            "line": {
             "colorbar": {
              "outlinewidth": 0,
              "ticks": ""
             }
            },
            "marker": {
             "colorbar": {
              "outlinewidth": 0,
              "ticks": ""
             }
            },
            "type": "scatter3d"
           }
          ],
          "scattercarpet": [
           {
            "marker": {
             "colorbar": {
              "outlinewidth": 0,
              "ticks": ""
             }
            },
            "type": "scattercarpet"
           }
          ],
          "scattergeo": [
           {
            "marker": {
             "colorbar": {
              "outlinewidth": 0,
              "ticks": ""
             }
            },
            "type": "scattergeo"
           }
          ],
          "scattergl": [
           {
            "marker": {
             "colorbar": {
              "outlinewidth": 0,
              "ticks": ""
             }
            },
            "type": "scattergl"
           }
          ],
          "scattermapbox": [
           {
            "marker": {
             "colorbar": {
              "outlinewidth": 0,
              "ticks": ""
             }
            },
            "type": "scattermapbox"
           }
          ],
          "scatterpolar": [
           {
            "marker": {
             "colorbar": {
              "outlinewidth": 0,
              "ticks": ""
             }
            },
            "type": "scatterpolar"
           }
          ],
          "scatterpolargl": [
           {
            "marker": {
             "colorbar": {
              "outlinewidth": 0,
              "ticks": ""
             }
            },
            "type": "scatterpolargl"
           }
          ],
          "scatterternary": [
           {
            "marker": {
             "colorbar": {
              "outlinewidth": 0,
              "ticks": ""
             }
            },
            "type": "scatterternary"
           }
          ],
          "surface": [
           {
            "colorbar": {
             "outlinewidth": 0,
             "ticks": ""
            },
            "colorscale": [
             [
              0,
              "#0d0887"
             ],
             [
              0.1111111111111111,
              "#46039f"
             ],
             [
              0.2222222222222222,
              "#7201a8"
             ],
             [
              0.3333333333333333,
              "#9c179e"
             ],
             [
              0.4444444444444444,
              "#bd3786"
             ],
             [
              0.5555555555555556,
              "#d8576b"
             ],
             [
              0.6666666666666666,
              "#ed7953"
             ],
             [
              0.7777777777777778,
              "#fb9f3a"
             ],
             [
              0.8888888888888888,
              "#fdca26"
             ],
             [
              1,
              "#f0f921"
             ]
            ],
            "type": "surface"
           }
          ],
          "table": [
           {
            "cells": {
             "fill": {
              "color": "#EBF0F8"
             },
             "line": {
              "color": "white"
             }
            },
            "header": {
             "fill": {
              "color": "#C8D4E3"
             },
             "line": {
              "color": "white"
             }
            },
            "type": "table"
           }
          ]
         },
         "layout": {
          "annotationdefaults": {
           "arrowcolor": "#2a3f5f",
           "arrowhead": 0,
           "arrowwidth": 1
          },
          "autotypenumbers": "strict",
          "coloraxis": {
           "colorbar": {
            "outlinewidth": 0,
            "ticks": ""
           }
          },
          "colorscale": {
           "diverging": [
            [
             0,
             "#8e0152"
            ],
            [
             0.1,
             "#c51b7d"
            ],
            [
             0.2,
             "#de77ae"
            ],
            [
             0.3,
             "#f1b6da"
            ],
            [
             0.4,
             "#fde0ef"
            ],
            [
             0.5,
             "#f7f7f7"
            ],
            [
             0.6,
             "#e6f5d0"
            ],
            [
             0.7,
             "#b8e186"
            ],
            [
             0.8,
             "#7fbc41"
            ],
            [
             0.9,
             "#4d9221"
            ],
            [
             1,
             "#276419"
            ]
           ],
           "sequential": [
            [
             0,
             "#0d0887"
            ],
            [
             0.1111111111111111,
             "#46039f"
            ],
            [
             0.2222222222222222,
             "#7201a8"
            ],
            [
             0.3333333333333333,
             "#9c179e"
            ],
            [
             0.4444444444444444,
             "#bd3786"
            ],
            [
             0.5555555555555556,
             "#d8576b"
            ],
            [
             0.6666666666666666,
             "#ed7953"
            ],
            [
             0.7777777777777778,
             "#fb9f3a"
            ],
            [
             0.8888888888888888,
             "#fdca26"
            ],
            [
             1,
             "#f0f921"
            ]
           ],
           "sequentialminus": [
            [
             0,
             "#0d0887"
            ],
            [
             0.1111111111111111,
             "#46039f"
            ],
            [
             0.2222222222222222,
             "#7201a8"
            ],
            [
             0.3333333333333333,
             "#9c179e"
            ],
            [
             0.4444444444444444,
             "#bd3786"
            ],
            [
             0.5555555555555556,
             "#d8576b"
            ],
            [
             0.6666666666666666,
             "#ed7953"
            ],
            [
             0.7777777777777778,
             "#fb9f3a"
            ],
            [
             0.8888888888888888,
             "#fdca26"
            ],
            [
             1,
             "#f0f921"
            ]
           ]
          },
          "colorway": [
           "#636efa",
           "#EF553B",
           "#00cc96",
           "#ab63fa",
           "#FFA15A",
           "#19d3f3",
           "#FF6692",
           "#B6E880",
           "#FF97FF",
           "#FECB52"
          ],
          "font": {
           "color": "#2a3f5f"
          },
          "geo": {
           "bgcolor": "white",
           "lakecolor": "white",
           "landcolor": "#E5ECF6",
           "showlakes": true,
           "showland": true,
           "subunitcolor": "white"
          },
          "hoverlabel": {
           "align": "left"
          },
          "hovermode": "closest",
          "mapbox": {
           "style": "light"
          },
          "paper_bgcolor": "white",
          "plot_bgcolor": "#E5ECF6",
          "polar": {
           "angularaxis": {
            "gridcolor": "white",
            "linecolor": "white",
            "ticks": ""
           },
           "bgcolor": "#E5ECF6",
           "radialaxis": {
            "gridcolor": "white",
            "linecolor": "white",
            "ticks": ""
           }
          },
          "scene": {
           "xaxis": {
            "backgroundcolor": "#E5ECF6",
            "gridcolor": "white",
            "gridwidth": 2,
            "linecolor": "white",
            "showbackground": true,
            "ticks": "",
            "zerolinecolor": "white"
           },
           "yaxis": {
            "backgroundcolor": "#E5ECF6",
            "gridcolor": "white",
            "gridwidth": 2,
            "linecolor": "white",
            "showbackground": true,
            "ticks": "",
            "zerolinecolor": "white"
           },
           "zaxis": {
            "backgroundcolor": "#E5ECF6",
            "gridcolor": "white",
            "gridwidth": 2,
            "linecolor": "white",
            "showbackground": true,
            "ticks": "",
            "zerolinecolor": "white"
           }
          },
          "shapedefaults": {
           "line": {
            "color": "#2a3f5f"
           }
          },
          "ternary": {
           "aaxis": {
            "gridcolor": "white",
            "linecolor": "white",
            "ticks": ""
           },
           "baxis": {
            "gridcolor": "white",
            "linecolor": "white",
            "ticks": ""
           },
           "bgcolor": "#E5ECF6",
           "caxis": {
            "gridcolor": "white",
            "linecolor": "white",
            "ticks": ""
           }
          },
          "title": {
           "x": 0.05
          },
          "xaxis": {
           "automargin": true,
           "gridcolor": "white",
           "linecolor": "white",
           "ticks": "",
           "title": {
            "standoff": 15
           },
           "zerolinecolor": "white",
           "zerolinewidth": 2
          },
          "yaxis": {
           "automargin": true,
           "gridcolor": "white",
           "linecolor": "white",
           "ticks": "",
           "title": {
            "standoff": 15
           },
           "zerolinecolor": "white",
           "zerolinewidth": 2
          }
         }
        },
        "xaxis": {
         "anchor": "y",
         "domain": [
          0,
          1
         ],
         "title": {
          "text": "num_gene_records"
         }
        },
        "yaxis": {
         "anchor": "x",
         "domain": [
          0,
          1
         ],
         "title": {
          "text": "percent_collision_symbol"
         }
        }
       }
      }
     },
     "metadata": {},
     "output_type": "display_data"
    }
   ],
   "source": [
    "create_aa_collision_histogram(aa_collision_gene_ensg_df, \"ENSG\", ensg_aa_collision_count)"
   ]
  },
  {
   "cell_type": "code",
   "execution_count": 115,
   "metadata": {},
   "outputs": [],
   "source": [
    "aa_collision_ensg_count_df = pd.read_csv(\n",
    "    \"../output/aa_collision_ensg_count_df.csv\", index_col=[0])"
   ]
  },
  {
   "cell_type": "code",
   "execution_count": 116,
   "metadata": {},
   "outputs": [],
   "source": [
    "aa_collision_ensg_distribution_df = pd.read_csv(\n",
    "    \"../output/aa_collision_ensg_distribution_df.csv\", index_col=[0])"
   ]
  },
  {
   "cell_type": "code",
   "execution_count": 117,
   "metadata": {},
   "outputs": [],
   "source": [
    "ensg_alias_count_histogram_df = pd.read_csv(\n",
    "    \"../output/ensg_alias_count_histogram_df.csv\", index_col=[0])"
   ]
  },
  {
   "cell_type": "code",
   "execution_count": 118,
   "metadata": {},
   "outputs": [],
   "source": [
    "hgnc_alias_symbol_set = set(subset_genes_hgnc_df[\"alias_symbol\"])\n",
    "hgnc_alias_count = len(hgnc_alias_symbol_set)"
   ]
  },
  {
   "cell_type": "code",
   "execution_count": 119,
   "metadata": {},
   "outputs": [
    {
     "data": {
      "application/vnd.plotly.v1+json": {
       "config": {
        "plotlyServerURL": "https://plot.ly"
       },
       "data": [
        {
         "alignmentgroup": "True",
         "hovertemplate": "num_gene_records=%{x}<br>percent_collision_symbol=%{y}<extra></extra>",
         "legendgroup": "",
         "marker": {
          "color": "#636efa",
          "pattern": {
           "shape": ""
          }
         },
         "name": "",
         "offsetgroup": "",
         "orientation": "v",
         "showlegend": false,
         "textposition": "auto",
         "type": "bar",
         "x": [
          2,
          3,
          4,
          5,
          6,
          7,
          9,
          10
         ],
         "xaxis": "x",
         "y": [
          81.12,
          13.04,
          3.1199999999999997,
          1.3599999999999999,
          0.8,
          0.32,
          0.16,
          0.08
         ],
         "yaxis": "y"
        }
       ],
       "layout": {
        "barmode": "relative",
        "legend": {
         "tracegroupgap": 0
        },
        "margin": {
         "t": 60
        },
        "template": {
         "data": {
          "bar": [
           {
            "error_x": {
             "color": "#2a3f5f"
            },
            "error_y": {
             "color": "#2a3f5f"
            },
            "marker": {
             "line": {
              "color": "#E5ECF6",
              "width": 0.5
             },
             "pattern": {
              "fillmode": "overlay",
              "size": 10,
              "solidity": 0.2
             }
            },
            "type": "bar"
           }
          ],
          "barpolar": [
           {
            "marker": {
             "line": {
              "color": "#E5ECF6",
              "width": 0.5
             },
             "pattern": {
              "fillmode": "overlay",
              "size": 10,
              "solidity": 0.2
             }
            },
            "type": "barpolar"
           }
          ],
          "carpet": [
           {
            "aaxis": {
             "endlinecolor": "#2a3f5f",
             "gridcolor": "white",
             "linecolor": "white",
             "minorgridcolor": "white",
             "startlinecolor": "#2a3f5f"
            },
            "baxis": {
             "endlinecolor": "#2a3f5f",
             "gridcolor": "white",
             "linecolor": "white",
             "minorgridcolor": "white",
             "startlinecolor": "#2a3f5f"
            },
            "type": "carpet"
           }
          ],
          "choropleth": [
           {
            "colorbar": {
             "outlinewidth": 0,
             "ticks": ""
            },
            "type": "choropleth"
           }
          ],
          "contour": [
           {
            "colorbar": {
             "outlinewidth": 0,
             "ticks": ""
            },
            "colorscale": [
             [
              0,
              "#0d0887"
             ],
             [
              0.1111111111111111,
              "#46039f"
             ],
             [
              0.2222222222222222,
              "#7201a8"
             ],
             [
              0.3333333333333333,
              "#9c179e"
             ],
             [
              0.4444444444444444,
              "#bd3786"
             ],
             [
              0.5555555555555556,
              "#d8576b"
             ],
             [
              0.6666666666666666,
              "#ed7953"
             ],
             [
              0.7777777777777778,
              "#fb9f3a"
             ],
             [
              0.8888888888888888,
              "#fdca26"
             ],
             [
              1,
              "#f0f921"
             ]
            ],
            "type": "contour"
           }
          ],
          "contourcarpet": [
           {
            "colorbar": {
             "outlinewidth": 0,
             "ticks": ""
            },
            "type": "contourcarpet"
           }
          ],
          "heatmap": [
           {
            "colorbar": {
             "outlinewidth": 0,
             "ticks": ""
            },
            "colorscale": [
             [
              0,
              "#0d0887"
             ],
             [
              0.1111111111111111,
              "#46039f"
             ],
             [
              0.2222222222222222,
              "#7201a8"
             ],
             [
              0.3333333333333333,
              "#9c179e"
             ],
             [
              0.4444444444444444,
              "#bd3786"
             ],
             [
              0.5555555555555556,
              "#d8576b"
             ],
             [
              0.6666666666666666,
              "#ed7953"
             ],
             [
              0.7777777777777778,
              "#fb9f3a"
             ],
             [
              0.8888888888888888,
              "#fdca26"
             ],
             [
              1,
              "#f0f921"
             ]
            ],
            "type": "heatmap"
           }
          ],
          "heatmapgl": [
           {
            "colorbar": {
             "outlinewidth": 0,
             "ticks": ""
            },
            "colorscale": [
             [
              0,
              "#0d0887"
             ],
             [
              0.1111111111111111,
              "#46039f"
             ],
             [
              0.2222222222222222,
              "#7201a8"
             ],
             [
              0.3333333333333333,
              "#9c179e"
             ],
             [
              0.4444444444444444,
              "#bd3786"
             ],
             [
              0.5555555555555556,
              "#d8576b"
             ],
             [
              0.6666666666666666,
              "#ed7953"
             ],
             [
              0.7777777777777778,
              "#fb9f3a"
             ],
             [
              0.8888888888888888,
              "#fdca26"
             ],
             [
              1,
              "#f0f921"
             ]
            ],
            "type": "heatmapgl"
           }
          ],
          "histogram": [
           {
            "marker": {
             "pattern": {
              "fillmode": "overlay",
              "size": 10,
              "solidity": 0.2
             }
            },
            "type": "histogram"
           }
          ],
          "histogram2d": [
           {
            "colorbar": {
             "outlinewidth": 0,
             "ticks": ""
            },
            "colorscale": [
             [
              0,
              "#0d0887"
             ],
             [
              0.1111111111111111,
              "#46039f"
             ],
             [
              0.2222222222222222,
              "#7201a8"
             ],
             [
              0.3333333333333333,
              "#9c179e"
             ],
             [
              0.4444444444444444,
              "#bd3786"
             ],
             [
              0.5555555555555556,
              "#d8576b"
             ],
             [
              0.6666666666666666,
              "#ed7953"
             ],
             [
              0.7777777777777778,
              "#fb9f3a"
             ],
             [
              0.8888888888888888,
              "#fdca26"
             ],
             [
              1,
              "#f0f921"
             ]
            ],
            "type": "histogram2d"
           }
          ],
          "histogram2dcontour": [
           {
            "colorbar": {
             "outlinewidth": 0,
             "ticks": ""
            },
            "colorscale": [
             [
              0,
              "#0d0887"
             ],
             [
              0.1111111111111111,
              "#46039f"
             ],
             [
              0.2222222222222222,
              "#7201a8"
             ],
             [
              0.3333333333333333,
              "#9c179e"
             ],
             [
              0.4444444444444444,
              "#bd3786"
             ],
             [
              0.5555555555555556,
              "#d8576b"
             ],
             [
              0.6666666666666666,
              "#ed7953"
             ],
             [
              0.7777777777777778,
              "#fb9f3a"
             ],
             [
              0.8888888888888888,
              "#fdca26"
             ],
             [
              1,
              "#f0f921"
             ]
            ],
            "type": "histogram2dcontour"
           }
          ],
          "mesh3d": [
           {
            "colorbar": {
             "outlinewidth": 0,
             "ticks": ""
            },
            "type": "mesh3d"
           }
          ],
          "parcoords": [
           {
            "line": {
             "colorbar": {
              "outlinewidth": 0,
              "ticks": ""
             }
            },
            "type": "parcoords"
           }
          ],
          "pie": [
           {
            "automargin": true,
            "type": "pie"
           }
          ],
          "scatter": [
           {
            "fillpattern": {
             "fillmode": "overlay",
             "size": 10,
             "solidity": 0.2
            },
            "type": "scatter"
           }
          ],
          "scatter3d": [
           {
            "line": {
             "colorbar": {
              "outlinewidth": 0,
              "ticks": ""
             }
            },
            "marker": {
             "colorbar": {
              "outlinewidth": 0,
              "ticks": ""
             }
            },
            "type": "scatter3d"
           }
          ],
          "scattercarpet": [
           {
            "marker": {
             "colorbar": {
              "outlinewidth": 0,
              "ticks": ""
             }
            },
            "type": "scattercarpet"
           }
          ],
          "scattergeo": [
           {
            "marker": {
             "colorbar": {
              "outlinewidth": 0,
              "ticks": ""
             }
            },
            "type": "scattergeo"
           }
          ],
          "scattergl": [
           {
            "marker": {
             "colorbar": {
              "outlinewidth": 0,
              "ticks": ""
             }
            },
            "type": "scattergl"
           }
          ],
          "scattermapbox": [
           {
            "marker": {
             "colorbar": {
              "outlinewidth": 0,
              "ticks": ""
             }
            },
            "type": "scattermapbox"
           }
          ],
          "scatterpolar": [
           {
            "marker": {
             "colorbar": {
              "outlinewidth": 0,
              "ticks": ""
             }
            },
            "type": "scatterpolar"
           }
          ],
          "scatterpolargl": [
           {
            "marker": {
             "colorbar": {
              "outlinewidth": 0,
              "ticks": ""
             }
            },
            "type": "scatterpolargl"
           }
          ],
          "scatterternary": [
           {
            "marker": {
             "colorbar": {
              "outlinewidth": 0,
              "ticks": ""
             }
            },
            "type": "scatterternary"
           }
          ],
          "surface": [
           {
            "colorbar": {
             "outlinewidth": 0,
             "ticks": ""
            },
            "colorscale": [
             [
              0,
              "#0d0887"
             ],
             [
              0.1111111111111111,
              "#46039f"
             ],
             [
              0.2222222222222222,
              "#7201a8"
             ],
             [
              0.3333333333333333,
              "#9c179e"
             ],
             [
              0.4444444444444444,
              "#bd3786"
             ],
             [
              0.5555555555555556,
              "#d8576b"
             ],
             [
              0.6666666666666666,
              "#ed7953"
             ],
             [
              0.7777777777777778,
              "#fb9f3a"
             ],
             [
              0.8888888888888888,
              "#fdca26"
             ],
             [
              1,
              "#f0f921"
             ]
            ],
            "type": "surface"
           }
          ],
          "table": [
           {
            "cells": {
             "fill": {
              "color": "#EBF0F8"
             },
             "line": {
              "color": "white"
             }
            },
            "header": {
             "fill": {
              "color": "#C8D4E3"
             },
             "line": {
              "color": "white"
             }
            },
            "type": "table"
           }
          ]
         },
         "layout": {
          "annotationdefaults": {
           "arrowcolor": "#2a3f5f",
           "arrowhead": 0,
           "arrowwidth": 1
          },
          "autotypenumbers": "strict",
          "coloraxis": {
           "colorbar": {
            "outlinewidth": 0,
            "ticks": ""
           }
          },
          "colorscale": {
           "diverging": [
            [
             0,
             "#8e0152"
            ],
            [
             0.1,
             "#c51b7d"
            ],
            [
             0.2,
             "#de77ae"
            ],
            [
             0.3,
             "#f1b6da"
            ],
            [
             0.4,
             "#fde0ef"
            ],
            [
             0.5,
             "#f7f7f7"
            ],
            [
             0.6,
             "#e6f5d0"
            ],
            [
             0.7,
             "#b8e186"
            ],
            [
             0.8,
             "#7fbc41"
            ],
            [
             0.9,
             "#4d9221"
            ],
            [
             1,
             "#276419"
            ]
           ],
           "sequential": [
            [
             0,
             "#0d0887"
            ],
            [
             0.1111111111111111,
             "#46039f"
            ],
            [
             0.2222222222222222,
             "#7201a8"
            ],
            [
             0.3333333333333333,
             "#9c179e"
            ],
            [
             0.4444444444444444,
             "#bd3786"
            ],
            [
             0.5555555555555556,
             "#d8576b"
            ],
            [
             0.6666666666666666,
             "#ed7953"
            ],
            [
             0.7777777777777778,
             "#fb9f3a"
            ],
            [
             0.8888888888888888,
             "#fdca26"
            ],
            [
             1,
             "#f0f921"
            ]
           ],
           "sequentialminus": [
            [
             0,
             "#0d0887"
            ],
            [
             0.1111111111111111,
             "#46039f"
            ],
            [
             0.2222222222222222,
             "#7201a8"
            ],
            [
             0.3333333333333333,
             "#9c179e"
            ],
            [
             0.4444444444444444,
             "#bd3786"
            ],
            [
             0.5555555555555556,
             "#d8576b"
            ],
            [
             0.6666666666666666,
             "#ed7953"
            ],
            [
             0.7777777777777778,
             "#fb9f3a"
            ],
            [
             0.8888888888888888,
             "#fdca26"
            ],
            [
             1,
             "#f0f921"
            ]
           ]
          },
          "colorway": [
           "#636efa",
           "#EF553B",
           "#00cc96",
           "#ab63fa",
           "#FFA15A",
           "#19d3f3",
           "#FF6692",
           "#B6E880",
           "#FF97FF",
           "#FECB52"
          ],
          "font": {
           "color": "#2a3f5f"
          },
          "geo": {
           "bgcolor": "white",
           "lakecolor": "white",
           "landcolor": "#E5ECF6",
           "showlakes": true,
           "showland": true,
           "subunitcolor": "white"
          },
          "hoverlabel": {
           "align": "left"
          },
          "hovermode": "closest",
          "mapbox": {
           "style": "light"
          },
          "paper_bgcolor": "white",
          "plot_bgcolor": "#E5ECF6",
          "polar": {
           "angularaxis": {
            "gridcolor": "white",
            "linecolor": "white",
            "ticks": ""
           },
           "bgcolor": "#E5ECF6",
           "radialaxis": {
            "gridcolor": "white",
            "linecolor": "white",
            "ticks": ""
           }
          },
          "scene": {
           "xaxis": {
            "backgroundcolor": "#E5ECF6",
            "gridcolor": "white",
            "gridwidth": 2,
            "linecolor": "white",
            "showbackground": true,
            "ticks": "",
            "zerolinecolor": "white"
           },
           "yaxis": {
            "backgroundcolor": "#E5ECF6",
            "gridcolor": "white",
            "gridwidth": 2,
            "linecolor": "white",
            "showbackground": true,
            "ticks": "",
            "zerolinecolor": "white"
           },
           "zaxis": {
            "backgroundcolor": "#E5ECF6",
            "gridcolor": "white",
            "gridwidth": 2,
            "linecolor": "white",
            "showbackground": true,
            "ticks": "",
            "zerolinecolor": "white"
           }
          },
          "shapedefaults": {
           "line": {
            "color": "#2a3f5f"
           }
          },
          "ternary": {
           "aaxis": {
            "gridcolor": "white",
            "linecolor": "white",
            "ticks": ""
           },
           "baxis": {
            "gridcolor": "white",
            "linecolor": "white",
            "ticks": ""
           },
           "bgcolor": "#E5ECF6",
           "caxis": {
            "gridcolor": "white",
            "linecolor": "white",
            "ticks": ""
           }
          },
          "title": {
           "x": 0.05
          },
          "xaxis": {
           "automargin": true,
           "gridcolor": "white",
           "linecolor": "white",
           "ticks": "",
           "title": {
            "standoff": 15
           },
           "zerolinecolor": "white",
           "zerolinewidth": 2
          },
          "yaxis": {
           "automargin": true,
           "gridcolor": "white",
           "linecolor": "white",
           "ticks": "",
           "title": {
            "standoff": 15
           },
           "zerolinecolor": "white",
           "zerolinewidth": 2
          }
         }
        },
        "xaxis": {
         "anchor": "y",
         "domain": [
          0,
          1
         ],
         "title": {
          "text": "num_gene_records"
         }
        },
        "yaxis": {
         "anchor": "x",
         "domain": [
          0,
          1
         ],
         "title": {
          "text": "percent_collision_symbol"
         }
        }
       }
      }
     },
     "metadata": {},
     "output_type": "display_data"
    }
   ],
   "source": [
    "create_aa_collision_histogram(aa_collision_gene_hgnc_df, \"HGNC\", hgnc_aa_collision_count)"
   ]
  },
  {
   "cell_type": "code",
   "execution_count": 120,
   "metadata": {},
   "outputs": [],
   "source": [
    "aa_collision_hgnc_count_df = pd.read_csv(\n",
    "    \"../output/aa_collision_hgnc_count_df.csv\", index_col=[0])"
   ]
  },
  {
   "cell_type": "code",
   "execution_count": 121,
   "metadata": {},
   "outputs": [],
   "source": [
    "aa_collision_hgnc_distribution_df = pd.read_csv(\n",
    "    \"../output/aa_collision_hgnc_distribution_df.csv\", index_col=[0])"
   ]
  },
  {
   "cell_type": "code",
   "execution_count": 122,
   "metadata": {},
   "outputs": [],
   "source": [
    "hgnc_alias_count_histogram_df = pd.read_csv(\n",
    "    \"../output/hgnc_alias_count_histogram_df.csv\", index_col=[0])"
   ]
  },
  {
   "cell_type": "code",
   "execution_count": 123,
   "metadata": {},
   "outputs": [],
   "source": [
    "ncbi_alias_symbol_set = set(subset_genes_ncbi_df[\"alias_symbol\"])\n",
    "ncbi_alias_count = len(ncbi_alias_symbol_set)"
   ]
  },
  {
   "cell_type": "code",
   "execution_count": 124,
   "metadata": {},
   "outputs": [
    {
     "data": {
      "application/vnd.plotly.v1+json": {
       "config": {
        "plotlyServerURL": "https://plot.ly"
       },
       "data": [
        {
         "alignmentgroup": "True",
         "hovertemplate": "num_gene_records=%{x}<br>percent_collision_symbol=%{y}<extra></extra>",
         "legendgroup": "",
         "marker": {
          "color": "#636efa",
          "pattern": {
           "shape": ""
          }
         },
         "name": "",
         "offsetgroup": "",
         "orientation": "v",
         "showlegend": false,
         "textposition": "auto",
         "type": "bar",
         "x": [
          2,
          3,
          4,
          5,
          6,
          7,
          8,
          9,
          10,
          11,
          12,
          13,
          14,
          37
         ],
         "xaxis": "x",
         "y": [
          79.90743261638987,
          12.08821127144024,
          4.0021780560849445,
          1.524639259460931,
          0.7350939286686632,
          0.4628369180506398,
          0.2450313095562211,
          0.4083855159270351,
          0.054451402123604685,
          0.08167710318540702,
          0.054451402123604685,
          0.38115981486523276,
          0.027225701061802342,
          0.027225701061802342
         ],
         "yaxis": "y"
        }
       ],
       "layout": {
        "barmode": "relative",
        "legend": {
         "tracegroupgap": 0
        },
        "margin": {
         "t": 60
        },
        "template": {
         "data": {
          "bar": [
           {
            "error_x": {
             "color": "#2a3f5f"
            },
            "error_y": {
             "color": "#2a3f5f"
            },
            "marker": {
             "line": {
              "color": "#E5ECF6",
              "width": 0.5
             },
             "pattern": {
              "fillmode": "overlay",
              "size": 10,
              "solidity": 0.2
             }
            },
            "type": "bar"
           }
          ],
          "barpolar": [
           {
            "marker": {
             "line": {
              "color": "#E5ECF6",
              "width": 0.5
             },
             "pattern": {
              "fillmode": "overlay",
              "size": 10,
              "solidity": 0.2
             }
            },
            "type": "barpolar"
           }
          ],
          "carpet": [
           {
            "aaxis": {
             "endlinecolor": "#2a3f5f",
             "gridcolor": "white",
             "linecolor": "white",
             "minorgridcolor": "white",
             "startlinecolor": "#2a3f5f"
            },
            "baxis": {
             "endlinecolor": "#2a3f5f",
             "gridcolor": "white",
             "linecolor": "white",
             "minorgridcolor": "white",
             "startlinecolor": "#2a3f5f"
            },
            "type": "carpet"
           }
          ],
          "choropleth": [
           {
            "colorbar": {
             "outlinewidth": 0,
             "ticks": ""
            },
            "type": "choropleth"
           }
          ],
          "contour": [
           {
            "colorbar": {
             "outlinewidth": 0,
             "ticks": ""
            },
            "colorscale": [
             [
              0,
              "#0d0887"
             ],
             [
              0.1111111111111111,
              "#46039f"
             ],
             [
              0.2222222222222222,
              "#7201a8"
             ],
             [
              0.3333333333333333,
              "#9c179e"
             ],
             [
              0.4444444444444444,
              "#bd3786"
             ],
             [
              0.5555555555555556,
              "#d8576b"
             ],
             [
              0.6666666666666666,
              "#ed7953"
             ],
             [
              0.7777777777777778,
              "#fb9f3a"
             ],
             [
              0.8888888888888888,
              "#fdca26"
             ],
             [
              1,
              "#f0f921"
             ]
            ],
            "type": "contour"
           }
          ],
          "contourcarpet": [
           {
            "colorbar": {
             "outlinewidth": 0,
             "ticks": ""
            },
            "type": "contourcarpet"
           }
          ],
          "heatmap": [
           {
            "colorbar": {
             "outlinewidth": 0,
             "ticks": ""
            },
            "colorscale": [
             [
              0,
              "#0d0887"
             ],
             [
              0.1111111111111111,
              "#46039f"
             ],
             [
              0.2222222222222222,
              "#7201a8"
             ],
             [
              0.3333333333333333,
              "#9c179e"
             ],
             [
              0.4444444444444444,
              "#bd3786"
             ],
             [
              0.5555555555555556,
              "#d8576b"
             ],
             [
              0.6666666666666666,
              "#ed7953"
             ],
             [
              0.7777777777777778,
              "#fb9f3a"
             ],
             [
              0.8888888888888888,
              "#fdca26"
             ],
             [
              1,
              "#f0f921"
             ]
            ],
            "type": "heatmap"
           }
          ],
          "heatmapgl": [
           {
            "colorbar": {
             "outlinewidth": 0,
             "ticks": ""
            },
            "colorscale": [
             [
              0,
              "#0d0887"
             ],
             [
              0.1111111111111111,
              "#46039f"
             ],
             [
              0.2222222222222222,
              "#7201a8"
             ],
             [
              0.3333333333333333,
              "#9c179e"
             ],
             [
              0.4444444444444444,
              "#bd3786"
             ],
             [
              0.5555555555555556,
              "#d8576b"
             ],
             [
              0.6666666666666666,
              "#ed7953"
             ],
             [
              0.7777777777777778,
              "#fb9f3a"
             ],
             [
              0.8888888888888888,
              "#fdca26"
             ],
             [
              1,
              "#f0f921"
             ]
            ],
            "type": "heatmapgl"
           }
          ],
          "histogram": [
           {
            "marker": {
             "pattern": {
              "fillmode": "overlay",
              "size": 10,
              "solidity": 0.2
             }
            },
            "type": "histogram"
           }
          ],
          "histogram2d": [
           {
            "colorbar": {
             "outlinewidth": 0,
             "ticks": ""
            },
            "colorscale": [
             [
              0,
              "#0d0887"
             ],
             [
              0.1111111111111111,
              "#46039f"
             ],
             [
              0.2222222222222222,
              "#7201a8"
             ],
             [
              0.3333333333333333,
              "#9c179e"
             ],
             [
              0.4444444444444444,
              "#bd3786"
             ],
             [
              0.5555555555555556,
              "#d8576b"
             ],
             [
              0.6666666666666666,
              "#ed7953"
             ],
             [
              0.7777777777777778,
              "#fb9f3a"
             ],
             [
              0.8888888888888888,
              "#fdca26"
             ],
             [
              1,
              "#f0f921"
             ]
            ],
            "type": "histogram2d"
           }
          ],
          "histogram2dcontour": [
           {
            "colorbar": {
             "outlinewidth": 0,
             "ticks": ""
            },
            "colorscale": [
             [
              0,
              "#0d0887"
             ],
             [
              0.1111111111111111,
              "#46039f"
             ],
             [
              0.2222222222222222,
              "#7201a8"
             ],
             [
              0.3333333333333333,
              "#9c179e"
             ],
             [
              0.4444444444444444,
              "#bd3786"
             ],
             [
              0.5555555555555556,
              "#d8576b"
             ],
             [
              0.6666666666666666,
              "#ed7953"
             ],
             [
              0.7777777777777778,
              "#fb9f3a"
             ],
             [
              0.8888888888888888,
              "#fdca26"
             ],
             [
              1,
              "#f0f921"
             ]
            ],
            "type": "histogram2dcontour"
           }
          ],
          "mesh3d": [
           {
            "colorbar": {
             "outlinewidth": 0,
             "ticks": ""
            },
            "type": "mesh3d"
           }
          ],
          "parcoords": [
           {
            "line": {
             "colorbar": {
              "outlinewidth": 0,
              "ticks": ""
             }
            },
            "type": "parcoords"
           }
          ],
          "pie": [
           {
            "automargin": true,
            "type": "pie"
           }
          ],
          "scatter": [
           {
            "fillpattern": {
             "fillmode": "overlay",
             "size": 10,
             "solidity": 0.2
            },
            "type": "scatter"
           }
          ],
          "scatter3d": [
           {
            "line": {
             "colorbar": {
              "outlinewidth": 0,
              "ticks": ""
             }
            },
            "marker": {
             "colorbar": {
              "outlinewidth": 0,
              "ticks": ""
             }
            },
            "type": "scatter3d"
           }
          ],
          "scattercarpet": [
           {
            "marker": {
             "colorbar": {
              "outlinewidth": 0,
              "ticks": ""
             }
            },
            "type": "scattercarpet"
           }
          ],
          "scattergeo": [
           {
            "marker": {
             "colorbar": {
              "outlinewidth": 0,
              "ticks": ""
             }
            },
            "type": "scattergeo"
           }
          ],
          "scattergl": [
           {
            "marker": {
             "colorbar": {
              "outlinewidth": 0,
              "ticks": ""
             }
            },
            "type": "scattergl"
           }
          ],
          "scattermapbox": [
           {
            "marker": {
             "colorbar": {
              "outlinewidth": 0,
              "ticks": ""
             }
            },
            "type": "scattermapbox"
           }
          ],
          "scatterpolar": [
           {
            "marker": {
             "colorbar": {
              "outlinewidth": 0,
              "ticks": ""
             }
            },
            "type": "scatterpolar"
           }
          ],
          "scatterpolargl": [
           {
            "marker": {
             "colorbar": {
              "outlinewidth": 0,
              "ticks": ""
             }
            },
            "type": "scatterpolargl"
           }
          ],
          "scatterternary": [
           {
            "marker": {
             "colorbar": {
              "outlinewidth": 0,
              "ticks": ""
             }
            },
            "type": "scatterternary"
           }
          ],
          "surface": [
           {
            "colorbar": {
             "outlinewidth": 0,
             "ticks": ""
            },
            "colorscale": [
             [
              0,
              "#0d0887"
             ],
             [
              0.1111111111111111,
              "#46039f"
             ],
             [
              0.2222222222222222,
              "#7201a8"
             ],
             [
              0.3333333333333333,
              "#9c179e"
             ],
             [
              0.4444444444444444,
              "#bd3786"
             ],
             [
              0.5555555555555556,
              "#d8576b"
             ],
             [
              0.6666666666666666,
              "#ed7953"
             ],
             [
              0.7777777777777778,
              "#fb9f3a"
             ],
             [
              0.8888888888888888,
              "#fdca26"
             ],
             [
              1,
              "#f0f921"
             ]
            ],
            "type": "surface"
           }
          ],
          "table": [
           {
            "cells": {
             "fill": {
              "color": "#EBF0F8"
             },
             "line": {
              "color": "white"
             }
            },
            "header": {
             "fill": {
              "color": "#C8D4E3"
             },
             "line": {
              "color": "white"
             }
            },
            "type": "table"
           }
          ]
         },
         "layout": {
          "annotationdefaults": {
           "arrowcolor": "#2a3f5f",
           "arrowhead": 0,
           "arrowwidth": 1
          },
          "autotypenumbers": "strict",
          "coloraxis": {
           "colorbar": {
            "outlinewidth": 0,
            "ticks": ""
           }
          },
          "colorscale": {
           "diverging": [
            [
             0,
             "#8e0152"
            ],
            [
             0.1,
             "#c51b7d"
            ],
            [
             0.2,
             "#de77ae"
            ],
            [
             0.3,
             "#f1b6da"
            ],
            [
             0.4,
             "#fde0ef"
            ],
            [
             0.5,
             "#f7f7f7"
            ],
            [
             0.6,
             "#e6f5d0"
            ],
            [
             0.7,
             "#b8e186"
            ],
            [
             0.8,
             "#7fbc41"
            ],
            [
             0.9,
             "#4d9221"
            ],
            [
             1,
             "#276419"
            ]
           ],
           "sequential": [
            [
             0,
             "#0d0887"
            ],
            [
             0.1111111111111111,
             "#46039f"
            ],
            [
             0.2222222222222222,
             "#7201a8"
            ],
            [
             0.3333333333333333,
             "#9c179e"
            ],
            [
             0.4444444444444444,
             "#bd3786"
            ],
            [
             0.5555555555555556,
             "#d8576b"
            ],
            [
             0.6666666666666666,
             "#ed7953"
            ],
            [
             0.7777777777777778,
             "#fb9f3a"
            ],
            [
             0.8888888888888888,
             "#fdca26"
            ],
            [
             1,
             "#f0f921"
            ]
           ],
           "sequentialminus": [
            [
             0,
             "#0d0887"
            ],
            [
             0.1111111111111111,
             "#46039f"
            ],
            [
             0.2222222222222222,
             "#7201a8"
            ],
            [
             0.3333333333333333,
             "#9c179e"
            ],
            [
             0.4444444444444444,
             "#bd3786"
            ],
            [
             0.5555555555555556,
             "#d8576b"
            ],
            [
             0.6666666666666666,
             "#ed7953"
            ],
            [
             0.7777777777777778,
             "#fb9f3a"
            ],
            [
             0.8888888888888888,
             "#fdca26"
            ],
            [
             1,
             "#f0f921"
            ]
           ]
          },
          "colorway": [
           "#636efa",
           "#EF553B",
           "#00cc96",
           "#ab63fa",
           "#FFA15A",
           "#19d3f3",
           "#FF6692",
           "#B6E880",
           "#FF97FF",
           "#FECB52"
          ],
          "font": {
           "color": "#2a3f5f"
          },
          "geo": {
           "bgcolor": "white",
           "lakecolor": "white",
           "landcolor": "#E5ECF6",
           "showlakes": true,
           "showland": true,
           "subunitcolor": "white"
          },
          "hoverlabel": {
           "align": "left"
          },
          "hovermode": "closest",
          "mapbox": {
           "style": "light"
          },
          "paper_bgcolor": "white",
          "plot_bgcolor": "#E5ECF6",
          "polar": {
           "angularaxis": {
            "gridcolor": "white",
            "linecolor": "white",
            "ticks": ""
           },
           "bgcolor": "#E5ECF6",
           "radialaxis": {
            "gridcolor": "white",
            "linecolor": "white",
            "ticks": ""
           }
          },
          "scene": {
           "xaxis": {
            "backgroundcolor": "#E5ECF6",
            "gridcolor": "white",
            "gridwidth": 2,
            "linecolor": "white",
            "showbackground": true,
            "ticks": "",
            "zerolinecolor": "white"
           },
           "yaxis": {
            "backgroundcolor": "#E5ECF6",
            "gridcolor": "white",
            "gridwidth": 2,
            "linecolor": "white",
            "showbackground": true,
            "ticks": "",
            "zerolinecolor": "white"
           },
           "zaxis": {
            "backgroundcolor": "#E5ECF6",
            "gridcolor": "white",
            "gridwidth": 2,
            "linecolor": "white",
            "showbackground": true,
            "ticks": "",
            "zerolinecolor": "white"
           }
          },
          "shapedefaults": {
           "line": {
            "color": "#2a3f5f"
           }
          },
          "ternary": {
           "aaxis": {
            "gridcolor": "white",
            "linecolor": "white",
            "ticks": ""
           },
           "baxis": {
            "gridcolor": "white",
            "linecolor": "white",
            "ticks": ""
           },
           "bgcolor": "#E5ECF6",
           "caxis": {
            "gridcolor": "white",
            "linecolor": "white",
            "ticks": ""
           }
          },
          "title": {
           "x": 0.05
          },
          "xaxis": {
           "automargin": true,
           "gridcolor": "white",
           "linecolor": "white",
           "ticks": "",
           "title": {
            "standoff": 15
           },
           "zerolinecolor": "white",
           "zerolinewidth": 2
          },
          "yaxis": {
           "automargin": true,
           "gridcolor": "white",
           "linecolor": "white",
           "ticks": "",
           "title": {
            "standoff": 15
           },
           "zerolinecolor": "white",
           "zerolinewidth": 2
          }
         }
        },
        "xaxis": {
         "anchor": "y",
         "domain": [
          0,
          1
         ],
         "title": {
          "text": "num_gene_records"
         }
        },
        "yaxis": {
         "anchor": "x",
         "domain": [
          0,
          1
         ],
         "title": {
          "text": "percent_collision_symbol"
         }
        }
       }
      }
     },
     "metadata": {},
     "output_type": "display_data"
    }
   ],
   "source": [
    "create_aa_collision_histogram(aa_collision_gene_ncbi_df, \"NCBI\", ncbi_aa_collision_count)"
   ]
  },
  {
   "cell_type": "code",
   "execution_count": 125,
   "metadata": {},
   "outputs": [],
   "source": [
    "aa_collision_ncbi_count_df = pd.read_csv(\n",
    "    \"../output/aa_collision_ncbi_count_df.csv\", index_col=[0])"
   ]
  },
  {
   "cell_type": "code",
   "execution_count": 126,
   "metadata": {},
   "outputs": [],
   "source": [
    "aa_collision_ncbi_distribution_df = pd.read_csv(\n",
    "    \"../output/aa_collision_ncbi_distribution_df.csv\", index_col=[0])"
   ]
  },
  {
   "cell_type": "code",
   "execution_count": 127,
   "metadata": {},
   "outputs": [],
   "source": [
    "ncbi_alias_count_histogram_df = pd.read_csv(\n",
    "    \"../output/ncbi_alias_count_histogram_df.csv\", index_col=[0])"
   ]
  },
  {
   "cell_type": "markdown",
   "metadata": {},
   "source": [
    "# <a id='toc11_'></a>[How many gene concept-alias relationships are there?](#toc0_)"
   ]
  },
  {
   "cell_type": "markdown",
   "metadata": {},
   "source": [
    "## <a id='toc10_1_'></a>[Per Source](#toc0_)"
   ]
  },
  {
   "cell_type": "code",
   "execution_count": 128,
   "metadata": {},
   "outputs": [],
   "source": [
    "ensg_primary_alias_pair_count = len(subset_genes_ensg_df)"
   ]
  },
  {
   "cell_type": "code",
   "execution_count": 129,
   "metadata": {},
   "outputs": [],
   "source": [
    "hgnc_primary_alias_pair_count = len(subset_genes_hgnc_df)"
   ]
  },
  {
   "cell_type": "code",
   "execution_count": 130,
   "metadata": {},
   "outputs": [],
   "source": [
    "ncbi_primary_alias_pair_count = len(subset_genes_ncbi_df)"
   ]
  },
  {
   "cell_type": "code",
   "execution_count": 131,
   "metadata": {},
   "outputs": [
    {
     "data": {
      "text/html": [
       "<div>\n",
       "<style scoped>\n",
       "    .dataframe tbody tr th:only-of-type {\n",
       "        vertical-align: middle;\n",
       "    }\n",
       "\n",
       "    .dataframe tbody tr th {\n",
       "        vertical-align: top;\n",
       "    }\n",
       "\n",
       "    .dataframe thead th {\n",
       "        text-align: right;\n",
       "    }\n",
       "</style>\n",
       "<table border=\"1\" class=\"dataframe\">\n",
       "  <thead>\n",
       "    <tr style=\"text-align: right;\">\n",
       "      <th></th>\n",
       "      <th>Number of Unique Gene Concept-Alias Pairs</th>\n",
       "    </tr>\n",
       "  </thead>\n",
       "  <tbody>\n",
       "    <tr>\n",
       "      <th>HGNC</th>\n",
       "      <td>57275</td>\n",
       "    </tr>\n",
       "    <tr>\n",
       "      <th>ENSG</th>\n",
       "      <td>44542</td>\n",
       "    </tr>\n",
       "    <tr>\n",
       "      <th>NCBI</th>\n",
       "      <td>73829</td>\n",
       "    </tr>\n",
       "  </tbody>\n",
       "</table>\n",
       "</div>"
      ],
      "text/plain": [
       "      Number of Unique Gene Concept-Alias Pairs\n",
       "HGNC                                      57275\n",
       "ENSG                                      44542\n",
       "NCBI                                      73829"
      ]
     },
     "execution_count": 131,
     "metadata": {},
     "output_type": "execute_result"
    }
   ],
   "source": [
    "primary_alias_pairs_summary_index = \"HGNC\", \"ENSG\", \"NCBI\"\n",
    "primary_alias_pairs_summary = {\n",
    "    \"Number of Unique Gene Concept-Alias Pairs\": [\n",
    "        ensg_primary_alias_pair_count,\n",
    "        hgnc_primary_alias_pair_count,\n",
    "        ncbi_primary_alias_pair_count,\n",
    "    ]\n",
    "}\n",
    "primary_alias_pairs_summary_df = pd.DataFrame(\n",
    "    primary_alias_pairs_summary, index=primary_alias_pairs_summary_index\n",
    ")\n",
    "primary_alias_pairs_summary_df"
   ]
  },
  {
   "cell_type": "markdown",
   "metadata": {},
   "source": [
    "## <a id='toc10_2_'></a>[All Sources](#toc0_)"
   ]
  },
  {
   "cell_type": "markdown",
   "metadata": {},
   "source": [
    "### <a id='toc10_2_1_'></a>[How many unique gene-alias pairs are found between all sources?](#toc0_)"
   ]
  },
  {
   "cell_type": "code",
   "execution_count": 132,
   "metadata": {},
   "outputs": [],
   "source": [
    "bw_all_sources_primary_alias_pairs_df = pd.concat(\n",
    "    [\n",
    "        subset_genes_ensg_df[[\"alias_symbol\", \"gene_symbol\"]],\n",
    "        subset_genes_hgnc_df[[\"alias_symbol\", \"gene_symbol\"]],\n",
    "        subset_genes_ncbi_df[[\"alias_symbol\", \"gene_symbol\"]],\n",
    "    ]\n",
    ")"
   ]
  },
  {
   "cell_type": "code",
   "execution_count": 133,
   "metadata": {},
   "outputs": [
    {
     "data": {
      "text/plain": [
       "175646"
      ]
     },
     "execution_count": 133,
     "metadata": {},
     "output_type": "execute_result"
    }
   ],
   "source": [
    "len(bw_all_sources_primary_alias_pairs_df)"
   ]
  },
  {
   "cell_type": "markdown",
   "metadata": {},
   "source": [
    "#### <a id='toc10_2_1_1_'></a>[Remove duplicate concept-alias pairs](#toc0_)"
   ]
  },
  {
   "cell_type": "code",
   "execution_count": 134,
   "metadata": {},
   "outputs": [],
   "source": [
    "bw_all_sources_primary_alias_pairs_df = bw_all_sources_primary_alias_pairs_df.drop_duplicates(\n",
    "    subset=[\"gene_symbol\", \"alias_symbol\"], keep=\"first\"\n",
    ")"
   ]
  },
  {
   "cell_type": "code",
   "execution_count": 135,
   "metadata": {},
   "outputs": [
    {
     "data": {
      "text/plain": [
       "86552"
      ]
     },
     "execution_count": 135,
     "metadata": {},
     "output_type": "execute_result"
    }
   ],
   "source": [
    "len(bw_all_sources_primary_alias_pairs_df)"
   ]
  },
  {
   "cell_type": "code",
   "execution_count": 136,
   "metadata": {},
   "outputs": [
    {
     "data": {
      "text/plain": [
       "87988"
      ]
     },
     "execution_count": 136,
     "metadata": {},
     "output_type": "execute_result"
    }
   ],
   "source": [
    "hgnc_prim_and_alias_gene_symbol_set = hgnc_alias_symbol_set.union(hgnc_gene_symbol_set)\n",
    "len(hgnc_prim_and_alias_gene_symbol_set)"
   ]
  },
  {
   "cell_type": "code",
   "execution_count": 137,
   "metadata": {},
   "outputs": [
    {
     "data": {
      "text/plain": [
       "112458"
      ]
     },
     "execution_count": 137,
     "metadata": {},
     "output_type": "execute_result"
    }
   ],
   "source": [
    "ncbi_prim_and_alias_gene_symbol_set = ncbi_alias_symbol_set.union(ncbi_gene_symbol_set)\n",
    "len(ncbi_prim_and_alias_gene_symbol_set)"
   ]
  },
  {
   "cell_type": "code",
   "execution_count": 138,
   "metadata": {},
   "outputs": [
    {
     "data": {
      "text/plain": [
       "95659"
      ]
     },
     "execution_count": 138,
     "metadata": {},
     "output_type": "execute_result"
    }
   ],
   "source": [
    "ensg_prim_and_alias_gene_symbol_set = ensg_alias_symbol_set.union(ensg_gene_symbol_set)\n",
    "len(ensg_prim_and_alias_gene_symbol_set)"
   ]
  },
  {
   "cell_type": "code",
   "execution_count": null,
   "metadata": {},
   "outputs": [],
   "source": []
  }
 ],
 "metadata": {
  "kernelspec": {
   "display_name": ".venv",
   "language": "python",
   "name": "python3"
  },
  "language_info": {
   "codemirror_mode": {
    "name": "ipython",
    "version": 3
   },
   "file_extension": ".py",
   "mimetype": "text/x-python",
   "name": "python",
   "nbconvert_exporter": "python",
   "pygments_lexer": "ipython3",
   "version": "3.11.7"
  }
 },
 "nbformat": 4,
 "nbformat_minor": 2
}
