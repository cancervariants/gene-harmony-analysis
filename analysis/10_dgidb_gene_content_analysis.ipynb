{
 "cells": [
  {
   "cell_type": "markdown",
   "metadata": {},
   "source": [
    "# <a id='toc1_'></a>[DGIdb ambiguous claims](#toc0_)"
   ]
  },
  {
   "cell_type": "markdown",
   "metadata": {},
   "source": [
    "**Table of contents**<a id='toc0_'></a>    \n",
    "- [DGIdb ambiguous claims](#toc1_)    \n",
    "    - [Analyzing similaritis b/w alias-primary and alias-alias collisions](#toc1_1_1_)    \n",
    "      - [Load merged alias-alias and alias-priamry collision sets. Symbols are the ambiguous symbols.](#toc1_1_1_1_)    \n",
    "      - [How many of the alias-primary collisions are also alias-alias collisions?](#toc1_1_1_2_)    \n",
    "      - [How many unique ambiguous symbosl are there b/w alias-primary and alias-alias collisions?](#toc1_1_1_3_)    \n",
    "    - [Primary exploration of DGIdb gene content using collisions](#toc1_1_2_)    \n",
    "      - [Load gene claim data from DGIdb](#toc1_1_2_1_)    \n",
    "      - [How many claims are placed in a gene group with a different label?](#toc1_1_2_2_)    \n",
    "      - [How many claims are not normalized?](#toc1_1_2_3_)    \n",
    "      - [Create set of gene groups (gene_name) and gene claims (gene_claim_name)](#toc1_1_2_4_)    \n",
    "      - [Load HGNC, Ensembl (ENSG), and NCBI gene and alias sets](#toc1_1_2_5_)    \n",
    "      - [How many unique primary gene symbols are there b/w HGNC, Ensembl, and NCBI?](#toc1_1_2_6_)    \n",
    "      - [How many unique alias symbols are there b/w HGNC, Ensembl, and NCBI?](#toc1_1_2_7_)    \n",
    "      - [How many unique group names are not primary gene symbols?](#toc1_1_2_8_)    \n",
    "      - [How many unique claims are not primary gene symbols?](#toc1_1_2_9_)    \n",
    "      - [Load the collision sets from each data source](#toc1_1_2_10_)    \n",
    "      - [How many unique group names are primary gene symbols?](#toc1_1_2_11_)    \n",
    "      - [How many of the groups that are labeled with a primary gene symbol are also alias-alias collisions?](#toc1_1_2_12_)    \n",
    "      - [How many unique claim symbols are collisions?](#toc1_1_2_13_)    \n",
    "      - [How many unique groups are labeled with collisions?](#toc1_1_2_14_)    \n",
    "      - [How many unique claims are not primary gene symbols?](#toc1_1_2_15_)    \n",
    "      - [How many unique claims that were not primary symbols are collisions?](#toc1_1_2_16_)    \n",
    "      - [How many unique claims that are primary gene symbols are also collisions?](#toc1_1_2_17_)    \n",
    "      - [How many of the gene groups that are not primary gene symbols are alias-alias collisions from HGNC?](#toc1_1_2_18_)    \n",
    "      - [How many claims are ambiguous symbols?](#toc1_1_2_19_)    \n",
    "      - [How many gene group labels are ambiguous symbols?](#toc1_1_2_20_)    \n",
    "      - [How many claims are primary symbols?](#toc1_1_2_21_)    \n",
    "      - [How many gene group labels are primary symbols?](#toc1_1_2_22_)    \n",
    "      - [How many gene group labels are alias symbols?](#toc1_1_2_23_)    \n",
    "      - [How many claims are alias symbols?](#toc1_1_2_24_)    \n",
    "      - [How many claims that were normalized into non-primary symbol labeled groups are alias symbols?](#toc1_1_2_25_)    \n",
    "      - [How many not normalized claims are alias symbols?](#toc1_1_2_26_)    \n",
    "      - [How many gene group labels are not primary, alias symbols, or null?](#toc1_1_2_27_)    \n",
    "      - [How many claims are not primary, alias symbols, or null?](#toc1_1_2_28_)    \n",
    "      - [How many claims are primary and alias symbols?](#toc1_1_2_29_)    \n",
    "      - [How many primary symbol claims are normalized into non-primary gene group labels?](#toc1_1_2_30_)    \n",
    "    - [Summary](#toc1_1_3_)    \n",
    "      - [Normalization Rates](#toc1_1_3_1_)    \n",
    "      - [Types of Claim Symbols](#toc1_1_3_2_)    \n",
    "      - [Types of Normalizations (gene group labels claims are being normliazed into)](#toc1_1_3_3_)    \n",
    "\n",
    "<!-- vscode-jupyter-toc-config\n",
    "\tnumbering=false\n",
    "\tanchor=true\n",
    "\tflat=false\n",
    "\tminLevel=1\n",
    "\tmaxLevel=6\n",
    "\t/vscode-jupyter-toc-config -->\n",
    "<!-- THIS CELL WILL BE REPLACED ON TOC UPDATE. DO NOT WRITE YOUR TEXT IN THIS CELL -->"
   ]
  },
  {
   "cell_type": "code",
   "execution_count": 1,
   "metadata": {},
   "outputs": [],
   "source": [
    "import pandas as pd\n",
    "import numpy as np\n",
    "import plotly.express as px"
   ]
  },
  {
   "cell_type": "markdown",
   "metadata": {},
   "source": [
    "### <a id='toc1_1_1_'></a>[Analyzing similarities b/w alias-primary and alias-alias collisions](#toc0_)"
   ]
  },
  {
   "cell_type": "markdown",
   "metadata": {},
   "source": [
    "#### <a id='toc1_1_1_1_'></a>[Load merged alias-alias and alias-priamry collision sets. Symbols are the ambiguous symbols.](#toc0_)"
   ]
  },
  {
   "cell_type": "markdown",
   "metadata": {},
   "source": [
    "Input: merged_alias_gene_intersections.csv (total_alias_gene_intersections.ipynb), merged_alias_overlap_df_2.csv (total_alias_overlap.ipynb)"
   ]
  },
  {
   "cell_type": "markdown",
   "metadata": {},
   "source": [
    "Output: merged_alias_primary_collision_set, merged_alias_alias_collision_set"
   ]
  },
  {
   "cell_type": "code",
   "execution_count": 2,
   "metadata": {},
   "outputs": [],
   "source": [
    "merged_alias_primary_collisions_df = pd.read_csv(\n",
    "    \"../output/merged_alias_primary_collisions_df.csv\", na_values=[\"\", \"NULL\"], keep_default_na=False\n",
    ")"
   ]
  },
  {
   "cell_type": "code",
   "execution_count": 3,
   "metadata": {},
   "outputs": [
    {
     "data": {
      "text/plain": [
       "1602"
      ]
     },
     "execution_count": 3,
     "metadata": {},
     "output_type": "execute_result"
    }
   ],
   "source": [
    "merged_alias_primary_collision_set = set(\n",
    "    merged_alias_primary_collisions_df[\"collision\"]\n",
    ")\n",
    "len(merged_alias_primary_collision_set)"
   ]
  },
  {
   "cell_type": "code",
   "execution_count": 4,
   "metadata": {},
   "outputs": [],
   "source": [
    "merged_alias_alias_collisions_df = pd.read_csv(\n",
    "    \"../output/merged_aa_collision_alias_df.csv\", na_values=[\"\", \"NULL\"], keep_default_na=False\n",
    ")"
   ]
  },
  {
   "cell_type": "code",
   "execution_count": 5,
   "metadata": {},
   "outputs": [
    {
     "data": {
      "text/plain": [
       "3809"
      ]
     },
     "execution_count": 5,
     "metadata": {},
     "output_type": "execute_result"
    }
   ],
   "source": [
    "merged_alias_alias_collision_set = set(\n",
    "    merged_alias_alias_collisions_df[\"collision\"].tolist()\n",
    ")\n",
    "len(merged_alias_alias_collision_set)"
   ]
  },
  {
   "cell_type": "code",
   "execution_count": 6,
   "metadata": {},
   "outputs": [],
   "source": [
    "merged_alias_alias_collision_list = merged_alias_alias_collisions_df[\"collision\"].tolist()"
   ]
  },
  {
   "cell_type": "code",
   "execution_count": 7,
   "metadata": {},
   "outputs": [
    {
     "data": {
      "text/plain": [
       "'H4-16'"
      ]
     },
     "execution_count": 7,
     "metadata": {},
     "output_type": "execute_result"
    }
   ],
   "source": [
    "merged_alias_alias_collision_list[1]"
   ]
  },
  {
   "cell_type": "markdown",
   "metadata": {},
   "source": [
    "#### <a id='toc1_1_1_2_'></a>[How many of the alias-primary collisions are also alias-alias collisions?](#toc0_)"
   ]
  },
  {
   "cell_type": "code",
   "execution_count": 8,
   "metadata": {},
   "outputs": [
    {
     "name": "stdout",
     "output_type": "stream",
     "text": [
      "220\n"
     ]
    }
   ],
   "source": [
    "print(\n",
    "    len(\n",
    "        merged_alias_alias_collision_set.intersection(\n",
    "            merged_alias_primary_collision_set\n",
    "        )\n",
    "    )\n",
    ")"
   ]
  },
  {
   "cell_type": "markdown",
   "metadata": {},
   "source": [
    "#### <a id='toc1_1_1_3_'></a>[How many unique ambiguous symbols are there b/w alias-primary and alias-alias collisions?](#toc0_)"
   ]
  },
  {
   "cell_type": "code",
   "execution_count": 9,
   "metadata": {},
   "outputs": [
    {
     "name": "stdout",
     "output_type": "stream",
     "text": [
      "5191\n"
     ]
    }
   ],
   "source": [
    "ambiguous_symbol_set = merged_alias_alias_collision_set.union(\n",
    "    merged_alias_primary_collision_set\n",
    ")\n",
    "print(len(ambiguous_symbol_set))"
   ]
  },
  {
   "cell_type": "code",
   "execution_count": 10,
   "metadata": {},
   "outputs": [
    {
     "data": {
      "text/plain": [
       "{'GUSBP1',\n",
       " 'HGFL',\n",
       " 'KFSD',\n",
       " 'SOAT',\n",
       " 'TRNAMI2',\n",
       " 'CHL',\n",
       " 'CAPS',\n",
       " 'BD-4',\n",
       " 'KV11.1',\n",
       " 'ZNF32',\n",
       " 'PRR20C',\n",
       " 'SHP1',\n",
       " 'RAX',\n",
       " 'PXMP1',\n",
       " 'SPANXE',\n",
       " 'NOP9',\n",
       " 'CAS2',\n",
       " 'ZNF2',\n",
       " 'KAT1',\n",
       " 'TRY1',\n",
       " 'HET',\n",
       " 'TRF-GAA1-1',\n",
       " 'GCD10',\n",
       " 'HRG',\n",
       " 'EEF1AKMT4',\n",
       " 'FRA3B',\n",
       " 'C10ORF77',\n",
       " 'AR',\n",
       " 'GUCA2',\n",
       " 'MRS',\n",
       " 'U3',\n",
       " 'CSN3',\n",
       " 'SSB1',\n",
       " 'HNRPG',\n",
       " 'BETA2',\n",
       " 'NET5',\n",
       " 'GLUT10',\n",
       " 'H2BFA',\n",
       " 'SCA31',\n",
       " 'LNCBRM',\n",
       " 'XBP1',\n",
       " 'PAAT',\n",
       " 'HARS2',\n",
       " 'GST2',\n",
       " 'PGG/HS',\n",
       " 'ARIP1',\n",
       " 'GALNT16',\n",
       " 'SSX',\n",
       " 'NF1L4',\n",
       " 'GCR2',\n",
       " 'IMP4',\n",
       " 'H-PLK',\n",
       " 'BTR',\n",
       " 'HBB',\n",
       " 'FSIP2-AS2',\n",
       " 'TAF',\n",
       " 'CHL1',\n",
       " 'API5L1',\n",
       " 'AGM1',\n",
       " 'LINC02254',\n",
       " 'BAM',\n",
       " 'RGP3',\n",
       " 'PI',\n",
       " 'C20ORF197',\n",
       " 'GAGE-9',\n",
       " 'CRF',\n",
       " 'COP',\n",
       " 'KRTAP2.1A',\n",
       " 'LINC01558',\n",
       " 'BBP',\n",
       " 'CLIC5',\n",
       " 'TRIM34',\n",
       " 'TCRAV7S1',\n",
       " 'NECC1',\n",
       " 'LINC02110',\n",
       " 'L18',\n",
       " 'SGS',\n",
       " 'LCAD',\n",
       " 'TRN',\n",
       " 'ACA59',\n",
       " 'P240',\n",
       " 'NOP',\n",
       " 'FGF2',\n",
       " 'KRAS',\n",
       " 'FAPP2',\n",
       " 'ACTP1',\n",
       " 'PRSSL1',\n",
       " 'C9ORF36',\n",
       " 'U5B1',\n",
       " 'ERV1',\n",
       " 'DSK2',\n",
       " 'ME1',\n",
       " 'SMN-AS1',\n",
       " 'CREB3',\n",
       " 'TAF2C2',\n",
       " 'AGS2',\n",
       " 'UGT1-01',\n",
       " 'CRHSP24',\n",
       " 'SAC2',\n",
       " 'FBLP1',\n",
       " 'RP66',\n",
       " 'RNU12',\n",
       " 'DIA2',\n",
       " 'MSE',\n",
       " 'DLG3',\n",
       " 'MZF-1',\n",
       " 'LINC01017',\n",
       " 'HSF2L',\n",
       " 'KOP',\n",
       " 'TEL2',\n",
       " 'MDCR',\n",
       " 'IGER',\n",
       " 'RALBP1',\n",
       " 'CKR-1',\n",
       " 'P50',\n",
       " 'MYH14',\n",
       " 'OPA1',\n",
       " 'PAB1',\n",
       " 'MOB1',\n",
       " 'H2AC11',\n",
       " 'MINT',\n",
       " 'SIP1',\n",
       " 'H3.1',\n",
       " 'INPP5E',\n",
       " 'FADS6',\n",
       " 'VAT1',\n",
       " 'C7ORF28A',\n",
       " 'M-ABC1',\n",
       " 'ADK',\n",
       " 'H3C11',\n",
       " 'HCCA2',\n",
       " 'DEFB108B',\n",
       " 'TAN1',\n",
       " 'OI12',\n",
       " 'HSP72',\n",
       " 'ODF2',\n",
       " 'PIF',\n",
       " 'SPO',\n",
       " 'TRF-GAA1-3',\n",
       " 'GLUR2',\n",
       " 'PTC',\n",
       " 'MT1K',\n",
       " 'ASRT2',\n",
       " 'MAGEA6',\n",
       " 'ASC',\n",
       " 'TTTY21B',\n",
       " 'TTP',\n",
       " 'IL1RA',\n",
       " 'P52',\n",
       " 'DBC1',\n",
       " 'RNH1',\n",
       " 'PAPA1',\n",
       " 'CCA1',\n",
       " 'PUM',\n",
       " 'RNF35',\n",
       " 'U2AF1L4',\n",
       " 'CPD',\n",
       " 'CAF1A',\n",
       " 'AGPS',\n",
       " 'USP12-DT',\n",
       " 'ATFB1',\n",
       " 'SCCA1',\n",
       " 'TRE-TTC1-1',\n",
       " 'C10ORF101',\n",
       " 'GALNT17',\n",
       " 'TR3',\n",
       " 'SPRK',\n",
       " 'PK1',\n",
       " 'LYPLAL1-AS1',\n",
       " 'LAK',\n",
       " 'DP1',\n",
       " 'H3F3AP1',\n",
       " 'HBD-8',\n",
       " 'GSP',\n",
       " 'RIP',\n",
       " 'RRP4',\n",
       " 'ARAT',\n",
       " 'RPL23',\n",
       " 'TRA-TGC3-2',\n",
       " 'SNT2',\n",
       " 'CAP2',\n",
       " 'CDW32',\n",
       " 'TCRAV26S1',\n",
       " 'PC4',\n",
       " 'BGR',\n",
       " 'KOX31',\n",
       " 'VMA5',\n",
       " 'LGMD1E',\n",
       " 'H3-3B',\n",
       " 'TRX',\n",
       " 'L15MT',\n",
       " 'THRRS',\n",
       " 'STY',\n",
       " 'TCRAV8S2',\n",
       " 'SEMAF',\n",
       " 'ATX',\n",
       " 'NLG1',\n",
       " 'EST',\n",
       " 'ICBP90',\n",
       " 'TLL',\n",
       " 'ZFP27',\n",
       " 'NAP1',\n",
       " 'MRX',\n",
       " 'U1P2A',\n",
       " 'CHE1',\n",
       " 'CKMT1',\n",
       " 'SMN',\n",
       " 'CIB',\n",
       " 'ATDC',\n",
       " 'WS3',\n",
       " 'CMT2A',\n",
       " 'ADPRTL3',\n",
       " 'GPR58',\n",
       " 'TAF2A',\n",
       " 'KIR2DL3',\n",
       " 'CXORF49',\n",
       " 'CT4.7',\n",
       " 'CFP1',\n",
       " 'TRNS',\n",
       " 'KPNA7',\n",
       " 'FIG',\n",
       " 'S100A16',\n",
       " 'DAGK5',\n",
       " 'ACP',\n",
       " 'RECQL3',\n",
       " 'LAT3',\n",
       " 'TSSK1',\n",
       " 'GTB',\n",
       " 'UBC6',\n",
       " 'SLURP2',\n",
       " 'TPP1',\n",
       " 'DFNB102',\n",
       " 'DDX21',\n",
       " 'CAF1',\n",
       " 'FGF-13',\n",
       " 'ANK',\n",
       " 'TC4',\n",
       " 'NPIPA8',\n",
       " 'TBP1',\n",
       " 'SARS',\n",
       " 'NL2',\n",
       " 'RBM1',\n",
       " 'MRT4',\n",
       " 'BRAP',\n",
       " 'IFP1',\n",
       " 'NFIC',\n",
       " 'C9ORF36A',\n",
       " 'HSD3',\n",
       " 'MEL',\n",
       " 'TRIM49B',\n",
       " 'L17',\n",
       " 'CTH',\n",
       " 'PIT-1',\n",
       " 'HB6',\n",
       " 'TENM3-AS2',\n",
       " 'TYMP',\n",
       " 'BEX1',\n",
       " 'CT78',\n",
       " 'TCRAV13S1',\n",
       " 'ALG14-AS1',\n",
       " 'DGCR2',\n",
       " 'OR11-3',\n",
       " 'SAR1',\n",
       " 'FRAG1',\n",
       " 'CLK1',\n",
       " 'L1AG',\n",
       " 'VWS2',\n",
       " 'VPS24',\n",
       " 'DYT17',\n",
       " 'C16ORF15',\n",
       " 'FCT3A',\n",
       " 'COD2',\n",
       " 'KIP2',\n",
       " 'CD158K',\n",
       " 'MIG-2',\n",
       " 'CT45-3',\n",
       " 'MGAT1',\n",
       " 'F3',\n",
       " 'MSP',\n",
       " 'SAMS',\n",
       " 'ELK',\n",
       " 'RPL10',\n",
       " 'MTTP',\n",
       " 'SSB2',\n",
       " 'MDC',\n",
       " 'LRP9',\n",
       " 'ARGRS',\n",
       " 'PIG11',\n",
       " 'HCAP',\n",
       " 'B17',\n",
       " 'LINC02696',\n",
       " 'MBD1',\n",
       " 'IDDM20',\n",
       " 'RNA5-8S4',\n",
       " 'METTL2A',\n",
       " 'DUPXP11.22',\n",
       " 'TTTY6',\n",
       " 'MPS1',\n",
       " 'KOX2',\n",
       " 'TRX1',\n",
       " 'S8',\n",
       " 'CAR1',\n",
       " 'EDG1',\n",
       " 'CT4.2',\n",
       " 'COD5',\n",
       " 'ERK',\n",
       " 'VIP21',\n",
       " 'CRABP-I',\n",
       " 'AMN',\n",
       " 'CDH1',\n",
       " 'COP1',\n",
       " 'APM-1',\n",
       " 'PBEF',\n",
       " 'IL-23',\n",
       " 'FACL1',\n",
       " 'P56',\n",
       " 'TRQ-CTG1-4',\n",
       " 'RPL29P3',\n",
       " 'KRTAP2-4',\n",
       " 'PDK1-AS1',\n",
       " 'SLC23A1',\n",
       " 'TRX-CAT1-3',\n",
       " 'OCT-3',\n",
       " 'CAK',\n",
       " 'OR19-4',\n",
       " 'IGO1',\n",
       " 'P4',\n",
       " 'PRL1',\n",
       " 'MOX2',\n",
       " 'RNA28S5',\n",
       " 'PCA1',\n",
       " 'H4C15',\n",
       " 'E4',\n",
       " 'CIP',\n",
       " 'TR-1',\n",
       " 'LIM1',\n",
       " 'PMS4',\n",
       " 'ADR',\n",
       " 'CDH20',\n",
       " 'ARF1',\n",
       " 'CAPZ',\n",
       " 'UBCM2',\n",
       " 'LRP',\n",
       " 'EEF1AL',\n",
       " 'CYP-M',\n",
       " 'HUB1',\n",
       " 'PSP2',\n",
       " 'FACE',\n",
       " 'IGFR1',\n",
       " 'NET3',\n",
       " 'CCK',\n",
       " 'CLE',\n",
       " 'HP1',\n",
       " 'FHC',\n",
       " 'LIN10',\n",
       " 'LINC01114',\n",
       " 'NPR2',\n",
       " 'TSBP',\n",
       " 'H4C16',\n",
       " 'ATP1A1',\n",
       " 'PB',\n",
       " 'PS2',\n",
       " 'KRTAP2.3',\n",
       " 'LGALS7',\n",
       " 'MIG6',\n",
       " 'PRX',\n",
       " 'GEP',\n",
       " 'REH',\n",
       " 'KAR',\n",
       " 'STIP-1',\n",
       " 'ARP2',\n",
       " 'SMC2',\n",
       " 'SST3',\n",
       " 'CMG1',\n",
       " 'STK7',\n",
       " 'KOX27',\n",
       " 'FBL2',\n",
       " 'OR1K1',\n",
       " 'PSMD15',\n",
       " 'GRTH',\n",
       " 'PRG5',\n",
       " 'U7',\n",
       " 'ETK',\n",
       " 'CPN1',\n",
       " 'SRM',\n",
       " 'RNU1-5',\n",
       " 'GPRASP3',\n",
       " 'IGNT',\n",
       " 'DHFRP1',\n",
       " 'PTPRZ',\n",
       " 'IFN-ALPHAI',\n",
       " 'DEFB-11',\n",
       " 'FCHL2',\n",
       " 'SUP',\n",
       " 'PMF1',\n",
       " 'SNO',\n",
       " 'EEIG1',\n",
       " 'FEB4',\n",
       " 'C1QTNF5',\n",
       " 'TTN',\n",
       " 'B37',\n",
       " 'NOL1',\n",
       " 'CG1',\n",
       " 'CN1',\n",
       " 'ACHRD',\n",
       " 'MES',\n",
       " 'CAF-1',\n",
       " 'BEX2',\n",
       " 'FAM75D3',\n",
       " 'TRL-AAG2-3',\n",
       " 'PNUTL3',\n",
       " 'MINERVA',\n",
       " 'DIA1',\n",
       " 'TR1',\n",
       " 'FOXD4B',\n",
       " 'FAME',\n",
       " 'C7ORF70',\n",
       " 'OR19-6',\n",
       " 'DDAH',\n",
       " 'PSS1',\n",
       " 'RBM',\n",
       " 'DADR',\n",
       " 'AD10',\n",
       " 'ACS3',\n",
       " 'POST',\n",
       " 'TRA1',\n",
       " 'LINC02785',\n",
       " 'RER',\n",
       " 'APS',\n",
       " 'TR',\n",
       " 'MTF',\n",
       " 'BART',\n",
       " 'HSST2',\n",
       " 'SK1',\n",
       " 'GCP-1',\n",
       " 'DFNA40',\n",
       " 'MIB',\n",
       " 'GRIP1',\n",
       " 'MDK',\n",
       " 'CDK11-P110',\n",
       " 'HIFAL',\n",
       " 'HEPIS',\n",
       " 'FAM236C',\n",
       " 'KMS',\n",
       " 'HERO20',\n",
       " 'ICR',\n",
       " 'RDC-1',\n",
       " 'TCRA',\n",
       " 'MCRIP2P1',\n",
       " 'TCEB1L',\n",
       " 'DJ222E13.1',\n",
       " 'HOKPP',\n",
       " 'MSK2',\n",
       " 'SBP',\n",
       " 'C14ORF67',\n",
       " 'HST',\n",
       " 'TRB3',\n",
       " 'MYZAP',\n",
       " 'LNCIHAT',\n",
       " 'LINC00443',\n",
       " 'PRG-3',\n",
       " 'PSG9',\n",
       " 'TCRBV14S1',\n",
       " 'METRS',\n",
       " 'HL2',\n",
       " 'NANOGP3',\n",
       " 'OR4F18',\n",
       " 'ULG4',\n",
       " 'G10',\n",
       " 'FAM25A',\n",
       " 'CILD28',\n",
       " 'SLIT3',\n",
       " 'NDUFA4',\n",
       " 'NTN4',\n",
       " 'NGB',\n",
       " 'CT79',\n",
       " 'TRNP',\n",
       " 'SCA2',\n",
       " 'P3',\n",
       " 'FBX30',\n",
       " 'NT5C1B',\n",
       " 'DSS',\n",
       " 'PIGU',\n",
       " 'C21ORF87',\n",
       " 'MAGI1',\n",
       " 'ZNF72P',\n",
       " 'CARK',\n",
       " 'M33',\n",
       " 'MD1',\n",
       " 'TTP1',\n",
       " 'BCRP1',\n",
       " 'EMAP2',\n",
       " 'MTS',\n",
       " 'MIFR-1',\n",
       " 'BNSP',\n",
       " 'ZNF233',\n",
       " 'MLX',\n",
       " 'CXORF51A',\n",
       " 'PRR20B',\n",
       " 'P8',\n",
       " 'RPT5',\n",
       " 'ARHGAP10',\n",
       " 'KRTAP5-2',\n",
       " 'PLEKHA8',\n",
       " 'SPG29',\n",
       " 'USP12P2',\n",
       " 'SWD2',\n",
       " 'ECA2',\n",
       " 'HCF2',\n",
       " 'DIRC3-AS1',\n",
       " 'EIF2AK1',\n",
       " 'NAC3',\n",
       " 'TAFII105',\n",
       " 'PIMT',\n",
       " 'PAFAH',\n",
       " 'ST3GALA.2',\n",
       " 'BDP',\n",
       " 'LMO7B',\n",
       " 'RRP1',\n",
       " 'GIG18',\n",
       " 'SPT2',\n",
       " 'H2B/L',\n",
       " 'RIP5',\n",
       " 'TGR',\n",
       " 'H3C3',\n",
       " 'ASNRS',\n",
       " 'WWP4',\n",
       " 'P-PST',\n",
       " 'TANGO',\n",
       " 'HGPS',\n",
       " 'GCS',\n",
       " 'NANOGP6',\n",
       " 'GEFSP7',\n",
       " 'SH3BGR',\n",
       " 'LINC00545',\n",
       " 'CNA2',\n",
       " 'G6PD',\n",
       " 'D4',\n",
       " 'MAP2',\n",
       " 'KSR',\n",
       " 'HPP1',\n",
       " 'CS-1',\n",
       " 'ACVRLK4',\n",
       " 'TRP-AGG2-8',\n",
       " 'GP150',\n",
       " 'EAF2',\n",
       " 'L6',\n",
       " 'ASC2',\n",
       " 'MLCK',\n",
       " 'ACAT2',\n",
       " 'FMO2',\n",
       " 'CYP2B',\n",
       " 'UBC2',\n",
       " 'STM',\n",
       " 'DPP',\n",
       " 'CD',\n",
       " 'HAP2',\n",
       " 'EIF-2A',\n",
       " 'HD7',\n",
       " 'DKFZP547P234',\n",
       " 'SLAP',\n",
       " 'TCF-4',\n",
       " 'P105',\n",
       " 'IGLC',\n",
       " 'PSD',\n",
       " 'LINC02224',\n",
       " 'T6BP',\n",
       " 'PMP22',\n",
       " 'HN1',\n",
       " 'CYP1',\n",
       " 'NPIPA7',\n",
       " 'EIF3CL',\n",
       " 'LYP',\n",
       " 'MADD',\n",
       " 'AAAT',\n",
       " 'LMO7DN-IT1',\n",
       " 'ARB2',\n",
       " 'HIST1H2BC',\n",
       " 'DXS648E',\n",
       " 'FRA11B',\n",
       " 'SCOX',\n",
       " 'NA88A',\n",
       " 'PHP',\n",
       " 'NLK',\n",
       " 'SCZD9',\n",
       " 'FA',\n",
       " 'HMICU3',\n",
       " 'MIP',\n",
       " 'NRF1',\n",
       " 'II',\n",
       " 'PRAF1',\n",
       " 'RGP4',\n",
       " 'GATD6',\n",
       " 'PACAP',\n",
       " 'HBII-52-46',\n",
       " 'KIAA0700',\n",
       " 'MEF2B',\n",
       " 'SP1',\n",
       " 'GCCD2',\n",
       " '60B8AG',\n",
       " 'E3',\n",
       " 'RHEB',\n",
       " 'CHED2',\n",
       " 'NAS1',\n",
       " 'XGPY',\n",
       " 'DM2',\n",
       " 'RAF1',\n",
       " 'POLB',\n",
       " 'DNM1DN15@',\n",
       " 'SPT3',\n",
       " 'CSF',\n",
       " 'DFNB35',\n",
       " 'CSA',\n",
       " 'SPATA31C2',\n",
       " 'SGT2',\n",
       " 'BCGF1',\n",
       " 'RBP5',\n",
       " 'RN18S1',\n",
       " 'TUBB',\n",
       " 'DDT',\n",
       " 'GUCA1A',\n",
       " 'P35',\n",
       " 'B3GNT8',\n",
       " 'UMPK',\n",
       " 'TP53TG3E',\n",
       " 'TRNAN5',\n",
       " 'PKD4',\n",
       " 'HSPCA',\n",
       " 'ESA1',\n",
       " 'AK3L1',\n",
       " 'ATP-PFK',\n",
       " 'OTX3',\n",
       " 'CFM2',\n",
       " 'AIDA',\n",
       " 'GAGE-12B',\n",
       " 'STIP',\n",
       " 'SPANX-A',\n",
       " 'RANBP2L1',\n",
       " 'PLEKHG5',\n",
       " 'GCP',\n",
       " 'FAM90A2P',\n",
       " 'NF-E1',\n",
       " 'HPH-1',\n",
       " 'BMND12',\n",
       " 'ARP6',\n",
       " 'NP',\n",
       " 'CBLB',\n",
       " 'CRD',\n",
       " 'TH2-LCR',\n",
       " 'HDAC7',\n",
       " 'ANKRD30BP3',\n",
       " 'DVL',\n",
       " 'PLAP-1',\n",
       " 'SHMT',\n",
       " 'AGT1',\n",
       " 'C4B_2',\n",
       " 'DHFRP2',\n",
       " 'NAP2',\n",
       " 'ALS2CR3',\n",
       " 'IGEL',\n",
       " 'DAB1',\n",
       " 'NGBR',\n",
       " 'TRAC',\n",
       " 'SPC1',\n",
       " 'H4C4',\n",
       " 'ZNF422',\n",
       " 'H3C6',\n",
       " 'CPAD',\n",
       " 'OR1D4',\n",
       " 'P59',\n",
       " 'WAGR',\n",
       " 'MPP6',\n",
       " 'LINC02797',\n",
       " 'AIB3',\n",
       " 'TAMO',\n",
       " 'HSDJ0798C17',\n",
       " 'RS',\n",
       " 'SDR25C1',\n",
       " 'IGFBP-3R',\n",
       " 'CMYA2',\n",
       " 'KAT',\n",
       " 'LYS2',\n",
       " 'DLC1',\n",
       " 'KRTAP5-9',\n",
       " 'CYP2C',\n",
       " 'TCRAV10S1',\n",
       " 'P55',\n",
       " 'MU2',\n",
       " 'TCRBV3S1',\n",
       " 'MED25',\n",
       " 'CRS3',\n",
       " 'DMRV',\n",
       " 'NANOGP2',\n",
       " 'HC8',\n",
       " 'CBBM',\n",
       " 'CLAMP',\n",
       " 'PASK',\n",
       " 'CDK4I',\n",
       " 'CMS1D',\n",
       " 'BRDT',\n",
       " 'LY75',\n",
       " 'RASSF3',\n",
       " 'ML1',\n",
       " 'ST1A3',\n",
       " 'TIC',\n",
       " 'BCR',\n",
       " 'F379',\n",
       " 'CD158B',\n",
       " 'LAN',\n",
       " 'CT',\n",
       " 'CFC1B',\n",
       " 'L13A',\n",
       " 'NCC3',\n",
       " 'HRG1',\n",
       " 'MER5',\n",
       " 'CAMP',\n",
       " 'CSS1',\n",
       " 'CKB1',\n",
       " 'DEFB-3',\n",
       " 'GPXL1',\n",
       " 'BRF2',\n",
       " 'TRG-GCC2-2',\n",
       " 'H3',\n",
       " 'TRA',\n",
       " 'LEURS',\n",
       " 'GPR136',\n",
       " 'TRPM2',\n",
       " 'SPDYE9',\n",
       " 'MLL4',\n",
       " 'FE',\n",
       " 'GPHR',\n",
       " 'PCL1',\n",
       " 'CT45-2',\n",
       " 'C18ORF53',\n",
       " 'TPH2',\n",
       " 'KAT4',\n",
       " 'TGT',\n",
       " 'NEDF',\n",
       " 'UGT1C',\n",
       " 'STX17-AS1',\n",
       " 'OR7E71P',\n",
       " 'CD182',\n",
       " 'L23',\n",
       " 'SP5',\n",
       " 'SST1',\n",
       " 'EDA3',\n",
       " 'MIR17HG',\n",
       " 'TCEA1',\n",
       " 'SPANXC',\n",
       " 'UGT1E',\n",
       " 'MYLK-AS2',\n",
       " 'GAGE4',\n",
       " 'S31III125',\n",
       " '3-ALPHA-HSD',\n",
       " 'GAB1',\n",
       " 'TRK1',\n",
       " 'SPS',\n",
       " 'CST',\n",
       " 'PAP2',\n",
       " 'CPLA2',\n",
       " 'KIAA1426',\n",
       " 'BRIGHT',\n",
       " 'CDC14B',\n",
       " 'PDS',\n",
       " 'TNC',\n",
       " 'KCR1',\n",
       " 'H4-16',\n",
       " 'S9',\n",
       " 'DJ221C16.8',\n",
       " 'L15',\n",
       " 'NSCL2',\n",
       " 'A20',\n",
       " 'LINC00087',\n",
       " 'NRP2',\n",
       " 'GLUT8',\n",
       " 'VMA2',\n",
       " 'P11',\n",
       " 'KCIP-1',\n",
       " 'KCNA8',\n",
       " 'DRF1',\n",
       " 'GAL',\n",
       " 'C14SR',\n",
       " 'LGALS9B',\n",
       " 'SPINT3',\n",
       " 'USP12',\n",
       " 'BUB1A',\n",
       " 'LRRN1',\n",
       " 'C6ORF8',\n",
       " 'HOX4',\n",
       " 'BFD',\n",
       " 'H4C1',\n",
       " 'TRP-AGG2-6',\n",
       " 'NIRF',\n",
       " 'SEN2',\n",
       " 'IRBP',\n",
       " 'OATP1',\n",
       " 'HD6',\n",
       " 'CPT1-M',\n",
       " 'NBC2',\n",
       " 'PH',\n",
       " 'H2AC4',\n",
       " 'SAA1',\n",
       " 'TAF11L5',\n",
       " 'INT3',\n",
       " 'PISD',\n",
       " 'BB2',\n",
       " 'EIT-6',\n",
       " 'T6',\n",
       " 'DDX26',\n",
       " 'CAPG',\n",
       " 'ADAM18',\n",
       " 'TCRAV28S1',\n",
       " 'FIL1',\n",
       " 'P200',\n",
       " 'PIG5',\n",
       " 'WD',\n",
       " 'K8',\n",
       " 'MNAB',\n",
       " 'SEP2',\n",
       " 'NOMO',\n",
       " 'GPIBB',\n",
       " 'OSM',\n",
       " 'I1',\n",
       " 'PRMT9',\n",
       " 'PRAP',\n",
       " 'HIST1H2BF',\n",
       " 'LINC01655',\n",
       " 'G3PP',\n",
       " 'L3',\n",
       " 'H2AC16',\n",
       " 'SNT1',\n",
       " 'CHK',\n",
       " 'CT6.1',\n",
       " 'SRGAP2',\n",
       " 'MCT6',\n",
       " 'MUHH',\n",
       " 'RCC',\n",
       " 'SEP',\n",
       " 'MOR2',\n",
       " 'DUSP26',\n",
       " 'JDP1',\n",
       " 'TRG-CCC2-1',\n",
       " 'GPBP',\n",
       " 'RANBP2L2',\n",
       " 'GP',\n",
       " 'ARM1',\n",
       " 'CRL2',\n",
       " 'CLP',\n",
       " 'GP180',\n",
       " 'GCAP-II',\n",
       " 'MUC3A',\n",
       " 'RINZF',\n",
       " 'RNU6-6',\n",
       " 'MMDS3',\n",
       " 'CER1',\n",
       " 'PRX2',\n",
       " 'MMP20',\n",
       " 'SCG2',\n",
       " 'LIMS3L',\n",
       " 'ATR1',\n",
       " 'TSC',\n",
       " 'TCRAV1S1',\n",
       " 'LST-1',\n",
       " 'GGTA',\n",
       " 'NIFU',\n",
       " 'PSS3',\n",
       " 'GALNT4',\n",
       " 'SMAP-1',\n",
       " 'ST2',\n",
       " 'A3',\n",
       " 'GCN5',\n",
       " 'TRH-GTG1-7',\n",
       " 'HCR',\n",
       " 'PABPL1',\n",
       " 'PROTEINASE',\n",
       " 'C2ORF74-DT',\n",
       " 'CPN2',\n",
       " 'XAGE1',\n",
       " 'C82',\n",
       " 'LIMS4',\n",
       " 'KIAA0705',\n",
       " 'IF',\n",
       " 'UBH1',\n",
       " 'GP39',\n",
       " 'MIC10',\n",
       " 'AIR',\n",
       " 'GNPI',\n",
       " 'VWS1',\n",
       " 'MRPL28',\n",
       " 'H2A/Q',\n",
       " 'GLYT2',\n",
       " 'PIN1',\n",
       " 'RBMY2',\n",
       " 'CRP',\n",
       " 'CALDAG-GEFI',\n",
       " 'EMT',\n",
       " 'APC',\n",
       " 'TIM1',\n",
       " 'MLP',\n",
       " 'GLK',\n",
       " 'ST1A3/ST1A4',\n",
       " 'EIF-5A',\n",
       " 'V1S5P',\n",
       " 'FGD2',\n",
       " 'COD3',\n",
       " 'SDHC',\n",
       " 'PTA1',\n",
       " 'PGD2',\n",
       " 'MASK',\n",
       " 'RBM5-AS1',\n",
       " 'GCOM1',\n",
       " 'HCA2',\n",
       " 'KRTHA3A',\n",
       " 'TMSB15A',\n",
       " 'LINC01358',\n",
       " 'NOS',\n",
       " 'TRAC-1',\n",
       " 'KRTAP2.4',\n",
       " 'TRP3',\n",
       " 'CEP110',\n",
       " 'DIPP-2B',\n",
       " 'TCI',\n",
       " 'ZNF182',\n",
       " 'PGD',\n",
       " 'NEUROPSIN',\n",
       " 'FRA16D',\n",
       " 'RPL36A',\n",
       " 'GT1',\n",
       " 'MFT',\n",
       " 'CHC',\n",
       " 'MCAP',\n",
       " 'HNPCC',\n",
       " 'CTF5',\n",
       " 'SLIM',\n",
       " 'DUP',\n",
       " 'BPAD',\n",
       " 'RPS27AP',\n",
       " 'P78',\n",
       " 'CFHL3',\n",
       " 'AOH1',\n",
       " 'MIFR',\n",
       " 'C1QTNF15',\n",
       " 'P57',\n",
       " 'RN',\n",
       " 'TFIIS',\n",
       " 'TTY11',\n",
       " 'ALT1',\n",
       " 'IGHER',\n",
       " 'CED5',\n",
       " 'MRPS35',\n",
       " 'LBH',\n",
       " 'PLD1',\n",
       " 'D2',\n",
       " 'SCYL2',\n",
       " 'NBPF9',\n",
       " 'MIR499A',\n",
       " 'RPML3',\n",
       " 'G16',\n",
       " 'ODZ3',\n",
       " 'AP47B',\n",
       " 'MIP-5',\n",
       " 'MAL',\n",
       " 'RNU1-12P',\n",
       " 'HEPN1',\n",
       " 'RPL7A',\n",
       " 'HSP70.2',\n",
       " 'CSBP',\n",
       " 'SCGB1C1',\n",
       " 'IHG1',\n",
       " 'NCRNA00257',\n",
       " 'LINC01974',\n",
       " 'ARSB',\n",
       " 'CHM',\n",
       " 'GP40',\n",
       " 'PAMP',\n",
       " 'RFT1',\n",
       " 'MAFA',\n",
       " 'OCT4',\n",
       " 'CYP2B7P',\n",
       " 'AAC1',\n",
       " 'ATPM',\n",
       " 'ELOA3C',\n",
       " 'SAPL',\n",
       " 'OP2',\n",
       " 'NANOGP5',\n",
       " 'PAM',\n",
       " 'BFNC',\n",
       " 'MIR8069',\n",
       " 'PRH',\n",
       " 'LYSOPAFAT',\n",
       " 'CYP2D6',\n",
       " 'AE2',\n",
       " 'B29',\n",
       " 'PEPP1',\n",
       " 'AMCD2B',\n",
       " 'G2',\n",
       " 'GLP-1',\n",
       " 'KIAA0351',\n",
       " 'TRD-GTC2-11',\n",
       " 'SPTBN1-AS2',\n",
       " ...}"
      ]
     },
     "execution_count": 10,
     "metadata": {},
     "output_type": "execute_result"
    }
   ],
   "source": [
    "ambiguous_symbol_set"
   ]
  },
  {
   "cell_type": "code",
   "execution_count": 11,
   "metadata": {},
   "outputs": [
    {
     "name": "stdout",
     "output_type": "stream",
     "text": [
      "5191\n"
     ]
    }
   ],
   "source": [
    "ambiguous_symbol_set = set(item.strip() for item in ambiguous_symbol_set)\n",
    "\n",
    "print(len(ambiguous_symbol_set))"
   ]
  },
  {
   "cell_type": "code",
   "execution_count": 12,
   "metadata": {},
   "outputs": [],
   "source": [
    "with open(\"../output/ambiguous_symbol_set.txt\", \"w\") as file:\n",
    "    for item in ambiguous_symbol_set:\n",
    "        file.write(f\"{item.strip()}\\n\")"
   ]
  },
  {
   "cell_type": "code",
   "execution_count": 13,
   "metadata": {},
   "outputs": [
    {
     "data": {
      "text/plain": [
       "5191"
      ]
     },
     "execution_count": 13,
     "metadata": {},
     "output_type": "execute_result"
    }
   ],
   "source": [
    "with open(\"../output/ambiguous_symbol_set.txt\", \"r\") as file:\n",
    "    # read each line, strip newline characters, and convert to a set\n",
    "    ambiguous_symbol_set = set(line.strip() for line in file)\n",
    "len(ambiguous_symbol_set)"
   ]
  },
  {
   "cell_type": "code",
   "execution_count": 14,
   "metadata": {},
   "outputs": [
    {
     "data": {
      "text/plain": [
       "{'GUSBP1',\n",
       " 'TRNAMI2',\n",
       " 'CHL',\n",
       " 'CAPS',\n",
       " 'BD-4',\n",
       " 'PRR20C',\n",
       " 'SHP1',\n",
       " 'PXMP1',\n",
       " 'SPANXE',\n",
       " 'TRY1',\n",
       " 'TRF-GAA1-1',\n",
       " 'HRG',\n",
       " 'EEF1AKMT4',\n",
       " 'C10ORF77',\n",
       " 'U3',\n",
       " 'SSB1',\n",
       " 'HNRPG',\n",
       " 'BETA2',\n",
       " 'H2BFA',\n",
       " 'HARS2',\n",
       " 'GST2',\n",
       " 'PGG/HS',\n",
       " 'GALNT16',\n",
       " 'IMP4',\n",
       " 'H-PLK',\n",
       " 'BTR',\n",
       " 'HBB',\n",
       " 'FSIP2-AS2',\n",
       " 'TAF',\n",
       " 'API5L1',\n",
       " 'LINC02254',\n",
       " 'RGP3',\n",
       " 'PI',\n",
       " 'C20ORF197',\n",
       " 'CRF',\n",
       " 'KRTAP2.1A',\n",
       " 'BBP',\n",
       " 'CLIC5',\n",
       " 'TRIM34',\n",
       " 'LINC02110',\n",
       " 'TRN',\n",
       " 'ACA59',\n",
       " 'P240',\n",
       " 'FGF2',\n",
       " 'KRAS',\n",
       " 'ACTP1',\n",
       " 'PRSSL1',\n",
       " 'ME1',\n",
       " 'DSK2',\n",
       " 'SMN-AS1',\n",
       " 'CREB3',\n",
       " 'TAF2C2',\n",
       " 'CRHSP24',\n",
       " 'UGT1-01',\n",
       " 'SAC2',\n",
       " 'DIA2',\n",
       " 'LINC01017',\n",
       " 'MDCR',\n",
       " 'TEL2',\n",
       " 'IGER',\n",
       " 'RALBP1',\n",
       " 'P50',\n",
       " 'MYH14',\n",
       " 'PAB1',\n",
       " 'H2AC11',\n",
       " 'H3.1',\n",
       " 'SIP1',\n",
       " 'FADS6',\n",
       " 'VAT1',\n",
       " 'C7ORF28A',\n",
       " 'M-ABC1',\n",
       " 'ADK',\n",
       " 'HCCA2',\n",
       " 'OI12',\n",
       " 'SPO',\n",
       " 'TRF-GAA1-3',\n",
       " 'GLUR2',\n",
       " 'PTC',\n",
       " 'ASRT2',\n",
       " 'TTTY21B',\n",
       " 'TTP',\n",
       " 'IL1RA',\n",
       " 'P52',\n",
       " 'DBC1',\n",
       " 'RNH1',\n",
       " 'CCA1',\n",
       " 'RNF35',\n",
       " 'CPD',\n",
       " 'CAF1A',\n",
       " 'SCCA1',\n",
       " 'TRE-TTC1-1',\n",
       " 'SPRK',\n",
       " 'PK1',\n",
       " 'LAK',\n",
       " 'H3F3AP1',\n",
       " 'HBD-8',\n",
       " 'RIP',\n",
       " 'RRP4',\n",
       " 'TRA-TGC3-2',\n",
       " 'SNT2',\n",
       " 'CAP2',\n",
       " 'BGR',\n",
       " 'VMA5',\n",
       " 'TRX',\n",
       " 'L15MT',\n",
       " 'STY',\n",
       " 'SEMAF',\n",
       " 'ATX',\n",
       " 'EST',\n",
       " 'ICBP90',\n",
       " 'TLL',\n",
       " 'ZFP27',\n",
       " 'NAP1',\n",
       " 'MRX',\n",
       " 'SMN',\n",
       " 'KIR2DL3',\n",
       " 'TAF2A',\n",
       " 'CXORF49',\n",
       " 'CT4.7',\n",
       " 'CFP1',\n",
       " 'DAGK5',\n",
       " 'RECQL3',\n",
       " 'LAT3',\n",
       " 'TSSK1',\n",
       " 'UBC6',\n",
       " 'SLURP2',\n",
       " 'TPP1',\n",
       " 'CAF1',\n",
       " 'ANK',\n",
       " 'TBP1',\n",
       " 'SARS',\n",
       " 'RBM1',\n",
       " 'BRAP',\n",
       " 'IFP1',\n",
       " 'NFIC',\n",
       " 'C9ORF36A',\n",
       " 'HSD3',\n",
       " 'TRIM49B',\n",
       " 'L17',\n",
       " 'CTH',\n",
       " 'PIT-1',\n",
       " 'TYMP',\n",
       " 'ALG14-AS1',\n",
       " 'DGCR2',\n",
       " 'FRAG1',\n",
       " 'L1AG',\n",
       " 'VWS2',\n",
       " 'VPS24',\n",
       " 'DYT17',\n",
       " 'C16ORF15',\n",
       " 'COD2',\n",
       " 'KIP2',\n",
       " 'CD158K',\n",
       " 'MGAT1',\n",
       " 'MSP',\n",
       " 'SAMS',\n",
       " 'RPL10',\n",
       " 'MDC',\n",
       " 'PIG11',\n",
       " 'LINC02696',\n",
       " 'RNA5-8S4',\n",
       " 'METTL2A',\n",
       " 'TTTY6',\n",
       " 'MPS1',\n",
       " 'KOX2',\n",
       " 'CAR1',\n",
       " 'CT4.2',\n",
       " 'ERK',\n",
       " 'VIP21',\n",
       " 'CRABP-I',\n",
       " 'COP1',\n",
       " 'PBEF',\n",
       " 'P56',\n",
       " 'TRQ-CTG1-4',\n",
       " 'SLC23A1',\n",
       " 'PDK1-AS1',\n",
       " 'TRX-CAT1-3',\n",
       " 'OCT-3',\n",
       " 'IGO1',\n",
       " 'MOX2',\n",
       " 'PRL1',\n",
       " 'RNA28S5',\n",
       " 'H4C15',\n",
       " 'E4',\n",
       " 'TR-1',\n",
       " 'LIM1',\n",
       " 'ADR',\n",
       " 'CDH20',\n",
       " 'ARF1',\n",
       " 'PSP2',\n",
       " 'FACE',\n",
       " 'NET3',\n",
       " 'CLE',\n",
       " 'HP1',\n",
       " 'LIN10',\n",
       " 'LINC01114',\n",
       " 'NPR2',\n",
       " 'TSBP',\n",
       " 'H4C16',\n",
       " 'PB',\n",
       " 'LGALS7',\n",
       " 'MIG6',\n",
       " 'PRX',\n",
       " 'GEP',\n",
       " 'REH',\n",
       " 'KAR',\n",
       " 'STIP-1',\n",
       " 'SMC2',\n",
       " 'CMG1',\n",
       " 'OR1K1',\n",
       " 'PSMD15',\n",
       " 'PRG5',\n",
       " 'CPN1',\n",
       " 'SRM',\n",
       " 'RNU1-5',\n",
       " 'IFN-ALPHAI',\n",
       " 'DEFB-11',\n",
       " 'PMF1',\n",
       " 'SNO',\n",
       " 'C1QTNF5',\n",
       " 'TTN',\n",
       " 'B37',\n",
       " 'NOL1',\n",
       " 'CAF-1',\n",
       " 'BEX2',\n",
       " 'FAM75D3',\n",
       " 'DIA1',\n",
       " 'TR1',\n",
       " 'FOXD4B',\n",
       " 'FAME',\n",
       " 'OR19-6',\n",
       " 'RBM',\n",
       " 'DADR',\n",
       " 'AD10',\n",
       " 'ACS3',\n",
       " 'APS',\n",
       " 'BART',\n",
       " 'HSST2',\n",
       " 'MIB',\n",
       " 'GRIP1',\n",
       " 'CDK11-P110',\n",
       " 'FAM236C',\n",
       " 'HERO20',\n",
       " 'RDC-1',\n",
       " 'TCRA',\n",
       " 'MCRIP2P1',\n",
       " 'TCEB1L',\n",
       " 'DJ222E13.1',\n",
       " 'HOKPP',\n",
       " 'SBP',\n",
       " 'C14ORF67',\n",
       " 'HST',\n",
       " 'TRB3',\n",
       " 'LNCIHAT',\n",
       " 'TCRBV14S1',\n",
       " 'NANOGP3',\n",
       " 'OR4F18',\n",
       " 'ULG4',\n",
       " 'G10',\n",
       " 'CT79',\n",
       " 'TRNP',\n",
       " 'DSS',\n",
       " 'PIGU',\n",
       " 'C21ORF87',\n",
       " 'MAGI1',\n",
       " 'ZNF72P',\n",
       " 'M33',\n",
       " 'BCRP1',\n",
       " 'MIFR-1',\n",
       " 'MLX',\n",
       " 'PRR20B',\n",
       " 'KRTAP5-2',\n",
       " 'PLEKHA8',\n",
       " 'SPG29',\n",
       " 'ECA2',\n",
       " 'HCF2',\n",
       " 'NAC3',\n",
       " 'PAFAH',\n",
       " 'BDP',\n",
       " 'GIG18',\n",
       " 'H2B/L',\n",
       " 'H3C3',\n",
       " 'ASNRS',\n",
       " 'P-PST',\n",
       " 'TANGO',\n",
       " 'GEFSP7',\n",
       " 'G6PD',\n",
       " 'MAP2',\n",
       " 'KSR',\n",
       " 'CS-1',\n",
       " 'TRP-AGG2-8',\n",
       " 'ASC2',\n",
       " 'ACAT2',\n",
       " 'CYP2B',\n",
       " 'UBC2',\n",
       " 'STM',\n",
       " 'CD',\n",
       " 'HAP2',\n",
       " 'HD7',\n",
       " 'DKFZP547P234',\n",
       " 'TCF-4',\n",
       " 'PSD',\n",
       " 'LINC02224',\n",
       " 'CYP1',\n",
       " 'MADD',\n",
       " 'AAAT',\n",
       " 'LMO7DN-IT1',\n",
       " 'ARB2',\n",
       " 'HIST1H2BC',\n",
       " 'DXS648E',\n",
       " 'SCOX',\n",
       " 'PHP',\n",
       " 'NLK',\n",
       " 'FA',\n",
       " 'NRF1',\n",
       " 'II',\n",
       " 'RGP4',\n",
       " 'PACAP',\n",
       " 'HBII-52-46',\n",
       " 'KIAA0700',\n",
       " 'GCCD2',\n",
       " '60B8AG',\n",
       " 'E3',\n",
       " 'CHED2',\n",
       " 'NAS1',\n",
       " 'XGPY',\n",
       " 'DM2',\n",
       " 'RAF1',\n",
       " 'DNM1DN15@',\n",
       " 'SPT3',\n",
       " 'DFNB35',\n",
       " 'CSA',\n",
       " 'SGT2',\n",
       " 'BCGF1',\n",
       " 'RBP5',\n",
       " 'RN18S1',\n",
       " 'DDT',\n",
       " 'GUCA1A',\n",
       " 'P35',\n",
       " 'AK3L1',\n",
       " 'OTX3',\n",
       " 'STIP',\n",
       " 'PLEKHG5',\n",
       " 'FAM90A2P',\n",
       " 'NF-E1',\n",
       " 'HPH-1',\n",
       " 'ARP6',\n",
       " 'NP',\n",
       " 'CBLB',\n",
       " 'CRD',\n",
       " 'HDAC7',\n",
       " 'ANKRD30BP3',\n",
       " 'SHMT',\n",
       " 'C4B_2',\n",
       " 'ALS2CR3',\n",
       " 'DAB1',\n",
       " 'SPC1',\n",
       " 'H4C4',\n",
       " 'ZNF422',\n",
       " 'OR1D4',\n",
       " 'P59',\n",
       " 'AIB3',\n",
       " 'TAMO',\n",
       " 'RS',\n",
       " 'KRTAP5-9',\n",
       " 'MU2',\n",
       " 'TCRBV3S1',\n",
       " 'NANOGP2',\n",
       " 'CBBM',\n",
       " 'CLAMP',\n",
       " 'BRDT',\n",
       " 'LY75',\n",
       " 'RASSF3',\n",
       " 'F379',\n",
       " 'CD158B',\n",
       " 'CFC1B',\n",
       " 'CT',\n",
       " 'CAMP',\n",
       " 'CKB1',\n",
       " 'GPXL1',\n",
       " 'BRF2',\n",
       " 'LEURS',\n",
       " 'SPDYE9',\n",
       " 'MLL4',\n",
       " 'GPHR',\n",
       " 'CT45-2',\n",
       " 'TPH2',\n",
       " 'KAT4',\n",
       " 'TGT',\n",
       " 'NEDF',\n",
       " 'STX17-AS1',\n",
       " 'CD182',\n",
       " 'SP5',\n",
       " 'MIR17HG',\n",
       " 'TCEA1',\n",
       " '3-ALPHA-HSD',\n",
       " 'TRK1',\n",
       " 'CST',\n",
       " 'CPLA2',\n",
       " 'KIAA1426',\n",
       " 'H4-16',\n",
       " 'S9',\n",
       " 'A20',\n",
       " 'NSCL2',\n",
       " 'GLUT8',\n",
       " 'VMA2',\n",
       " 'P11',\n",
       " 'KCIP-1',\n",
       " 'DRF1',\n",
       " 'C14SR',\n",
       " 'LGALS9B',\n",
       " 'SPINT3',\n",
       " 'USP12',\n",
       " 'LRRN1',\n",
       " 'BFD',\n",
       " 'TRP-AGG2-6',\n",
       " 'NIRF',\n",
       " 'SEN2',\n",
       " 'NBC2',\n",
       " 'H2AC4',\n",
       " 'SAA1',\n",
       " 'EIT-6',\n",
       " 'T6',\n",
       " 'CAPG',\n",
       " 'ADAM18',\n",
       " 'TCRAV28S1',\n",
       " 'FIL1',\n",
       " 'PIG5',\n",
       " 'MNAB',\n",
       " 'SEP2',\n",
       " 'NOMO',\n",
       " 'GPIBB',\n",
       " 'OSM',\n",
       " 'PRMT9',\n",
       " 'LINC01655',\n",
       " 'G3PP',\n",
       " 'CT6.1',\n",
       " 'RCC',\n",
       " 'MOR2',\n",
       " 'DUSP26',\n",
       " 'TRG-CCC2-1',\n",
       " 'CRL2',\n",
       " 'GP180',\n",
       " 'MMDS3',\n",
       " 'RNU6-6',\n",
       " 'PRX2',\n",
       " 'MMP20',\n",
       " 'LIMS3L',\n",
       " 'ATR1',\n",
       " 'LST-1',\n",
       " 'NIFU',\n",
       " 'PROTEINASE',\n",
       " 'CPN2',\n",
       " 'C82',\n",
       " 'KIAA0705',\n",
       " 'UBH1',\n",
       " 'MIC10',\n",
       " 'AIR',\n",
       " 'VWS1',\n",
       " 'MRPL28',\n",
       " 'CRP',\n",
       " 'CALDAG-GEFI',\n",
       " 'APC',\n",
       " 'TIM1',\n",
       " 'GLK',\n",
       " 'ST1A3/ST1A4',\n",
       " 'EIF-5A',\n",
       " 'V1S5P',\n",
       " 'FGD2',\n",
       " 'SDHC',\n",
       " 'PGD2',\n",
       " 'RBM5-AS1',\n",
       " 'GCOM1',\n",
       " 'LINC01358',\n",
       " 'KRTAP2.4',\n",
       " 'CEP110',\n",
       " 'TCI',\n",
       " 'ZNF182',\n",
       " 'PGD',\n",
       " 'FRA16D',\n",
       " 'RPL36A',\n",
       " 'CHC',\n",
       " 'SLIM',\n",
       " 'DUP',\n",
       " 'RPS27AP',\n",
       " 'CFHL3',\n",
       " 'C1QTNF15',\n",
       " 'IGHER',\n",
       " 'P57',\n",
       " 'RN',\n",
       " 'TFIIS',\n",
       " 'LBH',\n",
       " 'D2',\n",
       " 'RPML3',\n",
       " 'G16',\n",
       " 'ODZ3',\n",
       " 'MAL',\n",
       " 'HEPN1',\n",
       " 'SCGB1C1',\n",
       " 'NCRNA00257',\n",
       " 'GP40',\n",
       " 'PAMP',\n",
       " 'RFT1',\n",
       " 'MAFA',\n",
       " 'AAC1',\n",
       " 'BFNC',\n",
       " 'MIR8069',\n",
       " 'B29',\n",
       " 'PEPP1',\n",
       " 'GLP-1',\n",
       " 'SPTBN1-AS2',\n",
       " 'MIR1291',\n",
       " 'MSH',\n",
       " 'HCRTR2',\n",
       " 'IGLC6',\n",
       " 'CGRP',\n",
       " 'SMC5-DT',\n",
       " 'STA',\n",
       " 'SGII',\n",
       " 'FMR2',\n",
       " 'CHP',\n",
       " 'PIRB',\n",
       " 'WBP1',\n",
       " 'MIR',\n",
       " 'SLC17A2',\n",
       " 'ATR',\n",
       " 'NET',\n",
       " 'ZNF757',\n",
       " 'RPS12',\n",
       " 'DDX31',\n",
       " 'MUM2',\n",
       " 'ARC34',\n",
       " 'H3C12',\n",
       " 'RN5-8S1',\n",
       " 'COX2',\n",
       " 'CRN7',\n",
       " 'PAC-1',\n",
       " 'P10',\n",
       " 'E1B',\n",
       " 'CLC2',\n",
       " 'GE',\n",
       " 'TICAM-2',\n",
       " 'COT',\n",
       " 'PAO',\n",
       " 'MCAD',\n",
       " 'FAE',\n",
       " 'NCA',\n",
       " 'CD16',\n",
       " 'PORC',\n",
       " 'TRG-GCC2-5',\n",
       " 'TC2',\n",
       " 'SRGAP3',\n",
       " 'HPCA',\n",
       " 'SPANX-E',\n",
       " 'A2M',\n",
       " 'TCEAL3',\n",
       " 'MTB',\n",
       " 'HLP2',\n",
       " 'ATS',\n",
       " 'CYK4',\n",
       " 'TCRBV25S1',\n",
       " 'P160',\n",
       " 'LAG-1',\n",
       " 'PPCD1',\n",
       " 'TIRP',\n",
       " 'HSP70.1',\n",
       " 'ZAP',\n",
       " 'SPATA31D3',\n",
       " 'EMA',\n",
       " 'FRP-2',\n",
       " 'KFSDX',\n",
       " 'PRPS1',\n",
       " 'GLUD1',\n",
       " 'FUS1',\n",
       " '464.2',\n",
       " 'INOS',\n",
       " 'ARK2N',\n",
       " 'FP',\n",
       " 'HPC7',\n",
       " 'IPP1',\n",
       " 'OR4M2',\n",
       " 'AC008392.1',\n",
       " 'HSD17',\n",
       " 'RAR2',\n",
       " 'L8',\n",
       " 'MIP1',\n",
       " 'CHD5',\n",
       " 'CT58',\n",
       " 'GAP',\n",
       " 'PIP',\n",
       " 'SG2NA',\n",
       " 'MLC1',\n",
       " 'TTTY21',\n",
       " 'NACHRA7',\n",
       " 'PPCD',\n",
       " 'ARM',\n",
       " 'HC2',\n",
       " 'MHF1',\n",
       " 'TRK-TTT3-5',\n",
       " 'LIN-10',\n",
       " 'TRI-AAT5-5',\n",
       " 'C10ORF44',\n",
       " 'CT12.1B',\n",
       " 'ALDRP',\n",
       " 'DEFB-8',\n",
       " 'TCS1',\n",
       " 'L32MT',\n",
       " 'GPRK7',\n",
       " 'ELK2',\n",
       " 'H2AC8',\n",
       " 'ISGF-3',\n",
       " 'TRY3',\n",
       " 'ELF1',\n",
       " 'ISO1',\n",
       " 'UPA',\n",
       " 'EPPK1',\n",
       " 'ZNF286C',\n",
       " 'PAR-4',\n",
       " 'L1',\n",
       " 'NALD',\n",
       " 'FAM28A',\n",
       " 'HSFY',\n",
       " 'C5A',\n",
       " 'CAP3',\n",
       " 'OSX',\n",
       " 'S13',\n",
       " 'AHH',\n",
       " 'TTY9',\n",
       " 'MEP',\n",
       " 'CSR',\n",
       " 'EDM4',\n",
       " 'FLJ10883',\n",
       " 'PKK',\n",
       " 'TRY-GTA5-5',\n",
       " 'EDSC',\n",
       " 'SMF',\n",
       " 'RP3',\n",
       " 'NAPOR',\n",
       " 'RCD1',\n",
       " 'UCRP',\n",
       " 'FEB3B',\n",
       " 'OR11-55',\n",
       " 'CA11',\n",
       " 'RP8',\n",
       " 'OFD1P2',\n",
       " 'ACS2',\n",
       " 'NAT2',\n",
       " 'FAF',\n",
       " 'CX58',\n",
       " 'HEN1',\n",
       " 'E4TF1B',\n",
       " 'MAG',\n",
       " 'HB1',\n",
       " 'H2-ALPHA',\n",
       " 'PAK3',\n",
       " 'LINC03069',\n",
       " 'UBC4',\n",
       " 'KIAA0266',\n",
       " 'MART2',\n",
       " 'HPT',\n",
       " 'TOB55',\n",
       " 'MN',\n",
       " 'RNA18S5',\n",
       " 'P13',\n",
       " 'MPP11',\n",
       " 'BP75',\n",
       " 'P60TRP',\n",
       " 'TIH1',\n",
       " 'MAM-2',\n",
       " 'H2BFL',\n",
       " 'EBS4',\n",
       " 'CA125',\n",
       " 'AU',\n",
       " 'H2B/H',\n",
       " 'SIR2',\n",
       " 'LPD',\n",
       " 'TCRAV19S1',\n",
       " 'RBP3',\n",
       " 'KIR2DS5',\n",
       " 'RAB11B',\n",
       " 'CNA1',\n",
       " 'SPGF52',\n",
       " 'PRAAS3',\n",
       " 'EIF2A',\n",
       " 'OCA8',\n",
       " 'EF1A',\n",
       " 'DHP',\n",
       " 'QP-C',\n",
       " 'DNAJ',\n",
       " 'OI6',\n",
       " 'PSCTK2',\n",
       " 'M130',\n",
       " 'SCYL3',\n",
       " 'L4',\n",
       " 'GDA',\n",
       " 'GCKR',\n",
       " 'MUC3',\n",
       " 'LINC01154',\n",
       " 'LMN2',\n",
       " 'OB1',\n",
       " 'BCDS1',\n",
       " 'BTF4',\n",
       " 'EIF1A',\n",
       " 'MYT1',\n",
       " 'TFIIA',\n",
       " 'G0S19-2',\n",
       " 'CD277',\n",
       " 'PLB',\n",
       " 'HML',\n",
       " 'SET7',\n",
       " 'SPA1',\n",
       " 'ALB',\n",
       " 'H2A',\n",
       " 'U19',\n",
       " 'CT4.8',\n",
       " 'SKI',\n",
       " 'CENPC',\n",
       " 'EBN1',\n",
       " 'IP',\n",
       " 'NDK',\n",
       " 'BTHLM1',\n",
       " 'CCR4',\n",
       " 'WBS',\n",
       " '20-ALPHA-HSD',\n",
       " 'TRNAG-CCC',\n",
       " 'OR912-109',\n",
       " 'CEACAM3',\n",
       " 'FKBP6',\n",
       " 'SPB1',\n",
       " 'CCL',\n",
       " 'HGF',\n",
       " 'TNNI3K',\n",
       " 'CCD1',\n",
       " 'HBGF-8',\n",
       " 'CT4.4',\n",
       " '61E3.4',\n",
       " 'CMS4C',\n",
       " 'TOF',\n",
       " 'CT1.2',\n",
       " 'C6',\n",
       " 'DRP',\n",
       " 'MICE',\n",
       " 'MST',\n",
       " 'POLQ',\n",
       " 'CEP2',\n",
       " 'GAGE-8',\n",
       " 'BTN1',\n",
       " 'NKIR',\n",
       " 'SSS1',\n",
       " 'ODS1',\n",
       " 'MIG12',\n",
       " 'PPOX',\n",
       " 'SST2',\n",
       " 'SMT3A',\n",
       " 'CHIF',\n",
       " 'RCCP2',\n",
       " 'DFNA3',\n",
       " 'PR1/PR2',\n",
       " 'TAH1',\n",
       " 'MSS1',\n",
       " 'RAET1L',\n",
       " 'SCARNA17',\n",
       " 'BB1',\n",
       " 'MIR-199-S',\n",
       " 'TAZ',\n",
       " 'TMSL8',\n",
       " 'T2D',\n",
       " 'TRN1',\n",
       " 'CFC',\n",
       " 'DDC8',\n",
       " 'MMAA',\n",
       " 'BIG3',\n",
       " 'SIGLECP2',\n",
       " 'TRF-GAA1-6',\n",
       " 'LEU1',\n",
       " 'GEF720',\n",
       " 'NET1',\n",
       " 'TRNAV22',\n",
       " 'ARG',\n",
       " 'STAG1',\n",
       " 'CABP',\n",
       " 'C6ORF68',\n",
       " 'U13',\n",
       " 'BRF-1',\n",
       " 'OR9G1',\n",
       " 'GS1',\n",
       " 'FAD1',\n",
       " 'GL',\n",
       " 'GAGE-2',\n",
       " 'MAK3',\n",
       " 'HDMX',\n",
       " 'TRP-TGG3-5',\n",
       " 'DESI2',\n",
       " 'TASP',\n",
       " 'ALPI',\n",
       " 'MIF',\n",
       " 'GAL3ST2',\n",
       " 'P22',\n",
       " 'ADRA1A',\n",
       " 'MYO1C',\n",
       " 'CCBP2',\n",
       " 'TCEB3CL',\n",
       " 'PFD',\n",
       " 'CD98',\n",
       " 'ECGF',\n",
       " 'PNK',\n",
       " 'HL-1',\n",
       " 'DSH',\n",
       " 'PDZK4',\n",
       " 'TCRAV11S1',\n",
       " 'PPT',\n",
       " 'LPL',\n",
       " 'P14',\n",
       " 'ROC2',\n",
       " 'CDD',\n",
       " 'M-FABP',\n",
       " 'NEU1',\n",
       " 'P5',\n",
       " 'GRIN1',\n",
       " 'FBL4',\n",
       " 'RNU1P2',\n",
       " 'CAMKIINALPHA',\n",
       " 'CPI17-LIKE',\n",
       " 'CT2',\n",
       " 'PRP',\n",
       " 'APC7',\n",
       " 'CUPID1',\n",
       " 'OR19-8',\n",
       " 'RP42',\n",
       " 'GPD',\n",
       " 'MCS',\n",
       " 'KRTAP5-5',\n",
       " 'AMGL',\n",
       " 'EIT6',\n",
       " 'OCM',\n",
       " 'AMD',\n",
       " 'HNRNP-G',\n",
       " 'CP27',\n",
       " 'PDI',\n",
       " 'CGB5',\n",
       " 'KAL',\n",
       " 'APS1',\n",
       " 'ADAMTS-4',\n",
       " 'HHS',\n",
       " 'STK22D',\n",
       " 'PGR1',\n",
       " 'DVL1',\n",
       " 'C11ORF3',\n",
       " 'GALNT13',\n",
       " 'HMAT1',\n",
       " 'SPP1',\n",
       " 'HLA-DQB1',\n",
       " 'MCMP',\n",
       " 'ASF',\n",
       " 'CYP11B',\n",
       " 'HTRA3',\n",
       " 'ALDH4',\n",
       " 'ODD',\n",
       " 'NME1',\n",
       " 'AMDD',\n",
       " 'OPN1MW',\n",
       " 'P180',\n",
       " 'FEVR',\n",
       " 'IBP',\n",
       " 'PRK1',\n",
       " 'FADS2',\n",
       " 'TCRAV9S1',\n",
       " 'DOC1',\n",
       " 'LPSAT',\n",
       " 'DKFZP434B204',\n",
       " 'HLA-CDA12',\n",
       " 'MT1',\n",
       " 'D3F15S2',\n",
       " 'C9',\n",
       " 'ODA6',\n",
       " 'HCC1',\n",
       " 'AVP',\n",
       " 'SPAG11A',\n",
       " 'GTK',\n",
       " 'MCL',\n",
       " 'PTX3',\n",
       " 'FEZ1',\n",
       " 'CRP1',\n",
       " 'RNA45S4',\n",
       " 'NSP2',\n",
       " 'DTR',\n",
       " 'P37',\n",
       " 'ART1',\n",
       " 'ECD',\n",
       " 'P28',\n",
       " 'RARF',\n",
       " 'AAT1',\n",
       " 'HCG17',\n",
       " 'HMN5',\n",
       " 'ARF1P2',\n",
       " 'PP5',\n",
       " 'FXYD6',\n",
       " 'DPK',\n",
       " 'GASP-1',\n",
       " 'HCLP1',\n",
       " 'WS',\n",
       " 'CMT4E',\n",
       " 'OR1-25',\n",
       " 'TRE',\n",
       " 'ACC1',\n",
       " 'P42',\n",
       " 'GK2',\n",
       " 'MP44',\n",
       " 'AG3',\n",
       " 'PCD',\n",
       " 'BCAM',\n",
       " 'PS1',\n",
       " 'TAR-5',\n",
       " 'GJA10',\n",
       " 'S14',\n",
       " 'ZSCAN30',\n",
       " 'CFD1',\n",
       " 'C11ORF4',\n",
       " 'C20ORF45',\n",
       " 'HOX3',\n",
       " 'HB5',\n",
       " 'RPEL1',\n",
       " 'P48',\n",
       " 'EIF4A',\n",
       " 'PACT',\n",
       " 'AT1',\n",
       " 'CA-RP',\n",
       " 'LVG2',\n",
       " 'CYPL1',\n",
       " 'OCT2',\n",
       " 'DAP4',\n",
       " 'MED',\n",
       " 'CMS2A',\n",
       " 'PRP-1/PRP-2',\n",
       " 'P45',\n",
       " 'TAO1',\n",
       " 'AQP1',\n",
       " 'HIS',\n",
       " 'CDP',\n",
       " 'HERV-K',\n",
       " 'MED1',\n",
       " 'P7',\n",
       " 'BETA3GN-T8',\n",
       " 'AZ2',\n",
       " 'TMEFF1',\n",
       " 'P63',\n",
       " 'RK',\n",
       " 'PP2C-DELTA',\n",
       " 'STZ',\n",
       " 'NOS3',\n",
       " 'DCR',\n",
       " 'P25BETA',\n",
       " 'FCGR3',\n",
       " 'GX',\n",
       " 'RAC1',\n",
       " 'KRTAP5-8',\n",
       " 'SCC1',\n",
       " 'GP135',\n",
       " 'CRIP',\n",
       " 'MRD4',\n",
       " 'HPH-3',\n",
       " 'GNAO1-AS1',\n",
       " 'XAGE-1',\n",
       " 'SERRS',\n",
       " 'H4F5',\n",
       " 'SMIM39',\n",
       " 'ECTD1',\n",
       " 'DHRSY',\n",
       " 'EIG7',\n",
       " 'SNAPA',\n",
       " 'AIS',\n",
       " 'B61',\n",
       " 'LNC',\n",
       " 'TRN2',\n",
       " 'FBP2',\n",
       " 'RBPI',\n",
       " 'PLIP',\n",
       " 'PRH1',\n",
       " 'CAP1',\n",
       " 'MRK',\n",
       " 'DBP',\n",
       " 'ICLN',\n",
       " 'DM1',\n",
       " 'EPO',\n",
       " 'PN-II',\n",
       " 'VMA21',\n",
       " 'UDPGT 1-1',\n",
       " 'TICAM2',\n",
       " 'HLAL',\n",
       " 'RANBP7',\n",
       " 'BDPLT2',\n",
       " 'C2ORF47',\n",
       " 'RHEB2',\n",
       " 'IMP-3',\n",
       " 'PGS2',\n",
       " 'UBP',\n",
       " 'CANP',\n",
       " 'ZNF225',\n",
       " 'NAT3',\n",
       " 'MS2',\n",
       " ...}"
      ]
     },
     "execution_count": 14,
     "metadata": {},
     "output_type": "execute_result"
    }
   ],
   "source": [
    "ambiguous_symbol_set"
   ]
  },
  {
   "cell_type": "markdown",
   "metadata": {},
   "source": [
    "### <a id='toc1_1_2_'></a>[Primary exploration of DGIdb gene content using collisions](#toc0_)"
   ]
  },
  {
   "cell_type": "markdown",
   "metadata": {},
   "source": [
    "#### <a id='toc1_1_2_1_'></a>[Load gene claim data from DGIdb](#toc0_)"
   ]
  },
  {
   "cell_type": "code",
   "execution_count": 15,
   "metadata": {},
   "outputs": [
    {
     "data": {
      "text/html": [
       "<div>\n",
       "<style scoped>\n",
       "    .dataframe tbody tr th:only-of-type {\n",
       "        vertical-align: middle;\n",
       "    }\n",
       "\n",
       "    .dataframe tbody tr th {\n",
       "        vertical-align: top;\n",
       "    }\n",
       "\n",
       "    .dataframe thead th {\n",
       "        text-align: right;\n",
       "    }\n",
       "</style>\n",
       "<table border=\"1\" class=\"dataframe\">\n",
       "  <thead>\n",
       "    <tr style=\"text-align: right;\">\n",
       "      <th></th>\n",
       "      <th>gene_claim_name</th>\n",
       "      <th>nomenclature</th>\n",
       "      <th>concept_id</th>\n",
       "      <th>gene_name</th>\n",
       "      <th>source_db_name</th>\n",
       "      <th>source_db_version</th>\n",
       "    </tr>\n",
       "  </thead>\n",
       "  <tbody>\n",
       "    <tr>\n",
       "      <th>0</th>\n",
       "      <td>NGFIBA</td>\n",
       "      <td>NCBI Gene Name</td>\n",
       "      <td>NaN</td>\n",
       "      <td>NaN</td>\n",
       "      <td>BaderLab</td>\n",
       "      <td>Feb-14</td>\n",
       "    </tr>\n",
       "    <tr>\n",
       "      <th>1</th>\n",
       "      <td>NGFIBB</td>\n",
       "      <td>NCBI Gene Name</td>\n",
       "      <td>NaN</td>\n",
       "      <td>NaN</td>\n",
       "      <td>BaderLab</td>\n",
       "      <td>Feb-14</td>\n",
       "    </tr>\n",
       "    <tr>\n",
       "      <th>2</th>\n",
       "      <td>DAX</td>\n",
       "      <td>NCBI Gene Name</td>\n",
       "      <td>NaN</td>\n",
       "      <td>NaN</td>\n",
       "      <td>BaderLab</td>\n",
       "      <td>Feb-14</td>\n",
       "    </tr>\n",
       "    <tr>\n",
       "      <th>3</th>\n",
       "      <td>REV-ERBA</td>\n",
       "      <td>NCBI Gene Name</td>\n",
       "      <td>NaN</td>\n",
       "      <td>NaN</td>\n",
       "      <td>BaderLab</td>\n",
       "      <td>Feb-14</td>\n",
       "    </tr>\n",
       "    <tr>\n",
       "      <th>4</th>\n",
       "      <td>COUP2</td>\n",
       "      <td>NCBI Gene Name</td>\n",
       "      <td>NaN</td>\n",
       "      <td>NaN</td>\n",
       "      <td>BaderLab</td>\n",
       "      <td>Feb-14</td>\n",
       "    </tr>\n",
       "    <tr>\n",
       "      <th>...</th>\n",
       "      <td>...</td>\n",
       "      <td>...</td>\n",
       "      <td>...</td>\n",
       "      <td>...</td>\n",
       "      <td>...</td>\n",
       "      <td>...</td>\n",
       "    </tr>\n",
       "    <tr>\n",
       "      <th>80229</th>\n",
       "      <td>KIT</td>\n",
       "      <td>Gene Symbol</td>\n",
       "      <td>hgnc:6342</td>\n",
       "      <td>KIT</td>\n",
       "      <td>Oncomine</td>\n",
       "      <td>v3</td>\n",
       "    </tr>\n",
       "    <tr>\n",
       "      <th>80230</th>\n",
       "      <td>HES1</td>\n",
       "      <td>Gene Name</td>\n",
       "      <td>hgnc:5192</td>\n",
       "      <td>HES1</td>\n",
       "      <td>NCI</td>\n",
       "      <td>14-Sep-17</td>\n",
       "    </tr>\n",
       "    <tr>\n",
       "      <th>80231</th>\n",
       "      <td>IRF1</td>\n",
       "      <td>Gene Symbol</td>\n",
       "      <td>hgnc:6116</td>\n",
       "      <td>IRF1</td>\n",
       "      <td>Tempus</td>\n",
       "      <td>11-Nov-18</td>\n",
       "    </tr>\n",
       "    <tr>\n",
       "      <th>80232</th>\n",
       "      <td>SHFM1</td>\n",
       "      <td>Gene Name</td>\n",
       "      <td>hgnc:10845</td>\n",
       "      <td>SEM1</td>\n",
       "      <td>DTC</td>\n",
       "      <td>9/2/20</td>\n",
       "    </tr>\n",
       "    <tr>\n",
       "      <th>80233</th>\n",
       "      <td>NEUROD1</td>\n",
       "      <td>Gene Name</td>\n",
       "      <td>hgnc:7762</td>\n",
       "      <td>NEUROD1</td>\n",
       "      <td>NCI</td>\n",
       "      <td>14-Sep-17</td>\n",
       "    </tr>\n",
       "  </tbody>\n",
       "</table>\n",
       "<p>80234 rows × 6 columns</p>\n",
       "</div>"
      ],
      "text/plain": [
       "      gene_claim_name    nomenclature  concept_id gene_name source_db_name  \\\n",
       "0              NGFIBA  NCBI Gene Name         NaN       NaN       BaderLab   \n",
       "1              NGFIBB  NCBI Gene Name         NaN       NaN       BaderLab   \n",
       "2                 DAX  NCBI Gene Name         NaN       NaN       BaderLab   \n",
       "3            REV-ERBA  NCBI Gene Name         NaN       NaN       BaderLab   \n",
       "4               COUP2  NCBI Gene Name         NaN       NaN       BaderLab   \n",
       "...               ...             ...         ...       ...            ...   \n",
       "80229             KIT     Gene Symbol   hgnc:6342       KIT       Oncomine   \n",
       "80230            HES1       Gene Name   hgnc:5192      HES1            NCI   \n",
       "80231            IRF1     Gene Symbol   hgnc:6116      IRF1         Tempus   \n",
       "80232           SHFM1       Gene Name  hgnc:10845      SEM1            DTC   \n",
       "80233         NEUROD1       Gene Name   hgnc:7762   NEUROD1            NCI   \n",
       "\n",
       "      source_db_version  \n",
       "0                Feb-14  \n",
       "1                Feb-14  \n",
       "2                Feb-14  \n",
       "3                Feb-14  \n",
       "4                Feb-14  \n",
       "...                 ...  \n",
       "80229                v3  \n",
       "80230         14-Sep-17  \n",
       "80231         11-Nov-18  \n",
       "80232            9/2/20  \n",
       "80233         14-Sep-17  \n",
       "\n",
       "[80234 rows x 6 columns]"
      ]
     },
     "execution_count": 15,
     "metadata": {},
     "output_type": "execute_result"
    }
   ],
   "source": [
    "dgidb_gene_df = pd.read_csv(\n",
    "    \"../input/dgidb_genes_JUNE.tsv\", sep=\"\\t\", na_values=[\"\", \"NULL\"], keep_default_na=False\n",
    ")\n",
    "dgidb_gene_df"
   ]
  },
  {
   "cell_type": "code",
   "execution_count": 16,
   "metadata": {},
   "outputs": [],
   "source": [
    "num_total_claims = len(dgidb_gene_df)"
   ]
  },
  {
   "cell_type": "code",
   "execution_count": 17,
   "metadata": {},
   "outputs": [
    {
     "data": {
      "text/html": [
       "<div>\n",
       "<style scoped>\n",
       "    .dataframe tbody tr th:only-of-type {\n",
       "        vertical-align: middle;\n",
       "    }\n",
       "\n",
       "    .dataframe tbody tr th {\n",
       "        vertical-align: top;\n",
       "    }\n",
       "\n",
       "    .dataframe thead th {\n",
       "        text-align: right;\n",
       "    }\n",
       "</style>\n",
       "<table border=\"1\" class=\"dataframe\">\n",
       "  <thead>\n",
       "    <tr style=\"text-align: right;\">\n",
       "      <th></th>\n",
       "      <th>gene_claim_name</th>\n",
       "      <th>nomenclature</th>\n",
       "      <th>concept_id</th>\n",
       "      <th>gene_name</th>\n",
       "      <th>source_db_name</th>\n",
       "      <th>source_db_version</th>\n",
       "    </tr>\n",
       "  </thead>\n",
       "  <tbody>\n",
       "    <tr>\n",
       "      <th>30772</th>\n",
       "      <td>HES1</td>\n",
       "      <td>Gene Symbol</td>\n",
       "      <td>hgnc:5192</td>\n",
       "      <td>HES1</td>\n",
       "      <td>Pharos</td>\n",
       "      <td>10-Apr-24</td>\n",
       "    </tr>\n",
       "    <tr>\n",
       "      <th>76844</th>\n",
       "      <td>HES1</td>\n",
       "      <td>Gene Symbol</td>\n",
       "      <td>hgnc:5192</td>\n",
       "      <td>HES1</td>\n",
       "      <td>HGNC</td>\n",
       "      <td>20240408</td>\n",
       "    </tr>\n",
       "    <tr>\n",
       "      <th>76845</th>\n",
       "      <td>HES1</td>\n",
       "      <td>Gene Symbol</td>\n",
       "      <td>hgnc:5192</td>\n",
       "      <td>HES1</td>\n",
       "      <td>NCBI</td>\n",
       "      <td>20240410</td>\n",
       "    </tr>\n",
       "    <tr>\n",
       "      <th>76846</th>\n",
       "      <td>HES1</td>\n",
       "      <td>Gene Symbol</td>\n",
       "      <td>hgnc:5192</td>\n",
       "      <td>HES1</td>\n",
       "      <td>Ensembl</td>\n",
       "      <td>111</td>\n",
       "    </tr>\n",
       "    <tr>\n",
       "      <th>80230</th>\n",
       "      <td>HES1</td>\n",
       "      <td>Gene Name</td>\n",
       "      <td>hgnc:5192</td>\n",
       "      <td>HES1</td>\n",
       "      <td>NCI</td>\n",
       "      <td>14-Sep-17</td>\n",
       "    </tr>\n",
       "  </tbody>\n",
       "</table>\n",
       "</div>"
      ],
      "text/plain": [
       "      gene_claim_name nomenclature concept_id gene_name source_db_name  \\\n",
       "30772            HES1  Gene Symbol  hgnc:5192      HES1         Pharos   \n",
       "76844            HES1  Gene Symbol  hgnc:5192      HES1           HGNC   \n",
       "76845            HES1  Gene Symbol  hgnc:5192      HES1           NCBI   \n",
       "76846            HES1  Gene Symbol  hgnc:5192      HES1        Ensembl   \n",
       "80230            HES1    Gene Name  hgnc:5192      HES1            NCI   \n",
       "\n",
       "      source_db_version  \n",
       "30772         10-Apr-24  \n",
       "76844          20240408  \n",
       "76845          20240410  \n",
       "76846               111  \n",
       "80230         14-Sep-17  "
      ]
     },
     "execution_count": 17,
     "metadata": {},
     "output_type": "execute_result"
    }
   ],
   "source": [
    "dgidb_gene_df.loc[dgidb_gene_df[\"gene_claim_name\"] == \"HES1\"]"
   ]
  },
  {
   "cell_type": "markdown",
   "metadata": {},
   "source": [
    "#### <a id='toc1_1_2_2_'></a>[How many claims are placed in a gene group with a different label?](#toc0_)"
   ]
  },
  {
   "cell_type": "code",
   "execution_count": 18,
   "metadata": {},
   "outputs": [
    {
     "data": {
      "text/html": [
       "<div>\n",
       "<style scoped>\n",
       "    .dataframe tbody tr th:only-of-type {\n",
       "        vertical-align: middle;\n",
       "    }\n",
       "\n",
       "    .dataframe tbody tr th {\n",
       "        vertical-align: top;\n",
       "    }\n",
       "\n",
       "    .dataframe thead th {\n",
       "        text-align: right;\n",
       "    }\n",
       "</style>\n",
       "<table border=\"1\" class=\"dataframe\">\n",
       "  <thead>\n",
       "    <tr style=\"text-align: right;\">\n",
       "      <th></th>\n",
       "      <th>gene_claim_name</th>\n",
       "      <th>nomenclature</th>\n",
       "      <th>concept_id</th>\n",
       "      <th>gene_name</th>\n",
       "      <th>source_db_name</th>\n",
       "      <th>source_db_version</th>\n",
       "    </tr>\n",
       "  </thead>\n",
       "  <tbody>\n",
       "    <tr>\n",
       "      <th>0</th>\n",
       "      <td>NGFIBA</td>\n",
       "      <td>NCBI Gene Name</td>\n",
       "      <td>NaN</td>\n",
       "      <td>NaN</td>\n",
       "      <td>BaderLab</td>\n",
       "      <td>Feb-14</td>\n",
       "    </tr>\n",
       "    <tr>\n",
       "      <th>1</th>\n",
       "      <td>NGFIBB</td>\n",
       "      <td>NCBI Gene Name</td>\n",
       "      <td>NaN</td>\n",
       "      <td>NaN</td>\n",
       "      <td>BaderLab</td>\n",
       "      <td>Feb-14</td>\n",
       "    </tr>\n",
       "    <tr>\n",
       "      <th>2</th>\n",
       "      <td>DAX</td>\n",
       "      <td>NCBI Gene Name</td>\n",
       "      <td>NaN</td>\n",
       "      <td>NaN</td>\n",
       "      <td>BaderLab</td>\n",
       "      <td>Feb-14</td>\n",
       "    </tr>\n",
       "    <tr>\n",
       "      <th>3</th>\n",
       "      <td>REV-ERBA</td>\n",
       "      <td>NCBI Gene Name</td>\n",
       "      <td>NaN</td>\n",
       "      <td>NaN</td>\n",
       "      <td>BaderLab</td>\n",
       "      <td>Feb-14</td>\n",
       "    </tr>\n",
       "    <tr>\n",
       "      <th>4</th>\n",
       "      <td>COUP2</td>\n",
       "      <td>NCBI Gene Name</td>\n",
       "      <td>NaN</td>\n",
       "      <td>NaN</td>\n",
       "      <td>BaderLab</td>\n",
       "      <td>Feb-14</td>\n",
       "    </tr>\n",
       "    <tr>\n",
       "      <th>...</th>\n",
       "      <td>...</td>\n",
       "      <td>...</td>\n",
       "      <td>...</td>\n",
       "      <td>...</td>\n",
       "      <td>...</td>\n",
       "      <td>...</td>\n",
       "    </tr>\n",
       "    <tr>\n",
       "      <th>79999</th>\n",
       "      <td>SEPT5</td>\n",
       "      <td>Gene Symbol</td>\n",
       "      <td>hgnc:9164</td>\n",
       "      <td>SEPTIN5</td>\n",
       "      <td>FoundationOneGenes</td>\n",
       "      <td>9/3/20</td>\n",
       "    </tr>\n",
       "    <tr>\n",
       "      <th>80014</th>\n",
       "      <td>ENSEMBL:ENSG00000185821</td>\n",
       "      <td>Ensembl Gene ID</td>\n",
       "      <td>hgnc:31305</td>\n",
       "      <td>OR6C76</td>\n",
       "      <td>RussLampel</td>\n",
       "      <td>26-Jul-11</td>\n",
       "    </tr>\n",
       "    <tr>\n",
       "      <th>80053</th>\n",
       "      <td>SEPT5</td>\n",
       "      <td>Gene Symbol</td>\n",
       "      <td>hgnc:9164</td>\n",
       "      <td>SEPTIN5</td>\n",
       "      <td>CarisMolecularIntelligence</td>\n",
       "      <td>9/4/20</td>\n",
       "    </tr>\n",
       "    <tr>\n",
       "      <th>80166</th>\n",
       "      <td>SEPT6</td>\n",
       "      <td>Gene Symbol</td>\n",
       "      <td>hgnc:15848</td>\n",
       "      <td>SEPTIN6</td>\n",
       "      <td>CarisMolecularIntelligence</td>\n",
       "      <td>9/4/20</td>\n",
       "    </tr>\n",
       "    <tr>\n",
       "      <th>80232</th>\n",
       "      <td>SHFM1</td>\n",
       "      <td>Gene Name</td>\n",
       "      <td>hgnc:10845</td>\n",
       "      <td>SEM1</td>\n",
       "      <td>DTC</td>\n",
       "      <td>9/2/20</td>\n",
       "    </tr>\n",
       "  </tbody>\n",
       "</table>\n",
       "<p>16052 rows × 6 columns</p>\n",
       "</div>"
      ],
      "text/plain": [
       "               gene_claim_name     nomenclature  concept_id gene_name  \\\n",
       "0                       NGFIBA   NCBI Gene Name         NaN       NaN   \n",
       "1                       NGFIBB   NCBI Gene Name         NaN       NaN   \n",
       "2                          DAX   NCBI Gene Name         NaN       NaN   \n",
       "3                     REV-ERBA   NCBI Gene Name         NaN       NaN   \n",
       "4                        COUP2   NCBI Gene Name         NaN       NaN   \n",
       "...                        ...              ...         ...       ...   \n",
       "79999                    SEPT5      Gene Symbol   hgnc:9164   SEPTIN5   \n",
       "80014  ENSEMBL:ENSG00000185821  Ensembl Gene ID  hgnc:31305    OR6C76   \n",
       "80053                    SEPT5      Gene Symbol   hgnc:9164   SEPTIN5   \n",
       "80166                    SEPT6      Gene Symbol  hgnc:15848   SEPTIN6   \n",
       "80232                    SHFM1        Gene Name  hgnc:10845      SEM1   \n",
       "\n",
       "                   source_db_name source_db_version  \n",
       "0                        BaderLab            Feb-14  \n",
       "1                        BaderLab            Feb-14  \n",
       "2                        BaderLab            Feb-14  \n",
       "3                        BaderLab            Feb-14  \n",
       "4                        BaderLab            Feb-14  \n",
       "...                           ...               ...  \n",
       "79999          FoundationOneGenes            9/3/20  \n",
       "80014                  RussLampel         26-Jul-11  \n",
       "80053  CarisMolecularIntelligence            9/4/20  \n",
       "80166  CarisMolecularIntelligence            9/4/20  \n",
       "80232                         DTC            9/2/20  \n",
       "\n",
       "[16052 rows x 6 columns]"
      ]
     },
     "execution_count": 18,
     "metadata": {},
     "output_type": "execute_result"
    }
   ],
   "source": [
    "dgidb_gene_df.query(\"gene_name != gene_claim_name\")"
   ]
  },
  {
   "cell_type": "markdown",
   "metadata": {},
   "source": [
    "#### <a id='toc1_1_2_3_'></a>[How many claims are not normalized?](#toc0_)"
   ]
  },
  {
   "cell_type": "markdown",
   "metadata": {},
   "source": [
    "claims without a symbol/name/identifier\n",
    " (there shouldn't be any hooray)"
   ]
  },
  {
   "cell_type": "code",
   "execution_count": 19,
   "metadata": {},
   "outputs": [
    {
     "data": {
      "text/html": [
       "<div>\n",
       "<style scoped>\n",
       "    .dataframe tbody tr th:only-of-type {\n",
       "        vertical-align: middle;\n",
       "    }\n",
       "\n",
       "    .dataframe tbody tr th {\n",
       "        vertical-align: top;\n",
       "    }\n",
       "\n",
       "    .dataframe thead th {\n",
       "        text-align: right;\n",
       "    }\n",
       "</style>\n",
       "<table border=\"1\" class=\"dataframe\">\n",
       "  <thead>\n",
       "    <tr style=\"text-align: right;\">\n",
       "      <th></th>\n",
       "      <th>gene_claim_name</th>\n",
       "      <th>nomenclature</th>\n",
       "      <th>concept_id</th>\n",
       "      <th>gene_name</th>\n",
       "      <th>source_db_name</th>\n",
       "      <th>source_db_version</th>\n",
       "    </tr>\n",
       "  </thead>\n",
       "  <tbody>\n",
       "  </tbody>\n",
       "</table>\n",
       "</div>"
      ],
      "text/plain": [
       "Empty DataFrame\n",
       "Columns: [gene_claim_name, nomenclature, concept_id, gene_name, source_db_name, source_db_version]\n",
       "Index: []"
      ]
     },
     "execution_count": 19,
     "metadata": {},
     "output_type": "execute_result"
    }
   ],
   "source": [
    "no_claim_symbols_df = dgidb_gene_df[dgidb_gene_df[\"gene_claim_name\"].isnull()]\n",
    "no_claim_symbols_df"
   ]
  },
  {
   "cell_type": "code",
   "execution_count": 20,
   "metadata": {},
   "outputs": [
    {
     "data": {
      "text/plain": [
       "2144"
      ]
     },
     "execution_count": 20,
     "metadata": {},
     "output_type": "execute_result"
    }
   ],
   "source": [
    "no_name_symbols_df = dgidb_gene_df[dgidb_gene_df[\"gene_name\"].isnull()]\n",
    "num_not_normalized_claims = len(no_name_symbols_df)\n",
    "num_not_normalized_claims"
   ]
  },
  {
   "cell_type": "code",
   "execution_count": 21,
   "metadata": {},
   "outputs": [],
   "source": [
    "num_normalized_claims = num_total_claims - num_not_normalized_claims"
   ]
  },
  {
   "cell_type": "markdown",
   "metadata": {},
   "source": [
    "#### <a id='toc1_1_2_4_'></a>[Create set of gene groups (gene_name) and gene claims (gene_claim_name)](#toc0_)"
   ]
  },
  {
   "cell_type": "code",
   "execution_count": 22,
   "metadata": {},
   "outputs": [
    {
     "data": {
      "text/plain": [
       "12001"
      ]
     },
     "execution_count": 22,
     "metadata": {},
     "output_type": "execute_result"
    }
   ],
   "source": [
    "dgidb_name_set = set(dgidb_gene_df[\"gene_name\"])\n",
    "len(dgidb_name_set)"
   ]
  },
  {
   "cell_type": "code",
   "execution_count": 23,
   "metadata": {},
   "outputs": [
    {
     "data": {
      "text/plain": [
       "26739"
      ]
     },
     "execution_count": 23,
     "metadata": {},
     "output_type": "execute_result"
    }
   ],
   "source": [
    "dgidb_gene_claim_name_set = set(dgidb_gene_df[\"gene_claim_name\"])\n",
    "len(dgidb_gene_claim_name_set)"
   ]
  },
  {
   "cell_type": "markdown",
   "metadata": {},
   "source": [
    "#### <a id='toc1_1_2_5_'></a>[Load HGNC, Ensembl (ENSG), and NCBI gene and alias sets](#toc0_)"
   ]
  },
  {
   "cell_type": "markdown",
   "metadata": {},
   "source": [
    "Input: mini_hgnc_df, mini_ensg_df, mini_ncbi_df (total_alias_gene_intersections.ipynb)"
   ]
  },
  {
   "cell_type": "markdown",
   "metadata": {},
   "source": [
    "Output: x_gene_symbol_set, x_alias_symbol_set where x is ncbi, ensg or ncbi"
   ]
  },
  {
   "cell_type": "code",
   "execution_count": 24,
   "metadata": {},
   "outputs": [],
   "source": [
    "mini_hgnc_df = pd.read_csv(\n",
    "    \"../output/mini_hgnc_df.csv\", na_values=[\"\", \"NULL\"], keep_default_na=False\n",
    ")"
   ]
  },
  {
   "cell_type": "code",
   "execution_count": 25,
   "metadata": {},
   "outputs": [],
   "source": [
    "mini_ensg_df = pd.read_csv(\n",
    "    \"../output/mini_ensg_df.csv\", na_values=[\"\", \"NULL\"], keep_default_na=False\n",
    ")"
   ]
  },
  {
   "cell_type": "code",
   "execution_count": 26,
   "metadata": {},
   "outputs": [],
   "source": [
    "mini_ncbi_df = pd.read_csv(\n",
    "    \"../output/mini_ncbi_df.csv\", na_values=[\"\", \"NULL\"], keep_default_na=False\n",
    ")"
   ]
  },
  {
   "cell_type": "code",
   "execution_count": 27,
   "metadata": {},
   "outputs": [
    {
     "data": {
      "text/plain": [
       "45646"
      ]
     },
     "execution_count": 27,
     "metadata": {},
     "output_type": "execute_result"
    }
   ],
   "source": [
    "hgnc_gene_symbol_set = set(mini_hgnc_df[\"gene_symbol\"])\n",
    "len(hgnc_gene_symbol_set)"
   ]
  },
  {
   "cell_type": "code",
   "execution_count": 28,
   "metadata": {},
   "outputs": [
    {
     "data": {
      "text/plain": [
       "41164"
      ]
     },
     "execution_count": 28,
     "metadata": {},
     "output_type": "execute_result"
    }
   ],
   "source": [
    "ensg_gene_symbol_set = set(mini_ensg_df[\"gene_symbol\"])\n",
    "len(ensg_gene_symbol_set)"
   ]
  },
  {
   "cell_type": "code",
   "execution_count": 29,
   "metadata": {},
   "outputs": [
    {
     "data": {
      "text/plain": [
       "45727"
      ]
     },
     "execution_count": 29,
     "metadata": {},
     "output_type": "execute_result"
    }
   ],
   "source": [
    "ncbi_gene_symbol_set = set(mini_ncbi_df[\"gene_symbol\"])\n",
    "len(ncbi_gene_symbol_set)"
   ]
  },
  {
   "cell_type": "code",
   "execution_count": 30,
   "metadata": {},
   "outputs": [
    {
     "data": {
      "text/plain": [
       "43187"
      ]
     },
     "execution_count": 30,
     "metadata": {},
     "output_type": "execute_result"
    }
   ],
   "source": [
    "hgnc_alias_symbol_set = set(mini_hgnc_df[\"alias_symbol\"])\n",
    "len(hgnc_alias_symbol_set)"
   ]
  },
  {
   "cell_type": "code",
   "execution_count": 31,
   "metadata": {},
   "outputs": [
    {
     "data": {
      "text/plain": [
       "55413"
      ]
     },
     "execution_count": 31,
     "metadata": {},
     "output_type": "execute_result"
    }
   ],
   "source": [
    "ensg_alias_symbol_set = set(mini_ensg_df[\"alias_symbol\"])\n",
    "len(ensg_alias_symbol_set)"
   ]
  },
  {
   "cell_type": "code",
   "execution_count": 32,
   "metadata": {},
   "outputs": [
    {
     "data": {
      "text/plain": [
       "69565"
      ]
     },
     "execution_count": 32,
     "metadata": {},
     "output_type": "execute_result"
    }
   ],
   "source": [
    "ncbi_alias_symbol_set = set(mini_ncbi_df[\"alias_symbol\"])\n",
    "len(ncbi_alias_symbol_set)"
   ]
  },
  {
   "cell_type": "markdown",
   "metadata": {},
   "source": [
    "#### <a id='toc1_1_2_6_'></a>[How many unique primary gene symbols are there b/w HGNC, Ensembl, and NCBI?](#toc0_)"
   ]
  },
  {
   "cell_type": "code",
   "execution_count": 33,
   "metadata": {},
   "outputs": [],
   "source": [
    "hgnc_ensg_gene_symbol_set = hgnc_gene_symbol_set.union(ensg_gene_symbol_set)"
   ]
  },
  {
   "cell_type": "code",
   "execution_count": 34,
   "metadata": {},
   "outputs": [
    {
     "data": {
      "text/plain": [
       "47368"
      ]
     },
     "execution_count": 34,
     "metadata": {},
     "output_type": "execute_result"
    }
   ],
   "source": [
    "hgnc_ensg_ncbi_gene_symbol_set = hgnc_ensg_gene_symbol_set.union(ncbi_gene_symbol_set)\n",
    "len(hgnc_ensg_ncbi_gene_symbol_set)"
   ]
  },
  {
   "cell_type": "markdown",
   "metadata": {},
   "source": [
    "#### <a id='toc1_1_2_7_'></a>[How many unique alias symbols are there b/w HGNC, Ensembl, and NCBI?](#toc0_)"
   ]
  },
  {
   "cell_type": "code",
   "execution_count": 35,
   "metadata": {},
   "outputs": [],
   "source": [
    "hgnc_ensg_alias_symbol_set = hgnc_alias_symbol_set.union(ensg_alias_symbol_set)"
   ]
  },
  {
   "cell_type": "code",
   "execution_count": 36,
   "metadata": {},
   "outputs": [
    {
     "data": {
      "text/plain": [
       "93528"
      ]
     },
     "execution_count": 36,
     "metadata": {},
     "output_type": "execute_result"
    }
   ],
   "source": [
    "hgnc_ensg_ncbi_alias_symbol_set = hgnc_ensg_alias_symbol_set.union(\n",
    "    ncbi_alias_symbol_set\n",
    ")\n",
    "len(hgnc_ensg_ncbi_alias_symbol_set)"
   ]
  },
  {
   "cell_type": "markdown",
   "metadata": {},
   "source": [
    "#### <a id='toc1_1_2_8_'></a>[How many unique group names are not primary gene symbols?](#toc0_)"
   ]
  },
  {
   "cell_type": "code",
   "execution_count": 37,
   "metadata": {},
   "outputs": [
    {
     "data": {
      "text/plain": [
       "297"
      ]
     },
     "execution_count": 37,
     "metadata": {},
     "output_type": "execute_result"
    }
   ],
   "source": [
    "name_ensg_notmatch = dgidb_name_set.difference(ensg_gene_symbol_set)\n",
    "len(name_ensg_notmatch)"
   ]
  },
  {
   "cell_type": "code",
   "execution_count": 38,
   "metadata": {},
   "outputs": [
    {
     "data": {
      "text/plain": [
       "25"
      ]
     },
     "execution_count": 38,
     "metadata": {},
     "output_type": "execute_result"
    }
   ],
   "source": [
    "name_hgnc_notmatch = dgidb_name_set.difference(hgnc_gene_symbol_set)\n",
    "len(name_hgnc_notmatch)"
   ]
  },
  {
   "cell_type": "code",
   "execution_count": 39,
   "metadata": {},
   "outputs": [
    {
     "data": {
      "text/plain": [
       "25"
      ]
     },
     "execution_count": 39,
     "metadata": {},
     "output_type": "execute_result"
    }
   ],
   "source": [
    "cleaned_name_hgnc_notmatch = [x for x in name_hgnc_notmatch if str(x) != \"NaN\"]\n",
    "len(cleaned_name_hgnc_notmatch)"
   ]
  },
  {
   "cell_type": "code",
   "execution_count": 40,
   "metadata": {},
   "outputs": [
    {
     "data": {
      "text/plain": [
       "135"
      ]
     },
     "execution_count": 40,
     "metadata": {},
     "output_type": "execute_result"
    }
   ],
   "source": [
    "name_ncbi_notmatch = dgidb_name_set.difference(ncbi_gene_symbol_set)\n",
    "len(name_ncbi_notmatch)"
   ]
  },
  {
   "cell_type": "code",
   "execution_count": 41,
   "metadata": {},
   "outputs": [
    {
     "data": {
      "text/plain": [
       "18"
      ]
     },
     "execution_count": 41,
     "metadata": {},
     "output_type": "execute_result"
    }
   ],
   "source": [
    "name_ncbi_hgnc_notmatch = name_ncbi_notmatch.difference(hgnc_gene_symbol_set)\n",
    "len(name_ncbi_hgnc_notmatch)"
   ]
  },
  {
   "cell_type": "markdown",
   "metadata": {},
   "source": [
    "How many groups are labeled with a symbol not found in the sets of primary symbols from HGNC, NCBI, or ENSG?"
   ]
  },
  {
   "cell_type": "code",
   "execution_count": 42,
   "metadata": {},
   "outputs": [
    {
     "data": {
      "text/plain": [
       "18"
      ]
     },
     "execution_count": 42,
     "metadata": {},
     "output_type": "execute_result"
    }
   ],
   "source": [
    "name_ncbi_hgnc_ensg_notmatch = name_ncbi_hgnc_notmatch.difference(ensg_gene_symbol_set)\n",
    "len(name_ncbi_hgnc_ensg_notmatch)"
   ]
  },
  {
   "cell_type": "code",
   "execution_count": 43,
   "metadata": {},
   "outputs": [
    {
     "data": {
      "text/plain": [
       "{'ACT',\n",
       " 'ATP5A2',\n",
       " 'BTNL1',\n",
       " 'CYB5P1',\n",
       " 'GAPDHL17',\n",
       " 'HEMC',\n",
       " 'LOC102723996',\n",
       " 'LOC102724428',\n",
       " 'LOC105376944',\n",
       " 'LOC112268384',\n",
       " 'LOC112694756',\n",
       " 'LOC344967',\n",
       " 'LOC408186',\n",
       " 'LOC653303',\n",
       " 'OA1',\n",
       " 'USP17L',\n",
       " 'mCR',\n",
       " nan}"
      ]
     },
     "execution_count": 43,
     "metadata": {},
     "output_type": "execute_result"
    }
   ],
   "source": [
    "name_ncbi_hgnc_ensg_notmatch"
   ]
  },
  {
   "cell_type": "code",
   "execution_count": 44,
   "metadata": {},
   "outputs": [
    {
     "data": {
      "text/plain": [
       "12001"
      ]
     },
     "execution_count": 44,
     "metadata": {},
     "output_type": "execute_result"
    }
   ],
   "source": [
    "len(dgidb_name_set)"
   ]
  },
  {
   "cell_type": "markdown",
   "metadata": {},
   "source": [
    "#### <a id='toc1_1_2_9_'></a>[How many unique claims are not primary gene symbols?](#toc0_)"
   ]
  },
  {
   "cell_type": "code",
   "execution_count": 45,
   "metadata": {},
   "outputs": [
    {
     "data": {
      "text/plain": [
       "15030"
      ]
     },
     "execution_count": 45,
     "metadata": {},
     "output_type": "execute_result"
    }
   ],
   "source": [
    "gene_claim_name_ensg_notmatch = dgidb_gene_claim_name_set.difference(\n",
    "    ensg_gene_symbol_set\n",
    ")\n",
    "len(gene_claim_name_ensg_notmatch)"
   ]
  },
  {
   "cell_type": "code",
   "execution_count": 46,
   "metadata": {},
   "outputs": [
    {
     "data": {
      "text/plain": [
       "15030"
      ]
     },
     "execution_count": 46,
     "metadata": {},
     "output_type": "execute_result"
    }
   ],
   "source": [
    "cleaned_gene_claim_name_ensg_notmatch = [\n",
    "    x for x in gene_claim_name_ensg_notmatch if str(x) != \"NaN\"\n",
    "]\n",
    "len(cleaned_gene_claim_name_ensg_notmatch)"
   ]
  },
  {
   "cell_type": "code",
   "execution_count": 47,
   "metadata": {},
   "outputs": [
    {
     "data": {
      "text/plain": [
       "14755"
      ]
     },
     "execution_count": 47,
     "metadata": {},
     "output_type": "execute_result"
    }
   ],
   "source": [
    "gene_claim_name_hgnc_notmatch = dgidb_gene_claim_name_set.difference(\n",
    "    hgnc_gene_symbol_set\n",
    ")\n",
    "len(gene_claim_name_hgnc_notmatch)"
   ]
  },
  {
   "cell_type": "code",
   "execution_count": 48,
   "metadata": {},
   "outputs": [
    {
     "data": {
      "text/plain": [
       "14867"
      ]
     },
     "execution_count": 48,
     "metadata": {},
     "output_type": "execute_result"
    }
   ],
   "source": [
    "gene_claim_name_ncbi_notmatch = dgidb_gene_claim_name_set.difference(\n",
    "    ncbi_gene_symbol_set\n",
    ")\n",
    "len(gene_claim_name_ncbi_notmatch)"
   ]
  },
  {
   "cell_type": "code",
   "execution_count": 49,
   "metadata": {},
   "outputs": [
    {
     "data": {
      "text/plain": [
       "14748"
      ]
     },
     "execution_count": 49,
     "metadata": {},
     "output_type": "execute_result"
    }
   ],
   "source": [
    "gene_claim_name_ncbi_hngc_notmatch = gene_claim_name_ncbi_notmatch.difference(\n",
    "    hgnc_gene_symbol_set\n",
    ")\n",
    "len(gene_claim_name_ncbi_hngc_notmatch)"
   ]
  },
  {
   "cell_type": "markdown",
   "metadata": {},
   "source": [
    "How many unique claims are not primary symbols"
   ]
  },
  {
   "cell_type": "code",
   "execution_count": 50,
   "metadata": {},
   "outputs": [
    {
     "data": {
      "text/plain": [
       "14748"
      ]
     },
     "execution_count": 50,
     "metadata": {},
     "output_type": "execute_result"
    }
   ],
   "source": [
    "gene_claim_name_ncbi_hngc_ensg_notmatch = gene_claim_name_ncbi_hngc_notmatch.difference(\n",
    "    ensg_gene_symbol_set\n",
    ")\n",
    "num_not_primary_claims = len(gene_claim_name_ncbi_hngc_ensg_notmatch)\n",
    "num_not_primary_claims"
   ]
  },
  {
   "cell_type": "markdown",
   "metadata": {},
   "source": [
    "#### <a id='toc1_1_2_10_'></a>[Load the collision sets from each data source](#toc0_)"
   ]
  },
  {
   "cell_type": "markdown",
   "metadata": {},
   "source": [
    "Input: aa_collision_x_df.csv (total_alis_overlap.ipynb)"
   ]
  },
  {
   "cell_type": "markdown",
   "metadata": {},
   "source": [
    "Output: x_alias_alias_collision_set"
   ]
  },
  {
   "cell_type": "code",
   "execution_count": 51,
   "metadata": {},
   "outputs": [],
   "source": [
    "aa_collision_hgnc_df = pd.read_csv(\n",
    "    \"../output/aa_collision_gene_hgnc_df.csv\",\n",
    "    na_values=[\"\", \"NULL\"],\n",
    "    keep_default_na=False,\n",
    ")"
   ]
  },
  {
   "cell_type": "code",
   "execution_count": 52,
   "metadata": {},
   "outputs": [
    {
     "data": {
      "text/plain": [
       "1250"
      ]
     },
     "execution_count": 52,
     "metadata": {},
     "output_type": "execute_result"
    }
   ],
   "source": [
    "hgnc_alias_alias_collision_set = set(aa_collision_hgnc_df[\"collision\"])\n",
    "len(hgnc_alias_alias_collision_set)"
   ]
  },
  {
   "cell_type": "code",
   "execution_count": 53,
   "metadata": {},
   "outputs": [],
   "source": [
    "aa_collision_ncbi_df = pd.read_csv(\n",
    "    \"../output/aa_collision_gene_ncbi_df.csv\",\n",
    "    na_values=[\"\", \"NULL\"],\n",
    "    keep_default_na=False,\n",
    ")"
   ]
  },
  {
   "cell_type": "code",
   "execution_count": 54,
   "metadata": {},
   "outputs": [
    {
     "data": {
      "text/plain": [
       "3698"
      ]
     },
     "execution_count": 54,
     "metadata": {},
     "output_type": "execute_result"
    }
   ],
   "source": [
    "ncbi_alias_alias_collision_set = set(aa_collision_ncbi_df[\"collision\"])\n",
    "len(ncbi_alias_alias_collision_set)"
   ]
  },
  {
   "cell_type": "code",
   "execution_count": 55,
   "metadata": {},
   "outputs": [],
   "source": [
    "aa_collision_ensg_df = pd.read_csv(\n",
    "    \"../output/aa_collision_gene_ensg_df.csv\",\n",
    "    na_values=[\"\", \"NULL\"],\n",
    "    keep_default_na=False,\n",
    ")"
   ]
  },
  {
   "cell_type": "code",
   "execution_count": 56,
   "metadata": {},
   "outputs": [
    {
     "data": {
      "text/plain": [
       "1615"
      ]
     },
     "execution_count": 56,
     "metadata": {},
     "output_type": "execute_result"
    }
   ],
   "source": [
    "ensg_alias_alias_collision_set = set(aa_collision_ensg_df[\"collision\"])\n",
    "len(ensg_alias_alias_collision_set)"
   ]
  },
  {
   "cell_type": "markdown",
   "metadata": {},
   "source": [
    "#### <a id='toc1_1_2_11_'></a>[How many unique group names are primary gene symbols?](#toc0_)"
   ]
  },
  {
   "cell_type": "code",
   "execution_count": 57,
   "metadata": {},
   "outputs": [
    {
     "data": {
      "text/plain": [
       "11976"
      ]
     },
     "execution_count": 57,
     "metadata": {},
     "output_type": "execute_result"
    }
   ],
   "source": [
    "name_hgnc_match = dgidb_name_set.intersection(hgnc_gene_symbol_set)\n",
    "len(name_hgnc_match)"
   ]
  },
  {
   "cell_type": "code",
   "execution_count": 58,
   "metadata": {},
   "outputs": [
    {
     "data": {
      "text/plain": [
       "11704"
      ]
     },
     "execution_count": 58,
     "metadata": {},
     "output_type": "execute_result"
    }
   ],
   "source": [
    "name_ensg_match = dgidb_name_set.intersection(ensg_gene_symbol_set)\n",
    "len(name_ensg_match)"
   ]
  },
  {
   "cell_type": "code",
   "execution_count": 59,
   "metadata": {},
   "outputs": [
    {
     "data": {
      "text/plain": [
       "11866"
      ]
     },
     "execution_count": 59,
     "metadata": {},
     "output_type": "execute_result"
    }
   ],
   "source": [
    "name_ncbi_match = dgidb_name_set.intersection(ncbi_gene_symbol_set)\n",
    "len(name_ncbi_match)"
   ]
  },
  {
   "cell_type": "code",
   "execution_count": 60,
   "metadata": {},
   "outputs": [
    {
     "data": {
      "text/plain": [
       "11669"
      ]
     },
     "execution_count": 60,
     "metadata": {},
     "output_type": "execute_result"
    }
   ],
   "source": [
    "name_ncbi_ensg_match = name_ncbi_match.intersection(ensg_gene_symbol_set)\n",
    "len(name_ncbi_ensg_match)"
   ]
  },
  {
   "cell_type": "code",
   "execution_count": 61,
   "metadata": {},
   "outputs": [
    {
     "data": {
      "text/plain": [
       "11668"
      ]
     },
     "execution_count": 61,
     "metadata": {},
     "output_type": "execute_result"
    }
   ],
   "source": [
    "name_ncbi_ensg_hgnc_match = name_ncbi_ensg_match.intersection(hgnc_gene_symbol_set)\n",
    "len(name_ncbi_ensg_hgnc_match)"
   ]
  },
  {
   "cell_type": "markdown",
   "metadata": {},
   "source": [
    "#### <a id='toc1_1_2_12_'></a>[How many of the groups that are labeled with a primary gene symbol are also alias-alias collisions?](#toc0_)"
   ]
  },
  {
   "cell_type": "code",
   "execution_count": 62,
   "metadata": {},
   "outputs": [
    {
     "data": {
      "text/plain": [
       "135"
      ]
     },
     "execution_count": 62,
     "metadata": {},
     "output_type": "execute_result"
    }
   ],
   "source": [
    "name_ncbi_match_aacollision = name_ncbi_match.intersection(\n",
    "    ncbi_alias_alias_collision_set\n",
    ")\n",
    "len(name_ncbi_match_aacollision)"
   ]
  },
  {
   "cell_type": "code",
   "execution_count": 63,
   "metadata": {},
   "outputs": [
    {
     "data": {
      "text/plain": [
       "41"
      ]
     },
     "execution_count": 63,
     "metadata": {},
     "output_type": "execute_result"
    }
   ],
   "source": [
    "name_ensg_match_aacollision = name_ensg_match.intersection(\n",
    "    ensg_alias_alias_collision_set\n",
    ")\n",
    "len(name_ensg_match_aacollision)"
   ]
  },
  {
   "cell_type": "code",
   "execution_count": 64,
   "metadata": {},
   "outputs": [
    {
     "data": {
      "text/plain": [
       "3"
      ]
     },
     "execution_count": 64,
     "metadata": {},
     "output_type": "execute_result"
    }
   ],
   "source": [
    "name_ensg_notmatch_aacollision = name_ensg_notmatch.intersection(\n",
    "    ensg_alias_alias_collision_set\n",
    ")\n",
    "len(name_ensg_notmatch_aacollision)"
   ]
  },
  {
   "cell_type": "markdown",
   "metadata": {},
   "source": [
    "#### <a id='toc1_1_2_13_'></a>[How many unique claim symbols are collisions?](#toc0_)"
   ]
  },
  {
   "cell_type": "code",
   "execution_count": 65,
   "metadata": {},
   "outputs": [
    {
     "data": {
      "text/plain": [
       "98"
      ]
     },
     "execution_count": 65,
     "metadata": {},
     "output_type": "execute_result"
    }
   ],
   "source": [
    "gene_claim_name_ensg_aacollision_match = dgidb_gene_claim_name_set.intersection(\n",
    "    ensg_alias_alias_collision_set\n",
    ")\n",
    "len(gene_claim_name_ensg_aacollision_match)"
   ]
  },
  {
   "cell_type": "code",
   "execution_count": 66,
   "metadata": {},
   "outputs": [
    {
     "data": {
      "text/plain": [
       "77"
      ]
     },
     "execution_count": 66,
     "metadata": {},
     "output_type": "execute_result"
    }
   ],
   "source": [
    "gene_claim_name_hgnc_aacollision_match = dgidb_gene_claim_name_set.intersection(\n",
    "    hgnc_alias_alias_collision_set\n",
    ")\n",
    "len(gene_claim_name_hgnc_aacollision_match)"
   ]
  },
  {
   "cell_type": "code",
   "execution_count": 67,
   "metadata": {},
   "outputs": [
    {
     "data": {
      "text/plain": [
       "238"
      ]
     },
     "execution_count": 67,
     "metadata": {},
     "output_type": "execute_result"
    }
   ],
   "source": [
    "gene_claim_name_ncbi_aacollision_match = dgidb_gene_claim_name_set.intersection(\n",
    "    ncbi_alias_alias_collision_set\n",
    ")\n",
    "len(gene_claim_name_ncbi_aacollision_match)"
   ]
  },
  {
   "cell_type": "markdown",
   "metadata": {},
   "source": [
    "#### <a id='toc1_1_2_14_'></a>[How many unique groups are labeled with collisions?](#toc0_)"
   ]
  },
  {
   "cell_type": "code",
   "execution_count": 68,
   "metadata": {},
   "outputs": [
    {
     "data": {
      "text/plain": [
       "44"
      ]
     },
     "execution_count": 68,
     "metadata": {},
     "output_type": "execute_result"
    }
   ],
   "source": [
    "name_ensg_aacollision_match = dgidb_name_set.intersection(\n",
    "    ensg_alias_alias_collision_set\n",
    ")\n",
    "len(name_ensg_aacollision_match)"
   ]
  },
  {
   "cell_type": "code",
   "execution_count": 69,
   "metadata": {},
   "outputs": [
    {
     "data": {
      "text/plain": [
       "42"
      ]
     },
     "execution_count": 69,
     "metadata": {},
     "output_type": "execute_result"
    }
   ],
   "source": [
    "name_hgnc_aacollision_match = dgidb_name_set.intersection(\n",
    "    hgnc_alias_alias_collision_set\n",
    ")\n",
    "len(name_hgnc_aacollision_match)"
   ]
  },
  {
   "cell_type": "code",
   "execution_count": 70,
   "metadata": {},
   "outputs": [
    {
     "data": {
      "text/plain": [
       "137"
      ]
     },
     "execution_count": 70,
     "metadata": {},
     "output_type": "execute_result"
    }
   ],
   "source": [
    "name_ncbi_aacollision_match = dgidb_name_set.intersection(\n",
    "    ncbi_alias_alias_collision_set\n",
    ")\n",
    "len(name_ncbi_aacollision_match)"
   ]
  },
  {
   "cell_type": "markdown",
   "metadata": {},
   "source": [
    "#### <a id='toc1_1_2_15_'></a>[How many unique claims are not primary gene symbols?](#toc0_)"
   ]
  },
  {
   "cell_type": "code",
   "execution_count": 71,
   "metadata": {},
   "outputs": [
    {
     "data": {
      "text/plain": [
       "14755"
      ]
     },
     "execution_count": 71,
     "metadata": {},
     "output_type": "execute_result"
    }
   ],
   "source": [
    "gene_claim_name_hgnc_notmatch = dgidb_gene_claim_name_set.difference(\n",
    "    hgnc_gene_symbol_set\n",
    ")\n",
    "len(gene_claim_name_hgnc_notmatch)"
   ]
  },
  {
   "cell_type": "code",
   "execution_count": 72,
   "metadata": {},
   "outputs": [
    {
     "data": {
      "text/plain": [
       "15030"
      ]
     },
     "execution_count": 72,
     "metadata": {},
     "output_type": "execute_result"
    }
   ],
   "source": [
    "gene_claim_name_ensg_notmatch = dgidb_gene_claim_name_set.difference(\n",
    "    ensg_gene_symbol_set\n",
    ")\n",
    "len(gene_claim_name_ensg_notmatch)"
   ]
  },
  {
   "cell_type": "code",
   "execution_count": 73,
   "metadata": {},
   "outputs": [
    {
     "data": {
      "text/plain": [
       "14867"
      ]
     },
     "execution_count": 73,
     "metadata": {},
     "output_type": "execute_result"
    }
   ],
   "source": [
    "gene_claim_name_ncbi_notmatch = dgidb_gene_claim_name_set.difference(\n",
    "    ncbi_gene_symbol_set\n",
    ")\n",
    "len(gene_claim_name_ncbi_notmatch)"
   ]
  },
  {
   "cell_type": "markdown",
   "metadata": {},
   "source": [
    "#### <a id='toc1_1_2_16_'></a>[How many unique claims that were not primary symbols are collisions?](#toc0_)"
   ]
  },
  {
   "cell_type": "code",
   "execution_count": 74,
   "metadata": {},
   "outputs": [
    {
     "data": {
      "text/plain": [
       "36"
      ]
     },
     "execution_count": 74,
     "metadata": {},
     "output_type": "execute_result"
    }
   ],
   "source": [
    "gene_claim_name_hgnc_notmatch_aacollision = gene_claim_name_hgnc_notmatch.intersection(\n",
    "    hgnc_alias_alias_collision_set\n",
    ")\n",
    "len(gene_claim_name_hgnc_notmatch_aacollision)"
   ]
  },
  {
   "cell_type": "code",
   "execution_count": 75,
   "metadata": {},
   "outputs": [
    {
     "data": {
      "text/plain": [
       "103"
      ]
     },
     "execution_count": 75,
     "metadata": {},
     "output_type": "execute_result"
    }
   ],
   "source": [
    "gene_claim_name_ncbi_notmatch_aacollision = gene_claim_name_ncbi_notmatch.intersection(\n",
    "    ncbi_alias_alias_collision_set\n",
    ")\n",
    "len(gene_claim_name_ncbi_notmatch_aacollision)"
   ]
  },
  {
   "cell_type": "code",
   "execution_count": 76,
   "metadata": {},
   "outputs": [
    {
     "data": {
      "text/plain": [
       "57"
      ]
     },
     "execution_count": 76,
     "metadata": {},
     "output_type": "execute_result"
    }
   ],
   "source": [
    "gene_claim_name_ensg_notmatch_aacollision = gene_claim_name_ensg_notmatch.intersection(\n",
    "    ensg_alias_alias_collision_set\n",
    ")\n",
    "len(gene_claim_name_ensg_notmatch_aacollision)"
   ]
  },
  {
   "cell_type": "markdown",
   "metadata": {},
   "source": [
    "#### <a id='toc1_1_2_17_'></a>[How many unique claims that are primary gene symbols are also collisions?](#toc0_)"
   ]
  },
  {
   "cell_type": "code",
   "execution_count": 77,
   "metadata": {},
   "outputs": [
    {
     "data": {
      "text/plain": [
       "11984"
      ]
     },
     "execution_count": 77,
     "metadata": {},
     "output_type": "execute_result"
    }
   ],
   "source": [
    "gene_claim_name_hgnc_match = dgidb_gene_claim_name_set.intersection(\n",
    "    hgnc_gene_symbol_set\n",
    ")\n",
    "len(gene_claim_name_hgnc_match)"
   ]
  },
  {
   "cell_type": "code",
   "execution_count": 78,
   "metadata": {},
   "outputs": [
    {
     "data": {
      "text/plain": [
       "41"
      ]
     },
     "execution_count": 78,
     "metadata": {},
     "output_type": "execute_result"
    }
   ],
   "source": [
    "gene_claim_name_hgnc_match_aacollision = gene_claim_name_hgnc_match.intersection(\n",
    "    hgnc_alias_alias_collision_set\n",
    ")\n",
    "len(gene_claim_name_hgnc_match_aacollision)"
   ]
  },
  {
   "cell_type": "code",
   "execution_count": 79,
   "metadata": {},
   "outputs": [
    {
     "data": {
      "text/plain": [
       "11872"
      ]
     },
     "execution_count": 79,
     "metadata": {},
     "output_type": "execute_result"
    }
   ],
   "source": [
    "gene_claim_name_ncbi_match = dgidb_gene_claim_name_set.intersection(\n",
    "    ncbi_gene_symbol_set\n",
    ")\n",
    "len(gene_claim_name_ncbi_match)"
   ]
  },
  {
   "cell_type": "code",
   "execution_count": 80,
   "metadata": {},
   "outputs": [
    {
     "data": {
      "text/plain": [
       "135"
      ]
     },
     "execution_count": 80,
     "metadata": {},
     "output_type": "execute_result"
    }
   ],
   "source": [
    "gene_claim_name_ncbi_match_aacollision = gene_claim_name_ncbi_match.intersection(\n",
    "    ncbi_alias_alias_collision_set\n",
    ")\n",
    "len(gene_claim_name_ncbi_match_aacollision)"
   ]
  },
  {
   "cell_type": "code",
   "execution_count": 81,
   "metadata": {},
   "outputs": [
    {
     "data": {
      "text/plain": [
       "11709"
      ]
     },
     "execution_count": 81,
     "metadata": {},
     "output_type": "execute_result"
    }
   ],
   "source": [
    "gene_claim_name_ensg_match = dgidb_gene_claim_name_set.intersection(\n",
    "    ensg_gene_symbol_set\n",
    ")\n",
    "len(gene_claim_name_ensg_match)"
   ]
  },
  {
   "cell_type": "code",
   "execution_count": 82,
   "metadata": {},
   "outputs": [
    {
     "data": {
      "text/plain": [
       "41"
      ]
     },
     "execution_count": 82,
     "metadata": {},
     "output_type": "execute_result"
    }
   ],
   "source": [
    "gene_claim_name_ensg_match_aacollision = gene_claim_name_ensg_match.intersection(\n",
    "    ensg_alias_alias_collision_set\n",
    ")\n",
    "len(gene_claim_name_ensg_match_aacollision)"
   ]
  },
  {
   "cell_type": "markdown",
   "metadata": {},
   "source": [
    "#### <a id='toc1_1_2_18_'></a>[How many of the gene groups that are not primary gene symbols are alias-alias collisions from HGNC?](#toc0_)"
   ]
  },
  {
   "cell_type": "code",
   "execution_count": 83,
   "metadata": {},
   "outputs": [
    {
     "data": {
      "text/plain": [
       "1"
      ]
     },
     "execution_count": 83,
     "metadata": {},
     "output_type": "execute_result"
    }
   ],
   "source": [
    "name_hngc_notmatch_aacollision = name_hgnc_notmatch.intersection(\n",
    "    hgnc_alias_alias_collision_set\n",
    ")\n",
    "len(name_hngc_notmatch_aacollision)"
   ]
  },
  {
   "cell_type": "code",
   "execution_count": 84,
   "metadata": {},
   "outputs": [
    {
     "data": {
      "text/plain": [
       "2"
      ]
     },
     "execution_count": 84,
     "metadata": {},
     "output_type": "execute_result"
    }
   ],
   "source": [
    "name_ncbi_notmatch_aacollision = name_ncbi_notmatch.intersection(\n",
    "    ncbi_alias_alias_collision_set\n",
    ")\n",
    "len(name_ncbi_notmatch_aacollision)"
   ]
  },
  {
   "cell_type": "code",
   "execution_count": 85,
   "metadata": {},
   "outputs": [
    {
     "data": {
      "text/plain": [
       "3"
      ]
     },
     "execution_count": 85,
     "metadata": {},
     "output_type": "execute_result"
    }
   ],
   "source": [
    "name_ensg_notmatch_aacollision = name_ensg_notmatch.intersection(\n",
    "    ensg_alias_alias_collision_set\n",
    ")\n",
    "len(name_ensg_notmatch_aacollision)"
   ]
  },
  {
   "cell_type": "markdown",
   "metadata": {},
   "source": [
    "#### <a id='toc1_1_2_19_'></a>[How many claims are ambiguous symbols?](#toc0_)"
   ]
  },
  {
   "cell_type": "code",
   "execution_count": 86,
   "metadata": {},
   "outputs": [
    {
     "data": {
      "text/html": [
       "<div>\n",
       "<style scoped>\n",
       "    .dataframe tbody tr th:only-of-type {\n",
       "        vertical-align: middle;\n",
       "    }\n",
       "\n",
       "    .dataframe tbody tr th {\n",
       "        vertical-align: top;\n",
       "    }\n",
       "\n",
       "    .dataframe thead th {\n",
       "        text-align: right;\n",
       "    }\n",
       "</style>\n",
       "<table border=\"1\" class=\"dataframe\">\n",
       "  <thead>\n",
       "    <tr style=\"text-align: right;\">\n",
       "      <th></th>\n",
       "      <th>gene_claim_name</th>\n",
       "      <th>nomenclature</th>\n",
       "      <th>concept_id</th>\n",
       "      <th>gene_name</th>\n",
       "      <th>source_db_name</th>\n",
       "      <th>source_db_version</th>\n",
       "      <th>claim_ambiguous_status</th>\n",
       "    </tr>\n",
       "  </thead>\n",
       "  <tbody>\n",
       "    <tr>\n",
       "      <th>0</th>\n",
       "      <td>NGFIBA</td>\n",
       "      <td>NCBI Gene Name</td>\n",
       "      <td>NaN</td>\n",
       "      <td>NaN</td>\n",
       "      <td>BaderLab</td>\n",
       "      <td>Feb-14</td>\n",
       "      <td>False</td>\n",
       "    </tr>\n",
       "    <tr>\n",
       "      <th>1</th>\n",
       "      <td>NGFIBB</td>\n",
       "      <td>NCBI Gene Name</td>\n",
       "      <td>NaN</td>\n",
       "      <td>NaN</td>\n",
       "      <td>BaderLab</td>\n",
       "      <td>Feb-14</td>\n",
       "      <td>False</td>\n",
       "    </tr>\n",
       "    <tr>\n",
       "      <th>2</th>\n",
       "      <td>DAX</td>\n",
       "      <td>NCBI Gene Name</td>\n",
       "      <td>NaN</td>\n",
       "      <td>NaN</td>\n",
       "      <td>BaderLab</td>\n",
       "      <td>Feb-14</td>\n",
       "      <td>False</td>\n",
       "    </tr>\n",
       "    <tr>\n",
       "      <th>3</th>\n",
       "      <td>REV-ERBA</td>\n",
       "      <td>NCBI Gene Name</td>\n",
       "      <td>NaN</td>\n",
       "      <td>NaN</td>\n",
       "      <td>BaderLab</td>\n",
       "      <td>Feb-14</td>\n",
       "      <td>False</td>\n",
       "    </tr>\n",
       "    <tr>\n",
       "      <th>4</th>\n",
       "      <td>COUP2</td>\n",
       "      <td>NCBI Gene Name</td>\n",
       "      <td>NaN</td>\n",
       "      <td>NaN</td>\n",
       "      <td>BaderLab</td>\n",
       "      <td>Feb-14</td>\n",
       "      <td>False</td>\n",
       "    </tr>\n",
       "    <tr>\n",
       "      <th>...</th>\n",
       "      <td>...</td>\n",
       "      <td>...</td>\n",
       "      <td>...</td>\n",
       "      <td>...</td>\n",
       "      <td>...</td>\n",
       "      <td>...</td>\n",
       "      <td>...</td>\n",
       "    </tr>\n",
       "    <tr>\n",
       "      <th>80229</th>\n",
       "      <td>KIT</td>\n",
       "      <td>Gene Symbol</td>\n",
       "      <td>hgnc:6342</td>\n",
       "      <td>KIT</td>\n",
       "      <td>Oncomine</td>\n",
       "      <td>v3</td>\n",
       "      <td>False</td>\n",
       "    </tr>\n",
       "    <tr>\n",
       "      <th>80230</th>\n",
       "      <td>HES1</td>\n",
       "      <td>Gene Name</td>\n",
       "      <td>hgnc:5192</td>\n",
       "      <td>HES1</td>\n",
       "      <td>NCI</td>\n",
       "      <td>14-Sep-17</td>\n",
       "      <td>True</td>\n",
       "    </tr>\n",
       "    <tr>\n",
       "      <th>80231</th>\n",
       "      <td>IRF1</td>\n",
       "      <td>Gene Symbol</td>\n",
       "      <td>hgnc:6116</td>\n",
       "      <td>IRF1</td>\n",
       "      <td>Tempus</td>\n",
       "      <td>11-Nov-18</td>\n",
       "      <td>False</td>\n",
       "    </tr>\n",
       "    <tr>\n",
       "      <th>80232</th>\n",
       "      <td>SHFM1</td>\n",
       "      <td>Gene Name</td>\n",
       "      <td>hgnc:10845</td>\n",
       "      <td>SEM1</td>\n",
       "      <td>DTC</td>\n",
       "      <td>9/2/20</td>\n",
       "      <td>True</td>\n",
       "    </tr>\n",
       "    <tr>\n",
       "      <th>80233</th>\n",
       "      <td>NEUROD1</td>\n",
       "      <td>Gene Name</td>\n",
       "      <td>hgnc:7762</td>\n",
       "      <td>NEUROD1</td>\n",
       "      <td>NCI</td>\n",
       "      <td>14-Sep-17</td>\n",
       "      <td>False</td>\n",
       "    </tr>\n",
       "  </tbody>\n",
       "</table>\n",
       "<p>80234 rows × 7 columns</p>\n",
       "</div>"
      ],
      "text/plain": [
       "      gene_claim_name    nomenclature  concept_id gene_name source_db_name  \\\n",
       "0              NGFIBA  NCBI Gene Name         NaN       NaN       BaderLab   \n",
       "1              NGFIBB  NCBI Gene Name         NaN       NaN       BaderLab   \n",
       "2                 DAX  NCBI Gene Name         NaN       NaN       BaderLab   \n",
       "3            REV-ERBA  NCBI Gene Name         NaN       NaN       BaderLab   \n",
       "4               COUP2  NCBI Gene Name         NaN       NaN       BaderLab   \n",
       "...               ...             ...         ...       ...            ...   \n",
       "80229             KIT     Gene Symbol   hgnc:6342       KIT       Oncomine   \n",
       "80230            HES1       Gene Name   hgnc:5192      HES1            NCI   \n",
       "80231            IRF1     Gene Symbol   hgnc:6116      IRF1         Tempus   \n",
       "80232           SHFM1       Gene Name  hgnc:10845      SEM1            DTC   \n",
       "80233         NEUROD1       Gene Name   hgnc:7762   NEUROD1            NCI   \n",
       "\n",
       "      source_db_version  claim_ambiguous_status  \n",
       "0                Feb-14                   False  \n",
       "1                Feb-14                   False  \n",
       "2                Feb-14                   False  \n",
       "3                Feb-14                   False  \n",
       "4                Feb-14                   False  \n",
       "...                 ...                     ...  \n",
       "80229                v3                   False  \n",
       "80230         14-Sep-17                    True  \n",
       "80231         11-Nov-18                   False  \n",
       "80232            9/2/20                    True  \n",
       "80233         14-Sep-17                   False  \n",
       "\n",
       "[80234 rows x 7 columns]"
      ]
     },
     "execution_count": 86,
     "metadata": {},
     "output_type": "execute_result"
    }
   ],
   "source": [
    "dgidb_gene_df[\"claim_ambiguous_status\"] = dgidb_gene_df[\"gene_claim_name\"].isin(\n",
    "    ambiguous_symbol_set\n",
    ")\n",
    "dgidb_gene_df"
   ]
  },
  {
   "cell_type": "code",
   "execution_count": 87,
   "metadata": {},
   "outputs": [
    {
     "data": {
      "text/plain": [
       "claim_ambiguous_status\n",
       "False    75538\n",
       "True      4696\n",
       "Name: count, dtype: int64"
      ]
     },
     "execution_count": 87,
     "metadata": {},
     "output_type": "execute_result"
    }
   ],
   "source": [
    "dgidb_gene_df[\"claim_ambiguous_status\"].value_counts()"
   ]
  },
  {
   "cell_type": "code",
   "execution_count": 88,
   "metadata": {},
   "outputs": [
    {
     "data": {
      "text/plain": [
       "4696"
      ]
     },
     "execution_count": 88,
     "metadata": {},
     "output_type": "execute_result"
    }
   ],
   "source": [
    "ambiguous_claim_df = dgidb_gene_df.loc[dgidb_gene_df[\"claim_ambiguous_status\"]]\n",
    "num_ambiguous_claim = len(ambiguous_claim_df)\n",
    "num_ambiguous_claim"
   ]
  },
  {
   "cell_type": "code",
   "execution_count": 89,
   "metadata": {},
   "outputs": [
    {
     "data": {
      "text/html": [
       "<div>\n",
       "<style scoped>\n",
       "    .dataframe tbody tr th:only-of-type {\n",
       "        vertical-align: middle;\n",
       "    }\n",
       "\n",
       "    .dataframe tbody tr th {\n",
       "        vertical-align: top;\n",
       "    }\n",
       "\n",
       "    .dataframe thead th {\n",
       "        text-align: right;\n",
       "    }\n",
       "</style>\n",
       "<table border=\"1\" class=\"dataframe\">\n",
       "  <thead>\n",
       "    <tr style=\"text-align: right;\">\n",
       "      <th></th>\n",
       "      <th>gene_claim_name</th>\n",
       "      <th>nomenclature</th>\n",
       "      <th>concept_id</th>\n",
       "      <th>gene_name</th>\n",
       "      <th>source_db_name</th>\n",
       "      <th>source_db_version</th>\n",
       "      <th>claim_ambiguous_status</th>\n",
       "    </tr>\n",
       "  </thead>\n",
       "  <tbody>\n",
       "    <tr>\n",
       "      <th>18</th>\n",
       "      <td>TR2</td>\n",
       "      <td>NCBI Gene Name</td>\n",
       "      <td>hgnc:7971</td>\n",
       "      <td>NR2C1</td>\n",
       "      <td>BaderLab</td>\n",
       "      <td>Feb-14</td>\n",
       "      <td>True</td>\n",
       "    </tr>\n",
       "  </tbody>\n",
       "</table>\n",
       "</div>"
      ],
      "text/plain": [
       "   gene_claim_name    nomenclature concept_id gene_name source_db_name  \\\n",
       "18             TR2  NCBI Gene Name  hgnc:7971     NR2C1       BaderLab   \n",
       "\n",
       "   source_db_version  claim_ambiguous_status  \n",
       "18            Feb-14                    True  "
      ]
     },
     "execution_count": 89,
     "metadata": {},
     "output_type": "execute_result"
    }
   ],
   "source": [
    "ambiguous_claim_df.loc[ambiguous_claim_df[\"gene_claim_name\"] == \"TR2\"]"
   ]
  },
  {
   "cell_type": "markdown",
   "metadata": {},
   "source": [
    "#### <a id='toc1_1_2_20_'></a>[How many gene group labels are ambiguous symbols?](#toc0_)"
   ]
  },
  {
   "cell_type": "code",
   "execution_count": 90,
   "metadata": {},
   "outputs": [
    {
     "data": {
      "text/html": [
       "<div>\n",
       "<style scoped>\n",
       "    .dataframe tbody tr th:only-of-type {\n",
       "        vertical-align: middle;\n",
       "    }\n",
       "\n",
       "    .dataframe tbody tr th {\n",
       "        vertical-align: top;\n",
       "    }\n",
       "\n",
       "    .dataframe thead th {\n",
       "        text-align: right;\n",
       "    }\n",
       "</style>\n",
       "<table border=\"1\" class=\"dataframe\">\n",
       "  <thead>\n",
       "    <tr style=\"text-align: right;\">\n",
       "      <th></th>\n",
       "      <th>gene_claim_name</th>\n",
       "      <th>nomenclature</th>\n",
       "      <th>concept_id</th>\n",
       "      <th>gene_name</th>\n",
       "      <th>source_db_name</th>\n",
       "      <th>source_db_version</th>\n",
       "      <th>claim_ambiguous_status</th>\n",
       "      <th>name_ambiguous_status</th>\n",
       "    </tr>\n",
       "  </thead>\n",
       "  <tbody>\n",
       "    <tr>\n",
       "      <th>0</th>\n",
       "      <td>NGFIBA</td>\n",
       "      <td>NCBI Gene Name</td>\n",
       "      <td>NaN</td>\n",
       "      <td>NaN</td>\n",
       "      <td>BaderLab</td>\n",
       "      <td>Feb-14</td>\n",
       "      <td>False</td>\n",
       "      <td>False</td>\n",
       "    </tr>\n",
       "    <tr>\n",
       "      <th>1</th>\n",
       "      <td>NGFIBB</td>\n",
       "      <td>NCBI Gene Name</td>\n",
       "      <td>NaN</td>\n",
       "      <td>NaN</td>\n",
       "      <td>BaderLab</td>\n",
       "      <td>Feb-14</td>\n",
       "      <td>False</td>\n",
       "      <td>False</td>\n",
       "    </tr>\n",
       "    <tr>\n",
       "      <th>2</th>\n",
       "      <td>DAX</td>\n",
       "      <td>NCBI Gene Name</td>\n",
       "      <td>NaN</td>\n",
       "      <td>NaN</td>\n",
       "      <td>BaderLab</td>\n",
       "      <td>Feb-14</td>\n",
       "      <td>False</td>\n",
       "      <td>False</td>\n",
       "    </tr>\n",
       "    <tr>\n",
       "      <th>3</th>\n",
       "      <td>REV-ERBA</td>\n",
       "      <td>NCBI Gene Name</td>\n",
       "      <td>NaN</td>\n",
       "      <td>NaN</td>\n",
       "      <td>BaderLab</td>\n",
       "      <td>Feb-14</td>\n",
       "      <td>False</td>\n",
       "      <td>False</td>\n",
       "    </tr>\n",
       "    <tr>\n",
       "      <th>4</th>\n",
       "      <td>COUP2</td>\n",
       "      <td>NCBI Gene Name</td>\n",
       "      <td>NaN</td>\n",
       "      <td>NaN</td>\n",
       "      <td>BaderLab</td>\n",
       "      <td>Feb-14</td>\n",
       "      <td>False</td>\n",
       "      <td>False</td>\n",
       "    </tr>\n",
       "    <tr>\n",
       "      <th>...</th>\n",
       "      <td>...</td>\n",
       "      <td>...</td>\n",
       "      <td>...</td>\n",
       "      <td>...</td>\n",
       "      <td>...</td>\n",
       "      <td>...</td>\n",
       "      <td>...</td>\n",
       "      <td>...</td>\n",
       "    </tr>\n",
       "    <tr>\n",
       "      <th>80229</th>\n",
       "      <td>KIT</td>\n",
       "      <td>Gene Symbol</td>\n",
       "      <td>hgnc:6342</td>\n",
       "      <td>KIT</td>\n",
       "      <td>Oncomine</td>\n",
       "      <td>v3</td>\n",
       "      <td>False</td>\n",
       "      <td>False</td>\n",
       "    </tr>\n",
       "    <tr>\n",
       "      <th>80230</th>\n",
       "      <td>HES1</td>\n",
       "      <td>Gene Name</td>\n",
       "      <td>hgnc:5192</td>\n",
       "      <td>HES1</td>\n",
       "      <td>NCI</td>\n",
       "      <td>14-Sep-17</td>\n",
       "      <td>True</td>\n",
       "      <td>True</td>\n",
       "    </tr>\n",
       "    <tr>\n",
       "      <th>80231</th>\n",
       "      <td>IRF1</td>\n",
       "      <td>Gene Symbol</td>\n",
       "      <td>hgnc:6116</td>\n",
       "      <td>IRF1</td>\n",
       "      <td>Tempus</td>\n",
       "      <td>11-Nov-18</td>\n",
       "      <td>False</td>\n",
       "      <td>False</td>\n",
       "    </tr>\n",
       "    <tr>\n",
       "      <th>80232</th>\n",
       "      <td>SHFM1</td>\n",
       "      <td>Gene Name</td>\n",
       "      <td>hgnc:10845</td>\n",
       "      <td>SEM1</td>\n",
       "      <td>DTC</td>\n",
       "      <td>9/2/20</td>\n",
       "      <td>True</td>\n",
       "      <td>False</td>\n",
       "    </tr>\n",
       "    <tr>\n",
       "      <th>80233</th>\n",
       "      <td>NEUROD1</td>\n",
       "      <td>Gene Name</td>\n",
       "      <td>hgnc:7762</td>\n",
       "      <td>NEUROD1</td>\n",
       "      <td>NCI</td>\n",
       "      <td>14-Sep-17</td>\n",
       "      <td>False</td>\n",
       "      <td>False</td>\n",
       "    </tr>\n",
       "  </tbody>\n",
       "</table>\n",
       "<p>80234 rows × 8 columns</p>\n",
       "</div>"
      ],
      "text/plain": [
       "      gene_claim_name    nomenclature  concept_id gene_name source_db_name  \\\n",
       "0              NGFIBA  NCBI Gene Name         NaN       NaN       BaderLab   \n",
       "1              NGFIBB  NCBI Gene Name         NaN       NaN       BaderLab   \n",
       "2                 DAX  NCBI Gene Name         NaN       NaN       BaderLab   \n",
       "3            REV-ERBA  NCBI Gene Name         NaN       NaN       BaderLab   \n",
       "4               COUP2  NCBI Gene Name         NaN       NaN       BaderLab   \n",
       "...               ...             ...         ...       ...            ...   \n",
       "80229             KIT     Gene Symbol   hgnc:6342       KIT       Oncomine   \n",
       "80230            HES1       Gene Name   hgnc:5192      HES1            NCI   \n",
       "80231            IRF1     Gene Symbol   hgnc:6116      IRF1         Tempus   \n",
       "80232           SHFM1       Gene Name  hgnc:10845      SEM1            DTC   \n",
       "80233         NEUROD1       Gene Name   hgnc:7762   NEUROD1            NCI   \n",
       "\n",
       "      source_db_version  claim_ambiguous_status  name_ambiguous_status  \n",
       "0                Feb-14                   False                  False  \n",
       "1                Feb-14                   False                  False  \n",
       "2                Feb-14                   False                  False  \n",
       "3                Feb-14                   False                  False  \n",
       "4                Feb-14                   False                  False  \n",
       "...                 ...                     ...                    ...  \n",
       "80229                v3                   False                  False  \n",
       "80230         14-Sep-17                    True                   True  \n",
       "80231         11-Nov-18                   False                  False  \n",
       "80232            9/2/20                    True                  False  \n",
       "80233         14-Sep-17                   False                  False  \n",
       "\n",
       "[80234 rows x 8 columns]"
      ]
     },
     "execution_count": 90,
     "metadata": {},
     "output_type": "execute_result"
    }
   ],
   "source": [
    "dgidb_gene_df[\"name_ambiguous_status\"] = dgidb_gene_df[\"gene_name\"].isin(\n",
    "    ambiguous_symbol_set\n",
    ")\n",
    "dgidb_gene_df"
   ]
  },
  {
   "cell_type": "code",
   "execution_count": 91,
   "metadata": {},
   "outputs": [
    {
     "data": {
      "text/plain": [
       "name_ambiguous_status\n",
       "False    74661\n",
       "True      5573\n",
       "Name: count, dtype: int64"
      ]
     },
     "execution_count": 91,
     "metadata": {},
     "output_type": "execute_result"
    }
   ],
   "source": [
    "dgidb_gene_df[\"name_ambiguous_status\"].value_counts()"
   ]
  },
  {
   "cell_type": "code",
   "execution_count": 92,
   "metadata": {},
   "outputs": [
    {
     "data": {
      "text/plain": [
       "5573"
      ]
     },
     "execution_count": 92,
     "metadata": {},
     "output_type": "execute_result"
    }
   ],
   "source": [
    "ambiguous_name_df = dgidb_gene_df.loc[dgidb_gene_df[\"name_ambiguous_status\"]]\n",
    "num_ambiguous_name = len(ambiguous_name_df)\n",
    "num_ambiguous_name"
   ]
  },
  {
   "cell_type": "markdown",
   "metadata": {},
   "source": [
    "#### <a id='toc1_1_2_21_'></a>[How many claims are primary symbols?](#toc0_)"
   ]
  },
  {
   "cell_type": "code",
   "execution_count": 93,
   "metadata": {},
   "outputs": [
    {
     "data": {
      "text/html": [
       "<div>\n",
       "<style scoped>\n",
       "    .dataframe tbody tr th:only-of-type {\n",
       "        vertical-align: middle;\n",
       "    }\n",
       "\n",
       "    .dataframe tbody tr th {\n",
       "        vertical-align: top;\n",
       "    }\n",
       "\n",
       "    .dataframe thead th {\n",
       "        text-align: right;\n",
       "    }\n",
       "</style>\n",
       "<table border=\"1\" class=\"dataframe\">\n",
       "  <thead>\n",
       "    <tr style=\"text-align: right;\">\n",
       "      <th></th>\n",
       "      <th>gene_claim_name</th>\n",
       "      <th>nomenclature</th>\n",
       "      <th>concept_id</th>\n",
       "      <th>gene_name</th>\n",
       "      <th>source_db_name</th>\n",
       "      <th>source_db_version</th>\n",
       "      <th>claim_ambiguous_status</th>\n",
       "      <th>name_ambiguous_status</th>\n",
       "      <th>claim_primary_status</th>\n",
       "    </tr>\n",
       "  </thead>\n",
       "  <tbody>\n",
       "    <tr>\n",
       "      <th>0</th>\n",
       "      <td>NGFIBA</td>\n",
       "      <td>NCBI Gene Name</td>\n",
       "      <td>NaN</td>\n",
       "      <td>NaN</td>\n",
       "      <td>BaderLab</td>\n",
       "      <td>Feb-14</td>\n",
       "      <td>False</td>\n",
       "      <td>False</td>\n",
       "      <td>False</td>\n",
       "    </tr>\n",
       "    <tr>\n",
       "      <th>1</th>\n",
       "      <td>NGFIBB</td>\n",
       "      <td>NCBI Gene Name</td>\n",
       "      <td>NaN</td>\n",
       "      <td>NaN</td>\n",
       "      <td>BaderLab</td>\n",
       "      <td>Feb-14</td>\n",
       "      <td>False</td>\n",
       "      <td>False</td>\n",
       "      <td>False</td>\n",
       "    </tr>\n",
       "    <tr>\n",
       "      <th>2</th>\n",
       "      <td>DAX</td>\n",
       "      <td>NCBI Gene Name</td>\n",
       "      <td>NaN</td>\n",
       "      <td>NaN</td>\n",
       "      <td>BaderLab</td>\n",
       "      <td>Feb-14</td>\n",
       "      <td>False</td>\n",
       "      <td>False</td>\n",
       "      <td>False</td>\n",
       "    </tr>\n",
       "    <tr>\n",
       "      <th>3</th>\n",
       "      <td>REV-ERBA</td>\n",
       "      <td>NCBI Gene Name</td>\n",
       "      <td>NaN</td>\n",
       "      <td>NaN</td>\n",
       "      <td>BaderLab</td>\n",
       "      <td>Feb-14</td>\n",
       "      <td>False</td>\n",
       "      <td>False</td>\n",
       "      <td>False</td>\n",
       "    </tr>\n",
       "    <tr>\n",
       "      <th>4</th>\n",
       "      <td>COUP2</td>\n",
       "      <td>NCBI Gene Name</td>\n",
       "      <td>NaN</td>\n",
       "      <td>NaN</td>\n",
       "      <td>BaderLab</td>\n",
       "      <td>Feb-14</td>\n",
       "      <td>False</td>\n",
       "      <td>False</td>\n",
       "      <td>False</td>\n",
       "    </tr>\n",
       "    <tr>\n",
       "      <th>...</th>\n",
       "      <td>...</td>\n",
       "      <td>...</td>\n",
       "      <td>...</td>\n",
       "      <td>...</td>\n",
       "      <td>...</td>\n",
       "      <td>...</td>\n",
       "      <td>...</td>\n",
       "      <td>...</td>\n",
       "      <td>...</td>\n",
       "    </tr>\n",
       "    <tr>\n",
       "      <th>80229</th>\n",
       "      <td>KIT</td>\n",
       "      <td>Gene Symbol</td>\n",
       "      <td>hgnc:6342</td>\n",
       "      <td>KIT</td>\n",
       "      <td>Oncomine</td>\n",
       "      <td>v3</td>\n",
       "      <td>False</td>\n",
       "      <td>False</td>\n",
       "      <td>True</td>\n",
       "    </tr>\n",
       "    <tr>\n",
       "      <th>80230</th>\n",
       "      <td>HES1</td>\n",
       "      <td>Gene Name</td>\n",
       "      <td>hgnc:5192</td>\n",
       "      <td>HES1</td>\n",
       "      <td>NCI</td>\n",
       "      <td>14-Sep-17</td>\n",
       "      <td>True</td>\n",
       "      <td>True</td>\n",
       "      <td>True</td>\n",
       "    </tr>\n",
       "    <tr>\n",
       "      <th>80231</th>\n",
       "      <td>IRF1</td>\n",
       "      <td>Gene Symbol</td>\n",
       "      <td>hgnc:6116</td>\n",
       "      <td>IRF1</td>\n",
       "      <td>Tempus</td>\n",
       "      <td>11-Nov-18</td>\n",
       "      <td>False</td>\n",
       "      <td>False</td>\n",
       "      <td>True</td>\n",
       "    </tr>\n",
       "    <tr>\n",
       "      <th>80232</th>\n",
       "      <td>SHFM1</td>\n",
       "      <td>Gene Name</td>\n",
       "      <td>hgnc:10845</td>\n",
       "      <td>SEM1</td>\n",
       "      <td>DTC</td>\n",
       "      <td>9/2/20</td>\n",
       "      <td>True</td>\n",
       "      <td>False</td>\n",
       "      <td>False</td>\n",
       "    </tr>\n",
       "    <tr>\n",
       "      <th>80233</th>\n",
       "      <td>NEUROD1</td>\n",
       "      <td>Gene Name</td>\n",
       "      <td>hgnc:7762</td>\n",
       "      <td>NEUROD1</td>\n",
       "      <td>NCI</td>\n",
       "      <td>14-Sep-17</td>\n",
       "      <td>False</td>\n",
       "      <td>False</td>\n",
       "      <td>True</td>\n",
       "    </tr>\n",
       "  </tbody>\n",
       "</table>\n",
       "<p>80234 rows × 9 columns</p>\n",
       "</div>"
      ],
      "text/plain": [
       "      gene_claim_name    nomenclature  concept_id gene_name source_db_name  \\\n",
       "0              NGFIBA  NCBI Gene Name         NaN       NaN       BaderLab   \n",
       "1              NGFIBB  NCBI Gene Name         NaN       NaN       BaderLab   \n",
       "2                 DAX  NCBI Gene Name         NaN       NaN       BaderLab   \n",
       "3            REV-ERBA  NCBI Gene Name         NaN       NaN       BaderLab   \n",
       "4               COUP2  NCBI Gene Name         NaN       NaN       BaderLab   \n",
       "...               ...             ...         ...       ...            ...   \n",
       "80229             KIT     Gene Symbol   hgnc:6342       KIT       Oncomine   \n",
       "80230            HES1       Gene Name   hgnc:5192      HES1            NCI   \n",
       "80231            IRF1     Gene Symbol   hgnc:6116      IRF1         Tempus   \n",
       "80232           SHFM1       Gene Name  hgnc:10845      SEM1            DTC   \n",
       "80233         NEUROD1       Gene Name   hgnc:7762   NEUROD1            NCI   \n",
       "\n",
       "      source_db_version  claim_ambiguous_status  name_ambiguous_status  \\\n",
       "0                Feb-14                   False                  False   \n",
       "1                Feb-14                   False                  False   \n",
       "2                Feb-14                   False                  False   \n",
       "3                Feb-14                   False                  False   \n",
       "4                Feb-14                   False                  False   \n",
       "...                 ...                     ...                    ...   \n",
       "80229                v3                   False                  False   \n",
       "80230         14-Sep-17                    True                   True   \n",
       "80231         11-Nov-18                   False                  False   \n",
       "80232            9/2/20                    True                  False   \n",
       "80233         14-Sep-17                   False                  False   \n",
       "\n",
       "       claim_primary_status  \n",
       "0                     False  \n",
       "1                     False  \n",
       "2                     False  \n",
       "3                     False  \n",
       "4                     False  \n",
       "...                     ...  \n",
       "80229                  True  \n",
       "80230                  True  \n",
       "80231                  True  \n",
       "80232                 False  \n",
       "80233                  True  \n",
       "\n",
       "[80234 rows x 9 columns]"
      ]
     },
     "execution_count": 93,
     "metadata": {},
     "output_type": "execute_result"
    }
   ],
   "source": [
    "dgidb_gene_df[\"claim_primary_status\"] = dgidb_gene_df[\"gene_claim_name\"].isin(\n",
    "    hgnc_ensg_ncbi_gene_symbol_set\n",
    ")\n",
    "dgidb_gene_df"
   ]
  },
  {
   "cell_type": "code",
   "execution_count": 94,
   "metadata": {},
   "outputs": [
    {
     "data": {
      "text/plain": [
       "claim_primary_status\n",
       "True     64185\n",
       "False    16049\n",
       "Name: count, dtype: int64"
      ]
     },
     "execution_count": 94,
     "metadata": {},
     "output_type": "execute_result"
    }
   ],
   "source": [
    "dgidb_gene_df[\"claim_primary_status\"].value_counts()"
   ]
  },
  {
   "cell_type": "code",
   "execution_count": 95,
   "metadata": {},
   "outputs": [
    {
     "data": {
      "text/plain": [
       "64185"
      ]
     },
     "execution_count": 95,
     "metadata": {},
     "output_type": "execute_result"
    }
   ],
   "source": [
    "primary_claim_df = dgidb_gene_df.loc[dgidb_gene_df[\"claim_primary_status\"]]\n",
    "num_primary_claim = len(primary_claim_df)\n",
    "num_primary_claim"
   ]
  },
  {
   "cell_type": "markdown",
   "metadata": {},
   "source": [
    "#### <a id='toc1_1_2_22_'></a>[How many gene group labels are primary symbols?](#toc0_)"
   ]
  },
  {
   "cell_type": "code",
   "execution_count": 96,
   "metadata": {},
   "outputs": [
    {
     "data": {
      "text/html": [
       "<div>\n",
       "<style scoped>\n",
       "    .dataframe tbody tr th:only-of-type {\n",
       "        vertical-align: middle;\n",
       "    }\n",
       "\n",
       "    .dataframe tbody tr th {\n",
       "        vertical-align: top;\n",
       "    }\n",
       "\n",
       "    .dataframe thead th {\n",
       "        text-align: right;\n",
       "    }\n",
       "</style>\n",
       "<table border=\"1\" class=\"dataframe\">\n",
       "  <thead>\n",
       "    <tr style=\"text-align: right;\">\n",
       "      <th></th>\n",
       "      <th>gene_claim_name</th>\n",
       "      <th>nomenclature</th>\n",
       "      <th>concept_id</th>\n",
       "      <th>gene_name</th>\n",
       "      <th>source_db_name</th>\n",
       "      <th>source_db_version</th>\n",
       "      <th>claim_ambiguous_status</th>\n",
       "      <th>name_ambiguous_status</th>\n",
       "      <th>claim_primary_status</th>\n",
       "      <th>name_primary_status</th>\n",
       "    </tr>\n",
       "  </thead>\n",
       "  <tbody>\n",
       "    <tr>\n",
       "      <th>0</th>\n",
       "      <td>NGFIBA</td>\n",
       "      <td>NCBI Gene Name</td>\n",
       "      <td>NaN</td>\n",
       "      <td>NaN</td>\n",
       "      <td>BaderLab</td>\n",
       "      <td>Feb-14</td>\n",
       "      <td>False</td>\n",
       "      <td>False</td>\n",
       "      <td>False</td>\n",
       "      <td>False</td>\n",
       "    </tr>\n",
       "    <tr>\n",
       "      <th>1</th>\n",
       "      <td>NGFIBB</td>\n",
       "      <td>NCBI Gene Name</td>\n",
       "      <td>NaN</td>\n",
       "      <td>NaN</td>\n",
       "      <td>BaderLab</td>\n",
       "      <td>Feb-14</td>\n",
       "      <td>False</td>\n",
       "      <td>False</td>\n",
       "      <td>False</td>\n",
       "      <td>False</td>\n",
       "    </tr>\n",
       "    <tr>\n",
       "      <th>2</th>\n",
       "      <td>DAX</td>\n",
       "      <td>NCBI Gene Name</td>\n",
       "      <td>NaN</td>\n",
       "      <td>NaN</td>\n",
       "      <td>BaderLab</td>\n",
       "      <td>Feb-14</td>\n",
       "      <td>False</td>\n",
       "      <td>False</td>\n",
       "      <td>False</td>\n",
       "      <td>False</td>\n",
       "    </tr>\n",
       "    <tr>\n",
       "      <th>3</th>\n",
       "      <td>REV-ERBA</td>\n",
       "      <td>NCBI Gene Name</td>\n",
       "      <td>NaN</td>\n",
       "      <td>NaN</td>\n",
       "      <td>BaderLab</td>\n",
       "      <td>Feb-14</td>\n",
       "      <td>False</td>\n",
       "      <td>False</td>\n",
       "      <td>False</td>\n",
       "      <td>False</td>\n",
       "    </tr>\n",
       "    <tr>\n",
       "      <th>4</th>\n",
       "      <td>COUP2</td>\n",
       "      <td>NCBI Gene Name</td>\n",
       "      <td>NaN</td>\n",
       "      <td>NaN</td>\n",
       "      <td>BaderLab</td>\n",
       "      <td>Feb-14</td>\n",
       "      <td>False</td>\n",
       "      <td>False</td>\n",
       "      <td>False</td>\n",
       "      <td>False</td>\n",
       "    </tr>\n",
       "    <tr>\n",
       "      <th>...</th>\n",
       "      <td>...</td>\n",
       "      <td>...</td>\n",
       "      <td>...</td>\n",
       "      <td>...</td>\n",
       "      <td>...</td>\n",
       "      <td>...</td>\n",
       "      <td>...</td>\n",
       "      <td>...</td>\n",
       "      <td>...</td>\n",
       "      <td>...</td>\n",
       "    </tr>\n",
       "    <tr>\n",
       "      <th>80229</th>\n",
       "      <td>KIT</td>\n",
       "      <td>Gene Symbol</td>\n",
       "      <td>hgnc:6342</td>\n",
       "      <td>KIT</td>\n",
       "      <td>Oncomine</td>\n",
       "      <td>v3</td>\n",
       "      <td>False</td>\n",
       "      <td>False</td>\n",
       "      <td>True</td>\n",
       "      <td>True</td>\n",
       "    </tr>\n",
       "    <tr>\n",
       "      <th>80230</th>\n",
       "      <td>HES1</td>\n",
       "      <td>Gene Name</td>\n",
       "      <td>hgnc:5192</td>\n",
       "      <td>HES1</td>\n",
       "      <td>NCI</td>\n",
       "      <td>14-Sep-17</td>\n",
       "      <td>True</td>\n",
       "      <td>True</td>\n",
       "      <td>True</td>\n",
       "      <td>True</td>\n",
       "    </tr>\n",
       "    <tr>\n",
       "      <th>80231</th>\n",
       "      <td>IRF1</td>\n",
       "      <td>Gene Symbol</td>\n",
       "      <td>hgnc:6116</td>\n",
       "      <td>IRF1</td>\n",
       "      <td>Tempus</td>\n",
       "      <td>11-Nov-18</td>\n",
       "      <td>False</td>\n",
       "      <td>False</td>\n",
       "      <td>True</td>\n",
       "      <td>True</td>\n",
       "    </tr>\n",
       "    <tr>\n",
       "      <th>80232</th>\n",
       "      <td>SHFM1</td>\n",
       "      <td>Gene Name</td>\n",
       "      <td>hgnc:10845</td>\n",
       "      <td>SEM1</td>\n",
       "      <td>DTC</td>\n",
       "      <td>9/2/20</td>\n",
       "      <td>True</td>\n",
       "      <td>False</td>\n",
       "      <td>False</td>\n",
       "      <td>True</td>\n",
       "    </tr>\n",
       "    <tr>\n",
       "      <th>80233</th>\n",
       "      <td>NEUROD1</td>\n",
       "      <td>Gene Name</td>\n",
       "      <td>hgnc:7762</td>\n",
       "      <td>NEUROD1</td>\n",
       "      <td>NCI</td>\n",
       "      <td>14-Sep-17</td>\n",
       "      <td>False</td>\n",
       "      <td>False</td>\n",
       "      <td>True</td>\n",
       "      <td>True</td>\n",
       "    </tr>\n",
       "  </tbody>\n",
       "</table>\n",
       "<p>80234 rows × 10 columns</p>\n",
       "</div>"
      ],
      "text/plain": [
       "      gene_claim_name    nomenclature  concept_id gene_name source_db_name  \\\n",
       "0              NGFIBA  NCBI Gene Name         NaN       NaN       BaderLab   \n",
       "1              NGFIBB  NCBI Gene Name         NaN       NaN       BaderLab   \n",
       "2                 DAX  NCBI Gene Name         NaN       NaN       BaderLab   \n",
       "3            REV-ERBA  NCBI Gene Name         NaN       NaN       BaderLab   \n",
       "4               COUP2  NCBI Gene Name         NaN       NaN       BaderLab   \n",
       "...               ...             ...         ...       ...            ...   \n",
       "80229             KIT     Gene Symbol   hgnc:6342       KIT       Oncomine   \n",
       "80230            HES1       Gene Name   hgnc:5192      HES1            NCI   \n",
       "80231            IRF1     Gene Symbol   hgnc:6116      IRF1         Tempus   \n",
       "80232           SHFM1       Gene Name  hgnc:10845      SEM1            DTC   \n",
       "80233         NEUROD1       Gene Name   hgnc:7762   NEUROD1            NCI   \n",
       "\n",
       "      source_db_version  claim_ambiguous_status  name_ambiguous_status  \\\n",
       "0                Feb-14                   False                  False   \n",
       "1                Feb-14                   False                  False   \n",
       "2                Feb-14                   False                  False   \n",
       "3                Feb-14                   False                  False   \n",
       "4                Feb-14                   False                  False   \n",
       "...                 ...                     ...                    ...   \n",
       "80229                v3                   False                  False   \n",
       "80230         14-Sep-17                    True                   True   \n",
       "80231         11-Nov-18                   False                  False   \n",
       "80232            9/2/20                    True                  False   \n",
       "80233         14-Sep-17                   False                  False   \n",
       "\n",
       "       claim_primary_status  name_primary_status  \n",
       "0                     False                False  \n",
       "1                     False                False  \n",
       "2                     False                False  \n",
       "3                     False                False  \n",
       "4                     False                False  \n",
       "...                     ...                  ...  \n",
       "80229                  True                 True  \n",
       "80230                  True                 True  \n",
       "80231                  True                 True  \n",
       "80232                 False                 True  \n",
       "80233                  True                 True  \n",
       "\n",
       "[80234 rows x 10 columns]"
      ]
     },
     "execution_count": 96,
     "metadata": {},
     "output_type": "execute_result"
    }
   ],
   "source": [
    "dgidb_gene_df[\"name_primary_status\"] = (\n",
    "    dgidb_gene_df[\"gene_name\"].astype(str).isin(hgnc_ensg_ncbi_gene_symbol_set)\n",
    ")\n",
    "dgidb_gene_df"
   ]
  },
  {
   "cell_type": "code",
   "execution_count": 97,
   "metadata": {},
   "outputs": [
    {
     "data": {
      "text/plain": [
       "name_primary_status\n",
       "True     78055\n",
       "False     2179\n",
       "Name: count, dtype: int64"
      ]
     },
     "execution_count": 97,
     "metadata": {},
     "output_type": "execute_result"
    }
   ],
   "source": [
    "dgidb_gene_df[\"name_primary_status\"].value_counts()"
   ]
  },
  {
   "cell_type": "code",
   "execution_count": 98,
   "metadata": {},
   "outputs": [
    {
     "data": {
      "text/plain": [
       "78055"
      ]
     },
     "execution_count": 98,
     "metadata": {},
     "output_type": "execute_result"
    }
   ],
   "source": [
    "primary_name_df = dgidb_gene_df.loc[dgidb_gene_df[\"name_primary_status\"]]\n",
    "num_primary_name = len(primary_name_df)\n",
    "num_primary_name"
   ]
  },
  {
   "cell_type": "code",
   "execution_count": 99,
   "metadata": {},
   "outputs": [
    {
     "data": {
      "text/html": [
       "<div>\n",
       "<style scoped>\n",
       "    .dataframe tbody tr th:only-of-type {\n",
       "        vertical-align: middle;\n",
       "    }\n",
       "\n",
       "    .dataframe tbody tr th {\n",
       "        vertical-align: top;\n",
       "    }\n",
       "\n",
       "    .dataframe thead th {\n",
       "        text-align: right;\n",
       "    }\n",
       "</style>\n",
       "<table border=\"1\" class=\"dataframe\">\n",
       "  <thead>\n",
       "    <tr style=\"text-align: right;\">\n",
       "      <th></th>\n",
       "      <th>gene_claim_name</th>\n",
       "      <th>nomenclature</th>\n",
       "      <th>concept_id</th>\n",
       "      <th>gene_name</th>\n",
       "      <th>source_db_name</th>\n",
       "      <th>source_db_version</th>\n",
       "      <th>claim_ambiguous_status</th>\n",
       "      <th>name_ambiguous_status</th>\n",
       "      <th>claim_primary_status</th>\n",
       "      <th>name_primary_status</th>\n",
       "    </tr>\n",
       "  </thead>\n",
       "  <tbody>\n",
       "    <tr>\n",
       "      <th>0</th>\n",
       "      <td>NGFIBA</td>\n",
       "      <td>NCBI Gene Name</td>\n",
       "      <td>NaN</td>\n",
       "      <td>NaN</td>\n",
       "      <td>BaderLab</td>\n",
       "      <td>Feb-14</td>\n",
       "      <td>False</td>\n",
       "      <td>False</td>\n",
       "      <td>False</td>\n",
       "      <td>False</td>\n",
       "    </tr>\n",
       "    <tr>\n",
       "      <th>1</th>\n",
       "      <td>NGFIBB</td>\n",
       "      <td>NCBI Gene Name</td>\n",
       "      <td>NaN</td>\n",
       "      <td>NaN</td>\n",
       "      <td>BaderLab</td>\n",
       "      <td>Feb-14</td>\n",
       "      <td>False</td>\n",
       "      <td>False</td>\n",
       "      <td>False</td>\n",
       "      <td>False</td>\n",
       "    </tr>\n",
       "    <tr>\n",
       "      <th>2</th>\n",
       "      <td>DAX</td>\n",
       "      <td>NCBI Gene Name</td>\n",
       "      <td>NaN</td>\n",
       "      <td>NaN</td>\n",
       "      <td>BaderLab</td>\n",
       "      <td>Feb-14</td>\n",
       "      <td>False</td>\n",
       "      <td>False</td>\n",
       "      <td>False</td>\n",
       "      <td>False</td>\n",
       "    </tr>\n",
       "    <tr>\n",
       "      <th>3</th>\n",
       "      <td>REV-ERBA</td>\n",
       "      <td>NCBI Gene Name</td>\n",
       "      <td>NaN</td>\n",
       "      <td>NaN</td>\n",
       "      <td>BaderLab</td>\n",
       "      <td>Feb-14</td>\n",
       "      <td>False</td>\n",
       "      <td>False</td>\n",
       "      <td>False</td>\n",
       "      <td>False</td>\n",
       "    </tr>\n",
       "    <tr>\n",
       "      <th>4</th>\n",
       "      <td>COUP2</td>\n",
       "      <td>NCBI Gene Name</td>\n",
       "      <td>NaN</td>\n",
       "      <td>NaN</td>\n",
       "      <td>BaderLab</td>\n",
       "      <td>Feb-14</td>\n",
       "      <td>False</td>\n",
       "      <td>False</td>\n",
       "      <td>False</td>\n",
       "      <td>False</td>\n",
       "    </tr>\n",
       "    <tr>\n",
       "      <th>...</th>\n",
       "      <td>...</td>\n",
       "      <td>...</td>\n",
       "      <td>...</td>\n",
       "      <td>...</td>\n",
       "      <td>...</td>\n",
       "      <td>...</td>\n",
       "      <td>...</td>\n",
       "      <td>...</td>\n",
       "      <td>...</td>\n",
       "      <td>...</td>\n",
       "    </tr>\n",
       "    <tr>\n",
       "      <th>74562</th>\n",
       "      <td>ATP5A2</td>\n",
       "      <td>Gene Symbol</td>\n",
       "      <td>ncbigene:499</td>\n",
       "      <td>ATP5A2</td>\n",
       "      <td>NCBI</td>\n",
       "      <td>20240410</td>\n",
       "      <td>False</td>\n",
       "      <td>False</td>\n",
       "      <td>False</td>\n",
       "      <td>False</td>\n",
       "    </tr>\n",
       "    <tr>\n",
       "      <th>74841</th>\n",
       "      <td>LOC112268384</td>\n",
       "      <td>Gene Symbol</td>\n",
       "      <td>ncbigene:112268384</td>\n",
       "      <td>LOC112268384</td>\n",
       "      <td>NCBI</td>\n",
       "      <td>20240410</td>\n",
       "      <td>False</td>\n",
       "      <td>False</td>\n",
       "      <td>False</td>\n",
       "      <td>False</td>\n",
       "    </tr>\n",
       "    <tr>\n",
       "      <th>74842</th>\n",
       "      <td>LOC112268384</td>\n",
       "      <td>Gene Symbol</td>\n",
       "      <td>ncbigene:112268384</td>\n",
       "      <td>LOC112268384</td>\n",
       "      <td>GO</td>\n",
       "      <td>10-Apr-24</td>\n",
       "      <td>False</td>\n",
       "      <td>False</td>\n",
       "      <td>False</td>\n",
       "      <td>False</td>\n",
       "    </tr>\n",
       "    <tr>\n",
       "      <th>75375</th>\n",
       "      <td>LOC102723996</td>\n",
       "      <td>Gene Symbol</td>\n",
       "      <td>ncbigene:102723996</td>\n",
       "      <td>LOC102723996</td>\n",
       "      <td>NCBI</td>\n",
       "      <td>20240410</td>\n",
       "      <td>False</td>\n",
       "      <td>False</td>\n",
       "      <td>False</td>\n",
       "      <td>False</td>\n",
       "    </tr>\n",
       "    <tr>\n",
       "      <th>75376</th>\n",
       "      <td>LOC102723996</td>\n",
       "      <td>Gene Symbol</td>\n",
       "      <td>ncbigene:102723996</td>\n",
       "      <td>LOC102723996</td>\n",
       "      <td>GO</td>\n",
       "      <td>10-Apr-24</td>\n",
       "      <td>False</td>\n",
       "      <td>False</td>\n",
       "      <td>False</td>\n",
       "      <td>False</td>\n",
       "    </tr>\n",
       "  </tbody>\n",
       "</table>\n",
       "<p>2179 rows × 10 columns</p>\n",
       "</div>"
      ],
      "text/plain": [
       "      gene_claim_name    nomenclature          concept_id     gene_name  \\\n",
       "0              NGFIBA  NCBI Gene Name                 NaN           NaN   \n",
       "1              NGFIBB  NCBI Gene Name                 NaN           NaN   \n",
       "2                 DAX  NCBI Gene Name                 NaN           NaN   \n",
       "3            REV-ERBA  NCBI Gene Name                 NaN           NaN   \n",
       "4               COUP2  NCBI Gene Name                 NaN           NaN   \n",
       "...               ...             ...                 ...           ...   \n",
       "74562          ATP5A2     Gene Symbol        ncbigene:499        ATP5A2   \n",
       "74841    LOC112268384     Gene Symbol  ncbigene:112268384  LOC112268384   \n",
       "74842    LOC112268384     Gene Symbol  ncbigene:112268384  LOC112268384   \n",
       "75375    LOC102723996     Gene Symbol  ncbigene:102723996  LOC102723996   \n",
       "75376    LOC102723996     Gene Symbol  ncbigene:102723996  LOC102723996   \n",
       "\n",
       "      source_db_name source_db_version  claim_ambiguous_status  \\\n",
       "0           BaderLab            Feb-14                   False   \n",
       "1           BaderLab            Feb-14                   False   \n",
       "2           BaderLab            Feb-14                   False   \n",
       "3           BaderLab            Feb-14                   False   \n",
       "4           BaderLab            Feb-14                   False   \n",
       "...              ...               ...                     ...   \n",
       "74562           NCBI          20240410                   False   \n",
       "74841           NCBI          20240410                   False   \n",
       "74842             GO         10-Apr-24                   False   \n",
       "75375           NCBI          20240410                   False   \n",
       "75376             GO         10-Apr-24                   False   \n",
       "\n",
       "       name_ambiguous_status  claim_primary_status  name_primary_status  \n",
       "0                      False                 False                False  \n",
       "1                      False                 False                False  \n",
       "2                      False                 False                False  \n",
       "3                      False                 False                False  \n",
       "4                      False                 False                False  \n",
       "...                      ...                   ...                  ...  \n",
       "74562                  False                 False                False  \n",
       "74841                  False                 False                False  \n",
       "74842                  False                 False                False  \n",
       "75375                  False                 False                False  \n",
       "75376                  False                 False                False  \n",
       "\n",
       "[2179 rows x 10 columns]"
      ]
     },
     "execution_count": 99,
     "metadata": {},
     "output_type": "execute_result"
    }
   ],
   "source": [
    "not_primary_group_name_df = dgidb_gene_df.loc[~dgidb_gene_df[\"name_primary_status\"]]\n",
    "not_primary_group_name_df"
   ]
  },
  {
   "cell_type": "markdown",
   "metadata": {},
   "source": [
    "#### <a id='toc1_1_2_23_'></a>[How many gene group labels are alias symbols?](#toc0_)"
   ]
  },
  {
   "cell_type": "code",
   "execution_count": 100,
   "metadata": {},
   "outputs": [
    {
     "data": {
      "text/html": [
       "<div>\n",
       "<style scoped>\n",
       "    .dataframe tbody tr th:only-of-type {\n",
       "        vertical-align: middle;\n",
       "    }\n",
       "\n",
       "    .dataframe tbody tr th {\n",
       "        vertical-align: top;\n",
       "    }\n",
       "\n",
       "    .dataframe thead th {\n",
       "        text-align: right;\n",
       "    }\n",
       "</style>\n",
       "<table border=\"1\" class=\"dataframe\">\n",
       "  <thead>\n",
       "    <tr style=\"text-align: right;\">\n",
       "      <th></th>\n",
       "      <th>gene_claim_name</th>\n",
       "      <th>nomenclature</th>\n",
       "      <th>concept_id</th>\n",
       "      <th>gene_name</th>\n",
       "      <th>source_db_name</th>\n",
       "      <th>source_db_version</th>\n",
       "      <th>claim_ambiguous_status</th>\n",
       "      <th>name_ambiguous_status</th>\n",
       "      <th>claim_primary_status</th>\n",
       "      <th>name_primary_status</th>\n",
       "      <th>name_alias_status</th>\n",
       "    </tr>\n",
       "  </thead>\n",
       "  <tbody>\n",
       "    <tr>\n",
       "      <th>0</th>\n",
       "      <td>NGFIBA</td>\n",
       "      <td>NCBI Gene Name</td>\n",
       "      <td>NaN</td>\n",
       "      <td>NaN</td>\n",
       "      <td>BaderLab</td>\n",
       "      <td>Feb-14</td>\n",
       "      <td>False</td>\n",
       "      <td>False</td>\n",
       "      <td>False</td>\n",
       "      <td>False</td>\n",
       "      <td>True</td>\n",
       "    </tr>\n",
       "    <tr>\n",
       "      <th>1</th>\n",
       "      <td>NGFIBB</td>\n",
       "      <td>NCBI Gene Name</td>\n",
       "      <td>NaN</td>\n",
       "      <td>NaN</td>\n",
       "      <td>BaderLab</td>\n",
       "      <td>Feb-14</td>\n",
       "      <td>False</td>\n",
       "      <td>False</td>\n",
       "      <td>False</td>\n",
       "      <td>False</td>\n",
       "      <td>True</td>\n",
       "    </tr>\n",
       "    <tr>\n",
       "      <th>2</th>\n",
       "      <td>DAX</td>\n",
       "      <td>NCBI Gene Name</td>\n",
       "      <td>NaN</td>\n",
       "      <td>NaN</td>\n",
       "      <td>BaderLab</td>\n",
       "      <td>Feb-14</td>\n",
       "      <td>False</td>\n",
       "      <td>False</td>\n",
       "      <td>False</td>\n",
       "      <td>False</td>\n",
       "      <td>True</td>\n",
       "    </tr>\n",
       "    <tr>\n",
       "      <th>3</th>\n",
       "      <td>REV-ERBA</td>\n",
       "      <td>NCBI Gene Name</td>\n",
       "      <td>NaN</td>\n",
       "      <td>NaN</td>\n",
       "      <td>BaderLab</td>\n",
       "      <td>Feb-14</td>\n",
       "      <td>False</td>\n",
       "      <td>False</td>\n",
       "      <td>False</td>\n",
       "      <td>False</td>\n",
       "      <td>True</td>\n",
       "    </tr>\n",
       "    <tr>\n",
       "      <th>4</th>\n",
       "      <td>COUP2</td>\n",
       "      <td>NCBI Gene Name</td>\n",
       "      <td>NaN</td>\n",
       "      <td>NaN</td>\n",
       "      <td>BaderLab</td>\n",
       "      <td>Feb-14</td>\n",
       "      <td>False</td>\n",
       "      <td>False</td>\n",
       "      <td>False</td>\n",
       "      <td>False</td>\n",
       "      <td>True</td>\n",
       "    </tr>\n",
       "    <tr>\n",
       "      <th>...</th>\n",
       "      <td>...</td>\n",
       "      <td>...</td>\n",
       "      <td>...</td>\n",
       "      <td>...</td>\n",
       "      <td>...</td>\n",
       "      <td>...</td>\n",
       "      <td>...</td>\n",
       "      <td>...</td>\n",
       "      <td>...</td>\n",
       "      <td>...</td>\n",
       "      <td>...</td>\n",
       "    </tr>\n",
       "    <tr>\n",
       "      <th>80229</th>\n",
       "      <td>KIT</td>\n",
       "      <td>Gene Symbol</td>\n",
       "      <td>hgnc:6342</td>\n",
       "      <td>KIT</td>\n",
       "      <td>Oncomine</td>\n",
       "      <td>v3</td>\n",
       "      <td>False</td>\n",
       "      <td>False</td>\n",
       "      <td>True</td>\n",
       "      <td>True</td>\n",
       "      <td>False</td>\n",
       "    </tr>\n",
       "    <tr>\n",
       "      <th>80230</th>\n",
       "      <td>HES1</td>\n",
       "      <td>Gene Name</td>\n",
       "      <td>hgnc:5192</td>\n",
       "      <td>HES1</td>\n",
       "      <td>NCI</td>\n",
       "      <td>14-Sep-17</td>\n",
       "      <td>True</td>\n",
       "      <td>True</td>\n",
       "      <td>True</td>\n",
       "      <td>True</td>\n",
       "      <td>True</td>\n",
       "    </tr>\n",
       "    <tr>\n",
       "      <th>80231</th>\n",
       "      <td>IRF1</td>\n",
       "      <td>Gene Symbol</td>\n",
       "      <td>hgnc:6116</td>\n",
       "      <td>IRF1</td>\n",
       "      <td>Tempus</td>\n",
       "      <td>11-Nov-18</td>\n",
       "      <td>False</td>\n",
       "      <td>False</td>\n",
       "      <td>True</td>\n",
       "      <td>True</td>\n",
       "      <td>False</td>\n",
       "    </tr>\n",
       "    <tr>\n",
       "      <th>80232</th>\n",
       "      <td>SHFM1</td>\n",
       "      <td>Gene Name</td>\n",
       "      <td>hgnc:10845</td>\n",
       "      <td>SEM1</td>\n",
       "      <td>DTC</td>\n",
       "      <td>9/2/20</td>\n",
       "      <td>True</td>\n",
       "      <td>False</td>\n",
       "      <td>False</td>\n",
       "      <td>True</td>\n",
       "      <td>False</td>\n",
       "    </tr>\n",
       "    <tr>\n",
       "      <th>80233</th>\n",
       "      <td>NEUROD1</td>\n",
       "      <td>Gene Name</td>\n",
       "      <td>hgnc:7762</td>\n",
       "      <td>NEUROD1</td>\n",
       "      <td>NCI</td>\n",
       "      <td>14-Sep-17</td>\n",
       "      <td>False</td>\n",
       "      <td>False</td>\n",
       "      <td>True</td>\n",
       "      <td>True</td>\n",
       "      <td>False</td>\n",
       "    </tr>\n",
       "  </tbody>\n",
       "</table>\n",
       "<p>80234 rows × 11 columns</p>\n",
       "</div>"
      ],
      "text/plain": [
       "      gene_claim_name    nomenclature  concept_id gene_name source_db_name  \\\n",
       "0              NGFIBA  NCBI Gene Name         NaN       NaN       BaderLab   \n",
       "1              NGFIBB  NCBI Gene Name         NaN       NaN       BaderLab   \n",
       "2                 DAX  NCBI Gene Name         NaN       NaN       BaderLab   \n",
       "3            REV-ERBA  NCBI Gene Name         NaN       NaN       BaderLab   \n",
       "4               COUP2  NCBI Gene Name         NaN       NaN       BaderLab   \n",
       "...               ...             ...         ...       ...            ...   \n",
       "80229             KIT     Gene Symbol   hgnc:6342       KIT       Oncomine   \n",
       "80230            HES1       Gene Name   hgnc:5192      HES1            NCI   \n",
       "80231            IRF1     Gene Symbol   hgnc:6116      IRF1         Tempus   \n",
       "80232           SHFM1       Gene Name  hgnc:10845      SEM1            DTC   \n",
       "80233         NEUROD1       Gene Name   hgnc:7762   NEUROD1            NCI   \n",
       "\n",
       "      source_db_version  claim_ambiguous_status  name_ambiguous_status  \\\n",
       "0                Feb-14                   False                  False   \n",
       "1                Feb-14                   False                  False   \n",
       "2                Feb-14                   False                  False   \n",
       "3                Feb-14                   False                  False   \n",
       "4                Feb-14                   False                  False   \n",
       "...                 ...                     ...                    ...   \n",
       "80229                v3                   False                  False   \n",
       "80230         14-Sep-17                    True                   True   \n",
       "80231         11-Nov-18                   False                  False   \n",
       "80232            9/2/20                    True                  False   \n",
       "80233         14-Sep-17                   False                  False   \n",
       "\n",
       "       claim_primary_status  name_primary_status  name_alias_status  \n",
       "0                     False                False               True  \n",
       "1                     False                False               True  \n",
       "2                     False                False               True  \n",
       "3                     False                False               True  \n",
       "4                     False                False               True  \n",
       "...                     ...                  ...                ...  \n",
       "80229                  True                 True              False  \n",
       "80230                  True                 True               True  \n",
       "80231                  True                 True              False  \n",
       "80232                 False                 True              False  \n",
       "80233                  True                 True              False  \n",
       "\n",
       "[80234 rows x 11 columns]"
      ]
     },
     "execution_count": 100,
     "metadata": {},
     "output_type": "execute_result"
    }
   ],
   "source": [
    "dgidb_gene_df[\"name_alias_status\"] = dgidb_gene_df[\"gene_name\"].isin(\n",
    "    hgnc_ensg_ncbi_alias_symbol_set\n",
    ")\n",
    "dgidb_gene_df"
   ]
  },
  {
   "cell_type": "code",
   "execution_count": 101,
   "metadata": {},
   "outputs": [
    {
     "data": {
      "text/plain": [
       "name_alias_status\n",
       "False    72168\n",
       "True      8066\n",
       "Name: count, dtype: int64"
      ]
     },
     "execution_count": 101,
     "metadata": {},
     "output_type": "execute_result"
    }
   ],
   "source": [
    "dgidb_gene_df[\"name_alias_status\"].value_counts()"
   ]
  },
  {
   "cell_type": "code",
   "execution_count": 102,
   "metadata": {},
   "outputs": [
    {
     "data": {
      "text/plain": [
       "8066"
      ]
     },
     "execution_count": 102,
     "metadata": {},
     "output_type": "execute_result"
    }
   ],
   "source": [
    "alias_name_df = dgidb_gene_df.loc[dgidb_gene_df[\"name_alias_status\"]]\n",
    "num_alias_name = len(alias_name_df)\n",
    "num_alias_name"
   ]
  },
  {
   "cell_type": "code",
   "execution_count": 103,
   "metadata": {},
   "outputs": [
    {
     "name": "stdout",
     "output_type": "stream",
     "text": [
      "True\n"
     ]
    }
   ],
   "source": [
    "print(\"Calmbp1\" in hgnc_ensg_ncbi_alias_symbol_set)"
   ]
  },
  {
   "cell_type": "markdown",
   "metadata": {},
   "source": [
    "#### <a id='toc1_1_2_24_'></a>[How many claims are alias symbols?](#toc0_)"
   ]
  },
  {
   "cell_type": "code",
   "execution_count": 104,
   "metadata": {},
   "outputs": [
    {
     "data": {
      "text/html": [
       "<div>\n",
       "<style scoped>\n",
       "    .dataframe tbody tr th:only-of-type {\n",
       "        vertical-align: middle;\n",
       "    }\n",
       "\n",
       "    .dataframe tbody tr th {\n",
       "        vertical-align: top;\n",
       "    }\n",
       "\n",
       "    .dataframe thead th {\n",
       "        text-align: right;\n",
       "    }\n",
       "</style>\n",
       "<table border=\"1\" class=\"dataframe\">\n",
       "  <thead>\n",
       "    <tr style=\"text-align: right;\">\n",
       "      <th></th>\n",
       "      <th>gene_claim_name</th>\n",
       "      <th>nomenclature</th>\n",
       "      <th>concept_id</th>\n",
       "      <th>gene_name</th>\n",
       "      <th>source_db_name</th>\n",
       "      <th>source_db_version</th>\n",
       "      <th>claim_ambiguous_status</th>\n",
       "      <th>name_ambiguous_status</th>\n",
       "      <th>claim_primary_status</th>\n",
       "      <th>name_primary_status</th>\n",
       "      <th>name_alias_status</th>\n",
       "      <th>claim_alias_status</th>\n",
       "    </tr>\n",
       "  </thead>\n",
       "  <tbody>\n",
       "    <tr>\n",
       "      <th>0</th>\n",
       "      <td>NGFIBA</td>\n",
       "      <td>NCBI Gene Name</td>\n",
       "      <td>NaN</td>\n",
       "      <td>NaN</td>\n",
       "      <td>BaderLab</td>\n",
       "      <td>Feb-14</td>\n",
       "      <td>False</td>\n",
       "      <td>False</td>\n",
       "      <td>False</td>\n",
       "      <td>False</td>\n",
       "      <td>True</td>\n",
       "      <td>False</td>\n",
       "    </tr>\n",
       "    <tr>\n",
       "      <th>1</th>\n",
       "      <td>NGFIBB</td>\n",
       "      <td>NCBI Gene Name</td>\n",
       "      <td>NaN</td>\n",
       "      <td>NaN</td>\n",
       "      <td>BaderLab</td>\n",
       "      <td>Feb-14</td>\n",
       "      <td>False</td>\n",
       "      <td>False</td>\n",
       "      <td>False</td>\n",
       "      <td>False</td>\n",
       "      <td>True</td>\n",
       "      <td>False</td>\n",
       "    </tr>\n",
       "    <tr>\n",
       "      <th>2</th>\n",
       "      <td>DAX</td>\n",
       "      <td>NCBI Gene Name</td>\n",
       "      <td>NaN</td>\n",
       "      <td>NaN</td>\n",
       "      <td>BaderLab</td>\n",
       "      <td>Feb-14</td>\n",
       "      <td>False</td>\n",
       "      <td>False</td>\n",
       "      <td>False</td>\n",
       "      <td>False</td>\n",
       "      <td>True</td>\n",
       "      <td>False</td>\n",
       "    </tr>\n",
       "    <tr>\n",
       "      <th>3</th>\n",
       "      <td>REV-ERBA</td>\n",
       "      <td>NCBI Gene Name</td>\n",
       "      <td>NaN</td>\n",
       "      <td>NaN</td>\n",
       "      <td>BaderLab</td>\n",
       "      <td>Feb-14</td>\n",
       "      <td>False</td>\n",
       "      <td>False</td>\n",
       "      <td>False</td>\n",
       "      <td>False</td>\n",
       "      <td>True</td>\n",
       "      <td>False</td>\n",
       "    </tr>\n",
       "    <tr>\n",
       "      <th>4</th>\n",
       "      <td>COUP2</td>\n",
       "      <td>NCBI Gene Name</td>\n",
       "      <td>NaN</td>\n",
       "      <td>NaN</td>\n",
       "      <td>BaderLab</td>\n",
       "      <td>Feb-14</td>\n",
       "      <td>False</td>\n",
       "      <td>False</td>\n",
       "      <td>False</td>\n",
       "      <td>False</td>\n",
       "      <td>True</td>\n",
       "      <td>False</td>\n",
       "    </tr>\n",
       "    <tr>\n",
       "      <th>...</th>\n",
       "      <td>...</td>\n",
       "      <td>...</td>\n",
       "      <td>...</td>\n",
       "      <td>...</td>\n",
       "      <td>...</td>\n",
       "      <td>...</td>\n",
       "      <td>...</td>\n",
       "      <td>...</td>\n",
       "      <td>...</td>\n",
       "      <td>...</td>\n",
       "      <td>...</td>\n",
       "      <td>...</td>\n",
       "    </tr>\n",
       "    <tr>\n",
       "      <th>80229</th>\n",
       "      <td>KIT</td>\n",
       "      <td>Gene Symbol</td>\n",
       "      <td>hgnc:6342</td>\n",
       "      <td>KIT</td>\n",
       "      <td>Oncomine</td>\n",
       "      <td>v3</td>\n",
       "      <td>False</td>\n",
       "      <td>False</td>\n",
       "      <td>True</td>\n",
       "      <td>True</td>\n",
       "      <td>False</td>\n",
       "      <td>False</td>\n",
       "    </tr>\n",
       "    <tr>\n",
       "      <th>80230</th>\n",
       "      <td>HES1</td>\n",
       "      <td>Gene Name</td>\n",
       "      <td>hgnc:5192</td>\n",
       "      <td>HES1</td>\n",
       "      <td>NCI</td>\n",
       "      <td>14-Sep-17</td>\n",
       "      <td>True</td>\n",
       "      <td>True</td>\n",
       "      <td>True</td>\n",
       "      <td>True</td>\n",
       "      <td>True</td>\n",
       "      <td>True</td>\n",
       "    </tr>\n",
       "    <tr>\n",
       "      <th>80231</th>\n",
       "      <td>IRF1</td>\n",
       "      <td>Gene Symbol</td>\n",
       "      <td>hgnc:6116</td>\n",
       "      <td>IRF1</td>\n",
       "      <td>Tempus</td>\n",
       "      <td>11-Nov-18</td>\n",
       "      <td>False</td>\n",
       "      <td>False</td>\n",
       "      <td>True</td>\n",
       "      <td>True</td>\n",
       "      <td>False</td>\n",
       "      <td>False</td>\n",
       "    </tr>\n",
       "    <tr>\n",
       "      <th>80232</th>\n",
       "      <td>SHFM1</td>\n",
       "      <td>Gene Name</td>\n",
       "      <td>hgnc:10845</td>\n",
       "      <td>SEM1</td>\n",
       "      <td>DTC</td>\n",
       "      <td>9/2/20</td>\n",
       "      <td>True</td>\n",
       "      <td>False</td>\n",
       "      <td>False</td>\n",
       "      <td>True</td>\n",
       "      <td>False</td>\n",
       "      <td>True</td>\n",
       "    </tr>\n",
       "    <tr>\n",
       "      <th>80233</th>\n",
       "      <td>NEUROD1</td>\n",
       "      <td>Gene Name</td>\n",
       "      <td>hgnc:7762</td>\n",
       "      <td>NEUROD1</td>\n",
       "      <td>NCI</td>\n",
       "      <td>14-Sep-17</td>\n",
       "      <td>False</td>\n",
       "      <td>False</td>\n",
       "      <td>True</td>\n",
       "      <td>True</td>\n",
       "      <td>False</td>\n",
       "      <td>False</td>\n",
       "    </tr>\n",
       "  </tbody>\n",
       "</table>\n",
       "<p>80234 rows × 12 columns</p>\n",
       "</div>"
      ],
      "text/plain": [
       "      gene_claim_name    nomenclature  concept_id gene_name source_db_name  \\\n",
       "0              NGFIBA  NCBI Gene Name         NaN       NaN       BaderLab   \n",
       "1              NGFIBB  NCBI Gene Name         NaN       NaN       BaderLab   \n",
       "2                 DAX  NCBI Gene Name         NaN       NaN       BaderLab   \n",
       "3            REV-ERBA  NCBI Gene Name         NaN       NaN       BaderLab   \n",
       "4               COUP2  NCBI Gene Name         NaN       NaN       BaderLab   \n",
       "...               ...             ...         ...       ...            ...   \n",
       "80229             KIT     Gene Symbol   hgnc:6342       KIT       Oncomine   \n",
       "80230            HES1       Gene Name   hgnc:5192      HES1            NCI   \n",
       "80231            IRF1     Gene Symbol   hgnc:6116      IRF1         Tempus   \n",
       "80232           SHFM1       Gene Name  hgnc:10845      SEM1            DTC   \n",
       "80233         NEUROD1       Gene Name   hgnc:7762   NEUROD1            NCI   \n",
       "\n",
       "      source_db_version  claim_ambiguous_status  name_ambiguous_status  \\\n",
       "0                Feb-14                   False                  False   \n",
       "1                Feb-14                   False                  False   \n",
       "2                Feb-14                   False                  False   \n",
       "3                Feb-14                   False                  False   \n",
       "4                Feb-14                   False                  False   \n",
       "...                 ...                     ...                    ...   \n",
       "80229                v3                   False                  False   \n",
       "80230         14-Sep-17                    True                   True   \n",
       "80231         11-Nov-18                   False                  False   \n",
       "80232            9/2/20                    True                  False   \n",
       "80233         14-Sep-17                   False                  False   \n",
       "\n",
       "       claim_primary_status  name_primary_status  name_alias_status  \\\n",
       "0                     False                False               True   \n",
       "1                     False                False               True   \n",
       "2                     False                False               True   \n",
       "3                     False                False               True   \n",
       "4                     False                False               True   \n",
       "...                     ...                  ...                ...   \n",
       "80229                  True                 True              False   \n",
       "80230                  True                 True               True   \n",
       "80231                  True                 True              False   \n",
       "80232                 False                 True              False   \n",
       "80233                  True                 True              False   \n",
       "\n",
       "       claim_alias_status  \n",
       "0                   False  \n",
       "1                   False  \n",
       "2                   False  \n",
       "3                   False  \n",
       "4                   False  \n",
       "...                   ...  \n",
       "80229               False  \n",
       "80230                True  \n",
       "80231               False  \n",
       "80232                True  \n",
       "80233               False  \n",
       "\n",
       "[80234 rows x 12 columns]"
      ]
     },
     "execution_count": 104,
     "metadata": {},
     "output_type": "execute_result"
    }
   ],
   "source": [
    "dgidb_gene_df[\"claim_alias_status\"] = dgidb_gene_df[\"gene_claim_name\"].isin(\n",
    "    hgnc_ensg_ncbi_alias_symbol_set\n",
    ")\n",
    "dgidb_gene_df"
   ]
  },
  {
   "cell_type": "code",
   "execution_count": 105,
   "metadata": {},
   "outputs": [
    {
     "data": {
      "text/plain": [
       "claim_alias_status\n",
       "False    74602\n",
       "True      5632\n",
       "Name: count, dtype: int64"
      ]
     },
     "execution_count": 105,
     "metadata": {},
     "output_type": "execute_result"
    }
   ],
   "source": [
    "dgidb_gene_df[\"claim_alias_status\"].value_counts()"
   ]
  },
  {
   "cell_type": "code",
   "execution_count": 106,
   "metadata": {},
   "outputs": [
    {
     "data": {
      "text/plain": [
       "5632"
      ]
     },
     "execution_count": 106,
     "metadata": {},
     "output_type": "execute_result"
    }
   ],
   "source": [
    "alias_claims_df = dgidb_gene_df.loc[dgidb_gene_df[\"claim_alias_status\"]]\n",
    "num_alias_claims = len(alias_claims_df)\n",
    "num_alias_claims"
   ]
  },
  {
   "cell_type": "markdown",
   "metadata": {},
   "source": [
    "#### <a id='toc1_1_2_25_'></a>[How many claims that were normalized into non-primary symbol labeled groups are alias symbols?](#toc0_)"
   ]
  },
  {
   "cell_type": "code",
   "execution_count": 107,
   "metadata": {},
   "outputs": [
    {
     "data": {
      "text/html": [
       "<div>\n",
       "<style scoped>\n",
       "    .dataframe tbody tr th:only-of-type {\n",
       "        vertical-align: middle;\n",
       "    }\n",
       "\n",
       "    .dataframe tbody tr th {\n",
       "        vertical-align: top;\n",
       "    }\n",
       "\n",
       "    .dataframe thead th {\n",
       "        text-align: right;\n",
       "    }\n",
       "</style>\n",
       "<table border=\"1\" class=\"dataframe\">\n",
       "  <thead>\n",
       "    <tr style=\"text-align: right;\">\n",
       "      <th></th>\n",
       "      <th>gene_claim_name</th>\n",
       "      <th>nomenclature</th>\n",
       "      <th>concept_id</th>\n",
       "      <th>gene_name</th>\n",
       "      <th>source_db_name</th>\n",
       "      <th>source_db_version</th>\n",
       "      <th>claim_ambiguous_status</th>\n",
       "      <th>name_ambiguous_status</th>\n",
       "      <th>claim_primary_status</th>\n",
       "      <th>name_primary_status</th>\n",
       "      <th>name_alias_status</th>\n",
       "      <th>claim_alias_status</th>\n",
       "    </tr>\n",
       "  </thead>\n",
       "  <tbody>\n",
       "    <tr>\n",
       "      <th>3251</th>\n",
       "      <td>USP17L</td>\n",
       "      <td>Gene Symbol</td>\n",
       "      <td>ncbigene:100862847</td>\n",
       "      <td>USP17L</td>\n",
       "      <td>dGene</td>\n",
       "      <td>27-Jun-13</td>\n",
       "      <td>False</td>\n",
       "      <td>False</td>\n",
       "      <td>False</td>\n",
       "      <td>False</td>\n",
       "      <td>True</td>\n",
       "      <td>True</td>\n",
       "    </tr>\n",
       "    <tr>\n",
       "      <th>5920</th>\n",
       "      <td>ALDA</td>\n",
       "      <td>Gene Name</td>\n",
       "      <td>ncbigene:112694756</td>\n",
       "      <td>LOC112694756</td>\n",
       "      <td>DrugBank</td>\n",
       "      <td>5.1.12</td>\n",
       "      <td>False</td>\n",
       "      <td>False</td>\n",
       "      <td>False</td>\n",
       "      <td>False</td>\n",
       "      <td>False</td>\n",
       "      <td>True</td>\n",
       "    </tr>\n",
       "    <tr>\n",
       "      <th>27217</th>\n",
       "      <td>SIK1B</td>\n",
       "      <td>Gene Symbol</td>\n",
       "      <td>ncbigene:102724428</td>\n",
       "      <td>LOC102724428</td>\n",
       "      <td>GO</td>\n",
       "      <td>10-Apr-24</td>\n",
       "      <td>False</td>\n",
       "      <td>False</td>\n",
       "      <td>True</td>\n",
       "      <td>False</td>\n",
       "      <td>False</td>\n",
       "      <td>True</td>\n",
       "    </tr>\n",
       "    <tr>\n",
       "      <th>31884</th>\n",
       "      <td>SIK1B</td>\n",
       "      <td>Gene Symbol</td>\n",
       "      <td>ncbigene:102724428</td>\n",
       "      <td>LOC102724428</td>\n",
       "      <td>Pharos</td>\n",
       "      <td>10-Apr-24</td>\n",
       "      <td>False</td>\n",
       "      <td>False</td>\n",
       "      <td>True</td>\n",
       "      <td>False</td>\n",
       "      <td>False</td>\n",
       "      <td>True</td>\n",
       "    </tr>\n",
       "    <tr>\n",
       "      <th>38737</th>\n",
       "      <td>USP17L</td>\n",
       "      <td>Gene Symbol</td>\n",
       "      <td>ncbigene:100862847</td>\n",
       "      <td>USP17L</td>\n",
       "      <td>NCBI</td>\n",
       "      <td>20240410</td>\n",
       "      <td>False</td>\n",
       "      <td>False</td>\n",
       "      <td>False</td>\n",
       "      <td>False</td>\n",
       "      <td>True</td>\n",
       "      <td>True</td>\n",
       "    </tr>\n",
       "    <tr>\n",
       "      <th>55006</th>\n",
       "      <td>ACT</td>\n",
       "      <td>Gene Symbol</td>\n",
       "      <td>ncbigene:389036</td>\n",
       "      <td>ACT</td>\n",
       "      <td>NCBI</td>\n",
       "      <td>20240410</td>\n",
       "      <td>True</td>\n",
       "      <td>True</td>\n",
       "      <td>False</td>\n",
       "      <td>False</td>\n",
       "      <td>True</td>\n",
       "      <td>True</td>\n",
       "    </tr>\n",
       "    <tr>\n",
       "      <th>66195</th>\n",
       "      <td>OA1</td>\n",
       "      <td>Gene Symbol</td>\n",
       "      <td>ncbigene:474285</td>\n",
       "      <td>OA1</td>\n",
       "      <td>NCBI</td>\n",
       "      <td>20240410</td>\n",
       "      <td>False</td>\n",
       "      <td>False</td>\n",
       "      <td>False</td>\n",
       "      <td>False</td>\n",
       "      <td>True</td>\n",
       "      <td>True</td>\n",
       "    </tr>\n",
       "    <tr>\n",
       "      <th>66196</th>\n",
       "      <td>OA1</td>\n",
       "      <td>Gene Symbol</td>\n",
       "      <td>ncbigene:474285</td>\n",
       "      <td>OA1</td>\n",
       "      <td>dGene</td>\n",
       "      <td>27-Jun-13</td>\n",
       "      <td>False</td>\n",
       "      <td>False</td>\n",
       "      <td>False</td>\n",
       "      <td>False</td>\n",
       "      <td>True</td>\n",
       "      <td>True</td>\n",
       "    </tr>\n",
       "  </tbody>\n",
       "</table>\n",
       "</div>"
      ],
      "text/plain": [
       "      gene_claim_name nomenclature          concept_id     gene_name  \\\n",
       "3251           USP17L  Gene Symbol  ncbigene:100862847        USP17L   \n",
       "5920             ALDA    Gene Name  ncbigene:112694756  LOC112694756   \n",
       "27217           SIK1B  Gene Symbol  ncbigene:102724428  LOC102724428   \n",
       "31884           SIK1B  Gene Symbol  ncbigene:102724428  LOC102724428   \n",
       "38737          USP17L  Gene Symbol  ncbigene:100862847        USP17L   \n",
       "55006             ACT  Gene Symbol     ncbigene:389036           ACT   \n",
       "66195             OA1  Gene Symbol     ncbigene:474285           OA1   \n",
       "66196             OA1  Gene Symbol     ncbigene:474285           OA1   \n",
       "\n",
       "      source_db_name source_db_version  claim_ambiguous_status  \\\n",
       "3251           dGene         27-Jun-13                   False   \n",
       "5920        DrugBank            5.1.12                   False   \n",
       "27217             GO         10-Apr-24                   False   \n",
       "31884         Pharos         10-Apr-24                   False   \n",
       "38737           NCBI          20240410                   False   \n",
       "55006           NCBI          20240410                    True   \n",
       "66195           NCBI          20240410                   False   \n",
       "66196          dGene         27-Jun-13                   False   \n",
       "\n",
       "       name_ambiguous_status  claim_primary_status  name_primary_status  \\\n",
       "3251                   False                 False                False   \n",
       "5920                   False                 False                False   \n",
       "27217                  False                  True                False   \n",
       "31884                  False                  True                False   \n",
       "38737                  False                 False                False   \n",
       "55006                   True                 False                False   \n",
       "66195                  False                 False                False   \n",
       "66196                  False                 False                False   \n",
       "\n",
       "       name_alias_status  claim_alias_status  \n",
       "3251                True                True  \n",
       "5920               False                True  \n",
       "27217              False                True  \n",
       "31884              False                True  \n",
       "38737               True                True  \n",
       "55006               True                True  \n",
       "66195               True                True  \n",
       "66196               True                True  "
      ]
     },
     "execution_count": 107,
     "metadata": {},
     "output_type": "execute_result"
    }
   ],
   "source": [
    "dgidb_gene_df[\"claim_alias_status\"] = dgidb_gene_df[\"gene_claim_name\"].isin(\n",
    "    hgnc_ensg_ncbi_alias_symbol_set\n",
    ")\n",
    "alias_claim_not_primary_group_name_df = dgidb_gene_df.loc[\n",
    "    dgidb_gene_df[\"claim_alias_status\"] & ~dgidb_gene_df[\"name_primary_status\"]\n",
    "]\n",
    "alias_claim_not_primary_group_name_df"
   ]
  },
  {
   "cell_type": "markdown",
   "metadata": {},
   "source": [
    "#### <a id='toc1_1_2_26_'></a>[How many not normalized claims are alias symbols?](#toc0_)"
   ]
  },
  {
   "cell_type": "code",
   "execution_count": 108,
   "metadata": {},
   "outputs": [
    {
     "data": {
      "text/plain": [
       "0"
      ]
     },
     "execution_count": 108,
     "metadata": {},
     "output_type": "execute_result"
    }
   ],
   "source": [
    "alias_claim_null_name_df = dgidb_gene_df.loc[\n",
    "    dgidb_gene_df[\"claim_alias_status\"] & dgidb_gene_df[\"gene_name\"].isnull()\n",
    "]\n",
    "len(alias_claim_null_name_df)"
   ]
  },
  {
   "cell_type": "markdown",
   "metadata": {},
   "source": [
    "#### <a id='toc1_1_2_27_'></a>[How many gene group labels are not primary, alias symbols, or null?](#toc0_)"
   ]
  },
  {
   "cell_type": "code",
   "execution_count": 109,
   "metadata": {},
   "outputs": [
    {
     "data": {
      "text/plain": [
       "29"
      ]
     },
     "execution_count": 109,
     "metadata": {},
     "output_type": "execute_result"
    }
   ],
   "source": [
    "other_name_df = dgidb_gene_df.loc[\n",
    "    ~dgidb_gene_df[\"name_alias_status\"]\n",
    "    & ~dgidb_gene_df[\"name_primary_status\"]\n",
    "    & ~dgidb_gene_df[\"gene_name\"].isnull()\n",
    "]\n",
    "num_other_name = len(other_name_df)\n",
    "num_other_name"
   ]
  },
  {
   "cell_type": "markdown",
   "metadata": {},
   "source": [
    "#### <a id='toc1_1_2_28_'></a>[How many claims are not primary, alias symbols, or null?](#toc0_)"
   ]
  },
  {
   "cell_type": "code",
   "execution_count": 110,
   "metadata": {},
   "outputs": [
    {
     "data": {
      "text/plain": [
       "15284"
      ]
     },
     "execution_count": 110,
     "metadata": {},
     "output_type": "execute_result"
    }
   ],
   "source": [
    "other_claim_df = dgidb_gene_df.loc[\n",
    "    ~dgidb_gene_df[\"claim_alias_status\"] & ~dgidb_gene_df[\"claim_primary_status\"]\n",
    "]\n",
    "num_other_claim = len(other_claim_df)\n",
    "num_other_claim"
   ]
  },
  {
   "cell_type": "markdown",
   "metadata": {},
   "source": [
    "#### <a id='toc1_1_2_29_'></a>[How many claims are primary and alias symbols?](#toc0_)"
   ]
  },
  {
   "cell_type": "code",
   "execution_count": 111,
   "metadata": {},
   "outputs": [
    {
     "data": {
      "text/plain": [
       "4867"
      ]
     },
     "execution_count": 111,
     "metadata": {},
     "output_type": "execute_result"
    }
   ],
   "source": [
    "primaryandalias_claim_df = dgidb_gene_df.loc[\n",
    "    dgidb_gene_df[\"claim_alias_status\"] & dgidb_gene_df[\"claim_primary_status\"]\n",
    "]\n",
    "num_primaryandalias_claim = len(primaryandalias_claim_df)\n",
    "num_primaryandalias_claim"
   ]
  },
  {
   "cell_type": "markdown",
   "metadata": {},
   "source": [
    "#### <a id='toc1_1_2_30_'></a>[How many primary symbol claims are normalized into non-primary gene group labels?](#toc0_)"
   ]
  },
  {
   "cell_type": "code",
   "execution_count": 112,
   "metadata": {},
   "outputs": [
    {
     "data": {
      "text/html": [
       "<div>\n",
       "<style scoped>\n",
       "    .dataframe tbody tr th:only-of-type {\n",
       "        vertical-align: middle;\n",
       "    }\n",
       "\n",
       "    .dataframe tbody tr th {\n",
       "        vertical-align: top;\n",
       "    }\n",
       "\n",
       "    .dataframe thead th {\n",
       "        text-align: right;\n",
       "    }\n",
       "</style>\n",
       "<table border=\"1\" class=\"dataframe\">\n",
       "  <thead>\n",
       "    <tr style=\"text-align: right;\">\n",
       "      <th></th>\n",
       "      <th>gene_claim_name</th>\n",
       "      <th>nomenclature</th>\n",
       "      <th>concept_id</th>\n",
       "      <th>gene_name</th>\n",
       "      <th>source_db_name</th>\n",
       "      <th>source_db_version</th>\n",
       "      <th>claim_ambiguous_status</th>\n",
       "      <th>name_ambiguous_status</th>\n",
       "      <th>claim_primary_status</th>\n",
       "      <th>name_primary_status</th>\n",
       "      <th>name_alias_status</th>\n",
       "      <th>claim_alias_status</th>\n",
       "    </tr>\n",
       "  </thead>\n",
       "  <tbody>\n",
       "    <tr>\n",
       "      <th>27217</th>\n",
       "      <td>SIK1B</td>\n",
       "      <td>Gene Symbol</td>\n",
       "      <td>ncbigene:102724428</td>\n",
       "      <td>LOC102724428</td>\n",
       "      <td>GO</td>\n",
       "      <td>10-Apr-24</td>\n",
       "      <td>False</td>\n",
       "      <td>False</td>\n",
       "      <td>True</td>\n",
       "      <td>False</td>\n",
       "      <td>False</td>\n",
       "      <td>True</td>\n",
       "    </tr>\n",
       "    <tr>\n",
       "      <th>31884</th>\n",
       "      <td>SIK1B</td>\n",
       "      <td>Gene Symbol</td>\n",
       "      <td>ncbigene:102724428</td>\n",
       "      <td>LOC102724428</td>\n",
       "      <td>Pharos</td>\n",
       "      <td>10-Apr-24</td>\n",
       "      <td>False</td>\n",
       "      <td>False</td>\n",
       "      <td>True</td>\n",
       "      <td>False</td>\n",
       "      <td>False</td>\n",
       "      <td>True</td>\n",
       "    </tr>\n",
       "  </tbody>\n",
       "</table>\n",
       "</div>"
      ],
      "text/plain": [
       "      gene_claim_name nomenclature          concept_id     gene_name  \\\n",
       "27217           SIK1B  Gene Symbol  ncbigene:102724428  LOC102724428   \n",
       "31884           SIK1B  Gene Symbol  ncbigene:102724428  LOC102724428   \n",
       "\n",
       "      source_db_name source_db_version  claim_ambiguous_status  \\\n",
       "27217             GO         10-Apr-24                   False   \n",
       "31884         Pharos         10-Apr-24                   False   \n",
       "\n",
       "       name_ambiguous_status  claim_primary_status  name_primary_status  \\\n",
       "27217                  False                  True                False   \n",
       "31884                  False                  True                False   \n",
       "\n",
       "       name_alias_status  claim_alias_status  \n",
       "27217              False                True  \n",
       "31884              False                True  "
      ]
     },
     "execution_count": 112,
     "metadata": {},
     "output_type": "execute_result"
    }
   ],
   "source": [
    "claim_true_name_false_df = dgidb_gene_df.loc[\n",
    "    dgidb_gene_df[\"claim_primary_status\"] & ~dgidb_gene_df[\"name_primary_status\"]\n",
    "]\n",
    "claim_true_name_false_df"
   ]
  },
  {
   "cell_type": "code",
   "execution_count": 113,
   "metadata": {},
   "outputs": [
    {
     "data": {
      "text/plain": [
       "2"
      ]
     },
     "execution_count": 113,
     "metadata": {},
     "output_type": "execute_result"
    }
   ],
   "source": [
    "len(claim_true_name_false_df)"
   ]
  },
  {
   "cell_type": "markdown",
   "metadata": {},
   "source": [
    "### <a id='toc1_1_3_'></a>[Summary](#toc0_)"
   ]
  },
  {
   "cell_type": "markdown",
   "metadata": {},
   "source": [
    "#### <a id='toc1_1_3_1_'></a>[Normalization Rates](#toc0_)"
   ]
  },
  {
   "cell_type": "code",
   "execution_count": 114,
   "metadata": {},
   "outputs": [
    {
     "data": {
      "text/html": [
       "<div>\n",
       "<style scoped>\n",
       "    .dataframe tbody tr th:only-of-type {\n",
       "        vertical-align: middle;\n",
       "    }\n",
       "\n",
       "    .dataframe tbody tr th {\n",
       "        vertical-align: top;\n",
       "    }\n",
       "\n",
       "    .dataframe thead th {\n",
       "        text-align: right;\n",
       "    }\n",
       "</style>\n",
       "<table border=\"1\" class=\"dataframe\">\n",
       "  <thead>\n",
       "    <tr style=\"text-align: right;\">\n",
       "      <th></th>\n",
       "      <th>Number of Claims</th>\n",
       "    </tr>\n",
       "  </thead>\n",
       "  <tbody>\n",
       "    <tr>\n",
       "      <th>Normalized</th>\n",
       "      <td>78090</td>\n",
       "    </tr>\n",
       "    <tr>\n",
       "      <th>Not Normalized</th>\n",
       "      <td>2144</td>\n",
       "    </tr>\n",
       "    <tr>\n",
       "      <th>Total</th>\n",
       "      <td>80234</td>\n",
       "    </tr>\n",
       "  </tbody>\n",
       "</table>\n",
       "</div>"
      ],
      "text/plain": [
       "                Number of Claims\n",
       "Normalized                 78090\n",
       "Not Normalized              2144\n",
       "Total                      80234"
      ]
     },
     "execution_count": 114,
     "metadata": {},
     "output_type": "execute_result"
    }
   ],
   "source": [
    "normalization_index = \"Normalized\", \"Not Normalized\", \"Total\"\n",
    "normalization_summary = {\n",
    "    \"Number of Claims\": [\n",
    "        num_normalized_claims,\n",
    "        num_not_normalized_claims,\n",
    "        num_total_claims,\n",
    "    ]\n",
    "}\n",
    "normalization_summary_df = pd.DataFrame(\n",
    "    normalization_summary, index=normalization_index\n",
    ")\n",
    "normalization_summary_df"
   ]
  },
  {
   "cell_type": "markdown",
   "metadata": {},
   "source": [
    "#### <a id='toc1_1_3_2_'></a>[Types of Claim Symbols](#toc0_)"
   ]
  },
  {
   "cell_type": "markdown",
   "metadata": {},
   "source": [
    "- Primary and Alias symbols are not exclusive as some primary symbols are used as aliases (alias-primary collisions)\n",
    "- Other does not include any Primary or Alias symbols\n",
    "- Ambiguous symbols can be either Primary or Alias"
   ]
  },
  {
   "cell_type": "code",
   "execution_count": 115,
   "metadata": {},
   "outputs": [
    {
     "data": {
      "text/html": [
       "<div>\n",
       "<style scoped>\n",
       "    .dataframe tbody tr th:only-of-type {\n",
       "        vertical-align: middle;\n",
       "    }\n",
       "\n",
       "    .dataframe tbody tr th {\n",
       "        vertical-align: top;\n",
       "    }\n",
       "\n",
       "    .dataframe thead th {\n",
       "        text-align: right;\n",
       "    }\n",
       "</style>\n",
       "<table border=\"1\" class=\"dataframe\">\n",
       "  <thead>\n",
       "    <tr style=\"text-align: right;\">\n",
       "      <th></th>\n",
       "      <th>Number of Claims</th>\n",
       "    </tr>\n",
       "  </thead>\n",
       "  <tbody>\n",
       "    <tr>\n",
       "      <th>Primary</th>\n",
       "      <td>64185</td>\n",
       "    </tr>\n",
       "    <tr>\n",
       "      <th>Alias</th>\n",
       "      <td>5632</td>\n",
       "    </tr>\n",
       "    <tr>\n",
       "      <th>Other</th>\n",
       "      <td>15284</td>\n",
       "    </tr>\n",
       "    <tr>\n",
       "      <th>Ambiguous</th>\n",
       "      <td>4696</td>\n",
       "    </tr>\n",
       "    <tr>\n",
       "      <th>Total</th>\n",
       "      <td>80234</td>\n",
       "    </tr>\n",
       "  </tbody>\n",
       "</table>\n",
       "</div>"
      ],
      "text/plain": [
       "           Number of Claims\n",
       "Primary               64185\n",
       "Alias                  5632\n",
       "Other                 15284\n",
       "Ambiguous              4696\n",
       "Total                 80234"
      ]
     },
     "execution_count": 115,
     "metadata": {},
     "output_type": "execute_result"
    }
   ],
   "source": [
    "claim_index = \"Primary\", \"Alias\", \"Other\", \"Ambiguous\", \"Total\"\n",
    "claim_summary = {\n",
    "    \"Number of Claims\": [\n",
    "        num_primary_claim,\n",
    "        num_alias_claims,\n",
    "        num_other_claim,\n",
    "        num_ambiguous_claim,\n",
    "        num_total_claims,\n",
    "    ]\n",
    "}\n",
    "claim_summary_df = pd.DataFrame(claim_summary, index=claim_index)\n",
    "claim_summary_df"
   ]
  },
  {
   "cell_type": "markdown",
   "metadata": {},
   "source": [
    "#### <a id='toc1_1_3_3_'></a>[Types of Normalizations (gene group labels claims are being normliazed into)](#toc0_)"
   ]
  },
  {
   "cell_type": "code",
   "execution_count": 116,
   "metadata": {},
   "outputs": [
    {
     "data": {
      "text/html": [
       "<div>\n",
       "<style scoped>\n",
       "    .dataframe tbody tr th:only-of-type {\n",
       "        vertical-align: middle;\n",
       "    }\n",
       "\n",
       "    .dataframe tbody tr th {\n",
       "        vertical-align: top;\n",
       "    }\n",
       "\n",
       "    .dataframe thead th {\n",
       "        text-align: right;\n",
       "    }\n",
       "</style>\n",
       "<table border=\"1\" class=\"dataframe\">\n",
       "  <thead>\n",
       "    <tr style=\"text-align: right;\">\n",
       "      <th></th>\n",
       "      <th>Number of Claims</th>\n",
       "    </tr>\n",
       "  </thead>\n",
       "  <tbody>\n",
       "    <tr>\n",
       "      <th>Primary</th>\n",
       "      <td>78055</td>\n",
       "    </tr>\n",
       "    <tr>\n",
       "      <th>Alias</th>\n",
       "      <td>8066</td>\n",
       "    </tr>\n",
       "    <tr>\n",
       "      <th>Null</th>\n",
       "      <td>2144</td>\n",
       "    </tr>\n",
       "    <tr>\n",
       "      <th>Other</th>\n",
       "      <td>29</td>\n",
       "    </tr>\n",
       "    <tr>\n",
       "      <th>Ambiguous</th>\n",
       "      <td>5573</td>\n",
       "    </tr>\n",
       "    <tr>\n",
       "      <th>Total</th>\n",
       "      <td>80234</td>\n",
       "    </tr>\n",
       "  </tbody>\n",
       "</table>\n",
       "</div>"
      ],
      "text/plain": [
       "           Number of Claims\n",
       "Primary               78055\n",
       "Alias                  8066\n",
       "Null                   2144\n",
       "Other                    29\n",
       "Ambiguous              5573\n",
       "Total                 80234"
      ]
     },
     "execution_count": 116,
     "metadata": {},
     "output_type": "execute_result"
    }
   ],
   "source": [
    "gene_group_index = \"Primary\", \"Alias\", \"Null\", \"Other\", \"Ambiguous\", \"Total\"\n",
    "gene_group_summary = {\n",
    "    \"Number of Claims\": [\n",
    "        num_primary_name,\n",
    "        num_alias_name,\n",
    "        num_not_normalized_claims,\n",
    "        num_other_name,\n",
    "        num_ambiguous_name,\n",
    "        num_total_claims,\n",
    "    ]\n",
    "}\n",
    "gene_group_summary_df = pd.DataFrame(gene_group_summary, index=gene_group_index)\n",
    "gene_group_summary_df"
   ]
  }
 ],
 "metadata": {
  "kernelspec": {
   "display_name": ".venv",
   "language": "python",
   "name": "python3"
  },
  "language_info": {
   "codemirror_mode": {
    "name": "ipython",
    "version": 3
   },
   "file_extension": ".py",
   "mimetype": "text/x-python",
   "name": "python",
   "nbconvert_exporter": "python",
   "pygments_lexer": "ipython3",
   "version": "3.11.7"
  }
 },
 "nbformat": 4,
 "nbformat_minor": 2
}
