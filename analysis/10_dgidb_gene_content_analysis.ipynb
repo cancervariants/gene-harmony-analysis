{
 "cells": [
  {
   "cell_type": "markdown",
   "metadata": {},
   "source": [
    "# <a id='toc1_'></a>[DGIdb ambiguous claims](#toc0_)"
   ]
  },
  {
   "cell_type": "markdown",
   "metadata": {},
   "source": [
    "**Table of contents**<a id='toc0_'></a>    \n",
    "- [DGIdb ambiguous claims](#toc1_)    \n",
    "    - [Analyzing similaritis b/w alias-primary and alias-alias collisions](#toc1_1_1_)    \n",
    "      - [Load merged alias-alias and alias-priamry collision sets. Symbols are the ambiguous symbols.](#toc1_1_1_1_)    \n",
    "      - [How many of the alias-primary collisions are also alias-alias collisions?](#toc1_1_1_2_)    \n",
    "      - [How many unique ambiguous symbosl are there b/w alias-primary and alias-alias collisions?](#toc1_1_1_3_)    \n",
    "    - [Primary exploration of DGIdb gene content using collisions](#toc1_1_2_)    \n",
    "      - [Load gene claim data from DGIdb](#toc1_1_2_1_)    \n",
    "      - [How many claims are placed in a gene group with a different label?](#toc1_1_2_2_)    \n",
    "      - [How many claims are not normalized?](#toc1_1_2_3_)    \n",
    "      - [Create set of gene groups (gene_name) and gene claims (gene_claim_name)](#toc1_1_2_4_)    \n",
    "      - [Load HGNC, Ensembl (ENSG), and NCBI gene and alias sets](#toc1_1_2_5_)    \n",
    "      - [How many unique primary gene symbols are there b/w HGNC, Ensembl, and NCBI?](#toc1_1_2_6_)    \n",
    "      - [How many unique alias symbols are there b/w HGNC, Ensembl, and NCBI?](#toc1_1_2_7_)    \n",
    "      - [How many unique group names are not primary gene symbols?](#toc1_1_2_8_)    \n",
    "      - [How many unique claims are not primary gene symbols?](#toc1_1_2_9_)    \n",
    "      - [Load the collision sets from each data source](#toc1_1_2_10_)    \n",
    "      - [How many unique group names are primary gene symbols?](#toc1_1_2_11_)    \n",
    "      - [How many of the groups that are labeled with a primary gene symbol are also alias-alias collisions?](#toc1_1_2_12_)    \n",
    "      - [How many unique claim symbols are collisions?](#toc1_1_2_13_)    \n",
    "      - [How many unique groups are labeled with collisions?](#toc1_1_2_14_)    \n",
    "      - [How many unique claims are not primary gene symbols?](#toc1_1_2_15_)    \n",
    "      - [How many unique claims that were not primary symbols are collisions?](#toc1_1_2_16_)    \n",
    "      - [How many unique claims that are primary gene symbols are also collisions?](#toc1_1_2_17_)    \n",
    "      - [How many of the gene groups that are not primary gene symbols are alias-alias collisions from HGNC?](#toc1_1_2_18_)    \n",
    "      - [How many claims are ambiguous symbols?](#toc1_1_2_19_)    \n",
    "      - [How many gene group labels are ambiguous symbols?](#toc1_1_2_20_)    \n",
    "      - [How many claims are primary symbols?](#toc1_1_2_21_)    \n",
    "      - [How many gene group labels are primary symbols?](#toc1_1_2_22_)    \n",
    "      - [How many gene group labels are alias symbols?](#toc1_1_2_23_)    \n",
    "      - [How many claims are alias symbols?](#toc1_1_2_24_)    \n",
    "      - [How many claims that were normalized into non-primary symbol labeled groups are alias symbols?](#toc1_1_2_25_)    \n",
    "      - [How many not normalized claims are alias symbols?](#toc1_1_2_26_)    \n",
    "      - [How many gene group labels are not primary, alias symbols, or null?](#toc1_1_2_27_)    \n",
    "      - [How many claims are not primary, alias symbols, or null?](#toc1_1_2_28_)    \n",
    "      - [How many claims are primary and alias symbols?](#toc1_1_2_29_)    \n",
    "      - [How many primary symbol claims are normalized into non-primary gene group labels?](#toc1_1_2_30_)    \n",
    "    - [Summary](#toc1_1_3_)    \n",
    "      - [Normalization Rates](#toc1_1_3_1_)    \n",
    "      - [Types of Claim Symbols](#toc1_1_3_2_)    \n",
    "      - [Types of Normalizations (gene group labels claims are being normliazed into)](#toc1_1_3_3_)    \n",
    "\n",
    "<!-- vscode-jupyter-toc-config\n",
    "\tnumbering=false\n",
    "\tanchor=true\n",
    "\tflat=false\n",
    "\tminLevel=1\n",
    "\tmaxLevel=6\n",
    "\t/vscode-jupyter-toc-config -->\n",
    "<!-- THIS CELL WILL BE REPLACED ON TOC UPDATE. DO NOT WRITE YOUR TEXT IN THIS CELL -->"
   ]
  },
  {
   "cell_type": "code",
   "execution_count": 1,
   "metadata": {},
   "outputs": [],
   "source": [
    "import pandas as pd\n",
    "import numpy as np\n",
    "import plotly.express as px"
   ]
  },
  {
   "cell_type": "markdown",
   "metadata": {},
   "source": [
    "### <a id='toc1_1_1_'></a>[Analyzing similarities b/w alias-primary and alias-alias collisions](#toc0_)"
   ]
  },
  {
   "cell_type": "markdown",
   "metadata": {},
   "source": [
    "#### <a id='toc1_1_1_1_'></a>[Load merged alias-alias and alias-priamry collision sets. Symbols are the ambiguous symbols.](#toc0_)"
   ]
  },
  {
   "cell_type": "markdown",
   "metadata": {},
   "source": [
    "Input: merged_alias_gene_intersections.csv (total_alias_gene_intersections.ipynb), merged_alias_overlap_df_2.csv (total_alias_overlap.ipynb)"
   ]
  },
  {
   "cell_type": "markdown",
   "metadata": {},
   "source": [
    "Output: merged_alias_primary_collision_set, merged_alias_alias_collision_set"
   ]
  },
  {
   "cell_type": "code",
   "execution_count": 2,
   "metadata": {},
   "outputs": [],
   "source": [
    "merged_alias_primary_collisions_df = pd.read_csv(\n",
    "    \"../output/merged_alias_primary_collisions_df.csv\", na_values=[\"\", \"NULL\"], keep_default_na=False\n",
    ")"
   ]
  },
  {
   "cell_type": "code",
   "execution_count": 3,
   "metadata": {},
   "outputs": [
    {
     "data": {
      "text/plain": [
       "1651"
      ]
     },
     "execution_count": 3,
     "metadata": {},
     "output_type": "execute_result"
    }
   ],
   "source": [
    "merged_alias_primary_collision_set = set(\n",
    "    merged_alias_primary_collisions_df[\"collision\"]\n",
    ")\n",
    "len(merged_alias_primary_collision_set)"
   ]
  },
  {
   "cell_type": "code",
   "execution_count": 4,
   "metadata": {},
   "outputs": [],
   "source": [
    "merged_alias_alias_collisions_df = pd.read_csv(\n",
    "    \"../output/merged_aa_collision_alias_df.csv\", na_values=[\"\", \"NULL\"], keep_default_na=False\n",
    ")"
   ]
  },
  {
   "cell_type": "code",
   "execution_count": 5,
   "metadata": {},
   "outputs": [
    {
     "data": {
      "text/plain": [
       "3786"
      ]
     },
     "execution_count": 5,
     "metadata": {},
     "output_type": "execute_result"
    }
   ],
   "source": [
    "merged_alias_alias_collision_set = set(\n",
    "    merged_alias_alias_collisions_df[\"collision\"].tolist()\n",
    ")\n",
    "len(merged_alias_alias_collision_set)"
   ]
  },
  {
   "cell_type": "code",
   "execution_count": 6,
   "metadata": {},
   "outputs": [],
   "source": [
    "merged_alias_alias_collision_list = merged_alias_alias_collisions_df[\"collision\"].tolist()"
   ]
  },
  {
   "cell_type": "code",
   "execution_count": 7,
   "metadata": {},
   "outputs": [
    {
     "data": {
      "text/plain": [
       "'H4-16'"
      ]
     },
     "execution_count": 7,
     "metadata": {},
     "output_type": "execute_result"
    }
   ],
   "source": [
    "merged_alias_alias_collision_list[1]"
   ]
  },
  {
   "cell_type": "markdown",
   "metadata": {},
   "source": [
    "#### <a id='toc1_1_1_2_'></a>[How many of the alias-primary collisions are also alias-alias collisions?](#toc0_)"
   ]
  },
  {
   "cell_type": "code",
   "execution_count": 8,
   "metadata": {},
   "outputs": [
    {
     "name": "stdout",
     "output_type": "stream",
     "text": [
      "265\n"
     ]
    }
   ],
   "source": [
    "print(\n",
    "    len(\n",
    "        merged_alias_alias_collision_set.intersection(\n",
    "            merged_alias_primary_collision_set\n",
    "        )\n",
    "    )\n",
    ")"
   ]
  },
  {
   "cell_type": "markdown",
   "metadata": {},
   "source": [
    "#### <a id='toc1_1_1_3_'></a>[How many unique ambiguous symbols are there b/w alias-primary and alias-alias collisions?](#toc0_)"
   ]
  },
  {
   "cell_type": "code",
   "execution_count": 9,
   "metadata": {},
   "outputs": [
    {
     "name": "stdout",
     "output_type": "stream",
     "text": [
      "5172\n"
     ]
    }
   ],
   "source": [
    "ambiguous_symbol_set = merged_alias_alias_collision_set.union(\n",
    "    merged_alias_primary_collision_set\n",
    ")\n",
    "print(len(ambiguous_symbol_set))"
   ]
  },
  {
   "cell_type": "code",
   "execution_count": 10,
   "metadata": {},
   "outputs": [
    {
     "data": {
      "text/plain": [
       "{'NABC1',\n",
       " 'KIP2',\n",
       " 'NUS1',\n",
       " 'DMT1',\n",
       " 'DA2B',\n",
       " 'MIP-1-BETA',\n",
       " 'NCAM2',\n",
       " 'AFP',\n",
       " 'NOC2',\n",
       " 'SAG',\n",
       " 'ZNF688',\n",
       " 'SRM',\n",
       " 'BMD',\n",
       " 'NRP2',\n",
       " 'GLUT8',\n",
       " 'B2',\n",
       " 'OB',\n",
       " 'P600',\n",
       " 'LD78BETA',\n",
       " 'HS1',\n",
       " 'TDGF2',\n",
       " 'KRTAP2.4',\n",
       " 'USP17L25',\n",
       " 'SDS',\n",
       " 'ARSB',\n",
       " 'TBC1D3I',\n",
       " 'RP66',\n",
       " 'FRAG1',\n",
       " 'NOV',\n",
       " 'CAMIII',\n",
       " 'GABPB2',\n",
       " 'MTCP1',\n",
       " 'IGFR2',\n",
       " 'NSP',\n",
       " 'AD1',\n",
       " 'SMIM10L2B',\n",
       " 'PIG6',\n",
       " 'SMAD1',\n",
       " 'PPYR1',\n",
       " 'FAM236D',\n",
       " 'ZNF286C',\n",
       " 'IGHER',\n",
       " 'CPA3',\n",
       " 'OM',\n",
       " 'EMAP2',\n",
       " 'MCM',\n",
       " 'IDP',\n",
       " 'CA-RP',\n",
       " 'TRA1',\n",
       " 'U82',\n",
       " 'OP-2',\n",
       " 'FLJ20375',\n",
       " 'RLF',\n",
       " 'TRR-ACG1-3',\n",
       " 'MRP1',\n",
       " 'NP1',\n",
       " 'PAGE-1',\n",
       " 'LPSAT',\n",
       " 'B12',\n",
       " 'CT4.8',\n",
       " 'TRPC7',\n",
       " 'NEDBA',\n",
       " 'NS3TP1',\n",
       " 'DPK',\n",
       " 'HSFY',\n",
       " 'IK1',\n",
       " 'CDH16',\n",
       " 'SDH1',\n",
       " 'TCRAV17S1',\n",
       " 'PLGLA1',\n",
       " 'TTP1',\n",
       " 'CDG1P',\n",
       " 'RBM2',\n",
       " 'KRTAP5-3',\n",
       " 'HCS',\n",
       " 'LARP',\n",
       " 'IPS-1',\n",
       " 'UT2',\n",
       " 'NSL1',\n",
       " 'CDC14B',\n",
       " 'TRG-CCC2-2',\n",
       " 'D2',\n",
       " 'DFNA40',\n",
       " 'PARF',\n",
       " 'SD',\n",
       " 'ALS19',\n",
       " 'OCIF',\n",
       " 'TNDM1',\n",
       " 'DMP1',\n",
       " 'IGHM',\n",
       " 'VMA5',\n",
       " 'HL',\n",
       " 'ADORA2',\n",
       " 'NCA',\n",
       " 'DKFZP547P234',\n",
       " 'CED-12',\n",
       " 'OP2',\n",
       " 'CL2',\n",
       " 'ABL',\n",
       " 'QARS',\n",
       " 'ALDH4',\n",
       " 'P47',\n",
       " 'UGT-1A',\n",
       " 'CKLF',\n",
       " 'DEC1',\n",
       " 'GPCR21',\n",
       " 'TRR-ACG1-1',\n",
       " 'TMEM123',\n",
       " 'XBP1',\n",
       " 'HS3ST5',\n",
       " 'PEX1',\n",
       " 'UBH1',\n",
       " 'DDH2',\n",
       " 'TTD',\n",
       " 'MRP-L14',\n",
       " 'NC',\n",
       " 'CMT2T',\n",
       " 'FCGR3A',\n",
       " 'HLA-DPB1',\n",
       " 'SPC3',\n",
       " 'CD205',\n",
       " 'ANG1',\n",
       " 'CSE',\n",
       " 'ASPRS',\n",
       " 'PMS2L2',\n",
       " 'PN-II',\n",
       " 'POGZ',\n",
       " 'MIRH1',\n",
       " 'DYT17',\n",
       " 'FMC1',\n",
       " 'HSJ2',\n",
       " 'CYP-M',\n",
       " 'P80',\n",
       " 'HPH-3',\n",
       " 'GLUD1',\n",
       " 'PRR20C',\n",
       " 'CER1',\n",
       " 'P1',\n",
       " 'HTRA3',\n",
       " 'AP-1',\n",
       " 'PKR2',\n",
       " 'AK3',\n",
       " 'MBP-1',\n",
       " 'CMYA2',\n",
       " 'AK3L1',\n",
       " 'BOP',\n",
       " 'PC4',\n",
       " 'TER',\n",
       " 'MPP',\n",
       " 'TRP2',\n",
       " 'TRD-GTC2-11',\n",
       " 'KLHL6',\n",
       " 'CHAMP',\n",
       " 'EF1A',\n",
       " 'HOX1D',\n",
       " 'NBC2',\n",
       " 'TMP-21-I',\n",
       " 'CYP2D7BP',\n",
       " 'RNU3',\n",
       " 'MCL',\n",
       " 'LPL',\n",
       " 'TRA-TGC3-2',\n",
       " 'DSC2',\n",
       " 'EIF3A',\n",
       " 'PRR',\n",
       " 'PTA',\n",
       " 'DM2',\n",
       " 'MIC12',\n",
       " 'EBN',\n",
       " 'PTEN2',\n",
       " 'DEC-205',\n",
       " 'P11',\n",
       " 'MT2',\n",
       " 'PDIP1',\n",
       " 'MCT3',\n",
       " 'KGA',\n",
       " 'VCF',\n",
       " 'OR19-7',\n",
       " 'GATD6',\n",
       " 'IF',\n",
       " 'TCEB1P26',\n",
       " 'BFNC',\n",
       " 'ASIP',\n",
       " 'XAGE1',\n",
       " 'HHL',\n",
       " 'OLF1',\n",
       " 'PBP',\n",
       " 'CAP',\n",
       " 'E1',\n",
       " 'IL27',\n",
       " 'IGO1',\n",
       " 'PIP',\n",
       " 'FCRIII',\n",
       " 'CMT2D',\n",
       " 'P16',\n",
       " 'LAGE2A',\n",
       " 'NNX3',\n",
       " 'P97',\n",
       " 'TCRGC2',\n",
       " 'ACTB',\n",
       " 'L8',\n",
       " 'TRL-AAG2-4',\n",
       " 'GUP1',\n",
       " 'OR7-21',\n",
       " 'IL1RA',\n",
       " 'TCS3',\n",
       " 'STAG1',\n",
       " 'HARC',\n",
       " 'GRIN1',\n",
       " 'CINAP',\n",
       " 'SLC6A5',\n",
       " 'SPIN',\n",
       " 'BMI1',\n",
       " 'PMS2CL',\n",
       " 'TRN',\n",
       " 'UCMD1',\n",
       " 'ESA1',\n",
       " 'EDH17B2',\n",
       " 'LRP10',\n",
       " 'PMS2L11',\n",
       " 'CDK11-P110',\n",
       " 'TBC1D3L',\n",
       " 'CLK-1',\n",
       " 'GTF2A1L',\n",
       " 'CLAMP',\n",
       " 'HBM',\n",
       " 'WASH',\n",
       " 'MOX1',\n",
       " 'SMIM39',\n",
       " 'DDT',\n",
       " 'TBC1D3D',\n",
       " 'ARC34',\n",
       " 'MAD3',\n",
       " 'NET4',\n",
       " 'XIST',\n",
       " 'PIG1',\n",
       " 'PEO',\n",
       " 'C11ORF2',\n",
       " '464.2',\n",
       " 'PDC',\n",
       " 'TAF2A',\n",
       " 'ART1',\n",
       " 'HIES2',\n",
       " 'ATP6G',\n",
       " 'CLP1',\n",
       " 'SLIM',\n",
       " 'SP-A',\n",
       " 'PWCR',\n",
       " 'ADIR2',\n",
       " 'KRTAP18-9',\n",
       " 'URP',\n",
       " 'MAFG-AS1',\n",
       " 'KIAA0172',\n",
       " 'RBMY2',\n",
       " 'PD1',\n",
       " 'PGS1',\n",
       " 'UBC4/5',\n",
       " 'PRG2',\n",
       " 'HCC-4',\n",
       " 'HSP40',\n",
       " 'CHMP3',\n",
       " 'IDH',\n",
       " 'ALX',\n",
       " 'H4C8',\n",
       " 'SGII',\n",
       " 'TCEB1L',\n",
       " 'BDP1',\n",
       " 'SLC24A2',\n",
       " 'BRIGHT',\n",
       " 'S3',\n",
       " 'LAT3',\n",
       " 'MGC5228',\n",
       " 'LIPA',\n",
       " 'RBAK',\n",
       " 'TTG1',\n",
       " 'ARH2',\n",
       " 'VPP2',\n",
       " 'BCD1',\n",
       " 'POLD4',\n",
       " 'ING2',\n",
       " 'TBC1D3',\n",
       " 'NRXN4',\n",
       " 'MP44',\n",
       " 'CCL4L',\n",
       " 'TRK1',\n",
       " 'BHLHE42',\n",
       " 'ETK',\n",
       " 'SPH1',\n",
       " 'MGC15397',\n",
       " 'WRS',\n",
       " 'CLIC5',\n",
       " 'GALNT15',\n",
       " 'U6',\n",
       " 'TF',\n",
       " 'CNA2',\n",
       " 'PUMAG',\n",
       " 'EDHB17',\n",
       " 'IV',\n",
       " 'TRX-CAT1-3',\n",
       " 'PRG1',\n",
       " 'TEP1',\n",
       " 'ACCA',\n",
       " 'H2A.2',\n",
       " 'OAT6',\n",
       " 'RNASEH1',\n",
       " 'H2B/H',\n",
       " 'AD3',\n",
       " 'LIG3',\n",
       " 'VIP21',\n",
       " 'PUR1',\n",
       " 'CRIPTO',\n",
       " 'TRPM2',\n",
       " 'RAD1',\n",
       " 'ATR',\n",
       " 'SK2',\n",
       " 'CATMANS',\n",
       " 'KOP',\n",
       " 'UBC2',\n",
       " 'ELOA3C',\n",
       " 'MSC',\n",
       " 'HLA-DRB',\n",
       " 'NBPF9',\n",
       " 'GOLGA8B',\n",
       " 'G6PT',\n",
       " 'TCRBV3S1',\n",
       " 'SPX1',\n",
       " 'ARTC1',\n",
       " 'DHP',\n",
       " 'P115',\n",
       " 'CYP2C',\n",
       " 'CAMB',\n",
       " 'CTRP5',\n",
       " 'ARFGAP1',\n",
       " 'USE1',\n",
       " 'RNF3',\n",
       " 'WD',\n",
       " 'IGHV',\n",
       " 'ICIS',\n",
       " 'KRTHB1',\n",
       " 'MPP4',\n",
       " 'PIN1',\n",
       " 'ICR',\n",
       " 'PAP-ALPHA',\n",
       " 'ZNF183',\n",
       " 'EBN1',\n",
       " 'MER',\n",
       " 'CTSO',\n",
       " 'NANOGP3',\n",
       " 'RBP3',\n",
       " 'LSAMP-AS1',\n",
       " 'NEU1',\n",
       " 'PTPN20CP',\n",
       " 'CLIM1',\n",
       " 'NOP9',\n",
       " 'YRRM1',\n",
       " 'CLA1',\n",
       " 'LTBP2',\n",
       " 'MCS',\n",
       " 'CYP3A7',\n",
       " 'CSS3',\n",
       " 'H2BC10',\n",
       " 'EFTUD1',\n",
       " 'FAM25G',\n",
       " 'FY',\n",
       " 'ODF',\n",
       " 'CLPSMCR',\n",
       " 'P26',\n",
       " 'CT45A7',\n",
       " 'FZD3',\n",
       " 'GAGE-7',\n",
       " 'SCKL4',\n",
       " 'RNA18S5',\n",
       " 'DEFB3',\n",
       " 'RDP',\n",
       " 'ABP-280',\n",
       " 'L3',\n",
       " 'CMT4E',\n",
       " 'MMP23A',\n",
       " 'ATG8',\n",
       " 'MAST1',\n",
       " 'MS',\n",
       " 'MIR-129B',\n",
       " 'P3',\n",
       " 'RN18S1',\n",
       " 'UNG2',\n",
       " 'CK1',\n",
       " 'MRF1',\n",
       " 'SIL',\n",
       " 'GAGE-2',\n",
       " 'ES1',\n",
       " 'CNR2',\n",
       " 'FP',\n",
       " 'MZF-1',\n",
       " 'MST1',\n",
       " 'OR3A5P',\n",
       " 'TAP1',\n",
       " 'TRN2',\n",
       " 'DLK',\n",
       " 'B17',\n",
       " 'PGI',\n",
       " 'TTY11',\n",
       " 'LINC00086',\n",
       " 'CMPD2',\n",
       " 'TRB1',\n",
       " 'TCRAV3S1',\n",
       " 'CR',\n",
       " 'IGHD1B',\n",
       " 'ODCP',\n",
       " 'MPP1',\n",
       " 'PAN2',\n",
       " 'GTB',\n",
       " 'NKR',\n",
       " 'FOXD4L4',\n",
       " 'KIAA0229',\n",
       " 'HPH2',\n",
       " 'PTPA',\n",
       " 'TAX1BP2',\n",
       " 'MSF',\n",
       " 'MMAA',\n",
       " 'FCG2',\n",
       " 'CDK11-P58',\n",
       " 'STAP',\n",
       " 'UGD',\n",
       " 'RED',\n",
       " 'CTF5',\n",
       " 'CMT1',\n",
       " 'LRP2BP',\n",
       " 'CLGN',\n",
       " 'TRQ-CTG1-2',\n",
       " 'WWP4',\n",
       " 'P42',\n",
       " 'FBL7',\n",
       " 'IL14',\n",
       " 'NPIPA8',\n",
       " 'CT',\n",
       " 'DSP',\n",
       " 'CTAGE4',\n",
       " 'OFC4',\n",
       " 'TEN1',\n",
       " 'ACP1',\n",
       " 'HST16992',\n",
       " 'NRF1',\n",
       " 'UFD2',\n",
       " 'RPML32',\n",
       " 'RBP5',\n",
       " 'TRAP2',\n",
       " 'CBWD3',\n",
       " 'HRS',\n",
       " 'A3A',\n",
       " 'DLEU2',\n",
       " 'PIUS',\n",
       " 'HC6',\n",
       " 'H2B/L',\n",
       " 'DBM',\n",
       " 'AOS1',\n",
       " 'CRP1',\n",
       " 'ASC2',\n",
       " 'RCCP2',\n",
       " 'USP17',\n",
       " 'GDH',\n",
       " 'LILRA6',\n",
       " 'GPR42',\n",
       " 'PSPA',\n",
       " 'ZIP2',\n",
       " 'PPD',\n",
       " 'LINC00087',\n",
       " 'ATP6C',\n",
       " 'ZNF',\n",
       " 'UP2',\n",
       " 'TCRG',\n",
       " 'AHRR',\n",
       " 'TCRBV14S1',\n",
       " 'PSG10',\n",
       " 'SAA',\n",
       " 'MBL',\n",
       " 'PRM1',\n",
       " 'CUPID1',\n",
       " 'ZNF182',\n",
       " 'MED',\n",
       " 'PH2A/F',\n",
       " 'HCP',\n",
       " 'TOMT',\n",
       " 'RPL7P',\n",
       " 'AQP1',\n",
       " 'BTN1',\n",
       " 'HOP',\n",
       " 'C2',\n",
       " 'RIT1',\n",
       " 'DNM1DN11@',\n",
       " 'NBIA4',\n",
       " 'CNR1',\n",
       " 'MELF2',\n",
       " 'AMPK',\n",
       " 'MRP2',\n",
       " 'AMY2',\n",
       " 'ARC',\n",
       " 'DP1',\n",
       " 'CPT',\n",
       " '9G8',\n",
       " 'LRP4',\n",
       " 'SWI2',\n",
       " 'MRLC2',\n",
       " 'PROTEASE',\n",
       " 'AD2',\n",
       " 'NET5',\n",
       " 'MDK',\n",
       " 'LRH-1',\n",
       " 'GR',\n",
       " 'LPH',\n",
       " 'HAPIP',\n",
       " 'SERPINA11',\n",
       " 'RCP',\n",
       " 'P29',\n",
       " 'THAS',\n",
       " 'PTPRQ',\n",
       " 'TRAM',\n",
       " 'PAK1',\n",
       " 'SIMP',\n",
       " 'PILRB',\n",
       " 'SHAP',\n",
       " 'TPX1',\n",
       " '12-LOX',\n",
       " 'PA',\n",
       " 'P160',\n",
       " 'GAT2',\n",
       " 'PRG',\n",
       " 'GTF2IRD2',\n",
       " 'TUBB4',\n",
       " 'G10',\n",
       " 'OI6',\n",
       " 'INT4',\n",
       " 'SAP130',\n",
       " 'LCA',\n",
       " 'CT64',\n",
       " 'GCD',\n",
       " 'PRH2',\n",
       " 'POTE22',\n",
       " 'CPAD',\n",
       " 'DVL1',\n",
       " 'U4',\n",
       " 'HD7',\n",
       " 'VPS55',\n",
       " 'EPR-1',\n",
       " 'TCEB3CL',\n",
       " 'OR7E75P',\n",
       " 'SMF',\n",
       " 'EDG2',\n",
       " 'RWS',\n",
       " 'DIP',\n",
       " 'DLC1',\n",
       " 'NAC',\n",
       " 'PRSSL1',\n",
       " 'H2BFL',\n",
       " 'CARP-2',\n",
       " 'U3',\n",
       " 'RIS1',\n",
       " 'A15',\n",
       " 'PSBG-9',\n",
       " 'PL',\n",
       " 'CLL1',\n",
       " 'MED25',\n",
       " 'RMD1',\n",
       " 'CILD38',\n",
       " 'OR6-1',\n",
       " 'KAT1',\n",
       " 'NCC3',\n",
       " 'ERP1',\n",
       " 'DPPIV',\n",
       " 'HADH',\n",
       " 'DRP',\n",
       " 'DNM1DN10@',\n",
       " 'RDS',\n",
       " 'SAA1',\n",
       " 'OF',\n",
       " 'ML1',\n",
       " 'CNG4',\n",
       " 'MEGT1',\n",
       " 'MAP-1',\n",
       " 'ANG2',\n",
       " 'CX30.2',\n",
       " 'DERPC',\n",
       " 'R51H3',\n",
       " 'BTD',\n",
       " 'ATD',\n",
       " 'CGRP',\n",
       " 'UBP',\n",
       " 'NDPP1',\n",
       " 'HAP1',\n",
       " 'UBXD10',\n",
       " 'LD',\n",
       " 'DLG4',\n",
       " 'ACS2',\n",
       " 'HLF',\n",
       " 'GALNAC-T5L',\n",
       " 'ST1A3',\n",
       " 'GCL',\n",
       " 'PTPU2',\n",
       " 'GALNT4',\n",
       " 'VDR',\n",
       " 'MYM',\n",
       " 'TYR-TRNA',\n",
       " 'H2A.B.1',\n",
       " 'MTFR2P1',\n",
       " 'BDK',\n",
       " 'ARD1',\n",
       " 'PTA1',\n",
       " 'H4-16',\n",
       " 'ACRP',\n",
       " 'HK1',\n",
       " 'SDH',\n",
       " 'P7',\n",
       " 'P22',\n",
       " 'DOC2',\n",
       " 'MAP-2',\n",
       " 'ACC',\n",
       " 'AN',\n",
       " 'CYPH',\n",
       " 'EBS4',\n",
       " 'GCP2',\n",
       " 'ZNF225',\n",
       " 'ANKRD33',\n",
       " 'ANXA8',\n",
       " 'SNORD115-48',\n",
       " 'MSANTD7',\n",
       " 'MLCK',\n",
       " 'PIGF',\n",
       " 'EEG1',\n",
       " 'LOXL',\n",
       " 'SA',\n",
       " 'NOR1',\n",
       " 'GLP1',\n",
       " 'ZNF757',\n",
       " 'GPIV',\n",
       " 'SGT2',\n",
       " 'MSAP',\n",
       " 'COD1',\n",
       " 'FALDH',\n",
       " 'BCD541',\n",
       " 'MIZ',\n",
       " 'IMP4',\n",
       " 'CREB3',\n",
       " 'RGS13',\n",
       " 'MADH6',\n",
       " 'AGC1',\n",
       " 'AGMX2',\n",
       " 'Z18',\n",
       " 'SUT2',\n",
       " 'HSJ-2',\n",
       " 'RAM2',\n",
       " 'TIRAP3',\n",
       " 'ARP1',\n",
       " 'P65',\n",
       " 'LRP9',\n",
       " 'RGPD2',\n",
       " 'COMT2',\n",
       " 'GRIK2',\n",
       " 'TCRBV15S1',\n",
       " 'RNAH',\n",
       " 'FAME3',\n",
       " 'USP31',\n",
       " 'NPIPB',\n",
       " 'EDG1',\n",
       " 'NIF',\n",
       " 'TCRD',\n",
       " 'SHFM3',\n",
       " 'SIP',\n",
       " 'FADS4',\n",
       " 'GAGED2',\n",
       " 'MGR',\n",
       " 'NOTCH2NLA',\n",
       " 'NL1',\n",
       " 'SP110',\n",
       " 'LYSOPAFAT',\n",
       " 'SBP',\n",
       " 'SYT',\n",
       " 'PDA2',\n",
       " 'P68',\n",
       " 'DELTA',\n",
       " 'BDPLT1',\n",
       " 'RFC1',\n",
       " 'TRN1',\n",
       " 'PSK-1',\n",
       " 'MEL',\n",
       " 'EIF3-P110',\n",
       " 'TBC1D3G',\n",
       " 'ADA1',\n",
       " 'MRCL3',\n",
       " 'ARG',\n",
       " 'HH1',\n",
       " 'D17S1718',\n",
       " 'DIO1',\n",
       " 'PRP4',\n",
       " 'FOXD4B',\n",
       " 'HL2',\n",
       " 'CAK1',\n",
       " 'HSF2L',\n",
       " 'KAL',\n",
       " 'TRR-ACG1-2',\n",
       " 'TEM',\n",
       " 'SCYL1',\n",
       " 'NKAT',\n",
       " 'LIM1',\n",
       " 'TH2-LCR',\n",
       " 'RAY',\n",
       " 'CSP2',\n",
       " 'SCCA1',\n",
       " 'ADAM18',\n",
       " 'PPK',\n",
       " 'POTE2BETA',\n",
       " 'HGPS',\n",
       " 'THRA1',\n",
       " 'CPTI-M',\n",
       " 'GP200-MR6',\n",
       " 'WS',\n",
       " 'FBL2',\n",
       " 'ADRA1A',\n",
       " 'CAPC',\n",
       " 'RCD1',\n",
       " 'PAG',\n",
       " 'EL',\n",
       " 'DBI',\n",
       " 'SPO',\n",
       " 'OSF-2',\n",
       " 'CED',\n",
       " 'EB1',\n",
       " 'NLS1',\n",
       " 'HP-1',\n",
       " 'BRF1',\n",
       " 'RPL13',\n",
       " 'CP27',\n",
       " 'EOS',\n",
       " 'MIG2',\n",
       " 'HEL-75',\n",
       " 'OR11-22',\n",
       " 'CTHM',\n",
       " 'ODC',\n",
       " 'CEP4',\n",
       " 'U1',\n",
       " 'MIEF1-MP',\n",
       " 'SCG3',\n",
       " 'TRY3',\n",
       " 'PCA1',\n",
       " '87U6',\n",
       " 'ODF2',\n",
       " 'OCTD',\n",
       " 'SOSS-B1',\n",
       " 'EHK2',\n",
       " 'PIR-B',\n",
       " 'KCP1',\n",
       " 'AMN',\n",
       " 'MRP-L22',\n",
       " 'SHEP1',\n",
       " 'NPIPA1',\n",
       " 'GOT1B',\n",
       " 'GCD10',\n",
       " 'RIP5',\n",
       " 'SNURF',\n",
       " 'CAPH2',\n",
       " 'HCI',\n",
       " 'FKBP51',\n",
       " 'SYT14L',\n",
       " 'CD85',\n",
       " 'FAM48B1',\n",
       " 'ADR',\n",
       " 'SLC23A2',\n",
       " 'A2M',\n",
       " 'VMA4',\n",
       " 'MAK3',\n",
       " 'LGL2',\n",
       " 'H2BFA',\n",
       " 'BTF3',\n",
       " 'MGC45441',\n",
       " 'FBP2',\n",
       " 'PN-I',\n",
       " '37LRP',\n",
       " 'HGFL',\n",
       " 'MART2',\n",
       " 'C10ORF2',\n",
       " 'CPN1',\n",
       " 'ASM',\n",
       " 'ATP5A1P9',\n",
       " 'S9',\n",
       " 'CT12.1',\n",
       " 'MME',\n",
       " 'CENP-S',\n",
       " 'S100A15',\n",
       " 'CTRCT42',\n",
       " 'CYK4',\n",
       " 'BSP1',\n",
       " 'SWAP',\n",
       " 'TKT',\n",
       " 'PAI',\n",
       " 'TRAP-1',\n",
       " 'SEDLP1',\n",
       " 'NOL1',\n",
       " 'RCAD',\n",
       " 'CT45A4',\n",
       " 'TIP39',\n",
       " 'TCRAV30S1',\n",
       " 'CAM2',\n",
       " 'RHPI',\n",
       " 'GAGE8',\n",
       " 'DIA1',\n",
       " 'REGL',\n",
       " 'DUPXP11.22',\n",
       " 'PAR4',\n",
       " 'ZNF474',\n",
       " 'AIBP',\n",
       " 'C53',\n",
       " 'FPS',\n",
       " 'FGF-13',\n",
       " 'NAA38',\n",
       " 'DFNA2',\n",
       " 'SPS1',\n",
       " 'HM1',\n",
       " 'LGTN',\n",
       " 'WT2',\n",
       " 'HOX4',\n",
       " 'MTTP',\n",
       " 'SMA4',\n",
       " 'PH',\n",
       " 'BCS1',\n",
       " 'MOSP',\n",
       " 'ZFP91',\n",
       " 'CDK11-P46',\n",
       " 'SMG',\n",
       " 'APOC-IV',\n",
       " 'ADCY3',\n",
       " 'LGS',\n",
       " 'STAG3L1',\n",
       " 'SOCS4',\n",
       " 'CAF1',\n",
       " 'HCC-1',\n",
       " 'PBX2',\n",
       " 'VPH1',\n",
       " 'PP17',\n",
       " 'SCA8',\n",
       " 'DAP',\n",
       " 'HIST1H2BE',\n",
       " 'PNR',\n",
       " 'SCOX',\n",
       " 'MRPL2',\n",
       " 'SSB1',\n",
       " 'FANCD',\n",
       " 'C82',\n",
       " 'MIP2A',\n",
       " 'TCRAV16S1',\n",
       " 'NEDMEBA',\n",
       " 'FBXO31',\n",
       " 'RCN3',\n",
       " 'BST1',\n",
       " 'F379',\n",
       " 'LGALS2',\n",
       " 'EVR1',\n",
       " 'SULT1A3',\n",
       " 'RTP',\n",
       " 'GARI-L1',\n",
       " 'DEFB-6',\n",
       " 'MLT',\n",
       " 'L12',\n",
       " 'BACH1',\n",
       " 'HLS',\n",
       " 'RIP-1',\n",
       " 'IFITMD8',\n",
       " 'APS',\n",
       " 'DGS',\n",
       " 'TRP-TGG3-5',\n",
       " 'NR1',\n",
       " 'CRF',\n",
       " 'NEPPK',\n",
       " 'FAL1',\n",
       " 'AMP',\n",
       " 'HBB',\n",
       " 'ALURBP',\n",
       " 'SCAF1',\n",
       " 'PAM',\n",
       " 'IRT1',\n",
       " 'SPS',\n",
       " 'DRC3',\n",
       " 'H3-3A',\n",
       " 'LIG2',\n",
       " 'SHLD3',\n",
       " 'DD3',\n",
       " 'TRIF',\n",
       " 'ALTMIEF1',\n",
       " 'CLA20',\n",
       " 'C11ORF5',\n",
       " 'CNA1',\n",
       " 'STK7',\n",
       " 'GAGE-12B',\n",
       " 'HH',\n",
       " 'SPDYE9',\n",
       " 'RASSF5',\n",
       " 'LAS1',\n",
       " 'NEK8',\n",
       " 'TCRAV18S1',\n",
       " 'CMT2B2',\n",
       " 'RTS',\n",
       " 'FAM10A4',\n",
       " 'CD97',\n",
       " 'ERK',\n",
       " 'MCT1',\n",
       " 'TAMO',\n",
       " 'TCEAL3',\n",
       " 'SPG',\n",
       " 'ECA2',\n",
       " 'KRTAP2-1',\n",
       " 'CARD2',\n",
       " 'CLP',\n",
       " 'CCN1',\n",
       " 'S4',\n",
       " 'DJ388M5',\n",
       " 'PACT',\n",
       " 'HU-2',\n",
       " 'PFM2',\n",
       " 'POP1',\n",
       " 'LIP2',\n",
       " 'POMP',\n",
       " 'KAP2.3',\n",
       " 'APE',\n",
       " 'EIF-2B',\n",
       " 'VDAC3',\n",
       " 'A8',\n",
       " 'ARGRS',\n",
       " 'MOP',\n",
       " 'C18ORF53',\n",
       " 'HNRNPCL2',\n",
       " 'TRA',\n",
       " 'NACHRA7',\n",
       " 'NK3',\n",
       " 'MCH2',\n",
       " 'PIGX',\n",
       " 'LST3',\n",
       " 'CMM8',\n",
       " 'CG1',\n",
       " 'MU2',\n",
       " 'PAK5',\n",
       " 'MIP-2A',\n",
       " 'ARP3',\n",
       " 'H4C9',\n",
       " 'C10ORF101',\n",
       " 'SIRPB2',\n",
       " 'EFL1',\n",
       " 'NOTCH2NL',\n",
       " 'CGI-141',\n",
       " 'FEZ',\n",
       " 'CBL-3',\n",
       " 'LEURS',\n",
       " 'UGT1A1',\n",
       " 'TSBP',\n",
       " 'FADS3',\n",
       " 'FADS6',\n",
       " 'P02',\n",
       " 'MGC22679',\n",
       " 'SRGAP3',\n",
       " 'C18ORF2',\n",
       " 'NG2-6',\n",
       " 'ERF1',\n",
       " '67LR',\n",
       " 'KS',\n",
       " 'DCT1',\n",
       " 'MLC1',\n",
       " 'OPLL',\n",
       " 'HRMT1L3',\n",
       " 'CAD',\n",
       " 'HRCA1',\n",
       " 'CS1',\n",
       " 'TCRAV13S1',\n",
       " 'BOR',\n",
       " 'KLF14',\n",
       " 'SXI1',\n",
       " 'RBM',\n",
       " 'TRI-AAT5-5',\n",
       " 'PK1',\n",
       " 'SAS',\n",
       " 'FACE',\n",
       " 'NOS1',\n",
       " 'LNP',\n",
       " 'LAGE-2',\n",
       " 'EZH1',\n",
       " 'PIT1',\n",
       " 'NOC',\n",
       " 'SNF2',\n",
       " 'INPP5E',\n",
       " 'GCR2',\n",
       " 'PAAT',\n",
       " 'BDA2',\n",
       " 'TRBP',\n",
       " 'KIR2DL5B',\n",
       " 'U2AF1L4',\n",
       " 'SAA2',\n",
       " 'TRAV11',\n",
       " 'M-ABC1',\n",
       " 'A3',\n",
       " 'LRRN1',\n",
       " 'QPC',\n",
       " 'TRD-GTC2-6',\n",
       " 'SERPINB11',\n",
       " 'TRS-AGA2-2',\n",
       " 'FNTB',\n",
       " ...}"
      ]
     },
     "execution_count": 10,
     "metadata": {},
     "output_type": "execute_result"
    }
   ],
   "source": [
    "ambiguous_symbol_set"
   ]
  },
  {
   "cell_type": "code",
   "execution_count": 11,
   "metadata": {},
   "outputs": [
    {
     "name": "stdout",
     "output_type": "stream",
     "text": [
      "5172\n"
     ]
    }
   ],
   "source": [
    "ambiguous_symbol_set = set(item.strip() for item in ambiguous_symbol_set)\n",
    "\n",
    "print(len(ambiguous_symbol_set))"
   ]
  },
  {
   "cell_type": "code",
   "execution_count": 12,
   "metadata": {},
   "outputs": [],
   "source": [
    "with open(\"../output/ambiguous_symbol_set.txt\", \"w\") as file:\n",
    "    for item in ambiguous_symbol_set:\n",
    "        file.write(f\"{item.strip()}\\n\")"
   ]
  },
  {
   "cell_type": "code",
   "execution_count": 13,
   "metadata": {},
   "outputs": [
    {
     "data": {
      "text/plain": [
       "5172"
      ]
     },
     "execution_count": 13,
     "metadata": {},
     "output_type": "execute_result"
    }
   ],
   "source": [
    "with open(\"../output/ambiguous_symbol_set.txt\", \"r\") as file:\n",
    "    # read each line, strip newline characters, and convert to a set\n",
    "    ambiguous_symbol_set = set(line.strip() for line in file)\n",
    "len(ambiguous_symbol_set)"
   ]
  },
  {
   "cell_type": "code",
   "execution_count": 14,
   "metadata": {},
   "outputs": [
    {
     "data": {
      "text/plain": [
       "{'MIP-1-BETA',\n",
       " 'ZNF688',\n",
       " 'BMD',\n",
       " 'NRP2',\n",
       " 'B2',\n",
       " 'OB',\n",
       " 'SDS',\n",
       " 'ARSB',\n",
       " 'TBC1D3I',\n",
       " 'NOV',\n",
       " 'CAMIII',\n",
       " 'GABPB2',\n",
       " 'MTCP1',\n",
       " 'IGFR2',\n",
       " 'NSP',\n",
       " 'AD1',\n",
       " 'PIG6',\n",
       " 'SMAD1',\n",
       " 'FAM236D',\n",
       " 'CPA3',\n",
       " 'IDP',\n",
       " 'U82',\n",
       " 'FLJ20375',\n",
       " 'RLF',\n",
       " 'NP1',\n",
       " 'PAGE-1',\n",
       " 'LPSAT',\n",
       " 'B12',\n",
       " 'TRPC7',\n",
       " 'NS3TP1',\n",
       " 'HSFY',\n",
       " 'CDH16',\n",
       " 'TTP1',\n",
       " 'CDG1P',\n",
       " 'KRTAP5-3',\n",
       " 'UT2',\n",
       " 'NSL1',\n",
       " 'CDC14B',\n",
       " 'TRG-CCC2-2',\n",
       " 'D2',\n",
       " 'PARF',\n",
       " 'TNDM1',\n",
       " 'IGHM',\n",
       " 'VMA5',\n",
       " 'HL',\n",
       " 'ADORA2',\n",
       " 'DKFZP547P234',\n",
       " 'CED-12',\n",
       " 'OP2',\n",
       " 'ABL',\n",
       " 'UGT-1A',\n",
       " 'CKLF',\n",
       " 'TRR-ACG1-1',\n",
       " 'TMEM123',\n",
       " 'XBP1',\n",
       " 'PEX1',\n",
       " 'DDH2',\n",
       " 'NC',\n",
       " 'CMT2T',\n",
       " 'FCGR3A',\n",
       " 'HLA-DPB1',\n",
       " 'SPC3',\n",
       " 'CD205',\n",
       " 'ANG1',\n",
       " 'PN-II',\n",
       " 'FMC1',\n",
       " 'CYP-M',\n",
       " 'P80',\n",
       " 'P1',\n",
       " 'BOP',\n",
       " 'KLHL6',\n",
       " 'CHAMP',\n",
       " 'NBC2',\n",
       " 'TMP-21-I',\n",
       " 'CYP2D7BP',\n",
       " 'RNU3',\n",
       " 'LPL',\n",
       " 'DSC2',\n",
       " 'EIF3A',\n",
       " 'DM2',\n",
       " 'EBN',\n",
       " 'PTEN2',\n",
       " 'MT2',\n",
       " 'PDIP1',\n",
       " 'VCF',\n",
       " 'OR19-7',\n",
       " 'GATD6',\n",
       " 'HHL',\n",
       " 'OLF1',\n",
       " 'E1',\n",
       " 'CAP',\n",
       " 'PIP',\n",
       " 'FCRIII',\n",
       " 'CMT2D',\n",
       " 'P16',\n",
       " 'LAGE2A',\n",
       " 'ACTB',\n",
       " 'TRL-AAG2-4',\n",
       " 'GUP1',\n",
       " 'HARC',\n",
       " 'CINAP',\n",
       " 'SLC6A5',\n",
       " 'BMI1',\n",
       " 'TRN',\n",
       " 'ESA1',\n",
       " 'CDK11-P110',\n",
       " 'TBC1D3L',\n",
       " 'WASH',\n",
       " 'ARC34',\n",
       " 'MAD3',\n",
       " 'PEO',\n",
       " 'PDC',\n",
       " 'TAF2A',\n",
       " 'ART1',\n",
       " 'ATP6G',\n",
       " 'SP-A',\n",
       " 'KRTAP18-9',\n",
       " 'URP',\n",
       " 'KIAA0172',\n",
       " 'RBMY2',\n",
       " 'PRG2',\n",
       " 'HCC-4',\n",
       " 'CHMP3',\n",
       " 'ALX',\n",
       " 'H4C8',\n",
       " 'SGII',\n",
       " 'TCEB1L',\n",
       " 'BDP1',\n",
       " 'BRIGHT',\n",
       " 'LIPA',\n",
       " 'ARH2',\n",
       " 'VPP2',\n",
       " 'TBC1D3',\n",
       " 'NRXN4',\n",
       " 'MP44',\n",
       " 'TRK1',\n",
       " 'CLIC5',\n",
       " 'TF',\n",
       " 'PRG1',\n",
       " 'H2A.2',\n",
       " 'OAT6',\n",
       " 'AD3',\n",
       " 'LIG3',\n",
       " 'VIP21',\n",
       " 'PUR1',\n",
       " 'TRPM2',\n",
       " 'RAD1',\n",
       " 'CATMANS',\n",
       " 'KOP',\n",
       " 'ELOA3C',\n",
       " 'MSC',\n",
       " 'NBPF9',\n",
       " 'TCRBV3S1',\n",
       " 'SPX1',\n",
       " 'DHP',\n",
       " 'CAMB',\n",
       " 'USE1',\n",
       " 'RNF3',\n",
       " 'WD',\n",
       " 'IGHV',\n",
       " 'MPP4',\n",
       " 'ZNF183',\n",
       " 'MER',\n",
       " 'NOP9',\n",
       " 'CLA1',\n",
       " 'LTBP2',\n",
       " 'MCS',\n",
       " 'CYP3A7',\n",
       " 'EFTUD1',\n",
       " 'ODF',\n",
       " 'P26',\n",
       " 'CT45A7',\n",
       " 'SCKL4',\n",
       " 'RDP',\n",
       " 'CMT4E',\n",
       " 'MAST1',\n",
       " 'MS',\n",
       " 'MIR-129B',\n",
       " 'RN18S1',\n",
       " 'SIL',\n",
       " 'DLK',\n",
       " 'PGI',\n",
       " 'TRB1',\n",
       " 'TCRAV3S1',\n",
       " 'ODCP',\n",
       " 'MPP1',\n",
       " 'PAN2',\n",
       " 'NKR',\n",
       " 'PTPA',\n",
       " 'MSF',\n",
       " 'MMAA',\n",
       " 'CDK11-P58',\n",
       " 'STAP',\n",
       " 'UGD',\n",
       " 'RED',\n",
       " 'CTF5',\n",
       " 'CMT1',\n",
       " 'LRP2BP',\n",
       " 'P42',\n",
       " 'FBL7',\n",
       " 'DSP',\n",
       " 'TEN1',\n",
       " 'NRF1',\n",
       " 'UFD2',\n",
       " 'CBWD3',\n",
       " 'DBM',\n",
       " 'AOS1',\n",
       " 'ASC2',\n",
       " 'RCCP2',\n",
       " 'USP17',\n",
       " 'ZNF',\n",
       " 'UP2',\n",
       " 'AHRR',\n",
       " 'TCRBV14S1',\n",
       " 'PSG10',\n",
       " 'SAA',\n",
       " 'TOMT',\n",
       " 'AQP1',\n",
       " 'HOP',\n",
       " 'RIT1',\n",
       " 'DNM1DN11@',\n",
       " 'NBIA4',\n",
       " 'CNR1',\n",
       " 'MELF2',\n",
       " 'ARC',\n",
       " 'DP1',\n",
       " 'CPT',\n",
       " 'SWI2',\n",
       " 'AD2',\n",
       " 'LPH',\n",
       " 'HAPIP',\n",
       " 'RCP',\n",
       " 'P29',\n",
       " 'THAS',\n",
       " 'PTPRQ',\n",
       " 'PAK1',\n",
       " 'SIMP',\n",
       " 'PILRB',\n",
       " 'SHAP',\n",
       " 'TPX1',\n",
       " '12-LOX',\n",
       " 'P160',\n",
       " 'GTF2IRD2',\n",
       " 'OI6',\n",
       " 'INT4',\n",
       " 'SAP130',\n",
       " 'LCA',\n",
       " 'CT64',\n",
       " 'PRH2',\n",
       " 'DVL1',\n",
       " 'HD7',\n",
       " 'VPS55',\n",
       " 'OR7E75P',\n",
       " 'EDG2',\n",
       " 'DLC1',\n",
       " 'PRSSL1',\n",
       " 'H2BFL',\n",
       " 'CARP-2',\n",
       " 'RIS1',\n",
       " 'A15',\n",
       " 'CLL1',\n",
       " 'MED25',\n",
       " 'CILD38',\n",
       " 'KAT1',\n",
       " 'ERP1',\n",
       " 'HADH',\n",
       " 'DRP',\n",
       " 'DNM1DN10@',\n",
       " 'OF',\n",
       " 'CNG4',\n",
       " 'ANG2',\n",
       " 'CX30.2',\n",
       " 'DERPC',\n",
       " 'R51H3',\n",
       " 'BTD',\n",
       " 'ATD',\n",
       " 'UBP',\n",
       " 'NDPP1',\n",
       " 'HAP1',\n",
       " 'ST1A3',\n",
       " 'GCL',\n",
       " 'GALNT4',\n",
       " 'MTFR2P1',\n",
       " 'BDK',\n",
       " 'HK1',\n",
       " 'SDH',\n",
       " 'DOC2',\n",
       " 'MAP-2',\n",
       " 'CYPH',\n",
       " 'EBS4',\n",
       " 'ZNF225',\n",
       " 'ANXA8',\n",
       " 'SNORD115-48',\n",
       " 'PIGF',\n",
       " 'GLP1',\n",
       " 'FALDH',\n",
       " 'BCD541',\n",
       " 'MIZ',\n",
       " 'AGC1',\n",
       " 'AGMX2',\n",
       " 'SUT2',\n",
       " 'HSJ-2',\n",
       " 'TIRAP3',\n",
       " 'ARP1',\n",
       " 'P65',\n",
       " 'LRP9',\n",
       " 'RGPD2',\n",
       " 'GRIK2',\n",
       " 'RNAH',\n",
       " 'FAME3',\n",
       " 'NPIPB',\n",
       " 'SHFM3',\n",
       " 'SIP',\n",
       " 'GAGED2',\n",
       " 'SYT',\n",
       " 'DELTA',\n",
       " 'TRN1',\n",
       " 'MEL',\n",
       " 'EIF3-P110',\n",
       " 'TBC1D3G',\n",
       " 'MRCL3',\n",
       " 'D17S1718',\n",
       " 'PRP4',\n",
       " 'FOXD4B',\n",
       " 'HL2',\n",
       " 'KAL',\n",
       " 'TEM',\n",
       " 'SCYL1',\n",
       " 'NKAT',\n",
       " 'LIM1',\n",
       " 'TH2-LCR',\n",
       " 'RAY',\n",
       " 'CSP2',\n",
       " 'HGPS',\n",
       " 'THRA1',\n",
       " 'CPTI-M',\n",
       " 'WS',\n",
       " 'FBL2',\n",
       " 'ADRA1A',\n",
       " 'SPO',\n",
       " 'OSF-2',\n",
       " 'HP-1',\n",
       " 'BRF1',\n",
       " 'CP27',\n",
       " 'OR11-22',\n",
       " 'CTHM',\n",
       " 'TRY3',\n",
       " 'SOSS-B1',\n",
       " 'KCP1',\n",
       " 'AMN',\n",
       " 'SHEP1',\n",
       " 'NPIPA1',\n",
       " 'GCD10',\n",
       " 'RIP5',\n",
       " 'CAPH2',\n",
       " 'FKBP51',\n",
       " 'CD85',\n",
       " 'ADR',\n",
       " 'VMA4',\n",
       " 'MAK3',\n",
       " 'BTF3',\n",
       " 'HGFL',\n",
       " 'MART2',\n",
       " 'C10ORF2',\n",
       " 'CT12.1',\n",
       " 'S9',\n",
       " 'MME',\n",
       " 'CTRCT42',\n",
       " 'TKT',\n",
       " 'PAI',\n",
       " 'CT45A4',\n",
       " 'TCRAV30S1',\n",
       " 'RHPI',\n",
       " 'REGL',\n",
       " 'DUPXP11.22',\n",
       " 'PAR4',\n",
       " 'AIBP',\n",
       " 'C53',\n",
       " 'DFNA2',\n",
       " 'SPS1',\n",
       " 'HM1',\n",
       " 'LGTN',\n",
       " 'WT2',\n",
       " 'HOX4',\n",
       " 'SMA4',\n",
       " 'PH',\n",
       " 'APOC-IV',\n",
       " 'ADCY3',\n",
       " 'VPH1',\n",
       " 'PP17',\n",
       " 'SCA8',\n",
       " 'HIST1H2BE',\n",
       " 'PNR',\n",
       " 'MRPL2',\n",
       " 'MIP2A',\n",
       " 'RCN3',\n",
       " 'LGALS2',\n",
       " 'GARI-L1',\n",
       " 'MLT',\n",
       " 'L12',\n",
       " 'IFITMD8',\n",
       " 'DGS',\n",
       " 'NR1',\n",
       " 'NEPPK',\n",
       " 'FAL1',\n",
       " 'SPS',\n",
       " 'DD3',\n",
       " 'TRIF',\n",
       " 'CNA1',\n",
       " 'GAGE-12B',\n",
       " 'SPDYE9',\n",
       " 'CMT2B2',\n",
       " 'FAM10A4',\n",
       " 'CD97',\n",
       " 'ERK',\n",
       " 'TCEAL3',\n",
       " 'KRTAP2-1',\n",
       " 'CLP',\n",
       " 'CCN1',\n",
       " 'S4',\n",
       " 'HU-2',\n",
       " 'POP1',\n",
       " 'KAP2.3',\n",
       " 'EIF-2B',\n",
       " 'VDAC3',\n",
       " 'ARGRS',\n",
       " 'HNRNPCL2',\n",
       " 'MCH2',\n",
       " 'CMM8',\n",
       " 'MU2',\n",
       " 'PAK5',\n",
       " 'MIP-2A',\n",
       " 'H4C9',\n",
       " 'C10ORF101',\n",
       " 'EFL1',\n",
       " 'FEZ',\n",
       " 'UGT1A1',\n",
       " 'TSBP',\n",
       " 'NG2-6',\n",
       " 'ERF1',\n",
       " '67LR',\n",
       " 'KS',\n",
       " 'DCT1',\n",
       " 'HRMT1L3',\n",
       " 'CAD',\n",
       " 'HRCA1',\n",
       " 'CS1',\n",
       " 'TCRAV13S1',\n",
       " 'KLF14',\n",
       " 'SXI1',\n",
       " 'TRI-AAT5-5',\n",
       " 'PK1',\n",
       " 'SAS',\n",
       " 'NOS1',\n",
       " 'LNP',\n",
       " 'LAGE-2',\n",
       " 'PIT1',\n",
       " 'NOC',\n",
       " 'SNF2',\n",
       " 'M-ABC1',\n",
       " 'A3',\n",
       " 'LRRN1',\n",
       " 'QPC',\n",
       " 'TRD-GTC2-6',\n",
       " 'SERPINB11',\n",
       " 'TRS-AGA2-2',\n",
       " 'H4C16',\n",
       " 'TCRAV7S1',\n",
       " 'GR3',\n",
       " 'HRG1',\n",
       " 'AMAP1',\n",
       " 'RH',\n",
       " 'RGS2',\n",
       " 'COX4',\n",
       " 'TRR-CCG1-1',\n",
       " 'BAM',\n",
       " 'MAM-2',\n",
       " 'PLD1',\n",
       " 'TRS-AGA2-6',\n",
       " 'RAI1',\n",
       " 'BAP18',\n",
       " 'PGD2',\n",
       " 'HXBL',\n",
       " 'H3.1',\n",
       " 'GUCA1A',\n",
       " 'GT1',\n",
       " 'CSN2',\n",
       " 'CMC1',\n",
       " 'PCH3',\n",
       " 'UPP',\n",
       " 'STK1',\n",
       " 'DYT23',\n",
       " 'MENA',\n",
       " 'HRES1',\n",
       " 'FRA3B',\n",
       " 'TMSB15A',\n",
       " 'TRP-TGG3-2',\n",
       " 'FAM25B',\n",
       " 'TRI-AAT5-4',\n",
       " 'DEFB-11',\n",
       " 'BMND12',\n",
       " 'AUTS2',\n",
       " 'TRAPPC2B',\n",
       " 'COP',\n",
       " 'TRAF2',\n",
       " 'ZNF475',\n",
       " 'JBS',\n",
       " 'BHLHB9',\n",
       " 'TEB1',\n",
       " 'CXORF52',\n",
       " 'MM1',\n",
       " 'PPAT',\n",
       " 'EIF4F',\n",
       " 'EIF1AP1',\n",
       " 'J3',\n",
       " 'KIR',\n",
       " 'USP12P2',\n",
       " 'TSPY10',\n",
       " 'CACNA1I',\n",
       " 'XAGE1B',\n",
       " 'DCP1',\n",
       " 'HB-1',\n",
       " 'PAP-II',\n",
       " 'CT45-2',\n",
       " 'MP1',\n",
       " 'RF1',\n",
       " 'CEP2',\n",
       " 'PCP',\n",
       " 'HYDIN2',\n",
       " 'MTB',\n",
       " 'TPRKB',\n",
       " 'CHK',\n",
       " 'PRX1',\n",
       " 'CT1',\n",
       " 'HLA-DQB1',\n",
       " 'FHOD3',\n",
       " 'FBRNP',\n",
       " 'FOP',\n",
       " 'TRD',\n",
       " 'IL-7',\n",
       " 'HIES6',\n",
       " 'MOP3',\n",
       " 'AAT1',\n",
       " 'GLUR3',\n",
       " 'PGK2',\n",
       " 'NEURL3',\n",
       " 'CL-6',\n",
       " 'TRS-AGA2-5',\n",
       " 'EST',\n",
       " 'AH',\n",
       " 'NIRF',\n",
       " 'VINC',\n",
       " 'TRS-AGA2-1',\n",
       " 'ZNF233',\n",
       " 'TP2',\n",
       " 'P13',\n",
       " 'HCG1',\n",
       " 'HBLRR',\n",
       " 'MLM',\n",
       " 'TRF-GAA1-1',\n",
       " 'SF3B1',\n",
       " 'NT',\n",
       " 'PLEKHA8',\n",
       " 'CHS1',\n",
       " 'SSS1',\n",
       " 'PPIAL4F',\n",
       " 'TMS-1',\n",
       " 'TRC-GCA2-4',\n",
       " 'ASPS',\n",
       " 'ND1',\n",
       " 'AAAT',\n",
       " 'HPCA',\n",
       " 'CYP1',\n",
       " 'T6BP',\n",
       " 'ATX1',\n",
       " 'OR912-108',\n",
       " 'H2AB2',\n",
       " 'CARP',\n",
       " 'P120',\n",
       " 'RZF',\n",
       " 'NALD',\n",
       " 'PYPAF7',\n",
       " 'SLP1',\n",
       " 'SCYL3',\n",
       " 'MCDR2',\n",
       " 'BIG3',\n",
       " 'TRH-GTG1-5',\n",
       " 'TRG-GCC2-5',\n",
       " 'IMP5',\n",
       " 'TRE',\n",
       " 'DFNB83',\n",
       " 'TCP11X2',\n",
       " 'TIH1',\n",
       " 'RBM1',\n",
       " 'P52',\n",
       " 'CDC2',\n",
       " 'NOS',\n",
       " 'GPCR1',\n",
       " 'GJA10',\n",
       " 'TTY9',\n",
       " 'H2BFK',\n",
       " 'LRRN4',\n",
       " 'CL-11',\n",
       " 'FCRLB',\n",
       " 'ZNF581',\n",
       " 'MSK2',\n",
       " 'RGL1',\n",
       " 'PKB',\n",
       " 'TCF-4',\n",
       " 'CT5.2',\n",
       " 'LP',\n",
       " 'OTF-3',\n",
       " 'HHZ150',\n",
       " 'VWS1',\n",
       " 'ISGF-3',\n",
       " 'MICE',\n",
       " 'PUM',\n",
       " 'CK',\n",
       " 'OR4M2',\n",
       " 'HLA-HA2',\n",
       " 'PSA',\n",
       " 'SLC9A6',\n",
       " 'FLG',\n",
       " 'LIPH',\n",
       " 'C10ORF50',\n",
       " 'EMB',\n",
       " 'SIT1',\n",
       " 'GCS',\n",
       " 'AIS1',\n",
       " 'HOM-MEL-40',\n",
       " 'GPI',\n",
       " 'GLC1M',\n",
       " 'PNP',\n",
       " 'SMS',\n",
       " 'RDC-1',\n",
       " 'PREP',\n",
       " 'PPP1R6',\n",
       " 'TRK-CTT2-3',\n",
       " 'FRA16D',\n",
       " 'TRA-TGC3-1',\n",
       " 'KRTAP5-11',\n",
       " 'CSS1',\n",
       " 'CHD2',\n",
       " 'PRR20',\n",
       " 'INPP5F',\n",
       " 'NRK2',\n",
       " 'ARHGAP10',\n",
       " 'CRA',\n",
       " 'L23',\n",
       " 'GFAT',\n",
       " 'ALPI',\n",
       " 'LST-3TM12',\n",
       " 'ZNF102',\n",
       " 'ODC1L',\n",
       " 'MYH14',\n",
       " 'TRC-GCA2-1',\n",
       " 'RNU6-840P',\n",
       " 'RNU1P1',\n",
       " 'C11ORF48',\n",
       " 'NSPLII',\n",
       " 'HC3',\n",
       " 'DLG3',\n",
       " 'FAM21A',\n",
       " 'GLUR7',\n",
       " 'ZWS',\n",
       " 'MARS',\n",
       " 'ARIA',\n",
       " 'TCRAV31S1',\n",
       " 'MRX31',\n",
       " 'KRTAP5-5',\n",
       " 'MLC2B',\n",
       " 'FOLR1',\n",
       " 'TP55',\n",
       " 'RNU6-373P',\n",
       " 'TRI-AAT5-1',\n",
       " 'GLYT1',\n",
       " 'TRMT1',\n",
       " 'CT45-4',\n",
       " 'ET',\n",
       " 'ELK3',\n",
       " 'L5',\n",
       " 'POD1',\n",
       " 'TRP-TGG3-1',\n",
       " 'AZI1',\n",
       " 'TEX28P1',\n",
       " 'P110',\n",
       " 'OR912-110',\n",
       " 'TL-PST',\n",
       " 'GUCY2B',\n",
       " 'BCAM',\n",
       " 'UGT1E',\n",
       " 'MAD1',\n",
       " 'NOC4',\n",
       " 'P6',\n",
       " 'AZ1',\n",
       " 'OCT-4',\n",
       " 'TCRAV11S1',\n",
       " 'CP11',\n",
       " 'AIB1',\n",
       " 'FOXL3',\n",
       " 'CRHSP24',\n",
       " 'H2AC8',\n",
       " 'SPMD',\n",
       " 'RSC8',\n",
       " 'ARHGAP19',\n",
       " 'LST-1',\n",
       " 'PTMA',\n",
       " 'FGQTL3',\n",
       " 'THC2',\n",
       " 'CIT',\n",
       " 'GEP',\n",
       " 'CES2',\n",
       " 'TEBP',\n",
       " 'MD1',\n",
       " 'CYP2B7',\n",
       " 'GALNAC-T4',\n",
       " 'SRC1',\n",
       " 'BRIP1',\n",
       " 'CDKN2',\n",
       " 'TRNAV22',\n",
       " 'CRP3',\n",
       " 'IA4',\n",
       " 'HSP27',\n",
       " 'CT45A3',\n",
       " 'DIA',\n",
       " 'TBC1D3C',\n",
       " 'CDA1',\n",
       " 'UBC',\n",
       " 'IP',\n",
       " 'CDG2T',\n",
       " 'LAG-1',\n",
       " 'HA2',\n",
       " 'BEX2',\n",
       " 'RECQL3',\n",
       " 'OSF2',\n",
       " 'MTTK',\n",
       " 'SMUC',\n",
       " 'GGT',\n",
       " 'CCR4',\n",
       " 'RAET1L',\n",
       " 'TCS1',\n",
       " 'JP1',\n",
       " 'SAST',\n",
       " 'ARIP1',\n",
       " 'TAL',\n",
       " 'AIRP',\n",
       " 'DAP4',\n",
       " 'HN1',\n",
       " 'PAN3',\n",
       " 'COX7AL',\n",
       " 'KLHL35',\n",
       " 'NSE1',\n",
       " 'RPL23',\n",
       " 'GST2',\n",
       " 'SMIM10L3',\n",
       " 'PPAN',\n",
       " 'MRPS35',\n",
       " 'PIMT',\n",
       " 'CAV',\n",
       " 'MTR1',\n",
       " 'PCDH2',\n",
       " 'V1S5P',\n",
       " 'CT45A8',\n",
       " 'TR',\n",
       " 'SCP1',\n",
       " 'SHP1',\n",
       " 'LACS2',\n",
       " 'SMAP-1',\n",
       " 'MIA2',\n",
       " 'TRK-TTT3-4',\n",
       " 'GP39',\n",
       " 'PSEUDO-ICE',\n",
       " 'HB2',\n",
       " 'ZNF422',\n",
       " 'F2',\n",
       " 'RNU1-6',\n",
       " 'NBL1',\n",
       " 'KOX5',\n",
       " 'GCE',\n",
       " 'CEH',\n",
       " 'H3C11',\n",
       " 'CBLB',\n",
       " 'PGP',\n",
       " 'CPP',\n",
       " 'NPIPA7',\n",
       " 'CMPD1',\n",
       " 'MVCD7',\n",
       " 'STN1',\n",
       " 'AM',\n",
       " 'DOR',\n",
       " 'MES',\n",
       " 'TRX-CAT1-7',\n",
       " 'AP3AASE',\n",
       " 'HLA-DR1B',\n",
       " 'M33',\n",
       " 'RAC3',\n",
       " 'RASSF3',\n",
       " '2F1',\n",
       " 'DJ222E13.1',\n",
       " 'CHIF',\n",
       " 'DIP1',\n",
       " 'SCAR3',\n",
       " 'GLUC',\n",
       " 'NUDT10',\n",
       " 'OR21-1',\n",
       " 'RPL36A',\n",
       " 'TXN',\n",
       " 'P55',\n",
       " 'TRIM49D2P',\n",
       " 'RGR',\n",
       " 'PR1/PR2',\n",
       " 'CRL2',\n",
       " 'ACSM2',\n",
       " 'CAP3',\n",
       " 'SLX9',\n",
       " 'P2Y11',\n",
       " 'KAP1',\n",
       " 'HSD3B',\n",
       " 'HYPK',\n",
       " 'SL1',\n",
       " 'CMS1A',\n",
       " 'LOAS',\n",
       " 'SEP',\n",
       " 'OA3',\n",
       " 'NA88A',\n",
       " 'CYP2B',\n",
       " 'OR11-104',\n",
       " 'TRNAN-GUU',\n",
       " 'TCF6L3',\n",
       " 'SM25H2',\n",
       " 'RCA1',\n",
       " 'PAB1',\n",
       " 'NCL',\n",
       " 'GAGE7B',\n",
       " 'RAX',\n",
       " 'S11',\n",
       " 'H4C3',\n",
       " 'FCHL2',\n",
       " 'HCG18',\n",
       " 'TIM1',\n",
       " '5PTASE',\n",
       " 'LINC00516',\n",
       " 'OR17-16',\n",
       " 'OR1D4',\n",
       " 'SKIP1',\n",
       " 'P15',\n",
       " 'TCRAV4S1',\n",
       " 'L30',\n",
       " 'CERS1',\n",
       " 'CDS1',\n",
       " 'CSN3',\n",
       " 'CLM',\n",
       " 'KAP1.6',\n",
       " 'GEM',\n",
       " 'AAA1',\n",
       " 'M130',\n",
       " 'GX',\n",
       " 'UGT1-03',\n",
       " 'HLAL',\n",
       " 'PE',\n",
       " 'ZNF408',\n",
       " 'HGL',\n",
       " 'SPTBN1-AS2',\n",
       " 'PAC1',\n",
       " 'MRT4',\n",
       " 'BCAP',\n",
       " 'FAN1',\n",
       " 'MACS',\n",
       " 'PGDH',\n",
       " 'GEFSP7',\n",
       " 'RDC1',\n",
       " 'ZRC1',\n",
       " 'KSP37',\n",
       " 'NAT2',\n",
       " 'CCK',\n",
       " 'DEFB-4',\n",
       " 'UBCH8',\n",
       " 'SIII',\n",
       " 'SCP-2',\n",
       " 'D3',\n",
       " 'CMK',\n",
       " 'GPR136',\n",
       " 'SLURP2',\n",
       " 'RS1',\n",
       " 'PAFAH',\n",
       " 'R1',\n",
       " 'TPS2',\n",
       " 'C2TA',\n",
       " 'PIGU',\n",
       " 'FXYD6',\n",
       " 'TRP1',\n",
       " 'MINERVA',\n",
       " 'STZ',\n",
       " 'SPA1',\n",
       " 'SAN',\n",
       " 'BG',\n",
       " 'REG-III',\n",
       " 'DHX40P1',\n",
       " 'AGPAT8',\n",
       " 'SRPSMCR',\n",
       " 'LBP',\n",
       " 'FAE',\n",
       " 'AUTL1',\n",
       " 'PSF3',\n",
       " 'HBD3',\n",
       " 'PROTEINASE',\n",
       " 'CHC',\n",
       " 'IHG1',\n",
       " 'DJ760C5.1',\n",
       " 'NAAGS',\n",
       " 'STY',\n",
       " 'CTPP5',\n",
       " 'ZBP1',\n",
       " 'P20',\n",
       " 'DEFB108B',\n",
       " 'TRAMP',\n",
       " 'TRE-TTC1-2',\n",
       " 'SAP1',\n",
       " 'GPR89',\n",
       " 'BRF2',\n",
       " 'NKIR',\n",
       " 'TMP21',\n",
       " 'DGCR6',\n",
       " 'DHFRP2',\n",
       " 'NAP1',\n",
       " 'TRNAG-CCC',\n",
       " 'SCAR1',\n",
       " 'GRP',\n",
       " 'MRAP',\n",
       " 'MRP-L18',\n",
       " 'PTPRO',\n",
       " 'TE2',\n",
       " 'NEM1',\n",
       " 'H3F3AP1',\n",
       " 'ZNF576',\n",
       " 'EPO',\n",
       " 'HEP',\n",
       " 'MCPH4',\n",
       " 'RNA28S4',\n",
       " 'TP53TG3C',\n",
       " 'POB1',\n",
       " 'PK3',\n",
       " 'PGS2',\n",
       " 'DRP-2',\n",
       " 'SAE2',\n",
       " 'FRA11B',\n",
       " 'SELP',\n",
       " 'CFD1',\n",
       " 'RNA5-8S4',\n",
       " 'CDH7',\n",
       " 'LDB1',\n",
       " 'ASF',\n",
       " 'POLH',\n",
       " 'FOXO3B',\n",
       " 'P41',\n",
       " 'ST7',\n",
       " 'ME2',\n",
       " 'CX59',\n",
       " 'HIP',\n",
       " 'TRK',\n",
       " 'BRCC3',\n",
       " 'DADR',\n",
       " 'SCGB1C1',\n",
       " 'C6ORF68',\n",
       " 'SYT12',\n",
       " 'CORO7',\n",
       " 'TSARG1',\n",
       " 'ASB3',\n",
       " 'T6',\n",
       " 'U7',\n",
       " 'NOTCH2NLR',\n",
       " 'M1',\n",
       " 'P84',\n",
       " 'PRR20B',\n",
       " 'NATD',\n",
       " 'CHE1',\n",
       " 'MSP',\n",
       " 'OAT1',\n",
       " 'ME1',\n",
       " 'NAT6',\n",
       " 'AMY1',\n",
       " 'AIR',\n",
       " 'EL32',\n",
       " 'DRP1',\n",
       " 'ACTBP2',\n",
       " 'DRP3',\n",
       " 'GLP',\n",
       " 'H2-ALPHA',\n",
       " 'UDPGT 1-1',\n",
       " 'TADA1',\n",
       " 'HHS',\n",
       " 'EXOC1',\n",
       " 'ARG1',\n",
       " 'MONA',\n",
       " 'TAR-5',\n",
       " 'PGII',\n",
       " 'CBG',\n",
       " 'NPR3',\n",
       " 'TUBB2',\n",
       " 'KID',\n",
       " ...}"
      ]
     },
     "execution_count": 14,
     "metadata": {},
     "output_type": "execute_result"
    }
   ],
   "source": [
    "ambiguous_symbol_set"
   ]
  },
  {
   "cell_type": "markdown",
   "metadata": {},
   "source": [
    "### <a id='toc1_1_2_'></a>[Primary exploration of DGIdb gene content using collisions](#toc0_)"
   ]
  },
  {
   "cell_type": "markdown",
   "metadata": {},
   "source": [
    "#### <a id='toc1_1_2_1_'></a>[Load gene claim data from DGIdb](#toc0_)"
   ]
  },
  {
   "cell_type": "code",
   "execution_count": 15,
   "metadata": {},
   "outputs": [
    {
     "data": {
      "text/html": [
       "<div>\n",
       "<style scoped>\n",
       "    .dataframe tbody tr th:only-of-type {\n",
       "        vertical-align: middle;\n",
       "    }\n",
       "\n",
       "    .dataframe tbody tr th {\n",
       "        vertical-align: top;\n",
       "    }\n",
       "\n",
       "    .dataframe thead th {\n",
       "        text-align: right;\n",
       "    }\n",
       "</style>\n",
       "<table border=\"1\" class=\"dataframe\">\n",
       "  <thead>\n",
       "    <tr style=\"text-align: right;\">\n",
       "      <th></th>\n",
       "      <th>gene_claim_name</th>\n",
       "      <th>nomenclature</th>\n",
       "      <th>concept_id</th>\n",
       "      <th>gene_name</th>\n",
       "      <th>source_db_name</th>\n",
       "      <th>source_db_version</th>\n",
       "    </tr>\n",
       "  </thead>\n",
       "  <tbody>\n",
       "    <tr>\n",
       "      <th>0</th>\n",
       "      <td>NGFIBA</td>\n",
       "      <td>NCBI Gene Name</td>\n",
       "      <td>NaN</td>\n",
       "      <td>NaN</td>\n",
       "      <td>BaderLab</td>\n",
       "      <td>Feb-14</td>\n",
       "    </tr>\n",
       "    <tr>\n",
       "      <th>1</th>\n",
       "      <td>NGFIBB</td>\n",
       "      <td>NCBI Gene Name</td>\n",
       "      <td>NaN</td>\n",
       "      <td>NaN</td>\n",
       "      <td>BaderLab</td>\n",
       "      <td>Feb-14</td>\n",
       "    </tr>\n",
       "    <tr>\n",
       "      <th>2</th>\n",
       "      <td>DAX</td>\n",
       "      <td>NCBI Gene Name</td>\n",
       "      <td>NaN</td>\n",
       "      <td>NaN</td>\n",
       "      <td>BaderLab</td>\n",
       "      <td>Feb-14</td>\n",
       "    </tr>\n",
       "    <tr>\n",
       "      <th>3</th>\n",
       "      <td>REV-ERBA</td>\n",
       "      <td>NCBI Gene Name</td>\n",
       "      <td>NaN</td>\n",
       "      <td>NaN</td>\n",
       "      <td>BaderLab</td>\n",
       "      <td>Feb-14</td>\n",
       "    </tr>\n",
       "    <tr>\n",
       "      <th>4</th>\n",
       "      <td>COUP2</td>\n",
       "      <td>NCBI Gene Name</td>\n",
       "      <td>NaN</td>\n",
       "      <td>NaN</td>\n",
       "      <td>BaderLab</td>\n",
       "      <td>Feb-14</td>\n",
       "    </tr>\n",
       "    <tr>\n",
       "      <th>...</th>\n",
       "      <td>...</td>\n",
       "      <td>...</td>\n",
       "      <td>...</td>\n",
       "      <td>...</td>\n",
       "      <td>...</td>\n",
       "      <td>...</td>\n",
       "    </tr>\n",
       "    <tr>\n",
       "      <th>80229</th>\n",
       "      <td>KIT</td>\n",
       "      <td>Gene Symbol</td>\n",
       "      <td>hgnc:6342</td>\n",
       "      <td>KIT</td>\n",
       "      <td>Oncomine</td>\n",
       "      <td>v3</td>\n",
       "    </tr>\n",
       "    <tr>\n",
       "      <th>80230</th>\n",
       "      <td>HES1</td>\n",
       "      <td>Gene Name</td>\n",
       "      <td>hgnc:5192</td>\n",
       "      <td>HES1</td>\n",
       "      <td>NCI</td>\n",
       "      <td>14-Sep-17</td>\n",
       "    </tr>\n",
       "    <tr>\n",
       "      <th>80231</th>\n",
       "      <td>IRF1</td>\n",
       "      <td>Gene Symbol</td>\n",
       "      <td>hgnc:6116</td>\n",
       "      <td>IRF1</td>\n",
       "      <td>Tempus</td>\n",
       "      <td>11-Nov-18</td>\n",
       "    </tr>\n",
       "    <tr>\n",
       "      <th>80232</th>\n",
       "      <td>SHFM1</td>\n",
       "      <td>Gene Name</td>\n",
       "      <td>hgnc:10845</td>\n",
       "      <td>SEM1</td>\n",
       "      <td>DTC</td>\n",
       "      <td>9/2/20</td>\n",
       "    </tr>\n",
       "    <tr>\n",
       "      <th>80233</th>\n",
       "      <td>NEUROD1</td>\n",
       "      <td>Gene Name</td>\n",
       "      <td>hgnc:7762</td>\n",
       "      <td>NEUROD1</td>\n",
       "      <td>NCI</td>\n",
       "      <td>14-Sep-17</td>\n",
       "    </tr>\n",
       "  </tbody>\n",
       "</table>\n",
       "<p>80234 rows × 6 columns</p>\n",
       "</div>"
      ],
      "text/plain": [
       "      gene_claim_name    nomenclature  concept_id gene_name source_db_name  \\\n",
       "0              NGFIBA  NCBI Gene Name         NaN       NaN       BaderLab   \n",
       "1              NGFIBB  NCBI Gene Name         NaN       NaN       BaderLab   \n",
       "2                 DAX  NCBI Gene Name         NaN       NaN       BaderLab   \n",
       "3            REV-ERBA  NCBI Gene Name         NaN       NaN       BaderLab   \n",
       "4               COUP2  NCBI Gene Name         NaN       NaN       BaderLab   \n",
       "...               ...             ...         ...       ...            ...   \n",
       "80229             KIT     Gene Symbol   hgnc:6342       KIT       Oncomine   \n",
       "80230            HES1       Gene Name   hgnc:5192      HES1            NCI   \n",
       "80231            IRF1     Gene Symbol   hgnc:6116      IRF1         Tempus   \n",
       "80232           SHFM1       Gene Name  hgnc:10845      SEM1            DTC   \n",
       "80233         NEUROD1       Gene Name   hgnc:7762   NEUROD1            NCI   \n",
       "\n",
       "      source_db_version  \n",
       "0                Feb-14  \n",
       "1                Feb-14  \n",
       "2                Feb-14  \n",
       "3                Feb-14  \n",
       "4                Feb-14  \n",
       "...                 ...  \n",
       "80229                v3  \n",
       "80230         14-Sep-17  \n",
       "80231         11-Nov-18  \n",
       "80232            9/2/20  \n",
       "80233         14-Sep-17  \n",
       "\n",
       "[80234 rows x 6 columns]"
      ]
     },
     "execution_count": 15,
     "metadata": {},
     "output_type": "execute_result"
    }
   ],
   "source": [
    "dgidb_gene_df = pd.read_csv(\n",
    "    \"../input/dgidb_genes_JUNE.tsv\", sep=\"\\t\", na_values=[\"\", \"NULL\"], keep_default_na=False\n",
    ")\n",
    "dgidb_gene_df"
   ]
  },
  {
   "cell_type": "code",
   "execution_count": 16,
   "metadata": {},
   "outputs": [],
   "source": [
    "num_total_claims = len(dgidb_gene_df)"
   ]
  },
  {
   "cell_type": "code",
   "execution_count": 17,
   "metadata": {},
   "outputs": [
    {
     "data": {
      "text/html": [
       "<div>\n",
       "<style scoped>\n",
       "    .dataframe tbody tr th:only-of-type {\n",
       "        vertical-align: middle;\n",
       "    }\n",
       "\n",
       "    .dataframe tbody tr th {\n",
       "        vertical-align: top;\n",
       "    }\n",
       "\n",
       "    .dataframe thead th {\n",
       "        text-align: right;\n",
       "    }\n",
       "</style>\n",
       "<table border=\"1\" class=\"dataframe\">\n",
       "  <thead>\n",
       "    <tr style=\"text-align: right;\">\n",
       "      <th></th>\n",
       "      <th>gene_claim_name</th>\n",
       "      <th>nomenclature</th>\n",
       "      <th>concept_id</th>\n",
       "      <th>gene_name</th>\n",
       "      <th>source_db_name</th>\n",
       "      <th>source_db_version</th>\n",
       "    </tr>\n",
       "  </thead>\n",
       "  <tbody>\n",
       "    <tr>\n",
       "      <th>30772</th>\n",
       "      <td>HES1</td>\n",
       "      <td>Gene Symbol</td>\n",
       "      <td>hgnc:5192</td>\n",
       "      <td>HES1</td>\n",
       "      <td>Pharos</td>\n",
       "      <td>10-Apr-24</td>\n",
       "    </tr>\n",
       "    <tr>\n",
       "      <th>76844</th>\n",
       "      <td>HES1</td>\n",
       "      <td>Gene Symbol</td>\n",
       "      <td>hgnc:5192</td>\n",
       "      <td>HES1</td>\n",
       "      <td>HGNC</td>\n",
       "      <td>20240408</td>\n",
       "    </tr>\n",
       "    <tr>\n",
       "      <th>76845</th>\n",
       "      <td>HES1</td>\n",
       "      <td>Gene Symbol</td>\n",
       "      <td>hgnc:5192</td>\n",
       "      <td>HES1</td>\n",
       "      <td>NCBI</td>\n",
       "      <td>20240410</td>\n",
       "    </tr>\n",
       "    <tr>\n",
       "      <th>76846</th>\n",
       "      <td>HES1</td>\n",
       "      <td>Gene Symbol</td>\n",
       "      <td>hgnc:5192</td>\n",
       "      <td>HES1</td>\n",
       "      <td>Ensembl</td>\n",
       "      <td>111</td>\n",
       "    </tr>\n",
       "    <tr>\n",
       "      <th>80230</th>\n",
       "      <td>HES1</td>\n",
       "      <td>Gene Name</td>\n",
       "      <td>hgnc:5192</td>\n",
       "      <td>HES1</td>\n",
       "      <td>NCI</td>\n",
       "      <td>14-Sep-17</td>\n",
       "    </tr>\n",
       "  </tbody>\n",
       "</table>\n",
       "</div>"
      ],
      "text/plain": [
       "      gene_claim_name nomenclature concept_id gene_name source_db_name  \\\n",
       "30772            HES1  Gene Symbol  hgnc:5192      HES1         Pharos   \n",
       "76844            HES1  Gene Symbol  hgnc:5192      HES1           HGNC   \n",
       "76845            HES1  Gene Symbol  hgnc:5192      HES1           NCBI   \n",
       "76846            HES1  Gene Symbol  hgnc:5192      HES1        Ensembl   \n",
       "80230            HES1    Gene Name  hgnc:5192      HES1            NCI   \n",
       "\n",
       "      source_db_version  \n",
       "30772         10-Apr-24  \n",
       "76844          20240408  \n",
       "76845          20240410  \n",
       "76846               111  \n",
       "80230         14-Sep-17  "
      ]
     },
     "execution_count": 17,
     "metadata": {},
     "output_type": "execute_result"
    }
   ],
   "source": [
    "dgidb_gene_df.loc[dgidb_gene_df[\"gene_claim_name\"] == \"HES1\"]"
   ]
  },
  {
   "cell_type": "markdown",
   "metadata": {},
   "source": [
    "#### <a id='toc1_1_2_2_'></a>[How many claims are placed in a gene group with a different label?](#toc0_)"
   ]
  },
  {
   "cell_type": "code",
   "execution_count": 18,
   "metadata": {},
   "outputs": [
    {
     "data": {
      "text/html": [
       "<div>\n",
       "<style scoped>\n",
       "    .dataframe tbody tr th:only-of-type {\n",
       "        vertical-align: middle;\n",
       "    }\n",
       "\n",
       "    .dataframe tbody tr th {\n",
       "        vertical-align: top;\n",
       "    }\n",
       "\n",
       "    .dataframe thead th {\n",
       "        text-align: right;\n",
       "    }\n",
       "</style>\n",
       "<table border=\"1\" class=\"dataframe\">\n",
       "  <thead>\n",
       "    <tr style=\"text-align: right;\">\n",
       "      <th></th>\n",
       "      <th>gene_claim_name</th>\n",
       "      <th>nomenclature</th>\n",
       "      <th>concept_id</th>\n",
       "      <th>gene_name</th>\n",
       "      <th>source_db_name</th>\n",
       "      <th>source_db_version</th>\n",
       "    </tr>\n",
       "  </thead>\n",
       "  <tbody>\n",
       "    <tr>\n",
       "      <th>0</th>\n",
       "      <td>NGFIBA</td>\n",
       "      <td>NCBI Gene Name</td>\n",
       "      <td>NaN</td>\n",
       "      <td>NaN</td>\n",
       "      <td>BaderLab</td>\n",
       "      <td>Feb-14</td>\n",
       "    </tr>\n",
       "    <tr>\n",
       "      <th>1</th>\n",
       "      <td>NGFIBB</td>\n",
       "      <td>NCBI Gene Name</td>\n",
       "      <td>NaN</td>\n",
       "      <td>NaN</td>\n",
       "      <td>BaderLab</td>\n",
       "      <td>Feb-14</td>\n",
       "    </tr>\n",
       "    <tr>\n",
       "      <th>2</th>\n",
       "      <td>DAX</td>\n",
       "      <td>NCBI Gene Name</td>\n",
       "      <td>NaN</td>\n",
       "      <td>NaN</td>\n",
       "      <td>BaderLab</td>\n",
       "      <td>Feb-14</td>\n",
       "    </tr>\n",
       "    <tr>\n",
       "      <th>3</th>\n",
       "      <td>REV-ERBA</td>\n",
       "      <td>NCBI Gene Name</td>\n",
       "      <td>NaN</td>\n",
       "      <td>NaN</td>\n",
       "      <td>BaderLab</td>\n",
       "      <td>Feb-14</td>\n",
       "    </tr>\n",
       "    <tr>\n",
       "      <th>4</th>\n",
       "      <td>COUP2</td>\n",
       "      <td>NCBI Gene Name</td>\n",
       "      <td>NaN</td>\n",
       "      <td>NaN</td>\n",
       "      <td>BaderLab</td>\n",
       "      <td>Feb-14</td>\n",
       "    </tr>\n",
       "    <tr>\n",
       "      <th>...</th>\n",
       "      <td>...</td>\n",
       "      <td>...</td>\n",
       "      <td>...</td>\n",
       "      <td>...</td>\n",
       "      <td>...</td>\n",
       "      <td>...</td>\n",
       "    </tr>\n",
       "    <tr>\n",
       "      <th>79999</th>\n",
       "      <td>SEPT5</td>\n",
       "      <td>Gene Symbol</td>\n",
       "      <td>hgnc:9164</td>\n",
       "      <td>SEPTIN5</td>\n",
       "      <td>FoundationOneGenes</td>\n",
       "      <td>9/3/20</td>\n",
       "    </tr>\n",
       "    <tr>\n",
       "      <th>80014</th>\n",
       "      <td>ENSEMBL:ENSG00000185821</td>\n",
       "      <td>Ensembl Gene ID</td>\n",
       "      <td>hgnc:31305</td>\n",
       "      <td>OR6C76</td>\n",
       "      <td>RussLampel</td>\n",
       "      <td>26-Jul-11</td>\n",
       "    </tr>\n",
       "    <tr>\n",
       "      <th>80053</th>\n",
       "      <td>SEPT5</td>\n",
       "      <td>Gene Symbol</td>\n",
       "      <td>hgnc:9164</td>\n",
       "      <td>SEPTIN5</td>\n",
       "      <td>CarisMolecularIntelligence</td>\n",
       "      <td>9/4/20</td>\n",
       "    </tr>\n",
       "    <tr>\n",
       "      <th>80166</th>\n",
       "      <td>SEPT6</td>\n",
       "      <td>Gene Symbol</td>\n",
       "      <td>hgnc:15848</td>\n",
       "      <td>SEPTIN6</td>\n",
       "      <td>CarisMolecularIntelligence</td>\n",
       "      <td>9/4/20</td>\n",
       "    </tr>\n",
       "    <tr>\n",
       "      <th>80232</th>\n",
       "      <td>SHFM1</td>\n",
       "      <td>Gene Name</td>\n",
       "      <td>hgnc:10845</td>\n",
       "      <td>SEM1</td>\n",
       "      <td>DTC</td>\n",
       "      <td>9/2/20</td>\n",
       "    </tr>\n",
       "  </tbody>\n",
       "</table>\n",
       "<p>16052 rows × 6 columns</p>\n",
       "</div>"
      ],
      "text/plain": [
       "               gene_claim_name     nomenclature  concept_id gene_name  \\\n",
       "0                       NGFIBA   NCBI Gene Name         NaN       NaN   \n",
       "1                       NGFIBB   NCBI Gene Name         NaN       NaN   \n",
       "2                          DAX   NCBI Gene Name         NaN       NaN   \n",
       "3                     REV-ERBA   NCBI Gene Name         NaN       NaN   \n",
       "4                        COUP2   NCBI Gene Name         NaN       NaN   \n",
       "...                        ...              ...         ...       ...   \n",
       "79999                    SEPT5      Gene Symbol   hgnc:9164   SEPTIN5   \n",
       "80014  ENSEMBL:ENSG00000185821  Ensembl Gene ID  hgnc:31305    OR6C76   \n",
       "80053                    SEPT5      Gene Symbol   hgnc:9164   SEPTIN5   \n",
       "80166                    SEPT6      Gene Symbol  hgnc:15848   SEPTIN6   \n",
       "80232                    SHFM1        Gene Name  hgnc:10845      SEM1   \n",
       "\n",
       "                   source_db_name source_db_version  \n",
       "0                        BaderLab            Feb-14  \n",
       "1                        BaderLab            Feb-14  \n",
       "2                        BaderLab            Feb-14  \n",
       "3                        BaderLab            Feb-14  \n",
       "4                        BaderLab            Feb-14  \n",
       "...                           ...               ...  \n",
       "79999          FoundationOneGenes            9/3/20  \n",
       "80014                  RussLampel         26-Jul-11  \n",
       "80053  CarisMolecularIntelligence            9/4/20  \n",
       "80166  CarisMolecularIntelligence            9/4/20  \n",
       "80232                         DTC            9/2/20  \n",
       "\n",
       "[16052 rows x 6 columns]"
      ]
     },
     "execution_count": 18,
     "metadata": {},
     "output_type": "execute_result"
    }
   ],
   "source": [
    "dgidb_gene_df.query(\"gene_name != gene_claim_name\")"
   ]
  },
  {
   "cell_type": "markdown",
   "metadata": {},
   "source": [
    "#### <a id='toc1_1_2_3_'></a>[How many claims are not normalized?](#toc0_)"
   ]
  },
  {
   "cell_type": "markdown",
   "metadata": {},
   "source": [
    "claims without a symbol/name/identifier\n",
    " (there shouldn't be any hooray)"
   ]
  },
  {
   "cell_type": "code",
   "execution_count": 19,
   "metadata": {},
   "outputs": [
    {
     "data": {
      "text/html": [
       "<div>\n",
       "<style scoped>\n",
       "    .dataframe tbody tr th:only-of-type {\n",
       "        vertical-align: middle;\n",
       "    }\n",
       "\n",
       "    .dataframe tbody tr th {\n",
       "        vertical-align: top;\n",
       "    }\n",
       "\n",
       "    .dataframe thead th {\n",
       "        text-align: right;\n",
       "    }\n",
       "</style>\n",
       "<table border=\"1\" class=\"dataframe\">\n",
       "  <thead>\n",
       "    <tr style=\"text-align: right;\">\n",
       "      <th></th>\n",
       "      <th>gene_claim_name</th>\n",
       "      <th>nomenclature</th>\n",
       "      <th>concept_id</th>\n",
       "      <th>gene_name</th>\n",
       "      <th>source_db_name</th>\n",
       "      <th>source_db_version</th>\n",
       "    </tr>\n",
       "  </thead>\n",
       "  <tbody>\n",
       "  </tbody>\n",
       "</table>\n",
       "</div>"
      ],
      "text/plain": [
       "Empty DataFrame\n",
       "Columns: [gene_claim_name, nomenclature, concept_id, gene_name, source_db_name, source_db_version]\n",
       "Index: []"
      ]
     },
     "execution_count": 19,
     "metadata": {},
     "output_type": "execute_result"
    }
   ],
   "source": [
    "no_claim_symbols_df = dgidb_gene_df[dgidb_gene_df[\"gene_claim_name\"].isnull()]\n",
    "no_claim_symbols_df"
   ]
  },
  {
   "cell_type": "code",
   "execution_count": 20,
   "metadata": {},
   "outputs": [
    {
     "data": {
      "text/plain": [
       "2144"
      ]
     },
     "execution_count": 20,
     "metadata": {},
     "output_type": "execute_result"
    }
   ],
   "source": [
    "no_name_symbols_df = dgidb_gene_df[dgidb_gene_df[\"gene_name\"].isnull()]\n",
    "num_not_normalized_claims = len(no_name_symbols_df)\n",
    "num_not_normalized_claims"
   ]
  },
  {
   "cell_type": "code",
   "execution_count": 21,
   "metadata": {},
   "outputs": [],
   "source": [
    "num_normalized_claims = num_total_claims - num_not_normalized_claims"
   ]
  },
  {
   "cell_type": "markdown",
   "metadata": {},
   "source": [
    "#### <a id='toc1_1_2_4_'></a>[Create set of gene groups (gene_name) and gene claims (gene_claim_name)](#toc0_)"
   ]
  },
  {
   "cell_type": "code",
   "execution_count": 22,
   "metadata": {},
   "outputs": [
    {
     "data": {
      "text/plain": [
       "12001"
      ]
     },
     "execution_count": 22,
     "metadata": {},
     "output_type": "execute_result"
    }
   ],
   "source": [
    "dgidb_name_set = set(dgidb_gene_df[\"gene_name\"])\n",
    "len(dgidb_name_set)"
   ]
  },
  {
   "cell_type": "code",
   "execution_count": 23,
   "metadata": {},
   "outputs": [
    {
     "data": {
      "text/plain": [
       "26739"
      ]
     },
     "execution_count": 23,
     "metadata": {},
     "output_type": "execute_result"
    }
   ],
   "source": [
    "dgidb_gene_claim_name_set = set(dgidb_gene_df[\"gene_claim_name\"])\n",
    "len(dgidb_gene_claim_name_set)"
   ]
  },
  {
   "cell_type": "markdown",
   "metadata": {},
   "source": [
    "#### <a id='toc1_1_2_5_'></a>[Load HGNC, Ensembl (ENSG), and NCBI gene and alias sets](#toc0_)"
   ]
  },
  {
   "cell_type": "markdown",
   "metadata": {},
   "source": [
    "Input: mini_hgnc_df, mini_ensg_df, mini_ncbi_df (total_alias_gene_intersections.ipynb)"
   ]
  },
  {
   "cell_type": "markdown",
   "metadata": {},
   "source": [
    "Output: x_gene_symbol_set, x_alias_symbol_set where x is ncbi, ensg or ncbi"
   ]
  },
  {
   "cell_type": "code",
   "execution_count": 24,
   "metadata": {},
   "outputs": [],
   "source": [
    "mini_hgnc_df = pd.read_csv(\n",
    "    \"../output/mini_hgnc_df.csv\", na_values=[\"\", \"NULL\"], keep_default_na=False\n",
    ")"
   ]
  },
  {
   "cell_type": "code",
   "execution_count": 25,
   "metadata": {},
   "outputs": [],
   "source": [
    "mini_ensg_df = pd.read_csv(\n",
    "    \"../output/mini_ensg_df.csv\", na_values=[\"\", \"NULL\"], keep_default_na=False\n",
    ")"
   ]
  },
  {
   "cell_type": "code",
   "execution_count": 26,
   "metadata": {},
   "outputs": [],
   "source": [
    "mini_ncbi_df = pd.read_csv(\n",
    "    \"../output/mini_ncbi_df.csv\", na_values=[\"\", \"NULL\"], keep_default_na=False\n",
    ")"
   ]
  },
  {
   "cell_type": "code",
   "execution_count": 27,
   "metadata": {},
   "outputs": [
    {
     "data": {
      "text/plain": [
       "45646"
      ]
     },
     "execution_count": 27,
     "metadata": {},
     "output_type": "execute_result"
    }
   ],
   "source": [
    "hgnc_gene_symbol_set = set(mini_hgnc_df[\"gene_symbol\"])\n",
    "len(hgnc_gene_symbol_set)"
   ]
  },
  {
   "cell_type": "code",
   "execution_count": 28,
   "metadata": {},
   "outputs": [
    {
     "data": {
      "text/plain": [
       "41068"
      ]
     },
     "execution_count": 28,
     "metadata": {},
     "output_type": "execute_result"
    }
   ],
   "source": [
    "ensg_gene_symbol_set = set(mini_ensg_df[\"gene_symbol\"])\n",
    "len(ensg_gene_symbol_set)"
   ]
  },
  {
   "cell_type": "code",
   "execution_count": 29,
   "metadata": {},
   "outputs": [
    {
     "data": {
      "text/plain": [
       "45390"
      ]
     },
     "execution_count": 29,
     "metadata": {},
     "output_type": "execute_result"
    }
   ],
   "source": [
    "ncbi_gene_symbol_set = set(mini_ncbi_df[\"gene_symbol\"])\n",
    "len(ncbi_gene_symbol_set)"
   ]
  },
  {
   "cell_type": "code",
   "execution_count": 30,
   "metadata": {},
   "outputs": [
    {
     "data": {
      "text/plain": [
       "43187"
      ]
     },
     "execution_count": 30,
     "metadata": {},
     "output_type": "execute_result"
    }
   ],
   "source": [
    "hgnc_alias_symbol_set = set(mini_hgnc_df[\"alias_symbol\"])\n",
    "len(hgnc_alias_symbol_set)"
   ]
  },
  {
   "cell_type": "code",
   "execution_count": 31,
   "metadata": {},
   "outputs": [
    {
     "data": {
      "text/plain": [
       "55276"
      ]
     },
     "execution_count": 31,
     "metadata": {},
     "output_type": "execute_result"
    }
   ],
   "source": [
    "ensg_alias_symbol_set = set(mini_ensg_df[\"alias_symbol\"])\n",
    "len(ensg_alias_symbol_set)"
   ]
  },
  {
   "cell_type": "code",
   "execution_count": 32,
   "metadata": {},
   "outputs": [
    {
     "data": {
      "text/plain": [
       "69016"
      ]
     },
     "execution_count": 32,
     "metadata": {},
     "output_type": "execute_result"
    }
   ],
   "source": [
    "ncbi_alias_symbol_set = set(mini_ncbi_df[\"alias_symbol\"])\n",
    "len(ncbi_alias_symbol_set)"
   ]
  },
  {
   "cell_type": "markdown",
   "metadata": {},
   "source": [
    "#### <a id='toc1_1_2_6_'></a>[How many unique primary gene symbols are there b/w HGNC, Ensembl, and NCBI?](#toc0_)"
   ]
  },
  {
   "cell_type": "code",
   "execution_count": 33,
   "metadata": {},
   "outputs": [],
   "source": [
    "hgnc_ensg_gene_symbol_set = hgnc_gene_symbol_set.union(ensg_gene_symbol_set)"
   ]
  },
  {
   "cell_type": "code",
   "execution_count": 34,
   "metadata": {},
   "outputs": [
    {
     "data": {
      "text/plain": [
       "46953"
      ]
     },
     "execution_count": 34,
     "metadata": {},
     "output_type": "execute_result"
    }
   ],
   "source": [
    "hgnc_ensg_ncbi_gene_symbol_set = hgnc_ensg_gene_symbol_set.union(ncbi_gene_symbol_set)\n",
    "len(hgnc_ensg_ncbi_gene_symbol_set)"
   ]
  },
  {
   "cell_type": "markdown",
   "metadata": {},
   "source": [
    "#### <a id='toc1_1_2_7_'></a>[How many unique alias symbols are there b/w HGNC, Ensembl, and NCBI?](#toc0_)"
   ]
  },
  {
   "cell_type": "code",
   "execution_count": 35,
   "metadata": {},
   "outputs": [],
   "source": [
    "hgnc_ensg_alias_symbol_set = hgnc_alias_symbol_set.union(ensg_alias_symbol_set)"
   ]
  },
  {
   "cell_type": "code",
   "execution_count": 36,
   "metadata": {},
   "outputs": [
    {
     "data": {
      "text/plain": [
       "92895"
      ]
     },
     "execution_count": 36,
     "metadata": {},
     "output_type": "execute_result"
    }
   ],
   "source": [
    "hgnc_ensg_ncbi_alias_symbol_set = hgnc_ensg_alias_symbol_set.union(\n",
    "    ncbi_alias_symbol_set\n",
    ")\n",
    "len(hgnc_ensg_ncbi_alias_symbol_set)"
   ]
  },
  {
   "cell_type": "markdown",
   "metadata": {},
   "source": [
    "#### <a id='toc1_1_2_8_'></a>[How many unique group names are not primary gene symbols?](#toc0_)"
   ]
  },
  {
   "cell_type": "code",
   "execution_count": 37,
   "metadata": {},
   "outputs": [
    {
     "data": {
      "text/plain": [
       "298"
      ]
     },
     "execution_count": 37,
     "metadata": {},
     "output_type": "execute_result"
    }
   ],
   "source": [
    "name_ensg_notmatch = dgidb_name_set.difference(ensg_gene_symbol_set)\n",
    "len(name_ensg_notmatch)"
   ]
  },
  {
   "cell_type": "code",
   "execution_count": 38,
   "metadata": {},
   "outputs": [
    {
     "data": {
      "text/plain": [
       "25"
      ]
     },
     "execution_count": 38,
     "metadata": {},
     "output_type": "execute_result"
    }
   ],
   "source": [
    "name_hgnc_notmatch = dgidb_name_set.difference(hgnc_gene_symbol_set)\n",
    "len(name_hgnc_notmatch)"
   ]
  },
  {
   "cell_type": "code",
   "execution_count": 39,
   "metadata": {},
   "outputs": [
    {
     "data": {
      "text/plain": [
       "25"
      ]
     },
     "execution_count": 39,
     "metadata": {},
     "output_type": "execute_result"
    }
   ],
   "source": [
    "cleaned_name_hgnc_notmatch = [x for x in name_hgnc_notmatch if str(x) != \"NaN\"]\n",
    "len(cleaned_name_hgnc_notmatch)"
   ]
  },
  {
   "cell_type": "code",
   "execution_count": 40,
   "metadata": {},
   "outputs": [
    {
     "data": {
      "text/plain": [
       "105"
      ]
     },
     "execution_count": 40,
     "metadata": {},
     "output_type": "execute_result"
    }
   ],
   "source": [
    "name_ncbi_notmatch = dgidb_name_set.difference(ncbi_gene_symbol_set)\n",
    "len(name_ncbi_notmatch)"
   ]
  },
  {
   "cell_type": "code",
   "execution_count": 41,
   "metadata": {},
   "outputs": [
    {
     "data": {
      "text/plain": [
       "17"
      ]
     },
     "execution_count": 41,
     "metadata": {},
     "output_type": "execute_result"
    }
   ],
   "source": [
    "name_ncbi_hgnc_notmatch = name_ncbi_notmatch.difference(hgnc_gene_symbol_set)\n",
    "len(name_ncbi_hgnc_notmatch)"
   ]
  },
  {
   "cell_type": "markdown",
   "metadata": {},
   "source": [
    "How many groups are labeled with a symbol not found in the sets of primary symbols from HGNC, NCBI, or ENSG?"
   ]
  },
  {
   "cell_type": "code",
   "execution_count": 42,
   "metadata": {},
   "outputs": [
    {
     "data": {
      "text/plain": [
       "16"
      ]
     },
     "execution_count": 42,
     "metadata": {},
     "output_type": "execute_result"
    }
   ],
   "source": [
    "name_ncbi_hgnc_ensg_notmatch = name_ncbi_hgnc_notmatch.difference(ensg_gene_symbol_set)\n",
    "len(name_ncbi_hgnc_ensg_notmatch)"
   ]
  },
  {
   "cell_type": "code",
   "execution_count": 43,
   "metadata": {},
   "outputs": [
    {
     "data": {
      "text/plain": [
       "{'ACT',\n",
       " 'ATP5A2',\n",
       " 'BTNL1',\n",
       " 'CYB5P1',\n",
       " 'GAPDHL17',\n",
       " 'LOC102723996',\n",
       " 'LOC102724428',\n",
       " 'LOC105376944',\n",
       " 'LOC112268384',\n",
       " 'LOC112694756',\n",
       " 'LOC344967',\n",
       " 'LOC408186',\n",
       " 'LOC653303',\n",
       " 'OA1',\n",
       " 'USP17L',\n",
       " 'mCR'}"
      ]
     },
     "execution_count": 43,
     "metadata": {},
     "output_type": "execute_result"
    }
   ],
   "source": [
    "name_ncbi_hgnc_ensg_notmatch"
   ]
  },
  {
   "cell_type": "code",
   "execution_count": 44,
   "metadata": {},
   "outputs": [
    {
     "data": {
      "text/plain": [
       "12001"
      ]
     },
     "execution_count": 44,
     "metadata": {},
     "output_type": "execute_result"
    }
   ],
   "source": [
    "len(dgidb_name_set)"
   ]
  },
  {
   "cell_type": "markdown",
   "metadata": {},
   "source": [
    "#### <a id='toc1_1_2_9_'></a>[How many unique claims are not primary gene symbols?](#toc0_)"
   ]
  },
  {
   "cell_type": "code",
   "execution_count": 45,
   "metadata": {},
   "outputs": [
    {
     "data": {
      "text/plain": [
       "15029"
      ]
     },
     "execution_count": 45,
     "metadata": {},
     "output_type": "execute_result"
    }
   ],
   "source": [
    "gene_claim_name_ensg_notmatch = dgidb_gene_claim_name_set.difference(\n",
    "    ensg_gene_symbol_set\n",
    ")\n",
    "len(gene_claim_name_ensg_notmatch)"
   ]
  },
  {
   "cell_type": "code",
   "execution_count": 46,
   "metadata": {},
   "outputs": [
    {
     "data": {
      "text/plain": [
       "15029"
      ]
     },
     "execution_count": 46,
     "metadata": {},
     "output_type": "execute_result"
    }
   ],
   "source": [
    "cleaned_gene_claim_name_ensg_notmatch = [\n",
    "    x for x in gene_claim_name_ensg_notmatch if str(x) != \"NaN\"\n",
    "]\n",
    "len(cleaned_gene_claim_name_ensg_notmatch)"
   ]
  },
  {
   "cell_type": "code",
   "execution_count": 47,
   "metadata": {},
   "outputs": [
    {
     "data": {
      "text/plain": [
       "14755"
      ]
     },
     "execution_count": 47,
     "metadata": {},
     "output_type": "execute_result"
    }
   ],
   "source": [
    "gene_claim_name_hgnc_notmatch = dgidb_gene_claim_name_set.difference(\n",
    "    hgnc_gene_symbol_set\n",
    ")\n",
    "len(gene_claim_name_hgnc_notmatch)"
   ]
  },
  {
   "cell_type": "code",
   "execution_count": 48,
   "metadata": {},
   "outputs": [
    {
     "data": {
      "text/plain": [
       "14836"
      ]
     },
     "execution_count": 48,
     "metadata": {},
     "output_type": "execute_result"
    }
   ],
   "source": [
    "gene_claim_name_ncbi_notmatch = dgidb_gene_claim_name_set.difference(\n",
    "    ncbi_gene_symbol_set\n",
    ")\n",
    "len(gene_claim_name_ncbi_notmatch)"
   ]
  },
  {
   "cell_type": "code",
   "execution_count": 49,
   "metadata": {},
   "outputs": [
    {
     "data": {
      "text/plain": [
       "14746"
      ]
     },
     "execution_count": 49,
     "metadata": {},
     "output_type": "execute_result"
    }
   ],
   "source": [
    "gene_claim_name_ncbi_hngc_notmatch = gene_claim_name_ncbi_notmatch.difference(\n",
    "    hgnc_gene_symbol_set\n",
    ")\n",
    "len(gene_claim_name_ncbi_hngc_notmatch)"
   ]
  },
  {
   "cell_type": "markdown",
   "metadata": {},
   "source": [
    "How many unique claims are not primary symbols"
   ]
  },
  {
   "cell_type": "code",
   "execution_count": 50,
   "metadata": {},
   "outputs": [
    {
     "data": {
      "text/plain": [
       "14743"
      ]
     },
     "execution_count": 50,
     "metadata": {},
     "output_type": "execute_result"
    }
   ],
   "source": [
    "gene_claim_name_ncbi_hngc_ensg_notmatch = gene_claim_name_ncbi_hngc_notmatch.difference(\n",
    "    ensg_gene_symbol_set\n",
    ")\n",
    "num_not_primary_claims = len(gene_claim_name_ncbi_hngc_ensg_notmatch)\n",
    "num_not_primary_claims"
   ]
  },
  {
   "cell_type": "markdown",
   "metadata": {},
   "source": [
    "#### <a id='toc1_1_2_10_'></a>[Load the collision sets from each data source](#toc0_)"
   ]
  },
  {
   "cell_type": "markdown",
   "metadata": {},
   "source": [
    "Input: aa_collision_x_df.csv (total_alis_overlap.ipynb)"
   ]
  },
  {
   "cell_type": "markdown",
   "metadata": {},
   "source": [
    "Output: x_alias_alias_collision_set"
   ]
  },
  {
   "cell_type": "code",
   "execution_count": 51,
   "metadata": {},
   "outputs": [],
   "source": [
    "aa_collision_hgnc_df = pd.read_csv(\n",
    "    \"../output/aa_collision_gene_hgnc_df.csv\",\n",
    "    na_values=[\"\", \"NULL\"],\n",
    "    keep_default_na=False,\n",
    ")"
   ]
  },
  {
   "cell_type": "code",
   "execution_count": 52,
   "metadata": {},
   "outputs": [
    {
     "data": {
      "text/plain": [
       "1250"
      ]
     },
     "execution_count": 52,
     "metadata": {},
     "output_type": "execute_result"
    }
   ],
   "source": [
    "hgnc_alias_alias_collision_set = set(aa_collision_hgnc_df[\"collision\"])\n",
    "len(hgnc_alias_alias_collision_set)"
   ]
  },
  {
   "cell_type": "code",
   "execution_count": 53,
   "metadata": {},
   "outputs": [],
   "source": [
    "aa_collision_ncbi_df = pd.read_csv(\n",
    "    \"../output/aa_collision_gene_ncbi_df.csv\",\n",
    "    na_values=[\"\", \"NULL\"],\n",
    "    keep_default_na=False,\n",
    ")"
   ]
  },
  {
   "cell_type": "code",
   "execution_count": 54,
   "metadata": {},
   "outputs": [
    {
     "data": {
      "text/plain": [
       "3673"
      ]
     },
     "execution_count": 54,
     "metadata": {},
     "output_type": "execute_result"
    }
   ],
   "source": [
    "ncbi_alias_alias_collision_set = set(aa_collision_ncbi_df[\"collision\"])\n",
    "len(ncbi_alias_alias_collision_set)"
   ]
  },
  {
   "cell_type": "code",
   "execution_count": 55,
   "metadata": {},
   "outputs": [],
   "source": [
    "aa_collision_ensg_df = pd.read_csv(\n",
    "    \"../output/aa_collision_gene_ensg_df.csv\",\n",
    "    na_values=[\"\", \"NULL\"],\n",
    "    keep_default_na=False,\n",
    ")"
   ]
  },
  {
   "cell_type": "code",
   "execution_count": 56,
   "metadata": {},
   "outputs": [
    {
     "data": {
      "text/plain": [
       "1617"
      ]
     },
     "execution_count": 56,
     "metadata": {},
     "output_type": "execute_result"
    }
   ],
   "source": [
    "ensg_alias_alias_collision_set = set(aa_collision_ensg_df[\"collision\"])\n",
    "len(ensg_alias_alias_collision_set)"
   ]
  },
  {
   "cell_type": "markdown",
   "metadata": {},
   "source": [
    "#### <a id='toc1_1_2_11_'></a>[How many unique group names are primary gene symbols?](#toc0_)"
   ]
  },
  {
   "cell_type": "code",
   "execution_count": 57,
   "metadata": {},
   "outputs": [
    {
     "data": {
      "text/plain": [
       "11976"
      ]
     },
     "execution_count": 57,
     "metadata": {},
     "output_type": "execute_result"
    }
   ],
   "source": [
    "name_hgnc_match = dgidb_name_set.intersection(hgnc_gene_symbol_set)\n",
    "len(name_hgnc_match)"
   ]
  },
  {
   "cell_type": "code",
   "execution_count": 58,
   "metadata": {},
   "outputs": [
    {
     "data": {
      "text/plain": [
       "11703"
      ]
     },
     "execution_count": 58,
     "metadata": {},
     "output_type": "execute_result"
    }
   ],
   "source": [
    "name_ensg_match = dgidb_name_set.intersection(ensg_gene_symbol_set)\n",
    "len(name_ensg_match)"
   ]
  },
  {
   "cell_type": "code",
   "execution_count": 59,
   "metadata": {},
   "outputs": [
    {
     "data": {
      "text/plain": [
       "11896"
      ]
     },
     "execution_count": 59,
     "metadata": {},
     "output_type": "execute_result"
    }
   ],
   "source": [
    "name_ncbi_match = dgidb_name_set.intersection(ncbi_gene_symbol_set)\n",
    "len(name_ncbi_match)"
   ]
  },
  {
   "cell_type": "code",
   "execution_count": 60,
   "metadata": {},
   "outputs": [
    {
     "data": {
      "text/plain": [
       "11685"
      ]
     },
     "execution_count": 60,
     "metadata": {},
     "output_type": "execute_result"
    }
   ],
   "source": [
    "name_ncbi_ensg_match = name_ncbi_match.intersection(ensg_gene_symbol_set)\n",
    "len(name_ncbi_ensg_match)"
   ]
  },
  {
   "cell_type": "code",
   "execution_count": 61,
   "metadata": {},
   "outputs": [
    {
     "data": {
      "text/plain": [
       "11684"
      ]
     },
     "execution_count": 61,
     "metadata": {},
     "output_type": "execute_result"
    }
   ],
   "source": [
    "name_ncbi_ensg_hgnc_match = name_ncbi_ensg_match.intersection(hgnc_gene_symbol_set)\n",
    "len(name_ncbi_ensg_hgnc_match)"
   ]
  },
  {
   "cell_type": "markdown",
   "metadata": {},
   "source": [
    "#### <a id='toc1_1_2_12_'></a>[How many of the groups that are labeled with a primary gene symbol are also alias-alias collisions?](#toc0_)"
   ]
  },
  {
   "cell_type": "code",
   "execution_count": 62,
   "metadata": {},
   "outputs": [
    {
     "data": {
      "text/plain": [
       "135"
      ]
     },
     "execution_count": 62,
     "metadata": {},
     "output_type": "execute_result"
    }
   ],
   "source": [
    "name_ncbi_match_aacollision = name_ncbi_match.intersection(\n",
    "    ncbi_alias_alias_collision_set\n",
    ")\n",
    "len(name_ncbi_match_aacollision)"
   ]
  },
  {
   "cell_type": "code",
   "execution_count": 63,
   "metadata": {},
   "outputs": [
    {
     "data": {
      "text/plain": [
       "42"
      ]
     },
     "execution_count": 63,
     "metadata": {},
     "output_type": "execute_result"
    }
   ],
   "source": [
    "name_ensg_match_aacollision = name_ensg_match.intersection(\n",
    "    ensg_alias_alias_collision_set\n",
    ")\n",
    "len(name_ensg_match_aacollision)"
   ]
  },
  {
   "cell_type": "code",
   "execution_count": 64,
   "metadata": {},
   "outputs": [
    {
     "data": {
      "text/plain": [
       "3"
      ]
     },
     "execution_count": 64,
     "metadata": {},
     "output_type": "execute_result"
    }
   ],
   "source": [
    "name_ensg_notmatch_aacollision = name_ensg_notmatch.intersection(\n",
    "    ensg_alias_alias_collision_set\n",
    ")\n",
    "len(name_ensg_notmatch_aacollision)"
   ]
  },
  {
   "cell_type": "markdown",
   "metadata": {},
   "source": [
    "#### <a id='toc1_1_2_13_'></a>[How many unique claim symbols are collisions?](#toc0_)"
   ]
  },
  {
   "cell_type": "code",
   "execution_count": 65,
   "metadata": {},
   "outputs": [
    {
     "data": {
      "text/plain": [
       "98"
      ]
     },
     "execution_count": 65,
     "metadata": {},
     "output_type": "execute_result"
    }
   ],
   "source": [
    "gene_claim_name_ensg_aacollision_match = dgidb_gene_claim_name_set.intersection(\n",
    "    ensg_alias_alias_collision_set\n",
    ")\n",
    "len(gene_claim_name_ensg_aacollision_match)"
   ]
  },
  {
   "cell_type": "code",
   "execution_count": 66,
   "metadata": {},
   "outputs": [
    {
     "data": {
      "text/plain": [
       "77"
      ]
     },
     "execution_count": 66,
     "metadata": {},
     "output_type": "execute_result"
    }
   ],
   "source": [
    "gene_claim_name_hgnc_aacollision_match = dgidb_gene_claim_name_set.intersection(\n",
    "    hgnc_alias_alias_collision_set\n",
    ")\n",
    "len(gene_claim_name_hgnc_aacollision_match)"
   ]
  },
  {
   "cell_type": "code",
   "execution_count": 67,
   "metadata": {},
   "outputs": [
    {
     "data": {
      "text/plain": [
       "236"
      ]
     },
     "execution_count": 67,
     "metadata": {},
     "output_type": "execute_result"
    }
   ],
   "source": [
    "gene_claim_name_ncbi_aacollision_match = dgidb_gene_claim_name_set.intersection(\n",
    "    ncbi_alias_alias_collision_set\n",
    ")\n",
    "len(gene_claim_name_ncbi_aacollision_match)"
   ]
  },
  {
   "cell_type": "markdown",
   "metadata": {},
   "source": [
    "#### <a id='toc1_1_2_14_'></a>[How many unique groups are labeled with collisions?](#toc0_)"
   ]
  },
  {
   "cell_type": "code",
   "execution_count": 68,
   "metadata": {},
   "outputs": [
    {
     "data": {
      "text/plain": [
       "45"
      ]
     },
     "execution_count": 68,
     "metadata": {},
     "output_type": "execute_result"
    }
   ],
   "source": [
    "name_ensg_aacollision_match = dgidb_name_set.intersection(\n",
    "    ensg_alias_alias_collision_set\n",
    ")\n",
    "len(name_ensg_aacollision_match)"
   ]
  },
  {
   "cell_type": "code",
   "execution_count": 69,
   "metadata": {},
   "outputs": [
    {
     "data": {
      "text/plain": [
       "42"
      ]
     },
     "execution_count": 69,
     "metadata": {},
     "output_type": "execute_result"
    }
   ],
   "source": [
    "name_hgnc_aacollision_match = dgidb_name_set.intersection(\n",
    "    hgnc_alias_alias_collision_set\n",
    ")\n",
    "len(name_hgnc_aacollision_match)"
   ]
  },
  {
   "cell_type": "code",
   "execution_count": 70,
   "metadata": {},
   "outputs": [
    {
     "data": {
      "text/plain": [
       "137"
      ]
     },
     "execution_count": 70,
     "metadata": {},
     "output_type": "execute_result"
    }
   ],
   "source": [
    "name_ncbi_aacollision_match = dgidb_name_set.intersection(\n",
    "    ncbi_alias_alias_collision_set\n",
    ")\n",
    "len(name_ncbi_aacollision_match)"
   ]
  },
  {
   "cell_type": "markdown",
   "metadata": {},
   "source": [
    "#### <a id='toc1_1_2_15_'></a>[How many unique claims are not primary gene symbols?](#toc0_)"
   ]
  },
  {
   "cell_type": "code",
   "execution_count": 71,
   "metadata": {},
   "outputs": [
    {
     "data": {
      "text/plain": [
       "14755"
      ]
     },
     "execution_count": 71,
     "metadata": {},
     "output_type": "execute_result"
    }
   ],
   "source": [
    "gene_claim_name_hgnc_notmatch = dgidb_gene_claim_name_set.difference(\n",
    "    hgnc_gene_symbol_set\n",
    ")\n",
    "len(gene_claim_name_hgnc_notmatch)"
   ]
  },
  {
   "cell_type": "code",
   "execution_count": 72,
   "metadata": {},
   "outputs": [
    {
     "data": {
      "text/plain": [
       "15029"
      ]
     },
     "execution_count": 72,
     "metadata": {},
     "output_type": "execute_result"
    }
   ],
   "source": [
    "gene_claim_name_ensg_notmatch = dgidb_gene_claim_name_set.difference(\n",
    "    ensg_gene_symbol_set\n",
    ")\n",
    "len(gene_claim_name_ensg_notmatch)"
   ]
  },
  {
   "cell_type": "code",
   "execution_count": 73,
   "metadata": {},
   "outputs": [
    {
     "data": {
      "text/plain": [
       "14836"
      ]
     },
     "execution_count": 73,
     "metadata": {},
     "output_type": "execute_result"
    }
   ],
   "source": [
    "gene_claim_name_ncbi_notmatch = dgidb_gene_claim_name_set.difference(\n",
    "    ncbi_gene_symbol_set\n",
    ")\n",
    "len(gene_claim_name_ncbi_notmatch)"
   ]
  },
  {
   "cell_type": "markdown",
   "metadata": {},
   "source": [
    "#### <a id='toc1_1_2_16_'></a>[How many unique claims that were not primary symbols are collisions?](#toc0_)"
   ]
  },
  {
   "cell_type": "code",
   "execution_count": 74,
   "metadata": {},
   "outputs": [
    {
     "data": {
      "text/plain": [
       "36"
      ]
     },
     "execution_count": 74,
     "metadata": {},
     "output_type": "execute_result"
    }
   ],
   "source": [
    "gene_claim_name_hgnc_notmatch_aacollision = gene_claim_name_hgnc_notmatch.intersection(\n",
    "    hgnc_alias_alias_collision_set\n",
    ")\n",
    "len(gene_claim_name_hgnc_notmatch_aacollision)"
   ]
  },
  {
   "cell_type": "code",
   "execution_count": 75,
   "metadata": {},
   "outputs": [
    {
     "data": {
      "text/plain": [
       "101"
      ]
     },
     "execution_count": 75,
     "metadata": {},
     "output_type": "execute_result"
    }
   ],
   "source": [
    "gene_claim_name_ncbi_notmatch_aacollision = gene_claim_name_ncbi_notmatch.intersection(\n",
    "    ncbi_alias_alias_collision_set\n",
    ")\n",
    "len(gene_claim_name_ncbi_notmatch_aacollision)"
   ]
  },
  {
   "cell_type": "code",
   "execution_count": 76,
   "metadata": {},
   "outputs": [
    {
     "data": {
      "text/plain": [
       "56"
      ]
     },
     "execution_count": 76,
     "metadata": {},
     "output_type": "execute_result"
    }
   ],
   "source": [
    "gene_claim_name_ensg_notmatch_aacollision = gene_claim_name_ensg_notmatch.intersection(\n",
    "    ensg_alias_alias_collision_set\n",
    ")\n",
    "len(gene_claim_name_ensg_notmatch_aacollision)"
   ]
  },
  {
   "cell_type": "markdown",
   "metadata": {},
   "source": [
    "#### <a id='toc1_1_2_17_'></a>[How many unique claims that are primary gene symbols are also collisions?](#toc0_)"
   ]
  },
  {
   "cell_type": "code",
   "execution_count": 77,
   "metadata": {},
   "outputs": [
    {
     "data": {
      "text/plain": [
       "11984"
      ]
     },
     "execution_count": 77,
     "metadata": {},
     "output_type": "execute_result"
    }
   ],
   "source": [
    "gene_claim_name_hgnc_match = dgidb_gene_claim_name_set.intersection(\n",
    "    hgnc_gene_symbol_set\n",
    ")\n",
    "len(gene_claim_name_hgnc_match)"
   ]
  },
  {
   "cell_type": "code",
   "execution_count": 78,
   "metadata": {},
   "outputs": [
    {
     "data": {
      "text/plain": [
       "41"
      ]
     },
     "execution_count": 78,
     "metadata": {},
     "output_type": "execute_result"
    }
   ],
   "source": [
    "gene_claim_name_hgnc_match_aacollision = gene_claim_name_hgnc_match.intersection(\n",
    "    hgnc_alias_alias_collision_set\n",
    ")\n",
    "len(gene_claim_name_hgnc_match_aacollision)"
   ]
  },
  {
   "cell_type": "code",
   "execution_count": 79,
   "metadata": {},
   "outputs": [
    {
     "data": {
      "text/plain": [
       "11903"
      ]
     },
     "execution_count": 79,
     "metadata": {},
     "output_type": "execute_result"
    }
   ],
   "source": [
    "gene_claim_name_ncbi_match = dgidb_gene_claim_name_set.intersection(\n",
    "    ncbi_gene_symbol_set\n",
    ")\n",
    "len(gene_claim_name_ncbi_match)"
   ]
  },
  {
   "cell_type": "code",
   "execution_count": 80,
   "metadata": {},
   "outputs": [
    {
     "data": {
      "text/plain": [
       "135"
      ]
     },
     "execution_count": 80,
     "metadata": {},
     "output_type": "execute_result"
    }
   ],
   "source": [
    "gene_claim_name_ncbi_match_aacollision = gene_claim_name_ncbi_match.intersection(\n",
    "    ncbi_alias_alias_collision_set\n",
    ")\n",
    "len(gene_claim_name_ncbi_match_aacollision)"
   ]
  },
  {
   "cell_type": "code",
   "execution_count": 81,
   "metadata": {},
   "outputs": [
    {
     "data": {
      "text/plain": [
       "11710"
      ]
     },
     "execution_count": 81,
     "metadata": {},
     "output_type": "execute_result"
    }
   ],
   "source": [
    "gene_claim_name_ensg_match = dgidb_gene_claim_name_set.intersection(\n",
    "    ensg_gene_symbol_set\n",
    ")\n",
    "len(gene_claim_name_ensg_match)"
   ]
  },
  {
   "cell_type": "code",
   "execution_count": 82,
   "metadata": {},
   "outputs": [
    {
     "data": {
      "text/plain": [
       "42"
      ]
     },
     "execution_count": 82,
     "metadata": {},
     "output_type": "execute_result"
    }
   ],
   "source": [
    "gene_claim_name_ensg_match_aacollision = gene_claim_name_ensg_match.intersection(\n",
    "    ensg_alias_alias_collision_set\n",
    ")\n",
    "len(gene_claim_name_ensg_match_aacollision)"
   ]
  },
  {
   "cell_type": "markdown",
   "metadata": {},
   "source": [
    "#### <a id='toc1_1_2_18_'></a>[How many of the gene groups that are not primary gene symbols are alias-alias collisions from HGNC?](#toc0_)"
   ]
  },
  {
   "cell_type": "code",
   "execution_count": 83,
   "metadata": {},
   "outputs": [
    {
     "data": {
      "text/plain": [
       "1"
      ]
     },
     "execution_count": 83,
     "metadata": {},
     "output_type": "execute_result"
    }
   ],
   "source": [
    "name_hngc_notmatch_aacollision = name_hgnc_notmatch.intersection(\n",
    "    hgnc_alias_alias_collision_set\n",
    ")\n",
    "len(name_hngc_notmatch_aacollision)"
   ]
  },
  {
   "cell_type": "code",
   "execution_count": 84,
   "metadata": {},
   "outputs": [
    {
     "data": {
      "text/plain": [
       "2"
      ]
     },
     "execution_count": 84,
     "metadata": {},
     "output_type": "execute_result"
    }
   ],
   "source": [
    "name_ncbi_notmatch_aacollision = name_ncbi_notmatch.intersection(\n",
    "    ncbi_alias_alias_collision_set\n",
    ")\n",
    "len(name_ncbi_notmatch_aacollision)"
   ]
  },
  {
   "cell_type": "code",
   "execution_count": 85,
   "metadata": {},
   "outputs": [
    {
     "data": {
      "text/plain": [
       "3"
      ]
     },
     "execution_count": 85,
     "metadata": {},
     "output_type": "execute_result"
    }
   ],
   "source": [
    "name_ensg_notmatch_aacollision = name_ensg_notmatch.intersection(\n",
    "    ensg_alias_alias_collision_set\n",
    ")\n",
    "len(name_ensg_notmatch_aacollision)"
   ]
  },
  {
   "cell_type": "markdown",
   "metadata": {},
   "source": [
    "#### <a id='toc1_1_2_19_'></a>[How many claims are ambiguous symbols?](#toc0_)"
   ]
  },
  {
   "cell_type": "code",
   "execution_count": 86,
   "metadata": {},
   "outputs": [
    {
     "data": {
      "text/html": [
       "<div>\n",
       "<style scoped>\n",
       "    .dataframe tbody tr th:only-of-type {\n",
       "        vertical-align: middle;\n",
       "    }\n",
       "\n",
       "    .dataframe tbody tr th {\n",
       "        vertical-align: top;\n",
       "    }\n",
       "\n",
       "    .dataframe thead th {\n",
       "        text-align: right;\n",
       "    }\n",
       "</style>\n",
       "<table border=\"1\" class=\"dataframe\">\n",
       "  <thead>\n",
       "    <tr style=\"text-align: right;\">\n",
       "      <th></th>\n",
       "      <th>gene_claim_name</th>\n",
       "      <th>nomenclature</th>\n",
       "      <th>concept_id</th>\n",
       "      <th>gene_name</th>\n",
       "      <th>source_db_name</th>\n",
       "      <th>source_db_version</th>\n",
       "      <th>claim_ambiguous_status</th>\n",
       "    </tr>\n",
       "  </thead>\n",
       "  <tbody>\n",
       "    <tr>\n",
       "      <th>0</th>\n",
       "      <td>NGFIBA</td>\n",
       "      <td>NCBI Gene Name</td>\n",
       "      <td>NaN</td>\n",
       "      <td>NaN</td>\n",
       "      <td>BaderLab</td>\n",
       "      <td>Feb-14</td>\n",
       "      <td>False</td>\n",
       "    </tr>\n",
       "    <tr>\n",
       "      <th>1</th>\n",
       "      <td>NGFIBB</td>\n",
       "      <td>NCBI Gene Name</td>\n",
       "      <td>NaN</td>\n",
       "      <td>NaN</td>\n",
       "      <td>BaderLab</td>\n",
       "      <td>Feb-14</td>\n",
       "      <td>False</td>\n",
       "    </tr>\n",
       "    <tr>\n",
       "      <th>2</th>\n",
       "      <td>DAX</td>\n",
       "      <td>NCBI Gene Name</td>\n",
       "      <td>NaN</td>\n",
       "      <td>NaN</td>\n",
       "      <td>BaderLab</td>\n",
       "      <td>Feb-14</td>\n",
       "      <td>False</td>\n",
       "    </tr>\n",
       "    <tr>\n",
       "      <th>3</th>\n",
       "      <td>REV-ERBA</td>\n",
       "      <td>NCBI Gene Name</td>\n",
       "      <td>NaN</td>\n",
       "      <td>NaN</td>\n",
       "      <td>BaderLab</td>\n",
       "      <td>Feb-14</td>\n",
       "      <td>False</td>\n",
       "    </tr>\n",
       "    <tr>\n",
       "      <th>4</th>\n",
       "      <td>COUP2</td>\n",
       "      <td>NCBI Gene Name</td>\n",
       "      <td>NaN</td>\n",
       "      <td>NaN</td>\n",
       "      <td>BaderLab</td>\n",
       "      <td>Feb-14</td>\n",
       "      <td>False</td>\n",
       "    </tr>\n",
       "    <tr>\n",
       "      <th>...</th>\n",
       "      <td>...</td>\n",
       "      <td>...</td>\n",
       "      <td>...</td>\n",
       "      <td>...</td>\n",
       "      <td>...</td>\n",
       "      <td>...</td>\n",
       "      <td>...</td>\n",
       "    </tr>\n",
       "    <tr>\n",
       "      <th>80229</th>\n",
       "      <td>KIT</td>\n",
       "      <td>Gene Symbol</td>\n",
       "      <td>hgnc:6342</td>\n",
       "      <td>KIT</td>\n",
       "      <td>Oncomine</td>\n",
       "      <td>v3</td>\n",
       "      <td>False</td>\n",
       "    </tr>\n",
       "    <tr>\n",
       "      <th>80230</th>\n",
       "      <td>HES1</td>\n",
       "      <td>Gene Name</td>\n",
       "      <td>hgnc:5192</td>\n",
       "      <td>HES1</td>\n",
       "      <td>NCI</td>\n",
       "      <td>14-Sep-17</td>\n",
       "      <td>True</td>\n",
       "    </tr>\n",
       "    <tr>\n",
       "      <th>80231</th>\n",
       "      <td>IRF1</td>\n",
       "      <td>Gene Symbol</td>\n",
       "      <td>hgnc:6116</td>\n",
       "      <td>IRF1</td>\n",
       "      <td>Tempus</td>\n",
       "      <td>11-Nov-18</td>\n",
       "      <td>False</td>\n",
       "    </tr>\n",
       "    <tr>\n",
       "      <th>80232</th>\n",
       "      <td>SHFM1</td>\n",
       "      <td>Gene Name</td>\n",
       "      <td>hgnc:10845</td>\n",
       "      <td>SEM1</td>\n",
       "      <td>DTC</td>\n",
       "      <td>9/2/20</td>\n",
       "      <td>True</td>\n",
       "    </tr>\n",
       "    <tr>\n",
       "      <th>80233</th>\n",
       "      <td>NEUROD1</td>\n",
       "      <td>Gene Name</td>\n",
       "      <td>hgnc:7762</td>\n",
       "      <td>NEUROD1</td>\n",
       "      <td>NCI</td>\n",
       "      <td>14-Sep-17</td>\n",
       "      <td>False</td>\n",
       "    </tr>\n",
       "  </tbody>\n",
       "</table>\n",
       "<p>80234 rows × 7 columns</p>\n",
       "</div>"
      ],
      "text/plain": [
       "      gene_claim_name    nomenclature  concept_id gene_name source_db_name  \\\n",
       "0              NGFIBA  NCBI Gene Name         NaN       NaN       BaderLab   \n",
       "1              NGFIBB  NCBI Gene Name         NaN       NaN       BaderLab   \n",
       "2                 DAX  NCBI Gene Name         NaN       NaN       BaderLab   \n",
       "3            REV-ERBA  NCBI Gene Name         NaN       NaN       BaderLab   \n",
       "4               COUP2  NCBI Gene Name         NaN       NaN       BaderLab   \n",
       "...               ...             ...         ...       ...            ...   \n",
       "80229             KIT     Gene Symbol   hgnc:6342       KIT       Oncomine   \n",
       "80230            HES1       Gene Name   hgnc:5192      HES1            NCI   \n",
       "80231            IRF1     Gene Symbol   hgnc:6116      IRF1         Tempus   \n",
       "80232           SHFM1       Gene Name  hgnc:10845      SEM1            DTC   \n",
       "80233         NEUROD1       Gene Name   hgnc:7762   NEUROD1            NCI   \n",
       "\n",
       "      source_db_version  claim_ambiguous_status  \n",
       "0                Feb-14                   False  \n",
       "1                Feb-14                   False  \n",
       "2                Feb-14                   False  \n",
       "3                Feb-14                   False  \n",
       "4                Feb-14                   False  \n",
       "...                 ...                     ...  \n",
       "80229                v3                   False  \n",
       "80230         14-Sep-17                    True  \n",
       "80231         11-Nov-18                   False  \n",
       "80232            9/2/20                    True  \n",
       "80233         14-Sep-17                   False  \n",
       "\n",
       "[80234 rows x 7 columns]"
      ]
     },
     "execution_count": 86,
     "metadata": {},
     "output_type": "execute_result"
    }
   ],
   "source": [
    "dgidb_gene_df[\"claim_ambiguous_status\"] = dgidb_gene_df[\"gene_claim_name\"].isin(\n",
    "    ambiguous_symbol_set\n",
    ")\n",
    "dgidb_gene_df"
   ]
  },
  {
   "cell_type": "code",
   "execution_count": 87,
   "metadata": {},
   "outputs": [
    {
     "data": {
      "text/plain": [
       "claim_ambiguous_status\n",
       "False    75412\n",
       "True      4822\n",
       "Name: count, dtype: int64"
      ]
     },
     "execution_count": 87,
     "metadata": {},
     "output_type": "execute_result"
    }
   ],
   "source": [
    "dgidb_gene_df[\"claim_ambiguous_status\"].value_counts()"
   ]
  },
  {
   "cell_type": "code",
   "execution_count": 88,
   "metadata": {},
   "outputs": [
    {
     "data": {
      "text/plain": [
       "4822"
      ]
     },
     "execution_count": 88,
     "metadata": {},
     "output_type": "execute_result"
    }
   ],
   "source": [
    "ambiguous_claim_df = dgidb_gene_df.loc[dgidb_gene_df[\"claim_ambiguous_status\"]]\n",
    "num_ambiguous_claim = len(ambiguous_claim_df)\n",
    "num_ambiguous_claim"
   ]
  },
  {
   "cell_type": "code",
   "execution_count": 89,
   "metadata": {},
   "outputs": [
    {
     "data": {
      "text/html": [
       "<div>\n",
       "<style scoped>\n",
       "    .dataframe tbody tr th:only-of-type {\n",
       "        vertical-align: middle;\n",
       "    }\n",
       "\n",
       "    .dataframe tbody tr th {\n",
       "        vertical-align: top;\n",
       "    }\n",
       "\n",
       "    .dataframe thead th {\n",
       "        text-align: right;\n",
       "    }\n",
       "</style>\n",
       "<table border=\"1\" class=\"dataframe\">\n",
       "  <thead>\n",
       "    <tr style=\"text-align: right;\">\n",
       "      <th></th>\n",
       "      <th>gene_claim_name</th>\n",
       "      <th>nomenclature</th>\n",
       "      <th>concept_id</th>\n",
       "      <th>gene_name</th>\n",
       "      <th>source_db_name</th>\n",
       "      <th>source_db_version</th>\n",
       "      <th>claim_ambiguous_status</th>\n",
       "    </tr>\n",
       "  </thead>\n",
       "  <tbody>\n",
       "    <tr>\n",
       "      <th>18</th>\n",
       "      <td>TR2</td>\n",
       "      <td>NCBI Gene Name</td>\n",
       "      <td>hgnc:7971</td>\n",
       "      <td>NR2C1</td>\n",
       "      <td>BaderLab</td>\n",
       "      <td>Feb-14</td>\n",
       "      <td>True</td>\n",
       "    </tr>\n",
       "  </tbody>\n",
       "</table>\n",
       "</div>"
      ],
      "text/plain": [
       "   gene_claim_name    nomenclature concept_id gene_name source_db_name  \\\n",
       "18             TR2  NCBI Gene Name  hgnc:7971     NR2C1       BaderLab   \n",
       "\n",
       "   source_db_version  claim_ambiguous_status  \n",
       "18            Feb-14                    True  "
      ]
     },
     "execution_count": 89,
     "metadata": {},
     "output_type": "execute_result"
    }
   ],
   "source": [
    "ambiguous_claim_df.loc[ambiguous_claim_df[\"gene_claim_name\"] == \"TR2\"]"
   ]
  },
  {
   "cell_type": "markdown",
   "metadata": {},
   "source": [
    "#### <a id='toc1_1_2_20_'></a>[How many gene group labels are ambiguous symbols?](#toc0_)"
   ]
  },
  {
   "cell_type": "code",
   "execution_count": 90,
   "metadata": {},
   "outputs": [
    {
     "data": {
      "text/html": [
       "<div>\n",
       "<style scoped>\n",
       "    .dataframe tbody tr th:only-of-type {\n",
       "        vertical-align: middle;\n",
       "    }\n",
       "\n",
       "    .dataframe tbody tr th {\n",
       "        vertical-align: top;\n",
       "    }\n",
       "\n",
       "    .dataframe thead th {\n",
       "        text-align: right;\n",
       "    }\n",
       "</style>\n",
       "<table border=\"1\" class=\"dataframe\">\n",
       "  <thead>\n",
       "    <tr style=\"text-align: right;\">\n",
       "      <th></th>\n",
       "      <th>gene_claim_name</th>\n",
       "      <th>nomenclature</th>\n",
       "      <th>concept_id</th>\n",
       "      <th>gene_name</th>\n",
       "      <th>source_db_name</th>\n",
       "      <th>source_db_version</th>\n",
       "      <th>claim_ambiguous_status</th>\n",
       "      <th>name_ambiguous_status</th>\n",
       "    </tr>\n",
       "  </thead>\n",
       "  <tbody>\n",
       "    <tr>\n",
       "      <th>0</th>\n",
       "      <td>NGFIBA</td>\n",
       "      <td>NCBI Gene Name</td>\n",
       "      <td>NaN</td>\n",
       "      <td>NaN</td>\n",
       "      <td>BaderLab</td>\n",
       "      <td>Feb-14</td>\n",
       "      <td>False</td>\n",
       "      <td>False</td>\n",
       "    </tr>\n",
       "    <tr>\n",
       "      <th>1</th>\n",
       "      <td>NGFIBB</td>\n",
       "      <td>NCBI Gene Name</td>\n",
       "      <td>NaN</td>\n",
       "      <td>NaN</td>\n",
       "      <td>BaderLab</td>\n",
       "      <td>Feb-14</td>\n",
       "      <td>False</td>\n",
       "      <td>False</td>\n",
       "    </tr>\n",
       "    <tr>\n",
       "      <th>2</th>\n",
       "      <td>DAX</td>\n",
       "      <td>NCBI Gene Name</td>\n",
       "      <td>NaN</td>\n",
       "      <td>NaN</td>\n",
       "      <td>BaderLab</td>\n",
       "      <td>Feb-14</td>\n",
       "      <td>False</td>\n",
       "      <td>False</td>\n",
       "    </tr>\n",
       "    <tr>\n",
       "      <th>3</th>\n",
       "      <td>REV-ERBA</td>\n",
       "      <td>NCBI Gene Name</td>\n",
       "      <td>NaN</td>\n",
       "      <td>NaN</td>\n",
       "      <td>BaderLab</td>\n",
       "      <td>Feb-14</td>\n",
       "      <td>False</td>\n",
       "      <td>False</td>\n",
       "    </tr>\n",
       "    <tr>\n",
       "      <th>4</th>\n",
       "      <td>COUP2</td>\n",
       "      <td>NCBI Gene Name</td>\n",
       "      <td>NaN</td>\n",
       "      <td>NaN</td>\n",
       "      <td>BaderLab</td>\n",
       "      <td>Feb-14</td>\n",
       "      <td>False</td>\n",
       "      <td>False</td>\n",
       "    </tr>\n",
       "    <tr>\n",
       "      <th>...</th>\n",
       "      <td>...</td>\n",
       "      <td>...</td>\n",
       "      <td>...</td>\n",
       "      <td>...</td>\n",
       "      <td>...</td>\n",
       "      <td>...</td>\n",
       "      <td>...</td>\n",
       "      <td>...</td>\n",
       "    </tr>\n",
       "    <tr>\n",
       "      <th>80229</th>\n",
       "      <td>KIT</td>\n",
       "      <td>Gene Symbol</td>\n",
       "      <td>hgnc:6342</td>\n",
       "      <td>KIT</td>\n",
       "      <td>Oncomine</td>\n",
       "      <td>v3</td>\n",
       "      <td>False</td>\n",
       "      <td>False</td>\n",
       "    </tr>\n",
       "    <tr>\n",
       "      <th>80230</th>\n",
       "      <td>HES1</td>\n",
       "      <td>Gene Name</td>\n",
       "      <td>hgnc:5192</td>\n",
       "      <td>HES1</td>\n",
       "      <td>NCI</td>\n",
       "      <td>14-Sep-17</td>\n",
       "      <td>True</td>\n",
       "      <td>True</td>\n",
       "    </tr>\n",
       "    <tr>\n",
       "      <th>80231</th>\n",
       "      <td>IRF1</td>\n",
       "      <td>Gene Symbol</td>\n",
       "      <td>hgnc:6116</td>\n",
       "      <td>IRF1</td>\n",
       "      <td>Tempus</td>\n",
       "      <td>11-Nov-18</td>\n",
       "      <td>False</td>\n",
       "      <td>False</td>\n",
       "    </tr>\n",
       "    <tr>\n",
       "      <th>80232</th>\n",
       "      <td>SHFM1</td>\n",
       "      <td>Gene Name</td>\n",
       "      <td>hgnc:10845</td>\n",
       "      <td>SEM1</td>\n",
       "      <td>DTC</td>\n",
       "      <td>9/2/20</td>\n",
       "      <td>True</td>\n",
       "      <td>False</td>\n",
       "    </tr>\n",
       "    <tr>\n",
       "      <th>80233</th>\n",
       "      <td>NEUROD1</td>\n",
       "      <td>Gene Name</td>\n",
       "      <td>hgnc:7762</td>\n",
       "      <td>NEUROD1</td>\n",
       "      <td>NCI</td>\n",
       "      <td>14-Sep-17</td>\n",
       "      <td>False</td>\n",
       "      <td>False</td>\n",
       "    </tr>\n",
       "  </tbody>\n",
       "</table>\n",
       "<p>80234 rows × 8 columns</p>\n",
       "</div>"
      ],
      "text/plain": [
       "      gene_claim_name    nomenclature  concept_id gene_name source_db_name  \\\n",
       "0              NGFIBA  NCBI Gene Name         NaN       NaN       BaderLab   \n",
       "1              NGFIBB  NCBI Gene Name         NaN       NaN       BaderLab   \n",
       "2                 DAX  NCBI Gene Name         NaN       NaN       BaderLab   \n",
       "3            REV-ERBA  NCBI Gene Name         NaN       NaN       BaderLab   \n",
       "4               COUP2  NCBI Gene Name         NaN       NaN       BaderLab   \n",
       "...               ...             ...         ...       ...            ...   \n",
       "80229             KIT     Gene Symbol   hgnc:6342       KIT       Oncomine   \n",
       "80230            HES1       Gene Name   hgnc:5192      HES1            NCI   \n",
       "80231            IRF1     Gene Symbol   hgnc:6116      IRF1         Tempus   \n",
       "80232           SHFM1       Gene Name  hgnc:10845      SEM1            DTC   \n",
       "80233         NEUROD1       Gene Name   hgnc:7762   NEUROD1            NCI   \n",
       "\n",
       "      source_db_version  claim_ambiguous_status  name_ambiguous_status  \n",
       "0                Feb-14                   False                  False  \n",
       "1                Feb-14                   False                  False  \n",
       "2                Feb-14                   False                  False  \n",
       "3                Feb-14                   False                  False  \n",
       "4                Feb-14                   False                  False  \n",
       "...                 ...                     ...                    ...  \n",
       "80229                v3                   False                  False  \n",
       "80230         14-Sep-17                    True                   True  \n",
       "80231         11-Nov-18                   False                  False  \n",
       "80232            9/2/20                    True                  False  \n",
       "80233         14-Sep-17                   False                  False  \n",
       "\n",
       "[80234 rows x 8 columns]"
      ]
     },
     "execution_count": 90,
     "metadata": {},
     "output_type": "execute_result"
    }
   ],
   "source": [
    "dgidb_gene_df[\"name_ambiguous_status\"] = dgidb_gene_df[\"gene_name\"].isin(\n",
    "    ambiguous_symbol_set\n",
    ")\n",
    "dgidb_gene_df"
   ]
  },
  {
   "cell_type": "code",
   "execution_count": 91,
   "metadata": {},
   "outputs": [
    {
     "data": {
      "text/plain": [
       "name_ambiguous_status\n",
       "False    74512\n",
       "True      5722\n",
       "Name: count, dtype: int64"
      ]
     },
     "execution_count": 91,
     "metadata": {},
     "output_type": "execute_result"
    }
   ],
   "source": [
    "dgidb_gene_df[\"name_ambiguous_status\"].value_counts()"
   ]
  },
  {
   "cell_type": "code",
   "execution_count": 92,
   "metadata": {},
   "outputs": [
    {
     "data": {
      "text/plain": [
       "5722"
      ]
     },
     "execution_count": 92,
     "metadata": {},
     "output_type": "execute_result"
    }
   ],
   "source": [
    "ambiguous_name_df = dgidb_gene_df.loc[dgidb_gene_df[\"name_ambiguous_status\"]]\n",
    "num_ambiguous_name = len(ambiguous_name_df)\n",
    "num_ambiguous_name"
   ]
  },
  {
   "cell_type": "markdown",
   "metadata": {},
   "source": [
    "#### <a id='toc1_1_2_21_'></a>[How many claims are primary symbols?](#toc0_)"
   ]
  },
  {
   "cell_type": "code",
   "execution_count": 93,
   "metadata": {},
   "outputs": [
    {
     "data": {
      "text/html": [
       "<div>\n",
       "<style scoped>\n",
       "    .dataframe tbody tr th:only-of-type {\n",
       "        vertical-align: middle;\n",
       "    }\n",
       "\n",
       "    .dataframe tbody tr th {\n",
       "        vertical-align: top;\n",
       "    }\n",
       "\n",
       "    .dataframe thead th {\n",
       "        text-align: right;\n",
       "    }\n",
       "</style>\n",
       "<table border=\"1\" class=\"dataframe\">\n",
       "  <thead>\n",
       "    <tr style=\"text-align: right;\">\n",
       "      <th></th>\n",
       "      <th>gene_claim_name</th>\n",
       "      <th>nomenclature</th>\n",
       "      <th>concept_id</th>\n",
       "      <th>gene_name</th>\n",
       "      <th>source_db_name</th>\n",
       "      <th>source_db_version</th>\n",
       "      <th>claim_ambiguous_status</th>\n",
       "      <th>name_ambiguous_status</th>\n",
       "      <th>claim_primary_status</th>\n",
       "    </tr>\n",
       "  </thead>\n",
       "  <tbody>\n",
       "    <tr>\n",
       "      <th>0</th>\n",
       "      <td>NGFIBA</td>\n",
       "      <td>NCBI Gene Name</td>\n",
       "      <td>NaN</td>\n",
       "      <td>NaN</td>\n",
       "      <td>BaderLab</td>\n",
       "      <td>Feb-14</td>\n",
       "      <td>False</td>\n",
       "      <td>False</td>\n",
       "      <td>False</td>\n",
       "    </tr>\n",
       "    <tr>\n",
       "      <th>1</th>\n",
       "      <td>NGFIBB</td>\n",
       "      <td>NCBI Gene Name</td>\n",
       "      <td>NaN</td>\n",
       "      <td>NaN</td>\n",
       "      <td>BaderLab</td>\n",
       "      <td>Feb-14</td>\n",
       "      <td>False</td>\n",
       "      <td>False</td>\n",
       "      <td>False</td>\n",
       "    </tr>\n",
       "    <tr>\n",
       "      <th>2</th>\n",
       "      <td>DAX</td>\n",
       "      <td>NCBI Gene Name</td>\n",
       "      <td>NaN</td>\n",
       "      <td>NaN</td>\n",
       "      <td>BaderLab</td>\n",
       "      <td>Feb-14</td>\n",
       "      <td>False</td>\n",
       "      <td>False</td>\n",
       "      <td>False</td>\n",
       "    </tr>\n",
       "    <tr>\n",
       "      <th>3</th>\n",
       "      <td>REV-ERBA</td>\n",
       "      <td>NCBI Gene Name</td>\n",
       "      <td>NaN</td>\n",
       "      <td>NaN</td>\n",
       "      <td>BaderLab</td>\n",
       "      <td>Feb-14</td>\n",
       "      <td>False</td>\n",
       "      <td>False</td>\n",
       "      <td>False</td>\n",
       "    </tr>\n",
       "    <tr>\n",
       "      <th>4</th>\n",
       "      <td>COUP2</td>\n",
       "      <td>NCBI Gene Name</td>\n",
       "      <td>NaN</td>\n",
       "      <td>NaN</td>\n",
       "      <td>BaderLab</td>\n",
       "      <td>Feb-14</td>\n",
       "      <td>False</td>\n",
       "      <td>False</td>\n",
       "      <td>False</td>\n",
       "    </tr>\n",
       "    <tr>\n",
       "      <th>...</th>\n",
       "      <td>...</td>\n",
       "      <td>...</td>\n",
       "      <td>...</td>\n",
       "      <td>...</td>\n",
       "      <td>...</td>\n",
       "      <td>...</td>\n",
       "      <td>...</td>\n",
       "      <td>...</td>\n",
       "      <td>...</td>\n",
       "    </tr>\n",
       "    <tr>\n",
       "      <th>80229</th>\n",
       "      <td>KIT</td>\n",
       "      <td>Gene Symbol</td>\n",
       "      <td>hgnc:6342</td>\n",
       "      <td>KIT</td>\n",
       "      <td>Oncomine</td>\n",
       "      <td>v3</td>\n",
       "      <td>False</td>\n",
       "      <td>False</td>\n",
       "      <td>True</td>\n",
       "    </tr>\n",
       "    <tr>\n",
       "      <th>80230</th>\n",
       "      <td>HES1</td>\n",
       "      <td>Gene Name</td>\n",
       "      <td>hgnc:5192</td>\n",
       "      <td>HES1</td>\n",
       "      <td>NCI</td>\n",
       "      <td>14-Sep-17</td>\n",
       "      <td>True</td>\n",
       "      <td>True</td>\n",
       "      <td>True</td>\n",
       "    </tr>\n",
       "    <tr>\n",
       "      <th>80231</th>\n",
       "      <td>IRF1</td>\n",
       "      <td>Gene Symbol</td>\n",
       "      <td>hgnc:6116</td>\n",
       "      <td>IRF1</td>\n",
       "      <td>Tempus</td>\n",
       "      <td>11-Nov-18</td>\n",
       "      <td>False</td>\n",
       "      <td>False</td>\n",
       "      <td>True</td>\n",
       "    </tr>\n",
       "    <tr>\n",
       "      <th>80232</th>\n",
       "      <td>SHFM1</td>\n",
       "      <td>Gene Name</td>\n",
       "      <td>hgnc:10845</td>\n",
       "      <td>SEM1</td>\n",
       "      <td>DTC</td>\n",
       "      <td>9/2/20</td>\n",
       "      <td>True</td>\n",
       "      <td>False</td>\n",
       "      <td>False</td>\n",
       "    </tr>\n",
       "    <tr>\n",
       "      <th>80233</th>\n",
       "      <td>NEUROD1</td>\n",
       "      <td>Gene Name</td>\n",
       "      <td>hgnc:7762</td>\n",
       "      <td>NEUROD1</td>\n",
       "      <td>NCI</td>\n",
       "      <td>14-Sep-17</td>\n",
       "      <td>False</td>\n",
       "      <td>False</td>\n",
       "      <td>True</td>\n",
       "    </tr>\n",
       "  </tbody>\n",
       "</table>\n",
       "<p>80234 rows × 9 columns</p>\n",
       "</div>"
      ],
      "text/plain": [
       "      gene_claim_name    nomenclature  concept_id gene_name source_db_name  \\\n",
       "0              NGFIBA  NCBI Gene Name         NaN       NaN       BaderLab   \n",
       "1              NGFIBB  NCBI Gene Name         NaN       NaN       BaderLab   \n",
       "2                 DAX  NCBI Gene Name         NaN       NaN       BaderLab   \n",
       "3            REV-ERBA  NCBI Gene Name         NaN       NaN       BaderLab   \n",
       "4               COUP2  NCBI Gene Name         NaN       NaN       BaderLab   \n",
       "...               ...             ...         ...       ...            ...   \n",
       "80229             KIT     Gene Symbol   hgnc:6342       KIT       Oncomine   \n",
       "80230            HES1       Gene Name   hgnc:5192      HES1            NCI   \n",
       "80231            IRF1     Gene Symbol   hgnc:6116      IRF1         Tempus   \n",
       "80232           SHFM1       Gene Name  hgnc:10845      SEM1            DTC   \n",
       "80233         NEUROD1       Gene Name   hgnc:7762   NEUROD1            NCI   \n",
       "\n",
       "      source_db_version  claim_ambiguous_status  name_ambiguous_status  \\\n",
       "0                Feb-14                   False                  False   \n",
       "1                Feb-14                   False                  False   \n",
       "2                Feb-14                   False                  False   \n",
       "3                Feb-14                   False                  False   \n",
       "4                Feb-14                   False                  False   \n",
       "...                 ...                     ...                    ...   \n",
       "80229                v3                   False                  False   \n",
       "80230         14-Sep-17                    True                   True   \n",
       "80231         11-Nov-18                   False                  False   \n",
       "80232            9/2/20                    True                  False   \n",
       "80233         14-Sep-17                   False                  False   \n",
       "\n",
       "       claim_primary_status  \n",
       "0                     False  \n",
       "1                     False  \n",
       "2                     False  \n",
       "3                     False  \n",
       "4                     False  \n",
       "...                     ...  \n",
       "80229                  True  \n",
       "80230                  True  \n",
       "80231                  True  \n",
       "80232                 False  \n",
       "80233                  True  \n",
       "\n",
       "[80234 rows x 9 columns]"
      ]
     },
     "execution_count": 93,
     "metadata": {},
     "output_type": "execute_result"
    }
   ],
   "source": [
    "dgidb_gene_df[\"claim_primary_status\"] = dgidb_gene_df[\"gene_claim_name\"].isin(\n",
    "    hgnc_ensg_ncbi_gene_symbol_set\n",
    ")\n",
    "dgidb_gene_df"
   ]
  },
  {
   "cell_type": "code",
   "execution_count": 94,
   "metadata": {},
   "outputs": [
    {
     "data": {
      "text/plain": [
       "claim_primary_status\n",
       "True     64198\n",
       "False    16036\n",
       "Name: count, dtype: int64"
      ]
     },
     "execution_count": 94,
     "metadata": {},
     "output_type": "execute_result"
    }
   ],
   "source": [
    "dgidb_gene_df[\"claim_primary_status\"].value_counts()"
   ]
  },
  {
   "cell_type": "code",
   "execution_count": 95,
   "metadata": {},
   "outputs": [
    {
     "data": {
      "text/plain": [
       "64198"
      ]
     },
     "execution_count": 95,
     "metadata": {},
     "output_type": "execute_result"
    }
   ],
   "source": [
    "primary_claim_df = dgidb_gene_df.loc[dgidb_gene_df[\"claim_primary_status\"]]\n",
    "num_primary_claim = len(primary_claim_df)\n",
    "num_primary_claim"
   ]
  },
  {
   "cell_type": "markdown",
   "metadata": {},
   "source": [
    "#### <a id='toc1_1_2_22_'></a>[How many gene group labels are primary symbols?](#toc0_)"
   ]
  },
  {
   "cell_type": "code",
   "execution_count": 96,
   "metadata": {},
   "outputs": [
    {
     "data": {
      "text/html": [
       "<div>\n",
       "<style scoped>\n",
       "    .dataframe tbody tr th:only-of-type {\n",
       "        vertical-align: middle;\n",
       "    }\n",
       "\n",
       "    .dataframe tbody tr th {\n",
       "        vertical-align: top;\n",
       "    }\n",
       "\n",
       "    .dataframe thead th {\n",
       "        text-align: right;\n",
       "    }\n",
       "</style>\n",
       "<table border=\"1\" class=\"dataframe\">\n",
       "  <thead>\n",
       "    <tr style=\"text-align: right;\">\n",
       "      <th></th>\n",
       "      <th>gene_claim_name</th>\n",
       "      <th>nomenclature</th>\n",
       "      <th>concept_id</th>\n",
       "      <th>gene_name</th>\n",
       "      <th>source_db_name</th>\n",
       "      <th>source_db_version</th>\n",
       "      <th>claim_ambiguous_status</th>\n",
       "      <th>name_ambiguous_status</th>\n",
       "      <th>claim_primary_status</th>\n",
       "      <th>name_primary_status</th>\n",
       "    </tr>\n",
       "  </thead>\n",
       "  <tbody>\n",
       "    <tr>\n",
       "      <th>0</th>\n",
       "      <td>NGFIBA</td>\n",
       "      <td>NCBI Gene Name</td>\n",
       "      <td>NaN</td>\n",
       "      <td>NaN</td>\n",
       "      <td>BaderLab</td>\n",
       "      <td>Feb-14</td>\n",
       "      <td>False</td>\n",
       "      <td>False</td>\n",
       "      <td>False</td>\n",
       "      <td>False</td>\n",
       "    </tr>\n",
       "    <tr>\n",
       "      <th>1</th>\n",
       "      <td>NGFIBB</td>\n",
       "      <td>NCBI Gene Name</td>\n",
       "      <td>NaN</td>\n",
       "      <td>NaN</td>\n",
       "      <td>BaderLab</td>\n",
       "      <td>Feb-14</td>\n",
       "      <td>False</td>\n",
       "      <td>False</td>\n",
       "      <td>False</td>\n",
       "      <td>False</td>\n",
       "    </tr>\n",
       "    <tr>\n",
       "      <th>2</th>\n",
       "      <td>DAX</td>\n",
       "      <td>NCBI Gene Name</td>\n",
       "      <td>NaN</td>\n",
       "      <td>NaN</td>\n",
       "      <td>BaderLab</td>\n",
       "      <td>Feb-14</td>\n",
       "      <td>False</td>\n",
       "      <td>False</td>\n",
       "      <td>False</td>\n",
       "      <td>False</td>\n",
       "    </tr>\n",
       "    <tr>\n",
       "      <th>3</th>\n",
       "      <td>REV-ERBA</td>\n",
       "      <td>NCBI Gene Name</td>\n",
       "      <td>NaN</td>\n",
       "      <td>NaN</td>\n",
       "      <td>BaderLab</td>\n",
       "      <td>Feb-14</td>\n",
       "      <td>False</td>\n",
       "      <td>False</td>\n",
       "      <td>False</td>\n",
       "      <td>False</td>\n",
       "    </tr>\n",
       "    <tr>\n",
       "      <th>4</th>\n",
       "      <td>COUP2</td>\n",
       "      <td>NCBI Gene Name</td>\n",
       "      <td>NaN</td>\n",
       "      <td>NaN</td>\n",
       "      <td>BaderLab</td>\n",
       "      <td>Feb-14</td>\n",
       "      <td>False</td>\n",
       "      <td>False</td>\n",
       "      <td>False</td>\n",
       "      <td>False</td>\n",
       "    </tr>\n",
       "    <tr>\n",
       "      <th>...</th>\n",
       "      <td>...</td>\n",
       "      <td>...</td>\n",
       "      <td>...</td>\n",
       "      <td>...</td>\n",
       "      <td>...</td>\n",
       "      <td>...</td>\n",
       "      <td>...</td>\n",
       "      <td>...</td>\n",
       "      <td>...</td>\n",
       "      <td>...</td>\n",
       "    </tr>\n",
       "    <tr>\n",
       "      <th>80229</th>\n",
       "      <td>KIT</td>\n",
       "      <td>Gene Symbol</td>\n",
       "      <td>hgnc:6342</td>\n",
       "      <td>KIT</td>\n",
       "      <td>Oncomine</td>\n",
       "      <td>v3</td>\n",
       "      <td>False</td>\n",
       "      <td>False</td>\n",
       "      <td>True</td>\n",
       "      <td>True</td>\n",
       "    </tr>\n",
       "    <tr>\n",
       "      <th>80230</th>\n",
       "      <td>HES1</td>\n",
       "      <td>Gene Name</td>\n",
       "      <td>hgnc:5192</td>\n",
       "      <td>HES1</td>\n",
       "      <td>NCI</td>\n",
       "      <td>14-Sep-17</td>\n",
       "      <td>True</td>\n",
       "      <td>True</td>\n",
       "      <td>True</td>\n",
       "      <td>True</td>\n",
       "    </tr>\n",
       "    <tr>\n",
       "      <th>80231</th>\n",
       "      <td>IRF1</td>\n",
       "      <td>Gene Symbol</td>\n",
       "      <td>hgnc:6116</td>\n",
       "      <td>IRF1</td>\n",
       "      <td>Tempus</td>\n",
       "      <td>11-Nov-18</td>\n",
       "      <td>False</td>\n",
       "      <td>False</td>\n",
       "      <td>True</td>\n",
       "      <td>True</td>\n",
       "    </tr>\n",
       "    <tr>\n",
       "      <th>80232</th>\n",
       "      <td>SHFM1</td>\n",
       "      <td>Gene Name</td>\n",
       "      <td>hgnc:10845</td>\n",
       "      <td>SEM1</td>\n",
       "      <td>DTC</td>\n",
       "      <td>9/2/20</td>\n",
       "      <td>True</td>\n",
       "      <td>False</td>\n",
       "      <td>False</td>\n",
       "      <td>True</td>\n",
       "    </tr>\n",
       "    <tr>\n",
       "      <th>80233</th>\n",
       "      <td>NEUROD1</td>\n",
       "      <td>Gene Name</td>\n",
       "      <td>hgnc:7762</td>\n",
       "      <td>NEUROD1</td>\n",
       "      <td>NCI</td>\n",
       "      <td>14-Sep-17</td>\n",
       "      <td>False</td>\n",
       "      <td>False</td>\n",
       "      <td>True</td>\n",
       "      <td>True</td>\n",
       "    </tr>\n",
       "  </tbody>\n",
       "</table>\n",
       "<p>80234 rows × 10 columns</p>\n",
       "</div>"
      ],
      "text/plain": [
       "      gene_claim_name    nomenclature  concept_id gene_name source_db_name  \\\n",
       "0              NGFIBA  NCBI Gene Name         NaN       NaN       BaderLab   \n",
       "1              NGFIBB  NCBI Gene Name         NaN       NaN       BaderLab   \n",
       "2                 DAX  NCBI Gene Name         NaN       NaN       BaderLab   \n",
       "3            REV-ERBA  NCBI Gene Name         NaN       NaN       BaderLab   \n",
       "4               COUP2  NCBI Gene Name         NaN       NaN       BaderLab   \n",
       "...               ...             ...         ...       ...            ...   \n",
       "80229             KIT     Gene Symbol   hgnc:6342       KIT       Oncomine   \n",
       "80230            HES1       Gene Name   hgnc:5192      HES1            NCI   \n",
       "80231            IRF1     Gene Symbol   hgnc:6116      IRF1         Tempus   \n",
       "80232           SHFM1       Gene Name  hgnc:10845      SEM1            DTC   \n",
       "80233         NEUROD1       Gene Name   hgnc:7762   NEUROD1            NCI   \n",
       "\n",
       "      source_db_version  claim_ambiguous_status  name_ambiguous_status  \\\n",
       "0                Feb-14                   False                  False   \n",
       "1                Feb-14                   False                  False   \n",
       "2                Feb-14                   False                  False   \n",
       "3                Feb-14                   False                  False   \n",
       "4                Feb-14                   False                  False   \n",
       "...                 ...                     ...                    ...   \n",
       "80229                v3                   False                  False   \n",
       "80230         14-Sep-17                    True                   True   \n",
       "80231         11-Nov-18                   False                  False   \n",
       "80232            9/2/20                    True                  False   \n",
       "80233         14-Sep-17                   False                  False   \n",
       "\n",
       "       claim_primary_status  name_primary_status  \n",
       "0                     False                False  \n",
       "1                     False                False  \n",
       "2                     False                False  \n",
       "3                     False                False  \n",
       "4                     False                False  \n",
       "...                     ...                  ...  \n",
       "80229                  True                 True  \n",
       "80230                  True                 True  \n",
       "80231                  True                 True  \n",
       "80232                 False                 True  \n",
       "80233                  True                 True  \n",
       "\n",
       "[80234 rows x 10 columns]"
      ]
     },
     "execution_count": 96,
     "metadata": {},
     "output_type": "execute_result"
    }
   ],
   "source": [
    "dgidb_gene_df[\"name_primary_status\"] = (\n",
    "    dgidb_gene_df[\"gene_name\"].astype(str).isin(hgnc_ensg_ncbi_gene_symbol_set)\n",
    ")\n",
    "dgidb_gene_df"
   ]
  },
  {
   "cell_type": "code",
   "execution_count": 97,
   "metadata": {},
   "outputs": [
    {
     "data": {
      "text/plain": [
       "name_primary_status\n",
       "True     78057\n",
       "False     2177\n",
       "Name: count, dtype: int64"
      ]
     },
     "execution_count": 97,
     "metadata": {},
     "output_type": "execute_result"
    }
   ],
   "source": [
    "dgidb_gene_df[\"name_primary_status\"].value_counts()"
   ]
  },
  {
   "cell_type": "code",
   "execution_count": 98,
   "metadata": {},
   "outputs": [
    {
     "data": {
      "text/plain": [
       "78057"
      ]
     },
     "execution_count": 98,
     "metadata": {},
     "output_type": "execute_result"
    }
   ],
   "source": [
    "primary_name_df = dgidb_gene_df.loc[dgidb_gene_df[\"name_primary_status\"]]\n",
    "num_primary_name = len(primary_name_df)\n",
    "num_primary_name"
   ]
  },
  {
   "cell_type": "code",
   "execution_count": 99,
   "metadata": {},
   "outputs": [
    {
     "data": {
      "text/html": [
       "<div>\n",
       "<style scoped>\n",
       "    .dataframe tbody tr th:only-of-type {\n",
       "        vertical-align: middle;\n",
       "    }\n",
       "\n",
       "    .dataframe tbody tr th {\n",
       "        vertical-align: top;\n",
       "    }\n",
       "\n",
       "    .dataframe thead th {\n",
       "        text-align: right;\n",
       "    }\n",
       "</style>\n",
       "<table border=\"1\" class=\"dataframe\">\n",
       "  <thead>\n",
       "    <tr style=\"text-align: right;\">\n",
       "      <th></th>\n",
       "      <th>gene_claim_name</th>\n",
       "      <th>nomenclature</th>\n",
       "      <th>concept_id</th>\n",
       "      <th>gene_name</th>\n",
       "      <th>source_db_name</th>\n",
       "      <th>source_db_version</th>\n",
       "      <th>claim_ambiguous_status</th>\n",
       "      <th>name_ambiguous_status</th>\n",
       "      <th>claim_primary_status</th>\n",
       "      <th>name_primary_status</th>\n",
       "    </tr>\n",
       "  </thead>\n",
       "  <tbody>\n",
       "    <tr>\n",
       "      <th>0</th>\n",
       "      <td>NGFIBA</td>\n",
       "      <td>NCBI Gene Name</td>\n",
       "      <td>NaN</td>\n",
       "      <td>NaN</td>\n",
       "      <td>BaderLab</td>\n",
       "      <td>Feb-14</td>\n",
       "      <td>False</td>\n",
       "      <td>False</td>\n",
       "      <td>False</td>\n",
       "      <td>False</td>\n",
       "    </tr>\n",
       "    <tr>\n",
       "      <th>1</th>\n",
       "      <td>NGFIBB</td>\n",
       "      <td>NCBI Gene Name</td>\n",
       "      <td>NaN</td>\n",
       "      <td>NaN</td>\n",
       "      <td>BaderLab</td>\n",
       "      <td>Feb-14</td>\n",
       "      <td>False</td>\n",
       "      <td>False</td>\n",
       "      <td>False</td>\n",
       "      <td>False</td>\n",
       "    </tr>\n",
       "    <tr>\n",
       "      <th>2</th>\n",
       "      <td>DAX</td>\n",
       "      <td>NCBI Gene Name</td>\n",
       "      <td>NaN</td>\n",
       "      <td>NaN</td>\n",
       "      <td>BaderLab</td>\n",
       "      <td>Feb-14</td>\n",
       "      <td>False</td>\n",
       "      <td>False</td>\n",
       "      <td>False</td>\n",
       "      <td>False</td>\n",
       "    </tr>\n",
       "    <tr>\n",
       "      <th>3</th>\n",
       "      <td>REV-ERBA</td>\n",
       "      <td>NCBI Gene Name</td>\n",
       "      <td>NaN</td>\n",
       "      <td>NaN</td>\n",
       "      <td>BaderLab</td>\n",
       "      <td>Feb-14</td>\n",
       "      <td>False</td>\n",
       "      <td>False</td>\n",
       "      <td>False</td>\n",
       "      <td>False</td>\n",
       "    </tr>\n",
       "    <tr>\n",
       "      <th>4</th>\n",
       "      <td>COUP2</td>\n",
       "      <td>NCBI Gene Name</td>\n",
       "      <td>NaN</td>\n",
       "      <td>NaN</td>\n",
       "      <td>BaderLab</td>\n",
       "      <td>Feb-14</td>\n",
       "      <td>False</td>\n",
       "      <td>False</td>\n",
       "      <td>False</td>\n",
       "      <td>False</td>\n",
       "    </tr>\n",
       "    <tr>\n",
       "      <th>...</th>\n",
       "      <td>...</td>\n",
       "      <td>...</td>\n",
       "      <td>...</td>\n",
       "      <td>...</td>\n",
       "      <td>...</td>\n",
       "      <td>...</td>\n",
       "      <td>...</td>\n",
       "      <td>...</td>\n",
       "      <td>...</td>\n",
       "      <td>...</td>\n",
       "    </tr>\n",
       "    <tr>\n",
       "      <th>74562</th>\n",
       "      <td>ATP5A2</td>\n",
       "      <td>Gene Symbol</td>\n",
       "      <td>ncbigene:499</td>\n",
       "      <td>ATP5A2</td>\n",
       "      <td>NCBI</td>\n",
       "      <td>20240410</td>\n",
       "      <td>False</td>\n",
       "      <td>False</td>\n",
       "      <td>False</td>\n",
       "      <td>False</td>\n",
       "    </tr>\n",
       "    <tr>\n",
       "      <th>74841</th>\n",
       "      <td>LOC112268384</td>\n",
       "      <td>Gene Symbol</td>\n",
       "      <td>ncbigene:112268384</td>\n",
       "      <td>LOC112268384</td>\n",
       "      <td>NCBI</td>\n",
       "      <td>20240410</td>\n",
       "      <td>False</td>\n",
       "      <td>False</td>\n",
       "      <td>False</td>\n",
       "      <td>False</td>\n",
       "    </tr>\n",
       "    <tr>\n",
       "      <th>74842</th>\n",
       "      <td>LOC112268384</td>\n",
       "      <td>Gene Symbol</td>\n",
       "      <td>ncbigene:112268384</td>\n",
       "      <td>LOC112268384</td>\n",
       "      <td>GO</td>\n",
       "      <td>10-Apr-24</td>\n",
       "      <td>False</td>\n",
       "      <td>False</td>\n",
       "      <td>False</td>\n",
       "      <td>False</td>\n",
       "    </tr>\n",
       "    <tr>\n",
       "      <th>75375</th>\n",
       "      <td>LOC102723996</td>\n",
       "      <td>Gene Symbol</td>\n",
       "      <td>ncbigene:102723996</td>\n",
       "      <td>LOC102723996</td>\n",
       "      <td>NCBI</td>\n",
       "      <td>20240410</td>\n",
       "      <td>False</td>\n",
       "      <td>False</td>\n",
       "      <td>False</td>\n",
       "      <td>False</td>\n",
       "    </tr>\n",
       "    <tr>\n",
       "      <th>75376</th>\n",
       "      <td>LOC102723996</td>\n",
       "      <td>Gene Symbol</td>\n",
       "      <td>ncbigene:102723996</td>\n",
       "      <td>LOC102723996</td>\n",
       "      <td>GO</td>\n",
       "      <td>10-Apr-24</td>\n",
       "      <td>False</td>\n",
       "      <td>False</td>\n",
       "      <td>False</td>\n",
       "      <td>False</td>\n",
       "    </tr>\n",
       "  </tbody>\n",
       "</table>\n",
       "<p>2177 rows × 10 columns</p>\n",
       "</div>"
      ],
      "text/plain": [
       "      gene_claim_name    nomenclature          concept_id     gene_name  \\\n",
       "0              NGFIBA  NCBI Gene Name                 NaN           NaN   \n",
       "1              NGFIBB  NCBI Gene Name                 NaN           NaN   \n",
       "2                 DAX  NCBI Gene Name                 NaN           NaN   \n",
       "3            REV-ERBA  NCBI Gene Name                 NaN           NaN   \n",
       "4               COUP2  NCBI Gene Name                 NaN           NaN   \n",
       "...               ...             ...                 ...           ...   \n",
       "74562          ATP5A2     Gene Symbol        ncbigene:499        ATP5A2   \n",
       "74841    LOC112268384     Gene Symbol  ncbigene:112268384  LOC112268384   \n",
       "74842    LOC112268384     Gene Symbol  ncbigene:112268384  LOC112268384   \n",
       "75375    LOC102723996     Gene Symbol  ncbigene:102723996  LOC102723996   \n",
       "75376    LOC102723996     Gene Symbol  ncbigene:102723996  LOC102723996   \n",
       "\n",
       "      source_db_name source_db_version  claim_ambiguous_status  \\\n",
       "0           BaderLab            Feb-14                   False   \n",
       "1           BaderLab            Feb-14                   False   \n",
       "2           BaderLab            Feb-14                   False   \n",
       "3           BaderLab            Feb-14                   False   \n",
       "4           BaderLab            Feb-14                   False   \n",
       "...              ...               ...                     ...   \n",
       "74562           NCBI          20240410                   False   \n",
       "74841           NCBI          20240410                   False   \n",
       "74842             GO         10-Apr-24                   False   \n",
       "75375           NCBI          20240410                   False   \n",
       "75376             GO         10-Apr-24                   False   \n",
       "\n",
       "       name_ambiguous_status  claim_primary_status  name_primary_status  \n",
       "0                      False                 False                False  \n",
       "1                      False                 False                False  \n",
       "2                      False                 False                False  \n",
       "3                      False                 False                False  \n",
       "4                      False                 False                False  \n",
       "...                      ...                   ...                  ...  \n",
       "74562                  False                 False                False  \n",
       "74841                  False                 False                False  \n",
       "74842                  False                 False                False  \n",
       "75375                  False                 False                False  \n",
       "75376                  False                 False                False  \n",
       "\n",
       "[2177 rows x 10 columns]"
      ]
     },
     "execution_count": 99,
     "metadata": {},
     "output_type": "execute_result"
    }
   ],
   "source": [
    "not_primary_group_name_df = dgidb_gene_df.loc[~dgidb_gene_df[\"name_primary_status\"]]\n",
    "not_primary_group_name_df"
   ]
  },
  {
   "cell_type": "markdown",
   "metadata": {},
   "source": [
    "#### <a id='toc1_1_2_23_'></a>[How many gene group labels are alias symbols?](#toc0_)"
   ]
  },
  {
   "cell_type": "code",
   "execution_count": 100,
   "metadata": {},
   "outputs": [
    {
     "data": {
      "text/html": [
       "<div>\n",
       "<style scoped>\n",
       "    .dataframe tbody tr th:only-of-type {\n",
       "        vertical-align: middle;\n",
       "    }\n",
       "\n",
       "    .dataframe tbody tr th {\n",
       "        vertical-align: top;\n",
       "    }\n",
       "\n",
       "    .dataframe thead th {\n",
       "        text-align: right;\n",
       "    }\n",
       "</style>\n",
       "<table border=\"1\" class=\"dataframe\">\n",
       "  <thead>\n",
       "    <tr style=\"text-align: right;\">\n",
       "      <th></th>\n",
       "      <th>gene_claim_name</th>\n",
       "      <th>nomenclature</th>\n",
       "      <th>concept_id</th>\n",
       "      <th>gene_name</th>\n",
       "      <th>source_db_name</th>\n",
       "      <th>source_db_version</th>\n",
       "      <th>claim_ambiguous_status</th>\n",
       "      <th>name_ambiguous_status</th>\n",
       "      <th>claim_primary_status</th>\n",
       "      <th>name_primary_status</th>\n",
       "      <th>name_alias_status</th>\n",
       "    </tr>\n",
       "  </thead>\n",
       "  <tbody>\n",
       "    <tr>\n",
       "      <th>0</th>\n",
       "      <td>NGFIBA</td>\n",
       "      <td>NCBI Gene Name</td>\n",
       "      <td>NaN</td>\n",
       "      <td>NaN</td>\n",
       "      <td>BaderLab</td>\n",
       "      <td>Feb-14</td>\n",
       "      <td>False</td>\n",
       "      <td>False</td>\n",
       "      <td>False</td>\n",
       "      <td>False</td>\n",
       "      <td>True</td>\n",
       "    </tr>\n",
       "    <tr>\n",
       "      <th>1</th>\n",
       "      <td>NGFIBB</td>\n",
       "      <td>NCBI Gene Name</td>\n",
       "      <td>NaN</td>\n",
       "      <td>NaN</td>\n",
       "      <td>BaderLab</td>\n",
       "      <td>Feb-14</td>\n",
       "      <td>False</td>\n",
       "      <td>False</td>\n",
       "      <td>False</td>\n",
       "      <td>False</td>\n",
       "      <td>True</td>\n",
       "    </tr>\n",
       "    <tr>\n",
       "      <th>2</th>\n",
       "      <td>DAX</td>\n",
       "      <td>NCBI Gene Name</td>\n",
       "      <td>NaN</td>\n",
       "      <td>NaN</td>\n",
       "      <td>BaderLab</td>\n",
       "      <td>Feb-14</td>\n",
       "      <td>False</td>\n",
       "      <td>False</td>\n",
       "      <td>False</td>\n",
       "      <td>False</td>\n",
       "      <td>True</td>\n",
       "    </tr>\n",
       "    <tr>\n",
       "      <th>3</th>\n",
       "      <td>REV-ERBA</td>\n",
       "      <td>NCBI Gene Name</td>\n",
       "      <td>NaN</td>\n",
       "      <td>NaN</td>\n",
       "      <td>BaderLab</td>\n",
       "      <td>Feb-14</td>\n",
       "      <td>False</td>\n",
       "      <td>False</td>\n",
       "      <td>False</td>\n",
       "      <td>False</td>\n",
       "      <td>True</td>\n",
       "    </tr>\n",
       "    <tr>\n",
       "      <th>4</th>\n",
       "      <td>COUP2</td>\n",
       "      <td>NCBI Gene Name</td>\n",
       "      <td>NaN</td>\n",
       "      <td>NaN</td>\n",
       "      <td>BaderLab</td>\n",
       "      <td>Feb-14</td>\n",
       "      <td>False</td>\n",
       "      <td>False</td>\n",
       "      <td>False</td>\n",
       "      <td>False</td>\n",
       "      <td>True</td>\n",
       "    </tr>\n",
       "    <tr>\n",
       "      <th>...</th>\n",
       "      <td>...</td>\n",
       "      <td>...</td>\n",
       "      <td>...</td>\n",
       "      <td>...</td>\n",
       "      <td>...</td>\n",
       "      <td>...</td>\n",
       "      <td>...</td>\n",
       "      <td>...</td>\n",
       "      <td>...</td>\n",
       "      <td>...</td>\n",
       "      <td>...</td>\n",
       "    </tr>\n",
       "    <tr>\n",
       "      <th>80229</th>\n",
       "      <td>KIT</td>\n",
       "      <td>Gene Symbol</td>\n",
       "      <td>hgnc:6342</td>\n",
       "      <td>KIT</td>\n",
       "      <td>Oncomine</td>\n",
       "      <td>v3</td>\n",
       "      <td>False</td>\n",
       "      <td>False</td>\n",
       "      <td>True</td>\n",
       "      <td>True</td>\n",
       "      <td>False</td>\n",
       "    </tr>\n",
       "    <tr>\n",
       "      <th>80230</th>\n",
       "      <td>HES1</td>\n",
       "      <td>Gene Name</td>\n",
       "      <td>hgnc:5192</td>\n",
       "      <td>HES1</td>\n",
       "      <td>NCI</td>\n",
       "      <td>14-Sep-17</td>\n",
       "      <td>True</td>\n",
       "      <td>True</td>\n",
       "      <td>True</td>\n",
       "      <td>True</td>\n",
       "      <td>True</td>\n",
       "    </tr>\n",
       "    <tr>\n",
       "      <th>80231</th>\n",
       "      <td>IRF1</td>\n",
       "      <td>Gene Symbol</td>\n",
       "      <td>hgnc:6116</td>\n",
       "      <td>IRF1</td>\n",
       "      <td>Tempus</td>\n",
       "      <td>11-Nov-18</td>\n",
       "      <td>False</td>\n",
       "      <td>False</td>\n",
       "      <td>True</td>\n",
       "      <td>True</td>\n",
       "      <td>False</td>\n",
       "    </tr>\n",
       "    <tr>\n",
       "      <th>80232</th>\n",
       "      <td>SHFM1</td>\n",
       "      <td>Gene Name</td>\n",
       "      <td>hgnc:10845</td>\n",
       "      <td>SEM1</td>\n",
       "      <td>DTC</td>\n",
       "      <td>9/2/20</td>\n",
       "      <td>True</td>\n",
       "      <td>False</td>\n",
       "      <td>False</td>\n",
       "      <td>True</td>\n",
       "      <td>False</td>\n",
       "    </tr>\n",
       "    <tr>\n",
       "      <th>80233</th>\n",
       "      <td>NEUROD1</td>\n",
       "      <td>Gene Name</td>\n",
       "      <td>hgnc:7762</td>\n",
       "      <td>NEUROD1</td>\n",
       "      <td>NCI</td>\n",
       "      <td>14-Sep-17</td>\n",
       "      <td>False</td>\n",
       "      <td>False</td>\n",
       "      <td>True</td>\n",
       "      <td>True</td>\n",
       "      <td>False</td>\n",
       "    </tr>\n",
       "  </tbody>\n",
       "</table>\n",
       "<p>80234 rows × 11 columns</p>\n",
       "</div>"
      ],
      "text/plain": [
       "      gene_claim_name    nomenclature  concept_id gene_name source_db_name  \\\n",
       "0              NGFIBA  NCBI Gene Name         NaN       NaN       BaderLab   \n",
       "1              NGFIBB  NCBI Gene Name         NaN       NaN       BaderLab   \n",
       "2                 DAX  NCBI Gene Name         NaN       NaN       BaderLab   \n",
       "3            REV-ERBA  NCBI Gene Name         NaN       NaN       BaderLab   \n",
       "4               COUP2  NCBI Gene Name         NaN       NaN       BaderLab   \n",
       "...               ...             ...         ...       ...            ...   \n",
       "80229             KIT     Gene Symbol   hgnc:6342       KIT       Oncomine   \n",
       "80230            HES1       Gene Name   hgnc:5192      HES1            NCI   \n",
       "80231            IRF1     Gene Symbol   hgnc:6116      IRF1         Tempus   \n",
       "80232           SHFM1       Gene Name  hgnc:10845      SEM1            DTC   \n",
       "80233         NEUROD1       Gene Name   hgnc:7762   NEUROD1            NCI   \n",
       "\n",
       "      source_db_version  claim_ambiguous_status  name_ambiguous_status  \\\n",
       "0                Feb-14                   False                  False   \n",
       "1                Feb-14                   False                  False   \n",
       "2                Feb-14                   False                  False   \n",
       "3                Feb-14                   False                  False   \n",
       "4                Feb-14                   False                  False   \n",
       "...                 ...                     ...                    ...   \n",
       "80229                v3                   False                  False   \n",
       "80230         14-Sep-17                    True                   True   \n",
       "80231         11-Nov-18                   False                  False   \n",
       "80232            9/2/20                    True                  False   \n",
       "80233         14-Sep-17                   False                  False   \n",
       "\n",
       "       claim_primary_status  name_primary_status  name_alias_status  \n",
       "0                     False                False               True  \n",
       "1                     False                False               True  \n",
       "2                     False                False               True  \n",
       "3                     False                False               True  \n",
       "4                     False                False               True  \n",
       "...                     ...                  ...                ...  \n",
       "80229                  True                 True              False  \n",
       "80230                  True                 True               True  \n",
       "80231                  True                 True              False  \n",
       "80232                 False                 True              False  \n",
       "80233                  True                 True              False  \n",
       "\n",
       "[80234 rows x 11 columns]"
      ]
     },
     "execution_count": 100,
     "metadata": {},
     "output_type": "execute_result"
    }
   ],
   "source": [
    "dgidb_gene_df[\"name_alias_status\"] = dgidb_gene_df[\"gene_name\"].isin(\n",
    "    hgnc_ensg_ncbi_alias_symbol_set\n",
    ")\n",
    "dgidb_gene_df"
   ]
  },
  {
   "cell_type": "code",
   "execution_count": 101,
   "metadata": {},
   "outputs": [
    {
     "data": {
      "text/plain": [
       "name_alias_status\n",
       "False    72313\n",
       "True      7921\n",
       "Name: count, dtype: int64"
      ]
     },
     "execution_count": 101,
     "metadata": {},
     "output_type": "execute_result"
    }
   ],
   "source": [
    "dgidb_gene_df[\"name_alias_status\"].value_counts()"
   ]
  },
  {
   "cell_type": "code",
   "execution_count": 102,
   "metadata": {},
   "outputs": [
    {
     "data": {
      "text/plain": [
       "7921"
      ]
     },
     "execution_count": 102,
     "metadata": {},
     "output_type": "execute_result"
    }
   ],
   "source": [
    "alias_name_df = dgidb_gene_df.loc[dgidb_gene_df[\"name_alias_status\"]]\n",
    "num_alias_name = len(alias_name_df)\n",
    "num_alias_name"
   ]
  },
  {
   "cell_type": "code",
   "execution_count": 103,
   "metadata": {},
   "outputs": [
    {
     "name": "stdout",
     "output_type": "stream",
     "text": [
      "True\n"
     ]
    }
   ],
   "source": [
    "print(\"Calmbp1\" in hgnc_ensg_ncbi_alias_symbol_set)"
   ]
  },
  {
   "cell_type": "markdown",
   "metadata": {},
   "source": [
    "#### <a id='toc1_1_2_24_'></a>[How many claims are alias symbols?](#toc0_)"
   ]
  },
  {
   "cell_type": "code",
   "execution_count": 104,
   "metadata": {},
   "outputs": [
    {
     "data": {
      "text/html": [
       "<div>\n",
       "<style scoped>\n",
       "    .dataframe tbody tr th:only-of-type {\n",
       "        vertical-align: middle;\n",
       "    }\n",
       "\n",
       "    .dataframe tbody tr th {\n",
       "        vertical-align: top;\n",
       "    }\n",
       "\n",
       "    .dataframe thead th {\n",
       "        text-align: right;\n",
       "    }\n",
       "</style>\n",
       "<table border=\"1\" class=\"dataframe\">\n",
       "  <thead>\n",
       "    <tr style=\"text-align: right;\">\n",
       "      <th></th>\n",
       "      <th>gene_claim_name</th>\n",
       "      <th>nomenclature</th>\n",
       "      <th>concept_id</th>\n",
       "      <th>gene_name</th>\n",
       "      <th>source_db_name</th>\n",
       "      <th>source_db_version</th>\n",
       "      <th>claim_ambiguous_status</th>\n",
       "      <th>name_ambiguous_status</th>\n",
       "      <th>claim_primary_status</th>\n",
       "      <th>name_primary_status</th>\n",
       "      <th>name_alias_status</th>\n",
       "      <th>claim_alias_status</th>\n",
       "    </tr>\n",
       "  </thead>\n",
       "  <tbody>\n",
       "    <tr>\n",
       "      <th>0</th>\n",
       "      <td>NGFIBA</td>\n",
       "      <td>NCBI Gene Name</td>\n",
       "      <td>NaN</td>\n",
       "      <td>NaN</td>\n",
       "      <td>BaderLab</td>\n",
       "      <td>Feb-14</td>\n",
       "      <td>False</td>\n",
       "      <td>False</td>\n",
       "      <td>False</td>\n",
       "      <td>False</td>\n",
       "      <td>True</td>\n",
       "      <td>False</td>\n",
       "    </tr>\n",
       "    <tr>\n",
       "      <th>1</th>\n",
       "      <td>NGFIBB</td>\n",
       "      <td>NCBI Gene Name</td>\n",
       "      <td>NaN</td>\n",
       "      <td>NaN</td>\n",
       "      <td>BaderLab</td>\n",
       "      <td>Feb-14</td>\n",
       "      <td>False</td>\n",
       "      <td>False</td>\n",
       "      <td>False</td>\n",
       "      <td>False</td>\n",
       "      <td>True</td>\n",
       "      <td>False</td>\n",
       "    </tr>\n",
       "    <tr>\n",
       "      <th>2</th>\n",
       "      <td>DAX</td>\n",
       "      <td>NCBI Gene Name</td>\n",
       "      <td>NaN</td>\n",
       "      <td>NaN</td>\n",
       "      <td>BaderLab</td>\n",
       "      <td>Feb-14</td>\n",
       "      <td>False</td>\n",
       "      <td>False</td>\n",
       "      <td>False</td>\n",
       "      <td>False</td>\n",
       "      <td>True</td>\n",
       "      <td>False</td>\n",
       "    </tr>\n",
       "    <tr>\n",
       "      <th>3</th>\n",
       "      <td>REV-ERBA</td>\n",
       "      <td>NCBI Gene Name</td>\n",
       "      <td>NaN</td>\n",
       "      <td>NaN</td>\n",
       "      <td>BaderLab</td>\n",
       "      <td>Feb-14</td>\n",
       "      <td>False</td>\n",
       "      <td>False</td>\n",
       "      <td>False</td>\n",
       "      <td>False</td>\n",
       "      <td>True</td>\n",
       "      <td>False</td>\n",
       "    </tr>\n",
       "    <tr>\n",
       "      <th>4</th>\n",
       "      <td>COUP2</td>\n",
       "      <td>NCBI Gene Name</td>\n",
       "      <td>NaN</td>\n",
       "      <td>NaN</td>\n",
       "      <td>BaderLab</td>\n",
       "      <td>Feb-14</td>\n",
       "      <td>False</td>\n",
       "      <td>False</td>\n",
       "      <td>False</td>\n",
       "      <td>False</td>\n",
       "      <td>True</td>\n",
       "      <td>False</td>\n",
       "    </tr>\n",
       "    <tr>\n",
       "      <th>...</th>\n",
       "      <td>...</td>\n",
       "      <td>...</td>\n",
       "      <td>...</td>\n",
       "      <td>...</td>\n",
       "      <td>...</td>\n",
       "      <td>...</td>\n",
       "      <td>...</td>\n",
       "      <td>...</td>\n",
       "      <td>...</td>\n",
       "      <td>...</td>\n",
       "      <td>...</td>\n",
       "      <td>...</td>\n",
       "    </tr>\n",
       "    <tr>\n",
       "      <th>80229</th>\n",
       "      <td>KIT</td>\n",
       "      <td>Gene Symbol</td>\n",
       "      <td>hgnc:6342</td>\n",
       "      <td>KIT</td>\n",
       "      <td>Oncomine</td>\n",
       "      <td>v3</td>\n",
       "      <td>False</td>\n",
       "      <td>False</td>\n",
       "      <td>True</td>\n",
       "      <td>True</td>\n",
       "      <td>False</td>\n",
       "      <td>False</td>\n",
       "    </tr>\n",
       "    <tr>\n",
       "      <th>80230</th>\n",
       "      <td>HES1</td>\n",
       "      <td>Gene Name</td>\n",
       "      <td>hgnc:5192</td>\n",
       "      <td>HES1</td>\n",
       "      <td>NCI</td>\n",
       "      <td>14-Sep-17</td>\n",
       "      <td>True</td>\n",
       "      <td>True</td>\n",
       "      <td>True</td>\n",
       "      <td>True</td>\n",
       "      <td>True</td>\n",
       "      <td>True</td>\n",
       "    </tr>\n",
       "    <tr>\n",
       "      <th>80231</th>\n",
       "      <td>IRF1</td>\n",
       "      <td>Gene Symbol</td>\n",
       "      <td>hgnc:6116</td>\n",
       "      <td>IRF1</td>\n",
       "      <td>Tempus</td>\n",
       "      <td>11-Nov-18</td>\n",
       "      <td>False</td>\n",
       "      <td>False</td>\n",
       "      <td>True</td>\n",
       "      <td>True</td>\n",
       "      <td>False</td>\n",
       "      <td>False</td>\n",
       "    </tr>\n",
       "    <tr>\n",
       "      <th>80232</th>\n",
       "      <td>SHFM1</td>\n",
       "      <td>Gene Name</td>\n",
       "      <td>hgnc:10845</td>\n",
       "      <td>SEM1</td>\n",
       "      <td>DTC</td>\n",
       "      <td>9/2/20</td>\n",
       "      <td>True</td>\n",
       "      <td>False</td>\n",
       "      <td>False</td>\n",
       "      <td>True</td>\n",
       "      <td>False</td>\n",
       "      <td>True</td>\n",
       "    </tr>\n",
       "    <tr>\n",
       "      <th>80233</th>\n",
       "      <td>NEUROD1</td>\n",
       "      <td>Gene Name</td>\n",
       "      <td>hgnc:7762</td>\n",
       "      <td>NEUROD1</td>\n",
       "      <td>NCI</td>\n",
       "      <td>14-Sep-17</td>\n",
       "      <td>False</td>\n",
       "      <td>False</td>\n",
       "      <td>True</td>\n",
       "      <td>True</td>\n",
       "      <td>False</td>\n",
       "      <td>False</td>\n",
       "    </tr>\n",
       "  </tbody>\n",
       "</table>\n",
       "<p>80234 rows × 12 columns</p>\n",
       "</div>"
      ],
      "text/plain": [
       "      gene_claim_name    nomenclature  concept_id gene_name source_db_name  \\\n",
       "0              NGFIBA  NCBI Gene Name         NaN       NaN       BaderLab   \n",
       "1              NGFIBB  NCBI Gene Name         NaN       NaN       BaderLab   \n",
       "2                 DAX  NCBI Gene Name         NaN       NaN       BaderLab   \n",
       "3            REV-ERBA  NCBI Gene Name         NaN       NaN       BaderLab   \n",
       "4               COUP2  NCBI Gene Name         NaN       NaN       BaderLab   \n",
       "...               ...             ...         ...       ...            ...   \n",
       "80229             KIT     Gene Symbol   hgnc:6342       KIT       Oncomine   \n",
       "80230            HES1       Gene Name   hgnc:5192      HES1            NCI   \n",
       "80231            IRF1     Gene Symbol   hgnc:6116      IRF1         Tempus   \n",
       "80232           SHFM1       Gene Name  hgnc:10845      SEM1            DTC   \n",
       "80233         NEUROD1       Gene Name   hgnc:7762   NEUROD1            NCI   \n",
       "\n",
       "      source_db_version  claim_ambiguous_status  name_ambiguous_status  \\\n",
       "0                Feb-14                   False                  False   \n",
       "1                Feb-14                   False                  False   \n",
       "2                Feb-14                   False                  False   \n",
       "3                Feb-14                   False                  False   \n",
       "4                Feb-14                   False                  False   \n",
       "...                 ...                     ...                    ...   \n",
       "80229                v3                   False                  False   \n",
       "80230         14-Sep-17                    True                   True   \n",
       "80231         11-Nov-18                   False                  False   \n",
       "80232            9/2/20                    True                  False   \n",
       "80233         14-Sep-17                   False                  False   \n",
       "\n",
       "       claim_primary_status  name_primary_status  name_alias_status  \\\n",
       "0                     False                False               True   \n",
       "1                     False                False               True   \n",
       "2                     False                False               True   \n",
       "3                     False                False               True   \n",
       "4                     False                False               True   \n",
       "...                     ...                  ...                ...   \n",
       "80229                  True                 True              False   \n",
       "80230                  True                 True               True   \n",
       "80231                  True                 True              False   \n",
       "80232                 False                 True              False   \n",
       "80233                  True                 True              False   \n",
       "\n",
       "       claim_alias_status  \n",
       "0                   False  \n",
       "1                   False  \n",
       "2                   False  \n",
       "3                   False  \n",
       "4                   False  \n",
       "...                   ...  \n",
       "80229               False  \n",
       "80230                True  \n",
       "80231               False  \n",
       "80232                True  \n",
       "80233               False  \n",
       "\n",
       "[80234 rows x 12 columns]"
      ]
     },
     "execution_count": 104,
     "metadata": {},
     "output_type": "execute_result"
    }
   ],
   "source": [
    "dgidb_gene_df[\"claim_alias_status\"] = dgidb_gene_df[\"gene_claim_name\"].isin(\n",
    "    hgnc_ensg_ncbi_alias_symbol_set\n",
    ")\n",
    "dgidb_gene_df"
   ]
  },
  {
   "cell_type": "code",
   "execution_count": 105,
   "metadata": {},
   "outputs": [
    {
     "data": {
      "text/plain": [
       "claim_alias_status\n",
       "False    74734\n",
       "True      5500\n",
       "Name: count, dtype: int64"
      ]
     },
     "execution_count": 105,
     "metadata": {},
     "output_type": "execute_result"
    }
   ],
   "source": [
    "dgidb_gene_df[\"claim_alias_status\"].value_counts()"
   ]
  },
  {
   "cell_type": "code",
   "execution_count": 106,
   "metadata": {},
   "outputs": [
    {
     "data": {
      "text/plain": [
       "5500"
      ]
     },
     "execution_count": 106,
     "metadata": {},
     "output_type": "execute_result"
    }
   ],
   "source": [
    "alias_claims_df = dgidb_gene_df.loc[dgidb_gene_df[\"claim_alias_status\"]]\n",
    "num_alias_claims = len(alias_claims_df)\n",
    "num_alias_claims"
   ]
  },
  {
   "cell_type": "markdown",
   "metadata": {},
   "source": [
    "#### <a id='toc1_1_2_25_'></a>[How many claims that were normalized into non-primary symbol labeled groups are alias symbols?](#toc0_)"
   ]
  },
  {
   "cell_type": "code",
   "execution_count": 107,
   "metadata": {},
   "outputs": [
    {
     "data": {
      "text/html": [
       "<div>\n",
       "<style scoped>\n",
       "    .dataframe tbody tr th:only-of-type {\n",
       "        vertical-align: middle;\n",
       "    }\n",
       "\n",
       "    .dataframe tbody tr th {\n",
       "        vertical-align: top;\n",
       "    }\n",
       "\n",
       "    .dataframe thead th {\n",
       "        text-align: right;\n",
       "    }\n",
       "</style>\n",
       "<table border=\"1\" class=\"dataframe\">\n",
       "  <thead>\n",
       "    <tr style=\"text-align: right;\">\n",
       "      <th></th>\n",
       "      <th>gene_claim_name</th>\n",
       "      <th>nomenclature</th>\n",
       "      <th>concept_id</th>\n",
       "      <th>gene_name</th>\n",
       "      <th>source_db_name</th>\n",
       "      <th>source_db_version</th>\n",
       "      <th>claim_ambiguous_status</th>\n",
       "      <th>name_ambiguous_status</th>\n",
       "      <th>claim_primary_status</th>\n",
       "      <th>name_primary_status</th>\n",
       "      <th>name_alias_status</th>\n",
       "      <th>claim_alias_status</th>\n",
       "    </tr>\n",
       "  </thead>\n",
       "  <tbody>\n",
       "    <tr>\n",
       "      <th>3251</th>\n",
       "      <td>USP17L</td>\n",
       "      <td>Gene Symbol</td>\n",
       "      <td>ncbigene:100862847</td>\n",
       "      <td>USP17L</td>\n",
       "      <td>dGene</td>\n",
       "      <td>27-Jun-13</td>\n",
       "      <td>False</td>\n",
       "      <td>False</td>\n",
       "      <td>False</td>\n",
       "      <td>False</td>\n",
       "      <td>True</td>\n",
       "      <td>True</td>\n",
       "    </tr>\n",
       "    <tr>\n",
       "      <th>5920</th>\n",
       "      <td>ALDA</td>\n",
       "      <td>Gene Name</td>\n",
       "      <td>ncbigene:112694756</td>\n",
       "      <td>LOC112694756</td>\n",
       "      <td>DrugBank</td>\n",
       "      <td>5.1.12</td>\n",
       "      <td>False</td>\n",
       "      <td>False</td>\n",
       "      <td>False</td>\n",
       "      <td>False</td>\n",
       "      <td>False</td>\n",
       "      <td>True</td>\n",
       "    </tr>\n",
       "    <tr>\n",
       "      <th>27217</th>\n",
       "      <td>SIK1B</td>\n",
       "      <td>Gene Symbol</td>\n",
       "      <td>ncbigene:102724428</td>\n",
       "      <td>LOC102724428</td>\n",
       "      <td>GO</td>\n",
       "      <td>10-Apr-24</td>\n",
       "      <td>False</td>\n",
       "      <td>False</td>\n",
       "      <td>True</td>\n",
       "      <td>False</td>\n",
       "      <td>False</td>\n",
       "      <td>True</td>\n",
       "    </tr>\n",
       "    <tr>\n",
       "      <th>31884</th>\n",
       "      <td>SIK1B</td>\n",
       "      <td>Gene Symbol</td>\n",
       "      <td>ncbigene:102724428</td>\n",
       "      <td>LOC102724428</td>\n",
       "      <td>Pharos</td>\n",
       "      <td>10-Apr-24</td>\n",
       "      <td>False</td>\n",
       "      <td>False</td>\n",
       "      <td>True</td>\n",
       "      <td>False</td>\n",
       "      <td>False</td>\n",
       "      <td>True</td>\n",
       "    </tr>\n",
       "    <tr>\n",
       "      <th>38737</th>\n",
       "      <td>USP17L</td>\n",
       "      <td>Gene Symbol</td>\n",
       "      <td>ncbigene:100862847</td>\n",
       "      <td>USP17L</td>\n",
       "      <td>NCBI</td>\n",
       "      <td>20240410</td>\n",
       "      <td>False</td>\n",
       "      <td>False</td>\n",
       "      <td>False</td>\n",
       "      <td>False</td>\n",
       "      <td>True</td>\n",
       "      <td>True</td>\n",
       "    </tr>\n",
       "    <tr>\n",
       "      <th>55006</th>\n",
       "      <td>ACT</td>\n",
       "      <td>Gene Symbol</td>\n",
       "      <td>ncbigene:389036</td>\n",
       "      <td>ACT</td>\n",
       "      <td>NCBI</td>\n",
       "      <td>20240410</td>\n",
       "      <td>True</td>\n",
       "      <td>True</td>\n",
       "      <td>False</td>\n",
       "      <td>False</td>\n",
       "      <td>True</td>\n",
       "      <td>True</td>\n",
       "    </tr>\n",
       "    <tr>\n",
       "      <th>66195</th>\n",
       "      <td>OA1</td>\n",
       "      <td>Gene Symbol</td>\n",
       "      <td>ncbigene:474285</td>\n",
       "      <td>OA1</td>\n",
       "      <td>NCBI</td>\n",
       "      <td>20240410</td>\n",
       "      <td>False</td>\n",
       "      <td>False</td>\n",
       "      <td>False</td>\n",
       "      <td>False</td>\n",
       "      <td>True</td>\n",
       "      <td>True</td>\n",
       "    </tr>\n",
       "    <tr>\n",
       "      <th>66196</th>\n",
       "      <td>OA1</td>\n",
       "      <td>Gene Symbol</td>\n",
       "      <td>ncbigene:474285</td>\n",
       "      <td>OA1</td>\n",
       "      <td>dGene</td>\n",
       "      <td>27-Jun-13</td>\n",
       "      <td>False</td>\n",
       "      <td>False</td>\n",
       "      <td>False</td>\n",
       "      <td>False</td>\n",
       "      <td>True</td>\n",
       "      <td>True</td>\n",
       "    </tr>\n",
       "  </tbody>\n",
       "</table>\n",
       "</div>"
      ],
      "text/plain": [
       "      gene_claim_name nomenclature          concept_id     gene_name  \\\n",
       "3251           USP17L  Gene Symbol  ncbigene:100862847        USP17L   \n",
       "5920             ALDA    Gene Name  ncbigene:112694756  LOC112694756   \n",
       "27217           SIK1B  Gene Symbol  ncbigene:102724428  LOC102724428   \n",
       "31884           SIK1B  Gene Symbol  ncbigene:102724428  LOC102724428   \n",
       "38737          USP17L  Gene Symbol  ncbigene:100862847        USP17L   \n",
       "55006             ACT  Gene Symbol     ncbigene:389036           ACT   \n",
       "66195             OA1  Gene Symbol     ncbigene:474285           OA1   \n",
       "66196             OA1  Gene Symbol     ncbigene:474285           OA1   \n",
       "\n",
       "      source_db_name source_db_version  claim_ambiguous_status  \\\n",
       "3251           dGene         27-Jun-13                   False   \n",
       "5920        DrugBank            5.1.12                   False   \n",
       "27217             GO         10-Apr-24                   False   \n",
       "31884         Pharos         10-Apr-24                   False   \n",
       "38737           NCBI          20240410                   False   \n",
       "55006           NCBI          20240410                    True   \n",
       "66195           NCBI          20240410                   False   \n",
       "66196          dGene         27-Jun-13                   False   \n",
       "\n",
       "       name_ambiguous_status  claim_primary_status  name_primary_status  \\\n",
       "3251                   False                 False                False   \n",
       "5920                   False                 False                False   \n",
       "27217                  False                  True                False   \n",
       "31884                  False                  True                False   \n",
       "38737                  False                 False                False   \n",
       "55006                   True                 False                False   \n",
       "66195                  False                 False                False   \n",
       "66196                  False                 False                False   \n",
       "\n",
       "       name_alias_status  claim_alias_status  \n",
       "3251                True                True  \n",
       "5920               False                True  \n",
       "27217              False                True  \n",
       "31884              False                True  \n",
       "38737               True                True  \n",
       "55006               True                True  \n",
       "66195               True                True  \n",
       "66196               True                True  "
      ]
     },
     "execution_count": 107,
     "metadata": {},
     "output_type": "execute_result"
    }
   ],
   "source": [
    "dgidb_gene_df[\"claim_alias_status\"] = dgidb_gene_df[\"gene_claim_name\"].isin(\n",
    "    hgnc_ensg_ncbi_alias_symbol_set\n",
    ")\n",
    "alias_claim_not_primary_group_name_df = dgidb_gene_df.loc[\n",
    "    dgidb_gene_df[\"claim_alias_status\"] & ~dgidb_gene_df[\"name_primary_status\"]\n",
    "]\n",
    "alias_claim_not_primary_group_name_df"
   ]
  },
  {
   "cell_type": "markdown",
   "metadata": {},
   "source": [
    "#### <a id='toc1_1_2_26_'></a>[How many not normalized claims are alias symbols?](#toc0_)"
   ]
  },
  {
   "cell_type": "code",
   "execution_count": 108,
   "metadata": {},
   "outputs": [
    {
     "data": {
      "text/plain": [
       "0"
      ]
     },
     "execution_count": 108,
     "metadata": {},
     "output_type": "execute_result"
    }
   ],
   "source": [
    "alias_claim_null_name_df = dgidb_gene_df.loc[\n",
    "    dgidb_gene_df[\"claim_alias_status\"] & dgidb_gene_df[\"gene_name\"].isnull()\n",
    "]\n",
    "len(alias_claim_null_name_df)"
   ]
  },
  {
   "cell_type": "markdown",
   "metadata": {},
   "source": [
    "#### <a id='toc1_1_2_27_'></a>[How many gene group labels are not primary, alias symbols, or null?](#toc0_)"
   ]
  },
  {
   "cell_type": "code",
   "execution_count": 109,
   "metadata": {},
   "outputs": [
    {
     "data": {
      "text/plain": [
       "27"
      ]
     },
     "execution_count": 109,
     "metadata": {},
     "output_type": "execute_result"
    }
   ],
   "source": [
    "other_name_df = dgidb_gene_df.loc[\n",
    "    ~dgidb_gene_df[\"name_alias_status\"]\n",
    "    & ~dgidb_gene_df[\"name_primary_status\"]\n",
    "    & ~dgidb_gene_df[\"gene_name\"].isnull()\n",
    "]\n",
    "num_other_name = len(other_name_df)\n",
    "num_other_name"
   ]
  },
  {
   "cell_type": "markdown",
   "metadata": {},
   "source": [
    "#### <a id='toc1_1_2_28_'></a>[How many claims are not primary, alias symbols, or null?](#toc0_)"
   ]
  },
  {
   "cell_type": "code",
   "execution_count": 110,
   "metadata": {},
   "outputs": [
    {
     "data": {
      "text/plain": [
       "15283"
      ]
     },
     "execution_count": 110,
     "metadata": {},
     "output_type": "execute_result"
    }
   ],
   "source": [
    "other_claim_df = dgidb_gene_df.loc[\n",
    "    ~dgidb_gene_df[\"claim_alias_status\"] & ~dgidb_gene_df[\"claim_primary_status\"]\n",
    "]\n",
    "num_other_claim = len(other_claim_df)\n",
    "num_other_claim"
   ]
  },
  {
   "cell_type": "markdown",
   "metadata": {},
   "source": [
    "#### <a id='toc1_1_2_29_'></a>[How many claims are primary and alias symbols?](#toc0_)"
   ]
  },
  {
   "cell_type": "code",
   "execution_count": 111,
   "metadata": {},
   "outputs": [
    {
     "data": {
      "text/plain": [
       "4747"
      ]
     },
     "execution_count": 111,
     "metadata": {},
     "output_type": "execute_result"
    }
   ],
   "source": [
    "primaryandalias_claim_df = dgidb_gene_df.loc[\n",
    "    dgidb_gene_df[\"claim_alias_status\"] & dgidb_gene_df[\"claim_primary_status\"]\n",
    "]\n",
    "num_primaryandalias_claim = len(primaryandalias_claim_df)\n",
    "num_primaryandalias_claim"
   ]
  },
  {
   "cell_type": "markdown",
   "metadata": {},
   "source": [
    "#### <a id='toc1_1_2_30_'></a>[How many primary symbol claims are normalized into non-primary gene group labels?](#toc0_)"
   ]
  },
  {
   "cell_type": "code",
   "execution_count": 112,
   "metadata": {},
   "outputs": [
    {
     "data": {
      "text/html": [
       "<div>\n",
       "<style scoped>\n",
       "    .dataframe tbody tr th:only-of-type {\n",
       "        vertical-align: middle;\n",
       "    }\n",
       "\n",
       "    .dataframe tbody tr th {\n",
       "        vertical-align: top;\n",
       "    }\n",
       "\n",
       "    .dataframe thead th {\n",
       "        text-align: right;\n",
       "    }\n",
       "</style>\n",
       "<table border=\"1\" class=\"dataframe\">\n",
       "  <thead>\n",
       "    <tr style=\"text-align: right;\">\n",
       "      <th></th>\n",
       "      <th>gene_claim_name</th>\n",
       "      <th>nomenclature</th>\n",
       "      <th>concept_id</th>\n",
       "      <th>gene_name</th>\n",
       "      <th>source_db_name</th>\n",
       "      <th>source_db_version</th>\n",
       "      <th>claim_ambiguous_status</th>\n",
       "      <th>name_ambiguous_status</th>\n",
       "      <th>claim_primary_status</th>\n",
       "      <th>name_primary_status</th>\n",
       "      <th>name_alias_status</th>\n",
       "      <th>claim_alias_status</th>\n",
       "    </tr>\n",
       "  </thead>\n",
       "  <tbody>\n",
       "    <tr>\n",
       "      <th>27217</th>\n",
       "      <td>SIK1B</td>\n",
       "      <td>Gene Symbol</td>\n",
       "      <td>ncbigene:102724428</td>\n",
       "      <td>LOC102724428</td>\n",
       "      <td>GO</td>\n",
       "      <td>10-Apr-24</td>\n",
       "      <td>False</td>\n",
       "      <td>False</td>\n",
       "      <td>True</td>\n",
       "      <td>False</td>\n",
       "      <td>False</td>\n",
       "      <td>True</td>\n",
       "    </tr>\n",
       "    <tr>\n",
       "      <th>31884</th>\n",
       "      <td>SIK1B</td>\n",
       "      <td>Gene Symbol</td>\n",
       "      <td>ncbigene:102724428</td>\n",
       "      <td>LOC102724428</td>\n",
       "      <td>Pharos</td>\n",
       "      <td>10-Apr-24</td>\n",
       "      <td>False</td>\n",
       "      <td>False</td>\n",
       "      <td>True</td>\n",
       "      <td>False</td>\n",
       "      <td>False</td>\n",
       "      <td>True</td>\n",
       "    </tr>\n",
       "  </tbody>\n",
       "</table>\n",
       "</div>"
      ],
      "text/plain": [
       "      gene_claim_name nomenclature          concept_id     gene_name  \\\n",
       "27217           SIK1B  Gene Symbol  ncbigene:102724428  LOC102724428   \n",
       "31884           SIK1B  Gene Symbol  ncbigene:102724428  LOC102724428   \n",
       "\n",
       "      source_db_name source_db_version  claim_ambiguous_status  \\\n",
       "27217             GO         10-Apr-24                   False   \n",
       "31884         Pharos         10-Apr-24                   False   \n",
       "\n",
       "       name_ambiguous_status  claim_primary_status  name_primary_status  \\\n",
       "27217                  False                  True                False   \n",
       "31884                  False                  True                False   \n",
       "\n",
       "       name_alias_status  claim_alias_status  \n",
       "27217              False                True  \n",
       "31884              False                True  "
      ]
     },
     "execution_count": 112,
     "metadata": {},
     "output_type": "execute_result"
    }
   ],
   "source": [
    "claim_true_name_false_df = dgidb_gene_df.loc[\n",
    "    dgidb_gene_df[\"claim_primary_status\"] & ~dgidb_gene_df[\"name_primary_status\"]\n",
    "]\n",
    "claim_true_name_false_df"
   ]
  },
  {
   "cell_type": "code",
   "execution_count": 113,
   "metadata": {},
   "outputs": [
    {
     "data": {
      "text/plain": [
       "2"
      ]
     },
     "execution_count": 113,
     "metadata": {},
     "output_type": "execute_result"
    }
   ],
   "source": [
    "len(claim_true_name_false_df)"
   ]
  },
  {
   "cell_type": "markdown",
   "metadata": {},
   "source": [
    "### <a id='toc1_1_3_'></a>[Summary](#toc0_)"
   ]
  },
  {
   "cell_type": "markdown",
   "metadata": {},
   "source": [
    "#### <a id='toc1_1_3_1_'></a>[Normalization Rates](#toc0_)"
   ]
  },
  {
   "cell_type": "code",
   "execution_count": 114,
   "metadata": {},
   "outputs": [
    {
     "data": {
      "text/html": [
       "<div>\n",
       "<style scoped>\n",
       "    .dataframe tbody tr th:only-of-type {\n",
       "        vertical-align: middle;\n",
       "    }\n",
       "\n",
       "    .dataframe tbody tr th {\n",
       "        vertical-align: top;\n",
       "    }\n",
       "\n",
       "    .dataframe thead th {\n",
       "        text-align: right;\n",
       "    }\n",
       "</style>\n",
       "<table border=\"1\" class=\"dataframe\">\n",
       "  <thead>\n",
       "    <tr style=\"text-align: right;\">\n",
       "      <th></th>\n",
       "      <th>Number of Claims</th>\n",
       "    </tr>\n",
       "  </thead>\n",
       "  <tbody>\n",
       "    <tr>\n",
       "      <th>Normalized</th>\n",
       "      <td>78090</td>\n",
       "    </tr>\n",
       "    <tr>\n",
       "      <th>Not Normalized</th>\n",
       "      <td>2144</td>\n",
       "    </tr>\n",
       "    <tr>\n",
       "      <th>Total</th>\n",
       "      <td>80234</td>\n",
       "    </tr>\n",
       "  </tbody>\n",
       "</table>\n",
       "</div>"
      ],
      "text/plain": [
       "                Number of Claims\n",
       "Normalized                 78090\n",
       "Not Normalized              2144\n",
       "Total                      80234"
      ]
     },
     "execution_count": 114,
     "metadata": {},
     "output_type": "execute_result"
    }
   ],
   "source": [
    "normalization_index = \"Normalized\", \"Not Normalized\", \"Total\"\n",
    "normalization_summary = {\n",
    "    \"Number of Claims\": [\n",
    "        num_normalized_claims,\n",
    "        num_not_normalized_claims,\n",
    "        num_total_claims,\n",
    "    ]\n",
    "}\n",
    "normalization_summary_df = pd.DataFrame(\n",
    "    normalization_summary, index=normalization_index\n",
    ")\n",
    "normalization_summary_df"
   ]
  },
  {
   "cell_type": "markdown",
   "metadata": {},
   "source": [
    "#### <a id='toc1_1_3_2_'></a>[Types of Claim Symbols](#toc0_)"
   ]
  },
  {
   "cell_type": "markdown",
   "metadata": {},
   "source": [
    "- Primary and Alias symbols are not exclusive as some primary symbols are used as aliases (alias-primary collisions)\n",
    "- Other does not include any Primary or Alias symbols\n",
    "- Ambiguous symbols can be either Primary or Alias"
   ]
  },
  {
   "cell_type": "code",
   "execution_count": 115,
   "metadata": {},
   "outputs": [
    {
     "data": {
      "text/html": [
       "<div>\n",
       "<style scoped>\n",
       "    .dataframe tbody tr th:only-of-type {\n",
       "        vertical-align: middle;\n",
       "    }\n",
       "\n",
       "    .dataframe tbody tr th {\n",
       "        vertical-align: top;\n",
       "    }\n",
       "\n",
       "    .dataframe thead th {\n",
       "        text-align: right;\n",
       "    }\n",
       "</style>\n",
       "<table border=\"1\" class=\"dataframe\">\n",
       "  <thead>\n",
       "    <tr style=\"text-align: right;\">\n",
       "      <th></th>\n",
       "      <th>Number of Claims</th>\n",
       "    </tr>\n",
       "  </thead>\n",
       "  <tbody>\n",
       "    <tr>\n",
       "      <th>Primary</th>\n",
       "      <td>64198</td>\n",
       "    </tr>\n",
       "    <tr>\n",
       "      <th>Alias</th>\n",
       "      <td>5500</td>\n",
       "    </tr>\n",
       "    <tr>\n",
       "      <th>Other</th>\n",
       "      <td>15283</td>\n",
       "    </tr>\n",
       "    <tr>\n",
       "      <th>Ambiguous</th>\n",
       "      <td>4822</td>\n",
       "    </tr>\n",
       "    <tr>\n",
       "      <th>Total</th>\n",
       "      <td>80234</td>\n",
       "    </tr>\n",
       "  </tbody>\n",
       "</table>\n",
       "</div>"
      ],
      "text/plain": [
       "           Number of Claims\n",
       "Primary               64198\n",
       "Alias                  5500\n",
       "Other                 15283\n",
       "Ambiguous              4822\n",
       "Total                 80234"
      ]
     },
     "execution_count": 115,
     "metadata": {},
     "output_type": "execute_result"
    }
   ],
   "source": [
    "claim_index = \"Primary\", \"Alias\", \"Other\", \"Ambiguous\", \"Total\"\n",
    "claim_summary = {\n",
    "    \"Number of Claims\": [\n",
    "        num_primary_claim,\n",
    "        num_alias_claims,\n",
    "        num_other_claim,\n",
    "        num_ambiguous_claim,\n",
    "        num_total_claims,\n",
    "    ]\n",
    "}\n",
    "claim_summary_df = pd.DataFrame(claim_summary, index=claim_index)\n",
    "claim_summary_df"
   ]
  },
  {
   "cell_type": "markdown",
   "metadata": {},
   "source": [
    "#### <a id='toc1_1_3_3_'></a>[Types of Normalizations (gene group labels claims are being normliazed into)](#toc0_)"
   ]
  },
  {
   "cell_type": "code",
   "execution_count": 116,
   "metadata": {},
   "outputs": [
    {
     "data": {
      "text/html": [
       "<div>\n",
       "<style scoped>\n",
       "    .dataframe tbody tr th:only-of-type {\n",
       "        vertical-align: middle;\n",
       "    }\n",
       "\n",
       "    .dataframe tbody tr th {\n",
       "        vertical-align: top;\n",
       "    }\n",
       "\n",
       "    .dataframe thead th {\n",
       "        text-align: right;\n",
       "    }\n",
       "</style>\n",
       "<table border=\"1\" class=\"dataframe\">\n",
       "  <thead>\n",
       "    <tr style=\"text-align: right;\">\n",
       "      <th></th>\n",
       "      <th>Number of Claims</th>\n",
       "    </tr>\n",
       "  </thead>\n",
       "  <tbody>\n",
       "    <tr>\n",
       "      <th>Primary</th>\n",
       "      <td>78057</td>\n",
       "    </tr>\n",
       "    <tr>\n",
       "      <th>Alias</th>\n",
       "      <td>7921</td>\n",
       "    </tr>\n",
       "    <tr>\n",
       "      <th>Null</th>\n",
       "      <td>2144</td>\n",
       "    </tr>\n",
       "    <tr>\n",
       "      <th>Other</th>\n",
       "      <td>27</td>\n",
       "    </tr>\n",
       "    <tr>\n",
       "      <th>Ambiguous</th>\n",
       "      <td>5722</td>\n",
       "    </tr>\n",
       "    <tr>\n",
       "      <th>Total</th>\n",
       "      <td>80234</td>\n",
       "    </tr>\n",
       "  </tbody>\n",
       "</table>\n",
       "</div>"
      ],
      "text/plain": [
       "           Number of Claims\n",
       "Primary               78057\n",
       "Alias                  7921\n",
       "Null                   2144\n",
       "Other                    27\n",
       "Ambiguous              5722\n",
       "Total                 80234"
      ]
     },
     "execution_count": 116,
     "metadata": {},
     "output_type": "execute_result"
    }
   ],
   "source": [
    "gene_group_index = \"Primary\", \"Alias\", \"Null\", \"Other\", \"Ambiguous\", \"Total\"\n",
    "gene_group_summary = {\n",
    "    \"Number of Claims\": [\n",
    "        num_primary_name,\n",
    "        num_alias_name,\n",
    "        num_not_normalized_claims,\n",
    "        num_other_name,\n",
    "        num_ambiguous_name,\n",
    "        num_total_claims,\n",
    "    ]\n",
    "}\n",
    "gene_group_summary_df = pd.DataFrame(gene_group_summary, index=gene_group_index)\n",
    "gene_group_summary_df"
   ]
  }
 ],
 "metadata": {
  "kernelspec": {
   "display_name": ".venv",
   "language": "python",
   "name": "python3"
  },
  "language_info": {
   "codemirror_mode": {
    "name": "ipython",
    "version": 3
   },
   "file_extension": ".py",
   "mimetype": "text/x-python",
   "name": "python",
   "nbconvert_exporter": "python",
   "pygments_lexer": "ipython3",
   "version": "3.11.7"
  }
 },
 "nbformat": 4,
 "nbformat_minor": 2
}
