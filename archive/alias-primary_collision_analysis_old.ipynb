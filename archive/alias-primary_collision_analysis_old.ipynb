{
 "cells": [
  {
   "cell_type": "markdown",
   "metadata": {},
   "source": [
    "### Import "
   ]
  },
  {
   "cell_type": "code",
   "execution_count": 9,
   "metadata": {},
   "outputs": [],
   "source": [
    "import pandas as pd\n",
    "import numpy as np\n",
    "from civicpy import civic as civicpy\n",
    "\n",
    "from civicpy import LOCAL_CACHE_PATH"
   ]
  },
  {
   "cell_type": "code",
   "execution_count": 10,
   "metadata": {},
   "outputs": [
    {
     "ename": "UnpicklingError",
     "evalue": "pickle data was truncated",
     "output_type": "error",
     "traceback": [
      "\u001b[0;31m---------------------------------------------------------------------------\u001b[0m",
      "\u001b[0;31mUnpicklingError\u001b[0m                           Traceback (most recent call last)",
      "Cell \u001b[0;32mIn[10], line 1\u001b[0m\n\u001b[0;32m----> 1\u001b[0m \u001b[43mcivicpy\u001b[49m\u001b[38;5;241;43m.\u001b[39;49m\u001b[43mload_cache\u001b[49m\u001b[43m(\u001b[49m\u001b[43mlocal_cache_path\u001b[49m\u001b[38;5;241;43m=\u001b[39;49m\u001b[43mLOCAL_CACHE_PATH\u001b[49m\u001b[43m,\u001b[49m\u001b[43m \u001b[49m\u001b[43mon_stale\u001b[49m\u001b[38;5;241;43m=\u001b[39;49m\u001b[38;5;124;43m\"\u001b[39;49m\u001b[38;5;124;43mignore\u001b[39;49m\u001b[38;5;124;43m\"\u001b[39;49m\u001b[43m)\u001b[49m\n\u001b[1;32m      3\u001b[0m civic_molprof_ids \u001b[38;5;241m=\u001b[39m civicpy\u001b[38;5;241m.\u001b[39mget_all_molecular_profiles(\n\u001b[1;32m      4\u001b[0m     include_status\u001b[38;5;241m=\u001b[39m[\u001b[38;5;124m\"\u001b[39m\u001b[38;5;124maccepted\u001b[39m\u001b[38;5;124m\"\u001b[39m, \u001b[38;5;124m\"\u001b[39m\u001b[38;5;124msubmitted\u001b[39m\u001b[38;5;124m\"\u001b[39m, \u001b[38;5;124m\"\u001b[39m\u001b[38;5;124mrejected\u001b[39m\u001b[38;5;124m\"\u001b[39m]\n\u001b[1;32m      5\u001b[0m )\n",
      "File \u001b[0;32m~/.pyenv/versions/3.11.7/lib/python3.11/site-packages/civicpy/civic.py:196\u001b[0m, in \u001b[0;36mload_cache\u001b[0;34m(local_cache_path, on_stale)\u001b[0m\n\u001b[1;32m    194\u001b[0m     \u001b[38;5;28;01mraise\u001b[39;00m \u001b[38;5;167;01mFileNotFoundError\u001b[39;00m(\u001b[38;5;124m\"\u001b[39m\u001b[38;5;124mNo cache found at \u001b[39m\u001b[38;5;132;01m{}\u001b[39;00m\u001b[38;5;124m\"\u001b[39m\u001b[38;5;241m.\u001b[39mformat(local_cache_path))\n\u001b[1;32m    195\u001b[0m \u001b[38;5;28;01mwith\u001b[39;00m \u001b[38;5;28mopen\u001b[39m(local_cache_path, \u001b[38;5;124m'\u001b[39m\u001b[38;5;124mrb\u001b[39m\u001b[38;5;124m'\u001b[39m) \u001b[38;5;28;01mas\u001b[39;00m pf:\n\u001b[0;32m--> 196\u001b[0m     loaded_cache \u001b[38;5;241m=\u001b[39m pickle\u001b[38;5;241m.\u001b[39mload(pf)\n\u001b[1;32m    197\u001b[0m c \u001b[38;5;241m=\u001b[39m \u001b[38;5;28mdict\u001b[39m()\n\u001b[1;32m    198\u001b[0m variants \u001b[38;5;241m=\u001b[39m \u001b[38;5;28mset\u001b[39m()\n",
      "\u001b[0;31mUnpicklingError\u001b[0m: pickle data was truncated"
     ]
    }
   ],
   "source": [
    "civicpy.load_cache(local_cache_path=LOCAL_CACHE_PATH, on_stale=\"ignore\")\n",
    "\n",
    "civic_molprof_ids = civicpy.get_all_molecular_profiles(\n",
    "    include_status=[\"accepted\", \"submitted\", \"rejected\"]\n",
    ")"
   ]
  },
  {
   "cell_type": "code",
   "execution_count": null,
   "metadata": {},
   "outputs": [],
   "source": [
    "civic_variant_ids = civicpy.get_all_variants()"
   ]
  },
  {
   "cell_type": "code",
   "execution_count": null,
   "metadata": {},
   "outputs": [],
   "source": [
    "def transform_df_mp_id(df: pd.DataFrame) -> pd.DataFrame:\n",
    "    \"\"\"Transform dataframe to include molecular profile ID information\n",
    "\n",
    "    :param df: Dataframe of variants\n",
    "    :return: Transformed dataframe with molecular profile ID information\n",
    "    \"\"\"\n",
    "    tmp_df = df.copy(deep=True)\n",
    "\n",
    "    variants_molprof_ids = []\n",
    "    variant_ids = list(tmp_df[\"civic_ids\"])\n",
    "\n",
    "    for v_id in variant_ids:\n",
    "        variant_molprof_ids = []\n",
    "\n",
    "        for variant in civic_variant_ids:\n",
    "            if int(v_id) == variant.id:\n",
    "                for mp in variant.molecular_profiles:\n",
    "                    if mp.id not in variant_molprof_ids:\n",
    "                        variant_molprof_ids.append(mp.id)\n",
    "\n",
    "        variants_molprof_ids.append(variant_molprof_ids or \"\")\n",
    "\n",
    "    tmp_df[\"molecular_profile_id\"] = variants_molprof_ids\n",
    "    return tmp_df"
   ]
  },
  {
   "cell_type": "code",
   "execution_count": null,
   "metadata": {},
   "outputs": [],
   "source": [
    "def transform_df_mp_score(df: pd.DataFrame) -> pd.DataFrame:\n",
    "    \"\"\"Transform dataframe to include molecular profile score information\n",
    "\n",
    "    :param df: Dataframe of variants\n",
    "    :return: Transformed dataframe with molecular profile score information\n",
    "    \"\"\"\n",
    "    variants_molprof_scores = []\n",
    "    normalized_variant_molprof_ids = list(df[\"molecular_profile_id\"])\n",
    "\n",
    "    for mp_ids in normalized_variant_molprof_ids:\n",
    "        variant_molprof_scores = []\n",
    "        for mp_id in mp_ids:\n",
    "            for molprof in civic_molprof_ids:\n",
    "                if int(mp_id) == molprof.id:\n",
    "                    if molprof.molecular_profile_score not in variant_molprof_scores:\n",
    "                        variant_molprof_scores.append(molprof.molecular_profile_score)\n",
    "\n",
    "        variants_molprof_scores.append(variant_molprof_scores or \"\")\n",
    "\n",
    "    df[\"molecular_profile_score\"] = variants_molprof_scores\n",
    "    return df"
   ]
  },
  {
   "cell_type": "markdown",
   "metadata": {},
   "source": [
    "# Ensembl"
   ]
  },
  {
   "cell_type": "code",
   "execution_count": null,
   "metadata": {},
   "outputs": [],
   "source": [
    "mini_ensg_df = pd.read_csv(\n",
    "    \"../downloaded_files/ensg_biomart_gene20240626.txt\", sep=\"\\t\",dtype={\"NCBI gene (formerly Entrezgene) ID\": pd.Int64Dtype()}\n",
    ")\n",
    "mini_ensg_df = mini_ensg_df.rename(\n",
    "    columns={\n",
    "        \"HGNC ID\": \"HGNC_ID\",\n",
    "        \"Gene Synonym\": \"alias_symbol\",\n",
    "        \"Gene name\": \"gene_symbol\",\n",
    "        \"Gene stable ID\": \"ENSG_ID\",\n",
    "        \"NCBI gene (formerly Entrezgene) ID\": \"NCBI_ID\",\n",
    "    }\n",
    ")\n",
    "mini_ensg_df"
   ]
  },
  {
   "cell_type": "code",
   "execution_count": null,
   "metadata": {},
   "outputs": [],
   "source": [
    "mini_ensg_df[\"alias_symbol\"] = mini_ensg_df[\"alias_symbol\"].fillna(\"\").astype(str)\n",
    "mini_ensg_df = (\n",
    "    mini_ensg_df.groupby(\n",
    "        [\"ENSG_ID\", \"gene_symbol\", \"HGNC_ID\", \"NCBI_ID\"], dropna=False\n",
    "    )[\"alias_symbol\"]\n",
    "    .apply(lambda x: \",\".join(x.dropna()))\n",
    "    .reset_index()\n",
    ")\n",
    "mini_ensg_df"
   ]
  },
  {
   "cell_type": "code",
   "execution_count": null,
   "metadata": {},
   "outputs": [],
   "source": [
    "mini_ensg_df[\"HGNC_ID\"] = mini_ensg_df[\"HGNC_ID\"].str.lstrip(\"HGNC:\")\n",
    "mini_ensg_df"
   ]
  },
  {
   "cell_type": "code",
   "execution_count": null,
   "metadata": {},
   "outputs": [],
   "source": [
    "mini_ensg_df.to_csv(\"../created_files/mini_ensg_df.csv\", index=False)\n",
    "mini_ensg_df.head()"
   ]
  },
  {
   "cell_type": "markdown",
   "metadata": {},
   "source": [
    "One gene symbol may have multiple NCBI IDs"
   ]
  },
  {
   "cell_type": "code",
   "execution_count": null,
   "metadata": {},
   "outputs": [],
   "source": [
    "mini_ensg_df[\"symbol_duplicates\"] = mini_ensg_df.duplicated(\n",
    "    subset=\"gene_symbol\", keep=False\n",
    ")\n",
    "dup_symbol_mini_ensg_df = mini_ensg_df[mini_ensg_df[\"symbol_duplicates\"]]\n",
    "dup_symbol_mini_ensg_df"
   ]
  },
  {
   "cell_type": "code",
   "execution_count": null,
   "metadata": {},
   "outputs": [],
   "source": [
    "mini_ensg_df.loc[mini_ensg_df[\"gene_symbol\"] == \"ST7\"]"
   ]
  },
  {
   "cell_type": "code",
   "execution_count": null,
   "metadata": {},
   "outputs": [],
   "source": [
    "mini_ensg_df = mini_ensg_df.drop(\"symbol_duplicates\", axis=1)\n",
    "mini_ensg_df"
   ]
  },
  {
   "cell_type": "markdown",
   "metadata": {},
   "source": [
    "### Make a set of the primary gene symbols"
   ]
  },
  {
   "cell_type": "code",
   "execution_count": null,
   "metadata": {},
   "outputs": [],
   "source": [
    "ensg_gene_symbol_set = set(mini_ensg_df[\"gene_symbol\"])"
   ]
  },
  {
   "cell_type": "code",
   "execution_count": null,
   "metadata": {},
   "outputs": [],
   "source": [
    "len(ensg_gene_symbol_set)"
   ]
  },
  {
   "cell_type": "code",
   "execution_count": null,
   "metadata": {},
   "outputs": [],
   "source": [
    "total_number_ensembl_gene_symbols = len(ensg_gene_symbol_set)\n",
    "total_number_ensembl_gene_symbols"
   ]
  },
  {
   "cell_type": "markdown",
   "metadata": {},
   "source": [
    "Drop genes with no aliases"
   ]
  },
  {
   "cell_type": "code",
   "execution_count": null,
   "metadata": {},
   "outputs": [],
   "source": [
    "mini_ensg_df = mini_ensg_df.replace(\" \", np.nan)\n",
    "mini_ensg_df = mini_ensg_df.replace(\"\", np.nan)\n",
    "mini_ensg_df = mini_ensg_df.replace(\"-\", np.nan)\n",
    "mini_ensg_df = mini_ensg_df.dropna(subset=[\"alias_symbol\"])\n",
    "mini_ensg_df"
   ]
  },
  {
   "cell_type": "markdown",
   "metadata": {},
   "source": [
    "### Make each row in alias_symbol a set:\n",
    "    covert to a list \n",
    "    make a set"
   ]
  },
  {
   "cell_type": "code",
   "execution_count": null,
   "metadata": {},
   "outputs": [],
   "source": [
    "mini_ensg_df[\"alias_symbol\"] = mini_ensg_df[\"alias_symbol\"].astype(str)\n",
    "mini_ensg_df[\"alias_symbol\"] = [x.split(\",\") for x in mini_ensg_df.alias_symbol]\n",
    "mini_ensg_df[\"alias_symbol\"] = np.where(\n",
    "    mini_ensg_df.alias_symbol == \"\", \"\", mini_ensg_df.alias_symbol.map(set)\n",
    ")\n",
    "mini_ensg_df"
   ]
  },
  {
   "cell_type": "markdown",
   "metadata": {},
   "source": [
    "## Test for false positives (when a gene symbol has an alias that is exactly the same as the primary gene symbol)"
   ]
  },
  {
   "cell_type": "code",
   "execution_count": null,
   "metadata": {},
   "outputs": [],
   "source": [
    "mini_ensg_df[\"gene_symbol\"] = mini_ensg_df[\"gene_symbol\"].map(str)\n",
    "print(mini_ensg_df.dtypes)"
   ]
  },
  {
   "cell_type": "code",
   "execution_count": null,
   "metadata": {},
   "outputs": [],
   "source": [
    "mini_ensg_df[\"gene_symbol\"] = [x.split(\",\") for x in mini_ensg_df.gene_symbol]\n",
    "mini_ensg_df[\"gene_symbol\"] = np.where(\n",
    "    mini_ensg_df.gene_symbol == \"\", \"\", mini_ensg_df.gene_symbol.map(set)\n",
    ")\n",
    "false_pos_mini_ensg_df = mini_ensg_df[\n",
    "    mini_ensg_df.alias_symbol.apply(lambda x: x & ensg_gene_symbol_set)\n",
    "    == mini_ensg_df.gene_symbol\n",
    "]\n",
    "false_pos_mini_ensg_df"
   ]
  },
  {
   "cell_type": "markdown",
   "metadata": {},
   "source": [
    "### Need to remove aliases that match their primary key (gene symbol)"
   ]
  },
  {
   "cell_type": "code",
   "execution_count": null,
   "metadata": {},
   "outputs": [],
   "source": [
    "mini_ensg_df[\"alias_symbol\"] = mini_ensg_df.alias_symbol - mini_ensg_df.gene_symbol\n",
    "false_pos_mini_ensg_df = mini_ensg_df[\n",
    "    mini_ensg_df.alias_symbol.apply(lambda x: x & ensg_gene_symbol_set)\n",
    "    == mini_ensg_df.gene_symbol\n",
    "]\n",
    "false_pos_mini_ensg_df"
   ]
  },
  {
   "cell_type": "code",
   "execution_count": null,
   "metadata": {},
   "outputs": [],
   "source": [
    "mini_ensg_df.loc[mini_ensg_df[\"NCBI_ID\"] == 92960]"
   ]
  },
  {
   "cell_type": "markdown",
   "metadata": {},
   "source": [
    "## Find intersection points using alias symbol sets"
   ]
  },
  {
   "cell_type": "code",
   "execution_count": null,
   "metadata": {},
   "outputs": [],
   "source": [
    "# alias_symbol_sets_series = mini_ensg_df.alias_symbol"
   ]
  },
  {
   "cell_type": "code",
   "execution_count": null,
   "metadata": {},
   "outputs": [],
   "source": [
    "mini_ensg_df[\"intersect_point\"] = mini_ensg_df.alias_symbol.apply(\n",
    "    lambda x: x & ensg_gene_symbol_set\n",
    ")\n",
    "ag_collision_ensg_df = mini_ensg_df[mini_ensg_df[\"intersect_point\"].apply(lambda x: len(x) > 0)]\n",
    "ag_collision_ensg_df.head()"
   ]
  },
  {
   "cell_type": "code",
   "execution_count": null,
   "metadata": {},
   "outputs": [],
   "source": [
    "ag_collision_ensg_df[\"source\"] = \"ENSG\"\n",
    "ag_collision_ensg_df"
   ]
  },
  {
   "cell_type": "code",
   "execution_count": null,
   "metadata": {},
   "outputs": [],
   "source": [
    "ag_collision_ensg_df = ag_collision_ensg_df.applymap(lambda x: ','.join(map(str, x)) if isinstance(x, set) else x)\n",
    "ag_collision_ensg_df['NCBI_ID'] = ag_collision_ensg_df['NCBI_ID'].fillna(0).astype(int)"
   ]
  },
  {
   "cell_type": "code",
   "execution_count": null,
   "metadata": {},
   "outputs": [],
   "source": [
    "ag_collision_ensg_df"
   ]
  },
  {
   "cell_type": "code",
   "execution_count": null,
   "metadata": {},
   "outputs": [],
   "source": [
    "ag_collision_ensg_df.to_csv('../created_files/ag_collision_ensg_df.csv', index=True)"
   ]
  },
  {
   "cell_type": "code",
   "execution_count": null,
   "metadata": {},
   "outputs": [],
   "source": [
    "ag_collision_ensg_df = pd.read_csv(\n",
    "    \"../created_files/ag_collision_ensg_df.csv\", index_col=[0])\n",
    "ag_collision_ensg_df"
   ]
  },
  {
   "cell_type": "markdown",
   "metadata": {},
   "source": [
    "make a set of collisions\n",
    "- some records have multiple collisions, need to explode to one per row so that when i change it back to a str and make a set it doesnt count two collisions seperated by a commma as one unique collision"
   ]
  },
  {
   "cell_type": "code",
   "execution_count": null,
   "metadata": {},
   "outputs": [],
   "source": [
    "ag_collision_ensg_df['intersect_point'] = ag_collision_ensg_df['intersect_point'].str.split(',')\n",
    "ag_collision_ensg_df = ag_collision_ensg_df.explode(column=\"intersect_point\")\n",
    "ag_collision_ensg_df"
   ]
  },
  {
   "cell_type": "code",
   "execution_count": null,
   "metadata": {},
   "outputs": [],
   "source": [
    "duplicates_ag_collision_ensg_df = ag_collision_ensg_df[\n",
    "    ag_collision_ensg_df.duplicated(\"gene_symbol\", keep=False)\n",
    "]\n",
    "duplicates_ag_collision_ensg_df = duplicates_ag_collision_ensg_df.sort_values(\n",
    "    \"gene_symbol\"\n",
    ")\n",
    "duplicates_ag_collision_ensg_df"
   ]
  },
  {
   "cell_type": "code",
   "execution_count": null,
   "metadata": {},
   "outputs": [],
   "source": [
    "len(ensg_gene_symbol_set)"
   ]
  },
  {
   "cell_type": "code",
   "execution_count": null,
   "metadata": {},
   "outputs": [],
   "source": [
    "ensg_alias_gene_collision_set = set(ag_collision_ensg_df[\"intersect_point\"])\n",
    "len(ensg_alias_gene_collision_set)"
   ]
  },
  {
   "cell_type": "code",
   "execution_count": null,
   "metadata": {},
   "outputs": [],
   "source": [
    "ensg_alias_gene_collision_primary_symbol_set = set(ag_collision_ensg_df[\"gene_symbol\"])\n",
    "len(ensg_alias_gene_collision_primary_symbol_set)"
   ]
  },
  {
   "cell_type": "markdown",
   "metadata": {},
   "source": [
    "1. Why is the alias-gene collision set not the same length as the set of primary symbols with collisions ?\n",
    "2. Why is the length of the alias-gene collison set shorter?\n",
    " - A priamry gene symbol with an alias-gene collision has an alias that matches a different gene's primary gene symbol.\n",
    " - Multiple genes can share a single alias (alias-alias collision)\n",
    " - If that shared alias is an alias-gene collision, then there will be more unique gene symbols in the set of primary symbols with collisions than the set of alias-gene collisions. "
   ]
  },
  {
   "cell_type": "markdown",
   "metadata": {},
   "source": [
    "### Alphabetize alias_symbol"
   ]
  },
  {
   "cell_type": "code",
   "execution_count": null,
   "metadata": {},
   "outputs": [],
   "source": [
    "ag_collision_ensg_df['alias_symbol'] = ag_collision_ensg_df['alias_symbol'].str.split(',')\n",
    "ag_collision_ensg_df[\"alias_symbol\"] = ag_collision_ensg_df[\"alias_symbol\"].apply(\n",
    "    lambda x: sorted(list(x), key=str.casefold)\n",
    ")\n",
    "ag_collision_ensg_df"
   ]
  },
  {
   "cell_type": "markdown",
   "metadata": {},
   "source": [
    "### Convert lists to str"
   ]
  },
  {
   "cell_type": "code",
   "execution_count": null,
   "metadata": {},
   "outputs": [],
   "source": [
    "ag_collision_ensg_df[\"alias_symbol\"] = ag_collision_ensg_df[\"alias_symbol\"].str.join(\n",
    "    \", \"\n",
    ")"
   ]
  },
  {
   "cell_type": "code",
   "execution_count": null,
   "metadata": {},
   "outputs": [],
   "source": [
    "ag_collision_ensg_df = ag_collision_ensg_df.sort_values(\"intersect_point\")\n",
    "ag_collision_ensg_df"
   ]
  },
  {
   "cell_type": "code",
   "execution_count": null,
   "metadata": {},
   "outputs": [],
   "source": [
    "ag_collision_ensg_df = ag_collision_ensg_df.drop_duplicates(\n",
    "    subset=[\"gene_symbol\", \"intersect_point\"], keep=\"first\"\n",
    ")\n",
    "ag_collision_ensg_df"
   ]
  },
  {
   "cell_type": "markdown",
   "metadata": {},
   "source": [
    "## Add civic_gene_id to table"
   ]
  },
  {
   "cell_type": "code",
   "execution_count": null,
   "metadata": {},
   "outputs": [],
   "source": [
    "genes = civicpy.get_all_genes()"
   ]
  },
  {
   "cell_type": "code",
   "execution_count": null,
   "metadata": {},
   "outputs": [],
   "source": [
    "ensg_NCBI_ID_list = list(ag_collision_ensg_df[\"NCBI_ID\"])"
   ]
  },
  {
   "cell_type": "code",
   "execution_count": null,
   "metadata": {},
   "outputs": [],
   "source": [
    "civic_ids = []\n",
    "for id in ensg_NCBI_ID_list:\n",
    "    found_civic_id = \"\"\n",
    "    for gene in genes:\n",
    "        if id == str(gene.entrez_id):\n",
    "            found_civic_id = gene.id\n",
    "    civic_ids.append(found_civic_id)\n",
    "\n",
    "ag_collision_ensg_df[\"civic_ids\"] = civic_ids\n",
    "ag_collision_ensg_df"
   ]
  },
  {
   "cell_type": "code",
   "execution_count": null,
   "metadata": {},
   "outputs": [],
   "source": [
    "ag_collision_ensg_df[\"civic_ids\"].replace(\"\", np.nan, inplace=True)\n",
    "ag_collision_ensg_df.head()"
   ]
  },
  {
   "cell_type": "code",
   "execution_count": null,
   "metadata": {},
   "outputs": [],
   "source": [
    "civic_ag_collision_ensg_df = ag_collision_ensg_df.copy()\n",
    "civic_ag_collision_ensg_df.dropna(subset=[\"civic_ids\"], inplace=True)\n",
    "civic_ag_collision_ensg_df"
   ]
  },
  {
   "cell_type": "markdown",
   "metadata": {},
   "source": [
    "## Add MP ID and score to table"
   ]
  },
  {
   "cell_type": "code",
   "execution_count": null,
   "metadata": {},
   "outputs": [],
   "source": [
    "civic_ag_collision_ensg_df_add_molprof_df = transform_df_mp_id(\n",
    "    civic_ag_collision_ensg_df\n",
    ")\n",
    "civic_ag_collision_ensg_df_add_molprof_df"
   ]
  },
  {
   "cell_type": "code",
   "execution_count": null,
   "metadata": {},
   "outputs": [],
   "source": [
    "civic_true_mini_ensg_add_molprof_score_df = transform_df_mp_score(\n",
    "    civic_ag_collision_ensg_df_add_molprof_df\n",
    ")\n",
    "civic_true_mini_ensg_add_molprof_score_df"
   ]
  },
  {
   "cell_type": "markdown",
   "metadata": {},
   "source": [
    "## Add evidence_ids column"
   ]
  },
  {
   "cell_type": "markdown",
   "metadata": {},
   "source": []
  },
  {
   "cell_type": "code",
   "execution_count": null,
   "metadata": {},
   "outputs": [],
   "source": [
    "civic_variant_ids = civicpy.get_all_variants()"
   ]
  },
  {
   "cell_type": "code",
   "execution_count": null,
   "metadata": {},
   "outputs": [],
   "source": [
    "ensg_civic_id_list = list(civic_ag_collision_ensg_df[\"civic_ids\"])"
   ]
  },
  {
   "cell_type": "code",
   "execution_count": null,
   "metadata": {},
   "outputs": [],
   "source": [
    "civic_ag_collision_ensg_df.civic_ids.astype(int)"
   ]
  },
  {
   "cell_type": "code",
   "execution_count": null,
   "metadata": {},
   "outputs": [],
   "source": [
    "civic_eids = []\n",
    "for civic_id in ensg_civic_id_list:\n",
    "    gene_civic_eids = []\n",
    "    for variant in civic_variant_ids:\n",
    "        # print(civic_id, type(civic_id))\n",
    "        # print(   = =variant.gene_id, type(variant.gene_id))\n",
    "        if int(civic_id) == variant.gene_id:\n",
    "            for mp in variant.molecular_profiles:\n",
    "                for e in mp.evidence_items:\n",
    "                    if e.id not in gene_civic_eids:\n",
    "                        gene_civic_eids.append(e.id)\n",
    "            gene_civic_eids = gene_civic_eids or \"\"\n",
    "    civic_eids.append(gene_civic_eids)\n",
    "civic_ag_collision_ensg_df[\"civic_eids\"] = civic_eids\n",
    "civic_ag_collision_ensg_df"
   ]
  },
  {
   "cell_type": "code",
   "execution_count": null,
   "metadata": {},
   "outputs": [],
   "source": [
    "civic_evidence_list = civicpy.get_all_evidence()"
   ]
  },
  {
   "cell_type": "code",
   "execution_count": null,
   "metadata": {},
   "outputs": [],
   "source": [
    "ensg_civic_eid_list = list(civic_ag_collision_ensg_df[\"civic_eids\"])\n",
    "ensg_civic_eid_list[0]"
   ]
  },
  {
   "cell_type": "code",
   "execution_count": null,
   "metadata": {},
   "outputs": [],
   "source": [
    "evidence_ratings = []\n",
    "for eid_list in ensg_civic_eid_list:\n",
    "    found_rating = []\n",
    "    for eid in eid_list:\n",
    "        for evidence in civic_evidence_list:\n",
    "            if eid == evidence.id:\n",
    "                found_rating.append(evidence.rating)\n",
    "    evidence_ratings.append(found_rating)\n",
    "civic_ag_collision_ensg_df[\"evidence_ratings\"] = evidence_ratings\n",
    "civic_ag_collision_ensg_df"
   ]
  },
  {
   "cell_type": "code",
   "execution_count": null,
   "metadata": {},
   "outputs": [],
   "source": [
    "average_evidence_rating = []\n",
    "for alist in civic_ag_collision_ensg_df[\"evidence_ratings\"]:\n",
    "    avg_rating = sum(alist) / len(alist)\n",
    "    average_evidence_rating.append(avg_rating)\n",
    "civic_ag_collision_ensg_df[\"average_evidence_ratings\"] = average_evidence_rating\n",
    "civic_ag_collision_ensg_df"
   ]
  },
  {
   "cell_type": "code",
   "execution_count": null,
   "metadata": {},
   "outputs": [],
   "source": [
    "sum_evidence_rating = []\n",
    "for alist in civic_ag_collision_ensg_df[\"evidence_ratings\"]:\n",
    "    sum_rating = sum(alist)\n",
    "    sum_evidence_rating.append(sum_rating)\n",
    "civic_ag_collision_ensg_df[\"sum_evidence_rating\"] = sum_evidence_rating\n",
    "civic_ag_collision_ensg_df"
   ]
  },
  {
   "cell_type": "markdown",
   "metadata": {},
   "source": [
    "# HGNC"
   ]
  },
  {
   "cell_type": "markdown",
   "metadata": {},
   "source": [
    "## Set up table"
   ]
  },
  {
   "cell_type": "code",
   "execution_count": null,
   "metadata": {},
   "outputs": [],
   "source": [
    "mini_hgnc_df = pd.read_csv(\n",
    "    \"../downloaded_files/hgnc_biomart_gene20240626.txt\", sep=\"\\t\",dtype={\"NCBI gene ID\": pd.Int64Dtype()}\n",
    ")\n",
    "mini_hgnc_df = mini_hgnc_df.rename(\n",
    "    columns={\n",
    "        \"HGNC ID\": \"HGNC_ID\",\n",
    "        \"Approved symbol\": \"gene_symbol\",\n",
    "        \"Alias symbol\": \"alias_symbol\",\n",
    "        \"Ensembl gene ID\": \"ENSG_ID\",\n",
    "        \"NCBI gene ID\": \"NCBI_ID\",\n",
    "    }\n",
    ")\n",
    "mini_hgnc_df"
   ]
  },
  {
   "cell_type": "code",
   "execution_count": null,
   "metadata": {},
   "outputs": [],
   "source": [
    "mini_hgnc_df[\"alias_symbol\"] = mini_hgnc_df[\"alias_symbol\"].fillna(\"\").astype(str)\n",
    "mini_hgnc_df = (\n",
    "    mini_hgnc_df.groupby(\n",
    "        [\"ENSG_ID\", \"gene_symbol\", \"HGNC_ID\", \"NCBI_ID\"], dropna=False\n",
    "    )[\"alias_symbol\"]\n",
    "    .apply(lambda x: \", \".join(x.dropna()))\n",
    "    .reset_index()\n",
    ")\n",
    "mini_hgnc_df"
   ]
  },
  {
   "cell_type": "code",
   "execution_count": null,
   "metadata": {},
   "outputs": [],
   "source": [
    "mini_hgnc_df[\"HGNC_ID\"] = mini_hgnc_df[\"HGNC_ID\"].str.lstrip(\"HGNC:\")\n",
    "mini_hgnc_df"
   ]
  },
  {
   "cell_type": "code",
   "execution_count": null,
   "metadata": {},
   "outputs": [],
   "source": [
    "mini_hgnc_df.to_csv(\"../created_files/mini_hgnc_df.csv\", index=False)\n",
    "mini_hgnc_df.head()"
   ]
  },
  {
   "cell_type": "markdown",
   "metadata": {},
   "source": [
    "### Make a set of the primary gene symbols"
   ]
  },
  {
   "cell_type": "code",
   "execution_count": null,
   "metadata": {},
   "outputs": [],
   "source": [
    "hgnc_gene_symbol_set = set(mini_hgnc_df[\"gene_symbol\"])\n",
    "# all_gene_symbols_set"
   ]
  },
  {
   "cell_type": "code",
   "execution_count": null,
   "metadata": {},
   "outputs": [],
   "source": [
    "total_number_hgnc_gene_symbols = len(hgnc_gene_symbol_set)\n",
    "total_number_hgnc_gene_symbols"
   ]
  },
  {
   "cell_type": "markdown",
   "metadata": {},
   "source": [
    "Drop genes with no aliases"
   ]
  },
  {
   "cell_type": "code",
   "execution_count": null,
   "metadata": {},
   "outputs": [],
   "source": [
    "mini_hgnc_df = mini_hgnc_df.replace(\" \", np.nan)\n",
    "mini_hgnc_df = mini_hgnc_df.replace(\"\", np.nan)\n",
    "mini_hgnc_df = mini_hgnc_df.replace(\"-\", np.nan)\n",
    "mini_hgnc_df = mini_hgnc_df.dropna(subset=[\"alias_symbol\"])\n",
    "mini_hgnc_df"
   ]
  },
  {
   "cell_type": "markdown",
   "metadata": {},
   "source": [
    "### Make each row in alias_symbol a set:\n",
    "    covert to a list \n",
    "    make a set"
   ]
  },
  {
   "cell_type": "code",
   "execution_count": null,
   "metadata": {},
   "outputs": [],
   "source": [
    "mini_hgnc_df[\"alias_symbol\"] = mini_hgnc_df[\"alias_symbol\"].astype(str)\n",
    "mini_hgnc_df[\"alias_symbol\"] = [x.split(\",\") for x in mini_hgnc_df.alias_symbol]\n",
    "mini_hgnc_df[\"alias_symbol\"] = np.where(\n",
    "    mini_hgnc_df.alias_symbol == \"\", \"\", mini_hgnc_df.alias_symbol.map(set)\n",
    ")\n",
    "mini_hgnc_df.head(1)"
   ]
  },
  {
   "cell_type": "markdown",
   "metadata": {},
   "source": [
    "## Add test for false positives in the intersection points\n",
    "#### (places where x in alias_smbol matches x in mini_hgnc_df.gene_symbol in the same row)"
   ]
  },
  {
   "cell_type": "code",
   "execution_count": null,
   "metadata": {},
   "outputs": [],
   "source": [
    "mini_hgnc_df[\"gene_symbol\"] = [x.split(\";\") for x in mini_hgnc_df.gene_symbol]\n",
    "mini_hgnc_df[\"gene_symbol\"] = np.where(\n",
    "    mini_hgnc_df.gene_symbol == \"\", \"\", mini_hgnc_df.gene_symbol.map(set)\n",
    ")\n",
    "false_pos_mini_hgnc_df = mini_hgnc_df[\n",
    "    mini_hgnc_df.alias_symbol.apply(lambda x: x & hgnc_gene_symbol_set)\n",
    "    == mini_hgnc_df.gene_symbol\n",
    "]\n",
    "false_pos_mini_hgnc_df"
   ]
  },
  {
   "cell_type": "markdown",
   "metadata": {},
   "source": [
    "### Need to remove aliases that match their primary key (gene symbol)"
   ]
  },
  {
   "cell_type": "code",
   "execution_count": null,
   "metadata": {},
   "outputs": [],
   "source": [
    "mini_hgnc_df[\"alias_symbol\"] = mini_hgnc_df.alias_symbol - mini_hgnc_df.gene_symbol"
   ]
  },
  {
   "cell_type": "markdown",
   "metadata": {},
   "source": []
  },
  {
   "cell_type": "markdown",
   "metadata": {},
   "source": [
    "## Find intersection points using alias symbol sets"
   ]
  },
  {
   "cell_type": "code",
   "execution_count": null,
   "metadata": {},
   "outputs": [],
   "source": [
    "# alias_symbol_sets_series = mini_hgnc_df.alias_symbol"
   ]
  },
  {
   "cell_type": "code",
   "execution_count": null,
   "metadata": {},
   "outputs": [],
   "source": [
    "mini_hgnc_df[\"intersect_point\"] = mini_hgnc_df.alias_symbol.apply(\n",
    "    lambda x: x & hgnc_gene_symbol_set\n",
    ")\n",
    "ag_collision_hgnc_df = mini_hgnc_df[mini_hgnc_df.intersect_point != set()]\n",
    "ag_collision_hgnc_df"
   ]
  },
  {
   "cell_type": "code",
   "execution_count": null,
   "metadata": {},
   "outputs": [],
   "source": [
    "ag_collision_hgnc_df[\"source\"] = \"HGNC\"\n",
    "ag_collision_hgnc_df.head()"
   ]
  },
  {
   "cell_type": "markdown",
   "metadata": {},
   "source": [
    "### Convert sets to str or list"
   ]
  },
  {
   "cell_type": "code",
   "execution_count": null,
   "metadata": {},
   "outputs": [],
   "source": [
    "type(ag_collision_hgnc_df[\"gene_symbol\"][25])"
   ]
  },
  {
   "cell_type": "code",
   "execution_count": null,
   "metadata": {},
   "outputs": [],
   "source": [
    "ag_collision_hgnc_df[\"gene_symbol\"]"
   ]
  },
  {
   "cell_type": "code",
   "execution_count": null,
   "metadata": {},
   "outputs": [],
   "source": [
    "list"
   ]
  },
  {
   "cell_type": "code",
   "execution_count": null,
   "metadata": {},
   "outputs": [],
   "source": [
    "def simple_func(arg):\n",
    "    # arg = list(arg)\n",
    "    print(arg)\n",
    "    print(type(arg))\n",
    "    print(list(arg))\n",
    "    return arg\n",
    "\n",
    "\n",
    "ag_collision_hgnc_df[\"gene_symbol\"].apply(simple_func)"
   ]
  },
  {
   "cell_type": "code",
   "execution_count": null,
   "metadata": {},
   "outputs": [],
   "source": [
    "# Assertion error if passed more than once\n",
    "ag_collision_hgnc_df[\"gene_symbol\"] = ag_collision_hgnc_df[\"gene_symbol\"].apply(list)\n",
    "ag_collision_hgnc_df"
   ]
  },
  {
   "cell_type": "code",
   "execution_count": null,
   "metadata": {},
   "outputs": [],
   "source": [
    "# ag_collision_hgnc_df[\"ENSG_ID\"] = ag_collision_hgnc_df[\"ENSG_ID\"].astype(str)\n",
    "# ag_collision_hgnc_df"
   ]
  },
  {
   "cell_type": "markdown",
   "metadata": {},
   "source": [
    "### Alphabetize alias_symbol"
   ]
  },
  {
   "cell_type": "code",
   "execution_count": null,
   "metadata": {},
   "outputs": [],
   "source": [
    "ag_collision_hgnc_df[\"alias_symbol\"] = ag_collision_hgnc_df[\"alias_symbol\"].apply(\n",
    "    lambda x: sorted(list(x), key=str.casefold)\n",
    ")\n",
    "ag_collision_hgnc_df.head()"
   ]
  },
  {
   "cell_type": "markdown",
   "metadata": {},
   "source": [
    "make a set of collisions\n",
    "- some records have multiple collisions, need to explode to one per row so that when i change it back to a str and make a set it doesnt count two collisions seperated by a commma as one unique collision"
   ]
  },
  {
   "cell_type": "code",
   "execution_count": null,
   "metadata": {},
   "outputs": [],
   "source": [
    "ag_collision_hgnc_df = ag_collision_hgnc_df.explode(column=\"intersect_point\")\n",
    "ag_collision_hgnc_df"
   ]
  },
  {
   "cell_type": "code",
   "execution_count": null,
   "metadata": {},
   "outputs": [],
   "source": [
    "hgnc_alias_gene_collision_set = set(ag_collision_hgnc_df[\"intersect_point\"])\n",
    "len(hgnc_alias_gene_collision_set)"
   ]
  },
  {
   "cell_type": "code",
   "execution_count": null,
   "metadata": {},
   "outputs": [],
   "source": [
    "ag_collision_hgnc_df[\"gene_symbol\"] = ag_collision_hgnc_df[\"gene_symbol\"].str.join(\", \")"
   ]
  },
  {
   "cell_type": "code",
   "execution_count": null,
   "metadata": {},
   "outputs": [],
   "source": [
    "hgnc_alias_gene_collision_primary_symbol_set = set(ag_collision_hgnc_df[\"gene_symbol\"])\n",
    "len(hgnc_alias_gene_collision_primary_symbol_set)"
   ]
  },
  {
   "cell_type": "markdown",
   "metadata": {},
   "source": [
    "### Alphabetize alias_symbol"
   ]
  },
  {
   "cell_type": "code",
   "execution_count": null,
   "metadata": {},
   "outputs": [],
   "source": [
    "ag_collision_hgnc_df[\"alias_symbol\"] = ag_collision_hgnc_df[\"alias_symbol\"].apply(\n",
    "    lambda x: sorted(list(x), key=str.casefold)\n",
    ")\n",
    "ag_collision_hgnc_df.head()"
   ]
  },
  {
   "cell_type": "code",
   "execution_count": null,
   "metadata": {},
   "outputs": [],
   "source": [
    "print(type(ag_collision_hgnc_df.loc[25, \"gene_symbol\"]))"
   ]
  },
  {
   "cell_type": "markdown",
   "metadata": {},
   "source": [
    "### Convert lists to str"
   ]
  },
  {
   "cell_type": "code",
   "execution_count": null,
   "metadata": {},
   "outputs": [],
   "source": [
    "ag_collision_hgnc_df[\"alias_symbol\"] = ag_collision_hgnc_df[\"alias_symbol\"].str.join(\n",
    "    \", \"\n",
    ")"
   ]
  },
  {
   "cell_type": "code",
   "execution_count": null,
   "metadata": {},
   "outputs": [],
   "source": [
    "ag_collision_hgnc_df = ag_collision_hgnc_df.sort_values(\"intersect_point\")\n",
    "ag_collision_hgnc_df"
   ]
  },
  {
   "cell_type": "code",
   "execution_count": null,
   "metadata": {},
   "outputs": [],
   "source": [
    "ag_collision_hgnc_df = ag_collision_hgnc_df.drop_duplicates(\n",
    "    subset=[\"gene_symbol\", \"intersect_point\"], keep=\"first\"\n",
    ")\n",
    "ag_collision_hgnc_df"
   ]
  },
  {
   "cell_type": "markdown",
   "metadata": {},
   "source": [
    "## Add civic_gene_id to table"
   ]
  },
  {
   "cell_type": "code",
   "execution_count": null,
   "metadata": {},
   "outputs": [],
   "source": [
    "genes = civicpy.get_all_genes()"
   ]
  },
  {
   "cell_type": "code",
   "execution_count": null,
   "metadata": {},
   "outputs": [],
   "source": [
    "hgnc_NCBI_ID_list = list(ag_collision_hgnc_df[\"NCBI_ID\"])"
   ]
  },
  {
   "cell_type": "code",
   "execution_count": null,
   "metadata": {},
   "outputs": [],
   "source": [
    "ag_collision_hgnc_df[\"NCBI_ID\"] = ag_collision_hgnc_df[\"NCBI_ID\"].str.replace(\n",
    "    \"nan\", \"000\", regex=False\n",
    ")\n",
    "ag_collision_hgnc_df.head()"
   ]
  },
  {
   "cell_type": "code",
   "execution_count": null,
   "metadata": {},
   "outputs": [],
   "source": [
    "ag_collision_hgnc_df[\"NCBI_ID\"] = ag_collision_hgnc_df[\"NCBI_ID\"].astype(int)"
   ]
  },
  {
   "cell_type": "code",
   "execution_count": null,
   "metadata": {},
   "outputs": [],
   "source": [
    "civic_ids = []\n",
    "for entrez_id in hgnc_NCBI_ID_list:\n",
    "    found_civic_id = \"\"\n",
    "    for gene in genes:\n",
    "        if entrez_id == str(gene.entrez_id):\n",
    "            found_civic_id = gene.id\n",
    "    civic_ids.append(found_civic_id)\n",
    "\n",
    "ag_collision_hgnc_df[\"civic_ids\"] = civic_ids\n",
    "ag_collision_hgnc_df"
   ]
  },
  {
   "cell_type": "code",
   "execution_count": null,
   "metadata": {},
   "outputs": [],
   "source": [
    "ag_collision_hgnc_df[\"civic_ids\"].replace(\"\", np.nan, inplace=True)"
   ]
  },
  {
   "cell_type": "code",
   "execution_count": null,
   "metadata": {},
   "outputs": [],
   "source": [
    "civic_ag_collision_hgnc_df = ag_collision_hgnc_df.copy()\n",
    "civic_ag_collision_hgnc_df.dropna(subset=[\"civic_ids\"], inplace=True)\n",
    "civic_ag_collision_hgnc_df"
   ]
  },
  {
   "cell_type": "code",
   "execution_count": null,
   "metadata": {},
   "outputs": [],
   "source": [
    "ag_collision_hgnc_df.to_csv(\n",
    "    \"../created_files/ag_collision_hgnc_df_w_entrez_id.csv\", index=False\n",
    ")"
   ]
  },
  {
   "cell_type": "markdown",
   "metadata": {},
   "source": [
    "## Add MP ID & score"
   ]
  },
  {
   "cell_type": "code",
   "execution_count": null,
   "metadata": {},
   "outputs": [],
   "source": [
    "civic_ag_collision_hgnc_df_add_molprof_df = transform_df_mp_id(\n",
    "    civic_ag_collision_hgnc_df\n",
    ")\n",
    "civic_ag_collision_hgnc_df_add_molprof_df"
   ]
  },
  {
   "cell_type": "code",
   "execution_count": null,
   "metadata": {},
   "outputs": [],
   "source": [
    "civic_ag_collision_hgnc_df_add_molprof_score_df = transform_df_mp_score(\n",
    "    civic_ag_collision_hgnc_df_add_molprof_df\n",
    ")\n",
    "civic_ag_collision_hgnc_df_add_molprof_score_df"
   ]
  },
  {
   "cell_type": "markdown",
   "metadata": {},
   "source": [
    "## Add evidence_ids column"
   ]
  },
  {
   "cell_type": "code",
   "execution_count": null,
   "metadata": {},
   "outputs": [],
   "source": [
    "civic_variant_ids = civicpy.get_all_variants()"
   ]
  },
  {
   "cell_type": "code",
   "execution_count": null,
   "metadata": {},
   "outputs": [],
   "source": [
    "hgnc_civic_id_list = list(civic_ag_collision_hgnc_df[\"civic_ids\"])"
   ]
  },
  {
   "cell_type": "code",
   "execution_count": null,
   "metadata": {},
   "outputs": [],
   "source": [
    "civic_ag_collision_hgnc_df.civic_ids.astype(int)"
   ]
  },
  {
   "cell_type": "code",
   "execution_count": null,
   "metadata": {},
   "outputs": [],
   "source": [
    "civic_eids = []\n",
    "for civic_id in hgnc_civic_id_list:\n",
    "    gene_civic_eids = []\n",
    "\n",
    "    for variant in civic_variant_ids:\n",
    "        if int(civic_id) == variant.gene_id:\n",
    "            for mp in variant.molecular_profiles:\n",
    "                for e in mp.evidence_items:\n",
    "                    if e.id not in gene_civic_eids:\n",
    "                        gene_civic_eids.append(e.id)\n",
    "\n",
    "            gene_civic_eids = gene_civic_eids or \"\"\n",
    "    civic_eids.append(gene_civic_eids)\n",
    "civic_ag_collision_hgnc_df[\"civic_eids\"] = civic_eids\n",
    "civic_ag_collision_hgnc_df"
   ]
  },
  {
   "cell_type": "code",
   "execution_count": null,
   "metadata": {},
   "outputs": [],
   "source": [
    "civic_evidence_list = civicpy.get_all_evidence()"
   ]
  },
  {
   "cell_type": "code",
   "execution_count": null,
   "metadata": {},
   "outputs": [],
   "source": [
    "hgnc_civic_eid_list = list(civic_ag_collision_hgnc_df[\"civic_eids\"])\n",
    "hgnc_civic_eid_list[0]"
   ]
  },
  {
   "cell_type": "code",
   "execution_count": null,
   "metadata": {},
   "outputs": [],
   "source": [
    "evidence_ratings = []\n",
    "for eid_list in hgnc_civic_eid_list:\n",
    "    found_rating = []\n",
    "    for eid in eid_list:\n",
    "        for evidence in civic_evidence_list:\n",
    "            if eid == evidence.id:\n",
    "                found_rating.append(evidence.rating)\n",
    "    evidence_ratings.append(found_rating)\n",
    "civic_ag_collision_hgnc_df[\"evidence_ratings\"] = evidence_ratings\n",
    "civic_ag_collision_hgnc_df"
   ]
  },
  {
   "cell_type": "code",
   "execution_count": null,
   "metadata": {},
   "outputs": [],
   "source": [
    "average_evidence_rating = []\n",
    "for alist in civic_ag_collision_hgnc_df[\"evidence_ratings\"]:\n",
    "    avg_rating = sum(alist) / len(alist)\n",
    "    average_evidence_rating.append(avg_rating)\n",
    "civic_ag_collision_hgnc_df[\"average_evidence_ratings\"] = average_evidence_rating\n",
    "civic_ag_collision_hgnc_df"
   ]
  },
  {
   "cell_type": "code",
   "execution_count": null,
   "metadata": {},
   "outputs": [],
   "source": [
    "sum_evidence_rating = []\n",
    "for alist in civic_ag_collision_hgnc_df[\"evidence_ratings\"]:\n",
    "    sum_rating = sum(alist)\n",
    "    sum_evidence_rating.append(sum_rating)\n",
    "civic_ag_collision_hgnc_df[\"sum_evidence_rating\"] = sum_evidence_rating\n",
    "civic_ag_collision_hgnc_df"
   ]
  },
  {
   "cell_type": "markdown",
   "metadata": {},
   "source": [
    "# NCBI Info"
   ]
  },
  {
   "cell_type": "code",
   "execution_count": null,
   "metadata": {},
   "outputs": [],
   "source": [
    "mini_ncbi_df = pd.read_csv(\"../downloaded_files/Homo_sapiens.gene_info20240627\", sep=\"\\t\")"
   ]
  },
  {
   "cell_type": "markdown",
   "metadata": {},
   "source": [
    "### Drop all columns besides ENSG_ID, gene_symbol, and alias_symbol"
   ]
  },
  {
   "cell_type": "code",
   "execution_count": null,
   "metadata": {},
   "outputs": [],
   "source": [
    "mini_ncbi_df = mini_ncbi_df[\n",
    "[\"GeneID\", \"Symbol\", \"Synonyms\", \"dbXrefs\"]\n",
    "]\n",
    "mini_ncbi_df = mini_ncbi_df.rename(\n",
    "    columns={\"GeneID\": \"NCBI_ID\", \"Symbol\": \"gene_symbol\", \"Synonyms\": \"alias_symbol\"}\n",
    ")\n",
    "mini_ncbi_df"
   ]
  },
  {
   "cell_type": "markdown",
   "metadata": {},
   "source": [
    "Split dbXrefs into individual columns"
   ]
  },
  {
   "cell_type": "code",
   "execution_count": null,
   "metadata": {},
   "outputs": [],
   "source": [
    "mini_ncbi_df = mini_ncbi_df.assign(\n",
    "    MIM=np.nan,\n",
    "    HGNC_ID=np.nan,\n",
    "    ENSG_ID=np.nan,\n",
    "    AllianceGenome=np.nan,\n",
    "    MIRbase=np.nan,\n",
    "    IMGTgene_db=np.nan,\n",
    "    dash=np.nan,\n",
    "    unknown=np.nan,\n",
    ")"
   ]
  },
  {
   "cell_type": "code",
   "execution_count": null,
   "metadata": {},
   "outputs": [],
   "source": [
    "index_pos = 0\n",
    "\n",
    "print(len(mini_ncbi_df))\n",
    "while index_pos < len(mini_ncbi_df):\n",
    "    xrefs = mini_ncbi_df[\"dbXrefs\"][index_pos].split(\"|\")\n",
    "\n",
    "    for xref in xrefs:\n",
    "        xref = xref.lower()\n",
    "        if xref.startswith(\"mim:\"):\n",
    "            xref = xref.replace(\"mim:\", \"\")\n",
    "            mini_ncbi_df[\"MIM\"][index_pos] = xref\n",
    "        elif xref.startswith(\"hgnc:hgnc:\"):\n",
    "            xref = xref.replace(\"hgnc:hgnc:\", \"\")\n",
    "            mini_ncbi_df[\"HGNC_ID\"][index_pos] = xref\n",
    "        elif xref.startswith(\"ensembl:\"):\n",
    "            xref = xref.replace(\"ensembl:\", \"\")\n",
    "            mini_ncbi_df[\"ENSG_ID\"][index_pos] = xref\n",
    "        elif xref.startswith(\"alliancegenome:\"):\n",
    "            xref = xref.replace(\"alliancegenome:\", \"\")\n",
    "            mini_ncbi_df[\"AllianceGenome\"][index_pos] = xref\n",
    "        elif xref.startswith(\"mirbase\"):\n",
    "            xref = xref.replace(\"mirbase:\", \"\")\n",
    "            mini_ncbi_df[\"MIRbase\"][index_pos] = xref\n",
    "        elif xref.startswith(\"imgt/gene-db:\"):\n",
    "            xref = xref.replace(\"imgt/gene-db:\", \"\")\n",
    "            mini_ncbi_df[\"IMGTgene_db\"][index_pos] = xref\n",
    "        elif xref.startswith(\"-\"):\n",
    "            mini_ncbi_df[\"dash\"][index_pos] = xref\n",
    "        else:\n",
    "            mini_ncbi_df[\"unknown\"][index_pos] = xref\n",
    "\n",
    "    index_pos += 1\n",
    "    pass\n",
    "\n",
    "print(index_pos)"
   ]
  },
  {
   "cell_type": "code",
   "execution_count": null,
   "metadata": {},
   "outputs": [],
   "source": [
    "mini_ncbi_df[\"ENSG_ID\"] = mini_ncbi_df[\"ENSG_ID\"].str.replace(\"ensg\", \"ENSG\", 1)"
   ]
  },
  {
   "cell_type": "code",
   "execution_count": null,
   "metadata": {},
   "outputs": [],
   "source": [
    "mini_ncbi_df = mini_ncbi_df.drop(\n",
    "    [\n",
    "        \"AllianceGenome\",\n",
    "        \"MIRbase\",\n",
    "        \"IMGTgene_db\",\n",
    "        \"dash\",\n",
    "        \"unknown\",\n",
    "        \"dbXrefs\",\n",
    "        \"MIM\",\n",
    "    ],\n",
    "    axis=1,\n",
    ")\n",
    "mini_ncbi_df = mini_ncbi_df.rename(columns={\"HGNC_ID\": \"HGNC_ID\"})\n",
    "mini_ncbi_df"
   ]
  },
  {
   "cell_type": "code",
   "execution_count": null,
   "metadata": {},
   "outputs": [],
   "source": [
    "mini_ncbi_df.to_csv(\"../created_files/mini_ncbi_df.csv\", index=False)\n",
    "mini_ncbi_df.head()"
   ]
  },
  {
   "cell_type": "markdown",
   "metadata": {},
   "source": [
    "One gene symbol may have multiple NCBI IDs"
   ]
  },
  {
   "cell_type": "code",
   "execution_count": null,
   "metadata": {},
   "outputs": [],
   "source": [
    "mini_ncbi_df[\"symbol_duplicates\"] = mini_ncbi_df.duplicated(\n",
    "    subset=\"gene_symbol\", keep=False\n",
    ")\n",
    "dup_symbol_mini_ncbi_df = mini_ncbi_df[mini_ncbi_df[\"symbol_duplicates\"] == True]"
   ]
  },
  {
   "cell_type": "code",
   "execution_count": null,
   "metadata": {},
   "outputs": [],
   "source": [
    "dup_symbol_mini_ncbi_df = dup_symbol_mini_ncbi_df.sort_values(\"gene_symbol\")\n",
    "dup_symbol_mini_ncbi_df"
   ]
  },
  {
   "cell_type": "code",
   "execution_count": null,
   "metadata": {},
   "outputs": [],
   "source": [
    "mini_ncbi_df = mini_ncbi_df.drop([\"symbol_duplicates\"], axis=1)"
   ]
  },
  {
   "cell_type": "markdown",
   "metadata": {},
   "source": [
    "### Make a set of primary gene symbols"
   ]
  },
  {
   "cell_type": "code",
   "execution_count": null,
   "metadata": {},
   "outputs": [],
   "source": [
    "ncbi_gene_symbol_set = set(mini_ncbi_df[\"gene_symbol\"])"
   ]
  },
  {
   "cell_type": "code",
   "execution_count": null,
   "metadata": {},
   "outputs": [],
   "source": [
    "total_number_ncbi_gene_symbols = len(ncbi_gene_symbol_set)\n",
    "total_number_ncbi_gene_symbols"
   ]
  },
  {
   "cell_type": "markdown",
   "metadata": {},
   "source": [
    "Drop genes with no aliases"
   ]
  },
  {
   "cell_type": "code",
   "execution_count": null,
   "metadata": {},
   "outputs": [],
   "source": [
    "mini_ncbi_df = mini_ncbi_df.replace(\" \", np.nan)\n",
    "mini_ncbi_df = mini_ncbi_df.replace(\"\", np.nan)\n",
    "mini_ncbi_df = mini_ncbi_df.replace(\"-\", np.nan)\n",
    "mini_ncbi_df = mini_ncbi_df.dropna(subset=[\"alias_symbol\"])\n",
    "mini_ncbi_df"
   ]
  },
  {
   "cell_type": "markdown",
   "metadata": {},
   "source": [
    "### Make each row in alias_symbol a set:\n",
    "    covert to a list \n",
    "    make a set"
   ]
  },
  {
   "cell_type": "code",
   "execution_count": null,
   "metadata": {},
   "outputs": [],
   "source": [
    "mini_ncbi_df[\"alias_symbol\"] = mini_ncbi_df[\"alias_symbol\"].astype(str)\n",
    "mini_ncbi_df[\"alias_symbol\"] = [x.split(\"|\") for x in mini_ncbi_df.alias_symbol]\n",
    "mini_ncbi_df[\"alias_symbol\"] = np.where(\n",
    "    mini_ncbi_df.alias_symbol == \" \", \" \", mini_ncbi_df.alias_symbol.map(set)\n",
    ")\n",
    "mini_ncbi_df.head(1)"
   ]
  },
  {
   "cell_type": "markdown",
   "metadata": {},
   "source": [
    "### Add test for false positives in the intersection points\n",
    "#### (places where x in alias_symbol matches x in mini_hgnc_df.gene_symbol in the same row)"
   ]
  },
  {
   "cell_type": "code",
   "execution_count": null,
   "metadata": {},
   "outputs": [],
   "source": [
    "mini_ncbi_df[\"gene_symbol\"] = [x.split(\";\") for x in mini_ncbi_df.gene_symbol]\n",
    "mini_ncbi_df[\"gene_symbol\"] = np.where(\n",
    "    mini_ncbi_df.gene_symbol == \"\", \"\", mini_ncbi_df.gene_symbol.map(set)\n",
    ")\n",
    "false_pos_mini_ncbi_df = mini_ncbi_df[\n",
    "    mini_ncbi_df.alias_symbol.apply(lambda x: x & ncbi_gene_symbol_set)\n",
    "    == mini_ncbi_df.gene_symbol\n",
    "]\n",
    "false_pos_mini_ncbi_df.head()"
   ]
  },
  {
   "cell_type": "code",
   "execution_count": null,
   "metadata": {},
   "outputs": [],
   "source": [
    "mini_ncbi_df[\"alias_symbol\"] = mini_ncbi_df.alias_symbol - mini_ncbi_df.gene_symbol\n",
    "display(mini_ncbi_df.iloc[7805])"
   ]
  },
  {
   "cell_type": "markdown",
   "metadata": {},
   "source": [
    "### Find intersection points using alias symbol sets and gene_symbol"
   ]
  },
  {
   "cell_type": "code",
   "execution_count": null,
   "metadata": {},
   "outputs": [],
   "source": [
    "mini_ncbi_df[\"intersect_point\"] = mini_ncbi_df.alias_symbol.apply(\n",
    "    lambda x: x & ncbi_gene_symbol_set\n",
    ")\n",
    "ag_collision_ncbi_df = mini_ncbi_df[mini_ncbi_df.intersect_point != set()]\n",
    "ag_collision_ncbi_df"
   ]
  },
  {
   "cell_type": "code",
   "execution_count": null,
   "metadata": {},
   "outputs": [],
   "source": [
    "ag_collision_ncbi_df[\"source\"] = \"NCBI Info\"\n",
    "ag_collision_ncbi_df.head()"
   ]
  },
  {
   "cell_type": "markdown",
   "metadata": {},
   "source": [
    "### Convert sets to str or list"
   ]
  },
  {
   "cell_type": "code",
   "execution_count": null,
   "metadata": {},
   "outputs": [],
   "source": [
    "# Assertion error when when run more than once\n",
    "ag_collision_ncbi_df[\"gene_symbol\"] = ag_collision_ncbi_df[\"gene_symbol\"].apply(list)\n",
    "ag_collision_ncbi_df.head()"
   ]
  },
  {
   "cell_type": "code",
   "execution_count": null,
   "metadata": {},
   "outputs": [],
   "source": [
    "ag_collision_ncbi_df[\"ENSG_ID\"] = ag_collision_ncbi_df[\"ENSG_ID\"].astype(str)\n",
    "ag_collision_ncbi_df.head()"
   ]
  },
  {
   "cell_type": "markdown",
   "metadata": {},
   "source": [
    "### Alphabetize alias_symbol"
   ]
  },
  {
   "cell_type": "code",
   "execution_count": null,
   "metadata": {},
   "outputs": [],
   "source": [
    "ag_collision_ncbi_df[\"alias_symbol\"] = ag_collision_ncbi_df[\"alias_symbol\"].apply(\n",
    "    lambda x: sorted(list(x), key=str.casefold)\n",
    ")\n",
    "ag_collision_ncbi_df.head()"
   ]
  },
  {
   "cell_type": "markdown",
   "metadata": {},
   "source": [
    "make a set of collisions\n",
    "- some records have multiple collisions, need to explode to one per row so that when i change it back to a str and make a set it doesnt count two collisions seperated by a commma as one unique collision"
   ]
  },
  {
   "cell_type": "code",
   "execution_count": null,
   "metadata": {},
   "outputs": [],
   "source": [
    "intersect_explode_ag_collision_ncbi_df = ag_collision_ncbi_df.explode(\n",
    "    column=\"intersect_point\"\n",
    ")\n",
    "intersect_explode_ag_collision_ncbi_df"
   ]
  },
  {
   "cell_type": "code",
   "execution_count": null,
   "metadata": {},
   "outputs": [],
   "source": [
    "ncbi_alias_gene_collision_set = set(\n",
    "    intersect_explode_ag_collision_ncbi_df[\"intersect_point\"]\n",
    ")\n",
    "len(ncbi_alias_gene_collision_set)"
   ]
  },
  {
   "cell_type": "code",
   "execution_count": null,
   "metadata": {},
   "outputs": [],
   "source": [
    "intersect_explode_ag_collision_ncbi_df[\"gene_symbol\"] = (\n",
    "    intersect_explode_ag_collision_ncbi_df[\"gene_symbol\"].str.join(\", \")\n",
    ")"
   ]
  },
  {
   "cell_type": "code",
   "execution_count": null,
   "metadata": {},
   "outputs": [],
   "source": [
    "ncbi_alias_gene_collision_primary_symbol_set = set(\n",
    "    intersect_explode_ag_collision_ncbi_df[\"gene_symbol\"]\n",
    ")\n",
    "len(ncbi_alias_gene_collision_primary_symbol_set)"
   ]
  },
  {
   "cell_type": "markdown",
   "metadata": {},
   "source": [
    "### Alphabetize intersect_point"
   ]
  },
  {
   "cell_type": "code",
   "execution_count": null,
   "metadata": {},
   "outputs": [],
   "source": [
    "ag_collision_ncbi_df[\"intersect_point\"] = ag_collision_ncbi_df[\"intersect_point\"].apply(\n",
    "    lambda x: sorted(list(x), key=str.casefold)\n",
    ")\n",
    "ag_collision_ncbi_df.head()"
   ]
  },
  {
   "cell_type": "markdown",
   "metadata": {},
   "source": [
    "### Convert lists to str"
   ]
  },
  {
   "cell_type": "code",
   "execution_count": null,
   "metadata": {},
   "outputs": [],
   "source": [
    "ag_collision_ncbi_df[\"gene_symbol\"] = ag_collision_ncbi_df[\"gene_symbol\"].str.join(\", \")"
   ]
  },
  {
   "cell_type": "code",
   "execution_count": null,
   "metadata": {},
   "outputs": [],
   "source": [
    "ag_collision_ncbi_df[\"alias_symbol\"] = ag_collision_ncbi_df[\"alias_symbol\"].str.join(\n",
    "    \", \"\n",
    ")"
   ]
  },
  {
   "cell_type": "code",
   "execution_count": null,
   "metadata": {},
   "outputs": [],
   "source": [
    "ag_collision_ncbi_df[\"intersect_point\"] = ag_collision_ncbi_df[\n",
    "    \"intersect_point\"\n",
    "].str.join(\", \")\n",
    "ag_collision_ncbi_df"
   ]
  },
  {
   "cell_type": "markdown",
   "metadata": {},
   "source": [
    "# Merge 3 sets together"
   ]
  },
  {
   "cell_type": "code",
   "execution_count": null,
   "metadata": {},
   "outputs": [],
   "source": [
    "merged_alias_gene_intersections_df = pd.concat(\n",
    "    [\n",
    "        ag_collision_hgnc_df[\n",
    "            [\"gene_symbol\", \"alias_symbol\", \"intersect_point\", \"source\"]\n",
    "        ],\n",
    "        ag_collision_ncbi_df[\n",
    "            [\"gene_symbol\", \"alias_symbol\", \"intersect_point\", \"source\"]\n",
    "        ],\n",
    "        ag_collision_ensg_df[\n",
    "            [\"gene_symbol\", \"alias_symbol\", \"intersect_point\", \"source\"]\n",
    "        ],\n",
    "    ]\n",
    ")\n",
    "merged_alias_gene_intersections_df"
   ]
  },
  {
   "cell_type": "code",
   "execution_count": null,
   "metadata": {},
   "outputs": [],
   "source": [
    "merged_alias_gene_intersections_df.loc[\n",
    "    merged_alias_gene_intersections_df[\"intersect_point\"] == \"CFM1\"\n",
    "]"
   ]
  },
  {
   "cell_type": "markdown",
   "metadata": {},
   "source": [
    "# Convert to csv"
   ]
  },
  {
   "cell_type": "code",
   "execution_count": null,
   "metadata": {},
   "outputs": [],
   "source": [
    "merged_alias_gene_intersections_df.to_csv(\n",
    "    \"../created_files/merged_alias_gene_intersections.csv\", index=False\n",
    ")"
   ]
  },
  {
   "cell_type": "code",
   "execution_count": null,
   "metadata": {},
   "outputs": [],
   "source": [
    "print(merged_alias_gene_intersections_df[\"source\"].value_counts())"
   ]
  },
  {
   "cell_type": "code",
   "execution_count": null,
   "metadata": {},
   "outputs": [],
   "source": [
    "common_ag_collisions = (\n",
    "    ncbi_alias_gene_collision_primary_symbol_set\n",
    "    & hgnc_alias_gene_collision_primary_symbol_set\n",
    "    & ensg_alias_gene_collision_primary_symbol_set\n",
    ")\n",
    "common_ag_collisions"
   ]
  },
  {
   "cell_type": "code",
   "execution_count": null,
   "metadata": {},
   "outputs": [],
   "source": [
    "len(common_ag_collisions)"
   ]
  }
 ],
 "metadata": {
  "kernelspec": {
   "display_name": "Python 3.10.9 ('gene-normalization-kln2mzEG')",
   "language": "python",
   "name": "python3"
  },
  "language_info": {
   "codemirror_mode": {
    "name": "ipython",
    "version": 3
   },
   "file_extension": ".py",
   "mimetype": "text/x-python",
   "name": "python",
   "nbconvert_exporter": "python",
   "pygments_lexer": "ipython3",
   "version": "3.11.7"
  },
  "orig_nbformat": 4,
  "vscode": {
   "interpreter": {
    "hash": "63db6d8944633f0f1ac66f1e84c479e7ccc3c7c835ee283fbd6bddfaad96182b"
   }
  }
 },
 "nbformat": 4,
 "nbformat_minor": 2
}
