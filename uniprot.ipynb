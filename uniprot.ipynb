{
 "cells": [
  {
   "cell_type": "markdown",
   "metadata": {},
   "source": [
    "# Expanding collision acronyms\n",
    "One problem for Aim 1 in Anastasia's dissertation is that once a gene-alias collision pair has been identified, we have to determine what the collision symbol actually represents in the context of the parent symbol. For example, CAP is listed as an alias for BRD4 but this symbol collides with so many other CAP aliases. In the context of BRD4, CAP actually refers to 'chromosome associated protein'. What cap stands for differs across different parent gene symbols. While this can be manually curated for a small set of genes, there exist over 100,000 gene-alias pairs to consider and so a programmatic approach will be needed. Additionally, a separate but related problem will be to programmatically identify the type of collision(?)."
   ]
  },
  {
   "cell_type": "markdown",
   "metadata": {},
   "source": [
    "## Test Run w/ Anastasia Gene Lists"
   ]
  },
  {
   "cell_type": "markdown",
   "metadata": {},
   "source": [
    "Given some sample gene lists, grab a uniprot identifier and use it to query for alternative names and pmids related to the parent gene. Once the alternative names and pmids are grabbed, use the PMID to query pubmed for the publication abstract. Use the obtained abstract and spaCy to do a quick check for symbol first letter matching (i.e. do triplets of words from an abstract start with C A P to match CAP). More sophisticated methods can be employed to check for correct expansion of words."
   ]
  },
  {
   "cell_type": "code",
   "execution_count": 50,
   "metadata": {},
   "outputs": [],
   "source": [
    "import spacy\n",
    "from tqdm import tqdm\n",
    "import pandas as pd\n",
    "import requests\n",
    "from acronym_parser import mark_acronyms\n",
    "\n",
    "def grab_uniprot_id(gene_symbol):\n",
    "    query = f'https://normalize.cancervariants.org/gene/normalize?q={gene_symbol}'\n",
    "    r = requests.get(query)\n",
    "    try:\n",
    "        uniprot_id = None\n",
    "        for extension in r.json()['gene_descriptor']['extensions']:\n",
    "            if extension['name'] == 'associated_with':\n",
    "                uniprot_id = [value.replace('uniprot:','') for value in extension['value'] if value.startswith('uniprot:')]\n",
    "                pass    \n",
    "    except:\n",
    "        uniprot_id = 'Yikes'\n",
    "    return uniprot_id\n",
    "\n",
    "def uniprot_request(uniprot_id):\n",
    "    uniprot_data = requests.get(f'https://rest.uniprot.org/uniprotkb/{uniprot_id}?format=json')\n",
    "    return uniprot_data    \n",
    "\n",
    "def grab_alternative_names(uniprot_data):\n",
    "    alt_names = []\n",
    "    try:\n",
    "        for name in uniprot_data.json()['proteinDescription']['alternativeNames']:\n",
    "            alt_names.append(name['fullName']['value'])\n",
    "    except:\n",
    "        alt_names = None\n",
    "    return(alt_names)\n",
    "\n",
    "def grab_pmids(uniprot_data):\n",
    "    pmids_to_check = []\n",
    "    for pmid in uniprot_data.json()['references']:\n",
    "        pmids_to_check.append(pmid['citation']['id'])\n",
    "    return(pmids_to_check)\n",
    "\n",
    "def get_pubmed_abstract(pmid, api_key='YOUR_API_KEY'):\n",
    "    \"\"\" Fetch the abstract for a given PMID from PubMed. \"\"\"\n",
    "    url = f\"https://eutils.ncbi.nlm.nih.gov/entrez/eutils/efetch.fcgi\"\n",
    "    params = {\n",
    "        'db': 'pubmed',\n",
    "        'id': pmid,\n",
    "        'retmode': 'xml'\n",
    "        # 'api_key': api_key\n",
    "    }\n",
    "    \n",
    "    response = requests.get(url, params=params)\n",
    "    \n",
    "    if response.status_code == 200:\n",
    "        # Parse the XML response\n",
    "        from xml.etree import ElementTree\n",
    "        root = ElementTree.fromstring(response.text)\n",
    "        \n",
    "        # Find the AbstractText element and return its text\n",
    "        abstract_text = root.find('.//AbstractText')\n",
    "        if abstract_text is not None:\n",
    "            return abstract_text.text\n",
    "        else:\n",
    "            return \"No abstract found.\"\n",
    "    else:\n",
    "        return f\"Error: {response.status_code}\"\n",
    "\n",
    "def find_matching_groups(abstract, gene_symbol):\n",
    "    # Load the English tokenizer, tagger, parser, NER, and word vectors\n",
    "    nlp = spacy.load(\"en_core_web_sm\")\n",
    "    \n",
    "    # Process the abstract text with spaCy\n",
    "    doc = nlp(abstract)\n",
    "\n",
    "    abstract = abstract.replace('-',' ')\n",
    "    # Create a list of words (tokens) from the document\n",
    "    words = [token.text for token in doc if not token.is_punct and not token.is_space]\n",
    "    \n",
    "    # Determine the length of the gene symbol\n",
    "    gene_length = len(gene_symbol)\n",
    "\n",
    "    # Initialize a list to store matching groups\n",
    "    matching_groups = []\n",
    "    \n",
    "    # Loop through the words to form groups of size gene_length\n",
    "    for i in range(len(words) - gene_length + 1):\n",
    "        # Select the current group of words\n",
    "        group = words[i:i + gene_length]\n",
    "        # Check if the first letter of each word in the group matches the letters in the gene symbol\n",
    "        if all(group[j][0].lower() == gene_symbol[j].lower() for j in range(gene_length)):\n",
    "            # If the group matches, add it to the list as a string\n",
    "            matching_groups.append(' '.join(group))\n",
    "    \n",
    "    return matching_groups"
   ]
  },
  {
   "cell_type": "code",
   "execution_count": null,
   "metadata": {},
   "outputs": [],
   "source": []
  },
  {
   "cell_type": "code",
   "execution_count": 51,
   "metadata": {},
   "outputs": [
    {
     "data": {
      "text/html": [
       "<div>\n",
       "<style scoped>\n",
       "    .dataframe tbody tr th:only-of-type {\n",
       "        vertical-align: middle;\n",
       "    }\n",
       "\n",
       "    .dataframe tbody tr th {\n",
       "        vertical-align: top;\n",
       "    }\n",
       "\n",
       "    .dataframe thead th {\n",
       "        text-align: right;\n",
       "    }\n",
       "</style>\n",
       "<table border=\"1\" class=\"dataframe\">\n",
       "  <thead>\n",
       "    <tr style=\"text-align: right;\">\n",
       "      <th></th>\n",
       "      <th>collision_symbol</th>\n",
       "      <th>parent_symbol</th>\n",
       "      <th>gene_alias_pair</th>\n",
       "      <th>correct_alias_expansion</th>\n",
       "      <th>collision_association</th>\n",
       "      <th>curation_difficulty</th>\n",
       "    </tr>\n",
       "  </thead>\n",
       "  <tbody>\n",
       "    <tr>\n",
       "      <th>0</th>\n",
       "      <td>CAP</td>\n",
       "      <td>BRD4</td>\n",
       "      <td>BRD4-CAP</td>\n",
       "      <td>Chromosome Associated Protein</td>\n",
       "      <td>Protein Product</td>\n",
       "      <td>easy</td>\n",
       "    </tr>\n",
       "    <tr>\n",
       "      <th>1</th>\n",
       "      <td>CAP</td>\n",
       "      <td>LNPEP</td>\n",
       "      <td>LNPEP-CAP</td>\n",
       "      <td>Cystinyl Aminopeptidase</td>\n",
       "      <td>Protein Product</td>\n",
       "      <td>medium</td>\n",
       "    </tr>\n",
       "    <tr>\n",
       "      <th>2</th>\n",
       "      <td>MYM</td>\n",
       "      <td>ZMYM1</td>\n",
       "      <td>ZMYM1-MYM</td>\n",
       "      <td>Myeloproloferative syndrome and mental retarda...</td>\n",
       "      <td>Disease</td>\n",
       "      <td>hard</td>\n",
       "    </tr>\n",
       "    <tr>\n",
       "      <th>3</th>\n",
       "      <td>ASP</td>\n",
       "      <td>ASIP</td>\n",
       "      <td>ASIP-ASP</td>\n",
       "      <td>Agouti Signaling Protein</td>\n",
       "      <td>Protein Product</td>\n",
       "      <td>easy</td>\n",
       "    </tr>\n",
       "    <tr>\n",
       "      <th>4</th>\n",
       "      <td>ASP</td>\n",
       "      <td>TMPRSS11D</td>\n",
       "      <td>TMPRSS11D-ASP</td>\n",
       "      <td>Adrenal secretory serine protease</td>\n",
       "      <td>Protein Product</td>\n",
       "      <td>medium</td>\n",
       "    </tr>\n",
       "    <tr>\n",
       "      <th>5</th>\n",
       "      <td>ASP</td>\n",
       "      <td>ASPM</td>\n",
       "      <td>ASPM-ASP</td>\n",
       "      <td>Drosophila abnormal spindle</td>\n",
       "      <td>Ortholog</td>\n",
       "      <td>hard</td>\n",
       "    </tr>\n",
       "    <tr>\n",
       "      <th>6</th>\n",
       "      <td>ALP</td>\n",
       "      <td>ATHS</td>\n",
       "      <td>ATHS-ALP</td>\n",
       "      <td>Atherogenic Lipoprotein Phenotype</td>\n",
       "      <td>Phenotype</td>\n",
       "      <td>easy</td>\n",
       "    </tr>\n",
       "    <tr>\n",
       "      <th>7</th>\n",
       "      <td>ALP</td>\n",
       "      <td>CCL27</td>\n",
       "      <td>CCL27-ALP</td>\n",
       "      <td>Alkaline Phosphatase</td>\n",
       "      <td>Protein Product</td>\n",
       "      <td>medium</td>\n",
       "    </tr>\n",
       "    <tr>\n",
       "      <th>8</th>\n",
       "      <td>ALP</td>\n",
       "      <td>ALPI</td>\n",
       "      <td>ALPI-ALP</td>\n",
       "      <td>Antileukoproteinase</td>\n",
       "      <td>Protein Product</td>\n",
       "      <td>hard</td>\n",
       "    </tr>\n",
       "  </tbody>\n",
       "</table>\n",
       "</div>"
      ],
      "text/plain": [
       "  collision_symbol parent_symbol gene_alias_pair  \\\n",
       "0              CAP          BRD4        BRD4-CAP   \n",
       "1              CAP         LNPEP       LNPEP-CAP   \n",
       "2              MYM         ZMYM1       ZMYM1-MYM   \n",
       "3              ASP          ASIP        ASIP-ASP   \n",
       "4              ASP     TMPRSS11D   TMPRSS11D-ASP   \n",
       "5              ASP          ASPM        ASPM-ASP   \n",
       "6              ALP          ATHS        ATHS-ALP   \n",
       "7              ALP         CCL27       CCL27-ALP   \n",
       "8              ALP          ALPI        ALPI-ALP   \n",
       "\n",
       "                             correct_alias_expansion collision_association  \\\n",
       "0                      Chromosome Associated Protein       Protein Product   \n",
       "1                            Cystinyl Aminopeptidase       Protein Product   \n",
       "2  Myeloproloferative syndrome and mental retarda...               Disease   \n",
       "3                           Agouti Signaling Protein       Protein Product   \n",
       "4                  Adrenal secretory serine protease       Protein Product   \n",
       "5                        Drosophila abnormal spindle              Ortholog   \n",
       "6                  Atherogenic Lipoprotein Phenotype             Phenotype   \n",
       "7                               Alkaline Phosphatase       Protein Product   \n",
       "8                                Antileukoproteinase       Protein Product   \n",
       "\n",
       "  curation_difficulty  \n",
       "0                easy  \n",
       "1              medium  \n",
       "2                hard  \n",
       "3                easy  \n",
       "4              medium  \n",
       "5                hard  \n",
       "6                easy  \n",
       "7              medium  \n",
       "8                hard  "
      ]
     },
     "execution_count": 51,
     "metadata": {},
     "output_type": "execute_result"
    }
   ],
   "source": [
    "data = {'collision_symbol': ['CAP','CAP','MYM','ASP','ASP','ASP','ALP','ALP','ALP'],\n",
    "        'parent_symbol': ['BRD4','LNPEP','ZMYM1','ASIP','TMPRSS11D','ASPM','ATHS','CCL27','ALPI'],\n",
    "        'gene_alias_pair': ['BRD4-CAP','LNPEP-CAP','ZMYM1-MYM','ASIP-ASP','TMPRSS11D-ASP','ASPM-ASP','ATHS-ALP','CCL27-ALP','ALPI-ALP'],\n",
    "        'correct_alias_expansion': [\"Chromosome Associated Protein\",\"Cystinyl Aminopeptidase\",\"Myeloproloferative syndrome and mental retardation\",\"Agouti Signaling Protein\",\"Adrenal secretory serine protease\",\"Drosophila abnormal spindle\",\"Atherogenic Lipoprotein Phenotype\",\"Alkaline Phosphatase\",\"Antileukoproteinase\"],\n",
    "        'collision_association': ['Protein Product','Protein Product','Disease', 'Protein Product', 'Protein Product', 'Ortholog', 'Phenotype', 'Protein Product', 'Protein Product'],\n",
    "        'curation_difficulty': ['easy','medium','hard','easy','medium','hard','easy','medium','hard']}\n",
    "df = pd.DataFrame(data)\n",
    "df"
   ]
  },
  {
   "cell_type": "code",
   "execution_count": 54,
   "metadata": {},
   "outputs": [
    {
     "name": "stdout",
     "output_type": "stream",
     "text": [
      "Retrieving ref data for BRD4\n"
     ]
    },
    {
     "name": "stderr",
     "output_type": "stream",
     "text": [
      "100%|██████████| 58/58 [01:28<00:00,  1.53s/it]\n"
     ]
    },
    {
     "name": "stdout",
     "output_type": "stream",
     "text": [
      "Checking abstracts using spaCy BRD4\n"
     ]
    },
    {
     "name": "stderr",
     "output_type": "stream",
     "text": [
      "100%|██████████| 56/56 [00:12<00:00,  4.59it/s]\n"
     ]
    },
    {
     "name": "stdout",
     "output_type": "stream",
     "text": [
      "Checking PMC using acronym_parser BRD4\n"
     ]
    },
    {
     "name": "stderr",
     "output_type": "stream",
     "text": [
      "100%|██████████| 56/56 [00:19<00:00,  2.88it/s]\n"
     ]
    },
    {
     "name": "stdout",
     "output_type": "stream",
     "text": [
      "Retrieving ref data for LNPEP\n"
     ]
    },
    {
     "name": "stderr",
     "output_type": "stream",
     "text": [
      "100%|██████████| 15/15 [00:21<00:00,  1.44s/it]\n"
     ]
    },
    {
     "name": "stdout",
     "output_type": "stream",
     "text": [
      "Checking abstracts using spaCy LNPEP\n"
     ]
    },
    {
     "name": "stderr",
     "output_type": "stream",
     "text": [
      "100%|██████████| 14/14 [00:03<00:00,  4.66it/s]\n"
     ]
    },
    {
     "name": "stdout",
     "output_type": "stream",
     "text": [
      "Checking PMC using acronym_parser LNPEP\n"
     ]
    },
    {
     "name": "stderr",
     "output_type": "stream",
     "text": [
      "100%|██████████| 14/14 [00:06<00:00,  2.15it/s]\n"
     ]
    },
    {
     "name": "stdout",
     "output_type": "stream",
     "text": [
      "Retrieving ref data for ZMYM1\n"
     ]
    },
    {
     "name": "stderr",
     "output_type": "stream",
     "text": [
      "100%|██████████| 5/5 [00:06<00:00,  1.23s/it]\n"
     ]
    },
    {
     "name": "stdout",
     "output_type": "stream",
     "text": [
      "Checking abstracts using spaCy ZMYM1\n"
     ]
    },
    {
     "name": "stderr",
     "output_type": "stream",
     "text": [
      "100%|██████████| 4/4 [00:00<00:00,  4.35it/s]\n"
     ]
    },
    {
     "name": "stdout",
     "output_type": "stream",
     "text": [
      "Checking PMC using acronym_parser ZMYM1\n"
     ]
    },
    {
     "name": "stderr",
     "output_type": "stream",
     "text": [
      "100%|██████████| 4/4 [00:01<00:00,  3.49it/s]\n"
     ]
    },
    {
     "name": "stdout",
     "output_type": "stream",
     "text": [
      "Retrieving ref data for ASIP\n"
     ]
    },
    {
     "name": "stderr",
     "output_type": "stream",
     "text": [
      "100%|██████████| 7/7 [00:10<00:00,  1.54s/it]\n"
     ]
    },
    {
     "name": "stdout",
     "output_type": "stream",
     "text": [
      "Checking abstracts using spaCy ASIP\n"
     ]
    },
    {
     "name": "stderr",
     "output_type": "stream",
     "text": [
      "100%|██████████| 7/7 [00:01<00:00,  4.52it/s]\n"
     ]
    },
    {
     "name": "stdout",
     "output_type": "stream",
     "text": [
      "Checking PMC using acronym_parser ASIP\n"
     ]
    },
    {
     "name": "stderr",
     "output_type": "stream",
     "text": [
      "100%|██████████| 7/7 [00:01<00:00,  3.67it/s]\n"
     ]
    },
    {
     "name": "stdout",
     "output_type": "stream",
     "text": [
      "Retrieving ref data for TMPRSS11D\n"
     ]
    },
    {
     "name": "stderr",
     "output_type": "stream",
     "text": [
      "100%|██████████| 5/5 [00:07<00:00,  1.56s/it]\n"
     ]
    },
    {
     "name": "stdout",
     "output_type": "stream",
     "text": [
      "Checking abstracts using spaCy TMPRSS11D\n"
     ]
    },
    {
     "name": "stderr",
     "output_type": "stream",
     "text": [
      "100%|██████████| 5/5 [00:01<00:00,  4.74it/s]\n"
     ]
    },
    {
     "name": "stdout",
     "output_type": "stream",
     "text": [
      "Checking PMC using acronym_parser TMPRSS11D\n"
     ]
    },
    {
     "name": "stderr",
     "output_type": "stream",
     "text": [
      "100%|██████████| 5/5 [00:01<00:00,  4.00it/s]\n"
     ]
    },
    {
     "name": "stdout",
     "output_type": "stream",
     "text": [
      "Retrieving ref data for ASPM\n"
     ]
    },
    {
     "name": "stderr",
     "output_type": "stream",
     "text": [
      "100%|██████████| 19/19 [00:27<00:00,  1.45s/it]\n"
     ]
    },
    {
     "name": "stdout",
     "output_type": "stream",
     "text": [
      "Checking abstracts using spaCy ASPM\n"
     ]
    },
    {
     "name": "stderr",
     "output_type": "stream",
     "text": [
      "100%|██████████| 18/18 [00:04<00:00,  4.48it/s]\n"
     ]
    },
    {
     "name": "stdout",
     "output_type": "stream",
     "text": [
      "Checking PMC using acronym_parser ASPM\n"
     ]
    },
    {
     "name": "stderr",
     "output_type": "stream",
     "text": [
      "100%|██████████| 18/18 [00:04<00:00,  4.04it/s]\n"
     ]
    },
    {
     "name": "stdout",
     "output_type": "stream",
     "text": [
      "Retrieving ref data for ATHS\n",
      "Retrieving ref data for CCL27\n"
     ]
    },
    {
     "name": "stderr",
     "output_type": "stream",
     "text": [
      "100%|██████████| 6/6 [00:07<00:00,  1.28s/it]\n"
     ]
    },
    {
     "name": "stdout",
     "output_type": "stream",
     "text": [
      "Checking abstracts using spaCy CCL27\n"
     ]
    },
    {
     "name": "stderr",
     "output_type": "stream",
     "text": [
      "100%|██████████| 5/5 [00:01<00:00,  4.55it/s]\n"
     ]
    },
    {
     "name": "stdout",
     "output_type": "stream",
     "text": [
      "Checking PMC using acronym_parser CCL27\n"
     ]
    },
    {
     "name": "stderr",
     "output_type": "stream",
     "text": [
      "100%|██████████| 5/5 [00:01<00:00,  3.88it/s]\n"
     ]
    },
    {
     "name": "stdout",
     "output_type": "stream",
     "text": [
      "Retrieving ref data for ALPI\n"
     ]
    },
    {
     "name": "stderr",
     "output_type": "stream",
     "text": [
      "100%|██████████| 12/12 [00:17<00:00,  1.45s/it]\n"
     ]
    },
    {
     "name": "stdout",
     "output_type": "stream",
     "text": [
      "Checking abstracts using spaCy ALPI\n"
     ]
    },
    {
     "name": "stderr",
     "output_type": "stream",
     "text": [
      "100%|██████████| 11/11 [00:02<00:00,  4.57it/s]\n"
     ]
    },
    {
     "name": "stdout",
     "output_type": "stream",
     "text": [
      "Checking PMC using acronym_parser ALPI\n"
     ]
    },
    {
     "name": "stderr",
     "output_type": "stream",
     "text": [
      "100%|██████████| 11/11 [00:02<00:00,  4.97it/s]\n"
     ]
    },
    {
     "data": {
      "text/html": [
       "<div>\n",
       "<style scoped>\n",
       "    .dataframe tbody tr th:only-of-type {\n",
       "        vertical-align: middle;\n",
       "    }\n",
       "\n",
       "    .dataframe tbody tr th {\n",
       "        vertical-align: top;\n",
       "    }\n",
       "\n",
       "    .dataframe thead th {\n",
       "        text-align: right;\n",
       "    }\n",
       "</style>\n",
       "<table border=\"1\" class=\"dataframe\">\n",
       "  <thead>\n",
       "    <tr style=\"text-align: right;\">\n",
       "      <th></th>\n",
       "      <th>collision_symbol</th>\n",
       "      <th>parent_symbol</th>\n",
       "      <th>gene_alias_pair</th>\n",
       "      <th>correct_alias_expansion</th>\n",
       "      <th>collision_association</th>\n",
       "      <th>curation_difficulty</th>\n",
       "      <th>test_results_alt_names</th>\n",
       "      <th>test_results_pmids</th>\n",
       "      <th>uniprot_id</th>\n",
       "      <th>test_results_pmcs</th>\n",
       "    </tr>\n",
       "  </thead>\n",
       "  <tbody>\n",
       "    <tr>\n",
       "      <th>0</th>\n",
       "      <td>CAP</td>\n",
       "      <td>BRD4</td>\n",
       "      <td>BRD4-CAP</td>\n",
       "      <td>Chromosome Associated Protein</td>\n",
       "      <td>Protein Product</td>\n",
       "      <td>easy</td>\n",
       "      <td>[Protein HUNK1]</td>\n",
       "      <td>[{'11733348': []}, {'15057824': []}, {'1548933...</td>\n",
       "      <td>[O60885]</td>\n",
       "      <td>[{'11733348': {}}, {'15057824': {}}, {'1548933...</td>\n",
       "    </tr>\n",
       "    <tr>\n",
       "      <th>1</th>\n",
       "      <td>CAP</td>\n",
       "      <td>LNPEP</td>\n",
       "      <td>LNPEP-CAP</td>\n",
       "      <td>Cystinyl Aminopeptidase</td>\n",
       "      <td>Protein Product</td>\n",
       "      <td>medium</td>\n",
       "      <td>[Insulin-regulated membrane aminopeptidase, In...</td>\n",
       "      <td>[{'8550619': []}, {'9177475': []}, {'10759854'...</td>\n",
       "      <td>[Q9UIQ6]</td>\n",
       "      <td>[{'8550619': {}}, {'9177475': {}}, {'10759854'...</td>\n",
       "    </tr>\n",
       "    <tr>\n",
       "      <th>2</th>\n",
       "      <td>MYM</td>\n",
       "      <td>ZMYM1</td>\n",
       "      <td>ZMYM1-MYM</td>\n",
       "      <td>Myeloproloferative syndrome and mental retarda...</td>\n",
       "      <td>Disease</td>\n",
       "      <td>hard</td>\n",
       "      <td>None</td>\n",
       "      <td>[{'17974005': []}, {'16710414': []}, {'2575529...</td>\n",
       "      <td>[Q5SVZ6]</td>\n",
       "      <td>[{'17974005': {'NMD': {'nonsense mediated deca...</td>\n",
       "    </tr>\n",
       "    <tr>\n",
       "      <th>3</th>\n",
       "      <td>ASP</td>\n",
       "      <td>ASIP</td>\n",
       "      <td>ASIP-ASP</td>\n",
       "      <td>Agouti Signaling Protein</td>\n",
       "      <td>Protein Product</td>\n",
       "      <td>easy</td>\n",
       "      <td>[Agouti switch protein]</td>\n",
       "      <td>[{'7937887': []}, {'7757071': []}, {'11780052'...</td>\n",
       "      <td>[P42127]</td>\n",
       "      <td>[{'7937887': {}}, {'7757071': {}}, {'11780052'...</td>\n",
       "    </tr>\n",
       "    <tr>\n",
       "      <th>4</th>\n",
       "      <td>ASP</td>\n",
       "      <td>TMPRSS11D</td>\n",
       "      <td>TMPRSS11D-ASP</td>\n",
       "      <td>Adrenal secretory serine protease</td>\n",
       "      <td>Protein Product</td>\n",
       "      <td>medium</td>\n",
       "      <td>[Airway trypsin-like protease]</td>\n",
       "      <td>[{'9565616': []}, {'15489334': []}, {'9070615'...</td>\n",
       "      <td>[O60235]</td>\n",
       "      <td>[{'9565616': {}}, {'15489334': {}}, {'9070615'...</td>\n",
       "    </tr>\n",
       "    <tr>\n",
       "      <th>5</th>\n",
       "      <td>ASP</td>\n",
       "      <td>ASPM</td>\n",
       "      <td>ASPM-ASP</td>\n",
       "      <td>Drosophila abnormal spindle</td>\n",
       "      <td>Ortholog</td>\n",
       "      <td>hard</td>\n",
       "      <td>[Abnormal spindle protein homolog]</td>\n",
       "      <td>[{'12355089': []}, {'14704186': []}, {'1597272...</td>\n",
       "      <td>[Q8IZT6]</td>\n",
       "      <td>[{'12355089': {}}, {'14704186': {}}, {'1597272...</td>\n",
       "    </tr>\n",
       "    <tr>\n",
       "      <th>6</th>\n",
       "      <td>ALP</td>\n",
       "      <td>ATHS</td>\n",
       "      <td>ATHS-ALP</td>\n",
       "      <td>Atherogenic Lipoprotein Phenotype</td>\n",
       "      <td>Phenotype</td>\n",
       "      <td>easy</td>\n",
       "      <td>None</td>\n",
       "      <td>None</td>\n",
       "      <td>[]</td>\n",
       "      <td>None</td>\n",
       "    </tr>\n",
       "    <tr>\n",
       "      <th>7</th>\n",
       "      <td>ALP</td>\n",
       "      <td>CCL27</td>\n",
       "      <td>CCL27-ALP</td>\n",
       "      <td>Alkaline Phosphatase</td>\n",
       "      <td>Protein Product</td>\n",
       "      <td>medium</td>\n",
       "      <td>[CC chemokine ILC, Cutaneous T-cell-attracting...</td>\n",
       "      <td>[{'10556532': []}, {'10588729': []}, {'1072569...</td>\n",
       "      <td>[Q9Y4X3]</td>\n",
       "      <td>[{'10556532': {}}, {'10588729': {}}, {'1072569...</td>\n",
       "    </tr>\n",
       "    <tr>\n",
       "      <th>8</th>\n",
       "      <td>ALP</td>\n",
       "      <td>ALPI</td>\n",
       "      <td>ALPI-ALP</td>\n",
       "      <td>Antileukoproteinase</td>\n",
       "      <td>Protein Product</td>\n",
       "      <td>hard</td>\n",
       "      <td>None</td>\n",
       "      <td>[{'3468508': []}, {'3469665': []}, {'2841341':...</td>\n",
       "      <td>[P09923]</td>\n",
       "      <td>[{'3468508': {}}, {'3469665': {}}, {'2841341':...</td>\n",
       "    </tr>\n",
       "  </tbody>\n",
       "</table>\n",
       "</div>"
      ],
      "text/plain": [
       "  collision_symbol parent_symbol gene_alias_pair  \\\n",
       "0              CAP          BRD4        BRD4-CAP   \n",
       "1              CAP         LNPEP       LNPEP-CAP   \n",
       "2              MYM         ZMYM1       ZMYM1-MYM   \n",
       "3              ASP          ASIP        ASIP-ASP   \n",
       "4              ASP     TMPRSS11D   TMPRSS11D-ASP   \n",
       "5              ASP          ASPM        ASPM-ASP   \n",
       "6              ALP          ATHS        ATHS-ALP   \n",
       "7              ALP         CCL27       CCL27-ALP   \n",
       "8              ALP          ALPI        ALPI-ALP   \n",
       "\n",
       "                             correct_alias_expansion collision_association  \\\n",
       "0                      Chromosome Associated Protein       Protein Product   \n",
       "1                            Cystinyl Aminopeptidase       Protein Product   \n",
       "2  Myeloproloferative syndrome and mental retarda...               Disease   \n",
       "3                           Agouti Signaling Protein       Protein Product   \n",
       "4                  Adrenal secretory serine protease       Protein Product   \n",
       "5                        Drosophila abnormal spindle              Ortholog   \n",
       "6                  Atherogenic Lipoprotein Phenotype             Phenotype   \n",
       "7                               Alkaline Phosphatase       Protein Product   \n",
       "8                                Antileukoproteinase       Protein Product   \n",
       "\n",
       "  curation_difficulty                             test_results_alt_names  \\\n",
       "0                easy                                    [Protein HUNK1]   \n",
       "1              medium  [Insulin-regulated membrane aminopeptidase, In...   \n",
       "2                hard                                               None   \n",
       "3                easy                            [Agouti switch protein]   \n",
       "4              medium                     [Airway trypsin-like protease]   \n",
       "5                hard                 [Abnormal spindle protein homolog]   \n",
       "6                easy                                               None   \n",
       "7              medium  [CC chemokine ILC, Cutaneous T-cell-attracting...   \n",
       "8                hard                                               None   \n",
       "\n",
       "                                  test_results_pmids uniprot_id  \\\n",
       "0  [{'11733348': []}, {'15057824': []}, {'1548933...   [O60885]   \n",
       "1  [{'8550619': []}, {'9177475': []}, {'10759854'...   [Q9UIQ6]   \n",
       "2  [{'17974005': []}, {'16710414': []}, {'2575529...   [Q5SVZ6]   \n",
       "3  [{'7937887': []}, {'7757071': []}, {'11780052'...   [P42127]   \n",
       "4  [{'9565616': []}, {'15489334': []}, {'9070615'...   [O60235]   \n",
       "5  [{'12355089': []}, {'14704186': []}, {'1597272...   [Q8IZT6]   \n",
       "6                                               None         []   \n",
       "7  [{'10556532': []}, {'10588729': []}, {'1072569...   [Q9Y4X3]   \n",
       "8  [{'3468508': []}, {'3469665': []}, {'2841341':...   [P09923]   \n",
       "\n",
       "                                   test_results_pmcs  \n",
       "0  [{'11733348': {}}, {'15057824': {}}, {'1548933...  \n",
       "1  [{'8550619': {}}, {'9177475': {}}, {'10759854'...  \n",
       "2  [{'17974005': {'NMD': {'nonsense mediated deca...  \n",
       "3  [{'7937887': {}}, {'7757071': {}}, {'11780052'...  \n",
       "4  [{'9565616': {}}, {'15489334': {}}, {'9070615'...  \n",
       "5  [{'12355089': {}}, {'14704186': {}}, {'1597272...  \n",
       "6                                               None  \n",
       "7  [{'10556532': {}}, {'10588729': {}}, {'1072569...  \n",
       "8  [{'3468508': {}}, {'3469665': {}}, {'2841341':...  "
      ]
     },
     "execution_count": 54,
     "metadata": {},
     "output_type": "execute_result"
    }
   ],
   "source": [
    "# Main \n",
    "import time\n",
    "\n",
    "# Initialize\n",
    "df['test_results_alt_names'] = None\n",
    "df['test_results_pmids'] = None\n",
    "df['test_results_pmcs'] = None\n",
    "df['uniprot_id'] = df['parent_symbol'].apply(grab_uniprot_id)\n",
    "\n",
    "# Grab PMIDS and Alternative Names\n",
    "for index,row in df.iterrows():\n",
    "    print(f'Retrieving ref data for {row[\"parent_symbol\"]}')\n",
    "    if not row['uniprot_id']:\n",
    "        continue\n",
    "    data = uniprot_request(row['uniprot_id'][0])    \n",
    "    alt_names = grab_alternative_names(data)\n",
    "    df.at[index,'test_results_alt_names'] = alt_names\n",
    "    pmids = grab_pmids(data)\n",
    "\n",
    "    # Grab Abstracts from PubMed\n",
    "    abstracts_to_check = []\n",
    "    pmcs_to_check = []\n",
    "    for pmid in tqdm(pmids):\n",
    "        entry = {}\n",
    "        if pmid.startswith('CI'):\n",
    "            continue\n",
    "        else:\n",
    "            time.sleep(1) # Pubmed will throw back \"too many requests\" error unless you space them out or find a way to batch them\n",
    "            # Abstracts\n",
    "            abstract = get_pubmed_abstract(pmid)\n",
    "            entry[pmid] = abstract\n",
    "            abstracts_to_check.append(entry)\n",
    "            # PMC IDs\n",
    "            pmcid = get_pmc_id(pmid)\n",
    "            entry[pmid] = pmcid \n",
    "            pmcs_to_check.append(entry)\n",
    "\n",
    "    # Check Abstracts using spaCy\n",
    "    print(f'Checking abstracts using spaCy {row[\"parent_symbol\"]}')    \n",
    "    possible_matches = []\n",
    "    for abstract_dict in tqdm(abstracts_to_check):\n",
    "        keys = list(abstract_dict.keys())\n",
    "        possible_match = {}\n",
    "        for key in keys:\n",
    "            result = find_matching_groups(abstract_dict[key],row['collision_symbol'])\n",
    "            possible_match[key] = result\n",
    "        possible_matches.append(possible_match)\n",
    "\n",
    "    df.at[index,'test_results_pmids'] = possible_matches\n",
    "\n",
    "    # Use Acronym Parser \n",
    "    print(f'Checking PMC using acronym_parser {row[\"parent_symbol\"]}')\n",
    "    possible_matches = []\n",
    "    for pmc_dict in tqdm(pmcs_to_check):\n",
    "        keys = list(pmc_dict.keys())\n",
    "        possible_match = {}\n",
    "        for key in keys:\n",
    "            pmcid = pmc_dict[key]\n",
    "            url = f'https://www.ncbi.nlm.nih.gov/research/bionlp/RESTful/pmcoa.cgi/BioC_xml/{pmcid}/unicode'\n",
    "            r = requests.get(url)\n",
    "            acronyms = mark_acronyms(r.text)\n",
    "            possible_match[key] = acronyms\n",
    "        possible_matches.append(possible_match)\n",
    "\n",
    "    df.at[index,'test_results_pmcs'] = possible_matches\n",
    "    \n",
    "df"
   ]
  },
  {
   "cell_type": "code",
   "execution_count": 4,
   "metadata": {},
   "outputs": [
    {
     "name": "stdout",
     "output_type": "stream",
     "text": [
      "['Agouti switch protein']\n",
      "[{'7937887': []}, {'7757071': ['Agouti Signaling Protein']}, {'11780052': []}, {'15489334': ['a saturation point']}, {'15701517': ['agouti signaling protein']}, {'11833005': ['agouti signaling protein', 'agouti signaling protein']}, {'36536132': ['agouti signaling protein', 'a similar phenotype']}]\n"
     ]
    }
   ],
   "source": [
    "spot_check = 3\n",
    "\n",
    "print(df['test_results_alt_names'][spot_check])\n",
    "\n",
    "print(df['test_results_pmids'][spot_check])\n",
    "print(df['test_results_pmcs'][spot_check])\n"
   ]
  }
 ],
 "metadata": {
  "kernelspec": {
   "display_name": "Python 3",
   "language": "python",
   "name": "python3"
  },
  "language_info": {
   "codemirror_mode": {
    "name": "ipython",
    "version": 3
   },
   "file_extension": ".py",
   "mimetype": "text/x-python",
   "name": "python",
   "nbconvert_exporter": "python",
   "pygments_lexer": "ipython3",
   "version": "3.12.2"
  }
 },
 "nbformat": 4,
 "nbformat_minor": 2
}
