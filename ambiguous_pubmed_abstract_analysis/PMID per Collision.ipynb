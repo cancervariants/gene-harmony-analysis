{
 "cells": [
  {
   "cell_type": "code",
   "execution_count": 23,
   "metadata": {},
   "outputs": [],
   "source": [
    "import requests \n",
    "import pandas as pd\n"
   ]
  },
  {
   "cell_type": "code",
   "execution_count": 35,
   "metadata": {},
   "outputs": [
    {
     "name": "stdout",
     "output_type": "stream",
     "text": [
      "Error executing EDirect command: Command 'esearch -db pubmed -query \"(\"VH\" OR \"BRAF\" OR \"PDGFRA\" OR \"HBG2\" OR \"NRAS\" OR \"FGGY\")\" -retmax 0' returned non-zero exit status 127.\n",
      "Command output (stderr): /bin/sh: esearch: command not found\n",
      "\n"
     ]
    }
   ],
   "source": [
    "import subprocess\n",
    "\n",
    "gene_list = ['VH', 'BRAF', 'PDGFRA', 'HBG2', 'NRAS', 'FGGY']\n",
    "\n",
    "def retrieve_pmids_for_gene_symbols(gene_symbols):\n",
    "    try:\n",
    "        # Construct the query string with OR operators\n",
    "        query = ' OR '.join(f'\"{gene}\"' for gene in gene_symbols)\n",
    "        command = f'esearch -db pubmed -query \"({query})\" -retmax 0'\n",
    "\n",
    "        # Execute the command and capture output\n",
    "        result = subprocess.run(command, shell=True, check=True, stdout=subprocess.PIPE, stderr=subprocess.PIPE, text=True)\n",
    "\n",
    "        # Print or process the output\n",
    "        print(\"Output:\")\n",
    "        print(result.stdout)\n",
    "\n",
    "    except subprocess.CalledProcessError as e:\n",
    "        print(f\"Error executing EDirect command: {e}\")\n",
    "        print(f\"Command output (stderr): {e.stderr}\")\n",
    "\n",
    "# Call the function with gene_list\n",
    "retrieve_pmids_for_gene_symbols(gene_list)\n"
   ]
  },
  {
   "cell_type": "code",
   "execution_count": 25,
   "metadata": {},
   "outputs": [
    {
     "data": {
      "text/plain": [
       "6"
      ]
     },
     "execution_count": 25,
     "metadata": {},
     "output_type": "execute_result"
    }
   ],
   "source": [
    "len(abstract_counts)"
   ]
  },
  {
   "cell_type": "code",
   "execution_count": 26,
   "metadata": {},
   "outputs": [
    {
     "name": "stdout",
     "output_type": "stream",
     "text": [
      "  gene symbol  count pmids\n",
      "0          VH  14042    {}\n",
      "1        BRAF  24232    []\n",
      "2      PDGFRA   3288    []\n",
      "3        HBG2    177    []\n",
      "4        NRAS   7472    []\n",
      "5        FGGY     28    []\n"
     ]
    }
   ],
   "source": [
    "gene_symbols = []\n",
    "counts = []\n",
    "pmids_lists = []\n",
    "\n",
    "# Extract data from abstract_counts dictionary\n",
    "for gene, data in abstract_counts.items():\n",
    "    gene_symbols.append(gene)\n",
    "    counts.append(int(data['count']))\n",
    "    pmids_lists.append(data['pmids'])\n",
    "\n",
    "# Create DataFrame\n",
    "df = pd.DataFrame({\n",
    "    'gene symbol': gene_symbols,\n",
    "    'count': counts,\n",
    "    'pmids': pmids_lists\n",
    "})\n",
    "\n",
    "# Display DataFrame\n",
    "print(df)"
   ]
  },
  {
   "cell_type": "code",
   "execution_count": 27,
   "metadata": {},
   "outputs": [
    {
     "name": "stdout",
     "output_type": "stream",
     "text": [
      "Set of all PMIDs:\n",
      "set()\n"
     ]
    }
   ],
   "source": [
    "all_pmids = set()\n",
    "for pmids in df['pmids']:\n",
    "    all_pmids.update(pmids)\n",
    "\n",
    "# Display the set of all PMIDs\n",
    "print(\"Set of all PMIDs:\")\n",
    "print(all_pmids)"
   ]
  },
  {
   "cell_type": "code",
   "execution_count": 28,
   "metadata": {},
   "outputs": [
    {
     "data": {
      "text/plain": [
       "{'count', 'gene symbol', 'pmids'}"
      ]
     },
     "execution_count": 28,
     "metadata": {},
     "output_type": "execute_result"
    }
   ],
   "source": [
    "set(df)"
   ]
  },
  {
   "cell_type": "code",
   "execution_count": 29,
   "metadata": {},
   "outputs": [
    {
     "data": {
      "text/plain": [
       "0"
      ]
     },
     "execution_count": 29,
     "metadata": {},
     "output_type": "execute_result"
    }
   ],
   "source": [
    "len(all_pmids)"
   ]
  },
  {
   "cell_type": "code",
   "execution_count": 30,
   "metadata": {},
   "outputs": [
    {
     "data": {
      "text/plain": [
       "49239"
      ]
     },
     "execution_count": 30,
     "metadata": {},
     "output_type": "execute_result"
    }
   ],
   "source": [
    "sum_counts = df['count'].sum()\n",
    "sum_counts"
   ]
  },
  {
   "cell_type": "code",
   "execution_count": 31,
   "metadata": {},
   "outputs": [],
   "source": [
    "if 'VH' in abstract_counts:\n",
    "    abstract_counts['VH']['pmids'] = set(abstract_counts['VH']['pmids'])"
   ]
  },
  {
   "cell_type": "code",
   "execution_count": 32,
   "metadata": {},
   "outputs": [
    {
     "data": {
      "text/plain": [
       "0"
      ]
     },
     "execution_count": 32,
     "metadata": {},
     "output_type": "execute_result"
    }
   ],
   "source": [
    "len(set(abstract_counts['VH']['pmids']))"
   ]
  }
 ],
 "metadata": {
  "kernelspec": {
   "display_name": "Python 3",
   "language": "python",
   "name": "python3"
  },
  "language_info": {
   "codemirror_mode": {
    "name": "ipython",
    "version": 3
   },
   "file_extension": ".py",
   "mimetype": "text/x-python",
   "name": "python",
   "nbconvert_exporter": "python",
   "pygments_lexer": "ipython3",
   "version": "3.11.7"
  }
 },
 "nbformat": 4,
 "nbformat_minor": 2
}
