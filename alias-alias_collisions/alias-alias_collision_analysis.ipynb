{
 "cells": [
  {
   "cell_type": "markdown",
   "metadata": {},
   "source": [
    "**Table of contents**<a id='toc0_'></a>    \n",
    "- [ENSG](#toc1_)    \n",
    "    - [How many total unique gene records are there in Ensembl](#toc1_1_1_)    \n",
    "    - [Identify alias-alias collision symbols](#toc1_1_2_)    \n",
    "    - [Create a histogram displaying how frequent the numebr of gene records sharing an alias is](#toc1_1_3_)    \n",
    "- [HGNC](#toc2_)    \n",
    "    - [How many total unique gene records are there in HGNC](#toc2_1_1_)    \n",
    "    - [Identify alias-alias collision symbols](#toc2_1_2_)    \n",
    "    - [Create a histogram displaying how frequent the numebr of gene records sharing an alias is](#toc2_1_3_)    \n",
    "- [NCBI Info](#toc3_)    \n",
    "    - [How many total unique gene records are there in NCBI Gene](#toc3_1_1_)    \n",
    "    - [Identify alias-alias collision symbols](#toc3_1_2_)    \n",
    "    - [Create a histogram displaying how frequent the numebr of gene records sharing an alias is](#toc3_1_3_)    \n",
    "- [Merge to create Alias-Alias Collision Table- On Primary Gene Symbol](#toc4_)    \n",
    "- [Merge to create Alias-Alias Collision Table- On Alias Symbol](#toc5_)    \n",
    "- [How many unique primary gene symbols are there?](#toc6_)    \n",
    "  - [Per Source](#toc6_1_)    \n",
    "  - [All sources](#toc6_2_)    \n",
    "    - [How many symbols appear in all sources?](#toc6_2_1_)    \n",
    "    - [How many unique symbols are found between all sources?](#toc6_2_2_)    \n",
    "- [How many unique aliases are there?](#toc7_)    \n",
    "  - [Per Source](#toc7_1_)    \n",
    "  - [All sources](#toc7_2_)    \n",
    "    - [How many aliases appear in all sources?](#toc7_2_1_)    \n",
    "    - [How many unique aliases are found between all sources?](#toc7_2_2_)    \n",
    "- [How many gene records have an alias that is shared?](#toc8_)    \n",
    "  - [Per Source](#toc8_1_)    \n",
    "  - [All Sources](#toc8_2_)    \n",
    "    - [How many gene records have at least one shared alias in all sources?](#toc8_2_1_)    \n",
    "    - [How many unique gene records that have at least one shared alias are found between all sources?](#toc8_2_2_)    \n",
    "- [How many alias symbols are being shared?](#toc9_)    \n",
    "  - [Per Source](#toc9_1_)    \n",
    "  - [All Sources](#toc9_2_)    \n",
    "    - [How many aliases are shared in all sources?](#toc9_2_1_)    \n",
    "    - [How many unique shared aliases are found between all sources?](#toc9_2_2_)    \n",
    "- [How many gene concept-alias relationships are there?](#toc10_)    \n",
    "  - [Per Source](#toc10_1_)    \n",
    "  - [All Sources](#toc10_2_)    \n",
    "    - [How many unique gene-alias pairs are found between all sources?](#toc10_2_1_)    \n",
    "      - [Remove duplicate concept-alias pairs](#toc10_2_1_1_)    \n",
    "\n",
    "<!-- vscode-jupyter-toc-config\n",
    "\tnumbering=false\n",
    "\tanchor=true\n",
    "\tflat=false\n",
    "\tminLevel=1\n",
    "\tmaxLevel=6\n",
    "\t/vscode-jupyter-toc-config -->\n",
    "<!-- THIS CELL WILL BE REPLACED ON TOC UPDATE. DO NOT WRITE YOUR TEXT IN THIS CELL -->"
   ]
  },
  {
   "cell_type": "code",
   "execution_count": 1,
   "metadata": {},
   "outputs": [],
   "source": [
    "import pandas as pd\n",
    "import numpy as np\n",
    "import plotly.express as px"
   ]
  },
  {
   "cell_type": "code",
   "execution_count": 2,
   "metadata": {},
   "outputs": [],
   "source": [
    "def create_aa_collision_df(subset_genes_xxxx_df: pd.DataFrame, merged_alias_xxxx_df: pd.DataFrame, source: str) -> pd.DataFrame:\n",
    "    \"\"\"Create a df of alias-alias collision symbols \n",
    "\n",
    "    :param subset_genes_xxxx_df: Processed df of gene records\n",
    "    :param source: Representation of the source of the gene records\n",
    "    :return: A df of genes that share an alias with another gene\n",
    "    \"\"\"\n",
    "\n",
    "    #Create df with genes that have an alias that can be found in another gene's alias set\n",
    "    aa_collision_gene_xxxx_df = subset_genes_xxxx_df.copy()\n",
    "    aa_collision_gene_xxxx_df[\"alias_duplicates\"] = aa_collision_gene_xxxx_df.duplicated(\n",
    "    subset=\"alias_symbol\", keep=False\n",
    "    )\n",
    "    aa_collision_gene_xxxx_df = aa_collision_gene_xxxx_df[aa_collision_gene_xxxx_df[\"alias_duplicates\"]]\n",
    "    aa_collision_gene_xxxx_df = aa_collision_gene_xxxx_df.rename(\n",
    "    columns={\"alias_symbol\": \"collision\"})\n",
    "    aa_collision_gene_xxxx_df = aa_collision_gene_xxxx_df.drop([\"alias_duplicates\"], axis=1)\n",
    "    aa_collision_gene_xxxx_df = aa_collision_gene_xxxx_df.sort_values(\"collision\")\n",
    "\n",
    "    #Add a source tag for future merging efforts\n",
    "    aa_collision_gene_xxxx_df[\"source\"] = str(source)\n",
    "\n",
    "    #Create a secondary collision df that merges the alias symbols for each record\n",
    "    aa_collision_gene_xxxx_df = pd.merge(aa_collision_gene_xxxx_df, merged_alias_xxxx_df, on=[\"ENSG_ID\", \"gene_symbol\", \"HGNC_ID\"], how=\"left\")\n",
    "    aa_collision_gene_xxxx_df = aa_collision_gene_xxxx_df[[\"gene_symbol\",\"alias_symbol\",\"ENSG_ID\",\"HGNC_ID\",\"NCBI_ID\",\"collision\",\"source\"]]\n",
    "\n",
    "    #Convert the df into a csv\n",
    "    aa_collision_gene_xxxx_df.to_csv(f'../created_files/aa_collision_gene_{source}_df.csv', index=True)\n",
    "\n",
    "    #Create a secondary collision df that prioritizes the collision symbol\n",
    "    aa_collision_alias_xxxx_df = aa_collision_gene_xxxx_df[\n",
    "    [\"collision\", \"gene_symbol\", \"ENSG_ID\", \"source\"]\n",
    "    ]\n",
    "    aa_collision_alias_xxxx_df = aa_collision_alias_xxxx_df.map(str)\n",
    "    aa_collision_alias_xxxx_df = (\n",
    "    aa_collision_alias_xxxx_df.groupby(\"collision\")\n",
    "    .agg({\"ENSG_ID\": \", \".join, \"gene_symbol\": \", \".join, \"source\": \"first\"})\n",
    "    .reset_index()\n",
    "    )\n",
    "\n",
    "    #Convert the df into a csv and save\n",
    "    aa_collision_alias_xxxx_df.to_csv(f'../created_files/aa_collision_alias_{source}_df.csv', index=True)\n",
    "\n",
    "    return subset_genes_xxxx_df.head(), aa_collision_gene_xxxx_df.head(), aa_collision_alias_xxxx_df.head()"
   ]
  },
  {
   "cell_type": "code",
   "execution_count": 3,
   "metadata": {},
   "outputs": [],
   "source": [
    "def create_aa_collision_histogram(aa_collision_gene_xxxx_df: pd.DataFrame, source: str, xxxx_alias_count: int):\n",
    "    \"\"\"Create a histogram of the frequencies at which aliases are shared\n",
    "\n",
    "    :param aa_collision_gene_xxxx_df: A df of alias-alias collisions organized by primary gene symbol\n",
    "    :param source: Representation of the source of the gene records\n",
    "    :param xxxx_alias_count: Number of aliases total in the source\n",
    "    :return: A histogram of the percentage of aliases that are shared between 2 genes, 3 genes, and so on\n",
    "    \"\"\"\n",
    "    \n",
    "    #Count the number of times each shared alias is used\n",
    "    aa_collision_xxxx_count_df = aa_collision_gene_xxxx_df.pivot_table(\n",
    "    index=[\"collision\"], aggfunc=\"size\"\n",
    "    )\n",
    "    aa_collision_xxxx_count_df = aa_collision_xxxx_count_df.reset_index()\n",
    "    aa_collision_xxxx_count_df.rename(columns={0: \"num_gene_records\"}, inplace=True)\n",
    "    aa_collision_xxxx_count_df = aa_collision_xxxx_count_df.sort_values(\n",
    "        \"num_gene_records\", ascending=False)\n",
    "\n",
    "    #Convert to csv\n",
    "    aa_collision_xxxx_count_df.to_csv(f'../created_files/aa_collision_{source}_count_df.csv', index=True)\n",
    "\n",
    "    #Count the frequency at which aliases are shared \n",
    "    aa_collision_xxxx_distribution_df = aa_collision_xxxx_count_df.pivot_table(\n",
    "    index=[\"num_gene_records\"], aggfunc=\"size\"\n",
    "    )\n",
    "    aa_collision_xxxx_distribution_df = aa_collision_xxxx_distribution_df.reset_index()\n",
    "    aa_collision_xxxx_distribution_df.rename(columns={0: \"num_collision_symbol\"}, inplace=True)\n",
    "    aa_collision_xxxx_distribution_df[\"percent_collision_symbol\"] = (\n",
    "        aa_collision_xxxx_distribution_df[\"num_collision_symbol\"] / xxxx_alias_count\n",
    "    ) * 100\n",
    "\n",
    "    #Convert to csv\n",
    "    aa_collision_xxxx_distribution_df.to_csv(f'../created_files/aa_collision_{source}_distribution_df.csv', index=True)\n",
    "\n",
    "    #Create histogram df \n",
    "    xxxx_alias_count_histogram_df = aa_collision_xxxx_distribution_df.drop(\n",
    "    \"num_collision_symbol\", axis=1)\n",
    "\n",
    "    #Convert to csv\n",
    "    xxxx_alias_count_histogram_df.to_csv(f'../created_files/{source}_alias_count_histogram_df.csv', index=True)\n",
    "\n",
    "    return px.bar(xxxx_alias_count_histogram_df, x=\"num_gene_records\", y=\"percent_collision_symbol\")\n",
    "\n"
   ]
  },
  {
   "cell_type": "markdown",
   "metadata": {},
   "source": [
    "# <a id='toc1_'></a>[ENSG](#toc0_)"
   ]
  },
  {
   "cell_type": "code",
   "execution_count": 4,
   "metadata": {},
   "outputs": [
    {
     "data": {
      "text/html": [
       "<div>\n",
       "<style scoped>\n",
       "    .dataframe tbody tr th:only-of-type {\n",
       "        vertical-align: middle;\n",
       "    }\n",
       "\n",
       "    .dataframe tbody tr th {\n",
       "        vertical-align: top;\n",
       "    }\n",
       "\n",
       "    .dataframe thead th {\n",
       "        text-align: right;\n",
       "    }\n",
       "</style>\n",
       "<table border=\"1\" class=\"dataframe\">\n",
       "  <thead>\n",
       "    <tr style=\"text-align: right;\">\n",
       "      <th></th>\n",
       "      <th>Unnamed: 0</th>\n",
       "      <th>ENSG_ID</th>\n",
       "      <th>gene_symbol</th>\n",
       "      <th>alias_symbol</th>\n",
       "      <th>HGNC_ID</th>\n",
       "      <th>NCBI_ID</th>\n",
       "    </tr>\n",
       "  </thead>\n",
       "  <tbody>\n",
       "    <tr>\n",
       "      <th>0</th>\n",
       "      <td>0</td>\n",
       "      <td>ENSG00000210049</td>\n",
       "      <td>MT-TF</td>\n",
       "      <td>MTTF</td>\n",
       "      <td>7481</td>\n",
       "      <td>&lt;NA&gt;</td>\n",
       "    </tr>\n",
       "    <tr>\n",
       "      <th>1</th>\n",
       "      <td>1</td>\n",
       "      <td>ENSG00000210049</td>\n",
       "      <td>MT-TF</td>\n",
       "      <td>TRNF</td>\n",
       "      <td>7481</td>\n",
       "      <td>&lt;NA&gt;</td>\n",
       "    </tr>\n",
       "    <tr>\n",
       "      <th>2</th>\n",
       "      <td>2</td>\n",
       "      <td>ENSG00000211459</td>\n",
       "      <td>MT-RNR1</td>\n",
       "      <td>12S</td>\n",
       "      <td>7470</td>\n",
       "      <td>&lt;NA&gt;</td>\n",
       "    </tr>\n",
       "    <tr>\n",
       "      <th>3</th>\n",
       "      <td>3</td>\n",
       "      <td>ENSG00000211459</td>\n",
       "      <td>MT-RNR1</td>\n",
       "      <td>MOTS-C</td>\n",
       "      <td>7470</td>\n",
       "      <td>&lt;NA&gt;</td>\n",
       "    </tr>\n",
       "    <tr>\n",
       "      <th>4</th>\n",
       "      <td>4</td>\n",
       "      <td>ENSG00000211459</td>\n",
       "      <td>MT-RNR1</td>\n",
       "      <td>MTRNR1</td>\n",
       "      <td>7470</td>\n",
       "      <td>&lt;NA&gt;</td>\n",
       "    </tr>\n",
       "    <tr>\n",
       "      <th>...</th>\n",
       "      <td>...</td>\n",
       "      <td>...</td>\n",
       "      <td>...</td>\n",
       "      <td>...</td>\n",
       "      <td>...</td>\n",
       "      <td>...</td>\n",
       "    </tr>\n",
       "    <tr>\n",
       "      <th>117135</th>\n",
       "      <td>117135</td>\n",
       "      <td>ENSG00000200033</td>\n",
       "      <td>RNU6-403P</td>\n",
       "      <td>NaN</td>\n",
       "      <td>47366</td>\n",
       "      <td>&lt;NA&gt;</td>\n",
       "    </tr>\n",
       "    <tr>\n",
       "      <th>117136</th>\n",
       "      <td>117136</td>\n",
       "      <td>ENSG00000228437</td>\n",
       "      <td>LINC02474</td>\n",
       "      <td>LNCSLCC1</td>\n",
       "      <td>53417</td>\n",
       "      <td>&lt;NA&gt;</td>\n",
       "    </tr>\n",
       "    <tr>\n",
       "      <th>117137</th>\n",
       "      <td>117137</td>\n",
       "      <td>ENSG00000228437</td>\n",
       "      <td>LINC02474</td>\n",
       "      <td>RP11-400N13.2</td>\n",
       "      <td>53417</td>\n",
       "      <td>&lt;NA&gt;</td>\n",
       "    </tr>\n",
       "    <tr>\n",
       "      <th>117138</th>\n",
       "      <td>117138</td>\n",
       "      <td>ENSG00000229463</td>\n",
       "      <td>LYST-AS1</td>\n",
       "      <td>LYST-IT2</td>\n",
       "      <td>41320</td>\n",
       "      <td>&lt;NA&gt;</td>\n",
       "    </tr>\n",
       "    <tr>\n",
       "      <th>117139</th>\n",
       "      <td>117139</td>\n",
       "      <td>ENSG00000229291</td>\n",
       "      <td>LINC02768</td>\n",
       "      <td>NaN</td>\n",
       "      <td>54288</td>\n",
       "      <td>&lt;NA&gt;</td>\n",
       "    </tr>\n",
       "  </tbody>\n",
       "</table>\n",
       "<p>117140 rows × 6 columns</p>\n",
       "</div>"
      ],
      "text/plain": [
       "        Unnamed: 0          ENSG_ID gene_symbol   alias_symbol  HGNC_ID  \\\n",
       "0                0  ENSG00000210049       MT-TF           MTTF     7481   \n",
       "1                1  ENSG00000210049       MT-TF           TRNF     7481   \n",
       "2                2  ENSG00000211459     MT-RNR1            12S     7470   \n",
       "3                3  ENSG00000211459     MT-RNR1         MOTS-C     7470   \n",
       "4                4  ENSG00000211459     MT-RNR1         MTRNR1     7470   \n",
       "...            ...              ...         ...            ...      ...   \n",
       "117135      117135  ENSG00000200033   RNU6-403P            NaN    47366   \n",
       "117136      117136  ENSG00000228437   LINC02474       LNCSLCC1    53417   \n",
       "117137      117137  ENSG00000228437   LINC02474  RP11-400N13.2    53417   \n",
       "117138      117138  ENSG00000229463    LYST-AS1       LYST-IT2    41320   \n",
       "117139      117139  ENSG00000229291   LINC02768            NaN    54288   \n",
       "\n",
       "        NCBI_ID  \n",
       "0          <NA>  \n",
       "1          <NA>  \n",
       "2          <NA>  \n",
       "3          <NA>  \n",
       "4          <NA>  \n",
       "...         ...  \n",
       "117135     <NA>  \n",
       "117136     <NA>  \n",
       "117137     <NA>  \n",
       "117138     <NA>  \n",
       "117139     <NA>  \n",
       "\n",
       "[117140 rows x 6 columns]"
      ]
     },
     "execution_count": 4,
     "metadata": {},
     "output_type": "execute_result"
    }
   ],
   "source": [
    "mini_ensg_df = pd.read_csv(\n",
    "    \"../created_files/mini_ensg_df.csv\",\n",
    "    dtype={\"HGNC_ID\": pd.Int64Dtype(), \"NCBI_ID\": pd.Int64Dtype()},\n",
    ")\n",
    "mini_ensg_df"
   ]
  },
  {
   "cell_type": "code",
   "execution_count": 5,
   "metadata": {},
   "outputs": [
    {
     "data": {
      "text/html": [
       "<div>\n",
       "<style scoped>\n",
       "    .dataframe tbody tr th:only-of-type {\n",
       "        vertical-align: middle;\n",
       "    }\n",
       "\n",
       "    .dataframe tbody tr th {\n",
       "        vertical-align: top;\n",
       "    }\n",
       "\n",
       "    .dataframe thead th {\n",
       "        text-align: right;\n",
       "    }\n",
       "</style>\n",
       "<table border=\"1\" class=\"dataframe\">\n",
       "  <thead>\n",
       "    <tr style=\"text-align: right;\">\n",
       "      <th></th>\n",
       "      <th>ENSG_ID</th>\n",
       "      <th>gene_symbol</th>\n",
       "      <th>alias_symbol</th>\n",
       "      <th>HGNC_ID</th>\n",
       "      <th>NCBI_ID</th>\n",
       "    </tr>\n",
       "  </thead>\n",
       "  <tbody>\n",
       "    <tr>\n",
       "      <th>0</th>\n",
       "      <td>ENSG00000210049</td>\n",
       "      <td>MT-TF</td>\n",
       "      <td>MTTF</td>\n",
       "      <td>7481.0</td>\n",
       "      <td>NaN</td>\n",
       "    </tr>\n",
       "    <tr>\n",
       "      <th>1</th>\n",
       "      <td>ENSG00000210049</td>\n",
       "      <td>MT-TF</td>\n",
       "      <td>TRNF</td>\n",
       "      <td>7481.0</td>\n",
       "      <td>NaN</td>\n",
       "    </tr>\n",
       "    <tr>\n",
       "      <th>2</th>\n",
       "      <td>ENSG00000211459</td>\n",
       "      <td>MT-RNR1</td>\n",
       "      <td>12S</td>\n",
       "      <td>7470.0</td>\n",
       "      <td>NaN</td>\n",
       "    </tr>\n",
       "    <tr>\n",
       "      <th>3</th>\n",
       "      <td>ENSG00000211459</td>\n",
       "      <td>MT-RNR1</td>\n",
       "      <td>MOTS-C</td>\n",
       "      <td>7470.0</td>\n",
       "      <td>NaN</td>\n",
       "    </tr>\n",
       "    <tr>\n",
       "      <th>4</th>\n",
       "      <td>ENSG00000211459</td>\n",
       "      <td>MT-RNR1</td>\n",
       "      <td>MTRNR1</td>\n",
       "      <td>7470.0</td>\n",
       "      <td>NaN</td>\n",
       "    </tr>\n",
       "    <tr>\n",
       "      <th>...</th>\n",
       "      <td>...</td>\n",
       "      <td>...</td>\n",
       "      <td>...</td>\n",
       "      <td>...</td>\n",
       "      <td>...</td>\n",
       "    </tr>\n",
       "    <tr>\n",
       "      <th>117133</th>\n",
       "      <td>ENSG00000232679</td>\n",
       "      <td>LINC01705</td>\n",
       "      <td>ERLR</td>\n",
       "      <td>52493.0</td>\n",
       "      <td>105372950.0</td>\n",
       "    </tr>\n",
       "    <tr>\n",
       "      <th>117134</th>\n",
       "      <td>ENSG00000232679</td>\n",
       "      <td>LINC01705</td>\n",
       "      <td>RP11-400N13.3</td>\n",
       "      <td>52493.0</td>\n",
       "      <td>105372950.0</td>\n",
       "    </tr>\n",
       "    <tr>\n",
       "      <th>117136</th>\n",
       "      <td>ENSG00000228437</td>\n",
       "      <td>LINC02474</td>\n",
       "      <td>LNCSLCC1</td>\n",
       "      <td>53417.0</td>\n",
       "      <td>NaN</td>\n",
       "    </tr>\n",
       "    <tr>\n",
       "      <th>117137</th>\n",
       "      <td>ENSG00000228437</td>\n",
       "      <td>LINC02474</td>\n",
       "      <td>RP11-400N13.2</td>\n",
       "      <td>53417.0</td>\n",
       "      <td>NaN</td>\n",
       "    </tr>\n",
       "    <tr>\n",
       "      <th>117138</th>\n",
       "      <td>ENSG00000229463</td>\n",
       "      <td>LYST-AS1</td>\n",
       "      <td>LYST-IT2</td>\n",
       "      <td>41320.0</td>\n",
       "      <td>NaN</td>\n",
       "    </tr>\n",
       "  </tbody>\n",
       "</table>\n",
       "<p>57275 rows × 5 columns</p>\n",
       "</div>"
      ],
      "text/plain": [
       "                ENSG_ID gene_symbol   alias_symbol  HGNC_ID      NCBI_ID\n",
       "0       ENSG00000210049       MT-TF           MTTF   7481.0          NaN\n",
       "1       ENSG00000210049       MT-TF           TRNF   7481.0          NaN\n",
       "2       ENSG00000211459     MT-RNR1            12S   7470.0          NaN\n",
       "3       ENSG00000211459     MT-RNR1         MOTS-C   7470.0          NaN\n",
       "4       ENSG00000211459     MT-RNR1         MTRNR1   7470.0          NaN\n",
       "...                 ...         ...            ...      ...          ...\n",
       "117133  ENSG00000232679   LINC01705           ERLR  52493.0  105372950.0\n",
       "117134  ENSG00000232679   LINC01705  RP11-400N13.3  52493.0  105372950.0\n",
       "117136  ENSG00000228437   LINC02474       LNCSLCC1  53417.0          NaN\n",
       "117137  ENSG00000228437   LINC02474  RP11-400N13.2  53417.0          NaN\n",
       "117138  ENSG00000229463    LYST-AS1       LYST-IT2  41320.0          NaN\n",
       "\n",
       "[57275 rows x 5 columns]"
      ]
     },
     "execution_count": 5,
     "metadata": {},
     "output_type": "execute_result"
    }
   ],
   "source": [
    "subset_genes_ensg_df = pd.read_csv(\n",
    "    \"../created_files/subset_genes_ensg_df.csv\", index_col=[0])\n",
    "subset_genes_ensg_df"
   ]
  },
  {
   "cell_type": "code",
   "execution_count": 6,
   "metadata": {},
   "outputs": [
    {
     "data": {
      "text/html": [
       "<div>\n",
       "<style scoped>\n",
       "    .dataframe tbody tr th:only-of-type {\n",
       "        vertical-align: middle;\n",
       "    }\n",
       "\n",
       "    .dataframe tbody tr th {\n",
       "        vertical-align: top;\n",
       "    }\n",
       "\n",
       "    .dataframe thead th {\n",
       "        text-align: right;\n",
       "    }\n",
       "</style>\n",
       "<table border=\"1\" class=\"dataframe\">\n",
       "  <thead>\n",
       "    <tr style=\"text-align: right;\">\n",
       "      <th></th>\n",
       "      <th>ENSG_ID</th>\n",
       "      <th>gene_symbol</th>\n",
       "      <th>HGNC_ID</th>\n",
       "      <th>alias_symbol</th>\n",
       "    </tr>\n",
       "  </thead>\n",
       "  <tbody>\n",
       "    <tr>\n",
       "      <th>0</th>\n",
       "      <td>ENSG00000000003</td>\n",
       "      <td>TSPAN6</td>\n",
       "      <td>11858.0</td>\n",
       "      <td>T245,TM4SF6,TSPAN-6</td>\n",
       "    </tr>\n",
       "    <tr>\n",
       "      <th>1</th>\n",
       "      <td>ENSG00000000005</td>\n",
       "      <td>TNMD</td>\n",
       "      <td>17757.0</td>\n",
       "      <td>BRICD4,CHM1L,MYODULIN,TEM,TENDIN</td>\n",
       "    </tr>\n",
       "    <tr>\n",
       "      <th>2</th>\n",
       "      <td>ENSG00000000419</td>\n",
       "      <td>DPM1</td>\n",
       "      <td>3005.0</td>\n",
       "      <td>CDGIE,MPDS</td>\n",
       "    </tr>\n",
       "    <tr>\n",
       "      <th>3</th>\n",
       "      <td>ENSG00000000457</td>\n",
       "      <td>SCYL3</td>\n",
       "      <td>19285.0</td>\n",
       "      <td>PACE-1,PACE1</td>\n",
       "    </tr>\n",
       "    <tr>\n",
       "      <th>4</th>\n",
       "      <td>ENSG00000000460</td>\n",
       "      <td>FIRRM</td>\n",
       "      <td>25565.0</td>\n",
       "      <td>APOLO1,C1ORF112,FLIP,FLJ10706,MEICA1</td>\n",
       "    </tr>\n",
       "    <tr>\n",
       "      <th>...</th>\n",
       "      <td>...</td>\n",
       "      <td>...</td>\n",
       "      <td>...</td>\n",
       "      <td>...</td>\n",
       "    </tr>\n",
       "    <tr>\n",
       "      <th>70609</th>\n",
       "      <td>ENSG00000293596</td>\n",
       "      <td>NaN</td>\n",
       "      <td>NaN</td>\n",
       "      <td>NaN</td>\n",
       "    </tr>\n",
       "    <tr>\n",
       "      <th>70610</th>\n",
       "      <td>ENSG00000293597</td>\n",
       "      <td>LINC00970</td>\n",
       "      <td>48730.0</td>\n",
       "      <td>NaN</td>\n",
       "    </tr>\n",
       "    <tr>\n",
       "      <th>70611</th>\n",
       "      <td>ENSG00000293599</td>\n",
       "      <td>NaN</td>\n",
       "      <td>NaN</td>\n",
       "      <td>NaN</td>\n",
       "    </tr>\n",
       "    <tr>\n",
       "      <th>70612</th>\n",
       "      <td>ENSG00000293600</td>\n",
       "      <td>NaN</td>\n",
       "      <td>NaN</td>\n",
       "      <td>NaN</td>\n",
       "    </tr>\n",
       "    <tr>\n",
       "      <th>70613</th>\n",
       "      <td>ENSG00000293604</td>\n",
       "      <td>ORAI1</td>\n",
       "      <td>25896.0</td>\n",
       "      <td>CRACM1,FLJ14466,TMEM142A</td>\n",
       "    </tr>\n",
       "  </tbody>\n",
       "</table>\n",
       "<p>70614 rows × 4 columns</p>\n",
       "</div>"
      ],
      "text/plain": [
       "               ENSG_ID gene_symbol  HGNC_ID  \\\n",
       "0      ENSG00000000003      TSPAN6  11858.0   \n",
       "1      ENSG00000000005        TNMD  17757.0   \n",
       "2      ENSG00000000419        DPM1   3005.0   \n",
       "3      ENSG00000000457       SCYL3  19285.0   \n",
       "4      ENSG00000000460       FIRRM  25565.0   \n",
       "...                ...         ...      ...   \n",
       "70609  ENSG00000293596         NaN      NaN   \n",
       "70610  ENSG00000293597   LINC00970  48730.0   \n",
       "70611  ENSG00000293599         NaN      NaN   \n",
       "70612  ENSG00000293600         NaN      NaN   \n",
       "70613  ENSG00000293604       ORAI1  25896.0   \n",
       "\n",
       "                               alias_symbol  \n",
       "0                       T245,TM4SF6,TSPAN-6  \n",
       "1          BRICD4,CHM1L,MYODULIN,TEM,TENDIN  \n",
       "2                                CDGIE,MPDS  \n",
       "3                              PACE-1,PACE1  \n",
       "4      APOLO1,C1ORF112,FLIP,FLJ10706,MEICA1  \n",
       "...                                     ...  \n",
       "70609                                   NaN  \n",
       "70610                                   NaN  \n",
       "70611                                   NaN  \n",
       "70612                                   NaN  \n",
       "70613              CRACM1,FLJ14466,TMEM142A  \n",
       "\n",
       "[70614 rows x 4 columns]"
      ]
     },
     "execution_count": 6,
     "metadata": {},
     "output_type": "execute_result"
    }
   ],
   "source": [
    "merged_alias_ensg_df = pd.read_csv(\n",
    "    \"../created_files/merged_alias_ensg_df.csv\", index_col=[0])\n",
    "merged_alias_ensg_df"
   ]
  },
  {
   "cell_type": "markdown",
   "metadata": {},
   "source": [
    "### <a id='toc1_1_1_'></a>[How many total unique gene records are there in Ensembl](#toc0_)"
   ]
  },
  {
   "cell_type": "markdown",
   "metadata": {},
   "source": [
    "By ENSG ID"
   ]
  },
  {
   "cell_type": "code",
   "execution_count": 7,
   "metadata": {},
   "outputs": [
    {
     "data": {
      "text/plain": [
       "70611"
      ]
     },
     "execution_count": 7,
     "metadata": {},
     "output_type": "execute_result"
    }
   ],
   "source": [
    "ensg_gene_id_set = set(mini_ensg_df[\"ENSG_ID\"])\n",
    "len(ensg_gene_id_set)"
   ]
  },
  {
   "cell_type": "markdown",
   "metadata": {},
   "source": [
    "### <a id='toc1_1_2_'></a>[Identify alias-alias collision symbols](#toc0_)"
   ]
  },
  {
   "cell_type": "code",
   "execution_count": 8,
   "metadata": {},
   "outputs": [
    {
     "data": {
      "text/plain": [
       "(           ENSG_ID gene_symbol alias_symbol  HGNC_ID  NCBI_ID\n",
       " 0  ENSG00000210049       MT-TF         MTTF   7481.0      NaN\n",
       " 1  ENSG00000210049       MT-TF         TRNF   7481.0      NaN\n",
       " 2  ENSG00000211459     MT-RNR1          12S   7470.0      NaN\n",
       " 3  ENSG00000211459     MT-RNR1       MOTS-C   7470.0      NaN\n",
       " 4  ENSG00000211459     MT-RNR1       MTRNR1   7470.0      NaN,\n",
       "   gene_symbol                                       alias_symbol  \\\n",
       " 0       KLRG1                            2F1,CLEC15A,MAFA,MAFA-L   \n",
       " 1     SLC25A5                                     2F1,ANT2,T2,T3   \n",
       " 2      S100A8        60B8AG,CAGA,CFAG,CGLA,MRP-8,MRP8,P8,S100-A8   \n",
       " 3      S100A9  60B8AG,CAGB,CFAG,CGLB,LIAG,MAC387,MIF,MRP-14,M...   \n",
       " 4       GNAI3                                               87U6   \n",
       " \n",
       "            ENSG_ID  HGNC_ID  NCBI_ID collision source  \n",
       " 0  ENSG00000139187   6380.0  10219.0       2F1   ENSG  \n",
       " 1  ENSG00000005022  10991.0    292.0       2F1   ENSG  \n",
       " 2  ENSG00000143546  10498.0   6279.0    60B8AG   ENSG  \n",
       " 3  ENSG00000163220  10499.0   6280.0    60B8AG   ENSG  \n",
       " 4  ENSG00000065135   4387.0   2773.0      87U6   ENSG  ,\n",
       "   collision                                            ENSG_ID  \\\n",
       " 0       2F1                   ENSG00000139187, ENSG00000005022   \n",
       " 1    60B8AG                   ENSG00000143546, ENSG00000163220   \n",
       " 2      87U6                   ENSG00000065135, ENSG00000206832   \n",
       " 3       9G8                   ENSG00000115875, ENSG00000164609   \n",
       " 4        A1  ENSG00000163918, ENSG00000033627, ENSG00000049...   \n",
       " \n",
       "                   gene_symbol source  \n",
       " 0              KLRG1, SLC25A5   ENSG  \n",
       " 1              S100A8, S100A9   ENSG  \n",
       " 2                GNAI3, RNU6V   ENSG  \n",
       " 3                 SRSF7, SLU7   ENSG  \n",
       " 4  RFC4, ATP6V0A1, RFC2, RFC1   ENSG  )"
      ]
     },
     "execution_count": 8,
     "metadata": {},
     "output_type": "execute_result"
    }
   ],
   "source": [
    "create_aa_collision_df(subset_genes_ensg_df, merged_alias_ensg_df, source=\"ENSG\")"
   ]
  },
  {
   "cell_type": "code",
   "execution_count": 9,
   "metadata": {},
   "outputs": [
    {
     "data": {
      "text/html": [
       "<div>\n",
       "<style scoped>\n",
       "    .dataframe tbody tr th:only-of-type {\n",
       "        vertical-align: middle;\n",
       "    }\n",
       "\n",
       "    .dataframe tbody tr th {\n",
       "        vertical-align: top;\n",
       "    }\n",
       "\n",
       "    .dataframe thead th {\n",
       "        text-align: right;\n",
       "    }\n",
       "</style>\n",
       "<table border=\"1\" class=\"dataframe\">\n",
       "  <thead>\n",
       "    <tr style=\"text-align: right;\">\n",
       "      <th></th>\n",
       "      <th>ENSG_ID</th>\n",
       "      <th>gene_symbol</th>\n",
       "      <th>alias_symbol</th>\n",
       "      <th>HGNC_ID</th>\n",
       "      <th>NCBI_ID</th>\n",
       "    </tr>\n",
       "  </thead>\n",
       "  <tbody>\n",
       "    <tr>\n",
       "      <th>0</th>\n",
       "      <td>ENSG00000210049</td>\n",
       "      <td>MT-TF</td>\n",
       "      <td>MTTF</td>\n",
       "      <td>7481.0</td>\n",
       "      <td>NaN</td>\n",
       "    </tr>\n",
       "    <tr>\n",
       "      <th>1</th>\n",
       "      <td>ENSG00000210049</td>\n",
       "      <td>MT-TF</td>\n",
       "      <td>TRNF</td>\n",
       "      <td>7481.0</td>\n",
       "      <td>NaN</td>\n",
       "    </tr>\n",
       "    <tr>\n",
       "      <th>2</th>\n",
       "      <td>ENSG00000211459</td>\n",
       "      <td>MT-RNR1</td>\n",
       "      <td>12S</td>\n",
       "      <td>7470.0</td>\n",
       "      <td>NaN</td>\n",
       "    </tr>\n",
       "    <tr>\n",
       "      <th>3</th>\n",
       "      <td>ENSG00000211459</td>\n",
       "      <td>MT-RNR1</td>\n",
       "      <td>MOTS-C</td>\n",
       "      <td>7470.0</td>\n",
       "      <td>NaN</td>\n",
       "    </tr>\n",
       "    <tr>\n",
       "      <th>4</th>\n",
       "      <td>ENSG00000211459</td>\n",
       "      <td>MT-RNR1</td>\n",
       "      <td>MTRNR1</td>\n",
       "      <td>7470.0</td>\n",
       "      <td>NaN</td>\n",
       "    </tr>\n",
       "    <tr>\n",
       "      <th>...</th>\n",
       "      <td>...</td>\n",
       "      <td>...</td>\n",
       "      <td>...</td>\n",
       "      <td>...</td>\n",
       "      <td>...</td>\n",
       "    </tr>\n",
       "    <tr>\n",
       "      <th>117133</th>\n",
       "      <td>ENSG00000232679</td>\n",
       "      <td>LINC01705</td>\n",
       "      <td>ERLR</td>\n",
       "      <td>52493.0</td>\n",
       "      <td>105372950.0</td>\n",
       "    </tr>\n",
       "    <tr>\n",
       "      <th>117134</th>\n",
       "      <td>ENSG00000232679</td>\n",
       "      <td>LINC01705</td>\n",
       "      <td>RP11-400N13.3</td>\n",
       "      <td>52493.0</td>\n",
       "      <td>105372950.0</td>\n",
       "    </tr>\n",
       "    <tr>\n",
       "      <th>117136</th>\n",
       "      <td>ENSG00000228437</td>\n",
       "      <td>LINC02474</td>\n",
       "      <td>LNCSLCC1</td>\n",
       "      <td>53417.0</td>\n",
       "      <td>NaN</td>\n",
       "    </tr>\n",
       "    <tr>\n",
       "      <th>117137</th>\n",
       "      <td>ENSG00000228437</td>\n",
       "      <td>LINC02474</td>\n",
       "      <td>RP11-400N13.2</td>\n",
       "      <td>53417.0</td>\n",
       "      <td>NaN</td>\n",
       "    </tr>\n",
       "    <tr>\n",
       "      <th>117138</th>\n",
       "      <td>ENSG00000229463</td>\n",
       "      <td>LYST-AS1</td>\n",
       "      <td>LYST-IT2</td>\n",
       "      <td>41320.0</td>\n",
       "      <td>NaN</td>\n",
       "    </tr>\n",
       "  </tbody>\n",
       "</table>\n",
       "<p>57275 rows × 5 columns</p>\n",
       "</div>"
      ],
      "text/plain": [
       "                ENSG_ID gene_symbol   alias_symbol  HGNC_ID      NCBI_ID\n",
       "0       ENSG00000210049       MT-TF           MTTF   7481.0          NaN\n",
       "1       ENSG00000210049       MT-TF           TRNF   7481.0          NaN\n",
       "2       ENSG00000211459     MT-RNR1            12S   7470.0          NaN\n",
       "3       ENSG00000211459     MT-RNR1         MOTS-C   7470.0          NaN\n",
       "4       ENSG00000211459     MT-RNR1         MTRNR1   7470.0          NaN\n",
       "...                 ...         ...            ...      ...          ...\n",
       "117133  ENSG00000232679   LINC01705           ERLR  52493.0  105372950.0\n",
       "117134  ENSG00000232679   LINC01705  RP11-400N13.3  52493.0  105372950.0\n",
       "117136  ENSG00000228437   LINC02474       LNCSLCC1  53417.0          NaN\n",
       "117137  ENSG00000228437   LINC02474  RP11-400N13.2  53417.0          NaN\n",
       "117138  ENSG00000229463    LYST-AS1       LYST-IT2  41320.0          NaN\n",
       "\n",
       "[57275 rows x 5 columns]"
      ]
     },
     "execution_count": 9,
     "metadata": {},
     "output_type": "execute_result"
    }
   ],
   "source": [
    "subset_genes_ensg_df = pd.read_csv(\n",
    "    \"../created_files/subset_genes_ensg_df.csv\", index_col=[0])\n",
    "subset_genes_ensg_df"
   ]
  },
  {
   "cell_type": "code",
   "execution_count": 10,
   "metadata": {},
   "outputs": [
    {
     "data": {
      "text/html": [
       "<div>\n",
       "<style scoped>\n",
       "    .dataframe tbody tr th:only-of-type {\n",
       "        vertical-align: middle;\n",
       "    }\n",
       "\n",
       "    .dataframe tbody tr th {\n",
       "        vertical-align: top;\n",
       "    }\n",
       "\n",
       "    .dataframe thead th {\n",
       "        text-align: right;\n",
       "    }\n",
       "</style>\n",
       "<table border=\"1\" class=\"dataframe\">\n",
       "  <thead>\n",
       "    <tr style=\"text-align: right;\">\n",
       "      <th></th>\n",
       "      <th>ENSG_ID</th>\n",
       "      <th>gene_symbol</th>\n",
       "      <th>alias_symbol</th>\n",
       "      <th>HGNC_ID</th>\n",
       "      <th>NCBI_ID</th>\n",
       "    </tr>\n",
       "  </thead>\n",
       "  <tbody>\n",
       "    <tr>\n",
       "      <th>112937</th>\n",
       "      <td>ENSG00000226306</td>\n",
       "      <td>NPY6R</td>\n",
       "      <td>NPY1RL</td>\n",
       "      <td>7959.0</td>\n",
       "      <td>NaN</td>\n",
       "    </tr>\n",
       "    <tr>\n",
       "      <th>112938</th>\n",
       "      <td>ENSG00000226306</td>\n",
       "      <td>NPY6R</td>\n",
       "      <td>NPY6RP</td>\n",
       "      <td>7959.0</td>\n",
       "      <td>NaN</td>\n",
       "    </tr>\n",
       "    <tr>\n",
       "      <th>112939</th>\n",
       "      <td>ENSG00000226306</td>\n",
       "      <td>NPY6R</td>\n",
       "      <td>PP2</td>\n",
       "      <td>7959.0</td>\n",
       "      <td>NaN</td>\n",
       "    </tr>\n",
       "    <tr>\n",
       "      <th>112944</th>\n",
       "      <td>ENSG00000293504</td>\n",
       "      <td>NPY6R</td>\n",
       "      <td>Y2B</td>\n",
       "      <td>NaN</td>\n",
       "      <td>4888.0</td>\n",
       "    </tr>\n",
       "  </tbody>\n",
       "</table>\n",
       "</div>"
      ],
      "text/plain": [
       "                ENSG_ID gene_symbol alias_symbol  HGNC_ID  NCBI_ID\n",
       "112937  ENSG00000226306       NPY6R       NPY1RL   7959.0      NaN\n",
       "112938  ENSG00000226306       NPY6R       NPY6RP   7959.0      NaN\n",
       "112939  ENSG00000226306       NPY6R          PP2   7959.0      NaN\n",
       "112944  ENSG00000293504       NPY6R          Y2B      NaN   4888.0"
      ]
     },
     "execution_count": 10,
     "metadata": {},
     "output_type": "execute_result"
    }
   ],
   "source": [
    "subset_genes_ensg_df.loc[subset_genes_ensg_df[\"gene_symbol\"] == \"NPY6R\"]"
   ]
  },
  {
   "cell_type": "code",
   "execution_count": 11,
   "metadata": {},
   "outputs": [
    {
     "data": {
      "text/html": [
       "<div>\n",
       "<style scoped>\n",
       "    .dataframe tbody tr th:only-of-type {\n",
       "        vertical-align: middle;\n",
       "    }\n",
       "\n",
       "    .dataframe tbody tr th {\n",
       "        vertical-align: top;\n",
       "    }\n",
       "\n",
       "    .dataframe thead th {\n",
       "        text-align: right;\n",
       "    }\n",
       "</style>\n",
       "<table border=\"1\" class=\"dataframe\">\n",
       "  <thead>\n",
       "    <tr style=\"text-align: right;\">\n",
       "      <th></th>\n",
       "      <th>gene_symbol</th>\n",
       "      <th>alias_symbol</th>\n",
       "      <th>ENSG_ID</th>\n",
       "      <th>HGNC_ID</th>\n",
       "      <th>NCBI_ID</th>\n",
       "      <th>collision</th>\n",
       "      <th>source</th>\n",
       "    </tr>\n",
       "  </thead>\n",
       "  <tbody>\n",
       "    <tr>\n",
       "      <th>0</th>\n",
       "      <td>KLRG1</td>\n",
       "      <td>2F1,CLEC15A,MAFA,MAFA-L</td>\n",
       "      <td>ENSG00000139187</td>\n",
       "      <td>6380.0</td>\n",
       "      <td>10219.0</td>\n",
       "      <td>2F1</td>\n",
       "      <td>ENSG</td>\n",
       "    </tr>\n",
       "    <tr>\n",
       "      <th>1</th>\n",
       "      <td>SLC25A5</td>\n",
       "      <td>2F1,ANT2,T2,T3</td>\n",
       "      <td>ENSG00000005022</td>\n",
       "      <td>10991.0</td>\n",
       "      <td>292.0</td>\n",
       "      <td>2F1</td>\n",
       "      <td>ENSG</td>\n",
       "    </tr>\n",
       "    <tr>\n",
       "      <th>2</th>\n",
       "      <td>S100A8</td>\n",
       "      <td>60B8AG,CAGA,CFAG,CGLA,MRP-8,MRP8,P8,S100-A8</td>\n",
       "      <td>ENSG00000143546</td>\n",
       "      <td>10498.0</td>\n",
       "      <td>6279.0</td>\n",
       "      <td>60B8AG</td>\n",
       "      <td>ENSG</td>\n",
       "    </tr>\n",
       "    <tr>\n",
       "      <th>3</th>\n",
       "      <td>S100A9</td>\n",
       "      <td>60B8AG,CAGB,CFAG,CGLB,LIAG,MAC387,MIF,MRP-14,M...</td>\n",
       "      <td>ENSG00000163220</td>\n",
       "      <td>10499.0</td>\n",
       "      <td>6280.0</td>\n",
       "      <td>60B8AG</td>\n",
       "      <td>ENSG</td>\n",
       "    </tr>\n",
       "    <tr>\n",
       "      <th>4</th>\n",
       "      <td>GNAI3</td>\n",
       "      <td>87U6</td>\n",
       "      <td>ENSG00000065135</td>\n",
       "      <td>4387.0</td>\n",
       "      <td>2773.0</td>\n",
       "      <td>87U6</td>\n",
       "      <td>ENSG</td>\n",
       "    </tr>\n",
       "    <tr>\n",
       "      <th>...</th>\n",
       "      <td>...</td>\n",
       "      <td>...</td>\n",
       "      <td>...</td>\n",
       "      <td>...</td>\n",
       "      <td>...</td>\n",
       "      <td>...</td>\n",
       "      <td>...</td>\n",
       "    </tr>\n",
       "    <tr>\n",
       "      <th>3674</th>\n",
       "      <td>SLC30A10</td>\n",
       "      <td>DKFZP547M236,ZNT-10,ZNT10,ZNT8,ZRC1</td>\n",
       "      <td>ENSG00000196660</td>\n",
       "      <td>25355.0</td>\n",
       "      <td>55532.0</td>\n",
       "      <td>ZNT8</td>\n",
       "      <td>ENSG</td>\n",
       "    </tr>\n",
       "    <tr>\n",
       "      <th>3675</th>\n",
       "      <td>SLC30A10</td>\n",
       "      <td>DKFZP547M236,ZNT-10,ZNT10,ZNT8,ZRC1</td>\n",
       "      <td>ENSG00000196660</td>\n",
       "      <td>25355.0</td>\n",
       "      <td>55532.0</td>\n",
       "      <td>ZRC1</td>\n",
       "      <td>ENSG</td>\n",
       "    </tr>\n",
       "    <tr>\n",
       "      <th>3676</th>\n",
       "      <td>SLC30A1</td>\n",
       "      <td>ZNT1,ZRC1</td>\n",
       "      <td>ENSG00000170385</td>\n",
       "      <td>11012.0</td>\n",
       "      <td>7779.0</td>\n",
       "      <td>ZRC1</td>\n",
       "      <td>ENSG</td>\n",
       "    </tr>\n",
       "    <tr>\n",
       "      <th>3677</th>\n",
       "      <td>ZYG11B</td>\n",
       "      <td>FLJ13456,ZYG11</td>\n",
       "      <td>ENSG00000162378</td>\n",
       "      <td>25820.0</td>\n",
       "      <td>79699.0</td>\n",
       "      <td>ZYG11</td>\n",
       "      <td>ENSG</td>\n",
       "    </tr>\n",
       "    <tr>\n",
       "      <th>3678</th>\n",
       "      <td>ZYG11A</td>\n",
       "      <td>ZYG11</td>\n",
       "      <td>ENSG00000203995</td>\n",
       "      <td>32058.0</td>\n",
       "      <td>440590.0</td>\n",
       "      <td>ZYG11</td>\n",
       "      <td>ENSG</td>\n",
       "    </tr>\n",
       "  </tbody>\n",
       "</table>\n",
       "<p>3679 rows × 7 columns</p>\n",
       "</div>"
      ],
      "text/plain": [
       "     gene_symbol                                       alias_symbol  \\\n",
       "0          KLRG1                            2F1,CLEC15A,MAFA,MAFA-L   \n",
       "1        SLC25A5                                     2F1,ANT2,T2,T3   \n",
       "2         S100A8        60B8AG,CAGA,CFAG,CGLA,MRP-8,MRP8,P8,S100-A8   \n",
       "3         S100A9  60B8AG,CAGB,CFAG,CGLB,LIAG,MAC387,MIF,MRP-14,M...   \n",
       "4          GNAI3                                               87U6   \n",
       "...          ...                                                ...   \n",
       "3674    SLC30A10                DKFZP547M236,ZNT-10,ZNT10,ZNT8,ZRC1   \n",
       "3675    SLC30A10                DKFZP547M236,ZNT-10,ZNT10,ZNT8,ZRC1   \n",
       "3676     SLC30A1                                          ZNT1,ZRC1   \n",
       "3677      ZYG11B                                     FLJ13456,ZYG11   \n",
       "3678      ZYG11A                                              ZYG11   \n",
       "\n",
       "              ENSG_ID  HGNC_ID   NCBI_ID collision source  \n",
       "0     ENSG00000139187   6380.0   10219.0       2F1   ENSG  \n",
       "1     ENSG00000005022  10991.0     292.0       2F1   ENSG  \n",
       "2     ENSG00000143546  10498.0    6279.0    60B8AG   ENSG  \n",
       "3     ENSG00000163220  10499.0    6280.0    60B8AG   ENSG  \n",
       "4     ENSG00000065135   4387.0    2773.0      87U6   ENSG  \n",
       "...               ...      ...       ...       ...    ...  \n",
       "3674  ENSG00000196660  25355.0   55532.0      ZNT8   ENSG  \n",
       "3675  ENSG00000196660  25355.0   55532.0      ZRC1   ENSG  \n",
       "3676  ENSG00000170385  11012.0    7779.0      ZRC1   ENSG  \n",
       "3677  ENSG00000162378  25820.0   79699.0     ZYG11   ENSG  \n",
       "3678  ENSG00000203995  32058.0  440590.0     ZYG11   ENSG  \n",
       "\n",
       "[3679 rows x 7 columns]"
      ]
     },
     "execution_count": 11,
     "metadata": {},
     "output_type": "execute_result"
    }
   ],
   "source": [
    "aa_collision_gene_ensg_df = pd.read_csv(\n",
    "    \"../created_files/aa_collision_gene_ensg_df.csv\", index_col=[0])\n",
    "aa_collision_gene_ensg_df"
   ]
  },
  {
   "cell_type": "code",
   "execution_count": 12,
   "metadata": {},
   "outputs": [
    {
     "data": {
      "text/html": [
       "<div>\n",
       "<style scoped>\n",
       "    .dataframe tbody tr th:only-of-type {\n",
       "        vertical-align: middle;\n",
       "    }\n",
       "\n",
       "    .dataframe tbody tr th {\n",
       "        vertical-align: top;\n",
       "    }\n",
       "\n",
       "    .dataframe thead th {\n",
       "        text-align: right;\n",
       "    }\n",
       "</style>\n",
       "<table border=\"1\" class=\"dataframe\">\n",
       "  <thead>\n",
       "    <tr style=\"text-align: right;\">\n",
       "      <th></th>\n",
       "      <th>collision</th>\n",
       "      <th>ENSG_ID</th>\n",
       "      <th>gene_symbol</th>\n",
       "      <th>source</th>\n",
       "    </tr>\n",
       "  </thead>\n",
       "  <tbody>\n",
       "    <tr>\n",
       "      <th>0</th>\n",
       "      <td>2F1</td>\n",
       "      <td>ENSG00000139187, ENSG00000005022</td>\n",
       "      <td>KLRG1, SLC25A5</td>\n",
       "      <td>ENSG</td>\n",
       "    </tr>\n",
       "    <tr>\n",
       "      <th>1</th>\n",
       "      <td>60B8AG</td>\n",
       "      <td>ENSG00000143546, ENSG00000163220</td>\n",
       "      <td>S100A8, S100A9</td>\n",
       "      <td>ENSG</td>\n",
       "    </tr>\n",
       "    <tr>\n",
       "      <th>2</th>\n",
       "      <td>87U6</td>\n",
       "      <td>ENSG00000065135, ENSG00000206832</td>\n",
       "      <td>GNAI3, RNU6V</td>\n",
       "      <td>ENSG</td>\n",
       "    </tr>\n",
       "    <tr>\n",
       "      <th>3</th>\n",
       "      <td>9G8</td>\n",
       "      <td>ENSG00000115875, ENSG00000164609</td>\n",
       "      <td>SRSF7, SLU7</td>\n",
       "      <td>ENSG</td>\n",
       "    </tr>\n",
       "    <tr>\n",
       "      <th>4</th>\n",
       "      <td>A1</td>\n",
       "      <td>ENSG00000163918, ENSG00000033627, ENSG00000049...</td>\n",
       "      <td>RFC4, ATP6V0A1, RFC2, RFC1</td>\n",
       "      <td>ENSG</td>\n",
       "    </tr>\n",
       "    <tr>\n",
       "      <th>...</th>\n",
       "      <td>...</td>\n",
       "      <td>...</td>\n",
       "      <td>...</td>\n",
       "      <td>...</td>\n",
       "    </tr>\n",
       "    <tr>\n",
       "      <th>1612</th>\n",
       "      <td>ZIP4</td>\n",
       "      <td>ENSG00000120498, ENSG00000285243</td>\n",
       "      <td>TEX11, SLC39A4</td>\n",
       "      <td>ENSG</td>\n",
       "    </tr>\n",
       "    <tr>\n",
       "      <th>1613</th>\n",
       "      <td>ZNF422</td>\n",
       "      <td>ENSG00000165512, ENSG00000172943</td>\n",
       "      <td>ZNF22, PHF8</td>\n",
       "      <td>ENSG</td>\n",
       "    </tr>\n",
       "    <tr>\n",
       "      <th>1614</th>\n",
       "      <td>ZNT8</td>\n",
       "      <td>ENSG00000164756, ENSG00000196660</td>\n",
       "      <td>SLC30A8, SLC30A10</td>\n",
       "      <td>ENSG</td>\n",
       "    </tr>\n",
       "    <tr>\n",
       "      <th>1615</th>\n",
       "      <td>ZRC1</td>\n",
       "      <td>ENSG00000196660, ENSG00000170385</td>\n",
       "      <td>SLC30A10, SLC30A1</td>\n",
       "      <td>ENSG</td>\n",
       "    </tr>\n",
       "    <tr>\n",
       "      <th>1616</th>\n",
       "      <td>ZYG11</td>\n",
       "      <td>ENSG00000162378, ENSG00000203995</td>\n",
       "      <td>ZYG11B, ZYG11A</td>\n",
       "      <td>ENSG</td>\n",
       "    </tr>\n",
       "  </tbody>\n",
       "</table>\n",
       "<p>1617 rows × 4 columns</p>\n",
       "</div>"
      ],
      "text/plain": [
       "     collision                                            ENSG_ID  \\\n",
       "0          2F1                   ENSG00000139187, ENSG00000005022   \n",
       "1       60B8AG                   ENSG00000143546, ENSG00000163220   \n",
       "2         87U6                   ENSG00000065135, ENSG00000206832   \n",
       "3          9G8                   ENSG00000115875, ENSG00000164609   \n",
       "4           A1  ENSG00000163918, ENSG00000033627, ENSG00000049...   \n",
       "...        ...                                                ...   \n",
       "1612      ZIP4                   ENSG00000120498, ENSG00000285243   \n",
       "1613    ZNF422                   ENSG00000165512, ENSG00000172943   \n",
       "1614      ZNT8                   ENSG00000164756, ENSG00000196660   \n",
       "1615      ZRC1                   ENSG00000196660, ENSG00000170385   \n",
       "1616     ZYG11                   ENSG00000162378, ENSG00000203995   \n",
       "\n",
       "                     gene_symbol source  \n",
       "0                 KLRG1, SLC25A5   ENSG  \n",
       "1                 S100A8, S100A9   ENSG  \n",
       "2                   GNAI3, RNU6V   ENSG  \n",
       "3                    SRSF7, SLU7   ENSG  \n",
       "4     RFC4, ATP6V0A1, RFC2, RFC1   ENSG  \n",
       "...                          ...    ...  \n",
       "1612              TEX11, SLC39A4   ENSG  \n",
       "1613                 ZNF22, PHF8   ENSG  \n",
       "1614           SLC30A8, SLC30A10   ENSG  \n",
       "1615           SLC30A10, SLC30A1   ENSG  \n",
       "1616              ZYG11B, ZYG11A   ENSG  \n",
       "\n",
       "[1617 rows x 4 columns]"
      ]
     },
     "execution_count": 12,
     "metadata": {},
     "output_type": "execute_result"
    }
   ],
   "source": [
    "aa_collision_alias_ensg_df = pd.read_csv(\n",
    "    \"../created_files/aa_collision_alias_ensg_df.csv\", index_col=[0])\n",
    "aa_collision_alias_ensg_df"
   ]
  },
  {
   "cell_type": "markdown",
   "metadata": {},
   "source": [
    "### <a id='toc1_1_3_'></a>[Create a histogram displaying how frequent the numebr of gene records sharing an alias is](#toc0_)"
   ]
  },
  {
   "cell_type": "code",
   "execution_count": 13,
   "metadata": {},
   "outputs": [],
   "source": [
    "ensg_alias_symbol_set = set(subset_genes_ensg_df[\"alias_symbol\"])\n",
    "ensg_alias_count = len(ensg_alias_symbol_set)"
   ]
  },
  {
   "cell_type": "code",
   "execution_count": 14,
   "metadata": {},
   "outputs": [
    {
     "data": {
      "application/vnd.plotly.v1+json": {
       "config": {
        "plotlyServerURL": "https://plot.ly"
       },
       "data": [
        {
         "alignmentgroup": "True",
         "hovertemplate": "num_gene_records=%{x}<br>percent_collision_symbol=%{y}<extra></extra>",
         "legendgroup": "",
         "marker": {
          "color": "#636efa",
          "pattern": {
           "shape": ""
          }
         },
         "name": "",
         "offsetgroup": "",
         "orientation": "v",
         "showlegend": false,
         "textposition": "auto",
         "type": "bar",
         "x": [
          2,
          3,
          4,
          5,
          6,
          7,
          8,
          9,
          10,
          11
         ],
         "xaxis": "x",
         "y": [
          2.430586999438538,
          0.3477441906797312,
          0.081502544690562,
          0.027167514896854,
          0.023545179577273468,
          0.0054335029793708,
          0.0036223353195805334,
          0.0036223353195805334,
          0.0036223353195805334,
          0.0018111676597902667
         ],
         "yaxis": "y"
        }
       ],
       "layout": {
        "barmode": "relative",
        "legend": {
         "tracegroupgap": 0
        },
        "margin": {
         "t": 60
        },
        "template": {
         "data": {
          "bar": [
           {
            "error_x": {
             "color": "#2a3f5f"
            },
            "error_y": {
             "color": "#2a3f5f"
            },
            "marker": {
             "line": {
              "color": "#E5ECF6",
              "width": 0.5
             },
             "pattern": {
              "fillmode": "overlay",
              "size": 10,
              "solidity": 0.2
             }
            },
            "type": "bar"
           }
          ],
          "barpolar": [
           {
            "marker": {
             "line": {
              "color": "#E5ECF6",
              "width": 0.5
             },
             "pattern": {
              "fillmode": "overlay",
              "size": 10,
              "solidity": 0.2
             }
            },
            "type": "barpolar"
           }
          ],
          "carpet": [
           {
            "aaxis": {
             "endlinecolor": "#2a3f5f",
             "gridcolor": "white",
             "linecolor": "white",
             "minorgridcolor": "white",
             "startlinecolor": "#2a3f5f"
            },
            "baxis": {
             "endlinecolor": "#2a3f5f",
             "gridcolor": "white",
             "linecolor": "white",
             "minorgridcolor": "white",
             "startlinecolor": "#2a3f5f"
            },
            "type": "carpet"
           }
          ],
          "choropleth": [
           {
            "colorbar": {
             "outlinewidth": 0,
             "ticks": ""
            },
            "type": "choropleth"
           }
          ],
          "contour": [
           {
            "colorbar": {
             "outlinewidth": 0,
             "ticks": ""
            },
            "colorscale": [
             [
              0,
              "#0d0887"
             ],
             [
              0.1111111111111111,
              "#46039f"
             ],
             [
              0.2222222222222222,
              "#7201a8"
             ],
             [
              0.3333333333333333,
              "#9c179e"
             ],
             [
              0.4444444444444444,
              "#bd3786"
             ],
             [
              0.5555555555555556,
              "#d8576b"
             ],
             [
              0.6666666666666666,
              "#ed7953"
             ],
             [
              0.7777777777777778,
              "#fb9f3a"
             ],
             [
              0.8888888888888888,
              "#fdca26"
             ],
             [
              1,
              "#f0f921"
             ]
            ],
            "type": "contour"
           }
          ],
          "contourcarpet": [
           {
            "colorbar": {
             "outlinewidth": 0,
             "ticks": ""
            },
            "type": "contourcarpet"
           }
          ],
          "heatmap": [
           {
            "colorbar": {
             "outlinewidth": 0,
             "ticks": ""
            },
            "colorscale": [
             [
              0,
              "#0d0887"
             ],
             [
              0.1111111111111111,
              "#46039f"
             ],
             [
              0.2222222222222222,
              "#7201a8"
             ],
             [
              0.3333333333333333,
              "#9c179e"
             ],
             [
              0.4444444444444444,
              "#bd3786"
             ],
             [
              0.5555555555555556,
              "#d8576b"
             ],
             [
              0.6666666666666666,
              "#ed7953"
             ],
             [
              0.7777777777777778,
              "#fb9f3a"
             ],
             [
              0.8888888888888888,
              "#fdca26"
             ],
             [
              1,
              "#f0f921"
             ]
            ],
            "type": "heatmap"
           }
          ],
          "heatmapgl": [
           {
            "colorbar": {
             "outlinewidth": 0,
             "ticks": ""
            },
            "colorscale": [
             [
              0,
              "#0d0887"
             ],
             [
              0.1111111111111111,
              "#46039f"
             ],
             [
              0.2222222222222222,
              "#7201a8"
             ],
             [
              0.3333333333333333,
              "#9c179e"
             ],
             [
              0.4444444444444444,
              "#bd3786"
             ],
             [
              0.5555555555555556,
              "#d8576b"
             ],
             [
              0.6666666666666666,
              "#ed7953"
             ],
             [
              0.7777777777777778,
              "#fb9f3a"
             ],
             [
              0.8888888888888888,
              "#fdca26"
             ],
             [
              1,
              "#f0f921"
             ]
            ],
            "type": "heatmapgl"
           }
          ],
          "histogram": [
           {
            "marker": {
             "pattern": {
              "fillmode": "overlay",
              "size": 10,
              "solidity": 0.2
             }
            },
            "type": "histogram"
           }
          ],
          "histogram2d": [
           {
            "colorbar": {
             "outlinewidth": 0,
             "ticks": ""
            },
            "colorscale": [
             [
              0,
              "#0d0887"
             ],
             [
              0.1111111111111111,
              "#46039f"
             ],
             [
              0.2222222222222222,
              "#7201a8"
             ],
             [
              0.3333333333333333,
              "#9c179e"
             ],
             [
              0.4444444444444444,
              "#bd3786"
             ],
             [
              0.5555555555555556,
              "#d8576b"
             ],
             [
              0.6666666666666666,
              "#ed7953"
             ],
             [
              0.7777777777777778,
              "#fb9f3a"
             ],
             [
              0.8888888888888888,
              "#fdca26"
             ],
             [
              1,
              "#f0f921"
             ]
            ],
            "type": "histogram2d"
           }
          ],
          "histogram2dcontour": [
           {
            "colorbar": {
             "outlinewidth": 0,
             "ticks": ""
            },
            "colorscale": [
             [
              0,
              "#0d0887"
             ],
             [
              0.1111111111111111,
              "#46039f"
             ],
             [
              0.2222222222222222,
              "#7201a8"
             ],
             [
              0.3333333333333333,
              "#9c179e"
             ],
             [
              0.4444444444444444,
              "#bd3786"
             ],
             [
              0.5555555555555556,
              "#d8576b"
             ],
             [
              0.6666666666666666,
              "#ed7953"
             ],
             [
              0.7777777777777778,
              "#fb9f3a"
             ],
             [
              0.8888888888888888,
              "#fdca26"
             ],
             [
              1,
              "#f0f921"
             ]
            ],
            "type": "histogram2dcontour"
           }
          ],
          "mesh3d": [
           {
            "colorbar": {
             "outlinewidth": 0,
             "ticks": ""
            },
            "type": "mesh3d"
           }
          ],
          "parcoords": [
           {
            "line": {
             "colorbar": {
              "outlinewidth": 0,
              "ticks": ""
             }
            },
            "type": "parcoords"
           }
          ],
          "pie": [
           {
            "automargin": true,
            "type": "pie"
           }
          ],
          "scatter": [
           {
            "fillpattern": {
             "fillmode": "overlay",
             "size": 10,
             "solidity": 0.2
            },
            "type": "scatter"
           }
          ],
          "scatter3d": [
           {
            "line": {
             "colorbar": {
              "outlinewidth": 0,
              "ticks": ""
             }
            },
            "marker": {
             "colorbar": {
              "outlinewidth": 0,
              "ticks": ""
             }
            },
            "type": "scatter3d"
           }
          ],
          "scattercarpet": [
           {
            "marker": {
             "colorbar": {
              "outlinewidth": 0,
              "ticks": ""
             }
            },
            "type": "scattercarpet"
           }
          ],
          "scattergeo": [
           {
            "marker": {
             "colorbar": {
              "outlinewidth": 0,
              "ticks": ""
             }
            },
            "type": "scattergeo"
           }
          ],
          "scattergl": [
           {
            "marker": {
             "colorbar": {
              "outlinewidth": 0,
              "ticks": ""
             }
            },
            "type": "scattergl"
           }
          ],
          "scattermapbox": [
           {
            "marker": {
             "colorbar": {
              "outlinewidth": 0,
              "ticks": ""
             }
            },
            "type": "scattermapbox"
           }
          ],
          "scatterpolar": [
           {
            "marker": {
             "colorbar": {
              "outlinewidth": 0,
              "ticks": ""
             }
            },
            "type": "scatterpolar"
           }
          ],
          "scatterpolargl": [
           {
            "marker": {
             "colorbar": {
              "outlinewidth": 0,
              "ticks": ""
             }
            },
            "type": "scatterpolargl"
           }
          ],
          "scatterternary": [
           {
            "marker": {
             "colorbar": {
              "outlinewidth": 0,
              "ticks": ""
             }
            },
            "type": "scatterternary"
           }
          ],
          "surface": [
           {
            "colorbar": {
             "outlinewidth": 0,
             "ticks": ""
            },
            "colorscale": [
             [
              0,
              "#0d0887"
             ],
             [
              0.1111111111111111,
              "#46039f"
             ],
             [
              0.2222222222222222,
              "#7201a8"
             ],
             [
              0.3333333333333333,
              "#9c179e"
             ],
             [
              0.4444444444444444,
              "#bd3786"
             ],
             [
              0.5555555555555556,
              "#d8576b"
             ],
             [
              0.6666666666666666,
              "#ed7953"
             ],
             [
              0.7777777777777778,
              "#fb9f3a"
             ],
             [
              0.8888888888888888,
              "#fdca26"
             ],
             [
              1,
              "#f0f921"
             ]
            ],
            "type": "surface"
           }
          ],
          "table": [
           {
            "cells": {
             "fill": {
              "color": "#EBF0F8"
             },
             "line": {
              "color": "white"
             }
            },
            "header": {
             "fill": {
              "color": "#C8D4E3"
             },
             "line": {
              "color": "white"
             }
            },
            "type": "table"
           }
          ]
         },
         "layout": {
          "annotationdefaults": {
           "arrowcolor": "#2a3f5f",
           "arrowhead": 0,
           "arrowwidth": 1
          },
          "autotypenumbers": "strict",
          "coloraxis": {
           "colorbar": {
            "outlinewidth": 0,
            "ticks": ""
           }
          },
          "colorscale": {
           "diverging": [
            [
             0,
             "#8e0152"
            ],
            [
             0.1,
             "#c51b7d"
            ],
            [
             0.2,
             "#de77ae"
            ],
            [
             0.3,
             "#f1b6da"
            ],
            [
             0.4,
             "#fde0ef"
            ],
            [
             0.5,
             "#f7f7f7"
            ],
            [
             0.6,
             "#e6f5d0"
            ],
            [
             0.7,
             "#b8e186"
            ],
            [
             0.8,
             "#7fbc41"
            ],
            [
             0.9,
             "#4d9221"
            ],
            [
             1,
             "#276419"
            ]
           ],
           "sequential": [
            [
             0,
             "#0d0887"
            ],
            [
             0.1111111111111111,
             "#46039f"
            ],
            [
             0.2222222222222222,
             "#7201a8"
            ],
            [
             0.3333333333333333,
             "#9c179e"
            ],
            [
             0.4444444444444444,
             "#bd3786"
            ],
            [
             0.5555555555555556,
             "#d8576b"
            ],
            [
             0.6666666666666666,
             "#ed7953"
            ],
            [
             0.7777777777777778,
             "#fb9f3a"
            ],
            [
             0.8888888888888888,
             "#fdca26"
            ],
            [
             1,
             "#f0f921"
            ]
           ],
           "sequentialminus": [
            [
             0,
             "#0d0887"
            ],
            [
             0.1111111111111111,
             "#46039f"
            ],
            [
             0.2222222222222222,
             "#7201a8"
            ],
            [
             0.3333333333333333,
             "#9c179e"
            ],
            [
             0.4444444444444444,
             "#bd3786"
            ],
            [
             0.5555555555555556,
             "#d8576b"
            ],
            [
             0.6666666666666666,
             "#ed7953"
            ],
            [
             0.7777777777777778,
             "#fb9f3a"
            ],
            [
             0.8888888888888888,
             "#fdca26"
            ],
            [
             1,
             "#f0f921"
            ]
           ]
          },
          "colorway": [
           "#636efa",
           "#EF553B",
           "#00cc96",
           "#ab63fa",
           "#FFA15A",
           "#19d3f3",
           "#FF6692",
           "#B6E880",
           "#FF97FF",
           "#FECB52"
          ],
          "font": {
           "color": "#2a3f5f"
          },
          "geo": {
           "bgcolor": "white",
           "lakecolor": "white",
           "landcolor": "#E5ECF6",
           "showlakes": true,
           "showland": true,
           "subunitcolor": "white"
          },
          "hoverlabel": {
           "align": "left"
          },
          "hovermode": "closest",
          "mapbox": {
           "style": "light"
          },
          "paper_bgcolor": "white",
          "plot_bgcolor": "#E5ECF6",
          "polar": {
           "angularaxis": {
            "gridcolor": "white",
            "linecolor": "white",
            "ticks": ""
           },
           "bgcolor": "#E5ECF6",
           "radialaxis": {
            "gridcolor": "white",
            "linecolor": "white",
            "ticks": ""
           }
          },
          "scene": {
           "xaxis": {
            "backgroundcolor": "#E5ECF6",
            "gridcolor": "white",
            "gridwidth": 2,
            "linecolor": "white",
            "showbackground": true,
            "ticks": "",
            "zerolinecolor": "white"
           },
           "yaxis": {
            "backgroundcolor": "#E5ECF6",
            "gridcolor": "white",
            "gridwidth": 2,
            "linecolor": "white",
            "showbackground": true,
            "ticks": "",
            "zerolinecolor": "white"
           },
           "zaxis": {
            "backgroundcolor": "#E5ECF6",
            "gridcolor": "white",
            "gridwidth": 2,
            "linecolor": "white",
            "showbackground": true,
            "ticks": "",
            "zerolinecolor": "white"
           }
          },
          "shapedefaults": {
           "line": {
            "color": "#2a3f5f"
           }
          },
          "ternary": {
           "aaxis": {
            "gridcolor": "white",
            "linecolor": "white",
            "ticks": ""
           },
           "baxis": {
            "gridcolor": "white",
            "linecolor": "white",
            "ticks": ""
           },
           "bgcolor": "#E5ECF6",
           "caxis": {
            "gridcolor": "white",
            "linecolor": "white",
            "ticks": ""
           }
          },
          "title": {
           "x": 0.05
          },
          "xaxis": {
           "automargin": true,
           "gridcolor": "white",
           "linecolor": "white",
           "ticks": "",
           "title": {
            "standoff": 15
           },
           "zerolinecolor": "white",
           "zerolinewidth": 2
          },
          "yaxis": {
           "automargin": true,
           "gridcolor": "white",
           "linecolor": "white",
           "ticks": "",
           "title": {
            "standoff": 15
           },
           "zerolinecolor": "white",
           "zerolinewidth": 2
          }
         }
        },
        "xaxis": {
         "anchor": "y",
         "domain": [
          0,
          1
         ],
         "title": {
          "text": "num_gene_records"
         }
        },
        "yaxis": {
         "anchor": "x",
         "domain": [
          0,
          1
         ],
         "title": {
          "text": "percent_collision_symbol"
         }
        }
       }
      }
     },
     "metadata": {},
     "output_type": "display_data"
    }
   ],
   "source": [
    "create_aa_collision_histogram(aa_collision_gene_ensg_df, \"ENSG\", ensg_alias_count)"
   ]
  },
  {
   "cell_type": "code",
   "execution_count": 15,
   "metadata": {},
   "outputs": [],
   "source": [
    "aa_collision_ensg_count_df = pd.read_csv(\n",
    "    \"../created_files/aa_collision_ensg_count_df.csv\", index_col=[0])"
   ]
  },
  {
   "cell_type": "code",
   "execution_count": 16,
   "metadata": {},
   "outputs": [],
   "source": [
    "aa_collision_ensg_distribution_df = pd.read_csv(\n",
    "    \"../created_files/aa_collision_ensg_distribution_df.csv\", index_col=[0])"
   ]
  },
  {
   "cell_type": "code",
   "execution_count": 17,
   "metadata": {},
   "outputs": [],
   "source": [
    "ensg_alias_count_histogram_df = pd.read_csv(\n",
    "    \"../created_files/ensg_alias_count_histogram_df.csv\", index_col=[0])"
   ]
  },
  {
   "cell_type": "markdown",
   "metadata": {},
   "source": [
    "# <a id='toc2_'></a>[HGNC](#toc0_)"
   ]
  },
  {
   "cell_type": "code",
   "execution_count": 18,
   "metadata": {},
   "outputs": [
    {
     "data": {
      "text/html": [
       "<div>\n",
       "<style scoped>\n",
       "    .dataframe tbody tr th:only-of-type {\n",
       "        vertical-align: middle;\n",
       "    }\n",
       "\n",
       "    .dataframe tbody tr th {\n",
       "        vertical-align: top;\n",
       "    }\n",
       "\n",
       "    .dataframe thead th {\n",
       "        text-align: right;\n",
       "    }\n",
       "</style>\n",
       "<table border=\"1\" class=\"dataframe\">\n",
       "  <thead>\n",
       "    <tr style=\"text-align: right;\">\n",
       "      <th></th>\n",
       "      <th>Unnamed: 0</th>\n",
       "      <th>HGNC_ID</th>\n",
       "      <th>alias_symbol</th>\n",
       "      <th>NCBI_ID</th>\n",
       "      <th>ENSG_ID</th>\n",
       "      <th>gene_symbol</th>\n",
       "    </tr>\n",
       "  </thead>\n",
       "  <tbody>\n",
       "    <tr>\n",
       "      <th>0</th>\n",
       "      <td>0</td>\n",
       "      <td>5</td>\n",
       "      <td>NaN</td>\n",
       "      <td>1</td>\n",
       "      <td>ENSG00000121410</td>\n",
       "      <td>A1BG</td>\n",
       "    </tr>\n",
       "    <tr>\n",
       "      <th>1</th>\n",
       "      <td>1</td>\n",
       "      <td>37133</td>\n",
       "      <td>FLJ23569</td>\n",
       "      <td>503538</td>\n",
       "      <td>ENSG00000268895</td>\n",
       "      <td>A1BG-AS1</td>\n",
       "    </tr>\n",
       "    <tr>\n",
       "      <th>2</th>\n",
       "      <td>2</td>\n",
       "      <td>24086</td>\n",
       "      <td>ACF</td>\n",
       "      <td>29974</td>\n",
       "      <td>ENSG00000148584</td>\n",
       "      <td>A1CF</td>\n",
       "    </tr>\n",
       "    <tr>\n",
       "      <th>3</th>\n",
       "      <td>3</td>\n",
       "      <td>24086</td>\n",
       "      <td>ASP</td>\n",
       "      <td>29974</td>\n",
       "      <td>ENSG00000148584</td>\n",
       "      <td>A1CF</td>\n",
       "    </tr>\n",
       "    <tr>\n",
       "      <th>4</th>\n",
       "      <td>4</td>\n",
       "      <td>24086</td>\n",
       "      <td>ACF64</td>\n",
       "      <td>29974</td>\n",
       "      <td>ENSG00000148584</td>\n",
       "      <td>A1CF</td>\n",
       "    </tr>\n",
       "    <tr>\n",
       "      <th>...</th>\n",
       "      <td>...</td>\n",
       "      <td>...</td>\n",
       "      <td>...</td>\n",
       "      <td>...</td>\n",
       "      <td>...</td>\n",
       "      <td>...</td>\n",
       "    </tr>\n",
       "    <tr>\n",
       "      <th>67578</th>\n",
       "      <td>67578</td>\n",
       "      <td>29027</td>\n",
       "      <td>KIAA0399</td>\n",
       "      <td>23140</td>\n",
       "      <td>ENSG00000074755</td>\n",
       "      <td>ZZEF1</td>\n",
       "    </tr>\n",
       "    <tr>\n",
       "      <th>67579</th>\n",
       "      <td>67579</td>\n",
       "      <td>29027</td>\n",
       "      <td>ZZZ4</td>\n",
       "      <td>23140</td>\n",
       "      <td>ENSG00000074755</td>\n",
       "      <td>ZZEF1</td>\n",
       "    </tr>\n",
       "    <tr>\n",
       "      <th>67580</th>\n",
       "      <td>67580</td>\n",
       "      <td>29027</td>\n",
       "      <td>FLJ10821</td>\n",
       "      <td>23140</td>\n",
       "      <td>ENSG00000074755</td>\n",
       "      <td>ZZEF1</td>\n",
       "    </tr>\n",
       "    <tr>\n",
       "      <th>67581</th>\n",
       "      <td>67581</td>\n",
       "      <td>24523</td>\n",
       "      <td>DKFZP564I052</td>\n",
       "      <td>26009</td>\n",
       "      <td>ENSG00000036549</td>\n",
       "      <td>ZZZ3</td>\n",
       "    </tr>\n",
       "    <tr>\n",
       "      <th>67582</th>\n",
       "      <td>67582</td>\n",
       "      <td>24523</td>\n",
       "      <td>ATAC1</td>\n",
       "      <td>26009</td>\n",
       "      <td>ENSG00000036549</td>\n",
       "      <td>ZZZ3</td>\n",
       "    </tr>\n",
       "  </tbody>\n",
       "</table>\n",
       "<p>67583 rows × 6 columns</p>\n",
       "</div>"
      ],
      "text/plain": [
       "       Unnamed: 0  HGNC_ID  alias_symbol  NCBI_ID          ENSG_ID gene_symbol\n",
       "0               0        5           NaN        1  ENSG00000121410        A1BG\n",
       "1               1    37133      FLJ23569   503538  ENSG00000268895    A1BG-AS1\n",
       "2               2    24086           ACF    29974  ENSG00000148584        A1CF\n",
       "3               3    24086           ASP    29974  ENSG00000148584        A1CF\n",
       "4               4    24086         ACF64    29974  ENSG00000148584        A1CF\n",
       "...           ...      ...           ...      ...              ...         ...\n",
       "67578       67578    29027      KIAA0399    23140  ENSG00000074755       ZZEF1\n",
       "67579       67579    29027          ZZZ4    23140  ENSG00000074755       ZZEF1\n",
       "67580       67580    29027      FLJ10821    23140  ENSG00000074755       ZZEF1\n",
       "67581       67581    24523  DKFZP564I052    26009  ENSG00000036549        ZZZ3\n",
       "67582       67582    24523         ATAC1    26009  ENSG00000036549        ZZZ3\n",
       "\n",
       "[67583 rows x 6 columns]"
      ]
     },
     "execution_count": 18,
     "metadata": {},
     "output_type": "execute_result"
    }
   ],
   "source": [
    "mini_hgnc_df = pd.read_csv(\n",
    "    \"../created_files/mini_hgnc_df.csv\",\n",
    "    dtype={\"HGNC_ID\": pd.Int64Dtype(), \"NCBI_ID\": pd.Int64Dtype()},\n",
    ")\n",
    "mini_hgnc_df"
   ]
  },
  {
   "cell_type": "code",
   "execution_count": 19,
   "metadata": {},
   "outputs": [
    {
     "data": {
      "text/html": [
       "<div>\n",
       "<style scoped>\n",
       "    .dataframe tbody tr th:only-of-type {\n",
       "        vertical-align: middle;\n",
       "    }\n",
       "\n",
       "    .dataframe tbody tr th {\n",
       "        vertical-align: top;\n",
       "    }\n",
       "\n",
       "    .dataframe thead th {\n",
       "        text-align: right;\n",
       "    }\n",
       "</style>\n",
       "<table border=\"1\" class=\"dataframe\">\n",
       "  <thead>\n",
       "    <tr style=\"text-align: right;\">\n",
       "      <th></th>\n",
       "      <th>HGNC_ID</th>\n",
       "      <th>alias_symbol</th>\n",
       "      <th>NCBI_ID</th>\n",
       "      <th>ENSG_ID</th>\n",
       "      <th>gene_symbol</th>\n",
       "    </tr>\n",
       "  </thead>\n",
       "  <tbody>\n",
       "    <tr>\n",
       "      <th>1</th>\n",
       "      <td>37133</td>\n",
       "      <td>FLJ23569</td>\n",
       "      <td>503538.0</td>\n",
       "      <td>ENSG00000268895</td>\n",
       "      <td>A1BG-AS1</td>\n",
       "    </tr>\n",
       "    <tr>\n",
       "      <th>2</th>\n",
       "      <td>24086</td>\n",
       "      <td>ACF</td>\n",
       "      <td>29974.0</td>\n",
       "      <td>ENSG00000148584</td>\n",
       "      <td>A1CF</td>\n",
       "    </tr>\n",
       "    <tr>\n",
       "      <th>3</th>\n",
       "      <td>24086</td>\n",
       "      <td>ASP</td>\n",
       "      <td>29974.0</td>\n",
       "      <td>ENSG00000148584</td>\n",
       "      <td>A1CF</td>\n",
       "    </tr>\n",
       "    <tr>\n",
       "      <th>4</th>\n",
       "      <td>24086</td>\n",
       "      <td>ACF64</td>\n",
       "      <td>29974.0</td>\n",
       "      <td>ENSG00000148584</td>\n",
       "      <td>A1CF</td>\n",
       "    </tr>\n",
       "    <tr>\n",
       "      <th>5</th>\n",
       "      <td>24086</td>\n",
       "      <td>ACF65</td>\n",
       "      <td>29974.0</td>\n",
       "      <td>ENSG00000148584</td>\n",
       "      <td>A1CF</td>\n",
       "    </tr>\n",
       "    <tr>\n",
       "      <th>...</th>\n",
       "      <td>...</td>\n",
       "      <td>...</td>\n",
       "      <td>...</td>\n",
       "      <td>...</td>\n",
       "      <td>...</td>\n",
       "    </tr>\n",
       "    <tr>\n",
       "      <th>67578</th>\n",
       "      <td>29027</td>\n",
       "      <td>KIAA0399</td>\n",
       "      <td>23140.0</td>\n",
       "      <td>ENSG00000074755</td>\n",
       "      <td>ZZEF1</td>\n",
       "    </tr>\n",
       "    <tr>\n",
       "      <th>67579</th>\n",
       "      <td>29027</td>\n",
       "      <td>ZZZ4</td>\n",
       "      <td>23140.0</td>\n",
       "      <td>ENSG00000074755</td>\n",
       "      <td>ZZEF1</td>\n",
       "    </tr>\n",
       "    <tr>\n",
       "      <th>67580</th>\n",
       "      <td>29027</td>\n",
       "      <td>FLJ10821</td>\n",
       "      <td>23140.0</td>\n",
       "      <td>ENSG00000074755</td>\n",
       "      <td>ZZEF1</td>\n",
       "    </tr>\n",
       "    <tr>\n",
       "      <th>67581</th>\n",
       "      <td>24523</td>\n",
       "      <td>DKFZP564I052</td>\n",
       "      <td>26009.0</td>\n",
       "      <td>ENSG00000036549</td>\n",
       "      <td>ZZZ3</td>\n",
       "    </tr>\n",
       "    <tr>\n",
       "      <th>67582</th>\n",
       "      <td>24523</td>\n",
       "      <td>ATAC1</td>\n",
       "      <td>26009.0</td>\n",
       "      <td>ENSG00000036549</td>\n",
       "      <td>ZZZ3</td>\n",
       "    </tr>\n",
       "  </tbody>\n",
       "</table>\n",
       "<p>44542 rows × 5 columns</p>\n",
       "</div>"
      ],
      "text/plain": [
       "       HGNC_ID  alias_symbol   NCBI_ID          ENSG_ID gene_symbol\n",
       "1        37133      FLJ23569  503538.0  ENSG00000268895    A1BG-AS1\n",
       "2        24086           ACF   29974.0  ENSG00000148584        A1CF\n",
       "3        24086           ASP   29974.0  ENSG00000148584        A1CF\n",
       "4        24086         ACF64   29974.0  ENSG00000148584        A1CF\n",
       "5        24086         ACF65   29974.0  ENSG00000148584        A1CF\n",
       "...        ...           ...       ...              ...         ...\n",
       "67578    29027      KIAA0399   23140.0  ENSG00000074755       ZZEF1\n",
       "67579    29027          ZZZ4   23140.0  ENSG00000074755       ZZEF1\n",
       "67580    29027      FLJ10821   23140.0  ENSG00000074755       ZZEF1\n",
       "67581    24523  DKFZP564I052   26009.0  ENSG00000036549        ZZZ3\n",
       "67582    24523         ATAC1   26009.0  ENSG00000036549        ZZZ3\n",
       "\n",
       "[44542 rows x 5 columns]"
      ]
     },
     "execution_count": 19,
     "metadata": {},
     "output_type": "execute_result"
    }
   ],
   "source": [
    "subset_genes_hgnc_df = pd.read_csv(\n",
    "    \"../created_files/subset_genes_hgnc_df.csv\", index_col=[0])\n",
    "subset_genes_hgnc_df"
   ]
  },
  {
   "cell_type": "code",
   "execution_count": 20,
   "metadata": {},
   "outputs": [
    {
     "data": {
      "text/html": [
       "<div>\n",
       "<style scoped>\n",
       "    .dataframe tbody tr th:only-of-type {\n",
       "        vertical-align: middle;\n",
       "    }\n",
       "\n",
       "    .dataframe tbody tr th {\n",
       "        vertical-align: top;\n",
       "    }\n",
       "\n",
       "    .dataframe thead th {\n",
       "        text-align: right;\n",
       "    }\n",
       "</style>\n",
       "<table border=\"1\" class=\"dataframe\">\n",
       "  <thead>\n",
       "    <tr style=\"text-align: right;\">\n",
       "      <th></th>\n",
       "      <th>ENSG_ID</th>\n",
       "      <th>gene_symbol</th>\n",
       "      <th>HGNC_ID</th>\n",
       "      <th>alias_symbol</th>\n",
       "    </tr>\n",
       "  </thead>\n",
       "  <tbody>\n",
       "    <tr>\n",
       "      <th>0</th>\n",
       "      <td>ENSG00000000003</td>\n",
       "      <td>TSPAN6</td>\n",
       "      <td>11858</td>\n",
       "      <td>T245,TSPAN-6</td>\n",
       "    </tr>\n",
       "    <tr>\n",
       "      <th>1</th>\n",
       "      <td>ENSG00000000005</td>\n",
       "      <td>TNMD</td>\n",
       "      <td>17757</td>\n",
       "      <td>myodulin,ChM1L,tendin,TEM,BRICD4</td>\n",
       "    </tr>\n",
       "    <tr>\n",
       "      <th>2</th>\n",
       "      <td>ENSG00000000419</td>\n",
       "      <td>DPM1</td>\n",
       "      <td>3005</td>\n",
       "      <td>MPDS,CDGIE</td>\n",
       "    </tr>\n",
       "    <tr>\n",
       "      <th>3</th>\n",
       "      <td>ENSG00000000457</td>\n",
       "      <td>SCYL3</td>\n",
       "      <td>19285</td>\n",
       "      <td>PACE-1,PACE1</td>\n",
       "    </tr>\n",
       "    <tr>\n",
       "      <th>4</th>\n",
       "      <td>ENSG00000000460</td>\n",
       "      <td>FIRRM</td>\n",
       "      <td>25565</td>\n",
       "      <td>FLJ10706,Apolo1,FLIP,MEICA1</td>\n",
       "    </tr>\n",
       "    <tr>\n",
       "      <th>...</th>\n",
       "      <td>...</td>\n",
       "      <td>...</td>\n",
       "      <td>...</td>\n",
       "      <td>...</td>\n",
       "    </tr>\n",
       "    <tr>\n",
       "      <th>45641</th>\n",
       "      <td>NaN</td>\n",
       "      <td>ZNF97</td>\n",
       "      <td>13173</td>\n",
       "      <td>NaN</td>\n",
       "    </tr>\n",
       "    <tr>\n",
       "      <th>45642</th>\n",
       "      <td>NaN</td>\n",
       "      <td>ZNFP1</td>\n",
       "      <td>13181</td>\n",
       "      <td>NaN</td>\n",
       "    </tr>\n",
       "    <tr>\n",
       "      <th>45643</th>\n",
       "      <td>NaN</td>\n",
       "      <td>ZPAXP</td>\n",
       "      <td>51635</td>\n",
       "      <td>ZPX1P</td>\n",
       "    </tr>\n",
       "    <tr>\n",
       "      <th>45644</th>\n",
       "      <td>NaN</td>\n",
       "      <td>ZRK</td>\n",
       "      <td>13193</td>\n",
       "      <td>NaN</td>\n",
       "    </tr>\n",
       "    <tr>\n",
       "      <th>45645</th>\n",
       "      <td>NaN</td>\n",
       "      <td>ZWINTAS</td>\n",
       "      <td>13196</td>\n",
       "      <td>MPP5,MPHOSPH5,NCRNA00018</td>\n",
       "    </tr>\n",
       "  </tbody>\n",
       "</table>\n",
       "<p>45646 rows × 4 columns</p>\n",
       "</div>"
      ],
      "text/plain": [
       "               ENSG_ID gene_symbol  HGNC_ID                      alias_symbol\n",
       "0      ENSG00000000003      TSPAN6    11858                      T245,TSPAN-6\n",
       "1      ENSG00000000005        TNMD    17757  myodulin,ChM1L,tendin,TEM,BRICD4\n",
       "2      ENSG00000000419        DPM1     3005                        MPDS,CDGIE\n",
       "3      ENSG00000000457       SCYL3    19285                      PACE-1,PACE1\n",
       "4      ENSG00000000460       FIRRM    25565       FLJ10706,Apolo1,FLIP,MEICA1\n",
       "...                ...         ...      ...                               ...\n",
       "45641              NaN       ZNF97    13173                               NaN\n",
       "45642              NaN       ZNFP1    13181                               NaN\n",
       "45643              NaN       ZPAXP    51635                             ZPX1P\n",
       "45644              NaN         ZRK    13193                               NaN\n",
       "45645              NaN     ZWINTAS    13196          MPP5,MPHOSPH5,NCRNA00018\n",
       "\n",
       "[45646 rows x 4 columns]"
      ]
     },
     "execution_count": 20,
     "metadata": {},
     "output_type": "execute_result"
    }
   ],
   "source": [
    "merged_alias_hgnc_df = pd.read_csv(\n",
    "    \"../created_files/merged_alias_hgnc_df.csv\", index_col=[0])\n",
    "merged_alias_hgnc_df"
   ]
  },
  {
   "cell_type": "markdown",
   "metadata": {},
   "source": [
    "### <a id='toc2_1_1_'></a>[How many total unique gene records are there in HGNC](#toc0_)"
   ]
  },
  {
   "cell_type": "markdown",
   "metadata": {},
   "source": [
    "By HGNC ID"
   ]
  },
  {
   "cell_type": "code",
   "execution_count": 21,
   "metadata": {},
   "outputs": [
    {
     "data": {
      "text/plain": [
       "45646"
      ]
     },
     "execution_count": 21,
     "metadata": {},
     "output_type": "execute_result"
    }
   ],
   "source": [
    "hgnc_gene_id_set = set(mini_hgnc_df[\"HGNC_ID\"])\n",
    "len(hgnc_gene_id_set)"
   ]
  },
  {
   "cell_type": "markdown",
   "metadata": {},
   "source": [
    "### <a id='toc2_1_2_'></a>[Identify alias-alias collision symbols](#toc0_)"
   ]
  },
  {
   "cell_type": "code",
   "execution_count": 22,
   "metadata": {},
   "outputs": [
    {
     "data": {
      "text/plain": [
       "(   HGNC_ID alias_symbol   NCBI_ID          ENSG_ID gene_symbol\n",
       " 1    37133     FLJ23569  503538.0  ENSG00000268895    A1BG-AS1\n",
       " 2    24086          ACF   29974.0  ENSG00000148584        A1CF\n",
       " 3    24086          ASP   29974.0  ENSG00000148584        A1CF\n",
       " 4    24086        ACF64   29974.0  ENSG00000148584        A1CF\n",
       " 5    24086        ACF65   29974.0  ENSG00000148584        A1CF,\n",
       "   gene_symbol                                       alias_symbol  \\\n",
       " 0       KLRG1                            MAFA,2F1,MAFA-L,CLEC15A   \n",
       " 1     SLC25A5                                          T2,2F1,T3   \n",
       " 2      S100A8                  P8,MRP8,MRP-8,60B8AG,CGLA,S100-A8   \n",
       " 3      S100A9  P14,MIF,NIF,LIAG,MRP14,MAC387,60B8AG,CGLB,MRP-...   \n",
       " 4       RNU6V                                          87U6,LH87   \n",
       " \n",
       "            ENSG_ID  HGNC_ID  NCBI_ID collision source  \n",
       " 0  ENSG00000139187     6380  10219.0       2F1   HGNC  \n",
       " 1  ENSG00000005022    10991    292.0       2F1   HGNC  \n",
       " 2  ENSG00000143546    10498   6279.0    60B8AG   HGNC  \n",
       " 3  ENSG00000163220    10499   6280.0    60B8AG   HGNC  \n",
       " 4  ENSG00000206832    10230   6071.0      87U6   HGNC  ,\n",
       "   collision                                            ENSG_ID  \\\n",
       " 0       2F1                   ENSG00000139187, ENSG00000005022   \n",
       " 1    60B8AG                   ENSG00000143546, ENSG00000163220   \n",
       " 2      87U6                   ENSG00000206832, ENSG00000065135   \n",
       " 3       9G8                   ENSG00000115875, ENSG00000164609   \n",
       " 4        A1  ENSG00000033627, ENSG00000035928, ENSG00000163...   \n",
       " \n",
       "                   gene_symbol source  \n",
       " 0              KLRG1, SLC25A5   HGNC  \n",
       " 1              S100A8, S100A9   HGNC  \n",
       " 2                RNU6V, GNAI3   HGNC  \n",
       " 3                 SRSF7, SLU7   HGNC  \n",
       " 4  ATP6V0A1, RFC1, RFC4, RFC2   HGNC  )"
      ]
     },
     "execution_count": 22,
     "metadata": {},
     "output_type": "execute_result"
    }
   ],
   "source": [
    "create_aa_collision_df(subset_genes_hgnc_df, merged_alias_hgnc_df, source=\"HGNC\")"
   ]
  },
  {
   "cell_type": "code",
   "execution_count": 23,
   "metadata": {},
   "outputs": [],
   "source": [
    "subset_genes_hgnc_df = pd.read_csv(\n",
    "    \"../created_files/subset_genes_hgnc_df.csv\", index_col=[0])"
   ]
  },
  {
   "cell_type": "code",
   "execution_count": 24,
   "metadata": {},
   "outputs": [
    {
     "data": {
      "text/html": [
       "<div>\n",
       "<style scoped>\n",
       "    .dataframe tbody tr th:only-of-type {\n",
       "        vertical-align: middle;\n",
       "    }\n",
       "\n",
       "    .dataframe tbody tr th {\n",
       "        vertical-align: top;\n",
       "    }\n",
       "\n",
       "    .dataframe thead th {\n",
       "        text-align: right;\n",
       "    }\n",
       "</style>\n",
       "<table border=\"1\" class=\"dataframe\">\n",
       "  <thead>\n",
       "    <tr style=\"text-align: right;\">\n",
       "      <th></th>\n",
       "      <th>HGNC_ID</th>\n",
       "      <th>alias_symbol</th>\n",
       "      <th>NCBI_ID</th>\n",
       "      <th>ENSG_ID</th>\n",
       "      <th>gene_symbol</th>\n",
       "    </tr>\n",
       "  </thead>\n",
       "  <tbody>\n",
       "    <tr>\n",
       "      <th>36566</th>\n",
       "      <td>7959</td>\n",
       "      <td>PP2</td>\n",
       "      <td>4888.0</td>\n",
       "      <td>ENSG00000226306</td>\n",
       "      <td>NPY6R</td>\n",
       "    </tr>\n",
       "    <tr>\n",
       "      <th>36567</th>\n",
       "      <td>7959</td>\n",
       "      <td>NPY1RL</td>\n",
       "      <td>4888.0</td>\n",
       "      <td>ENSG00000226306</td>\n",
       "      <td>NPY6R</td>\n",
       "    </tr>\n",
       "    <tr>\n",
       "      <th>36568</th>\n",
       "      <td>7959</td>\n",
       "      <td>NPY6RP</td>\n",
       "      <td>4888.0</td>\n",
       "      <td>ENSG00000226306</td>\n",
       "      <td>NPY6R</td>\n",
       "    </tr>\n",
       "  </tbody>\n",
       "</table>\n",
       "</div>"
      ],
      "text/plain": [
       "       HGNC_ID alias_symbol  NCBI_ID          ENSG_ID gene_symbol\n",
       "36566     7959          PP2   4888.0  ENSG00000226306       NPY6R\n",
       "36567     7959       NPY1RL   4888.0  ENSG00000226306       NPY6R\n",
       "36568     7959       NPY6RP   4888.0  ENSG00000226306       NPY6R"
      ]
     },
     "execution_count": 24,
     "metadata": {},
     "output_type": "execute_result"
    }
   ],
   "source": [
    "subset_genes_hgnc_df.loc[subset_genes_hgnc_df[\"gene_symbol\"] == \"NPY6R\"]"
   ]
  },
  {
   "cell_type": "code",
   "execution_count": 25,
   "metadata": {},
   "outputs": [],
   "source": [
    "aa_collision_gene_hgnc_df = pd.read_csv(\n",
    "    \"../created_files/aa_collision_gene_hgnc_df.csv\", index_col=[0])"
   ]
  },
  {
   "cell_type": "code",
   "execution_count": 26,
   "metadata": {},
   "outputs": [],
   "source": [
    "aa_collision_alias_hgnc_df = pd.read_csv(\n",
    "    \"../created_files/aa_collision_alias_hgnc_df.csv\", index_col=[0])"
   ]
  },
  {
   "cell_type": "markdown",
   "metadata": {},
   "source": [
    "### <a id='toc2_1_3_'></a>[Create a histogram displaying how frequent the numebr of gene records sharing an alias is](#toc0_)"
   ]
  },
  {
   "cell_type": "code",
   "execution_count": 27,
   "metadata": {},
   "outputs": [],
   "source": [
    "hgnc_alias_symbol_set = set(subset_genes_hgnc_df[\"alias_symbol\"])\n",
    "hgnc_alias_count = len(hgnc_alias_symbol_set)"
   ]
  },
  {
   "cell_type": "code",
   "execution_count": 28,
   "metadata": {},
   "outputs": [
    {
     "data": {
      "application/vnd.plotly.v1+json": {
       "config": {
        "plotlyServerURL": "https://plot.ly"
       },
       "data": [
        {
         "alignmentgroup": "True",
         "hovertemplate": "num_gene_records=%{x}<br>percent_collision_symbol=%{y}<extra></extra>",
         "legendgroup": "",
         "marker": {
          "color": "#636efa",
          "pattern": {
           "shape": ""
          }
         },
         "name": "",
         "offsetgroup": "",
         "orientation": "v",
         "showlegend": false,
         "textposition": "auto",
         "type": "bar",
         "x": [
          2,
          3,
          4,
          5,
          6,
          7,
          9,
          10
         ],
         "xaxis": "x",
         "y": [
          2.3626450440374667,
          0.37979402581667365,
          0.09087096323221026,
          0.03961041987045063,
          0.023300246982618015,
          0.009320098793047207,
          0.004660049396523603,
          0.0023300246982618017
         ],
         "yaxis": "y"
        }
       ],
       "layout": {
        "barmode": "relative",
        "legend": {
         "tracegroupgap": 0
        },
        "margin": {
         "t": 60
        },
        "template": {
         "data": {
          "bar": [
           {
            "error_x": {
             "color": "#2a3f5f"
            },
            "error_y": {
             "color": "#2a3f5f"
            },
            "marker": {
             "line": {
              "color": "#E5ECF6",
              "width": 0.5
             },
             "pattern": {
              "fillmode": "overlay",
              "size": 10,
              "solidity": 0.2
             }
            },
            "type": "bar"
           }
          ],
          "barpolar": [
           {
            "marker": {
             "line": {
              "color": "#E5ECF6",
              "width": 0.5
             },
             "pattern": {
              "fillmode": "overlay",
              "size": 10,
              "solidity": 0.2
             }
            },
            "type": "barpolar"
           }
          ],
          "carpet": [
           {
            "aaxis": {
             "endlinecolor": "#2a3f5f",
             "gridcolor": "white",
             "linecolor": "white",
             "minorgridcolor": "white",
             "startlinecolor": "#2a3f5f"
            },
            "baxis": {
             "endlinecolor": "#2a3f5f",
             "gridcolor": "white",
             "linecolor": "white",
             "minorgridcolor": "white",
             "startlinecolor": "#2a3f5f"
            },
            "type": "carpet"
           }
          ],
          "choropleth": [
           {
            "colorbar": {
             "outlinewidth": 0,
             "ticks": ""
            },
            "type": "choropleth"
           }
          ],
          "contour": [
           {
            "colorbar": {
             "outlinewidth": 0,
             "ticks": ""
            },
            "colorscale": [
             [
              0,
              "#0d0887"
             ],
             [
              0.1111111111111111,
              "#46039f"
             ],
             [
              0.2222222222222222,
              "#7201a8"
             ],
             [
              0.3333333333333333,
              "#9c179e"
             ],
             [
              0.4444444444444444,
              "#bd3786"
             ],
             [
              0.5555555555555556,
              "#d8576b"
             ],
             [
              0.6666666666666666,
              "#ed7953"
             ],
             [
              0.7777777777777778,
              "#fb9f3a"
             ],
             [
              0.8888888888888888,
              "#fdca26"
             ],
             [
              1,
              "#f0f921"
             ]
            ],
            "type": "contour"
           }
          ],
          "contourcarpet": [
           {
            "colorbar": {
             "outlinewidth": 0,
             "ticks": ""
            },
            "type": "contourcarpet"
           }
          ],
          "heatmap": [
           {
            "colorbar": {
             "outlinewidth": 0,
             "ticks": ""
            },
            "colorscale": [
             [
              0,
              "#0d0887"
             ],
             [
              0.1111111111111111,
              "#46039f"
             ],
             [
              0.2222222222222222,
              "#7201a8"
             ],
             [
              0.3333333333333333,
              "#9c179e"
             ],
             [
              0.4444444444444444,
              "#bd3786"
             ],
             [
              0.5555555555555556,
              "#d8576b"
             ],
             [
              0.6666666666666666,
              "#ed7953"
             ],
             [
              0.7777777777777778,
              "#fb9f3a"
             ],
             [
              0.8888888888888888,
              "#fdca26"
             ],
             [
              1,
              "#f0f921"
             ]
            ],
            "type": "heatmap"
           }
          ],
          "heatmapgl": [
           {
            "colorbar": {
             "outlinewidth": 0,
             "ticks": ""
            },
            "colorscale": [
             [
              0,
              "#0d0887"
             ],
             [
              0.1111111111111111,
              "#46039f"
             ],
             [
              0.2222222222222222,
              "#7201a8"
             ],
             [
              0.3333333333333333,
              "#9c179e"
             ],
             [
              0.4444444444444444,
              "#bd3786"
             ],
             [
              0.5555555555555556,
              "#d8576b"
             ],
             [
              0.6666666666666666,
              "#ed7953"
             ],
             [
              0.7777777777777778,
              "#fb9f3a"
             ],
             [
              0.8888888888888888,
              "#fdca26"
             ],
             [
              1,
              "#f0f921"
             ]
            ],
            "type": "heatmapgl"
           }
          ],
          "histogram": [
           {
            "marker": {
             "pattern": {
              "fillmode": "overlay",
              "size": 10,
              "solidity": 0.2
             }
            },
            "type": "histogram"
           }
          ],
          "histogram2d": [
           {
            "colorbar": {
             "outlinewidth": 0,
             "ticks": ""
            },
            "colorscale": [
             [
              0,
              "#0d0887"
             ],
             [
              0.1111111111111111,
              "#46039f"
             ],
             [
              0.2222222222222222,
              "#7201a8"
             ],
             [
              0.3333333333333333,
              "#9c179e"
             ],
             [
              0.4444444444444444,
              "#bd3786"
             ],
             [
              0.5555555555555556,
              "#d8576b"
             ],
             [
              0.6666666666666666,
              "#ed7953"
             ],
             [
              0.7777777777777778,
              "#fb9f3a"
             ],
             [
              0.8888888888888888,
              "#fdca26"
             ],
             [
              1,
              "#f0f921"
             ]
            ],
            "type": "histogram2d"
           }
          ],
          "histogram2dcontour": [
           {
            "colorbar": {
             "outlinewidth": 0,
             "ticks": ""
            },
            "colorscale": [
             [
              0,
              "#0d0887"
             ],
             [
              0.1111111111111111,
              "#46039f"
             ],
             [
              0.2222222222222222,
              "#7201a8"
             ],
             [
              0.3333333333333333,
              "#9c179e"
             ],
             [
              0.4444444444444444,
              "#bd3786"
             ],
             [
              0.5555555555555556,
              "#d8576b"
             ],
             [
              0.6666666666666666,
              "#ed7953"
             ],
             [
              0.7777777777777778,
              "#fb9f3a"
             ],
             [
              0.8888888888888888,
              "#fdca26"
             ],
             [
              1,
              "#f0f921"
             ]
            ],
            "type": "histogram2dcontour"
           }
          ],
          "mesh3d": [
           {
            "colorbar": {
             "outlinewidth": 0,
             "ticks": ""
            },
            "type": "mesh3d"
           }
          ],
          "parcoords": [
           {
            "line": {
             "colorbar": {
              "outlinewidth": 0,
              "ticks": ""
             }
            },
            "type": "parcoords"
           }
          ],
          "pie": [
           {
            "automargin": true,
            "type": "pie"
           }
          ],
          "scatter": [
           {
            "fillpattern": {
             "fillmode": "overlay",
             "size": 10,
             "solidity": 0.2
            },
            "type": "scatter"
           }
          ],
          "scatter3d": [
           {
            "line": {
             "colorbar": {
              "outlinewidth": 0,
              "ticks": ""
             }
            },
            "marker": {
             "colorbar": {
              "outlinewidth": 0,
              "ticks": ""
             }
            },
            "type": "scatter3d"
           }
          ],
          "scattercarpet": [
           {
            "marker": {
             "colorbar": {
              "outlinewidth": 0,
              "ticks": ""
             }
            },
            "type": "scattercarpet"
           }
          ],
          "scattergeo": [
           {
            "marker": {
             "colorbar": {
              "outlinewidth": 0,
              "ticks": ""
             }
            },
            "type": "scattergeo"
           }
          ],
          "scattergl": [
           {
            "marker": {
             "colorbar": {
              "outlinewidth": 0,
              "ticks": ""
             }
            },
            "type": "scattergl"
           }
          ],
          "scattermapbox": [
           {
            "marker": {
             "colorbar": {
              "outlinewidth": 0,
              "ticks": ""
             }
            },
            "type": "scattermapbox"
           }
          ],
          "scatterpolar": [
           {
            "marker": {
             "colorbar": {
              "outlinewidth": 0,
              "ticks": ""
             }
            },
            "type": "scatterpolar"
           }
          ],
          "scatterpolargl": [
           {
            "marker": {
             "colorbar": {
              "outlinewidth": 0,
              "ticks": ""
             }
            },
            "type": "scatterpolargl"
           }
          ],
          "scatterternary": [
           {
            "marker": {
             "colorbar": {
              "outlinewidth": 0,
              "ticks": ""
             }
            },
            "type": "scatterternary"
           }
          ],
          "surface": [
           {
            "colorbar": {
             "outlinewidth": 0,
             "ticks": ""
            },
            "colorscale": [
             [
              0,
              "#0d0887"
             ],
             [
              0.1111111111111111,
              "#46039f"
             ],
             [
              0.2222222222222222,
              "#7201a8"
             ],
             [
              0.3333333333333333,
              "#9c179e"
             ],
             [
              0.4444444444444444,
              "#bd3786"
             ],
             [
              0.5555555555555556,
              "#d8576b"
             ],
             [
              0.6666666666666666,
              "#ed7953"
             ],
             [
              0.7777777777777778,
              "#fb9f3a"
             ],
             [
              0.8888888888888888,
              "#fdca26"
             ],
             [
              1,
              "#f0f921"
             ]
            ],
            "type": "surface"
           }
          ],
          "table": [
           {
            "cells": {
             "fill": {
              "color": "#EBF0F8"
             },
             "line": {
              "color": "white"
             }
            },
            "header": {
             "fill": {
              "color": "#C8D4E3"
             },
             "line": {
              "color": "white"
             }
            },
            "type": "table"
           }
          ]
         },
         "layout": {
          "annotationdefaults": {
           "arrowcolor": "#2a3f5f",
           "arrowhead": 0,
           "arrowwidth": 1
          },
          "autotypenumbers": "strict",
          "coloraxis": {
           "colorbar": {
            "outlinewidth": 0,
            "ticks": ""
           }
          },
          "colorscale": {
           "diverging": [
            [
             0,
             "#8e0152"
            ],
            [
             0.1,
             "#c51b7d"
            ],
            [
             0.2,
             "#de77ae"
            ],
            [
             0.3,
             "#f1b6da"
            ],
            [
             0.4,
             "#fde0ef"
            ],
            [
             0.5,
             "#f7f7f7"
            ],
            [
             0.6,
             "#e6f5d0"
            ],
            [
             0.7,
             "#b8e186"
            ],
            [
             0.8,
             "#7fbc41"
            ],
            [
             0.9,
             "#4d9221"
            ],
            [
             1,
             "#276419"
            ]
           ],
           "sequential": [
            [
             0,
             "#0d0887"
            ],
            [
             0.1111111111111111,
             "#46039f"
            ],
            [
             0.2222222222222222,
             "#7201a8"
            ],
            [
             0.3333333333333333,
             "#9c179e"
            ],
            [
             0.4444444444444444,
             "#bd3786"
            ],
            [
             0.5555555555555556,
             "#d8576b"
            ],
            [
             0.6666666666666666,
             "#ed7953"
            ],
            [
             0.7777777777777778,
             "#fb9f3a"
            ],
            [
             0.8888888888888888,
             "#fdca26"
            ],
            [
             1,
             "#f0f921"
            ]
           ],
           "sequentialminus": [
            [
             0,
             "#0d0887"
            ],
            [
             0.1111111111111111,
             "#46039f"
            ],
            [
             0.2222222222222222,
             "#7201a8"
            ],
            [
             0.3333333333333333,
             "#9c179e"
            ],
            [
             0.4444444444444444,
             "#bd3786"
            ],
            [
             0.5555555555555556,
             "#d8576b"
            ],
            [
             0.6666666666666666,
             "#ed7953"
            ],
            [
             0.7777777777777778,
             "#fb9f3a"
            ],
            [
             0.8888888888888888,
             "#fdca26"
            ],
            [
             1,
             "#f0f921"
            ]
           ]
          },
          "colorway": [
           "#636efa",
           "#EF553B",
           "#00cc96",
           "#ab63fa",
           "#FFA15A",
           "#19d3f3",
           "#FF6692",
           "#B6E880",
           "#FF97FF",
           "#FECB52"
          ],
          "font": {
           "color": "#2a3f5f"
          },
          "geo": {
           "bgcolor": "white",
           "lakecolor": "white",
           "landcolor": "#E5ECF6",
           "showlakes": true,
           "showland": true,
           "subunitcolor": "white"
          },
          "hoverlabel": {
           "align": "left"
          },
          "hovermode": "closest",
          "mapbox": {
           "style": "light"
          },
          "paper_bgcolor": "white",
          "plot_bgcolor": "#E5ECF6",
          "polar": {
           "angularaxis": {
            "gridcolor": "white",
            "linecolor": "white",
            "ticks": ""
           },
           "bgcolor": "#E5ECF6",
           "radialaxis": {
            "gridcolor": "white",
            "linecolor": "white",
            "ticks": ""
           }
          },
          "scene": {
           "xaxis": {
            "backgroundcolor": "#E5ECF6",
            "gridcolor": "white",
            "gridwidth": 2,
            "linecolor": "white",
            "showbackground": true,
            "ticks": "",
            "zerolinecolor": "white"
           },
           "yaxis": {
            "backgroundcolor": "#E5ECF6",
            "gridcolor": "white",
            "gridwidth": 2,
            "linecolor": "white",
            "showbackground": true,
            "ticks": "",
            "zerolinecolor": "white"
           },
           "zaxis": {
            "backgroundcolor": "#E5ECF6",
            "gridcolor": "white",
            "gridwidth": 2,
            "linecolor": "white",
            "showbackground": true,
            "ticks": "",
            "zerolinecolor": "white"
           }
          },
          "shapedefaults": {
           "line": {
            "color": "#2a3f5f"
           }
          },
          "ternary": {
           "aaxis": {
            "gridcolor": "white",
            "linecolor": "white",
            "ticks": ""
           },
           "baxis": {
            "gridcolor": "white",
            "linecolor": "white",
            "ticks": ""
           },
           "bgcolor": "#E5ECF6",
           "caxis": {
            "gridcolor": "white",
            "linecolor": "white",
            "ticks": ""
           }
          },
          "title": {
           "x": 0.05
          },
          "xaxis": {
           "automargin": true,
           "gridcolor": "white",
           "linecolor": "white",
           "ticks": "",
           "title": {
            "standoff": 15
           },
           "zerolinecolor": "white",
           "zerolinewidth": 2
          },
          "yaxis": {
           "automargin": true,
           "gridcolor": "white",
           "linecolor": "white",
           "ticks": "",
           "title": {
            "standoff": 15
           },
           "zerolinecolor": "white",
           "zerolinewidth": 2
          }
         }
        },
        "xaxis": {
         "anchor": "y",
         "domain": [
          0,
          1
         ],
         "title": {
          "text": "num_gene_records"
         }
        },
        "yaxis": {
         "anchor": "x",
         "domain": [
          0,
          1
         ],
         "title": {
          "text": "percent_collision_symbol"
         }
        }
       }
      }
     },
     "metadata": {},
     "output_type": "display_data"
    }
   ],
   "source": [
    "create_aa_collision_histogram(aa_collision_gene_hgnc_df, \"HGNC\", hgnc_alias_count)"
   ]
  },
  {
   "cell_type": "code",
   "execution_count": 29,
   "metadata": {},
   "outputs": [],
   "source": [
    "aa_collision_hgnc_count_df = pd.read_csv(\n",
    "    \"../created_files/aa_collision_hgnc_count_df.csv\", index_col=[0])"
   ]
  },
  {
   "cell_type": "code",
   "execution_count": 30,
   "metadata": {},
   "outputs": [],
   "source": [
    "aa_collision_hgnc_distribution_df = pd.read_csv(\n",
    "    \"../created_files/aa_collision_hgnc_distribution_df.csv\", index_col=[0])"
   ]
  },
  {
   "cell_type": "code",
   "execution_count": 31,
   "metadata": {},
   "outputs": [],
   "source": [
    "hgnc_alias_count_histogram_df = pd.read_csv(\n",
    "    \"../created_files/hgnc_alias_count_histogram_df.csv\", index_col=[0])"
   ]
  },
  {
   "cell_type": "markdown",
   "metadata": {},
   "source": [
    "# <a id='toc3_'></a>[NCBI Info](#toc0_)"
   ]
  },
  {
   "cell_type": "code",
   "execution_count": 32,
   "metadata": {},
   "outputs": [
    {
     "data": {
      "text/html": [
       "<div>\n",
       "<style scoped>\n",
       "    .dataframe tbody tr th:only-of-type {\n",
       "        vertical-align: middle;\n",
       "    }\n",
       "\n",
       "    .dataframe tbody tr th {\n",
       "        vertical-align: top;\n",
       "    }\n",
       "\n",
       "    .dataframe thead th {\n",
       "        text-align: right;\n",
       "    }\n",
       "</style>\n",
       "<table border=\"1\" class=\"dataframe\">\n",
       "  <thead>\n",
       "    <tr style=\"text-align: right;\">\n",
       "      <th></th>\n",
       "      <th>Unnamed: 0</th>\n",
       "      <th>NCBI_ID</th>\n",
       "      <th>gene_symbol</th>\n",
       "      <th>alias_symbol</th>\n",
       "      <th>HGNC_ID</th>\n",
       "      <th>ENSG_ID</th>\n",
       "    </tr>\n",
       "  </thead>\n",
       "  <tbody>\n",
       "    <tr>\n",
       "      <th>0</th>\n",
       "      <td>0</td>\n",
       "      <td>1</td>\n",
       "      <td>A1BG</td>\n",
       "      <td>A1B</td>\n",
       "      <td>5</td>\n",
       "      <td>ENSG00000121410</td>\n",
       "    </tr>\n",
       "    <tr>\n",
       "      <th>1</th>\n",
       "      <td>0</td>\n",
       "      <td>1</td>\n",
       "      <td>A1BG</td>\n",
       "      <td>ABG</td>\n",
       "      <td>5</td>\n",
       "      <td>ENSG00000121410</td>\n",
       "    </tr>\n",
       "    <tr>\n",
       "      <th>2</th>\n",
       "      <td>0</td>\n",
       "      <td>1</td>\n",
       "      <td>A1BG</td>\n",
       "      <td>GAB</td>\n",
       "      <td>5</td>\n",
       "      <td>ENSG00000121410</td>\n",
       "    </tr>\n",
       "    <tr>\n",
       "      <th>3</th>\n",
       "      <td>0</td>\n",
       "      <td>1</td>\n",
       "      <td>A1BG</td>\n",
       "      <td>HYST2477</td>\n",
       "      <td>5</td>\n",
       "      <td>ENSG00000121410</td>\n",
       "    </tr>\n",
       "    <tr>\n",
       "      <th>4</th>\n",
       "      <td>1</td>\n",
       "      <td>2</td>\n",
       "      <td>A2M</td>\n",
       "      <td>A2MD</td>\n",
       "      <td>7</td>\n",
       "      <td>ENSG00000175899</td>\n",
       "    </tr>\n",
       "    <tr>\n",
       "      <th>...</th>\n",
       "      <td>...</td>\n",
       "      <td>...</td>\n",
       "      <td>...</td>\n",
       "      <td>...</td>\n",
       "      <td>...</td>\n",
       "      <td>...</td>\n",
       "    </tr>\n",
       "    <tr>\n",
       "      <th>239924</th>\n",
       "      <td>193451</td>\n",
       "      <td>8923215</td>\n",
       "      <td>trnD</td>\n",
       "      <td>-</td>\n",
       "      <td>&lt;NA&gt;</td>\n",
       "      <td>NaN</td>\n",
       "    </tr>\n",
       "    <tr>\n",
       "      <th>239925</th>\n",
       "      <td>193452</td>\n",
       "      <td>8923216</td>\n",
       "      <td>trnP</td>\n",
       "      <td>-</td>\n",
       "      <td>&lt;NA&gt;</td>\n",
       "      <td>NaN</td>\n",
       "    </tr>\n",
       "    <tr>\n",
       "      <th>239926</th>\n",
       "      <td>193453</td>\n",
       "      <td>8923217</td>\n",
       "      <td>trnA</td>\n",
       "      <td>-</td>\n",
       "      <td>&lt;NA&gt;</td>\n",
       "      <td>NaN</td>\n",
       "    </tr>\n",
       "    <tr>\n",
       "      <th>239927</th>\n",
       "      <td>193454</td>\n",
       "      <td>8923218</td>\n",
       "      <td>COX1</td>\n",
       "      <td>-</td>\n",
       "      <td>&lt;NA&gt;</td>\n",
       "      <td>NaN</td>\n",
       "    </tr>\n",
       "    <tr>\n",
       "      <th>239928</th>\n",
       "      <td>193455</td>\n",
       "      <td>8923219</td>\n",
       "      <td>16S rRNA</td>\n",
       "      <td>-</td>\n",
       "      <td>&lt;NA&gt;</td>\n",
       "      <td>NaN</td>\n",
       "    </tr>\n",
       "  </tbody>\n",
       "</table>\n",
       "<p>239929 rows × 6 columns</p>\n",
       "</div>"
      ],
      "text/plain": [
       "        Unnamed: 0  NCBI_ID gene_symbol alias_symbol  HGNC_ID          ENSG_ID\n",
       "0                0        1        A1BG          A1B        5  ENSG00000121410\n",
       "1                0        1        A1BG          ABG        5  ENSG00000121410\n",
       "2                0        1        A1BG          GAB        5  ENSG00000121410\n",
       "3                0        1        A1BG     HYST2477        5  ENSG00000121410\n",
       "4                1        2         A2M         A2MD        7  ENSG00000175899\n",
       "...            ...      ...         ...          ...      ...              ...\n",
       "239924      193451  8923215        trnD            -     <NA>              NaN\n",
       "239925      193452  8923216        trnP            -     <NA>              NaN\n",
       "239926      193453  8923217        trnA            -     <NA>              NaN\n",
       "239927      193454  8923218        COX1            -     <NA>              NaN\n",
       "239928      193455  8923219    16S rRNA            -     <NA>              NaN\n",
       "\n",
       "[239929 rows x 6 columns]"
      ]
     },
     "execution_count": 32,
     "metadata": {},
     "output_type": "execute_result"
    }
   ],
   "source": [
    "mini_ncbi_df = pd.read_csv(\n",
    "    \"../created_files/mini_ncbi_df.csv\",\n",
    "    dtype={\"HGNC_ID\": pd.Int64Dtype(), \"NCBI_ID\": pd.Int64Dtype()},\n",
    ")\n",
    "mini_ncbi_df"
   ]
  },
  {
   "cell_type": "code",
   "execution_count": 33,
   "metadata": {},
   "outputs": [
    {
     "data": {
      "text/html": [
       "<div>\n",
       "<style scoped>\n",
       "    .dataframe tbody tr th:only-of-type {\n",
       "        vertical-align: middle;\n",
       "    }\n",
       "\n",
       "    .dataframe tbody tr th {\n",
       "        vertical-align: top;\n",
       "    }\n",
       "\n",
       "    .dataframe thead th {\n",
       "        text-align: right;\n",
       "    }\n",
       "</style>\n",
       "<table border=\"1\" class=\"dataframe\">\n",
       "  <thead>\n",
       "    <tr style=\"text-align: right;\">\n",
       "      <th></th>\n",
       "      <th>NCBI_ID</th>\n",
       "      <th>gene_symbol</th>\n",
       "      <th>alias_symbol</th>\n",
       "      <th>HGNC_ID</th>\n",
       "      <th>ENSG_ID</th>\n",
       "    </tr>\n",
       "  </thead>\n",
       "  <tbody>\n",
       "    <tr>\n",
       "      <th>0</th>\n",
       "      <td>1</td>\n",
       "      <td>A1BG</td>\n",
       "      <td>A1B</td>\n",
       "      <td>5.0</td>\n",
       "      <td>ENSG00000121410</td>\n",
       "    </tr>\n",
       "    <tr>\n",
       "      <th>0</th>\n",
       "      <td>1</td>\n",
       "      <td>A1BG</td>\n",
       "      <td>ABG</td>\n",
       "      <td>5.0</td>\n",
       "      <td>ENSG00000121410</td>\n",
       "    </tr>\n",
       "    <tr>\n",
       "      <th>0</th>\n",
       "      <td>1</td>\n",
       "      <td>A1BG</td>\n",
       "      <td>GAB</td>\n",
       "      <td>5.0</td>\n",
       "      <td>ENSG00000121410</td>\n",
       "    </tr>\n",
       "    <tr>\n",
       "      <th>0</th>\n",
       "      <td>1</td>\n",
       "      <td>A1BG</td>\n",
       "      <td>HYST2477</td>\n",
       "      <td>5.0</td>\n",
       "      <td>ENSG00000121410</td>\n",
       "    </tr>\n",
       "    <tr>\n",
       "      <th>1</th>\n",
       "      <td>2</td>\n",
       "      <td>A2M</td>\n",
       "      <td>A2MD</td>\n",
       "      <td>7.0</td>\n",
       "      <td>ENSG00000175899</td>\n",
       "    </tr>\n",
       "    <tr>\n",
       "      <th>...</th>\n",
       "      <td>...</td>\n",
       "      <td>...</td>\n",
       "      <td>...</td>\n",
       "      <td>...</td>\n",
       "      <td>...</td>\n",
       "    </tr>\n",
       "    <tr>\n",
       "      <th>190961</th>\n",
       "      <td>131840634</td>\n",
       "      <td>GLTC1</td>\n",
       "      <td>GLTC</td>\n",
       "      <td>56861.0</td>\n",
       "      <td>NaN</td>\n",
       "    </tr>\n",
       "    <tr>\n",
       "      <th>193342</th>\n",
       "      <td>132532400</td>\n",
       "      <td>GABRA6-AS1</td>\n",
       "      <td>ARBAG</td>\n",
       "      <td>40248.0</td>\n",
       "      <td>NaN</td>\n",
       "    </tr>\n",
       "    <tr>\n",
       "      <th>193377</th>\n",
       "      <td>133395150</td>\n",
       "      <td>LNCARGI</td>\n",
       "      <td>ARGI</td>\n",
       "      <td>56890.0</td>\n",
       "      <td>NaN</td>\n",
       "    </tr>\n",
       "    <tr>\n",
       "      <th>193378</th>\n",
       "      <td>133834869</td>\n",
       "      <td>MLDHR</td>\n",
       "      <td>MP31</td>\n",
       "      <td>55481.0</td>\n",
       "      <td>NaN</td>\n",
       "    </tr>\n",
       "    <tr>\n",
       "      <th>193378</th>\n",
       "      <td>133834869</td>\n",
       "      <td>MLDHR</td>\n",
       "      <td>PTENURF</td>\n",
       "      <td>55481.0</td>\n",
       "      <td>NaN</td>\n",
       "    </tr>\n",
       "  </tbody>\n",
       "</table>\n",
       "<p>74051 rows × 5 columns</p>\n",
       "</div>"
      ],
      "text/plain": [
       "          NCBI_ID gene_symbol alias_symbol  HGNC_ID          ENSG_ID\n",
       "0               1        A1BG          A1B      5.0  ENSG00000121410\n",
       "0               1        A1BG          ABG      5.0  ENSG00000121410\n",
       "0               1        A1BG          GAB      5.0  ENSG00000121410\n",
       "0               1        A1BG     HYST2477      5.0  ENSG00000121410\n",
       "1               2         A2M         A2MD      7.0  ENSG00000175899\n",
       "...           ...         ...          ...      ...              ...\n",
       "190961  131840634       GLTC1         GLTC  56861.0              NaN\n",
       "193342  132532400  GABRA6-AS1        ARBAG  40248.0              NaN\n",
       "193377  133395150     LNCARGI         ARGI  56890.0              NaN\n",
       "193378  133834869       MLDHR         MP31  55481.0              NaN\n",
       "193378  133834869       MLDHR      PTENURF  55481.0              NaN\n",
       "\n",
       "[74051 rows x 5 columns]"
      ]
     },
     "execution_count": 33,
     "metadata": {},
     "output_type": "execute_result"
    }
   ],
   "source": [
    "subset_genes_ncbi_df = pd.read_csv(\n",
    "    \"../created_files/subset_genes_ncbi_df.csv\", index_col=[0])\n",
    "subset_genes_ncbi_df"
   ]
  },
  {
   "cell_type": "code",
   "execution_count": 34,
   "metadata": {},
   "outputs": [
    {
     "name": "stderr",
     "output_type": "stream",
     "text": [
      "/var/folders/vt/znzp_c6s02q6kjcmqfk0cb500000gq/T/ipykernel_92591/1280557483.py:1: DtypeWarning:\n",
      "\n",
      "Columns (1) have mixed types. Specify dtype option on import or set low_memory=False.\n",
      "\n"
     ]
    },
    {
     "data": {
      "text/html": [
       "<div>\n",
       "<style scoped>\n",
       "    .dataframe tbody tr th:only-of-type {\n",
       "        vertical-align: middle;\n",
       "    }\n",
       "\n",
       "    .dataframe tbody tr th {\n",
       "        vertical-align: top;\n",
       "    }\n",
       "\n",
       "    .dataframe thead th {\n",
       "        text-align: right;\n",
       "    }\n",
       "</style>\n",
       "<table border=\"1\" class=\"dataframe\">\n",
       "  <thead>\n",
       "    <tr style=\"text-align: right;\">\n",
       "      <th></th>\n",
       "      <th>ENSG_ID</th>\n",
       "      <th>gene_symbol</th>\n",
       "      <th>HGNC_ID</th>\n",
       "      <th>alias_symbol</th>\n",
       "    </tr>\n",
       "  </thead>\n",
       "  <tbody>\n",
       "    <tr>\n",
       "      <th>0</th>\n",
       "      <td>ENSG00000000003</td>\n",
       "      <td>TSPAN6</td>\n",
       "      <td>11858.0</td>\n",
       "      <td>T245,TM4SF6,TSPAN-6</td>\n",
       "    </tr>\n",
       "    <tr>\n",
       "      <th>1</th>\n",
       "      <td>ENSG00000000005</td>\n",
       "      <td>TNMD</td>\n",
       "      <td>17757.0</td>\n",
       "      <td>BRICD4,CHM1L,TEM</td>\n",
       "    </tr>\n",
       "    <tr>\n",
       "      <th>2</th>\n",
       "      <td>ENSG00000000419</td>\n",
       "      <td>DPM1</td>\n",
       "      <td>3005.0</td>\n",
       "      <td>CDGIE,MPDS</td>\n",
       "    </tr>\n",
       "    <tr>\n",
       "      <th>3</th>\n",
       "      <td>ENSG00000000457</td>\n",
       "      <td>SCYL3</td>\n",
       "      <td>19285.0</td>\n",
       "      <td>PACE-1,PACE1</td>\n",
       "    </tr>\n",
       "    <tr>\n",
       "      <th>4</th>\n",
       "      <td>ENSG00000000460</td>\n",
       "      <td>FIRRM</td>\n",
       "      <td>25565.0</td>\n",
       "      <td>Apolo1,C1orf112,FLIP,MEICA1</td>\n",
       "    </tr>\n",
       "    <tr>\n",
       "      <th>...</th>\n",
       "      <td>...</td>\n",
       "      <td>...</td>\n",
       "      <td>...</td>\n",
       "      <td>...</td>\n",
       "    </tr>\n",
       "    <tr>\n",
       "      <th>193316</th>\n",
       "      <td>NaN</td>\n",
       "      <td>trnS</td>\n",
       "      <td>NaN</td>\n",
       "      <td>-,-,-,-</td>\n",
       "    </tr>\n",
       "    <tr>\n",
       "      <th>193317</th>\n",
       "      <td>NaN</td>\n",
       "      <td>trnT</td>\n",
       "      <td>NaN</td>\n",
       "      <td>-,-</td>\n",
       "    </tr>\n",
       "    <tr>\n",
       "      <th>193318</th>\n",
       "      <td>NaN</td>\n",
       "      <td>trnV</td>\n",
       "      <td>NaN</td>\n",
       "      <td>-,-</td>\n",
       "    </tr>\n",
       "    <tr>\n",
       "      <th>193319</th>\n",
       "      <td>NaN</td>\n",
       "      <td>trnW</td>\n",
       "      <td>NaN</td>\n",
       "      <td>-,-</td>\n",
       "    </tr>\n",
       "    <tr>\n",
       "      <th>193320</th>\n",
       "      <td>NaN</td>\n",
       "      <td>trnY</td>\n",
       "      <td>NaN</td>\n",
       "      <td>-,-</td>\n",
       "    </tr>\n",
       "  </tbody>\n",
       "</table>\n",
       "<p>193321 rows × 4 columns</p>\n",
       "</div>"
      ],
      "text/plain": [
       "                ENSG_ID gene_symbol  HGNC_ID                 alias_symbol\n",
       "0       ENSG00000000003      TSPAN6  11858.0          T245,TM4SF6,TSPAN-6\n",
       "1       ENSG00000000005        TNMD  17757.0             BRICD4,CHM1L,TEM\n",
       "2       ENSG00000000419        DPM1   3005.0                   CDGIE,MPDS\n",
       "3       ENSG00000000457       SCYL3  19285.0                 PACE-1,PACE1\n",
       "4       ENSG00000000460       FIRRM  25565.0  Apolo1,C1orf112,FLIP,MEICA1\n",
       "...                 ...         ...      ...                          ...\n",
       "193316              NaN        trnS      NaN                      -,-,-,-\n",
       "193317              NaN        trnT      NaN                          -,-\n",
       "193318              NaN        trnV      NaN                          -,-\n",
       "193319              NaN        trnW      NaN                          -,-\n",
       "193320              NaN        trnY      NaN                          -,-\n",
       "\n",
       "[193321 rows x 4 columns]"
      ]
     },
     "execution_count": 34,
     "metadata": {},
     "output_type": "execute_result"
    }
   ],
   "source": [
    "merged_alias_ncbi_df = pd.read_csv(\n",
    "    \"../created_files/merged_alias_ncbi_df.csv\", index_col=[0])\n",
    "merged_alias_ncbi_df"
   ]
  },
  {
   "cell_type": "markdown",
   "metadata": {},
   "source": [
    "### <a id='toc3_1_1_'></a>[How many total unique gene records are there in NCBI Gene](#toc0_)"
   ]
  },
  {
   "cell_type": "markdown",
   "metadata": {},
   "source": [
    "By ENSG ID"
   ]
  },
  {
   "cell_type": "code",
   "execution_count": 35,
   "metadata": {},
   "outputs": [
    {
     "data": {
      "text/plain": [
       "36803"
      ]
     },
     "execution_count": 35,
     "metadata": {},
     "output_type": "execute_result"
    }
   ],
   "source": [
    "ncbi_gene_id_set = set(mini_ncbi_df[\"ENSG_ID\"])\n",
    "len(ncbi_gene_id_set)"
   ]
  },
  {
   "cell_type": "markdown",
   "metadata": {},
   "source": [
    "### <a id='toc3_1_2_'></a>[Identify alias-alias collision symbols](#toc0_)"
   ]
  },
  {
   "cell_type": "code",
   "execution_count": 36,
   "metadata": {},
   "outputs": [
    {
     "data": {
      "text/plain": [
       "(   NCBI_ID gene_symbol alias_symbol  HGNC_ID          ENSG_ID\n",
       " 0        1        A1BG          A1B      5.0  ENSG00000121410\n",
       " 0        1        A1BG          ABG      5.0  ENSG00000121410\n",
       " 0        1        A1BG          GAB      5.0  ENSG00000121410\n",
       " 0        1        A1BG     HYST2477      5.0  ENSG00000121410\n",
       " 1        2         A2M         A2MD      7.0  ENSG00000175899,\n",
       "   gene_symbol                                       alias_symbol  \\\n",
       " 0        PTEN  10q23del,BZS,CWS1,DEC,GLM2,MHAM,MMAC1,PTEN1,PT...   \n",
       " 1      BMPR1A     10q23del,ACVRLK3,ALK-3,ALK3,BMPR-1A,CD292,SKR5   \n",
       " 2      ALOX15                       12-LOX,15-LOX,15-LOX-1,LOG15   \n",
       " 3      ALOX12                               12-LOX,12S-LOX,LOG12   \n",
       " 4      AKR1C1  2-ALPHA-HSD,20-ALPHA-HSD,C9,DD1,DD1/DD2,DDH,DD...   \n",
       " \n",
       "            ENSG_ID  HGNC_ID  NCBI_ID     collision source  \n",
       " 0  ENSG00000171862   9588.0     5728      10Q23DEL   NCBI  \n",
       " 1  ENSG00000107779   1076.0      657      10Q23DEL   NCBI  \n",
       " 2  ENSG00000161905    433.0      246        12-LOX   NCBI  \n",
       " 3  ENSG00000108839    429.0      239        12-LOX   NCBI  \n",
       " 4  ENSG00000187134    384.0     1645  20-ALPHA-HSD   NCBI  ,\n",
       "       collision                           ENSG_ID      gene_symbol source\n",
       " 0      10Q23DEL  ENSG00000171862, ENSG00000107779     PTEN, BMPR1A   NCBI\n",
       " 1        12-LOX  ENSG00000161905, ENSG00000108839   ALOX15, ALOX12   NCBI\n",
       " 2  20-ALPHA-HSD  ENSG00000187134, ENSG00000108786  AKR1C1, HSD17B1   NCBI\n",
       " 3           2F1  ENSG00000139187, ENSG00000005022   KLRG1, SLC25A5   NCBI\n",
       " 4   3-ALPHA-HSD  ENSG00000198610, ENSG00000073737    AKR1C4, DHRS9   NCBI)"
      ]
     },
     "execution_count": 36,
     "metadata": {},
     "output_type": "execute_result"
    }
   ],
   "source": [
    "create_aa_collision_df(subset_genes_ncbi_df, merged_alias_ncbi_df, source=\"NCBI\")"
   ]
  },
  {
   "cell_type": "code",
   "execution_count": 37,
   "metadata": {},
   "outputs": [
    {
     "data": {
      "text/html": [
       "<div>\n",
       "<style scoped>\n",
       "    .dataframe tbody tr th:only-of-type {\n",
       "        vertical-align: middle;\n",
       "    }\n",
       "\n",
       "    .dataframe tbody tr th {\n",
       "        vertical-align: top;\n",
       "    }\n",
       "\n",
       "    .dataframe thead th {\n",
       "        text-align: right;\n",
       "    }\n",
       "</style>\n",
       "<table border=\"1\" class=\"dataframe\">\n",
       "  <thead>\n",
       "    <tr style=\"text-align: right;\">\n",
       "      <th></th>\n",
       "      <th>NCBI_ID</th>\n",
       "      <th>gene_symbol</th>\n",
       "      <th>alias_symbol</th>\n",
       "      <th>HGNC_ID</th>\n",
       "      <th>ENSG_ID</th>\n",
       "    </tr>\n",
       "  </thead>\n",
       "  <tbody>\n",
       "    <tr>\n",
       "      <th>0</th>\n",
       "      <td>1</td>\n",
       "      <td>A1BG</td>\n",
       "      <td>A1B</td>\n",
       "      <td>5.0</td>\n",
       "      <td>ENSG00000121410</td>\n",
       "    </tr>\n",
       "    <tr>\n",
       "      <th>0</th>\n",
       "      <td>1</td>\n",
       "      <td>A1BG</td>\n",
       "      <td>ABG</td>\n",
       "      <td>5.0</td>\n",
       "      <td>ENSG00000121410</td>\n",
       "    </tr>\n",
       "    <tr>\n",
       "      <th>0</th>\n",
       "      <td>1</td>\n",
       "      <td>A1BG</td>\n",
       "      <td>GAB</td>\n",
       "      <td>5.0</td>\n",
       "      <td>ENSG00000121410</td>\n",
       "    </tr>\n",
       "    <tr>\n",
       "      <th>0</th>\n",
       "      <td>1</td>\n",
       "      <td>A1BG</td>\n",
       "      <td>HYST2477</td>\n",
       "      <td>5.0</td>\n",
       "      <td>ENSG00000121410</td>\n",
       "    </tr>\n",
       "    <tr>\n",
       "      <th>1</th>\n",
       "      <td>2</td>\n",
       "      <td>A2M</td>\n",
       "      <td>A2MD</td>\n",
       "      <td>7.0</td>\n",
       "      <td>ENSG00000175899</td>\n",
       "    </tr>\n",
       "    <tr>\n",
       "      <th>...</th>\n",
       "      <td>...</td>\n",
       "      <td>...</td>\n",
       "      <td>...</td>\n",
       "      <td>...</td>\n",
       "      <td>...</td>\n",
       "    </tr>\n",
       "    <tr>\n",
       "      <th>190961</th>\n",
       "      <td>131840634</td>\n",
       "      <td>GLTC1</td>\n",
       "      <td>GLTC</td>\n",
       "      <td>56861.0</td>\n",
       "      <td>NaN</td>\n",
       "    </tr>\n",
       "    <tr>\n",
       "      <th>193342</th>\n",
       "      <td>132532400</td>\n",
       "      <td>GABRA6-AS1</td>\n",
       "      <td>ARBAG</td>\n",
       "      <td>40248.0</td>\n",
       "      <td>NaN</td>\n",
       "    </tr>\n",
       "    <tr>\n",
       "      <th>193377</th>\n",
       "      <td>133395150</td>\n",
       "      <td>LNCARGI</td>\n",
       "      <td>ARGI</td>\n",
       "      <td>56890.0</td>\n",
       "      <td>NaN</td>\n",
       "    </tr>\n",
       "    <tr>\n",
       "      <th>193378</th>\n",
       "      <td>133834869</td>\n",
       "      <td>MLDHR</td>\n",
       "      <td>MP31</td>\n",
       "      <td>55481.0</td>\n",
       "      <td>NaN</td>\n",
       "    </tr>\n",
       "    <tr>\n",
       "      <th>193378</th>\n",
       "      <td>133834869</td>\n",
       "      <td>MLDHR</td>\n",
       "      <td>PTENURF</td>\n",
       "      <td>55481.0</td>\n",
       "      <td>NaN</td>\n",
       "    </tr>\n",
       "  </tbody>\n",
       "</table>\n",
       "<p>74051 rows × 5 columns</p>\n",
       "</div>"
      ],
      "text/plain": [
       "          NCBI_ID gene_symbol alias_symbol  HGNC_ID          ENSG_ID\n",
       "0               1        A1BG          A1B      5.0  ENSG00000121410\n",
       "0               1        A1BG          ABG      5.0  ENSG00000121410\n",
       "0               1        A1BG          GAB      5.0  ENSG00000121410\n",
       "0               1        A1BG     HYST2477      5.0  ENSG00000121410\n",
       "1               2         A2M         A2MD      7.0  ENSG00000175899\n",
       "...           ...         ...          ...      ...              ...\n",
       "190961  131840634       GLTC1         GLTC  56861.0              NaN\n",
       "193342  132532400  GABRA6-AS1        ARBAG  40248.0              NaN\n",
       "193377  133395150     LNCARGI         ARGI  56890.0              NaN\n",
       "193378  133834869       MLDHR         MP31  55481.0              NaN\n",
       "193378  133834869       MLDHR      PTENURF  55481.0              NaN\n",
       "\n",
       "[74051 rows x 5 columns]"
      ]
     },
     "execution_count": 37,
     "metadata": {},
     "output_type": "execute_result"
    }
   ],
   "source": [
    "subset_genes_ncbi_df = pd.read_csv(\n",
    "    \"../created_files/subset_genes_ncbi_df.csv\", index_col=[0])\n",
    "subset_genes_ncbi_df"
   ]
  },
  {
   "cell_type": "code",
   "execution_count": 38,
   "metadata": {},
   "outputs": [
    {
     "data": {
      "text/html": [
       "<div>\n",
       "<style scoped>\n",
       "    .dataframe tbody tr th:only-of-type {\n",
       "        vertical-align: middle;\n",
       "    }\n",
       "\n",
       "    .dataframe tbody tr th {\n",
       "        vertical-align: top;\n",
       "    }\n",
       "\n",
       "    .dataframe thead th {\n",
       "        text-align: right;\n",
       "    }\n",
       "</style>\n",
       "<table border=\"1\" class=\"dataframe\">\n",
       "  <thead>\n",
       "    <tr style=\"text-align: right;\">\n",
       "      <th></th>\n",
       "      <th>gene_symbol</th>\n",
       "      <th>alias_symbol</th>\n",
       "      <th>ENSG_ID</th>\n",
       "      <th>HGNC_ID</th>\n",
       "      <th>NCBI_ID</th>\n",
       "      <th>collision</th>\n",
       "      <th>source</th>\n",
       "    </tr>\n",
       "  </thead>\n",
       "  <tbody>\n",
       "    <tr>\n",
       "      <th>0</th>\n",
       "      <td>PTEN</td>\n",
       "      <td>10q23del,BZS,CWS1,DEC,GLM2,MHAM,MMAC1,PTEN1,PT...</td>\n",
       "      <td>ENSG00000171862</td>\n",
       "      <td>9588.0</td>\n",
       "      <td>5728</td>\n",
       "      <td>10Q23DEL</td>\n",
       "      <td>NCBI</td>\n",
       "    </tr>\n",
       "    <tr>\n",
       "      <th>1</th>\n",
       "      <td>BMPR1A</td>\n",
       "      <td>10q23del,ACVRLK3,ALK-3,ALK3,BMPR-1A,CD292,SKR5</td>\n",
       "      <td>ENSG00000107779</td>\n",
       "      <td>1076.0</td>\n",
       "      <td>657</td>\n",
       "      <td>10Q23DEL</td>\n",
       "      <td>NCBI</td>\n",
       "    </tr>\n",
       "    <tr>\n",
       "      <th>2</th>\n",
       "      <td>ALOX15</td>\n",
       "      <td>12-LOX,15-LOX,15-LOX-1,LOG15</td>\n",
       "      <td>ENSG00000161905</td>\n",
       "      <td>433.0</td>\n",
       "      <td>246</td>\n",
       "      <td>12-LOX</td>\n",
       "      <td>NCBI</td>\n",
       "    </tr>\n",
       "    <tr>\n",
       "      <th>3</th>\n",
       "      <td>ALOX12</td>\n",
       "      <td>12-LOX,12S-LOX,LOG12</td>\n",
       "      <td>ENSG00000108839</td>\n",
       "      <td>429.0</td>\n",
       "      <td>239</td>\n",
       "      <td>12-LOX</td>\n",
       "      <td>NCBI</td>\n",
       "    </tr>\n",
       "    <tr>\n",
       "      <th>4</th>\n",
       "      <td>AKR1C1</td>\n",
       "      <td>2-ALPHA-HSD,20-ALPHA-HSD,C9,DD1,DD1/DD2,DDH,DD...</td>\n",
       "      <td>ENSG00000187134</td>\n",
       "      <td>384.0</td>\n",
       "      <td>1645</td>\n",
       "      <td>20-ALPHA-HSD</td>\n",
       "      <td>NCBI</td>\n",
       "    </tr>\n",
       "    <tr>\n",
       "      <th>...</th>\n",
       "      <td>...</td>\n",
       "      <td>...</td>\n",
       "      <td>...</td>\n",
       "      <td>...</td>\n",
       "      <td>...</td>\n",
       "      <td>...</td>\n",
       "      <td>...</td>\n",
       "    </tr>\n",
       "    <tr>\n",
       "      <th>8986</th>\n",
       "      <td>SLC30A10</td>\n",
       "      <td>HMDPC,HMNDYT1,ZNT10,ZNT8,ZRC1,ZnT-10</td>\n",
       "      <td>ENSG00000196660</td>\n",
       "      <td>25355.0</td>\n",
       "      <td>55532</td>\n",
       "      <td>ZRC1</td>\n",
       "      <td>NCBI</td>\n",
       "    </tr>\n",
       "    <tr>\n",
       "      <th>8987</th>\n",
       "      <td>PEX13</td>\n",
       "      <td>NALD,PBD11A,PBD11B,ZWS</td>\n",
       "      <td>ENSG00000162928</td>\n",
       "      <td>8855.0</td>\n",
       "      <td>5194</td>\n",
       "      <td>ZWS</td>\n",
       "      <td>NCBI</td>\n",
       "    </tr>\n",
       "    <tr>\n",
       "      <th>8988</th>\n",
       "      <td>PEX1</td>\n",
       "      <td>HMLR1,PBD1A,PBD1B,ZWS,ZWS1</td>\n",
       "      <td>ENSG00000127980</td>\n",
       "      <td>8850.0</td>\n",
       "      <td>5189</td>\n",
       "      <td>ZWS</td>\n",
       "      <td>NCBI</td>\n",
       "    </tr>\n",
       "    <tr>\n",
       "      <th>8989</th>\n",
       "      <td>ZYG11B</td>\n",
       "      <td>ZYG11</td>\n",
       "      <td>ENSG00000162378</td>\n",
       "      <td>25820.0</td>\n",
       "      <td>79699</td>\n",
       "      <td>ZYG11</td>\n",
       "      <td>NCBI</td>\n",
       "    </tr>\n",
       "    <tr>\n",
       "      <th>8990</th>\n",
       "      <td>ZYG11A</td>\n",
       "      <td>ZYG11</td>\n",
       "      <td>ENSG00000203995</td>\n",
       "      <td>32058.0</td>\n",
       "      <td>440590</td>\n",
       "      <td>ZYG11</td>\n",
       "      <td>NCBI</td>\n",
       "    </tr>\n",
       "  </tbody>\n",
       "</table>\n",
       "<p>8991 rows × 7 columns</p>\n",
       "</div>"
      ],
      "text/plain": [
       "     gene_symbol                                       alias_symbol  \\\n",
       "0           PTEN  10q23del,BZS,CWS1,DEC,GLM2,MHAM,MMAC1,PTEN1,PT...   \n",
       "1         BMPR1A     10q23del,ACVRLK3,ALK-3,ALK3,BMPR-1A,CD292,SKR5   \n",
       "2         ALOX15                       12-LOX,15-LOX,15-LOX-1,LOG15   \n",
       "3         ALOX12                               12-LOX,12S-LOX,LOG12   \n",
       "4         AKR1C1  2-ALPHA-HSD,20-ALPHA-HSD,C9,DD1,DD1/DD2,DDH,DD...   \n",
       "...          ...                                                ...   \n",
       "8986    SLC30A10               HMDPC,HMNDYT1,ZNT10,ZNT8,ZRC1,ZnT-10   \n",
       "8987       PEX13                             NALD,PBD11A,PBD11B,ZWS   \n",
       "8988        PEX1                         HMLR1,PBD1A,PBD1B,ZWS,ZWS1   \n",
       "8989      ZYG11B                                              ZYG11   \n",
       "8990      ZYG11A                                              ZYG11   \n",
       "\n",
       "              ENSG_ID  HGNC_ID  NCBI_ID     collision source  \n",
       "0     ENSG00000171862   9588.0     5728      10Q23DEL   NCBI  \n",
       "1     ENSG00000107779   1076.0      657      10Q23DEL   NCBI  \n",
       "2     ENSG00000161905    433.0      246        12-LOX   NCBI  \n",
       "3     ENSG00000108839    429.0      239        12-LOX   NCBI  \n",
       "4     ENSG00000187134    384.0     1645  20-ALPHA-HSD   NCBI  \n",
       "...               ...      ...      ...           ...    ...  \n",
       "8986  ENSG00000196660  25355.0    55532          ZRC1   NCBI  \n",
       "8987  ENSG00000162928   8855.0     5194           ZWS   NCBI  \n",
       "8988  ENSG00000127980   8850.0     5189           ZWS   NCBI  \n",
       "8989  ENSG00000162378  25820.0    79699         ZYG11   NCBI  \n",
       "8990  ENSG00000203995  32058.0   440590         ZYG11   NCBI  \n",
       "\n",
       "[8991 rows x 7 columns]"
      ]
     },
     "execution_count": 38,
     "metadata": {},
     "output_type": "execute_result"
    }
   ],
   "source": [
    "aa_collision_gene_ncbi_df = pd.read_csv(\n",
    "    \"../created_files/aa_collision_gene_ncbi_df.csv\", index_col=[0])\n",
    "aa_collision_gene_ncbi_df"
   ]
  },
  {
   "cell_type": "code",
   "execution_count": 39,
   "metadata": {},
   "outputs": [],
   "source": [
    "aa_collision_alias_ncbi_df = pd.read_csv(\n",
    "    \"../created_files/aa_collision_alias_ncbi_df.csv\", index_col=[0])"
   ]
  },
  {
   "cell_type": "markdown",
   "metadata": {},
   "source": [
    "### <a id='toc3_1_3_'></a>[Create a histogram displaying how frequent the numebr of gene records sharing an alias is](#toc0_)"
   ]
  },
  {
   "cell_type": "code",
   "execution_count": 40,
   "metadata": {},
   "outputs": [],
   "source": [
    "ncbi_alias_symbol_set = set(subset_genes_ncbi_df[\"alias_symbol\"])\n",
    "ncbi_alias_count = len(ncbi_alias_symbol_set)"
   ]
  },
  {
   "cell_type": "code",
   "execution_count": 41,
   "metadata": {},
   "outputs": [
    {
     "data": {
      "application/vnd.plotly.v1+json": {
       "config": {
        "plotlyServerURL": "https://plot.ly"
       },
       "data": [
        {
         "alignmentgroup": "True",
         "hovertemplate": "num_gene_records=%{x}<br>percent_collision_symbol=%{y}<extra></extra>",
         "legendgroup": "",
         "marker": {
          "color": "#636efa",
          "pattern": {
           "shape": ""
          }
         },
         "name": "",
         "offsetgroup": "",
         "orientation": "v",
         "showlegend": false,
         "textposition": "auto",
         "type": "bar",
         "x": [
          2,
          3,
          4,
          5,
          6,
          7,
          8,
          9,
          10,
          11,
          12,
          13,
          14,
          37
         ],
         "xaxis": "x",
         "y": [
          4.3055939276730015,
          0.6456209739570459,
          0.21520699131901527,
          0.0857919762690669,
          0.04507714007357753,
          0.03053612714661703,
          0.013086911634264443,
          0.021811519390440737,
          0.0029082025853920984,
          0.004362303878088148,
          0.0029082025853920984,
          0.02035741809774469,
          0.0014541012926960492,
          0.0014541012926960492
         ],
         "yaxis": "y"
        }
       ],
       "layout": {
        "barmode": "relative",
        "legend": {
         "tracegroupgap": 0
        },
        "margin": {
         "t": 60
        },
        "template": {
         "data": {
          "bar": [
           {
            "error_x": {
             "color": "#2a3f5f"
            },
            "error_y": {
             "color": "#2a3f5f"
            },
            "marker": {
             "line": {
              "color": "#E5ECF6",
              "width": 0.5
             },
             "pattern": {
              "fillmode": "overlay",
              "size": 10,
              "solidity": 0.2
             }
            },
            "type": "bar"
           }
          ],
          "barpolar": [
           {
            "marker": {
             "line": {
              "color": "#E5ECF6",
              "width": 0.5
             },
             "pattern": {
              "fillmode": "overlay",
              "size": 10,
              "solidity": 0.2
             }
            },
            "type": "barpolar"
           }
          ],
          "carpet": [
           {
            "aaxis": {
             "endlinecolor": "#2a3f5f",
             "gridcolor": "white",
             "linecolor": "white",
             "minorgridcolor": "white",
             "startlinecolor": "#2a3f5f"
            },
            "baxis": {
             "endlinecolor": "#2a3f5f",
             "gridcolor": "white",
             "linecolor": "white",
             "minorgridcolor": "white",
             "startlinecolor": "#2a3f5f"
            },
            "type": "carpet"
           }
          ],
          "choropleth": [
           {
            "colorbar": {
             "outlinewidth": 0,
             "ticks": ""
            },
            "type": "choropleth"
           }
          ],
          "contour": [
           {
            "colorbar": {
             "outlinewidth": 0,
             "ticks": ""
            },
            "colorscale": [
             [
              0,
              "#0d0887"
             ],
             [
              0.1111111111111111,
              "#46039f"
             ],
             [
              0.2222222222222222,
              "#7201a8"
             ],
             [
              0.3333333333333333,
              "#9c179e"
             ],
             [
              0.4444444444444444,
              "#bd3786"
             ],
             [
              0.5555555555555556,
              "#d8576b"
             ],
             [
              0.6666666666666666,
              "#ed7953"
             ],
             [
              0.7777777777777778,
              "#fb9f3a"
             ],
             [
              0.8888888888888888,
              "#fdca26"
             ],
             [
              1,
              "#f0f921"
             ]
            ],
            "type": "contour"
           }
          ],
          "contourcarpet": [
           {
            "colorbar": {
             "outlinewidth": 0,
             "ticks": ""
            },
            "type": "contourcarpet"
           }
          ],
          "heatmap": [
           {
            "colorbar": {
             "outlinewidth": 0,
             "ticks": ""
            },
            "colorscale": [
             [
              0,
              "#0d0887"
             ],
             [
              0.1111111111111111,
              "#46039f"
             ],
             [
              0.2222222222222222,
              "#7201a8"
             ],
             [
              0.3333333333333333,
              "#9c179e"
             ],
             [
              0.4444444444444444,
              "#bd3786"
             ],
             [
              0.5555555555555556,
              "#d8576b"
             ],
             [
              0.6666666666666666,
              "#ed7953"
             ],
             [
              0.7777777777777778,
              "#fb9f3a"
             ],
             [
              0.8888888888888888,
              "#fdca26"
             ],
             [
              1,
              "#f0f921"
             ]
            ],
            "type": "heatmap"
           }
          ],
          "heatmapgl": [
           {
            "colorbar": {
             "outlinewidth": 0,
             "ticks": ""
            },
            "colorscale": [
             [
              0,
              "#0d0887"
             ],
             [
              0.1111111111111111,
              "#46039f"
             ],
             [
              0.2222222222222222,
              "#7201a8"
             ],
             [
              0.3333333333333333,
              "#9c179e"
             ],
             [
              0.4444444444444444,
              "#bd3786"
             ],
             [
              0.5555555555555556,
              "#d8576b"
             ],
             [
              0.6666666666666666,
              "#ed7953"
             ],
             [
              0.7777777777777778,
              "#fb9f3a"
             ],
             [
              0.8888888888888888,
              "#fdca26"
             ],
             [
              1,
              "#f0f921"
             ]
            ],
            "type": "heatmapgl"
           }
          ],
          "histogram": [
           {
            "marker": {
             "pattern": {
              "fillmode": "overlay",
              "size": 10,
              "solidity": 0.2
             }
            },
            "type": "histogram"
           }
          ],
          "histogram2d": [
           {
            "colorbar": {
             "outlinewidth": 0,
             "ticks": ""
            },
            "colorscale": [
             [
              0,
              "#0d0887"
             ],
             [
              0.1111111111111111,
              "#46039f"
             ],
             [
              0.2222222222222222,
              "#7201a8"
             ],
             [
              0.3333333333333333,
              "#9c179e"
             ],
             [
              0.4444444444444444,
              "#bd3786"
             ],
             [
              0.5555555555555556,
              "#d8576b"
             ],
             [
              0.6666666666666666,
              "#ed7953"
             ],
             [
              0.7777777777777778,
              "#fb9f3a"
             ],
             [
              0.8888888888888888,
              "#fdca26"
             ],
             [
              1,
              "#f0f921"
             ]
            ],
            "type": "histogram2d"
           }
          ],
          "histogram2dcontour": [
           {
            "colorbar": {
             "outlinewidth": 0,
             "ticks": ""
            },
            "colorscale": [
             [
              0,
              "#0d0887"
             ],
             [
              0.1111111111111111,
              "#46039f"
             ],
             [
              0.2222222222222222,
              "#7201a8"
             ],
             [
              0.3333333333333333,
              "#9c179e"
             ],
             [
              0.4444444444444444,
              "#bd3786"
             ],
             [
              0.5555555555555556,
              "#d8576b"
             ],
             [
              0.6666666666666666,
              "#ed7953"
             ],
             [
              0.7777777777777778,
              "#fb9f3a"
             ],
             [
              0.8888888888888888,
              "#fdca26"
             ],
             [
              1,
              "#f0f921"
             ]
            ],
            "type": "histogram2dcontour"
           }
          ],
          "mesh3d": [
           {
            "colorbar": {
             "outlinewidth": 0,
             "ticks": ""
            },
            "type": "mesh3d"
           }
          ],
          "parcoords": [
           {
            "line": {
             "colorbar": {
              "outlinewidth": 0,
              "ticks": ""
             }
            },
            "type": "parcoords"
           }
          ],
          "pie": [
           {
            "automargin": true,
            "type": "pie"
           }
          ],
          "scatter": [
           {
            "fillpattern": {
             "fillmode": "overlay",
             "size": 10,
             "solidity": 0.2
            },
            "type": "scatter"
           }
          ],
          "scatter3d": [
           {
            "line": {
             "colorbar": {
              "outlinewidth": 0,
              "ticks": ""
             }
            },
            "marker": {
             "colorbar": {
              "outlinewidth": 0,
              "ticks": ""
             }
            },
            "type": "scatter3d"
           }
          ],
          "scattercarpet": [
           {
            "marker": {
             "colorbar": {
              "outlinewidth": 0,
              "ticks": ""
             }
            },
            "type": "scattercarpet"
           }
          ],
          "scattergeo": [
           {
            "marker": {
             "colorbar": {
              "outlinewidth": 0,
              "ticks": ""
             }
            },
            "type": "scattergeo"
           }
          ],
          "scattergl": [
           {
            "marker": {
             "colorbar": {
              "outlinewidth": 0,
              "ticks": ""
             }
            },
            "type": "scattergl"
           }
          ],
          "scattermapbox": [
           {
            "marker": {
             "colorbar": {
              "outlinewidth": 0,
              "ticks": ""
             }
            },
            "type": "scattermapbox"
           }
          ],
          "scatterpolar": [
           {
            "marker": {
             "colorbar": {
              "outlinewidth": 0,
              "ticks": ""
             }
            },
            "type": "scatterpolar"
           }
          ],
          "scatterpolargl": [
           {
            "marker": {
             "colorbar": {
              "outlinewidth": 0,
              "ticks": ""
             }
            },
            "type": "scatterpolargl"
           }
          ],
          "scatterternary": [
           {
            "marker": {
             "colorbar": {
              "outlinewidth": 0,
              "ticks": ""
             }
            },
            "type": "scatterternary"
           }
          ],
          "surface": [
           {
            "colorbar": {
             "outlinewidth": 0,
             "ticks": ""
            },
            "colorscale": [
             [
              0,
              "#0d0887"
             ],
             [
              0.1111111111111111,
              "#46039f"
             ],
             [
              0.2222222222222222,
              "#7201a8"
             ],
             [
              0.3333333333333333,
              "#9c179e"
             ],
             [
              0.4444444444444444,
              "#bd3786"
             ],
             [
              0.5555555555555556,
              "#d8576b"
             ],
             [
              0.6666666666666666,
              "#ed7953"
             ],
             [
              0.7777777777777778,
              "#fb9f3a"
             ],
             [
              0.8888888888888888,
              "#fdca26"
             ],
             [
              1,
              "#f0f921"
             ]
            ],
            "type": "surface"
           }
          ],
          "table": [
           {
            "cells": {
             "fill": {
              "color": "#EBF0F8"
             },
             "line": {
              "color": "white"
             }
            },
            "header": {
             "fill": {
              "color": "#C8D4E3"
             },
             "line": {
              "color": "white"
             }
            },
            "type": "table"
           }
          ]
         },
         "layout": {
          "annotationdefaults": {
           "arrowcolor": "#2a3f5f",
           "arrowhead": 0,
           "arrowwidth": 1
          },
          "autotypenumbers": "strict",
          "coloraxis": {
           "colorbar": {
            "outlinewidth": 0,
            "ticks": ""
           }
          },
          "colorscale": {
           "diverging": [
            [
             0,
             "#8e0152"
            ],
            [
             0.1,
             "#c51b7d"
            ],
            [
             0.2,
             "#de77ae"
            ],
            [
             0.3,
             "#f1b6da"
            ],
            [
             0.4,
             "#fde0ef"
            ],
            [
             0.5,
             "#f7f7f7"
            ],
            [
             0.6,
             "#e6f5d0"
            ],
            [
             0.7,
             "#b8e186"
            ],
            [
             0.8,
             "#7fbc41"
            ],
            [
             0.9,
             "#4d9221"
            ],
            [
             1,
             "#276419"
            ]
           ],
           "sequential": [
            [
             0,
             "#0d0887"
            ],
            [
             0.1111111111111111,
             "#46039f"
            ],
            [
             0.2222222222222222,
             "#7201a8"
            ],
            [
             0.3333333333333333,
             "#9c179e"
            ],
            [
             0.4444444444444444,
             "#bd3786"
            ],
            [
             0.5555555555555556,
             "#d8576b"
            ],
            [
             0.6666666666666666,
             "#ed7953"
            ],
            [
             0.7777777777777778,
             "#fb9f3a"
            ],
            [
             0.8888888888888888,
             "#fdca26"
            ],
            [
             1,
             "#f0f921"
            ]
           ],
           "sequentialminus": [
            [
             0,
             "#0d0887"
            ],
            [
             0.1111111111111111,
             "#46039f"
            ],
            [
             0.2222222222222222,
             "#7201a8"
            ],
            [
             0.3333333333333333,
             "#9c179e"
            ],
            [
             0.4444444444444444,
             "#bd3786"
            ],
            [
             0.5555555555555556,
             "#d8576b"
            ],
            [
             0.6666666666666666,
             "#ed7953"
            ],
            [
             0.7777777777777778,
             "#fb9f3a"
            ],
            [
             0.8888888888888888,
             "#fdca26"
            ],
            [
             1,
             "#f0f921"
            ]
           ]
          },
          "colorway": [
           "#636efa",
           "#EF553B",
           "#00cc96",
           "#ab63fa",
           "#FFA15A",
           "#19d3f3",
           "#FF6692",
           "#B6E880",
           "#FF97FF",
           "#FECB52"
          ],
          "font": {
           "color": "#2a3f5f"
          },
          "geo": {
           "bgcolor": "white",
           "lakecolor": "white",
           "landcolor": "#E5ECF6",
           "showlakes": true,
           "showland": true,
           "subunitcolor": "white"
          },
          "hoverlabel": {
           "align": "left"
          },
          "hovermode": "closest",
          "mapbox": {
           "style": "light"
          },
          "paper_bgcolor": "white",
          "plot_bgcolor": "#E5ECF6",
          "polar": {
           "angularaxis": {
            "gridcolor": "white",
            "linecolor": "white",
            "ticks": ""
           },
           "bgcolor": "#E5ECF6",
           "radialaxis": {
            "gridcolor": "white",
            "linecolor": "white",
            "ticks": ""
           }
          },
          "scene": {
           "xaxis": {
            "backgroundcolor": "#E5ECF6",
            "gridcolor": "white",
            "gridwidth": 2,
            "linecolor": "white",
            "showbackground": true,
            "ticks": "",
            "zerolinecolor": "white"
           },
           "yaxis": {
            "backgroundcolor": "#E5ECF6",
            "gridcolor": "white",
            "gridwidth": 2,
            "linecolor": "white",
            "showbackground": true,
            "ticks": "",
            "zerolinecolor": "white"
           },
           "zaxis": {
            "backgroundcolor": "#E5ECF6",
            "gridcolor": "white",
            "gridwidth": 2,
            "linecolor": "white",
            "showbackground": true,
            "ticks": "",
            "zerolinecolor": "white"
           }
          },
          "shapedefaults": {
           "line": {
            "color": "#2a3f5f"
           }
          },
          "ternary": {
           "aaxis": {
            "gridcolor": "white",
            "linecolor": "white",
            "ticks": ""
           },
           "baxis": {
            "gridcolor": "white",
            "linecolor": "white",
            "ticks": ""
           },
           "bgcolor": "#E5ECF6",
           "caxis": {
            "gridcolor": "white",
            "linecolor": "white",
            "ticks": ""
           }
          },
          "title": {
           "x": 0.05
          },
          "xaxis": {
           "automargin": true,
           "gridcolor": "white",
           "linecolor": "white",
           "ticks": "",
           "title": {
            "standoff": 15
           },
           "zerolinecolor": "white",
           "zerolinewidth": 2
          },
          "yaxis": {
           "automargin": true,
           "gridcolor": "white",
           "linecolor": "white",
           "ticks": "",
           "title": {
            "standoff": 15
           },
           "zerolinecolor": "white",
           "zerolinewidth": 2
          }
         }
        },
        "xaxis": {
         "anchor": "y",
         "domain": [
          0,
          1
         ],
         "title": {
          "text": "num_gene_records"
         }
        },
        "yaxis": {
         "anchor": "x",
         "domain": [
          0,
          1
         ],
         "title": {
          "text": "percent_collision_symbol"
         }
        }
       }
      }
     },
     "metadata": {},
     "output_type": "display_data"
    }
   ],
   "source": [
    "create_aa_collision_histogram(aa_collision_gene_ncbi_df, \"NCBI\", ncbi_alias_count)"
   ]
  },
  {
   "cell_type": "code",
   "execution_count": 42,
   "metadata": {},
   "outputs": [
    {
     "data": {
      "text/html": [
       "<div>\n",
       "<style scoped>\n",
       "    .dataframe tbody tr th:only-of-type {\n",
       "        vertical-align: middle;\n",
       "    }\n",
       "\n",
       "    .dataframe tbody tr th {\n",
       "        vertical-align: top;\n",
       "    }\n",
       "\n",
       "    .dataframe thead th {\n",
       "        text-align: right;\n",
       "    }\n",
       "</style>\n",
       "<table border=\"1\" class=\"dataframe\">\n",
       "  <thead>\n",
       "    <tr style=\"text-align: right;\">\n",
       "      <th></th>\n",
       "      <th>collision</th>\n",
       "      <th>num_gene_records</th>\n",
       "    </tr>\n",
       "  </thead>\n",
       "  <tbody>\n",
       "    <tr>\n",
       "      <th>3636</th>\n",
       "      <td>VH</td>\n",
       "      <td>37</td>\n",
       "    </tr>\n",
       "    <tr>\n",
       "      <th>1409</th>\n",
       "      <td>H4-16</td>\n",
       "      <td>14</td>\n",
       "    </tr>\n",
       "    <tr>\n",
       "      <th>1414</th>\n",
       "      <td>H4C14</td>\n",
       "      <td>13</td>\n",
       "    </tr>\n",
       "    <tr>\n",
       "      <th>1419</th>\n",
       "      <td>H4C4</td>\n",
       "      <td>13</td>\n",
       "    </tr>\n",
       "    <tr>\n",
       "      <th>1413</th>\n",
       "      <td>H4C13</td>\n",
       "      <td>13</td>\n",
       "    </tr>\n",
       "    <tr>\n",
       "      <th>...</th>\n",
       "      <td>...</td>\n",
       "      <td>...</td>\n",
       "    </tr>\n",
       "    <tr>\n",
       "      <th>1351</th>\n",
       "      <td>GT334</td>\n",
       "      <td>2</td>\n",
       "    </tr>\n",
       "    <tr>\n",
       "      <th>1352</th>\n",
       "      <td>GTB</td>\n",
       "      <td>2</td>\n",
       "    </tr>\n",
       "    <tr>\n",
       "      <th>1353</th>\n",
       "      <td>GTF2IRD2A</td>\n",
       "      <td>2</td>\n",
       "    </tr>\n",
       "    <tr>\n",
       "      <th>1354</th>\n",
       "      <td>GTK</td>\n",
       "      <td>2</td>\n",
       "    </tr>\n",
       "    <tr>\n",
       "      <th>3710</th>\n",
       "      <td>ZYG11</td>\n",
       "      <td>2</td>\n",
       "    </tr>\n",
       "  </tbody>\n",
       "</table>\n",
       "<p>3711 rows × 2 columns</p>\n",
       "</div>"
      ],
      "text/plain": [
       "      collision  num_gene_records\n",
       "3636         VH                37\n",
       "1409      H4-16                14\n",
       "1414      H4C14                13\n",
       "1419       H4C4                13\n",
       "1413      H4C13                13\n",
       "...         ...               ...\n",
       "1351      GT334                 2\n",
       "1352        GTB                 2\n",
       "1353  GTF2IRD2A                 2\n",
       "1354        GTK                 2\n",
       "3710      ZYG11                 2\n",
       "\n",
       "[3711 rows x 2 columns]"
      ]
     },
     "execution_count": 42,
     "metadata": {},
     "output_type": "execute_result"
    }
   ],
   "source": [
    "aa_collision_ncbi_count_df = pd.read_csv(\n",
    "    \"../created_files/aa_collision_ncbi_count_df.csv\", index_col=[0])\n",
    "aa_collision_ncbi_count_df"
   ]
  },
  {
   "cell_type": "code",
   "execution_count": 43,
   "metadata": {},
   "outputs": [
    {
     "data": {
      "text/html": [
       "<div>\n",
       "<style scoped>\n",
       "    .dataframe tbody tr th:only-of-type {\n",
       "        vertical-align: middle;\n",
       "    }\n",
       "\n",
       "    .dataframe tbody tr th {\n",
       "        vertical-align: top;\n",
       "    }\n",
       "\n",
       "    .dataframe thead th {\n",
       "        text-align: right;\n",
       "    }\n",
       "</style>\n",
       "<table border=\"1\" class=\"dataframe\">\n",
       "  <thead>\n",
       "    <tr style=\"text-align: right;\">\n",
       "      <th></th>\n",
       "      <th>num_gene_records</th>\n",
       "      <th>num_collision_symbol</th>\n",
       "      <th>percent_collision_symbol</th>\n",
       "    </tr>\n",
       "  </thead>\n",
       "  <tbody>\n",
       "    <tr>\n",
       "      <th>0</th>\n",
       "      <td>2</td>\n",
       "      <td>2961</td>\n",
       "      <td>4.305594</td>\n",
       "    </tr>\n",
       "    <tr>\n",
       "      <th>1</th>\n",
       "      <td>3</td>\n",
       "      <td>444</td>\n",
       "      <td>0.645621</td>\n",
       "    </tr>\n",
       "    <tr>\n",
       "      <th>2</th>\n",
       "      <td>4</td>\n",
       "      <td>148</td>\n",
       "      <td>0.215207</td>\n",
       "    </tr>\n",
       "    <tr>\n",
       "      <th>3</th>\n",
       "      <td>5</td>\n",
       "      <td>59</td>\n",
       "      <td>0.085792</td>\n",
       "    </tr>\n",
       "    <tr>\n",
       "      <th>4</th>\n",
       "      <td>6</td>\n",
       "      <td>31</td>\n",
       "      <td>0.045077</td>\n",
       "    </tr>\n",
       "    <tr>\n",
       "      <th>5</th>\n",
       "      <td>7</td>\n",
       "      <td>21</td>\n",
       "      <td>0.030536</td>\n",
       "    </tr>\n",
       "    <tr>\n",
       "      <th>6</th>\n",
       "      <td>8</td>\n",
       "      <td>9</td>\n",
       "      <td>0.013087</td>\n",
       "    </tr>\n",
       "    <tr>\n",
       "      <th>7</th>\n",
       "      <td>9</td>\n",
       "      <td>15</td>\n",
       "      <td>0.021812</td>\n",
       "    </tr>\n",
       "    <tr>\n",
       "      <th>8</th>\n",
       "      <td>10</td>\n",
       "      <td>2</td>\n",
       "      <td>0.002908</td>\n",
       "    </tr>\n",
       "    <tr>\n",
       "      <th>9</th>\n",
       "      <td>11</td>\n",
       "      <td>3</td>\n",
       "      <td>0.004362</td>\n",
       "    </tr>\n",
       "    <tr>\n",
       "      <th>10</th>\n",
       "      <td>12</td>\n",
       "      <td>2</td>\n",
       "      <td>0.002908</td>\n",
       "    </tr>\n",
       "    <tr>\n",
       "      <th>11</th>\n",
       "      <td>13</td>\n",
       "      <td>14</td>\n",
       "      <td>0.020357</td>\n",
       "    </tr>\n",
       "    <tr>\n",
       "      <th>12</th>\n",
       "      <td>14</td>\n",
       "      <td>1</td>\n",
       "      <td>0.001454</td>\n",
       "    </tr>\n",
       "    <tr>\n",
       "      <th>13</th>\n",
       "      <td>37</td>\n",
       "      <td>1</td>\n",
       "      <td>0.001454</td>\n",
       "    </tr>\n",
       "  </tbody>\n",
       "</table>\n",
       "</div>"
      ],
      "text/plain": [
       "    num_gene_records  num_collision_symbol  percent_collision_symbol\n",
       "0                  2                  2961                  4.305594\n",
       "1                  3                   444                  0.645621\n",
       "2                  4                   148                  0.215207\n",
       "3                  5                    59                  0.085792\n",
       "4                  6                    31                  0.045077\n",
       "5                  7                    21                  0.030536\n",
       "6                  8                     9                  0.013087\n",
       "7                  9                    15                  0.021812\n",
       "8                 10                     2                  0.002908\n",
       "9                 11                     3                  0.004362\n",
       "10                12                     2                  0.002908\n",
       "11                13                    14                  0.020357\n",
       "12                14                     1                  0.001454\n",
       "13                37                     1                  0.001454"
      ]
     },
     "execution_count": 43,
     "metadata": {},
     "output_type": "execute_result"
    }
   ],
   "source": [
    "aa_collision_ncbi_distribution_df = pd.read_csv(\n",
    "    \"../created_files/aa_collision_ncbi_distribution_df.csv\", index_col=[0])\n",
    "aa_collision_ncbi_distribution_df"
   ]
  },
  {
   "cell_type": "code",
   "execution_count": 44,
   "metadata": {},
   "outputs": [
    {
     "data": {
      "text/html": [
       "<div>\n",
       "<style scoped>\n",
       "    .dataframe tbody tr th:only-of-type {\n",
       "        vertical-align: middle;\n",
       "    }\n",
       "\n",
       "    .dataframe tbody tr th {\n",
       "        vertical-align: top;\n",
       "    }\n",
       "\n",
       "    .dataframe thead th {\n",
       "        text-align: right;\n",
       "    }\n",
       "</style>\n",
       "<table border=\"1\" class=\"dataframe\">\n",
       "  <thead>\n",
       "    <tr style=\"text-align: right;\">\n",
       "      <th></th>\n",
       "      <th>num_gene_records</th>\n",
       "      <th>percent_collision_symbol</th>\n",
       "    </tr>\n",
       "  </thead>\n",
       "  <tbody>\n",
       "    <tr>\n",
       "      <th>0</th>\n",
       "      <td>2</td>\n",
       "      <td>4.305594</td>\n",
       "    </tr>\n",
       "    <tr>\n",
       "      <th>1</th>\n",
       "      <td>3</td>\n",
       "      <td>0.645621</td>\n",
       "    </tr>\n",
       "    <tr>\n",
       "      <th>2</th>\n",
       "      <td>4</td>\n",
       "      <td>0.215207</td>\n",
       "    </tr>\n",
       "    <tr>\n",
       "      <th>3</th>\n",
       "      <td>5</td>\n",
       "      <td>0.085792</td>\n",
       "    </tr>\n",
       "    <tr>\n",
       "      <th>4</th>\n",
       "      <td>6</td>\n",
       "      <td>0.045077</td>\n",
       "    </tr>\n",
       "    <tr>\n",
       "      <th>5</th>\n",
       "      <td>7</td>\n",
       "      <td>0.030536</td>\n",
       "    </tr>\n",
       "    <tr>\n",
       "      <th>6</th>\n",
       "      <td>8</td>\n",
       "      <td>0.013087</td>\n",
       "    </tr>\n",
       "    <tr>\n",
       "      <th>7</th>\n",
       "      <td>9</td>\n",
       "      <td>0.021812</td>\n",
       "    </tr>\n",
       "    <tr>\n",
       "      <th>8</th>\n",
       "      <td>10</td>\n",
       "      <td>0.002908</td>\n",
       "    </tr>\n",
       "    <tr>\n",
       "      <th>9</th>\n",
       "      <td>11</td>\n",
       "      <td>0.004362</td>\n",
       "    </tr>\n",
       "    <tr>\n",
       "      <th>10</th>\n",
       "      <td>12</td>\n",
       "      <td>0.002908</td>\n",
       "    </tr>\n",
       "    <tr>\n",
       "      <th>11</th>\n",
       "      <td>13</td>\n",
       "      <td>0.020357</td>\n",
       "    </tr>\n",
       "    <tr>\n",
       "      <th>12</th>\n",
       "      <td>14</td>\n",
       "      <td>0.001454</td>\n",
       "    </tr>\n",
       "    <tr>\n",
       "      <th>13</th>\n",
       "      <td>37</td>\n",
       "      <td>0.001454</td>\n",
       "    </tr>\n",
       "  </tbody>\n",
       "</table>\n",
       "</div>"
      ],
      "text/plain": [
       "    num_gene_records  percent_collision_symbol\n",
       "0                  2                  4.305594\n",
       "1                  3                  0.645621\n",
       "2                  4                  0.215207\n",
       "3                  5                  0.085792\n",
       "4                  6                  0.045077\n",
       "5                  7                  0.030536\n",
       "6                  8                  0.013087\n",
       "7                  9                  0.021812\n",
       "8                 10                  0.002908\n",
       "9                 11                  0.004362\n",
       "10                12                  0.002908\n",
       "11                13                  0.020357\n",
       "12                14                  0.001454\n",
       "13                37                  0.001454"
      ]
     },
     "execution_count": 44,
     "metadata": {},
     "output_type": "execute_result"
    }
   ],
   "source": [
    "ncbi_alias_count_histogram_df = pd.read_csv(\n",
    "    \"../created_files/ncbi_alias_count_histogram_df.csv\", index_col=[0])\n",
    "ncbi_alias_count_histogram_df"
   ]
  },
  {
   "cell_type": "code",
   "execution_count": 45,
   "metadata": {},
   "outputs": [
    {
     "data": {
      "text/plain": [
       "57275"
      ]
     },
     "execution_count": 45,
     "metadata": {},
     "output_type": "execute_result"
    }
   ],
   "source": [
    "len(subset_genes_ensg_df)"
   ]
  },
  {
   "cell_type": "code",
   "execution_count": 46,
   "metadata": {},
   "outputs": [
    {
     "data": {
      "text/plain": [
       "44542"
      ]
     },
     "execution_count": 46,
     "metadata": {},
     "output_type": "execute_result"
    }
   ],
   "source": [
    "len(subset_genes_hgnc_df)"
   ]
  },
  {
   "cell_type": "code",
   "execution_count": 47,
   "metadata": {},
   "outputs": [
    {
     "data": {
      "text/plain": [
       "74051"
      ]
     },
     "execution_count": 47,
     "metadata": {},
     "output_type": "execute_result"
    }
   ],
   "source": [
    "len(subset_genes_ncbi_df)"
   ]
  },
  {
   "cell_type": "markdown",
   "metadata": {},
   "source": [
    "# <a id='toc4_'></a>[Merge to create Alias-Alias Collision Table- On Primary Gene Symbol](#toc0_)"
   ]
  },
  {
   "cell_type": "code",
   "execution_count": 48,
   "metadata": {},
   "outputs": [
    {
     "data": {
      "text/html": [
       "<div>\n",
       "<style scoped>\n",
       "    .dataframe tbody tr th:only-of-type {\n",
       "        vertical-align: middle;\n",
       "    }\n",
       "\n",
       "    .dataframe tbody tr th {\n",
       "        vertical-align: top;\n",
       "    }\n",
       "\n",
       "    .dataframe thead th {\n",
       "        text-align: right;\n",
       "    }\n",
       "</style>\n",
       "<table border=\"1\" class=\"dataframe\">\n",
       "  <thead>\n",
       "    <tr style=\"text-align: right;\">\n",
       "      <th></th>\n",
       "      <th>gene_symbol</th>\n",
       "      <th>alias_symbol</th>\n",
       "      <th>ENSG_ID</th>\n",
       "      <th>collision</th>\n",
       "      <th>source</th>\n",
       "    </tr>\n",
       "  </thead>\n",
       "  <tbody>\n",
       "    <tr>\n",
       "      <th>0</th>\n",
       "      <td>KLRG1</td>\n",
       "      <td>MAFA,2F1,MAFA-L,CLEC15A</td>\n",
       "      <td>ENSG00000139187</td>\n",
       "      <td>2F1</td>\n",
       "      <td>HGNC</td>\n",
       "    </tr>\n",
       "    <tr>\n",
       "      <th>1</th>\n",
       "      <td>SLC25A5</td>\n",
       "      <td>T2,2F1,T3</td>\n",
       "      <td>ENSG00000005022</td>\n",
       "      <td>2F1</td>\n",
       "      <td>HGNC</td>\n",
       "    </tr>\n",
       "    <tr>\n",
       "      <th>2</th>\n",
       "      <td>S100A8</td>\n",
       "      <td>P8,MRP8,MRP-8,60B8AG,CGLA,S100-A8</td>\n",
       "      <td>ENSG00000143546</td>\n",
       "      <td>60B8AG</td>\n",
       "      <td>HGNC</td>\n",
       "    </tr>\n",
       "    <tr>\n",
       "      <th>3</th>\n",
       "      <td>S100A9</td>\n",
       "      <td>P14,MIF,NIF,LIAG,MRP14,MAC387,60B8AG,CGLB,MRP-...</td>\n",
       "      <td>ENSG00000163220</td>\n",
       "      <td>60B8AG</td>\n",
       "      <td>HGNC</td>\n",
       "    </tr>\n",
       "    <tr>\n",
       "      <th>4</th>\n",
       "      <td>RNU6V</td>\n",
       "      <td>87U6,LH87</td>\n",
       "      <td>ENSG00000206832</td>\n",
       "      <td>87U6</td>\n",
       "      <td>HGNC</td>\n",
       "    </tr>\n",
       "    <tr>\n",
       "      <th>...</th>\n",
       "      <td>...</td>\n",
       "      <td>...</td>\n",
       "      <td>...</td>\n",
       "      <td>...</td>\n",
       "      <td>...</td>\n",
       "    </tr>\n",
       "    <tr>\n",
       "      <th>3674</th>\n",
       "      <td>SLC30A10</td>\n",
       "      <td>DKFZP547M236,ZNT-10,ZNT10,ZNT8,ZRC1</td>\n",
       "      <td>ENSG00000196660</td>\n",
       "      <td>ZNT8</td>\n",
       "      <td>ENSG</td>\n",
       "    </tr>\n",
       "    <tr>\n",
       "      <th>3675</th>\n",
       "      <td>SLC30A10</td>\n",
       "      <td>DKFZP547M236,ZNT-10,ZNT10,ZNT8,ZRC1</td>\n",
       "      <td>ENSG00000196660</td>\n",
       "      <td>ZRC1</td>\n",
       "      <td>ENSG</td>\n",
       "    </tr>\n",
       "    <tr>\n",
       "      <th>3676</th>\n",
       "      <td>SLC30A1</td>\n",
       "      <td>ZNT1,ZRC1</td>\n",
       "      <td>ENSG00000170385</td>\n",
       "      <td>ZRC1</td>\n",
       "      <td>ENSG</td>\n",
       "    </tr>\n",
       "    <tr>\n",
       "      <th>3677</th>\n",
       "      <td>ZYG11B</td>\n",
       "      <td>FLJ13456,ZYG11</td>\n",
       "      <td>ENSG00000162378</td>\n",
       "      <td>ZYG11</td>\n",
       "      <td>ENSG</td>\n",
       "    </tr>\n",
       "    <tr>\n",
       "      <th>3678</th>\n",
       "      <td>ZYG11A</td>\n",
       "      <td>ZYG11</td>\n",
       "      <td>ENSG00000203995</td>\n",
       "      <td>ZYG11</td>\n",
       "      <td>ENSG</td>\n",
       "    </tr>\n",
       "  </tbody>\n",
       "</table>\n",
       "<p>15544 rows × 5 columns</p>\n",
       "</div>"
      ],
      "text/plain": [
       "     gene_symbol                                       alias_symbol  \\\n",
       "0          KLRG1                            MAFA,2F1,MAFA-L,CLEC15A   \n",
       "1        SLC25A5                                          T2,2F1,T3   \n",
       "2         S100A8                  P8,MRP8,MRP-8,60B8AG,CGLA,S100-A8   \n",
       "3         S100A9  P14,MIF,NIF,LIAG,MRP14,MAC387,60B8AG,CGLB,MRP-...   \n",
       "4          RNU6V                                          87U6,LH87   \n",
       "...          ...                                                ...   \n",
       "3674    SLC30A10                DKFZP547M236,ZNT-10,ZNT10,ZNT8,ZRC1   \n",
       "3675    SLC30A10                DKFZP547M236,ZNT-10,ZNT10,ZNT8,ZRC1   \n",
       "3676     SLC30A1                                          ZNT1,ZRC1   \n",
       "3677      ZYG11B                                     FLJ13456,ZYG11   \n",
       "3678      ZYG11A                                              ZYG11   \n",
       "\n",
       "              ENSG_ID collision source  \n",
       "0     ENSG00000139187       2F1   HGNC  \n",
       "1     ENSG00000005022       2F1   HGNC  \n",
       "2     ENSG00000143546    60B8AG   HGNC  \n",
       "3     ENSG00000163220    60B8AG   HGNC  \n",
       "4     ENSG00000206832      87U6   HGNC  \n",
       "...               ...       ...    ...  \n",
       "3674  ENSG00000196660      ZNT8   ENSG  \n",
       "3675  ENSG00000196660      ZRC1   ENSG  \n",
       "3676  ENSG00000170385      ZRC1   ENSG  \n",
       "3677  ENSG00000162378     ZYG11   ENSG  \n",
       "3678  ENSG00000203995     ZYG11   ENSG  \n",
       "\n",
       "[15544 rows x 5 columns]"
      ]
     },
     "execution_count": 48,
     "metadata": {},
     "output_type": "execute_result"
    }
   ],
   "source": [
    "merged_aa_collision_gene_df = pd.concat(\n",
    "    [\n",
    "        aa_collision_gene_hgnc_df[[\"gene_symbol\", \"alias_symbol\", \"ENSG_ID\", \"collision\", \"source\"]],\n",
    "        aa_collision_gene_ncbi_df[[\"gene_symbol\", \"alias_symbol\", \"ENSG_ID\", \"collision\", \"source\"]],\n",
    "        aa_collision_gene_ensg_df[[\"gene_symbol\", \"alias_symbol\", \"ENSG_ID\", \"collision\", \"source\"]],\n",
    "    ]\n",
    ")\n",
    "merged_aa_collision_gene_df"
   ]
  },
  {
   "cell_type": "code",
   "execution_count": 49,
   "metadata": {},
   "outputs": [],
   "source": [
    "merged_aa_collision_gene_df.to_csv(\n",
    "    \"../created_files/merged_aa_collision_gene_df.csv\", index=False\n",
    ")"
   ]
  },
  {
   "cell_type": "code",
   "execution_count": 50,
   "metadata": {},
   "outputs": [
    {
     "data": {
      "text/html": [
       "<div>\n",
       "<style scoped>\n",
       "    .dataframe tbody tr th:only-of-type {\n",
       "        vertical-align: middle;\n",
       "    }\n",
       "\n",
       "    .dataframe tbody tr th {\n",
       "        vertical-align: top;\n",
       "    }\n",
       "\n",
       "    .dataframe thead th {\n",
       "        text-align: right;\n",
       "    }\n",
       "</style>\n",
       "<table border=\"1\" class=\"dataframe\">\n",
       "  <thead>\n",
       "    <tr style=\"text-align: right;\">\n",
       "      <th></th>\n",
       "      <th>gene_symbol</th>\n",
       "      <th>alias_symbol</th>\n",
       "      <th>ENSG_ID</th>\n",
       "      <th>collision</th>\n",
       "      <th>source</th>\n",
       "    </tr>\n",
       "  </thead>\n",
       "  <tbody>\n",
       "    <tr>\n",
       "      <th>82</th>\n",
       "      <td>ASRGL1</td>\n",
       "      <td>FLJ22316,ALP1,ALP</td>\n",
       "      <td>ENSG00000162174</td>\n",
       "      <td>ALP</td>\n",
       "      <td>HGNC</td>\n",
       "    </tr>\n",
       "    <tr>\n",
       "      <th>83</th>\n",
       "      <td>ATHS</td>\n",
       "      <td>ALP</td>\n",
       "      <td>NaN</td>\n",
       "      <td>ALP</td>\n",
       "      <td>HGNC</td>\n",
       "    </tr>\n",
       "    <tr>\n",
       "      <th>84</th>\n",
       "      <td>ATRNL1</td>\n",
       "      <td>KIAA0534,FLJ45344,ALP</td>\n",
       "      <td>ENSG00000107518</td>\n",
       "      <td>ALP</td>\n",
       "      <td>HGNC</td>\n",
       "    </tr>\n",
       "    <tr>\n",
       "      <th>85</th>\n",
       "      <td>PDLIM3</td>\n",
       "      <td>ALP</td>\n",
       "      <td>ENSG00000154553</td>\n",
       "      <td>ALP</td>\n",
       "      <td>HGNC</td>\n",
       "    </tr>\n",
       "    <tr>\n",
       "      <th>86</th>\n",
       "      <td>CCL27</td>\n",
       "      <td>ALP,ILC,CTACK,skinkine,ESkine,PESKY,CTAK</td>\n",
       "      <td>ENSG00000213927</td>\n",
       "      <td>ALP</td>\n",
       "      <td>HGNC</td>\n",
       "    </tr>\n",
       "    <tr>\n",
       "      <th>87</th>\n",
       "      <td>SLPI</td>\n",
       "      <td>HUSI-I,ALK1,ALP,BLPI,HUSI,WAP4,WFDC4</td>\n",
       "      <td>ENSG00000124107</td>\n",
       "      <td>ALP</td>\n",
       "      <td>HGNC</td>\n",
       "    </tr>\n",
       "    <tr>\n",
       "      <th>279</th>\n",
       "      <td>ASRGL1</td>\n",
       "      <td>ALP,ALP1,CRASH</td>\n",
       "      <td>ENSG00000162174</td>\n",
       "      <td>ALP</td>\n",
       "      <td>NCBI</td>\n",
       "    </tr>\n",
       "    <tr>\n",
       "      <th>280</th>\n",
       "      <td>ATRNL1</td>\n",
       "      <td>ALP,bA338L11.1,bA454H24.1</td>\n",
       "      <td>ENSG00000107518</td>\n",
       "      <td>ALP</td>\n",
       "      <td>NCBI</td>\n",
       "    </tr>\n",
       "    <tr>\n",
       "      <th>281</th>\n",
       "      <td>ATHS</td>\n",
       "      <td>ALP</td>\n",
       "      <td>NaN</td>\n",
       "      <td>ALP</td>\n",
       "      <td>NCBI</td>\n",
       "    </tr>\n",
       "    <tr>\n",
       "      <th>282</th>\n",
       "      <td>NAT10</td>\n",
       "      <td>ALP,Kre33,NET43</td>\n",
       "      <td>ENSG00000135372</td>\n",
       "      <td>ALP</td>\n",
       "      <td>NCBI</td>\n",
       "    </tr>\n",
       "    <tr>\n",
       "      <th>283</th>\n",
       "      <td>ALPP</td>\n",
       "      <td>ALP,ALPI,IAP,PALP,PLAP,PLAP-1</td>\n",
       "      <td>ENSG00000163283</td>\n",
       "      <td>ALP</td>\n",
       "      <td>NCBI</td>\n",
       "    </tr>\n",
       "    <tr>\n",
       "      <th>284</th>\n",
       "      <td>PDLIM3</td>\n",
       "      <td>ALP</td>\n",
       "      <td>ENSG00000154553</td>\n",
       "      <td>ALP</td>\n",
       "      <td>NCBI</td>\n",
       "    </tr>\n",
       "    <tr>\n",
       "      <th>285</th>\n",
       "      <td>SLPI</td>\n",
       "      <td>ALK1,ALP,BLPI,HUSI,HUSI-I,MPI,WAP4,WFDC4</td>\n",
       "      <td>ENSG00000124107</td>\n",
       "      <td>ALP</td>\n",
       "      <td>NCBI</td>\n",
       "    </tr>\n",
       "    <tr>\n",
       "      <th>286</th>\n",
       "      <td>CCL27</td>\n",
       "      <td>ALP,CTACK,CTAK,ESKINE,ILC,PESKY,SCYA27</td>\n",
       "      <td>ENSG00000213927</td>\n",
       "      <td>ALP</td>\n",
       "      <td>NCBI</td>\n",
       "    </tr>\n",
       "    <tr>\n",
       "      <th>124</th>\n",
       "      <td>PDLIM3</td>\n",
       "      <td>ALP</td>\n",
       "      <td>ENSG00000154553</td>\n",
       "      <td>ALP</td>\n",
       "      <td>ENSG</td>\n",
       "    </tr>\n",
       "    <tr>\n",
       "      <th>125</th>\n",
       "      <td>ASRGL1</td>\n",
       "      <td>ALP,ALP1,FLJ22316</td>\n",
       "      <td>ENSG00000162174</td>\n",
       "      <td>ALP</td>\n",
       "      <td>ENSG</td>\n",
       "    </tr>\n",
       "    <tr>\n",
       "      <th>126</th>\n",
       "      <td>CCL27</td>\n",
       "      <td>ALP,CTACK,CTAK,ESKINE,ILC,PESKY,SCYA27,SKINKINE</td>\n",
       "      <td>ENSG00000213927</td>\n",
       "      <td>ALP</td>\n",
       "      <td>ENSG</td>\n",
       "    </tr>\n",
       "    <tr>\n",
       "      <th>127</th>\n",
       "      <td>ATRNL1</td>\n",
       "      <td>ALP,FLJ45344,KIAA0534</td>\n",
       "      <td>ENSG00000107518</td>\n",
       "      <td>ALP</td>\n",
       "      <td>ENSG</td>\n",
       "    </tr>\n",
       "    <tr>\n",
       "      <th>128</th>\n",
       "      <td>SLPI</td>\n",
       "      <td>ALK1,ALP,BLPI,HUSI,HUSI-I,WAP4,WFDC4</td>\n",
       "      <td>ENSG00000124107</td>\n",
       "      <td>ALP</td>\n",
       "      <td>ENSG</td>\n",
       "    </tr>\n",
       "  </tbody>\n",
       "</table>\n",
       "</div>"
      ],
      "text/plain": [
       "    gene_symbol                                     alias_symbol  \\\n",
       "82       ASRGL1                                FLJ22316,ALP1,ALP   \n",
       "83         ATHS                                              ALP   \n",
       "84       ATRNL1                            KIAA0534,FLJ45344,ALP   \n",
       "85       PDLIM3                                              ALP   \n",
       "86        CCL27         ALP,ILC,CTACK,skinkine,ESkine,PESKY,CTAK   \n",
       "87         SLPI             HUSI-I,ALK1,ALP,BLPI,HUSI,WAP4,WFDC4   \n",
       "279      ASRGL1                                   ALP,ALP1,CRASH   \n",
       "280      ATRNL1                        ALP,bA338L11.1,bA454H24.1   \n",
       "281        ATHS                                              ALP   \n",
       "282       NAT10                                  ALP,Kre33,NET43   \n",
       "283        ALPP                    ALP,ALPI,IAP,PALP,PLAP,PLAP-1   \n",
       "284      PDLIM3                                              ALP   \n",
       "285        SLPI         ALK1,ALP,BLPI,HUSI,HUSI-I,MPI,WAP4,WFDC4   \n",
       "286       CCL27           ALP,CTACK,CTAK,ESKINE,ILC,PESKY,SCYA27   \n",
       "124      PDLIM3                                              ALP   \n",
       "125      ASRGL1                                ALP,ALP1,FLJ22316   \n",
       "126       CCL27  ALP,CTACK,CTAK,ESKINE,ILC,PESKY,SCYA27,SKINKINE   \n",
       "127      ATRNL1                            ALP,FLJ45344,KIAA0534   \n",
       "128        SLPI             ALK1,ALP,BLPI,HUSI,HUSI-I,WAP4,WFDC4   \n",
       "\n",
       "             ENSG_ID collision source  \n",
       "82   ENSG00000162174       ALP   HGNC  \n",
       "83               NaN       ALP   HGNC  \n",
       "84   ENSG00000107518       ALP   HGNC  \n",
       "85   ENSG00000154553       ALP   HGNC  \n",
       "86   ENSG00000213927       ALP   HGNC  \n",
       "87   ENSG00000124107       ALP   HGNC  \n",
       "279  ENSG00000162174       ALP   NCBI  \n",
       "280  ENSG00000107518       ALP   NCBI  \n",
       "281              NaN       ALP   NCBI  \n",
       "282  ENSG00000135372       ALP   NCBI  \n",
       "283  ENSG00000163283       ALP   NCBI  \n",
       "284  ENSG00000154553       ALP   NCBI  \n",
       "285  ENSG00000124107       ALP   NCBI  \n",
       "286  ENSG00000213927       ALP   NCBI  \n",
       "124  ENSG00000154553       ALP   ENSG  \n",
       "125  ENSG00000162174       ALP   ENSG  \n",
       "126  ENSG00000213927       ALP   ENSG  \n",
       "127  ENSG00000107518       ALP   ENSG  \n",
       "128  ENSG00000124107       ALP   ENSG  "
      ]
     },
     "execution_count": 50,
     "metadata": {},
     "output_type": "execute_result"
    }
   ],
   "source": [
    "merged_aa_collision_gene_df.loc[merged_aa_collision_gene_df.collision == \"ALP\"]"
   ]
  },
  {
   "cell_type": "markdown",
   "metadata": {},
   "source": [
    "# <a id='toc5_'></a>[Merge to create Alias-Alias Collision Table- On Alias Symbol](#toc0_)"
   ]
  },
  {
   "cell_type": "code",
   "execution_count": 51,
   "metadata": {},
   "outputs": [
    {
     "data": {
      "text/html": [
       "<div>\n",
       "<style scoped>\n",
       "    .dataframe tbody tr th:only-of-type {\n",
       "        vertical-align: middle;\n",
       "    }\n",
       "\n",
       "    .dataframe tbody tr th {\n",
       "        vertical-align: top;\n",
       "    }\n",
       "\n",
       "    .dataframe thead th {\n",
       "        text-align: right;\n",
       "    }\n",
       "</style>\n",
       "<table border=\"1\" class=\"dataframe\">\n",
       "  <thead>\n",
       "    <tr style=\"text-align: right;\">\n",
       "      <th></th>\n",
       "      <th>collision</th>\n",
       "      <th>gene_symbol</th>\n",
       "      <th>ENSG_ID</th>\n",
       "      <th>source</th>\n",
       "    </tr>\n",
       "  </thead>\n",
       "  <tbody>\n",
       "    <tr>\n",
       "      <th>0</th>\n",
       "      <td>2F1</td>\n",
       "      <td>KLRG1, SLC25A5</td>\n",
       "      <td>ENSG00000139187, ENSG00000005022</td>\n",
       "      <td>HGNC</td>\n",
       "    </tr>\n",
       "    <tr>\n",
       "      <th>1</th>\n",
       "      <td>60B8AG</td>\n",
       "      <td>S100A8, S100A9</td>\n",
       "      <td>ENSG00000143546, ENSG00000163220</td>\n",
       "      <td>HGNC</td>\n",
       "    </tr>\n",
       "    <tr>\n",
       "      <th>2</th>\n",
       "      <td>87U6</td>\n",
       "      <td>RNU6V, GNAI3</td>\n",
       "      <td>ENSG00000206832, ENSG00000065135</td>\n",
       "      <td>HGNC</td>\n",
       "    </tr>\n",
       "    <tr>\n",
       "      <th>3</th>\n",
       "      <td>9G8</td>\n",
       "      <td>SRSF7, SLU7</td>\n",
       "      <td>ENSG00000115875, ENSG00000164609</td>\n",
       "      <td>HGNC</td>\n",
       "    </tr>\n",
       "    <tr>\n",
       "      <th>4</th>\n",
       "      <td>A1</td>\n",
       "      <td>ATP6V0A1, RFC1, RFC4, RFC2</td>\n",
       "      <td>ENSG00000033627, ENSG00000035928, ENSG00000163...</td>\n",
       "      <td>HGNC</td>\n",
       "    </tr>\n",
       "    <tr>\n",
       "      <th>...</th>\n",
       "      <td>...</td>\n",
       "      <td>...</td>\n",
       "      <td>...</td>\n",
       "      <td>...</td>\n",
       "    </tr>\n",
       "    <tr>\n",
       "      <th>1612</th>\n",
       "      <td>ZIP4</td>\n",
       "      <td>TEX11, SLC39A4</td>\n",
       "      <td>ENSG00000120498, ENSG00000285243</td>\n",
       "      <td>ENSG</td>\n",
       "    </tr>\n",
       "    <tr>\n",
       "      <th>1613</th>\n",
       "      <td>ZNF422</td>\n",
       "      <td>ZNF22, PHF8</td>\n",
       "      <td>ENSG00000165512, ENSG00000172943</td>\n",
       "      <td>ENSG</td>\n",
       "    </tr>\n",
       "    <tr>\n",
       "      <th>1614</th>\n",
       "      <td>ZNT8</td>\n",
       "      <td>SLC30A8, SLC30A10</td>\n",
       "      <td>ENSG00000164756, ENSG00000196660</td>\n",
       "      <td>ENSG</td>\n",
       "    </tr>\n",
       "    <tr>\n",
       "      <th>1615</th>\n",
       "      <td>ZRC1</td>\n",
       "      <td>SLC30A10, SLC30A1</td>\n",
       "      <td>ENSG00000196660, ENSG00000170385</td>\n",
       "      <td>ENSG</td>\n",
       "    </tr>\n",
       "    <tr>\n",
       "      <th>1616</th>\n",
       "      <td>ZYG11</td>\n",
       "      <td>ZYG11B, ZYG11A</td>\n",
       "      <td>ENSG00000162378, ENSG00000203995</td>\n",
       "      <td>ENSG</td>\n",
       "    </tr>\n",
       "  </tbody>\n",
       "</table>\n",
       "<p>6578 rows × 4 columns</p>\n",
       "</div>"
      ],
      "text/plain": [
       "     collision                 gene_symbol  \\\n",
       "0          2F1              KLRG1, SLC25A5   \n",
       "1       60B8AG              S100A8, S100A9   \n",
       "2         87U6                RNU6V, GNAI3   \n",
       "3          9G8                 SRSF7, SLU7   \n",
       "4           A1  ATP6V0A1, RFC1, RFC4, RFC2   \n",
       "...        ...                         ...   \n",
       "1612      ZIP4              TEX11, SLC39A4   \n",
       "1613    ZNF422                 ZNF22, PHF8   \n",
       "1614      ZNT8           SLC30A8, SLC30A10   \n",
       "1615      ZRC1           SLC30A10, SLC30A1   \n",
       "1616     ZYG11              ZYG11B, ZYG11A   \n",
       "\n",
       "                                                ENSG_ID source  \n",
       "0                      ENSG00000139187, ENSG00000005022   HGNC  \n",
       "1                      ENSG00000143546, ENSG00000163220   HGNC  \n",
       "2                      ENSG00000206832, ENSG00000065135   HGNC  \n",
       "3                      ENSG00000115875, ENSG00000164609   HGNC  \n",
       "4     ENSG00000033627, ENSG00000035928, ENSG00000163...   HGNC  \n",
       "...                                                 ...    ...  \n",
       "1612                   ENSG00000120498, ENSG00000285243   ENSG  \n",
       "1613                   ENSG00000165512, ENSG00000172943   ENSG  \n",
       "1614                   ENSG00000164756, ENSG00000196660   ENSG  \n",
       "1615                   ENSG00000196660, ENSG00000170385   ENSG  \n",
       "1616                   ENSG00000162378, ENSG00000203995   ENSG  \n",
       "\n",
       "[6578 rows x 4 columns]"
      ]
     },
     "execution_count": 51,
     "metadata": {},
     "output_type": "execute_result"
    }
   ],
   "source": [
    "merged_aa_collision_alias_df = pd.concat(\n",
    "    [\n",
    "        aa_collision_alias_hgnc_df[[\"collision\", \"gene_symbol\", \"ENSG_ID\", \"source\"]],\n",
    "        aa_collision_alias_ncbi_df[[\"collision\", \"gene_symbol\", \"ENSG_ID\", \"source\"]],\n",
    "        aa_collision_alias_ensg_df[[\"collision\", \"gene_symbol\", \"ENSG_ID\", \"source\"]],\n",
    "    ]\n",
    ")\n",
    "merged_aa_collision_alias_df"
   ]
  },
  {
   "cell_type": "code",
   "execution_count": 52,
   "metadata": {},
   "outputs": [
    {
     "data": {
      "text/html": [
       "<div>\n",
       "<style scoped>\n",
       "    .dataframe tbody tr th:only-of-type {\n",
       "        vertical-align: middle;\n",
       "    }\n",
       "\n",
       "    .dataframe tbody tr th {\n",
       "        vertical-align: top;\n",
       "    }\n",
       "\n",
       "    .dataframe thead th {\n",
       "        text-align: right;\n",
       "    }\n",
       "</style>\n",
       "<table border=\"1\" class=\"dataframe\">\n",
       "  <thead>\n",
       "    <tr style=\"text-align: right;\">\n",
       "      <th></th>\n",
       "      <th>collision</th>\n",
       "      <th>gene_symbol</th>\n",
       "      <th>ENSG_ID</th>\n",
       "      <th>source</th>\n",
       "      <th>gene_symbol_count</th>\n",
       "    </tr>\n",
       "  </thead>\n",
       "  <tbody>\n",
       "    <tr>\n",
       "      <th>3636</th>\n",
       "      <td>VH</td>\n",
       "      <td>[IGHV4-59,  IGHV4-39,  IGHV4-34,  IGHV4-28,  I...</td>\n",
       "      <td>ENSG00000224373, ENSG00000211959, ENSG00000211...</td>\n",
       "      <td>NCBI</td>\n",
       "      <td>37</td>\n",
       "    </tr>\n",
       "    <tr>\n",
       "      <th>1409</th>\n",
       "      <td>H4-16</td>\n",
       "      <td>[H4C4,  H4C8,  H4C16,  H4C3,  H4C11,  H4C5,  H...</td>\n",
       "      <td>ENSG00000277157, ENSG00000158406, ENSG00000197...</td>\n",
       "      <td>NCBI</td>\n",
       "      <td>14</td>\n",
       "    </tr>\n",
       "    <tr>\n",
       "      <th>1412</th>\n",
       "      <td>H4C12</td>\n",
       "      <td>[H4C3,  H4C16,  H4C14,  H4C13,  H4C2,  H4C9,  ...</td>\n",
       "      <td>ENSG00000197061, ENSG00000197837, ENSG00000270...</td>\n",
       "      <td>NCBI</td>\n",
       "      <td>13</td>\n",
       "    </tr>\n",
       "    <tr>\n",
       "      <th>1413</th>\n",
       "      <td>H4C13</td>\n",
       "      <td>[H4C1,  H4C15,  H4C16,  H4C9,  H4C8,  H4C4,  H...</td>\n",
       "      <td>ENSG00000278637, ENSG00000270276, ENSG00000197...</td>\n",
       "      <td>NCBI</td>\n",
       "      <td>13</td>\n",
       "    </tr>\n",
       "    <tr>\n",
       "      <th>1423</th>\n",
       "      <td>H4C9</td>\n",
       "      <td>[H4C11,  H4C6,  H4C15,  H4C16,  H4C1,  H4C5,  ...</td>\n",
       "      <td>ENSG00000197238, ENSG00000274618, ENSG00000270...</td>\n",
       "      <td>NCBI</td>\n",
       "      <td>13</td>\n",
       "    </tr>\n",
       "    <tr>\n",
       "      <th>...</th>\n",
       "      <td>...</td>\n",
       "      <td>...</td>\n",
       "      <td>...</td>\n",
       "      <td>...</td>\n",
       "      <td>...</td>\n",
       "    </tr>\n",
       "    <tr>\n",
       "      <th>1151</th>\n",
       "      <td>FEB3B</td>\n",
       "      <td>[SCN9A,  GEFSP7]</td>\n",
       "      <td>ENSG00000169432, nan</td>\n",
       "      <td>NCBI</td>\n",
       "      <td>2</td>\n",
       "    </tr>\n",
       "    <tr>\n",
       "      <th>1150</th>\n",
       "      <td>FE</td>\n",
       "      <td>[GTF2E1,  GTF2E2]</td>\n",
       "      <td>ENSG00000153767, ENSG00000197265</td>\n",
       "      <td>NCBI</td>\n",
       "      <td>2</td>\n",
       "    </tr>\n",
       "    <tr>\n",
       "      <th>1149</th>\n",
       "      <td>FDH</td>\n",
       "      <td>[ADH5,  ALDH1L1]</td>\n",
       "      <td>ENSG00000197894, ENSG00000144908</td>\n",
       "      <td>NCBI</td>\n",
       "      <td>2</td>\n",
       "    </tr>\n",
       "    <tr>\n",
       "      <th>1148</th>\n",
       "      <td>FCT3A</td>\n",
       "      <td>[FUT6,  FUT4]</td>\n",
       "      <td>ENSG00000156413, ENSG00000196371</td>\n",
       "      <td>NCBI</td>\n",
       "      <td>2</td>\n",
       "    </tr>\n",
       "    <tr>\n",
       "      <th>1616</th>\n",
       "      <td>ZYG11</td>\n",
       "      <td>[ZYG11B,  ZYG11A]</td>\n",
       "      <td>ENSG00000162378, ENSG00000203995</td>\n",
       "      <td>ENSG</td>\n",
       "      <td>2</td>\n",
       "    </tr>\n",
       "  </tbody>\n",
       "</table>\n",
       "<p>6578 rows × 5 columns</p>\n",
       "</div>"
      ],
      "text/plain": [
       "     collision                                        gene_symbol  \\\n",
       "3636        VH  [IGHV4-59,  IGHV4-39,  IGHV4-34,  IGHV4-28,  I...   \n",
       "1409     H4-16  [H4C4,  H4C8,  H4C16,  H4C3,  H4C11,  H4C5,  H...   \n",
       "1412     H4C12  [H4C3,  H4C16,  H4C14,  H4C13,  H4C2,  H4C9,  ...   \n",
       "1413     H4C13  [H4C1,  H4C15,  H4C16,  H4C9,  H4C8,  H4C4,  H...   \n",
       "1423      H4C9  [H4C11,  H4C6,  H4C15,  H4C16,  H4C1,  H4C5,  ...   \n",
       "...        ...                                                ...   \n",
       "1151     FEB3B                                   [SCN9A,  GEFSP7]   \n",
       "1150        FE                                  [GTF2E1,  GTF2E2]   \n",
       "1149       FDH                                   [ADH5,  ALDH1L1]   \n",
       "1148     FCT3A                                      [FUT6,  FUT4]   \n",
       "1616     ZYG11                                  [ZYG11B,  ZYG11A]   \n",
       "\n",
       "                                                ENSG_ID source  \\\n",
       "3636  ENSG00000224373, ENSG00000211959, ENSG00000211...   NCBI   \n",
       "1409  ENSG00000277157, ENSG00000158406, ENSG00000197...   NCBI   \n",
       "1412  ENSG00000197061, ENSG00000197837, ENSG00000270...   NCBI   \n",
       "1413  ENSG00000278637, ENSG00000270276, ENSG00000197...   NCBI   \n",
       "1423  ENSG00000197238, ENSG00000274618, ENSG00000270...   NCBI   \n",
       "...                                                 ...    ...   \n",
       "1151                               ENSG00000169432, nan   NCBI   \n",
       "1150                   ENSG00000153767, ENSG00000197265   NCBI   \n",
       "1149                   ENSG00000197894, ENSG00000144908   NCBI   \n",
       "1148                   ENSG00000156413, ENSG00000196371   NCBI   \n",
       "1616                   ENSG00000162378, ENSG00000203995   ENSG   \n",
       "\n",
       "      gene_symbol_count  \n",
       "3636                 37  \n",
       "1409                 14  \n",
       "1412                 13  \n",
       "1413                 13  \n",
       "1423                 13  \n",
       "...                 ...  \n",
       "1151                  2  \n",
       "1150                  2  \n",
       "1149                  2  \n",
       "1148                  2  \n",
       "1616                  2  \n",
       "\n",
       "[6578 rows x 5 columns]"
      ]
     },
     "execution_count": 52,
     "metadata": {},
     "output_type": "execute_result"
    }
   ],
   "source": [
    "merged_aa_collision_alias_df[\"gene_symbol\"] = merged_aa_collision_alias_df[\n",
    "    \"gene_symbol\"\n",
    "].str.split(\",\")\n",
    "merged_aa_collision_alias_df[\"gene_symbol_count\"] = [\n",
    "    len(c) for c in merged_aa_collision_alias_df[\"gene_symbol\"]\n",
    "]\n",
    "merged_aa_collision_alias_df = merged_aa_collision_alias_df.sort_values(\n",
    "    by=\"gene_symbol_count\", ascending=False\n",
    ")\n",
    "merged_aa_collision_alias_df"
   ]
  },
  {
   "cell_type": "code",
   "execution_count": 53,
   "metadata": {},
   "outputs": [
    {
     "data": {
      "text/html": [
       "<div>\n",
       "<style scoped>\n",
       "    .dataframe tbody tr th:only-of-type {\n",
       "        vertical-align: middle;\n",
       "    }\n",
       "\n",
       "    .dataframe tbody tr th {\n",
       "        vertical-align: top;\n",
       "    }\n",
       "\n",
       "    .dataframe thead th {\n",
       "        text-align: right;\n",
       "    }\n",
       "</style>\n",
       "<table border=\"1\" class=\"dataframe\">\n",
       "  <thead>\n",
       "    <tr style=\"text-align: right;\">\n",
       "      <th></th>\n",
       "      <th>collision</th>\n",
       "      <th>gene_symbol</th>\n",
       "      <th>ENSG_ID</th>\n",
       "      <th>source</th>\n",
       "      <th>gene_symbol_count</th>\n",
       "    </tr>\n",
       "  </thead>\n",
       "  <tbody>\n",
       "    <tr>\n",
       "      <th>236</th>\n",
       "      <td>ASP</td>\n",
       "      <td>[ROPN1L,  TMPRSS11D,  ASPM,  A1CF,  ATG5,  ASP...</td>\n",
       "      <td>ENSG00000145491, ENSG00000153802, ENSG00000066...</td>\n",
       "      <td>NCBI</td>\n",
       "      <td>8</td>\n",
       "    </tr>\n",
       "    <tr>\n",
       "      <th>112</th>\n",
       "      <td>ASP</td>\n",
       "      <td>[ATG5,  ROPN1L,  ASPA,  A1CF,  TMPRSS11D,  ASI...</td>\n",
       "      <td>ENSG00000057663, ENSG00000145491, ENSG00000108...</td>\n",
       "      <td>ENSG</td>\n",
       "      <td>7</td>\n",
       "    </tr>\n",
       "    <tr>\n",
       "      <th>82</th>\n",
       "      <td>ASP</td>\n",
       "      <td>[TMPRSS11D,  ROPN1L,  ATG5,  A1CF,  ASPM,  ASP...</td>\n",
       "      <td>ENSG00000153802, ENSG00000145491, ENSG00000057...</td>\n",
       "      <td>HGNC</td>\n",
       "      <td>7</td>\n",
       "    </tr>\n",
       "  </tbody>\n",
       "</table>\n",
       "</div>"
      ],
      "text/plain": [
       "    collision                                        gene_symbol  \\\n",
       "236       ASP  [ROPN1L,  TMPRSS11D,  ASPM,  A1CF,  ATG5,  ASP...   \n",
       "112       ASP  [ATG5,  ROPN1L,  ASPA,  A1CF,  TMPRSS11D,  ASI...   \n",
       "82        ASP  [TMPRSS11D,  ROPN1L,  ATG5,  A1CF,  ASPM,  ASP...   \n",
       "\n",
       "                                               ENSG_ID source  \\\n",
       "236  ENSG00000145491, ENSG00000153802, ENSG00000066...   NCBI   \n",
       "112  ENSG00000057663, ENSG00000145491, ENSG00000108...   ENSG   \n",
       "82   ENSG00000153802, ENSG00000145491, ENSG00000057...   HGNC   \n",
       "\n",
       "     gene_symbol_count  \n",
       "236                  8  \n",
       "112                  7  \n",
       "82                   7  "
      ]
     },
     "execution_count": 53,
     "metadata": {},
     "output_type": "execute_result"
    }
   ],
   "source": [
    "merged_aa_collision_alias_df.loc[merged_aa_collision_alias_df[\"collision\"] == \"ASP\"]"
   ]
  },
  {
   "cell_type": "code",
   "execution_count": 54,
   "metadata": {},
   "outputs": [],
   "source": [
    "merged_aa_collision_alias_df.to_csv(\n",
    "    \"../created_files/merged_aa_collision_alias_df.csv\", index=True, quoting=0\n",
    ")"
   ]
  },
  {
   "cell_type": "code",
   "execution_count": 55,
   "metadata": {},
   "outputs": [
    {
     "data": {
      "text/plain": [
       "3824"
      ]
     },
     "execution_count": 55,
     "metadata": {},
     "output_type": "execute_result"
    }
   ],
   "source": [
    "aa_collision_set = set(merged_aa_collision_alias_df[\"collision\"].tolist())\n",
    "len(aa_collision_set)"
   ]
  },
  {
   "cell_type": "markdown",
   "metadata": {},
   "source": [
    "# <a id='toc6_'></a>[How many unique primary gene symbols are there?](#toc0_)"
   ]
  },
  {
   "cell_type": "markdown",
   "metadata": {},
   "source": [
    "## <a id='toc6_1_'></a>[Per Source](#toc0_)"
   ]
  },
  {
   "cell_type": "code",
   "execution_count": 56,
   "metadata": {},
   "outputs": [],
   "source": [
    "ensg_gene_symbol_set = set(mini_ensg_df[\"gene_symbol\"])\n",
    "ensg_gene_symbol_count = len(ensg_gene_symbol_set)"
   ]
  },
  {
   "cell_type": "code",
   "execution_count": 57,
   "metadata": {},
   "outputs": [],
   "source": [
    "hgnc_gene_symbol_set = set(mini_hgnc_df[\"gene_symbol\"])\n",
    "hgnc_gene_symbol_count = len(hgnc_gene_symbol_set)"
   ]
  },
  {
   "cell_type": "code",
   "execution_count": 58,
   "metadata": {},
   "outputs": [],
   "source": [
    "ncbi_gene_symbol_set = set(mini_ncbi_df[\"gene_symbol\"])\n",
    "ncbi_gene_symbol_count = len(ncbi_gene_symbol_set)"
   ]
  },
  {
   "cell_type": "code",
   "execution_count": 59,
   "metadata": {},
   "outputs": [
    {
     "data": {
      "text/html": [
       "<div>\n",
       "<style scoped>\n",
       "    .dataframe tbody tr th:only-of-type {\n",
       "        vertical-align: middle;\n",
       "    }\n",
       "\n",
       "    .dataframe tbody tr th {\n",
       "        vertical-align: top;\n",
       "    }\n",
       "\n",
       "    .dataframe thead th {\n",
       "        text-align: right;\n",
       "    }\n",
       "</style>\n",
       "<table border=\"1\" class=\"dataframe\">\n",
       "  <thead>\n",
       "    <tr style=\"text-align: right;\">\n",
       "      <th></th>\n",
       "      <th>Number of Unique Primary Gene Symbols</th>\n",
       "    </tr>\n",
       "  </thead>\n",
       "  <tbody>\n",
       "    <tr>\n",
       "      <th>HGNC</th>\n",
       "      <td>41068</td>\n",
       "    </tr>\n",
       "    <tr>\n",
       "      <th>ENSG</th>\n",
       "      <td>45646</td>\n",
       "    </tr>\n",
       "    <tr>\n",
       "      <th>NCBI</th>\n",
       "      <td>193303</td>\n",
       "    </tr>\n",
       "  </tbody>\n",
       "</table>\n",
       "</div>"
      ],
      "text/plain": [
       "      Number of Unique Primary Gene Symbols\n",
       "HGNC                                  41068\n",
       "ENSG                                  45646\n",
       "NCBI                                 193303"
      ]
     },
     "execution_count": 59,
     "metadata": {},
     "output_type": "execute_result"
    }
   ],
   "source": [
    "unique_primary_symbol_summary_index = \"HGNC\", \"ENSG\", \"NCBI\"\n",
    "unique_primary_symbol_summary = {\n",
    "    \"Number of Unique Primary Gene Symbols\": [\n",
    "        ensg_gene_symbol_count,\n",
    "        hgnc_gene_symbol_count,\n",
    "        ncbi_gene_symbol_count,\n",
    "    ]\n",
    "}\n",
    "unique_primary_symbol_summary_df = pd.DataFrame(\n",
    "    unique_primary_symbol_summary, index = unique_primary_symbol_summary_index\n",
    ")\n",
    "unique_primary_symbol_summary_df"
   ]
  },
  {
   "cell_type": "markdown",
   "metadata": {},
   "source": [
    "## <a id='toc6_2_'></a>[All sources](#toc0_)"
   ]
  },
  {
   "cell_type": "markdown",
   "metadata": {},
   "source": [
    "### <a id='toc6_2_1_'></a>[How many symbols appear in all sources?](#toc0_)"
   ]
  },
  {
   "cell_type": "code",
   "execution_count": 60,
   "metadata": {},
   "outputs": [
    {
     "data": {
      "text/plain": [
       "40885"
      ]
     },
     "execution_count": 60,
     "metadata": {},
     "output_type": "execute_result"
    }
   ],
   "source": [
    "all_sources_unique_primary_symbol_set = (\n",
    "    ensg_gene_symbol_set\n",
    "    & hgnc_gene_symbol_set\n",
    "    & ncbi_gene_symbol_set\n",
    ")\n",
    "all_sources_unique_primary_symbol_count = len(all_sources_unique_primary_symbol_set)\n",
    "all_sources_unique_primary_symbol_count"
   ]
  },
  {
   "cell_type": "markdown",
   "metadata": {},
   "source": [
    "Side Quest"
   ]
  },
  {
   "cell_type": "markdown",
   "metadata": {},
   "source": [
    "### NCBI has almost 4x times the amount of unique primary gene symbols than the other sources. Why? What are they?"
   ]
  },
  {
   "cell_type": "code",
   "execution_count": 61,
   "metadata": {},
   "outputs": [],
   "source": [
    "only_ncbi_gene_symbol_set = ncbi_gene_symbol_set - all_sources_unique_primary_symbol_set"
   ]
  },
  {
   "cell_type": "code",
   "execution_count": 62,
   "metadata": {},
   "outputs": [
    {
     "data": {
      "text/plain": [
       "152418"
      ]
     },
     "execution_count": 62,
     "metadata": {},
     "output_type": "execute_result"
    }
   ],
   "source": [
    "len(only_ncbi_gene_symbol_set)"
   ]
  },
  {
   "cell_type": "code",
   "execution_count": 63,
   "metadata": {},
   "outputs": [
    {
     "data": {
      "text/plain": [
       "{'LOC107986914',\n",
       " 'LOC128316938',\n",
       " 'LOC130004747',\n",
       " 'LOC130005241',\n",
       " 'LOC127396857',\n",
       " 'LOC129664147',\n",
       " 'LOC124403943',\n",
       " 'LOC130059162',\n",
       " 'LOC100288073',\n",
       " 'LOC127891108',\n",
       " 'LOC127887900',\n",
       " 'LOC127268642',\n",
       " 'LOC127460305',\n",
       " 'LOC130005578',\n",
       " 'SETDB2-PHF11',\n",
       " 'LOC127396588',\n",
       " 'LOC127814888',\n",
       " 'LOC130056659',\n",
       " 'LOC127400512',\n",
       " 'LOC127821122',\n",
       " 'LOC129929762',\n",
       " 'LOC129999581',\n",
       " 'LOC122152301',\n",
       " 'LOC121132687',\n",
       " 'LOC127269049',\n",
       " 'LOC130062604',\n",
       " 'LOC130055738',\n",
       " 'LOC130059301',\n",
       " 'LOC127895615',\n",
       " 'LOC121099718',\n",
       " 'LOC127890586',\n",
       " 'LOC127896026',\n",
       " 'LOC129662594',\n",
       " 'LOC127828025',\n",
       " 'LOC129936653',\n",
       " 'LOC129930531',\n",
       " 'LOC129994452',\n",
       " 'LOC129997936',\n",
       " 'LOC129934589',\n",
       " 'LOC129389105',\n",
       " 'LOC124908295',\n",
       " 'LOC127398817',\n",
       " 'LOC127405218',\n",
       " 'LOC124906155',\n",
       " 'LOC130063599',\n",
       " 'LOC122128440',\n",
       " 'LOC129932939',\n",
       " 'LOC127815064',\n",
       " 'LOC129390510',\n",
       " 'LOC130001740',\n",
       " 'LOC127821564',\n",
       " 'LOC127818810',\n",
       " 'LOC127817436',\n",
       " 'LOC130063491',\n",
       " 'LOC127276534',\n",
       " 'LOC113839504',\n",
       " 'LOC129930522',\n",
       " 'IGLV@',\n",
       " 'LOC127889638',\n",
       " 'LOC130063446',\n",
       " 'LOC127892348',\n",
       " 'THCAT155',\n",
       " 'LOC127884270',\n",
       " 'LOC129994624',\n",
       " 'HDPA',\n",
       " 'LOC127823862',\n",
       " 'LOC121530615',\n",
       " 'LOC127886148',\n",
       " 'LOC127897294',\n",
       " 'LOC129994932',\n",
       " 'LOC130058570',\n",
       " 'LOC129933292',\n",
       " 'LOC130001403',\n",
       " 'LOC107984777',\n",
       " 'LOC130065859',\n",
       " 'LOC127890573',\n",
       " 'LOC116158489',\n",
       " 'LOC127817081',\n",
       " 'LOC113939988',\n",
       " 'LOC127821823',\n",
       " 'LOC127267768',\n",
       " 'LOC129929288',\n",
       " 'LOC127897756',\n",
       " 'LOC129660455',\n",
       " 'LOC129664891',\n",
       " 'LOC124906091',\n",
       " 'LOC132088860',\n",
       " 'LOC127456886',\n",
       " 'LOC124904439',\n",
       " 'LOC130000135',\n",
       " 'LOC130067926',\n",
       " 'LOC127396938',\n",
       " 'LOC126859692',\n",
       " 'LOC129390965',\n",
       " 'LOC129934015',\n",
       " 'LOC130000911',\n",
       " 'LOC126807149',\n",
       " 'LOC127830292',\n",
       " 'LOC127460381',\n",
       " 'LOC129661085',\n",
       " 'LOC113788297',\n",
       " 'LOC127460640',\n",
       " 'LOC127827308',\n",
       " 'LOC127405030',\n",
       " 'LOC105377231',\n",
       " 'LOC127896591',\n",
       " 'LOC129933240',\n",
       " 'LOC129938167',\n",
       " 'LOC129996710',\n",
       " 'FRA18C',\n",
       " 'LOC127883453',\n",
       " 'LOC122756684',\n",
       " 'LOC130060531',\n",
       " 'LOC129998225',\n",
       " 'LOC127827506',\n",
       " 'LOC129389221',\n",
       " 'LOC127404537',\n",
       " 'LOC127816760',\n",
       " 'LOC127814486',\n",
       " 'LOC127269591',\n",
       " 'LOC121331325',\n",
       " 'LOC129937532',\n",
       " 'LOC127398710',\n",
       " 'LOC127460803',\n",
       " 'LOC105377114',\n",
       " 'LOC127407845',\n",
       " 'LOC129936683',\n",
       " 'LOC129664444',\n",
       " 'LOC130067528',\n",
       " 'LOC127405145',\n",
       " 'LOC130002345',\n",
       " 'LOC127820806',\n",
       " 'LOC130008316',\n",
       " 'LOC127408723',\n",
       " 'LOC129662303',\n",
       " 'LOC127460083',\n",
       " 'LOC127822523',\n",
       " 'LOC129663483',\n",
       " 'LOC132090426',\n",
       " 'LOC127825073',\n",
       " 'LOC127892317',\n",
       " 'LOC130008670',\n",
       " 'LOC127459513',\n",
       " 'RPS20P29',\n",
       " 'LOC127884026',\n",
       " 'LOC127895177',\n",
       " 'LOC130009994',\n",
       " 'LOC127525782',\n",
       " 'LOC130057610',\n",
       " 'LOC105379315',\n",
       " 'LOC112268269',\n",
       " 'LOC127272119',\n",
       " 'LOC122861281',\n",
       " 'LOC130066600',\n",
       " 'LOC127888163',\n",
       " 'LOC100419154',\n",
       " 'LOC107985409',\n",
       " 'LOC105374217',\n",
       " 'LOC127897057',\n",
       " 'LOC127824755',\n",
       " 'LOC129934134',\n",
       " 'LOC126862730',\n",
       " 'LOC132088753',\n",
       " 'LOC130065793',\n",
       " 'LOC105372959',\n",
       " 'LOC127883971',\n",
       " 'LOC127272179',\n",
       " 'LOC129660270',\n",
       " 'LOC127882495',\n",
       " 'LOC127274896',\n",
       " 'LOC123575664',\n",
       " 'LOC107987067',\n",
       " 'LOC127408083',\n",
       " 'LOC105372166',\n",
       " 'LOC128598884',\n",
       " 'LOC129663338',\n",
       " 'LOC130008961',\n",
       " 'LOC124904696',\n",
       " 'LOC129937142',\n",
       " 'LOC127897372',\n",
       " 'LOC124903959',\n",
       " 'LOC127883276',\n",
       " 'LOC127889959',\n",
       " 'LOC122889035',\n",
       " 'LOC129662849',\n",
       " 'LOC127891338',\n",
       " 'LOC127825410',\n",
       " 'LOC124903567',\n",
       " 'LOC130066058',\n",
       " 'LOC130068006',\n",
       " 'LOC129934749',\n",
       " 'LOC126862295',\n",
       " 'LOC127273299',\n",
       " 'LOC130003726',\n",
       " 'LOC127407275',\n",
       " 'LOC126807383',\n",
       " 'LOC127407143',\n",
       " 'LOC129663268',\n",
       " 'LOC127823746',\n",
       " 'LOC129388868',\n",
       " 'LOC127816864',\n",
       " 'LOC127830556',\n",
       " 'LOC127457458',\n",
       " 'LOC129993003',\n",
       " 'LOC130061190',\n",
       " 'LOC127828696',\n",
       " 'LOC129995614',\n",
       " 'SMAJ',\n",
       " 'LOC130059314',\n",
       " 'LOC124903141',\n",
       " 'OPA6',\n",
       " 'LOC124907603',\n",
       " 'LOC127892904',\n",
       " 'LOC127897602',\n",
       " 'LOC105377782',\n",
       " 'LOC127820342',\n",
       " 'LOC127823566',\n",
       " 'LOC127273173',\n",
       " 'LOC130060825',\n",
       " 'LOC127403134',\n",
       " 'LOC127887927',\n",
       " 'LOC132090907',\n",
       " 'LOC100532749',\n",
       " 'LOC110120982',\n",
       " 'LOC127891394',\n",
       " 'LOC130063925',\n",
       " 'LOC126859566',\n",
       " 'LOC127887918',\n",
       " 'LOC127267010',\n",
       " 'LOC127825743',\n",
       " 'LOC130003533',\n",
       " 'LOC130063259',\n",
       " 'LOC127270270',\n",
       " 'LOC127890103',\n",
       " 'LOC130065928',\n",
       " 'LOC127890164',\n",
       " 'LOC127897471',\n",
       " 'LOC127889618',\n",
       " 'LOC127276313',\n",
       " 'LOC105373164',\n",
       " 'LOC130068206',\n",
       " 'LOC121366083',\n",
       " 'LOC129933678',\n",
       " 'LOC127898222',\n",
       " 'LOC129936298',\n",
       " 'LOC112552150',\n",
       " 'LOC132090151',\n",
       " 'LOC130006488',\n",
       " 'LOC130058908',\n",
       " 'LOC124909311',\n",
       " 'LOC127459498',\n",
       " 'LOC129935383',\n",
       " 'LOC130001747',\n",
       " 'LOC127406102',\n",
       " 'LOC130058459',\n",
       " 'LOC127817320',\n",
       " 'LOC127403492',\n",
       " 'LOC127402181',\n",
       " 'LOC126861032',\n",
       " 'LOC130055548',\n",
       " 'RNU7-16P',\n",
       " 'LOC127396835',\n",
       " 'LOC127826597',\n",
       " 'LOC130057045',\n",
       " 'LOC127895342',\n",
       " 'LOC105378747',\n",
       " 'LOC129389359',\n",
       " 'LOC127269651',\n",
       " 'LOC127138879',\n",
       " 'FGQTL2',\n",
       " 'LOC105378639',\n",
       " 'LOC127883361',\n",
       " 'LOC127274801',\n",
       " 'LOC129391042',\n",
       " 'LOC129997648',\n",
       " 'ATP8A2P1',\n",
       " 'LOC126859943',\n",
       " 'LOC132089783',\n",
       " 'LOC127401666',\n",
       " 'MIR12125',\n",
       " 'LOC130005311',\n",
       " 'LOC127822628',\n",
       " 'LOC129992862',\n",
       " 'LOC130061538',\n",
       " 'LOC130056149',\n",
       " 'LOC123477746',\n",
       " 'LOC126861604',\n",
       " 'LOC127898089',\n",
       " 'LOC127885412',\n",
       " 'LOC124909067',\n",
       " 'LOC132090637',\n",
       " 'LOC127268490',\n",
       " 'LOC127891797',\n",
       " 'LOC127816699',\n",
       " 'LOC130004940',\n",
       " 'LOC127885126',\n",
       " 'LOC127825723',\n",
       " 'LOC126861522',\n",
       " 'LOC127268956',\n",
       " 'LOC127274312',\n",
       " 'LOC129936429',\n",
       " 'LOC126806867',\n",
       " 'LOC127883240',\n",
       " 'LOC127895493',\n",
       " 'LOC129661396',\n",
       " 'LOC129992263',\n",
       " 'LOC129662641',\n",
       " 'LOC127822462',\n",
       " 'LOC130055914',\n",
       " 'LOC129389411',\n",
       " 'LOC127460045',\n",
       " 'LOC129934882',\n",
       " 'LOC129663471',\n",
       " 'LOC126805987',\n",
       " 'LOC124900331',\n",
       " 'LOC130062062',\n",
       " 'LOC108961161',\n",
       " 'LOC127819132',\n",
       " 'LOC105379263',\n",
       " 'LOC105374167',\n",
       " 'LOC127893753',\n",
       " 'LOC107984016',\n",
       " 'LOC126862670',\n",
       " 'LOC127891370',\n",
       " 'LOC126859894',\n",
       " 'LOC129991974',\n",
       " 'LOC127409121',\n",
       " 'LOC129935821',\n",
       " 'LOC130002716',\n",
       " 'LOC129664532',\n",
       " 'LOC127817160',\n",
       " 'LOC127883066',\n",
       " 'LOC129998377',\n",
       " 'LOC129929123',\n",
       " 'LOC127267286',\n",
       " 'LOC130064237',\n",
       " 'THSD4-AS2',\n",
       " 'LOC127815416',\n",
       " 'LOC127830721',\n",
       " 'LOC129997065',\n",
       " 'LOC130006813',\n",
       " 'LOC107648866',\n",
       " 'LOC127817079',\n",
       " 'LOC127460006',\n",
       " 'LOC127460409',\n",
       " 'LOC129997794',\n",
       " 'LOC130000808',\n",
       " 'LOC124903864',\n",
       " 'LOC130057736',\n",
       " 'LOC124903023',\n",
       " 'LOC124904421',\n",
       " 'LOC127889452',\n",
       " 'LOC126860513',\n",
       " 'LOC127827813',\n",
       " 'LOC127402304',\n",
       " 'LOC127823014',\n",
       " 'LOC130068369',\n",
       " 'LOC129390438',\n",
       " 'LOC127816842',\n",
       " 'LOC132090465',\n",
       " 'LOC129930493',\n",
       " 'LOC121113498',\n",
       " 'SXI2',\n",
       " 'LOC130066881',\n",
       " 'LOC127400384',\n",
       " 'LOC127824668',\n",
       " 'LOC124902329',\n",
       " 'LOC129995475',\n",
       " 'LOC127882663',\n",
       " 'TEKT4P1',\n",
       " 'LOC126859812',\n",
       " 'LOC130006680',\n",
       " 'LOC127826231',\n",
       " 'LOC105371452',\n",
       " 'LOC127818129',\n",
       " 'LOC127884378',\n",
       " 'LOC129996307',\n",
       " 'LOC129998595',\n",
       " 'LOC130068805',\n",
       " 'LOC124906608',\n",
       " 'LOC129929430',\n",
       " 'LOC124908703',\n",
       " 'LOC124902547',\n",
       " 'LOC127269392',\n",
       " 'LOC126806737',\n",
       " 'LOC101928824',\n",
       " 'LOC127270045',\n",
       " 'LOC124904188',\n",
       " 'LOC100128288',\n",
       " 'LOC129930743',\n",
       " 'LOC127267891',\n",
       " 'LOC128772278',\n",
       " 'LOC126863038',\n",
       " 'LOC129933973',\n",
       " 'LOC129391196',\n",
       " 'LOC130068756',\n",
       " 'LOC108165613',\n",
       " 'LOC127893574',\n",
       " 'LOC129389913',\n",
       " 'LOC105377560',\n",
       " 'LOC100129078',\n",
       " 'LOC127894971',\n",
       " 'LOC129936545',\n",
       " 'LOC130066500',\n",
       " 'LOC129933666',\n",
       " 'LOC130005641',\n",
       " 'LOC130058902',\n",
       " 'LOC127401219',\n",
       " 'LOC129929589',\n",
       " 'LOC130160547',\n",
       " 'LOC127268474',\n",
       " 'LOC127275970',\n",
       " 'LOC127895179',\n",
       " 'LOC129933539',\n",
       " 'LOC127399633',\n",
       " 'LOC121847962',\n",
       " 'LOC105371067',\n",
       " 'LOC127272379',\n",
       " 'LOC127268923',\n",
       " 'LOC127822954',\n",
       " 'LOC129933518',\n",
       " 'LOC130002736',\n",
       " 'LOC130056052',\n",
       " 'LOC100505918',\n",
       " 'LOC127271689',\n",
       " 'LOC130065804',\n",
       " 'LOC124908397',\n",
       " 'LOC127821362',\n",
       " 'LOC127268976',\n",
       " 'LOC127818127',\n",
       " 'LOC127895726',\n",
       " 'LOC107985521',\n",
       " 'LOC127824372',\n",
       " 'LOC127827128',\n",
       " 'LOC100420228',\n",
       " 'LOC129662796',\n",
       " 'LOC127399229',\n",
       " 'LOC127820549',\n",
       " 'LOC127405306',\n",
       " 'LOC127267366',\n",
       " 'LOC127892176',\n",
       " 'LOC130001620',\n",
       " 'LOC127404633',\n",
       " 'LOC127826575',\n",
       " 'LOC129388968',\n",
       " 'LOC126861936',\n",
       " 'LOC127827116',\n",
       " 'LOC127816418',\n",
       " 'LOC127814593',\n",
       " 'LOC130060867',\n",
       " 'LOC126860025',\n",
       " 'LOC125078061',\n",
       " 'LOC127402392',\n",
       " 'MRPS7P2',\n",
       " 'LOC127275562',\n",
       " 'LOC127402718',\n",
       " 'LOC129390496',\n",
       " 'LOC111429620',\n",
       " 'LOC130061304',\n",
       " 'LOC129994465',\n",
       " 'LOC129663865',\n",
       " 'LOC130000494',\n",
       " 'LOC127457676',\n",
       " 'LOC130004738',\n",
       " 'LOC130055319',\n",
       " 'LOC127402223',\n",
       " 'LOC127818621',\n",
       " 'LOC127398878',\n",
       " 'LOC127825718',\n",
       " 'LOC127883230',\n",
       " 'LOC127823448',\n",
       " 'LOC127819878',\n",
       " 'LOC127458006',\n",
       " 'LOC112577576',\n",
       " 'LOC127271434',\n",
       " 'LOC102723517',\n",
       " 'LOC129998317',\n",
       " 'LOC127827597',\n",
       " 'LOC127457101',\n",
       " 'LOC117125591',\n",
       " 'COA1P1',\n",
       " 'LOC647086',\n",
       " 'LOC127817736',\n",
       " 'LOC129932585',\n",
       " 'LOC127886455',\n",
       " 'LOC127826369',\n",
       " 'LOC129662759',\n",
       " 'LOC130064092',\n",
       " 'LOC127892824',\n",
       " 'RPS6P18',\n",
       " 'LOC129936473',\n",
       " 'LOC130005456',\n",
       " 'LOC130058569',\n",
       " 'LOC130055707',\n",
       " 'CMT2H',\n",
       " 'LOC129933015',\n",
       " 'LOC127821227',\n",
       " 'LOC127816085',\n",
       " 'LOC127815230',\n",
       " 'LOC127822120',\n",
       " 'LOC100131725',\n",
       " 'LOC125467794',\n",
       " 'LOC127460080',\n",
       " 'LOC127893814',\n",
       " 'LOC127404971',\n",
       " 'LOC130055844',\n",
       " 'LOC124902117',\n",
       " 'LOC125048439',\n",
       " 'LOC121815967',\n",
       " 'LOC129388525',\n",
       " 'LOC127824615',\n",
       " 'LOC127273339',\n",
       " 'LOC124907116',\n",
       " 'LOC126862871',\n",
       " 'LOC124901675',\n",
       " 'LOC130007682',\n",
       " 'LOC154761',\n",
       " 'LOC130067116',\n",
       " 'LOC129998928',\n",
       " 'LOC127402317',\n",
       " 'LOC127269866',\n",
       " 'LOC127396969',\n",
       " 'LOC130066996',\n",
       " 'LOC127827442',\n",
       " 'LOC127458034',\n",
       " 'LOC129930063',\n",
       " 'LOC130009132',\n",
       " 'LOC130006674',\n",
       " 'LOC124908533',\n",
       " 'LOC129936021',\n",
       " 'LOC127889984',\n",
       " 'LOC127814404',\n",
       " 'LOC130060342',\n",
       " 'LOC112136095',\n",
       " 'LOC127817021',\n",
       " 'LOC127401197',\n",
       " 'LOC127406892',\n",
       " 'LOC127828320',\n",
       " 'LOC129388631',\n",
       " 'LOC124904258',\n",
       " 'LOC127268405',\n",
       " 'LOC127824813',\n",
       " 'LOC124907846',\n",
       " 'LOC127889978',\n",
       " 'LOC130067142',\n",
       " 'LOC127459462',\n",
       " 'LOC105370525',\n",
       " 'LOC129998931',\n",
       " 'LOC129663817',\n",
       " 'LOC107984340',\n",
       " 'LOC129388800',\n",
       " 'LOC127887631',\n",
       " 'LOC127349443',\n",
       " 'LOC127897530',\n",
       " 'LOC130009639',\n",
       " 'LOC130060838',\n",
       " 'LOC130002148',\n",
       " 'LOC129662431',\n",
       " 'LOC121853063',\n",
       " 'LOC124908916',\n",
       " 'LOC126860633',\n",
       " 'LOC107986656',\n",
       " 'LOC127460549',\n",
       " 'LOC129937630',\n",
       " 'LOC121725209',\n",
       " 'LOC129996118',\n",
       " 'LOC130006355',\n",
       " 'LOC129936282',\n",
       " 'LOC127405736',\n",
       " 'LOC127407589',\n",
       " 'LOC130056350',\n",
       " 'LOC127897331',\n",
       " 'LOC127822760',\n",
       " 'LOC129390068',\n",
       " 'LOC126807391',\n",
       " 'LOC127819822',\n",
       " 'LOC127826741',\n",
       " 'LOC129993189',\n",
       " 'LOC130007110',\n",
       " 'LOC116276465',\n",
       " 'LOC132205964',\n",
       " 'LOC127267342',\n",
       " 'LOC124903061',\n",
       " 'LOC127275496',\n",
       " 'LOC127815132',\n",
       " 'LOC127892309',\n",
       " 'LOC127403868',\n",
       " 'LOC127816196',\n",
       " 'LOC127883627',\n",
       " 'LOC129934201',\n",
       " 'LOC130057940',\n",
       " 'LOC105375187',\n",
       " 'LOC127276252',\n",
       " 'LOC130066504',\n",
       " 'LOC129996175',\n",
       " 'LOC124907537',\n",
       " 'LOC127828284',\n",
       " 'LOC130067399',\n",
       " 'LOC127402829',\n",
       " 'LOC128316576',\n",
       " 'LOC129994196',\n",
       " 'LOC126859910',\n",
       " 'LOC129996903',\n",
       " 'LOC129929375',\n",
       " 'LOC130056755',\n",
       " 'LOC127891900',\n",
       " 'LOC132090681',\n",
       " 'LOC127406541',\n",
       " 'LOC127883411',\n",
       " 'LOC102723560',\n",
       " 'LOC129992044',\n",
       " 'LOC129932987',\n",
       " 'DFNA42',\n",
       " 'LOC121838600',\n",
       " 'LOC100421204',\n",
       " 'LOC127882867',\n",
       " 'LOC130062134',\n",
       " 'LOC124902667',\n",
       " 'LOC127893698',\n",
       " 'LOC105379450',\n",
       " 'LOC130002046',\n",
       " 'LOC124905430',\n",
       " 'LOC127818379',\n",
       " 'LOC127820157',\n",
       " 'LOC127268057',\n",
       " 'LOC127401014',\n",
       " 'LOC132089610',\n",
       " 'LOC130062108',\n",
       " 'LOC122094859',\n",
       " 'LOC129389593',\n",
       " 'LOC127889911',\n",
       " 'LOC130066587',\n",
       " 'LOC129664192',\n",
       " 'LOC107181288',\n",
       " 'LOC129995786',\n",
       " 'LOC129933599',\n",
       " 'LOC107984865',\n",
       " 'TRK-CTT13-1',\n",
       " 'LOC129664784',\n",
       " 'LOC127890504',\n",
       " 'LOC129934536',\n",
       " 'LOC130003172',\n",
       " 'LOC124625889',\n",
       " 'LOC130055553',\n",
       " 'LOC127408922',\n",
       " 'LOC116216153',\n",
       " 'LOC132088809',\n",
       " 'LOC127397289',\n",
       " 'LOC105370670',\n",
       " 'LOC127894742',\n",
       " 'LOC106783497',\n",
       " 'LOC127896218',\n",
       " 'LOC127885935',\n",
       " 'LOC127273866',\n",
       " 'LOC130055288',\n",
       " 'LOC130055952',\n",
       " 'RNY5P3',\n",
       " 'LOC127814986',\n",
       " 'LOC127825763',\n",
       " 'LOC125048427',\n",
       " 'LOC127271078',\n",
       " 'LOC130002502',\n",
       " 'LOC105378210',\n",
       " 'LOC129388638',\n",
       " 'LOC129390491',\n",
       " 'LOC129999488',\n",
       " 'LOC127890873',\n",
       " 'LOC127814403',\n",
       " 'LOC122152333',\n",
       " 'LOC130055832',\n",
       " 'LOC127402942',\n",
       " 'LOC129931096',\n",
       " 'LOC127820984',\n",
       " 'LOC129930882',\n",
       " 'LOC127827057',\n",
       " 'LOC130007827',\n",
       " 'LOC130010215',\n",
       " 'LOC127404846',\n",
       " 'LOC124904478',\n",
       " 'LOC130061482',\n",
       " 'LOC130064151',\n",
       " 'LOC130006385',\n",
       " 'LOC111188154',\n",
       " 'LOC127894726',\n",
       " 'LOC130060354',\n",
       " 'LOC126862433',\n",
       " 'LOC105376265',\n",
       " 'LOC129998184',\n",
       " 'LOC127896541',\n",
       " 'LOC130065620',\n",
       " 'LOC130009573',\n",
       " 'LOC130007576',\n",
       " 'LOC124906658',\n",
       " 'LOC124909418',\n",
       " 'LOC124433254',\n",
       " 'LOC126806549',\n",
       " 'LOC107984855',\n",
       " 'LOC130059467',\n",
       " 'LOC130064804',\n",
       " 'LOC127460712',\n",
       " 'LOC127399980',\n",
       " 'LOC130064863',\n",
       " 'LOC129664877',\n",
       " 'LOC127459603',\n",
       " 'LOC127886664',\n",
       " 'LOC132089376',\n",
       " 'LOC127405476',\n",
       " 'LOC127829172',\n",
       " 'LOC124908624',\n",
       " 'LOC127409392',\n",
       " 'LOC126862714',\n",
       " 'LOC122094886',\n",
       " 'LOC127274735',\n",
       " 'LOC129389788',\n",
       " 'LOC130056354',\n",
       " 'LOC124900708',\n",
       " 'LOC129929644',\n",
       " 'LOC127400010',\n",
       " 'LOC130057717',\n",
       " 'LOC132090657',\n",
       " 'LOC126861064',\n",
       " 'LOC129999009',\n",
       " 'LOC132090883',\n",
       " 'LOC105370247',\n",
       " 'LOC127882740',\n",
       " 'LOC127272878',\n",
       " 'LOC127400554',\n",
       " 'LOC132089658',\n",
       " 'LOC130068307',\n",
       " 'LOC127825927',\n",
       " 'LOC127898405',\n",
       " 'LOC127401302',\n",
       " 'LOC127826296',\n",
       " 'DPPA5P3',\n",
       " 'LOC127889187',\n",
       " 'LOC127815437',\n",
       " 'LOC129389687',\n",
       " 'LOC105376888',\n",
       " 'LOC126862167',\n",
       " 'LOC132089930',\n",
       " 'LOC127818368',\n",
       " 'LOC127882761',\n",
       " 'LOC127267752',\n",
       " 'LOC127889648',\n",
       " 'LOC129389514',\n",
       " 'LOC124904181',\n",
       " 'LOC127402027',\n",
       " 'LOC129996984',\n",
       " 'LOC126862757',\n",
       " 'LOC127817182',\n",
       " 'LOC127822697',\n",
       " 'LOC127890345',\n",
       " 'LOC127826138',\n",
       " 'LOC129997264',\n",
       " 'LOC129936303',\n",
       " 'LOC105375450',\n",
       " 'LOC127457136',\n",
       " 'LOC127275565',\n",
       " 'LOC113146409',\n",
       " 'LOC127826994',\n",
       " 'LOC127271455',\n",
       " 'LOC105379549',\n",
       " 'LOC127830195',\n",
       " 'LOC127889040',\n",
       " 'LOC129929349',\n",
       " 'LOC130008702',\n",
       " 'LOC127817389',\n",
       " 'LOC130067063',\n",
       " 'LOC127886726',\n",
       " 'LOC127460732',\n",
       " 'LOC130001343',\n",
       " 'LOC127458850',\n",
       " 'LOC127459180',\n",
       " 'LOC130008947',\n",
       " 'LOC127890344',\n",
       " 'LOC127276331',\n",
       " 'LOC129931875',\n",
       " 'LOC123987605',\n",
       " 'LOC127273158',\n",
       " 'LOC129661410',\n",
       " 'LOC127270452',\n",
       " 'LOC127818034',\n",
       " 'LOC129660693',\n",
       " 'LOC127897426',\n",
       " 'LOC127819022',\n",
       " 'LOC100419977',\n",
       " 'LOC129995554',\n",
       " 'LOC127457921',\n",
       " 'LOC129663426',\n",
       " 'LOC102723842',\n",
       " 'LOC127886131',\n",
       " 'LOC127398048',\n",
       " 'LOC127821090',\n",
       " 'LOC127401154',\n",
       " 'LOC127275925',\n",
       " 'LOC122861259',\n",
       " 'LOC130065238',\n",
       " 'LOC126863049',\n",
       " 'LOC127403337',\n",
       " 'LOC105373077',\n",
       " 'LOC129663018',\n",
       " 'LOC124903874',\n",
       " 'LOC102723632',\n",
       " 'LOC129997889',\n",
       " 'LOC125177353',\n",
       " 'LOC127459557',\n",
       " 'LOC126860322',\n",
       " 'LOC132090734',\n",
       " 'LOC127458612',\n",
       " 'LOC129662543',\n",
       " 'LOC124901004',\n",
       " 'LOC127816816',\n",
       " 'LOC124902383',\n",
       " 'LOC127274345',\n",
       " 'LOC127815034',\n",
       " 'LOC129664355',\n",
       " 'LOC127271851',\n",
       " 'LOC127888600',\n",
       " 'LOC127888837',\n",
       " 'LOC127815686',\n",
       " 'LOC130002319',\n",
       " 'LOC130006171',\n",
       " 'LOC127407959',\n",
       " 'LOC127817884',\n",
       " 'LOC130055256',\n",
       " 'LOC127893914',\n",
       " 'LOC130003498',\n",
       " 'LOC121056759',\n",
       " 'LOC130058368',\n",
       " 'LOC129993645',\n",
       " 'LOC127274799',\n",
       " 'LOC102724520',\n",
       " 'LOC121048713',\n",
       " 'LOC127407457',\n",
       " 'LOC127272136',\n",
       " 'LOC100505912',\n",
       " 'LOC122889047',\n",
       " 'LOC124500689',\n",
       " 'LOC130066947',\n",
       " 'LOC127819345',\n",
       " 'LOC129389461',\n",
       " 'LOC127400124',\n",
       " 'LOC127823637',\n",
       " 'LOC125446273',\n",
       " 'LOC130066553',\n",
       " 'LOC129663490',\n",
       " 'LOC129663657',\n",
       " 'LOC129998271',\n",
       " 'LOC127271284',\n",
       " 'LOC126806858',\n",
       " 'LOC127267554',\n",
       " 'LOC126805823',\n",
       " 'LOC127269545',\n",
       " 'LOC127820209',\n",
       " 'LOC127274011',\n",
       " 'LOC124906890',\n",
       " 'LOC126264116',\n",
       " 'LOC129930710',\n",
       " 'LOC110120945',\n",
       " 'LOC127268953',\n",
       " 'LOC130005662',\n",
       " 'LOC127889585',\n",
       " 'LOC127885894',\n",
       " 'LOC107984896',\n",
       " 'LOC130061898',\n",
       " 'LOC127271164',\n",
       " 'LOC130008574',\n",
       " 'LOC127895223',\n",
       " 'LOC129663768',\n",
       " 'LOC127397499',\n",
       " 'LOC127274986',\n",
       " 'LOC127892381',\n",
       " 'LOC127271551',\n",
       " 'LOC127270418',\n",
       " 'LOC107985295',\n",
       " 'LOC127820174',\n",
       " 'LOC129664621',\n",
       " 'LOC127828808',\n",
       " 'LOC130055912',\n",
       " 'LOC127822050',\n",
       " 'LOC128772423',\n",
       " 'LOC127269152',\n",
       " 'LOC127821372',\n",
       " 'LOC127826139',\n",
       " 'LOC122756386',\n",
       " 'LOC132089814',\n",
       " 'LOC127457963',\n",
       " 'LOC127400367',\n",
       " 'LOC105370847',\n",
       " 'LOC130058193',\n",
       " 'LOC124908723',\n",
       " 'LOC130004883',\n",
       " 'LOC107986391',\n",
       " 'LOC127820769',\n",
       " 'LOC127885529',\n",
       " 'LOC127267868',\n",
       " 'LOC127399072',\n",
       " 'LOC127820867',\n",
       " 'LOC124909315',\n",
       " 'LOC127896176',\n",
       " 'LOC127897999',\n",
       " 'LOC130055491',\n",
       " 'LOC132089575',\n",
       " 'LOC127270679',\n",
       " 'LOC124901719',\n",
       " 'LOC127269731',\n",
       " 'LOC130007050',\n",
       " 'HMGN2P14',\n",
       " 'LOC112268248',\n",
       " 'LOC127898482',\n",
       " 'LOC127824595',\n",
       " 'LOC124901812',\n",
       " 'LOC111413045',\n",
       " 'LOC127894844',\n",
       " 'LOC127269242',\n",
       " 'LOC132089117',\n",
       " 'LOC105375897',\n",
       " 'LOC129933866',\n",
       " 'LOC124908921',\n",
       " 'LOC127894843',\n",
       " 'LOC127457669',\n",
       " 'LOC127403521',\n",
       " 'LOC127897474',\n",
       " 'LOC130056681',\n",
       " 'LOC129661939',\n",
       " 'LOC127815448',\n",
       " 'LOC129664874',\n",
       " 'LOC129993895',\n",
       " 'LOC130067228',\n",
       " 'LOC132089740',\n",
       " 'LOC130009817',\n",
       " 'LOC129933655',\n",
       " 'LOC130009060',\n",
       " 'LOC107984572',\n",
       " 'LOC127887337',\n",
       " 'LOC129389702',\n",
       " 'LOC127276345',\n",
       " 'LOC105376479',\n",
       " 'LOC124902161',\n",
       " 'LOC129936818',\n",
       " 'LOC127405337',\n",
       " 'LOC129998313',\n",
       " 'LOC112935908',\n",
       " 'DNAJC2P1',\n",
       " 'LOC127888464',\n",
       " 'LOC124905335',\n",
       " 'FCRL6P1',\n",
       " 'LOC127816532',\n",
       " 'LOC127815978',\n",
       " 'LOC130000372',\n",
       " 'LOC127268236',\n",
       " 'LOC127406612',\n",
       " 'LOC130008603',\n",
       " 'LOC127826181',\n",
       " 'LOC127404348',\n",
       " 'RNU7-72P',\n",
       " 'LOC130003641',\n",
       " 'LOC127829066',\n",
       " 'LOC130062928',\n",
       " 'LOC130006244',\n",
       " 'LOC126807069',\n",
       " 'LOC122756380',\n",
       " 'LOC128316684',\n",
       " 'LOC129934120',\n",
       " 'LOC130059014',\n",
       " 'IBD6',\n",
       " 'LOC127815115',\n",
       " 'LOC127897667',\n",
       " 'LOC124907090',\n",
       " 'LOC127885277',\n",
       " 'LOC127897719',\n",
       " 'LOC129388802',\n",
       " 'LOC130058916',\n",
       " 'LOC129995781',\n",
       " 'LOC127272714',\n",
       " 'SSX16P',\n",
       " 'LOC129936399',\n",
       " 'LOC124900915',\n",
       " 'LOC127814374',\n",
       " 'LOC130067014',\n",
       " 'LOC127827885',\n",
       " 'LOC129936426',\n",
       " 'LOC129390077',\n",
       " 'LOC105378496',\n",
       " 'LOC124907911',\n",
       " 'LOC127267671',\n",
       " 'LOC130064692',\n",
       " 'LOC129933111',\n",
       " 'LOC130009187',\n",
       " 'LOC127459306',\n",
       " 'LOC128966583',\n",
       " 'LOC130008747',\n",
       " 'LOC126807072',\n",
       " 'LOC100533628',\n",
       " 'LOC130008461',\n",
       " 'LOC127408537',\n",
       " 'LOC130009751',\n",
       " 'LOC130064508',\n",
       " 'LOC127883703',\n",
       " 'LOC114004370',\n",
       " ...}"
      ]
     },
     "execution_count": 63,
     "metadata": {},
     "output_type": "execute_result"
    }
   ],
   "source": [
    "only_ncbi_gene_symbol_set"
   ]
  },
  {
   "cell_type": "markdown",
   "metadata": {},
   "source": [
    "#### Most of the symbols that are unique to NCBI (147,913/152,418-97%) begin with \"LOC\""
   ]
  },
  {
   "cell_type": "code",
   "execution_count": 64,
   "metadata": {},
   "outputs": [
    {
     "data": {
      "text/plain": [
       "4505"
      ]
     },
     "execution_count": 64,
     "metadata": {},
     "output_type": "execute_result"
    }
   ],
   "source": [
    "filtered_set = {gene for gene in only_ncbi_gene_symbol_set if not gene.startswith('LOC')}\n",
    "len(filtered_set)"
   ]
  },
  {
   "cell_type": "code",
   "execution_count": 65,
   "metadata": {},
   "outputs": [
    {
     "data": {
      "text/plain": [
       "{'GAGE8',\n",
       " 'RNA5SP463',\n",
       " 'TRNS1',\n",
       " 'SEPTIN14P20',\n",
       " 'HNFJ3',\n",
       " 'ND4L',\n",
       " 'ORS8',\n",
       " 'STQTL12',\n",
       " 'SCA26',\n",
       " 'BNIP3P21',\n",
       " 'HECTD2-AS1',\n",
       " 'TRA-AGC8-1',\n",
       " 'ANCR',\n",
       " 'MEP1AP2',\n",
       " 'SNORA111',\n",
       " 'TCPT',\n",
       " 'ISCA1P7',\n",
       " 'SLC66A2P2',\n",
       " 'TRNAA-CGC',\n",
       " 'PIRC3',\n",
       " 'FRA11G',\n",
       " 'PCMTD1P6',\n",
       " 'MLDHR',\n",
       " 'RNU7-32P',\n",
       " 'TAS2R37',\n",
       " 'SETDB2-PHF11',\n",
       " 'TRM-CAT3-1',\n",
       " 'TRM-CAT4-1',\n",
       " 'IGLV5-39',\n",
       " 'SNORD169',\n",
       " 'BEVI',\n",
       " 'FGFR3P3',\n",
       " 'FAM95C',\n",
       " 'ATOD3',\n",
       " 'TRL-AAG8-1',\n",
       " 'DYZ1L2',\n",
       " 'MEP1AP3',\n",
       " 'CENATACP1',\n",
       " 'LAP',\n",
       " 'MTND4P40',\n",
       " 'TRC-ACA1-1',\n",
       " 'LAKLG',\n",
       " 'RNA18SN5',\n",
       " 'TRV-CAC1-6',\n",
       " 'MGR10',\n",
       " 'RNA18SP5',\n",
       " 'FAM27E4',\n",
       " 'STQTL3',\n",
       " 'ANKRD20A4-ANKRD20A20P',\n",
       " 'CNA1',\n",
       " 'RNU7-36P',\n",
       " 'TJP1P1',\n",
       " 'ASH2LP4',\n",
       " 'PIRC102',\n",
       " 'DFNB45',\n",
       " 'DUP17P13.3',\n",
       " 'SLED1',\n",
       " 'MAFD3',\n",
       " 'FUSE',\n",
       " 'DYX8',\n",
       " 'TRUND-NNN7-1',\n",
       " 'TRV-AAC1-1',\n",
       " 'VN1R95P',\n",
       " 'PPKP1B',\n",
       " 'CILD4',\n",
       " 'SPG19',\n",
       " 'RPL41P3',\n",
       " 'ERVS71-1',\n",
       " 'TRR-CCT1-1',\n",
       " 'PSMAGEA',\n",
       " 'TRC-GCA9-2',\n",
       " 'PIRC59',\n",
       " 'OCA5',\n",
       " 'ST8',\n",
       " 'RPS8P11',\n",
       " 'GUK2',\n",
       " 'TRA-AGC1-1',\n",
       " 'DYZ1L8',\n",
       " 'SHFL1',\n",
       " 'FRA6C',\n",
       " 'IGLV@',\n",
       " 'CLLS5',\n",
       " 'ENFL2',\n",
       " 'CEND1P2',\n",
       " 'MORF4L1P2',\n",
       " 'THCAT155',\n",
       " 'DEL13Q33Q34',\n",
       " 'TRE-TTC16-1',\n",
       " 'ST6GALNAC4-ST6GALNAC6-AK1',\n",
       " 'LINC01617',\n",
       " 'ATFB2',\n",
       " 'ITGAEP1',\n",
       " 'ABCD1P1',\n",
       " 'HDPA',\n",
       " 'MAL-AS1',\n",
       " 'IBD11',\n",
       " 'HMGB3P25',\n",
       " 'RNA28SN5',\n",
       " 'ASPG2',\n",
       " 'RPS12P1',\n",
       " 'TRI-AAT1-1',\n",
       " 'FRA5D',\n",
       " 'TRE-TTC2-1',\n",
       " 'GLYR1P1',\n",
       " 'DUP17Q11.2',\n",
       " 'PIRC20',\n",
       " 'TRL-CAA1-2',\n",
       " 'HMGN2P45',\n",
       " 'FRA11A',\n",
       " 'TRN-GTT2-5',\n",
       " 'TRC-GCA9-4',\n",
       " 'VN2R20P',\n",
       " 'RNA28S2',\n",
       " 'NIDDM4',\n",
       " 'FRA5A',\n",
       " 'EIF3EP3',\n",
       " 'SCLC1',\n",
       " 'XS',\n",
       " 'SCARNA27',\n",
       " 'MTBSX',\n",
       " 'MARK2P20',\n",
       " 'NMTRQ-TTG3-1',\n",
       " 'ISCA1P5',\n",
       " 'ATD',\n",
       " 'NMTRQ-TTG6-1',\n",
       " 'TRG-GCC2-3',\n",
       " 'TRS-GCT4-2',\n",
       " 'MCOP1',\n",
       " 'TRF-GAA4-1',\n",
       " 'TRV-CAC6-1',\n",
       " 'SNAR-C2',\n",
       " 'KC6',\n",
       " 'FRA11B',\n",
       " 'MTCO1P50',\n",
       " 'WBP1LP9',\n",
       " 'GCSAML-AS1',\n",
       " 'ANAPC13P1',\n",
       " 'RPL26P25',\n",
       " 'FEB6',\n",
       " 'RPS28P9',\n",
       " 'DUX4L42',\n",
       " 'FRA7F',\n",
       " 'CNE7',\n",
       " 'INTLQ1',\n",
       " 'HPE8',\n",
       " 'FRA1F',\n",
       " 'TRN-GTT3-2',\n",
       " 'RPS10P12',\n",
       " 'FRA7I',\n",
       " 'MRXSCS',\n",
       " 'trnS',\n",
       " 'DYZ1L16',\n",
       " 'FLJ43315',\n",
       " 'SNORD3P3',\n",
       " 'ERVFC1-1',\n",
       " 'MIR10392',\n",
       " 'ECTD5',\n",
       " 'RPS21P5',\n",
       " 'PPP6CP',\n",
       " 'MIX23P4',\n",
       " 'MYP11',\n",
       " 'DFNB14',\n",
       " 'MVCD7',\n",
       " 'PPR3',\n",
       " 'SMNP',\n",
       " 'DFNB83',\n",
       " 'ERVK-31',\n",
       " 'GEVQ1',\n",
       " 'MRPS15P2',\n",
       " 'HPC7',\n",
       " 'SLC6A10PB',\n",
       " 'PIRC33',\n",
       " 'LINC00618',\n",
       " 'BAGE5',\n",
       " 'MAFD8',\n",
       " 'B6QTL1',\n",
       " 'TRX-CAT1-1',\n",
       " 'TRN-GTT24-1',\n",
       " 'GK6P',\n",
       " 'FRA10B',\n",
       " 'OPEM',\n",
       " 'CDC27P11',\n",
       " 'FRA18C',\n",
       " 'SNORA105B',\n",
       " 'TRI-AAT12-1',\n",
       " 'LINC01358',\n",
       " 'FRA7B',\n",
       " 'RPL9P23',\n",
       " 'TRP-AGG2-6',\n",
       " 'ECTD8',\n",
       " 'MGR7',\n",
       " 'MRT11',\n",
       " 'CINN',\n",
       " 'SNORD13G',\n",
       " 'IGHVII-31-1',\n",
       " 'ERVK-18',\n",
       " 'LINC02602',\n",
       " 'RPL34P5',\n",
       " 'MSD',\n",
       " 'TRN-GTT18-1',\n",
       " 'FTO-IT1',\n",
       " 'VN1R109P',\n",
       " 'RNY4P8',\n",
       " 'LINC02996',\n",
       " 'TRE-CTC9-1',\n",
       " 'DFNB27',\n",
       " 'GLC1I',\n",
       " 'CHNG3',\n",
       " 'HBHR',\n",
       " 'BMND2',\n",
       " 'DYZ1L14',\n",
       " 'RPL37AP2',\n",
       " 'OFC14',\n",
       " 'NPCA1',\n",
       " 'MGC16025',\n",
       " 'TRV-CAC1-4',\n",
       " 'MIR8069-1',\n",
       " 'PTMAP13',\n",
       " 'RNFT1P1',\n",
       " 'DYT15',\n",
       " 'BFIS4',\n",
       " 'MRX88',\n",
       " 'TRA-AGC7-1',\n",
       " 'PBC2',\n",
       " 'COL1AR',\n",
       " 'C1QBPP3',\n",
       " 'RPS10P11',\n",
       " 'IHPS3',\n",
       " 'FGS5',\n",
       " 'RPS20P29',\n",
       " 'RPL10AP10',\n",
       " 'POROK5',\n",
       " 'SNORA109',\n",
       " 'TRQ-CTG1-5',\n",
       " 'RPL10AP7',\n",
       " 'MBNP',\n",
       " 'C16DUPQ12',\n",
       " 'RPL34P30',\n",
       " 'TARDBPP5',\n",
       " 'OFC2',\n",
       " 'TTTY13B',\n",
       " 'TRA-TGC4-1',\n",
       " 'SNORD143',\n",
       " 'RWDD1P3',\n",
       " 'HRM2',\n",
       " 'MRD4',\n",
       " 'EPN2-IT1',\n",
       " 'LUC7L3P1',\n",
       " 'MTND5P45',\n",
       " 'IDDM7',\n",
       " 'SNORD114-8',\n",
       " 'KAZA1',\n",
       " 'TRAJ15',\n",
       " 'TRC-GCA3-1',\n",
       " 'ACF',\n",
       " 'CELIAC13',\n",
       " 'TRA-AGC13-2',\n",
       " 'TRA-AGC16-1',\n",
       " 'TRV-AAC1-5',\n",
       " 'NMTRL-TAA5-1',\n",
       " 'DYZ1L6',\n",
       " 'FRA16D',\n",
       " 'NDIC',\n",
       " 'DYZ1L19',\n",
       " 'CLAM',\n",
       " 'HCVS',\n",
       " 'HNRNPA1P75',\n",
       " 'HLP',\n",
       " 'HOXD@',\n",
       " 'TRA-TGC2-1',\n",
       " 'GH-LCR',\n",
       " 'BCYRN1P3',\n",
       " 'HP09053',\n",
       " 'IGAD1',\n",
       " 'HTL',\n",
       " 'TUBBP7',\n",
       " 'PIRC46',\n",
       " 'BSZQTL2',\n",
       " 'MIR9903',\n",
       " 'PCDHACT',\n",
       " 'STQTL18',\n",
       " 'ADFN',\n",
       " 'IHPS4',\n",
       " 'ANIB5',\n",
       " 'DEL19Q13.11',\n",
       " 'RPS6P13',\n",
       " 'BSZQTL3',\n",
       " 'TVP23BP3',\n",
       " 'RPS20P30',\n",
       " 'RPL18AP1',\n",
       " 'CYP2C64P',\n",
       " 'trnE',\n",
       " 'TRV-AAC6-1',\n",
       " 'HPP1',\n",
       " 'DYZ1L11',\n",
       " 'RPLP1P4',\n",
       " 'VTCN1P1',\n",
       " 'TCEAL9P1',\n",
       " 'TRNY',\n",
       " 'ASRT4',\n",
       " 'VENTXP8',\n",
       " 'GLUD1P5',\n",
       " 'ERVK-22',\n",
       " 'MTCO3P6',\n",
       " 'MTND2P10',\n",
       " 'IGHV3OR16-14',\n",
       " 'TRT-AGT1-1',\n",
       " 'LPSA',\n",
       " 'RPS26P32',\n",
       " 'ACTR2P2',\n",
       " 'DUH2',\n",
       " 'FNBP1P2',\n",
       " 'RLS4',\n",
       " 'OTSC8',\n",
       " 'VN2R6P',\n",
       " 'RNA28SN3',\n",
       " 'MIR10524',\n",
       " 'FRA11F',\n",
       " 'RNY4P21',\n",
       " 'NARS1P1',\n",
       " 'MHS4',\n",
       " 'SNORD168',\n",
       " 'DFNB96',\n",
       " 'ERVW-11',\n",
       " 'IDDM17',\n",
       " 'UBE2Q2P7',\n",
       " 'TRS-GCT1-1',\n",
       " 'LINC01869',\n",
       " 'DELXP21',\n",
       " 'MTND4LP27',\n",
       " 'GSM1',\n",
       " 'TRK-TTT16-1',\n",
       " 'HCG4P2',\n",
       " 'NDUFB3P4',\n",
       " 'MTND2P1',\n",
       " 'ADHD1',\n",
       " 'TRK-TTT14-1',\n",
       " 'TRP-CGG2-1',\n",
       " 'MNG3',\n",
       " 'CTD',\n",
       " 'TRNAG-GCC',\n",
       " 'E11S',\n",
       " 'SNORA89',\n",
       " 'SMAJ',\n",
       " 'DDX18P2',\n",
       " 'SOWAHCP4',\n",
       " 'RPL39P41',\n",
       " 'LINC01430',\n",
       " 'ME3-DT',\n",
       " 'RPS9P3',\n",
       " 'VN1R52P',\n",
       " 'OPA6',\n",
       " 'ALPPP',\n",
       " 'SLEB7',\n",
       " 'TFQTL2',\n",
       " 'RNA45S1',\n",
       " 'MRXSMP',\n",
       " 'H2BW4P',\n",
       " 'AFA1',\n",
       " 'RPL18AP10',\n",
       " 'COPD',\n",
       " 'TTTY21B',\n",
       " 'DUX3',\n",
       " 'GTF3AP4',\n",
       " 'MLIP-IT1',\n",
       " 'ERVW-5',\n",
       " 'IBD26',\n",
       " 'CXB3S',\n",
       " 'NDUFB3P2',\n",
       " 'SNAR-G2',\n",
       " 'CRE1',\n",
       " 'TRR-TCT1-1',\n",
       " 'FIQTL1',\n",
       " 'RLS7',\n",
       " 'ENOX2-AS1',\n",
       " 'TRE-CTC11-1',\n",
       " 'S100A11P4',\n",
       " 'RNU7-31P',\n",
       " 'MRPL50P3',\n",
       " 'NRCLP5',\n",
       " 'XIC',\n",
       " 'SLMO2-ATP5E',\n",
       " 'CFAP144P1',\n",
       " 'RPL39P9',\n",
       " 'TRH-GTG1-4',\n",
       " 'ATFB5',\n",
       " 'RPS10P31',\n",
       " 'PPIAP18',\n",
       " 'RNU6-1342P',\n",
       " 'TRL-CAA5-1',\n",
       " 'PSMC6P3',\n",
       " 'DYX1',\n",
       " 'DUP16P11.2',\n",
       " 'DRC12',\n",
       " 'TRP-AGG4-1',\n",
       " 'GOLGA4P1',\n",
       " 'SNORD166',\n",
       " 'RPS14P10',\n",
       " 'CNC2',\n",
       " 'TRV-AAC1-2',\n",
       " 'HHC2:065944',\n",
       " 'HPLH1',\n",
       " 'LNCR1',\n",
       " 'PSMC6P1',\n",
       " 'YWHAEP6',\n",
       " 'IS5',\n",
       " 'MRXS17',\n",
       " 'AVSD1',\n",
       " 'CCT5-2P',\n",
       " 'CDRT11',\n",
       " 'SRSF10P2',\n",
       " 'MDNS',\n",
       " 'TRI-AAT5-4',\n",
       " 'RPL26P4',\n",
       " 'RNU7-16P',\n",
       " 'NNO1',\n",
       " 'VN1R61P',\n",
       " 'DEL15Q26QTER',\n",
       " 'PIRC54',\n",
       " 'PIRC110',\n",
       " 'SNORA119',\n",
       " 'COX8CP1',\n",
       " 'FRA16E',\n",
       " 'AOMS2',\n",
       " 'TRS-CGA1-1',\n",
       " 'HPV6AI1',\n",
       " 'HPCQTL19',\n",
       " 'FKBP1A-SDCBP2',\n",
       " 'RP34',\n",
       " 'KU-MEL-3',\n",
       " 'TRM-CAT4-3',\n",
       " 'ATP6',\n",
       " 'MTCO1P26',\n",
       " 'FGQTL2',\n",
       " 'PIRC86',\n",
       " 'LINC00444',\n",
       " 'VSPA',\n",
       " 'MARK2P2',\n",
       " 'MYP9',\n",
       " 'HIF1A-AS1',\n",
       " 'RBM22P11',\n",
       " 'NOA3',\n",
       " 'LINC02340',\n",
       " 'TRN-GTT5-1',\n",
       " 'LINC03039',\n",
       " 'GNG5P4',\n",
       " 'RN7SL438P',\n",
       " 'TRE-TTC1-2',\n",
       " 'ATP8A2P1',\n",
       " 'GAGE4',\n",
       " 'CRSP8P',\n",
       " 'DEL19P13.13',\n",
       " 'CXDUPQ26.3',\n",
       " 'TRP-AGG2-3',\n",
       " 'MIR12125',\n",
       " 'LEPQTL1',\n",
       " 'RP29',\n",
       " 'TRA-AGC22-1',\n",
       " 'MSE',\n",
       " 'PIRC89',\n",
       " 'FSHMD1B',\n",
       " 'STQTL13',\n",
       " 'TRK-CTT10-1',\n",
       " 'LIRIL2R',\n",
       " 'PIRC69',\n",
       " 'TRK-CTT3-1',\n",
       " 'RPS18P3',\n",
       " 'ZNF968P',\n",
       " 'ECB2',\n",
       " 'UAQTL5',\n",
       " 'IGHV3-38-3',\n",
       " 'RPL18P4',\n",
       " 'NMTRV-TAC1-1',\n",
       " 'SNORD59B',\n",
       " 'DEL11P15P14',\n",
       " 'EIF4EBP1P2',\n",
       " 'PIRC16',\n",
       " 'ERVK-9',\n",
       " 'PWRN3',\n",
       " 'MTCYBP30',\n",
       " 'PIRC100',\n",
       " 'FAME4',\n",
       " 'CLK3P1',\n",
       " 'RNY5P1',\n",
       " 'LINC02921',\n",
       " 'VN2R13P',\n",
       " 'VN1R59P',\n",
       " 'TRV-CAC1-2',\n",
       " 'IGHV1OR15-5',\n",
       " 'MARK3P2',\n",
       " 'ERVH-4',\n",
       " 'RPS10P13',\n",
       " 'PIRC57',\n",
       " 'LIMS3-LOC440895',\n",
       " 'RPL34P7',\n",
       " 'ATP5MFP7',\n",
       " 'MFT2',\n",
       " 'FEB9',\n",
       " 'ADHD2',\n",
       " 'TRL-AAG2-2',\n",
       " 'SF',\n",
       " 'SM2',\n",
       " 'RPS9P2',\n",
       " 'VN1R94P',\n",
       " 'LL22NC03-102D1.18',\n",
       " 'CANT1P1',\n",
       " 'DEL6Q24Q25',\n",
       " 'TRR-CCG2-1',\n",
       " 'ZD1',\n",
       " 'ERVFH21-1',\n",
       " 'UAQTL3',\n",
       " 'FRA7D',\n",
       " 'TRD-GTC2-10',\n",
       " 'TRN-GTT22-1',\n",
       " 'HSPD1P22',\n",
       " 'TTTY29P',\n",
       " 'RNU7-5P',\n",
       " 'RPS14P9',\n",
       " 'PHF10P2',\n",
       " 'NYS3',\n",
       " 'DEL15Q11.2',\n",
       " 'ACTBP3',\n",
       " 'YWHAQP2',\n",
       " 'TRG-CCC7-1',\n",
       " 'SNORD144',\n",
       " 'PIRC37',\n",
       " 'trnT',\n",
       " 'TRK-CTT14-1',\n",
       " 'PIRC21',\n",
       " 'RPS3P5',\n",
       " 'MBS2',\n",
       " 'TRA-TGC1-1',\n",
       " 'MRPL30P2',\n",
       " 'MIR12120',\n",
       " 'GRD1',\n",
       " 'FTLP7',\n",
       " 'LL22NC03-63E9.3',\n",
       " 'GSC-DT',\n",
       " 'FTLP9',\n",
       " 'MOCS3P1',\n",
       " 'GALNTL6-AS1',\n",
       " 'TRM-CAT3-2',\n",
       " 'SNX18P15',\n",
       " 'FAM91A4P',\n",
       " 'TRQ-TTG5-1',\n",
       " 'PTLS',\n",
       " 'DYT13',\n",
       " 'PIRC98',\n",
       " 'TRV-AAC4-1',\n",
       " 'TRI-TAT2-3',\n",
       " 'MTCO3P26',\n",
       " 'MTCO3P33',\n",
       " 'RNA5-8SP9',\n",
       " 'RNA5SP85',\n",
       " 'PBCRA1',\n",
       " 'TRM-CAT1-1',\n",
       " 'RN7SL92P',\n",
       " 'SNORA94',\n",
       " 'FLJ33534',\n",
       " 'CMTS',\n",
       " 'MRBC',\n",
       " 'MIR10396B',\n",
       " 'PARK16',\n",
       " 'TRI-GAT1-2',\n",
       " 'FRA18B',\n",
       " 'STQTL8',\n",
       " 'CLUHP9',\n",
       " 'GPR75-ASB3',\n",
       " 'COX5BP5',\n",
       " 'OCTN3',\n",
       " 'LINC03029',\n",
       " 'ASDP',\n",
       " 'TRNAL-CAA',\n",
       " 'RPL27AP7',\n",
       " 'NMTRQ-TTG7-1',\n",
       " 'RC14S',\n",
       " 'HBB-HS-111',\n",
       " 'HHC2:066588',\n",
       " 'RPS2P12',\n",
       " 'TRT-TGT5-1',\n",
       " 'TAMALIN-AS1',\n",
       " 'TRE-CTC16-1',\n",
       " 'FSHMD1A',\n",
       " 'NIDDM1',\n",
       " 'THSD4-AS2',\n",
       " 'DNM1P25',\n",
       " 'TOP1P2',\n",
       " 'PIRC58',\n",
       " 'FLJ46875',\n",
       " 'ZNF660-ZNF197',\n",
       " 'IGKV2OR2-4',\n",
       " 'CMM7',\n",
       " 'FRA12B',\n",
       " 'ZNF205-AS1',\n",
       " 'FEB7',\n",
       " 'LSM6P1',\n",
       " 'TRE-CTC15-1',\n",
       " 'RSCIS',\n",
       " 'DUP22Q11.2',\n",
       " 'PIRC10',\n",
       " 'TRG-GCC1-4',\n",
       " 'BNIP3P14',\n",
       " 'CTEPH1',\n",
       " 'CSNK1A1P2',\n",
       " 'TRBVC',\n",
       " 'RPS25P2',\n",
       " 'TRD',\n",
       " 'TAS2R36',\n",
       " 'MTCO2P14',\n",
       " 'TRE-CTC1-1',\n",
       " 'SNORA105C',\n",
       " 'KLF9-DT',\n",
       " 'TRK-TTT9-1',\n",
       " 'GCCD3',\n",
       " 'OTSC2',\n",
       " 'TAS2R2',\n",
       " 'MTND4P37',\n",
       " 'IV',\n",
       " 'RPS2P13',\n",
       " 'ARVD4',\n",
       " 'IBTKP1',\n",
       " 'GEFSP8',\n",
       " 'FLJ40194',\n",
       " 'IGFBP-AS1',\n",
       " 'FRA10G',\n",
       " 'NMTRQ-TTG9-1',\n",
       " 'RPS2P37',\n",
       " 'EJM2',\n",
       " 'KAZA3',\n",
       " 'SSX17P',\n",
       " 'LINC01372',\n",
       " 'TRV-CAC11-2',\n",
       " 'SCZD6',\n",
       " 'NMTRQ-TTG1-1',\n",
       " 'TRC-GCA20-1',\n",
       " 'SRXY10',\n",
       " 'RPS6P5',\n",
       " 'RPL39P13',\n",
       " 'GCY',\n",
       " 'TRN-GTT2-2',\n",
       " 'TRQ-CTG14-1',\n",
       " 'TRL-AAG3-1',\n",
       " 'RSL24D1P7',\n",
       " 'TRA-TGC8-1',\n",
       " 'ANIB9',\n",
       " 'MTCO3P14',\n",
       " 'DUPXP11.23P11.22',\n",
       " 'CNE-3',\n",
       " 'ERVK9-5',\n",
       " 'SLC9B1P5',\n",
       " 'TRE-CTC10-1',\n",
       " 'CMD1K',\n",
       " 'SXI2',\n",
       " 'LINC02595',\n",
       " 'HPV18I1',\n",
       " 'VN1R86P',\n",
       " 'PIRC27',\n",
       " 'RPS2P31',\n",
       " 'ECT',\n",
       " 'RPL37AP3',\n",
       " 'OPA5',\n",
       " 'C4BPAP3',\n",
       " 'RPS2P9',\n",
       " 'PKD1P3-NPIPA1',\n",
       " 'TRS-CGA3-1',\n",
       " 'AFF1-AS1',\n",
       " 'TRV-CAC5-1',\n",
       " 'OA3',\n",
       " 'VN1R60P',\n",
       " 'TEKT4P1',\n",
       " 'MTRNR2L3',\n",
       " 'IGHV4-30-1',\n",
       " 'RCHTS',\n",
       " 'RNY4P5',\n",
       " 'RPL18P5',\n",
       " 'MTNAP1',\n",
       " 'MTCO3P3',\n",
       " 'DYT7',\n",
       " 'IBD3',\n",
       " 'CELIAC9',\n",
       " 'ERVPABLB-1',\n",
       " 'PPIP5K1P1',\n",
       " 'LINC02254',\n",
       " 'ANIB7',\n",
       " 'ERVW-4',\n",
       " 'RPS27AP4',\n",
       " 'RPS2P21',\n",
       " 'FRA9B',\n",
       " 'MIR12135',\n",
       " 'HYPT9',\n",
       " 'MTND4LP4',\n",
       " 'DDX11L4',\n",
       " 'BCYRN1P2',\n",
       " 'TRG-TCC2-3',\n",
       " 'DELXQ21',\n",
       " 'CRSA',\n",
       " 'LINC03125',\n",
       " 'TRS-AGA6-1',\n",
       " 'IBD21',\n",
       " 'BMND3',\n",
       " 'RPL13P13',\n",
       " 'ERVK9-2',\n",
       " 'CHDS3',\n",
       " 'RPS2P27',\n",
       " 'RPS20P11',\n",
       " 'DEL15Q13.3',\n",
       " 'TRH-GTG1-1',\n",
       " 'HSPC102',\n",
       " 'VN1R49P',\n",
       " 'CYCSP3',\n",
       " 'RPL21P124',\n",
       " 'TRND',\n",
       " 'LINC00693',\n",
       " 'PAX6DRR',\n",
       " 'MGC2889',\n",
       " 'TRNQ',\n",
       " 'VN1R44P',\n",
       " 'AIH3',\n",
       " 'XLOC_009911',\n",
       " 'TRK-CTT2-1',\n",
       " 'LHX4-AS1',\n",
       " 'PTS-P1',\n",
       " 'trnL',\n",
       " 'HSPD1P20',\n",
       " 'TRA-TGC7-1',\n",
       " 'CRCS2',\n",
       " 'NPCA2',\n",
       " 'CT45B1P',\n",
       " 'DVL1P1',\n",
       " 'RFH1',\n",
       " 'AIC',\n",
       " 'IPOX',\n",
       " 'RLS8',\n",
       " 'NUDT19P1',\n",
       " 'MRX77',\n",
       " 'TRR-ACG1-1',\n",
       " 'RPL41P4',\n",
       " 'HCL2',\n",
       " 'CELIAC5',\n",
       " 'MRPS33P1',\n",
       " 'NDE1P1',\n",
       " 'IL9RP5',\n",
       " 'DYX3',\n",
       " 'PVNH3',\n",
       " 'TRL-AAG1-2',\n",
       " 'BMND8',\n",
       " 'AAA4',\n",
       " 'FRA20A',\n",
       " 'RPS15AP21',\n",
       " 'ANIB4',\n",
       " 'SCFV',\n",
       " 'BIN3-IT1',\n",
       " 'RPL18AP5',\n",
       " 'TRG-GCC1-2',\n",
       " 'SBE2',\n",
       " 'ERVK9-9',\n",
       " 'FEB5',\n",
       " 'TRR-TCG1-1',\n",
       " 'TRA-TGC3-1',\n",
       " 'RPL34P28',\n",
       " 'TAS2R18P',\n",
       " 'PHA2A',\n",
       " 'RPL18P12',\n",
       " 'TRQ-CTG11-1',\n",
       " 'NMTRQ-TTG2-1',\n",
       " 'DELYQ11',\n",
       " 'ERVFRD-2',\n",
       " 'GRDX',\n",
       " 'DUPXQ28',\n",
       " 'LINC00643',\n",
       " 'RPS14P1',\n",
       " 'ERVK-21',\n",
       " 'TRT-TGT2-1',\n",
       " 'RPS26P46',\n",
       " 'EEGV1',\n",
       " 'RPS26P14',\n",
       " 'TAS2R67P',\n",
       " 'RPL9P11',\n",
       " 'FRA7C',\n",
       " 'TRR-ACG2-3',\n",
       " 'TRA-AGC12-1',\n",
       " 'HCG4P5',\n",
       " 'RPS26P10',\n",
       " 'TRS-GCT3-1',\n",
       " 'GLM5',\n",
       " 'TRN-GTT27-1',\n",
       " 'FRA13C',\n",
       " 'HSPD1P17',\n",
       " 'CDR1-AS',\n",
       " 'PIRC74',\n",
       " 'FLJ38576',\n",
       " 'PIRC29',\n",
       " 'IGLP2',\n",
       " 'TRQ-TTG1-1',\n",
       " 'RPS10P29',\n",
       " 'MIR10396A',\n",
       " 'CFAP144P3',\n",
       " 'NMTRQ-TTG13-1',\n",
       " 'RPL26P5',\n",
       " 'TRL-CAG2-2',\n",
       " 'EJM3',\n",
       " 'TRP-TGG3-5',\n",
       " 'HNRNPRP3',\n",
       " 'SHFLD2',\n",
       " 'TRA-AGC17-1',\n",
       " 'LINC00560',\n",
       " 'ND1',\n",
       " 'HSALR1',\n",
       " 'VN1R23P',\n",
       " 'ALS7',\n",
       " 'MTND6P37',\n",
       " 'NMTRQ-TTG5-1',\n",
       " 'DUX5',\n",
       " 'PDK1P1',\n",
       " 'FRAXC',\n",
       " 'TRSUP-TTA1-1',\n",
       " 'SEPTIN14P10',\n",
       " 'FMTLE',\n",
       " 'TRNL1',\n",
       " 'SSU72-AS1',\n",
       " 'RPL21P105',\n",
       " 'BZX',\n",
       " 'MRPS7P2',\n",
       " 'RPLP2P2',\n",
       " 'GLC1J',\n",
       " 'TRL-CAA2-1',\n",
       " 'ST13P8',\n",
       " 'FAM8A10P',\n",
       " 'RNA18SP4',\n",
       " 'RPS2P42',\n",
       " 'ENO1-IT1',\n",
       " 'DPPA4P1',\n",
       " 'RPL7L1P6',\n",
       " 'MRT16',\n",
       " 'SNX18P20',\n",
       " 'ERVE-3',\n",
       " 'RPS26P33',\n",
       " 'TRE-TTC9-1',\n",
       " 'PAX6_HS8',\n",
       " 'HPC15',\n",
       " 'PIRC72',\n",
       " 'TRC-GCA13-1',\n",
       " 'RPLP1P7',\n",
       " 'DUSP8P2',\n",
       " 'CCL3P1',\n",
       " 'AS-PTPRE',\n",
       " 'C1DUPP36.33',\n",
       " 'PRELID3BP9',\n",
       " 'GCM1P1',\n",
       " 'OS6',\n",
       " 'PIRC81',\n",
       " 'RPS6P19',\n",
       " 'PIRC51',\n",
       " 'DEL16P12.1P11.2',\n",
       " 'CDC27P6',\n",
       " 'FRA12C',\n",
       " 'RPL8P5',\n",
       " 'HOXA@',\n",
       " 'RPS2P54',\n",
       " 'TRK-CTT2-4',\n",
       " 'TRT-CGT2-1',\n",
       " 'TRV-CAC9-1',\n",
       " 'LINC00312',\n",
       " 'RPS24P11',\n",
       " 'HCG4P7',\n",
       " 'SLEB3',\n",
       " 'DYZ1L7',\n",
       " 'TCO',\n",
       " 'TRT-AGT4-1',\n",
       " 'OPSIN-LCR',\n",
       " 'PCOTHP1',\n",
       " 'PIRC82',\n",
       " 'TRQ-TTG9-1',\n",
       " 'CCN2-AS1',\n",
       " 'SNORD135',\n",
       " 'COA1P1',\n",
       " 'RNU4-3P',\n",
       " 'EMWX',\n",
       " 'TRC-GCA10-1',\n",
       " 'VASH1-AS1',\n",
       " 'NYS7',\n",
       " 'ABHD11-AS1',\n",
       " 'ERVW-6',\n",
       " 'RNA18SP2',\n",
       " 'PCMTD1P4',\n",
       " 'RPS25P1',\n",
       " 'RPL18P6',\n",
       " 'RPL18AP13',\n",
       " 'TRE-CTC1-3',\n",
       " 'ERV3-2',\n",
       " 'TRY-GTA5-5',\n",
       " 'AD11',\n",
       " 'CELIAC8',\n",
       " 'ENUR2',\n",
       " 'HWE1',\n",
       " 'TRT-AGT3-1',\n",
       " 'THM',\n",
       " 'DFNB38',\n",
       " 'RPS5P6',\n",
       " 'trnM',\n",
       " 'KTCN3',\n",
       " 'SNORD75',\n",
       " 'MIR12122',\n",
       " 'TRUND-NNN2-1',\n",
       " 'PPP1R14BP1',\n",
       " 'RPS6P18',\n",
       " 'CHCHD2P10',\n",
       " 'MTND4LP23',\n",
       " 'BMND10',\n",
       " 'HMGN2P33',\n",
       " 'MAFD2',\n",
       " 'TRC-GCA18-1',\n",
       " 'TRK-TTT3-5',\n",
       " 'SCAX3',\n",
       " 'CMT2H',\n",
       " 'LACAT1',\n",
       " 'CBSLR',\n",
       " 'HHC2:066650',\n",
       " 'SNORD3F',\n",
       " 'EIF3FP2',\n",
       " 'MIR30DHG',\n",
       " 'VV',\n",
       " 'RPL39P20',\n",
       " 'TRNL2',\n",
       " 'DLG2-AS1',\n",
       " 'IMPDH1P1',\n",
       " 'EVR3',\n",
       " 'NIDDM2',\n",
       " 'RNR3',\n",
       " 'RPS2P53',\n",
       " 'RNR5',\n",
       " 'TRUND-NNN4-1',\n",
       " 'UC.134',\n",
       " 'RN7SL425P',\n",
       " 'BMS1P18',\n",
       " 'GPDS1',\n",
       " 'SLEB4',\n",
       " 'TRH-GTG1-6',\n",
       " 'FRA16B',\n",
       " 'RN7SL676P',\n",
       " 'MIR12117',\n",
       " 'TRK-CTT15-1',\n",
       " 'FRA7H',\n",
       " 'MGC34796',\n",
       " 'SALL4P3',\n",
       " 'GRD2',\n",
       " 'ANIB8',\n",
       " 'CYTB',\n",
       " 'ERVK-4',\n",
       " 'EIF2AP3',\n",
       " 'TRF-GAA1-1',\n",
       " 'IGHVII-20-1',\n",
       " 'NAGPA-AS1',\n",
       " 'MTCO1P33',\n",
       " 'TRIM60P1Y',\n",
       " 'CNSN',\n",
       " 'DND1P2',\n",
       " 'FRA9D',\n",
       " 'RUNX1-IT1',\n",
       " 'SCZD10',\n",
       " 'OS4',\n",
       " 'ACTD',\n",
       " 'AMANZI',\n",
       " 'RBBP6P1',\n",
       " 'TRG-TCC2-6',\n",
       " 'TRN-GTT9-2',\n",
       " 'TRW-CCA3-1',\n",
       " 'ETL2',\n",
       " 'RPS11P4',\n",
       " 'RPL34P35',\n",
       " 'TRY-GTA4-1',\n",
       " 'TRAPPC2P6',\n",
       " 'TRF-GAA1-5',\n",
       " 'RNY4P22',\n",
       " 'SCAX2',\n",
       " 'MRX81',\n",
       " 'CTRCT29',\n",
       " 'PIRC11',\n",
       " 'TRQ-TTG3-2',\n",
       " 'CYP4F45P',\n",
       " 'SNAR-C1',\n",
       " 'HVBS8',\n",
       " 'TRV-TAC1-1',\n",
       " 'rrn16',\n",
       " 'C5-OT1',\n",
       " 'MEAT6',\n",
       " 'MIR10395',\n",
       " 'SNORD146',\n",
       " 'MICOS10P1',\n",
       " 'FRA12E',\n",
       " 'DUP14Q32',\n",
       " 'RPS16P7',\n",
       " 'ASRT6',\n",
       " 'IBD8',\n",
       " 'PKD1P4-NPIPA8',\n",
       " 'PCDHA@',\n",
       " 'MRD2',\n",
       " 'WG',\n",
       " 'GSTT1-AS1',\n",
       " 'HVBS7',\n",
       " ...}"
      ]
     },
     "execution_count": 65,
     "metadata": {},
     "output_type": "execute_result"
    }
   ],
   "source": [
    "filtered_set"
   ]
  },
  {
   "cell_type": "markdown",
   "metadata": {},
   "source": [
    "### <a id='toc6_2_2_'></a>[How many unique symbols are found between all sources?](#toc0_)"
   ]
  },
  {
   "cell_type": "code",
   "execution_count": 66,
   "metadata": {},
   "outputs": [],
   "source": [
    "bw_all_sources_unique_primary_symbol_df = pd.concat(\n",
    "    [\n",
    "        mini_ensg_df[[\"alias_symbol\", \"gene_symbol\"]],\n",
    "        mini_hgnc_df[[\"alias_symbol\", \"gene_symbol\"]],\n",
    "        mini_ncbi_df[[\"alias_symbol\", \"gene_symbol\"]],\n",
    "    ]\n",
    ")"
   ]
  },
  {
   "cell_type": "code",
   "execution_count": 67,
   "metadata": {},
   "outputs": [
    {
     "data": {
      "text/plain": [
       "194866"
      ]
     },
     "execution_count": 67,
     "metadata": {},
     "output_type": "execute_result"
    }
   ],
   "source": [
    "bw_all_sources_unique_primary_symbol_set = set(bw_all_sources_unique_primary_symbol_df[\"gene_symbol\"])\n",
    "bw_all_sources_unique_primary_symbol_count = len(bw_all_sources_unique_primary_symbol_set)\n",
    "bw_all_sources_unique_primary_symbol_count"
   ]
  },
  {
   "cell_type": "markdown",
   "metadata": {},
   "source": [
    "# <a id='toc7_'></a>[How many unique aliases are there?](#toc0_)"
   ]
  },
  {
   "cell_type": "markdown",
   "metadata": {},
   "source": [
    "## <a id='toc7_1_'></a>[Per Source](#toc0_)"
   ]
  },
  {
   "cell_type": "code",
   "execution_count": 68,
   "metadata": {},
   "outputs": [
    {
     "data": {
      "text/html": [
       "<div>\n",
       "<style scoped>\n",
       "    .dataframe tbody tr th:only-of-type {\n",
       "        vertical-align: middle;\n",
       "    }\n",
       "\n",
       "    .dataframe tbody tr th {\n",
       "        vertical-align: top;\n",
       "    }\n",
       "\n",
       "    .dataframe thead th {\n",
       "        text-align: right;\n",
       "    }\n",
       "</style>\n",
       "<table border=\"1\" class=\"dataframe\">\n",
       "  <thead>\n",
       "    <tr style=\"text-align: right;\">\n",
       "      <th></th>\n",
       "      <th>Number of Unique Aliases</th>\n",
       "    </tr>\n",
       "  </thead>\n",
       "  <tbody>\n",
       "    <tr>\n",
       "      <th>HGNC</th>\n",
       "      <td>55213</td>\n",
       "    </tr>\n",
       "    <tr>\n",
       "      <th>ENSG</th>\n",
       "      <td>42918</td>\n",
       "    </tr>\n",
       "    <tr>\n",
       "      <th>NCBI</th>\n",
       "      <td>68771</td>\n",
       "    </tr>\n",
       "  </tbody>\n",
       "</table>\n",
       "</div>"
      ],
      "text/plain": [
       "      Number of Unique Aliases\n",
       "HGNC                     55213\n",
       "ENSG                     42918\n",
       "NCBI                     68771"
      ]
     },
     "execution_count": 68,
     "metadata": {},
     "output_type": "execute_result"
    }
   ],
   "source": [
    "unique_alias_summary_index = \"HGNC\", \"ENSG\", \"NCBI\"\n",
    "unique_alias_summary = {\n",
    "    \"Number of Unique Aliases\": [\n",
    "        ensg_alias_count,\n",
    "        hgnc_alias_count,\n",
    "        ncbi_alias_count,\n",
    "    ]\n",
    "}\n",
    "unique_alias_summary_df = pd.DataFrame(\n",
    "    unique_alias_summary, index = unique_alias_summary_index\n",
    ")\n",
    "unique_alias_summary_df"
   ]
  },
  {
   "cell_type": "markdown",
   "metadata": {},
   "source": [
    "## <a id='toc7_2_'></a>[All sources](#toc0_)"
   ]
  },
  {
   "cell_type": "markdown",
   "metadata": {},
   "source": [
    "### <a id='toc7_2_1_'></a>[How many aliases appear in all sources?](#toc0_)"
   ]
  },
  {
   "cell_type": "code",
   "execution_count": 69,
   "metadata": {},
   "outputs": [
    {
     "data": {
      "text/plain": [
       "29984"
      ]
     },
     "execution_count": 69,
     "metadata": {},
     "output_type": "execute_result"
    }
   ],
   "source": [
    "all_sources_unique_alias_set = (\n",
    "    ensg_alias_symbol_set\n",
    "    & hgnc_alias_symbol_set\n",
    "    & ncbi_alias_symbol_set\n",
    ")\n",
    "all_sources_unique_alias_count = len(all_sources_unique_alias_set)\n",
    "all_sources_unique_alias_count"
   ]
  },
  {
   "cell_type": "markdown",
   "metadata": {},
   "source": [
    "### <a id='toc7_2_2_'></a>[How many unique aliases are found between all sources?](#toc0_)"
   ]
  },
  {
   "cell_type": "code",
   "execution_count": 70,
   "metadata": {},
   "outputs": [],
   "source": [
    "bw_all_sources_unique_alias_df = pd.concat(\n",
    "    [\n",
    "        subset_genes_ensg_df[[\"alias_symbol\", \"gene_symbol\"]],\n",
    "        subset_genes_hgnc_df[[\"alias_symbol\", \"gene_symbol\"]],\n",
    "        subset_genes_ncbi_df[[\"alias_symbol\", \"gene_symbol\"]],\n",
    "    ]\n",
    ")"
   ]
  },
  {
   "cell_type": "code",
   "execution_count": 71,
   "metadata": {},
   "outputs": [
    {
     "data": {
      "text/plain": [
       "81138"
      ]
     },
     "execution_count": 71,
     "metadata": {},
     "output_type": "execute_result"
    }
   ],
   "source": [
    "bw_all_sources_unique_alias_set = set(bw_all_sources_unique_alias_df[\"alias_symbol\"])\n",
    "bw_all_sources_unique_alias_count = len(bw_all_sources_unique_alias_set)\n",
    "bw_all_sources_unique_alias_count"
   ]
  },
  {
   "cell_type": "markdown",
   "metadata": {},
   "source": [
    "# <a id='toc8_'></a>[How many gene records have an alias that is shared?](#toc0_)"
   ]
  },
  {
   "cell_type": "markdown",
   "metadata": {},
   "source": [
    "## <a id='toc8_1_'></a>[Per Source](#toc0_)"
   ]
  },
  {
   "cell_type": "code",
   "execution_count": 72,
   "metadata": {},
   "outputs": [],
   "source": [
    "ensg_aa_collision_primary_symbol_set = set(aa_collision_gene_ensg_df[\"gene_symbol\"])\n",
    "ensg_aa_collision_primary_symbol_count = len(ensg_aa_collision_primary_symbol_set)"
   ]
  },
  {
   "cell_type": "code",
   "execution_count": 73,
   "metadata": {},
   "outputs": [],
   "source": [
    "hgnc_aa_collision_primary_symbol_set = set(aa_collision_gene_hgnc_df[\"gene_symbol\"])\n",
    "hgnc_aa_collision_primary_symbol_count = len(hgnc_aa_collision_primary_symbol_set)"
   ]
  },
  {
   "cell_type": "code",
   "execution_count": 74,
   "metadata": {},
   "outputs": [],
   "source": [
    "ncbi_aa_collision_primary_symbol_set = set(aa_collision_gene_ncbi_df[\"gene_symbol\"])\n",
    "ncbi_aa_collision_primary_symbol_count = len(ncbi_aa_collision_primary_symbol_set)"
   ]
  },
  {
   "cell_type": "code",
   "execution_count": 75,
   "metadata": {},
   "outputs": [
    {
     "data": {
      "text/html": [
       "<div>\n",
       "<style scoped>\n",
       "    .dataframe tbody tr th:only-of-type {\n",
       "        vertical-align: middle;\n",
       "    }\n",
       "\n",
       "    .dataframe tbody tr th {\n",
       "        vertical-align: top;\n",
       "    }\n",
       "\n",
       "    .dataframe thead th {\n",
       "        text-align: right;\n",
       "    }\n",
       "</style>\n",
       "<table border=\"1\" class=\"dataframe\">\n",
       "  <thead>\n",
       "    <tr style=\"text-align: right;\">\n",
       "      <th></th>\n",
       "      <th>Number of Gene Records With a Shared Alias</th>\n",
       "    </tr>\n",
       "  </thead>\n",
       "  <tbody>\n",
       "    <tr>\n",
       "      <th>HGNC</th>\n",
       "      <td>3113</td>\n",
       "    </tr>\n",
       "    <tr>\n",
       "      <th>ENSG</th>\n",
       "      <td>2530</td>\n",
       "    </tr>\n",
       "    <tr>\n",
       "      <th>NCBI</th>\n",
       "      <td>6078</td>\n",
       "    </tr>\n",
       "  </tbody>\n",
       "</table>\n",
       "</div>"
      ],
      "text/plain": [
       "      Number of Gene Records With a Shared Alias\n",
       "HGNC                                        3113\n",
       "ENSG                                        2530\n",
       "NCBI                                        6078"
      ]
     },
     "execution_count": 75,
     "metadata": {},
     "output_type": "execute_result"
    }
   ],
   "source": [
    "aa_collision_primary_symbol_summary_index = \"HGNC\", \"ENSG\", \"NCBI\"\n",
    "aa_collision_primary_symbol_summary= {\n",
    "    \"Number of Gene Records With a Shared Alias\": [\n",
    "        ensg_aa_collision_primary_symbol_count,\n",
    "        hgnc_aa_collision_primary_symbol_count,\n",
    "        ncbi_aa_collision_primary_symbol_count,\n",
    "    ]\n",
    "}\n",
    "aa_collision_primary_symbol_summary_df = pd.DataFrame(\n",
    "    aa_collision_primary_symbol_summary, index = aa_collision_primary_symbol_summary_index\n",
    ")\n",
    "aa_collision_primary_symbol_summary_df"
   ]
  },
  {
   "cell_type": "markdown",
   "metadata": {},
   "source": [
    "## <a id='toc8_2_'></a>[All Sources](#toc0_)"
   ]
  },
  {
   "cell_type": "markdown",
   "metadata": {},
   "source": [
    "### <a id='toc8_2_1_'></a>[How many gene records have at least one shared alias in all sources?](#toc0_)"
   ]
  },
  {
   "cell_type": "code",
   "execution_count": 76,
   "metadata": {},
   "outputs": [
    {
     "data": {
      "text/plain": [
       "2319"
      ]
     },
     "execution_count": 76,
     "metadata": {},
     "output_type": "execute_result"
    }
   ],
   "source": [
    "all_sources_aa_collision_genes = (\n",
    "    ensg_aa_collision_primary_symbol_set\n",
    "    & hgnc_aa_collision_primary_symbol_set\n",
    "    & ncbi_aa_collision_primary_symbol_set\n",
    ")\n",
    "len(all_sources_aa_collision_genes)"
   ]
  },
  {
   "cell_type": "markdown",
   "metadata": {},
   "source": [
    "### <a id='toc8_2_2_'></a>[How many unique gene records that have at least one shared alias are found between all sources?](#toc0_)"
   ]
  },
  {
   "cell_type": "code",
   "execution_count": 77,
   "metadata": {},
   "outputs": [],
   "source": [
    "bw_all_sources_aa_collision_df = pd.concat(\n",
    "    [\n",
    "        aa_collision_gene_ensg_df[[\"collision\", \"gene_symbol\"]],\n",
    "        aa_collision_gene_hgnc_df[[\"collision\", \"gene_symbol\"]],\n",
    "        aa_collision_gene_ncbi_df[[\"collision\", \"gene_symbol\"]],\n",
    "    ]\n",
    ")"
   ]
  },
  {
   "cell_type": "code",
   "execution_count": 78,
   "metadata": {},
   "outputs": [
    {
     "data": {
      "text/plain": [
       "6257"
      ]
     },
     "execution_count": 78,
     "metadata": {},
     "output_type": "execute_result"
    }
   ],
   "source": [
    "bw_all_sources_aa_collision_genes_set = set(bw_all_sources_aa_collision_df[\"gene_symbol\"])\n",
    "bw_all_sources_aa_collision_genes_count = len(bw_all_sources_aa_collision_genes_set)\n",
    "bw_all_sources_aa_collision_genes_count"
   ]
  },
  {
   "cell_type": "markdown",
   "metadata": {},
   "source": [
    "# <a id='toc9_'></a>[How many alias symbols are being shared?](#toc0_)"
   ]
  },
  {
   "cell_type": "markdown",
   "metadata": {},
   "source": [
    "## <a id='toc9_1_'></a>[Per Source](#toc0_)"
   ]
  },
  {
   "cell_type": "code",
   "execution_count": 79,
   "metadata": {},
   "outputs": [],
   "source": [
    "ensg_aa_collision_set = set(aa_collision_gene_ensg_df[\"collision\"])\n",
    "ensg_aa_collision_count = len(ensg_aa_collision_set)"
   ]
  },
  {
   "cell_type": "code",
   "execution_count": 80,
   "metadata": {},
   "outputs": [],
   "source": [
    "hgnc_aa_collision_set = set(aa_collision_gene_hgnc_df[\"collision\"])\n",
    "hgnc_aa_collision_count = len(hgnc_aa_collision_set)"
   ]
  },
  {
   "cell_type": "code",
   "execution_count": 81,
   "metadata": {},
   "outputs": [],
   "source": [
    "ncbi_aa_collision_set = set(aa_collision_gene_ncbi_df[\"collision\"])\n",
    "ncbi_aa_collision_count = len(ncbi_aa_collision_set)"
   ]
  },
  {
   "cell_type": "code",
   "execution_count": 82,
   "metadata": {},
   "outputs": [
    {
     "data": {
      "text/html": [
       "<div>\n",
       "<style scoped>\n",
       "    .dataframe tbody tr th:only-of-type {\n",
       "        vertical-align: middle;\n",
       "    }\n",
       "\n",
       "    .dataframe tbody tr th {\n",
       "        vertical-align: top;\n",
       "    }\n",
       "\n",
       "    .dataframe thead th {\n",
       "        text-align: right;\n",
       "    }\n",
       "</style>\n",
       "<table border=\"1\" class=\"dataframe\">\n",
       "  <thead>\n",
       "    <tr style=\"text-align: right;\">\n",
       "      <th></th>\n",
       "      <th>Number of Shared Aliases</th>\n",
       "    </tr>\n",
       "  </thead>\n",
       "  <tbody>\n",
       "    <tr>\n",
       "      <th>HGNC</th>\n",
       "      <td>1617</td>\n",
       "    </tr>\n",
       "    <tr>\n",
       "      <th>ENSG</th>\n",
       "      <td>1250</td>\n",
       "    </tr>\n",
       "    <tr>\n",
       "      <th>NCBI</th>\n",
       "      <td>3711</td>\n",
       "    </tr>\n",
       "  </tbody>\n",
       "</table>\n",
       "</div>"
      ],
      "text/plain": [
       "      Number of Shared Aliases\n",
       "HGNC                      1617\n",
       "ENSG                      1250\n",
       "NCBI                      3711"
      ]
     },
     "execution_count": 82,
     "metadata": {},
     "output_type": "execute_result"
    }
   ],
   "source": [
    "aa_collision_alias_symbol_summary_index = \"HGNC\", \"ENSG\", \"NCBI\"\n",
    "aa_collision_alias_symbol_summary = {\n",
    "    \"Number of Shared Aliases\": [\n",
    "        ensg_aa_collision_count,\n",
    "        hgnc_aa_collision_count,\n",
    "        ncbi_aa_collision_count,\n",
    "    ]\n",
    "}\n",
    "aa_collision_alias_symbol_summary_df = pd.DataFrame(\n",
    "    aa_collision_alias_symbol_summary, index = aa_collision_alias_symbol_summary_index\n",
    ")\n",
    "aa_collision_alias_symbol_summary_df"
   ]
  },
  {
   "cell_type": "markdown",
   "metadata": {},
   "source": [
    "## <a id='toc9_2_'></a>[All Sources](#toc0_)"
   ]
  },
  {
   "cell_type": "markdown",
   "metadata": {},
   "source": [
    "### <a id='toc9_2_1_'></a>[How many aliases are shared in all sources?](#toc0_)"
   ]
  },
  {
   "cell_type": "code",
   "execution_count": 83,
   "metadata": {},
   "outputs": [
    {
     "data": {
      "text/plain": [
       "1131"
      ]
     },
     "execution_count": 83,
     "metadata": {},
     "output_type": "execute_result"
    }
   ],
   "source": [
    "all_sources_aa_collision_aliases = (\n",
    "    ensg_aa_collision_set\n",
    "    & hgnc_aa_collision_set\n",
    "    & ncbi_aa_collision_set\n",
    ")\n",
    "len(all_sources_aa_collision_aliases)"
   ]
  },
  {
   "cell_type": "markdown",
   "metadata": {},
   "source": [
    "### <a id='toc9_2_2_'></a>[How many unique shared aliases are found between all sources?](#toc0_)"
   ]
  },
  {
   "cell_type": "code",
   "execution_count": 84,
   "metadata": {},
   "outputs": [
    {
     "data": {
      "text/plain": [
       "3824"
      ]
     },
     "execution_count": 84,
     "metadata": {},
     "output_type": "execute_result"
    }
   ],
   "source": [
    "bw_all_sources_aa_collision_aliases_set = set(bw_all_sources_aa_collision_df[\"collision\"])\n",
    "bw_all_sources_aa_collision_aliases_count = len(bw_all_sources_aa_collision_aliases_set)\n",
    "bw_all_sources_aa_collision_aliases_count"
   ]
  },
  {
   "cell_type": "markdown",
   "metadata": {},
   "source": [
    "# <a id='toc10_'></a>[How many gene concept-alias relationships are there?](#toc0_)"
   ]
  },
  {
   "cell_type": "markdown",
   "metadata": {},
   "source": [
    "## <a id='toc10_1_'></a>[Per Source](#toc0_)"
   ]
  },
  {
   "cell_type": "code",
   "execution_count": 85,
   "metadata": {},
   "outputs": [],
   "source": [
    "ensg_primary_alias_pair_count = len(subset_genes_ensg_df)"
   ]
  },
  {
   "cell_type": "code",
   "execution_count": 86,
   "metadata": {},
   "outputs": [],
   "source": [
    "hgnc_primary_alias_pair_count = len(subset_genes_hgnc_df)"
   ]
  },
  {
   "cell_type": "code",
   "execution_count": 87,
   "metadata": {},
   "outputs": [],
   "source": [
    "ncbi_primary_alias_pair_count = len(subset_genes_ncbi_df)"
   ]
  },
  {
   "cell_type": "code",
   "execution_count": 88,
   "metadata": {},
   "outputs": [
    {
     "data": {
      "text/html": [
       "<div>\n",
       "<style scoped>\n",
       "    .dataframe tbody tr th:only-of-type {\n",
       "        vertical-align: middle;\n",
       "    }\n",
       "\n",
       "    .dataframe tbody tr th {\n",
       "        vertical-align: top;\n",
       "    }\n",
       "\n",
       "    .dataframe thead th {\n",
       "        text-align: right;\n",
       "    }\n",
       "</style>\n",
       "<table border=\"1\" class=\"dataframe\">\n",
       "  <thead>\n",
       "    <tr style=\"text-align: right;\">\n",
       "      <th></th>\n",
       "      <th>Number of Unique Gene Concept-Alias Pairs</th>\n",
       "    </tr>\n",
       "  </thead>\n",
       "  <tbody>\n",
       "    <tr>\n",
       "      <th>HGNC</th>\n",
       "      <td>57275</td>\n",
       "    </tr>\n",
       "    <tr>\n",
       "      <th>ENSG</th>\n",
       "      <td>44542</td>\n",
       "    </tr>\n",
       "    <tr>\n",
       "      <th>NCBI</th>\n",
       "      <td>74051</td>\n",
       "    </tr>\n",
       "  </tbody>\n",
       "</table>\n",
       "</div>"
      ],
      "text/plain": [
       "      Number of Unique Gene Concept-Alias Pairs\n",
       "HGNC                                      57275\n",
       "ENSG                                      44542\n",
       "NCBI                                      74051"
      ]
     },
     "execution_count": 88,
     "metadata": {},
     "output_type": "execute_result"
    }
   ],
   "source": [
    "primary_alias_pairs_summary_index = \"HGNC\", \"ENSG\", \"NCBI\"\n",
    "primary_alias_pairs_summary = {\n",
    "    \"Number of Unique Gene Concept-Alias Pairs\": [\n",
    "        ensg_primary_alias_pair_count,\n",
    "        hgnc_primary_alias_pair_count,\n",
    "        ncbi_primary_alias_pair_count,\n",
    "    ]\n",
    "}\n",
    "primary_alias_pairs_summary_df = pd.DataFrame(\n",
    "    primary_alias_pairs_summary, index=primary_alias_pairs_summary_index\n",
    ")\n",
    "primary_alias_pairs_summary_df"
   ]
  },
  {
   "cell_type": "markdown",
   "metadata": {},
   "source": [
    "## <a id='toc10_2_'></a>[All Sources](#toc0_)"
   ]
  },
  {
   "cell_type": "markdown",
   "metadata": {},
   "source": [
    "### <a id='toc10_2_1_'></a>[How many unique gene-alias pairs are found between all sources?](#toc0_)"
   ]
  },
  {
   "cell_type": "code",
   "execution_count": 89,
   "metadata": {},
   "outputs": [],
   "source": [
    "bw_all_sources_primary_alias_pairs_df = pd.concat(\n",
    "    [\n",
    "        subset_genes_ensg_df[[\"alias_symbol\", \"gene_symbol\"]],\n",
    "        subset_genes_hgnc_df[[\"alias_symbol\", \"gene_symbol\"]],\n",
    "        subset_genes_ncbi_df[[\"alias_symbol\", \"gene_symbol\"]],\n",
    "    ]\n",
    ")"
   ]
  },
  {
   "cell_type": "code",
   "execution_count": 90,
   "metadata": {},
   "outputs": [
    {
     "data": {
      "text/plain": [
       "175868"
      ]
     },
     "execution_count": 90,
     "metadata": {},
     "output_type": "execute_result"
    }
   ],
   "source": [
    "len(bw_all_sources_primary_alias_pairs_df)"
   ]
  },
  {
   "cell_type": "markdown",
   "metadata": {},
   "source": [
    "#### <a id='toc10_2_1_1_'></a>[Remove duplicate concept-alias pairs](#toc0_)"
   ]
  },
  {
   "cell_type": "code",
   "execution_count": 91,
   "metadata": {},
   "outputs": [],
   "source": [
    "bw_all_sources_primary_alias_pairs_df = bw_all_sources_primary_alias_pairs_df.drop_duplicates(\n",
    "    subset=[\"gene_symbol\", \"alias_symbol\"], keep=\"first\"\n",
    ")"
   ]
  },
  {
   "cell_type": "code",
   "execution_count": 92,
   "metadata": {},
   "outputs": [
    {
     "data": {
      "text/plain": [
       "86774"
      ]
     },
     "execution_count": 92,
     "metadata": {},
     "output_type": "execute_result"
    }
   ],
   "source": [
    "len(bw_all_sources_primary_alias_pairs_df)"
   ]
  }
 ],
 "metadata": {
  "kernelspec": {
   "display_name": "Python 3.10.9 ('gene-normalization-kln2mzEG')",
   "language": "python",
   "name": "python3"
  },
  "language_info": {
   "codemirror_mode": {
    "name": "ipython",
    "version": 3
   },
   "file_extension": ".py",
   "mimetype": "text/x-python",
   "name": "python",
   "nbconvert_exporter": "python",
   "pygments_lexer": "ipython3",
   "version": "3.11.7"
  },
  "orig_nbformat": 4,
  "vscode": {
   "interpreter": {
    "hash": "63db6d8944633f0f1ac66f1e84c479e7ccc3c7c835ee283fbd6bddfaad96182b"
   }
  }
 },
 "nbformat": 4,
 "nbformat_minor": 2
}
